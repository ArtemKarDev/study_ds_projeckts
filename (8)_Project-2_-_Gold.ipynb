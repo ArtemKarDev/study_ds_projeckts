{
 "cells": [
  {
   "cell_type": "markdown",
   "metadata": {
    "toc": true
   },
   "source": [
    "<h1>Содержание<span class=\"tocSkip\"></span></h1>\n",
    "<div class=\"toc\"><ul class=\"toc-item\"><li><span><a href=\"#Подготовка-данных\" data-toc-modified-id=\"Подготовка-данных-1\"><span class=\"toc-item-num\">1&nbsp;&nbsp;</span>Подготовка данных</a></span><ul class=\"toc-item\"><li><span><a href=\"#Данные-просто-нужно-загрузить,-применить-shape/info/head.\" data-toc-modified-id=\"Данные-просто-нужно-загрузить,-применить-shape/info/head.-1.1\"><span class=\"toc-item-num\">1.1&nbsp;&nbsp;</span>Данные просто нужно загрузить, применить shape/info/head.</a></span></li><li><span><a href=\"#Проверим,-что-эффективность-обогащения-рассчитана-правильно.\" data-toc-modified-id=\"Проверим,-что-эффективность-обогащения-рассчитана-правильно.-1.2\"><span class=\"toc-item-num\">1.2&nbsp;&nbsp;</span>Проверим, что эффективность обогащения рассчитана правильно.</a></span></li><li><span><a href=\"#Признаки,-недоступные-в-тестовой-выборке.\" data-toc-modified-id=\"Признаки,-недоступные-в-тестовой-выборке.-1.3\"><span class=\"toc-item-num\">1.3&nbsp;&nbsp;</span>Признаки, недоступные в тестовой выборке.</a></span></li><li><span><a href=\"#Предобработка-данных\" data-toc-modified-id=\"Предобработка-данных-1.4\"><span class=\"toc-item-num\">1.4&nbsp;&nbsp;</span>Предобработка данных</a></span><ul class=\"toc-item\"><li><span><a href=\"#преобразую-столбец-в-формат-datetime\" data-toc-modified-id=\"преобразую-столбец-в-формат-datetime-1.4.1\"><span class=\"toc-item-num\">1.4.1&nbsp;&nbsp;</span>преобразую столбец в формат datetime</a></span></li><li><span><a href=\"#Заполним-пропуски\" data-toc-modified-id=\"Заполним-пропуски-1.4.2\"><span class=\"toc-item-num\">1.4.2&nbsp;&nbsp;</span>Заполним пропуски</a></span></li></ul></li></ul></li><li><span><a href=\"#Анализ-данных\" data-toc-modified-id=\"Анализ-данных-2\"><span class=\"toc-item-num\">2&nbsp;&nbsp;</span>Анализ данных</a></span><ul class=\"toc-item\"><li><span><a href=\"#Изменение-концентрации-металлов-(Au,-Ag,-Pb)-на-различных-этапах-очистки.\" data-toc-modified-id=\"Изменение-концентрации-металлов-(Au,-Ag,-Pb)-на-различных-этапах-очистки.-2.1\"><span class=\"toc-item-num\">2.1&nbsp;&nbsp;</span>Изменение концентрации металлов (Au, Ag, Pb) на различных этапах очистки.</a></span></li><li><span><a href=\"#Размеры-гранул-сырья-в-выборках.\" data-toc-modified-id=\"Размеры-гранул-сырья-в-выборках.-2.2\"><span class=\"toc-item-num\">2.2&nbsp;&nbsp;</span>Размеры гранул сырья в выборках.</a></span></li><li><span><a href=\"#Суммарная-концентрация-всех-веществ-на-разных-стадиях:-в-сырье,-в-черновом-и-финальном-концентратах.\" data-toc-modified-id=\"Суммарная-концентрация-всех-веществ-на-разных-стадиях:-в-сырье,-в-черновом-и-финальном-концентратах.-2.3\"><span class=\"toc-item-num\">2.3&nbsp;&nbsp;</span>Суммарная концентрация всех веществ на разных стадиях: в сырье, в черновом и финальном концентратах.</a></span></li></ul></li><li><span><a href=\"#Модель\" data-toc-modified-id=\"Модель-3\"><span class=\"toc-item-num\">3&nbsp;&nbsp;</span>Модель</a></span><ul class=\"toc-item\"><li><span><a href=\"#функция-для-вычисления-итоговой-sMAPE.\" data-toc-modified-id=\"функция-для-вычисления-итоговой-sMAPE.-3.1\"><span class=\"toc-item-num\">3.1&nbsp;&nbsp;</span>функция для вычисления итоговой sMAPE.</a></span></li><li><span><a href=\"#Модели-и-их-качество-на-кросс-валидации.\" data-toc-modified-id=\"Модели-и-их-качество-на-кросс-валидации.-3.2\"><span class=\"toc-item-num\">3.2&nbsp;&nbsp;</span>Модели и их качество на кросс-валидации.</a></span></li></ul></li><li><span><a href=\"#Чек-лист-готовности-проекта\" data-toc-modified-id=\"Чек-лист-готовности-проекта-4\">"
   ]
  },
  {
   "cell_type": "markdown",
   "metadata": {},
   "source": [
    "# Восстановление золота из руды"
   ]
  },
  {
   "cell_type": "markdown",
   "metadata": {},
   "source": [
    "Подготовьте прототип модели машинного обучения для «Цифры». Компания разрабатывает решения для эффективной работы промышленных предприятий.\n",
    "\n",
    "Модель должна предсказать коэффициент восстановления золота из золотосодержащей руды. Используйте данные с параметрами добычи и очистки. \n",
    "\n",
    "Модель поможет оптимизировать производство, чтобы не запускать предприятие с убыточными характеристиками.\n",
    "\n",
    "Вам нужно:\n",
    "\n",
    "1. Подготовить данные;\n",
    "2. Провести исследовательский анализ данных;\n",
    "3. Построить и обучить модель.\n",
    "\n",
    "Чтобы выполнить проект, обращайтесь к библиотекам *pandas*, *matplotlib* и *sklearn.* Вам поможет их документация."
   ]
  },
  {
   "cell_type": "markdown",
   "metadata": {},
   "source": [
    "## Подготовка данных"
   ]
  },
  {
   "cell_type": "code",
   "execution_count": 174,
   "metadata": {},
   "outputs": [],
   "source": [
    "import pandas as pd\n",
    "import numpy as np\n",
    "import seaborn as sns\n",
    "import matplotlib.pyplot as plt\n",
    "import pylab\n",
    "\n",
    "from scipy import stats as st\n",
    "\n",
    "from sklearn.linear_model import LinearRegression\n",
    "from sklearn.ensemble import RandomForestRegressor\n",
    "\n",
    "from sklearn.model_selection import GridSearchCV\n",
    "from sklearn.model_selection import KFold\n",
    "from sklearn.model_selection import cross_val_score\n",
    "\n",
    "from sklearn.metrics import mean_absolute_error \n",
    "from sklearn.metrics import make_scorer"
   ]
  },
  {
   "cell_type": "markdown",
   "metadata": {},
   "source": [
    "### Данные просто нужно загрузить, применить shape/info/head."
   ]
  },
  {
   "cell_type": "code",
   "execution_count": 175,
   "metadata": {},
   "outputs": [],
   "source": [
    "data_full = pd.read_csv('/datasets/gold_recovery_full_new.csv'); data_full.name='data_full'\n",
    "data_train = pd.read_csv('/datasets/gold_recovery_train_new.csv'); data_full.name='data_train'\n",
    "data_test = pd.read_csv('/datasets/gold_recovery_test_new.csv'); data_full.name='data_test'\n",
    "\n",
    "data_list = [data_full, data_train, data_test]"
   ]
  },
  {
   "cell_type": "code",
   "execution_count": 176,
   "metadata": {},
   "outputs": [
    {
     "name": "stdout",
     "output_type": "stream",
     "text": [
      "==================================\n"
     ]
    },
    {
     "data": {
      "text/plain": [
       "(19439, 87)"
      ]
     },
     "metadata": {},
     "output_type": "display_data"
    },
    {
     "data": {
      "text/html": [
       "<div>\n",
       "<style scoped>\n",
       "    .dataframe tbody tr th:only-of-type {\n",
       "        vertical-align: middle;\n",
       "    }\n",
       "\n",
       "    .dataframe tbody tr th {\n",
       "        vertical-align: top;\n",
       "    }\n",
       "\n",
       "    .dataframe thead th {\n",
       "        text-align: right;\n",
       "    }\n",
       "</style>\n",
       "<table border=\"1\" class=\"dataframe\">\n",
       "  <thead>\n",
       "    <tr style=\"text-align: right;\">\n",
       "      <th></th>\n",
       "      <th>date</th>\n",
       "      <th>final.output.concentrate_ag</th>\n",
       "      <th>final.output.concentrate_pb</th>\n",
       "      <th>final.output.concentrate_sol</th>\n",
       "      <th>final.output.concentrate_au</th>\n",
       "      <th>final.output.recovery</th>\n",
       "      <th>final.output.tail_ag</th>\n",
       "      <th>final.output.tail_pb</th>\n",
       "      <th>final.output.tail_sol</th>\n",
       "      <th>final.output.tail_au</th>\n",
       "      <th>...</th>\n",
       "      <th>secondary_cleaner.state.floatbank4_a_air</th>\n",
       "      <th>secondary_cleaner.state.floatbank4_a_level</th>\n",
       "      <th>secondary_cleaner.state.floatbank4_b_air</th>\n",
       "      <th>secondary_cleaner.state.floatbank4_b_level</th>\n",
       "      <th>secondary_cleaner.state.floatbank5_a_air</th>\n",
       "      <th>secondary_cleaner.state.floatbank5_a_level</th>\n",
       "      <th>secondary_cleaner.state.floatbank5_b_air</th>\n",
       "      <th>secondary_cleaner.state.floatbank5_b_level</th>\n",
       "      <th>secondary_cleaner.state.floatbank6_a_air</th>\n",
       "      <th>secondary_cleaner.state.floatbank6_a_level</th>\n",
       "    </tr>\n",
       "  </thead>\n",
       "  <tbody>\n",
       "    <tr>\n",
       "      <th>0</th>\n",
       "      <td>2016-01-15 00:00:00</td>\n",
       "      <td>6.055403</td>\n",
       "      <td>9.889648</td>\n",
       "      <td>5.507324</td>\n",
       "      <td>42.192020</td>\n",
       "      <td>70.541216</td>\n",
       "      <td>10.411962</td>\n",
       "      <td>0.895447</td>\n",
       "      <td>16.904297</td>\n",
       "      <td>2.143149</td>\n",
       "      <td>...</td>\n",
       "      <td>14.016835</td>\n",
       "      <td>-502.488007</td>\n",
       "      <td>12.099931</td>\n",
       "      <td>-504.715942</td>\n",
       "      <td>9.925633</td>\n",
       "      <td>-498.310211</td>\n",
       "      <td>8.079666</td>\n",
       "      <td>-500.470978</td>\n",
       "      <td>14.151341</td>\n",
       "      <td>-605.841980</td>\n",
       "    </tr>\n",
       "    <tr>\n",
       "      <th>1</th>\n",
       "      <td>2016-01-15 01:00:00</td>\n",
       "      <td>6.029369</td>\n",
       "      <td>9.968944</td>\n",
       "      <td>5.257781</td>\n",
       "      <td>42.701629</td>\n",
       "      <td>69.266198</td>\n",
       "      <td>10.462676</td>\n",
       "      <td>0.927452</td>\n",
       "      <td>16.634514</td>\n",
       "      <td>2.224930</td>\n",
       "      <td>...</td>\n",
       "      <td>13.992281</td>\n",
       "      <td>-505.503262</td>\n",
       "      <td>11.950531</td>\n",
       "      <td>-501.331529</td>\n",
       "      <td>10.039245</td>\n",
       "      <td>-500.169983</td>\n",
       "      <td>7.984757</td>\n",
       "      <td>-500.582168</td>\n",
       "      <td>13.998353</td>\n",
       "      <td>-599.787184</td>\n",
       "    </tr>\n",
       "    <tr>\n",
       "      <th>2</th>\n",
       "      <td>2016-01-15 02:00:00</td>\n",
       "      <td>6.055926</td>\n",
       "      <td>10.213995</td>\n",
       "      <td>5.383759</td>\n",
       "      <td>42.657501</td>\n",
       "      <td>68.116445</td>\n",
       "      <td>10.507046</td>\n",
       "      <td>0.953716</td>\n",
       "      <td>16.208849</td>\n",
       "      <td>2.257889</td>\n",
       "      <td>...</td>\n",
       "      <td>14.015015</td>\n",
       "      <td>-502.520901</td>\n",
       "      <td>11.912783</td>\n",
       "      <td>-501.133383</td>\n",
       "      <td>10.070913</td>\n",
       "      <td>-500.129135</td>\n",
       "      <td>8.013877</td>\n",
       "      <td>-500.517572</td>\n",
       "      <td>14.028663</td>\n",
       "      <td>-601.427363</td>\n",
       "    </tr>\n",
       "    <tr>\n",
       "      <th>3</th>\n",
       "      <td>2016-01-15 03:00:00</td>\n",
       "      <td>6.047977</td>\n",
       "      <td>9.977019</td>\n",
       "      <td>4.858634</td>\n",
       "      <td>42.689819</td>\n",
       "      <td>68.347543</td>\n",
       "      <td>10.422762</td>\n",
       "      <td>0.883763</td>\n",
       "      <td>16.532835</td>\n",
       "      <td>2.146849</td>\n",
       "      <td>...</td>\n",
       "      <td>14.036510</td>\n",
       "      <td>-500.857308</td>\n",
       "      <td>11.999550</td>\n",
       "      <td>-501.193686</td>\n",
       "      <td>9.970366</td>\n",
       "      <td>-499.201640</td>\n",
       "      <td>7.977324</td>\n",
       "      <td>-500.255908</td>\n",
       "      <td>14.005551</td>\n",
       "      <td>-599.996129</td>\n",
       "    </tr>\n",
       "    <tr>\n",
       "      <th>4</th>\n",
       "      <td>2016-01-15 04:00:00</td>\n",
       "      <td>6.148599</td>\n",
       "      <td>10.142511</td>\n",
       "      <td>4.939416</td>\n",
       "      <td>42.774141</td>\n",
       "      <td>66.927016</td>\n",
       "      <td>10.360302</td>\n",
       "      <td>0.792826</td>\n",
       "      <td>16.525686</td>\n",
       "      <td>2.055292</td>\n",
       "      <td>...</td>\n",
       "      <td>14.027298</td>\n",
       "      <td>-499.838632</td>\n",
       "      <td>11.953070</td>\n",
       "      <td>-501.053894</td>\n",
       "      <td>9.925709</td>\n",
       "      <td>-501.686727</td>\n",
       "      <td>7.894242</td>\n",
       "      <td>-500.356035</td>\n",
       "      <td>13.996647</td>\n",
       "      <td>-601.496691</td>\n",
       "    </tr>\n",
       "  </tbody>\n",
       "</table>\n",
       "<p>5 rows × 87 columns</p>\n",
       "</div>"
      ],
      "text/plain": [
       "                  date  final.output.concentrate_ag  \\\n",
       "0  2016-01-15 00:00:00                     6.055403   \n",
       "1  2016-01-15 01:00:00                     6.029369   \n",
       "2  2016-01-15 02:00:00                     6.055926   \n",
       "3  2016-01-15 03:00:00                     6.047977   \n",
       "4  2016-01-15 04:00:00                     6.148599   \n",
       "\n",
       "   final.output.concentrate_pb  final.output.concentrate_sol  \\\n",
       "0                     9.889648                      5.507324   \n",
       "1                     9.968944                      5.257781   \n",
       "2                    10.213995                      5.383759   \n",
       "3                     9.977019                      4.858634   \n",
       "4                    10.142511                      4.939416   \n",
       "\n",
       "   final.output.concentrate_au  final.output.recovery  final.output.tail_ag  \\\n",
       "0                    42.192020              70.541216             10.411962   \n",
       "1                    42.701629              69.266198             10.462676   \n",
       "2                    42.657501              68.116445             10.507046   \n",
       "3                    42.689819              68.347543             10.422762   \n",
       "4                    42.774141              66.927016             10.360302   \n",
       "\n",
       "   final.output.tail_pb  final.output.tail_sol  final.output.tail_au  ...  \\\n",
       "0              0.895447              16.904297              2.143149  ...   \n",
       "1              0.927452              16.634514              2.224930  ...   \n",
       "2              0.953716              16.208849              2.257889  ...   \n",
       "3              0.883763              16.532835              2.146849  ...   \n",
       "4              0.792826              16.525686              2.055292  ...   \n",
       "\n",
       "   secondary_cleaner.state.floatbank4_a_air  \\\n",
       "0                                 14.016835   \n",
       "1                                 13.992281   \n",
       "2                                 14.015015   \n",
       "3                                 14.036510   \n",
       "4                                 14.027298   \n",
       "\n",
       "   secondary_cleaner.state.floatbank4_a_level  \\\n",
       "0                                 -502.488007   \n",
       "1                                 -505.503262   \n",
       "2                                 -502.520901   \n",
       "3                                 -500.857308   \n",
       "4                                 -499.838632   \n",
       "\n",
       "   secondary_cleaner.state.floatbank4_b_air  \\\n",
       "0                                 12.099931   \n",
       "1                                 11.950531   \n",
       "2                                 11.912783   \n",
       "3                                 11.999550   \n",
       "4                                 11.953070   \n",
       "\n",
       "   secondary_cleaner.state.floatbank4_b_level  \\\n",
       "0                                 -504.715942   \n",
       "1                                 -501.331529   \n",
       "2                                 -501.133383   \n",
       "3                                 -501.193686   \n",
       "4                                 -501.053894   \n",
       "\n",
       "   secondary_cleaner.state.floatbank5_a_air  \\\n",
       "0                                  9.925633   \n",
       "1                                 10.039245   \n",
       "2                                 10.070913   \n",
       "3                                  9.970366   \n",
       "4                                  9.925709   \n",
       "\n",
       "   secondary_cleaner.state.floatbank5_a_level  \\\n",
       "0                                 -498.310211   \n",
       "1                                 -500.169983   \n",
       "2                                 -500.129135   \n",
       "3                                 -499.201640   \n",
       "4                                 -501.686727   \n",
       "\n",
       "   secondary_cleaner.state.floatbank5_b_air  \\\n",
       "0                                  8.079666   \n",
       "1                                  7.984757   \n",
       "2                                  8.013877   \n",
       "3                                  7.977324   \n",
       "4                                  7.894242   \n",
       "\n",
       "   secondary_cleaner.state.floatbank5_b_level  \\\n",
       "0                                 -500.470978   \n",
       "1                                 -500.582168   \n",
       "2                                 -500.517572   \n",
       "3                                 -500.255908   \n",
       "4                                 -500.356035   \n",
       "\n",
       "   secondary_cleaner.state.floatbank6_a_air  \\\n",
       "0                                 14.151341   \n",
       "1                                 13.998353   \n",
       "2                                 14.028663   \n",
       "3                                 14.005551   \n",
       "4                                 13.996647   \n",
       "\n",
       "   secondary_cleaner.state.floatbank6_a_level  \n",
       "0                                 -605.841980  \n",
       "1                                 -599.787184  \n",
       "2                                 -601.427363  \n",
       "3                                 -599.996129  \n",
       "4                                 -601.496691  \n",
       "\n",
       "[5 rows x 87 columns]"
      ]
     },
     "metadata": {},
     "output_type": "display_data"
    },
    {
     "name": "stdout",
     "output_type": "stream",
     "text": [
      "==================================\n"
     ]
    },
    {
     "data": {
      "text/plain": [
       "(14149, 87)"
      ]
     },
     "metadata": {},
     "output_type": "display_data"
    },
    {
     "data": {
      "text/html": [
       "<div>\n",
       "<style scoped>\n",
       "    .dataframe tbody tr th:only-of-type {\n",
       "        vertical-align: middle;\n",
       "    }\n",
       "\n",
       "    .dataframe tbody tr th {\n",
       "        vertical-align: top;\n",
       "    }\n",
       "\n",
       "    .dataframe thead th {\n",
       "        text-align: right;\n",
       "    }\n",
       "</style>\n",
       "<table border=\"1\" class=\"dataframe\">\n",
       "  <thead>\n",
       "    <tr style=\"text-align: right;\">\n",
       "      <th></th>\n",
       "      <th>date</th>\n",
       "      <th>final.output.concentrate_ag</th>\n",
       "      <th>final.output.concentrate_pb</th>\n",
       "      <th>final.output.concentrate_sol</th>\n",
       "      <th>final.output.concentrate_au</th>\n",
       "      <th>final.output.recovery</th>\n",
       "      <th>final.output.tail_ag</th>\n",
       "      <th>final.output.tail_pb</th>\n",
       "      <th>final.output.tail_sol</th>\n",
       "      <th>final.output.tail_au</th>\n",
       "      <th>...</th>\n",
       "      <th>secondary_cleaner.state.floatbank4_a_air</th>\n",
       "      <th>secondary_cleaner.state.floatbank4_a_level</th>\n",
       "      <th>secondary_cleaner.state.floatbank4_b_air</th>\n",
       "      <th>secondary_cleaner.state.floatbank4_b_level</th>\n",
       "      <th>secondary_cleaner.state.floatbank5_a_air</th>\n",
       "      <th>secondary_cleaner.state.floatbank5_a_level</th>\n",
       "      <th>secondary_cleaner.state.floatbank5_b_air</th>\n",
       "      <th>secondary_cleaner.state.floatbank5_b_level</th>\n",
       "      <th>secondary_cleaner.state.floatbank6_a_air</th>\n",
       "      <th>secondary_cleaner.state.floatbank6_a_level</th>\n",
       "    </tr>\n",
       "  </thead>\n",
       "  <tbody>\n",
       "    <tr>\n",
       "      <th>0</th>\n",
       "      <td>2016-01-15 00:00:00</td>\n",
       "      <td>6.055403</td>\n",
       "      <td>9.889648</td>\n",
       "      <td>5.507324</td>\n",
       "      <td>42.192020</td>\n",
       "      <td>70.541216</td>\n",
       "      <td>10.411962</td>\n",
       "      <td>0.895447</td>\n",
       "      <td>16.904297</td>\n",
       "      <td>2.143149</td>\n",
       "      <td>...</td>\n",
       "      <td>14.016835</td>\n",
       "      <td>-502.488007</td>\n",
       "      <td>12.099931</td>\n",
       "      <td>-504.715942</td>\n",
       "      <td>9.925633</td>\n",
       "      <td>-498.310211</td>\n",
       "      <td>8.079666</td>\n",
       "      <td>-500.470978</td>\n",
       "      <td>14.151341</td>\n",
       "      <td>-605.841980</td>\n",
       "    </tr>\n",
       "    <tr>\n",
       "      <th>1</th>\n",
       "      <td>2016-01-15 01:00:00</td>\n",
       "      <td>6.029369</td>\n",
       "      <td>9.968944</td>\n",
       "      <td>5.257781</td>\n",
       "      <td>42.701629</td>\n",
       "      <td>69.266198</td>\n",
       "      <td>10.462676</td>\n",
       "      <td>0.927452</td>\n",
       "      <td>16.634514</td>\n",
       "      <td>2.224930</td>\n",
       "      <td>...</td>\n",
       "      <td>13.992281</td>\n",
       "      <td>-505.503262</td>\n",
       "      <td>11.950531</td>\n",
       "      <td>-501.331529</td>\n",
       "      <td>10.039245</td>\n",
       "      <td>-500.169983</td>\n",
       "      <td>7.984757</td>\n",
       "      <td>-500.582168</td>\n",
       "      <td>13.998353</td>\n",
       "      <td>-599.787184</td>\n",
       "    </tr>\n",
       "    <tr>\n",
       "      <th>2</th>\n",
       "      <td>2016-01-15 02:00:00</td>\n",
       "      <td>6.055926</td>\n",
       "      <td>10.213995</td>\n",
       "      <td>5.383759</td>\n",
       "      <td>42.657501</td>\n",
       "      <td>68.116445</td>\n",
       "      <td>10.507046</td>\n",
       "      <td>0.953716</td>\n",
       "      <td>16.208849</td>\n",
       "      <td>2.257889</td>\n",
       "      <td>...</td>\n",
       "      <td>14.015015</td>\n",
       "      <td>-502.520901</td>\n",
       "      <td>11.912783</td>\n",
       "      <td>-501.133383</td>\n",
       "      <td>10.070913</td>\n",
       "      <td>-500.129135</td>\n",
       "      <td>8.013877</td>\n",
       "      <td>-500.517572</td>\n",
       "      <td>14.028663</td>\n",
       "      <td>-601.427363</td>\n",
       "    </tr>\n",
       "    <tr>\n",
       "      <th>3</th>\n",
       "      <td>2016-01-15 03:00:00</td>\n",
       "      <td>6.047977</td>\n",
       "      <td>9.977019</td>\n",
       "      <td>4.858634</td>\n",
       "      <td>42.689819</td>\n",
       "      <td>68.347543</td>\n",
       "      <td>10.422762</td>\n",
       "      <td>0.883763</td>\n",
       "      <td>16.532835</td>\n",
       "      <td>2.146849</td>\n",
       "      <td>...</td>\n",
       "      <td>14.036510</td>\n",
       "      <td>-500.857308</td>\n",
       "      <td>11.999550</td>\n",
       "      <td>-501.193686</td>\n",
       "      <td>9.970366</td>\n",
       "      <td>-499.201640</td>\n",
       "      <td>7.977324</td>\n",
       "      <td>-500.255908</td>\n",
       "      <td>14.005551</td>\n",
       "      <td>-599.996129</td>\n",
       "    </tr>\n",
       "    <tr>\n",
       "      <th>4</th>\n",
       "      <td>2016-01-15 04:00:00</td>\n",
       "      <td>6.148599</td>\n",
       "      <td>10.142511</td>\n",
       "      <td>4.939416</td>\n",
       "      <td>42.774141</td>\n",
       "      <td>66.927016</td>\n",
       "      <td>10.360302</td>\n",
       "      <td>0.792826</td>\n",
       "      <td>16.525686</td>\n",
       "      <td>2.055292</td>\n",
       "      <td>...</td>\n",
       "      <td>14.027298</td>\n",
       "      <td>-499.838632</td>\n",
       "      <td>11.953070</td>\n",
       "      <td>-501.053894</td>\n",
       "      <td>9.925709</td>\n",
       "      <td>-501.686727</td>\n",
       "      <td>7.894242</td>\n",
       "      <td>-500.356035</td>\n",
       "      <td>13.996647</td>\n",
       "      <td>-601.496691</td>\n",
       "    </tr>\n",
       "  </tbody>\n",
       "</table>\n",
       "<p>5 rows × 87 columns</p>\n",
       "</div>"
      ],
      "text/plain": [
       "                  date  final.output.concentrate_ag  \\\n",
       "0  2016-01-15 00:00:00                     6.055403   \n",
       "1  2016-01-15 01:00:00                     6.029369   \n",
       "2  2016-01-15 02:00:00                     6.055926   \n",
       "3  2016-01-15 03:00:00                     6.047977   \n",
       "4  2016-01-15 04:00:00                     6.148599   \n",
       "\n",
       "   final.output.concentrate_pb  final.output.concentrate_sol  \\\n",
       "0                     9.889648                      5.507324   \n",
       "1                     9.968944                      5.257781   \n",
       "2                    10.213995                      5.383759   \n",
       "3                     9.977019                      4.858634   \n",
       "4                    10.142511                      4.939416   \n",
       "\n",
       "   final.output.concentrate_au  final.output.recovery  final.output.tail_ag  \\\n",
       "0                    42.192020              70.541216             10.411962   \n",
       "1                    42.701629              69.266198             10.462676   \n",
       "2                    42.657501              68.116445             10.507046   \n",
       "3                    42.689819              68.347543             10.422762   \n",
       "4                    42.774141              66.927016             10.360302   \n",
       "\n",
       "   final.output.tail_pb  final.output.tail_sol  final.output.tail_au  ...  \\\n",
       "0              0.895447              16.904297              2.143149  ...   \n",
       "1              0.927452              16.634514              2.224930  ...   \n",
       "2              0.953716              16.208849              2.257889  ...   \n",
       "3              0.883763              16.532835              2.146849  ...   \n",
       "4              0.792826              16.525686              2.055292  ...   \n",
       "\n",
       "   secondary_cleaner.state.floatbank4_a_air  \\\n",
       "0                                 14.016835   \n",
       "1                                 13.992281   \n",
       "2                                 14.015015   \n",
       "3                                 14.036510   \n",
       "4                                 14.027298   \n",
       "\n",
       "   secondary_cleaner.state.floatbank4_a_level  \\\n",
       "0                                 -502.488007   \n",
       "1                                 -505.503262   \n",
       "2                                 -502.520901   \n",
       "3                                 -500.857308   \n",
       "4                                 -499.838632   \n",
       "\n",
       "   secondary_cleaner.state.floatbank4_b_air  \\\n",
       "0                                 12.099931   \n",
       "1                                 11.950531   \n",
       "2                                 11.912783   \n",
       "3                                 11.999550   \n",
       "4                                 11.953070   \n",
       "\n",
       "   secondary_cleaner.state.floatbank4_b_level  \\\n",
       "0                                 -504.715942   \n",
       "1                                 -501.331529   \n",
       "2                                 -501.133383   \n",
       "3                                 -501.193686   \n",
       "4                                 -501.053894   \n",
       "\n",
       "   secondary_cleaner.state.floatbank5_a_air  \\\n",
       "0                                  9.925633   \n",
       "1                                 10.039245   \n",
       "2                                 10.070913   \n",
       "3                                  9.970366   \n",
       "4                                  9.925709   \n",
       "\n",
       "   secondary_cleaner.state.floatbank5_a_level  \\\n",
       "0                                 -498.310211   \n",
       "1                                 -500.169983   \n",
       "2                                 -500.129135   \n",
       "3                                 -499.201640   \n",
       "4                                 -501.686727   \n",
       "\n",
       "   secondary_cleaner.state.floatbank5_b_air  \\\n",
       "0                                  8.079666   \n",
       "1                                  7.984757   \n",
       "2                                  8.013877   \n",
       "3                                  7.977324   \n",
       "4                                  7.894242   \n",
       "\n",
       "   secondary_cleaner.state.floatbank5_b_level  \\\n",
       "0                                 -500.470978   \n",
       "1                                 -500.582168   \n",
       "2                                 -500.517572   \n",
       "3                                 -500.255908   \n",
       "4                                 -500.356035   \n",
       "\n",
       "   secondary_cleaner.state.floatbank6_a_air  \\\n",
       "0                                 14.151341   \n",
       "1                                 13.998353   \n",
       "2                                 14.028663   \n",
       "3                                 14.005551   \n",
       "4                                 13.996647   \n",
       "\n",
       "   secondary_cleaner.state.floatbank6_a_level  \n",
       "0                                 -605.841980  \n",
       "1                                 -599.787184  \n",
       "2                                 -601.427363  \n",
       "3                                 -599.996129  \n",
       "4                                 -601.496691  \n",
       "\n",
       "[5 rows x 87 columns]"
      ]
     },
     "metadata": {},
     "output_type": "display_data"
    },
    {
     "name": "stdout",
     "output_type": "stream",
     "text": [
      "==================================\n"
     ]
    },
    {
     "data": {
      "text/plain": [
       "(5290, 53)"
      ]
     },
     "metadata": {},
     "output_type": "display_data"
    },
    {
     "data": {
      "text/html": [
       "<div>\n",
       "<style scoped>\n",
       "    .dataframe tbody tr th:only-of-type {\n",
       "        vertical-align: middle;\n",
       "    }\n",
       "\n",
       "    .dataframe tbody tr th {\n",
       "        vertical-align: top;\n",
       "    }\n",
       "\n",
       "    .dataframe thead th {\n",
       "        text-align: right;\n",
       "    }\n",
       "</style>\n",
       "<table border=\"1\" class=\"dataframe\">\n",
       "  <thead>\n",
       "    <tr style=\"text-align: right;\">\n",
       "      <th></th>\n",
       "      <th>date</th>\n",
       "      <th>primary_cleaner.input.sulfate</th>\n",
       "      <th>primary_cleaner.input.depressant</th>\n",
       "      <th>primary_cleaner.input.feed_size</th>\n",
       "      <th>primary_cleaner.input.xanthate</th>\n",
       "      <th>primary_cleaner.state.floatbank8_a_air</th>\n",
       "      <th>primary_cleaner.state.floatbank8_a_level</th>\n",
       "      <th>primary_cleaner.state.floatbank8_b_air</th>\n",
       "      <th>primary_cleaner.state.floatbank8_b_level</th>\n",
       "      <th>primary_cleaner.state.floatbank8_c_air</th>\n",
       "      <th>...</th>\n",
       "      <th>secondary_cleaner.state.floatbank4_a_air</th>\n",
       "      <th>secondary_cleaner.state.floatbank4_a_level</th>\n",
       "      <th>secondary_cleaner.state.floatbank4_b_air</th>\n",
       "      <th>secondary_cleaner.state.floatbank4_b_level</th>\n",
       "      <th>secondary_cleaner.state.floatbank5_a_air</th>\n",
       "      <th>secondary_cleaner.state.floatbank5_a_level</th>\n",
       "      <th>secondary_cleaner.state.floatbank5_b_air</th>\n",
       "      <th>secondary_cleaner.state.floatbank5_b_level</th>\n",
       "      <th>secondary_cleaner.state.floatbank6_a_air</th>\n",
       "      <th>secondary_cleaner.state.floatbank6_a_level</th>\n",
       "    </tr>\n",
       "  </thead>\n",
       "  <tbody>\n",
       "    <tr>\n",
       "      <th>0</th>\n",
       "      <td>2016-09-01 00:59:59</td>\n",
       "      <td>210.800909</td>\n",
       "      <td>14.993118</td>\n",
       "      <td>8.080000</td>\n",
       "      <td>1.005021</td>\n",
       "      <td>1398.981301</td>\n",
       "      <td>-500.225577</td>\n",
       "      <td>1399.144926</td>\n",
       "      <td>-499.919735</td>\n",
       "      <td>1400.102998</td>\n",
       "      <td>...</td>\n",
       "      <td>12.023554</td>\n",
       "      <td>-497.795834</td>\n",
       "      <td>8.016656</td>\n",
       "      <td>-501.289139</td>\n",
       "      <td>7.946562</td>\n",
       "      <td>-432.317850</td>\n",
       "      <td>4.872511</td>\n",
       "      <td>-500.037437</td>\n",
       "      <td>26.705889</td>\n",
       "      <td>-499.709414</td>\n",
       "    </tr>\n",
       "    <tr>\n",
       "      <th>1</th>\n",
       "      <td>2016-09-01 01:59:59</td>\n",
       "      <td>215.392455</td>\n",
       "      <td>14.987471</td>\n",
       "      <td>8.080000</td>\n",
       "      <td>0.990469</td>\n",
       "      <td>1398.777912</td>\n",
       "      <td>-500.057435</td>\n",
       "      <td>1398.055362</td>\n",
       "      <td>-499.778182</td>\n",
       "      <td>1396.151033</td>\n",
       "      <td>...</td>\n",
       "      <td>12.058140</td>\n",
       "      <td>-498.695773</td>\n",
       "      <td>8.130979</td>\n",
       "      <td>-499.634209</td>\n",
       "      <td>7.958270</td>\n",
       "      <td>-525.839648</td>\n",
       "      <td>4.878850</td>\n",
       "      <td>-500.162375</td>\n",
       "      <td>25.019940</td>\n",
       "      <td>-499.819438</td>\n",
       "    </tr>\n",
       "    <tr>\n",
       "      <th>2</th>\n",
       "      <td>2016-09-01 02:59:59</td>\n",
       "      <td>215.259946</td>\n",
       "      <td>12.884934</td>\n",
       "      <td>7.786667</td>\n",
       "      <td>0.996043</td>\n",
       "      <td>1398.493666</td>\n",
       "      <td>-500.868360</td>\n",
       "      <td>1398.860436</td>\n",
       "      <td>-499.764529</td>\n",
       "      <td>1398.075709</td>\n",
       "      <td>...</td>\n",
       "      <td>11.962366</td>\n",
       "      <td>-498.767484</td>\n",
       "      <td>8.096893</td>\n",
       "      <td>-500.827423</td>\n",
       "      <td>8.071056</td>\n",
       "      <td>-500.801673</td>\n",
       "      <td>4.905125</td>\n",
       "      <td>-499.828510</td>\n",
       "      <td>24.994862</td>\n",
       "      <td>-500.622559</td>\n",
       "    </tr>\n",
       "    <tr>\n",
       "      <th>3</th>\n",
       "      <td>2016-09-01 03:59:59</td>\n",
       "      <td>215.336236</td>\n",
       "      <td>12.006805</td>\n",
       "      <td>7.640000</td>\n",
       "      <td>0.863514</td>\n",
       "      <td>1399.618111</td>\n",
       "      <td>-498.863574</td>\n",
       "      <td>1397.440120</td>\n",
       "      <td>-499.211024</td>\n",
       "      <td>1400.129303</td>\n",
       "      <td>...</td>\n",
       "      <td>12.033091</td>\n",
       "      <td>-498.350935</td>\n",
       "      <td>8.074946</td>\n",
       "      <td>-499.474407</td>\n",
       "      <td>7.897085</td>\n",
       "      <td>-500.868509</td>\n",
       "      <td>4.931400</td>\n",
       "      <td>-499.963623</td>\n",
       "      <td>24.948919</td>\n",
       "      <td>-498.709987</td>\n",
       "    </tr>\n",
       "    <tr>\n",
       "      <th>4</th>\n",
       "      <td>2016-09-01 04:59:59</td>\n",
       "      <td>199.099327</td>\n",
       "      <td>10.682530</td>\n",
       "      <td>7.530000</td>\n",
       "      <td>0.805575</td>\n",
       "      <td>1401.268123</td>\n",
       "      <td>-500.808305</td>\n",
       "      <td>1398.128818</td>\n",
       "      <td>-499.504543</td>\n",
       "      <td>1402.172226</td>\n",
       "      <td>...</td>\n",
       "      <td>12.025367</td>\n",
       "      <td>-500.786497</td>\n",
       "      <td>8.054678</td>\n",
       "      <td>-500.397500</td>\n",
       "      <td>8.107890</td>\n",
       "      <td>-509.526725</td>\n",
       "      <td>4.957674</td>\n",
       "      <td>-500.360026</td>\n",
       "      <td>25.003331</td>\n",
       "      <td>-500.856333</td>\n",
       "    </tr>\n",
       "  </tbody>\n",
       "</table>\n",
       "<p>5 rows × 53 columns</p>\n",
       "</div>"
      ],
      "text/plain": [
       "                  date  primary_cleaner.input.sulfate  \\\n",
       "0  2016-09-01 00:59:59                     210.800909   \n",
       "1  2016-09-01 01:59:59                     215.392455   \n",
       "2  2016-09-01 02:59:59                     215.259946   \n",
       "3  2016-09-01 03:59:59                     215.336236   \n",
       "4  2016-09-01 04:59:59                     199.099327   \n",
       "\n",
       "   primary_cleaner.input.depressant  primary_cleaner.input.feed_size  \\\n",
       "0                         14.993118                         8.080000   \n",
       "1                         14.987471                         8.080000   \n",
       "2                         12.884934                         7.786667   \n",
       "3                         12.006805                         7.640000   \n",
       "4                         10.682530                         7.530000   \n",
       "\n",
       "   primary_cleaner.input.xanthate  primary_cleaner.state.floatbank8_a_air  \\\n",
       "0                        1.005021                             1398.981301   \n",
       "1                        0.990469                             1398.777912   \n",
       "2                        0.996043                             1398.493666   \n",
       "3                        0.863514                             1399.618111   \n",
       "4                        0.805575                             1401.268123   \n",
       "\n",
       "   primary_cleaner.state.floatbank8_a_level  \\\n",
       "0                               -500.225577   \n",
       "1                               -500.057435   \n",
       "2                               -500.868360   \n",
       "3                               -498.863574   \n",
       "4                               -500.808305   \n",
       "\n",
       "   primary_cleaner.state.floatbank8_b_air  \\\n",
       "0                             1399.144926   \n",
       "1                             1398.055362   \n",
       "2                             1398.860436   \n",
       "3                             1397.440120   \n",
       "4                             1398.128818   \n",
       "\n",
       "   primary_cleaner.state.floatbank8_b_level  \\\n",
       "0                               -499.919735   \n",
       "1                               -499.778182   \n",
       "2                               -499.764529   \n",
       "3                               -499.211024   \n",
       "4                               -499.504543   \n",
       "\n",
       "   primary_cleaner.state.floatbank8_c_air  ...  \\\n",
       "0                             1400.102998  ...   \n",
       "1                             1396.151033  ...   \n",
       "2                             1398.075709  ...   \n",
       "3                             1400.129303  ...   \n",
       "4                             1402.172226  ...   \n",
       "\n",
       "   secondary_cleaner.state.floatbank4_a_air  \\\n",
       "0                                 12.023554   \n",
       "1                                 12.058140   \n",
       "2                                 11.962366   \n",
       "3                                 12.033091   \n",
       "4                                 12.025367   \n",
       "\n",
       "   secondary_cleaner.state.floatbank4_a_level  \\\n",
       "0                                 -497.795834   \n",
       "1                                 -498.695773   \n",
       "2                                 -498.767484   \n",
       "3                                 -498.350935   \n",
       "4                                 -500.786497   \n",
       "\n",
       "   secondary_cleaner.state.floatbank4_b_air  \\\n",
       "0                                  8.016656   \n",
       "1                                  8.130979   \n",
       "2                                  8.096893   \n",
       "3                                  8.074946   \n",
       "4                                  8.054678   \n",
       "\n",
       "   secondary_cleaner.state.floatbank4_b_level  \\\n",
       "0                                 -501.289139   \n",
       "1                                 -499.634209   \n",
       "2                                 -500.827423   \n",
       "3                                 -499.474407   \n",
       "4                                 -500.397500   \n",
       "\n",
       "   secondary_cleaner.state.floatbank5_a_air  \\\n",
       "0                                  7.946562   \n",
       "1                                  7.958270   \n",
       "2                                  8.071056   \n",
       "3                                  7.897085   \n",
       "4                                  8.107890   \n",
       "\n",
       "   secondary_cleaner.state.floatbank5_a_level  \\\n",
       "0                                 -432.317850   \n",
       "1                                 -525.839648   \n",
       "2                                 -500.801673   \n",
       "3                                 -500.868509   \n",
       "4                                 -509.526725   \n",
       "\n",
       "   secondary_cleaner.state.floatbank5_b_air  \\\n",
       "0                                  4.872511   \n",
       "1                                  4.878850   \n",
       "2                                  4.905125   \n",
       "3                                  4.931400   \n",
       "4                                  4.957674   \n",
       "\n",
       "   secondary_cleaner.state.floatbank5_b_level  \\\n",
       "0                                 -500.037437   \n",
       "1                                 -500.162375   \n",
       "2                                 -499.828510   \n",
       "3                                 -499.963623   \n",
       "4                                 -500.360026   \n",
       "\n",
       "   secondary_cleaner.state.floatbank6_a_air  \\\n",
       "0                                 26.705889   \n",
       "1                                 25.019940   \n",
       "2                                 24.994862   \n",
       "3                                 24.948919   \n",
       "4                                 25.003331   \n",
       "\n",
       "   secondary_cleaner.state.floatbank6_a_level  \n",
       "0                                 -499.709414  \n",
       "1                                 -499.819438  \n",
       "2                                 -500.622559  \n",
       "3                                 -498.709987  \n",
       "4                                 -500.856333  \n",
       "\n",
       "[5 rows x 53 columns]"
      ]
     },
     "metadata": {},
     "output_type": "display_data"
    }
   ],
   "source": [
    "for data in data_list:\n",
    "    print('==================================')\n",
    "    # print('df name:', data.name)\n",
    "    display(data.shape)\n",
    "    # display(data.info())\n",
    "    display(data.head())"
   ]
  },
  {
   "cell_type": "markdown",
   "metadata": {},
   "source": [
    "Full разделена на train и test, но в test попали не все признаки."
   ]
  },
  {
   "cell_type": "markdown",
   "metadata": {},
   "source": [
    "###  Проверим, что эффективность обогащения рассчитана правильно. \n",
    "\n",
    "Вычислим её на обучающей выборке для признака rougher.output.recovery.\n",
    "\n"
   ]
  },
  {
   "cell_type": "code",
   "execution_count": 177,
   "metadata": {},
   "outputs": [],
   "source": [
    "# формулу расчета эффективности обогащения вынесу в функцию\n",
    "\n",
    "def recovery(F, C, T):\n",
    "    return ((C * (F - T)) / (F * (C - T))) * 100"
   ]
  },
  {
   "cell_type": "code",
   "execution_count": null,
   "metadata": {},
   "outputs": [],
   "source": [
    "# отберем для расчета требуемые столбцы и передадим их в функцию\n",
    "\n",
    "data_train['estimated_recovery'] = recovery(data_train['rougher.input.feed_au'], \n",
    "                                            data_train['final.output.concentrate_au'], \n",
    "                                            data_train['final.output.tail_au'])"
   ]
  },
  {
   "cell_type": "markdown",
   "metadata": {},
   "source": [
    "Найдём MAE между нашими расчётами и значением признака."
   ]
  },
  {
   "cell_type": "code",
   "execution_count": 179,
   "metadata": {},
   "outputs": [
    {
     "data": {
      "text/plain": [
       "8.538049763979541e-15"
      ]
     },
     "execution_count": 179,
     "metadata": {},
     "output_type": "execute_result"
    }
   ],
   "source": [
    "mae = mean_absolute_error(data_train['estimated_recovery'], data_train['final.output.recovery'])\n",
    "mae"
   ]
  },
  {
   "cell_type": "markdown",
   "metadata": {},
   "source": [
    "Разница очень мала. считаю что расчеты прведены верно."
   ]
  },
  {
   "cell_type": "markdown",
   "metadata": {},
   "source": [
    "### Признаки, недоступные в тестовой выборке. \n"
   ]
  },
  {
   "cell_type": "code",
   "execution_count": 180,
   "metadata": {},
   "outputs": [
    {
     "data": {
      "text/plain": [
       "{'estimated_recovery',\n",
       " 'final.output.concentrate_ag',\n",
       " 'final.output.concentrate_au',\n",
       " 'final.output.concentrate_pb',\n",
       " 'final.output.concentrate_sol',\n",
       " 'final.output.recovery',\n",
       " 'final.output.tail_ag',\n",
       " 'final.output.tail_au',\n",
       " 'final.output.tail_pb',\n",
       " 'final.output.tail_sol',\n",
       " 'primary_cleaner.output.concentrate_ag',\n",
       " 'primary_cleaner.output.concentrate_au',\n",
       " 'primary_cleaner.output.concentrate_pb',\n",
       " 'primary_cleaner.output.concentrate_sol',\n",
       " 'primary_cleaner.output.tail_ag',\n",
       " 'primary_cleaner.output.tail_au',\n",
       " 'primary_cleaner.output.tail_pb',\n",
       " 'primary_cleaner.output.tail_sol',\n",
       " 'rougher.calculation.au_pb_ratio',\n",
       " 'rougher.calculation.floatbank10_sulfate_to_au_feed',\n",
       " 'rougher.calculation.floatbank11_sulfate_to_au_feed',\n",
       " 'rougher.calculation.sulfate_to_au_concentrate',\n",
       " 'rougher.output.concentrate_ag',\n",
       " 'rougher.output.concentrate_au',\n",
       " 'rougher.output.concentrate_pb',\n",
       " 'rougher.output.concentrate_sol',\n",
       " 'rougher.output.recovery',\n",
       " 'rougher.output.tail_ag',\n",
       " 'rougher.output.tail_au',\n",
       " 'rougher.output.tail_pb',\n",
       " 'rougher.output.tail_sol',\n",
       " 'secondary_cleaner.output.tail_ag',\n",
       " 'secondary_cleaner.output.tail_au',\n",
       " 'secondary_cleaner.output.tail_pb',\n",
       " 'secondary_cleaner.output.tail_sol'}"
      ]
     },
     "execution_count": 180,
     "metadata": {},
     "output_type": "execute_result"
    }
   ],
   "source": [
    "set(list(data_train.columns)) - set(list(data_test.columns)) "
   ]
  },
  {
   "cell_type": "markdown",
   "metadata": {},
   "source": [
    "тестовой выборке отсутсвуют - параметры продукта, признаки со значениеми на выходе этапов. все признаки относятся к типу float."
   ]
  },
  {
   "cell_type": "markdown",
   "metadata": {},
   "source": [
    "### Предобработка данных"
   ]
  },
  {
   "cell_type": "markdown",
   "metadata": {},
   "source": [
    "#### преобразую столбец в формат datetime \n",
    "\n",
    "как оказалось это в будущем не пригодитсмя, но я подумал что возможно потребуется что то делать со временем"
   ]
  },
  {
   "cell_type": "code",
   "execution_count": 181,
   "metadata": {},
   "outputs": [
    {
     "data": {
      "text/plain": [
       "0   2016-01-15 00:00:00\n",
       "1   2016-01-15 01:00:00\n",
       "2   2016-01-15 02:00:00\n",
       "3   2016-01-15 03:00:00\n",
       "4   2016-01-15 04:00:00\n",
       "Name: time, dtype: datetime64[ns]"
      ]
     },
     "execution_count": 181,
     "metadata": {},
     "output_type": "execute_result"
    }
   ],
   "source": [
    "# data_train['time'] = pd.to_datetime(data_train['date'], format=\"%Y/%m/%d %H:%M:%S\")\n",
    "data_train['time'] = data_train['date'].astype('datetime64')   # .dt.timestamp()\n",
    "data_train['time'].head()"
   ]
  },
  {
   "cell_type": "code",
   "execution_count": 182,
   "metadata": {
    "scrolled": true
   },
   "outputs": [
    {
     "data": {
      "text/plain": [
       "0    1452816000\n",
       "1    1452819600\n",
       "2    1452823200\n",
       "3    1452826800\n",
       "4    1452830400\n",
       "Name: timestamp, dtype: int64"
      ]
     },
     "execution_count": 182,
     "metadata": {},
     "output_type": "execute_result"
    }
   ],
   "source": [
    "data_train['timestamp'] = data_train['time'].values.astype(np.int64) // 10 ** 9\n",
    "data_train['timestamp'].head()"
   ]
  },
  {
   "cell_type": "markdown",
   "metadata": {},
   "source": [
    "#### Заполним пропуски"
   ]
  },
  {
   "cell_type": "markdown",
   "metadata": {},
   "source": [
    "заполнить нужно обязательно в тренировочной выборке и в тестовой, ведь они и нужны для модели. \n",
    "\n",
    "считаю что логичнее будет заполнение средним между ближайшими значениями - так как мне кажется что значения меняются плавно с течением времени. "
   ]
  },
  {
   "cell_type": "code",
   "execution_count": 183,
   "metadata": {},
   "outputs": [],
   "source": [
    "data_test = data_test.interpolate()\n",
    "data_train = data_train.interpolate()\n",
    "data_full = data_full.interpolate()"
   ]
  },
  {
   "cell_type": "markdown",
   "metadata": {},
   "source": [
    "## Анализ данных"
   ]
  },
  {
   "cell_type": "markdown",
   "metadata": {},
   "source": [
    "### Изменение концентрации металлов (Au, Ag, Pb) на различных этапах очистки."
   ]
  },
  {
   "cell_type": "markdown",
   "metadata": {},
   "source": [
    "Целью процесса яшляется увеличить концентрацию золота и умньшить количество примесей в финальном продукте (final.output.recovery).\n",
    "\n",
    "Посмотрим среднюю концентрацию от этапа к этапу\n",
    "\n",
    "для удобства отберу признаки в датафреймы по металлам"
   ]
  },
  {
   "cell_type": "markdown",
   "metadata": {},
   "source": [
    "этапа очистки всего 4 - отберу признаки (в порядке очерёдности) со значениями концентраций металла на этих этапах и вычислю среднее"
   ]
  },
  {
   "cell_type": "code",
   "execution_count": 184,
   "metadata": {},
   "outputs": [],
   "source": [
    "df_au = data_full[['rougher.input.feed_au','rougher.output.concentrate_au','primary_cleaner.output.concentrate_au','final.output.concentrate_au']]\n",
    "df_ag = data_full[['rougher.input.feed_ag','rougher.output.concentrate_ag','primary_cleaner.output.concentrate_ag','final.output.concentrate_ag']]\n",
    "df_pb = data_full[['rougher.input.feed_pb','rougher.output.concentrate_pb','primary_cleaner.output.concentrate_pb','final.output.concentrate_pb']]"
   ]
  },
  {
   "cell_type": "code",
   "execution_count": 185,
   "metadata": {},
   "outputs": [],
   "source": [
    "#  напишу функцию которая строит графики на принимаемых датафреймах\n",
    "\n",
    "def metal_conc(data,name):\n",
    "    plt.figure(figsize=(12, 7))\n",
    "    list_stage =['rougher feed','rougher output','primary cleaner','final output']\n",
    "    \n",
    "    for i in range(0,4):\n",
    "        plt.hist(data.iloc[:, [i]], bins=70, alpha=0.5, label=list_stage[i])\n",
    "        \n",
    "    plt.title(name)\n",
    "    plt.xlabel('Концентрация')\n",
    "    plt.ylabel('Количество наблюдений')\n",
    "    plt.legend()\n",
    "    plt.show()"
   ]
  },
  {
   "cell_type": "code",
   "execution_count": 186,
   "metadata": {},
   "outputs": [
    {
     "data": {
      "image/png": "[encoded data removed]",
      "text/plain": [
       "<Figure size 864x504 with 1 Axes>"
      ]
     },
     "metadata": {},
     "output_type": "display_data"
    },
    {
     "data": {
      "image/png": "[encoded data removed]",
      "text/plain": [
       "<Figure size 864x504 with 1 Axes>"
      ]
     },
     "metadata": {},
     "output_type": "display_data"
    },
    {
     "data": {
      "image/png": "[encoded data removed]",
      "text/plain": [
       "<Figure size 864x504 with 1 Axes>"
      ]
     },
     "metadata": {},
     "output_type": "display_data"
    }
   ],
   "source": [
    "metal_conc(df_au, 'Au') \n",
    "metal_conc(df_ag, 'Ag') \n",
    "metal_conc(df_pb, 'Pb') "
   ]
  },
  {
   "cell_type": "code",
   "execution_count": 187,
   "metadata": {},
   "outputs": [],
   "source": [
    "median_au = df_au.median()\n",
    "median_ag = df_ag.median()\n",
    "median_pb = df_pb.median()"
   ]
  },
  {
   "cell_type": "code",
   "execution_count": 188,
   "metadata": {},
   "outputs": [
    {
     "data": {
      "image/png": "[encoded data removed]",
      "text/plain": [
       "<Figure size 3600x900 with 3 Axes>"
      ]
     },
     "metadata": {},
     "output_type": "display_data"
    }
   ],
   "source": [
    "plt.style.use('ggplot')\n",
    "plt.subplots(figsize=(12,3), dpi=300)\n",
    "\n",
    "# одна строка, три столбца. Текущая ячейка - 1\n",
    "pylab.subplot (1, 3, 1)\n",
    "pylab.plot(median_au)\n",
    "pylab.title (\"median_au\")\n",
    "pylab.ylabel(\"концентрация\")\n",
    "plt.xticks(rotation=70)\n",
    "\n",
    "# одна строка, три столбца. Текущая ячейка - 2\n",
    "pylab.subplot (1, 3, 2)\n",
    "pylab.plot(median_ag)  \n",
    "pylab.title (\"median_ag\")\n",
    "plt.xticks(rotation=80)\n",
    "\n",
    "# одна строка, три столбца. Текущая ячейка - 3\n",
    "pylab.subplot (1, 3, 3)\n",
    "pylab.plot (median_pb)\n",
    "pylab.title (\"median_pb\")\n",
    "\n",
    "plt.xticks(rotation=90)\n",
    "# Покажем окно с нарисованным графиком\n",
    "pylab.show()"
   ]
  },
  {
   "cell_type": "markdown",
   "metadata": {},
   "source": [
    "Как видим из значений концентрация золота растет от этапа к этапу очистки "
   ]
  },
  {
   "cell_type": "markdown",
   "metadata": {},
   "source": [
    "### Размеры гранул сырья в выборках.\n",
    "\n",
    "Если распределения сильно отличаются друг от друга, оценка модели будет неправильной."
   ]
  },
  {
   "cell_type": "code",
   "execution_count": 189,
   "metadata": {},
   "outputs": [
    {
     "data": {
      "text/plain": [
       "count    14149.000000\n",
       "mean        60.097903\n",
       "std         23.023690\n",
       "min          9.659576\n",
       "25%         48.950593\n",
       "50%         55.269784\n",
       "75%         65.982466\n",
       "max        484.967466\n",
       "Name: rougher.input.feed_size, dtype: float64"
      ]
     },
     "metadata": {},
     "output_type": "display_data"
    },
    {
     "data": {
      "text/plain": [
       "count    5290.000000\n",
       "mean       55.952835\n",
       "std        19.080372\n",
       "min         0.046369\n",
       "25%        43.906504\n",
       "50%        50.846843\n",
       "75%        62.451165\n",
       "max       392.494040\n",
       "Name: rougher.input.feed_size, dtype: float64"
      ]
     },
     "metadata": {},
     "output_type": "display_data"
    }
   ],
   "source": [
    "# посмотрим на описательную статистику \n",
    "display( data_train['rougher.input.feed_size'].describe(), data_test['rougher.input.feed_size'].describe())"
   ]
  },
  {
   "cell_type": "code",
   "execution_count": 190,
   "metadata": {},
   "outputs": [
    {
     "data": {
      "text/plain": [
       "<AxesSubplot:>"
      ]
     },
     "execution_count": 190,
     "metadata": {},
     "output_type": "execute_result"
    },
    {
     "data": {
      "image/png": "[encoded data removed]",
      "text/plain": [
       "<Figure size 432x288 with 1 Axes>"
      ]
     },
     "metadata": {},
     "output_type": "display_data"
    }
   ],
   "source": [
    "data_train['rougher.input.feed_size'].hist(bins=100)\n",
    "data_test['rougher.input.feed_size'].hist(bins=100)"
   ]
  },
  {
   "cell_type": "code",
   "execution_count": 191,
   "metadata": {},
   "outputs": [
    {
     "data": {
      "text/plain": [
       "(0.0, 125.0)"
      ]
     },
     "execution_count": 191,
     "metadata": {},
     "output_type": "execute_result"
    },
    {
     "data": {
      "image/png": "[encoded data removed]",
      "text/plain": [
       "<Figure size 432x288 with 1 Axes>"
      ]
     },
     "metadata": {},
     "output_type": "display_data"
    }
   ],
   "source": [
    "pd.DataFrame({'train':data_train['rougher.input.feed_size'],\n",
    "              'test':data_test['rougher.input.feed_size']}).boxplot()\n",
    "plt.ylim(0,125)"
   ]
  },
  {
   "cell_type": "markdown",
   "metadata": {},
   "source": [
    "Координальных отличий распределений не наблюдаю"
   ]
  },
  {
   "cell_type": "markdown",
   "metadata": {},
   "source": [
    "### Суммарная концентрация всех веществ на разных стадиях: в сырье, в черновом и финальном концентратах."
   ]
  },
  {
   "cell_type": "code",
   "execution_count": 192,
   "metadata": {},
   "outputs": [],
   "source": [
    "# автоматизируем именование колонок для дальнейшего отбора в дата фрей, который потом передадим на функцию отображения графиков\n",
    "\n",
    "material_list = ['au','ag','pb','sol']\n",
    "\n",
    "def get_name_col(stage):\n",
    "    result = []\n",
    "    for i,j in enumerate(material_list):\n",
    "        result.append(stage+'_'+j)\n",
    "    return result\n",
    "\n",
    "df_sum = pd.DataFrame()"
   ]
  },
  {
   "cell_type": "code",
   "execution_count": 193,
   "metadata": {},
   "outputs": [],
   "source": [
    "# сформируем датафреймы с отобранными признаками\n",
    "df_sum['rougher.input.feed'] = data_full[get_name_col('rougher.input.feed')].sum(axis=1)\n",
    "df_sum['rougher.output'] = data_full[get_name_col('rougher.output.concentrate')].sum(axis=1) \n",
    "df_sum['primary_cleaner.output'] = data_full[get_name_col('primary_cleaner.output.concentrate')].sum(axis=1) \n",
    "df_sum['final.output'] = data_full[get_name_col('final.output.concentrate')].sum(axis=1)"
   ]
  },
  {
   "cell_type": "code",
   "execution_count": 194,
   "metadata": {},
   "outputs": [
    {
     "data": {
      "image/png": "[encoded data removed]",
      "text/plain": [
       "<Figure size 864x504 with 1 Axes>"
      ]
     },
     "metadata": {},
     "output_type": "display_data"
    }
   ],
   "source": [
    "metal_conc(df_sum,'Суммарная концентрация веществ')"
   ]
  },
  {
   "cell_type": "markdown",
   "metadata": {},
   "source": [
    "Похоже что обнаружены аномальные значения в суммарном распределении - так как не должно быть нулевых сумм веществ, это ошибка.\n",
    "\n",
    "От них необходимо избавиться - так как модель на таких данных обучать и проверять нельзя. Как говорится -'гарбидж ин гарбидж аут'"
   ]
  },
  {
   "cell_type": "code",
   "execution_count": 195,
   "metadata": {},
   "outputs": [],
   "source": [
    "# пельём колонку с датой, по которой индексируются записи\n",
    "df_sum = df_sum.merge(data_full['date'], left_index=True,  right_index=True)"
   ]
  },
  {
   "cell_type": "code",
   "execution_count": 196,
   "metadata": {},
   "outputs": [
    {
     "data": {
      "text/plain": [
       "(591,)"
      ]
     },
     "execution_count": 196,
     "metadata": {},
     "output_type": "execute_result"
    }
   ],
   "source": [
    "# получим индексы записей в которых есть нулевые суммы концентраций\n",
    "\n",
    "index_for_drop = df_sum[(df_sum['rougher.input.feed'] == 0) | \\\n",
    "                        (df_sum['rougher.output'] == 0) | \\\n",
    "                        (df_sum['primary_cleaner.output'] == 0) | \\\n",
    "                        (df_sum['final.output'] == 0)]['date']\n",
    "index_for_drop.shape"
   ]
  },
  {
   "cell_type": "code",
   "execution_count": 197,
   "metadata": {},
   "outputs": [],
   "source": [
    "# и удалим эти индексы из выборок\n",
    "data_train = data_train[~data_train['date'].isin(index_for_drop)]\n",
    "data_test = data_test[~data_test['date'].isin(index_for_drop)]"
   ]
  },
  {
   "cell_type": "markdown",
   "metadata": {},
   "source": [
    "## Модель"
   ]
  },
  {
   "cell_type": "markdown",
   "metadata": {},
   "source": [
    "### функция для вычисления итоговой sMAPE."
   ]
  },
  {
   "cell_type": "markdown",
   "metadata": {},
   "source": [
    "Для решения задачи введём новую метрику качества — sMAPE (англ. Symmetric Mean Absolute Percentage Error, «симметричное среднее абсолютное процентное отклонение»)."
   ]
  },
  {
   "cell_type": "code",
   "execution_count": 198,
   "metadata": {},
   "outputs": [],
   "source": [
    "def smape(y_true, y_pred):\n",
    "    error = np.abs(y_true - y_pred)\n",
    "    scale = ((np.abs(y_true) + np.abs(y_pred)) / 2) \n",
    "    \n",
    "    return (error / scale).mean() * 100"
   ]
  },
  {
   "cell_type": "markdown",
   "metadata": {},
   "source": [
    "Итоговая метрика складывается из двух величин \n",
    "\n",
    "- эффективность обогащения чернового концентрата rougher.output.recovery\n",
    "- эффективность обогащения финального концентрата final.output.recovery."
   ]
  },
  {
   "cell_type": "code",
   "execution_count": 199,
   "metadata": {},
   "outputs": [],
   "source": [
    "def finish_smape(y_true_rougher, y_pred_rougher, y_true_final, y_pred_final):\n",
    "    return 0.25 * smape(y_true_rougher, y_pred_rougher) + 0.75 * smape(y_true_final, y_pred_final)"
   ]
  },
  {
   "cell_type": "markdown",
   "metadata": {},
   "source": [
    "### Модели и их качество на кросс-валидации. "
   ]
  },
  {
   "cell_type": "markdown",
   "metadata": {},
   "source": [
    "Целевой таргет для тестовой выборки берем из полной выборки"
   ]
  },
  {
   "cell_type": "code",
   "execution_count": 200,
   "metadata": {},
   "outputs": [],
   "source": [
    "data_test = data_test.merge(data_full[data_full['date'].isin(data_test['date'])][['final.output.recovery','rougher.output.recovery','date']], on = 'date')"
   ]
  },
  {
   "cell_type": "markdown",
   "metadata": {},
   "source": [
    "Перед тем как тренинровать модели необходимо отобрать признаки - удалить те которых нет в тестовой выборке"
   ]
  },
  {
   "cell_type": "code",
   "execution_count": 201,
   "metadata": {},
   "outputs": [],
   "source": [
    "data_train = data_train[data_test.columns]"
   ]
  },
  {
   "cell_type": "markdown",
   "metadata": {},
   "source": [
    "Нужно спрогнозировать сразу две величины:\n",
    "\n",
    " - эффективность обогащения чернового концентрата rougher.output.recovery;\n",
    " - эффективность обогащения финального концентрата final.output.recovery.\n",
    " \n",
    " отберем их в таргеты"
   ]
  },
  {
   "cell_type": "markdown",
   "metadata": {},
   "source": [
    "для нашей метрики качества потребуется два предсказанных значения"
   ]
  },
  {
   "cell_type": "code",
   "execution_count": 202,
   "metadata": {},
   "outputs": [],
   "source": [
    "features_train = data_train.drop(['date','final.output.recovery','rougher.output.recovery'],axis=1)\n",
    "target_train_final =  data_train['final.output.recovery']\n",
    "target_train_rougher =  data_train['rougher.output.recovery']\n",
    "\n",
    "features_test = data_test.drop(['date','final.output.recovery','rougher.output.recovery'],axis=1)\n",
    "target_test_final =  data_test['final.output.recovery']\n",
    "target_test_rougher =  data_test['rougher.output.recovery']"
   ]
  },
  {
   "cell_type": "code",
   "execution_count": 203,
   "metadata": {},
   "outputs": [
    {
     "name": "stdout",
     "output_type": "stream",
     "text": [
      "(13725, 52) (13725,) (5123, 52) (5123,)\n"
     ]
    }
   ],
   "source": [
    "print(features_train.shape,target_train.shape, features_test.shape  ,target_test.shape)"
   ]
  },
  {
   "cell_type": "markdown",
   "metadata": {},
   "source": [
    "### Выберем лучшую модель и проверим её на тестовой выборке."
   ]
  },
  {
   "cell_type": "code",
   "execution_count": 204,
   "metadata": {},
   "outputs": [],
   "source": [
    "# определим нашу метрику качества как scorer для моделей\n",
    "smape_score = make_scorer(smape, greater_is_better=False)"
   ]
  },
  {
   "cell_type": "code",
   "execution_count": 205,
   "metadata": {},
   "outputs": [],
   "source": [
    "model_lr = LinearRegression()\n",
    "\n",
    "\n",
    "# попытаемся подобрать наилучшие параметры модели с помощью GridSearchCV\n",
    "\n",
    "# parametrs = { 'n_estimators': range (50, 201, 50),\n",
    "#               'max_depth': range (5,13, 2),\n",
    "#               'min_samples_leaf': range (2,8,2),\n",
    "#               'min_samples_split': range (2,8,2) }\n",
    "\n",
    "# grid = GridSearchCV(model_rf, parametrs, cv=5, scoring=smape_score)\n",
    "# grid.fit(features_train, target_train)\n",
    "# grid.best_params_\n",
    "\n",
    "#----   работает ооооочень долго\n",
    "#----   поэтому возьму такие параметры ->\n",
    "\n",
    "model_rf = RandomForestRegressor(n_estimators=10, max_depth=10, min_samples_leaf=2, min_samples_split=2)\n"
   ]
  },
  {
   "cell_type": "markdown",
   "metadata": {},
   "source": [
    "Получим значение нашей метрики smape на кросс валидации"
   ]
  },
  {
   "cell_type": "code",
   "execution_count": 206,
   "metadata": {},
   "outputs": [
    {
     "name": "stdout",
     "output_type": "stream",
     "text": [
      "[-9.54273457 -7.01431322 -5.55617536 -5.06767069 -8.95660074]\n",
      "-7.227498914273005\n",
      "[-13.35331676  -9.57794149  -9.26024363  -9.34058837 -13.31899031]\n",
      "-10.97021611182735\n"
     ]
    }
   ],
   "source": [
    "# Линейная регрессия на  'rougher'\n",
    "\n",
    "scores_r = cross_val_score(model_lr, features_train, target_train_rougher, scoring = smape_score, cv = 5)\n",
    " \n",
    "print(scores_r)\n",
    "print(scores_r.mean())\n",
    "\n",
    "# Линейная регрессия 'final'\n",
    "\n",
    "scores_f = cross_val_score(model_lr, features_train, target_train_final, scoring = smape_score, cv = 5)\n",
    " \n",
    "print(scores_f)\n",
    "print(scores_f.mean())"
   ]
  },
  {
   "cell_type": "code",
   "execution_count": 207,
   "metadata": {},
   "outputs": [
    {
     "name": "stdout",
     "output_type": "stream",
     "text": [
      "[-8.2525744  -7.89412766 -5.11165192 -6.28715528 -9.56171607]\n",
      "-7.421445066958725\n",
      "[-10.0248126  -10.54140969 -10.12386038  -9.1666372  -11.65379649]\n",
      "-10.302103270424109\n"
     ]
    }
   ],
   "source": [
    "# Случайный лес 'rougher'\n",
    "scores_r = cross_val_score(model_rf, features_train, target_train_rougher, scoring = smape_score, cv = 5)\n",
    " \n",
    "print(scores_r)\n",
    "print(scores_r.mean())\n",
    "\n",
    "# Случайный лес 'final'\n",
    "\n",
    "scores_f = cross_val_score(model_rf, features_train, target_train_final, scoring = smape_score, cv = 5)\n",
    " \n",
    "print(scores_f)\n",
    "print(scores_f.mean())"
   ]
  },
  {
   "cell_type": "markdown",
   "metadata": {},
   "source": [
    "Случайный лес лучше показал себя на метрике smape\n",
    "\n",
    "обучим модель  и получим предсказания зхначений для итоговой метрики"
   ]
  },
  {
   "cell_type": "code",
   "execution_count": 208,
   "metadata": {},
   "outputs": [],
   "source": [
    "model_rf.fit(features_train, target_train_final)\n",
    "predicted_rf_final = model_rf.predict(features_test)"
   ]
  },
  {
   "cell_type": "code",
   "execution_count": 209,
   "metadata": {},
   "outputs": [],
   "source": [
    "model_rf.fit(features_train, target_train_rougher)\n",
    "predicted_rf_rougher = model_rf.predict(features_test)"
   ]
  },
  {
   "cell_type": "markdown",
   "metadata": {},
   "source": [
    "Вычислим итоговую метрику"
   ]
  },
  {
   "cell_type": "code",
   "execution_count": 210,
   "metadata": {},
   "outputs": [
    {
     "data": {
      "text/plain": [
       "7.113071214966471"
      ]
     },
     "execution_count": 210,
     "metadata": {},
     "output_type": "execute_result"
    }
   ],
   "source": [
    "finish_smape(target_test_rougher, predicted_rf_rougher, target_test_final, predicted_rf_final)"
   ]
  },
  {
   "cell_type": "markdown",
   "metadata": {},
   "source": [
    "Симметричное среднее абсолютное процентное отклонение составило около  7 процентов"
   ]
  }
 ],
 "metadata": {
  "ExecuteTimeLog": [
   {
    "duration": 52,
    "start_time": "2022-04-04T17:07:35.910Z"
   },
   {
    "duration": 428,
    "start_time": "2022-04-04T17:07:41.114Z"
   },
   {
    "duration": 784,
    "start_time": "2022-04-04T17:08:43.141Z"
   },
   {
    "duration": 33,
    "start_time": "2022-04-04T17:08:50.923Z"
   },
   {
    "duration": 20,
    "start_time": "2022-04-04T17:09:05.573Z"
   },
   {
    "duration": 21,
    "start_time": "2022-04-04T17:09:52.135Z"
   },
   {
    "duration": 215,
    "start_time": "2022-04-04T17:10:33.879Z"
   },
   {
    "duration": 3,
    "start_time": "2022-04-04T17:21:11.900Z"
   },
   {
    "duration": 29,
    "start_time": "2022-04-04T17:21:17.692Z"
   },
   {
    "duration": 19,
    "start_time": "2022-04-04T17:29:23.743Z"
   },
   {
    "duration": 5,
    "start_time": "2022-04-04T17:41:41.648Z"
   },
   {
    "duration": 4,
    "start_time": "2022-04-04T17:42:16.846Z"
   },
   {
    "duration": 11,
    "start_time": "2022-04-04T17:48:07.778Z"
   },
   {
    "duration": 30,
    "start_time": "2022-04-04T17:51:11.506Z"
   },
   {
    "duration": 3,
    "start_time": "2022-04-04T17:51:15.175Z"
   },
   {
    "duration": 12,
    "start_time": "2022-04-04T17:51:17.434Z"
   },
   {
    "duration": 7,
    "start_time": "2022-04-04T17:51:24.573Z"
   },
   {
    "duration": 18,
    "start_time": "2022-04-04T17:51:32.679Z"
   },
   {
    "duration": 1412,
    "start_time": "2022-04-04T17:56:39.467Z"
   },
   {
    "duration": 6,
    "start_time": "2022-04-04T17:56:40.881Z"
   },
   {
    "duration": 26,
    "start_time": "2022-04-04T17:56:42.317Z"
   },
   {
    "duration": 49,
    "start_time": "2022-04-04T17:57:09.184Z"
   },
   {
    "duration": 434,
    "start_time": "2022-04-04T17:57:11.319Z"
   },
   {
    "duration": 776,
    "start_time": "2022-04-04T17:57:11.924Z"
   },
   {
    "duration": 4,
    "start_time": "2022-04-04T17:57:15.187Z"
   },
   {
    "duration": 1243,
    "start_time": "2022-04-04T17:57:21.176Z"
   },
   {
    "duration": 7,
    "start_time": "2022-04-04T17:57:28.904Z"
   },
   {
    "duration": 36,
    "start_time": "2022-04-04T17:57:30.242Z"
   },
   {
    "duration": 4,
    "start_time": "2022-04-04T17:57:40.251Z"
   },
   {
    "duration": 6,
    "start_time": "2022-04-04T17:57:41.388Z"
   },
   {
    "duration": 20,
    "start_time": "2022-04-04T17:57:43.291Z"
   },
   {
    "duration": 13,
    "start_time": "2022-04-04T17:57:54.732Z"
   },
   {
    "duration": 4,
    "start_time": "2022-04-04T17:58:37.458Z"
   },
   {
    "duration": 6,
    "start_time": "2022-04-04T17:58:38.455Z"
   },
   {
    "duration": 15,
    "start_time": "2022-04-04T17:58:39.534Z"
   },
   {
    "duration": 8,
    "start_time": "2022-04-04T17:59:18.941Z"
   },
   {
    "duration": 6,
    "start_time": "2022-04-04T17:59:41.957Z"
   },
   {
    "duration": 14,
    "start_time": "2022-04-04T18:02:36.416Z"
   },
   {
    "duration": 1109,
    "start_time": "2022-04-05T05:46:48.096Z"
   },
   {
    "duration": 679,
    "start_time": "2022-04-05T05:47:02.403Z"
   },
   {
    "duration": 3,
    "start_time": "2022-04-05T05:47:06.797Z"
   },
   {
    "duration": 4,
    "start_time": "2022-04-05T05:47:07.070Z"
   },
   {
    "duration": 11,
    "start_time": "2022-04-05T05:47:07.359Z"
   },
   {
    "duration": 8,
    "start_time": "2022-04-05T05:47:08.474Z"
   },
   {
    "duration": 9,
    "start_time": "2022-04-05T05:48:21.645Z"
   },
   {
    "duration": 21,
    "start_time": "2022-04-05T10:58:01.106Z"
   },
   {
    "duration": 36,
    "start_time": "2022-04-05T10:58:46.814Z"
   },
   {
    "duration": 22,
    "start_time": "2022-04-05T11:18:34.953Z"
   },
   {
    "duration": 39,
    "start_time": "2022-04-05T11:18:53.893Z"
   },
   {
    "duration": 18,
    "start_time": "2022-04-05T11:19:10.529Z"
   },
   {
    "duration": 28,
    "start_time": "2022-04-05T11:19:51.605Z"
   },
   {
    "duration": 58,
    "start_time": "2022-04-05T11:20:08.136Z"
   },
   {
    "duration": 23,
    "start_time": "2022-04-05T11:30:47.110Z"
   },
   {
    "duration": 1547,
    "start_time": "2022-04-05T17:24:43.217Z"
   },
   {
    "duration": 4484,
    "start_time": "2022-04-05T17:24:44.767Z"
   },
   {
    "duration": 4,
    "start_time": "2022-04-05T17:24:49.253Z"
   },
   {
    "duration": 45,
    "start_time": "2022-04-05T17:24:49.261Z"
   },
   {
    "duration": 340,
    "start_time": "2022-04-05T17:24:49.308Z"
   },
   {
    "duration": 5,
    "start_time": "2022-04-05T17:24:52.091Z"
   },
   {
    "duration": 6,
    "start_time": "2022-04-05T17:24:52.422Z"
   },
   {
    "duration": 15,
    "start_time": "2022-04-05T17:24:52.949Z"
   },
   {
    "duration": 11,
    "start_time": "2022-04-05T17:24:54.610Z"
   },
   {
    "duration": 7,
    "start_time": "2022-04-05T17:24:55.987Z"
   },
   {
    "duration": 88,
    "start_time": "2022-04-05T17:24:58.736Z"
   },
   {
    "duration": 65,
    "start_time": "2022-04-05T17:25:04.630Z"
   },
   {
    "duration": 39,
    "start_time": "2022-04-05T17:25:50.211Z"
   },
   {
    "duration": 4134,
    "start_time": "2022-04-05T17:26:17.085Z"
   },
   {
    "duration": 27,
    "start_time": "2022-04-05T17:26:25.635Z"
   },
   {
    "duration": 30,
    "start_time": "2022-04-05T17:26:32.564Z"
   },
   {
    "duration": 321,
    "start_time": "2022-04-05T17:26:33.749Z"
   },
   {
    "duration": 4,
    "start_time": "2022-04-05T17:26:36.132Z"
   },
   {
    "duration": 6,
    "start_time": "2022-04-05T17:26:37.550Z"
   },
   {
    "duration": 15,
    "start_time": "2022-04-05T17:26:39.294Z"
   },
   {
    "duration": 8,
    "start_time": "2022-04-05T17:26:40.651Z"
   },
   {
    "duration": 7,
    "start_time": "2022-04-05T17:26:42.305Z"
   },
   {
    "duration": 64,
    "start_time": "2022-04-05T17:26:53.824Z"
   },
   {
    "duration": 19,
    "start_time": "2022-04-05T17:26:56.407Z"
   },
   {
    "duration": 28,
    "start_time": "2022-04-05T17:36:22.541Z"
   },
   {
    "duration": 223,
    "start_time": "2022-04-05T17:37:34.727Z"
   },
   {
    "duration": 31,
    "start_time": "2022-04-05T17:37:38.297Z"
   },
   {
    "duration": 38,
    "start_time": "2022-04-05T17:38:11.052Z"
   },
   {
    "duration": 66,
    "start_time": "2022-04-05T17:39:02.276Z"
   },
   {
    "duration": 42,
    "start_time": "2022-04-05T17:44:03.830Z"
   },
   {
    "duration": 249,
    "start_time": "2022-04-05T18:39:25.063Z"
   },
   {
    "duration": 225,
    "start_time": "2022-04-05T18:39:40.840Z"
   },
   {
    "duration": 222,
    "start_time": "2022-04-05T18:39:48.647Z"
   },
   {
    "duration": 267,
    "start_time": "2022-04-05T18:40:15.376Z"
   },
   {
    "duration": 67,
    "start_time": "2022-04-05T18:45:01.449Z"
   },
   {
    "duration": 250,
    "start_time": "2022-04-05T18:45:16.746Z"
   },
   {
    "duration": 58,
    "start_time": "2022-04-05T18:45:24.614Z"
   },
   {
    "duration": 32,
    "start_time": "2022-04-05T20:29:12.162Z"
   },
   {
    "duration": 878,
    "start_time": "2022-04-05T20:35:46.142Z"
   },
   {
    "duration": 11,
    "start_time": "2022-04-05T20:36:37.576Z"
   },
   {
    "duration": 781,
    "start_time": "2022-04-05T20:36:51.479Z"
   },
   {
    "duration": 5,
    "start_time": "2022-04-05T20:36:58.573Z"
   },
   {
    "duration": 10,
    "start_time": "2022-04-05T20:37:09.578Z"
   },
   {
    "duration": 87,
    "start_time": "2022-04-05T20:37:18.696Z"
   },
   {
    "duration": 14,
    "start_time": "2022-04-05T20:37:42.893Z"
   },
   {
    "duration": 17,
    "start_time": "2022-04-05T20:39:26.241Z"
   },
   {
    "duration": 885,
    "start_time": "2022-04-05T20:39:49.188Z"
   },
   {
    "duration": 43,
    "start_time": "2022-04-05T20:39:52.944Z"
   },
   {
    "duration": 41,
    "start_time": "2022-04-05T20:40:10.257Z"
   },
   {
    "duration": 42,
    "start_time": "2022-04-05T20:40:36.868Z"
   },
   {
    "duration": 796,
    "start_time": "2022-04-05T20:41:51.665Z"
   },
   {
    "duration": 88,
    "start_time": "2022-04-05T20:41:53.513Z"
   },
   {
    "duration": 155,
    "start_time": "2022-04-05T20:42:30.168Z"
   },
   {
    "duration": 157,
    "start_time": "2022-04-05T20:42:53.499Z"
   },
   {
    "duration": 94,
    "start_time": "2022-04-05T20:43:01.129Z"
   },
   {
    "duration": 8,
    "start_time": "2022-04-05T20:47:48.823Z"
   },
   {
    "duration": 10,
    "start_time": "2022-04-05T20:47:55.969Z"
   },
   {
    "duration": 7,
    "start_time": "2022-04-05T20:48:05.179Z"
   },
   {
    "duration": 173,
    "start_time": "2022-04-05T20:52:45.839Z"
   },
   {
    "duration": 68,
    "start_time": "2022-04-05T20:52:55.068Z"
   },
   {
    "duration": 1157,
    "start_time": "2022-04-06T05:33:10.386Z"
   },
   {
    "duration": 671,
    "start_time": "2022-04-06T05:33:13.116Z"
   },
   {
    "duration": 73,
    "start_time": "2022-04-06T05:33:14.052Z"
   },
   {
    "duration": 4,
    "start_time": "2022-04-06T05:41:28.622Z"
   },
   {
    "duration": 5,
    "start_time": "2022-04-06T05:41:41.585Z"
   },
   {
    "duration": 5,
    "start_time": "2022-04-06T05:41:55.910Z"
   },
   {
    "duration": 4,
    "start_time": "2022-04-06T05:42:00.206Z"
   },
   {
    "duration": 4,
    "start_time": "2022-04-06T05:42:03.450Z"
   },
   {
    "duration": 5,
    "start_time": "2022-04-06T05:42:09.429Z"
   },
   {
    "duration": 100,
    "start_time": "2022-04-06T05:42:18.582Z"
   },
   {
    "duration": 4,
    "start_time": "2022-04-06T05:42:21.377Z"
   },
   {
    "duration": 5,
    "start_time": "2022-04-06T05:42:26.999Z"
   },
   {
    "duration": 9,
    "start_time": "2022-04-06T05:42:57.389Z"
   },
   {
    "duration": 9,
    "start_time": "2022-04-06T05:43:02.676Z"
   },
   {
    "duration": 5,
    "start_time": "2022-04-06T05:43:12.015Z"
   },
   {
    "duration": 4,
    "start_time": "2022-04-06T05:44:31.864Z"
   },
   {
    "duration": 101,
    "start_time": "2022-04-06T05:45:15.715Z"
   },
   {
    "duration": 92,
    "start_time": "2022-04-06T05:45:20.455Z"
   },
   {
    "duration": 8,
    "start_time": "2022-04-06T05:45:24.578Z"
   },
   {
    "duration": 4,
    "start_time": "2022-04-06T05:45:44.451Z"
   },
   {
    "duration": 5,
    "start_time": "2022-04-06T05:47:18.445Z"
   },
   {
    "duration": 10,
    "start_time": "2022-04-06T06:31:19.204Z"
   },
   {
    "duration": 653,
    "start_time": "2022-04-06T06:32:11.238Z"
   },
   {
    "duration": 662,
    "start_time": "2022-04-06T06:32:23.233Z"
   },
   {
    "duration": 628,
    "start_time": "2022-04-06T06:32:24.612Z"
   },
   {
    "duration": 61,
    "start_time": "2022-04-06T06:32:29.866Z"
   },
   {
    "duration": 8,
    "start_time": "2022-04-06T06:42:52.297Z"
   },
   {
    "duration": 1657,
    "start_time": "2022-04-06T06:42:58.591Z"
   },
   {
    "duration": 1516,
    "start_time": "2022-04-06T15:11:07.817Z"
   },
   {
    "duration": 3,
    "start_time": "2022-04-06T15:11:12.290Z"
   },
   {
    "duration": 679,
    "start_time": "2022-04-06T15:11:14.973Z"
   },
   {
    "duration": 1410,
    "start_time": "2022-04-06T15:11:16.837Z"
   },
   {
    "duration": 714,
    "start_time": "2022-04-06T15:12:11.685Z"
   },
   {
    "duration": 16,
    "start_time": "2022-04-06T15:12:14.205Z"
   },
   {
    "duration": 9,
    "start_time": "2022-04-06T15:13:27.150Z"
   },
   {
    "duration": 7,
    "start_time": "2022-04-06T15:18:41.539Z"
   },
   {
    "duration": 9,
    "start_time": "2022-04-06T15:18:56.065Z"
   },
   {
    "duration": 9,
    "start_time": "2022-04-06T15:19:03.688Z"
   },
   {
    "duration": 1504,
    "start_time": "2022-04-06T18:00:22.368Z"
   },
   {
    "duration": 4,
    "start_time": "2022-04-06T18:00:24.652Z"
   },
   {
    "duration": 4,
    "start_time": "2022-04-06T18:00:24.967Z"
   },
   {
    "duration": 4,
    "start_time": "2022-04-06T18:00:26.481Z"
   },
   {
    "duration": 753,
    "start_time": "2022-04-06T18:00:27.519Z"
   },
   {
    "duration": 20,
    "start_time": "2022-04-06T18:00:28.275Z"
   },
   {
    "duration": 3,
    "start_time": "2022-04-06T18:00:34.938Z"
   },
   {
    "duration": 744,
    "start_time": "2022-04-06T18:00:36.625Z"
   },
   {
    "duration": 2383,
    "start_time": "2022-04-06T18:00:45.814Z"
   },
   {
    "duration": 12,
    "start_time": "2022-04-06T18:00:55.843Z"
   },
   {
    "duration": 1615,
    "start_time": "2022-04-06T18:01:45.572Z"
   },
   {
    "duration": 1527,
    "start_time": "2022-04-06T18:01:59.889Z"
   },
   {
    "duration": 8,
    "start_time": "2022-04-06T18:03:40.916Z"
   },
   {
    "duration": 12,
    "start_time": "2022-04-06T18:03:51.764Z"
   },
   {
    "duration": 11,
    "start_time": "2022-04-06T18:05:03.276Z"
   },
   {
    "duration": 12,
    "start_time": "2022-04-06T18:05:11.010Z"
   },
   {
    "duration": 16,
    "start_time": "2022-04-06T18:07:43.990Z"
   },
   {
    "duration": 15,
    "start_time": "2022-04-06T18:07:56.591Z"
   },
   {
    "duration": 12,
    "start_time": "2022-04-06T18:08:10.937Z"
   },
   {
    "duration": 14,
    "start_time": "2022-04-06T18:08:15.483Z"
   },
   {
    "duration": 13,
    "start_time": "2022-04-06T18:08:36.853Z"
   },
   {
    "duration": 13,
    "start_time": "2022-04-06T18:08:51.243Z"
   },
   {
    "duration": 12,
    "start_time": "2022-04-06T18:16:05.445Z"
   },
   {
    "duration": 13,
    "start_time": "2022-04-06T18:16:21.476Z"
   },
   {
    "duration": 4,
    "start_time": "2022-04-06T18:16:35.260Z"
   },
   {
    "duration": 11,
    "start_time": "2022-04-06T18:16:39.048Z"
   },
   {
    "duration": 8,
    "start_time": "2022-04-06T18:17:01.576Z"
   },
   {
    "duration": 767,
    "start_time": "2022-04-06T18:18:56.560Z"
   },
   {
    "duration": 787,
    "start_time": "2022-04-06T18:19:00.404Z"
   },
   {
    "duration": 116,
    "start_time": "2022-04-06T18:19:01.194Z"
   },
   {
    "duration": 3,
    "start_time": "2022-04-06T18:19:03.118Z"
   },
   {
    "duration": 4,
    "start_time": "2022-04-06T18:19:03.906Z"
   },
   {
    "duration": 12,
    "start_time": "2022-04-06T18:19:04.403Z"
   },
   {
    "duration": 7,
    "start_time": "2022-04-06T18:19:05.527Z"
   },
   {
    "duration": 6,
    "start_time": "2022-04-06T18:19:07.713Z"
   },
   {
    "duration": 12,
    "start_time": "2022-04-06T18:19:17.258Z"
   },
   {
    "duration": 9,
    "start_time": "2022-04-06T18:19:18.082Z"
   },
   {
    "duration": 43,
    "start_time": "2022-04-06T19:55:41.683Z"
   },
   {
    "duration": 7,
    "start_time": "2022-04-06T19:55:56.734Z"
   },
   {
    "duration": 1128,
    "start_time": "2022-04-06T19:55:58.957Z"
   },
   {
    "duration": 570,
    "start_time": "2022-04-06T19:56:02.746Z"
   },
   {
    "duration": 620,
    "start_time": "2022-04-06T19:56:03.784Z"
   },
   {
    "duration": 595,
    "start_time": "2022-04-06T19:56:05.250Z"
   },
   {
    "duration": 59,
    "start_time": "2022-04-06T19:56:05.847Z"
   },
   {
    "duration": 2,
    "start_time": "2022-04-06T19:56:06.461Z"
   },
   {
    "duration": 3,
    "start_time": "2022-04-06T19:56:06.628Z"
   },
   {
    "duration": 8,
    "start_time": "2022-04-06T19:56:06.824Z"
   },
   {
    "duration": 6,
    "start_time": "2022-04-06T19:56:07.512Z"
   },
   {
    "duration": 4,
    "start_time": "2022-04-06T19:56:07.607Z"
   },
   {
    "duration": 9,
    "start_time": "2022-04-06T19:56:08.790Z"
   },
   {
    "duration": 7,
    "start_time": "2022-04-06T19:56:09.042Z"
   },
   {
    "duration": 12,
    "start_time": "2022-04-06T19:56:10.152Z"
   },
   {
    "duration": 17,
    "start_time": "2022-04-06T19:58:11.238Z"
   },
   {
    "duration": 25,
    "start_time": "2022-04-06T19:58:24.646Z"
   },
   {
    "duration": 18,
    "start_time": "2022-04-06T19:59:08.700Z"
   },
   {
    "duration": 28,
    "start_time": "2022-04-06T19:59:48.262Z"
   },
   {
    "duration": 17,
    "start_time": "2022-04-06T19:59:54.959Z"
   },
   {
    "duration": 33,
    "start_time": "2022-04-06T20:03:23.331Z"
   },
   {
    "duration": 9,
    "start_time": "2022-04-06T20:10:33.934Z"
   },
   {
    "duration": 15,
    "start_time": "2022-04-06T20:10:38.664Z"
   },
   {
    "duration": 6,
    "start_time": "2022-04-06T20:10:48.566Z"
   },
   {
    "duration": 5,
    "start_time": "2022-04-06T20:12:22.600Z"
   },
   {
    "duration": 18,
    "start_time": "2022-04-06T20:12:26.245Z"
   },
   {
    "duration": 8,
    "start_time": "2022-04-06T20:12:33.286Z"
   },
   {
    "duration": 72,
    "start_time": "2022-04-07T06:13:21.416Z"
   },
   {
    "duration": 1465,
    "start_time": "2022-04-07T06:14:00.033Z"
   },
   {
    "duration": 896,
    "start_time": "2022-04-07T06:14:01.501Z"
   },
   {
    "duration": 117,
    "start_time": "2022-04-07T06:14:02.400Z"
   },
   {
    "duration": 4,
    "start_time": "2022-04-07T06:14:02.520Z"
   },
   {
    "duration": 22,
    "start_time": "2022-04-07T06:14:02.527Z"
   },
   {
    "duration": 13,
    "start_time": "2022-04-07T06:14:02.551Z"
   },
   {
    "duration": 8,
    "start_time": "2022-04-07T06:14:02.584Z"
   },
   {
    "duration": 18,
    "start_time": "2022-04-07T06:14:02.593Z"
   },
   {
    "duration": 14,
    "start_time": "2022-04-07T06:14:02.613Z"
   },
   {
    "duration": 82,
    "start_time": "2022-04-07T06:14:02.631Z"
   },
   {
    "duration": 18,
    "start_time": "2022-04-07T06:14:02.715Z"
   },
   {
    "duration": 10,
    "start_time": "2022-04-07T06:14:02.735Z"
   },
   {
    "duration": 39,
    "start_time": "2022-04-07T06:14:02.747Z"
   },
   {
    "duration": 2240,
    "start_time": "2022-04-07T06:14:10.000Z"
   },
   {
    "duration": 8,
    "start_time": "2022-04-07T06:14:40.598Z"
   },
   {
    "duration": 9,
    "start_time": "2022-04-07T06:15:04.421Z"
   },
   {
    "duration": 1245,
    "start_time": "2022-04-07T06:15:47.912Z"
   },
   {
    "duration": 205,
    "start_time": "2022-04-07T06:16:01.955Z"
   },
   {
    "duration": 231,
    "start_time": "2022-04-07T06:16:57.871Z"
   },
   {
    "duration": 122,
    "start_time": "2022-04-07T06:43:09.707Z"
   },
   {
    "duration": 42,
    "start_time": "2022-04-07T09:18:03.248Z"
   },
   {
    "duration": 5,
    "start_time": "2022-04-07T09:18:05.508Z"
   },
   {
    "duration": 798,
    "start_time": "2022-04-07T09:18:05.859Z"
   },
   {
    "duration": 97,
    "start_time": "2022-04-07T09:18:06.659Z"
   },
   {
    "duration": 4,
    "start_time": "2022-04-07T09:18:06.758Z"
   },
   {
    "duration": 7,
    "start_time": "2022-04-07T09:18:06.785Z"
   },
   {
    "duration": 8,
    "start_time": "2022-04-07T09:18:07.034Z"
   },
   {
    "duration": 6,
    "start_time": "2022-04-07T09:18:07.500Z"
   },
   {
    "duration": 13,
    "start_time": "2022-04-07T09:18:08.839Z"
   },
   {
    "duration": 10,
    "start_time": "2022-04-07T09:18:09.173Z"
   },
   {
    "duration": 54,
    "start_time": "2022-04-07T09:18:11.369Z"
   },
   {
    "duration": 18,
    "start_time": "2022-04-07T09:18:12.800Z"
   },
   {
    "duration": 10,
    "start_time": "2022-04-07T09:18:14.280Z"
   },
   {
    "duration": 10,
    "start_time": "2022-04-07T09:18:14.442Z"
   },
   {
    "duration": 142,
    "start_time": "2022-04-07T09:22:37.041Z"
   },
   {
    "duration": 12,
    "start_time": "2022-04-07T09:22:40.364Z"
   },
   {
    "duration": 12,
    "start_time": "2022-04-07T09:22:41.515Z"
   },
   {
    "duration": 417,
    "start_time": "2022-04-07T09:22:42.377Z"
   },
   {
    "duration": 456,
    "start_time": "2022-04-07T09:23:20.049Z"
   },
   {
    "duration": 459,
    "start_time": "2022-04-07T09:24:24.849Z"
   },
   {
    "duration": 150,
    "start_time": "2022-04-07T09:24:50.292Z"
   },
   {
    "duration": 14,
    "start_time": "2022-04-07T09:25:08.149Z"
   },
   {
    "duration": 451,
    "start_time": "2022-04-07T09:25:25.055Z"
   },
   {
    "duration": 1246,
    "start_time": "2022-04-07T09:27:42.662Z"
   },
   {
    "duration": 22,
    "start_time": "2022-04-07T09:27:52.641Z"
   },
   {
    "duration": 1301,
    "start_time": "2022-04-07T09:28:08.500Z"
   },
   {
    "duration": 1187,
    "start_time": "2022-04-07T09:29:14.807Z"
   },
   {
    "duration": 12,
    "start_time": "2022-04-07T09:34:18.947Z"
   },
   {
    "duration": 8,
    "start_time": "2022-04-07T09:34:21.724Z"
   },
   {
    "duration": 1681,
    "start_time": "2022-04-07T09:37:08.652Z"
   },
   {
    "duration": 1889,
    "start_time": "2022-04-07T09:37:23.005Z"
   },
   {
    "duration": 1704,
    "start_time": "2022-04-07T09:38:16.833Z"
   },
   {
    "duration": 1809,
    "start_time": "2022-04-07T09:38:26.396Z"
   },
   {
    "duration": 1956,
    "start_time": "2022-04-07T09:38:37.056Z"
   },
   {
    "duration": 1806,
    "start_time": "2022-04-07T09:38:46.593Z"
   },
   {
    "duration": 493,
    "start_time": "2022-04-07T09:39:32.553Z"
   },
   {
    "duration": 1839,
    "start_time": "2022-04-07T09:39:41.971Z"
   },
   {
    "duration": 1831,
    "start_time": "2022-04-07T09:39:54.956Z"
   },
   {
    "duration": 1827,
    "start_time": "2022-04-07T09:39:59.395Z"
   },
   {
    "duration": 144,
    "start_time": "2022-04-07T09:42:22.027Z"
   },
   {
    "duration": 211,
    "start_time": "2022-04-07T09:43:03.098Z"
   },
   {
    "duration": 199,
    "start_time": "2022-04-07T09:43:12.646Z"
   },
   {
    "duration": 255,
    "start_time": "2022-04-07T09:43:28.790Z"
   },
   {
    "duration": 410,
    "start_time": "2022-04-07T09:43:35.320Z"
   },
   {
    "duration": 11,
    "start_time": "2022-04-07T09:45:34.465Z"
   },
   {
    "duration": 12,
    "start_time": "2022-04-07T09:46:05.405Z"
   },
   {
    "duration": 15,
    "start_time": "2022-04-07T09:48:46.523Z"
   },
   {
    "duration": 1871,
    "start_time": "2022-04-07T09:48:47.757Z"
   },
   {
    "duration": 3149,
    "start_time": "2022-04-07T10:40:00.337Z"
   },
   {
    "duration": 5,
    "start_time": "2022-04-07T10:43:22.996Z"
   },
   {
    "duration": 3295,
    "start_time": "2022-04-07T10:43:24.449Z"
   },
   {
    "duration": 18,
    "start_time": "2022-04-07T10:44:05.103Z"
   },
   {
    "duration": 15,
    "start_time": "2022-04-07T10:44:06.425Z"
   },
   {
    "duration": 143,
    "start_time": "2022-04-07T10:45:23.750Z"
   },
   {
    "duration": 147,
    "start_time": "2022-04-07T10:45:32.136Z"
   },
   {
    "duration": 2175,
    "start_time": "2022-04-07T10:45:37.161Z"
   },
   {
    "duration": 2360,
    "start_time": "2022-04-07T10:47:05.976Z"
   },
   {
    "duration": 16,
    "start_time": "2022-04-07T10:47:27.086Z"
   },
   {
    "duration": 17,
    "start_time": "2022-04-07T10:47:41.429Z"
   },
   {
    "duration": 2192,
    "start_time": "2022-04-07T10:47:55.981Z"
   },
   {
    "duration": 19,
    "start_time": "2022-04-07T10:49:30.456Z"
   },
   {
    "duration": 11,
    "start_time": "2022-04-07T10:49:51.194Z"
   },
   {
    "duration": 16,
    "start_time": "2022-04-07T10:50:02.553Z"
   },
   {
    "duration": 9,
    "start_time": "2022-04-07T10:50:37.047Z"
   },
   {
    "duration": 1088,
    "start_time": "2022-04-07T10:51:26.535Z"
   },
   {
    "duration": 14,
    "start_time": "2022-04-07T10:53:12.427Z"
   },
   {
    "duration": 8,
    "start_time": "2022-04-07T10:53:25.941Z"
   },
   {
    "duration": 305,
    "start_time": "2022-04-07T10:53:26.193Z"
   },
   {
    "duration": 300,
    "start_time": "2022-04-07T10:53:26.538Z"
   },
   {
    "duration": 17,
    "start_time": "2022-04-07T10:53:28.304Z"
   },
   {
    "duration": 1823,
    "start_time": "2022-04-07T10:53:29.260Z"
   },
   {
    "duration": 2051,
    "start_time": "2022-04-07T10:56:32.154Z"
   },
   {
    "duration": 13,
    "start_time": "2022-04-07T11:01:50.249Z"
   },
   {
    "duration": 3108,
    "start_time": "2022-04-07T11:04:39.142Z"
   },
   {
    "duration": 1823,
    "start_time": "2022-04-07T11:07:10.523Z"
   },
   {
    "duration": 19,
    "start_time": "2022-04-07T11:08:03.916Z"
   },
   {
    "duration": 272,
    "start_time": "2022-04-07T11:08:43.815Z"
   },
   {
    "duration": 296,
    "start_time": "2022-04-07T11:08:57.269Z"
   },
   {
    "duration": 5,
    "start_time": "2022-04-07T11:13:32.768Z"
   },
   {
    "duration": 8,
    "start_time": "2022-04-07T11:17:49.648Z"
   },
   {
    "duration": 71,
    "start_time": "2022-04-07T11:21:10.984Z"
   },
   {
    "duration": 3019,
    "start_time": "2022-04-07T11:21:13.895Z"
   },
   {
    "duration": 14,
    "start_time": "2022-04-07T11:21:17.614Z"
   },
   {
    "duration": 1235,
    "start_time": "2022-04-07T11:21:19.093Z"
   },
   {
    "duration": 14,
    "start_time": "2022-04-07T11:21:45.885Z"
   },
   {
    "duration": 999,
    "start_time": "2022-04-07T11:21:46.894Z"
   },
   {
    "duration": 5,
    "start_time": "2022-04-07T11:22:22.945Z"
   },
   {
    "duration": 807,
    "start_time": "2022-04-07T11:22:22.953Z"
   },
   {
    "duration": 102,
    "start_time": "2022-04-07T11:22:23.762Z"
   },
   {
    "duration": 4,
    "start_time": "2022-04-07T11:22:23.885Z"
   },
   {
    "duration": 12,
    "start_time": "2022-04-07T11:22:23.892Z"
   },
   {
    "duration": 11,
    "start_time": "2022-04-07T11:22:23.906Z"
   },
   {
    "duration": 6,
    "start_time": "2022-04-07T11:22:23.919Z"
   },
   {
    "duration": 21,
    "start_time": "2022-04-07T11:22:23.928Z"
   },
   {
    "duration": 36,
    "start_time": "2022-04-07T11:22:23.951Z"
   },
   {
    "duration": 54,
    "start_time": "2022-04-07T11:22:23.990Z"
   },
   {
    "duration": 165,
    "start_time": "2022-04-07T11:22:24.047Z"
   },
   {
    "duration": 14,
    "start_time": "2022-04-07T11:22:32.241Z"
   },
   {
    "duration": 995,
    "start_time": "2022-04-07T11:22:33.095Z"
   },
   {
    "duration": 1048,
    "start_time": "2022-04-07T11:23:08.661Z"
   },
   {
    "duration": 29,
    "start_time": "2022-04-07T11:23:15.424Z"
   },
   {
    "duration": 9,
    "start_time": "2022-04-07T11:23:45.032Z"
   },
   {
    "duration": 1176,
    "start_time": "2022-04-07T11:23:45.908Z"
   },
   {
    "duration": 3238,
    "start_time": "2022-04-07T11:23:51.277Z"
   },
   {
    "duration": 70,
    "start_time": "2022-04-07T11:24:11.821Z"
   },
   {
    "duration": 3248,
    "start_time": "2022-04-07T11:24:15.199Z"
   },
   {
    "duration": 1948,
    "start_time": "2022-04-07T11:24:24.461Z"
   },
   {
    "duration": 299,
    "start_time": "2022-04-07T11:24:30.149Z"
   },
   {
    "duration": 13,
    "start_time": "2022-04-07T11:24:40.379Z"
   },
   {
    "duration": 1815,
    "start_time": "2022-04-07T11:24:41.129Z"
   },
   {
    "duration": 1871,
    "start_time": "2022-04-07T11:24:47.905Z"
   },
   {
    "duration": 1811,
    "start_time": "2022-04-07T11:24:51.201Z"
   },
   {
    "duration": 34,
    "start_time": "2022-04-07T12:16:53.130Z"
   },
   {
    "duration": 484,
    "start_time": "2022-04-07T12:25:06.555Z"
   },
   {
    "duration": 566,
    "start_time": "2022-04-07T12:25:26.267Z"
   },
   {
    "duration": 540,
    "start_time": "2022-04-07T12:28:09.408Z"
   },
   {
    "duration": 181,
    "start_time": "2022-04-07T12:42:59.320Z"
   },
   {
    "duration": 562,
    "start_time": "2022-04-07T12:43:34.735Z"
   },
   {
    "duration": 312,
    "start_time": "2022-04-07T12:44:00.150Z"
   },
   {
    "duration": 636,
    "start_time": "2022-04-07T12:44:11.483Z"
   },
   {
    "duration": 8,
    "start_time": "2022-04-07T12:55:52.789Z"
   },
   {
    "duration": 7,
    "start_time": "2022-04-07T12:56:01.161Z"
   },
   {
    "duration": 22,
    "start_time": "2022-04-07T13:19:05.210Z"
   },
   {
    "duration": 47,
    "start_time": "2022-04-07T14:23:32.318Z"
   },
   {
    "duration": 1574,
    "start_time": "2022-04-07T14:23:42.426Z"
   },
   {
    "duration": 623,
    "start_time": "2022-04-07T14:23:44.002Z"
   },
   {
    "duration": 57,
    "start_time": "2022-04-07T14:23:44.627Z"
   },
   {
    "duration": 3,
    "start_time": "2022-04-07T14:23:44.686Z"
   },
   {
    "duration": 10,
    "start_time": "2022-04-07T14:23:44.691Z"
   },
   {
    "duration": 5,
    "start_time": "2022-04-07T14:23:44.703Z"
   },
   {
    "duration": 5,
    "start_time": "2022-04-07T14:23:44.709Z"
   },
   {
    "duration": 15,
    "start_time": "2022-04-07T14:23:44.715Z"
   },
   {
    "duration": 33,
    "start_time": "2022-04-07T14:23:44.731Z"
   },
   {
    "duration": 80,
    "start_time": "2022-04-07T14:23:44.765Z"
   },
   {
    "duration": 5,
    "start_time": "2022-04-07T14:23:44.846Z"
   },
   {
    "duration": 1612,
    "start_time": "2022-04-07T14:23:44.853Z"
   },
   {
    "duration": 9,
    "start_time": "2022-04-07T14:23:46.467Z"
   },
   {
    "duration": 841,
    "start_time": "2022-04-07T14:23:46.478Z"
   },
   {
    "duration": 13,
    "start_time": "2022-04-07T14:23:47.321Z"
   },
   {
    "duration": 395,
    "start_time": "2022-04-07T14:23:47.335Z"
   },
   {
    "duration": 102,
    "start_time": "2022-04-07T14:23:47.732Z"
   },
   {
    "duration": 1811,
    "start_time": "2022-04-07T14:23:47.835Z"
   },
   {
    "duration": 1663,
    "start_time": "2022-04-07T14:24:08.769Z"
   },
   {
    "duration": 11,
    "start_time": "2022-04-07T14:24:21.851Z"
   },
   {
    "duration": 7,
    "start_time": "2022-04-07T14:25:01.937Z"
   },
   {
    "duration": 3,
    "start_time": "2022-04-07T14:31:11.857Z"
   },
   {
    "duration": 11,
    "start_time": "2022-04-07T14:31:22.579Z"
   },
   {
    "duration": 4,
    "start_time": "2022-04-07T14:31:27.482Z"
   },
   {
    "duration": 3,
    "start_time": "2022-04-07T14:31:27.891Z"
   },
   {
    "duration": 11,
    "start_time": "2022-04-07T14:32:19.189Z"
   },
   {
    "duration": 12,
    "start_time": "2022-04-07T14:36:59.700Z"
   },
   {
    "duration": 7,
    "start_time": "2022-04-07T14:37:04.302Z"
   },
   {
    "duration": 3,
    "start_time": "2022-04-07T14:37:51.606Z"
   },
   {
    "duration": 17,
    "start_time": "2022-04-07T14:37:52.019Z"
   },
   {
    "duration": 8,
    "start_time": "2022-04-07T14:37:53.339Z"
   },
   {
    "duration": 3,
    "start_time": "2022-04-07T14:38:03.999Z"
   },
   {
    "duration": 6,
    "start_time": "2022-04-07T14:38:04.326Z"
   },
   {
    "duration": 7,
    "start_time": "2022-04-07T14:38:05.019Z"
   },
   {
    "duration": 7,
    "start_time": "2022-04-07T14:38:28.388Z"
   },
   {
    "duration": 6,
    "start_time": "2022-04-07T14:38:28.845Z"
   },
   {
    "duration": 18,
    "start_time": "2022-04-07T14:39:07.713Z"
   },
   {
    "duration": 6,
    "start_time": "2022-04-07T14:39:08.051Z"
   },
   {
    "duration": 3,
    "start_time": "2022-04-07T14:39:33.816Z"
   },
   {
    "duration": 2,
    "start_time": "2022-04-07T14:39:40.422Z"
   },
   {
    "duration": 5,
    "start_time": "2022-04-07T14:39:46.603Z"
   },
   {
    "duration": 15,
    "start_time": "2022-04-07T14:39:54.655Z"
   },
   {
    "duration": 12,
    "start_time": "2022-04-07T14:40:42.187Z"
   },
   {
    "duration": 7,
    "start_time": "2022-04-07T14:40:45.264Z"
   },
   {
    "duration": 3,
    "start_time": "2022-04-07T14:44:20.567Z"
   },
   {
    "duration": 5,
    "start_time": "2022-04-07T14:44:54.034Z"
   },
   {
    "duration": 3,
    "start_time": "2022-04-07T14:45:17.563Z"
   },
   {
    "duration": 6,
    "start_time": "2022-04-07T14:45:18.231Z"
   },
   {
    "duration": 1639,
    "start_time": "2022-04-07T14:46:39.716Z"
   },
   {
    "duration": 3,
    "start_time": "2022-04-07T14:47:21.988Z"
   },
   {
    "duration": 13,
    "start_time": "2022-04-07T14:47:24.434Z"
   },
   {
    "duration": 6,
    "start_time": "2022-04-07T14:48:53.801Z"
   },
   {
    "duration": 7,
    "start_time": "2022-04-07T14:48:55.407Z"
   },
   {
    "duration": 5,
    "start_time": "2022-04-07T14:49:00.655Z"
   },
   {
    "duration": 8,
    "start_time": "2022-04-07T14:49:01.368Z"
   },
   {
    "duration": 8,
    "start_time": "2022-04-07T14:49:01.945Z"
   },
   {
    "duration": 11,
    "start_time": "2022-04-07T14:49:18.916Z"
   },
   {
    "duration": 11,
    "start_time": "2022-04-07T14:50:03.278Z"
   },
   {
    "duration": 10,
    "start_time": "2022-04-07T14:50:08.220Z"
   },
   {
    "duration": 10,
    "start_time": "2022-04-07T14:50:27.180Z"
   },
   {
    "duration": 10,
    "start_time": "2022-04-07T14:50:34.133Z"
   },
   {
    "duration": 10,
    "start_time": "2022-04-07T14:50:38.182Z"
   },
   {
    "duration": 10,
    "start_time": "2022-04-07T14:52:03.590Z"
   },
   {
    "duration": 11,
    "start_time": "2022-04-07T14:52:04.127Z"
   },
   {
    "duration": 11,
    "start_time": "2022-04-07T14:52:09.132Z"
   },
   {
    "duration": 291,
    "start_time": "2022-04-07T14:52:40.749Z"
   },
   {
    "duration": 8,
    "start_time": "2022-04-07T14:54:20.620Z"
   },
   {
    "duration": 527,
    "start_time": "2022-04-07T14:54:30.541Z"
   },
   {
    "duration": 613,
    "start_time": "2022-04-07T14:55:47.002Z"
   },
   {
    "duration": 3,
    "start_time": "2022-04-07T16:32:42.194Z"
   },
   {
    "duration": 612,
    "start_time": "2022-04-07T16:32:42.199Z"
   },
   {
    "duration": 68,
    "start_time": "2022-04-07T16:32:42.813Z"
   },
   {
    "duration": 3,
    "start_time": "2022-04-07T16:32:42.883Z"
   },
   {
    "duration": 12,
    "start_time": "2022-04-07T16:32:42.887Z"
   },
   {
    "duration": 11,
    "start_time": "2022-04-07T16:32:42.901Z"
   },
   {
    "duration": 7,
    "start_time": "2022-04-07T16:32:42.913Z"
   },
   {
    "duration": 14,
    "start_time": "2022-04-07T16:32:42.921Z"
   },
   {
    "duration": 7,
    "start_time": "2022-04-07T16:32:42.938Z"
   },
   {
    "duration": 88,
    "start_time": "2022-04-07T16:32:42.946Z"
   },
   {
    "duration": 6,
    "start_time": "2022-04-07T16:32:43.035Z"
   },
   {
    "duration": 1697,
    "start_time": "2022-04-07T16:32:43.043Z"
   },
   {
    "duration": 9,
    "start_time": "2022-04-07T16:32:44.741Z"
   },
   {
    "duration": 831,
    "start_time": "2022-04-07T16:32:44.752Z"
   },
   {
    "duration": 13,
    "start_time": "2022-04-07T16:32:45.584Z"
   },
   {
    "duration": 428,
    "start_time": "2022-04-07T16:32:45.598Z"
   },
   {
    "duration": 116,
    "start_time": "2022-04-07T16:32:46.027Z"
   },
   {
    "duration": 4,
    "start_time": "2022-04-07T16:32:46.145Z"
   },
   {
    "duration": 20,
    "start_time": "2022-04-07T16:32:46.150Z"
   },
   {
    "duration": 505,
    "start_time": "2022-04-07T16:32:46.172Z"
   },
   {
    "duration": 7,
    "start_time": "2022-04-07T16:39:30.674Z"
   },
   {
    "duration": 21,
    "start_time": "2022-04-07T16:39:50.747Z"
   },
   {
    "duration": 12,
    "start_time": "2022-04-07T16:40:20.884Z"
   },
   {
    "duration": 13,
    "start_time": "2022-04-07T16:41:10.210Z"
   },
   {
    "duration": 13,
    "start_time": "2022-04-07T16:41:12.675Z"
   },
   {
    "duration": 14,
    "start_time": "2022-04-07T16:41:55.137Z"
   },
   {
    "duration": 14,
    "start_time": "2022-04-07T16:42:10.503Z"
   },
   {
    "duration": 9,
    "start_time": "2022-04-07T16:42:27.441Z"
   },
   {
    "duration": 6,
    "start_time": "2022-04-07T16:42:33.166Z"
   },
   {
    "duration": 5,
    "start_time": "2022-04-07T16:42:37.781Z"
   },
   {
    "duration": 12,
    "start_time": "2022-04-07T16:42:41.750Z"
   },
   {
    "duration": 5,
    "start_time": "2022-04-07T16:43:00.325Z"
   },
   {
    "duration": 12,
    "start_time": "2022-04-07T16:43:00.930Z"
   },
   {
    "duration": 3,
    "start_time": "2022-04-07T16:50:35.019Z"
   },
   {
    "duration": 420,
    "start_time": "2022-04-07T16:50:53.431Z"
   },
   {
    "duration": 15,
    "start_time": "2022-04-07T16:51:47.166Z"
   },
   {
    "duration": 800,
    "start_time": "2022-04-07T16:52:25.333Z"
   },
   {
    "duration": 12,
    "start_time": "2022-04-07T16:52:44.427Z"
   },
   {
    "duration": 9,
    "start_time": "2022-04-07T16:52:59.763Z"
   },
   {
    "duration": 6,
    "start_time": "2022-04-07T16:55:51.901Z"
   },
   {
    "duration": 9,
    "start_time": "2022-04-07T16:55:59.067Z"
   },
   {
    "duration": 8,
    "start_time": "2022-04-07T16:56:09.445Z"
   },
   {
    "duration": 110,
    "start_time": "2022-04-07T17:04:40.452Z"
   },
   {
    "duration": 3,
    "start_time": "2022-04-07T17:04:44.749Z"
   },
   {
    "duration": 9,
    "start_time": "2022-04-07T17:04:52.782Z"
   },
   {
    "duration": 12,
    "start_time": "2022-04-07T17:05:04.929Z"
   },
   {
    "duration": 26,
    "start_time": "2022-04-07T17:05:08.537Z"
   },
   {
    "duration": 3,
    "start_time": "2022-04-07T17:05:23.162Z"
   },
   {
    "duration": 4,
    "start_time": "2022-04-07T17:05:36.652Z"
   },
   {
    "duration": 10,
    "start_time": "2022-04-07T17:06:13.404Z"
   },
   {
    "duration": 10,
    "start_time": "2022-04-07T17:06:38.947Z"
   },
   {
    "duration": 25,
    "start_time": "2022-04-07T17:29:56.795Z"
   },
   {
    "duration": 28,
    "start_time": "2022-04-07T17:30:56.468Z"
   },
   {
    "duration": 6,
    "start_time": "2022-04-07T17:31:08.960Z"
   },
   {
    "duration": 17,
    "start_time": "2022-04-07T17:34:03.386Z"
   },
   {
    "duration": 15,
    "start_time": "2022-04-07T17:36:28.462Z"
   },
   {
    "duration": 24,
    "start_time": "2022-04-07T17:36:52.287Z"
   },
   {
    "duration": 25,
    "start_time": "2022-04-07T17:37:26.372Z"
   },
   {
    "duration": 14,
    "start_time": "2022-04-07T17:38:45.734Z"
   },
   {
    "duration": 14,
    "start_time": "2022-04-07T17:38:57.641Z"
   },
   {
    "duration": 22,
    "start_time": "2022-04-07T17:40:06.468Z"
   },
   {
    "duration": 14,
    "start_time": "2022-04-07T17:40:28.461Z"
   },
   {
    "duration": 27,
    "start_time": "2022-04-07T17:41:51.016Z"
   },
   {
    "duration": 14,
    "start_time": "2022-04-07T17:41:57.216Z"
   },
   {
    "duration": 25,
    "start_time": "2022-04-07T17:42:17.465Z"
   },
   {
    "duration": 12,
    "start_time": "2022-04-07T17:42:28.757Z"
   },
   {
    "duration": 13,
    "start_time": "2022-04-07T17:42:42.809Z"
   },
   {
    "duration": 16,
    "start_time": "2022-04-07T17:45:18.914Z"
   },
   {
    "duration": 10,
    "start_time": "2022-04-07T17:45:39.400Z"
   },
   {
    "duration": 11,
    "start_time": "2022-04-07T17:45:56.899Z"
   },
   {
    "duration": 19,
    "start_time": "2022-04-07T17:46:06.317Z"
   },
   {
    "duration": 19,
    "start_time": "2022-04-07T17:46:17.711Z"
   },
   {
    "duration": 1591,
    "start_time": "2022-04-07T17:47:54.173Z"
   },
   {
    "duration": 13,
    "start_time": "2022-04-07T17:48:01.989Z"
   },
   {
    "duration": 24,
    "start_time": "2022-04-07T17:48:05.531Z"
   },
   {
    "duration": 12,
    "start_time": "2022-04-07T17:48:16.561Z"
   },
   {
    "duration": 101,
    "start_time": "2022-04-07T17:49:28.234Z"
   },
   {
    "duration": 3,
    "start_time": "2022-04-07T17:50:10.512Z"
   },
   {
    "duration": 663,
    "start_time": "2022-04-07T17:50:10.517Z"
   },
   {
    "duration": 55,
    "start_time": "2022-04-07T17:50:11.182Z"
   },
   {
    "duration": 3,
    "start_time": "2022-04-07T17:50:11.239Z"
   },
   {
    "duration": 6,
    "start_time": "2022-04-07T17:50:11.262Z"
   },
   {
    "duration": 6,
    "start_time": "2022-04-07T17:50:11.269Z"
   },
   {
    "duration": 4,
    "start_time": "2022-04-07T17:50:11.277Z"
   },
   {
    "duration": 10,
    "start_time": "2022-04-07T17:50:11.283Z"
   },
   {
    "duration": 7,
    "start_time": "2022-04-07T17:50:11.296Z"
   },
   {
    "duration": 98,
    "start_time": "2022-04-07T17:50:11.304Z"
   },
   {
    "duration": 6,
    "start_time": "2022-04-07T17:50:11.404Z"
   },
   {
    "duration": 7,
    "start_time": "2022-04-07T17:50:11.412Z"
   },
   {
    "duration": 1694,
    "start_time": "2022-04-07T17:50:11.420Z"
   },
   {
    "duration": 8,
    "start_time": "2022-04-07T17:50:13.116Z"
   },
   {
    "duration": 976,
    "start_time": "2022-04-07T17:50:13.125Z"
   },
   {
    "duration": 11,
    "start_time": "2022-04-07T17:50:14.103Z"
   },
   {
    "duration": 321,
    "start_time": "2022-04-07T17:50:14.116Z"
   },
   {
    "duration": 112,
    "start_time": "2022-04-07T17:50:14.439Z"
   },
   {
    "duration": 12,
    "start_time": "2022-04-07T17:50:14.552Z"
   },
   {
    "duration": 14,
    "start_time": "2022-04-07T17:50:14.565Z"
   },
   {
    "duration": 518,
    "start_time": "2022-04-07T17:50:14.580Z"
   },
   {
    "duration": 5,
    "start_time": "2022-04-07T17:50:15.100Z"
   },
   {
    "duration": 9,
    "start_time": "2022-04-07T17:50:15.106Z"
   },
   {
    "duration": 16,
    "start_time": "2022-04-07T17:50:15.117Z"
   },
   {
    "duration": 3,
    "start_time": "2022-04-07T17:50:15.135Z"
   },
   {
    "duration": 5,
    "start_time": "2022-04-07T17:50:15.139Z"
   },
   {
    "duration": 14,
    "start_time": "2022-04-07T17:50:15.162Z"
   },
   {
    "duration": 14,
    "start_time": "2022-04-07T17:50:15.177Z"
   },
   {
    "duration": 12,
    "start_time": "2022-04-07T17:50:29.432Z"
   },
   {
    "duration": 817,
    "start_time": "2022-04-07T17:50:38.035Z"
   },
   {
    "duration": 128,
    "start_time": "2022-04-07T17:51:05.381Z"
   },
   {
    "duration": 5,
    "start_time": "2022-04-07T17:51:41.306Z"
   },
   {
    "duration": 9,
    "start_time": "2022-04-07T17:56:10.281Z"
   },
   {
    "duration": 4,
    "start_time": "2022-04-07T17:56:58.613Z"
   },
   {
    "duration": 1567,
    "start_time": "2022-04-07T19:51:34.931Z"
   },
   {
    "duration": 652,
    "start_time": "2022-04-07T19:51:36.499Z"
   },
   {
    "duration": 76,
    "start_time": "2022-04-07T19:51:37.152Z"
   },
   {
    "duration": 3,
    "start_time": "2022-04-07T19:51:37.230Z"
   },
   {
    "duration": 77,
    "start_time": "2022-04-07T19:51:37.235Z"
   },
   {
    "duration": 63,
    "start_time": "2022-04-07T19:51:37.313Z"
   },
   {
    "duration": 7,
    "start_time": "2022-04-07T19:51:37.378Z"
   },
   {
    "duration": 13,
    "start_time": "2022-04-07T19:51:37.387Z"
   },
   {
    "duration": 8,
    "start_time": "2022-04-07T19:51:37.402Z"
   },
   {
    "duration": 88,
    "start_time": "2022-04-07T19:51:37.413Z"
   },
   {
    "duration": 5,
    "start_time": "2022-04-07T19:51:37.503Z"
   },
   {
    "duration": 10,
    "start_time": "2022-04-07T19:51:37.510Z"
   },
   {
    "duration": 1690,
    "start_time": "2022-04-07T19:51:37.521Z"
   },
   {
    "duration": 9,
    "start_time": "2022-04-07T19:51:39.213Z"
   },
   {
    "duration": 939,
    "start_time": "2022-04-07T19:51:39.223Z"
   },
   {
    "duration": 13,
    "start_time": "2022-04-07T19:51:40.164Z"
   },
   {
    "duration": 400,
    "start_time": "2022-04-07T19:51:40.178Z"
   },
   {
    "duration": 122,
    "start_time": "2022-04-07T19:51:40.579Z"
   },
   {
    "duration": 4,
    "start_time": "2022-04-07T19:51:40.703Z"
   },
   {
    "duration": 25,
    "start_time": "2022-04-07T19:51:40.708Z"
   },
   {
    "duration": 550,
    "start_time": "2022-04-07T19:51:40.735Z"
   },
   {
    "duration": 5,
    "start_time": "2022-04-07T19:51:41.286Z"
   },
   {
    "duration": 13,
    "start_time": "2022-04-07T19:51:41.293Z"
   },
   {
    "duration": 15,
    "start_time": "2022-04-07T19:51:41.308Z"
   },
   {
    "duration": 173,
    "start_time": "2022-04-07T19:51:41.324Z"
   },
   {
    "duration": 0,
    "start_time": "2022-04-07T19:51:41.498Z"
   },
   {
    "duration": 0,
    "start_time": "2022-04-07T19:51:41.500Z"
   },
   {
    "duration": 0,
    "start_time": "2022-04-07T19:51:41.501Z"
   },
   {
    "duration": 0,
    "start_time": "2022-04-07T19:51:41.502Z"
   },
   {
    "duration": 0,
    "start_time": "2022-04-07T19:51:41.503Z"
   },
   {
    "duration": 53,
    "start_time": "2022-04-07T19:57:53.393Z"
   },
   {
    "duration": 1547,
    "start_time": "2022-04-08T05:08:05.437Z"
   },
   {
    "duration": 638,
    "start_time": "2022-04-08T05:08:06.986Z"
   },
   {
    "duration": 59,
    "start_time": "2022-04-08T05:08:07.626Z"
   },
   {
    "duration": 3,
    "start_time": "2022-04-08T05:08:07.687Z"
   },
   {
    "duration": 9,
    "start_time": "2022-04-08T05:08:07.692Z"
   },
   {
    "duration": 34,
    "start_time": "2022-04-08T05:08:07.703Z"
   },
   {
    "duration": 5,
    "start_time": "2022-04-08T05:08:07.738Z"
   },
   {
    "duration": 10,
    "start_time": "2022-04-08T05:08:07.745Z"
   },
   {
    "duration": 8,
    "start_time": "2022-04-08T05:08:07.756Z"
   },
   {
    "duration": 103,
    "start_time": "2022-04-08T05:08:07.765Z"
   },
   {
    "duration": 5,
    "start_time": "2022-04-08T05:08:07.870Z"
   },
   {
    "duration": 8,
    "start_time": "2022-04-08T05:08:07.876Z"
   },
   {
    "duration": 1633,
    "start_time": "2022-04-08T05:08:07.885Z"
   },
   {
    "duration": 13,
    "start_time": "2022-04-08T05:08:09.521Z"
   },
   {
    "duration": 962,
    "start_time": "2022-04-08T05:08:09.535Z"
   },
   {
    "duration": 13,
    "start_time": "2022-04-08T05:08:10.499Z"
   },
   {
    "duration": 309,
    "start_time": "2022-04-08T05:08:10.514Z"
   },
   {
    "duration": 117,
    "start_time": "2022-04-08T05:08:10.825Z"
   },
   {
    "duration": 4,
    "start_time": "2022-04-08T05:08:10.944Z"
   },
   {
    "duration": 13,
    "start_time": "2022-04-08T05:08:10.949Z"
   },
   {
    "duration": 522,
    "start_time": "2022-04-08T05:08:10.964Z"
   },
   {
    "duration": 5,
    "start_time": "2022-04-08T05:08:11.487Z"
   },
   {
    "duration": 8,
    "start_time": "2022-04-08T05:08:11.494Z"
   },
   {
    "duration": 31,
    "start_time": "2022-04-08T05:08:11.504Z"
   },
   {
    "duration": 76,
    "start_time": "2022-04-08T05:08:11.537Z"
   },
   {
    "duration": 0,
    "start_time": "2022-04-08T05:08:11.615Z"
   },
   {
    "duration": 0,
    "start_time": "2022-04-08T05:08:11.616Z"
   },
   {
    "duration": 0,
    "start_time": "2022-04-08T05:08:11.617Z"
   },
   {
    "duration": 0,
    "start_time": "2022-04-08T05:08:11.618Z"
   },
   {
    "duration": 0,
    "start_time": "2022-04-08T05:08:11.620Z"
   },
   {
    "duration": 4,
    "start_time": "2022-04-08T05:09:08.914Z"
   },
   {
    "duration": 4,
    "start_time": "2022-04-08T05:18:44.349Z"
   },
   {
    "duration": 3,
    "start_time": "2022-04-08T05:18:45.196Z"
   },
   {
    "duration": 105,
    "start_time": "2022-04-08T05:19:58.249Z"
   },
   {
    "duration": 4,
    "start_time": "2022-04-08T05:20:16.274Z"
   },
   {
    "duration": 13,
    "start_time": "2022-04-08T05:20:16.701Z"
   },
   {
    "duration": 4,
    "start_time": "2022-04-08T05:20:43.466Z"
   },
   {
    "duration": 9,
    "start_time": "2022-04-08T05:20:43.761Z"
   },
   {
    "duration": 22,
    "start_time": "2022-04-08T05:21:00.810Z"
   },
   {
    "duration": 4,
    "start_time": "2022-04-08T05:21:26.622Z"
   },
   {
    "duration": 650,
    "start_time": "2022-04-08T05:21:26.628Z"
   },
   {
    "duration": 73,
    "start_time": "2022-04-08T05:21:27.280Z"
   },
   {
    "duration": 2,
    "start_time": "2022-04-08T05:21:27.355Z"
   },
   {
    "duration": 7,
    "start_time": "2022-04-08T05:21:27.359Z"
   },
   {
    "duration": 5,
    "start_time": "2022-04-08T05:21:27.368Z"
   },
   {
    "duration": 5,
    "start_time": "2022-04-08T05:21:27.374Z"
   },
   {
    "duration": 10,
    "start_time": "2022-04-08T05:21:27.380Z"
   },
   {
    "duration": 8,
    "start_time": "2022-04-08T05:21:27.392Z"
   },
   {
    "duration": 104,
    "start_time": "2022-04-08T05:21:27.402Z"
   },
   {
    "duration": 6,
    "start_time": "2022-04-08T05:21:27.509Z"
   },
   {
    "duration": 4,
    "start_time": "2022-04-08T05:21:27.532Z"
   },
   {
    "duration": 1775,
    "start_time": "2022-04-08T05:21:27.538Z"
   },
   {
    "duration": 18,
    "start_time": "2022-04-08T05:21:29.315Z"
   },
   {
    "duration": 836,
    "start_time": "2022-04-08T05:21:29.335Z"
   },
   {
    "duration": 13,
    "start_time": "2022-04-08T05:21:30.173Z"
   },
   {
    "duration": 321,
    "start_time": "2022-04-08T05:21:30.188Z"
   },
   {
    "duration": 115,
    "start_time": "2022-04-08T05:21:30.511Z"
   },
   {
    "duration": 5,
    "start_time": "2022-04-08T05:21:30.632Z"
   },
   {
    "duration": 20,
    "start_time": "2022-04-08T05:21:30.639Z"
   },
   {
    "duration": 632,
    "start_time": "2022-04-08T05:21:30.661Z"
   },
   {
    "duration": 5,
    "start_time": "2022-04-08T05:21:31.294Z"
   },
   {
    "duration": 18,
    "start_time": "2022-04-08T05:21:31.301Z"
   },
   {
    "duration": 23,
    "start_time": "2022-04-08T05:21:31.321Z"
   },
   {
    "duration": 3,
    "start_time": "2022-04-08T05:21:31.346Z"
   },
   {
    "duration": 17,
    "start_time": "2022-04-08T05:21:31.350Z"
   },
   {
    "duration": 23,
    "start_time": "2022-04-08T05:21:31.369Z"
   },
   {
    "duration": 11,
    "start_time": "2022-04-08T05:21:31.394Z"
   },
   {
    "duration": 12,
    "start_time": "2022-04-08T05:21:31.409Z"
   },
   {
    "duration": 10,
    "start_time": "2022-04-08T05:21:31.423Z"
   },
   {
    "duration": 0,
    "start_time": "2022-04-08T05:21:31.434Z"
   },
   {
    "duration": 4,
    "start_time": "2022-04-08T05:21:37.764Z"
   },
   {
    "duration": 15,
    "start_time": "2022-04-08T05:21:38.184Z"
   },
   {
    "duration": 10,
    "start_time": "2022-04-08T05:32:56.795Z"
   },
   {
    "duration": 15,
    "start_time": "2022-04-08T05:32:57.556Z"
   },
   {
    "duration": 4,
    "start_time": "2022-04-08T05:33:37.793Z"
   },
   {
    "duration": 3,
    "start_time": "2022-04-08T05:33:49.402Z"
   },
   {
    "duration": 14,
    "start_time": "2022-04-08T05:33:50.594Z"
   },
   {
    "duration": 10,
    "start_time": "2022-04-08T05:34:12.547Z"
   },
   {
    "duration": 3,
    "start_time": "2022-04-08T05:34:26.650Z"
   },
   {
    "duration": 4,
    "start_time": "2022-04-08T05:34:30.165Z"
   },
   {
    "duration": 3,
    "start_time": "2022-04-08T05:34:38.584Z"
   },
   {
    "duration": 4,
    "start_time": "2022-04-08T05:34:44.853Z"
   },
   {
    "duration": 14,
    "start_time": "2022-04-08T05:34:45.090Z"
   },
   {
    "duration": 169,
    "start_time": "2022-04-08T05:35:04.045Z"
   },
   {
    "duration": 11104,
    "start_time": "2022-04-08T05:35:50.883Z"
   },
   {
    "duration": 3,
    "start_time": "2022-04-08T05:37:14.870Z"
   },
   {
    "duration": 42,
    "start_time": "2022-04-08T05:37:27.436Z"
   },
   {
    "duration": 7,
    "start_time": "2022-04-08T05:38:10.306Z"
   },
   {
    "duration": 4,
    "start_time": "2022-04-08T05:38:10.892Z"
   },
   {
    "duration": 14,
    "start_time": "2022-04-08T05:38:17.275Z"
   },
   {
    "duration": 47777,
    "start_time": "2022-04-08T05:38:27.661Z"
   },
   {
    "duration": 83,
    "start_time": "2022-04-08T05:39:17.389Z"
   },
   {
    "duration": 83,
    "start_time": "2022-04-08T05:39:28.835Z"
   },
   {
    "duration": 91,
    "start_time": "2022-04-08T05:39:38.223Z"
   },
   {
    "duration": 79,
    "start_time": "2022-04-08T05:39:40.800Z"
   },
   {
    "duration": 9858,
    "start_time": "2022-04-08T05:39:43.344Z"
   },
   {
    "duration": 28828,
    "start_time": "2022-04-08T05:40:14.261Z"
   },
   {
    "duration": 3,
    "start_time": "2022-04-08T05:41:06.711Z"
   },
   {
    "duration": 3,
    "start_time": "2022-04-08T05:41:11.622Z"
   },
   {
    "duration": 48249,
    "start_time": "2022-04-08T05:41:14.866Z"
   },
   {
    "duration": 3,
    "start_time": "2022-04-08T05:42:03.117Z"
   },
   {
    "duration": 13,
    "start_time": "2022-04-08T05:42:03.121Z"
   },
   {
    "duration": 19701,
    "start_time": "2022-04-08T05:42:08.172Z"
   },
   {
    "duration": 3,
    "start_time": "2022-04-08T05:43:38.071Z"
   },
   {
    "duration": 48208,
    "start_time": "2022-04-08T05:43:42.962Z"
   },
   {
    "duration": 7,
    "start_time": "2022-04-08T05:44:31.172Z"
   },
   {
    "duration": 9,
    "start_time": "2022-04-08T05:44:34.501Z"
   },
   {
    "duration": 23,
    "start_time": "2022-04-08T05:44:42.093Z"
   },
   {
    "duration": 13,
    "start_time": "2022-04-08T05:44:53.924Z"
   },
   {
    "duration": 11243,
    "start_time": "2022-04-08T05:45:09.819Z"
   },
   {
    "duration": 1853,
    "start_time": "2022-04-08T10:19:39.031Z"
   },
   {
    "duration": 723,
    "start_time": "2022-04-08T10:19:40.886Z"
   },
   {
    "duration": 66,
    "start_time": "2022-04-08T10:19:41.611Z"
   },
   {
    "duration": 4,
    "start_time": "2022-04-08T10:19:41.700Z"
   },
   {
    "duration": 17,
    "start_time": "2022-04-08T10:19:41.705Z"
   },
   {
    "duration": 6,
    "start_time": "2022-04-08T10:19:41.724Z"
   },
   {
    "duration": 11,
    "start_time": "2022-04-08T10:19:41.732Z"
   },
   {
    "duration": 21,
    "start_time": "2022-04-08T10:19:41.745Z"
   },
   {
    "duration": 10,
    "start_time": "2022-04-08T10:19:41.768Z"
   },
   {
    "duration": 104,
    "start_time": "2022-04-08T10:19:41.782Z"
   },
   {
    "duration": 12,
    "start_time": "2022-04-08T10:19:41.888Z"
   },
   {
    "duration": 8,
    "start_time": "2022-04-08T10:19:41.903Z"
   },
   {
    "duration": 1889,
    "start_time": "2022-04-08T10:19:41.913Z"
   },
   {
    "duration": 11,
    "start_time": "2022-04-08T10:19:43.804Z"
   },
   {
    "duration": 1085,
    "start_time": "2022-04-08T10:19:43.817Z"
   },
   {
    "duration": 13,
    "start_time": "2022-04-08T10:19:44.904Z"
   },
   {
    "duration": 358,
    "start_time": "2022-04-08T10:19:44.919Z"
   },
   {
    "duration": 131,
    "start_time": "2022-04-08T10:19:45.280Z"
   },
   {
    "duration": 4,
    "start_time": "2022-04-08T10:19:45.413Z"
   },
   {
    "duration": 19,
    "start_time": "2022-04-08T10:19:45.419Z"
   },
   {
    "duration": 569,
    "start_time": "2022-04-08T10:19:45.440Z"
   },
   {
    "duration": 6,
    "start_time": "2022-04-08T10:19:46.011Z"
   },
   {
    "duration": 17,
    "start_time": "2022-04-08T10:19:46.019Z"
   },
   {
    "duration": 22,
    "start_time": "2022-04-08T10:19:46.038Z"
   },
   {
    "duration": 3,
    "start_time": "2022-04-08T10:19:46.062Z"
   },
   {
    "duration": 10,
    "start_time": "2022-04-08T10:19:46.067Z"
   },
   {
    "duration": 35,
    "start_time": "2022-04-08T10:19:46.078Z"
   },
   {
    "duration": 7,
    "start_time": "2022-04-08T10:19:46.117Z"
   },
   {
    "duration": 17,
    "start_time": "2022-04-08T10:19:46.126Z"
   },
   {
    "duration": 11,
    "start_time": "2022-04-08T10:19:46.146Z"
   },
   {
    "duration": 111,
    "start_time": "2022-04-08T10:19:46.159Z"
   },
   {
    "duration": 5,
    "start_time": "2022-04-08T10:20:16.319Z"
   },
   {
    "duration": 54056,
    "start_time": "2022-04-08T10:20:17.210Z"
   },
   {
    "duration": 4,
    "start_time": "2022-04-08T10:24:41.115Z"
   },
   {
    "duration": 5867530,
    "start_time": "2022-04-08T10:24:54.140Z"
   },
   {
    "duration": 0,
    "start_time": "2022-04-08T12:02:41.673Z"
   },
   {
    "duration": 0,
    "start_time": "2022-04-08T14:17:48.568Z"
   },
   {
    "duration": 0,
    "start_time": "2022-04-08T14:17:48.569Z"
   },
   {
    "duration": 0,
    "start_time": "2022-04-08T14:17:48.570Z"
   },
   {
    "duration": 3515351,
    "start_time": "2022-04-08T14:17:50.044Z"
   },
   {
    "duration": 0,
    "start_time": "2022-04-08T15:16:25.398Z"
   },
   {
    "duration": 2551940,
    "start_time": "2022-04-08T15:16:27.475Z"
   },
   {
    "duration": 0,
    "start_time": "2022-04-08T15:58:59.418Z"
   },
   {
    "duration": 0,
    "start_time": "2022-04-08T15:58:59.420Z"
   },
   {
    "duration": 5,
    "start_time": "2022-04-08T15:59:19.527Z"
   },
   {
    "duration": 4,
    "start_time": "2022-04-08T15:59:35.823Z"
   },
   {
    "duration": 11330,
    "start_time": "2022-04-08T15:59:37.470Z"
   },
   {
    "duration": 4,
    "start_time": "2022-04-08T15:59:54.121Z"
   },
   {
    "duration": 4,
    "start_time": "2022-04-08T16:00:18.176Z"
   },
   {
    "duration": 10683332,
    "start_time": "2022-04-08T16:00:19.837Z"
   },
   {
    "duration": 0,
    "start_time": "2022-04-08T18:58:23.172Z"
   },
   {
    "duration": 0,
    "start_time": "2022-04-08T18:58:23.173Z"
   },
   {
    "duration": 3,
    "start_time": "2022-04-08T20:16:13.925Z"
   },
   {
    "duration": 5,
    "start_time": "2022-04-08T20:17:24.576Z"
   },
   {
    "duration": 14,
    "start_time": "2022-04-08T20:18:00.976Z"
   },
   {
    "duration": 48,
    "start_time": "2022-04-08T20:18:08.049Z"
   },
   {
    "duration": 4,
    "start_time": "2022-04-09T08:11:04.834Z"
   },
   {
    "duration": 5,
    "start_time": "2022-04-09T08:11:24.381Z"
   },
   {
    "duration": 85,
    "start_time": "2022-04-09T08:11:29.664Z"
   },
   {
    "duration": 72,
    "start_time": "2022-04-09T08:11:49.090Z"
   },
   {
    "duration": 5,
    "start_time": "2022-04-09T08:11:53.180Z"
   },
   {
    "duration": 8,
    "start_time": "2022-04-09T08:12:37.771Z"
   },
   {
    "duration": 5,
    "start_time": "2022-04-09T08:13:03.164Z"
   },
   {
    "duration": 8,
    "start_time": "2022-04-09T08:13:08.350Z"
   },
   {
    "duration": 4,
    "start_time": "2022-04-09T08:13:44.846Z"
   },
   {
    "duration": 6,
    "start_time": "2022-04-09T08:13:47.671Z"
   },
   {
    "duration": 25,
    "start_time": "2022-04-09T08:15:09.980Z"
   },
   {
    "duration": 16,
    "start_time": "2022-04-09T08:15:15.149Z"
   },
   {
    "duration": 25,
    "start_time": "2022-04-09T08:16:28.811Z"
   },
   {
    "duration": 12,
    "start_time": "2022-04-09T08:16:37.978Z"
   },
   {
    "duration": 15,
    "start_time": "2022-04-09T08:19:56.229Z"
   },
   {
    "duration": 32,
    "start_time": "2022-04-09T08:20:11.113Z"
   },
   {
    "duration": 21,
    "start_time": "2022-04-09T08:20:16.822Z"
   },
   {
    "duration": 1831,
    "start_time": "2022-04-09T08:22:12.229Z"
   },
   {
    "duration": 31,
    "start_time": "2022-04-09T08:22:45.753Z"
   },
   {
    "duration": 14,
    "start_time": "2022-04-09T08:22:50.555Z"
   },
   {
    "duration": 4,
    "start_time": "2022-04-09T08:23:49.252Z"
   },
   {
    "duration": 738,
    "start_time": "2022-04-09T08:23:49.258Z"
   },
   {
    "duration": 83,
    "start_time": "2022-04-09T08:23:49.998Z"
   },
   {
    "duration": 3,
    "start_time": "2022-04-09T08:23:50.083Z"
   },
   {
    "duration": 13,
    "start_time": "2022-04-09T08:23:50.089Z"
   },
   {
    "duration": 10,
    "start_time": "2022-04-09T08:23:50.104Z"
   },
   {
    "duration": 7,
    "start_time": "2022-04-09T08:23:50.142Z"
   },
   {
    "duration": 18,
    "start_time": "2022-04-09T08:23:50.151Z"
   },
   {
    "duration": 12,
    "start_time": "2022-04-09T08:23:50.170Z"
   },
   {
    "duration": 106,
    "start_time": "2022-04-09T08:23:50.184Z"
   },
   {
    "duration": 8,
    "start_time": "2022-04-09T08:23:50.292Z"
   },
   {
    "duration": 10,
    "start_time": "2022-04-09T08:23:50.302Z"
   },
   {
    "duration": 1902,
    "start_time": "2022-04-09T08:23:50.314Z"
   },
   {
    "duration": 20,
    "start_time": "2022-04-09T08:23:52.220Z"
   },
   {
    "duration": 979,
    "start_time": "2022-04-09T08:23:52.247Z"
   },
   {
    "duration": 25,
    "start_time": "2022-04-09T08:23:53.228Z"
   },
   {
    "duration": 509,
    "start_time": "2022-04-09T08:23:53.255Z"
   },
   {
    "duration": 135,
    "start_time": "2022-04-09T08:23:53.766Z"
   },
   {
    "duration": 5,
    "start_time": "2022-04-09T08:23:53.903Z"
   },
   {
    "duration": 32,
    "start_time": "2022-04-09T08:23:53.910Z"
   },
   {
    "duration": 602,
    "start_time": "2022-04-09T08:23:53.944Z"
   },
   {
    "duration": 8,
    "start_time": "2022-04-09T08:23:54.548Z"
   },
   {
    "duration": 14,
    "start_time": "2022-04-09T08:23:54.558Z"
   },
   {
    "duration": 18,
    "start_time": "2022-04-09T08:23:54.574Z"
   },
   {
    "duration": 3,
    "start_time": "2022-04-09T08:23:54.594Z"
   },
   {
    "duration": 10,
    "start_time": "2022-04-09T08:23:54.599Z"
   },
   {
    "duration": 23,
    "start_time": "2022-04-09T08:23:58.636Z"
   },
   {
    "duration": 16,
    "start_time": "2022-04-09T08:24:42.232Z"
   },
   {
    "duration": 15,
    "start_time": "2022-04-09T08:24:53.295Z"
   },
   {
    "duration": 14,
    "start_time": "2022-04-09T08:25:59.090Z"
   },
   {
    "duration": 13,
    "start_time": "2022-04-09T08:26:04.852Z"
   },
   {
    "duration": 3,
    "start_time": "2022-04-09T08:26:30.207Z"
   },
   {
    "duration": 706,
    "start_time": "2022-04-09T08:26:30.213Z"
   },
   {
    "duration": 78,
    "start_time": "2022-04-09T08:26:30.920Z"
   },
   {
    "duration": 4,
    "start_time": "2022-04-09T08:26:31.001Z"
   },
   {
    "duration": 40,
    "start_time": "2022-04-09T08:26:31.007Z"
   },
   {
    "duration": 16,
    "start_time": "2022-04-09T08:26:31.049Z"
   },
   {
    "duration": 15,
    "start_time": "2022-04-09T08:26:31.066Z"
   },
   {
    "duration": 16,
    "start_time": "2022-04-09T08:26:31.083Z"
   },
   {
    "duration": 12,
    "start_time": "2022-04-09T08:26:31.102Z"
   },
   {
    "duration": 93,
    "start_time": "2022-04-09T08:26:31.117Z"
   },
   {
    "duration": 7,
    "start_time": "2022-04-09T08:26:31.212Z"
   },
   {
    "duration": 19,
    "start_time": "2022-04-09T08:26:31.222Z"
   },
   {
    "duration": 2087,
    "start_time": "2022-04-09T08:26:31.243Z"
   },
   {
    "duration": 19,
    "start_time": "2022-04-09T08:26:33.333Z"
   },
   {
    "duration": 1024,
    "start_time": "2022-04-09T08:26:33.354Z"
   },
   {
    "duration": 18,
    "start_time": "2022-04-09T08:26:34.380Z"
   },
   {
    "duration": 422,
    "start_time": "2022-04-09T08:26:34.401Z"
   },
   {
    "duration": 141,
    "start_time": "2022-04-09T08:26:34.825Z"
   },
   {
    "duration": 5,
    "start_time": "2022-04-09T08:26:34.968Z"
   },
   {
    "duration": 28,
    "start_time": "2022-04-09T08:26:34.974Z"
   },
   {
    "duration": 697,
    "start_time": "2022-04-09T08:26:35.004Z"
   },
   {
    "duration": 7,
    "start_time": "2022-04-09T08:26:35.703Z"
   },
   {
    "duration": 31,
    "start_time": "2022-04-09T08:26:35.712Z"
   },
   {
    "duration": 18,
    "start_time": "2022-04-09T08:26:35.747Z"
   },
   {
    "duration": 5,
    "start_time": "2022-04-09T08:26:35.767Z"
   },
   {
    "duration": 9,
    "start_time": "2022-04-09T08:26:35.774Z"
   },
   {
    "duration": 14,
    "start_time": "2022-04-09T08:26:38.823Z"
   },
   {
    "duration": 160,
    "start_time": "2022-04-09T08:26:42.128Z"
   },
   {
    "duration": 6,
    "start_time": "2022-04-09T08:26:44.626Z"
   },
   {
    "duration": 10,
    "start_time": "2022-04-09T08:26:46.833Z"
   },
   {
    "duration": 4,
    "start_time": "2022-04-09T08:26:50.271Z"
   },
   {
    "duration": 14,
    "start_time": "2022-04-09T08:26:56.158Z"
   },
   {
    "duration": 13,
    "start_time": "2022-04-09T08:27:07.612Z"
   },
   {
    "duration": 19,
    "start_time": "2022-04-09T08:27:20.542Z"
   },
   {
    "duration": 3,
    "start_time": "2022-04-09T08:28:02.679Z"
   },
   {
    "duration": 181,
    "start_time": "2022-04-09T08:28:05.457Z"
   },
   {
    "duration": 7,
    "start_time": "2022-04-09T08:28:05.942Z"
   },
   {
    "duration": 88,
    "start_time": "2022-04-09T08:29:29.060Z"
   },
   {
    "duration": 6,
    "start_time": "2022-04-09T08:29:30.573Z"
   },
   {
    "duration": 4,
    "start_time": "2022-04-09T08:31:20.451Z"
   },
   {
    "duration": 958,
    "start_time": "2022-04-09T08:35:15.090Z"
   },
   {
    "duration": 21,
    "start_time": "2022-04-09T08:35:19.535Z"
   },
   {
    "duration": 1736,
    "start_time": "2022-04-09T08:35:43.914Z"
   },
   {
    "duration": 1949,
    "start_time": "2022-04-09T08:35:55.303Z"
   },
   {
    "duration": 12,
    "start_time": "2022-04-09T08:37:26.308Z"
   },
   {
    "duration": 4,
    "start_time": "2022-04-09T08:37:30.514Z"
   },
   {
    "duration": 1895,
    "start_time": "2022-04-09T08:37:31.352Z"
   },
   {
    "duration": 1561,
    "start_time": "2022-04-09T08:37:55.098Z"
   },
   {
    "duration": 1465,
    "start_time": "2022-04-09T08:38:03.174Z"
   },
   {
    "duration": 5,
    "start_time": "2022-04-09T08:38:43.335Z"
   },
   {
    "duration": 1562,
    "start_time": "2022-04-09T08:38:44.880Z"
   },
   {
    "duration": 1586,
    "start_time": "2022-04-09T08:38:48.268Z"
   },
   {
    "duration": 4,
    "start_time": "2022-04-09T08:42:52.916Z"
   },
   {
    "duration": 22737,
    "start_time": "2022-04-09T08:44:59.978Z"
   },
   {
    "duration": 4,
    "start_time": "2022-04-09T08:45:27.686Z"
   },
   {
    "duration": 16022,
    "start_time": "2022-04-09T08:45:30.094Z"
   },
   {
    "duration": 16055,
    "start_time": "2022-04-09T08:45:48.752Z"
   },
   {
    "duration": 31265,
    "start_time": "2022-04-09T09:07:55.652Z"
   },
   {
    "duration": 3894,
    "start_time": "2022-04-09T09:09:08.451Z"
   },
   {
    "duration": 4049,
    "start_time": "2022-04-09T09:11:26.552Z"
   },
   {
    "duration": 3961,
    "start_time": "2022-04-09T09:11:49.160Z"
   },
   {
    "duration": 4093,
    "start_time": "2022-04-09T09:12:03.192Z"
   },
   {
    "duration": 3864,
    "start_time": "2022-04-09T09:12:12.727Z"
   },
   {
    "duration": 4024,
    "start_time": "2022-04-09T09:12:21.816Z"
   },
   {
    "duration": 6,
    "start_time": "2022-04-09T09:12:26.051Z"
   },
   {
    "duration": 8,
    "start_time": "2022-04-09T09:21:09.861Z"
   },
   {
    "duration": 3,
    "start_time": "2022-04-09T09:25:06.207Z"
   },
   {
    "duration": 8,
    "start_time": "2022-04-09T09:26:44.991Z"
   },
   {
    "duration": 3739,
    "start_time": "2022-04-09T09:28:39.017Z"
   },
   {
    "duration": 31194,
    "start_time": "2022-04-09T09:28:42.845Z"
   },
   {
    "duration": 3,
    "start_time": "2022-04-09T09:31:36.537Z"
   },
   {
    "duration": 112,
    "start_time": "2022-04-09T09:34:39.521Z"
   },
   {
    "duration": 5,
    "start_time": "2022-04-09T10:32:16.205Z"
   },
   {
    "duration": 655,
    "start_time": "2022-04-09T10:32:16.212Z"
   },
   {
    "duration": 83,
    "start_time": "2022-04-09T10:32:16.869Z"
   },
   {
    "duration": 4,
    "start_time": "2022-04-09T10:32:16.954Z"
   },
   {
    "duration": 12,
    "start_time": "2022-04-09T10:32:16.959Z"
   },
   {
    "duration": 15,
    "start_time": "2022-04-09T10:32:16.973Z"
   },
   {
    "duration": 10,
    "start_time": "2022-04-09T10:32:16.990Z"
   },
   {
    "duration": 38,
    "start_time": "2022-04-09T10:32:17.002Z"
   },
   {
    "duration": 13,
    "start_time": "2022-04-09T10:32:17.043Z"
   },
   {
    "duration": 87,
    "start_time": "2022-04-09T10:32:17.059Z"
   },
   {
    "duration": 7,
    "start_time": "2022-04-09T10:32:17.148Z"
   },
   {
    "duration": 13,
    "start_time": "2022-04-09T10:32:17.157Z"
   },
   {
    "duration": 1892,
    "start_time": "2022-04-09T10:32:17.172Z"
   },
   {
    "duration": 10,
    "start_time": "2022-04-09T10:32:19.066Z"
   },
   {
    "duration": 1430,
    "start_time": "2022-04-09T10:32:19.078Z"
   },
   {
    "duration": 32,
    "start_time": "2022-04-09T10:32:20.510Z"
   },
   {
    "duration": 353,
    "start_time": "2022-04-09T10:32:20.544Z"
   },
   {
    "duration": 139,
    "start_time": "2022-04-09T10:32:20.900Z"
   },
   {
    "duration": 5,
    "start_time": "2022-04-09T10:32:21.041Z"
   },
   {
    "duration": 21,
    "start_time": "2022-04-09T10:32:21.048Z"
   },
   {
    "duration": 752,
    "start_time": "2022-04-09T10:32:21.071Z"
   },
   {
    "duration": 14,
    "start_time": "2022-04-09T10:32:21.825Z"
   },
   {
    "duration": 17,
    "start_time": "2022-04-09T10:32:21.840Z"
   },
   {
    "duration": 25,
    "start_time": "2022-04-09T10:32:21.859Z"
   },
   {
    "duration": 7,
    "start_time": "2022-04-09T10:32:21.886Z"
   },
   {
    "duration": 20,
    "start_time": "2022-04-09T10:32:21.895Z"
   },
   {
    "duration": 24,
    "start_time": "2022-04-09T10:32:21.918Z"
   },
   {
    "duration": 6,
    "start_time": "2022-04-09T10:32:21.946Z"
   },
   {
    "duration": 32,
    "start_time": "2022-04-09T10:32:21.954Z"
   },
   {
    "duration": 13,
    "start_time": "2022-04-09T10:32:21.988Z"
   },
   {
    "duration": 7,
    "start_time": "2022-04-09T10:32:22.003Z"
   },
   {
    "duration": 18,
    "start_time": "2022-04-09T10:32:22.012Z"
   },
   {
    "duration": 2812,
    "start_time": "2022-04-09T10:32:22.032Z"
   },
   {
    "duration": 30388,
    "start_time": "2022-04-09T10:32:24.848Z"
   },
   {
    "duration": 4005,
    "start_time": "2022-04-09T10:32:55.239Z"
   },
   {
    "duration": 3963,
    "start_time": "2022-04-09T10:32:59.246Z"
   },
   {
    "duration": 8,
    "start_time": "2022-04-09T10:33:03.211Z"
   },
   {
    "duration": 1761,
    "start_time": "2022-04-09T16:42:02.838Z"
   }
  ],
  "kernelspec": {
   "display_name": "Python 3 (ipykernel)",
   "language": "python",
   "name": "python3"
  },
  "language_info": {
   "codemirror_mode": {
    "name": "ipython",
    "version": 3
   },
   "file_extension": ".py",
   "mimetype": "text/x-python",
   "name": "python",
   "nbconvert_exporter": "python",
   "pygments_lexer": "ipython3",
   "version": "3.10.0"
  },
  "toc": {
   "base_numbering": 1,
   "nav_menu": {},
   "number_sections": true,
   "sideBar": true,
   "skip_h1_title": true,
   "title_cell": "Содержание",
   "title_sidebar": "Contents",
   "toc_cell": true,
   "toc_position": {
    "height": "calc(100% - 180px)",
    "left": "10px",
    "top": "150px",
    "width": "346px"
   },
   "toc_section_display": true,
   "toc_window_display": true
  }
 },
 "nbformat": 4,
 "nbformat_minor": 2
}
