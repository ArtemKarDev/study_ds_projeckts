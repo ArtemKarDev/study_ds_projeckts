{
 "cells": [
  {
   "cell_type": "markdown",
   "metadata": {
    "toc": true
   },
   "source": [
    "<h1>Содержание<span class=\"tocSkip\"></span></h1>\n",
    "<div class=\"toc\"><ul class=\"toc-item\"><li><ul class=\"toc-item\"><li><span></span></li></span></li></ul></li><li><span><a href=\"#Подготовка-данных\" data-toc-modified-id=\"Подготовка-данных-1\"><span class=\"toc-item-num\">1&nbsp;&nbsp;</span>Подготовка данных</a></span><ul class=\"toc-item\"><li><span><a href=\"#Кодирование-признаков\" data-toc-modified-id=\"Кодирование-признаков-1.1\"><span class=\"toc-item-num\">1.1&nbsp;&nbsp;</span>Кодирование признаков</a></span></li><li><span><a href=\"#Попытка-заполнить-пропуски-в-Tenure-регрессионной-моделью\" data-toc-modified-id=\"Попытка-заполнить-пропуски-в-Tenure-регрессионной-моделью-1.2\"><span class=\"toc-item-num\">1.2&nbsp;&nbsp;</span>Попытка заполнить пропуски в Tenure регрессионной моделью</a></span></li></ul></li><li><span><a href=\"#Исследование-задачи\" data-toc-modified-id=\"Исследование-задачи-2\"><span class=\"toc-item-num\">2&nbsp;&nbsp;</span>Исследование задачи</a></span><ul class=\"toc-item\"><li><span><a href=\"#масштабирование\" data-toc-modified-id=\"масштабирование-2.1\"><span class=\"toc-item-num\">2.1&nbsp;&nbsp;</span>масштабирование</a></span></li><li><span><a href=\"#поиск-лучшей-модели\" data-toc-modified-id=\"поиск-лучшей-модели-2.2\"><span class=\"toc-item-num\">2.2&nbsp;&nbsp;</span>поиск лучшей модели</a></span></li></ul></li><li><span><a href=\"#Борьба-с-дисбалансом\" data-toc-modified-id=\"Борьба-с-дисбалансом-3\"><span class=\"toc-item-num\">3&nbsp;&nbsp;</span>Борьба с дисбалансом</a></span><ul class=\"toc-item\"><li><span><a href=\"#валидация-на-сбалансированных-данных\" data-toc-modified-id=\"валидация-на-сбалансированных-данных-3.1\"><span class=\"toc-item-num\">3.1&nbsp;&nbsp;</span>валидация на сбалансированных данных</a></span></li></ul></li><li><span><a href=\"#Тестирование-модели\" data-toc-modified-id=\"Тестирование-модели-4\"><span class=\"toc-item-num\">4&nbsp;&nbsp;</span>Тестирование модели</a></span></li><li><span><a href=\"#Чек-лист-готовности-проекта\" data-toc-modified-id=\"Чек-лист-готовности-проекта-5\"><span class=\"toc-item-num\">5&nbsp;&nbsp;</span>Чек-лист готовности проекта</a></span></li></ul></div>"
   ]
  },
  {
   "cell_type": "markdown",
   "metadata": {},
   "source": [
    "# Отток клиентов"
   ]
  },
  {
   "cell_type": "markdown",
   "metadata": {},
   "source": [
    "Из «Бета-Банка» стали уходить клиенты. Каждый месяц. Немного, но заметно. Банковские маркетологи посчитали: сохранять текущих клиентов дешевле, чем привлекать новых.\n",
    "\n",
    "Нужно спрогнозировать, уйдёт клиент из банка в ближайшее время или нет. Вам предоставлены исторические данные о поведении клиентов и расторжении договоров с банком. \n",
    "\n",
    "Постройте модель с предельно большим значением *F1*-меры. Чтобы сдать проект успешно, нужно довести метрику до 0.59. Проверьте *F1*-меру на тестовой выборке самостоятельно.\n",
    "\n",
    "Дополнительно измеряйте *AUC-ROC*, сравнивайте её значение с *F1*-мерой.\n",
    "\n",
    "Источник данных: [https://www.kaggle.com/barelydedicated/bank-customer-churn-modeling](https://www.kaggle.com/barelydedicated/bank-customer-churn-modeling)"
   ]
  },
  {
   "cell_type": "markdown",
   "metadata": {},
   "source": [
    "## Подготовка данных"
   ]
  },
  {
   "cell_type": "code",
   "execution_count": 116,
   "metadata": {},
   "outputs": [],
   "source": [
    "import pandas as pd\n",
    "import numpy as np\n",
    "import seaborn as sns\n",
    "import matplotlib.pyplot as plt\n",
    "\n",
    "from sklearn.model_selection import train_test_split\n",
    "from sklearn.preprocessing import StandardScaler\n",
    "\n",
    "from sklearn.linear_model import LinearRegression\n",
    "from sklearn.linear_model import LogisticRegression\n",
    "from sklearn.ensemble import RandomForestClassifier\n",
    "from sklearn.ensemble import RandomForestRegressor\n",
    "from sklearn.model_selection import RandomizedSearchCV\n",
    "\n",
    "from sklearn.metrics import confusion_matrix\n",
    "from sklearn.metrics import recall_score\n",
    "from sklearn.metrics import precision_score\n",
    "from sklearn.metrics import mean_squared_error\n",
    "from sklearn.metrics import r2_score\n",
    "from sklearn.metrics import f1_score\n",
    "from sklearn.metrics import mean_absolute_error\n",
    "from sklearn.metrics import roc_curve \n",
    "from sklearn.metrics import roc_auc_score\n",
    "\n",
    "from sklearn.utils import shuffle\n"
   ]
  },
  {
   "cell_type": "code",
   "execution_count": 117,
   "metadata": {},
   "outputs": [],
   "source": [
    "df = pd.read_csv('/datasets/Churn.csv')"
   ]
  },
  {
   "cell_type": "code",
   "execution_count": 118,
   "metadata": {},
   "outputs": [
    {
     "name": "stdout",
     "output_type": "stream",
     "text": [
      "<class 'pandas.core.frame.DataFrame'>\n",
      "RangeIndex: 10000 entries, 0 to 9999\n",
      "Data columns (total 14 columns):\n",
      " #   Column           Non-Null Count  Dtype  \n",
      "---  ------           --------------  -----  \n",
      " 0   RowNumber        10000 non-null  int64  \n",
      " 1   CustomerId       10000 non-null  int64  \n",
      " 2   Surname          10000 non-null  object \n",
      " 3   CreditScore      10000 non-null  int64  \n",
      " 4   Geography        10000 non-null  object \n",
      " 5   Gender           10000 non-null  object \n",
      " 6   Age              10000 non-null  int64  \n",
      " 7   Tenure           9091 non-null   float64\n",
      " 8   Balance          10000 non-null  float64\n",
      " 9   NumOfProducts    10000 non-null  int64  \n",
      " 10  HasCrCard        10000 non-null  int64  \n",
      " 11  IsActiveMember   10000 non-null  int64  \n",
      " 12  EstimatedSalary  10000 non-null  float64\n",
      " 13  Exited           10000 non-null  int64  \n",
      "dtypes: float64(3), int64(8), object(3)\n",
      "memory usage: 1.1+ MB\n"
     ]
    }
   ],
   "source": [
    "df.info()"
   ]
  },
  {
   "cell_type": "code",
   "execution_count": 119,
   "metadata": {},
   "outputs": [
    {
     "data": {
      "text/html": [
       "<div>\n",
       "<style scoped>\n",
       "    .dataframe tbody tr th:only-of-type {\n",
       "        vertical-align: middle;\n",
       "    }\n",
       "\n",
       "    .dataframe tbody tr th {\n",
       "        vertical-align: top;\n",
       "    }\n",
       "\n",
       "    .dataframe thead th {\n",
       "        text-align: right;\n",
       "    }\n",
       "</style>\n",
       "<table border=\"1\" class=\"dataframe\">\n",
       "  <thead>\n",
       "    <tr style=\"text-align: right;\">\n",
       "      <th></th>\n",
       "      <th>RowNumber</th>\n",
       "      <th>CustomerId</th>\n",
       "      <th>Surname</th>\n",
       "      <th>CreditScore</th>\n",
       "      <th>Geography</th>\n",
       "      <th>Gender</th>\n",
       "      <th>Age</th>\n",
       "      <th>Tenure</th>\n",
       "      <th>Balance</th>\n",
       "      <th>NumOfProducts</th>\n",
       "      <th>HasCrCard</th>\n",
       "      <th>IsActiveMember</th>\n",
       "      <th>EstimatedSalary</th>\n",
       "      <th>Exited</th>\n",
       "    </tr>\n",
       "  </thead>\n",
       "  <tbody>\n",
       "    <tr>\n",
       "      <th>3575</th>\n",
       "      <td>3576</td>\n",
       "      <td>15625151</td>\n",
       "      <td>Wan</td>\n",
       "      <td>640</td>\n",
       "      <td>France</td>\n",
       "      <td>Female</td>\n",
       "      <td>66</td>\n",
       "      <td>9.0</td>\n",
       "      <td>116037.76</td>\n",
       "      <td>1</td>\n",
       "      <td>0</td>\n",
       "      <td>1</td>\n",
       "      <td>184636.05</td>\n",
       "      <td>0</td>\n",
       "    </tr>\n",
       "    <tr>\n",
       "      <th>8789</th>\n",
       "      <td>8790</td>\n",
       "      <td>15619116</td>\n",
       "      <td>Wallace</td>\n",
       "      <td>493</td>\n",
       "      <td>France</td>\n",
       "      <td>Female</td>\n",
       "      <td>36</td>\n",
       "      <td>2.0</td>\n",
       "      <td>0.00</td>\n",
       "      <td>2</td>\n",
       "      <td>0</td>\n",
       "      <td>1</td>\n",
       "      <td>99770.30</td>\n",
       "      <td>0</td>\n",
       "    </tr>\n",
       "    <tr>\n",
       "      <th>2373</th>\n",
       "      <td>2374</td>\n",
       "      <td>15671789</td>\n",
       "      <td>Woods</td>\n",
       "      <td>616</td>\n",
       "      <td>France</td>\n",
       "      <td>Male</td>\n",
       "      <td>31</td>\n",
       "      <td>NaN</td>\n",
       "      <td>94263.91</td>\n",
       "      <td>2</td>\n",
       "      <td>1</td>\n",
       "      <td>0</td>\n",
       "      <td>168895.06</td>\n",
       "      <td>0</td>\n",
       "    </tr>\n",
       "    <tr>\n",
       "      <th>7419</th>\n",
       "      <td>7420</td>\n",
       "      <td>15622507</td>\n",
       "      <td>Hamilton</td>\n",
       "      <td>748</td>\n",
       "      <td>Germany</td>\n",
       "      <td>Female</td>\n",
       "      <td>40</td>\n",
       "      <td>3.0</td>\n",
       "      <td>103499.09</td>\n",
       "      <td>2</td>\n",
       "      <td>0</td>\n",
       "      <td>0</td>\n",
       "      <td>38153.19</td>\n",
       "      <td>0</td>\n",
       "    </tr>\n",
       "    <tr>\n",
       "      <th>5900</th>\n",
       "      <td>5901</td>\n",
       "      <td>15569759</td>\n",
       "      <td>Rawling</td>\n",
       "      <td>583</td>\n",
       "      <td>France</td>\n",
       "      <td>Female</td>\n",
       "      <td>27</td>\n",
       "      <td>4.0</td>\n",
       "      <td>0.00</td>\n",
       "      <td>3</td>\n",
       "      <td>1</td>\n",
       "      <td>0</td>\n",
       "      <td>163113.41</td>\n",
       "      <td>0</td>\n",
       "    </tr>\n",
       "  </tbody>\n",
       "</table>\n",
       "</div>"
      ],
      "text/plain": [
       "      RowNumber  CustomerId   Surname  CreditScore Geography  Gender  Age  \\\n",
       "3575       3576    15625151       Wan          640    France  Female   66   \n",
       "8789       8790    15619116   Wallace          493    France  Female   36   \n",
       "2373       2374    15671789     Woods          616    France    Male   31   \n",
       "7419       7420    15622507  Hamilton          748   Germany  Female   40   \n",
       "5900       5901    15569759   Rawling          583    France  Female   27   \n",
       "\n",
       "      Tenure    Balance  NumOfProducts  HasCrCard  IsActiveMember  \\\n",
       "3575     9.0  116037.76              1          0               1   \n",
       "8789     2.0       0.00              2          0               1   \n",
       "2373     NaN   94263.91              2          1               0   \n",
       "7419     3.0  103499.09              2          0               0   \n",
       "5900     4.0       0.00              3          1               0   \n",
       "\n",
       "      EstimatedSalary  Exited  \n",
       "3575        184636.05       0  \n",
       "8789         99770.30       0  \n",
       "2373        168895.06       0  \n",
       "7419         38153.19       0  \n",
       "5900        163113.41       0  "
      ]
     },
     "execution_count": 119,
     "metadata": {},
     "output_type": "execute_result"
    }
   ],
   "source": [
    "df.sample(5)"
   ]
  },
  {
   "cell_type": "code",
   "execution_count": 120,
   "metadata": {},
   "outputs": [
    {
     "data": {
      "text/html": [
       "<div>\n",
       "<style scoped>\n",
       "    .dataframe tbody tr th:only-of-type {\n",
       "        vertical-align: middle;\n",
       "    }\n",
       "\n",
       "    .dataframe tbody tr th {\n",
       "        vertical-align: top;\n",
       "    }\n",
       "\n",
       "    .dataframe thead th {\n",
       "        text-align: right;\n",
       "    }\n",
       "</style>\n",
       "<table border=\"1\" class=\"dataframe\">\n",
       "  <thead>\n",
       "    <tr style=\"text-align: right;\">\n",
       "      <th></th>\n",
       "      <th>RowNumber</th>\n",
       "      <th>CustomerId</th>\n",
       "      <th>CreditScore</th>\n",
       "      <th>Age</th>\n",
       "      <th>Tenure</th>\n",
       "      <th>Balance</th>\n",
       "      <th>NumOfProducts</th>\n",
       "      <th>HasCrCard</th>\n",
       "      <th>IsActiveMember</th>\n",
       "      <th>EstimatedSalary</th>\n",
       "      <th>Exited</th>\n",
       "    </tr>\n",
       "  </thead>\n",
       "  <tbody>\n",
       "    <tr>\n",
       "      <th>count</th>\n",
       "      <td>10000.000</td>\n",
       "      <td>1.000000e+04</td>\n",
       "      <td>10000.000</td>\n",
       "      <td>10000.000</td>\n",
       "      <td>9091.000</td>\n",
       "      <td>10000.000</td>\n",
       "      <td>10000.000</td>\n",
       "      <td>10000.000</td>\n",
       "      <td>10000.000</td>\n",
       "      <td>10000.000</td>\n",
       "      <td>10000.000</td>\n",
       "    </tr>\n",
       "    <tr>\n",
       "      <th>mean</th>\n",
       "      <td>5000.500</td>\n",
       "      <td>1.569094e+07</td>\n",
       "      <td>650.529</td>\n",
       "      <td>38.922</td>\n",
       "      <td>4.998</td>\n",
       "      <td>76485.889</td>\n",
       "      <td>1.530</td>\n",
       "      <td>0.706</td>\n",
       "      <td>0.515</td>\n",
       "      <td>100090.240</td>\n",
       "      <td>0.204</td>\n",
       "    </tr>\n",
       "    <tr>\n",
       "      <th>std</th>\n",
       "      <td>2886.896</td>\n",
       "      <td>7.193619e+04</td>\n",
       "      <td>96.653</td>\n",
       "      <td>10.488</td>\n",
       "      <td>2.895</td>\n",
       "      <td>62397.405</td>\n",
       "      <td>0.582</td>\n",
       "      <td>0.456</td>\n",
       "      <td>0.500</td>\n",
       "      <td>57510.493</td>\n",
       "      <td>0.403</td>\n",
       "    </tr>\n",
       "    <tr>\n",
       "      <th>min</th>\n",
       "      <td>1.000</td>\n",
       "      <td>1.556570e+07</td>\n",
       "      <td>350.000</td>\n",
       "      <td>18.000</td>\n",
       "      <td>0.000</td>\n",
       "      <td>0.000</td>\n",
       "      <td>1.000</td>\n",
       "      <td>0.000</td>\n",
       "      <td>0.000</td>\n",
       "      <td>11.580</td>\n",
       "      <td>0.000</td>\n",
       "    </tr>\n",
       "    <tr>\n",
       "      <th>25%</th>\n",
       "      <td>2500.750</td>\n",
       "      <td>1.562853e+07</td>\n",
       "      <td>584.000</td>\n",
       "      <td>32.000</td>\n",
       "      <td>2.000</td>\n",
       "      <td>0.000</td>\n",
       "      <td>1.000</td>\n",
       "      <td>0.000</td>\n",
       "      <td>0.000</td>\n",
       "      <td>51002.110</td>\n",
       "      <td>0.000</td>\n",
       "    </tr>\n",
       "    <tr>\n",
       "      <th>50%</th>\n",
       "      <td>5000.500</td>\n",
       "      <td>1.569074e+07</td>\n",
       "      <td>652.000</td>\n",
       "      <td>37.000</td>\n",
       "      <td>5.000</td>\n",
       "      <td>97198.540</td>\n",
       "      <td>1.000</td>\n",
       "      <td>1.000</td>\n",
       "      <td>1.000</td>\n",
       "      <td>100193.915</td>\n",
       "      <td>0.000</td>\n",
       "    </tr>\n",
       "    <tr>\n",
       "      <th>75%</th>\n",
       "      <td>7500.250</td>\n",
       "      <td>1.575323e+07</td>\n",
       "      <td>718.000</td>\n",
       "      <td>44.000</td>\n",
       "      <td>7.000</td>\n",
       "      <td>127644.240</td>\n",
       "      <td>2.000</td>\n",
       "      <td>1.000</td>\n",
       "      <td>1.000</td>\n",
       "      <td>149388.248</td>\n",
       "      <td>0.000</td>\n",
       "    </tr>\n",
       "    <tr>\n",
       "      <th>max</th>\n",
       "      <td>10000.000</td>\n",
       "      <td>1.581569e+07</td>\n",
       "      <td>850.000</td>\n",
       "      <td>92.000</td>\n",
       "      <td>10.000</td>\n",
       "      <td>250898.090</td>\n",
       "      <td>4.000</td>\n",
       "      <td>1.000</td>\n",
       "      <td>1.000</td>\n",
       "      <td>199992.480</td>\n",
       "      <td>1.000</td>\n",
       "    </tr>\n",
       "  </tbody>\n",
       "</table>\n",
       "</div>"
      ],
      "text/plain": [
       "       RowNumber    CustomerId  CreditScore        Age    Tenure     Balance  \\\n",
       "count  10000.000  1.000000e+04    10000.000  10000.000  9091.000   10000.000   \n",
       "mean    5000.500  1.569094e+07      650.529     38.922     4.998   76485.889   \n",
       "std     2886.896  7.193619e+04       96.653     10.488     2.895   62397.405   \n",
       "min        1.000  1.556570e+07      350.000     18.000     0.000       0.000   \n",
       "25%     2500.750  1.562853e+07      584.000     32.000     2.000       0.000   \n",
       "50%     5000.500  1.569074e+07      652.000     37.000     5.000   97198.540   \n",
       "75%     7500.250  1.575323e+07      718.000     44.000     7.000  127644.240   \n",
       "max    10000.000  1.581569e+07      850.000     92.000    10.000  250898.090   \n",
       "\n",
       "       NumOfProducts  HasCrCard  IsActiveMember  EstimatedSalary     Exited  \n",
       "count      10000.000  10000.000       10000.000        10000.000  10000.000  \n",
       "mean           1.530      0.706           0.515       100090.240      0.204  \n",
       "std            0.582      0.456           0.500        57510.493      0.403  \n",
       "min            1.000      0.000           0.000           11.580      0.000  \n",
       "25%            1.000      0.000           0.000        51002.110      0.000  \n",
       "50%            1.000      1.000           1.000       100193.915      0.000  \n",
       "75%            2.000      1.000           1.000       149388.248      0.000  \n",
       "max            4.000      1.000           1.000       199992.480      1.000  "
      ]
     },
     "execution_count": 120,
     "metadata": {},
     "output_type": "execute_result"
    }
   ],
   "source": [
    "df.describe().round(3)"
   ]
  },
  {
   "cell_type": "code",
   "execution_count": 121,
   "metadata": {},
   "outputs": [
    {
     "data": {
      "text/plain": [
       "<AxesSubplot:>"
      ]
     },
     "execution_count": 121,
     "metadata": {},
     "output_type": "execute_result"
    },
    {
     "data": {
      "image/png": "[encoded data removed]",
      "text/plain": [
       "<Figure size 1152x432 with 2 Axes>"
      ]
     },
     "metadata": {
      "needs_background": "light"
     },
     "output_type": "display_data"
    }
   ],
   "source": [
    "plt.figure(figsize=(16, 6))\n",
    "sns.heatmap(df.corr().round(2), annot=True)"
   ]
  },
  {
   "cell_type": "markdown",
   "metadata": {},
   "source": [
    "наиболее колерирующим с целевым признаком является Возраст.\n",
    "Рассмотрю по ближе распределение возраста на целевом признаке "
   ]
  },
  {
   "cell_type": "code",
   "execution_count": 122,
   "metadata": {},
   "outputs": [
    {
     "data": {
      "image/png": "[encoded data removed]",
      "text/plain": [
       "<Figure size 432x288 with 2 Axes>"
      ]
     },
     "metadata": {
      "needs_background": "light"
     },
     "output_type": "display_data"
    }
   ],
   "source": [
    "df.hist(column='Age', by='Exited',bins=30, grid=True);"
   ]
  },
  {
   "cell_type": "markdown",
   "metadata": {},
   "source": [
    "до 50 лет люди активнее перестают быть клиентами банка"
   ]
  },
  {
   "cell_type": "code",
   "execution_count": 123,
   "metadata": {},
   "outputs": [],
   "source": [
    "# удалю колонку с ID и фамилиями - они не дложны влиять на целефой признак никак\n",
    "df = df.drop(['RowNumber','CustomerId','Surname'], axis=1)"
   ]
  },
  {
   "cell_type": "code",
   "execution_count": 124,
   "metadata": {},
   "outputs": [
    {
     "data": {
      "text/plain": [
       "France     5014\n",
       "Germany    2509\n",
       "Spain      2477\n",
       "Name: Geography, dtype: int64"
      ]
     },
     "execution_count": 124,
     "metadata": {},
     "output_type": "execute_result"
    }
   ],
   "source": [
    "# посмотрим сколько категорий у нас в признаке География\n",
    "df['Geography'].value_counts()"
   ]
  },
  {
   "cell_type": "markdown",
   "metadata": {},
   "source": [
    "### Кодирование признаков"
   ]
  },
  {
   "cell_type": "markdown",
   "metadata": {},
   "source": [
    "закодируем номинальные признаки методом one hot encoder - переменных получается не много"
   ]
  },
  {
   "cell_type": "markdown",
   "metadata": {},
   "source": [
    "для того что бы избежать dummie ловушки отбросим первый скодированный столбец - тем самым избежим мультиколлениарности и информация из него восстановима по информации из следующих столбцов."
   ]
  },
  {
   "cell_type": "code",
   "execution_count": 125,
   "metadata": {},
   "outputs": [],
   "source": [
    "data = pd.get_dummies(df, drop_first=True)"
   ]
  },
  {
   "cell_type": "markdown",
   "metadata": {},
   "source": [
    "### Попытка заполнить пропуски в Tenure регрессионной моделью"
   ]
  },
  {
   "cell_type": "markdown",
   "metadata": {},
   "source": [
    "идея - заполнить пропуски в столбце Tenure , сделав его целевым признаком."
   ]
  },
  {
   "cell_type": "markdown",
   "metadata": {},
   "source": [
    "отделим данные с пропусками в тестовый фрейм"
   ]
  },
  {
   "cell_type": "code",
   "execution_count": 126,
   "metadata": {},
   "outputs": [],
   "source": [
    "data_test = data[data['Tenure'].isna()]\n",
    "data_temp = data[~data['Tenure'].isna()]"
   ]
  },
  {
   "cell_type": "code",
   "execution_count": 127,
   "metadata": {},
   "outputs": [],
   "source": [
    "# выделим целевой пизнак \n",
    "target = data_temp['Tenure']\n",
    "features = data_temp.drop('Tenure', axis=1)\n",
    "target_test = data_test['Tenure']\n",
    "features_test = data_test.drop('Tenure', axis=1)"
   ]
  },
  {
   "cell_type": "code",
   "execution_count": 128,
   "metadata": {},
   "outputs": [],
   "source": [
    "# разделим данные на обучающие и валидационные\n",
    "features_train, features_valid, target_train, target_valid = train_test_split(features, target, test_size=0.25, random_state=12345)"
   ]
  },
  {
   "cell_type": "markdown",
   "metadata": {},
   "source": [
    "\n",
    "Перед моделированием необходимо масштабировать данные\n",
    "\n",
    "Различные масштабы признаков отрицательно влияют на моделирование набора данных. Это приводит к предвзятому результату прогнозов с точки зрения ошибок классификации и показателей точности.\n",
    "\n",
    "Будем использовать метод масштабирования - стандартизацию. (StandardScaler)\n"
   ]
  },
  {
   "cell_type": "code",
   "execution_count": 129,
   "metadata": {},
   "outputs": [
    {
     "data": {
      "text/plain": [
       "StandardScaler()"
      ]
     },
     "execution_count": 129,
     "metadata": {},
     "output_type": "execute_result"
    }
   ],
   "source": [
    "# выберем числовые признаки\n",
    "numeric = ['CreditScore','Age','Balance','EstimatedSalary']\n",
    "# создадим объект класса с функцией стандартизции\n",
    "scaler = StandardScaler()\n",
    "# настроим его на обучающих данных. Настройка — это вычисление среднего и дисперсии\n",
    "scaler.fit(features_train[numeric])"
   ]
  },
  {
   "cell_type": "code",
   "execution_count": 130,
   "metadata": {},
   "outputs": [
    {
     "name": "stderr",
     "output_type": "stream",
     "text": [
      "/tmp/ipykernel_37/4140061603.py:1: SettingWithCopyWarning: \n",
      "A value is trying to be set on a copy of a slice from a DataFrame.\n",
      "Try using .loc[row_indexer,col_indexer] = value instead\n",
      "\n",
      "See the caveats in the documentation: https://pandas.pydata.org/pandas-docs/stable/user_guide/indexing.html#returning-a-view-versus-a-copy\n",
      "  features_train[numeric] = scaler.transform(features_train[numeric])\n",
      "/opt/conda/lib/python3.9/site-packages/pandas/core/indexing.py:1738: SettingWithCopyWarning: \n",
      "A value is trying to be set on a copy of a slice from a DataFrame.\n",
      "Try using .loc[row_indexer,col_indexer] = value instead\n",
      "\n",
      "See the caveats in the documentation: https://pandas.pydata.org/pandas-docs/stable/user_guide/indexing.html#returning-a-view-versus-a-copy\n",
      "  self._setitem_single_column(loc, value[:, i].tolist(), pi)\n",
      "/tmp/ipykernel_37/4140061603.py:2: SettingWithCopyWarning: \n",
      "A value is trying to be set on a copy of a slice from a DataFrame.\n",
      "Try using .loc[row_indexer,col_indexer] = value instead\n",
      "\n",
      "See the caveats in the documentation: https://pandas.pydata.org/pandas-docs/stable/user_guide/indexing.html#returning-a-view-versus-a-copy\n",
      "  features_valid[numeric] = scaler.transform(features_valid[numeric])\n",
      "/opt/conda/lib/python3.9/site-packages/pandas/core/indexing.py:1738: SettingWithCopyWarning: \n",
      "A value is trying to be set on a copy of a slice from a DataFrame.\n",
      "Try using .loc[row_indexer,col_indexer] = value instead\n",
      "\n",
      "See the caveats in the documentation: https://pandas.pydata.org/pandas-docs/stable/user_guide/indexing.html#returning-a-view-versus-a-copy\n",
      "  self._setitem_single_column(loc, value[:, i].tolist(), pi)\n"
     ]
    }
   ],
   "source": [
    "features_train[numeric] = scaler.transform(features_train[numeric])\n",
    "features_valid[numeric] = scaler.transform(features_valid[numeric])"
   ]
  },
  {
   "cell_type": "code",
   "execution_count": 131,
   "metadata": {},
   "outputs": [],
   "source": [
    "model = LinearRegression()"
   ]
  },
  {
   "cell_type": "code",
   "execution_count": 132,
   "metadata": {},
   "outputs": [
    {
     "data": {
      "text/plain": [
       "LinearRegression()"
      ]
     },
     "execution_count": 132,
     "metadata": {},
     "output_type": "execute_result"
    }
   ],
   "source": [
    "model.fit(features_train, target_train)"
   ]
  },
  {
   "cell_type": "code",
   "execution_count": 133,
   "metadata": {},
   "outputs": [
    {
     "data": {
      "text/plain": [
       "8.196555172728152"
      ]
     },
     "execution_count": 133,
     "metadata": {},
     "output_type": "execute_result"
    }
   ],
   "source": [
    "# создадим константную модель с которой будем сравнивать нашу модель\n",
    "const_model = pd.Series(target_valid.mean(), index=target_valid.index)\n",
    "\n",
    "# посмотрим сразу на среднеквадратичную ошибку (Mean Squared Error) \n",
    "# – cреднее арифметическое (Mean) квадратов разностей между предсказанными и реальными значениями модели \n",
    "mse = mean_squared_error(target_valid, const_model)\n",
    "mse"
   ]
  },
  {
   "cell_type": "markdown",
   "metadata": {},
   "source": [
    "Среднеквадратическая ошибка — это одна из метрик ошибок для оценки точности и частоты ошибок любого алгоритма машинного обучения для задачи регрессии.\n",
    "\n",
    "MSE — это функция риска, которая помогает нам определить среднеквадратичную разницу между прогнозируемым и фактическим значением признака или переменной.\n"
   ]
  },
  {
   "cell_type": "code",
   "execution_count": 134,
   "metadata": {},
   "outputs": [
    {
     "data": {
      "text/plain": [
       "8.216030572895233"
      ]
     },
     "execution_count": 134,
     "metadata": {},
     "output_type": "execute_result"
    }
   ],
   "source": [
    "predicted_valid = model.predict(features_valid)\n",
    "mse = mean_squared_error(target_valid, predicted_valid)\n",
    "mse"
   ]
  },
  {
   "cell_type": "markdown",
   "metadata": {},
   "source": [
    "посмотрим коэффициент детерминации(метрика R2) - долю средней квадратичной ошибки модели от MSE среднего, с вычетом из единицы. Увеличение метрики означает прирост качества модели."
   ]
  },
  {
   "cell_type": "code",
   "execution_count": 135,
   "metadata": {},
   "outputs": [
    {
     "data": {
      "text/plain": [
       "-0.002376046980307356"
      ]
     },
     "execution_count": 135,
     "metadata": {},
     "output_type": "execute_result"
    }
   ],
   "source": [
    "r2_score(target_valid, predicted_valid)"
   ]
  },
  {
   "cell_type": "markdown",
   "metadata": {},
   "source": [
    "Когда R² отрицательно, это означает, что модель хуже, чем предсказание среднего значения\n",
    "\n",
    "r2 меньше 0 качество модели очень низкое"
   ]
  },
  {
   "cell_type": "markdown",
   "metadata": {},
   "source": [
    "Создадим константную модель с медианным значением для получения средней абсолютной ошибки"
   ]
  },
  {
   "cell_type": "code",
   "execution_count": 136,
   "metadata": {},
   "outputs": [],
   "source": [
    "median_model = pd.Series(target_valid.median(), index=target_valid.index)"
   ]
  },
  {
   "cell_type": "code",
   "execution_count": 137,
   "metadata": {},
   "outputs": [
    {
     "data": {
      "text/plain": [
       "2.445666520017598"
      ]
     },
     "execution_count": 137,
     "metadata": {},
     "output_type": "execute_result"
    }
   ],
   "source": [
    "mean_absolute_error(target_valid, median_model)"
   ]
  },
  {
   "cell_type": "markdown",
   "metadata": {},
   "source": [
    "получается модель ошибается в предсказании искомого признака (который измряется в годах) среднем на 2 года и 4 месяца."
   ]
  },
  {
   "cell_type": "markdown",
   "metadata": {},
   "source": [
    "пропуски заполню средним значением"
   ]
  },
  {
   "cell_type": "code",
   "execution_count": 138,
   "metadata": {},
   "outputs": [],
   "source": [
    "data['Tenure'] = data.groupby(['Geography_Germany','Geography_Spain','Gender_Male'])['Tenure'].transform(lambda x: x.fillna(x.median()))"
   ]
  },
  {
   "cell_type": "markdown",
   "metadata": {},
   "source": [
    "## Исследование задачи"
   ]
  },
  {
   "cell_type": "markdown",
   "metadata": {},
   "source": [
    "Выделим целевой признак  "
   ]
  },
  {
   "cell_type": "code",
   "execution_count": 139,
   "metadata": {},
   "outputs": [],
   "source": [
    "target = data['Exited']\n",
    "features = data.drop('Exited', axis=1)"
   ]
  },
  {
   "cell_type": "markdown",
   "metadata": {},
   "source": [
    "и разобъём данные на три фрейма: тренировачные, валидационные и тестовые"
   ]
  },
  {
   "cell_type": "code",
   "execution_count": 140,
   "metadata": {},
   "outputs": [],
   "source": [
    "features_t, features_test, target_t, target_test = train_test_split(\n",
    "    features, target, test_size=0.2, random_state=12345) #  stratify=target ,"
   ]
  },
  {
   "cell_type": "code",
   "execution_count": 141,
   "metadata": {},
   "outputs": [],
   "source": [
    "features_train, features_valid, target_train, target_valid = train_test_split(\n",
    "    features_t, target_t, test_size=0.25, stratify=target_t , random_state=12345)"
   ]
  },
  {
   "cell_type": "code",
   "execution_count": 142,
   "metadata": {},
   "outputs": [
    {
     "name": "stdout",
     "output_type": "stream",
     "text": [
      "(6000,) (2000,) (2000,)\n"
     ]
    }
   ],
   "source": [
    "print(target_train.shape,target_valid.shape,target_test.shape)"
   ]
  },
  {
   "cell_type": "markdown",
   "metadata": {},
   "source": [
    "### масштабирование"
   ]
  },
  {
   "cell_type": "code",
   "execution_count": 143,
   "metadata": {},
   "outputs": [],
   "source": [
    "#Перед моделированием необходимо масштабировать данные\n",
    "\n",
    "# выберем числовые признаки\n",
    "numeric = ['CreditScore','Age','Tenure','Balance','NumOfProducts','HasCrCard','IsActiveMember','EstimatedSalary']\n",
    "# создадим объект класса с функцией стандартизции\n",
    "scaler = StandardScaler()"
   ]
  },
  {
   "cell_type": "code",
   "execution_count": 144,
   "metadata": {},
   "outputs": [
    {
     "name": "stderr",
     "output_type": "stream",
     "text": [
      "/tmp/ipykernel_37/2453302510.py:2: SettingWithCopyWarning: \n",
      "A value is trying to be set on a copy of a slice from a DataFrame.\n",
      "Try using .loc[row_indexer,col_indexer] = value instead\n",
      "\n",
      "See the caveats in the documentation: https://pandas.pydata.org/pandas-docs/stable/user_guide/indexing.html#returning-a-view-versus-a-copy\n",
      "  features_train[numeric] = scaler.transform(features_train[numeric])\n",
      "/opt/conda/lib/python3.9/site-packages/pandas/core/indexing.py:1738: SettingWithCopyWarning: \n",
      "A value is trying to be set on a copy of a slice from a DataFrame.\n",
      "Try using .loc[row_indexer,col_indexer] = value instead\n",
      "\n",
      "See the caveats in the documentation: https://pandas.pydata.org/pandas-docs/stable/user_guide/indexing.html#returning-a-view-versus-a-copy\n",
      "  self._setitem_single_column(loc, value[:, i].tolist(), pi)\n",
      "/tmp/ipykernel_37/2453302510.py:3: SettingWithCopyWarning: \n",
      "A value is trying to be set on a copy of a slice from a DataFrame.\n",
      "Try using .loc[row_indexer,col_indexer] = value instead\n",
      "\n",
      "See the caveats in the documentation: https://pandas.pydata.org/pandas-docs/stable/user_guide/indexing.html#returning-a-view-versus-a-copy\n",
      "  features_valid[numeric] = scaler.transform(features_valid[numeric])\n",
      "/opt/conda/lib/python3.9/site-packages/pandas/core/indexing.py:1738: SettingWithCopyWarning: \n",
      "A value is trying to be set on a copy of a slice from a DataFrame.\n",
      "Try using .loc[row_indexer,col_indexer] = value instead\n",
      "\n",
      "See the caveats in the documentation: https://pandas.pydata.org/pandas-docs/stable/user_guide/indexing.html#returning-a-view-versus-a-copy\n",
      "  self._setitem_single_column(loc, value[:, i].tolist(), pi)\n",
      "/tmp/ipykernel_37/2453302510.py:4: SettingWithCopyWarning: \n",
      "A value is trying to be set on a copy of a slice from a DataFrame.\n",
      "Try using .loc[row_indexer,col_indexer] = value instead\n",
      "\n",
      "See the caveats in the documentation: https://pandas.pydata.org/pandas-docs/stable/user_guide/indexing.html#returning-a-view-versus-a-copy\n",
      "  features_test[numeric] = scaler.transform(features_test[numeric])\n",
      "/opt/conda/lib/python3.9/site-packages/pandas/core/indexing.py:1738: SettingWithCopyWarning: \n",
      "A value is trying to be set on a copy of a slice from a DataFrame.\n",
      "Try using .loc[row_indexer,col_indexer] = value instead\n",
      "\n",
      "See the caveats in the documentation: https://pandas.pydata.org/pandas-docs/stable/user_guide/indexing.html#returning-a-view-versus-a-copy\n",
      "  self._setitem_single_column(loc, value[:, i].tolist(), pi)\n"
     ]
    }
   ],
   "source": [
    "scaler.fit(features_train[numeric])\n",
    "features_train[numeric] = scaler.transform(features_train[numeric])\n",
    "features_valid[numeric] = scaler.transform(features_valid[numeric])\n",
    "features_test[numeric] = scaler.transform(features_test[numeric])"
   ]
  },
  {
   "cell_type": "markdown",
   "metadata": {},
   "source": [
    "### поиск лучшей модели"
   ]
  },
  {
   "cell_type": "markdown",
   "metadata": {},
   "source": [
    "опробуем классификатор логистической регрессией"
   ]
  },
  {
   "cell_type": "code",
   "execution_count": 145,
   "metadata": {},
   "outputs": [],
   "source": [
    "model_lr = LogisticRegression(random_state=12345)"
   ]
  },
  {
   "cell_type": "code",
   "execution_count": 146,
   "metadata": {},
   "outputs": [
    {
     "data": {
      "text/plain": [
       "LogisticRegression(random_state=12345)"
      ]
     },
     "execution_count": 146,
     "metadata": {},
     "output_type": "execute_result"
    }
   ],
   "source": [
    "model_lr.fit(features_train, target_train)"
   ]
  },
  {
   "cell_type": "code",
   "execution_count": 147,
   "metadata": {},
   "outputs": [
    {
     "data": {
      "text/plain": [
       "0.3052064631956912"
      ]
     },
     "execution_count": 147,
     "metadata": {},
     "output_type": "execute_result"
    }
   ],
   "source": [
    "predicted_lr_valid = model_lr.predict(features_valid)\n",
    "f1_score(target_valid, predicted_lr_valid)"
   ]
  },
  {
   "cell_type": "markdown",
   "metadata": {},
   "source": [
    "теперь попробуем случайный лес - с перебором некоторых гиперпараметров"
   ]
  },
  {
   "cell_type": "code",
   "execution_count": 148,
   "metadata": {},
   "outputs": [],
   "source": [
    "#  словарь со списками гиперпараметров которые надо  перебрать в поисках лучшей модели\n",
    "random_grid = {'max_depth': [10, 20, 30, 40],  \n",
    "               'min_samples_leaf': [1, 2, 3, 4],\n",
    "               'min_samples_split': [2, 5, 10],\n",
    "               'n_estimators': [130, 180, 230]}"
   ]
  },
  {
   "cell_type": "code",
   "execution_count": 159,
   "metadata": {},
   "outputs": [],
   "source": [
    "model_rf = RandomForestClassifier(random_state=12345) # создадим объект класса - случайный лес классификатор\n",
    "# случайно переберем параметры с использованием 3-кратной перекрестной валидации\n",
    "# переберем 100 различных комбинаций\n",
    "\n",
    "rf_random = RandomizedSearchCV(estimator = model_rf, \n",
    "                               param_distributions = random_grid, \n",
    "                               n_iter = 100, \n",
    "                               cv = 3, \n",
    "                               verbose=2, \n",
    "                               random_state=12345, \n",
    "                               n_jobs = -1,\n",
    "                               scoring='f1')"
   ]
  },
  {
   "cell_type": "code",
   "execution_count": 160,
   "metadata": {},
   "outputs": [
    {
     "name": "stdout",
     "output_type": "stream",
     "text": [
      "Fitting 3 folds for each of 100 candidates, totalling 300 fits\n",
      "[CV] END max_depth=20, min_samples_leaf=2, min_samples_split=10, n_estimators=130; total time=   0.6s\n",
      "[CV] END max_depth=20, min_samples_leaf=2, min_samples_split=10, n_estimators=130; total time=   0.6s\n",
      "[CV] END max_depth=20, min_samples_leaf=2, min_samples_split=10, n_estimators=130; total time=   0.6s\n",
      "[CV] END max_depth=10, min_samples_leaf=2, min_samples_split=10, n_estimators=180; total time=   0.8s\n",
      "[CV] END max_depth=10, min_samples_leaf=2, min_samples_split=10, n_estimators=180; total time=   0.7s\n",
      "[CV] END max_depth=10, min_samples_leaf=2, min_samples_split=10, n_estimators=180; total time=   0.8s\n",
      "[CV] END max_depth=40, min_samples_leaf=3, min_samples_split=2, n_estimators=180; total time=   0.9s\n",
      "[CV] END max_depth=40, min_samples_leaf=3, min_samples_split=2, n_estimators=180; total time=   0.8s\n",
      "[CV] END max_depth=40, min_samples_leaf=3, min_samples_split=2, n_estimators=180; total time=   0.8s\n",
      "[CV] END max_depth=10, min_samples_leaf=4, min_samples_split=2, n_estimators=180; total time=   0.8s\n",
      "[CV] END max_depth=10, min_samples_leaf=4, min_samples_split=2, n_estimators=180; total time=   0.7s\n",
      "[CV] END max_depth=10, min_samples_leaf=4, min_samples_split=2, n_estimators=180; total time=   0.7s\n",
      "[CV] END max_depth=20, min_samples_leaf=4, min_samples_split=10, n_estimators=130; total time=   0.6s\n",
      "[CV] END max_depth=20, min_samples_leaf=4, min_samples_split=10, n_estimators=130; total time=   0.6s\n",
      "[CV] END max_depth=20, min_samples_leaf=4, min_samples_split=10, n_estimators=130; total time=   0.6s\n",
      "[CV] END max_depth=20, min_samples_leaf=2, min_samples_split=5, n_estimators=130; total time=   0.6s\n",
      "[CV] END max_depth=20, min_samples_leaf=2, min_samples_split=5, n_estimators=130; total time=   0.6s\n",
      "[CV] END max_depth=20, min_samples_leaf=2, min_samples_split=5, n_estimators=130; total time=   0.6s\n",
      "[CV] END max_depth=30, min_samples_leaf=4, min_samples_split=5, n_estimators=130; total time=   0.6s\n",
      "[CV] END max_depth=30, min_samples_leaf=4, min_samples_split=5, n_estimators=130; total time=   0.6s\n",
      "[CV] END max_depth=30, min_samples_leaf=4, min_samples_split=5, n_estimators=130; total time=   0.6s\n",
      "[CV] END max_depth=30, min_samples_leaf=3, min_samples_split=2, n_estimators=130; total time=   0.7s\n",
      "[CV] END max_depth=30, min_samples_leaf=3, min_samples_split=2, n_estimators=130; total time=   0.6s\n",
      "[CV] END max_depth=30, min_samples_leaf=3, min_samples_split=2, n_estimators=130; total time=   0.6s\n",
      "[CV] END max_depth=20, min_samples_leaf=1, min_samples_split=10, n_estimators=130; total time=   0.6s\n",
      "[CV] END max_depth=20, min_samples_leaf=1, min_samples_split=10, n_estimators=130; total time=   0.6s\n",
      "[CV] END max_depth=20, min_samples_leaf=1, min_samples_split=10, n_estimators=130; total time=   0.6s\n",
      "[CV] END max_depth=20, min_samples_leaf=1, min_samples_split=5, n_estimators=130; total time=   0.6s\n",
      "[CV] END max_depth=20, min_samples_leaf=1, min_samples_split=5, n_estimators=130; total time=   0.6s\n",
      "[CV] END max_depth=20, min_samples_leaf=1, min_samples_split=5, n_estimators=130; total time=   0.6s\n",
      "[CV] END max_depth=10, min_samples_leaf=2, min_samples_split=10, n_estimators=230; total time=   0.9s\n",
      "[CV] END max_depth=10, min_samples_leaf=2, min_samples_split=10, n_estimators=230; total time=   1.0s\n",
      "[CV] END max_depth=10, min_samples_leaf=2, min_samples_split=10, n_estimators=230; total time=   0.9s\n",
      "[CV] END max_depth=30, min_samples_leaf=2, min_samples_split=5, n_estimators=230; total time=   1.1s\n",
      "[CV] END max_depth=30, min_samples_leaf=2, min_samples_split=5, n_estimators=230; total time=   1.1s\n",
      "[CV] END max_depth=30, min_samples_leaf=2, min_samples_split=5, n_estimators=230; total time=   1.1s\n",
      "[CV] END max_depth=10, min_samples_leaf=3, min_samples_split=10, n_estimators=130; total time=   0.6s\n",
      "[CV] END max_depth=10, min_samples_leaf=3, min_samples_split=10, n_estimators=130; total time=   0.6s\n",
      "[CV] END max_depth=10, min_samples_leaf=3, min_samples_split=10, n_estimators=130; total time=   0.6s\n",
      "[CV] END max_depth=30, min_samples_leaf=3, min_samples_split=5, n_estimators=230; total time=   1.2s\n",
      "[CV] END max_depth=30, min_samples_leaf=3, min_samples_split=5, n_estimators=230; total time=   1.1s\n",
      "[CV] END max_depth=30, min_samples_leaf=3, min_samples_split=5, n_estimators=230; total time=   1.1s\n",
      "[CV] END max_depth=40, min_samples_leaf=1, min_samples_split=2, n_estimators=230; total time=   1.2s\n",
      "[CV] END max_depth=40, min_samples_leaf=1, min_samples_split=2, n_estimators=230; total time=   1.2s\n",
      "[CV] END max_depth=40, min_samples_leaf=1, min_samples_split=2, n_estimators=230; total time=   1.2s\n",
      "[CV] END max_depth=40, min_samples_leaf=4, min_samples_split=5, n_estimators=230; total time=   1.1s\n",
      "[CV] END max_depth=40, min_samples_leaf=4, min_samples_split=5, n_estimators=230; total time=   1.0s\n",
      "[CV] END max_depth=40, min_samples_leaf=4, min_samples_split=5, n_estimators=230; total time=   1.1s\n",
      "[CV] END max_depth=40, min_samples_leaf=1, min_samples_split=5, n_estimators=130; total time=   0.6s\n",
      "[CV] END max_depth=40, min_samples_leaf=1, min_samples_split=5, n_estimators=130; total time=   0.6s\n",
      "[CV] END max_depth=40, min_samples_leaf=1, min_samples_split=5, n_estimators=130; total time=   0.7s\n",
      "[CV] END max_depth=10, min_samples_leaf=1, min_samples_split=5, n_estimators=180; total time=   0.8s\n",
      "[CV] END max_depth=10, min_samples_leaf=1, min_samples_split=5, n_estimators=180; total time=   0.8s\n",
      "[CV] END max_depth=10, min_samples_leaf=1, min_samples_split=5, n_estimators=180; total time=   0.8s\n",
      "[CV] END max_depth=20, min_samples_leaf=2, min_samples_split=2, n_estimators=230; total time=   1.1s\n",
      "[CV] END max_depth=20, min_samples_leaf=2, min_samples_split=2, n_estimators=230; total time=   1.1s\n",
      "[CV] END max_depth=20, min_samples_leaf=2, min_samples_split=2, n_estimators=230; total time=   1.1s\n",
      "[CV] END max_depth=40, min_samples_leaf=1, min_samples_split=10, n_estimators=180; total time=   0.9s\n",
      "[CV] END max_depth=40, min_samples_leaf=1, min_samples_split=10, n_estimators=180; total time=   0.9s\n",
      "[CV] END max_depth=40, min_samples_leaf=1, min_samples_split=10, n_estimators=180; total time=   0.9s\n",
      "[CV] END max_depth=40, min_samples_leaf=2, min_samples_split=2, n_estimators=230; total time=   1.1s\n",
      "[CV] END max_depth=40, min_samples_leaf=2, min_samples_split=2, n_estimators=230; total time=   1.1s\n",
      "[CV] END max_depth=40, min_samples_leaf=2, min_samples_split=2, n_estimators=230; total time=   1.1s\n",
      "[CV] END max_depth=10, min_samples_leaf=3, min_samples_split=2, n_estimators=180; total time=   0.8s\n",
      "[CV] END max_depth=10, min_samples_leaf=3, min_samples_split=2, n_estimators=180; total time=   0.8s\n",
      "[CV] END max_depth=10, min_samples_leaf=3, min_samples_split=2, n_estimators=180; total time=   0.8s\n",
      "[CV] END max_depth=20, min_samples_leaf=3, min_samples_split=10, n_estimators=130; total time=   0.6s\n",
      "[CV] END max_depth=20, min_samples_leaf=3, min_samples_split=10, n_estimators=130; total time=   0.6s\n",
      "[CV] END max_depth=20, min_samples_leaf=3, min_samples_split=10, n_estimators=130; total time=   0.6s\n",
      "[CV] END max_depth=20, min_samples_leaf=3, min_samples_split=2, n_estimators=130; total time=   0.6s\n",
      "[CV] END max_depth=20, min_samples_leaf=3, min_samples_split=2, n_estimators=130; total time=   0.6s\n",
      "[CV] END max_depth=20, min_samples_leaf=3, min_samples_split=2, n_estimators=130; total time=   0.6s\n",
      "[CV] END max_depth=40, min_samples_leaf=4, min_samples_split=2, n_estimators=130; total time=   0.6s\n",
      "[CV] END max_depth=40, min_samples_leaf=4, min_samples_split=2, n_estimators=130; total time=   0.6s\n",
      "[CV] END max_depth=40, min_samples_leaf=4, min_samples_split=2, n_estimators=130; total time=   0.6s\n",
      "[CV] END max_depth=40, min_samples_leaf=1, min_samples_split=10, n_estimators=230; total time=   1.1s\n",
      "[CV] END max_depth=40, min_samples_leaf=1, min_samples_split=10, n_estimators=230; total time=   1.1s\n",
      "[CV] END max_depth=40, min_samples_leaf=1, min_samples_split=10, n_estimators=230; total time=   1.1s\n",
      "[CV] END max_depth=30, min_samples_leaf=2, min_samples_split=5, n_estimators=130; total time=   0.6s\n",
      "[CV] END max_depth=30, min_samples_leaf=2, min_samples_split=5, n_estimators=130; total time=   0.6s\n",
      "[CV] END max_depth=30, min_samples_leaf=2, min_samples_split=5, n_estimators=130; total time=   0.6s\n",
      "[CV] END max_depth=10, min_samples_leaf=4, min_samples_split=10, n_estimators=230; total time=   1.0s\n",
      "[CV] END max_depth=10, min_samples_leaf=4, min_samples_split=10, n_estimators=230; total time=   1.0s\n",
      "[CV] END max_depth=10, min_samples_leaf=4, min_samples_split=10, n_estimators=230; total time=   1.0s\n",
      "[CV] END max_depth=20, min_samples_leaf=4, min_samples_split=5, n_estimators=230; total time=   1.1s\n",
      "[CV] END max_depth=20, min_samples_leaf=4, min_samples_split=5, n_estimators=230; total time=   1.0s\n",
      "[CV] END max_depth=20, min_samples_leaf=4, min_samples_split=5, n_estimators=230; total time=   1.1s\n",
      "[CV] END max_depth=20, min_samples_leaf=4, min_samples_split=5, n_estimators=130; total time=   0.6s\n",
      "[CV] END max_depth=20, min_samples_leaf=4, min_samples_split=5, n_estimators=130; total time=   0.6s\n",
      "[CV] END max_depth=20, min_samples_leaf=4, min_samples_split=5, n_estimators=130; total time=   0.6s\n",
      "[CV] END max_depth=30, min_samples_leaf=4, min_samples_split=10, n_estimators=230; total time=   1.1s\n",
      "[CV] END max_depth=30, min_samples_leaf=4, min_samples_split=10, n_estimators=230; total time=   1.0s\n",
      "[CV] END max_depth=30, min_samples_leaf=4, min_samples_split=10, n_estimators=230; total time=   1.0s\n",
      "[CV] END max_depth=40, min_samples_leaf=2, min_samples_split=10, n_estimators=230; total time=   1.1s\n",
      "[CV] END max_depth=40, min_samples_leaf=2, min_samples_split=10, n_estimators=230; total time=   1.0s\n",
      "[CV] END max_depth=40, min_samples_leaf=2, min_samples_split=10, n_estimators=230; total time=   1.1s\n",
      "[CV] END max_depth=10, min_samples_leaf=4, min_samples_split=10, n_estimators=130; total time=   0.5s\n",
      "[CV] END max_depth=10, min_samples_leaf=4, min_samples_split=10, n_estimators=130; total time=   0.5s\n",
      "[CV] END max_depth=10, min_samples_leaf=4, min_samples_split=10, n_estimators=130; total time=   0.5s\n",
      "[CV] END max_depth=40, min_samples_leaf=2, min_samples_split=2, n_estimators=130; total time=   0.6s\n",
      "[CV] END max_depth=40, min_samples_leaf=2, min_samples_split=2, n_estimators=130; total time=   0.6s\n",
      "[CV] END max_depth=40, min_samples_leaf=2, min_samples_split=2, n_estimators=130; total time=   0.6s\n",
      "[CV] END max_depth=10, min_samples_leaf=2, min_samples_split=5, n_estimators=180; total time=   0.8s\n",
      "[CV] END max_depth=10, min_samples_leaf=2, min_samples_split=5, n_estimators=180; total time=   0.8s\n",
      "[CV] END max_depth=10, min_samples_leaf=2, min_samples_split=5, n_estimators=180; total time=   0.8s\n",
      "[CV] END max_depth=30, min_samples_leaf=1, min_samples_split=2, n_estimators=180; total time=   0.9s\n",
      "[CV] END max_depth=30, min_samples_leaf=1, min_samples_split=2, n_estimators=180; total time=   0.9s\n",
      "[CV] END max_depth=30, min_samples_leaf=1, min_samples_split=2, n_estimators=180; total time=   1.0s\n",
      "[CV] END max_depth=10, min_samples_leaf=3, min_samples_split=10, n_estimators=180; total time=   0.8s\n",
      "[CV] END max_depth=10, min_samples_leaf=3, min_samples_split=10, n_estimators=180; total time=   0.7s\n",
      "[CV] END max_depth=10, min_samples_leaf=3, min_samples_split=10, n_estimators=180; total time=   0.8s\n",
      "[CV] END max_depth=20, min_samples_leaf=2, min_samples_split=10, n_estimators=180; total time=   0.9s\n",
      "[CV] END max_depth=20, min_samples_leaf=2, min_samples_split=10, n_estimators=180; total time=   0.9s\n",
      "[CV] END max_depth=20, min_samples_leaf=2, min_samples_split=10, n_estimators=180; total time=   0.8s\n",
      "[CV] END max_depth=10, min_samples_leaf=2, min_samples_split=2, n_estimators=130; total time=   0.6s\n",
      "[CV] END max_depth=10, min_samples_leaf=2, min_samples_split=2, n_estimators=130; total time=   0.6s\n",
      "[CV] END max_depth=10, min_samples_leaf=2, min_samples_split=2, n_estimators=130; total time=   0.6s\n",
      "[CV] END max_depth=20, min_samples_leaf=4, min_samples_split=10, n_estimators=180; total time=   0.8s\n",
      "[CV] END max_depth=20, min_samples_leaf=4, min_samples_split=10, n_estimators=180; total time=   0.8s\n",
      "[CV] END max_depth=20, min_samples_leaf=4, min_samples_split=10, n_estimators=180; total time=   0.8s\n",
      "[CV] END max_depth=30, min_samples_leaf=1, min_samples_split=10, n_estimators=130; total time=   0.6s\n",
      "[CV] END max_depth=30, min_samples_leaf=1, min_samples_split=10, n_estimators=130; total time=   0.6s\n",
      "[CV] END max_depth=30, min_samples_leaf=1, min_samples_split=10, n_estimators=130; total time=   0.6s\n",
      "[CV] END max_depth=40, min_samples_leaf=3, min_samples_split=2, n_estimators=230; total time=   1.1s\n",
      "[CV] END max_depth=40, min_samples_leaf=3, min_samples_split=2, n_estimators=230; total time=   1.1s\n",
      "[CV] END max_depth=40, min_samples_leaf=3, min_samples_split=2, n_estimators=230; total time=   1.1s\n",
      "[CV] END max_depth=40, min_samples_leaf=4, min_samples_split=10, n_estimators=180; total time=   0.8s\n",
      "[CV] END max_depth=40, min_samples_leaf=4, min_samples_split=10, n_estimators=180; total time=   0.8s\n",
      "[CV] END max_depth=40, min_samples_leaf=4, min_samples_split=10, n_estimators=180; total time=   0.8s\n",
      "[CV] END max_depth=40, min_samples_leaf=3, min_samples_split=5, n_estimators=230; total time=   1.1s\n",
      "[CV] END max_depth=40, min_samples_leaf=3, min_samples_split=5, n_estimators=230; total time=   1.1s\n",
      "[CV] END max_depth=40, min_samples_leaf=3, min_samples_split=5, n_estimators=230; total time=   1.2s\n",
      "[CV] END max_depth=30, min_samples_leaf=4, min_samples_split=5, n_estimators=230; total time=   1.1s\n",
      "[CV] END max_depth=30, min_samples_leaf=4, min_samples_split=5, n_estimators=230; total time=   1.0s\n",
      "[CV] END max_depth=30, min_samples_leaf=4, min_samples_split=5, n_estimators=230; total time=   1.1s\n",
      "[CV] END max_depth=20, min_samples_leaf=2, min_samples_split=2, n_estimators=130; total time=   0.7s\n",
      "[CV] END max_depth=20, min_samples_leaf=2, min_samples_split=2, n_estimators=130; total time=   0.6s\n",
      "[CV] END max_depth=20, min_samples_leaf=2, min_samples_split=2, n_estimators=130; total time=   0.6s\n",
      "[CV] END max_depth=30, min_samples_leaf=3, min_samples_split=2, n_estimators=230; total time=   1.1s\n",
      "[CV] END max_depth=30, min_samples_leaf=3, min_samples_split=2, n_estimators=230; total time=   1.1s\n",
      "[CV] END max_depth=30, min_samples_leaf=3, min_samples_split=2, n_estimators=230; total time=   1.1s\n",
      "[CV] END max_depth=40, min_samples_leaf=1, min_samples_split=5, n_estimators=180; total time=   0.9s\n",
      "[CV] END max_depth=40, min_samples_leaf=1, min_samples_split=5, n_estimators=180; total time=   0.9s\n",
      "[CV] END max_depth=40, min_samples_leaf=1, min_samples_split=5, n_estimators=180; total time=   0.9s\n",
      "[CV] END max_depth=10, min_samples_leaf=3, min_samples_split=2, n_estimators=230; total time=   1.0s\n",
      "[CV] END max_depth=10, min_samples_leaf=3, min_samples_split=2, n_estimators=230; total time=   1.0s\n",
      "[CV] END max_depth=10, min_samples_leaf=3, min_samples_split=2, n_estimators=230; total time=   1.0s\n",
      "[CV] END max_depth=20, min_samples_leaf=1, min_samples_split=5, n_estimators=180; total time=   0.9s\n",
      "[CV] END max_depth=20, min_samples_leaf=1, min_samples_split=5, n_estimators=180; total time=   0.9s\n",
      "[CV] END max_depth=20, min_samples_leaf=1, min_samples_split=5, n_estimators=180; total time=   0.9s\n",
      "[CV] END max_depth=30, min_samples_leaf=2, min_samples_split=10, n_estimators=230; total time=   1.1s\n",
      "[CV] END max_depth=30, min_samples_leaf=2, min_samples_split=10, n_estimators=230; total time=   1.1s\n",
      "[CV] END max_depth=30, min_samples_leaf=2, min_samples_split=10, n_estimators=230; total time=   1.1s\n",
      "[CV] END max_depth=20, min_samples_leaf=4, min_samples_split=2, n_estimators=230; total time=   1.1s\n",
      "[CV] END max_depth=20, min_samples_leaf=4, min_samples_split=2, n_estimators=230; total time=   1.1s\n",
      "[CV] END max_depth=20, min_samples_leaf=4, min_samples_split=2, n_estimators=230; total time=   1.1s\n",
      "[CV] END max_depth=40, min_samples_leaf=4, min_samples_split=2, n_estimators=230; total time=   1.1s\n",
      "[CV] END max_depth=40, min_samples_leaf=4, min_samples_split=2, n_estimators=230; total time=   1.1s\n",
      "[CV] END max_depth=40, min_samples_leaf=4, min_samples_split=2, n_estimators=230; total time=   1.0s\n",
      "[CV] END max_depth=30, min_samples_leaf=4, min_samples_split=10, n_estimators=180; total time=   0.8s\n",
      "[CV] END max_depth=30, min_samples_leaf=4, min_samples_split=10, n_estimators=180; total time=   0.8s\n",
      "[CV] END max_depth=30, min_samples_leaf=4, min_samples_split=10, n_estimators=180; total time=   0.8s\n",
      "[CV] END max_depth=30, min_samples_leaf=2, min_samples_split=5, n_estimators=180; total time=   0.9s\n",
      "[CV] END max_depth=30, min_samples_leaf=2, min_samples_split=5, n_estimators=180; total time=   0.9s\n",
      "[CV] END max_depth=30, min_samples_leaf=2, min_samples_split=5, n_estimators=180; total time=   0.9s\n",
      "[CV] END max_depth=20, min_samples_leaf=4, min_samples_split=5, n_estimators=180; total time=   0.8s\n",
      "[CV] END max_depth=20, min_samples_leaf=4, min_samples_split=5, n_estimators=180; total time=   0.8s\n",
      "[CV] END max_depth=20, min_samples_leaf=4, min_samples_split=5, n_estimators=180; total time=   0.8s\n",
      "[CV] END max_depth=10, min_samples_leaf=1, min_samples_split=10, n_estimators=230; total time=   1.0s\n",
      "[CV] END max_depth=10, min_samples_leaf=1, min_samples_split=10, n_estimators=230; total time=   1.0s\n",
      "[CV] END max_depth=10, min_samples_leaf=1, min_samples_split=10, n_estimators=230; total time=   1.0s\n",
      "[CV] END max_depth=20, min_samples_leaf=1, min_samples_split=2, n_estimators=180; total time=   0.9s\n",
      "[CV] END max_depth=20, min_samples_leaf=1, min_samples_split=2, n_estimators=180; total time=   0.9s\n",
      "[CV] END max_depth=20, min_samples_leaf=1, min_samples_split=2, n_estimators=180; total time=   1.0s\n",
      "[CV] END max_depth=20, min_samples_leaf=4, min_samples_split=10, n_estimators=230; total time=   1.1s\n",
      "[CV] END max_depth=20, min_samples_leaf=4, min_samples_split=10, n_estimators=230; total time=   1.0s\n",
      "[CV] END max_depth=20, min_samples_leaf=4, min_samples_split=10, n_estimators=230; total time=   1.0s\n",
      "[CV] END max_depth=30, min_samples_leaf=3, min_samples_split=10, n_estimators=130; total time=   0.6s\n",
      "[CV] END max_depth=30, min_samples_leaf=3, min_samples_split=10, n_estimators=130; total time=   0.6s\n",
      "[CV] END max_depth=30, min_samples_leaf=3, min_samples_split=10, n_estimators=130; total time=   0.6s\n",
      "[CV] END max_depth=20, min_samples_leaf=2, min_samples_split=5, n_estimators=180; total time=   0.9s\n",
      "[CV] END max_depth=20, min_samples_leaf=2, min_samples_split=5, n_estimators=180; total time=   0.9s\n",
      "[CV] END max_depth=20, min_samples_leaf=2, min_samples_split=5, n_estimators=180; total time=   0.9s\n",
      "[CV] END max_depth=10, min_samples_leaf=1, min_samples_split=2, n_estimators=230; total time=   1.0s\n",
      "[CV] END max_depth=10, min_samples_leaf=1, min_samples_split=2, n_estimators=230; total time=   1.0s\n",
      "[CV] END max_depth=10, min_samples_leaf=1, min_samples_split=2, n_estimators=230; total time=   1.0s\n",
      "[CV] END max_depth=10, min_samples_leaf=1, min_samples_split=10, n_estimators=130; total time=   0.5s\n",
      "[CV] END max_depth=10, min_samples_leaf=1, min_samples_split=10, n_estimators=130; total time=   0.5s\n",
      "[CV] END max_depth=10, min_samples_leaf=1, min_samples_split=10, n_estimators=130; total time=   0.6s\n",
      "[CV] END max_depth=30, min_samples_leaf=4, min_samples_split=2, n_estimators=180; total time=   0.9s\n",
      "[CV] END max_depth=30, min_samples_leaf=4, min_samples_split=2, n_estimators=180; total time=   0.8s\n",
      "[CV] END max_depth=30, min_samples_leaf=4, min_samples_split=2, n_estimators=180; total time=   0.9s\n",
      "[CV] END max_depth=40, min_samples_leaf=1, min_samples_split=2, n_estimators=180; total time=   1.0s\n",
      "[CV] END max_depth=40, min_samples_leaf=1, min_samples_split=2, n_estimators=180; total time=   0.9s\n",
      "[CV] END max_depth=40, min_samples_leaf=1, min_samples_split=2, n_estimators=180; total time=   0.9s\n",
      "[CV] END max_depth=10, min_samples_leaf=4, min_samples_split=5, n_estimators=230; total time=   1.0s\n",
      "[CV] END max_depth=10, min_samples_leaf=4, min_samples_split=5, n_estimators=230; total time=   1.0s\n",
      "[CV] END max_depth=10, min_samples_leaf=4, min_samples_split=5, n_estimators=230; total time=   1.0s\n",
      "[CV] END max_depth=10, min_samples_leaf=4, min_samples_split=5, n_estimators=130; total time=   0.5s\n",
      "[CV] END max_depth=10, min_samples_leaf=4, min_samples_split=5, n_estimators=130; total time=   0.6s\n",
      "[CV] END max_depth=10, min_samples_leaf=4, min_samples_split=5, n_estimators=130; total time=   0.5s\n",
      "[CV] END max_depth=40, min_samples_leaf=2, min_samples_split=5, n_estimators=230; total time=   1.2s\n",
      "[CV] END max_depth=40, min_samples_leaf=2, min_samples_split=5, n_estimators=230; total time=   1.1s\n",
      "[CV] END max_depth=40, min_samples_leaf=2, min_samples_split=5, n_estimators=230; total time=   1.2s\n",
      "[CV] END max_depth=10, min_samples_leaf=3, min_samples_split=10, n_estimators=230; total time=   1.0s\n",
      "[CV] END max_depth=10, min_samples_leaf=3, min_samples_split=10, n_estimators=230; total time=   1.0s\n",
      "[CV] END max_depth=10, min_samples_leaf=3, min_samples_split=10, n_estimators=230; total time=   1.0s\n",
      "[CV] END max_depth=30, min_samples_leaf=3, min_samples_split=5, n_estimators=130; total time=   0.6s\n",
      "[CV] END max_depth=30, min_samples_leaf=3, min_samples_split=5, n_estimators=130; total time=   0.6s\n",
      "[CV] END max_depth=30, min_samples_leaf=3, min_samples_split=5, n_estimators=130; total time=   0.6s\n",
      "[CV] END max_depth=30, min_samples_leaf=1, min_samples_split=10, n_estimators=180; total time=   0.9s\n",
      "[CV] END max_depth=30, min_samples_leaf=1, min_samples_split=10, n_estimators=180; total time=   0.8s\n",
      "[CV] END max_depth=30, min_samples_leaf=1, min_samples_split=10, n_estimators=180; total time=   0.9s\n",
      "[CV] END max_depth=20, min_samples_leaf=1, min_samples_split=10, n_estimators=230; total time=   1.1s\n",
      "[CV] END max_depth=20, min_samples_leaf=1, min_samples_split=10, n_estimators=230; total time=   1.1s\n",
      "[CV] END max_depth=20, min_samples_leaf=1, min_samples_split=10, n_estimators=230; total time=   1.2s\n",
      "[CV] END max_depth=10, min_samples_leaf=1, min_samples_split=2, n_estimators=130; total time=   0.6s\n",
      "[CV] END max_depth=10, min_samples_leaf=1, min_samples_split=2, n_estimators=130; total time=   0.6s\n",
      "[CV] END max_depth=10, min_samples_leaf=1, min_samples_split=2, n_estimators=130; total time=   0.6s\n",
      "[CV] END max_depth=20, min_samples_leaf=4, min_samples_split=2, n_estimators=130; total time=   0.6s\n",
      "[CV] END max_depth=20, min_samples_leaf=4, min_samples_split=2, n_estimators=130; total time=   0.6s\n",
      "[CV] END max_depth=20, min_samples_leaf=4, min_samples_split=2, n_estimators=130; total time=   0.6s\n",
      "[CV] END max_depth=40, min_samples_leaf=2, min_samples_split=10, n_estimators=130; total time=   0.6s\n",
      "[CV] END max_depth=40, min_samples_leaf=2, min_samples_split=10, n_estimators=130; total time=   0.6s\n",
      "[CV] END max_depth=40, min_samples_leaf=2, min_samples_split=10, n_estimators=130; total time=   0.6s\n",
      "[CV] END max_depth=10, min_samples_leaf=3, min_samples_split=5, n_estimators=130; total time=   0.6s\n",
      "[CV] END max_depth=10, min_samples_leaf=3, min_samples_split=5, n_estimators=130; total time=   0.6s\n",
      "[CV] END max_depth=10, min_samples_leaf=3, min_samples_split=5, n_estimators=130; total time=   0.6s\n",
      "[CV] END max_depth=40, min_samples_leaf=2, min_samples_split=5, n_estimators=130; total time=   0.6s\n",
      "[CV] END max_depth=40, min_samples_leaf=2, min_samples_split=5, n_estimators=130; total time=   0.6s\n",
      "[CV] END max_depth=40, min_samples_leaf=2, min_samples_split=5, n_estimators=130; total time=   0.6s\n",
      "[CV] END max_depth=20, min_samples_leaf=3, min_samples_split=5, n_estimators=180; total time=   0.8s\n",
      "[CV] END max_depth=20, min_samples_leaf=3, min_samples_split=5, n_estimators=180; total time=   0.8s\n",
      "[CV] END max_depth=20, min_samples_leaf=3, min_samples_split=5, n_estimators=180; total time=   0.8s\n",
      "[CV] END max_depth=20, min_samples_leaf=2, min_samples_split=2, n_estimators=180; total time=   0.9s\n",
      "[CV] END max_depth=20, min_samples_leaf=2, min_samples_split=2, n_estimators=180; total time=   0.8s\n",
      "[CV] END max_depth=20, min_samples_leaf=2, min_samples_split=2, n_estimators=180; total time=   0.9s\n",
      "[CV] END max_depth=20, min_samples_leaf=3, min_samples_split=5, n_estimators=130; total time=   0.6s\n",
      "[CV] END max_depth=20, min_samples_leaf=3, min_samples_split=5, n_estimators=130; total time=   0.6s\n",
      "[CV] END max_depth=20, min_samples_leaf=3, min_samples_split=5, n_estimators=130; total time=   0.6s\n",
      "[CV] END max_depth=20, min_samples_leaf=2, min_samples_split=5, n_estimators=230; total time=   1.1s\n",
      "[CV] END max_depth=20, min_samples_leaf=2, min_samples_split=5, n_estimators=230; total time=   1.1s\n",
      "[CV] END max_depth=20, min_samples_leaf=2, min_samples_split=5, n_estimators=230; total time=   1.1s\n",
      "[CV] END max_depth=10, min_samples_leaf=3, min_samples_split=2, n_estimators=130; total time=   0.5s\n",
      "[CV] END max_depth=10, min_samples_leaf=3, min_samples_split=2, n_estimators=130; total time=   0.5s\n",
      "[CV] END max_depth=10, min_samples_leaf=3, min_samples_split=2, n_estimators=130; total time=   0.5s\n",
      "[CV] END max_depth=20, min_samples_leaf=1, min_samples_split=5, n_estimators=230; total time=   1.1s\n",
      "[CV] END max_depth=20, min_samples_leaf=1, min_samples_split=5, n_estimators=230; total time=   1.2s\n",
      "[CV] END max_depth=20, min_samples_leaf=1, min_samples_split=5, n_estimators=230; total time=   1.2s\n",
      "[CV] END max_depth=20, min_samples_leaf=3, min_samples_split=10, n_estimators=230; total time=   1.1s\n",
      "[CV] END max_depth=20, min_samples_leaf=3, min_samples_split=10, n_estimators=230; total time=   1.0s\n",
      "[CV] END max_depth=20, min_samples_leaf=3, min_samples_split=10, n_estimators=230; total time=   1.1s\n",
      "[CV] END max_depth=30, min_samples_leaf=3, min_samples_split=5, n_estimators=180; total time=   0.9s\n",
      "[CV] END max_depth=30, min_samples_leaf=3, min_samples_split=5, n_estimators=180; total time=   0.8s\n",
      "[CV] END max_depth=30, min_samples_leaf=3, min_samples_split=5, n_estimators=180; total time=   0.8s\n",
      "[CV] END max_depth=10, min_samples_leaf=3, min_samples_split=5, n_estimators=180; total time=   0.8s\n",
      "[CV] END max_depth=10, min_samples_leaf=3, min_samples_split=5, n_estimators=180; total time=   0.8s\n",
      "[CV] END max_depth=10, min_samples_leaf=3, min_samples_split=5, n_estimators=180; total time=   0.8s\n",
      "[CV] END max_depth=30, min_samples_leaf=1, min_samples_split=5, n_estimators=180; total time=   0.9s\n",
      "[CV] END max_depth=30, min_samples_leaf=1, min_samples_split=5, n_estimators=180; total time=   0.9s\n",
      "[CV] END max_depth=30, min_samples_leaf=1, min_samples_split=5, n_estimators=180; total time=   0.9s\n",
      "[CV] END max_depth=30, min_samples_leaf=1, min_samples_split=2, n_estimators=230; total time=   1.2s\n",
      "[CV] END max_depth=30, min_samples_leaf=1, min_samples_split=2, n_estimators=230; total time=   1.2s\n",
      "[CV] END max_depth=30, min_samples_leaf=1, min_samples_split=2, n_estimators=230; total time=   1.2s\n",
      "[CV] END max_depth=40, min_samples_leaf=3, min_samples_split=5, n_estimators=180; total time=   0.9s\n",
      "[CV] END max_depth=40, min_samples_leaf=3, min_samples_split=5, n_estimators=180; total time=   0.8s\n",
      "[CV] END max_depth=40, min_samples_leaf=3, min_samples_split=5, n_estimators=180; total time=   0.8s\n",
      "[CV] END max_depth=30, min_samples_leaf=2, min_samples_split=10, n_estimators=180; total time=   0.8s\n",
      "[CV] END max_depth=30, min_samples_leaf=2, min_samples_split=10, n_estimators=180; total time=   0.9s\n",
      "[CV] END max_depth=30, min_samples_leaf=2, min_samples_split=10, n_estimators=180; total time=   0.9s\n",
      "[CV] END max_depth=40, min_samples_leaf=2, min_samples_split=10, n_estimators=180; total time=   0.8s\n",
      "[CV] END max_depth=40, min_samples_leaf=2, min_samples_split=10, n_estimators=180; total time=   0.8s\n",
      "[CV] END max_depth=40, min_samples_leaf=2, min_samples_split=10, n_estimators=180; total time=   0.8s\n",
      "[CV] END max_depth=10, min_samples_leaf=4, min_samples_split=2, n_estimators=130; total time=   0.6s\n",
      "[CV] END max_depth=10, min_samples_leaf=4, min_samples_split=2, n_estimators=130; total time=   0.5s\n",
      "[CV] END max_depth=10, min_samples_leaf=4, min_samples_split=2, n_estimators=130; total time=   0.6s\n",
      "[CV] END max_depth=30, min_samples_leaf=1, min_samples_split=10, n_estimators=230; total time=   1.1s\n",
      "[CV] END max_depth=30, min_samples_leaf=1, min_samples_split=10, n_estimators=230; total time=   1.1s\n",
      "[CV] END max_depth=30, min_samples_leaf=1, min_samples_split=10, n_estimators=230; total time=   1.1s\n",
      "[CV] END max_depth=40, min_samples_leaf=3, min_samples_split=10, n_estimators=180; total time=   0.8s\n",
      "[CV] END max_depth=40, min_samples_leaf=3, min_samples_split=10, n_estimators=180; total time=   0.8s\n",
      "[CV] END max_depth=40, min_samples_leaf=3, min_samples_split=10, n_estimators=180; total time=   0.8s\n",
      "[CV] END max_depth=10, min_samples_leaf=2, min_samples_split=5, n_estimators=130; total time=   0.5s\n",
      "[CV] END max_depth=10, min_samples_leaf=2, min_samples_split=5, n_estimators=130; total time=   0.6s\n",
      "[CV] END max_depth=10, min_samples_leaf=2, min_samples_split=5, n_estimators=130; total time=   0.6s\n",
      "[CV] END max_depth=30, min_samples_leaf=2, min_samples_split=2, n_estimators=230; total time=   1.1s\n",
      "[CV] END max_depth=30, min_samples_leaf=2, min_samples_split=2, n_estimators=230; total time=   1.1s\n",
      "[CV] END max_depth=30, min_samples_leaf=2, min_samples_split=2, n_estimators=230; total time=   1.1s\n",
      "[CV] END max_depth=40, min_samples_leaf=3, min_samples_split=10, n_estimators=230; total time=   1.1s\n",
      "[CV] END max_depth=40, min_samples_leaf=3, min_samples_split=10, n_estimators=230; total time=   1.1s\n",
      "[CV] END max_depth=40, min_samples_leaf=3, min_samples_split=10, n_estimators=230; total time=   1.1s\n",
      "[CV] END max_depth=30, min_samples_leaf=4, min_samples_split=2, n_estimators=130; total time=   0.6s\n",
      "[CV] END max_depth=30, min_samples_leaf=4, min_samples_split=2, n_estimators=130; total time=   0.6s\n",
      "[CV] END max_depth=30, min_samples_leaf=4, min_samples_split=2, n_estimators=130; total time=   0.6s\n",
      "[CV] END max_depth=30, min_samples_leaf=3, min_samples_split=10, n_estimators=230; total time=   1.1s\n",
      "[CV] END max_depth=30, min_samples_leaf=3, min_samples_split=10, n_estimators=230; total time=   1.1s\n",
      "[CV] END max_depth=30, min_samples_leaf=3, min_samples_split=10, n_estimators=230; total time=   1.1s\n",
      "[CV] END max_depth=40, min_samples_leaf=2, min_samples_split=5, n_estimators=180; total time=   0.9s\n",
      "[CV] END max_depth=40, min_samples_leaf=2, min_samples_split=5, n_estimators=180; total time=   0.9s\n",
      "[CV] END max_depth=40, min_samples_leaf=2, min_samples_split=5, n_estimators=180; total time=   0.9s\n"
     ]
    },
    {
     "data": {
      "text/plain": [
       "RandomizedSearchCV(cv=3, estimator=RandomForestClassifier(random_state=12345),\n",
       "                   n_iter=100, n_jobs=-1,\n",
       "                   param_distributions={'max_depth': [10, 20, 30, 40],\n",
       "                                        'min_samples_leaf': [1, 2, 3, 4],\n",
       "                                        'min_samples_split': [2, 5, 10],\n",
       "                                        'n_estimators': [130, 180, 230]},\n",
       "                   random_state=12345, scoring='f1', verbose=2)"
      ]
     },
     "execution_count": 160,
     "metadata": {},
     "output_type": "execute_result"
    }
   ],
   "source": [
    "# обучим модель\n",
    "rf_random.fit(features_train, target_train)"
   ]
  },
  {
   "cell_type": "code",
   "execution_count": 161,
   "metadata": {},
   "outputs": [
    {
     "data": {
      "text/plain": [
       "0.5854623863908529"
      ]
     },
     "execution_count": 161,
     "metadata": {},
     "output_type": "execute_result"
    }
   ],
   "source": [
    "rf_random.best_score_"
   ]
  },
  {
   "cell_type": "code",
   "execution_count": 162,
   "metadata": {},
   "outputs": [
    {
     "data": {
      "text/plain": [
       "{'n_estimators': 180,\n",
       " 'min_samples_split': 5,\n",
       " 'min_samples_leaf': 1,\n",
       " 'max_depth': 20}"
      ]
     },
     "execution_count": 162,
     "metadata": {},
     "output_type": "execute_result"
    }
   ],
   "source": [
    "# посмотрим на параметры показавшие наиболешую оценку\n",
    "rf_random.best_params_"
   ]
  },
  {
   "cell_type": "markdown",
   "metadata": {},
   "source": [
    "{'n_estimators': 230,\n",
    " 'min_samples_split': 10,\n",
    " 'min_samples_leaf': 1,\n",
    " 'max_depth': 40}"
   ]
  },
  {
   "cell_type": "code",
   "execution_count": 163,
   "metadata": {},
   "outputs": [
    {
     "data": {
      "text/plain": [
       "0.5740740740740741"
      ]
     },
     "execution_count": 163,
     "metadata": {},
     "output_type": "execute_result"
    }
   ],
   "source": [
    "rf_best = rf_random.best_estimator_\n",
    "predicted_rf_valid = rf_best.predict(features_valid)\n",
    "\n",
    "f1_score(target_valid, predicted_rf_valid)"
   ]
  },
  {
   "cell_type": "markdown",
   "metadata": {},
   "source": [
    "Но f1 метрика лучше чем на логистической регрессии но еще низка - интересно изза чего"
   ]
  },
  {
   "cell_type": "code",
   "execution_count": 164,
   "metadata": {},
   "outputs": [
    {
     "data": {
      "text/plain": [
       "array([[1538,   60],\n",
       "       [ 216,  186]])"
      ]
     },
     "execution_count": 164,
     "metadata": {},
     "output_type": "execute_result"
    }
   ],
   "source": [
    "confusion_matrix(target_valid, predicted_rf_valid)"
   ]
  },
  {
   "cell_type": "code",
   "execution_count": 165,
   "metadata": {},
   "outputs": [
    {
     "data": {
      "text/plain": [
       "0.7560975609756098"
      ]
     },
     "execution_count": 165,
     "metadata": {},
     "output_type": "execute_result"
    }
   ],
   "source": [
    "precision_score(target_valid, predicted_rf_valid)"
   ]
  },
  {
   "cell_type": "code",
   "execution_count": 166,
   "metadata": {},
   "outputs": [
    {
     "data": {
      "text/plain": [
       "0.4626865671641791"
      ]
     },
     "execution_count": 166,
     "metadata": {},
     "output_type": "execute_result"
    }
   ],
   "source": [
    "recall_score(target_valid, predicted_rf_valid)"
   ]
  },
  {
   "cell_type": "markdown",
   "metadata": {},
   "source": [
    "получается что метрика полноты у нашей модели давольно низкая - очень много не выявленных положительных , то есть много ложнонегативных элементов показывает модель "
   ]
  },
  {
   "cell_type": "markdown",
   "metadata": {},
   "source": [
    "## Борьба с дисбалансом"
   ]
  },
  {
   "cell_type": "code",
   "execution_count": 167,
   "metadata": {},
   "outputs": [
    {
     "data": {
      "text/plain": [
       "0    0.7963\n",
       "1    0.2037\n",
       "Name: Exited, dtype: float64"
      ]
     },
     "execution_count": 167,
     "metadata": {},
     "output_type": "execute_result"
    }
   ],
   "source": [
    "data['Exited'].value_counts(normalize=True)"
   ]
  },
  {
   "cell_type": "markdown",
   "metadata": {},
   "source": [
    "Наблюдаем перекос в балансе классов - необходимо увеличить (up sampling) Exited==1 или уменьшить количество (down sampling) признака Exited класса=0"
   ]
  },
  {
   "cell_type": "markdown",
   "metadata": {},
   "source": [
    "попробуем случайный андерсэмплинг и оверсэмплинг"
   ]
  },
  {
   "cell_type": "code",
   "execution_count": 168,
   "metadata": {},
   "outputs": [],
   "source": [
    "# создам функции для выравнивания баланса классов \"случайным\" алгоритмом\n",
    "\n",
    "def upsample(features, target):\n",
    "    features_zeros = features[target == 0]\n",
    "    features_ones = features[target == 1]\n",
    "    target_zeros = target[target == 0]\n",
    "    target_ones = target[target == 1]\n",
    "    \n",
    "    repeat = (len(target_zeros)//len(target_ones))\n",
    "    \n",
    "    features_upsampled = pd.concat([features_zeros] + [features_ones] * repeat)\n",
    "    target_upsampled = pd.concat([target_zeros] + [target_ones] * repeat)\n",
    "    \n",
    "    features_upsampled, target_upsampled = shuffle(\n",
    "        features_upsampled, target_upsampled, random_state=12345)\n",
    "    \n",
    "    return features_upsampled, target_upsampled\n",
    "\n",
    "\n",
    "def downsample(features, target):\n",
    "    features_zeros = features[target == 0]\n",
    "    features_ones = features[target == 1]\n",
    "    target_zeros = target[target == 0]\n",
    "    target_ones = target[target == 1]\n",
    "\n",
    "    fraction = round((len(target_ones)/len(target_zeros)),1)\n",
    "        \n",
    "    features_downsampled = pd.concat(\n",
    "        [features_zeros.sample(frac=fraction, random_state=12345)] + [features_ones])\n",
    "    target_downsampled = pd.concat(\n",
    "        [target_zeros.sample(frac=fraction, random_state=12345)] + [target_ones])\n",
    "    \n",
    "    features_downsampled, target_downsampled = shuffle(\n",
    "        features_downsampled, target_downsampled, random_state=12345)\n",
    "    \n",
    "    return features_downsampled, target_downsampled"
   ]
  },
  {
   "cell_type": "code",
   "execution_count": 169,
   "metadata": {},
   "outputs": [],
   "source": [
    "features_upsampled, target_upsampled = upsample(features_train, target_train)\n",
    "\n",
    "features_downsampled, target_downsampled = downsample(features_train, target_train)"
   ]
  },
  {
   "cell_type": "code",
   "execution_count": 170,
   "metadata": {},
   "outputs": [
    {
     "data": {
      "text/plain": [
       "0    0.569392\n",
       "1    0.430608\n",
       "Name: Exited, dtype: float64"
      ]
     },
     "execution_count": 170,
     "metadata": {},
     "output_type": "execute_result"
    }
   ],
   "source": [
    "target_upsampled.value_counts(normalize=True)"
   ]
  },
  {
   "cell_type": "code",
   "execution_count": 171,
   "metadata": {},
   "outputs": [
    {
     "data": {
      "text/plain": [
       "0    0.543462\n",
       "1    0.456538\n",
       "Name: Exited, dtype: float64"
      ]
     },
     "execution_count": 171,
     "metadata": {},
     "output_type": "execute_result"
    }
   ],
   "source": [
    "target_downsampled.value_counts(normalize=True)"
   ]
  },
  {
   "cell_type": "markdown",
   "metadata": {},
   "source": [
    "мне кажется с таким балансом можно работать \n",
    "\n",
    "опробуем эти фреймы на полученной лучшей модели случайого леса"
   ]
  },
  {
   "cell_type": "markdown",
   "metadata": {},
   "source": [
    "###  валидация на сбалансированных данных"
   ]
  },
  {
   "cell_type": "code",
   "execution_count": 172,
   "metadata": {},
   "outputs": [],
   "source": [
    "rf_best_model = RandomForestClassifier(\n",
    "    n_estimators=230,\n",
    "    min_samples_split=10,\n",
    "    min_samples_leaf=1,\n",
    "    max_depth=40,\n",
    "    random_state=12345)"
   ]
  },
  {
   "cell_type": "code",
   "execution_count": 173,
   "metadata": {},
   "outputs": [
    {
     "data": {
      "text/plain": [
       "0.5971074380165289"
      ]
     },
     "execution_count": 173,
     "metadata": {},
     "output_type": "execute_result"
    }
   ],
   "source": [
    "rf_best_model.fit(features_downsampled, target_downsampled)\n",
    "predicted_rf_valid = rf_best_model.predict(features_valid)\n",
    "f1_score(target_valid, predicted_rf_valid)"
   ]
  },
  {
   "cell_type": "code",
   "execution_count": 174,
   "metadata": {},
   "outputs": [
    {
     "data": {
      "text/plain": [
       "0.601815823605707"
      ]
     },
     "execution_count": 174,
     "metadata": {},
     "output_type": "execute_result"
    }
   ],
   "source": [
    "rf_best_model.fit(features_upsampled, target_upsampled)\n",
    "predicted_rf_valid = rf_best_model.predict(features_valid)\n",
    "f1_score(target_valid, predicted_rf_valid)"
   ]
  },
  {
   "cell_type": "markdown",
   "metadata": {},
   "source": [
    "модель натренировалась однозначно лучше \n",
    "\n",
    "f1-метрика позволяет принять во внимание как точность так и полноту \n",
    "\n",
    "Видим что используя балансировку метрика f1 значительно улучшилась.\n",
    "\n",
    "А также баленсеровка 'случайным' апсемплингом лучше чем дуансемплингом, думаю это изза того что при этом алгоритме не уменьшается количество реальных данных"
   ]
  },
  {
   "cell_type": "markdown",
   "metadata": {},
   "source": [
    "Для того что бы увидель на сколько сильно наша модель отлияччается от случайной нужно посчитать площадь под ROC-кривой\n",
    " или кривой ошибок - изображается на графике как линия по координатам заданным показателями TPR и FPR\n",
    "\n",
    "Построить ROC-кривую поможет функция roc_curve() которой передаются фактическое значение y и вероятность предсказания положительного класса"
   ]
  },
  {
   "cell_type": "code",
   "execution_count": 175,
   "metadata": {},
   "outputs": [],
   "source": [
    "probabilities_valid = rf_best_model.predict_proba(features_valid)\n",
    "probabilities_one_valid = probabilities_valid[:, 1] # отберем вероятность класса - 1"
   ]
  },
  {
   "cell_type": "code",
   "execution_count": 176,
   "metadata": {},
   "outputs": [],
   "source": [
    "fpr, tpr, thresholds = roc_curve(target_valid, probabilities_one_valid) "
   ]
  },
  {
   "cell_type": "code",
   "execution_count": 177,
   "metadata": {},
   "outputs": [
    {
     "data": {
      "image/png": "[encoded data removed]",
      "text/plain": [
       "<Figure size 432x288 with 1 Axes>"
      ]
     },
     "metadata": {
      "needs_background": "light"
     },
     "output_type": "display_data"
    }
   ],
   "source": [
    "plt.figure()\n",
    "plt.plot(fpr, tpr)\n",
    "\n",
    "x = np.arange(0, 1.1, 0.1)\n",
    "y = np.arange(0, 1.1, 0.1)\n",
    "plt.plot(x, y)\n",
    "\n",
    "plt.xlim([0.0, 1.0])\n",
    "plt.ylim([0.0, 1.0])\n",
    "plt.xlabel('False Positive Rate')\n",
    "plt.ylabel('True Positive Rate')\n",
    "plt.title('ROC-кривая')\n",
    "plt.show() "
   ]
  },
  {
   "cell_type": "code",
   "execution_count": 178,
   "metadata": {},
   "outputs": [
    {
     "data": {
      "text/plain": [
       "0.8514841312835074"
      ]
     },
     "execution_count": 178,
     "metadata": {},
     "output_type": "execute_result"
    }
   ],
   "source": [
    "auc_roc = roc_auc_score(target_valid,probabilities_one_valid)\n",
    "auc_roc"
   ]
  },
  {
   "cell_type": "markdown",
   "metadata": {},
   "source": [
    "AUC-ROC случайной модели равна 0.5. Получается наша модель предсказывает точнее случайной на 35 пунктов"
   ]
  },
  {
   "cell_type": "markdown",
   "metadata": {},
   "source": [
    "Хочется посмотреть какие признаки оказали значительное влияние"
   ]
  },
  {
   "cell_type": "code",
   "execution_count": 108,
   "metadata": {},
   "outputs": [],
   "source": [
    "feature_imp = pd.Series(rf_best_model.feature_importances_,index=features_valid.columns).sort_values(ascending=False)"
   ]
  },
  {
   "cell_type": "code",
   "execution_count": 109,
   "metadata": {},
   "outputs": [
    {
     "data": {
      "image/png": "[encoded data removed]",
      "text/plain": [
       "<Figure size 432x288 with 1 Axes>"
      ]
     },
     "metadata": {
      "needs_background": "light"
     },
     "output_type": "display_data"
    }
   ],
   "source": [
    "%matplotlib inline\n",
    "\n",
    "sns.barplot(x=feature_imp, y=feature_imp.index)\n",
    "\n",
    "plt.xlabel('Важность признаков')\n",
    "plt.ylabel('Признаки')\n",
    "plt.title('Визуализация важных признаков')\n",
    "plt.show()"
   ]
  },
  {
   "cell_type": "markdown",
   "metadata": {},
   "source": [
    "Как не странно - но признаки гендер и география малозначительно повлияли на принимаемые решения моделью."
   ]
  },
  {
   "cell_type": "markdown",
   "metadata": {},
   "source": [
    "## Тестирование модели"
   ]
  },
  {
   "cell_type": "markdown",
   "metadata": {},
   "source": [
    "Посмотрим теперь так же ли покажет себя модель на тестовых данных."
   ]
  },
  {
   "cell_type": "code",
   "execution_count": 179,
   "metadata": {},
   "outputs": [
    {
     "data": {
      "text/plain": [
       "0.6203473945409429"
      ]
     },
     "execution_count": 179,
     "metadata": {},
     "output_type": "execute_result"
    }
   ],
   "source": [
    "predicted_rf_test = rf_best_model.predict(features_test)\n",
    "f1_score(target_test, predicted_rf_test)"
   ]
  },
  {
   "cell_type": "markdown",
   "metadata": {},
   "source": [
    "на тестовых данных модель показала себя почти также как и на валидаци  и это хорошо"
   ]
  },
  {
   "cell_type": "code",
   "execution_count": 180,
   "metadata": {},
   "outputs": [
    {
     "data": {
      "text/plain": [
       "0.585480093676815"
      ]
     },
     "execution_count": 180,
     "metadata": {},
     "output_type": "execute_result"
    }
   ],
   "source": [
    "recall_score(target_test, predicted_rf_test)"
   ]
  },
  {
   "cell_type": "markdown",
   "metadata": {},
   "source": [
    "Recall метрика(полнота) - показывает что еще нужно поработать над моделью для уменьшения количества ложнонегативного сробатывания"
   ]
  },
  {
   "cell_type": "code",
   "execution_count": 181,
   "metadata": {},
   "outputs": [],
   "source": [
    "probabilities_test = rf_best_model.predict_proba(features_test)\n",
    "probabilities_one_test = probabilities_test[:, 1] # отберем вероятность класса - 1"
   ]
  },
  {
   "cell_type": "code",
   "execution_count": 182,
   "metadata": {},
   "outputs": [
    {
     "data": {
      "text/plain": [
       "0.8600609524603563"
      ]
     },
     "execution_count": 182,
     "metadata": {},
     "output_type": "execute_result"
    }
   ],
   "source": [
    "auc_roc = roc_auc_score(target_test,probabilities_one_test)\n",
    "auc_roc"
   ]
  },
  {
   "cell_type": "markdown",
   "metadata": {},
   "source": [
    "AUC-ROC случайной модели равна 0.5. Получается наша модель предсказывает точнее случайной на 36 пунктов"
   ]
  },
  {
   "cell_type": "markdown",
   "metadata": {},
   "source": [
    "ROC-AUC кривая наглядно показывает как будут меняться показатели точности и полноты от выбираемого порогового значения. Трудно определить оптимальную точку, но общее правило — максимизировать разницу (TPR-FPR), которая на графике представлена вертикальным расстоянием между оранжевой и синей линией.\n",
    "\n",
    "Также можно  выбрать наиболее подходящее пороговое значение, учитывая сферу применения модели. \n",
    "\n",
    "Целью исследования является найти тех людей которые потенциально в скором времени могут расторгнуть договор. Думаю что тут нужно охватить максимально большее число таких людей поэтому можно поступиться метрикой точности и сосредоточиться на полноте, то есть порог probabilites склонить в сторону где больше определяется положительный класс."
   ]
  }
 ],
 "metadata": {
  "ExecuteTimeLog": [
   {
    "duration": 769,
    "start_time": "2022-03-11T05:13:34.793Z"
   },
   {
    "duration": 47,
    "start_time": "2022-03-11T05:13:57.520Z"
   },
   {
    "duration": 13,
    "start_time": "2022-03-11T05:14:05.793Z"
   },
   {
    "duration": 27,
    "start_time": "2022-03-11T05:14:27.425Z"
   },
   {
    "duration": 19,
    "start_time": "2022-03-11T05:14:32.428Z"
   },
   {
    "duration": 46,
    "start_time": "2022-03-11T05:17:28.184Z"
   },
   {
    "duration": 11,
    "start_time": "2022-03-11T05:17:29.027Z"
   },
   {
    "duration": 20,
    "start_time": "2022-03-11T05:17:31.122Z"
   },
   {
    "duration": 386,
    "start_time": "2022-03-12T18:52:43.713Z"
   },
   {
    "duration": 61,
    "start_time": "2022-03-12T18:53:21.785Z"
   },
   {
    "duration": 487,
    "start_time": "2022-03-13T06:04:06.748Z"
   },
   {
    "duration": 39,
    "start_time": "2022-03-13T06:04:18.358Z"
   },
   {
    "duration": 11,
    "start_time": "2022-03-13T06:04:20.227Z"
   },
   {
    "duration": 3,
    "start_time": "2022-03-13T06:04:33.748Z"
   },
   {
    "duration": 47,
    "start_time": "2022-03-13T06:04:34.196Z"
   },
   {
    "duration": 12,
    "start_time": "2022-03-13T06:04:34.495Z"
   },
   {
    "duration": 18,
    "start_time": "2022-03-13T06:04:34.821Z"
   },
   {
    "duration": 56,
    "start_time": "2022-03-13T06:04:35.296Z"
   },
   {
    "duration": -29,
    "start_time": "2022-03-13T06:09:28.853Z"
   },
   {
    "duration": 4399,
    "start_time": "2022-03-13T06:09:58.142Z"
   },
   {
    "duration": 281,
    "start_time": "2022-03-13T06:20:02.657Z"
   },
   {
    "duration": 297,
    "start_time": "2022-03-13T06:20:28.931Z"
   },
   {
    "duration": 33,
    "start_time": "2022-03-13T06:21:29.054Z"
   },
   {
    "duration": 6,
    "start_time": "2022-03-13T06:22:21.506Z"
   },
   {
    "duration": 33,
    "start_time": "2022-03-13T06:22:22.945Z"
   },
   {
    "duration": 25673,
    "start_time": "2022-03-13T06:36:13.802Z"
   },
   {
    "duration": 353,
    "start_time": "2022-03-13T06:37:09.229Z"
   },
   {
    "duration": 9,
    "start_time": "2022-03-13T06:37:18.516Z"
   },
   {
    "duration": 9,
    "start_time": "2022-03-13T06:37:25.649Z"
   },
   {
    "duration": 10,
    "start_time": "2022-03-13T06:37:37.842Z"
   },
   {
    "duration": 11,
    "start_time": "2022-03-13T06:50:39.215Z"
   },
   {
    "duration": 23,
    "start_time": "2022-03-13T06:57:15.709Z"
   },
   {
    "duration": 28,
    "start_time": "2022-03-13T06:58:02.914Z"
   },
   {
    "duration": 9556,
    "start_time": "2022-03-13T07:49:51.532Z"
   },
   {
    "duration": 11,
    "start_time": "2022-03-13T07:50:50.516Z"
   },
   {
    "duration": 6,
    "start_time": "2022-03-13T08:01:35.220Z"
   },
   {
    "duration": 11,
    "start_time": "2022-03-13T08:01:45.188Z"
   },
   {
    "duration": 7,
    "start_time": "2022-03-13T08:16:05.138Z"
   },
   {
    "duration": 36,
    "start_time": "2022-03-13T08:16:11.082Z"
   },
   {
    "duration": 6,
    "start_time": "2022-03-13T08:16:25.348Z"
   },
   {
    "duration": 32,
    "start_time": "2022-03-13T08:16:25.913Z"
   },
   {
    "duration": 44,
    "start_time": "2022-03-13T08:16:38.445Z"
   },
   {
    "duration": 12,
    "start_time": "2022-03-13T08:16:38.855Z"
   },
   {
    "duration": 6,
    "start_time": "2022-03-13T08:16:42.390Z"
   },
   {
    "duration": 20,
    "start_time": "2022-03-13T08:18:19.413Z"
   },
   {
    "duration": 29,
    "start_time": "2022-03-13T08:18:20.294Z"
   },
   {
    "duration": 29,
    "start_time": "2022-03-13T08:18:30.591Z"
   },
   {
    "duration": 20,
    "start_time": "2022-03-13T08:19:19.923Z"
   },
   {
    "duration": 30,
    "start_time": "2022-03-13T08:19:20.425Z"
   },
   {
    "duration": 332,
    "start_time": "2022-03-13T08:23:28.311Z"
   },
   {
    "duration": 7,
    "start_time": "2022-03-13T08:23:44.530Z"
   },
   {
    "duration": 27,
    "start_time": "2022-03-13T08:23:47.913Z"
   },
   {
    "duration": 5,
    "start_time": "2022-03-13T08:25:34.538Z"
   },
   {
    "duration": 8,
    "start_time": "2022-03-13T08:29:02.644Z"
   },
   {
    "duration": 28,
    "start_time": "2022-03-13T08:29:10.457Z"
   },
   {
    "duration": 28,
    "start_time": "2022-03-13T08:29:17.024Z"
   },
   {
    "duration": 8,
    "start_time": "2022-03-13T08:29:29.706Z"
   },
   {
    "duration": 8,
    "start_time": "2022-03-13T08:30:39.328Z"
   },
   {
    "duration": 7,
    "start_time": "2022-03-13T08:30:53.198Z"
   },
   {
    "duration": 302,
    "start_time": "2022-03-13T08:30:53.736Z"
   },
   {
    "duration": 387,
    "start_time": "2022-03-13T08:31:25.838Z"
   },
   {
    "duration": 316,
    "start_time": "2022-03-13T08:31:31.977Z"
   },
   {
    "duration": 33,
    "start_time": "2022-03-13T08:31:40.237Z"
   },
   {
    "duration": 10,
    "start_time": "2022-03-13T08:31:40.513Z"
   },
   {
    "duration": 10,
    "start_time": "2022-03-13T08:31:40.810Z"
   },
   {
    "duration": 9,
    "start_time": "2022-03-13T08:31:41.529Z"
   },
   {
    "duration": 279,
    "start_time": "2022-03-13T08:31:42.437Z"
   },
   {
    "duration": 11,
    "start_time": "2022-03-13T08:31:56.321Z"
   },
   {
    "duration": 30,
    "start_time": "2022-03-13T08:32:05.684Z"
   },
   {
    "duration": 3,
    "start_time": "2022-03-13T08:34:11.846Z"
   },
   {
    "duration": 277,
    "start_time": "2022-03-13T08:34:35.951Z"
   },
   {
    "duration": 3,
    "start_time": "2022-03-13T08:34:40.756Z"
   },
   {
    "duration": 27,
    "start_time": "2022-03-13T08:40:30.500Z"
   },
   {
    "duration": 10,
    "start_time": "2022-03-13T08:40:41.503Z"
   },
   {
    "duration": 20,
    "start_time": "2022-03-13T08:40:59.532Z"
   },
   {
    "duration": 277,
    "start_time": "2022-03-13T08:42:00.850Z"
   },
   {
    "duration": 284,
    "start_time": "2022-03-13T08:42:16.819Z"
   },
   {
    "duration": 277,
    "start_time": "2022-03-13T08:42:42.846Z"
   },
   {
    "duration": 11,
    "start_time": "2022-03-13T08:43:03.749Z"
   },
   {
    "duration": 28,
    "start_time": "2022-03-13T08:43:11.989Z"
   },
   {
    "duration": 280,
    "start_time": "2022-03-13T08:45:16.994Z"
   },
   {
    "duration": 22,
    "start_time": "2022-03-13T08:45:26.215Z"
   },
   {
    "duration": 277,
    "start_time": "2022-03-13T08:45:31.065Z"
   },
   {
    "duration": 5,
    "start_time": "2022-03-13T08:45:36.847Z"
   },
   {
    "duration": 12,
    "start_time": "2022-03-13T08:46:10.525Z"
   },
   {
    "duration": 54,
    "start_time": "2022-03-13T08:46:44.178Z"
   },
   {
    "duration": 340,
    "start_time": "2022-03-13T10:42:48.415Z"
   },
   {
    "duration": 293,
    "start_time": "2022-03-13T10:42:51.407Z"
   },
   {
    "duration": 6,
    "start_time": "2022-03-13T10:43:09.315Z"
   },
   {
    "duration": 11,
    "start_time": "2022-03-13T10:43:44.243Z"
   },
   {
    "duration": 15,
    "start_time": "2022-03-13T10:44:40.051Z"
   },
   {
    "duration": 6,
    "start_time": "2022-03-13T10:44:52.858Z"
   },
   {
    "duration": 5,
    "start_time": "2022-03-13T10:45:18.234Z"
   },
   {
    "duration": 5,
    "start_time": "2022-03-13T10:53:10.727Z"
   },
   {
    "duration": 8,
    "start_time": "2022-03-13T10:53:15.198Z"
   },
   {
    "duration": 8,
    "start_time": "2022-03-13T10:53:24.120Z"
   },
   {
    "duration": 4,
    "start_time": "2022-03-13T11:35:32.677Z"
   },
   {
    "duration": 35,
    "start_time": "2022-03-13T11:35:33.533Z"
   },
   {
    "duration": 6,
    "start_time": "2022-03-13T11:35:41.996Z"
   },
   {
    "duration": 10,
    "start_time": "2022-03-13T11:35:43.760Z"
   },
   {
    "duration": 10,
    "start_time": "2022-03-13T11:35:46.172Z"
   },
   {
    "duration": 19,
    "start_time": "2022-03-13T11:35:51.743Z"
   },
   {
    "duration": 7,
    "start_time": "2022-03-13T11:35:52.091Z"
   },
   {
    "duration": 8,
    "start_time": "2022-03-13T11:35:52.565Z"
   },
   {
    "duration": 6,
    "start_time": "2022-03-13T11:35:53.772Z"
   },
   {
    "duration": 8,
    "start_time": "2022-03-13T11:35:54.536Z"
   },
   {
    "duration": 3,
    "start_time": "2022-03-13T11:35:55.077Z"
   },
   {
    "duration": 3,
    "start_time": "2022-03-13T11:35:55.502Z"
   },
   {
    "duration": 9,
    "start_time": "2022-03-13T11:35:56.138Z"
   },
   {
    "duration": 21,
    "start_time": "2022-03-13T11:35:58.142Z"
   },
   {
    "duration": 4,
    "start_time": "2022-03-13T11:36:01.130Z"
   },
   {
    "duration": 11,
    "start_time": "2022-03-13T11:36:01.675Z"
   },
   {
    "duration": 16,
    "start_time": "2022-03-13T11:36:02.323Z"
   },
   {
    "duration": 6,
    "start_time": "2022-03-13T11:36:03.022Z"
   },
   {
    "duration": 8,
    "start_time": "2022-03-13T11:36:03.873Z"
   },
   {
    "duration": 11399,
    "start_time": "2022-03-13T11:36:05.266Z"
   },
   {
    "duration": 21,
    "start_time": "2022-03-13T11:47:52.494Z"
   },
   {
    "duration": 8,
    "start_time": "2022-03-13T11:47:52.522Z"
   },
   {
    "duration": 9,
    "start_time": "2022-03-13T11:47:52.554Z"
   },
   {
    "duration": 6,
    "start_time": "2022-03-13T11:47:52.609Z"
   },
   {
    "duration": 8,
    "start_time": "2022-03-13T11:47:52.629Z"
   },
   {
    "duration": 3,
    "start_time": "2022-03-13T11:47:53.678Z"
   },
   {
    "duration": 4,
    "start_time": "2022-03-13T11:47:54.046Z"
   },
   {
    "duration": 10,
    "start_time": "2022-03-13T11:47:54.602Z"
   },
   {
    "duration": 33,
    "start_time": "2022-03-13T11:47:55.675Z"
   },
   {
    "duration": 4,
    "start_time": "2022-03-13T11:47:59.638Z"
   },
   {
    "duration": 13,
    "start_time": "2022-03-13T11:48:02.714Z"
   },
   {
    "duration": 110,
    "start_time": "2022-03-13T11:48:03.625Z"
   },
   {
    "duration": 6,
    "start_time": "2022-03-13T11:48:06.194Z"
   },
   {
    "duration": 12,
    "start_time": "2022-03-13T11:48:35.289Z"
   },
   {
    "duration": 8,
    "start_time": "2022-03-13T11:48:56.180Z"
   },
   {
    "duration": 4,
    "start_time": "2022-03-13T11:57:16.880Z"
   },
   {
    "duration": 7,
    "start_time": "2022-03-13T11:57:56.675Z"
   },
   {
    "duration": 7,
    "start_time": "2022-03-13T11:59:02.675Z"
   },
   {
    "duration": 265,
    "start_time": "2022-03-13T12:08:22.630Z"
   },
   {
    "duration": 31,
    "start_time": "2022-03-13T12:08:47.175Z"
   },
   {
    "duration": 3,
    "start_time": "2022-03-13T12:09:55.226Z"
   },
   {
    "duration": 280,
    "start_time": "2022-03-13T12:11:41.025Z"
   },
   {
    "duration": 661,
    "start_time": "2022-03-13T12:11:47.525Z"
   },
   {
    "duration": 18,
    "start_time": "2022-03-13T12:12:36.714Z"
   },
   {
    "duration": 3,
    "start_time": "2022-03-13T12:12:52.325Z"
   },
   {
    "duration": 2256,
    "start_time": "2022-03-13T12:12:53.762Z"
   },
   {
    "duration": 43,
    "start_time": "2022-03-13T12:13:01.000Z"
   },
   {
    "duration": 4,
    "start_time": "2022-03-13T12:13:17.485Z"
   },
   {
    "duration": 1652,
    "start_time": "2022-03-13T12:13:19.542Z"
   },
   {
    "duration": 31,
    "start_time": "2022-03-13T12:13:26.218Z"
   },
   {
    "duration": 4,
    "start_time": "2022-03-13T12:13:36.942Z"
   },
   {
    "duration": 2145,
    "start_time": "2022-03-13T12:13:37.907Z"
   },
   {
    "duration": 8,
    "start_time": "2022-03-13T12:13:46.254Z"
   },
   {
    "duration": 37,
    "start_time": "2022-03-13T12:13:54.672Z"
   },
   {
    "duration": 5,
    "start_time": "2022-03-13T12:14:12.208Z"
   },
   {
    "duration": 1848,
    "start_time": "2022-03-13T12:14:12.778Z"
   },
   {
    "duration": 35,
    "start_time": "2022-03-13T12:14:16.554Z"
   },
   {
    "duration": 7,
    "start_time": "2022-03-13T12:51:31.374Z"
   },
   {
    "duration": 9,
    "start_time": "2022-03-13T12:52:27.635Z"
   },
   {
    "duration": 6,
    "start_time": "2022-03-13T12:52:35.855Z"
   },
   {
    "duration": 8,
    "start_time": "2022-03-13T12:52:44.248Z"
   },
   {
    "duration": 7,
    "start_time": "2022-03-13T12:52:48.012Z"
   },
   {
    "duration": 8,
    "start_time": "2022-03-13T12:53:00.745Z"
   },
   {
    "duration": 5,
    "start_time": "2022-03-13T12:56:51.013Z"
   },
   {
    "duration": 7,
    "start_time": "2022-03-13T12:56:52.407Z"
   },
   {
    "duration": 5,
    "start_time": "2022-03-13T12:56:56.938Z"
   },
   {
    "duration": 7,
    "start_time": "2022-03-13T12:56:57.362Z"
   },
   {
    "duration": 39,
    "start_time": "2022-03-13T13:00:06.632Z"
   },
   {
    "duration": 32,
    "start_time": "2022-03-13T13:00:15.598Z"
   },
   {
    "duration": 82,
    "start_time": "2022-03-13T13:04:12.731Z"
   },
   {
    "duration": 1447,
    "start_time": "2022-03-13T13:04:22.348Z"
   },
   {
    "duration": 5,
    "start_time": "2022-03-14T08:22:53.819Z"
   },
   {
    "duration": 35,
    "start_time": "2022-03-14T08:22:54.045Z"
   },
   {
    "duration": 13,
    "start_time": "2022-03-14T08:22:55.183Z"
   },
   {
    "duration": 22,
    "start_time": "2022-03-14T08:22:55.377Z"
   },
   {
    "duration": 58,
    "start_time": "2022-03-14T08:22:55.529Z"
   },
   {
    "duration": 28,
    "start_time": "2022-03-14T08:22:55.702Z"
   },
   {
    "duration": 6,
    "start_time": "2022-03-14T08:22:55.853Z"
   },
   {
    "duration": 10,
    "start_time": "2022-03-14T08:22:56.115Z"
   },
   {
    "duration": 12,
    "start_time": "2022-03-14T08:22:56.340Z"
   },
   {
    "duration": 21,
    "start_time": "2022-03-14T08:22:58.604Z"
   },
   {
    "duration": 7,
    "start_time": "2022-03-14T08:23:03.708Z"
   },
   {
    "duration": 8,
    "start_time": "2022-03-14T08:23:03.730Z"
   },
   {
    "duration": 1282,
    "start_time": "2022-03-14T08:23:03.865Z"
   },
   {
    "duration": 6,
    "start_time": "2022-03-14T08:23:06.588Z"
   },
   {
    "duration": 9,
    "start_time": "2022-03-14T08:23:07.165Z"
   },
   {
    "duration": 4,
    "start_time": "2022-03-14T08:23:10.305Z"
   },
   {
    "duration": 3,
    "start_time": "2022-03-14T08:23:10.546Z"
   },
   {
    "duration": 9,
    "start_time": "2022-03-14T08:23:10.772Z"
   },
   {
    "duration": 22,
    "start_time": "2022-03-14T08:23:11.596Z"
   },
   {
    "duration": 4,
    "start_time": "2022-03-14T08:23:13.875Z"
   },
   {
    "duration": 11,
    "start_time": "2022-03-14T08:23:14.118Z"
   },
   {
    "duration": 40,
    "start_time": "2022-03-14T08:23:14.596Z"
   },
   {
    "duration": 12,
    "start_time": "2022-03-14T08:23:15.173Z"
   },
   {
    "duration": 6,
    "start_time": "2022-03-14T08:23:19.988Z"
   },
   {
    "duration": 5,
    "start_time": "2022-03-14T08:23:31.803Z"
   },
   {
    "duration": 8,
    "start_time": "2022-03-14T08:23:32.732Z"
   },
   {
    "duration": 294,
    "start_time": "2022-03-14T08:28:25.756Z"
   },
   {
    "duration": 8,
    "start_time": "2022-03-14T08:28:48.393Z"
   },
   {
    "duration": 9,
    "start_time": "2022-03-14T08:28:52.656Z"
   },
   {
    "duration": 316,
    "start_time": "2022-03-14T08:28:55.494Z"
   },
   {
    "duration": 372,
    "start_time": "2022-03-14T08:29:11.150Z"
   },
   {
    "duration": 366,
    "start_time": "2022-03-14T08:30:00.071Z"
   },
   {
    "duration": 7,
    "start_time": "2022-03-14T08:39:18.630Z"
   },
   {
    "duration": 317,
    "start_time": "2022-03-14T08:40:25.120Z"
   },
   {
    "duration": 5,
    "start_time": "2022-03-14T08:40:28.675Z"
   },
   {
    "duration": 1179263,
    "start_time": "2022-03-14T08:40:29.345Z"
   },
   {
    "duration": 5,
    "start_time": "2022-03-14T09:31:48.612Z"
   },
   {
    "duration": 6,
    "start_time": "2022-03-14T09:31:55.066Z"
   },
   {
    "duration": 6,
    "start_time": "2022-03-14T09:31:57.414Z"
   },
   {
    "duration": 4,
    "start_time": "2022-03-14T10:09:14.395Z"
   },
   {
    "duration": 287,
    "start_time": "2022-03-14T10:09:38.192Z"
   },
   {
    "duration": 321,
    "start_time": "2022-03-14T10:09:42.416Z"
   },
   {
    "duration": 66,
    "start_time": "2022-03-14T10:10:20.286Z"
   },
   {
    "duration": 7,
    "start_time": "2022-03-14T10:11:08.354Z"
   },
   {
    "duration": 7,
    "start_time": "2022-03-14T10:12:06.760Z"
   },
   {
    "duration": 62,
    "start_time": "2022-03-14T10:14:19.449Z"
   },
   {
    "duration": 7,
    "start_time": "2022-03-14T10:14:19.988Z"
   },
   {
    "duration": 7,
    "start_time": "2022-03-14T10:14:39.945Z"
   },
   {
    "duration": 5,
    "start_time": "2022-03-14T10:18:04.514Z"
   },
   {
    "duration": 7,
    "start_time": "2022-03-14T10:18:04.891Z"
   },
   {
    "duration": 59,
    "start_time": "2022-03-14T10:18:33.116Z"
   },
   {
    "duration": 284,
    "start_time": "2022-03-14T10:18:33.869Z"
   },
   {
    "duration": 6,
    "start_time": "2022-03-14T10:18:50.673Z"
   },
   {
    "duration": 10,
    "start_time": "2022-03-14T13:38:49.039Z"
   },
   {
    "duration": 4,
    "start_time": "2022-03-14T13:38:50.639Z"
   },
   {
    "duration": 50,
    "start_time": "2022-03-14T13:38:52.457Z"
   },
   {
    "duration": 41,
    "start_time": "2022-03-14T13:39:00.984Z"
   },
   {
    "duration": 30,
    "start_time": "2022-03-14T13:39:13.961Z"
   },
   {
    "duration": 7,
    "start_time": "2022-03-14T15:59:05.790Z"
   },
   {
    "duration": 7,
    "start_time": "2022-03-14T15:59:11.618Z"
   },
   {
    "duration": 41,
    "start_time": "2022-03-14T17:50:29.597Z"
   },
   {
    "duration": 499,
    "start_time": "2022-03-14T17:51:32.024Z"
   },
   {
    "duration": 22,
    "start_time": "2022-03-14T17:51:51.962Z"
   },
   {
    "duration": 30,
    "start_time": "2022-03-14T17:51:55.282Z"
   },
   {
    "duration": 6,
    "start_time": "2022-03-14T17:53:49.035Z"
   },
   {
    "duration": 22,
    "start_time": "2022-03-14T17:53:54.949Z"
   },
   {
    "duration": 30,
    "start_time": "2022-03-14T17:53:59.569Z"
   },
   {
    "duration": 4,
    "start_time": "2022-03-14T17:54:23.974Z"
   },
   {
    "duration": 20,
    "start_time": "2022-03-14T17:54:27.721Z"
   },
   {
    "duration": 28,
    "start_time": "2022-03-14T17:54:31.993Z"
   },
   {
    "duration": 464,
    "start_time": "2022-03-14T17:57:41.019Z"
   },
   {
    "duration": 29,
    "start_time": "2022-03-14T17:57:50.124Z"
   },
   {
    "duration": 9,
    "start_time": "2022-03-14T17:57:51.534Z"
   },
   {
    "duration": 4,
    "start_time": "2022-03-14T18:07:09.756Z"
   },
   {
    "duration": 19,
    "start_time": "2022-03-14T18:07:10.020Z"
   },
   {
    "duration": 37,
    "start_time": "2022-03-14T18:07:16.079Z"
   },
   {
    "duration": 12,
    "start_time": "2022-03-14T18:07:22.233Z"
   },
   {
    "duration": 5,
    "start_time": "2022-03-14T18:07:45.737Z"
   },
   {
    "duration": 21,
    "start_time": "2022-03-14T18:07:46.385Z"
   },
   {
    "duration": 33,
    "start_time": "2022-03-14T18:07:48.654Z"
   },
   {
    "duration": 6,
    "start_time": "2022-03-14T18:08:03.452Z"
   },
   {
    "duration": 191,
    "start_time": "2022-03-14T18:08:03.607Z"
   },
   {
    "duration": 12,
    "start_time": "2022-03-14T18:08:03.801Z"
   },
   {
    "duration": 21,
    "start_time": "2022-03-14T18:08:03.911Z"
   },
   {
    "duration": 64,
    "start_time": "2022-03-14T18:08:04.053Z"
   },
   {
    "duration": 1348,
    "start_time": "2022-03-14T18:08:04.188Z"
   },
   {
    "duration": 8,
    "start_time": "2022-03-14T18:08:05.538Z"
   },
   {
    "duration": 11,
    "start_time": "2022-03-14T18:08:05.549Z"
   },
   {
    "duration": 20,
    "start_time": "2022-03-14T18:08:05.562Z"
   },
   {
    "duration": 7,
    "start_time": "2022-03-14T18:08:05.687Z"
   },
   {
    "duration": 9,
    "start_time": "2022-03-14T18:08:10.928Z"
   },
   {
    "duration": 4,
    "start_time": "2022-03-14T18:08:20.426Z"
   },
   {
    "duration": 18,
    "start_time": "2022-03-14T18:08:20.904Z"
   },
   {
    "duration": 28,
    "start_time": "2022-03-14T18:08:23.274Z"
   },
   {
    "duration": 33,
    "start_time": "2022-03-14T18:16:51.824Z"
   },
   {
    "duration": 9,
    "start_time": "2022-03-14T18:17:13.890Z"
   },
   {
    "duration": 9,
    "start_time": "2022-03-14T18:17:26.104Z"
   },
   {
    "duration": 997,
    "start_time": "2022-03-14T18:37:24.431Z"
   },
   {
    "duration": 37,
    "start_time": "2022-03-14T18:37:43.246Z"
   },
   {
    "duration": 9,
    "start_time": "2022-03-14T20:06:31.315Z"
   },
   {
    "duration": 4,
    "start_time": "2022-03-14T20:07:50.086Z"
   },
   {
    "duration": 2651,
    "start_time": "2022-03-14T20:08:04.753Z"
   },
   {
    "duration": 17,
    "start_time": "2022-03-14T20:09:02.120Z"
   },
   {
    "duration": 13,
    "start_time": "2022-03-14T20:09:47.913Z"
   },
   {
    "duration": 6,
    "start_time": "2022-03-14T20:10:12.194Z"
   },
   {
    "duration": 5,
    "start_time": "2022-03-14T20:10:55.655Z"
   },
   {
    "duration": 559,
    "start_time": "2022-03-14T20:12:28.469Z"
   },
   {
    "duration": 7,
    "start_time": "2022-03-14T20:12:54.568Z"
   },
   {
    "duration": 341,
    "start_time": "2022-03-14T20:13:03.196Z"
   },
   {
    "duration": 20,
    "start_time": "2022-03-14T20:13:15.652Z"
   },
   {
    "duration": 4,
    "start_time": "2022-03-14T20:13:17.509Z"
   },
   {
    "duration": 5,
    "start_time": "2022-03-14T20:14:32.562Z"
   },
   {
    "duration": 21,
    "start_time": "2022-03-14T20:15:37.484Z"
   },
   {
    "duration": 740,
    "start_time": "2022-03-14T20:15:38.882Z"
   },
   {
    "duration": 17,
    "start_time": "2022-03-14T20:16:49.164Z"
   },
   {
    "duration": 613,
    "start_time": "2022-03-14T20:16:49.488Z"
   },
   {
    "duration": 6,
    "start_time": "2022-03-14T20:17:04.778Z"
   },
   {
    "duration": 6,
    "start_time": "2022-03-14T20:17:17.371Z"
   },
   {
    "duration": 7,
    "start_time": "2022-03-14T20:18:37.438Z"
   },
   {
    "duration": 5,
    "start_time": "2022-03-14T20:18:42.728Z"
   },
   {
    "duration": 35,
    "start_time": "2022-03-14T20:19:35.763Z"
   },
   {
    "duration": 29,
    "start_time": "2022-03-14T20:20:01.235Z"
   },
   {
    "duration": 34,
    "start_time": "2022-03-14T20:20:17.188Z"
   },
   {
    "duration": 148,
    "start_time": "2022-03-14T20:20:24.697Z"
   },
   {
    "duration": 17,
    "start_time": "2022-03-14T20:20:30.003Z"
   },
   {
    "duration": 6,
    "start_time": "2022-03-14T20:20:30.024Z"
   },
   {
    "duration": 10,
    "start_time": "2022-03-14T20:20:30.033Z"
   },
   {
    "duration": 8,
    "start_time": "2022-03-14T20:20:31.816Z"
   },
   {
    "duration": 67923,
    "start_time": "2022-03-14T20:24:30.985Z"
   },
   {
    "duration": 5,
    "start_time": "2022-03-14T20:25:40.303Z"
   },
   {
    "duration": 441088,
    "start_time": "2022-03-14T20:25:41.756Z"
   },
   {
    "duration": 5,
    "start_time": "2022-03-14T20:36:51.486Z"
   },
   {
    "duration": 6,
    "start_time": "2022-03-14T20:36:58.078Z"
   },
   {
    "duration": 6,
    "start_time": "2022-03-14T20:37:02.302Z"
   },
   {
    "duration": 4,
    "start_time": "2022-03-14T20:37:07.649Z"
   },
   {
    "duration": 113,
    "start_time": "2022-03-14T20:37:10.891Z"
   },
   {
    "duration": 11,
    "start_time": "2022-03-14T20:37:11.233Z"
   },
   {
    "duration": 117,
    "start_time": "2022-03-14T20:38:15.727Z"
   },
   {
    "duration": 1501,
    "start_time": "2022-03-14T20:40:29.244Z"
   },
   {
    "duration": 6,
    "start_time": "2022-03-14T20:41:59.361Z"
   },
   {
    "duration": 12,
    "start_time": "2022-03-14T20:42:11.097Z"
   },
   {
    "duration": 8,
    "start_time": "2022-03-14T20:42:26.688Z"
   },
   {
    "duration": 9,
    "start_time": "2022-03-14T20:42:34.514Z"
   },
   {
    "duration": 30,
    "start_time": "2022-03-15T05:27:56.856Z"
   },
   {
    "duration": 51,
    "start_time": "2022-03-15T05:29:21.245Z"
   },
   {
    "duration": 30,
    "start_time": "2022-03-15T05:29:45.703Z"
   },
   {
    "duration": 17,
    "start_time": "2022-03-15T06:02:52.796Z"
   },
   {
    "duration": 5,
    "start_time": "2022-03-15T06:03:31.757Z"
   },
   {
    "duration": 477,
    "start_time": "2022-03-15T06:03:34.583Z"
   },
   {
    "duration": 6,
    "start_time": "2022-03-15T06:04:04.746Z"
   },
   {
    "duration": 20,
    "start_time": "2022-03-15T06:04:12.112Z"
   },
   {
    "duration": 4,
    "start_time": "2022-03-15T06:04:18.280Z"
   },
   {
    "duration": 8,
    "start_time": "2022-03-15T06:05:00.117Z"
   },
   {
    "duration": 757,
    "start_time": "2022-03-15T06:05:40.471Z"
   },
   {
    "duration": 444,
    "start_time": "2022-03-15T07:51:37.692Z"
   },
   {
    "duration": 527,
    "start_time": "2022-03-15T07:51:43.071Z"
   },
   {
    "duration": 21,
    "start_time": "2022-03-15T07:51:58.971Z"
   },
   {
    "duration": 8,
    "start_time": "2022-03-15T07:52:00.678Z"
   },
   {
    "duration": 9,
    "start_time": "2022-03-15T07:56:10.066Z"
   },
   {
    "duration": 7,
    "start_time": "2022-03-15T07:56:23.515Z"
   },
   {
    "duration": 263,
    "start_time": "2022-03-15T07:56:29.416Z"
   },
   {
    "duration": 30,
    "start_time": "2022-03-15T07:56:36.110Z"
   },
   {
    "duration": 7,
    "start_time": "2022-03-15T07:56:37.089Z"
   },
   {
    "duration": 278,
    "start_time": "2022-03-15T07:56:52.819Z"
   },
   {
    "duration": 8,
    "start_time": "2022-03-15T07:57:00.427Z"
   },
   {
    "duration": 8,
    "start_time": "2022-03-15T07:57:18.830Z"
   },
   {
    "duration": 540,
    "start_time": "2022-03-15T07:57:21.251Z"
   },
   {
    "duration": 8,
    "start_time": "2022-03-15T07:57:21.884Z"
   },
   {
    "duration": 9,
    "start_time": "2022-03-15T07:57:45.285Z"
   },
   {
    "duration": 590,
    "start_time": "2022-03-15T07:57:48.403Z"
   },
   {
    "duration": 9,
    "start_time": "2022-03-15T07:58:12.064Z"
   },
   {
    "duration": 562,
    "start_time": "2022-03-15T07:58:13.427Z"
   },
   {
    "duration": 9,
    "start_time": "2022-03-15T07:58:23.512Z"
   },
   {
    "duration": 30,
    "start_time": "2022-03-15T07:58:23.649Z"
   },
   {
    "duration": 10,
    "start_time": "2022-03-15T07:58:24.629Z"
   },
   {
    "duration": 10,
    "start_time": "2022-03-15T07:58:30.369Z"
   },
   {
    "duration": 10,
    "start_time": "2022-03-15T07:58:44.261Z"
   },
   {
    "duration": 9,
    "start_time": "2022-03-15T07:58:54.989Z"
   },
   {
    "duration": 21,
    "start_time": "2022-03-15T11:37:53.861Z"
   },
   {
    "duration": 6,
    "start_time": "2022-03-15T11:37:55.815Z"
   },
   {
    "duration": 9,
    "start_time": "2022-03-15T11:38:03.490Z"
   },
   {
    "duration": 6,
    "start_time": "2022-03-15T11:38:07.493Z"
   },
   {
    "duration": 30,
    "start_time": "2022-03-15T11:38:19.286Z"
   },
   {
    "duration": 10,
    "start_time": "2022-03-15T11:38:21.996Z"
   },
   {
    "duration": 9,
    "start_time": "2022-03-15T11:38:23.448Z"
   },
   {
    "duration": 369,
    "start_time": "2022-03-15T12:07:30.878Z"
   },
   {
    "duration": 308,
    "start_time": "2022-03-15T12:08:17.299Z"
   },
   {
    "duration": 300,
    "start_time": "2022-03-15T12:08:58.153Z"
   },
   {
    "duration": 6,
    "start_time": "2022-03-15T12:11:01.002Z"
   },
   {
    "duration": 14,
    "start_time": "2022-03-15T12:11:01.541Z"
   },
   {
    "duration": 314,
    "start_time": "2022-03-15T12:11:03.140Z"
   },
   {
    "duration": 12,
    "start_time": "2022-03-15T12:11:15.477Z"
   },
   {
    "duration": 27,
    "start_time": "2022-03-15T12:11:27.783Z"
   },
   {
    "duration": 9,
    "start_time": "2022-03-15T12:11:29.560Z"
   },
   {
    "duration": 9,
    "start_time": "2022-03-15T12:11:30.504Z"
   },
   {
    "duration": 5,
    "start_time": "2022-03-15T12:11:51.971Z"
   },
   {
    "duration": 7,
    "start_time": "2022-03-15T12:12:18.676Z"
   },
   {
    "duration": 9,
    "start_time": "2022-03-15T12:12:21.706Z"
   },
   {
    "duration": 9,
    "start_time": "2022-03-15T12:12:34.975Z"
   },
   {
    "duration": 5,
    "start_time": "2022-03-15T12:13:26.021Z"
   },
   {
    "duration": 284,
    "start_time": "2022-03-15T12:13:51.501Z"
   },
   {
    "duration": 11,
    "start_time": "2022-03-15T12:14:40.545Z"
   },
   {
    "duration": 4,
    "start_time": "2022-03-15T12:14:54.894Z"
   },
   {
    "duration": 18,
    "start_time": "2022-03-15T12:14:55.239Z"
   },
   {
    "duration": 48,
    "start_time": "2022-03-15T12:15:08.105Z"
   },
   {
    "duration": 13,
    "start_time": "2022-03-15T12:15:43.660Z"
   },
   {
    "duration": 15,
    "start_time": "2022-03-15T12:15:44.235Z"
   },
   {
    "duration": 29,
    "start_time": "2022-03-15T12:15:48.416Z"
   },
   {
    "duration": 9,
    "start_time": "2022-03-15T12:15:49.096Z"
   },
   {
    "duration": 8,
    "start_time": "2022-03-15T12:15:49.693Z"
   },
   {
    "duration": 10,
    "start_time": "2022-03-15T12:15:55.005Z"
   },
   {
    "duration": 321,
    "start_time": "2022-03-15T12:15:57.901Z"
   },
   {
    "duration": 4,
    "start_time": "2022-03-15T12:39:54.061Z"
   },
   {
    "duration": 2720,
    "start_time": "2022-03-15T12:40:17.156Z"
   },
   {
    "duration": 991,
    "start_time": "2022-03-15T12:50:57.010Z"
   },
   {
    "duration": 3643,
    "start_time": "2022-03-15T12:51:02.811Z"
   },
   {
    "duration": 2614,
    "start_time": "2022-03-15T13:41:49.157Z"
   },
   {
    "duration": 300,
    "start_time": "2022-03-15T13:42:25.011Z"
   },
   {
    "duration": 319,
    "start_time": "2022-03-15T13:45:51.770Z"
   },
   {
    "duration": 34,
    "start_time": "2022-03-15T13:46:36.434Z"
   },
   {
    "duration": 586,
    "start_time": "2022-03-15T13:59:07.128Z"
   },
   {
    "duration": 6,
    "start_time": "2022-03-15T16:49:59.884Z"
   },
   {
    "duration": 624,
    "start_time": "2022-03-15T16:50:06.634Z"
   },
   {
    "duration": 6,
    "start_time": "2022-03-15T16:50:55.121Z"
   },
   {
    "duration": 355,
    "start_time": "2022-03-15T16:50:58.868Z"
   },
   {
    "duration": 32,
    "start_time": "2022-03-15T16:51:21.422Z"
   },
   {
    "duration": 33,
    "start_time": "2022-03-15T17:04:43.970Z"
   },
   {
    "duration": 21,
    "start_time": "2022-03-15T17:04:49.018Z"
   },
   {
    "duration": 7,
    "start_time": "2022-03-15T17:06:24.205Z"
   },
   {
    "duration": 9,
    "start_time": "2022-03-15T17:06:26.526Z"
   },
   {
    "duration": 55,
    "start_time": "2022-03-15T17:06:34.235Z"
   },
   {
    "duration": 1692,
    "start_time": "2022-03-15T17:06:34.517Z"
   },
   {
    "duration": 1388,
    "start_time": "2022-03-15T17:09:03.262Z"
   },
   {
    "duration": 285,
    "start_time": "2022-03-15T17:11:03.870Z"
   },
   {
    "duration": 297,
    "start_time": "2022-03-15T17:11:14.569Z"
   },
   {
    "duration": 312,
    "start_time": "2022-03-15T17:11:39.315Z"
   },
   {
    "duration": 285,
    "start_time": "2022-03-15T17:12:21.061Z"
   },
   {
    "duration": 271,
    "start_time": "2022-03-15T17:12:26.904Z"
   },
   {
    "duration": 287,
    "start_time": "2022-03-15T17:13:47.760Z"
   },
   {
    "duration": 269,
    "start_time": "2022-03-15T17:15:59.000Z"
   },
   {
    "duration": 313,
    "start_time": "2022-03-15T17:16:09.460Z"
   },
   {
    "duration": 268,
    "start_time": "2022-03-15T17:16:31.154Z"
   },
   {
    "duration": 302,
    "start_time": "2022-03-15T17:17:14.972Z"
   },
   {
    "duration": 282,
    "start_time": "2022-03-15T17:17:20.030Z"
   },
   {
    "duration": 291,
    "start_time": "2022-03-15T17:18:29.669Z"
   },
   {
    "duration": 6,
    "start_time": "2022-03-15T17:18:42.801Z"
   },
   {
    "duration": 325,
    "start_time": "2022-03-15T17:19:24.521Z"
   },
   {
    "duration": 281,
    "start_time": "2022-03-15T17:19:59.826Z"
   },
   {
    "duration": 424,
    "start_time": "2022-03-15T17:20:02.457Z"
   },
   {
    "duration": 501,
    "start_time": "2022-03-15T17:25:31.914Z"
   },
   {
    "duration": 1181,
    "start_time": "2022-03-15T17:25:46.784Z"
   },
   {
    "duration": 704,
    "start_time": "2022-03-15T17:26:28.585Z"
   },
   {
    "duration": 791,
    "start_time": "2022-03-15T17:27:11.280Z"
   },
   {
    "duration": 811,
    "start_time": "2022-03-15T17:27:25.661Z"
   },
   {
    "duration": 1441,
    "start_time": "2022-03-15T17:35:11.185Z"
   },
   {
    "duration": 480,
    "start_time": "2022-03-15T17:35:25.585Z"
   },
   {
    "duration": 15,
    "start_time": "2022-03-15T17:40:23.368Z"
   },
   {
    "duration": 50108,
    "start_time": "2022-03-15T18:10:38.345Z"
   },
   {
    "duration": 3,
    "start_time": "2022-03-15T18:12:04.147Z"
   },
   {
    "duration": 2554,
    "start_time": "2022-03-15T18:16:31.358Z"
   },
   {
    "duration": 20,
    "start_time": "2022-03-15T18:16:52.021Z"
   },
   {
    "duration": 9,
    "start_time": "2022-03-15T18:16:53.810Z"
   },
   {
    "duration": 9,
    "start_time": "2022-03-15T18:16:54.314Z"
   },
   {
    "duration": 9,
    "start_time": "2022-03-15T18:16:55.692Z"
   },
   {
    "duration": 4,
    "start_time": "2022-03-15T18:16:57.300Z"
   },
   {
    "duration": 3,
    "start_time": "2022-03-15T18:16:57.480Z"
   },
   {
    "duration": 28,
    "start_time": "2022-03-15T18:16:57.704Z"
   },
   {
    "duration": 4,
    "start_time": "2022-03-15T18:16:57.928Z"
   },
   {
    "duration": 14,
    "start_time": "2022-03-15T18:16:58.133Z"
   },
   {
    "duration": 9,
    "start_time": "2022-03-15T18:16:59.365Z"
   },
   {
    "duration": 16,
    "start_time": "2022-03-15T18:17:02.172Z"
   },
   {
    "duration": 8,
    "start_time": "2022-03-15T18:17:03.776Z"
   },
   {
    "duration": 6,
    "start_time": "2022-03-15T18:17:06.338Z"
   },
   {
    "duration": 7,
    "start_time": "2022-03-15T18:17:06.716Z"
   },
   {
    "duration": 5,
    "start_time": "2022-03-15T18:17:07.635Z"
   },
   {
    "duration": 4,
    "start_time": "2022-03-15T18:17:14.205Z"
   },
   {
    "duration": 290,
    "start_time": "2022-03-15T18:17:14.853Z"
   },
   {
    "duration": 312,
    "start_time": "2022-03-15T18:18:08.225Z"
   },
   {
    "duration": 18,
    "start_time": "2022-03-15T18:18:20.193Z"
   },
   {
    "duration": 48,
    "start_time": "2022-03-15T18:18:22.362Z"
   },
   {
    "duration": 5,
    "start_time": "2022-03-15T18:18:25.532Z"
   },
   {
    "duration": 9,
    "start_time": "2022-03-15T18:18:36.735Z"
   },
   {
    "duration": 3,
    "start_time": "2022-03-15T18:18:38.403Z"
   },
   {
    "duration": 17,
    "start_time": "2022-03-15T18:18:38.792Z"
   },
   {
    "duration": 13,
    "start_time": "2022-03-15T18:18:39.229Z"
   },
   {
    "duration": 10,
    "start_time": "2022-03-15T18:18:40.952Z"
   },
   {
    "duration": 28,
    "start_time": "2022-03-15T18:18:42.323Z"
   },
   {
    "duration": 9,
    "start_time": "2022-03-15T18:18:42.787Z"
   },
   {
    "duration": 9,
    "start_time": "2022-03-15T18:18:43.475Z"
   },
   {
    "duration": 5,
    "start_time": "2022-03-15T18:18:44.281Z"
   },
   {
    "duration": 900,
    "start_time": "2022-03-15T18:18:44.731Z"
   },
   {
    "duration": 2298,
    "start_time": "2022-03-15T18:18:46.968Z"
   },
   {
    "duration": 28,
    "start_time": "2022-03-15T18:20:16.697Z"
   },
   {
    "duration": 20,
    "start_time": "2022-03-15T18:20:42.745Z"
   },
   {
    "duration": 9,
    "start_time": "2022-03-15T18:20:43.711Z"
   },
   {
    "duration": 27,
    "start_time": "2022-03-15T18:20:48.505Z"
   },
   {
    "duration": 8,
    "start_time": "2022-03-15T18:22:09.424Z"
   },
   {
    "duration": 11,
    "start_time": "2022-03-15T18:22:09.782Z"
   },
   {
    "duration": 9,
    "start_time": "2022-03-15T18:22:11.261Z"
   },
   {
    "duration": 4,
    "start_time": "2022-03-15T18:22:12.061Z"
   },
   {
    "duration": 4,
    "start_time": "2022-03-15T18:22:13.089Z"
   },
   {
    "duration": 25,
    "start_time": "2022-03-15T18:22:14.058Z"
   },
   {
    "duration": 5,
    "start_time": "2022-03-15T18:23:24.134Z"
   },
   {
    "duration": 312,
    "start_time": "2022-03-15T18:23:24.687Z"
   },
   {
    "duration": 17,
    "start_time": "2022-03-15T18:23:25.210Z"
   },
   {
    "duration": 29,
    "start_time": "2022-03-15T18:23:35.963Z"
   },
   {
    "duration": 20,
    "start_time": "2022-03-15T18:24:05.324Z"
   },
   {
    "duration": 8,
    "start_time": "2022-03-15T18:24:05.620Z"
   },
   {
    "duration": 5,
    "start_time": "2022-03-15T18:24:17.193Z"
   },
   {
    "duration": 29,
    "start_time": "2022-03-15T18:24:17.954Z"
   },
   {
    "duration": 19,
    "start_time": "2022-03-15T18:24:25.914Z"
   },
   {
    "duration": 16,
    "start_time": "2022-03-15T18:24:27.120Z"
   },
   {
    "duration": 38,
    "start_time": "2022-03-15T18:24:29.221Z"
   },
   {
    "duration": 9,
    "start_time": "2022-03-15T18:24:43.663Z"
   },
   {
    "duration": 3,
    "start_time": "2022-03-15T18:24:45.744Z"
   },
   {
    "duration": 16,
    "start_time": "2022-03-15T18:24:46.237Z"
   },
   {
    "duration": 14,
    "start_time": "2022-03-15T18:24:46.669Z"
   },
   {
    "duration": 10,
    "start_time": "2022-03-15T18:24:48.028Z"
   },
   {
    "duration": 29,
    "start_time": "2022-03-15T18:24:49.202Z"
   },
   {
    "duration": 9,
    "start_time": "2022-03-15T18:24:49.681Z"
   },
   {
    "duration": 9,
    "start_time": "2022-03-15T18:24:50.125Z"
   },
   {
    "duration": 5,
    "start_time": "2022-03-15T18:24:51.701Z"
   },
   {
    "duration": 887,
    "start_time": "2022-03-15T18:24:52.582Z"
   },
   {
    "duration": 2325,
    "start_time": "2022-03-15T18:24:54.385Z"
   },
   {
    "duration": 931,
    "start_time": "2022-03-15T18:25:02.361Z"
   },
   {
    "duration": 2390,
    "start_time": "2022-03-15T18:25:04.310Z"
   },
   {
    "duration": 908,
    "start_time": "2022-03-15T18:25:09.499Z"
   },
   {
    "duration": 2380,
    "start_time": "2022-03-15T18:25:12.931Z"
   },
   {
    "duration": 5,
    "start_time": "2022-03-15T18:25:33.935Z"
   },
   {
    "duration": 881,
    "start_time": "2022-03-15T18:25:34.649Z"
   },
   {
    "duration": 2349,
    "start_time": "2022-03-15T18:25:36.412Z"
   },
   {
    "duration": 20,
    "start_time": "2022-03-15T18:26:36.218Z"
   },
   {
    "duration": 6,
    "start_time": "2022-03-15T18:26:46.104Z"
   },
   {
    "duration": 301,
    "start_time": "2022-03-15T18:26:46.509Z"
   },
   {
    "duration": 19,
    "start_time": "2022-03-15T18:27:18.096Z"
   },
   {
    "duration": 15,
    "start_time": "2022-03-15T18:27:19.132Z"
   },
   {
    "duration": 40,
    "start_time": "2022-03-15T18:27:20.837Z"
   },
   {
    "duration": 10,
    "start_time": "2022-03-15T18:27:27.630Z"
   },
   {
    "duration": 4,
    "start_time": "2022-03-15T18:27:29.860Z"
   },
   {
    "duration": 14,
    "start_time": "2022-03-15T18:27:30.217Z"
   },
   {
    "duration": 12,
    "start_time": "2022-03-15T18:27:30.616Z"
   },
   {
    "duration": 10,
    "start_time": "2022-03-15T18:27:32.113Z"
   },
   {
    "duration": 46,
    "start_time": "2022-03-15T18:27:32.514Z"
   },
   {
    "duration": 11,
    "start_time": "2022-03-15T18:27:32.966Z"
   },
   {
    "duration": 9,
    "start_time": "2022-03-15T18:27:33.440Z"
   },
   {
    "duration": 5,
    "start_time": "2022-03-15T18:27:36.224Z"
   },
   {
    "duration": 920,
    "start_time": "2022-03-15T18:27:37.230Z"
   },
   {
    "duration": 2293,
    "start_time": "2022-03-15T18:27:39.235Z"
   },
   {
    "duration": 903,
    "start_time": "2022-03-15T18:27:46.685Z"
   },
   {
    "duration": 2588,
    "start_time": "2022-03-15T18:27:48.408Z"
   },
   {
    "duration": 35,
    "start_time": "2022-03-15T18:29:11.872Z"
   },
   {
    "duration": 5,
    "start_time": "2022-03-15T18:29:14.315Z"
   },
   {
    "duration": 358293,
    "start_time": "2022-03-15T18:29:15.411Z"
   },
   {
    "duration": 6,
    "start_time": "2022-03-15T18:42:42.337Z"
   },
   {
    "duration": 4,
    "start_time": "2022-03-15T18:43:42.236Z"
   },
   {
    "duration": 940,
    "start_time": "2022-03-15T18:43:43.276Z"
   },
   {
    "duration": 2408,
    "start_time": "2022-03-15T18:43:45.552Z"
   },
   {
    "duration": 6,
    "start_time": "2022-03-15T18:43:54.340Z"
   },
   {
    "duration": 883,
    "start_time": "2022-03-15T18:43:54.914Z"
   },
   {
    "duration": 2320,
    "start_time": "2022-03-15T18:43:56.508Z"
   },
   {
    "duration": 9,
    "start_time": "2022-03-15T18:44:15.948Z"
   },
   {
    "duration": 9,
    "start_time": "2022-03-15T18:44:17.171Z"
   },
   {
    "duration": 6,
    "start_time": "2022-03-15T18:44:39.826Z"
   },
   {
    "duration": 9,
    "start_time": "2022-03-15T18:45:20.096Z"
   },
   {
    "duration": 3,
    "start_time": "2022-03-15T18:45:21.827Z"
   },
   {
    "duration": 15,
    "start_time": "2022-03-15T18:45:22.136Z"
   },
   {
    "duration": 13,
    "start_time": "2022-03-15T18:45:22.407Z"
   },
   {
    "duration": 9,
    "start_time": "2022-03-15T18:45:23.001Z"
   },
   {
    "duration": 31,
    "start_time": "2022-03-15T18:45:24.432Z"
   },
   {
    "duration": 9,
    "start_time": "2022-03-15T18:45:24.794Z"
   },
   {
    "duration": 9,
    "start_time": "2022-03-15T18:45:25.237Z"
   },
   {
    "duration": 4,
    "start_time": "2022-03-15T18:45:26.621Z"
   },
   {
    "duration": 1088,
    "start_time": "2022-03-15T18:45:28.492Z"
   },
   {
    "duration": 2570,
    "start_time": "2022-03-15T18:45:30.405Z"
   },
   {
    "duration": 4,
    "start_time": "2022-03-15T18:45:46.186Z"
   },
   {
    "duration": 968,
    "start_time": "2022-03-15T18:45:46.737Z"
   },
   {
    "duration": 2720,
    "start_time": "2022-03-15T18:45:48.601Z"
   },
   {
    "duration": 4,
    "start_time": "2022-03-15T18:46:15.256Z"
   },
   {
    "duration": 20,
    "start_time": "2022-03-15T18:46:15.571Z"
   },
   {
    "duration": 16,
    "start_time": "2022-03-15T18:46:15.929Z"
   },
   {
    "duration": 40,
    "start_time": "2022-03-15T18:46:16.476Z"
   },
   {
    "duration": 5,
    "start_time": "2022-03-15T18:46:17.912Z"
   },
   {
    "duration": 414271,
    "start_time": "2022-03-15T18:46:18.489Z"
   },
   {
    "duration": 5,
    "start_time": "2022-03-15T21:19:10.292Z"
   },
   {
    "duration": 331,
    "start_time": "2022-03-15T21:19:34.162Z"
   },
   {
    "duration": 514,
    "start_time": "2022-03-15T21:20:04.525Z"
   },
   {
    "duration": 392923,
    "start_time": "2022-03-15T21:20:12.862Z"
   },
   {
    "duration": 4,
    "start_time": "2022-03-15T21:26:45.788Z"
   },
   {
    "duration": 949,
    "start_time": "2022-03-15T21:26:45.795Z"
   },
   {
    "duration": 2383,
    "start_time": "2022-03-15T21:26:46.747Z"
   },
   {
    "duration": 8,
    "start_time": "2022-03-15T21:26:49.145Z"
   },
   {
    "duration": 6,
    "start_time": "2022-03-15T21:32:39.504Z"
   },
   {
    "duration": 6,
    "start_time": "2022-03-15T21:33:32.694Z"
   },
   {
    "duration": 278,
    "start_time": "2022-03-15T21:33:50.852Z"
   },
   {
    "duration": 82,
    "start_time": "2022-03-15T21:33:55.487Z"
   },
   {
    "duration": 936,
    "start_time": "2022-03-15T21:34:11.781Z"
   },
   {
    "duration": 2389,
    "start_time": "2022-03-15T21:34:14.312Z"
   },
   {
    "duration": 9,
    "start_time": "2022-03-15T21:34:21.753Z"
   },
   {
    "duration": 3,
    "start_time": "2022-03-15T21:34:22.469Z"
   },
   {
    "duration": 16,
    "start_time": "2022-03-15T21:34:22.671Z"
   },
   {
    "duration": 14,
    "start_time": "2022-03-15T21:34:22.839Z"
   },
   {
    "duration": 9,
    "start_time": "2022-03-15T21:34:23.176Z"
   },
   {
    "duration": 43,
    "start_time": "2022-03-15T21:34:24.742Z"
   },
   {
    "duration": 11,
    "start_time": "2022-03-15T21:34:25.219Z"
   },
   {
    "duration": 9,
    "start_time": "2022-03-15T21:34:25.448Z"
   },
   {
    "duration": 5,
    "start_time": "2022-03-15T21:34:26.847Z"
   },
   {
    "duration": 926,
    "start_time": "2022-03-15T21:34:27.339Z"
   },
   {
    "duration": 2731,
    "start_time": "2022-03-15T21:34:29.240Z"
   },
   {
    "duration": 5,
    "start_time": "2022-03-15T21:34:46.456Z"
   },
   {
    "duration": 1172,
    "start_time": "2022-03-15T21:34:48.028Z"
   },
   {
    "duration": 3070,
    "start_time": "2022-03-15T21:34:50.234Z"
   },
   {
    "duration": 5,
    "start_time": "2022-03-15T21:35:20.614Z"
   },
   {
    "duration": 1060,
    "start_time": "2022-03-15T21:35:22.309Z"
   },
   {
    "duration": 2400,
    "start_time": "2022-03-15T21:35:24.627Z"
   },
   {
    "duration": 276,
    "start_time": "2022-03-15T21:35:44.344Z"
   },
   {
    "duration": 91,
    "start_time": "2022-03-15T21:36:01.242Z"
   },
   {
    "duration": 103,
    "start_time": "2022-03-15T21:36:16.741Z"
   },
   {
    "duration": 107,
    "start_time": "2022-03-15T21:36:29.193Z"
   },
   {
    "duration": 92,
    "start_time": "2022-03-15T21:37:02.715Z"
   },
   {
    "duration": 345,
    "start_time": "2022-03-15T21:37:44.579Z"
   },
   {
    "duration": 270,
    "start_time": "2022-03-15T21:38:06.071Z"
   },
   {
    "duration": 6,
    "start_time": "2022-03-15T21:38:57.703Z"
   },
   {
    "duration": 253,
    "start_time": "2022-03-15T21:38:58.856Z"
   },
   {
    "duration": 428,
    "start_time": "2022-03-15T21:40:21.564Z"
   },
   {
    "duration": 258,
    "start_time": "2022-03-15T21:40:36.387Z"
   },
   {
    "duration": 6,
    "start_time": "2022-03-15T21:40:43.992Z"
   },
   {
    "duration": 250,
    "start_time": "2022-03-15T21:40:46.629Z"
   },
   {
    "duration": 274,
    "start_time": "2022-03-15T21:45:30.344Z"
   },
   {
    "duration": 249,
    "start_time": "2022-03-15T21:45:40.073Z"
   },
   {
    "duration": 254,
    "start_time": "2022-03-15T21:46:13.819Z"
   },
   {
    "duration": 520,
    "start_time": "2022-03-15T21:49:24.518Z"
   },
   {
    "duration": 108,
    "start_time": "2022-03-15T21:49:53.367Z"
   },
   {
    "duration": 9,
    "start_time": "2022-03-15T21:49:57.093Z"
   },
   {
    "duration": 255,
    "start_time": "2022-03-15T21:50:05.815Z"
   },
   {
    "duration": 261,
    "start_time": "2022-03-15T21:50:27.587Z"
   },
   {
    "duration": 9,
    "start_time": "2022-03-15T21:58:16.647Z"
   },
   {
    "duration": 11,
    "start_time": "2022-03-15T22:04:56.943Z"
   },
   {
    "duration": 8,
    "start_time": "2022-03-15T22:05:01.799Z"
   },
   {
    "duration": 282,
    "start_time": "2022-03-16T05:31:16.690Z"
   },
   {
    "duration": 4,
    "start_time": "2022-03-16T05:33:17.459Z"
   },
   {
    "duration": 18,
    "start_time": "2022-03-16T05:33:17.888Z"
   },
   {
    "duration": 15,
    "start_time": "2022-03-16T05:33:20.640Z"
   },
   {
    "duration": 15,
    "start_time": "2022-03-16T05:35:39.786Z"
   },
   {
    "duration": 17,
    "start_time": "2022-03-16T05:35:41.252Z"
   },
   {
    "duration": 16,
    "start_time": "2022-03-16T05:35:42.389Z"
   },
   {
    "duration": 38,
    "start_time": "2022-03-16T05:35:44.307Z"
   },
   {
    "duration": 7,
    "start_time": "2022-03-16T05:40:20.261Z"
   },
   {
    "duration": 4,
    "start_time": "2022-03-16T05:41:21.390Z"
   },
   {
    "duration": 46,
    "start_time": "2022-03-16T05:41:44.040Z"
   },
   {
    "duration": 87,
    "start_time": "2022-03-16T05:42:02.068Z"
   },
   {
    "duration": 271,
    "start_time": "2022-03-16T05:43:22.176Z"
   },
   {
    "duration": 279,
    "start_time": "2022-03-16T05:43:25.427Z"
   },
   {
    "duration": 286,
    "start_time": "2022-03-16T05:43:45.966Z"
   },
   {
    "duration": 15,
    "start_time": "2022-03-16T05:46:36.500Z"
   },
   {
    "duration": 40,
    "start_time": "2022-03-16T05:46:37.627Z"
   },
   {
    "duration": 4,
    "start_time": "2022-03-16T05:46:39.562Z"
   },
   {
    "duration": 44,
    "start_time": "2022-03-16T05:46:40.027Z"
   },
   {
    "duration": 86,
    "start_time": "2022-03-16T05:46:40.975Z"
   },
   {
    "duration": 81,
    "start_time": "2022-03-16T05:47:15.928Z"
   },
   {
    "duration": 84,
    "start_time": "2022-03-16T05:47:18.283Z"
   },
   {
    "duration": 9,
    "start_time": "2022-03-16T05:47:34.183Z"
   },
   {
    "duration": 9,
    "start_time": "2022-03-16T05:47:38.950Z"
   },
   {
    "duration": 10,
    "start_time": "2022-03-16T05:47:42.813Z"
   },
   {
    "duration": 5,
    "start_time": "2022-03-16T06:18:44.878Z"
   },
   {
    "duration": 4,
    "start_time": "2022-03-16T06:26:09.512Z"
   },
   {
    "duration": 6,
    "start_time": "2022-03-16T06:26:40.084Z"
   },
   {
    "duration": 13,
    "start_time": "2022-03-16T06:26:40.952Z"
   },
   {
    "duration": 13,
    "start_time": "2022-03-16T06:26:41.402Z"
   },
   {
    "duration": 6,
    "start_time": "2022-03-16T06:26:41.880Z"
   },
   {
    "duration": 13,
    "start_time": "2022-03-16T06:27:22.913Z"
   },
   {
    "duration": 11,
    "start_time": "2022-03-16T06:27:23.255Z"
   },
   {
    "duration": 5,
    "start_time": "2022-03-16T06:27:23.531Z"
   },
   {
    "duration": 34,
    "start_time": "2022-03-16T06:27:33.291Z"
   },
   {
    "duration": 5,
    "start_time": "2022-03-16T06:27:35.942Z"
   },
   {
    "duration": 34,
    "start_time": "2022-03-16T06:27:36.260Z"
   },
   {
    "duration": 78,
    "start_time": "2022-03-16T06:27:37.235Z"
   },
   {
    "duration": 4,
    "start_time": "2022-03-16T06:27:57.756Z"
   },
   {
    "duration": 4,
    "start_time": "2022-03-16T06:27:58.958Z"
   },
   {
    "duration": 352559,
    "start_time": "2022-03-16T06:27:59.725Z"
   },
   {
    "duration": 62,
    "start_time": "2022-03-16T06:33:52.287Z"
   },
   {
    "duration": 6,
    "start_time": "2022-03-16T06:37:27.805Z"
   },
   {
    "duration": 5,
    "start_time": "2022-03-16T06:37:29.638Z"
   },
   {
    "duration": 73,
    "start_time": "2022-03-16T06:37:47.229Z"
   },
   {
    "duration": 11,
    "start_time": "2022-03-16T06:37:52.749Z"
   },
   {
    "duration": 8,
    "start_time": "2022-03-16T06:37:53.873Z"
   },
   {
    "duration": 5,
    "start_time": "2022-03-16T06:38:35.591Z"
   },
   {
    "duration": 350131,
    "start_time": "2022-03-16T06:38:44.691Z"
   },
   {
    "duration": 5,
    "start_time": "2022-03-16T06:47:41.288Z"
   },
   {
    "duration": 6,
    "start_time": "2022-03-16T06:47:44.283Z"
   },
   {
    "duration": 4,
    "start_time": "2022-03-16T07:11:44.733Z"
   },
   {
    "duration": 36,
    "start_time": "2022-03-16T07:11:45.225Z"
   },
   {
    "duration": 23,
    "start_time": "2022-03-16T07:11:46.022Z"
   },
   {
    "duration": 6,
    "start_time": "2022-03-16T07:13:18.441Z"
   },
   {
    "duration": 15,
    "start_time": "2022-03-16T07:13:18.986Z"
   },
   {
    "duration": 14,
    "start_time": "2022-03-16T07:13:19.172Z"
   },
   {
    "duration": 6,
    "start_time": "2022-03-16T07:13:19.643Z"
   },
   {
    "duration": 46,
    "start_time": "2022-03-16T07:13:21.376Z"
   },
   {
    "duration": 3,
    "start_time": "2022-03-16T07:13:24.317Z"
   },
   {
    "duration": 38,
    "start_time": "2022-03-16T07:13:24.323Z"
   },
   {
    "duration": 81,
    "start_time": "2022-03-16T07:13:24.364Z"
   },
   {
    "duration": 6,
    "start_time": "2022-03-16T07:13:35.254Z"
   },
   {
    "duration": 121,
    "start_time": "2022-03-16T07:13:39.196Z"
   },
   {
    "duration": 6,
    "start_time": "2022-03-16T07:13:44.018Z"
   },
   {
    "duration": 367808,
    "start_time": "2022-03-16T07:14:24.313Z"
   },
   {
    "duration": 6,
    "start_time": "2022-03-16T07:38:20.703Z"
   },
   {
    "duration": 6,
    "start_time": "2022-03-16T07:38:21.864Z"
   },
   {
    "duration": 5,
    "start_time": "2022-03-16T07:39:01.434Z"
   },
   {
    "duration": 1635,
    "start_time": "2022-03-16T07:39:03.912Z"
   },
   {
    "duration": 4119,
    "start_time": "2022-03-16T07:39:07.385Z"
   },
   {
    "duration": 10,
    "start_time": "2022-03-16T07:39:21.028Z"
   },
   {
    "duration": 9,
    "start_time": "2022-03-16T07:39:22.123Z"
   },
   {
    "duration": 22,
    "start_time": "2022-03-16T07:39:22.482Z"
   },
   {
    "duration": 9,
    "start_time": "2022-03-16T07:39:23.055Z"
   },
   {
    "duration": 8,
    "start_time": "2022-03-16T07:39:24.762Z"
   },
   {
    "duration": 5,
    "start_time": "2022-03-16T07:39:27.428Z"
   },
   {
    "duration": 1613,
    "start_time": "2022-03-16T07:39:28.942Z"
   },
   {
    "duration": 2864,
    "start_time": "2022-03-16T07:39:30.558Z"
   },
   {
    "duration": 125,
    "start_time": "2022-03-16T07:39:44.118Z"
   },
   {
    "duration": 6,
    "start_time": "2022-03-16T07:39:44.492Z"
   },
   {
    "duration": 271,
    "start_time": "2022-03-16T07:39:45.272Z"
   },
   {
    "duration": 12,
    "start_time": "2022-03-16T07:39:49.974Z"
   },
   {
    "duration": 84,
    "start_time": "2022-03-16T07:41:06.502Z"
   },
   {
    "duration": 9,
    "start_time": "2022-03-16T07:41:08.167Z"
   },
   {
    "duration": 9,
    "start_time": "2022-03-16T07:41:14.671Z"
   },
   {
    "duration": 37,
    "start_time": "2022-03-16T07:41:16.212Z"
   },
   {
    "duration": 359,
    "start_time": "2022-03-16T07:41:16.718Z"
   },
   {
    "duration": 115,
    "start_time": "2022-03-16T07:41:32.576Z"
   },
   {
    "duration": 17,
    "start_time": "2022-03-16T07:43:03.270Z"
   },
   {
    "duration": 7,
    "start_time": "2022-03-16T07:43:15.149Z"
   },
   {
    "duration": 37,
    "start_time": "2022-03-16T07:43:15.548Z"
   },
   {
    "duration": 13,
    "start_time": "2022-03-16T07:43:15.983Z"
   },
   {
    "duration": 21,
    "start_time": "2022-03-16T07:43:16.427Z"
   },
   {
    "duration": 63,
    "start_time": "2022-03-16T07:43:17.440Z"
   },
   {
    "duration": 65,
    "start_time": "2022-03-16T07:44:16.300Z"
   },
   {
    "duration": 1230,
    "start_time": "2022-03-16T07:45:37.050Z"
   },
   {
    "duration": 7,
    "start_time": "2022-03-16T07:45:53.365Z"
   },
   {
    "duration": 39,
    "start_time": "2022-03-16T07:45:53.629Z"
   },
   {
    "duration": 14,
    "start_time": "2022-03-16T07:45:53.972Z"
   },
   {
    "duration": 20,
    "start_time": "2022-03-16T07:45:54.825Z"
   },
   {
    "duration": 64,
    "start_time": "2022-03-16T07:45:55.780Z"
   },
   {
    "duration": 1215,
    "start_time": "2022-03-16T07:46:06.028Z"
   },
   {
    "duration": 7,
    "start_time": "2022-03-16T10:05:15.383Z"
   },
   {
    "duration": 36,
    "start_time": "2022-03-16T10:05:15.794Z"
   },
   {
    "duration": 14,
    "start_time": "2022-03-16T10:05:16.173Z"
   },
   {
    "duration": 20,
    "start_time": "2022-03-16T10:05:16.608Z"
   },
   {
    "duration": 75,
    "start_time": "2022-03-16T10:05:17.006Z"
   },
   {
    "duration": 1275,
    "start_time": "2022-03-16T10:05:18.022Z"
   },
   {
    "duration": 621,
    "start_time": "2022-03-16T10:05:20.859Z"
   },
   {
    "duration": 7,
    "start_time": "2022-03-16T10:05:23.343Z"
   },
   {
    "duration": 9,
    "start_time": "2022-03-16T10:05:24.593Z"
   },
   {
    "duration": 4,
    "start_time": "2022-03-16T10:05:25.558Z"
   },
   {
    "duration": 21,
    "start_time": "2022-03-16T10:05:27.866Z"
   },
   {
    "duration": 9,
    "start_time": "2022-03-16T10:05:29.595Z"
   },
   {
    "duration": 9,
    "start_time": "2022-03-16T10:05:30.054Z"
   },
   {
    "duration": 11,
    "start_time": "2022-03-16T10:05:30.536Z"
   },
   {
    "duration": 4,
    "start_time": "2022-03-16T10:05:31.967Z"
   },
   {
    "duration": 3,
    "start_time": "2022-03-16T10:05:32.941Z"
   },
   {
    "duration": 25,
    "start_time": "2022-03-16T10:05:33.497Z"
   },
   {
    "duration": 3,
    "start_time": "2022-03-16T10:05:34.424Z"
   },
   {
    "duration": 11,
    "start_time": "2022-03-16T10:05:36.663Z"
   },
   {
    "duration": 8,
    "start_time": "2022-03-16T10:05:37.992Z"
   },
   {
    "duration": 66,
    "start_time": "2022-03-16T10:05:39.280Z"
   },
   {
    "duration": 13,
    "start_time": "2022-03-16T10:05:41.548Z"
   },
   {
    "duration": 5,
    "start_time": "2022-03-16T10:05:45.105Z"
   },
   {
    "duration": 8,
    "start_time": "2022-03-16T10:05:45.555Z"
   },
   {
    "duration": 18,
    "start_time": "2022-03-16T10:05:49.411Z"
   },
   {
    "duration": 6,
    "start_time": "2022-03-16T10:05:52.528Z"
   },
   {
    "duration": 18,
    "start_time": "2022-03-16T10:05:52.537Z"
   },
   {
    "duration": 13,
    "start_time": "2022-03-16T10:05:52.581Z"
   },
   {
    "duration": 5,
    "start_time": "2022-03-16T10:05:52.962Z"
   },
   {
    "duration": 40,
    "start_time": "2022-03-16T10:05:55.328Z"
   },
   {
    "duration": 4,
    "start_time": "2022-03-16T10:05:57.239Z"
   },
   {
    "duration": 31,
    "start_time": "2022-03-16T10:05:57.774Z"
   },
   {
    "duration": 108,
    "start_time": "2022-03-16T10:05:59.037Z"
   },
   {
    "duration": 4,
    "start_time": "2022-03-16T10:06:31.720Z"
   },
   {
    "duration": 5,
    "start_time": "2022-03-16T10:06:32.897Z"
   },
   {
    "duration": 365550,
    "start_time": "2022-03-16T10:06:36.755Z"
   },
   {
    "duration": -203101,
    "start_time": "2022-03-16T10:16:05.673Z"
   },
   {
    "duration": 6,
    "start_time": "2022-03-16T10:39:26.478Z"
   },
   {
    "duration": 5,
    "start_time": "2022-03-16T10:39:27.359Z"
   },
   {
    "duration": 123,
    "start_time": "2022-03-16T10:39:33.935Z"
   },
   {
    "duration": 9,
    "start_time": "2022-03-16T10:39:35.367Z"
   },
   {
    "duration": 9,
    "start_time": "2022-03-16T10:39:37.073Z"
   },
   {
    "duration": 7,
    "start_time": "2022-03-16T10:39:40.704Z"
   },
   {
    "duration": 45,
    "start_time": "2022-03-16T10:39:50.298Z"
   },
   {
    "duration": 25,
    "start_time": "2022-03-16T10:40:03.241Z"
   },
   {
    "duration": 9,
    "start_time": "2022-03-16T10:42:54.428Z"
   },
   {
    "duration": 9,
    "start_time": "2022-03-16T10:42:56.192Z"
   },
   {
    "duration": 22,
    "start_time": "2022-03-16T10:42:56.614Z"
   },
   {
    "duration": 10,
    "start_time": "2022-03-16T10:42:57.022Z"
   },
   {
    "duration": 9,
    "start_time": "2022-03-16T10:42:57.602Z"
   },
   {
    "duration": 5,
    "start_time": "2022-03-16T10:42:58.694Z"
   },
   {
    "duration": 1115,
    "start_time": "2022-03-16T10:42:59.659Z"
   },
   {
    "duration": 2850,
    "start_time": "2022-03-16T10:43:01.240Z"
   },
   {
    "duration": 124,
    "start_time": "2022-03-16T10:43:09.766Z"
   },
   {
    "duration": 6,
    "start_time": "2022-03-16T10:43:10.162Z"
   },
   {
    "duration": 257,
    "start_time": "2022-03-16T10:43:13.717Z"
   },
   {
    "duration": 9,
    "start_time": "2022-03-16T10:43:16.959Z"
   },
   {
    "duration": 34,
    "start_time": "2022-03-16T10:43:21.232Z"
   },
   {
    "duration": 332,
    "start_time": "2022-03-16T10:43:21.834Z"
   },
   {
    "duration": 106,
    "start_time": "2022-03-16T10:43:23.406Z"
   },
   {
    "duration": 1862,
    "start_time": "2022-03-17T07:07:18.028Z"
   },
   {
    "duration": 50,
    "start_time": "2022-03-17T07:07:19.892Z"
   },
   {
    "duration": 16,
    "start_time": "2022-03-17T07:07:19.944Z"
   },
   {
    "duration": 19,
    "start_time": "2022-03-17T07:07:24.704Z"
   },
   {
    "duration": 51,
    "start_time": "2022-03-17T07:07:25.619Z"
   },
   {
    "duration": 1209,
    "start_time": "2022-03-17T07:07:32.201Z"
   },
   {
    "duration": 292,
    "start_time": "2022-03-17T07:07:36.526Z"
   },
   {
    "duration": 4,
    "start_time": "2022-03-17T07:07:40.186Z"
   },
   {
    "duration": 8,
    "start_time": "2022-03-17T07:07:41.087Z"
   },
   {
    "duration": 15,
    "start_time": "2022-03-17T07:07:47.578Z"
   },
   {
    "duration": 7,
    "start_time": "2022-03-17T07:10:31.453Z"
   },
   {
    "duration": 13,
    "start_time": "2022-03-17T07:10:31.923Z"
   },
   {
    "duration": 7,
    "start_time": "2022-03-17T07:10:36.904Z"
   },
   {
    "duration": 7,
    "start_time": "2022-03-17T07:10:39.875Z"
   },
   {
    "duration": 132,
    "start_time": "2022-03-17T07:10:46.073Z"
   },
   {
    "duration": 29,
    "start_time": "2022-03-17T07:10:56.425Z"
   },
   {
    "duration": 82,
    "start_time": "2022-03-17T07:12:44.481Z"
   },
   {
    "duration": 18,
    "start_time": "2022-03-17T07:12:46.514Z"
   },
   {
    "duration": 9,
    "start_time": "2022-03-17T07:16:43.448Z"
   },
   {
    "duration": 17,
    "start_time": "2022-03-17T07:17:00.047Z"
   },
   {
    "duration": 3,
    "start_time": "2022-03-17T07:17:18.210Z"
   },
   {
    "duration": 14,
    "start_time": "2022-03-17T07:17:18.959Z"
   },
   {
    "duration": 3,
    "start_time": "2022-03-17T07:17:28.166Z"
   },
   {
    "duration": 12,
    "start_time": "2022-03-17T07:17:28.457Z"
   },
   {
    "duration": 8,
    "start_time": "2022-03-17T07:17:28.894Z"
   },
   {
    "duration": 60,
    "start_time": "2022-03-17T07:17:29.795Z"
   },
   {
    "duration": 6,
    "start_time": "2022-03-17T07:17:30.715Z"
   },
   {
    "duration": 4,
    "start_time": "2022-03-17T07:17:31.610Z"
   },
   {
    "duration": 5,
    "start_time": "2022-03-17T07:17:31.974Z"
   },
   {
    "duration": 19,
    "start_time": "2022-03-17T07:17:33.193Z"
   },
   {
    "duration": 5,
    "start_time": "2022-03-17T07:17:35.186Z"
   },
   {
    "duration": 13,
    "start_time": "2022-03-17T07:17:36.151Z"
   },
   {
    "duration": 8,
    "start_time": "2022-03-17T07:17:36.877Z"
   },
   {
    "duration": 10,
    "start_time": "2022-03-17T07:17:43.726Z"
   },
   {
    "duration": 9,
    "start_time": "2022-03-17T07:17:44.087Z"
   },
   {
    "duration": 4,
    "start_time": "2022-03-17T07:17:44.380Z"
   },
   {
    "duration": 3,
    "start_time": "2022-03-17T07:17:45.560Z"
   },
   {
    "duration": 27,
    "start_time": "2022-03-17T07:17:46.752Z"
   },
   {
    "duration": 5,
    "start_time": "2022-03-17T07:18:01.532Z"
   },
   {
    "duration": 200,
    "start_time": "2022-03-17T07:18:03.749Z"
   },
   {
    "duration": 11,
    "start_time": "2022-03-17T07:18:05.383Z"
   },
   {
    "duration": 6,
    "start_time": "2022-03-17T07:18:08.955Z"
   },
   {
    "duration": 4,
    "start_time": "2022-03-17T07:18:11.526Z"
   },
   {
    "duration": 275144,
    "start_time": "2022-03-17T07:18:13.384Z"
   },
   {
    "duration": 5,
    "start_time": "2022-03-17T07:24:37.692Z"
   },
   {
    "duration": 4,
    "start_time": "2022-03-17T07:24:39.267Z"
   },
   {
    "duration": 96,
    "start_time": "2022-03-17T07:24:58.092Z"
   },
   {
    "duration": 7,
    "start_time": "2022-03-17T07:25:03.176Z"
   },
   {
    "duration": 6,
    "start_time": "2022-03-17T07:25:03.802Z"
   },
   {
    "duration": 6,
    "start_time": "2022-03-17T07:25:04.906Z"
   },
   {
    "duration": 8,
    "start_time": "2022-03-17T07:25:13.250Z"
   },
   {
    "duration": 9,
    "start_time": "2022-03-17T07:25:15.532Z"
   },
   {
    "duration": 20,
    "start_time": "2022-03-17T07:25:17.022Z"
   },
   {
    "duration": 7,
    "start_time": "2022-03-17T07:25:18.769Z"
   },
   {
    "duration": 6,
    "start_time": "2022-03-17T07:25:19.756Z"
   },
   {
    "duration": 3,
    "start_time": "2022-03-17T07:25:28.383Z"
   },
   {
    "duration": 894,
    "start_time": "2022-03-17T07:25:29.491Z"
   },
   {
    "duration": 2212,
    "start_time": "2022-03-17T07:25:31.108Z"
   },
   {
    "duration": 101,
    "start_time": "2022-03-17T07:29:38.758Z"
   },
   {
    "duration": 4,
    "start_time": "2022-03-17T07:29:39.065Z"
   },
   {
    "duration": 144,
    "start_time": "2022-03-17T07:29:39.658Z"
   },
   {
    "duration": 7,
    "start_time": "2022-03-17T07:29:45.096Z"
   },
   {
    "duration": 32,
    "start_time": "2022-03-17T07:29:46.635Z"
   },
   {
    "duration": 220,
    "start_time": "2022-03-17T07:29:47.105Z"
   },
   {
    "duration": 60,
    "start_time": "2022-03-17T07:29:52.556Z"
   },
   {
    "duration": 66,
    "start_time": "2022-03-17T07:31:43.451Z"
   },
   {
    "duration": 6,
    "start_time": "2022-03-17T07:32:03.966Z"
   },
   {
    "duration": 53,
    "start_time": "2022-03-17T07:34:04.169Z"
   },
   {
    "duration": 6,
    "start_time": "2022-03-17T07:34:04.863Z"
   },
   {
    "duration": 18,
    "start_time": "2022-03-17T09:29:09.362Z"
   },
   {
    "duration": 53,
    "start_time": "2022-03-17T09:29:53.297Z"
   },
   {
    "duration": 66,
    "start_time": "2022-03-17T09:30:03.995Z"
   },
   {
    "duration": 8,
    "start_time": "2022-03-17T09:30:19.432Z"
   },
   {
    "duration": 60,
    "start_time": "2022-03-17T09:30:23.004Z"
   },
   {
    "duration": 4,
    "start_time": "2022-03-17T09:31:39.844Z"
   },
   {
    "duration": 32,
    "start_time": "2022-03-17T09:31:40.148Z"
   },
   {
    "duration": 22,
    "start_time": "2022-03-17T09:37:58.870Z"
   },
   {
    "duration": 17,
    "start_time": "2022-03-17T09:38:11.220Z"
   },
   {
    "duration": 28,
    "start_time": "2022-03-17T09:38:18.649Z"
   },
   {
    "duration": 20,
    "start_time": "2022-03-17T09:38:34.211Z"
   },
   {
    "duration": 6,
    "start_time": "2022-03-17T09:46:35.324Z"
   },
   {
    "duration": 8,
    "start_time": "2022-03-17T09:46:36.503Z"
   },
   {
    "duration": 4,
    "start_time": "2022-03-17T09:46:36.860Z"
   },
   {
    "duration": 4,
    "start_time": "2022-03-17T09:46:39.648Z"
   },
   {
    "duration": 44,
    "start_time": "2022-03-17T09:46:41.527Z"
   },
   {
    "duration": 3,
    "start_time": "2022-03-17T09:46:46.995Z"
   },
   {
    "duration": 401,
    "start_time": "2022-03-17T09:46:47.152Z"
   },
   {
    "duration": 196,
    "start_time": "2022-03-17T09:46:47.556Z"
   },
   {
    "duration": 4,
    "start_time": "2022-03-17T09:46:52.663Z"
   },
   {
    "duration": 3,
    "start_time": "2022-03-17T09:46:57.010Z"
   },
   {
    "duration": 10,
    "start_time": "2022-03-17T09:46:59.592Z"
   },
   {
    "duration": 10,
    "start_time": "2022-03-17T09:47:07.878Z"
   },
   {
    "duration": 7,
    "start_time": "2022-03-17T09:47:09.903Z"
   },
   {
    "duration": 7,
    "start_time": "2022-03-17T09:47:10.096Z"
   },
   {
    "duration": 7,
    "start_time": "2022-03-17T09:47:10.390Z"
   },
   {
    "duration": 7,
    "start_time": "2022-03-17T09:47:14.962Z"
   },
   {
    "duration": 6,
    "start_time": "2022-03-17T09:47:15.717Z"
   },
   {
    "duration": 17,
    "start_time": "2022-03-17T09:47:15.921Z"
   },
   {
    "duration": 6,
    "start_time": "2022-03-17T09:47:16.244Z"
   },
   {
    "duration": 6,
    "start_time": "2022-03-17T09:47:16.497Z"
   },
   {
    "duration": 4,
    "start_time": "2022-03-17T09:47:17.755Z"
   },
   {
    "duration": 883,
    "start_time": "2022-03-17T09:47:17.978Z"
   },
   {
    "duration": 2188,
    "start_time": "2022-03-17T09:47:18.863Z"
   },
   {
    "duration": 106,
    "start_time": "2022-03-17T09:47:21.053Z"
   },
   {
    "duration": 4,
    "start_time": "2022-03-17T09:47:21.161Z"
   },
   {
    "duration": 150,
    "start_time": "2022-03-17T09:47:21.167Z"
   },
   {
    "duration": 6,
    "start_time": "2022-03-17T09:47:21.567Z"
   },
   {
    "duration": 28,
    "start_time": "2022-03-17T09:47:32.732Z"
   },
   {
    "duration": 209,
    "start_time": "2022-03-17T09:47:32.959Z"
   },
   {
    "duration": 18,
    "start_time": "2022-03-17T09:47:36.246Z"
   },
   {
    "duration": 106,
    "start_time": "2022-03-17T09:47:38.795Z"
   },
   {
    "duration": 8,
    "start_time": "2022-03-17T09:47:41.219Z"
   },
   {
    "duration": 9,
    "start_time": "2022-03-17T09:47:54.650Z"
   },
   {
    "duration": 106,
    "start_time": "2022-03-17T09:47:59.256Z"
   },
   {
    "duration": 6,
    "start_time": "2022-03-17T09:47:59.617Z"
   },
   {
    "duration": 5,
    "start_time": "2022-03-17T15:25:17.815Z"
   },
   {
    "duration": 43,
    "start_time": "2022-03-17T15:25:18.020Z"
   },
   {
    "duration": 13,
    "start_time": "2022-03-17T15:25:18.111Z"
   },
   {
    "duration": 14,
    "start_time": "2022-03-17T15:25:18.231Z"
   },
   {
    "duration": 46,
    "start_time": "2022-03-17T15:25:18.338Z"
   },
   {
    "duration": 1169,
    "start_time": "2022-03-17T15:25:18.447Z"
   },
   {
    "duration": 279,
    "start_time": "2022-03-17T15:25:19.618Z"
   },
   {
    "duration": 5,
    "start_time": "2022-03-17T15:25:19.898Z"
   },
   {
    "duration": 11,
    "start_time": "2022-03-17T15:25:19.904Z"
   },
   {
    "duration": 12,
    "start_time": "2022-03-17T15:25:20.121Z"
   },
   {
    "duration": 6,
    "start_time": "2022-03-17T15:25:20.958Z"
   },
   {
    "duration": 6,
    "start_time": "2022-03-17T15:25:21.069Z"
   },
   {
    "duration": 7,
    "start_time": "2022-03-17T15:25:21.169Z"
   },
   {
    "duration": 9,
    "start_time": "2022-03-17T15:25:21.413Z"
   },
   {
    "duration": 19,
    "start_time": "2022-03-17T15:25:21.494Z"
   },
   {
    "duration": 3,
    "start_time": "2022-03-17T15:25:22.011Z"
   },
   {
    "duration": 9,
    "start_time": "2022-03-17T15:25:22.106Z"
   },
   {
    "duration": 33,
    "start_time": "2022-03-17T15:25:22.205Z"
   },
   {
    "duration": 13,
    "start_time": "2022-03-17T15:25:22.455Z"
   },
   {
    "duration": 5,
    "start_time": "2022-03-17T15:25:23.555Z"
   },
   {
    "duration": 4,
    "start_time": "2022-03-17T15:25:24.528Z"
   },
   {
    "duration": 6,
    "start_time": "2022-03-17T15:25:24.958Z"
   },
   {
    "duration": 13,
    "start_time": "2022-03-17T15:25:25.509Z"
   },
   {
    "duration": 4,
    "start_time": "2022-03-17T15:25:26.351Z"
   },
   {
    "duration": 6,
    "start_time": "2022-03-17T15:25:26.976Z"
   },
   {
    "duration": 8,
    "start_time": "2022-03-17T15:25:27.158Z"
   },
   {
    "duration": 3,
    "start_time": "2022-03-17T15:25:27.333Z"
   },
   {
    "duration": 4,
    "start_time": "2022-03-17T15:25:28.860Z"
   },
   {
    "duration": 36,
    "start_time": "2022-03-17T15:25:29.547Z"
   },
   {
    "duration": 3,
    "start_time": "2022-03-17T15:25:35.138Z"
   },
   {
    "duration": 128,
    "start_time": "2022-03-17T15:25:35.305Z"
   },
   {
    "duration": 12,
    "start_time": "2022-03-17T15:25:35.532Z"
   },
   {
    "duration": 3,
    "start_time": "2022-03-17T15:25:38.737Z"
   },
   {
    "duration": 3,
    "start_time": "2022-03-17T15:25:41.321Z"
   },
   {
    "duration": 4,
    "start_time": "2022-03-17T15:31:20.940Z"
   },
   {
    "duration": 13,
    "start_time": "2022-03-17T15:31:23.315Z"
   },
   {
    "duration": 4,
    "start_time": "2022-03-17T15:32:19.562Z"
   },
   {
    "duration": 99757,
    "start_time": "2022-03-17T15:32:22.414Z"
   },
   {
    "duration": 4339,
    "start_time": "2022-03-17T15:34:42.081Z"
   },
   {
    "duration": 5,
    "start_time": "2022-03-17T15:35:03.734Z"
   },
   {
    "duration": 17,
    "start_time": "2022-03-17T15:35:04.385Z"
   },
   {
    "duration": 4,
    "start_time": "2022-03-17T15:49:08.356Z"
   },
   {
    "duration": 15,
    "start_time": "2022-03-17T15:49:10.958Z"
   },
   {
    "duration": 5,
    "start_time": "2022-03-17T15:50:34.418Z"
   },
   {
    "duration": 254574,
    "start_time": "2022-03-17T15:50:35.170Z"
   },
   {
    "duration": 4,
    "start_time": "2022-03-17T16:05:30.930Z"
   },
   {
    "duration": 5,
    "start_time": "2022-03-17T16:05:35.182Z"
   },
   {
    "duration": 82,
    "start_time": "2022-03-17T16:05:43.978Z"
   },
   {
    "duration": 6,
    "start_time": "2022-03-17T16:05:55.274Z"
   },
   {
    "duration": 7,
    "start_time": "2022-03-17T16:05:56.077Z"
   },
   {
    "duration": 6,
    "start_time": "2022-03-17T16:06:00.745Z"
   },
   {
    "duration": 6,
    "start_time": "2022-03-17T16:06:04.345Z"
   },
   {
    "duration": 6,
    "start_time": "2022-03-17T16:06:06.453Z"
   },
   {
    "duration": 15,
    "start_time": "2022-03-17T16:06:07.172Z"
   },
   {
    "duration": 7,
    "start_time": "2022-03-17T16:06:07.472Z"
   },
   {
    "duration": 6,
    "start_time": "2022-03-17T16:06:07.975Z"
   },
   {
    "duration": 4,
    "start_time": "2022-03-17T16:06:10.085Z"
   },
   {
    "duration": 822,
    "start_time": "2022-03-17T16:06:10.459Z"
   },
   {
    "duration": 2076,
    "start_time": "2022-03-17T16:06:11.283Z"
   },
   {
    "duration": 93,
    "start_time": "2022-03-17T16:06:26.097Z"
   },
   {
    "duration": 4,
    "start_time": "2022-03-17T16:06:26.746Z"
   },
   {
    "duration": 128,
    "start_time": "2022-03-17T16:06:27.484Z"
   },
   {
    "duration": 7,
    "start_time": "2022-03-17T16:06:29.521Z"
   },
   {
    "duration": 102,
    "start_time": "2022-03-17T16:06:40.174Z"
   },
   {
    "duration": 7,
    "start_time": "2022-03-17T16:06:46.124Z"
   },
   {
    "duration": 101,
    "start_time": "2022-03-17T16:06:49.231Z"
   },
   {
    "duration": 7,
    "start_time": "2022-03-17T16:06:49.546Z"
   }
  ],
  "kernelspec": {
   "display_name": "Python 3 (ipykernel)",
   "language": "python",
   "name": "python3"
  },
  "language_info": {
   "codemirror_mode": {
    "name": "ipython",
    "version": 3
   },
   "file_extension": ".py",
   "mimetype": "text/x-python",
   "name": "python",
   "nbconvert_exporter": "python",
   "pygments_lexer": "ipython3",
   "version": "3.10.0"
  },
  "toc": {
   "base_numbering": 1,
   "nav_menu": {},
   "number_sections": true,
   "sideBar": true,
   "skip_h1_title": true,
   "title_cell": "Содержание",
   "title_sidebar": "Contents",
   "toc_cell": true,
   "toc_position": {
    "height": "calc(100% - 180px)",
    "left": "10px",
    "top": "150px",
    "width": "380.66px"
   },
   "toc_section_display": true,
   "toc_window_display": false
  }
 },
 "nbformat": 4,
 "nbformat_minor": 2
}
