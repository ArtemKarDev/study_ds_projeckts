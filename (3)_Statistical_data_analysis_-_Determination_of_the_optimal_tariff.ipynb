{
 "cells": [
  {
   "cell_type": "markdown",
   "metadata": {},
   "source": [
    "«Мегалайн» — федеральный оператора сотовой связи. Клиентам предлагают два тарифных плана: «Смарт» и «Ультра». Чтобы скорректировать рекламный бюджет, коммерческий департамент хочет понять, какой тариф приносит больше денег.\n",
    "Предстоит сделать предварительный анализ тарифов на небольшой выборке клиентов. В распоряжении данные 500 пользователей: кто они, откуда, каким тарифом пользуются, сколько звонков и сообщений каждый отправил за 2018 год. Нужно проанализировать поведение клиентов и сделать вывод — какой тариф лучше."
   ]
  },
  {
   "cell_type": "code",
   "execution_count": 104,
   "metadata": {},
   "outputs": [],
   "source": [
    "import pandas as pd\n",
    "import numpy as np\n",
    "import seaborn as sns\n",
    "import matplotlib as mpl\n",
    "import matplotlib.pyplot as plt\n",
    "from scipy import stats as st\n",
    "import math"
   ]
  },
  {
   "cell_type": "code",
   "execution_count": 105,
   "metadata": {},
   "outputs": [],
   "source": [
    "calls = pd.read_csv('/datasets/calls.csv')\n",
    "calls.name = 'calls'\n",
    "internet = pd.read_csv('/datasets/internet.csv')\n",
    "internet.name = 'internet'\n",
    "messages = pd.read_csv('/datasets/messages.csv')\n",
    "messages.name = 'messages'\n",
    "tariffs = pd.read_csv('/datasets/tariffs.csv')\n",
    "tariffs.name = 'tariffs'\n",
    "users = pd.read_csv('/datasets/users.csv')\n",
    "users.name = 'users'"
   ]
  },
  {
   "cell_type": "markdown",
   "metadata": {},
   "source": [
    "## Изучение и предобработка данных"
   ]
  },
  {
   "cell_type": "markdown",
   "metadata": {},
   "source": [
    "### calls"
   ]
  },
  {
   "cell_type": "code",
   "execution_count": 106,
   "metadata": {},
   "outputs": [
    {
     "name": "stdout",
     "output_type": "stream",
     "text": [
      "<class 'pandas.core.frame.DataFrame'>\n",
      "RangeIndex: 202607 entries, 0 to 202606\n",
      "Data columns (total 4 columns):\n",
      " #   Column     Non-Null Count   Dtype  \n",
      "---  ------     --------------   -----  \n",
      " 0   id         202607 non-null  object \n",
      " 1   call_date  202607 non-null  object \n",
      " 2   duration   202607 non-null  float64\n",
      " 3   user_id    202607 non-null  int64  \n",
      "dtypes: float64(1), int64(1), object(2)\n",
      "memory usage: 6.2+ MB\n"
     ]
    }
   ],
   "source": [
    "calls.info()"
   ]
  },
  {
   "cell_type": "code",
   "execution_count": 107,
   "metadata": {},
   "outputs": [],
   "source": [
    "calls['call_date'] = pd.to_datetime(calls['call_date'])"
   ]
  },
  {
   "cell_type": "code",
   "execution_count": 108,
   "metadata": {},
   "outputs": [
    {
     "name": "stderr",
     "output_type": "stream",
     "text": [
      "/opt/conda/lib/python3.7/site-packages/ipykernel_launcher.py:1: FutureWarning: Treating datetime data as categorical rather than numeric in `.describe` is deprecated and will be removed in a future version of pandas. Specify `datetime_is_numeric=True` to silence this warning and adopt the future behavior now.\n",
      "  \"\"\"Entry point for launching an IPython kernel.\n"
     ]
    },
    {
     "data": {
      "text/plain": [
       "count                  202607\n",
       "unique                    365\n",
       "top       2018-12-31 00:00:00\n",
       "freq                     1435\n",
       "first     2018-01-01 00:00:00\n",
       "last      2018-12-31 00:00:00\n",
       "Name: call_date, dtype: object"
      ]
     },
     "execution_count": 108,
     "metadata": {},
     "output_type": "execute_result"
    }
   ],
   "source": [
    "calls['call_date'].describe()"
   ]
  },
  {
   "cell_type": "code",
   "execution_count": 109,
   "metadata": {},
   "outputs": [
    {
     "data": {
      "text/plain": [
       "count    202607.000000\n",
       "mean          6.755887\n",
       "std           5.843365\n",
       "min           0.000000\n",
       "25%           1.300000\n",
       "50%           6.000000\n",
       "75%          10.700000\n",
       "max          38.000000\n",
       "Name: duration, dtype: float64"
      ]
     },
     "execution_count": 109,
     "metadata": {},
     "output_type": "execute_result"
    }
   ],
   "source": [
    "calls['duration'].describe()"
   ]
  },
  {
   "cell_type": "code",
   "execution_count": 110,
   "metadata": {},
   "outputs": [
    {
     "data": {
      "text/plain": [
       "39613"
      ]
     },
     "execution_count": 110,
     "metadata": {},
     "output_type": "execute_result"
    }
   ],
   "source": [
    "calls[calls['duration'] == 0 ]['duration'].count()"
   ]
  },
  {
   "cell_type": "code",
   "execution_count": 111,
   "metadata": {},
   "outputs": [
    {
     "data": {
      "text/plain": [
       "<AxesSubplot:>"
      ]
     },
     "execution_count": 111,
     "metadata": {},
     "output_type": "execute_result"
    },
    {
     "data": {
      "image/png": "[encoded data removed]",
      "text/plain": [
       "<Figure size 432x288 with 1 Axes>"
      ]
     },
     "metadata": {
      "needs_background": "light"
     },
     "output_type": "display_data"
    }
   ],
   "source": [
    "calls['duration'].hist(bins=40)"
   ]
  },
  {
   "cell_type": "markdown",
   "metadata": {},
   "source": [
    "Самый продолжительный разговор длился 38 мин - в принципе ничего сверхестественного. Много нулевых значений в duration, но так наверно фиксируются \"недозвоны\", я думаю они тут не помешают."
   ]
  },
  {
   "cell_type": "code",
   "execution_count": 112,
   "metadata": {},
   "outputs": [
    {
     "data": {
      "text/html": [
       "<div>\n",
       "<style scoped>\n",
       "    .dataframe tbody tr th:only-of-type {\n",
       "        vertical-align: middle;\n",
       "    }\n",
       "\n",
       "    .dataframe tbody tr th {\n",
       "        vertical-align: top;\n",
       "    }\n",
       "\n",
       "    .dataframe thead th {\n",
       "        text-align: right;\n",
       "    }\n",
       "</style>\n",
       "<table border=\"1\" class=\"dataframe\">\n",
       "  <thead>\n",
       "    <tr style=\"text-align: right;\">\n",
       "      <th></th>\n",
       "      <th>id</th>\n",
       "      <th>call_date</th>\n",
       "      <th>duration</th>\n",
       "      <th>user_id</th>\n",
       "    </tr>\n",
       "  </thead>\n",
       "  <tbody>\n",
       "    <tr>\n",
       "      <th>48504</th>\n",
       "      <td>1121_161</td>\n",
       "      <td>2018-08-20</td>\n",
       "      <td>0.00</td>\n",
       "      <td>1121</td>\n",
       "    </tr>\n",
       "    <tr>\n",
       "      <th>174194</th>\n",
       "      <td>1430_243</td>\n",
       "      <td>2018-06-23</td>\n",
       "      <td>11.37</td>\n",
       "      <td>1430</td>\n",
       "    </tr>\n",
       "    <tr>\n",
       "      <th>78883</th>\n",
       "      <td>1196_1115</td>\n",
       "      <td>2018-06-30</td>\n",
       "      <td>7.69</td>\n",
       "      <td>1196</td>\n",
       "    </tr>\n",
       "    <tr>\n",
       "      <th>73842</th>\n",
       "      <td>1185_636</td>\n",
       "      <td>2018-08-09</td>\n",
       "      <td>7.01</td>\n",
       "      <td>1185</td>\n",
       "    </tr>\n",
       "    <tr>\n",
       "      <th>128795</th>\n",
       "      <td>1330_659</td>\n",
       "      <td>2018-03-27</td>\n",
       "      <td>5.61</td>\n",
       "      <td>1330</td>\n",
       "    </tr>\n",
       "  </tbody>\n",
       "</table>\n",
       "</div>"
      ],
      "text/plain": [
       "               id  call_date  duration  user_id\n",
       "48504    1121_161 2018-08-20      0.00     1121\n",
       "174194   1430_243 2018-06-23     11.37     1430\n",
       "78883   1196_1115 2018-06-30      7.69     1196\n",
       "73842    1185_636 2018-08-09      7.01     1185\n",
       "128795   1330_659 2018-03-27      5.61     1330"
      ]
     },
     "execution_count": 112,
     "metadata": {},
     "output_type": "execute_result"
    }
   ],
   "source": [
    "calls.sample(5)"
   ]
  },
  {
   "cell_type": "code",
   "execution_count": 113,
   "metadata": {},
   "outputs": [
    {
     "data": {
      "text/plain": [
       "False    202607\n",
       "dtype: int64"
      ]
     },
     "execution_count": 113,
     "metadata": {},
     "output_type": "execute_result"
    }
   ],
   "source": [
    "calls.duplicated().value_counts()"
   ]
  },
  {
   "cell_type": "markdown",
   "metadata": {},
   "source": [
    "### internet"
   ]
  },
  {
   "cell_type": "code",
   "execution_count": 114,
   "metadata": {},
   "outputs": [
    {
     "name": "stdout",
     "output_type": "stream",
     "text": [
      "<class 'pandas.core.frame.DataFrame'>\n",
      "RangeIndex: 149396 entries, 0 to 149395\n",
      "Data columns (total 5 columns):\n",
      " #   Column        Non-Null Count   Dtype  \n",
      "---  ------        --------------   -----  \n",
      " 0   Unnamed: 0    149396 non-null  int64  \n",
      " 1   id            149396 non-null  object \n",
      " 2   mb_used       149396 non-null  float64\n",
      " 3   session_date  149396 non-null  object \n",
      " 4   user_id       149396 non-null  int64  \n",
      "dtypes: float64(1), int64(2), object(2)\n",
      "memory usage: 5.7+ MB\n"
     ]
    }
   ],
   "source": [
    "internet.info()"
   ]
  },
  {
   "cell_type": "code",
   "execution_count": 115,
   "metadata": {},
   "outputs": [
    {
     "data": {
      "text/html": [
       "<div>\n",
       "<style scoped>\n",
       "    .dataframe tbody tr th:only-of-type {\n",
       "        vertical-align: middle;\n",
       "    }\n",
       "\n",
       "    .dataframe tbody tr th {\n",
       "        vertical-align: top;\n",
       "    }\n",
       "\n",
       "    .dataframe thead th {\n",
       "        text-align: right;\n",
       "    }\n",
       "</style>\n",
       "<table border=\"1\" class=\"dataframe\">\n",
       "  <thead>\n",
       "    <tr style=\"text-align: right;\">\n",
       "      <th></th>\n",
       "      <th>Unnamed: 0</th>\n",
       "      <th>id</th>\n",
       "      <th>mb_used</th>\n",
       "      <th>session_date</th>\n",
       "      <th>user_id</th>\n",
       "    </tr>\n",
       "  </thead>\n",
       "  <tbody>\n",
       "    <tr>\n",
       "      <th>119930</th>\n",
       "      <td>119930</td>\n",
       "      <td>1404_25</td>\n",
       "      <td>93.76</td>\n",
       "      <td>2018-12-07</td>\n",
       "      <td>1404</td>\n",
       "    </tr>\n",
       "    <tr>\n",
       "      <th>110989</th>\n",
       "      <td>110989</td>\n",
       "      <td>1376_249</td>\n",
       "      <td>413.40</td>\n",
       "      <td>2018-07-22</td>\n",
       "      <td>1376</td>\n",
       "    </tr>\n",
       "    <tr>\n",
       "      <th>11818</th>\n",
       "      <td>11818</td>\n",
       "      <td>1041_40</td>\n",
       "      <td>0.00</td>\n",
       "      <td>2018-11-30</td>\n",
       "      <td>1041</td>\n",
       "    </tr>\n",
       "    <tr>\n",
       "      <th>84436</th>\n",
       "      <td>84436</td>\n",
       "      <td>1286_118</td>\n",
       "      <td>336.74</td>\n",
       "      <td>2018-12-27</td>\n",
       "      <td>1286</td>\n",
       "    </tr>\n",
       "    <tr>\n",
       "      <th>3907</th>\n",
       "      <td>3907</td>\n",
       "      <td>1012_180</td>\n",
       "      <td>0.00</td>\n",
       "      <td>2018-04-29</td>\n",
       "      <td>1012</td>\n",
       "    </tr>\n",
       "  </tbody>\n",
       "</table>\n",
       "</div>"
      ],
      "text/plain": [
       "        Unnamed: 0        id  mb_used session_date  user_id\n",
       "119930      119930   1404_25    93.76   2018-12-07     1404\n",
       "110989      110989  1376_249   413.40   2018-07-22     1376\n",
       "11818        11818   1041_40     0.00   2018-11-30     1041\n",
       "84436        84436  1286_118   336.74   2018-12-27     1286\n",
       "3907          3907  1012_180     0.00   2018-04-29     1012"
      ]
     },
     "execution_count": 115,
     "metadata": {},
     "output_type": "execute_result"
    }
   ],
   "source": [
    "internet.sample(5)"
   ]
  },
  {
   "cell_type": "markdown",
   "metadata": {},
   "source": [
    "колонка \"Unnamed: 0\" дублирует индексы - удалю её"
   ]
  },
  {
   "cell_type": "code",
   "execution_count": 116,
   "metadata": {},
   "outputs": [
    {
     "data": {
      "text/plain": [
       "0              0\n",
       "1              1\n",
       "2              2\n",
       "3              3\n",
       "4              4\n",
       "           ...  \n",
       "149391    149391\n",
       "149392    149392\n",
       "149393    149393\n",
       "149394    149394\n",
       "149395    149395\n",
       "Name: Unnamed: 0, Length: 149396, dtype: int64"
      ]
     },
     "execution_count": 116,
     "metadata": {},
     "output_type": "execute_result"
    }
   ],
   "source": [
    "internet.pop('Unnamed: 0')"
   ]
  },
  {
   "cell_type": "code",
   "execution_count": 117,
   "metadata": {},
   "outputs": [],
   "source": [
    "internet['session_date'] = pd.to_datetime(internet['session_date'])"
   ]
  },
  {
   "cell_type": "code",
   "execution_count": 118,
   "metadata": {},
   "outputs": [
    {
     "data": {
      "text/plain": [
       "False    149396\n",
       "dtype: int64"
      ]
     },
     "execution_count": 118,
     "metadata": {},
     "output_type": "execute_result"
    }
   ],
   "source": [
    "internet.duplicated().value_counts()"
   ]
  },
  {
   "cell_type": "markdown",
   "metadata": {},
   "source": [
    "### messages"
   ]
  },
  {
   "cell_type": "code",
   "execution_count": 119,
   "metadata": {},
   "outputs": [
    {
     "name": "stdout",
     "output_type": "stream",
     "text": [
      "<class 'pandas.core.frame.DataFrame'>\n",
      "RangeIndex: 123036 entries, 0 to 123035\n",
      "Data columns (total 3 columns):\n",
      " #   Column        Non-Null Count   Dtype \n",
      "---  ------        --------------   ----- \n",
      " 0   id            123036 non-null  object\n",
      " 1   message_date  123036 non-null  object\n",
      " 2   user_id       123036 non-null  int64 \n",
      "dtypes: int64(1), object(2)\n",
      "memory usage: 2.8+ MB\n"
     ]
    }
   ],
   "source": [
    "messages.info()"
   ]
  },
  {
   "cell_type": "code",
   "execution_count": 120,
   "metadata": {},
   "outputs": [
    {
     "data": {
      "text/html": [
       "<div>\n",
       "<style scoped>\n",
       "    .dataframe tbody tr th:only-of-type {\n",
       "        vertical-align: middle;\n",
       "    }\n",
       "\n",
       "    .dataframe tbody tr th {\n",
       "        vertical-align: top;\n",
       "    }\n",
       "\n",
       "    .dataframe thead th {\n",
       "        text-align: right;\n",
       "    }\n",
       "</style>\n",
       "<table border=\"1\" class=\"dataframe\">\n",
       "  <thead>\n",
       "    <tr style=\"text-align: right;\">\n",
       "      <th></th>\n",
       "      <th>id</th>\n",
       "      <th>message_date</th>\n",
       "      <th>user_id</th>\n",
       "    </tr>\n",
       "  </thead>\n",
       "  <tbody>\n",
       "    <tr>\n",
       "      <th>31999</th>\n",
       "      <td>1144_138</td>\n",
       "      <td>2018-12-02</td>\n",
       "      <td>1144</td>\n",
       "    </tr>\n",
       "    <tr>\n",
       "      <th>25291</th>\n",
       "      <td>1104_483</td>\n",
       "      <td>2018-08-16</td>\n",
       "      <td>1104</td>\n",
       "    </tr>\n",
       "    <tr>\n",
       "      <th>76545</th>\n",
       "      <td>1324_228</td>\n",
       "      <td>2018-11-05</td>\n",
       "      <td>1324</td>\n",
       "    </tr>\n",
       "    <tr>\n",
       "      <th>86051</th>\n",
       "      <td>1356_1068</td>\n",
       "      <td>2018-11-28</td>\n",
       "      <td>1356</td>\n",
       "    </tr>\n",
       "    <tr>\n",
       "      <th>109577</th>\n",
       "      <td>1440_518</td>\n",
       "      <td>2018-08-12</td>\n",
       "      <td>1440</td>\n",
       "    </tr>\n",
       "  </tbody>\n",
       "</table>\n",
       "</div>"
      ],
      "text/plain": [
       "               id message_date  user_id\n",
       "31999    1144_138   2018-12-02     1144\n",
       "25291    1104_483   2018-08-16     1104\n",
       "76545    1324_228   2018-11-05     1324\n",
       "86051   1356_1068   2018-11-28     1356\n",
       "109577   1440_518   2018-08-12     1440"
      ]
     },
     "execution_count": 120,
     "metadata": {},
     "output_type": "execute_result"
    }
   ],
   "source": [
    "messages.sample(5)"
   ]
  },
  {
   "cell_type": "code",
   "execution_count": 121,
   "metadata": {},
   "outputs": [],
   "source": [
    "messages['message_date'] = pd.to_datetime(messages['message_date'])"
   ]
  },
  {
   "cell_type": "code",
   "execution_count": 122,
   "metadata": {},
   "outputs": [
    {
     "data": {
      "text/plain": [
       "False    123036\n",
       "dtype: int64"
      ]
     },
     "execution_count": 122,
     "metadata": {},
     "output_type": "execute_result"
    }
   ],
   "source": [
    "messages.duplicated().value_counts()"
   ]
  },
  {
   "cell_type": "markdown",
   "metadata": {},
   "source": [
    "### tariffs"
   ]
  },
  {
   "cell_type": "code",
   "execution_count": 123,
   "metadata": {},
   "outputs": [
    {
     "name": "stdout",
     "output_type": "stream",
     "text": [
      "<class 'pandas.core.frame.DataFrame'>\n",
      "RangeIndex: 2 entries, 0 to 1\n",
      "Data columns (total 8 columns):\n",
      " #   Column                 Non-Null Count  Dtype \n",
      "---  ------                 --------------  ----- \n",
      " 0   messages_included      2 non-null      int64 \n",
      " 1   mb_per_month_included  2 non-null      int64 \n",
      " 2   minutes_included       2 non-null      int64 \n",
      " 3   rub_monthly_fee        2 non-null      int64 \n",
      " 4   rub_per_gb             2 non-null      int64 \n",
      " 5   rub_per_message        2 non-null      int64 \n",
      " 6   rub_per_minute         2 non-null      int64 \n",
      " 7   tariff_name            2 non-null      object\n",
      "dtypes: int64(7), object(1)\n",
      "memory usage: 256.0+ bytes\n"
     ]
    }
   ],
   "source": [
    "tariffs.info()"
   ]
  },
  {
   "cell_type": "code",
   "execution_count": 124,
   "metadata": {},
   "outputs": [
    {
     "data": {
      "text/html": [
       "<div>\n",
       "<style scoped>\n",
       "    .dataframe tbody tr th:only-of-type {\n",
       "        vertical-align: middle;\n",
       "    }\n",
       "\n",
       "    .dataframe tbody tr th {\n",
       "        vertical-align: top;\n",
       "    }\n",
       "\n",
       "    .dataframe thead th {\n",
       "        text-align: right;\n",
       "    }\n",
       "</style>\n",
       "<table border=\"1\" class=\"dataframe\">\n",
       "  <thead>\n",
       "    <tr style=\"text-align: right;\">\n",
       "      <th></th>\n",
       "      <th>messages_included</th>\n",
       "      <th>mb_per_month_included</th>\n",
       "      <th>minutes_included</th>\n",
       "      <th>rub_monthly_fee</th>\n",
       "      <th>rub_per_gb</th>\n",
       "      <th>rub_per_message</th>\n",
       "      <th>rub_per_minute</th>\n",
       "      <th>tariff_name</th>\n",
       "    </tr>\n",
       "  </thead>\n",
       "  <tbody>\n",
       "    <tr>\n",
       "      <th>0</th>\n",
       "      <td>50</td>\n",
       "      <td>15360</td>\n",
       "      <td>500</td>\n",
       "      <td>550</td>\n",
       "      <td>200</td>\n",
       "      <td>3</td>\n",
       "      <td>3</td>\n",
       "      <td>smart</td>\n",
       "    </tr>\n",
       "    <tr>\n",
       "      <th>1</th>\n",
       "      <td>1000</td>\n",
       "      <td>30720</td>\n",
       "      <td>3000</td>\n",
       "      <td>1950</td>\n",
       "      <td>150</td>\n",
       "      <td>1</td>\n",
       "      <td>1</td>\n",
       "      <td>ultra</td>\n",
       "    </tr>\n",
       "  </tbody>\n",
       "</table>\n",
       "</div>"
      ],
      "text/plain": [
       "   messages_included  mb_per_month_included  minutes_included  \\\n",
       "0                 50                  15360               500   \n",
       "1               1000                  30720              3000   \n",
       "\n",
       "   rub_monthly_fee  rub_per_gb  rub_per_message  rub_per_minute tariff_name  \n",
       "0              550         200                3               3       smart  \n",
       "1             1950         150                1               1       ultra  "
      ]
     },
     "execution_count": 124,
     "metadata": {},
     "output_type": "execute_result"
    }
   ],
   "source": [
    "tariffs"
   ]
  },
  {
   "cell_type": "markdown",
   "metadata": {},
   "source": [
    "### users"
   ]
  },
  {
   "cell_type": "code",
   "execution_count": 125,
   "metadata": {},
   "outputs": [
    {
     "name": "stdout",
     "output_type": "stream",
     "text": [
      "<class 'pandas.core.frame.DataFrame'>\n",
      "RangeIndex: 500 entries, 0 to 499\n",
      "Data columns (total 8 columns):\n",
      " #   Column      Non-Null Count  Dtype \n",
      "---  ------      --------------  ----- \n",
      " 0   user_id     500 non-null    int64 \n",
      " 1   age         500 non-null    int64 \n",
      " 2   churn_date  38 non-null     object\n",
      " 3   city        500 non-null    object\n",
      " 4   first_name  500 non-null    object\n",
      " 5   last_name   500 non-null    object\n",
      " 6   reg_date    500 non-null    object\n",
      " 7   tariff      500 non-null    object\n",
      "dtypes: int64(2), object(6)\n",
      "memory usage: 31.4+ KB\n"
     ]
    }
   ],
   "source": [
    "users.info()"
   ]
  },
  {
   "cell_type": "code",
   "execution_count": 126,
   "metadata": {},
   "outputs": [],
   "source": [
    "users['reg_date'] = pd.to_datetime(users['reg_date'])"
   ]
  },
  {
   "cell_type": "code",
   "execution_count": 127,
   "metadata": {},
   "outputs": [
    {
     "data": {
      "text/plain": [
       "<AxesSubplot:>"
      ]
     },
     "execution_count": 127,
     "metadata": {},
     "output_type": "execute_result"
    },
    {
     "data": {
      "image/png": "[encoded data removed]",
      "text/plain": [
       "<Figure size 432x288 with 1 Axes>"
      ]
     },
     "metadata": {
      "needs_background": "light"
     },
     "output_type": "display_data"
    }
   ],
   "source": [
    "users['reg_date'].hist(bins=12)"
   ]
  },
  {
   "cell_type": "markdown",
   "metadata": {},
   "source": [
    "Пользователи в данной выборке становились клиентами опретора постепенно - по 35-50 регистраций в месяц."
   ]
  },
  {
   "cell_type": "code",
   "execution_count": 128,
   "metadata": {},
   "outputs": [
    {
     "data": {
      "text/html": [
       "<div>\n",
       "<style scoped>\n",
       "    .dataframe tbody tr th:only-of-type {\n",
       "        vertical-align: middle;\n",
       "    }\n",
       "\n",
       "    .dataframe tbody tr th {\n",
       "        vertical-align: top;\n",
       "    }\n",
       "\n",
       "    .dataframe thead th {\n",
       "        text-align: right;\n",
       "    }\n",
       "</style>\n",
       "<table border=\"1\" class=\"dataframe\">\n",
       "  <thead>\n",
       "    <tr style=\"text-align: right;\">\n",
       "      <th></th>\n",
       "      <th>user_id</th>\n",
       "      <th>age</th>\n",
       "    </tr>\n",
       "  </thead>\n",
       "  <tbody>\n",
       "    <tr>\n",
       "      <th>count</th>\n",
       "      <td>500.000000</td>\n",
       "      <td>500.00000</td>\n",
       "    </tr>\n",
       "    <tr>\n",
       "      <th>mean</th>\n",
       "      <td>1249.500000</td>\n",
       "      <td>46.58800</td>\n",
       "    </tr>\n",
       "    <tr>\n",
       "      <th>std</th>\n",
       "      <td>144.481833</td>\n",
       "      <td>16.66763</td>\n",
       "    </tr>\n",
       "    <tr>\n",
       "      <th>min</th>\n",
       "      <td>1000.000000</td>\n",
       "      <td>18.00000</td>\n",
       "    </tr>\n",
       "    <tr>\n",
       "      <th>25%</th>\n",
       "      <td>1124.750000</td>\n",
       "      <td>32.00000</td>\n",
       "    </tr>\n",
       "    <tr>\n",
       "      <th>50%</th>\n",
       "      <td>1249.500000</td>\n",
       "      <td>46.00000</td>\n",
       "    </tr>\n",
       "    <tr>\n",
       "      <th>75%</th>\n",
       "      <td>1374.250000</td>\n",
       "      <td>62.00000</td>\n",
       "    </tr>\n",
       "    <tr>\n",
       "      <th>max</th>\n",
       "      <td>1499.000000</td>\n",
       "      <td>75.00000</td>\n",
       "    </tr>\n",
       "  </tbody>\n",
       "</table>\n",
       "</div>"
      ],
      "text/plain": [
       "           user_id        age\n",
       "count   500.000000  500.00000\n",
       "mean   1249.500000   46.58800\n",
       "std     144.481833   16.66763\n",
       "min    1000.000000   18.00000\n",
       "25%    1124.750000   32.00000\n",
       "50%    1249.500000   46.00000\n",
       "75%    1374.250000   62.00000\n",
       "max    1499.000000   75.00000"
      ]
     },
     "execution_count": 128,
     "metadata": {},
     "output_type": "execute_result"
    }
   ],
   "source": [
    "users.describe()"
   ]
  },
  {
   "cell_type": "code",
   "execution_count": 129,
   "metadata": {},
   "outputs": [
    {
     "data": {
      "text/html": [
       "<div>\n",
       "<style scoped>\n",
       "    .dataframe tbody tr th:only-of-type {\n",
       "        vertical-align: middle;\n",
       "    }\n",
       "\n",
       "    .dataframe tbody tr th {\n",
       "        vertical-align: top;\n",
       "    }\n",
       "\n",
       "    .dataframe thead th {\n",
       "        text-align: right;\n",
       "    }\n",
       "</style>\n",
       "<table border=\"1\" class=\"dataframe\">\n",
       "  <thead>\n",
       "    <tr style=\"text-align: right;\">\n",
       "      <th></th>\n",
       "      <th>user_id</th>\n",
       "      <th>age</th>\n",
       "      <th>churn_date</th>\n",
       "      <th>city</th>\n",
       "      <th>first_name</th>\n",
       "      <th>last_name</th>\n",
       "      <th>reg_date</th>\n",
       "      <th>tariff</th>\n",
       "    </tr>\n",
       "  </thead>\n",
       "  <tbody>\n",
       "    <tr>\n",
       "      <th>148</th>\n",
       "      <td>1148</td>\n",
       "      <td>23</td>\n",
       "      <td>NaN</td>\n",
       "      <td>Тольятти</td>\n",
       "      <td>Евдокия</td>\n",
       "      <td>Киреева</td>\n",
       "      <td>2018-04-17</td>\n",
       "      <td>ultra</td>\n",
       "    </tr>\n",
       "    <tr>\n",
       "      <th>260</th>\n",
       "      <td>1260</td>\n",
       "      <td>56</td>\n",
       "      <td>NaN</td>\n",
       "      <td>Москва</td>\n",
       "      <td>Афанасий</td>\n",
       "      <td>Горбунов</td>\n",
       "      <td>2018-07-16</td>\n",
       "      <td>smart</td>\n",
       "    </tr>\n",
       "    <tr>\n",
       "      <th>269</th>\n",
       "      <td>1269</td>\n",
       "      <td>31</td>\n",
       "      <td>NaN</td>\n",
       "      <td>Омск</td>\n",
       "      <td>Аким</td>\n",
       "      <td>Ахмадулин</td>\n",
       "      <td>2018-07-17</td>\n",
       "      <td>smart</td>\n",
       "    </tr>\n",
       "    <tr>\n",
       "      <th>106</th>\n",
       "      <td>1106</td>\n",
       "      <td>67</td>\n",
       "      <td>NaN</td>\n",
       "      <td>Калуга</td>\n",
       "      <td>Исаак</td>\n",
       "      <td>Костин</td>\n",
       "      <td>2018-04-26</td>\n",
       "      <td>ultra</td>\n",
       "    </tr>\n",
       "    <tr>\n",
       "      <th>210</th>\n",
       "      <td>1210</td>\n",
       "      <td>33</td>\n",
       "      <td>NaN</td>\n",
       "      <td>Севастополь</td>\n",
       "      <td>Евфросинья</td>\n",
       "      <td>Серебрякова</td>\n",
       "      <td>2018-07-29</td>\n",
       "      <td>smart</td>\n",
       "    </tr>\n",
       "  </tbody>\n",
       "</table>\n",
       "</div>"
      ],
      "text/plain": [
       "     user_id  age churn_date         city  first_name    last_name   reg_date  \\\n",
       "148     1148   23        NaN     Тольятти     Евдокия      Киреева 2018-04-17   \n",
       "260     1260   56        NaN       Москва    Афанасий     Горбунов 2018-07-16   \n",
       "269     1269   31        NaN         Омск        Аким    Ахмадулин 2018-07-17   \n",
       "106     1106   67        NaN       Калуга       Исаак       Костин 2018-04-26   \n",
       "210     1210   33        NaN  Севастополь  Евфросинья  Серебрякова 2018-07-29   \n",
       "\n",
       "    tariff  \n",
       "148  ultra  \n",
       "260  smart  \n",
       "269  smart  \n",
       "106  ultra  \n",
       "210  smart  "
      ]
     },
     "execution_count": 129,
     "metadata": {},
     "output_type": "execute_result"
    }
   ],
   "source": [
    "users.sample(5)"
   ]
  },
  {
   "cell_type": "code",
   "execution_count": 130,
   "metadata": {},
   "outputs": [
    {
     "data": {
      "text/plain": [
       "False    500\n",
       "dtype: int64"
      ]
     },
     "execution_count": 130,
     "metadata": {},
     "output_type": "execute_result"
    }
   ],
   "source": [
    "users.duplicated().value_counts()"
   ]
  },
  {
   "cell_type": "markdown",
   "metadata": {},
   "source": [
    "<b>Вывод</b>"
   ]
  },
  {
   "cell_type": "markdown",
   "metadata": {},
   "source": [
    "Даннные хорошего качества, пропусков практически нет, дубликатов тоже, ошибок в данных также не наблюдаю, имена колонок оптимальные. Поправил только тип данных с датами. В остальном с этим можно работать."
   ]
  },
  {
   "cell_type": "code",
   "execution_count": 164,
   "metadata": {
    "scrolled": true
   },
   "outputs": [
    {
     "name": "stdout",
     "output_type": "stream",
     "text": [
      "\n",
      " Информация о таблице calls \n",
      "\n",
      "<class 'pandas.core.frame.DataFrame'>\n",
      "RangeIndex: 202607 entries, 0 to 202606\n",
      "Data columns (total 6 columns):\n",
      " #   Column         Non-Null Count   Dtype         \n",
      "---  ------         --------------   -----         \n",
      " 0   id             202607 non-null  object        \n",
      " 1   call_date      202607 non-null  datetime64[ns]\n",
      " 2   duration       202607 non-null  float64       \n",
      " 3   user_id        202607 non-null  int64         \n",
      " 4   call_month     202607 non-null  period[M]     \n",
      " 5   tariff_minuts  202607 non-null  float64       \n",
      "dtypes: datetime64[ns](1), float64(2), int64(1), object(1), period[M](1)\n",
      "memory usage: 9.3+ MB\n"
     ]
    },
    {
     "data": {
      "text/plain": [
       "None"
      ]
     },
     "metadata": {},
     "output_type": "display_data"
    },
    {
     "data": {
      "text/html": [
       "<div>\n",
       "<style scoped>\n",
       "    .dataframe tbody tr th:only-of-type {\n",
       "        vertical-align: middle;\n",
       "    }\n",
       "\n",
       "    .dataframe tbody tr th {\n",
       "        vertical-align: top;\n",
       "    }\n",
       "\n",
       "    .dataframe thead th {\n",
       "        text-align: right;\n",
       "    }\n",
       "</style>\n",
       "<table border=\"1\" class=\"dataframe\">\n",
       "  <thead>\n",
       "    <tr style=\"text-align: right;\">\n",
       "      <th></th>\n",
       "      <th>id</th>\n",
       "      <th>call_date</th>\n",
       "      <th>duration</th>\n",
       "      <th>user_id</th>\n",
       "      <th>call_month</th>\n",
       "      <th>tariff_minuts</th>\n",
       "    </tr>\n",
       "  </thead>\n",
       "  <tbody>\n",
       "    <tr>\n",
       "      <th>0</th>\n",
       "      <td>1000_0</td>\n",
       "      <td>2018-07-25</td>\n",
       "      <td>0.00</td>\n",
       "      <td>1000</td>\n",
       "      <td>2018-07</td>\n",
       "      <td>0.0</td>\n",
       "    </tr>\n",
       "    <tr>\n",
       "      <th>1</th>\n",
       "      <td>1000_1</td>\n",
       "      <td>2018-08-17</td>\n",
       "      <td>0.00</td>\n",
       "      <td>1000</td>\n",
       "      <td>2018-08</td>\n",
       "      <td>0.0</td>\n",
       "    </tr>\n",
       "    <tr>\n",
       "      <th>2</th>\n",
       "      <td>1000_2</td>\n",
       "      <td>2018-06-11</td>\n",
       "      <td>2.85</td>\n",
       "      <td>1000</td>\n",
       "      <td>2018-06</td>\n",
       "      <td>3.0</td>\n",
       "    </tr>\n",
       "    <tr>\n",
       "      <th>3</th>\n",
       "      <td>1000_3</td>\n",
       "      <td>2018-09-21</td>\n",
       "      <td>13.80</td>\n",
       "      <td>1000</td>\n",
       "      <td>2018-09</td>\n",
       "      <td>14.0</td>\n",
       "    </tr>\n",
       "    <tr>\n",
       "      <th>4</th>\n",
       "      <td>1000_4</td>\n",
       "      <td>2018-12-15</td>\n",
       "      <td>5.18</td>\n",
       "      <td>1000</td>\n",
       "      <td>2018-12</td>\n",
       "      <td>6.0</td>\n",
       "    </tr>\n",
       "  </tbody>\n",
       "</table>\n",
       "</div>"
      ],
      "text/plain": [
       "       id  call_date  duration  user_id call_month  tariff_minuts\n",
       "0  1000_0 2018-07-25      0.00     1000    2018-07            0.0\n",
       "1  1000_1 2018-08-17      0.00     1000    2018-08            0.0\n",
       "2  1000_2 2018-06-11      2.85     1000    2018-06            3.0\n",
       "3  1000_3 2018-09-21     13.80     1000    2018-09           14.0\n",
       "4  1000_4 2018-12-15      5.18     1000    2018-12            6.0"
      ]
     },
     "metadata": {},
     "output_type": "display_data"
    },
    {
     "data": {
      "text/html": [
       "<div>\n",
       "<style scoped>\n",
       "    .dataframe tbody tr th:only-of-type {\n",
       "        vertical-align: middle;\n",
       "    }\n",
       "\n",
       "    .dataframe tbody tr th {\n",
       "        vertical-align: top;\n",
       "    }\n",
       "\n",
       "    .dataframe thead th {\n",
       "        text-align: right;\n",
       "    }\n",
       "</style>\n",
       "<table border=\"1\" class=\"dataframe\">\n",
       "  <thead>\n",
       "    <tr style=\"text-align: right;\">\n",
       "      <th></th>\n",
       "      <th>duration</th>\n",
       "      <th>user_id</th>\n",
       "      <th>tariff_minuts</th>\n",
       "    </tr>\n",
       "  </thead>\n",
       "  <tbody>\n",
       "    <tr>\n",
       "      <th>count</th>\n",
       "      <td>202607.000000</td>\n",
       "      <td>202607.000000</td>\n",
       "      <td>202607.000000</td>\n",
       "    </tr>\n",
       "    <tr>\n",
       "      <th>mean</th>\n",
       "      <td>6.755887</td>\n",
       "      <td>1253.940619</td>\n",
       "      <td>7.158198</td>\n",
       "    </tr>\n",
       "    <tr>\n",
       "      <th>std</th>\n",
       "      <td>5.843365</td>\n",
       "      <td>144.722751</td>\n",
       "      <td>5.959173</td>\n",
       "    </tr>\n",
       "    <tr>\n",
       "      <th>min</th>\n",
       "      <td>0.000000</td>\n",
       "      <td>1000.000000</td>\n",
       "      <td>0.000000</td>\n",
       "    </tr>\n",
       "    <tr>\n",
       "      <th>25%</th>\n",
       "      <td>1.300000</td>\n",
       "      <td>1126.000000</td>\n",
       "      <td>2.000000</td>\n",
       "    </tr>\n",
       "    <tr>\n",
       "      <th>50%</th>\n",
       "      <td>6.000000</td>\n",
       "      <td>1260.000000</td>\n",
       "      <td>6.000000</td>\n",
       "    </tr>\n",
       "    <tr>\n",
       "      <th>75%</th>\n",
       "      <td>10.700000</td>\n",
       "      <td>1379.000000</td>\n",
       "      <td>11.000000</td>\n",
       "    </tr>\n",
       "    <tr>\n",
       "      <th>max</th>\n",
       "      <td>38.000000</td>\n",
       "      <td>1499.000000</td>\n",
       "      <td>38.000000</td>\n",
       "    </tr>\n",
       "  </tbody>\n",
       "</table>\n",
       "</div>"
      ],
      "text/plain": [
       "            duration        user_id  tariff_minuts\n",
       "count  202607.000000  202607.000000  202607.000000\n",
       "mean        6.755887    1253.940619       7.158198\n",
       "std         5.843365     144.722751       5.959173\n",
       "min         0.000000    1000.000000       0.000000\n",
       "25%         1.300000    1126.000000       2.000000\n",
       "50%         6.000000    1260.000000       6.000000\n",
       "75%        10.700000    1379.000000      11.000000\n",
       "max        38.000000    1499.000000      38.000000"
      ]
     },
     "metadata": {},
     "output_type": "display_data"
    },
    {
     "name": "stdout",
     "output_type": "stream",
     "text": [
      "\n",
      " Информация о таблице internet \n",
      "\n",
      "<class 'pandas.core.frame.DataFrame'>\n",
      "RangeIndex: 149396 entries, 0 to 149395\n",
      "Data columns (total 5 columns):\n",
      " #   Column        Non-Null Count   Dtype         \n",
      "---  ------        --------------   -----         \n",
      " 0   id            149396 non-null  object        \n",
      " 1   mb_used       149396 non-null  float64       \n",
      " 2   session_date  149396 non-null  datetime64[ns]\n",
      " 3   user_id       149396 non-null  int64         \n",
      " 4   month         149396 non-null  period[M]     \n",
      "dtypes: datetime64[ns](1), float64(1), int64(1), object(1), period[M](1)\n",
      "memory usage: 5.7+ MB\n"
     ]
    },
    {
     "data": {
      "text/plain": [
       "None"
      ]
     },
     "metadata": {},
     "output_type": "display_data"
    },
    {
     "data": {
      "text/html": [
       "<div>\n",
       "<style scoped>\n",
       "    .dataframe tbody tr th:only-of-type {\n",
       "        vertical-align: middle;\n",
       "    }\n",
       "\n",
       "    .dataframe tbody tr th {\n",
       "        vertical-align: top;\n",
       "    }\n",
       "\n",
       "    .dataframe thead th {\n",
       "        text-align: right;\n",
       "    }\n",
       "</style>\n",
       "<table border=\"1\" class=\"dataframe\">\n",
       "  <thead>\n",
       "    <tr style=\"text-align: right;\">\n",
       "      <th></th>\n",
       "      <th>id</th>\n",
       "      <th>mb_used</th>\n",
       "      <th>session_date</th>\n",
       "      <th>user_id</th>\n",
       "      <th>month</th>\n",
       "    </tr>\n",
       "  </thead>\n",
       "  <tbody>\n",
       "    <tr>\n",
       "      <th>0</th>\n",
       "      <td>1000_0</td>\n",
       "      <td>112.95</td>\n",
       "      <td>2018-11-25</td>\n",
       "      <td>1000</td>\n",
       "      <td>2018-11</td>\n",
       "    </tr>\n",
       "    <tr>\n",
       "      <th>1</th>\n",
       "      <td>1000_1</td>\n",
       "      <td>1052.81</td>\n",
       "      <td>2018-09-07</td>\n",
       "      <td>1000</td>\n",
       "      <td>2018-09</td>\n",
       "    </tr>\n",
       "    <tr>\n",
       "      <th>2</th>\n",
       "      <td>1000_2</td>\n",
       "      <td>1197.26</td>\n",
       "      <td>2018-06-25</td>\n",
       "      <td>1000</td>\n",
       "      <td>2018-06</td>\n",
       "    </tr>\n",
       "    <tr>\n",
       "      <th>3</th>\n",
       "      <td>1000_3</td>\n",
       "      <td>550.27</td>\n",
       "      <td>2018-08-22</td>\n",
       "      <td>1000</td>\n",
       "      <td>2018-08</td>\n",
       "    </tr>\n",
       "    <tr>\n",
       "      <th>4</th>\n",
       "      <td>1000_4</td>\n",
       "      <td>302.56</td>\n",
       "      <td>2018-09-24</td>\n",
       "      <td>1000</td>\n",
       "      <td>2018-09</td>\n",
       "    </tr>\n",
       "  </tbody>\n",
       "</table>\n",
       "</div>"
      ],
      "text/plain": [
       "       id  mb_used session_date  user_id    month\n",
       "0  1000_0   112.95   2018-11-25     1000  2018-11\n",
       "1  1000_1  1052.81   2018-09-07     1000  2018-09\n",
       "2  1000_2  1197.26   2018-06-25     1000  2018-06\n",
       "3  1000_3   550.27   2018-08-22     1000  2018-08\n",
       "4  1000_4   302.56   2018-09-24     1000  2018-09"
      ]
     },
     "metadata": {},
     "output_type": "display_data"
    },
    {
     "data": {
      "text/html": [
       "<div>\n",
       "<style scoped>\n",
       "    .dataframe tbody tr th:only-of-type {\n",
       "        vertical-align: middle;\n",
       "    }\n",
       "\n",
       "    .dataframe tbody tr th {\n",
       "        vertical-align: top;\n",
       "    }\n",
       "\n",
       "    .dataframe thead th {\n",
       "        text-align: right;\n",
       "    }\n",
       "</style>\n",
       "<table border=\"1\" class=\"dataframe\">\n",
       "  <thead>\n",
       "    <tr style=\"text-align: right;\">\n",
       "      <th></th>\n",
       "      <th>mb_used</th>\n",
       "      <th>user_id</th>\n",
       "    </tr>\n",
       "  </thead>\n",
       "  <tbody>\n",
       "    <tr>\n",
       "      <th>count</th>\n",
       "      <td>149396.000000</td>\n",
       "      <td>149396.000000</td>\n",
       "    </tr>\n",
       "    <tr>\n",
       "      <th>mean</th>\n",
       "      <td>370.192426</td>\n",
       "      <td>1252.099842</td>\n",
       "    </tr>\n",
       "    <tr>\n",
       "      <th>std</th>\n",
       "      <td>278.300951</td>\n",
       "      <td>144.050823</td>\n",
       "    </tr>\n",
       "    <tr>\n",
       "      <th>min</th>\n",
       "      <td>0.000000</td>\n",
       "      <td>1000.000000</td>\n",
       "    </tr>\n",
       "    <tr>\n",
       "      <th>25%</th>\n",
       "      <td>138.187500</td>\n",
       "      <td>1130.000000</td>\n",
       "    </tr>\n",
       "    <tr>\n",
       "      <th>50%</th>\n",
       "      <td>348.015000</td>\n",
       "      <td>1251.000000</td>\n",
       "    </tr>\n",
       "    <tr>\n",
       "      <th>75%</th>\n",
       "      <td>559.552500</td>\n",
       "      <td>1380.000000</td>\n",
       "    </tr>\n",
       "    <tr>\n",
       "      <th>max</th>\n",
       "      <td>1724.830000</td>\n",
       "      <td>1499.000000</td>\n",
       "    </tr>\n",
       "  </tbody>\n",
       "</table>\n",
       "</div>"
      ],
      "text/plain": [
       "             mb_used        user_id\n",
       "count  149396.000000  149396.000000\n",
       "mean      370.192426    1252.099842\n",
       "std       278.300951     144.050823\n",
       "min         0.000000    1000.000000\n",
       "25%       138.187500    1130.000000\n",
       "50%       348.015000    1251.000000\n",
       "75%       559.552500    1380.000000\n",
       "max      1724.830000    1499.000000"
      ]
     },
     "metadata": {},
     "output_type": "display_data"
    },
    {
     "name": "stdout",
     "output_type": "stream",
     "text": [
      "\n",
      " Информация о таблице messages \n",
      "\n",
      "<class 'pandas.core.frame.DataFrame'>\n",
      "RangeIndex: 123036 entries, 0 to 123035\n",
      "Data columns (total 4 columns):\n",
      " #   Column         Non-Null Count   Dtype         \n",
      "---  ------         --------------   -----         \n",
      " 0   id             123036 non-null  object        \n",
      " 1   message_date   123036 non-null  datetime64[ns]\n",
      " 2   user_id        123036 non-null  int64         \n",
      " 3   message_month  123036 non-null  period[M]     \n",
      "dtypes: datetime64[ns](1), int64(1), object(1), period[M](1)\n",
      "memory usage: 3.8+ MB\n"
     ]
    },
    {
     "data": {
      "text/plain": [
       "None"
      ]
     },
     "metadata": {},
     "output_type": "display_data"
    },
    {
     "data": {
      "text/html": [
       "<div>\n",
       "<style scoped>\n",
       "    .dataframe tbody tr th:only-of-type {\n",
       "        vertical-align: middle;\n",
       "    }\n",
       "\n",
       "    .dataframe tbody tr th {\n",
       "        vertical-align: top;\n",
       "    }\n",
       "\n",
       "    .dataframe thead th {\n",
       "        text-align: right;\n",
       "    }\n",
       "</style>\n",
       "<table border=\"1\" class=\"dataframe\">\n",
       "  <thead>\n",
       "    <tr style=\"text-align: right;\">\n",
       "      <th></th>\n",
       "      <th>id</th>\n",
       "      <th>message_date</th>\n",
       "      <th>user_id</th>\n",
       "      <th>message_month</th>\n",
       "    </tr>\n",
       "  </thead>\n",
       "  <tbody>\n",
       "    <tr>\n",
       "      <th>0</th>\n",
       "      <td>1000_0</td>\n",
       "      <td>2018-06-27</td>\n",
       "      <td>1000</td>\n",
       "      <td>2018-06</td>\n",
       "    </tr>\n",
       "    <tr>\n",
       "      <th>1</th>\n",
       "      <td>1000_1</td>\n",
       "      <td>2018-10-08</td>\n",
       "      <td>1000</td>\n",
       "      <td>2018-10</td>\n",
       "    </tr>\n",
       "    <tr>\n",
       "      <th>2</th>\n",
       "      <td>1000_2</td>\n",
       "      <td>2018-08-04</td>\n",
       "      <td>1000</td>\n",
       "      <td>2018-08</td>\n",
       "    </tr>\n",
       "    <tr>\n",
       "      <th>3</th>\n",
       "      <td>1000_3</td>\n",
       "      <td>2018-06-16</td>\n",
       "      <td>1000</td>\n",
       "      <td>2018-06</td>\n",
       "    </tr>\n",
       "    <tr>\n",
       "      <th>4</th>\n",
       "      <td>1000_4</td>\n",
       "      <td>2018-12-05</td>\n",
       "      <td>1000</td>\n",
       "      <td>2018-12</td>\n",
       "    </tr>\n",
       "  </tbody>\n",
       "</table>\n",
       "</div>"
      ],
      "text/plain": [
       "       id message_date  user_id message_month\n",
       "0  1000_0   2018-06-27     1000       2018-06\n",
       "1  1000_1   2018-10-08     1000       2018-10\n",
       "2  1000_2   2018-08-04     1000       2018-08\n",
       "3  1000_3   2018-06-16     1000       2018-06\n",
       "4  1000_4   2018-12-05     1000       2018-12"
      ]
     },
     "metadata": {},
     "output_type": "display_data"
    },
    {
     "data": {
      "text/html": [
       "<div>\n",
       "<style scoped>\n",
       "    .dataframe tbody tr th:only-of-type {\n",
       "        vertical-align: middle;\n",
       "    }\n",
       "\n",
       "    .dataframe tbody tr th {\n",
       "        vertical-align: top;\n",
       "    }\n",
       "\n",
       "    .dataframe thead th {\n",
       "        text-align: right;\n",
       "    }\n",
       "</style>\n",
       "<table border=\"1\" class=\"dataframe\">\n",
       "  <thead>\n",
       "    <tr style=\"text-align: right;\">\n",
       "      <th></th>\n",
       "      <th>user_id</th>\n",
       "    </tr>\n",
       "  </thead>\n",
       "  <tbody>\n",
       "    <tr>\n",
       "      <th>count</th>\n",
       "      <td>123036.000000</td>\n",
       "    </tr>\n",
       "    <tr>\n",
       "      <th>mean</th>\n",
       "      <td>1256.989410</td>\n",
       "    </tr>\n",
       "    <tr>\n",
       "      <th>std</th>\n",
       "      <td>143.523967</td>\n",
       "    </tr>\n",
       "    <tr>\n",
       "      <th>min</th>\n",
       "      <td>1000.000000</td>\n",
       "    </tr>\n",
       "    <tr>\n",
       "      <th>25%</th>\n",
       "      <td>1134.000000</td>\n",
       "    </tr>\n",
       "    <tr>\n",
       "      <th>50%</th>\n",
       "      <td>1271.000000</td>\n",
       "    </tr>\n",
       "    <tr>\n",
       "      <th>75%</th>\n",
       "      <td>1381.000000</td>\n",
       "    </tr>\n",
       "    <tr>\n",
       "      <th>max</th>\n",
       "      <td>1499.000000</td>\n",
       "    </tr>\n",
       "  </tbody>\n",
       "</table>\n",
       "</div>"
      ],
      "text/plain": [
       "             user_id\n",
       "count  123036.000000\n",
       "mean     1256.989410\n",
       "std       143.523967\n",
       "min      1000.000000\n",
       "25%      1134.000000\n",
       "50%      1271.000000\n",
       "75%      1381.000000\n",
       "max      1499.000000"
      ]
     },
     "metadata": {},
     "output_type": "display_data"
    },
    {
     "name": "stdout",
     "output_type": "stream",
     "text": [
      "\n",
      " Информация о таблице tariffs \n",
      "\n",
      "<class 'pandas.core.frame.DataFrame'>\n",
      "RangeIndex: 2 entries, 0 to 1\n",
      "Data columns (total 8 columns):\n",
      " #   Column                 Non-Null Count  Dtype \n",
      "---  ------                 --------------  ----- \n",
      " 0   messages_included      2 non-null      int64 \n",
      " 1   mb_per_month_included  2 non-null      int64 \n",
      " 2   minutes_included       2 non-null      int64 \n",
      " 3   rub_monthly_fee        2 non-null      int64 \n",
      " 4   rub_per_gb             2 non-null      int64 \n",
      " 5   rub_per_message        2 non-null      int64 \n",
      " 6   rub_per_minute         2 non-null      int64 \n",
      " 7   tariff_name            2 non-null      object\n",
      "dtypes: int64(7), object(1)\n",
      "memory usage: 256.0+ bytes\n"
     ]
    },
    {
     "data": {
      "text/plain": [
       "None"
      ]
     },
     "metadata": {},
     "output_type": "display_data"
    },
    {
     "data": {
      "text/html": [
       "<div>\n",
       "<style scoped>\n",
       "    .dataframe tbody tr th:only-of-type {\n",
       "        vertical-align: middle;\n",
       "    }\n",
       "\n",
       "    .dataframe tbody tr th {\n",
       "        vertical-align: top;\n",
       "    }\n",
       "\n",
       "    .dataframe thead th {\n",
       "        text-align: right;\n",
       "    }\n",
       "</style>\n",
       "<table border=\"1\" class=\"dataframe\">\n",
       "  <thead>\n",
       "    <tr style=\"text-align: right;\">\n",
       "      <th></th>\n",
       "      <th>messages_included</th>\n",
       "      <th>mb_per_month_included</th>\n",
       "      <th>minutes_included</th>\n",
       "      <th>rub_monthly_fee</th>\n",
       "      <th>rub_per_gb</th>\n",
       "      <th>rub_per_message</th>\n",
       "      <th>rub_per_minute</th>\n",
       "      <th>tariff_name</th>\n",
       "    </tr>\n",
       "  </thead>\n",
       "  <tbody>\n",
       "    <tr>\n",
       "      <th>0</th>\n",
       "      <td>50</td>\n",
       "      <td>15360</td>\n",
       "      <td>500</td>\n",
       "      <td>550</td>\n",
       "      <td>200</td>\n",
       "      <td>3</td>\n",
       "      <td>3</td>\n",
       "      <td>smart</td>\n",
       "    </tr>\n",
       "    <tr>\n",
       "      <th>1</th>\n",
       "      <td>1000</td>\n",
       "      <td>30720</td>\n",
       "      <td>3000</td>\n",
       "      <td>1950</td>\n",
       "      <td>150</td>\n",
       "      <td>1</td>\n",
       "      <td>1</td>\n",
       "      <td>ultra</td>\n",
       "    </tr>\n",
       "  </tbody>\n",
       "</table>\n",
       "</div>"
      ],
      "text/plain": [
       "   messages_included  mb_per_month_included  minutes_included  \\\n",
       "0                 50                  15360               500   \n",
       "1               1000                  30720              3000   \n",
       "\n",
       "   rub_monthly_fee  rub_per_gb  rub_per_message  rub_per_minute tariff_name  \n",
       "0              550         200                3               3       smart  \n",
       "1             1950         150                1               1       ultra  "
      ]
     },
     "metadata": {},
     "output_type": "display_data"
    },
    {
     "data": {
      "text/html": [
       "<div>\n",
       "<style scoped>\n",
       "    .dataframe tbody tr th:only-of-type {\n",
       "        vertical-align: middle;\n",
       "    }\n",
       "\n",
       "    .dataframe tbody tr th {\n",
       "        vertical-align: top;\n",
       "    }\n",
       "\n",
       "    .dataframe thead th {\n",
       "        text-align: right;\n",
       "    }\n",
       "</style>\n",
       "<table border=\"1\" class=\"dataframe\">\n",
       "  <thead>\n",
       "    <tr style=\"text-align: right;\">\n",
       "      <th></th>\n",
       "      <th>messages_included</th>\n",
       "      <th>mb_per_month_included</th>\n",
       "      <th>minutes_included</th>\n",
       "      <th>rub_monthly_fee</th>\n",
       "      <th>rub_per_gb</th>\n",
       "      <th>rub_per_message</th>\n",
       "      <th>rub_per_minute</th>\n",
       "    </tr>\n",
       "  </thead>\n",
       "  <tbody>\n",
       "    <tr>\n",
       "      <th>count</th>\n",
       "      <td>2.000000</td>\n",
       "      <td>2.000000</td>\n",
       "      <td>2.000000</td>\n",
       "      <td>2.000000</td>\n",
       "      <td>2.000000</td>\n",
       "      <td>2.000000</td>\n",
       "      <td>2.000000</td>\n",
       "    </tr>\n",
       "    <tr>\n",
       "      <th>mean</th>\n",
       "      <td>525.000000</td>\n",
       "      <td>23040.000000</td>\n",
       "      <td>1750.000000</td>\n",
       "      <td>1250.000000</td>\n",
       "      <td>175.000000</td>\n",
       "      <td>2.000000</td>\n",
       "      <td>2.000000</td>\n",
       "    </tr>\n",
       "    <tr>\n",
       "      <th>std</th>\n",
       "      <td>671.751442</td>\n",
       "      <td>10861.160159</td>\n",
       "      <td>1767.766953</td>\n",
       "      <td>989.949494</td>\n",
       "      <td>35.355339</td>\n",
       "      <td>1.414214</td>\n",
       "      <td>1.414214</td>\n",
       "    </tr>\n",
       "    <tr>\n",
       "      <th>min</th>\n",
       "      <td>50.000000</td>\n",
       "      <td>15360.000000</td>\n",
       "      <td>500.000000</td>\n",
       "      <td>550.000000</td>\n",
       "      <td>150.000000</td>\n",
       "      <td>1.000000</td>\n",
       "      <td>1.000000</td>\n",
       "    </tr>\n",
       "    <tr>\n",
       "      <th>25%</th>\n",
       "      <td>287.500000</td>\n",
       "      <td>19200.000000</td>\n",
       "      <td>1125.000000</td>\n",
       "      <td>900.000000</td>\n",
       "      <td>162.500000</td>\n",
       "      <td>1.500000</td>\n",
       "      <td>1.500000</td>\n",
       "    </tr>\n",
       "    <tr>\n",
       "      <th>50%</th>\n",
       "      <td>525.000000</td>\n",
       "      <td>23040.000000</td>\n",
       "      <td>1750.000000</td>\n",
       "      <td>1250.000000</td>\n",
       "      <td>175.000000</td>\n",
       "      <td>2.000000</td>\n",
       "      <td>2.000000</td>\n",
       "    </tr>\n",
       "    <tr>\n",
       "      <th>75%</th>\n",
       "      <td>762.500000</td>\n",
       "      <td>26880.000000</td>\n",
       "      <td>2375.000000</td>\n",
       "      <td>1600.000000</td>\n",
       "      <td>187.500000</td>\n",
       "      <td>2.500000</td>\n",
       "      <td>2.500000</td>\n",
       "    </tr>\n",
       "    <tr>\n",
       "      <th>max</th>\n",
       "      <td>1000.000000</td>\n",
       "      <td>30720.000000</td>\n",
       "      <td>3000.000000</td>\n",
       "      <td>1950.000000</td>\n",
       "      <td>200.000000</td>\n",
       "      <td>3.000000</td>\n",
       "      <td>3.000000</td>\n",
       "    </tr>\n",
       "  </tbody>\n",
       "</table>\n",
       "</div>"
      ],
      "text/plain": [
       "       messages_included  mb_per_month_included  minutes_included  \\\n",
       "count           2.000000               2.000000          2.000000   \n",
       "mean          525.000000           23040.000000       1750.000000   \n",
       "std           671.751442           10861.160159       1767.766953   \n",
       "min            50.000000           15360.000000        500.000000   \n",
       "25%           287.500000           19200.000000       1125.000000   \n",
       "50%           525.000000           23040.000000       1750.000000   \n",
       "75%           762.500000           26880.000000       2375.000000   \n",
       "max          1000.000000           30720.000000       3000.000000   \n",
       "\n",
       "       rub_monthly_fee  rub_per_gb  rub_per_message  rub_per_minute  \n",
       "count         2.000000    2.000000         2.000000        2.000000  \n",
       "mean       1250.000000  175.000000         2.000000        2.000000  \n",
       "std         989.949494   35.355339         1.414214        1.414214  \n",
       "min         550.000000  150.000000         1.000000        1.000000  \n",
       "25%         900.000000  162.500000         1.500000        1.500000  \n",
       "50%        1250.000000  175.000000         2.000000        2.000000  \n",
       "75%        1600.000000  187.500000         2.500000        2.500000  \n",
       "max        1950.000000  200.000000         3.000000        3.000000  "
      ]
     },
     "metadata": {},
     "output_type": "display_data"
    },
    {
     "name": "stdout",
     "output_type": "stream",
     "text": [
      "\n",
      " Информация о таблице users \n",
      "\n",
      "<class 'pandas.core.frame.DataFrame'>\n",
      "RangeIndex: 500 entries, 0 to 499\n",
      "Data columns (total 8 columns):\n",
      " #   Column      Non-Null Count  Dtype         \n",
      "---  ------      --------------  -----         \n",
      " 0   user_id     500 non-null    int64         \n",
      " 1   age         500 non-null    int64         \n",
      " 2   churn_date  38 non-null     object        \n",
      " 3   city        500 non-null    object        \n",
      " 4   first_name  500 non-null    object        \n",
      " 5   last_name   500 non-null    object        \n",
      " 6   reg_date    500 non-null    datetime64[ns]\n",
      " 7   tariff      500 non-null    object        \n",
      "dtypes: datetime64[ns](1), int64(2), object(5)\n",
      "memory usage: 31.4+ KB\n"
     ]
    },
    {
     "data": {
      "text/plain": [
       "None"
      ]
     },
     "metadata": {},
     "output_type": "display_data"
    },
    {
     "data": {
      "text/html": [
       "<div>\n",
       "<style scoped>\n",
       "    .dataframe tbody tr th:only-of-type {\n",
       "        vertical-align: middle;\n",
       "    }\n",
       "\n",
       "    .dataframe tbody tr th {\n",
       "        vertical-align: top;\n",
       "    }\n",
       "\n",
       "    .dataframe thead th {\n",
       "        text-align: right;\n",
       "    }\n",
       "</style>\n",
       "<table border=\"1\" class=\"dataframe\">\n",
       "  <thead>\n",
       "    <tr style=\"text-align: right;\">\n",
       "      <th></th>\n",
       "      <th>user_id</th>\n",
       "      <th>age</th>\n",
       "      <th>churn_date</th>\n",
       "      <th>city</th>\n",
       "      <th>first_name</th>\n",
       "      <th>last_name</th>\n",
       "      <th>reg_date</th>\n",
       "      <th>tariff</th>\n",
       "    </tr>\n",
       "  </thead>\n",
       "  <tbody>\n",
       "    <tr>\n",
       "      <th>0</th>\n",
       "      <td>1000</td>\n",
       "      <td>52</td>\n",
       "      <td>NaN</td>\n",
       "      <td>Краснодар</td>\n",
       "      <td>Рафаил</td>\n",
       "      <td>Верещагин</td>\n",
       "      <td>2018-05-25</td>\n",
       "      <td>ultra</td>\n",
       "    </tr>\n",
       "    <tr>\n",
       "      <th>1</th>\n",
       "      <td>1001</td>\n",
       "      <td>41</td>\n",
       "      <td>NaN</td>\n",
       "      <td>Москва</td>\n",
       "      <td>Иван</td>\n",
       "      <td>Ежов</td>\n",
       "      <td>2018-11-01</td>\n",
       "      <td>smart</td>\n",
       "    </tr>\n",
       "    <tr>\n",
       "      <th>2</th>\n",
       "      <td>1002</td>\n",
       "      <td>59</td>\n",
       "      <td>NaN</td>\n",
       "      <td>Стерлитамак</td>\n",
       "      <td>Евгений</td>\n",
       "      <td>Абрамович</td>\n",
       "      <td>2018-06-17</td>\n",
       "      <td>smart</td>\n",
       "    </tr>\n",
       "    <tr>\n",
       "      <th>3</th>\n",
       "      <td>1003</td>\n",
       "      <td>23</td>\n",
       "      <td>NaN</td>\n",
       "      <td>Москва</td>\n",
       "      <td>Белла</td>\n",
       "      <td>Белякова</td>\n",
       "      <td>2018-08-17</td>\n",
       "      <td>ultra</td>\n",
       "    </tr>\n",
       "    <tr>\n",
       "      <th>4</th>\n",
       "      <td>1004</td>\n",
       "      <td>68</td>\n",
       "      <td>NaN</td>\n",
       "      <td>Новокузнецк</td>\n",
       "      <td>Татьяна</td>\n",
       "      <td>Авдеенко</td>\n",
       "      <td>2018-05-14</td>\n",
       "      <td>ultra</td>\n",
       "    </tr>\n",
       "  </tbody>\n",
       "</table>\n",
       "</div>"
      ],
      "text/plain": [
       "   user_id  age churn_date         city first_name  last_name   reg_date  \\\n",
       "0     1000   52        NaN    Краснодар     Рафаил  Верещагин 2018-05-25   \n",
       "1     1001   41        NaN       Москва       Иван       Ежов 2018-11-01   \n",
       "2     1002   59        NaN  Стерлитамак    Евгений  Абрамович 2018-06-17   \n",
       "3     1003   23        NaN       Москва      Белла   Белякова 2018-08-17   \n",
       "4     1004   68        NaN  Новокузнецк    Татьяна   Авдеенко 2018-05-14   \n",
       "\n",
       "  tariff  \n",
       "0  ultra  \n",
       "1  smart  \n",
       "2  smart  \n",
       "3  ultra  \n",
       "4  ultra  "
      ]
     },
     "metadata": {},
     "output_type": "display_data"
    },
    {
     "data": {
      "text/html": [
       "<div>\n",
       "<style scoped>\n",
       "    .dataframe tbody tr th:only-of-type {\n",
       "        vertical-align: middle;\n",
       "    }\n",
       "\n",
       "    .dataframe tbody tr th {\n",
       "        vertical-align: top;\n",
       "    }\n",
       "\n",
       "    .dataframe thead th {\n",
       "        text-align: right;\n",
       "    }\n",
       "</style>\n",
       "<table border=\"1\" class=\"dataframe\">\n",
       "  <thead>\n",
       "    <tr style=\"text-align: right;\">\n",
       "      <th></th>\n",
       "      <th>user_id</th>\n",
       "      <th>age</th>\n",
       "    </tr>\n",
       "  </thead>\n",
       "  <tbody>\n",
       "    <tr>\n",
       "      <th>count</th>\n",
       "      <td>500.000000</td>\n",
       "      <td>500.00000</td>\n",
       "    </tr>\n",
       "    <tr>\n",
       "      <th>mean</th>\n",
       "      <td>1249.500000</td>\n",
       "      <td>46.58800</td>\n",
       "    </tr>\n",
       "    <tr>\n",
       "      <th>std</th>\n",
       "      <td>144.481833</td>\n",
       "      <td>16.66763</td>\n",
       "    </tr>\n",
       "    <tr>\n",
       "      <th>min</th>\n",
       "      <td>1000.000000</td>\n",
       "      <td>18.00000</td>\n",
       "    </tr>\n",
       "    <tr>\n",
       "      <th>25%</th>\n",
       "      <td>1124.750000</td>\n",
       "      <td>32.00000</td>\n",
       "    </tr>\n",
       "    <tr>\n",
       "      <th>50%</th>\n",
       "      <td>1249.500000</td>\n",
       "      <td>46.00000</td>\n",
       "    </tr>\n",
       "    <tr>\n",
       "      <th>75%</th>\n",
       "      <td>1374.250000</td>\n",
       "      <td>62.00000</td>\n",
       "    </tr>\n",
       "    <tr>\n",
       "      <th>max</th>\n",
       "      <td>1499.000000</td>\n",
       "      <td>75.00000</td>\n",
       "    </tr>\n",
       "  </tbody>\n",
       "</table>\n",
       "</div>"
      ],
      "text/plain": [
       "           user_id        age\n",
       "count   500.000000  500.00000\n",
       "mean   1249.500000   46.58800\n",
       "std     144.481833   16.66763\n",
       "min    1000.000000   18.00000\n",
       "25%    1124.750000   32.00000\n",
       "50%    1249.500000   46.00000\n",
       "75%    1374.250000   62.00000\n",
       "max    1499.000000   75.00000"
      ]
     },
     "metadata": {},
     "output_type": "display_data"
    }
   ],
   "source": [
    "def pre_info(data):\n",
    "    print('\\n','Информация о таблице',data.name,'\\n')\n",
    "    return display(data.info(),data.head(5),data.describe())\n",
    "    \n",
    "list_data = [calls,internet,messages,tariffs,users]\n",
    "\n",
    "for item in list_data:\n",
    "    pre_info(item)"
   ]
  },
  {
   "cell_type": "markdown",
   "metadata": {},
   "source": [
    "## Расчёты и добавление результатов в таблицу"
   ]
  },
  {
   "cell_type": "markdown",
   "metadata": {},
   "source": [
    "### количество сделанных звонков и израсходованных минут разговора по месяцам"
   ]
  },
  {
   "cell_type": "markdown",
   "metadata": {},
   "source": [
    "Создам столбец с указанием только месяца совершенного вызова"
   ]
  },
  {
   "cell_type": "code",
   "execution_count": 165,
   "metadata": {},
   "outputs": [],
   "source": [
    "# calls['call_month'] = calls['call_date'].dt.month"
   ]
  },
  {
   "cell_type": "markdown",
   "metadata": {},
   "source": [
    "Создам столбец с количеством минут по тарифу - округление в большую сторону"
   ]
  },
  {
   "cell_type": "code",
   "execution_count": 166,
   "metadata": {},
   "outputs": [],
   "source": [
    "calls['call_month'] = calls['call_date'].dt.to_period('M')"
   ]
  },
  {
   "cell_type": "code",
   "execution_count": 167,
   "metadata": {},
   "outputs": [],
   "source": [
    "# calls['tariff_minuts'] = calls['duration'].apply(math.ceil)"
   ]
  },
  {
   "cell_type": "code",
   "execution_count": 168,
   "metadata": {},
   "outputs": [],
   "source": [
    "calls['tariff_minuts'] = np.ceil(calls['duration'])"
   ]
  },
  {
   "cell_type": "markdown",
   "metadata": {},
   "source": [
    "Сведу таблицу по пользователям и месяцам - количество состоявшихся разговоров и суммарное количество тариффицированных минут(округленных в большую сторону)"
   ]
  },
  {
   "cell_type": "code",
   "execution_count": 169,
   "metadata": {},
   "outputs": [],
   "source": [
    "fdf = pd.pivot_table(data=calls[calls['duration'] != 0],index=['user_id','call_month'],values='tariff_minuts',aggfunc=['count','sum'])"
   ]
  },
  {
   "cell_type": "markdown",
   "metadata": {},
   "source": [
    "переименую столбцы, сброшу мульти индексы"
   ]
  },
  {
   "cell_type": "code",
   "execution_count": 170,
   "metadata": {},
   "outputs": [],
   "source": [
    "fdf.columns = list(map(\"_\".join, fdf.columns))"
   ]
  },
  {
   "cell_type": "code",
   "execution_count": 171,
   "metadata": {},
   "outputs": [],
   "source": [
    "fdf.reset_index(inplace=True)  \n",
    "fdf = fdf.rename(columns={'call_month':'month','count_tariff_minuts':'calls_count'})"
   ]
  },
  {
   "cell_type": "code",
   "execution_count": 172,
   "metadata": {},
   "outputs": [
    {
     "data": {
      "text/html": [
       "<div>\n",
       "<style scoped>\n",
       "    .dataframe tbody tr th:only-of-type {\n",
       "        vertical-align: middle;\n",
       "    }\n",
       "\n",
       "    .dataframe tbody tr th {\n",
       "        vertical-align: top;\n",
       "    }\n",
       "\n",
       "    .dataframe thead th {\n",
       "        text-align: right;\n",
       "    }\n",
       "</style>\n",
       "<table border=\"1\" class=\"dataframe\">\n",
       "  <thead>\n",
       "    <tr style=\"text-align: right;\">\n",
       "      <th></th>\n",
       "      <th>user_id</th>\n",
       "      <th>month</th>\n",
       "      <th>calls_count</th>\n",
       "      <th>sum_tariff_minuts</th>\n",
       "    </tr>\n",
       "  </thead>\n",
       "  <tbody>\n",
       "    <tr>\n",
       "      <th>0</th>\n",
       "      <td>1000</td>\n",
       "      <td>2018-05</td>\n",
       "      <td>17</td>\n",
       "      <td>159.0</td>\n",
       "    </tr>\n",
       "    <tr>\n",
       "      <th>1</th>\n",
       "      <td>1000</td>\n",
       "      <td>2018-06</td>\n",
       "      <td>28</td>\n",
       "      <td>172.0</td>\n",
       "    </tr>\n",
       "    <tr>\n",
       "      <th>2</th>\n",
       "      <td>1000</td>\n",
       "      <td>2018-07</td>\n",
       "      <td>41</td>\n",
       "      <td>340.0</td>\n",
       "    </tr>\n",
       "    <tr>\n",
       "      <th>3</th>\n",
       "      <td>1000</td>\n",
       "      <td>2018-08</td>\n",
       "      <td>42</td>\n",
       "      <td>408.0</td>\n",
       "    </tr>\n",
       "    <tr>\n",
       "      <th>4</th>\n",
       "      <td>1000</td>\n",
       "      <td>2018-09</td>\n",
       "      <td>46</td>\n",
       "      <td>466.0</td>\n",
       "    </tr>\n",
       "  </tbody>\n",
       "</table>\n",
       "</div>"
      ],
      "text/plain": [
       "   user_id    month  calls_count  sum_tariff_minuts\n",
       "0     1000  2018-05           17              159.0\n",
       "1     1000  2018-06           28              172.0\n",
       "2     1000  2018-07           41              340.0\n",
       "3     1000  2018-08           42              408.0\n",
       "4     1000  2018-09           46              466.0"
      ]
     },
     "execution_count": 172,
     "metadata": {},
     "output_type": "execute_result"
    }
   ],
   "source": [
    "fdf.head()"
   ]
  },
  {
   "cell_type": "markdown",
   "metadata": {},
   "source": [
    "Скопирую таблицу в рабочий датасет - users_merge"
   ]
  },
  {
   "cell_type": "code",
   "execution_count": 173,
   "metadata": {},
   "outputs": [],
   "source": [
    "users_merge = fdf.copy() "
   ]
  },
  {
   "cell_type": "markdown",
   "metadata": {},
   "source": [
    "###  количество отправленных сообщений по месяцам"
   ]
  },
  {
   "cell_type": "markdown",
   "metadata": {},
   "source": [
    "делаем также как в предыдущем разделе"
   ]
  },
  {
   "cell_type": "code",
   "execution_count": 174,
   "metadata": {},
   "outputs": [],
   "source": [
    "messages['message_month'] = messages['message_date'].dt.to_period('M')"
   ]
  },
  {
   "cell_type": "code",
   "execution_count": 175,
   "metadata": {},
   "outputs": [],
   "source": [
    "fdf = pd.pivot_table(messages, index=['user_id','message_month'], values='id', aggfunc='count')"
   ]
  },
  {
   "cell_type": "code",
   "execution_count": 176,
   "metadata": {},
   "outputs": [],
   "source": [
    "fdf.reset_index(inplace=True)"
   ]
  },
  {
   "cell_type": "code",
   "execution_count": 177,
   "metadata": {},
   "outputs": [],
   "source": [
    "fdf = fdf.rename(columns={'id':'messages','message_month':'month'})"
   ]
  },
  {
   "cell_type": "code",
   "execution_count": 178,
   "metadata": {},
   "outputs": [],
   "source": [
    "users_merge = pd.merge(users_merge,fdf,how='outer')"
   ]
  },
  {
   "cell_type": "code",
   "execution_count": 179,
   "metadata": {},
   "outputs": [],
   "source": [
    "users_merge['messages'] = users_merge['messages'].fillna(0)  # у некоторых абонентов небыло сообщений за месяц - NAN заменяем на 0"
   ]
  },
  {
   "cell_type": "markdown",
   "metadata": {},
   "source": [
    "Сольём данные в рабочую таблицу"
   ]
  },
  {
   "cell_type": "code",
   "execution_count": 180,
   "metadata": {},
   "outputs": [
    {
     "data": {
      "text/html": [
       "<div>\n",
       "<style scoped>\n",
       "    .dataframe tbody tr th:only-of-type {\n",
       "        vertical-align: middle;\n",
       "    }\n",
       "\n",
       "    .dataframe tbody tr th {\n",
       "        vertical-align: top;\n",
       "    }\n",
       "\n",
       "    .dataframe thead th {\n",
       "        text-align: right;\n",
       "    }\n",
       "</style>\n",
       "<table border=\"1\" class=\"dataframe\">\n",
       "  <thead>\n",
       "    <tr style=\"text-align: right;\">\n",
       "      <th></th>\n",
       "      <th>user_id</th>\n",
       "      <th>month</th>\n",
       "      <th>calls_count</th>\n",
       "      <th>sum_tariff_minuts</th>\n",
       "      <th>messages</th>\n",
       "    </tr>\n",
       "  </thead>\n",
       "  <tbody>\n",
       "    <tr>\n",
       "      <th>0</th>\n",
       "      <td>1000</td>\n",
       "      <td>2018-05</td>\n",
       "      <td>17.0</td>\n",
       "      <td>159.0</td>\n",
       "      <td>22.0</td>\n",
       "    </tr>\n",
       "    <tr>\n",
       "      <th>1</th>\n",
       "      <td>1000</td>\n",
       "      <td>2018-06</td>\n",
       "      <td>28.0</td>\n",
       "      <td>172.0</td>\n",
       "      <td>60.0</td>\n",
       "    </tr>\n",
       "    <tr>\n",
       "      <th>2</th>\n",
       "      <td>1000</td>\n",
       "      <td>2018-07</td>\n",
       "      <td>41.0</td>\n",
       "      <td>340.0</td>\n",
       "      <td>75.0</td>\n",
       "    </tr>\n",
       "    <tr>\n",
       "      <th>3</th>\n",
       "      <td>1000</td>\n",
       "      <td>2018-08</td>\n",
       "      <td>42.0</td>\n",
       "      <td>408.0</td>\n",
       "      <td>81.0</td>\n",
       "    </tr>\n",
       "    <tr>\n",
       "      <th>4</th>\n",
       "      <td>1000</td>\n",
       "      <td>2018-09</td>\n",
       "      <td>46.0</td>\n",
       "      <td>466.0</td>\n",
       "      <td>57.0</td>\n",
       "    </tr>\n",
       "  </tbody>\n",
       "</table>\n",
       "</div>"
      ],
      "text/plain": [
       "   user_id    month  calls_count  sum_tariff_minuts  messages\n",
       "0     1000  2018-05         17.0              159.0      22.0\n",
       "1     1000  2018-06         28.0              172.0      60.0\n",
       "2     1000  2018-07         41.0              340.0      75.0\n",
       "3     1000  2018-08         42.0              408.0      81.0\n",
       "4     1000  2018-09         46.0              466.0      57.0"
      ]
     },
     "execution_count": 180,
     "metadata": {},
     "output_type": "execute_result"
    }
   ],
   "source": [
    "users_merge.head()"
   ]
  },
  {
   "cell_type": "markdown",
   "metadata": {},
   "source": [
    "###  объем израсходованного интернет-трафика по месяцам"
   ]
  },
  {
   "cell_type": "code",
   "execution_count": 181,
   "metadata": {},
   "outputs": [],
   "source": [
    "# создадим колонку с месяцами\n",
    "internet['month'] = internet['session_date'].dt.to_period('M')"
   ]
  },
  {
   "cell_type": "code",
   "execution_count": 182,
   "metadata": {},
   "outputs": [],
   "source": [
    "# сведем в таблицу по месяцам\n",
    "fdf = pd.pivot_table(internet, index=['user_id','month'], values='mb_used',aggfunc='sum')"
   ]
  },
  {
   "cell_type": "code",
   "execution_count": 183,
   "metadata": {},
   "outputs": [],
   "source": [
    "fdf.reset_index(inplace=True)"
   ]
  },
  {
   "cell_type": "code",
   "execution_count": 184,
   "metadata": {},
   "outputs": [],
   "source": [
    "fdf['gb_used'] = (fdf['mb_used']/1024).round(2) # переведём в гигабайты "
   ]
  },
  {
   "cell_type": "code",
   "execution_count": 185,
   "metadata": {},
   "outputs": [],
   "source": [
    "# создам колонку с тарифицируемыми гигабайтами\n",
    "fdf['tariff_gb_used'] = np.ceil(fdf['gb_used'])"
   ]
  },
  {
   "cell_type": "code",
   "execution_count": 186,
   "metadata": {},
   "outputs": [],
   "source": [
    "# солью в рабочий датасет\n",
    "users_merge = pd.merge(users_merge, fdf, how='outer')"
   ]
  },
  {
   "cell_type": "code",
   "execution_count": 187,
   "metadata": {},
   "outputs": [],
   "source": [
    "# заменю наны - у некоторых пользователей небыло трафика за месяц\n",
    "users_merge[['mb_used','gb_used','tariff_gb_used']] = users_merge[['mb_used','gb_used','tariff_gb_used']].fillna(0)"
   ]
  },
  {
   "cell_type": "markdown",
   "metadata": {},
   "source": [
    "Теперь удобно в таблице смотреть сколько абонент за месяц использовал гигабайт и за сколько гигабайт с него списали"
   ]
  },
  {
   "cell_type": "markdown",
   "metadata": {},
   "source": [
    "### помесячная выручка с каждого пользователя "
   ]
  },
  {
   "cell_type": "markdown",
   "metadata": {},
   "source": [
    "Вычтем бесплатный лимит из суммарного количества звонков, сообщений и интернет-трафика, остаток умножим на значение из тарифного плана, прибавим абонентскую плату, соответствующую тарифному плану."
   ]
  },
  {
   "cell_type": "code",
   "execution_count": 188,
   "metadata": {},
   "outputs": [],
   "source": [
    "users_merge = pd.merge(users_merge, users[['user_id','tariff']], on='user_id', how='outer')"
   ]
  },
  {
   "cell_type": "code",
   "execution_count": 189,
   "metadata": {},
   "outputs": [
    {
     "data": {
      "text/html": [
       "<div>\n",
       "<style scoped>\n",
       "    .dataframe tbody tr th:only-of-type {\n",
       "        vertical-align: middle;\n",
       "    }\n",
       "\n",
       "    .dataframe tbody tr th {\n",
       "        vertical-align: top;\n",
       "    }\n",
       "\n",
       "    .dataframe thead th {\n",
       "        text-align: right;\n",
       "    }\n",
       "</style>\n",
       "<table border=\"1\" class=\"dataframe\">\n",
       "  <thead>\n",
       "    <tr style=\"text-align: right;\">\n",
       "      <th></th>\n",
       "      <th>user_id</th>\n",
       "      <th>month</th>\n",
       "      <th>calls_count</th>\n",
       "      <th>sum_tariff_minuts</th>\n",
       "      <th>messages</th>\n",
       "      <th>mb_used</th>\n",
       "      <th>gb_used</th>\n",
       "      <th>tariff_gb_used</th>\n",
       "      <th>tariff</th>\n",
       "    </tr>\n",
       "  </thead>\n",
       "  <tbody>\n",
       "    <tr>\n",
       "      <th>0</th>\n",
       "      <td>1000</td>\n",
       "      <td>2018-05</td>\n",
       "      <td>17.0</td>\n",
       "      <td>159.0</td>\n",
       "      <td>22.0</td>\n",
       "      <td>2253.49</td>\n",
       "      <td>2.20</td>\n",
       "      <td>3.0</td>\n",
       "      <td>ultra</td>\n",
       "    </tr>\n",
       "    <tr>\n",
       "      <th>1</th>\n",
       "      <td>1000</td>\n",
       "      <td>2018-06</td>\n",
       "      <td>28.0</td>\n",
       "      <td>172.0</td>\n",
       "      <td>60.0</td>\n",
       "      <td>23233.77</td>\n",
       "      <td>22.69</td>\n",
       "      <td>23.0</td>\n",
       "      <td>ultra</td>\n",
       "    </tr>\n",
       "    <tr>\n",
       "      <th>2</th>\n",
       "      <td>1000</td>\n",
       "      <td>2018-07</td>\n",
       "      <td>41.0</td>\n",
       "      <td>340.0</td>\n",
       "      <td>75.0</td>\n",
       "      <td>14003.64</td>\n",
       "      <td>13.68</td>\n",
       "      <td>14.0</td>\n",
       "      <td>ultra</td>\n",
       "    </tr>\n",
       "    <tr>\n",
       "      <th>3</th>\n",
       "      <td>1000</td>\n",
       "      <td>2018-08</td>\n",
       "      <td>42.0</td>\n",
       "      <td>408.0</td>\n",
       "      <td>81.0</td>\n",
       "      <td>14055.93</td>\n",
       "      <td>13.73</td>\n",
       "      <td>14.0</td>\n",
       "      <td>ultra</td>\n",
       "    </tr>\n",
       "    <tr>\n",
       "      <th>4</th>\n",
       "      <td>1000</td>\n",
       "      <td>2018-09</td>\n",
       "      <td>46.0</td>\n",
       "      <td>466.0</td>\n",
       "      <td>57.0</td>\n",
       "      <td>14568.91</td>\n",
       "      <td>14.23</td>\n",
       "      <td>15.0</td>\n",
       "      <td>ultra</td>\n",
       "    </tr>\n",
       "    <tr>\n",
       "      <th>...</th>\n",
       "      <td>...</td>\n",
       "      <td>...</td>\n",
       "      <td>...</td>\n",
       "      <td>...</td>\n",
       "      <td>...</td>\n",
       "      <td>...</td>\n",
       "      <td>...</td>\n",
       "      <td>...</td>\n",
       "      <td>...</td>\n",
       "    </tr>\n",
       "    <tr>\n",
       "      <th>3211</th>\n",
       "      <td>1489</td>\n",
       "      <td>2018-10</td>\n",
       "      <td>0.0</td>\n",
       "      <td>0.0</td>\n",
       "      <td>21.0</td>\n",
       "      <td>19559.44</td>\n",
       "      <td>19.10</td>\n",
       "      <td>20.0</td>\n",
       "      <td>smart</td>\n",
       "    </tr>\n",
       "    <tr>\n",
       "      <th>3212</th>\n",
       "      <td>1489</td>\n",
       "      <td>2018-11</td>\n",
       "      <td>0.0</td>\n",
       "      <td>0.0</td>\n",
       "      <td>20.0</td>\n",
       "      <td>17491.56</td>\n",
       "      <td>17.08</td>\n",
       "      <td>18.0</td>\n",
       "      <td>smart</td>\n",
       "    </tr>\n",
       "    <tr>\n",
       "      <th>3213</th>\n",
       "      <td>1489</td>\n",
       "      <td>2018-12</td>\n",
       "      <td>0.0</td>\n",
       "      <td>0.0</td>\n",
       "      <td>35.0</td>\n",
       "      <td>17322.51</td>\n",
       "      <td>16.92</td>\n",
       "      <td>17.0</td>\n",
       "      <td>smart</td>\n",
       "    </tr>\n",
       "    <tr>\n",
       "      <th>3214</th>\n",
       "      <td>1128</td>\n",
       "      <td>NaT</td>\n",
       "      <td>0.0</td>\n",
       "      <td>0.0</td>\n",
       "      <td>NaN</td>\n",
       "      <td>NaN</td>\n",
       "      <td>NaN</td>\n",
       "      <td>NaN</td>\n",
       "      <td>ultra</td>\n",
       "    </tr>\n",
       "    <tr>\n",
       "      <th>3215</th>\n",
       "      <td>1371</td>\n",
       "      <td>NaT</td>\n",
       "      <td>0.0</td>\n",
       "      <td>0.0</td>\n",
       "      <td>NaN</td>\n",
       "      <td>NaN</td>\n",
       "      <td>NaN</td>\n",
       "      <td>NaN</td>\n",
       "      <td>smart</td>\n",
       "    </tr>\n",
       "  </tbody>\n",
       "</table>\n",
       "<p>3216 rows × 9 columns</p>\n",
       "</div>"
      ],
      "text/plain": [
       "      user_id    month  calls_count  sum_tariff_minuts  messages   mb_used  \\\n",
       "0        1000  2018-05         17.0              159.0      22.0   2253.49   \n",
       "1        1000  2018-06         28.0              172.0      60.0  23233.77   \n",
       "2        1000  2018-07         41.0              340.0      75.0  14003.64   \n",
       "3        1000  2018-08         42.0              408.0      81.0  14055.93   \n",
       "4        1000  2018-09         46.0              466.0      57.0  14568.91   \n",
       "...       ...      ...          ...                ...       ...       ...   \n",
       "3211     1489  2018-10          0.0                0.0      21.0  19559.44   \n",
       "3212     1489  2018-11          0.0                0.0      20.0  17491.56   \n",
       "3213     1489  2018-12          0.0                0.0      35.0  17322.51   \n",
       "3214     1128      NaT          0.0                0.0       NaN       NaN   \n",
       "3215     1371      NaT          0.0                0.0       NaN       NaN   \n",
       "\n",
       "      gb_used  tariff_gb_used tariff  \n",
       "0        2.20             3.0  ultra  \n",
       "1       22.69            23.0  ultra  \n",
       "2       13.68            14.0  ultra  \n",
       "3       13.73            14.0  ultra  \n",
       "4       14.23            15.0  ultra  \n",
       "...       ...             ...    ...  \n",
       "3211    19.10            20.0  smart  \n",
       "3212    17.08            18.0  smart  \n",
       "3213    16.92            17.0  smart  \n",
       "3214      NaN             NaN  ultra  \n",
       "3215      NaN             NaN  smart  \n",
       "\n",
       "[3216 rows x 9 columns]"
      ]
     },
     "execution_count": 189,
     "metadata": {},
     "output_type": "execute_result"
    }
   ],
   "source": [
    "users_merge[['calls_count','sum_tariff_minuts']] = users_merge[['calls_count','sum_tariff_minuts']].fillna(0)\n",
    "users_merge"
   ]
  },
  {
   "cell_type": "code",
   "execution_count": 190,
   "metadata": {},
   "outputs": [
    {
     "data": {
      "text/plain": [
       "(3216, 9)"
      ]
     },
     "execution_count": 190,
     "metadata": {},
     "output_type": "execute_result"
    }
   ],
   "source": [
    "users_merge.shape"
   ]
  },
  {
   "cell_type": "code",
   "execution_count": 191,
   "metadata": {},
   "outputs": [
    {
     "data": {
      "text/plain": [
       "500"
      ]
     },
     "execution_count": 191,
     "metadata": {},
     "output_type": "execute_result"
    }
   ],
   "source": [
    "users_merge.user_id.nunique()"
   ]
  },
  {
   "cell_type": "code",
   "execution_count": 192,
   "metadata": {},
   "outputs": [],
   "source": [
    "# функция для расчета выручки с абонента за месяц.\n",
    "def get_revenue(user_id, sum_tariff_minuts, messages, mb_used, tariff):\n",
    "    tariff_info = tariffs[tariffs['tariff_name'] == tariff]        # получаем инфу из тарифного плана абонента\n",
    "    minutes_included = tariff_info['minutes_included'].values[0]   # далее присваеваем в переменные значения из тарифного плана \n",
    "    messages_included = tariff_info['messages_included'].values[0]\n",
    "    mb_per_month_included = tariff_info['mb_per_month_included'].values[0]\n",
    "    rub_per_minute   = tariff_info['rub_per_minute'].values[0]     \n",
    "    rub_per_message  = tariff_info['rub_per_message'].values[0] \n",
    "    rub_per_gb = tariff_info['rub_per_gb'].values[0]\n",
    "    rub_monthly_fee = tariff_info['rub_monthly_fee'].values[0]\n",
    "   \n",
    "    # по формуле расчитываем выручку\n",
    "    revenue = max(sum_tariff_minuts - minutes_included, 0 ) * rub_per_minute + \\\n",
    "              max(messages - messages_included, 0) * rub_per_message + \\\n",
    "              np.ceil( max(mb_used - mb_per_month_included, 0) / 1024) * rub_per_gb + \\\n",
    "              rub_monthly_fee\n",
    "    return revenue\n",
    "\n",
    "\n",
    "# создаём колокнку для выручки ,         для каждой строки вызывая функцию get_revenue и передовая в неё параметры\n",
    "users_merge['revenue'] = users_merge.apply(lambda row: get_revenue(row['user_id'],\n",
    "                                                                   row['sum_tariff_minuts'],\n",
    "                                                                   row['messages'],\n",
    "                                                                   row['mb_used'],\n",
    "                                                                   row['tariff']\n",
    "                                                                  ), \n",
    "                                                                   axis = 1)"
   ]
  },
  {
   "cell_type": "code",
   "execution_count": 193,
   "metadata": {},
   "outputs": [
    {
     "data": {
      "text/plain": [
       "count    3212.000000\n",
       "mean     1528.814134\n",
       "std       798.430503\n",
       "min       550.000000\n",
       "25%       750.000000\n",
       "50%      1651.500000\n",
       "75%      1950.000000\n",
       "max      6770.000000\n",
       "Name: revenue, dtype: float64"
      ]
     },
     "execution_count": 193,
     "metadata": {},
     "output_type": "execute_result"
    }
   ],
   "source": [
    "users_merge['revenue'].describe()"
   ]
  },
  {
   "cell_type": "code",
   "execution_count": 200,
   "metadata": {},
   "outputs": [
    {
     "data": {
      "text/html": [
       "<div>\n",
       "<style scoped>\n",
       "    .dataframe tbody tr th:only-of-type {\n",
       "        vertical-align: middle;\n",
       "    }\n",
       "\n",
       "    .dataframe tbody tr th {\n",
       "        vertical-align: top;\n",
       "    }\n",
       "\n",
       "    .dataframe thead th {\n",
       "        text-align: right;\n",
       "    }\n",
       "</style>\n",
       "<table border=\"1\" class=\"dataframe\">\n",
       "  <thead>\n",
       "    <tr style=\"text-align: right;\">\n",
       "      <th></th>\n",
       "      <th>user_id</th>\n",
       "      <th>month</th>\n",
       "      <th>calls_count</th>\n",
       "      <th>sum_tariff_minuts</th>\n",
       "      <th>messages</th>\n",
       "      <th>mb_used</th>\n",
       "      <th>gb_used</th>\n",
       "      <th>tariff_gb_used</th>\n",
       "      <th>tariff</th>\n",
       "      <th>revenue</th>\n",
       "    </tr>\n",
       "  </thead>\n",
       "  <tbody>\n",
       "    <tr>\n",
       "      <th>3165</th>\n",
       "      <td>1497</td>\n",
       "      <td>2018-10</td>\n",
       "      <td>50.0</td>\n",
       "      <td>490.0</td>\n",
       "      <td>20.0</td>\n",
       "      <td>11500.29</td>\n",
       "      <td>11.23</td>\n",
       "      <td>12.0</td>\n",
       "      <td>smart</td>\n",
       "      <td>550.0</td>\n",
       "    </tr>\n",
       "    <tr>\n",
       "      <th>3167</th>\n",
       "      <td>1497</td>\n",
       "      <td>2018-12</td>\n",
       "      <td>58.0</td>\n",
       "      <td>545.0</td>\n",
       "      <td>17.0</td>\n",
       "      <td>19918.60</td>\n",
       "      <td>19.45</td>\n",
       "      <td>20.0</td>\n",
       "      <td>smart</td>\n",
       "      <td>1685.0</td>\n",
       "    </tr>\n",
       "    <tr>\n",
       "      <th>3171</th>\n",
       "      <td>1498</td>\n",
       "      <td>2018-10</td>\n",
       "      <td>30.0</td>\n",
       "      <td>247.0</td>\n",
       "      <td>42.0</td>\n",
       "      <td>20579.36</td>\n",
       "      <td>20.10</td>\n",
       "      <td>21.0</td>\n",
       "      <td>smart</td>\n",
       "      <td>1750.0</td>\n",
       "    </tr>\n",
       "    <tr>\n",
       "      <th>3170</th>\n",
       "      <td>1498</td>\n",
       "      <td>2018-09</td>\n",
       "      <td>53.0</td>\n",
       "      <td>471.0</td>\n",
       "      <td>44.0</td>\n",
       "      <td>22134.41</td>\n",
       "      <td>21.62</td>\n",
       "      <td>22.0</td>\n",
       "      <td>smart</td>\n",
       "      <td>1950.0</td>\n",
       "    </tr>\n",
       "    <tr>\n",
       "      <th>3169</th>\n",
       "      <td>1498</td>\n",
       "      <td>2018-08</td>\n",
       "      <td>43.0</td>\n",
       "      <td>400.0</td>\n",
       "      <td>62.0</td>\n",
       "      <td>24235.21</td>\n",
       "      <td>23.67</td>\n",
       "      <td>24.0</td>\n",
       "      <td>smart</td>\n",
       "      <td>2386.0</td>\n",
       "    </tr>\n",
       "    <tr>\n",
       "      <th>3168</th>\n",
       "      <td>1498</td>\n",
       "      <td>2018-07</td>\n",
       "      <td>20.0</td>\n",
       "      <td>175.0</td>\n",
       "      <td>20.0</td>\n",
       "      <td>7476.24</td>\n",
       "      <td>7.30</td>\n",
       "      <td>8.0</td>\n",
       "      <td>smart</td>\n",
       "      <td>550.0</td>\n",
       "    </tr>\n",
       "    <tr>\n",
       "      <th>3174</th>\n",
       "      <td>1499</td>\n",
       "      <td>2018-11</td>\n",
       "      <td>62.0</td>\n",
       "      <td>612.0</td>\n",
       "      <td>59.0</td>\n",
       "      <td>17963.31</td>\n",
       "      <td>17.54</td>\n",
       "      <td>18.0</td>\n",
       "      <td>smart</td>\n",
       "      <td>1513.0</td>\n",
       "    </tr>\n",
       "    <tr>\n",
       "      <th>3175</th>\n",
       "      <td>1499</td>\n",
       "      <td>2018-12</td>\n",
       "      <td>56.0</td>\n",
       "      <td>492.0</td>\n",
       "      <td>66.0</td>\n",
       "      <td>13055.58</td>\n",
       "      <td>12.75</td>\n",
       "      <td>13.0</td>\n",
       "      <td>smart</td>\n",
       "      <td>598.0</td>\n",
       "    </tr>\n",
       "    <tr>\n",
       "      <th>3172</th>\n",
       "      <td>1499</td>\n",
       "      <td>2018-09</td>\n",
       "      <td>8.0</td>\n",
       "      <td>70.0</td>\n",
       "      <td>11.0</td>\n",
       "      <td>1845.75</td>\n",
       "      <td>1.80</td>\n",
       "      <td>2.0</td>\n",
       "      <td>smart</td>\n",
       "      <td>550.0</td>\n",
       "    </tr>\n",
       "    <tr>\n",
       "      <th>3173</th>\n",
       "      <td>1499</td>\n",
       "      <td>2018-10</td>\n",
       "      <td>44.0</td>\n",
       "      <td>449.0</td>\n",
       "      <td>48.0</td>\n",
       "      <td>17788.51</td>\n",
       "      <td>17.37</td>\n",
       "      <td>18.0</td>\n",
       "      <td>smart</td>\n",
       "      <td>1150.0</td>\n",
       "    </tr>\n",
       "  </tbody>\n",
       "</table>\n",
       "</div>"
      ],
      "text/plain": [
       "      user_id    month  calls_count  sum_tariff_minuts  messages   mb_used  \\\n",
       "3165     1497  2018-10         50.0              490.0      20.0  11500.29   \n",
       "3167     1497  2018-12         58.0              545.0      17.0  19918.60   \n",
       "3171     1498  2018-10         30.0              247.0      42.0  20579.36   \n",
       "3170     1498  2018-09         53.0              471.0      44.0  22134.41   \n",
       "3169     1498  2018-08         43.0              400.0      62.0  24235.21   \n",
       "3168     1498  2018-07         20.0              175.0      20.0   7476.24   \n",
       "3174     1499  2018-11         62.0              612.0      59.0  17963.31   \n",
       "3175     1499  2018-12         56.0              492.0      66.0  13055.58   \n",
       "3172     1499  2018-09          8.0               70.0      11.0   1845.75   \n",
       "3173     1499  2018-10         44.0              449.0      48.0  17788.51   \n",
       "\n",
       "      gb_used  tariff_gb_used tariff  revenue  \n",
       "3165    11.23            12.0  smart    550.0  \n",
       "3167    19.45            20.0  smart   1685.0  \n",
       "3171    20.10            21.0  smart   1750.0  \n",
       "3170    21.62            22.0  smart   1950.0  \n",
       "3169    23.67            24.0  smart   2386.0  \n",
       "3168     7.30             8.0  smart    550.0  \n",
       "3174    17.54            18.0  smart   1513.0  \n",
       "3175    12.75            13.0  smart    598.0  \n",
       "3172     1.80             2.0  smart    550.0  \n",
       "3173    17.37            18.0  smart   1150.0  "
      ]
     },
     "execution_count": 200,
     "metadata": {},
     "output_type": "execute_result"
    }
   ],
   "source": [
    "users_merge = users_merge.sort_values('user_id')\n",
    "users_merge.tail(10)"
   ]
  },
  {
   "cell_type": "markdown",
   "metadata": {},
   "source": [
    "Теперь мы видим на сколько абонент \"наговорил\" в месяц"
   ]
  },
  {
   "cell_type": "code",
   "execution_count": 201,
   "metadata": {},
   "outputs": [
    {
     "data": {
      "text/plain": [
       "498"
      ]
     },
     "execution_count": 201,
     "metadata": {},
     "output_type": "execute_result"
    }
   ],
   "source": [
    "users_merge.user_id.nunique()"
   ]
  },
  {
   "cell_type": "markdown",
   "metadata": {},
   "source": [
    "почищу пару строк с нулевыми значениями - они будут нам бесполезны"
   ]
  },
  {
   "cell_type": "code",
   "execution_count": 202,
   "metadata": {
    "scrolled": false
   },
   "outputs": [
    {
     "data": {
      "text/html": [
       "<div>\n",
       "<style scoped>\n",
       "    .dataframe tbody tr th:only-of-type {\n",
       "        vertical-align: middle;\n",
       "    }\n",
       "\n",
       "    .dataframe tbody tr th {\n",
       "        vertical-align: top;\n",
       "    }\n",
       "\n",
       "    .dataframe thead th {\n",
       "        text-align: right;\n",
       "    }\n",
       "</style>\n",
       "<table border=\"1\" class=\"dataframe\">\n",
       "  <thead>\n",
       "    <tr style=\"text-align: right;\">\n",
       "      <th></th>\n",
       "      <th>user_id</th>\n",
       "      <th>month</th>\n",
       "      <th>calls_count</th>\n",
       "      <th>sum_tariff_minuts</th>\n",
       "      <th>messages</th>\n",
       "      <th>mb_used</th>\n",
       "      <th>gb_used</th>\n",
       "      <th>tariff_gb_used</th>\n",
       "      <th>tariff</th>\n",
       "      <th>revenue</th>\n",
       "    </tr>\n",
       "  </thead>\n",
       "  <tbody>\n",
       "  </tbody>\n",
       "</table>\n",
       "</div>"
      ],
      "text/plain": [
       "Empty DataFrame\n",
       "Columns: [user_id, month, calls_count, sum_tariff_minuts, messages, mb_used, gb_used, tariff_gb_used, tariff, revenue]\n",
       "Index: []"
      ]
     },
     "execution_count": 202,
     "metadata": {},
     "output_type": "execute_result"
    }
   ],
   "source": [
    "users_merge[users_merge['month'] == 0]"
   ]
  },
  {
   "cell_type": "code",
   "execution_count": 203,
   "metadata": {
    "scrolled": false
   },
   "outputs": [],
   "source": [
    "#users_merge = users_merge.drop(labels = [827,2335],axis = 0)\n",
    "users_merge = users_merge.query('user_id not in [1128,1371]')"
   ]
  },
  {
   "cell_type": "markdown",
   "metadata": {},
   "source": [
    "## Анализ данных"
   ]
  },
  {
   "cell_type": "markdown",
   "metadata": {},
   "source": [
    "Опишем поведение клиентов оператора, представленных в выборке. Посмотрим сколько минут разговора,сообщений и какой объём интернет-трафика требуется пользователям каждого тарифа в месяц. <br>\n",
    "Можно взять средне месяцные значения группированные по пользователям, но я думаю всё же лучше смотреть просто по месяцные данные не группируя по пользователям."
   ]
  },
  {
   "cell_type": "markdown",
   "metadata": {},
   "source": [
    "### Минуты"
   ]
  },
  {
   "cell_type": "code",
   "execution_count": 204,
   "metadata": {},
   "outputs": [
    {
     "data": {
      "text/html": [
       "<div>\n",
       "<style scoped>\n",
       "    .dataframe tbody tr th:only-of-type {\n",
       "        vertical-align: middle;\n",
       "    }\n",
       "\n",
       "    .dataframe tbody tr th {\n",
       "        vertical-align: top;\n",
       "    }\n",
       "\n",
       "    .dataframe thead th {\n",
       "        text-align: right;\n",
       "    }\n",
       "</style>\n",
       "<table border=\"1\" class=\"dataframe\">\n",
       "  <thead>\n",
       "    <tr style=\"text-align: right;\">\n",
       "      <th></th>\n",
       "      <th>tariff</th>\n",
       "      <th>smart</th>\n",
       "      <th>ultra</th>\n",
       "    </tr>\n",
       "  </thead>\n",
       "  <tbody>\n",
       "    <tr>\n",
       "      <th>mean</th>\n",
       "      <th>sum_tariff_minuts</th>\n",
       "      <td>417.93</td>\n",
       "      <td>526.62</td>\n",
       "    </tr>\n",
       "    <tr>\n",
       "      <th>var1</th>\n",
       "      <th>sum_tariff_minuts</th>\n",
       "      <td>36219.32</td>\n",
       "      <td>100873.63</td>\n",
       "    </tr>\n",
       "    <tr>\n",
       "      <th>std</th>\n",
       "      <th>sum_tariff_minuts</th>\n",
       "      <td>190.31</td>\n",
       "      <td>317.61</td>\n",
       "    </tr>\n",
       "  </tbody>\n",
       "</table>\n",
       "</div>"
      ],
      "text/plain": [
       "tariff                     smart      ultra\n",
       "mean sum_tariff_minuts    417.93     526.62\n",
       "var1 sum_tariff_minuts  36219.32  100873.63\n",
       "std  sum_tariff_minuts    190.31     317.61"
      ]
     },
     "execution_count": 204,
     "metadata": {},
     "output_type": "execute_result"
    }
   ],
   "source": [
    "def var1(x):\n",
    "    return np.var(x, ddof=1)\n",
    "\n",
    "pd.pivot_table(users_merge, index='tariff', values='sum_tariff_minuts', aggfunc=['mean', var1, np.std]).round(2).T"
   ]
  },
  {
   "cell_type": "code",
   "execution_count": 205,
   "metadata": {},
   "outputs": [
    {
     "data": {
      "text/html": [
       "<div>\n",
       "<style scoped>\n",
       "    .dataframe tbody tr th:only-of-type {\n",
       "        vertical-align: middle;\n",
       "    }\n",
       "\n",
       "    .dataframe tbody tr th {\n",
       "        vertical-align: top;\n",
       "    }\n",
       "\n",
       "    .dataframe thead th {\n",
       "        text-align: right;\n",
       "    }\n",
       "</style>\n",
       "<table border=\"1\" class=\"dataframe\">\n",
       "  <thead>\n",
       "    <tr style=\"text-align: right;\">\n",
       "      <th></th>\n",
       "      <th>tariff</th>\n",
       "      <th>smart</th>\n",
       "      <th>ultra</th>\n",
       "    </tr>\n",
       "  </thead>\n",
       "  <tbody>\n",
       "    <tr>\n",
       "      <th>mean</th>\n",
       "      <th>sum_tariff_minuts</th>\n",
       "      <td>417.93</td>\n",
       "      <td>526.62</td>\n",
       "    </tr>\n",
       "    <tr>\n",
       "      <th>var1</th>\n",
       "      <th>sum_tariff_minuts</th>\n",
       "      <td>36219.32</td>\n",
       "      <td>100873.63</td>\n",
       "    </tr>\n",
       "    <tr>\n",
       "      <th>std</th>\n",
       "      <th>sum_tariff_minuts</th>\n",
       "      <td>190.31</td>\n",
       "      <td>317.61</td>\n",
       "    </tr>\n",
       "  </tbody>\n",
       "</table>\n",
       "</div>"
      ],
      "text/plain": [
       "tariff                     smart      ultra\n",
       "mean sum_tariff_minuts    417.93     526.62\n",
       "var1 sum_tariff_minuts  36219.32  100873.63\n",
       "std  sum_tariff_minuts    190.31     317.61"
      ]
     },
     "execution_count": 205,
     "metadata": {},
     "output_type": "execute_result"
    }
   ],
   "source": [
    "pd.pivot_table(users_merge, index='tariff', values='sum_tariff_minuts', aggfunc=['mean', var1, np.std]).round(2).T"
   ]
  },
  {
   "cell_type": "code",
   "execution_count": 206,
   "metadata": {},
   "outputs": [
    {
     "name": "stderr",
     "output_type": "stream",
     "text": [
      "/home/jovyan/.local/lib/python3.7/site-packages/seaborn/distributions.py:2619: FutureWarning: `distplot` is a deprecated function and will be removed in a future version. Please adapt your code to use either `displot` (a figure-level function with similar flexibility) or `histplot` (an axes-level function for histograms).\n",
      "  warnings.warn(msg, FutureWarning)\n",
      "/home/jovyan/.local/lib/python3.7/site-packages/seaborn/distributions.py:2619: FutureWarning: `distplot` is a deprecated function and will be removed in a future version. Please adapt your code to use either `displot` (a figure-level function with similar flexibility) or `histplot` (an axes-level function for histograms).\n",
      "  warnings.warn(msg, FutureWarning)\n"
     ]
    },
    {
     "data": {
      "image/png": "[encoded data removed]",
      "text/plain": [
       "<Figure size 800x560 with 1 Axes>"
      ]
     },
     "metadata": {
      "needs_background": "light"
     },
     "output_type": "display_data"
    }
   ],
   "source": [
    "plt.figure(figsize=(10,7), dpi= 80)\n",
    "sns.distplot(users_merge.loc[users_merge['tariff'] == 'smart', \"sum_tariff_minuts\"], \n",
    "             color=\"dodgerblue\", \n",
    "             label=\"tariff smart\", \n",
    "             hist_kws={'alpha':.7}, bins=100) \n",
    "\n",
    "sns.distplot(users_merge.loc[users_merge['tariff'] == 'ultra', \"sum_tariff_minuts\"], \n",
    "             color=\"orange\", \n",
    "             label=\"tariff ultra\", \n",
    "             hist_kws={'alpha':.7}, bins=100)\n",
    "\n",
    "plt.title('График распределения пользования по количеству минут в месяц', fontsize=16)\n",
    "plt.xlabel('минут в месяц')\n",
    "plt.ylabel('Количество месяцев пользования')\n",
    "plt.legend()\n",
    "plt.grid(True)\n",
    "plt.show()"
   ]
  },
  {
   "cell_type": "markdown",
   "metadata": {},
   "source": [
    "Из гистрограммы видно на тарифе Smart люди не убираются в лимит 500 минут и часто выходят за него."
   ]
  },
  {
   "cell_type": "markdown",
   "metadata": {},
   "source": [
    "А вот так выглядит график группированный по пользователям - тренды конечно сохраняются , но распределение не такое ровное, поэтому группировать далее не буду."
   ]
  },
  {
   "cell_type": "markdown",
   "metadata": {},
   "source": [
    "<div class=\"alert alert-success\">\n",
    "<b>Комментарий ревьюера:</b>\n",
    "\n",
    "Здорово, когда график и его оси подписаны 😊👍\n",
    "    \n",
    "Так быстрее понять о чем идёт речь на самом графике.\n",
    "    \n",
    "</div>"
   ]
  },
  {
   "cell_type": "code",
   "execution_count": 207,
   "metadata": {},
   "outputs": [
    {
     "name": "stderr",
     "output_type": "stream",
     "text": [
      "/home/jovyan/.local/lib/python3.7/site-packages/seaborn/distributions.py:2619: FutureWarning: `distplot` is a deprecated function and will be removed in a future version. Please adapt your code to use either `displot` (a figure-level function with similar flexibility) or `histplot` (an axes-level function for histograms).\n",
      "  warnings.warn(msg, FutureWarning)\n",
      "/home/jovyan/.local/lib/python3.7/site-packages/seaborn/distributions.py:2619: FutureWarning: `distplot` is a deprecated function and will be removed in a future version. Please adapt your code to use either `displot` (a figure-level function with similar flexibility) or `histplot` (an axes-level function for histograms).\n",
      "  warnings.warn(msg, FutureWarning)\n"
     ]
    },
    {
     "data": {
      "image/png": "[encoded data removed]",
      "text/plain": [
       "<Figure size 800x560 with 1 Axes>"
      ]
     },
     "metadata": {
      "needs_background": "light"
     },
     "output_type": "display_data"
    }
   ],
   "source": [
    "plt.figure(figsize=(10,7), dpi= 80)\n",
    "sns.distplot(users_merge.loc[users_merge['tariff'] == 'smart'].groupby('user_id')[\"sum_tariff_minuts\"].mean(), \n",
    "             color=\"dodgerblue\", \n",
    "             label=\"tariff smart\", \n",
    "             hist_kws={'alpha':.7}, bins=100) \n",
    "\n",
    "sns.distplot(users_merge.loc[users_merge['tariff'] == 'ultra'].groupby('user_id')[\"sum_tariff_minuts\"].mean(), \n",
    "             color=\"orange\", \n",
    "             label=\"tariff ultra\", \n",
    "             hist_kws={'alpha':.7}, bins=100)\n",
    "\n",
    "plt.title('График распределения абонентов по количеству минут в месяц', fontsize=16)\n",
    "plt.xlabel('минут в месяц (в среднем)')\n",
    "plt.ylabel('Количество месяцев пользования')\n",
    "plt.legend()\n",
    "plt.grid(True)\n",
    "plt.show()"
   ]
  },
  {
   "cell_type": "code",
   "execution_count": 208,
   "metadata": {},
   "outputs": [],
   "source": [
    "def show_me_comparison(data1, data2, title):\n",
    "    plt.figure(figsize=(10,7), dpi= 80)\n",
    "    \n",
    "    sns.displot(data1, kind='hist',color=\"dodgerblue\",alpha=0.7 ,\n",
    "             label=\"tariff smart\", \n",
    "             bins=50)\n",
    "    \n",
    "    sns.displot(data2, kind='hist',color=\"orange\", alpha=0.7 ,\n",
    "             label=\"tariff ultra\", \n",
    "             bins=50)   \n",
    "    \n",
    "    plt.title(title, fontsize=16)\n",
    "    plt.xlabel('минут в месяц (в среднем)')\n",
    "    plt.ylabel('Количество месяцев пользования')\n",
    "    plt.legend()\n",
    "    plt.grid(True)\n",
    "    "
   ]
  },
  {
   "cell_type": "code",
   "execution_count": 209,
   "metadata": {},
   "outputs": [
    {
     "data": {
      "text/plain": [
       "<Figure size 800x560 with 0 Axes>"
      ]
     },
     "metadata": {},
     "output_type": "display_data"
    },
    {
     "data": {
      "image/png": "[encoded data removed]",
      "text/plain": [
       "<Figure size 360x360 with 1 Axes>"
      ]
     },
     "metadata": {
      "needs_background": "light"
     },
     "output_type": "display_data"
    },
    {
     "data": {
      "image/png": "[encoded data removed]",
      "text/plain": [
       "<Figure size 360x360 with 1 Axes>"
      ]
     },
     "metadata": {
      "needs_background": "light"
     },
     "output_type": "display_data"
    }
   ],
   "source": [
    "df1 = users_merge.loc[users_merge['tariff'] == 'smart'].groupby('user_id')[\"sum_tariff_minuts\"].mean()\n",
    "df2 = users_merge.loc[users_merge['tariff'] == 'ultra'].groupby('user_id')[\"sum_tariff_minuts\"].mean()\n",
    "\n",
    "show_me_comparison(df1, df2, 'График распределения абонентов по количеству минут в месяц')\n",
    "\n",
    "plt.show()"
   ]
  },
  {
   "cell_type": "markdown",
   "metadata": {},
   "source": [
    "### Сообшения"
   ]
  },
  {
   "cell_type": "code",
   "execution_count": 210,
   "metadata": {},
   "outputs": [
    {
     "data": {
      "text/html": [
       "<div>\n",
       "<style scoped>\n",
       "    .dataframe tbody tr th:only-of-type {\n",
       "        vertical-align: middle;\n",
       "    }\n",
       "\n",
       "    .dataframe tbody tr th {\n",
       "        vertical-align: top;\n",
       "    }\n",
       "\n",
       "    .dataframe thead tr th {\n",
       "        text-align: left;\n",
       "    }\n",
       "\n",
       "    .dataframe thead tr:last-of-type th {\n",
       "        text-align: right;\n",
       "    }\n",
       "</style>\n",
       "<table border=\"1\" class=\"dataframe\">\n",
       "  <thead>\n",
       "    <tr>\n",
       "      <th></th>\n",
       "      <th>mean</th>\n",
       "      <th>var1</th>\n",
       "      <th>std</th>\n",
       "    </tr>\n",
       "    <tr>\n",
       "      <th></th>\n",
       "      <th>messages</th>\n",
       "      <th>messages</th>\n",
       "      <th>messages</th>\n",
       "    </tr>\n",
       "    <tr>\n",
       "      <th>tariff</th>\n",
       "      <th></th>\n",
       "      <th></th>\n",
       "      <th></th>\n",
       "    </tr>\n",
       "  </thead>\n",
       "  <tbody>\n",
       "    <tr>\n",
       "      <th>smart</th>\n",
       "      <td>33.38</td>\n",
       "      <td>796.81</td>\n",
       "      <td>28.23</td>\n",
       "    </tr>\n",
       "    <tr>\n",
       "      <th>ultra</th>\n",
       "      <td>49.46</td>\n",
       "      <td>2284.95</td>\n",
       "      <td>47.80</td>\n",
       "    </tr>\n",
       "  </tbody>\n",
       "</table>\n",
       "</div>"
      ],
      "text/plain": [
       "           mean     var1      std\n",
       "       messages messages messages\n",
       "tariff                           \n",
       "smart     33.38   796.81    28.23\n",
       "ultra     49.46  2284.95    47.80"
      ]
     },
     "execution_count": 210,
     "metadata": {},
     "output_type": "execute_result"
    }
   ],
   "source": [
    "pd.pivot_table(users_merge, index='tariff', values='messages', aggfunc=['mean', var1, np.std]).round(2)"
   ]
  },
  {
   "cell_type": "code",
   "execution_count": 211,
   "metadata": {},
   "outputs": [
    {
     "name": "stderr",
     "output_type": "stream",
     "text": [
      "/home/jovyan/.local/lib/python3.7/site-packages/seaborn/distributions.py:2619: FutureWarning: `distplot` is a deprecated function and will be removed in a future version. Please adapt your code to use either `displot` (a figure-level function with similar flexibility) or `histplot` (an axes-level function for histograms).\n",
      "  warnings.warn(msg, FutureWarning)\n",
      "/home/jovyan/.local/lib/python3.7/site-packages/seaborn/distributions.py:2619: FutureWarning: `distplot` is a deprecated function and will be removed in a future version. Please adapt your code to use either `displot` (a figure-level function with similar flexibility) or `histplot` (an axes-level function for histograms).\n",
      "  warnings.warn(msg, FutureWarning)\n"
     ]
    },
    {
     "data": {
      "image/png": "[encoded data removed]",
      "text/plain": [
       "<Figure size 800x560 with 1 Axes>"
      ]
     },
     "metadata": {
      "needs_background": "light"
     },
     "output_type": "display_data"
    }
   ],
   "source": [
    "plt.figure(figsize=(10,7), dpi= 80)\n",
    "sns.distplot(users_merge.loc[users_merge['tariff'] == 'smart', \"messages\"], \n",
    "             color=\"dodgerblue\", \n",
    "             label=\"tariff smart\", \n",
    "             hist_kws={'alpha':.7}, bins=60) \n",
    "\n",
    "sns.distplot(users_merge.loc[users_merge['tariff'] == 'ultra', \"messages\"], \n",
    "             color=\"orange\", \n",
    "             label=\"tariff ultra\", \n",
    "             hist_kws={'alpha':.7}, bins=100)\n",
    "\n",
    "plt.title('График распределения пользователей по количеству сообщений в месяц', fontsize=16)\n",
    "plt.xlabel('сообщений в месяц')\n",
    "plt.ylabel('Количество месяцев пользования')\n",
    "plt.legend()\n",
    "plt.grid(True)\n",
    "plt.show()"
   ]
  },
  {
   "cell_type": "markdown",
   "metadata": {},
   "source": [
    "Видим что очень часто не отправляют ни одной смс за месяц. На тарифе Smart перерасход лимитных смс."
   ]
  },
  {
   "cell_type": "markdown",
   "metadata": {},
   "source": [
    "### Интернет трафик"
   ]
  },
  {
   "cell_type": "markdown",
   "metadata": {},
   "source": [
    "Посмотрим сколько трафика в среднем в месяц используют пользователи на различных тарифах"
   ]
  },
  {
   "cell_type": "code",
   "execution_count": 212,
   "metadata": {},
   "outputs": [
    {
     "data": {
      "text/html": [
       "<div>\n",
       "<style scoped>\n",
       "    .dataframe tbody tr th:only-of-type {\n",
       "        vertical-align: middle;\n",
       "    }\n",
       "\n",
       "    .dataframe tbody tr th {\n",
       "        vertical-align: top;\n",
       "    }\n",
       "\n",
       "    .dataframe thead tr th {\n",
       "        text-align: left;\n",
       "    }\n",
       "\n",
       "    .dataframe thead tr:last-of-type th {\n",
       "        text-align: right;\n",
       "    }\n",
       "</style>\n",
       "<table border=\"1\" class=\"dataframe\">\n",
       "  <thead>\n",
       "    <tr>\n",
       "      <th></th>\n",
       "      <th>mean</th>\n",
       "      <th>var1</th>\n",
       "      <th>std</th>\n",
       "    </tr>\n",
       "    <tr>\n",
       "      <th></th>\n",
       "      <th>mb_used</th>\n",
       "      <th>mb_used</th>\n",
       "      <th>mb_used</th>\n",
       "    </tr>\n",
       "    <tr>\n",
       "      <th>tariff</th>\n",
       "      <th></th>\n",
       "      <th></th>\n",
       "      <th></th>\n",
       "    </tr>\n",
       "  </thead>\n",
       "  <tbody>\n",
       "    <tr>\n",
       "      <th>smart</th>\n",
       "      <td>16208.39</td>\n",
       "      <td>3.446250e+07</td>\n",
       "      <td>5870.48</td>\n",
       "    </tr>\n",
       "    <tr>\n",
       "      <th>ultra</th>\n",
       "      <td>19468.81</td>\n",
       "      <td>1.017510e+08</td>\n",
       "      <td>10087.17</td>\n",
       "    </tr>\n",
       "  </tbody>\n",
       "</table>\n",
       "</div>"
      ],
      "text/plain": [
       "            mean          var1       std\n",
       "         mb_used       mb_used   mb_used\n",
       "tariff                                  \n",
       "smart   16208.39  3.446250e+07   5870.48\n",
       "ultra   19468.81  1.017510e+08  10087.17"
      ]
     },
     "execution_count": 212,
     "metadata": {},
     "output_type": "execute_result"
    }
   ],
   "source": [
    "pd.pivot_table(users_merge, index='tariff', values='mb_used', aggfunc=['mean', var1, np.std]).round(2)"
   ]
  },
  {
   "cell_type": "code",
   "execution_count": 213,
   "metadata": {},
   "outputs": [
    {
     "name": "stderr",
     "output_type": "stream",
     "text": [
      "/home/jovyan/.local/lib/python3.7/site-packages/seaborn/distributions.py:2619: FutureWarning: `distplot` is a deprecated function and will be removed in a future version. Please adapt your code to use either `displot` (a figure-level function with similar flexibility) or `histplot` (an axes-level function for histograms).\n",
      "  warnings.warn(msg, FutureWarning)\n",
      "/home/jovyan/.local/lib/python3.7/site-packages/seaborn/distributions.py:2619: FutureWarning: `distplot` is a deprecated function and will be removed in a future version. Please adapt your code to use either `displot` (a figure-level function with similar flexibility) or `histplot` (an axes-level function for histograms).\n",
      "  warnings.warn(msg, FutureWarning)\n"
     ]
    },
    {
     "data": {
      "image/png": "[encoded data removed]",
      "text/plain": [
       "<Figure size 800x560 with 1 Axes>"
      ]
     },
     "metadata": {
      "needs_background": "light"
     },
     "output_type": "display_data"
    }
   ],
   "source": [
    "plt.figure(figsize=(10,7), dpi= 80)\n",
    "sns.distplot(users_merge.loc[users_merge['tariff'] == 'smart',\"tariff_gb_used\"], \n",
    "             color=\"dodgerblue\", \n",
    "             label=\"tariff smart\", \n",
    "             hist_kws={'alpha':.7}, bins=60) \n",
    "\n",
    "sns.distplot(users_merge.loc[users_merge['tariff'] == 'ultra',\"tariff_gb_used\"], \n",
    "             color=\"orange\", \n",
    "             label=\"tariff ultra\", \n",
    "             hist_kws={'alpha':.7}, bins=60)\n",
    "\n",
    "plt.title('График распределения пользователей по количеству гигабайт в месяц', fontsize=16)\n",
    "plt.xlabel('гигабайт в месяц')\n",
    "plt.ylabel('Количество месяцев пользования')\n",
    "plt.legend()\n",
    "plt.grid(True)\n",
    "plt.show()"
   ]
  },
  {
   "cell_type": "markdown",
   "metadata": {},
   "source": [
    "На тарифе Smart очевинет частый перерасход лимитного трафика в 15Гб."
   ]
  },
  {
   "cell_type": "markdown",
   "metadata": {},
   "source": [
    "### Минуты Сообщения и Интернет трафик в разрезе трафиов но с учетом в столице и не в столице"
   ]
  },
  {
   "cell_type": "markdown",
   "metadata": {},
   "source": [
    "Для начала добавим столбец с пометкой из Москвы ли пользователь."
   ]
  },
  {
   "cell_type": "code",
   "execution_count": 214,
   "metadata": {},
   "outputs": [],
   "source": [
    "users['is_capital'] = users['city'].apply(lambda x: True if x=='Москва' else False)"
   ]
  },
  {
   "cell_type": "code",
   "execution_count": 215,
   "metadata": {},
   "outputs": [],
   "source": [
    "users_merge = pd.merge(users_merge, users[['user_id','is_capital']], on='user_id', how='outer')"
   ]
  },
  {
   "cell_type": "code",
   "execution_count": 216,
   "metadata": {
    "scrolled": true
   },
   "outputs": [
    {
     "data": {
      "image/png": "[encoded data removed]",
      "text/plain": [
       "<Figure size 432x288 with 1 Axes>"
      ]
     },
     "metadata": {
      "needs_background": "light"
     },
     "output_type": "display_data"
    }
   ],
   "source": [
    "df = pd.pivot_table(users_merge, index=['tariff','is_capital'], values='sum_tariff_minuts', aggfunc='mean')\n",
    "df \\\n",
    "    .round(0) \\\n",
    "    .plot(rot=45,kind='bar',grid=True)\n",
    "    \n",
    "plt.legend('')\n",
    "plt.xlabel('Тариф, Москва и нет')\n",
    "plt.ylabel('Количество минут')\n",
    "\n",
    "for i, val in enumerate(df.values):\n",
    "    plt.text(i, val, int(val), horizontalalignment='center', verticalalignment='bottom')\n",
    "\n",
    "plt.show()"
   ]
  },
  {
   "cell_type": "markdown",
   "metadata": {},
   "source": [
    "На тарифе Smart нет разницы где проживает абонент.\n",
    "На тарифе Ultra  в целом разговаривают больше - но в Москве это заметнее."
   ]
  },
  {
   "cell_type": "code",
   "execution_count": 217,
   "metadata": {
    "scrolled": true
   },
   "outputs": [
    {
     "data": {
      "text/html": [
       "<div>\n",
       "<style scoped>\n",
       "    .dataframe tbody tr th:only-of-type {\n",
       "        vertical-align: middle;\n",
       "    }\n",
       "\n",
       "    .dataframe tbody tr th {\n",
       "        vertical-align: top;\n",
       "    }\n",
       "\n",
       "    .dataframe thead th {\n",
       "        text-align: right;\n",
       "    }\n",
       "</style>\n",
       "<table border=\"1\" class=\"dataframe\">\n",
       "  <thead>\n",
       "    <tr style=\"text-align: right;\">\n",
       "      <th></th>\n",
       "      <th></th>\n",
       "      <th>messages</th>\n",
       "    </tr>\n",
       "    <tr>\n",
       "      <th>tariff</th>\n",
       "      <th>is_capital</th>\n",
       "      <th></th>\n",
       "    </tr>\n",
       "  </thead>\n",
       "  <tbody>\n",
       "    <tr>\n",
       "      <th rowspan=\"2\" valign=\"top\">smart</th>\n",
       "      <th>False</th>\n",
       "      <td>35.0</td>\n",
       "    </tr>\n",
       "    <tr>\n",
       "      <th>True</th>\n",
       "      <td>28.0</td>\n",
       "    </tr>\n",
       "    <tr>\n",
       "      <th rowspan=\"2\" valign=\"top\">ultra</th>\n",
       "      <th>False</th>\n",
       "      <td>48.0</td>\n",
       "    </tr>\n",
       "    <tr>\n",
       "      <th>True</th>\n",
       "      <td>55.0</td>\n",
       "    </tr>\n",
       "  </tbody>\n",
       "</table>\n",
       "</div>"
      ],
      "text/plain": [
       "                   messages\n",
       "tariff is_capital          \n",
       "smart  False           35.0\n",
       "       True            28.0\n",
       "ultra  False           48.0\n",
       "       True            55.0"
      ]
     },
     "execution_count": 217,
     "metadata": {},
     "output_type": "execute_result"
    }
   ],
   "source": [
    "pd.pivot_table(users_merge, index=['tariff','is_capital'], values='messages', aggfunc='mean').round(0)"
   ]
  },
  {
   "cell_type": "markdown",
   "metadata": {},
   "source": [
    "Я считал что СМС уже отжили своё, но оказывается что нет. На тарифе Smart в регионах смсят чаще, но на тарифе Ultra в Москве это делаю больше. "
   ]
  },
  {
   "cell_type": "code",
   "execution_count": 218,
   "metadata": {
    "scrolled": true
   },
   "outputs": [
    {
     "data": {
      "text/html": [
       "<div>\n",
       "<style scoped>\n",
       "    .dataframe tbody tr th:only-of-type {\n",
       "        vertical-align: middle;\n",
       "    }\n",
       "\n",
       "    .dataframe tbody tr th {\n",
       "        vertical-align: top;\n",
       "    }\n",
       "\n",
       "    .dataframe thead th {\n",
       "        text-align: right;\n",
       "    }\n",
       "</style>\n",
       "<table border=\"1\" class=\"dataframe\">\n",
       "  <thead>\n",
       "    <tr style=\"text-align: right;\">\n",
       "      <th></th>\n",
       "      <th></th>\n",
       "      <th>mb_used</th>\n",
       "    </tr>\n",
       "    <tr>\n",
       "      <th>tariff</th>\n",
       "      <th>is_capital</th>\n",
       "      <th></th>\n",
       "    </tr>\n",
       "  </thead>\n",
       "  <tbody>\n",
       "    <tr>\n",
       "      <th rowspan=\"2\" valign=\"top\">smart</th>\n",
       "      <th>False</th>\n",
       "      <td>16248.0</td>\n",
       "    </tr>\n",
       "    <tr>\n",
       "      <th>True</th>\n",
       "      <td>16018.0</td>\n",
       "    </tr>\n",
       "    <tr>\n",
       "      <th rowspan=\"2\" valign=\"top\">ultra</th>\n",
       "      <th>False</th>\n",
       "      <td>18926.0</td>\n",
       "    </tr>\n",
       "    <tr>\n",
       "      <th>True</th>\n",
       "      <td>21302.0</td>\n",
       "    </tr>\n",
       "  </tbody>\n",
       "</table>\n",
       "</div>"
      ],
      "text/plain": [
       "                   mb_used\n",
       "tariff is_capital         \n",
       "smart  False       16248.0\n",
       "       True        16018.0\n",
       "ultra  False       18926.0\n",
       "       True        21302.0"
      ]
     },
     "execution_count": 218,
     "metadata": {},
     "output_type": "execute_result"
    }
   ],
   "source": [
    "pd.pivot_table(users_merge, index=['tariff','is_capital'], values='mb_used', aggfunc='mean').round(0)"
   ]
  },
  {
   "cell_type": "markdown",
   "metadata": {},
   "source": [
    "На тарифе Smart получается что в среднем выходят за лимитные 15 Гб, не зависимо от региона.\n",
    "На тарифе Ultra сидят в интернете на много больше - потому что там лимит больше - но ограничения в 30 Гб в среднем не достигают. "
   ]
  },
  {
   "cell_type": "markdown",
   "metadata": {},
   "source": [
    "### Выручка"
   ]
  },
  {
   "cell_type": "markdown",
   "metadata": {},
   "source": [
    "Посмотрим как ведет себя выручка в срднем с абонента за месяц"
   ]
  },
  {
   "cell_type": "code",
   "execution_count": 219,
   "metadata": {},
   "outputs": [
    {
     "data": {
      "image/png": "[encoded data removed]",
      "text/plain": [
       "<Figure size 1008x360 with 1 Axes>"
      ]
     },
     "metadata": {
      "needs_background": "light"
     },
     "output_type": "display_data"
    }
   ],
   "source": [
    "df = pd.pivot_table(users_merge, index=['tariff','month'], values='revenue', aggfunc= 'mean').unstack().T\n",
    "\n",
    "df.round(0).plot(rot=45,kind='bar',grid=True,figsize=(14, 5))\n",
    "plt.legend()\n",
    "plt.xlabel('Месяц')\n",
    "plt.ylabel('Выручка')\n",
    "\n",
    "plt.show()"
   ]
  },
  {
   "cell_type": "markdown",
   "metadata": {},
   "source": [
    "Вау - а на тарифе Smart выручка даже очень хорошо растет."
   ]
  },
  {
   "cell_type": "code",
   "execution_count": 220,
   "metadata": {
    "scrolled": false
   },
   "outputs": [
    {
     "data": {
      "image/png": "[encoded data removed]",
      "text/plain": [
       "<Figure size 432x288 with 1 Axes>"
      ]
     },
     "metadata": {
      "needs_background": "light"
     },
     "output_type": "display_data"
    }
   ],
   "source": [
    "df = pd.pivot_table(users, index=['tariff','is_capital'], values='user_id', aggfunc='count').round(0)\n",
    "df \\\n",
    "    .round(0) \\\n",
    "    .plot(rot=45,kind='bar',grid=True)\n",
    "    \n",
    "plt.legend('')\n",
    "plt.xlabel('Тариф, Москва и нет')\n",
    "plt.ylabel('Количество абонентов')\n",
    "\n",
    "for i, val in enumerate(df.values):\n",
    "    plt.text(i, val, int(val), horizontalalignment='center', verticalalignment='bottom')\n",
    "\n",
    "plt.show()"
   ]
  },
  {
   "cell_type": "markdown",
   "metadata": {},
   "source": [
    "Не зависимо от региона, почти в 2 раза больше абонентов отдает предпочтение тарифу Smart"
   ]
  },
  {
   "cell_type": "markdown",
   "metadata": {},
   "source": [
    "## Проверка гипотез"
   ]
  },
  {
   "cell_type": "markdown",
   "metadata": {},
   "source": [
    "Для проверки гипотиз буду использовать Критерий Стьюдента (t-критерий). Он позволяет найти вероятность того, что оба средних значения в выборке относятся к одной и той же совокупности."
   ]
  },
  {
   "cell_type": "markdown",
   "metadata": {},
   "source": [
    "### средняя выручка пользователей тарифов «Ультра» и «Смарт» различаются"
   ]
  },
  {
   "cell_type": "markdown",
   "metadata": {},
   "source": [
    "Проверим гипотезу : средняя выручка пользователей тарифов «Ультра» и «Смарт» различаются.\n",
    "Это похоже на гипотезу о равенстве среднего двух генеральных совокупностей по взятым из них выборкам. и нужно бы применить метод ttest_ind.\n",
    "Но посмотрим на некоторые характеристики выборок."
   ]
  },
  {
   "cell_type": "code",
   "execution_count": 221,
   "metadata": {},
   "outputs": [
    {
     "data": {
      "text/html": [
       "<div>\n",
       "<style scoped>\n",
       "    .dataframe tbody tr th:only-of-type {\n",
       "        vertical-align: middle;\n",
       "    }\n",
       "\n",
       "    .dataframe tbody tr th {\n",
       "        vertical-align: top;\n",
       "    }\n",
       "\n",
       "    .dataframe thead tr th {\n",
       "        text-align: left;\n",
       "    }\n",
       "\n",
       "    .dataframe thead tr:last-of-type th {\n",
       "        text-align: right;\n",
       "    }\n",
       "</style>\n",
       "<table border=\"1\" class=\"dataframe\">\n",
       "  <thead>\n",
       "    <tr>\n",
       "      <th></th>\n",
       "      <th>mean</th>\n",
       "      <th>var1</th>\n",
       "      <th>std</th>\n",
       "    </tr>\n",
       "    <tr>\n",
       "      <th></th>\n",
       "      <th>revenue</th>\n",
       "      <th>revenue</th>\n",
       "      <th>revenue</th>\n",
       "    </tr>\n",
       "    <tr>\n",
       "      <th>tariff</th>\n",
       "      <th></th>\n",
       "      <th></th>\n",
       "      <th></th>\n",
       "    </tr>\n",
       "  </thead>\n",
       "  <tbody>\n",
       "    <tr>\n",
       "      <th>smart</th>\n",
       "      <td>1289.973531</td>\n",
       "      <td>669785.708006</td>\n",
       "      <td>818.404367</td>\n",
       "    </tr>\n",
       "    <tr>\n",
       "      <th>ultra</th>\n",
       "      <td>2070.396745</td>\n",
       "      <td>141775.504348</td>\n",
       "      <td>376.530881</td>\n",
       "    </tr>\n",
       "  </tbody>\n",
       "</table>\n",
       "</div>"
      ],
      "text/plain": [
       "               mean           var1         std\n",
       "            revenue        revenue     revenue\n",
       "tariff                                        \n",
       "smart   1289.973531  669785.708006  818.404367\n",
       "ultra   2070.396745  141775.504348  376.530881"
      ]
     },
     "execution_count": 221,
     "metadata": {},
     "output_type": "execute_result"
    }
   ],
   "source": [
    "pd.pivot_table(users_merge, index='tariff', values='revenue',aggfunc=['mean',var1,np.std])"
   ]
  },
  {
   "cell_type": "code",
   "execution_count": 222,
   "metadata": {},
   "outputs": [
    {
     "data": {
      "text/plain": [
       "smart    0.702\n",
       "ultra    0.298\n",
       "Name: tariff, dtype: float64"
      ]
     },
     "execution_count": 222,
     "metadata": {},
     "output_type": "execute_result"
    }
   ],
   "source": [
    "#users['tariff'].value_counts()\n",
    "users['tariff'].value_counts(normalize=True)"
   ]
  },
  {
   "cell_type": "markdown",
   "metadata": {},
   "source": [
    "Общего между выборками совсем нет."
   ]
  },
  {
   "cell_type": "markdown",
   "metadata": {},
   "source": [
    "Меньше трети абонентов представлены на тарифе Ultra. Выборки не равны по количеству значений...\n",
    "Поэтому считаю что лучше попробовать проверить двухстороннюю гипотезу о равентве среднего значения (выборки которая меньше) определенному значению (среднему выборки которая больше).<br>\n",
    "Сформулирую гипотезы: H0 Среднее тарифа Ultra равно значению 1289(среднее тарифа Smart). H1 - Среднее тарифа Ultra отличается от значения 1289"
   ]
  },
  {
   "cell_type": "code",
   "execution_count": 223,
   "metadata": {},
   "outputs": [
    {
     "data": {
      "text/plain": [
       "<seaborn.axisgrid.FacetGrid at 0x7f97c30c6c90>"
      ]
     },
     "execution_count": 223,
     "metadata": {},
     "output_type": "execute_result"
    },
    {
     "data": {
      "image/png": "[encoded data removed]",
      "text/plain": [
       "<Figure size 425x360 with 1 Axes>"
      ]
     },
     "metadata": {
      "needs_background": "light"
     },
     "output_type": "display_data"
    }
   ],
   "source": [
    "sns.displot(data=users_merge, x='revenue',hue='tariff',bins=50)"
   ]
  },
  {
   "cell_type": "code",
   "execution_count": 224,
   "metadata": {},
   "outputs": [
    {
     "name": "stdout",
     "output_type": "stream",
     "text": [
      "p-значение:  nan\n",
      "Не получилось отвергнуть нулевую гипотезу\n"
     ]
    }
   ],
   "source": [
    "interested_value = 1289\n",
    "alpha = .05 # критический уровень статистической значимости\n",
    "\n",
    "results = st.ttest_1samp(\n",
    "    users_merge[users_merge['tariff'] == 'ultra']['revenue'],\n",
    "    interested_value)\n",
    "\n",
    "print('p-значение: ', results.pvalue)\n",
    "\n",
    "if results.pvalue < alpha:\n",
    "    print(\"Отвергаем нулевую гипотезу\")\n",
    "else:\n",
    "    print(\"Не получилось отвергнуть нулевую гипотезу\") "
   ]
  },
  {
   "cell_type": "markdown",
   "metadata": {},
   "source": [
    "p-значение практически равно нулю - это означает что, при верной нулевой гипотезе, вероятность случайно получить значение 1289 исчезающе мала - то есть получить такую или еще более выраженную разницу между средним значением прибыли на Тарифе Ultra и интересующим нас значением 1289 практически не возможно (получить из выборки значение 1289 случайным образом невозможно) - следовательно нулевая гипотеза не состоятельна и её можно отвергнуть."
   ]
  },
  {
   "cell_type": "markdown",
   "metadata": {},
   "source": [
    "_____________________________________________________"
   ]
  },
  {
   "cell_type": "markdown",
   "metadata": {},
   "source": [
    "На всякий случай проведу проверку гипотезы о равности среднего двух совокупностей. <br>\n",
    "Дисперсии у совокупностей разные (при вызове метода ttest_ind нам надо указать equal_var = False)"
   ]
  },
  {
   "cell_type": "markdown",
   "metadata": {},
   "source": [
    "Рассмотрим три аспекта, которые надо проверить, чтобы понять, можно ли применять t-тест:\n",
    "- Генеральные совокупности не должны зависеть друг от друга. - так и есть.\n",
    "- Выборочные средние должны быть нормально распределены. - Выборка всего одна, и как её среднее распределена для разных выборок этого размера из генеральной совокупности - мы не видим. Но благодаря ЦПТ, если размер выборки составляет хотя бы несколько десятков значений(у нас 149 и 351), выборочные средние, которые можно получить из одной и той же генеральной совокупности, будут распределены нормально вокруг истинного среднего этой совокупности.\n",
    "- Дисперсии рассматриваемых генеральных совокупностей должны быть равны. При этом если выборки достаточно велики (30 и больше значений) и равны по размеру между собой. Симуляции, проведённые учёными, показывают, что даже если дисперсии на самом деле не равны, то тест редко ошибается. (из-за этого пункта я решил сначало провести тест методом ttest_1samp)"
   ]
  },
  {
   "cell_type": "markdown",
   "metadata": {},
   "source": [
    "Озвучим нулевую гипотезу H0 - средняя выручка пользователей тарифов «Ультра» и «Смарт» равна, и альтернативную гипотезу H1 - средняя выручка пользователей тарифов «Ультра» и «Смарт» не равна."
   ]
  },
  {
   "cell_type": "code",
   "execution_count": 94,
   "metadata": {},
   "outputs": [
    {
     "data": {
      "text/html": [
       "<div>\n",
       "<style scoped>\n",
       "    .dataframe tbody tr th:only-of-type {\n",
       "        vertical-align: middle;\n",
       "    }\n",
       "\n",
       "    .dataframe tbody tr th {\n",
       "        vertical-align: top;\n",
       "    }\n",
       "\n",
       "    .dataframe thead th {\n",
       "        text-align: right;\n",
       "    }\n",
       "</style>\n",
       "<table border=\"1\" class=\"dataframe\">\n",
       "  <thead>\n",
       "    <tr style=\"text-align: right;\">\n",
       "      <th></th>\n",
       "      <th>user_id</th>\n",
       "      <th>month</th>\n",
       "      <th>calls_count</th>\n",
       "      <th>sum_tariff_minuts</th>\n",
       "      <th>messages</th>\n",
       "      <th>mb_used</th>\n",
       "      <th>gb_used</th>\n",
       "      <th>tariff_gb_used</th>\n",
       "      <th>tariff</th>\n",
       "      <th>revenue</th>\n",
       "      <th>is_capital</th>\n",
       "    </tr>\n",
       "  </thead>\n",
       "  <tbody>\n",
       "    <tr>\n",
       "      <th>0</th>\n",
       "      <td>1000</td>\n",
       "      <td>2018-05</td>\n",
       "      <td>17.0</td>\n",
       "      <td>159.0</td>\n",
       "      <td>22.0</td>\n",
       "      <td>2253.49</td>\n",
       "      <td>2.20</td>\n",
       "      <td>3.0</td>\n",
       "      <td>ultra</td>\n",
       "      <td>1950.0</td>\n",
       "      <td>False</td>\n",
       "    </tr>\n",
       "    <tr>\n",
       "      <th>1</th>\n",
       "      <td>1000</td>\n",
       "      <td>2018-06</td>\n",
       "      <td>28.0</td>\n",
       "      <td>172.0</td>\n",
       "      <td>60.0</td>\n",
       "      <td>23233.77</td>\n",
       "      <td>22.69</td>\n",
       "      <td>23.0</td>\n",
       "      <td>ultra</td>\n",
       "      <td>1950.0</td>\n",
       "      <td>False</td>\n",
       "    </tr>\n",
       "    <tr>\n",
       "      <th>2</th>\n",
       "      <td>1000</td>\n",
       "      <td>2018-07</td>\n",
       "      <td>41.0</td>\n",
       "      <td>340.0</td>\n",
       "      <td>75.0</td>\n",
       "      <td>14003.64</td>\n",
       "      <td>13.68</td>\n",
       "      <td>14.0</td>\n",
       "      <td>ultra</td>\n",
       "      <td>1950.0</td>\n",
       "      <td>False</td>\n",
       "    </tr>\n",
       "    <tr>\n",
       "      <th>3</th>\n",
       "      <td>1000</td>\n",
       "      <td>2018-08</td>\n",
       "      <td>42.0</td>\n",
       "      <td>408.0</td>\n",
       "      <td>81.0</td>\n",
       "      <td>14055.93</td>\n",
       "      <td>13.73</td>\n",
       "      <td>14.0</td>\n",
       "      <td>ultra</td>\n",
       "      <td>1950.0</td>\n",
       "      <td>False</td>\n",
       "    </tr>\n",
       "    <tr>\n",
       "      <th>4</th>\n",
       "      <td>1000</td>\n",
       "      <td>2018-09</td>\n",
       "      <td>46.0</td>\n",
       "      <td>466.0</td>\n",
       "      <td>57.0</td>\n",
       "      <td>14568.91</td>\n",
       "      <td>14.23</td>\n",
       "      <td>15.0</td>\n",
       "      <td>ultra</td>\n",
       "      <td>1950.0</td>\n",
       "      <td>False</td>\n",
       "    </tr>\n",
       "    <tr>\n",
       "      <th>...</th>\n",
       "      <td>...</td>\n",
       "      <td>...</td>\n",
       "      <td>...</td>\n",
       "      <td>...</td>\n",
       "      <td>...</td>\n",
       "      <td>...</td>\n",
       "      <td>...</td>\n",
       "      <td>...</td>\n",
       "      <td>...</td>\n",
       "      <td>...</td>\n",
       "      <td>...</td>\n",
       "    </tr>\n",
       "    <tr>\n",
       "      <th>3211</th>\n",
       "      <td>1499</td>\n",
       "      <td>2018-09</td>\n",
       "      <td>8.0</td>\n",
       "      <td>70.0</td>\n",
       "      <td>11.0</td>\n",
       "      <td>1845.75</td>\n",
       "      <td>1.80</td>\n",
       "      <td>2.0</td>\n",
       "      <td>smart</td>\n",
       "      <td>550.0</td>\n",
       "      <td>False</td>\n",
       "    </tr>\n",
       "    <tr>\n",
       "      <th>3212</th>\n",
       "      <td>1499</td>\n",
       "      <td>2018-11</td>\n",
       "      <td>62.0</td>\n",
       "      <td>612.0</td>\n",
       "      <td>59.0</td>\n",
       "      <td>17963.31</td>\n",
       "      <td>17.54</td>\n",
       "      <td>18.0</td>\n",
       "      <td>smart</td>\n",
       "      <td>1513.0</td>\n",
       "      <td>False</td>\n",
       "    </tr>\n",
       "    <tr>\n",
       "      <th>3213</th>\n",
       "      <td>1499</td>\n",
       "      <td>2018-10</td>\n",
       "      <td>44.0</td>\n",
       "      <td>449.0</td>\n",
       "      <td>48.0</td>\n",
       "      <td>17788.51</td>\n",
       "      <td>17.37</td>\n",
       "      <td>18.0</td>\n",
       "      <td>smart</td>\n",
       "      <td>1150.0</td>\n",
       "      <td>False</td>\n",
       "    </tr>\n",
       "    <tr>\n",
       "      <th>3214</th>\n",
       "      <td>1128</td>\n",
       "      <td>NaT</td>\n",
       "      <td>NaN</td>\n",
       "      <td>NaN</td>\n",
       "      <td>NaN</td>\n",
       "      <td>NaN</td>\n",
       "      <td>NaN</td>\n",
       "      <td>NaN</td>\n",
       "      <td>NaN</td>\n",
       "      <td>NaN</td>\n",
       "      <td>False</td>\n",
       "    </tr>\n",
       "    <tr>\n",
       "      <th>3215</th>\n",
       "      <td>1371</td>\n",
       "      <td>NaT</td>\n",
       "      <td>NaN</td>\n",
       "      <td>NaN</td>\n",
       "      <td>NaN</td>\n",
       "      <td>NaN</td>\n",
       "      <td>NaN</td>\n",
       "      <td>NaN</td>\n",
       "      <td>NaN</td>\n",
       "      <td>NaN</td>\n",
       "      <td>False</td>\n",
       "    </tr>\n",
       "  </tbody>\n",
       "</table>\n",
       "<p>3216 rows × 11 columns</p>\n",
       "</div>"
      ],
      "text/plain": [
       "      user_id    month  calls_count  sum_tariff_minuts  messages   mb_used  \\\n",
       "0        1000  2018-05         17.0              159.0      22.0   2253.49   \n",
       "1        1000  2018-06         28.0              172.0      60.0  23233.77   \n",
       "2        1000  2018-07         41.0              340.0      75.0  14003.64   \n",
       "3        1000  2018-08         42.0              408.0      81.0  14055.93   \n",
       "4        1000  2018-09         46.0              466.0      57.0  14568.91   \n",
       "...       ...      ...          ...                ...       ...       ...   \n",
       "3211     1499  2018-09          8.0               70.0      11.0   1845.75   \n",
       "3212     1499  2018-11         62.0              612.0      59.0  17963.31   \n",
       "3213     1499  2018-10         44.0              449.0      48.0  17788.51   \n",
       "3214     1128      NaT          NaN                NaN       NaN       NaN   \n",
       "3215     1371      NaT          NaN                NaN       NaN       NaN   \n",
       "\n",
       "      gb_used  tariff_gb_used tariff  revenue  is_capital  \n",
       "0        2.20             3.0  ultra   1950.0       False  \n",
       "1       22.69            23.0  ultra   1950.0       False  \n",
       "2       13.68            14.0  ultra   1950.0       False  \n",
       "3       13.73            14.0  ultra   1950.0       False  \n",
       "4       14.23            15.0  ultra   1950.0       False  \n",
       "...       ...             ...    ...      ...         ...  \n",
       "3211     1.80             2.0  smart    550.0       False  \n",
       "3212    17.54            18.0  smart   1513.0       False  \n",
       "3213    17.37            18.0  smart   1150.0       False  \n",
       "3214      NaN             NaN    NaN      NaN       False  \n",
       "3215      NaN             NaN    NaN      NaN       False  \n",
       "\n",
       "[3216 rows x 11 columns]"
      ]
     },
     "execution_count": 94,
     "metadata": {},
     "output_type": "execute_result"
    }
   ],
   "source": [
    "users_merge"
   ]
  },
  {
   "cell_type": "code",
   "execution_count": 93,
   "metadata": {},
   "outputs": [
    {
     "name": "stdout",
     "output_type": "stream",
     "text": [
      "p-значение:  nan\n",
      "Не получилось отвергнуть нулевую гипотезу\n"
     ]
    }
   ],
   "source": [
    "alpha = .05 # критический уровень статистической значимости\n",
    "\n",
    "results = st.ttest_ind(\n",
    "    users_merge[users_merge['tariff'] == 'smart']['revenue'], \n",
    "    users_merge[users_merge['tariff'] == 'ultra']['revenue'],\n",
    "    equal_var=False)\n",
    "\n",
    "print('p-значение: ', results.pvalue)\n",
    "\n",
    "if results.pvalue < alpha:\n",
    "    print(\"Отвергаем нулевую гипотезу\")\n",
    "else:\n",
    "    print(\"Не получилось отвергнуть нулевую гипотезу\") "
   ]
  },
  {
   "cell_type": "markdown",
   "metadata": {},
   "source": [
    "Полученное значение p-value очень мало - что говорит о не состаятельности нулевой гепотизы - то есть  шанс получить значимое различие между средними выборок при нулевой гепотезе очень мал. Значит можем её отвергнуть."
   ]
  },
  {
   "cell_type": "markdown",
   "metadata": {},
   "source": [
    "### средняя выручка пользователей из Москвы отличается от выручки пользователей из других регионов"
   ]
  },
  {
   "cell_type": "markdown",
   "metadata": {},
   "source": [
    "Проверим гипотезу : средняя выручка пользователей из Москвы отличается от выручки пользователей из других регионов."
   ]
  },
  {
   "cell_type": "markdown",
   "metadata": {},
   "source": [
    "Рассмотрим характеристики выборок"
   ]
  },
  {
   "cell_type": "code",
   "execution_count": null,
   "metadata": {},
   "outputs": [],
   "source": [
    "users['is_capital'].value_counts()"
   ]
  },
  {
   "cell_type": "markdown",
   "metadata": {},
   "source": [
    "в датасете Users пользователей из Москвы всего 99."
   ]
  },
  {
   "cell_type": "code",
   "execution_count": null,
   "metadata": {},
   "outputs": [],
   "source": [
    "# users_merge['is_capital'].value_counts(normalize=True)\n",
    "users_merge['is_capital'].value_counts()"
   ]
  },
  {
   "cell_type": "markdown",
   "metadata": {},
   "source": [
    "В таблице с разбивкой по месяцам всего 611 значений от пользователей из Москвы."
   ]
  },
  {
   "cell_type": "code",
   "execution_count": null,
   "metadata": {},
   "outputs": [],
   "source": [
    "pd.pivot_table(users_merge,index='is_capital',values='revenue',aggfunc=['mean',var1,np.std])"
   ]
  },
  {
   "cell_type": "markdown",
   "metadata": {},
   "source": [
    "Средние выборок почти равны. Дисперсия сопоставима, сигма различается не на много."
   ]
  },
  {
   "cell_type": "markdown",
   "metadata": {},
   "source": [
    "Примем нулевую гипотезу H0 - средняя выручка пользователей из Москвы и из других регионов равна, и альтернативную гипотезу H1 - средняя выручка пользователей из Москвы и из других регионов не равна."
   ]
  },
  {
   "cell_type": "code",
   "execution_count": null,
   "metadata": {},
   "outputs": [],
   "source": [
    "alpha = .05 # критический уровень статистической значимости\n",
    "\n",
    "results = st.ttest_ind(\n",
    "    users_merge[users_merge['is_capital'] == True]['revenue'], \n",
    "    users_merge[users_merge['is_capital'] == False]['revenue'],\n",
    "    equal_var=True) # True - так как дисперсии различаются не сильно\n",
    "\n",
    "print('p-значение: ', results.pvalue)\n",
    "\n",
    "if results.pvalue < alpha:\n",
    "    print(\"Отвергаем нулевую гипотезу\")\n",
    "else:\n",
    "    print(\"Не получилось отвергнуть нулевую гипотезу\") "
   ]
  },
  {
   "cell_type": "markdown",
   "metadata": {},
   "source": [
    "Полученное значение p-value говорит о том, что вероятность получить такое или большее различие случайно чуть больше 5%, хотя средние начение и неодинаковы. Это большая вероятность, чтобы делать вывод о значимом различии между средними.\n",
    "Это означает что мы не можем отвергнуть нулевую гипотезу так как велик шанс случайно получить существующую разницу между средними (1546.7 - 1524.7) при таких выборках. Получается разницы между выручкой от пользователей из Москвы и других городов незначительна. "
   ]
  },
  {
   "cell_type": "code",
   "execution_count": 226,
   "metadata": {},
   "outputs": [
    {
     "name": "stdout",
     "output_type": "stream",
     "text": [
      "p-значение:  nan\n",
      "Не получилось отвергнуть нулевую гипотезу\n"
     ]
    }
   ],
   "source": [
    "def hypo_test(data1,data2,differ):\n",
    "    alpha = .05 # критический уровень статистической значимости\n",
    "    results = st.ttest_ind(data1,data2,equal_var=differ) # True - так как дисперсии различаются не сильно\n",
    "    \n",
    "    print('p-значение: ', results.pvalue)\n",
    "\n",
    "    if results.pvalue < alpha:\n",
    "        print(\"Отвергаем нулевую гипотезу\")\n",
    "    else:\n",
    "        print(\"Не получилось отвергнуть нулевую гипотезу\")\n",
    "    \n",
    "data1  = users_merge[users_merge['is_capital'] == True]['revenue']\n",
    "data2  = users_merge[users_merge['is_capital'] == False]['revenue']\n",
    "\n",
    "hypo_test(data1,data2,False)\n",
    "\n"
   ]
  },
  {
   "cell_type": "markdown",
   "metadata": {},
   "source": [
    "## Итоговый вывод"
   ]
  },
  {
   "cell_type": "markdown",
   "metadata": {},
   "source": [
    "Данные предоставленны в отличном состоянии - требовалось предобработки по минимому.\n",
    "На основе имеющихся данных было не сложно расчитать дополнительные столбцы и выручку.\n",
    "Анализ данных показал что выручка растет за счет пользователей тарифом Smart - к нему подключаются чаще и чаще по нему происходит перелемит.\n",
    "\n",
    "Гипотеза о том что средняя выручка пользователей тарифов «Ультра» и «Смарт» различаются - подтвердилась!\n",
    "Гипотеза о том что средняя выручка пользователей из Москвы отличается от выручки пользователей из других регионов - не подтвердилась!\n",
    "\n",
    "В случае если на рынке есть несколько операторов с различными тарифными планами - рекомендовал бы оператору, для удержания абонентов, закрыть слишком большой разрыв в абон плате между тарифами - создать промежуточный тариф.\n",
    "Необходимость в нем созреет когда станет очевидет предстоящий отток абонентов, которые устанут переплачивать за перелимиты но подключаться к более дорогому Ultra не планируют. "
   ]
  },
  {
   "cell_type": "markdown",
   "metadata": {},
   "source": [
    "Еще много инсайтов можно попробовать покапать в этих данных - например сезон спада или подъёма потребления услуг - для предугадывания нагрузки на сеть или реализаций каких нибудь акций и рекламных компаний."
   ]
  },
  {
   "cell_type": "code",
   "execution_count": null,
   "metadata": {},
   "outputs": [],
   "source": []
  }
 ],
 "metadata": {
  "ExecuteTimeLog": [
   {
    "duration": 1889,
    "start_time": "2022-01-29T07:09:08.527Z"
   },
   {
    "duration": 695,
    "start_time": "2022-01-29T07:09:10.420Z"
   },
   {
    "duration": 18,
    "start_time": "2022-01-29T07:12:10.040Z"
   },
   {
    "duration": 40,
    "start_time": "2022-01-29T07:12:20.163Z"
   },
   {
    "duration": 26,
    "start_time": "2022-01-29T07:12:32.039Z"
   },
   {
    "duration": 18,
    "start_time": "2022-01-29T07:12:36.468Z"
   },
   {
    "duration": 133,
    "start_time": "2022-01-29T07:16:04.346Z"
   },
   {
    "duration": 4,
    "start_time": "2022-01-29T07:34:59.466Z"
   },
   {
    "duration": 541,
    "start_time": "2022-01-29T07:34:59.932Z"
   },
   {
    "duration": 19,
    "start_time": "2022-01-29T07:44:35.022Z"
   },
   {
    "duration": 480,
    "start_time": "2022-01-29T07:45:54.323Z"
   },
   {
    "duration": 35,
    "start_time": "2022-01-29T07:46:05.438Z"
   },
   {
    "duration": 42,
    "start_time": "2022-01-29T08:04:21.694Z"
   },
   {
    "duration": 20,
    "start_time": "2022-01-29T08:04:25.279Z"
   },
   {
    "duration": 35,
    "start_time": "2022-01-29T08:07:17.345Z"
   },
   {
    "duration": 245,
    "start_time": "2022-01-29T08:08:15.071Z"
   },
   {
    "duration": 243,
    "start_time": "2022-01-29T08:08:25.890Z"
   },
   {
    "duration": 236,
    "start_time": "2022-01-29T08:09:38.785Z"
   },
   {
    "duration": 5,
    "start_time": "2022-01-29T08:16:47.368Z"
   },
   {
    "duration": 523,
    "start_time": "2022-01-29T08:16:47.736Z"
   },
   {
    "duration": 29,
    "start_time": "2022-01-29T08:16:49.641Z"
   },
   {
    "duration": 347,
    "start_time": "2022-01-29T08:16:50.810Z"
   },
   {
    "duration": 56,
    "start_time": "2022-01-29T08:16:52.506Z"
   },
   {
    "duration": 241,
    "start_time": "2022-01-29T08:16:53.272Z"
   },
   {
    "duration": 23,
    "start_time": "2022-01-29T08:17:01.682Z"
   },
   {
    "duration": 20,
    "start_time": "2022-01-29T08:17:05.710Z"
   },
   {
    "duration": 242,
    "start_time": "2022-01-29T08:35:07.277Z"
   },
   {
    "duration": 16,
    "start_time": "2022-01-29T08:39:28.149Z"
   },
   {
    "duration": 311,
    "start_time": "2022-01-29T08:39:53.778Z"
   },
   {
    "duration": 23,
    "start_time": "2022-01-29T08:41:48.735Z"
   },
   {
    "duration": 17,
    "start_time": "2022-01-29T08:43:03.236Z"
   },
   {
    "duration": 6587,
    "start_time": "2022-01-29T11:18:37.661Z"
   },
   {
    "duration": 6,
    "start_time": "2022-01-29T11:18:58.702Z"
   },
   {
    "duration": 10,
    "start_time": "2022-01-29T11:19:12.178Z"
   },
   {
    "duration": 19,
    "start_time": "2022-01-29T11:19:21.925Z"
   },
   {
    "duration": 31,
    "start_time": "2022-01-29T11:22:08.588Z"
   },
   {
    "duration": 16,
    "start_time": "2022-01-29T11:22:14.344Z"
   },
   {
    "duration": 25,
    "start_time": "2022-01-29T11:26:01.393Z"
   },
   {
    "duration": 278,
    "start_time": "2022-01-29T11:28:48.840Z"
   },
   {
    "duration": 308,
    "start_time": "2022-01-29T11:28:59.332Z"
   },
   {
    "duration": 15,
    "start_time": "2022-01-29T11:29:10.456Z"
   },
   {
    "duration": 19,
    "start_time": "2022-01-29T11:29:16.192Z"
   },
   {
    "duration": 256,
    "start_time": "2022-01-29T11:31:01.164Z"
   },
   {
    "duration": 24,
    "start_time": "2022-01-29T11:31:10.915Z"
   },
   {
    "duration": 15,
    "start_time": "2022-01-29T11:31:16.342Z"
   },
   {
    "duration": 9,
    "start_time": "2022-01-29T11:37:24.686Z"
   },
   {
    "duration": 10,
    "start_time": "2022-01-29T11:37:46.607Z"
   },
   {
    "duration": 9,
    "start_time": "2022-01-29T11:47:46.172Z"
   },
   {
    "duration": 15,
    "start_time": "2022-01-29T11:49:41.151Z"
   },
   {
    "duration": 19,
    "start_time": "2022-01-29T13:49:25.361Z"
   },
   {
    "duration": 20,
    "start_time": "2022-01-29T13:49:55.717Z"
   },
   {
    "duration": 23,
    "start_time": "2022-01-29T13:50:07.702Z"
   },
   {
    "duration": 24,
    "start_time": "2022-01-29T13:50:32.906Z"
   },
   {
    "duration": 15,
    "start_time": "2022-01-29T14:08:23.991Z"
   },
   {
    "duration": 25,
    "start_time": "2022-01-29T18:05:39.629Z"
   },
   {
    "duration": 30,
    "start_time": "2022-01-29T18:15:57.722Z"
   },
   {
    "duration": 13,
    "start_time": "2022-01-29T18:16:09.190Z"
   },
   {
    "duration": 14,
    "start_time": "2022-01-29T18:16:16.085Z"
   },
   {
    "duration": 239,
    "start_time": "2022-01-29T18:16:28.965Z"
   },
   {
    "duration": 5,
    "start_time": "2022-01-29T18:16:37.232Z"
   },
   {
    "duration": 506,
    "start_time": "2022-01-29T18:16:37.500Z"
   },
   {
    "duration": 27,
    "start_time": "2022-01-29T18:16:39.249Z"
   },
   {
    "duration": 38,
    "start_time": "2022-01-29T18:16:39.450Z"
   },
   {
    "duration": 16,
    "start_time": "2022-01-29T18:16:39.661Z"
   },
   {
    "duration": 19,
    "start_time": "2022-01-29T18:16:39.862Z"
   },
   {
    "duration": 23,
    "start_time": "2022-01-29T18:16:40.252Z"
   },
   {
    "duration": 18,
    "start_time": "2022-01-29T18:16:40.462Z"
   },
   {
    "duration": 8,
    "start_time": "2022-01-29T18:16:40.648Z"
   },
   {
    "duration": 28,
    "start_time": "2022-01-29T18:16:40.843Z"
   },
   {
    "duration": 21,
    "start_time": "2022-01-29T18:16:41.460Z"
   },
   {
    "duration": 15,
    "start_time": "2022-01-29T18:16:41.664Z"
   },
   {
    "duration": 24,
    "start_time": "2022-01-29T18:16:41.859Z"
   },
   {
    "duration": 12,
    "start_time": "2022-01-29T18:16:42.458Z"
   },
   {
    "duration": 12,
    "start_time": "2022-01-29T18:16:42.632Z"
   },
   {
    "duration": 9,
    "start_time": "2022-01-29T18:16:43.358Z"
   },
   {
    "duration": 16,
    "start_time": "2022-01-29T18:16:43.615Z"
   },
   {
    "duration": 30,
    "start_time": "2022-01-29T18:16:45.276Z"
   },
   {
    "duration": 13,
    "start_time": "2022-01-29T18:16:46.419Z"
   },
   {
    "duration": 231,
    "start_time": "2022-01-29T18:18:36.513Z"
   },
   {
    "duration": 263,
    "start_time": "2022-01-29T18:19:06.715Z"
   },
   {
    "duration": 233,
    "start_time": "2022-01-29T18:19:23.678Z"
   },
   {
    "duration": 228,
    "start_time": "2022-01-29T18:19:56.424Z"
   },
   {
    "duration": 11,
    "start_time": "2022-01-29T18:20:58.256Z"
   },
   {
    "duration": 38,
    "start_time": "2022-01-29T18:21:04.312Z"
   },
   {
    "duration": 252,
    "start_time": "2022-01-29T18:22:16.462Z"
   },
   {
    "duration": 243,
    "start_time": "2022-01-29T18:22:29.557Z"
   },
   {
    "duration": 245,
    "start_time": "2022-01-29T18:23:09.813Z"
   },
   {
    "duration": 525,
    "start_time": "2022-01-29T18:23:24.212Z"
   },
   {
    "duration": 13,
    "start_time": "2022-01-29T18:23:32.398Z"
   },
   {
    "duration": 39,
    "start_time": "2022-01-29T18:23:57.820Z"
   },
   {
    "duration": 22,
    "start_time": "2022-01-29T18:24:03.835Z"
   },
   {
    "duration": 38,
    "start_time": "2022-01-29T18:24:58.399Z"
   },
   {
    "duration": 49,
    "start_time": "2022-01-29T18:25:47.849Z"
   },
   {
    "duration": 348,
    "start_time": "2022-01-29T18:30:31.528Z"
   },
   {
    "duration": 239,
    "start_time": "2022-01-29T18:30:36.245Z"
   },
   {
    "duration": 262,
    "start_time": "2022-01-29T18:31:09.551Z"
   },
   {
    "duration": 99,
    "start_time": "2022-01-29T18:31:18.840Z"
   },
   {
    "duration": 61,
    "start_time": "2022-01-29T18:33:58.956Z"
   },
   {
    "duration": 60,
    "start_time": "2022-01-29T18:34:24.475Z"
   },
   {
    "duration": 371,
    "start_time": "2022-01-29T18:35:02.946Z"
   },
   {
    "duration": 119,
    "start_time": "2022-01-29T18:35:18.726Z"
   },
   {
    "duration": 15,
    "start_time": "2022-01-29T18:36:17.249Z"
   },
   {
    "duration": 23,
    "start_time": "2022-01-29T18:38:16.329Z"
   },
   {
    "duration": 327,
    "start_time": "2022-01-29T18:43:05.366Z"
   },
   {
    "duration": 580,
    "start_time": "2022-01-29T18:43:24.993Z"
   },
   {
    "duration": 560,
    "start_time": "2022-01-29T18:43:56.291Z"
   },
   {
    "duration": 502,
    "start_time": "2022-01-29T18:44:48.994Z"
   },
   {
    "duration": 571,
    "start_time": "2022-01-29T18:45:05.471Z"
   },
   {
    "duration": 566,
    "start_time": "2022-01-29T18:46:40.691Z"
   },
   {
    "duration": 52346,
    "start_time": "2022-01-29T18:48:13.856Z"
   },
   {
    "duration": -574,
    "start_time": "2022-01-29T18:49:06.779Z"
   },
   {
    "duration": 7,
    "start_time": "2022-01-29T18:49:08.365Z"
   },
   {
    "duration": 10,
    "start_time": "2022-01-29T18:49:10.324Z"
   },
   {
    "duration": 541,
    "start_time": "2022-01-29T18:49:13.060Z"
   },
   {
    "duration": 487,
    "start_time": "2022-01-29T18:49:44.366Z"
   },
   {
    "duration": 438,
    "start_time": "2022-01-29T18:49:50.293Z"
   },
   {
    "duration": 92,
    "start_time": "2022-01-29T18:58:09.106Z"
   },
   {
    "duration": 378,
    "start_time": "2022-01-29T18:58:31.294Z"
   },
   {
    "duration": 69,
    "start_time": "2022-01-29T18:58:35.813Z"
   },
   {
    "duration": 83,
    "start_time": "2022-01-29T18:58:59.084Z"
   },
   {
    "duration": 6,
    "start_time": "2022-01-29T19:01:46.420Z"
   },
   {
    "duration": 135,
    "start_time": "2022-01-29T19:03:38.392Z"
   },
   {
    "duration": 74,
    "start_time": "2022-01-29T19:03:56.682Z"
   },
   {
    "duration": 6,
    "start_time": "2022-01-29T19:04:02.692Z"
   },
   {
    "duration": 24,
    "start_time": "2022-01-29T19:04:08.013Z"
   },
   {
    "duration": 78,
    "start_time": "2022-01-29T19:04:19.615Z"
   },
   {
    "duration": 24,
    "start_time": "2022-01-29T19:04:20.614Z"
   },
   {
    "duration": 73,
    "start_time": "2022-01-29T19:05:06.326Z"
   },
   {
    "duration": 3,
    "start_time": "2022-01-29T19:05:06.649Z"
   },
   {
    "duration": 4,
    "start_time": "2022-01-29T19:05:14.241Z"
   },
   {
    "duration": 73,
    "start_time": "2022-01-29T19:05:20.820Z"
   },
   {
    "duration": 25,
    "start_time": "2022-01-29T19:05:21.579Z"
   },
   {
    "duration": 7,
    "start_time": "2022-01-29T19:06:01.630Z"
   },
   {
    "duration": 69,
    "start_time": "2022-01-29T19:11:08.031Z"
   },
   {
    "duration": 6,
    "start_time": "2022-01-29T19:11:08.938Z"
   },
   {
    "duration": 21,
    "start_time": "2022-01-29T19:12:32.659Z"
   },
   {
    "duration": 100,
    "start_time": "2022-01-29T19:12:52.574Z"
   },
   {
    "duration": 70,
    "start_time": "2022-01-29T19:12:58.409Z"
   },
   {
    "duration": 4,
    "start_time": "2022-01-29T19:13:00.348Z"
   },
   {
    "duration": 229,
    "start_time": "2022-01-29T19:13:27.515Z"
   },
   {
    "duration": 85,
    "start_time": "2022-01-29T19:13:31.708Z"
   },
   {
    "duration": 13,
    "start_time": "2022-01-29T19:13:34.224Z"
   },
   {
    "duration": 5,
    "start_time": "2022-01-29T19:13:36.336Z"
   },
   {
    "duration": 1641,
    "start_time": "2022-01-29T19:14:28.332Z"
   },
   {
    "duration": 119,
    "start_time": "2022-01-29T19:14:47.265Z"
   },
   {
    "duration": 9,
    "start_time": "2022-01-29T19:14:54.326Z"
   },
   {
    "duration": 85,
    "start_time": "2022-01-29T19:16:22.223Z"
   },
   {
    "duration": 5,
    "start_time": "2022-01-29T19:16:46.428Z"
   },
   {
    "duration": 5,
    "start_time": "2022-01-29T19:16:47.188Z"
   },
   {
    "duration": 21,
    "start_time": "2022-01-29T19:17:02.557Z"
   },
   {
    "duration": 8,
    "start_time": "2022-01-29T19:17:17.548Z"
   },
   {
    "duration": 45,
    "start_time": "2022-01-29T19:20:50.451Z"
   },
   {
    "duration": 5,
    "start_time": "2022-01-29T19:20:56.572Z"
   },
   {
    "duration": 5,
    "start_time": "2022-01-29T19:20:57.172Z"
   },
   {
    "duration": 6,
    "start_time": "2022-01-29T19:20:58.224Z"
   },
   {
    "duration": 10,
    "start_time": "2022-01-29T19:21:02.888Z"
   },
   {
    "duration": 257,
    "start_time": "2022-01-29T19:22:46.810Z"
   },
   {
    "duration": 107,
    "start_time": "2022-01-29T19:22:58.185Z"
   },
   {
    "duration": 22,
    "start_time": "2022-01-29T19:23:22.776Z"
   },
   {
    "duration": 60,
    "start_time": "2022-01-29T19:26:27.225Z"
   },
   {
    "duration": 7,
    "start_time": "2022-01-29T19:26:33.049Z"
   },
   {
    "duration": 4,
    "start_time": "2022-01-29T19:26:37.721Z"
   },
   {
    "duration": 6,
    "start_time": "2022-01-29T19:26:38.247Z"
   },
   {
    "duration": 59,
    "start_time": "2022-01-29T19:26:39.188Z"
   },
   {
    "duration": 7,
    "start_time": "2022-01-29T19:26:41.306Z"
   },
   {
    "duration": 248,
    "start_time": "2022-01-29T19:30:32.199Z"
   },
   {
    "duration": 6,
    "start_time": "2022-01-29T19:38:59.646Z"
   },
   {
    "duration": 87,
    "start_time": "2022-01-29T19:47:30.670Z"
   },
   {
    "duration": 10,
    "start_time": "2022-01-29T19:52:59.779Z"
   },
   {
    "duration": 8,
    "start_time": "2022-01-29T19:53:02.577Z"
   },
   {
    "duration": 23,
    "start_time": "2022-01-29T19:53:14.533Z"
   },
   {
    "duration": 5,
    "start_time": "2022-01-29T19:53:46.677Z"
   },
   {
    "duration": 19,
    "start_time": "2022-01-29T19:53:48.802Z"
   },
   {
    "duration": 13,
    "start_time": "2022-01-29T19:53:57.180Z"
   },
   {
    "duration": 37,
    "start_time": "2022-01-29T19:54:29.559Z"
   },
   {
    "duration": 91,
    "start_time": "2022-01-29T19:54:29.915Z"
   },
   {
    "duration": 9,
    "start_time": "2022-01-29T19:54:34.954Z"
   },
   {
    "duration": 19,
    "start_time": "2022-01-29T19:54:38.022Z"
   },
   {
    "duration": 6,
    "start_time": "2022-01-29T19:54:49.580Z"
   },
   {
    "duration": 4,
    "start_time": "2022-01-29T19:55:02.743Z"
   },
   {
    "duration": 5,
    "start_time": "2022-01-29T19:55:03.968Z"
   },
   {
    "duration": 35,
    "start_time": "2022-01-29T19:55:13.028Z"
   },
   {
    "duration": 85,
    "start_time": "2022-01-29T19:55:13.573Z"
   },
   {
    "duration": 4,
    "start_time": "2022-01-29T19:55:15.207Z"
   },
   {
    "duration": 6,
    "start_time": "2022-01-29T19:55:15.847Z"
   },
   {
    "duration": 6,
    "start_time": "2022-01-29T19:55:45.496Z"
   },
   {
    "duration": 17,
    "start_time": "2022-01-29T19:55:47.555Z"
   },
   {
    "duration": 10,
    "start_time": "2022-01-29T19:56:10.644Z"
   },
   {
    "duration": 12,
    "start_time": "2022-01-29T19:57:10.672Z"
   },
   {
    "duration": 4,
    "start_time": "2022-01-30T05:24:19.250Z"
   },
   {
    "duration": 525,
    "start_time": "2022-01-30T05:24:19.257Z"
   },
   {
    "duration": 32,
    "start_time": "2022-01-30T05:24:19.785Z"
   },
   {
    "duration": 39,
    "start_time": "2022-01-30T05:24:19.820Z"
   },
   {
    "duration": 15,
    "start_time": "2022-01-30T05:24:19.861Z"
   },
   {
    "duration": 26,
    "start_time": "2022-01-30T05:24:19.879Z"
   },
   {
    "duration": 154,
    "start_time": "2022-01-30T05:24:19.908Z"
   },
   {
    "duration": 22,
    "start_time": "2022-01-30T05:24:20.064Z"
   },
   {
    "duration": 17,
    "start_time": "2022-01-30T05:24:20.090Z"
   },
   {
    "duration": 41,
    "start_time": "2022-01-30T05:24:20.110Z"
   },
   {
    "duration": 28,
    "start_time": "2022-01-30T05:24:20.154Z"
   },
   {
    "duration": 87,
    "start_time": "2022-01-30T05:24:20.185Z"
   },
   {
    "duration": 19,
    "start_time": "2022-01-30T05:24:20.274Z"
   },
   {
    "duration": 14,
    "start_time": "2022-01-30T05:24:20.295Z"
   },
   {
    "duration": 57,
    "start_time": "2022-01-30T05:24:20.311Z"
   },
   {
    "duration": 52,
    "start_time": "2022-01-30T05:24:20.370Z"
   },
   {
    "duration": 31,
    "start_time": "2022-01-30T05:24:20.424Z"
   },
   {
    "duration": 15,
    "start_time": "2022-01-30T05:24:20.457Z"
   },
   {
    "duration": 11,
    "start_time": "2022-01-30T05:24:20.475Z"
   },
   {
    "duration": 8,
    "start_time": "2022-01-30T05:24:20.488Z"
   },
   {
    "duration": 455,
    "start_time": "2022-01-30T05:24:20.498Z"
   },
   {
    "duration": 25,
    "start_time": "2022-01-30T05:24:20.956Z"
   },
   {
    "duration": 21,
    "start_time": "2022-01-30T05:24:20.985Z"
   },
   {
    "duration": 54,
    "start_time": "2022-01-30T05:24:21.009Z"
   },
   {
    "duration": 31,
    "start_time": "2022-01-30T05:24:21.066Z"
   },
   {
    "duration": 116,
    "start_time": "2022-01-30T05:24:21.100Z"
   },
   {
    "duration": 4,
    "start_time": "2022-01-30T05:24:21.223Z"
   },
   {
    "duration": 22,
    "start_time": "2022-01-30T05:24:21.230Z"
   },
   {
    "duration": 14,
    "start_time": "2022-01-30T05:24:21.254Z"
   },
   {
    "duration": 12,
    "start_time": "2022-01-30T05:24:25.475Z"
   },
   {
    "duration": 12,
    "start_time": "2022-01-30T05:24:25.791Z"
   },
   {
    "duration": 15,
    "start_time": "2022-01-30T05:34:51.941Z"
   },
   {
    "duration": 21,
    "start_time": "2022-01-30T05:35:50.725Z"
   },
   {
    "duration": 16,
    "start_time": "2022-01-30T05:35:54.271Z"
   },
   {
    "duration": 5,
    "start_time": "2022-01-30T05:36:44.817Z"
   },
   {
    "duration": 14,
    "start_time": "2022-01-30T05:36:50.064Z"
   },
   {
    "duration": 33,
    "start_time": "2022-01-30T05:39:03.098Z"
   },
   {
    "duration": 18,
    "start_time": "2022-01-30T05:39:10.275Z"
   },
   {
    "duration": 421,
    "start_time": "2022-01-30T05:40:34.165Z"
   },
   {
    "duration": 33,
    "start_time": "2022-01-30T05:40:51.914Z"
   },
   {
    "duration": 236,
    "start_time": "2022-01-30T05:40:52.426Z"
   },
   {
    "duration": 4,
    "start_time": "2022-01-30T05:41:05.170Z"
   },
   {
    "duration": 19,
    "start_time": "2022-01-30T05:42:09.310Z"
   },
   {
    "duration": 22,
    "start_time": "2022-01-30T05:42:23.122Z"
   },
   {
    "duration": 15,
    "start_time": "2022-01-30T05:42:23.613Z"
   },
   {
    "duration": 31,
    "start_time": "2022-01-30T05:42:24.186Z"
   },
   {
    "duration": 4,
    "start_time": "2022-01-30T05:42:25.086Z"
   },
   {
    "duration": 241,
    "start_time": "2022-01-30T05:42:25.449Z"
   },
   {
    "duration": 19,
    "start_time": "2022-01-30T05:42:25.939Z"
   },
   {
    "duration": 20,
    "start_time": "2022-01-30T05:42:37.683Z"
   },
   {
    "duration": 16,
    "start_time": "2022-01-30T05:42:38.072Z"
   },
   {
    "duration": 31,
    "start_time": "2022-01-30T05:42:40.564Z"
   },
   {
    "duration": 4,
    "start_time": "2022-01-30T05:42:41.193Z"
   },
   {
    "duration": 6,
    "start_time": "2022-01-30T05:42:41.663Z"
   },
   {
    "duration": 13,
    "start_time": "2022-01-30T05:42:42.727Z"
   },
   {
    "duration": 4,
    "start_time": "2022-01-30T05:42:49.460Z"
   },
   {
    "duration": 6,
    "start_time": "2022-01-30T05:42:49.950Z"
   },
   {
    "duration": 21,
    "start_time": "2022-01-30T05:42:50.409Z"
   },
   {
    "duration": 20,
    "start_time": "2022-01-30T05:42:52.776Z"
   },
   {
    "duration": 15,
    "start_time": "2022-01-30T05:42:53.004Z"
   },
   {
    "duration": 31,
    "start_time": "2022-01-30T05:42:53.448Z"
   },
   {
    "duration": 3,
    "start_time": "2022-01-30T05:42:54.106Z"
   },
   {
    "duration": 6,
    "start_time": "2022-01-30T05:42:54.364Z"
   },
   {
    "duration": 15,
    "start_time": "2022-01-30T05:42:54.875Z"
   },
   {
    "duration": 15,
    "start_time": "2022-01-30T05:44:21.848Z"
   },
   {
    "duration": 13,
    "start_time": "2022-01-30T05:44:26.537Z"
   },
   {
    "duration": 5,
    "start_time": "2022-01-30T05:44:33.276Z"
   },
   {
    "duration": 12,
    "start_time": "2022-01-30T05:44:34.890Z"
   },
   {
    "duration": 6,
    "start_time": "2022-01-30T05:46:10.952Z"
   },
   {
    "duration": 12,
    "start_time": "2022-01-30T05:46:16.463Z"
   },
   {
    "duration": 6,
    "start_time": "2022-01-30T05:46:25.519Z"
   },
   {
    "duration": 12,
    "start_time": "2022-01-30T05:46:25.856Z"
   },
   {
    "duration": 5,
    "start_time": "2022-01-30T05:46:39.100Z"
   },
   {
    "duration": 13,
    "start_time": "2022-01-30T05:46:39.759Z"
   },
   {
    "duration": 30,
    "start_time": "2022-01-30T05:48:11.182Z"
   },
   {
    "duration": 80,
    "start_time": "2022-01-30T05:48:11.525Z"
   },
   {
    "duration": 4,
    "start_time": "2022-01-30T05:48:11.929Z"
   },
   {
    "duration": 229,
    "start_time": "2022-01-30T05:48:12.729Z"
   },
   {
    "duration": 13,
    "start_time": "2022-01-30T05:48:14.598Z"
   },
   {
    "duration": 7,
    "start_time": "2022-01-30T05:48:27.149Z"
   },
   {
    "duration": 13,
    "start_time": "2022-01-30T05:48:27.921Z"
   },
   {
    "duration": 32,
    "start_time": "2022-01-30T06:10:17.216Z"
   },
   {
    "duration": 87,
    "start_time": "2022-01-30T06:10:17.640Z"
   },
   {
    "duration": 4,
    "start_time": "2022-01-30T06:10:20.559Z"
   },
   {
    "duration": 10,
    "start_time": "2022-01-30T06:10:21.403Z"
   },
   {
    "duration": 12,
    "start_time": "2022-01-30T06:10:22.106Z"
   },
   {
    "duration": 4,
    "start_time": "2022-01-30T06:12:34.664Z"
   },
   {
    "duration": 21,
    "start_time": "2022-01-30T06:12:43.451Z"
   },
   {
    "duration": 15,
    "start_time": "2022-01-30T06:12:43.701Z"
   },
   {
    "duration": 34,
    "start_time": "2022-01-30T06:12:43.900Z"
   },
   {
    "duration": 6,
    "start_time": "2022-01-30T06:12:44.137Z"
   },
   {
    "duration": 6,
    "start_time": "2022-01-30T06:12:44.527Z"
   },
   {
    "duration": 12,
    "start_time": "2022-01-30T06:12:44.905Z"
   },
   {
    "duration": 13,
    "start_time": "2022-01-30T06:13:42.927Z"
   },
   {
    "duration": 20,
    "start_time": "2022-01-30T06:13:47.686Z"
   },
   {
    "duration": 9,
    "start_time": "2022-01-30T06:14:48.075Z"
   },
   {
    "duration": 7,
    "start_time": "2022-01-30T06:15:11.097Z"
   },
   {
    "duration": 268,
    "start_time": "2022-01-30T06:15:21.586Z"
   },
   {
    "duration": 235,
    "start_time": "2022-01-30T06:15:26.804Z"
   },
   {
    "duration": 7,
    "start_time": "2022-01-30T06:15:43.107Z"
   },
   {
    "duration": 15,
    "start_time": "2022-01-30T06:16:22.329Z"
   },
   {
    "duration": 13,
    "start_time": "2022-01-30T06:17:05.324Z"
   },
   {
    "duration": 15,
    "start_time": "2022-01-30T06:24:52.336Z"
   },
   {
    "duration": 13,
    "start_time": "2022-01-30T06:24:53.172Z"
   },
   {
    "duration": 7,
    "start_time": "2022-01-30T06:25:03.715Z"
   },
   {
    "duration": 18,
    "start_time": "2022-01-30T06:31:01.745Z"
   },
   {
    "duration": 16,
    "start_time": "2022-01-30T06:31:52.402Z"
   },
   {
    "duration": 16,
    "start_time": "2022-01-30T06:31:52.915Z"
   },
   {
    "duration": 13,
    "start_time": "2022-01-30T06:31:59.445Z"
   },
   {
    "duration": 12,
    "start_time": "2022-01-30T06:32:36.192Z"
   },
   {
    "duration": 69,
    "start_time": "2022-01-30T06:32:56.450Z"
   },
   {
    "duration": 18,
    "start_time": "2022-01-30T06:33:45.042Z"
   },
   {
    "duration": 417,
    "start_time": "2022-01-30T08:50:10.480Z"
   },
   {
    "duration": 24,
    "start_time": "2022-01-30T08:50:17.463Z"
   },
   {
    "duration": 285,
    "start_time": "2022-01-30T08:50:39.228Z"
   },
   {
    "duration": 289,
    "start_time": "2022-01-30T08:55:06.902Z"
   },
   {
    "duration": 255,
    "start_time": "2022-01-30T08:57:23.450Z"
   },
   {
    "duration": 33,
    "start_time": "2022-01-30T08:57:31.305Z"
   },
   {
    "duration": 21,
    "start_time": "2022-01-30T08:57:34.734Z"
   },
   {
    "duration": 282,
    "start_time": "2022-01-30T08:57:53.956Z"
   },
   {
    "duration": 235,
    "start_time": "2022-01-30T08:58:04.683Z"
   },
   {
    "duration": 8,
    "start_time": "2022-01-30T08:58:17.237Z"
   },
   {
    "duration": 15,
    "start_time": "2022-01-30T08:58:20.210Z"
   },
   {
    "duration": 41,
    "start_time": "2022-01-30T09:18:15.027Z"
   },
   {
    "duration": 17,
    "start_time": "2022-01-30T09:18:18.740Z"
   },
   {
    "duration": 6,
    "start_time": "2022-01-30T09:18:43.505Z"
   },
   {
    "duration": 18,
    "start_time": "2022-01-30T09:18:44.406Z"
   },
   {
    "duration": 252,
    "start_time": "2022-01-30T09:23:21.152Z"
   },
   {
    "duration": 4,
    "start_time": "2022-01-30T09:23:29.339Z"
   },
   {
    "duration": 258,
    "start_time": "2022-01-30T09:23:33.084Z"
   },
   {
    "duration": 425,
    "start_time": "2022-01-30T09:24:22.792Z"
   },
   {
    "duration": 280,
    "start_time": "2022-01-30T09:26:51.988Z"
   },
   {
    "duration": 8,
    "start_time": "2022-01-30T09:26:58.921Z"
   },
   {
    "duration": 21,
    "start_time": "2022-01-30T09:27:02.852Z"
   },
   {
    "duration": 33,
    "start_time": "2022-01-30T09:28:04.181Z"
   },
   {
    "duration": 69,
    "start_time": "2022-01-30T09:28:04.430Z"
   },
   {
    "duration": 4,
    "start_time": "2022-01-30T09:28:04.640Z"
   },
   {
    "duration": 9,
    "start_time": "2022-01-30T09:28:04.874Z"
   },
   {
    "duration": 11,
    "start_time": "2022-01-30T09:28:05.244Z"
   },
   {
    "duration": 7,
    "start_time": "2022-01-30T09:30:24.989Z"
   },
   {
    "duration": 12,
    "start_time": "2022-01-30T09:30:25.630Z"
   },
   {
    "duration": 244,
    "start_time": "2022-01-30T09:33:19.435Z"
   },
   {
    "duration": 99,
    "start_time": "2022-01-30T09:33:24.991Z"
   },
   {
    "duration": 25,
    "start_time": "2022-01-30T09:33:35.588Z"
   },
   {
    "duration": 103,
    "start_time": "2022-01-30T09:34:22.213Z"
   },
   {
    "duration": 20,
    "start_time": "2022-01-30T09:34:22.886Z"
   },
   {
    "duration": 76,
    "start_time": "2022-01-30T09:35:24.331Z"
   },
   {
    "duration": 4,
    "start_time": "2022-01-30T09:35:26.329Z"
   },
   {
    "duration": 9,
    "start_time": "2022-01-30T09:35:26.914Z"
   },
   {
    "duration": 7183,
    "start_time": "2022-01-30T09:35:27.586Z"
   },
   {
    "duration": -528,
    "start_time": "2022-01-30T09:35:35.301Z"
   },
   {
    "duration": 5,
    "start_time": "2022-01-30T09:35:51.932Z"
   },
   {
    "duration": 6294,
    "start_time": "2022-01-30T09:35:52.994Z"
   },
   {
    "duration": 11,
    "start_time": "2022-01-30T09:36:05.926Z"
   },
   {
    "duration": 30,
    "start_time": "2022-01-30T09:37:09.557Z"
   },
   {
    "duration": 95,
    "start_time": "2022-01-30T09:37:09.590Z"
   },
   {
    "duration": 75,
    "start_time": "2022-01-30T09:37:09.688Z"
   },
   {
    "duration": 5,
    "start_time": "2022-01-30T09:37:09.946Z"
   },
   {
    "duration": 7,
    "start_time": "2022-01-30T09:37:10.323Z"
   },
   {
    "duration": 11,
    "start_time": "2022-01-30T09:37:10.690Z"
   },
   {
    "duration": 8,
    "start_time": "2022-01-30T09:38:25.645Z"
   },
   {
    "duration": 11,
    "start_time": "2022-01-30T09:38:26.123Z"
   },
   {
    "duration": 4,
    "start_time": "2022-01-30T09:38:41.102Z"
   },
   {
    "duration": 13,
    "start_time": "2022-01-30T09:38:48.189Z"
   },
   {
    "duration": 35,
    "start_time": "2022-01-30T09:39:03.822Z"
   },
   {
    "duration": 94,
    "start_time": "2022-01-30T09:39:04.239Z"
   },
   {
    "duration": 63,
    "start_time": "2022-01-30T09:39:04.634Z"
   },
   {
    "duration": 5,
    "start_time": "2022-01-30T09:39:05.012Z"
   },
   {
    "duration": 8,
    "start_time": "2022-01-30T09:39:05.395Z"
   },
   {
    "duration": 10,
    "start_time": "2022-01-30T09:39:06.029Z"
   },
   {
    "duration": 5,
    "start_time": "2022-01-30T09:39:06.935Z"
   },
   {
    "duration": 20,
    "start_time": "2022-01-30T09:39:21.509Z"
   },
   {
    "duration": 34,
    "start_time": "2022-01-30T09:39:21.737Z"
   },
   {
    "duration": 7,
    "start_time": "2022-01-30T09:39:21.955Z"
   },
   {
    "duration": 6,
    "start_time": "2022-01-30T09:39:22.141Z"
   },
   {
    "duration": 13,
    "start_time": "2022-01-30T09:39:22.369Z"
   },
   {
    "duration": 13,
    "start_time": "2022-01-30T09:39:22.605Z"
   },
   {
    "duration": 6,
    "start_time": "2022-01-30T09:39:23.386Z"
   },
   {
    "duration": 3,
    "start_time": "2022-01-30T09:40:41.939Z"
   },
   {
    "duration": -528,
    "start_time": "2022-01-30T09:40:50.734Z"
   },
   {
    "duration": -529,
    "start_time": "2022-01-30T09:40:50.737Z"
   },
   {
    "duration": -531,
    "start_time": "2022-01-30T09:40:50.741Z"
   },
   {
    "duration": -532,
    "start_time": "2022-01-30T09:40:50.744Z"
   },
   {
    "duration": -535,
    "start_time": "2022-01-30T09:40:50.748Z"
   },
   {
    "duration": -536,
    "start_time": "2022-01-30T09:40:50.751Z"
   },
   {
    "duration": -520,
    "start_time": "2022-01-30T09:41:12.694Z"
   },
   {
    "duration": -520,
    "start_time": "2022-01-30T09:41:12.696Z"
   },
   {
    "duration": -520,
    "start_time": "2022-01-30T09:41:12.698Z"
   },
   {
    "duration": -521,
    "start_time": "2022-01-30T09:41:12.701Z"
   },
   {
    "duration": -521,
    "start_time": "2022-01-30T09:41:12.703Z"
   },
   {
    "duration": -521,
    "start_time": "2022-01-30T09:41:12.705Z"
   },
   {
    "duration": 17,
    "start_time": "2022-01-30T09:41:17.778Z"
   },
   {
    "duration": 24,
    "start_time": "2022-01-30T09:41:20.353Z"
   },
   {
    "duration": 28,
    "start_time": "2022-01-30T09:41:20.575Z"
   },
   {
    "duration": 7,
    "start_time": "2022-01-30T09:41:20.770Z"
   },
   {
    "duration": 6,
    "start_time": "2022-01-30T09:41:20.945Z"
   },
   {
    "duration": 8,
    "start_time": "2022-01-30T09:41:21.139Z"
   },
   {
    "duration": 21,
    "start_time": "2022-01-30T09:41:21.328Z"
   },
   {
    "duration": 257,
    "start_time": "2022-01-30T09:42:57.199Z"
   },
   {
    "duration": 251,
    "start_time": "2022-01-30T09:43:02.992Z"
   },
   {
    "duration": 17,
    "start_time": "2022-01-30T09:43:14.886Z"
   },
   {
    "duration": 25,
    "start_time": "2022-01-30T09:43:38.488Z"
   },
   {
    "duration": 27,
    "start_time": "2022-01-30T09:46:23.971Z"
   },
   {
    "duration": 40,
    "start_time": "2022-01-30T09:46:24.275Z"
   },
   {
    "duration": 7,
    "start_time": "2022-01-30T09:46:24.592Z"
   },
   {
    "duration": 26,
    "start_time": "2022-01-30T09:46:32.758Z"
   },
   {
    "duration": 33,
    "start_time": "2022-01-30T09:46:33.157Z"
   },
   {
    "duration": 6,
    "start_time": "2022-01-30T09:46:33.745Z"
   },
   {
    "duration": 8,
    "start_time": "2022-01-30T09:46:34.400Z"
   },
   {
    "duration": 7,
    "start_time": "2022-01-30T09:46:35.598Z"
   },
   {
    "duration": 23,
    "start_time": "2022-01-30T09:46:36.419Z"
   },
   {
    "duration": 13,
    "start_time": "2022-01-30T09:46:42.917Z"
   },
   {
    "duration": 24,
    "start_time": "2022-01-30T09:46:43.517Z"
   },
   {
    "duration": 5,
    "start_time": "2022-01-30T09:48:16.257Z"
   },
   {
    "duration": 17,
    "start_time": "2022-01-30T09:48:18.513Z"
   },
   {
    "duration": 7,
    "start_time": "2022-01-30T09:48:18.984Z"
   },
   {
    "duration": 21,
    "start_time": "2022-01-30T09:48:27.389Z"
   },
   {
    "duration": 11,
    "start_time": "2022-01-30T10:01:14.088Z"
   },
   {
    "duration": 9,
    "start_time": "2022-01-30T10:14:38.641Z"
   },
   {
    "duration": 9,
    "start_time": "2022-01-30T10:14:44.028Z"
   },
   {
    "duration": 8,
    "start_time": "2022-01-30T10:14:47.662Z"
   },
   {
    "duration": 265,
    "start_time": "2022-01-30T10:15:00.932Z"
   },
   {
    "duration": 282,
    "start_time": "2022-01-30T10:15:04.418Z"
   },
   {
    "duration": -543,
    "start_time": "2022-01-30T10:15:17.961Z"
   },
   {
    "duration": 4429,
    "start_time": "2022-01-30T10:15:19.673Z"
   },
   {
    "duration": 11,
    "start_time": "2022-01-30T10:15:26.945Z"
   },
   {
    "duration": 5,
    "start_time": "2022-01-30T10:15:33.963Z"
   },
   {
    "duration": 7,
    "start_time": "2022-01-30T10:15:37.421Z"
   },
   {
    "duration": 3913,
    "start_time": "2022-01-30T10:15:48.001Z"
   },
   {
    "duration": 243,
    "start_time": "2022-01-30T10:16:11.280Z"
   },
   {
    "duration": 356,
    "start_time": "2022-01-30T10:16:20.014Z"
   },
   {
    "duration": 6,
    "start_time": "2022-01-30T10:16:24.795Z"
   },
   {
    "duration": 8,
    "start_time": "2022-01-30T10:16:27.875Z"
   },
   {
    "duration": 8,
    "start_time": "2022-01-30T10:16:34.765Z"
   },
   {
    "duration": 8,
    "start_time": "2022-01-30T10:16:54.096Z"
   },
   {
    "duration": 22,
    "start_time": "2022-01-30T10:26:17.851Z"
   },
   {
    "duration": 536,
    "start_time": "2022-01-30T10:26:19.526Z"
   },
   {
    "duration": 25,
    "start_time": "2022-01-30T10:26:20.177Z"
   },
   {
    "duration": 1161,
    "start_time": "2022-01-30T10:26:47.297Z"
   },
   {
    "duration": 7984,
    "start_time": "2022-01-30T10:28:54.227Z"
   },
   {
    "duration": 3723,
    "start_time": "2022-01-30T10:32:05.280Z"
   },
   {
    "duration": 21,
    "start_time": "2022-01-30T10:36:04.867Z"
   },
   {
    "duration": 6,
    "start_time": "2022-01-30T10:36:31.172Z"
   },
   {
    "duration": 603,
    "start_time": "2022-01-30T10:36:31.181Z"
   },
   {
    "duration": 30,
    "start_time": "2022-01-30T10:36:31.787Z"
   },
   {
    "duration": 52,
    "start_time": "2022-01-30T10:36:31.820Z"
   },
   {
    "duration": 16,
    "start_time": "2022-01-30T10:36:31.874Z"
   },
   {
    "duration": 59,
    "start_time": "2022-01-30T10:36:31.893Z"
   },
   {
    "duration": 182,
    "start_time": "2022-01-30T10:36:31.955Z"
   },
   {
    "duration": 41,
    "start_time": "2022-01-30T10:36:32.142Z"
   },
   {
    "duration": 25,
    "start_time": "2022-01-30T10:36:32.188Z"
   },
   {
    "duration": 43,
    "start_time": "2022-01-30T10:36:32.216Z"
   },
   {
    "duration": 40,
    "start_time": "2022-01-30T10:36:32.262Z"
   },
   {
    "duration": 102,
    "start_time": "2022-01-30T10:36:32.305Z"
   },
   {
    "duration": 46,
    "start_time": "2022-01-30T10:36:32.411Z"
   },
   {
    "duration": 41,
    "start_time": "2022-01-30T10:36:32.461Z"
   },
   {
    "duration": 28,
    "start_time": "2022-01-30T10:36:32.506Z"
   },
   {
    "duration": 81,
    "start_time": "2022-01-30T10:36:32.537Z"
   },
   {
    "duration": 36,
    "start_time": "2022-01-30T10:36:32.621Z"
   },
   {
    "duration": 37,
    "start_time": "2022-01-30T10:36:32.660Z"
   },
   {
    "duration": 16,
    "start_time": "2022-01-30T10:36:32.700Z"
   },
   {
    "duration": 37,
    "start_time": "2022-01-30T10:36:32.719Z"
   },
   {
    "duration": 599,
    "start_time": "2022-01-30T10:36:32.759Z"
   },
   {
    "duration": 34,
    "start_time": "2022-01-30T10:36:33.362Z"
   },
   {
    "duration": 58,
    "start_time": "2022-01-30T10:36:33.405Z"
   },
   {
    "duration": 23,
    "start_time": "2022-01-30T10:36:33.468Z"
   },
   {
    "duration": 60,
    "start_time": "2022-01-30T10:36:33.494Z"
   },
   {
    "duration": 129,
    "start_time": "2022-01-30T10:36:33.558Z"
   },
   {
    "duration": 83,
    "start_time": "2022-01-30T10:36:33.690Z"
   },
   {
    "duration": 4,
    "start_time": "2022-01-30T10:36:33.777Z"
   },
   {
    "duration": 11,
    "start_time": "2022-01-30T10:36:33.784Z"
   },
   {
    "duration": 10,
    "start_time": "2022-01-30T10:36:33.798Z"
   },
   {
    "duration": 42,
    "start_time": "2022-01-30T10:36:33.811Z"
   },
   {
    "duration": 66,
    "start_time": "2022-01-30T10:36:33.858Z"
   },
   {
    "duration": 44,
    "start_time": "2022-01-30T10:36:33.927Z"
   },
   {
    "duration": 8,
    "start_time": "2022-01-30T10:36:33.974Z"
   },
   {
    "duration": 19,
    "start_time": "2022-01-30T10:36:33.985Z"
   },
   {
    "duration": 42,
    "start_time": "2022-01-30T10:36:34.008Z"
   },
   {
    "duration": 18,
    "start_time": "2022-01-30T10:36:34.053Z"
   },
   {
    "duration": 33,
    "start_time": "2022-01-30T10:36:34.074Z"
   },
   {
    "duration": 65,
    "start_time": "2022-01-30T10:36:34.111Z"
   },
   {
    "duration": 9,
    "start_time": "2022-01-30T10:36:34.180Z"
   },
   {
    "duration": 15,
    "start_time": "2022-01-30T10:36:34.192Z"
   },
   {
    "duration": 14,
    "start_time": "2022-01-30T10:36:34.210Z"
   },
   {
    "duration": 25,
    "start_time": "2022-01-30T10:36:34.250Z"
   },
   {
    "duration": 21,
    "start_time": "2022-01-30T10:36:34.278Z"
   },
   {
    "duration": 6,
    "start_time": "2022-01-30T10:36:34.302Z"
   },
   {
    "duration": 34,
    "start_time": "2022-01-30T10:36:34.347Z"
   },
   {
    "duration": 4153,
    "start_time": "2022-01-30T10:36:34.384Z"
   },
   {
    "duration": 34,
    "start_time": "2022-01-30T10:36:38.540Z"
   },
   {
    "duration": 6706,
    "start_time": "2022-01-30T10:39:25.381Z"
   },
   {
    "duration": 6824,
    "start_time": "2022-01-30T10:39:51.195Z"
   },
   {
    "duration": 431,
    "start_time": "2022-01-30T10:40:36.988Z"
   },
   {
    "duration": 32,
    "start_time": "2022-01-30T10:50:42.800Z"
   },
   {
    "duration": 37,
    "start_time": "2022-01-30T10:52:06.851Z"
   },
   {
    "duration": 1246,
    "start_time": "2022-01-30T10:53:58.643Z"
   },
   {
    "duration": 17322,
    "start_time": "2022-01-30T10:54:24.421Z"
   },
   {
    "duration": 14,
    "start_time": "2022-01-30T10:54:47.179Z"
   },
   {
    "duration": 18,
    "start_time": "2022-01-30T10:55:46.963Z"
   },
   {
    "duration": 709,
    "start_time": "2022-01-30T10:56:13.122Z"
   },
   {
    "duration": 10,
    "start_time": "2022-01-30T10:56:18.066Z"
   },
   {
    "duration": 251,
    "start_time": "2022-01-30T10:56:35.134Z"
   },
   {
    "duration": 491,
    "start_time": "2022-01-30T10:56:40.296Z"
   },
   {
    "duration": 739,
    "start_time": "2022-01-30T10:57:49.588Z"
   },
   {
    "duration": 1178,
    "start_time": "2022-01-30T10:58:10.131Z"
   },
   {
    "duration": 10,
    "start_time": "2022-01-30T10:58:17.305Z"
   },
   {
    "duration": 9,
    "start_time": "2022-01-30T10:58:37.795Z"
   },
   {
    "duration": 727,
    "start_time": "2022-01-30T10:58:57.596Z"
   },
   {
    "duration": 476,
    "start_time": "2022-01-30T10:59:14.854Z"
   },
   {
    "duration": 1178,
    "start_time": "2022-01-30T11:00:13.281Z"
   },
   {
    "duration": 8,
    "start_time": "2022-01-30T11:00:31.237Z"
   },
   {
    "duration": 258,
    "start_time": "2022-01-30T14:26:08.617Z"
   },
   {
    "duration": 253,
    "start_time": "2022-01-30T14:27:36.278Z"
   },
   {
    "duration": 14,
    "start_time": "2022-01-30T14:30:18.052Z"
   },
   {
    "duration": 26,
    "start_time": "2022-01-30T14:30:24.336Z"
   },
   {
    "duration": 12,
    "start_time": "2022-01-30T14:35:56.931Z"
   },
   {
    "duration": 27,
    "start_time": "2022-01-30T14:35:57.629Z"
   },
   {
    "duration": 25,
    "start_time": "2022-01-30T14:36:10.421Z"
   },
   {
    "duration": 12,
    "start_time": "2022-01-30T14:36:16.165Z"
   },
   {
    "duration": 26,
    "start_time": "2022-01-30T14:36:16.555Z"
   },
   {
    "duration": 1171,
    "start_time": "2022-01-30T14:40:36.205Z"
   },
   {
    "duration": 939,
    "start_time": "2022-01-30T14:41:39.222Z"
   },
   {
    "duration": 29,
    "start_time": "2022-01-30T14:45:58.963Z"
   },
   {
    "duration": 13,
    "start_time": "2022-01-30T14:56:07.058Z"
   },
   {
    "duration": 5,
    "start_time": "2022-01-30T14:56:31.136Z"
   },
   {
    "duration": 12,
    "start_time": "2022-01-30T14:56:34.930Z"
   },
   {
    "duration": 618,
    "start_time": "2022-01-30T15:02:44.320Z"
   },
   {
    "duration": 369,
    "start_time": "2022-01-30T15:03:26.963Z"
   },
   {
    "duration": 7,
    "start_time": "2022-01-30T15:03:38.257Z"
   },
   {
    "duration": 243,
    "start_time": "2022-01-30T15:03:44.584Z"
   },
   {
    "duration": 257,
    "start_time": "2022-01-30T15:03:49.662Z"
   },
   {
    "duration": 7,
    "start_time": "2022-01-30T15:03:56.197Z"
   },
   {
    "duration": 4427,
    "start_time": "2022-01-30T15:04:02.542Z"
   },
   {
    "duration": 6,
    "start_time": "2022-01-30T15:04:09.889Z"
   },
   {
    "duration": 5754,
    "start_time": "2022-01-30T15:04:32.085Z"
   },
   {
    "duration": -687,
    "start_time": "2022-01-30T15:04:38.529Z"
   },
   {
    "duration": 4250,
    "start_time": "2022-01-30T15:05:20.942Z"
   },
   {
    "duration": 4109,
    "start_time": "2022-01-30T15:06:22.593Z"
   },
   {
    "duration": 4247,
    "start_time": "2022-01-30T15:06:58.635Z"
   },
   {
    "duration": 5609,
    "start_time": "2022-01-30T15:07:08.020Z"
   },
   {
    "duration": 4968,
    "start_time": "2022-01-30T15:07:23.506Z"
   },
   {
    "duration": 89,
    "start_time": "2022-01-30T15:08:44.064Z"
   },
   {
    "duration": 4469,
    "start_time": "2022-01-30T15:08:55.047Z"
   },
   {
    "duration": 504,
    "start_time": "2022-01-30T15:09:04.107Z"
   },
   {
    "duration": 568,
    "start_time": "2022-01-30T15:09:38.242Z"
   },
   {
    "duration": 4688,
    "start_time": "2022-01-30T15:10:05.270Z"
   },
   {
    "duration": 6109,
    "start_time": "2022-01-30T15:10:36.775Z"
   },
   {
    "duration": 28,
    "start_time": "2022-01-30T15:10:58.494Z"
   },
   {
    "duration": 15500,
    "start_time": "2022-01-30T15:11:31.297Z"
   },
   {
    "duration": 5015,
    "start_time": "2022-01-30T15:12:25.381Z"
   },
   {
    "duration": 5482,
    "start_time": "2022-01-30T15:13:04.584Z"
   },
   {
    "duration": 5285,
    "start_time": "2022-01-30T15:14:11.847Z"
   },
   {
    "duration": 7,
    "start_time": "2022-01-30T15:14:22.533Z"
   },
   {
    "duration": -668,
    "start_time": "2022-01-30T15:14:38.641Z"
   },
   {
    "duration": 6,
    "start_time": "2022-01-30T15:14:40.528Z"
   },
   {
    "duration": 6,
    "start_time": "2022-01-30T15:14:46.938Z"
   },
   {
    "duration": 260,
    "start_time": "2022-01-30T15:14:56.692Z"
   },
   {
    "duration": 6,
    "start_time": "2022-01-30T15:15:01.650Z"
   },
   {
    "duration": 6,
    "start_time": "2022-01-30T15:15:07.542Z"
   },
   {
    "duration": 242,
    "start_time": "2022-01-30T15:15:48.434Z"
   },
   {
    "duration": 5,
    "start_time": "2022-01-30T15:15:51.929Z"
   },
   {
    "duration": 11,
    "start_time": "2022-01-30T15:15:52.700Z"
   },
   {
    "duration": 6,
    "start_time": "2022-01-30T15:15:53.856Z"
   },
   {
    "duration": 7,
    "start_time": "2022-01-30T15:15:59.386Z"
   },
   {
    "duration": 3485,
    "start_time": "2022-01-30T15:16:13.702Z"
   },
   {
    "duration": 25,
    "start_time": "2022-01-30T15:16:21.640Z"
   },
   {
    "duration": 21,
    "start_time": "2022-01-30T15:16:50.600Z"
   },
   {
    "duration": 25,
    "start_time": "2022-01-30T15:16:58.265Z"
   },
   {
    "duration": 3720,
    "start_time": "2022-01-30T15:17:36.748Z"
   },
   {
    "duration": 25,
    "start_time": "2022-01-30T15:17:42.713Z"
   },
   {
    "duration": 6,
    "start_time": "2022-01-30T15:18:13.787Z"
   },
   {
    "duration": 12,
    "start_time": "2022-01-30T15:18:15.557Z"
   },
   {
    "duration": 5,
    "start_time": "2022-01-30T15:21:10.832Z"
   },
   {
    "duration": 14,
    "start_time": "2022-01-30T15:21:12.156Z"
   },
   {
    "duration": 7,
    "start_time": "2022-01-30T15:21:12.372Z"
   },
   {
    "duration": 4,
    "start_time": "2022-01-30T15:23:59.224Z"
   },
   {
    "duration": 7,
    "start_time": "2022-01-30T15:24:01.543Z"
   },
   {
    "duration": 4,
    "start_time": "2022-01-30T15:24:40.261Z"
   },
   {
    "duration": 6,
    "start_time": "2022-01-30T15:24:41.490Z"
   },
   {
    "duration": 6,
    "start_time": "2022-01-30T15:24:49.485Z"
   },
   {
    "duration": 4441,
    "start_time": "2022-01-30T15:26:43.426Z"
   },
   {
    "duration": 25,
    "start_time": "2022-01-30T15:26:50.104Z"
   },
   {
    "duration": 4623,
    "start_time": "2022-01-30T15:27:07.471Z"
   },
   {
    "duration": 24,
    "start_time": "2022-01-30T15:27:14.484Z"
   },
   {
    "duration": 12,
    "start_time": "2022-01-30T15:27:46.174Z"
   },
   {
    "duration": 4908,
    "start_time": "2022-01-30T15:30:47.414Z"
   },
   {
    "duration": 282,
    "start_time": "2022-01-30T15:30:54.890Z"
   },
   {
    "duration": 28,
    "start_time": "2022-01-30T15:30:57.887Z"
   },
   {
    "duration": 4254,
    "start_time": "2022-01-30T15:31:26.187Z"
   },
   {
    "duration": 26,
    "start_time": "2022-01-30T15:31:34.388Z"
   },
   {
    "duration": 28,
    "start_time": "2022-01-30T15:32:36.849Z"
   },
   {
    "duration": 25,
    "start_time": "2022-01-30T15:32:47.010Z"
   },
   {
    "duration": 5,
    "start_time": "2022-01-30T15:32:54.773Z"
   },
   {
    "duration": 4524,
    "start_time": "2022-01-30T15:35:03.870Z"
   },
   {
    "duration": 24,
    "start_time": "2022-01-30T15:35:08.397Z"
   },
   {
    "duration": 1230,
    "start_time": "2022-01-30T15:40:06.648Z"
   },
   {
    "duration": 1148,
    "start_time": "2022-01-30T15:40:28.835Z"
   },
   {
    "duration": 4956,
    "start_time": "2022-01-30T15:40:39.803Z"
   },
   {
    "duration": 31,
    "start_time": "2022-01-30T15:40:47.131Z"
   },
   {
    "duration": 5,
    "start_time": "2022-01-30T15:50:57.932Z"
   },
   {
    "duration": 33,
    "start_time": "2022-01-30T15:51:03.904Z"
   },
   {
    "duration": 26,
    "start_time": "2022-01-30T15:51:26.136Z"
   },
   {
    "duration": 24,
    "start_time": "2022-01-30T15:51:30.998Z"
   },
   {
    "duration": 6,
    "start_time": "2022-01-30T15:53:21.786Z"
   },
   {
    "duration": 585,
    "start_time": "2022-01-30T15:53:21.796Z"
   },
   {
    "duration": 33,
    "start_time": "2022-01-30T15:53:22.385Z"
   },
   {
    "duration": 44,
    "start_time": "2022-01-30T15:53:22.421Z"
   },
   {
    "duration": 16,
    "start_time": "2022-01-30T15:53:22.468Z"
   },
   {
    "duration": 19,
    "start_time": "2022-01-30T15:53:22.486Z"
   },
   {
    "duration": 175,
    "start_time": "2022-01-30T15:53:22.508Z"
   },
   {
    "duration": 33,
    "start_time": "2022-01-30T15:53:22.686Z"
   },
   {
    "duration": 46,
    "start_time": "2022-01-30T15:53:22.724Z"
   },
   {
    "duration": 9,
    "start_time": "2022-01-30T15:53:22.774Z"
   },
   {
    "duration": 77,
    "start_time": "2022-01-30T15:53:22.787Z"
   },
   {
    "duration": 82,
    "start_time": "2022-01-30T15:53:22.866Z"
   },
   {
    "duration": 21,
    "start_time": "2022-01-30T15:53:22.951Z"
   },
   {
    "duration": 16,
    "start_time": "2022-01-30T15:53:22.975Z"
   },
   {
    "duration": 74,
    "start_time": "2022-01-30T15:53:22.994Z"
   },
   {
    "duration": 80,
    "start_time": "2022-01-30T15:53:23.071Z"
   },
   {
    "duration": 10,
    "start_time": "2022-01-30T15:53:23.155Z"
   },
   {
    "duration": 20,
    "start_time": "2022-01-30T15:53:23.168Z"
   },
   {
    "duration": 12,
    "start_time": "2022-01-30T15:53:23.192Z"
   },
   {
    "duration": 45,
    "start_time": "2022-01-30T15:53:23.207Z"
   },
   {
    "duration": 516,
    "start_time": "2022-01-30T15:53:23.255Z"
   },
   {
    "duration": 23,
    "start_time": "2022-01-30T15:53:23.773Z"
   },
   {
    "duration": 54,
    "start_time": "2022-01-30T15:53:23.799Z"
   },
   {
    "duration": 25,
    "start_time": "2022-01-30T15:53:23.855Z"
   },
   {
    "duration": 42,
    "start_time": "2022-01-30T15:53:23.883Z"
   },
   {
    "duration": 173,
    "start_time": "2022-01-30T15:53:23.947Z"
   },
   {
    "duration": 89,
    "start_time": "2022-01-30T15:53:24.128Z"
   },
   {
    "duration": 5,
    "start_time": "2022-01-30T15:53:24.220Z"
   },
   {
    "duration": 29,
    "start_time": "2022-01-30T15:53:24.228Z"
   },
   {
    "duration": 13,
    "start_time": "2022-01-30T15:53:24.261Z"
   },
   {
    "duration": 9,
    "start_time": "2022-01-30T15:53:24.277Z"
   },
   {
    "duration": 64,
    "start_time": "2022-01-30T15:53:24.289Z"
   },
   {
    "duration": 39,
    "start_time": "2022-01-30T15:53:24.356Z"
   },
   {
    "duration": 7,
    "start_time": "2022-01-30T15:53:24.398Z"
   },
   {
    "duration": 42,
    "start_time": "2022-01-30T15:53:24.408Z"
   },
   {
    "duration": 20,
    "start_time": "2022-01-30T15:53:24.452Z"
   },
   {
    "duration": 16,
    "start_time": "2022-01-30T15:53:24.475Z"
   },
   {
    "duration": 61,
    "start_time": "2022-01-30T15:53:24.494Z"
   },
   {
    "duration": 26,
    "start_time": "2022-01-30T15:53:24.558Z"
   },
   {
    "duration": 6,
    "start_time": "2022-01-30T15:53:24.587Z"
   },
   {
    "duration": 11,
    "start_time": "2022-01-30T15:53:24.595Z"
   },
   {
    "duration": 41,
    "start_time": "2022-01-30T15:53:24.608Z"
   },
   {
    "duration": 16,
    "start_time": "2022-01-30T15:53:24.652Z"
   },
   {
    "duration": 5,
    "start_time": "2022-01-30T15:53:24.671Z"
   },
   {
    "duration": 73,
    "start_time": "2022-01-30T15:53:24.679Z"
   },
   {
    "duration": 13,
    "start_time": "2022-01-30T15:53:35.152Z"
   },
   {
    "duration": 6,
    "start_time": "2022-01-30T15:53:35.585Z"
   },
   {
    "duration": 4877,
    "start_time": "2022-01-30T15:53:36.185Z"
   },
   {
    "duration": 33,
    "start_time": "2022-01-30T15:53:41.065Z"
   },
   {
    "duration": 12,
    "start_time": "2022-01-30T15:54:23.679Z"
   },
   {
    "duration": 4535,
    "start_time": "2022-01-30T15:58:27.048Z"
   },
   {
    "duration": 32,
    "start_time": "2022-01-30T15:58:33.382Z"
   },
   {
    "duration": 10113,
    "start_time": "2022-01-30T16:02:23.199Z"
   },
   {
    "duration": 9246,
    "start_time": "2022-01-30T16:05:20.425Z"
   },
   {
    "duration": 10205,
    "start_time": "2022-01-30T16:07:23.348Z"
   },
   {
    "duration": 12,
    "start_time": "2022-01-30T16:08:17.685Z"
   },
   {
    "duration": 10410,
    "start_time": "2022-01-30T16:08:59.738Z"
   },
   {
    "duration": 437,
    "start_time": "2022-01-30T16:09:13.538Z"
   },
   {
    "duration": 23,
    "start_time": "2022-01-30T16:09:25.123Z"
   },
   {
    "duration": 4642,
    "start_time": "2022-01-30T16:11:44.466Z"
   },
   {
    "duration": 7415,
    "start_time": "2022-01-30T17:06:55.550Z"
   },
   {
    "duration": 298,
    "start_time": "2022-01-30T17:07:12.484Z"
   },
   {
    "duration": 478,
    "start_time": "2022-01-30T17:08:31.634Z"
   },
   {
    "duration": 393,
    "start_time": "2022-01-30T17:09:14.090Z"
   },
   {
    "duration": 562,
    "start_time": "2022-01-30T17:09:35.433Z"
   },
   {
    "duration": 82,
    "start_time": "2022-01-30T17:11:14.025Z"
   },
   {
    "duration": 523,
    "start_time": "2022-01-30T17:11:18.657Z"
   },
   {
    "duration": 820,
    "start_time": "2022-01-30T17:12:21.345Z"
   },
   {
    "duration": 632,
    "start_time": "2022-01-30T17:13:53.764Z"
   },
   {
    "duration": 612,
    "start_time": "2022-01-30T17:13:57.948Z"
   },
   {
    "duration": 637,
    "start_time": "2022-01-30T17:22:03.284Z"
   },
   {
    "duration": 525,
    "start_time": "2022-01-30T17:22:22.519Z"
   },
   {
    "duration": 101,
    "start_time": "2022-01-30T17:22:48.520Z"
   },
   {
    "duration": 525,
    "start_time": "2022-01-30T17:22:56.060Z"
   },
   {
    "duration": 93,
    "start_time": "2022-01-30T17:23:22.272Z"
   },
   {
    "duration": 405,
    "start_time": "2022-01-30T17:23:25.332Z"
   },
   {
    "duration": 711,
    "start_time": "2022-01-30T17:23:40.379Z"
   },
   {
    "duration": 565,
    "start_time": "2022-01-30T17:24:31.424Z"
   },
   {
    "duration": 536,
    "start_time": "2022-01-30T17:26:04.541Z"
   },
   {
    "duration": 398,
    "start_time": "2022-01-30T17:38:28.295Z"
   },
   {
    "duration": 333,
    "start_time": "2022-01-30T17:38:50.274Z"
   },
   {
    "duration": 90,
    "start_time": "2022-01-30T17:38:59.975Z"
   },
   {
    "duration": 619,
    "start_time": "2022-01-30T17:39:08.344Z"
   },
   {
    "duration": 870,
    "start_time": "2022-01-30T17:39:32.754Z"
   },
   {
    "duration": 271,
    "start_time": "2022-01-30T17:39:39.747Z"
   },
   {
    "duration": 568,
    "start_time": "2022-01-30T17:39:53.965Z"
   },
   {
    "duration": 625,
    "start_time": "2022-01-30T17:41:05.528Z"
   },
   {
    "duration": 628,
    "start_time": "2022-01-30T17:43:20.041Z"
   },
   {
    "duration": 983,
    "start_time": "2022-01-30T18:22:22.150Z"
   },
   {
    "duration": 179,
    "start_time": "2022-01-30T18:22:43.884Z"
   },
   {
    "duration": 538,
    "start_time": "2022-01-30T18:23:04.276Z"
   },
   {
    "duration": 908,
    "start_time": "2022-01-30T18:23:41.752Z"
   },
   {
    "duration": 609,
    "start_time": "2022-01-30T18:23:45.413Z"
   },
   {
    "duration": 621,
    "start_time": "2022-01-30T18:23:53.946Z"
   },
   {
    "duration": 663,
    "start_time": "2022-01-30T18:24:28.293Z"
   },
   {
    "duration": 651,
    "start_time": "2022-01-30T18:25:55.639Z"
   },
   {
    "duration": 529,
    "start_time": "2022-01-30T18:27:15.468Z"
   },
   {
    "duration": 552,
    "start_time": "2022-01-30T18:27:21.571Z"
   },
   {
    "duration": 85,
    "start_time": "2022-01-30T18:28:14.214Z"
   },
   {
    "duration": 821,
    "start_time": "2022-01-30T18:28:17.303Z"
   },
   {
    "duration": 567,
    "start_time": "2022-01-30T18:35:05.876Z"
   },
   {
    "duration": 723,
    "start_time": "2022-01-30T18:35:12.390Z"
   },
   {
    "duration": 5797,
    "start_time": "2022-01-30T18:36:03.641Z"
   },
   {
    "duration": 1167,
    "start_time": "2022-01-30T18:36:19.219Z"
   },
   {
    "duration": 1086,
    "start_time": "2022-01-30T18:36:31.843Z"
   },
   {
    "duration": 273,
    "start_time": "2022-01-30T18:40:53.060Z"
   },
   {
    "duration": 22,
    "start_time": "2022-01-30T18:41:03.805Z"
   },
   {
    "duration": 21,
    "start_time": "2022-01-30T18:42:01.895Z"
   },
   {
    "duration": 23,
    "start_time": "2022-01-30T18:42:36.464Z"
   },
   {
    "duration": 20,
    "start_time": "2022-01-30T18:42:50.677Z"
   },
   {
    "duration": 19,
    "start_time": "2022-01-30T18:42:59.230Z"
   },
   {
    "duration": 20,
    "start_time": "2022-01-30T18:43:21.622Z"
   },
   {
    "duration": 20,
    "start_time": "2022-01-30T18:43:39.931Z"
   },
   {
    "duration": 880,
    "start_time": "2022-01-30T18:45:19.872Z"
   },
   {
    "duration": 1125,
    "start_time": "2022-01-30T18:46:07.131Z"
   },
   {
    "duration": 11,
    "start_time": "2022-01-30T18:47:38.058Z"
   },
   {
    "duration": 17,
    "start_time": "2022-01-30T18:47:56.253Z"
   },
   {
    "duration": 87,
    "start_time": "2022-01-30T18:48:15.786Z"
   },
   {
    "duration": 364,
    "start_time": "2022-01-30T18:48:19.455Z"
   },
   {
    "duration": 13,
    "start_time": "2022-01-30T18:48:57.722Z"
   },
   {
    "duration": 295,
    "start_time": "2022-01-30T19:05:10.177Z"
   },
   {
    "duration": 267,
    "start_time": "2022-01-30T19:08:56.074Z"
   },
   {
    "duration": 52,
    "start_time": "2022-01-30T19:09:17.229Z"
   },
   {
    "duration": 405,
    "start_time": "2022-01-30T19:09:48.586Z"
   },
   {
    "duration": 48,
    "start_time": "2022-01-30T19:10:50.273Z"
   },
   {
    "duration": 54,
    "start_time": "2022-01-30T19:11:06.471Z"
   },
   {
    "duration": 50,
    "start_time": "2022-01-30T19:13:20.056Z"
   },
   {
    "duration": 48,
    "start_time": "2022-01-30T19:13:28.477Z"
   },
   {
    "duration": 19,
    "start_time": "2022-01-30T19:56:32.407Z"
   },
   {
    "duration": 948,
    "start_time": "2022-01-30T20:11:14.255Z"
   },
   {
    "duration": 921,
    "start_time": "2022-01-30T20:13:20.355Z"
   },
   {
    "duration": 928,
    "start_time": "2022-01-30T20:13:28.264Z"
   },
   {
    "duration": 1101,
    "start_time": "2022-01-30T20:13:39.862Z"
   },
   {
    "duration": 934,
    "start_time": "2022-01-30T20:13:45.766Z"
   },
   {
    "duration": 959,
    "start_time": "2022-01-30T20:13:51.570Z"
   },
   {
    "duration": 872,
    "start_time": "2022-01-30T20:13:58.425Z"
   },
   {
    "duration": 1140,
    "start_time": "2022-01-30T20:20:14.879Z"
   },
   {
    "duration": 51,
    "start_time": "2022-01-30T20:21:16.362Z"
   },
   {
    "duration": 1407,
    "start_time": "2022-01-30T20:21:17.753Z"
   },
   {
    "duration": 897,
    "start_time": "2022-01-30T20:22:56.420Z"
   },
   {
    "duration": 836,
    "start_time": "2022-01-30T20:23:30.903Z"
   },
   {
    "duration": 1062,
    "start_time": "2022-01-30T20:23:54.587Z"
   },
   {
    "duration": 26,
    "start_time": "2022-01-30T20:41:39.582Z"
   },
   {
    "duration": 44,
    "start_time": "2022-01-30T20:45:17.961Z"
   },
   {
    "duration": 48,
    "start_time": "2022-01-30T20:45:59.598Z"
   },
   {
    "duration": 50,
    "start_time": "2022-01-30T20:46:08.105Z"
   },
   {
    "duration": 245,
    "start_time": "2022-01-30T20:54:05.138Z"
   },
   {
    "duration": 24,
    "start_time": "2022-01-30T20:54:12.847Z"
   },
   {
    "duration": 136,
    "start_time": "2022-01-31T09:45:17.973Z"
   },
   {
    "duration": 14,
    "start_time": "2022-01-31T09:45:22.780Z"
   },
   {
    "duration": 15,
    "start_time": "2022-01-31T09:45:27.518Z"
   },
   {
    "duration": 18,
    "start_time": "2022-01-31T09:45:31.417Z"
   },
   {
    "duration": 18,
    "start_time": "2022-01-31T09:45:39.438Z"
   },
   {
    "duration": 13,
    "start_time": "2022-01-31T09:45:53.274Z"
   },
   {
    "duration": 15,
    "start_time": "2022-01-31T09:45:58.154Z"
   },
   {
    "duration": 670,
    "start_time": "2022-01-31T09:58:16.314Z"
   },
   {
    "duration": 45,
    "start_time": "2022-01-31T09:58:23.753Z"
   },
   {
    "duration": 869,
    "start_time": "2022-01-31T10:00:36.846Z"
   },
   {
    "duration": 82,
    "start_time": "2022-01-31T10:02:40.273Z"
   },
   {
    "duration": 1098,
    "start_time": "2022-01-31T10:02:47.667Z"
   },
   {
    "duration": 748,
    "start_time": "2022-01-31T10:03:19.682Z"
   },
   {
    "duration": 1445,
    "start_time": "2022-01-31T10:03:38.521Z"
   },
   {
    "duration": 588,
    "start_time": "2022-01-31T10:04:04.311Z"
   },
   {
    "duration": 2005,
    "start_time": "2022-01-31T10:04:16.890Z"
   },
   {
    "duration": 1092,
    "start_time": "2022-01-31T10:04:45.288Z"
   },
   {
    "duration": 1038,
    "start_time": "2022-01-31T10:05:21.244Z"
   },
   {
    "duration": 1037,
    "start_time": "2022-01-31T10:05:27.342Z"
   },
   {
    "duration": 997,
    "start_time": "2022-01-31T10:07:20.701Z"
   },
   {
    "duration": 902,
    "start_time": "2022-01-31T10:09:42.232Z"
   },
   {
    "duration": 647,
    "start_time": "2022-01-31T10:10:02.107Z"
   },
   {
    "duration": 1219,
    "start_time": "2022-01-31T10:10:08.870Z"
   },
   {
    "duration": 10,
    "start_time": "2022-01-31T10:17:47.642Z"
   },
   {
    "duration": 13,
    "start_time": "2022-01-31T10:18:38.686Z"
   },
   {
    "duration": 13,
    "start_time": "2022-01-31T10:18:53.947Z"
   },
   {
    "duration": 12,
    "start_time": "2022-01-31T10:18:57.669Z"
   },
   {
    "duration": 13,
    "start_time": "2022-01-31T10:18:58.576Z"
   },
   {
    "duration": 13,
    "start_time": "2022-01-31T10:18:59.479Z"
   },
   {
    "duration": 14,
    "start_time": "2022-01-31T10:19:00.330Z"
   },
   {
    "duration": 13,
    "start_time": "2022-01-31T10:19:01.245Z"
   },
   {
    "duration": 14,
    "start_time": "2022-01-31T10:19:02.137Z"
   },
   {
    "duration": 13,
    "start_time": "2022-01-31T10:19:02.925Z"
   },
   {
    "duration": 13,
    "start_time": "2022-01-31T10:19:03.548Z"
   },
   {
    "duration": 14,
    "start_time": "2022-01-31T10:19:04.331Z"
   },
   {
    "duration": 15,
    "start_time": "2022-01-31T10:19:05.190Z"
   },
   {
    "duration": 14,
    "start_time": "2022-01-31T10:19:06.184Z"
   },
   {
    "duration": 16,
    "start_time": "2022-01-31T10:19:07.857Z"
   },
   {
    "duration": 13,
    "start_time": "2022-01-31T10:19:08.988Z"
   },
   {
    "duration": 13,
    "start_time": "2022-01-31T10:19:10.050Z"
   },
   {
    "duration": 12,
    "start_time": "2022-01-31T10:19:10.797Z"
   },
   {
    "duration": 22,
    "start_time": "2022-01-31T10:19:11.962Z"
   },
   {
    "duration": 14,
    "start_time": "2022-01-31T10:19:12.657Z"
   },
   {
    "duration": 11,
    "start_time": "2022-01-31T10:36:31.647Z"
   },
   {
    "duration": 13,
    "start_time": "2022-01-31T11:10:57.907Z"
   },
   {
    "duration": 554,
    "start_time": "2022-01-31T11:17:29.229Z"
   },
   {
    "duration": 453,
    "start_time": "2022-01-31T11:17:38.875Z"
   },
   {
    "duration": 10,
    "start_time": "2022-01-31T11:18:26.284Z"
   },
   {
    "duration": 31,
    "start_time": "2022-01-31T11:33:49.102Z"
   },
   {
    "duration": 6,
    "start_time": "2022-01-31T11:34:53.991Z"
   },
   {
    "duration": 25,
    "start_time": "2022-01-31T11:34:57.061Z"
   },
   {
    "duration": 13,
    "start_time": "2022-01-31T11:36:19.937Z"
   },
   {
    "duration": 42,
    "start_time": "2022-01-31T11:36:27.296Z"
   },
   {
    "duration": 239,
    "start_time": "2022-01-31T11:37:45.971Z"
   },
   {
    "duration": 13,
    "start_time": "2022-01-31T11:38:04.528Z"
   },
   {
    "duration": 14,
    "start_time": "2022-01-31T11:38:18.182Z"
   },
   {
    "duration": 30,
    "start_time": "2022-01-31T11:38:22.457Z"
   },
   {
    "duration": 26,
    "start_time": "2022-01-31T11:38:44.302Z"
   },
   {
    "duration": 13,
    "start_time": "2022-01-31T11:38:53.528Z"
   },
   {
    "duration": 28,
    "start_time": "2022-01-31T11:58:13.026Z"
   },
   {
    "duration": 259,
    "start_time": "2022-01-31T12:00:06.727Z"
   },
   {
    "duration": 42,
    "start_time": "2022-01-31T12:00:14.485Z"
   },
   {
    "duration": 77,
    "start_time": "2022-01-31T12:10:37.559Z"
   },
   {
    "duration": 9,
    "start_time": "2022-01-31T12:11:07.605Z"
   },
   {
    "duration": 9,
    "start_time": "2022-01-31T12:11:32.224Z"
   },
   {
    "duration": 10,
    "start_time": "2022-01-31T12:11:53.783Z"
   },
   {
    "duration": 8,
    "start_time": "2022-01-31T12:12:04.637Z"
   },
   {
    "duration": 10,
    "start_time": "2022-01-31T12:14:12.781Z"
   },
   {
    "duration": 42,
    "start_time": "2022-01-31T12:41:25.289Z"
   },
   {
    "duration": 18,
    "start_time": "2022-01-31T12:45:22.936Z"
   },
   {
    "duration": 14,
    "start_time": "2022-01-31T12:49:20.381Z"
   },
   {
    "duration": 14,
    "start_time": "2022-01-31T12:49:28.085Z"
   },
   {
    "duration": 572,
    "start_time": "2022-01-31T13:15:08.004Z"
   },
   {
    "duration": 437,
    "start_time": "2022-01-31T13:15:22.878Z"
   },
   {
    "duration": 444,
    "start_time": "2022-01-31T13:15:29.179Z"
   },
   {
    "duration": 426,
    "start_time": "2022-01-31T13:15:35.206Z"
   },
   {
    "duration": 304,
    "start_time": "2022-01-31T13:15:43.022Z"
   },
   {
    "duration": 15,
    "start_time": "2022-01-31T13:27:51.676Z"
   },
   {
    "duration": 16,
    "start_time": "2022-01-31T13:28:33.044Z"
   },
   {
    "duration": 38,
    "start_time": "2022-01-31T13:28:47.716Z"
   },
   {
    "duration": 66,
    "start_time": "2022-01-31T13:29:17.942Z"
   },
   {
    "duration": 67,
    "start_time": "2022-01-31T13:29:47.021Z"
   },
   {
    "duration": 20,
    "start_time": "2022-01-31T13:30:28.886Z"
   },
   {
    "duration": 21,
    "start_time": "2022-01-31T13:30:47.111Z"
   },
   {
    "duration": 20,
    "start_time": "2022-01-31T13:30:56.314Z"
   },
   {
    "duration": 17,
    "start_time": "2022-01-31T13:34:14.203Z"
   },
   {
    "duration": 54,
    "start_time": "2022-01-31T13:43:35.461Z"
   },
   {
    "duration": 24,
    "start_time": "2022-01-31T16:22:21.151Z"
   },
   {
    "duration": 17,
    "start_time": "2022-01-31T16:22:30.403Z"
   },
   {
    "duration": 343,
    "start_time": "2022-01-31T16:22:33.411Z"
   },
   {
    "duration": 19,
    "start_time": "2022-01-31T16:22:35.696Z"
   },
   {
    "duration": 14,
    "start_time": "2022-01-31T16:22:43.100Z"
   },
   {
    "duration": 324,
    "start_time": "2022-01-31T16:23:11.868Z"
   },
   {
    "duration": 373,
    "start_time": "2022-01-31T16:23:29.497Z"
   },
   {
    "duration": 430,
    "start_time": "2022-01-31T16:28:49.925Z"
   },
   {
    "duration": 259,
    "start_time": "2022-01-31T16:29:55.935Z"
   },
   {
    "duration": 57,
    "start_time": "2022-01-31T16:32:05.272Z"
   },
   {
    "duration": 291,
    "start_time": "2022-01-31T17:03:43.961Z"
   },
   {
    "duration": 47,
    "start_time": "2022-01-31T17:04:03.054Z"
   },
   {
    "duration": 27,
    "start_time": "2022-01-31T17:04:09.841Z"
   },
   {
    "duration": 9,
    "start_time": "2022-01-31T17:04:30.772Z"
   },
   {
    "duration": 243,
    "start_time": "2022-01-31T17:05:08.653Z"
   },
   {
    "duration": 49,
    "start_time": "2022-01-31T17:05:22.749Z"
   },
   {
    "duration": 11,
    "start_time": "2022-01-31T17:05:33.604Z"
   },
   {
    "duration": 341,
    "start_time": "2022-01-31T17:06:11.876Z"
   },
   {
    "duration": 10,
    "start_time": "2022-01-31T17:06:56.864Z"
   },
   {
    "duration": 26,
    "start_time": "2022-01-31T17:07:04.343Z"
   },
   {
    "duration": 29,
    "start_time": "2022-01-31T17:20:54.036Z"
   },
   {
    "duration": 866,
    "start_time": "2022-01-31T17:26:27.162Z"
   },
   {
    "duration": 774,
    "start_time": "2022-01-31T17:27:54.407Z"
   },
   {
    "duration": 806,
    "start_time": "2022-01-31T17:28:17.426Z"
   },
   {
    "duration": 816,
    "start_time": "2022-01-31T17:29:47.678Z"
   },
   {
    "duration": 1210,
    "start_time": "2022-01-31T17:31:10.620Z"
   },
   {
    "duration": 1219,
    "start_time": "2022-01-31T17:32:34.657Z"
   },
   {
    "duration": 1338,
    "start_time": "2022-01-31T17:36:16.846Z"
   },
   {
    "duration": 57,
    "start_time": "2022-01-31T17:56:42.431Z"
   },
   {
    "duration": 54,
    "start_time": "2022-01-31T17:57:29.909Z"
   },
   {
    "duration": 53,
    "start_time": "2022-01-31T17:58:25.346Z"
   },
   {
    "duration": 57,
    "start_time": "2022-01-31T17:58:59.347Z"
   },
   {
    "duration": 54,
    "start_time": "2022-01-31T18:00:11.932Z"
   },
   {
    "duration": 59,
    "start_time": "2022-01-31T18:00:18.504Z"
   },
   {
    "duration": 55,
    "start_time": "2022-01-31T18:00:34.968Z"
   },
   {
    "duration": 56,
    "start_time": "2022-01-31T18:00:53.619Z"
   },
   {
    "duration": 57,
    "start_time": "2022-01-31T18:00:55.442Z"
   },
   {
    "duration": 55,
    "start_time": "2022-01-31T18:00:55.994Z"
   },
   {
    "duration": 24,
    "start_time": "2022-01-31T18:01:30.226Z"
   },
   {
    "duration": 35,
    "start_time": "2022-01-31T18:01:31.195Z"
   },
   {
    "duration": 24,
    "start_time": "2022-01-31T18:01:31.867Z"
   },
   {
    "duration": 329,
    "start_time": "2022-01-31T18:03:19.687Z"
   },
   {
    "duration": 855,
    "start_time": "2022-01-31T18:03:53.004Z"
   },
   {
    "duration": 934,
    "start_time": "2022-01-31T18:04:24.418Z"
   },
   {
    "duration": 80,
    "start_time": "2022-01-31T18:13:35.196Z"
   },
   {
    "duration": 27,
    "start_time": "2022-01-31T18:17:38.234Z"
   },
   {
    "duration": 24,
    "start_time": "2022-01-31T18:17:45.056Z"
   },
   {
    "duration": 52,
    "start_time": "2022-01-31T18:17:50.737Z"
   },
   {
    "duration": 272,
    "start_time": "2022-01-31T18:19:20.234Z"
   },
   {
    "duration": 82,
    "start_time": "2022-01-31T18:19:42.433Z"
   },
   {
    "duration": 75,
    "start_time": "2022-01-31T18:19:58.164Z"
   },
   {
    "duration": 79,
    "start_time": "2022-01-31T18:20:02.387Z"
   },
   {
    "duration": 264,
    "start_time": "2022-01-31T18:20:05.918Z"
   },
   {
    "duration": 351,
    "start_time": "2022-01-31T18:20:35.708Z"
   },
   {
    "duration": 286,
    "start_time": "2022-01-31T18:21:31.053Z"
   },
   {
    "duration": 619,
    "start_time": "2022-01-31T18:27:22.133Z"
   },
   {
    "duration": 110,
    "start_time": "2022-01-31T18:31:58.898Z"
   },
   {
    "duration": 296,
    "start_time": "2022-01-31T18:32:03.317Z"
   },
   {
    "duration": 333,
    "start_time": "2022-01-31T18:32:17.245Z"
   },
   {
    "duration": 663,
    "start_time": "2022-01-31T18:32:21.906Z"
   },
   {
    "duration": 503,
    "start_time": "2022-01-31T18:32:46.266Z"
   },
   {
    "duration": 288,
    "start_time": "2022-01-31T18:32:53.729Z"
   },
   {
    "duration": 308,
    "start_time": "2022-01-31T18:33:04.548Z"
   },
   {
    "duration": 506,
    "start_time": "2022-01-31T18:33:34.923Z"
   },
   {
    "duration": 295,
    "start_time": "2022-01-31T18:33:44.667Z"
   },
   {
    "duration": 294,
    "start_time": "2022-01-31T18:34:14.128Z"
   },
   {
    "duration": 283,
    "start_time": "2022-01-31T18:34:50.429Z"
   },
   {
    "duration": 107,
    "start_time": "2022-01-31T18:35:17.105Z"
   },
   {
    "duration": 281,
    "start_time": "2022-01-31T18:35:22.820Z"
   },
   {
    "duration": 299,
    "start_time": "2022-01-31T18:35:30.939Z"
   },
   {
    "duration": 308,
    "start_time": "2022-01-31T18:35:35.230Z"
   },
   {
    "duration": 281,
    "start_time": "2022-01-31T18:35:40.315Z"
   },
   {
    "duration": 279,
    "start_time": "2022-01-31T18:36:04.473Z"
   },
   {
    "duration": 82,
    "start_time": "2022-01-31T18:36:23.979Z"
   },
   {
    "duration": 269,
    "start_time": "2022-01-31T18:36:30.885Z"
   },
   {
    "duration": 279,
    "start_time": "2022-01-31T18:47:24.899Z"
   },
   {
    "duration": 40,
    "start_time": "2022-01-31T18:47:31.094Z"
   },
   {
    "duration": 744,
    "start_time": "2022-01-31T18:48:06.297Z"
   },
   {
    "duration": 1096,
    "start_time": "2022-01-31T18:48:49.884Z"
   },
   {
    "duration": 1013,
    "start_time": "2022-01-31T18:49:41.684Z"
   },
   {
    "duration": 963,
    "start_time": "2022-01-31T18:50:03.573Z"
   },
   {
    "duration": 709,
    "start_time": "2022-01-31T18:50:15.515Z"
   },
   {
    "duration": 245,
    "start_time": "2022-01-31T18:50:32.344Z"
   },
   {
    "duration": 766,
    "start_time": "2022-01-31T18:51:40.834Z"
   },
   {
    "duration": 458,
    "start_time": "2022-01-31T18:55:15.256Z"
   },
   {
    "duration": 1521,
    "start_time": "2022-01-31T18:56:01.470Z"
   },
   {
    "duration": 859,
    "start_time": "2022-01-31T18:56:23.932Z"
   },
   {
    "duration": 9,
    "start_time": "2022-01-31T18:57:18.699Z"
   },
   {
    "duration": 20,
    "start_time": "2022-01-31T18:57:39.870Z"
   },
   {
    "duration": 5815,
    "start_time": "2022-01-31T18:58:27.664Z"
   },
   {
    "duration": 304,
    "start_time": "2022-01-31T18:58:36.078Z"
   },
   {
    "duration": 240,
    "start_time": "2022-01-31T18:58:45.478Z"
   },
   {
    "duration": 322,
    "start_time": "2022-01-31T18:59:02.223Z"
   },
   {
    "duration": 78,
    "start_time": "2022-01-31T18:59:59.158Z"
   },
   {
    "duration": 77,
    "start_time": "2022-01-31T19:00:02.873Z"
   },
   {
    "duration": 232,
    "start_time": "2022-01-31T19:00:10.637Z"
   },
   {
    "duration": 78,
    "start_time": "2022-01-31T19:00:23.519Z"
   },
   {
    "duration": 9508,
    "start_time": "2022-01-31T19:00:26.634Z"
   },
   {
    "duration": 16,
    "start_time": "2022-01-31T19:00:38.820Z"
   },
   {
    "duration": 16,
    "start_time": "2022-01-31T19:01:20.101Z"
   },
   {
    "duration": 19,
    "start_time": "2022-01-31T19:02:02.621Z"
   },
   {
    "duration": 18,
    "start_time": "2022-01-31T19:02:22.825Z"
   },
   {
    "duration": 20,
    "start_time": "2022-01-31T19:04:50.591Z"
   },
   {
    "duration": 3079,
    "start_time": "2022-01-31T19:09:10.070Z"
   },
   {
    "duration": 292,
    "start_time": "2022-01-31T19:09:27.662Z"
   },
   {
    "duration": 5,
    "start_time": "2022-01-31T19:13:44.348Z"
   },
   {
    "duration": 627,
    "start_time": "2022-01-31T19:13:44.356Z"
   },
   {
    "duration": 38,
    "start_time": "2022-01-31T19:13:44.986Z"
   },
   {
    "duration": 44,
    "start_time": "2022-01-31T19:13:45.028Z"
   },
   {
    "duration": 16,
    "start_time": "2022-01-31T19:13:45.075Z"
   },
   {
    "duration": 21,
    "start_time": "2022-01-31T19:13:45.094Z"
   },
   {
    "duration": 18,
    "start_time": "2022-01-31T19:13:45.149Z"
   },
   {
    "duration": 623,
    "start_time": "2022-01-31T19:13:45.172Z"
   },
   {
    "duration": 21,
    "start_time": "2022-01-31T19:13:45.798Z"
   },
   {
    "duration": 124,
    "start_time": "2022-01-31T19:13:45.849Z"
   },
   {
    "duration": 26,
    "start_time": "2022-01-31T19:13:45.976Z"
   },
   {
    "duration": 55,
    "start_time": "2022-01-31T19:13:46.006Z"
   },
   {
    "duration": 11,
    "start_time": "2022-01-31T19:13:46.064Z"
   },
   {
    "duration": 77,
    "start_time": "2022-01-31T19:13:46.079Z"
   },
   {
    "duration": 60,
    "start_time": "2022-01-31T19:13:46.160Z"
   },
   {
    "duration": 38,
    "start_time": "2022-01-31T19:13:46.222Z"
   },
   {
    "duration": 20,
    "start_time": "2022-01-31T19:13:46.263Z"
   },
   {
    "duration": 70,
    "start_time": "2022-01-31T19:13:46.286Z"
   },
   {
    "duration": 56,
    "start_time": "2022-01-31T19:13:46.359Z"
   },
   {
    "duration": 37,
    "start_time": "2022-01-31T19:13:46.419Z"
   },
   {
    "duration": 20,
    "start_time": "2022-01-31T19:13:46.460Z"
   },
   {
    "duration": 29,
    "start_time": "2022-01-31T19:13:46.483Z"
   },
   {
    "duration": 30,
    "start_time": "2022-01-31T19:13:46.517Z"
   },
   {
    "duration": 313,
    "start_time": "2022-01-31T19:13:46.550Z"
   },
   {
    "duration": 23,
    "start_time": "2022-01-31T19:13:46.865Z"
   },
   {
    "duration": 31,
    "start_time": "2022-01-31T19:13:46.892Z"
   },
   {
    "duration": 13,
    "start_time": "2022-01-31T19:13:46.949Z"
   },
   {
    "duration": 20,
    "start_time": "2022-01-31T19:13:51.720Z"
   },
   {
    "duration": 6,
    "start_time": "2022-01-31T19:15:24.655Z"
   },
   {
    "duration": 13,
    "start_time": "2022-01-31T19:15:28.314Z"
   },
   {
    "duration": 31,
    "start_time": "2022-01-31T19:16:24.335Z"
   },
   {
    "duration": 91,
    "start_time": "2022-01-31T19:16:25.149Z"
   },
   {
    "duration": 62,
    "start_time": "2022-01-31T19:16:29.359Z"
   },
   {
    "duration": 6,
    "start_time": "2022-01-31T19:16:30.341Z"
   },
   {
    "duration": 10,
    "start_time": "2022-01-31T19:16:31.060Z"
   },
   {
    "duration": 10,
    "start_time": "2022-01-31T19:16:31.390Z"
   },
   {
    "duration": 84,
    "start_time": "2022-01-31T19:16:31.633Z"
   },
   {
    "duration": 5,
    "start_time": "2022-01-31T19:16:31.820Z"
   },
   {
    "duration": 5,
    "start_time": "2022-01-31T19:16:39.731Z"
   },
   {
    "duration": 26,
    "start_time": "2022-01-31T19:16:46.733Z"
   },
   {
    "duration": 51,
    "start_time": "2022-01-31T19:16:47.095Z"
   },
   {
    "duration": 9,
    "start_time": "2022-01-31T19:16:47.458Z"
   },
   {
    "duration": 8,
    "start_time": "2022-01-31T19:16:47.801Z"
   },
   {
    "duration": 14,
    "start_time": "2022-01-31T19:16:48.110Z"
   },
   {
    "duration": 13,
    "start_time": "2022-01-31T19:16:48.930Z"
   },
   {
    "duration": 24,
    "start_time": "2022-01-31T19:16:50.028Z"
   },
   {
    "duration": 26,
    "start_time": "2022-01-31T19:16:50.437Z"
   },
   {
    "duration": 7,
    "start_time": "2022-01-31T19:16:50.982Z"
   },
   {
    "duration": 7,
    "start_time": "2022-01-31T19:16:51.475Z"
   },
   {
    "duration": 8,
    "start_time": "2022-01-31T19:16:51.910Z"
   },
   {
    "duration": 13,
    "start_time": "2022-01-31T19:16:52.341Z"
   },
   {
    "duration": 5,
    "start_time": "2022-01-31T19:16:52.757Z"
   },
   {
    "duration": 13,
    "start_time": "2022-01-31T19:16:54.471Z"
   },
   {
    "duration": 7,
    "start_time": "2022-01-31T19:16:54.902Z"
   },
   {
    "duration": 82,
    "start_time": "2022-01-31T19:16:55.348Z"
   },
   {
    "duration": 21,
    "start_time": "2022-01-31T19:16:55.797Z"
   },
   {
    "duration": 79,
    "start_time": "2022-01-31T19:17:14.241Z"
   },
   {
    "duration": 89,
    "start_time": "2022-01-31T19:17:20.365Z"
   },
   {
    "duration": 82,
    "start_time": "2022-01-31T19:17:44.660Z"
   },
   {
    "duration": 136,
    "start_time": "2022-01-31T19:17:55.365Z"
   },
   {
    "duration": 90,
    "start_time": "2022-01-31T19:18:01.775Z"
   },
   {
    "duration": 7065,
    "start_time": "2022-01-31T19:18:07.119Z"
   },
   {
    "duration": 74,
    "start_time": "2022-01-31T19:18:14.197Z"
   },
   {
    "duration": 74,
    "start_time": "2022-01-31T19:18:20.895Z"
   },
   {
    "duration": 1871,
    "start_time": "2022-01-31T19:18:21.751Z"
   },
   {
    "duration": 132,
    "start_time": "2022-01-31T19:18:34.474Z"
   },
   {
    "duration": 1150,
    "start_time": "2022-01-31T19:22:23.972Z"
   },
   {
    "duration": 49,
    "start_time": "2022-01-31T19:22:26.702Z"
   },
   {
    "duration": 1277,
    "start_time": "2022-01-31T19:22:30.518Z"
   },
   {
    "duration": 1051,
    "start_time": "2022-01-31T19:22:41.774Z"
   },
   {
    "duration": 821,
    "start_time": "2022-01-31T19:25:55.592Z"
   },
   {
    "duration": 1263,
    "start_time": "2022-01-31T19:26:03.050Z"
   },
   {
    "duration": 18,
    "start_time": "2022-01-31T19:26:28.758Z"
   },
   {
    "duration": 20,
    "start_time": "2022-01-31T19:26:56.446Z"
   },
   {
    "duration": 7,
    "start_time": "2022-01-31T19:26:57.433Z"
   },
   {
    "duration": 19,
    "start_time": "2022-01-31T19:27:00.271Z"
   },
   {
    "duration": 85,
    "start_time": "2022-01-31T19:30:30.517Z"
   },
   {
    "duration": 233,
    "start_time": "2022-01-31T19:30:34.027Z"
   },
   {
    "duration": 9,
    "start_time": "2022-01-31T19:31:56.788Z"
   },
   {
    "duration": 12,
    "start_time": "2022-01-31T19:31:59.543Z"
   },
   {
    "duration": 839,
    "start_time": "2022-01-31T19:32:06.399Z"
   },
   {
    "duration": 1196,
    "start_time": "2022-01-31T19:32:21.031Z"
   },
   {
    "duration": 53,
    "start_time": "2022-01-31T19:32:25.936Z"
   },
   {
    "duration": 9,
    "start_time": "2022-01-31T19:32:26.771Z"
   },
   {
    "duration": 9,
    "start_time": "2022-01-31T19:32:30.792Z"
   },
   {
    "duration": 15,
    "start_time": "2022-01-31T19:32:36.858Z"
   },
   {
    "duration": 7,
    "start_time": "2022-01-31T19:32:41.427Z"
   },
   {
    "duration": 14,
    "start_time": "2022-01-31T19:32:42.032Z"
   },
   {
    "duration": 9,
    "start_time": "2022-01-31T19:32:43.974Z"
   },
   {
    "duration": 9,
    "start_time": "2022-01-31T19:32:44.971Z"
   },
   {
    "duration": 79,
    "start_time": "2022-01-31T19:32:45.421Z"
   },
   {
    "duration": 43,
    "start_time": "2022-01-31T19:32:46.229Z"
   },
   {
    "duration": 16,
    "start_time": "2022-01-31T19:32:47.743Z"
   },
   {
    "duration": 5,
    "start_time": "2022-01-31T19:41:43.495Z"
   },
   {
    "duration": 566,
    "start_time": "2022-01-31T19:41:43.503Z"
   },
   {
    "duration": 28,
    "start_time": "2022-01-31T19:41:44.073Z"
   },
   {
    "duration": 46,
    "start_time": "2022-01-31T19:41:44.104Z"
   },
   {
    "duration": 15,
    "start_time": "2022-01-31T19:41:44.153Z"
   },
   {
    "duration": 20,
    "start_time": "2022-01-31T19:41:44.171Z"
   },
   {
    "duration": 58,
    "start_time": "2022-01-31T19:41:44.194Z"
   },
   {
    "duration": 413,
    "start_time": "2022-01-31T19:41:44.255Z"
   },
   {
    "duration": 20,
    "start_time": "2022-01-31T19:41:44.672Z"
   },
   {
    "duration": 153,
    "start_time": "2022-01-31T19:41:44.697Z"
   },
   {
    "duration": 28,
    "start_time": "2022-01-31T19:41:44.853Z"
   },
   {
    "duration": 21,
    "start_time": "2022-01-31T19:41:44.884Z"
   },
   {
    "duration": 47,
    "start_time": "2022-01-31T19:41:44.909Z"
   },
   {
    "duration": 39,
    "start_time": "2022-01-31T19:41:44.959Z"
   },
   {
    "duration": 97,
    "start_time": "2022-01-31T19:41:45.001Z"
   },
   {
    "duration": 20,
    "start_time": "2022-01-31T19:41:45.101Z"
   },
   {
    "duration": 15,
    "start_time": "2022-01-31T19:41:45.148Z"
   },
   {
    "duration": 43,
    "start_time": "2022-01-31T19:41:45.166Z"
   },
   {
    "duration": 81,
    "start_time": "2022-01-31T19:41:45.212Z"
   },
   {
    "duration": 9,
    "start_time": "2022-01-31T19:41:45.296Z"
   },
   {
    "duration": 42,
    "start_time": "2022-01-31T19:41:45.308Z"
   },
   {
    "duration": 16,
    "start_time": "2022-01-31T19:41:45.353Z"
   },
   {
    "duration": 10,
    "start_time": "2022-01-31T19:41:45.372Z"
   },
   {
    "duration": 360,
    "start_time": "2022-01-31T19:41:45.385Z"
   },
   {
    "duration": 23,
    "start_time": "2022-01-31T19:41:45.747Z"
   },
   {
    "duration": 26,
    "start_time": "2022-01-31T19:41:45.772Z"
   },
   {
    "duration": 45,
    "start_time": "2022-01-31T19:41:45.809Z"
   },
   {
    "duration": 31,
    "start_time": "2022-01-31T19:41:45.857Z"
   },
   {
    "duration": 110,
    "start_time": "2022-01-31T19:41:45.891Z"
   },
   {
    "duration": 71,
    "start_time": "2022-01-31T19:41:46.003Z"
   },
   {
    "duration": 5,
    "start_time": "2022-01-31T19:41:46.077Z"
   },
   {
    "duration": 16,
    "start_time": "2022-01-31T19:41:46.085Z"
   },
   {
    "duration": 26,
    "start_time": "2022-01-31T19:41:46.104Z"
   },
   {
    "duration": 20,
    "start_time": "2022-01-31T19:41:46.132Z"
   },
   {
    "duration": 36,
    "start_time": "2022-01-31T19:41:46.155Z"
   },
   {
    "duration": 60,
    "start_time": "2022-01-31T19:41:46.194Z"
   },
   {
    "duration": 8,
    "start_time": "2022-01-31T19:41:46.257Z"
   },
   {
    "duration": 30,
    "start_time": "2022-01-31T19:41:46.269Z"
   },
   {
    "duration": 27,
    "start_time": "2022-01-31T19:41:46.301Z"
   },
   {
    "duration": 26,
    "start_time": "2022-01-31T19:41:46.330Z"
   },
   {
    "duration": 31,
    "start_time": "2022-01-31T19:41:46.360Z"
   },
   {
    "duration": 29,
    "start_time": "2022-01-31T19:41:46.393Z"
   },
   {
    "duration": 28,
    "start_time": "2022-01-31T19:41:46.424Z"
   },
   {
    "duration": 19,
    "start_time": "2022-01-31T19:41:46.456Z"
   },
   {
    "duration": 14,
    "start_time": "2022-01-31T19:41:46.478Z"
   },
   {
    "duration": 18,
    "start_time": "2022-01-31T19:41:46.495Z"
   },
   {
    "duration": 35,
    "start_time": "2022-01-31T19:41:46.515Z"
   },
   {
    "duration": 12,
    "start_time": "2022-01-31T19:41:46.553Z"
   },
   {
    "duration": 17,
    "start_time": "2022-01-31T19:41:46.567Z"
   },
   {
    "duration": 4607,
    "start_time": "2022-01-31T19:41:46.587Z"
   },
   {
    "duration": 23,
    "start_time": "2022-01-31T19:41:51.197Z"
   },
   {
    "duration": 37,
    "start_time": "2022-01-31T19:41:51.223Z"
   },
   {
    "duration": 13,
    "start_time": "2022-01-31T19:41:51.264Z"
   },
   {
    "duration": 118,
    "start_time": "2022-01-31T19:41:51.280Z"
   },
   {
    "duration": 1803,
    "start_time": "2022-01-31T19:41:51.400Z"
   },
   {
    "duration": 1194,
    "start_time": "2022-01-31T19:41:53.206Z"
   },
   {
    "duration": 67,
    "start_time": "2022-01-31T19:41:54.403Z"
   },
   {
    "duration": 1003,
    "start_time": "2022-01-31T19:41:54.472Z"
   },
   {
    "duration": 83,
    "start_time": "2022-01-31T19:41:55.478Z"
   },
   {
    "duration": -434,
    "start_time": "2022-01-31T19:41:55.997Z"
   },
   {
    "duration": -453,
    "start_time": "2022-01-31T19:41:56.018Z"
   },
   {
    "duration": -455,
    "start_time": "2022-01-31T19:41:56.021Z"
   },
   {
    "duration": -456,
    "start_time": "2022-01-31T19:41:56.024Z"
   },
   {
    "duration": -458,
    "start_time": "2022-01-31T19:41:56.027Z"
   },
   {
    "duration": -460,
    "start_time": "2022-01-31T19:41:56.030Z"
   },
   {
    "duration": -466,
    "start_time": "2022-01-31T19:41:56.038Z"
   },
   {
    "duration": -470,
    "start_time": "2022-01-31T19:41:56.043Z"
   },
   {
    "duration": -471,
    "start_time": "2022-01-31T19:41:56.046Z"
   },
   {
    "duration": -473,
    "start_time": "2022-01-31T19:41:56.049Z"
   },
   {
    "duration": -474,
    "start_time": "2022-01-31T19:41:56.052Z"
   },
   {
    "duration": -481,
    "start_time": "2022-01-31T19:41:56.061Z"
   },
   {
    "duration": -485,
    "start_time": "2022-01-31T19:41:56.066Z"
   },
   {
    "duration": -486,
    "start_time": "2022-01-31T19:41:56.069Z"
   },
   {
    "duration": -489,
    "start_time": "2022-01-31T19:41:56.073Z"
   },
   {
    "duration": -504,
    "start_time": "2022-01-31T19:41:56.090Z"
   },
   {
    "duration": -517,
    "start_time": "2022-01-31T19:41:56.104Z"
   },
   {
    "duration": 6,
    "start_time": "2022-01-31T19:44:11.121Z"
   },
   {
    "duration": 607,
    "start_time": "2022-01-31T19:44:11.131Z"
   },
   {
    "duration": 29,
    "start_time": "2022-01-31T19:44:11.741Z"
   },
   {
    "duration": 42,
    "start_time": "2022-01-31T19:44:11.773Z"
   },
   {
    "duration": 44,
    "start_time": "2022-01-31T19:44:11.818Z"
   },
   {
    "duration": 25,
    "start_time": "2022-01-31T19:44:11.866Z"
   },
   {
    "duration": 57,
    "start_time": "2022-01-31T19:44:11.894Z"
   },
   {
    "duration": 449,
    "start_time": "2022-01-31T19:44:11.954Z"
   },
   {
    "duration": 19,
    "start_time": "2022-01-31T19:44:12.408Z"
   },
   {
    "duration": 128,
    "start_time": "2022-01-31T19:44:12.450Z"
   },
   {
    "duration": 25,
    "start_time": "2022-01-31T19:44:12.582Z"
   },
   {
    "duration": 45,
    "start_time": "2022-01-31T19:44:12.610Z"
   },
   {
    "duration": 9,
    "start_time": "2022-01-31T19:44:12.658Z"
   },
   {
    "duration": 78,
    "start_time": "2022-01-31T19:44:12.671Z"
   },
   {
    "duration": 62,
    "start_time": "2022-01-31T19:44:12.751Z"
   },
   {
    "duration": 50,
    "start_time": "2022-01-31T19:44:12.817Z"
   },
   {
    "duration": 15,
    "start_time": "2022-01-31T19:44:12.870Z"
   },
   {
    "duration": 31,
    "start_time": "2022-01-31T19:44:12.888Z"
   },
   {
    "duration": 57,
    "start_time": "2022-01-31T19:44:12.949Z"
   },
   {
    "duration": 11,
    "start_time": "2022-01-31T19:44:13.009Z"
   },
   {
    "duration": 21,
    "start_time": "2022-01-31T19:44:13.050Z"
   },
   {
    "duration": 64,
    "start_time": "2022-01-31T19:44:13.075Z"
   },
   {
    "duration": 21,
    "start_time": "2022-01-31T19:44:13.141Z"
   },
   {
    "duration": 503,
    "start_time": "2022-01-31T19:44:13.164Z"
   },
   {
    "duration": 32,
    "start_time": "2022-01-31T19:44:13.671Z"
   },
   {
    "duration": 47,
    "start_time": "2022-01-31T19:44:13.707Z"
   },
   {
    "duration": 13,
    "start_time": "2022-01-31T19:44:13.762Z"
   },
   {
    "duration": 85,
    "start_time": "2022-01-31T19:44:13.779Z"
   },
   {
    "duration": 198,
    "start_time": "2022-01-31T19:44:13.868Z"
   },
   {
    "duration": 106,
    "start_time": "2022-01-31T19:44:14.070Z"
   },
   {
    "duration": 6,
    "start_time": "2022-01-31T19:44:14.179Z"
   },
   {
    "duration": 14,
    "start_time": "2022-01-31T19:44:14.188Z"
   },
   {
    "duration": 46,
    "start_time": "2022-01-31T19:44:14.204Z"
   },
   {
    "duration": 13,
    "start_time": "2022-01-31T19:44:14.253Z"
   },
   {
    "duration": 32,
    "start_time": "2022-01-31T19:44:14.269Z"
   },
   {
    "duration": 80,
    "start_time": "2022-01-31T19:44:14.304Z"
   },
   {
    "duration": 8,
    "start_time": "2022-01-31T19:44:14.388Z"
   },
   {
    "duration": 11,
    "start_time": "2022-01-31T19:44:14.400Z"
   },
   {
    "duration": 47,
    "start_time": "2022-01-31T19:44:14.414Z"
   },
   {
    "duration": 15,
    "start_time": "2022-01-31T19:44:14.464Z"
   },
   {
    "duration": 32,
    "start_time": "2022-01-31T19:44:14.482Z"
   },
   {
    "duration": 36,
    "start_time": "2022-01-31T19:44:14.549Z"
   },
   {
    "duration": 9,
    "start_time": "2022-01-31T19:44:14.588Z"
   },
   {
    "duration": 10,
    "start_time": "2022-01-31T19:44:14.600Z"
   },
   {
    "duration": 48,
    "start_time": "2022-01-31T19:44:14.612Z"
   },
   {
    "duration": 22,
    "start_time": "2022-01-31T19:44:14.662Z"
   },
   {
    "duration": 6,
    "start_time": "2022-01-31T19:44:14.686Z"
   },
   {
    "duration": 60,
    "start_time": "2022-01-31T19:44:14.695Z"
   },
   {
    "duration": 7,
    "start_time": "2022-01-31T19:44:14.757Z"
   },
   {
    "duration": 5057,
    "start_time": "2022-01-31T19:44:14.766Z"
   },
   {
    "duration": 40,
    "start_time": "2022-01-31T19:44:19.826Z"
   },
   {
    "duration": 19,
    "start_time": "2022-01-31T19:44:19.869Z"
   },
   {
    "duration": 15,
    "start_time": "2022-01-31T19:44:19.891Z"
   },
   {
    "duration": 87,
    "start_time": "2022-01-31T19:44:19.909Z"
   },
   {
    "duration": 1711,
    "start_time": "2022-01-31T19:44:19.999Z"
   },
   {
    "duration": 1248,
    "start_time": "2022-01-31T19:44:21.712Z"
   },
   {
    "duration": 48,
    "start_time": "2022-01-31T19:44:22.963Z"
   },
   {
    "duration": 1526,
    "start_time": "2022-01-31T19:44:23.013Z"
   },
   {
    "duration": 155,
    "start_time": "2022-01-31T19:44:24.553Z"
   },
   {
    "duration": -447,
    "start_time": "2022-01-31T19:44:25.158Z"
   },
   {
    "duration": -448,
    "start_time": "2022-01-31T19:44:25.161Z"
   },
   {
    "duration": -449,
    "start_time": "2022-01-31T19:44:25.164Z"
   },
   {
    "duration": -467,
    "start_time": "2022-01-31T19:44:25.184Z"
   },
   {
    "duration": -468,
    "start_time": "2022-01-31T19:44:25.187Z"
   },
   {
    "duration": -469,
    "start_time": "2022-01-31T19:44:25.190Z"
   },
   {
    "duration": -477,
    "start_time": "2022-01-31T19:44:25.200Z"
   },
   {
    "duration": -479,
    "start_time": "2022-01-31T19:44:25.203Z"
   },
   {
    "duration": -481,
    "start_time": "2022-01-31T19:44:25.207Z"
   },
   {
    "duration": -482,
    "start_time": "2022-01-31T19:44:25.210Z"
   },
   {
    "duration": -484,
    "start_time": "2022-01-31T19:44:25.213Z"
   },
   {
    "duration": -488,
    "start_time": "2022-01-31T19:44:25.219Z"
   },
   {
    "duration": -502,
    "start_time": "2022-01-31T19:44:25.234Z"
   },
   {
    "duration": -506,
    "start_time": "2022-01-31T19:44:25.240Z"
   },
   {
    "duration": -509,
    "start_time": "2022-01-31T19:44:25.244Z"
   },
   {
    "duration": -510,
    "start_time": "2022-01-31T19:44:25.246Z"
   },
   {
    "duration": -512,
    "start_time": "2022-01-31T19:44:25.250Z"
   },
   {
    "duration": 239,
    "start_time": "2022-01-31T19:47:50.304Z"
   },
   {
    "duration": 294,
    "start_time": "2022-01-31T19:48:01.665Z"
   },
   {
    "duration": 272,
    "start_time": "2022-01-31T19:48:07.312Z"
   },
   {
    "duration": 263,
    "start_time": "2022-01-31T19:48:37.709Z"
   },
   {
    "duration": 4,
    "start_time": "2022-01-31T19:48:48.823Z"
   },
   {
    "duration": 591,
    "start_time": "2022-01-31T19:48:48.829Z"
   },
   {
    "duration": 27,
    "start_time": "2022-01-31T19:48:49.424Z"
   },
   {
    "duration": 41,
    "start_time": "2022-01-31T19:48:49.459Z"
   },
   {
    "duration": 49,
    "start_time": "2022-01-31T19:48:49.503Z"
   },
   {
    "duration": 24,
    "start_time": "2022-01-31T19:48:49.555Z"
   },
   {
    "duration": 12,
    "start_time": "2022-01-31T19:48:49.582Z"
   },
   {
    "duration": 440,
    "start_time": "2022-01-31T19:48:49.598Z"
   },
   {
    "duration": 25,
    "start_time": "2022-01-31T19:48:50.049Z"
   },
   {
    "duration": 120,
    "start_time": "2022-01-31T19:48:50.076Z"
   },
   {
    "duration": 24,
    "start_time": "2022-01-31T19:48:50.199Z"
   },
   {
    "duration": 28,
    "start_time": "2022-01-31T19:48:50.248Z"
   },
   {
    "duration": 8,
    "start_time": "2022-01-31T19:48:50.281Z"
   },
   {
    "duration": 64,
    "start_time": "2022-01-31T19:48:50.291Z"
   },
   {
    "duration": 57,
    "start_time": "2022-01-31T19:48:50.357Z"
   },
   {
    "duration": 43,
    "start_time": "2022-01-31T19:48:50.417Z"
   },
   {
    "duration": 13,
    "start_time": "2022-01-31T19:48:50.464Z"
   },
   {
    "duration": 30,
    "start_time": "2022-01-31T19:48:50.480Z"
   },
   {
    "duration": 77,
    "start_time": "2022-01-31T19:48:50.512Z"
   },
   {
    "duration": 9,
    "start_time": "2022-01-31T19:48:50.591Z"
   },
   {
    "duration": 46,
    "start_time": "2022-01-31T19:48:50.603Z"
   },
   {
    "duration": 13,
    "start_time": "2022-01-31T19:48:50.652Z"
   },
   {
    "duration": 5,
    "start_time": "2022-01-31T19:48:50.675Z"
   },
   {
    "duration": 370,
    "start_time": "2022-01-31T19:48:50.686Z"
   },
   {
    "duration": 24,
    "start_time": "2022-01-31T19:48:51.059Z"
   },
   {
    "duration": 15,
    "start_time": "2022-01-31T19:48:51.085Z"
   },
   {
    "duration": 47,
    "start_time": "2022-01-31T19:48:51.103Z"
   },
   {
    "duration": 33,
    "start_time": "2022-01-31T19:48:51.154Z"
   },
   {
    "duration": 113,
    "start_time": "2022-01-31T19:48:51.189Z"
   },
   {
    "duration": 78,
    "start_time": "2022-01-31T19:48:51.305Z"
   },
   {
    "duration": 4,
    "start_time": "2022-01-31T19:48:51.386Z"
   },
   {
    "duration": 13,
    "start_time": "2022-01-31T19:48:51.392Z"
   },
   {
    "duration": 10,
    "start_time": "2022-01-31T19:48:51.407Z"
   },
   {
    "duration": 11,
    "start_time": "2022-01-31T19:48:51.449Z"
   },
   {
    "duration": 22,
    "start_time": "2022-01-31T19:48:51.463Z"
   },
   {
    "duration": 29,
    "start_time": "2022-01-31T19:48:51.488Z"
   },
   {
    "duration": 7,
    "start_time": "2022-01-31T19:48:51.550Z"
   },
   {
    "duration": 12,
    "start_time": "2022-01-31T19:48:51.560Z"
   },
   {
    "duration": 14,
    "start_time": "2022-01-31T19:48:51.575Z"
   },
   {
    "duration": 11,
    "start_time": "2022-01-31T19:48:51.591Z"
   },
   {
    "duration": 59,
    "start_time": "2022-01-31T19:48:51.605Z"
   },
   {
    "duration": 24,
    "start_time": "2022-01-31T19:48:51.667Z"
   },
   {
    "duration": 6,
    "start_time": "2022-01-31T19:48:51.693Z"
   },
   {
    "duration": 59,
    "start_time": "2022-01-31T19:48:51.701Z"
   },
   {
    "duration": 7,
    "start_time": "2022-01-31T19:48:51.763Z"
   },
   {
    "duration": 22,
    "start_time": "2022-01-31T19:48:51.773Z"
   },
   {
    "duration": 7,
    "start_time": "2022-01-31T19:48:51.798Z"
   },
   {
    "duration": 15,
    "start_time": "2022-01-31T19:48:51.808Z"
   },
   {
    "duration": 13,
    "start_time": "2022-01-31T19:48:51.848Z"
   },
   {
    "duration": 4544,
    "start_time": "2022-01-31T19:48:51.864Z"
   },
   {
    "duration": 37,
    "start_time": "2022-01-31T19:48:56.411Z"
   },
   {
    "duration": 26,
    "start_time": "2022-01-31T19:48:56.450Z"
   },
   {
    "duration": 11,
    "start_time": "2022-01-31T19:48:56.479Z"
   },
   {
    "duration": 95,
    "start_time": "2022-01-31T19:48:56.493Z"
   },
   {
    "duration": 1294,
    "start_time": "2022-01-31T19:48:56.591Z"
   },
   {
    "duration": 1181,
    "start_time": "2022-01-31T19:48:57.888Z"
   },
   {
    "duration": 47,
    "start_time": "2022-01-31T19:48:59.072Z"
   },
   {
    "duration": 1552,
    "start_time": "2022-01-31T19:48:59.123Z"
   },
   {
    "duration": 98,
    "start_time": "2022-01-31T19:49:00.678Z"
   },
   {
    "duration": -436,
    "start_time": "2022-01-31T19:49:01.215Z"
   },
   {
    "duration": -451,
    "start_time": "2022-01-31T19:49:01.232Z"
   },
   {
    "duration": -457,
    "start_time": "2022-01-31T19:49:01.240Z"
   },
   {
    "duration": -459,
    "start_time": "2022-01-31T19:49:01.243Z"
   },
   {
    "duration": -460,
    "start_time": "2022-01-31T19:49:01.246Z"
   },
   {
    "duration": -464,
    "start_time": "2022-01-31T19:49:01.251Z"
   },
   {
    "duration": -466,
    "start_time": "2022-01-31T19:49:01.255Z"
   },
   {
    "duration": -468,
    "start_time": "2022-01-31T19:49:01.258Z"
   },
   {
    "duration": -469,
    "start_time": "2022-01-31T19:49:01.261Z"
   },
   {
    "duration": -476,
    "start_time": "2022-01-31T19:49:01.270Z"
   },
   {
    "duration": -479,
    "start_time": "2022-01-31T19:49:01.274Z"
   },
   {
    "duration": -481,
    "start_time": "2022-01-31T19:49:01.278Z"
   },
   {
    "duration": -489,
    "start_time": "2022-01-31T19:49:01.288Z"
   },
   {
    "duration": -494,
    "start_time": "2022-01-31T19:49:01.294Z"
   },
   {
    "duration": -496,
    "start_time": "2022-01-31T19:49:01.298Z"
   },
   {
    "duration": -497,
    "start_time": "2022-01-31T19:49:01.301Z"
   },
   {
    "duration": -498,
    "start_time": "2022-01-31T19:49:01.304Z"
   },
   {
    "duration": 273,
    "start_time": "2022-01-31T19:49:05.119Z"
   },
   {
    "duration": 6443,
    "start_time": "2022-01-31T19:49:08.152Z"
   },
   {
    "duration": 4,
    "start_time": "2022-01-31T19:49:15.967Z"
   },
   {
    "duration": 499,
    "start_time": "2022-01-31T19:49:16.426Z"
   },
   {
    "duration": 30,
    "start_time": "2022-01-31T19:49:17.619Z"
   },
   {
    "duration": 39,
    "start_time": "2022-01-31T19:49:17.986Z"
   },
   {
    "duration": 19,
    "start_time": "2022-01-31T19:49:18.352Z"
   },
   {
    "duration": 22,
    "start_time": "2022-01-31T19:49:18.766Z"
   },
   {
    "duration": 16,
    "start_time": "2022-01-31T19:49:19.123Z"
   },
   {
    "duration": 497,
    "start_time": "2022-01-31T19:49:19.480Z"
   },
   {
    "duration": 21,
    "start_time": "2022-01-31T19:49:20.125Z"
   },
   {
    "duration": 117,
    "start_time": "2022-01-31T19:49:20.540Z"
   },
   {
    "duration": 30,
    "start_time": "2022-01-31T19:49:21.346Z"
   },
   {
    "duration": 19,
    "start_time": "2022-01-31T19:49:21.758Z"
   },
   {
    "duration": 9,
    "start_time": "2022-01-31T19:49:22.631Z"
   },
   {
    "duration": 34,
    "start_time": "2022-01-31T19:49:23.049Z"
   },
   {
    "duration": 64,
    "start_time": "2022-01-31T19:49:23.439Z"
   },
   {
    "duration": 20,
    "start_time": "2022-01-31T19:49:24.262Z"
   },
   {
    "duration": 15,
    "start_time": "2022-01-31T19:49:24.634Z"
   },
   {
    "duration": 24,
    "start_time": "2022-01-31T19:49:25.014Z"
   },
   {
    "duration": 54,
    "start_time": "2022-01-31T19:49:25.436Z"
   },
   {
    "duration": 10,
    "start_time": "2022-01-31T19:49:26.204Z"
   },
   {
    "duration": 13,
    "start_time": "2022-01-31T19:49:26.588Z"
   },
   {
    "duration": 12,
    "start_time": "2022-01-31T19:49:27.314Z"
   },
   {
    "duration": 7,
    "start_time": "2022-01-31T19:49:27.629Z"
   },
   {
    "duration": 311,
    "start_time": "2022-01-31T19:49:28.041Z"
   },
   {
    "duration": 24,
    "start_time": "2022-01-31T19:49:29.049Z"
   },
   {
    "duration": 16,
    "start_time": "2022-01-31T19:49:29.499Z"
   },
   {
    "duration": 13,
    "start_time": "2022-01-31T19:49:29.910Z"
   },
   {
    "duration": 35,
    "start_time": "2022-01-31T19:49:32.242Z"
   },
   {
    "duration": 94,
    "start_time": "2022-01-31T19:49:33.020Z"
   },
   {
    "duration": 68,
    "start_time": "2022-01-31T19:49:33.818Z"
   },
   {
    "duration": 5,
    "start_time": "2022-01-31T19:49:34.626Z"
   },
   {
    "duration": 9,
    "start_time": "2022-01-31T19:49:35.031Z"
   },
   {
    "duration": 11,
    "start_time": "2022-01-31T19:49:35.422Z"
   },
   {
    "duration": 4,
    "start_time": "2022-01-31T19:49:36.241Z"
   },
   {
    "duration": 20,
    "start_time": "2022-01-31T19:49:37.427Z"
   },
   {
    "duration": 33,
    "start_time": "2022-01-31T19:49:37.814Z"
   },
   {
    "duration": 6,
    "start_time": "2022-01-31T19:49:38.229Z"
   },
   {
    "duration": 6,
    "start_time": "2022-01-31T19:49:38.580Z"
   },
   {
    "duration": 16,
    "start_time": "2022-01-31T19:49:38.949Z"
   },
   {
    "duration": 13,
    "start_time": "2022-01-31T19:49:39.733Z"
   },
   {
    "duration": 24,
    "start_time": "2022-01-31T19:49:40.562Z"
   },
   {
    "duration": 26,
    "start_time": "2022-01-31T19:49:40.961Z"
   },
   {
    "duration": 7,
    "start_time": "2022-01-31T19:49:41.350Z"
   },
   {
    "duration": 6,
    "start_time": "2022-01-31T19:49:41.713Z"
   },
   {
    "duration": 8,
    "start_time": "2022-01-31T19:49:42.069Z"
   },
   {
    "duration": 15,
    "start_time": "2022-01-31T19:49:42.462Z"
   },
   {
    "duration": 5,
    "start_time": "2022-01-31T19:49:42.831Z"
   },
   {
    "duration": 14,
    "start_time": "2022-01-31T19:49:44.380Z"
   },
   {
    "duration": 6,
    "start_time": "2022-01-31T19:49:44.748Z"
   },
   {
    "duration": 4693,
    "start_time": "2022-01-31T19:49:45.152Z"
   },
   {
    "duration": 29,
    "start_time": "2022-01-31T19:49:49.848Z"
   },
   {
    "duration": 18,
    "start_time": "2022-01-31T19:49:49.879Z"
   },
   {
    "duration": 14,
    "start_time": "2022-01-31T19:49:49.900Z"
   },
   {
    "duration": 51,
    "start_time": "2022-01-31T19:50:06.803Z"
   },
   {
    "duration": 1215,
    "start_time": "2022-01-31T19:50:07.668Z"
   },
   {
    "duration": 1173,
    "start_time": "2022-01-31T19:50:10.728Z"
   },
   {
    "duration": 47,
    "start_time": "2022-01-31T19:50:13.061Z"
   },
   {
    "duration": 1123,
    "start_time": "2022-01-31T19:50:13.734Z"
   },
   {
    "duration": 80,
    "start_time": "2022-01-31T19:50:14.865Z"
   },
   {
    "duration": 126,
    "start_time": "2022-01-31T19:50:15.206Z"
   },
   {
    "duration": 47,
    "start_time": "2022-01-31T19:50:15.781Z"
   },
   {
    "duration": 51,
    "start_time": "2022-01-31T19:50:22.077Z"
   },
   {
    "duration": 995,
    "start_time": "2022-01-31T19:50:22.648Z"
   },
   {
    "duration": 11,
    "start_time": "2022-01-31T19:50:26.469Z"
   },
   {
    "duration": 25,
    "start_time": "2022-01-31T19:50:26.942Z"
   },
   {
    "duration": 281,
    "start_time": "2022-01-31T19:50:27.409Z"
   },
   {
    "duration": 25,
    "start_time": "2022-01-31T19:50:28.687Z"
   },
   {
    "duration": 26,
    "start_time": "2022-01-31T19:50:29.662Z"
   },
   {
    "duration": 801,
    "start_time": "2022-01-31T19:50:31.598Z"
   },
   {
    "duration": 49,
    "start_time": "2022-01-31T19:50:36.076Z"
   },
   {
    "duration": 9,
    "start_time": "2022-01-31T19:50:37.086Z"
   },
   {
    "duration": 11,
    "start_time": "2022-01-31T19:50:38.827Z"
   },
   {
    "duration": 12,
    "start_time": "2022-01-31T19:50:42.615Z"
   },
   {
    "duration": 8,
    "start_time": "2022-01-31T19:50:45.001Z"
   },
   {
    "duration": 9,
    "start_time": "2022-01-31T19:50:46.472Z"
   },
   {
    "duration": 41,
    "start_time": "2022-01-31T19:50:48.367Z"
   },
   {
    "duration": 14,
    "start_time": "2022-01-31T19:50:54.513Z"
   },
   {
    "duration": 31,
    "start_time": "2022-01-31T19:50:57.066Z"
   },
   {
    "duration": 401,
    "start_time": "2022-01-31T19:51:41.610Z"
   },
   {
    "duration": 270,
    "start_time": "2022-01-31T19:52:12.668Z"
   },
   {
    "duration": 274,
    "start_time": "2022-01-31T19:53:46.879Z"
   },
   {
    "duration": 28,
    "start_time": "2022-01-31T19:54:30.652Z"
   },
   {
    "duration": 26,
    "start_time": "2022-01-31T19:55:58.171Z"
   },
   {
    "duration": 20,
    "start_time": "2022-01-31T19:56:41.346Z"
   },
   {
    "duration": 12,
    "start_time": "2022-01-31T19:56:48.368Z"
   },
   {
    "duration": 24,
    "start_time": "2022-01-31T19:57:07.962Z"
   },
   {
    "duration": 35,
    "start_time": "2022-01-31T19:57:22.887Z"
   },
   {
    "duration": 28,
    "start_time": "2022-01-31T19:58:07.305Z"
   },
   {
    "duration": 25,
    "start_time": "2022-01-31T19:58:38.206Z"
   },
   {
    "duration": 464,
    "start_time": "2022-01-31T20:00:06.593Z"
   },
   {
    "duration": 285,
    "start_time": "2022-01-31T20:00:48.540Z"
   },
   {
    "duration": 1542,
    "start_time": "2022-02-10T07:28:44.875Z"
   },
   {
    "duration": 494,
    "start_time": "2022-02-10T07:28:46.420Z"
   },
   {
    "duration": 28,
    "start_time": "2022-02-10T07:28:46.918Z"
   },
   {
    "duration": 48,
    "start_time": "2022-02-10T07:28:46.950Z"
   },
   {
    "duration": 47,
    "start_time": "2022-02-10T07:28:47.001Z"
   },
   {
    "duration": 21,
    "start_time": "2022-02-10T07:28:47.050Z"
   },
   {
    "duration": 12,
    "start_time": "2022-02-10T07:28:47.074Z"
   },
   {
    "duration": 430,
    "start_time": "2022-02-10T07:28:47.089Z"
   },
   {
    "duration": 20,
    "start_time": "2022-02-10T07:28:47.531Z"
   },
   {
    "duration": 137,
    "start_time": "2022-02-10T07:28:47.555Z"
   },
   {
    "duration": 22,
    "start_time": "2022-02-10T07:28:47.694Z"
   },
   {
    "duration": 18,
    "start_time": "2022-02-10T07:28:47.732Z"
   },
   {
    "duration": 14,
    "start_time": "2022-02-10T07:28:47.752Z"
   },
   {
    "duration": 32,
    "start_time": "2022-02-10T07:28:47.769Z"
   },
   {
    "duration": 81,
    "start_time": "2022-02-10T07:28:47.803Z"
   },
   {
    "duration": 19,
    "start_time": "2022-02-10T07:28:47.887Z"
   },
   {
    "duration": 36,
    "start_time": "2022-02-10T07:28:47.908Z"
   },
   {
    "duration": 25,
    "start_time": "2022-02-10T07:28:47.947Z"
   },
   {
    "duration": 87,
    "start_time": "2022-02-10T07:28:47.974Z"
   },
   {
    "duration": 8,
    "start_time": "2022-02-10T07:28:48.064Z"
   },
   {
    "duration": 17,
    "start_time": "2022-02-10T07:28:48.075Z"
   },
   {
    "duration": 11,
    "start_time": "2022-02-10T07:28:48.095Z"
   },
   {
    "duration": 27,
    "start_time": "2022-02-10T07:28:48.108Z"
   },
   {
    "duration": 322,
    "start_time": "2022-02-10T07:28:48.139Z"
   },
   {
    "duration": 23,
    "start_time": "2022-02-10T07:28:48.465Z"
   },
   {
    "duration": 45,
    "start_time": "2022-02-10T07:28:48.492Z"
   },
   {
    "duration": 13,
    "start_time": "2022-02-10T07:28:48.546Z"
   },
   {
    "duration": 31,
    "start_time": "2022-02-10T07:28:48.563Z"
   },
   {
    "duration": 135,
    "start_time": "2022-02-10T07:28:48.597Z"
   },
   {
    "duration": 106,
    "start_time": "2022-02-10T07:28:48.735Z"
   },
   {
    "duration": 4,
    "start_time": "2022-02-10T07:28:48.844Z"
   },
   {
    "duration": 11,
    "start_time": "2022-02-10T07:28:48.850Z"
   },
   {
    "duration": 18,
    "start_time": "2022-02-10T07:28:48.863Z"
   },
   {
    "duration": 14,
    "start_time": "2022-02-10T07:28:48.883Z"
   },
   {
    "duration": 40,
    "start_time": "2022-02-10T07:28:48.900Z"
   },
   {
    "duration": 36,
    "start_time": "2022-02-10T07:28:48.943Z"
   },
   {
    "duration": 5,
    "start_time": "2022-02-10T07:28:48.982Z"
   },
   {
    "duration": 14,
    "start_time": "2022-02-10T07:28:48.989Z"
   },
   {
    "duration": 35,
    "start_time": "2022-02-10T07:28:49.005Z"
   },
   {
    "duration": 11,
    "start_time": "2022-02-10T07:28:49.043Z"
   },
   {
    "duration": 26,
    "start_time": "2022-02-10T07:28:49.058Z"
   },
   {
    "duration": 61,
    "start_time": "2022-02-10T07:28:49.086Z"
   },
   {
    "duration": 6,
    "start_time": "2022-02-10T07:28:49.150Z"
   },
   {
    "duration": 12,
    "start_time": "2022-02-10T07:28:49.158Z"
   },
   {
    "duration": 7,
    "start_time": "2022-02-10T07:28:49.172Z"
   },
   {
    "duration": 14,
    "start_time": "2022-02-10T07:28:49.182Z"
   },
   {
    "duration": 37,
    "start_time": "2022-02-10T07:28:49.198Z"
   },
   {
    "duration": 15,
    "start_time": "2022-02-10T07:28:49.238Z"
   },
   {
    "duration": 8,
    "start_time": "2022-02-10T07:28:49.255Z"
   },
   {
    "duration": 4352,
    "start_time": "2022-02-10T07:28:49.266Z"
   },
   {
    "duration": 25,
    "start_time": "2022-02-10T07:28:53.620Z"
   },
   {
    "duration": 17,
    "start_time": "2022-02-10T07:28:53.648Z"
   },
   {
    "duration": 11,
    "start_time": "2022-02-10T07:28:53.667Z"
   },
   {
    "duration": 73,
    "start_time": "2022-02-10T07:28:53.680Z"
   },
   {
    "duration": 1148,
    "start_time": "2022-02-10T07:28:53.756Z"
   },
   {
    "duration": 1213,
    "start_time": "2022-02-10T07:28:54.906Z"
   },
   {
    "duration": 56,
    "start_time": "2022-02-10T07:28:56.121Z"
   },
   {
    "duration": 1025,
    "start_time": "2022-02-10T07:28:56.179Z"
   },
   {
    "duration": 58,
    "start_time": "2022-02-10T07:28:57.207Z"
   },
   {
    "duration": 869,
    "start_time": "2022-02-10T07:28:57.267Z"
   },
   {
    "duration": 139,
    "start_time": "2022-02-10T07:28:58.138Z"
   },
   {
    "duration": -27,
    "start_time": "2022-02-10T07:28:58.307Z"
   },
   {
    "duration": -36,
    "start_time": "2022-02-10T07:28:58.318Z"
   },
   {
    "duration": -46,
    "start_time": "2022-02-10T07:28:58.329Z"
   },
   {
    "duration": -47,
    "start_time": "2022-02-10T07:28:58.332Z"
   },
   {
    "duration": -51,
    "start_time": "2022-02-10T07:28:58.337Z"
   },
   {
    "duration": -53,
    "start_time": "2022-02-10T07:28:58.341Z"
   },
   {
    "duration": -55,
    "start_time": "2022-02-10T07:28:58.345Z"
   },
   {
    "duration": -64,
    "start_time": "2022-02-10T07:28:58.355Z"
   },
   {
    "duration": -73,
    "start_time": "2022-02-10T07:28:58.366Z"
   },
   {
    "duration": -75,
    "start_time": "2022-02-10T07:28:58.369Z"
   },
   {
    "duration": -77,
    "start_time": "2022-02-10T07:28:58.373Z"
   },
   {
    "duration": -78,
    "start_time": "2022-02-10T07:28:58.376Z"
   },
   {
    "duration": -81,
    "start_time": "2022-02-10T07:28:58.380Z"
   },
   {
    "duration": -83,
    "start_time": "2022-02-10T07:28:58.384Z"
   },
   {
    "duration": -84,
    "start_time": "2022-02-10T07:28:58.387Z"
   },
   {
    "duration": -86,
    "start_time": "2022-02-10T07:28:58.390Z"
   },
   {
    "duration": 6,
    "start_time": "2022-02-10T07:31:02.658Z"
   },
   {
    "duration": 6,
    "start_time": "2022-02-10T07:31:11.220Z"
   },
   {
    "duration": 12,
    "start_time": "2022-02-10T07:31:22.974Z"
   },
   {
    "duration": 44,
    "start_time": "2022-02-10T07:32:54.460Z"
   },
   {
    "duration": 6,
    "start_time": "2022-02-10T07:33:29.935Z"
   },
   {
    "duration": 20,
    "start_time": "2022-02-10T07:33:29.944Z"
   },
   {
    "duration": 317,
    "start_time": "2022-02-10T07:33:29.967Z"
   },
   {
    "duration": 25,
    "start_time": "2022-02-10T07:33:30.286Z"
   },
   {
    "duration": 26,
    "start_time": "2022-02-10T07:33:30.333Z"
   },
   {
    "duration": 819,
    "start_time": "2022-02-10T07:33:30.362Z"
   },
   {
    "duration": 289,
    "start_time": "2022-02-10T07:33:31.184Z"
   },
   {
    "duration": 107,
    "start_time": "2022-02-10T07:33:31.477Z"
   },
   {
    "duration": 2,
    "start_time": "2022-02-10T07:33:31.585Z"
   },
   {
    "duration": -13,
    "start_time": "2022-02-10T07:33:31.601Z"
   },
   {
    "duration": -16,
    "start_time": "2022-02-10T07:33:31.606Z"
   },
   {
    "duration": -18,
    "start_time": "2022-02-10T07:33:31.610Z"
   },
   {
    "duration": -23,
    "start_time": "2022-02-10T07:33:31.616Z"
   },
   {
    "duration": -33,
    "start_time": "2022-02-10T07:33:31.628Z"
   },
   {
    "duration": -35,
    "start_time": "2022-02-10T07:33:31.632Z"
   },
   {
    "duration": -38,
    "start_time": "2022-02-10T07:33:31.636Z"
   },
   {
    "duration": 45,
    "start_time": "2022-02-10T07:33:46.197Z"
   },
   {
    "duration": 8,
    "start_time": "2022-02-10T07:33:46.245Z"
   },
   {
    "duration": 10,
    "start_time": "2022-02-10T07:33:46.257Z"
   },
   {
    "duration": 11,
    "start_time": "2022-02-10T07:33:46.271Z"
   },
   {
    "duration": 53,
    "start_time": "2022-02-10T07:33:46.284Z"
   },
   {
    "duration": 11,
    "start_time": "2022-02-10T07:33:46.340Z"
   },
   {
    "duration": 162,
    "start_time": "2022-02-10T07:33:46.354Z"
   },
   {
    "duration": 20,
    "start_time": "2022-02-10T07:33:46.519Z"
   },
   {
    "duration": 769,
    "start_time": "2022-02-10T07:46:12.472Z"
   },
   {
    "duration": 1523,
    "start_time": "2022-02-10T08:12:26.231Z"
   },
   {
    "duration": 454,
    "start_time": "2022-02-10T08:12:28.941Z"
   },
   {
    "duration": 28,
    "start_time": "2022-02-10T08:12:32.195Z"
   },
   {
    "duration": 45,
    "start_time": "2022-02-10T08:12:32.890Z"
   },
   {
    "duration": 20,
    "start_time": "2022-02-10T08:12:33.535Z"
   },
   {
    "duration": 20,
    "start_time": "2022-02-10T08:12:34.278Z"
   },
   {
    "duration": 12,
    "start_time": "2022-02-10T08:12:34.959Z"
   },
   {
    "duration": 384,
    "start_time": "2022-02-10T08:12:37.481Z"
   },
   {
    "duration": 19,
    "start_time": "2022-02-10T08:12:39.883Z"
   },
   {
    "duration": 120,
    "start_time": "2022-02-10T08:12:47.150Z"
   },
   {
    "duration": 22,
    "start_time": "2022-02-10T08:12:49.194Z"
   },
   {
    "duration": 16,
    "start_time": "2022-02-10T08:12:49.975Z"
   },
   {
    "duration": 8,
    "start_time": "2022-02-10T08:12:51.995Z"
   },
   {
    "duration": 34,
    "start_time": "2022-02-10T08:12:53.376Z"
   },
   {
    "duration": 80,
    "start_time": "2022-02-10T08:12:55.297Z"
   },
   {
    "duration": 19,
    "start_time": "2022-02-10T08:12:56.154Z"
   },
   {
    "duration": 15,
    "start_time": "2022-02-10T08:12:57.211Z"
   },
   {
    "duration": 26,
    "start_time": "2022-02-10T08:12:57.583Z"
   },
   {
    "duration": 57,
    "start_time": "2022-02-10T08:12:58.096Z"
   },
   {
    "duration": 10,
    "start_time": "2022-02-10T08:12:59.302Z"
   },
   {
    "duration": 15,
    "start_time": "2022-02-10T08:12:59.997Z"
   },
   {
    "duration": 9,
    "start_time": "2022-02-10T08:13:03.648Z"
   },
   {
    "duration": 7,
    "start_time": "2022-02-10T08:13:04.641Z"
   },
   {
    "duration": 298,
    "start_time": "2022-02-10T08:13:05.678Z"
   },
   {
    "duration": 22,
    "start_time": "2022-02-10T08:13:06.967Z"
   },
   {
    "duration": 15,
    "start_time": "2022-02-10T08:13:07.768Z"
   },
   {
    "duration": 12,
    "start_time": "2022-02-10T08:13:08.496Z"
   },
   {
    "duration": 435,
    "start_time": "2022-02-10T08:16:54.895Z"
   },
   {
    "duration": 384,
    "start_time": "2022-02-10T08:17:06.921Z"
   },
   {
    "duration": 91,
    "start_time": "2022-02-10T08:17:15.221Z"
   },
   {
    "duration": 140,
    "start_time": "2022-02-10T08:17:34.022Z"
   },
   {
    "duration": 49,
    "start_time": "2022-02-10T08:18:03.630Z"
   },
   {
    "duration": 72,
    "start_time": "2022-02-10T08:23:09.423Z"
   },
   {
    "duration": 123,
    "start_time": "2022-02-10T08:23:36.093Z"
   },
   {
    "duration": 652,
    "start_time": "2022-02-10T08:24:05.876Z"
   },
   {
    "duration": 563,
    "start_time": "2022-02-10T08:55:52.111Z"
   },
   {
    "duration": 75,
    "start_time": "2022-02-10T08:56:08.456Z"
   },
   {
    "duration": 184,
    "start_time": "2022-02-10T08:56:28.557Z"
   },
   {
    "duration": 171,
    "start_time": "2022-02-10T08:56:54.044Z"
   },
   {
    "duration": 11,
    "start_time": "2022-02-10T08:59:52.746Z"
   },
   {
    "duration": 9,
    "start_time": "2022-02-10T09:00:08.770Z"
   },
   {
    "duration": 10,
    "start_time": "2022-02-10T09:00:15.748Z"
   },
   {
    "duration": 174,
    "start_time": "2022-02-10T10:04:57.384Z"
   },
   {
    "duration": 197,
    "start_time": "2022-02-10T10:06:08.180Z"
   },
   {
    "duration": 169,
    "start_time": "2022-02-10T10:06:41.514Z"
   },
   {
    "duration": 225,
    "start_time": "2022-02-10T10:06:58.753Z"
   },
   {
    "duration": 282,
    "start_time": "2022-02-10T10:07:23.172Z"
   },
   {
    "duration": 285,
    "start_time": "2022-02-10T10:07:43.544Z"
   },
   {
    "duration": 346,
    "start_time": "2022-02-10T10:08:06.603Z"
   },
   {
    "duration": 133,
    "start_time": "2022-02-10T10:08:31.748Z"
   },
   {
    "duration": 334,
    "start_time": "2022-02-10T10:08:36.053Z"
   },
   {
    "duration": 443,
    "start_time": "2022-02-10T10:28:00.045Z"
   },
   {
    "duration": 51446,
    "start_time": "2022-02-10T10:28:21.764Z"
   },
   {
    "duration": 10955,
    "start_time": "2022-02-10T10:29:13.213Z"
   },
   {
    "duration": 29,
    "start_time": "2022-02-10T10:59:58.492Z"
   },
   {
    "duration": 3,
    "start_time": "2022-02-10T11:00:14.072Z"
   },
   {
    "duration": 431,
    "start_time": "2022-02-10T11:17:17.709Z"
   },
   {
    "duration": 2598,
    "start_time": "2022-02-10T11:17:39.925Z"
   },
   {
    "duration": 470,
    "start_time": "2022-02-10T11:17:42.527Z"
   },
   {
    "duration": 34,
    "start_time": "2022-02-10T11:17:43.000Z"
   },
   {
    "duration": 39,
    "start_time": "2022-02-10T11:17:43.037Z"
   },
   {
    "duration": 19,
    "start_time": "2022-02-10T11:17:43.079Z"
   },
   {
    "duration": 19,
    "start_time": "2022-02-10T11:17:43.124Z"
   },
   {
    "duration": 16,
    "start_time": "2022-02-10T11:17:43.145Z"
   },
   {
    "duration": 1112,
    "start_time": "2022-02-10T11:17:43.166Z"
   },
   {
    "duration": 19,
    "start_time": "2022-02-10T11:17:44.281Z"
   },
   {
    "duration": 82,
    "start_time": "2022-02-10T11:17:44.303Z"
   },
   {
    "duration": 119,
    "start_time": "2022-02-10T11:17:44.387Z"
   },
   {
    "duration": 21,
    "start_time": "2022-02-10T11:17:44.508Z"
   },
   {
    "duration": 7,
    "start_time": "2022-02-10T11:17:44.531Z"
   },
   {
    "duration": 28,
    "start_time": "2022-02-10T11:17:44.541Z"
   },
   {
    "duration": 98,
    "start_time": "2022-02-10T11:17:44.571Z"
   },
   {
    "duration": 25,
    "start_time": "2022-02-10T11:17:44.672Z"
   },
   {
    "duration": 31,
    "start_time": "2022-02-10T11:17:44.700Z"
   },
   {
    "duration": 28,
    "start_time": "2022-02-10T11:17:44.733Z"
   },
   {
    "duration": 71,
    "start_time": "2022-02-10T11:17:44.764Z"
   },
   {
    "duration": 14,
    "start_time": "2022-02-10T11:17:44.838Z"
   },
   {
    "duration": 15,
    "start_time": "2022-02-10T11:17:44.855Z"
   },
   {
    "duration": 15,
    "start_time": "2022-02-10T11:17:44.873Z"
   },
   {
    "duration": 6,
    "start_time": "2022-02-10T11:17:44.926Z"
   },
   {
    "duration": 359,
    "start_time": "2022-02-10T11:17:44.937Z"
   },
   {
    "duration": 30,
    "start_time": "2022-02-10T11:17:45.299Z"
   },
   {
    "duration": 17,
    "start_time": "2022-02-10T11:17:45.331Z"
   },
   {
    "duration": 10,
    "start_time": "2022-02-10T11:17:45.351Z"
   },
   {
    "duration": 320,
    "start_time": "2022-02-10T11:17:45.363Z"
   },
   {
    "duration": 63,
    "start_time": "2022-02-10T11:17:45.686Z"
   },
   {
    "duration": 32,
    "start_time": "2022-02-10T11:17:45.751Z"
   },
   {
    "duration": 106,
    "start_time": "2022-02-10T11:17:45.786Z"
   },
   {
    "duration": 97,
    "start_time": "2022-02-10T11:17:45.894Z"
   },
   {
    "duration": 5,
    "start_time": "2022-02-10T11:17:45.994Z"
   },
   {
    "duration": 24,
    "start_time": "2022-02-10T11:17:46.002Z"
   },
   {
    "duration": 10,
    "start_time": "2022-02-10T11:17:46.028Z"
   },
   {
    "duration": 5,
    "start_time": "2022-02-10T11:17:46.041Z"
   },
   {
    "duration": 21,
    "start_time": "2022-02-10T11:17:46.049Z"
   },
   {
    "duration": 78,
    "start_time": "2022-02-10T11:17:46.072Z"
   },
   {
    "duration": 5,
    "start_time": "2022-02-10T11:17:46.153Z"
   },
   {
    "duration": 7,
    "start_time": "2022-02-10T11:17:46.161Z"
   },
   {
    "duration": 14,
    "start_time": "2022-02-10T11:17:46.171Z"
   },
   {
    "duration": 38,
    "start_time": "2022-02-10T11:17:46.187Z"
   },
   {
    "duration": 25,
    "start_time": "2022-02-10T11:17:46.227Z"
   },
   {
    "duration": 32,
    "start_time": "2022-02-10T11:17:46.254Z"
   },
   {
    "duration": 35,
    "start_time": "2022-02-10T11:17:46.288Z"
   },
   {
    "duration": 6,
    "start_time": "2022-02-10T11:17:46.325Z"
   },
   {
    "duration": 8,
    "start_time": "2022-02-10T11:17:46.333Z"
   },
   {
    "duration": 16,
    "start_time": "2022-02-10T11:17:46.343Z"
   },
   {
    "duration": 4,
    "start_time": "2022-02-10T11:17:46.362Z"
   },
   {
    "duration": 12,
    "start_time": "2022-02-10T11:17:46.368Z"
   },
   {
    "duration": 41,
    "start_time": "2022-02-10T11:17:46.382Z"
   },
   {
    "duration": 5,
    "start_time": "2022-02-10T11:17:46.425Z"
   },
   {
    "duration": 6,
    "start_time": "2022-02-10T11:17:46.433Z"
   },
   {
    "duration": 3712,
    "start_time": "2022-02-10T11:17:46.442Z"
   },
   {
    "duration": 9,
    "start_time": "2022-02-10T11:17:50.157Z"
   },
   {
    "duration": 30,
    "start_time": "2022-02-10T11:17:50.169Z"
   },
   {
    "duration": 36,
    "start_time": "2022-02-10T11:17:50.202Z"
   },
   {
    "duration": 8,
    "start_time": "2022-02-10T11:17:50.240Z"
   },
   {
    "duration": 44,
    "start_time": "2022-02-10T11:17:50.251Z"
   },
   {
    "duration": 43,
    "start_time": "2022-02-10T11:17:50.324Z"
   },
   {
    "duration": 1080,
    "start_time": "2022-02-10T11:17:50.370Z"
   },
   {
    "duration": 1086,
    "start_time": "2022-02-10T11:17:51.453Z"
   },
   {
    "duration": 45,
    "start_time": "2022-02-10T11:17:52.542Z"
   },
   {
    "duration": 952,
    "start_time": "2022-02-10T11:17:52.590Z"
   },
   {
    "duration": 44,
    "start_time": "2022-02-10T11:17:53.546Z"
   },
   {
    "duration": 938,
    "start_time": "2022-02-10T11:17:53.592Z"
   },
   {
    "duration": 6,
    "start_time": "2022-02-10T11:17:54.532Z"
   },
   {
    "duration": 14,
    "start_time": "2022-02-10T11:17:54.549Z"
   },
   {
    "duration": 403,
    "start_time": "2022-02-10T11:17:54.567Z"
   },
   {
    "duration": 23,
    "start_time": "2022-02-10T11:17:54.973Z"
   },
   {
    "duration": 40,
    "start_time": "2022-02-10T11:17:54.999Z"
   },
   {
    "duration": 684,
    "start_time": "2022-02-10T11:17:55.041Z"
   },
   {
    "duration": 309,
    "start_time": "2022-02-10T11:17:55.728Z"
   },
   {
    "duration": 104,
    "start_time": "2022-02-10T11:17:56.040Z"
   },
   {
    "duration": -184797,
    "start_time": "2022-02-10T11:21:00.944Z"
   },
   {
    "duration": -184800,
    "start_time": "2022-02-10T11:21:00.949Z"
   },
   {
    "duration": -184802,
    "start_time": "2022-02-10T11:21:00.953Z"
   },
   {
    "duration": -184812,
    "start_time": "2022-02-10T11:21:00.965Z"
   },
   {
    "duration": -184814,
    "start_time": "2022-02-10T11:21:00.968Z"
   },
   {
    "duration": -184817,
    "start_time": "2022-02-10T11:21:00.973Z"
   },
   {
    "duration": -184821,
    "start_time": "2022-02-10T11:21:00.978Z"
   },
   {
    "duration": -184823,
    "start_time": "2022-02-10T11:21:00.982Z"
   },
   {
    "duration": 33,
    "start_time": "2022-02-10T11:21:00.123Z"
   },
   {
    "duration": 36,
    "start_time": "2022-02-10T11:21:06.559Z"
   },
   {
    "duration": 75,
    "start_time": "2022-02-10T11:21:44.154Z"
   },
   {
    "duration": 5,
    "start_time": "2022-02-10T11:21:48.827Z"
   },
   {
    "duration": 8,
    "start_time": "2022-02-10T11:21:49.735Z"
   },
   {
    "duration": 11,
    "start_time": "2022-02-10T11:21:50.422Z"
   },
   {
    "duration": 37,
    "start_time": "2022-02-10T12:22:21.797Z"
   },
   {
    "duration": 5048,
    "start_time": "2022-02-10T12:23:26.283Z"
   },
   {
    "duration": 4065,
    "start_time": "2022-02-10T12:24:31.681Z"
   },
   {
    "duration": 4337,
    "start_time": "2022-02-10T12:25:55.059Z"
   },
   {
    "duration": 8,
    "start_time": "2022-02-10T12:27:21.813Z"
   },
   {
    "duration": 5,
    "start_time": "2022-02-10T12:48:00.801Z"
   },
   {
    "duration": 549,
    "start_time": "2022-02-10T12:48:00.809Z"
   },
   {
    "duration": 38,
    "start_time": "2022-02-10T12:48:01.361Z"
   },
   {
    "duration": 96,
    "start_time": "2022-02-10T12:48:01.402Z"
   },
   {
    "duration": 19,
    "start_time": "2022-02-10T12:48:01.501Z"
   },
   {
    "duration": 35,
    "start_time": "2022-02-10T12:48:01.522Z"
   },
   {
    "duration": 25,
    "start_time": "2022-02-10T12:48:01.560Z"
   },
   {
    "duration": 548,
    "start_time": "2022-02-10T12:48:01.591Z"
   },
   {
    "duration": 27,
    "start_time": "2022-02-10T12:48:02.143Z"
   },
   {
    "duration": 137,
    "start_time": "2022-02-10T12:48:02.173Z"
   },
   {
    "duration": 42,
    "start_time": "2022-02-10T12:48:02.314Z"
   },
   {
    "duration": 17,
    "start_time": "2022-02-10T12:48:02.358Z"
   },
   {
    "duration": 18,
    "start_time": "2022-02-10T12:48:02.377Z"
   },
   {
    "duration": 66,
    "start_time": "2022-02-10T12:48:02.397Z"
   },
   {
    "duration": 101,
    "start_time": "2022-02-10T12:48:02.466Z"
   },
   {
    "duration": 52,
    "start_time": "2022-02-10T12:48:02.570Z"
   },
   {
    "duration": 16,
    "start_time": "2022-02-10T12:48:02.625Z"
   },
   {
    "duration": 38,
    "start_time": "2022-02-10T12:48:02.643Z"
   },
   {
    "duration": 74,
    "start_time": "2022-02-10T12:48:02.684Z"
   },
   {
    "duration": 14,
    "start_time": "2022-02-10T12:48:02.761Z"
   },
   {
    "duration": 45,
    "start_time": "2022-02-10T12:48:02.778Z"
   },
   {
    "duration": 17,
    "start_time": "2022-02-10T12:48:02.826Z"
   },
   {
    "duration": 6,
    "start_time": "2022-02-10T12:48:02.850Z"
   },
   {
    "duration": 416,
    "start_time": "2022-02-10T12:48:02.860Z"
   },
   {
    "duration": 21,
    "start_time": "2022-02-10T12:48:03.278Z"
   },
   {
    "duration": 35,
    "start_time": "2022-02-10T12:48:03.302Z"
   },
   {
    "duration": 12,
    "start_time": "2022-02-10T12:48:03.340Z"
   },
   {
    "duration": 332,
    "start_time": "2022-02-10T12:48:03.354Z"
   },
   {
    "duration": 59,
    "start_time": "2022-02-10T12:48:03.690Z"
   },
   {
    "duration": 32,
    "start_time": "2022-02-10T12:48:03.751Z"
   },
   {
    "duration": 5,
    "start_time": "2022-02-10T12:48:03.786Z"
   },
   {
    "duration": 7,
    "start_time": "2022-02-10T12:48:03.794Z"
   },
   {
    "duration": 364,
    "start_time": "2022-02-10T12:48:03.804Z"
   },
   {
    "duration": -184963,
    "start_time": "2022-02-10T12:51:09.134Z"
   },
   {
    "duration": -184965,
    "start_time": "2022-02-10T12:51:09.138Z"
   },
   {
    "duration": -184967,
    "start_time": "2022-02-10T12:51:09.142Z"
   },
   {
    "duration": -184972,
    "start_time": "2022-02-10T12:51:09.148Z"
   },
   {
    "duration": -184975,
    "start_time": "2022-02-10T12:51:09.153Z"
   },
   {
    "duration": -184980,
    "start_time": "2022-02-10T12:51:09.159Z"
   },
   {
    "duration": -184982,
    "start_time": "2022-02-10T12:51:09.163Z"
   },
   {
    "duration": -184986,
    "start_time": "2022-02-10T12:51:09.168Z"
   },
   {
    "duration": -184988,
    "start_time": "2022-02-10T12:51:09.172Z"
   },
   {
    "duration": -184992,
    "start_time": "2022-02-10T12:51:09.177Z"
   },
   {
    "duration": -184995,
    "start_time": "2022-02-10T12:51:09.182Z"
   },
   {
    "duration": -184999,
    "start_time": "2022-02-10T12:51:09.187Z"
   },
   {
    "duration": -185002,
    "start_time": "2022-02-10T12:51:09.191Z"
   },
   {
    "duration": -185005,
    "start_time": "2022-02-10T12:51:09.196Z"
   },
   {
    "duration": -185008,
    "start_time": "2022-02-10T12:51:09.200Z"
   },
   {
    "duration": -185012,
    "start_time": "2022-02-10T12:51:09.205Z"
   },
   {
    "duration": 7,
    "start_time": "2022-02-10T12:55:24.557Z"
   },
   {
    "duration": 293,
    "start_time": "2022-02-10T13:38:40.134Z"
   },
   {
    "duration": 42,
    "start_time": "2022-02-10T13:39:58.836Z"
   },
   {
    "duration": 292,
    "start_time": "2022-02-10T15:07:07.071Z"
   },
   {
    "duration": 678,
    "start_time": "2022-02-10T15:08:11.635Z"
   },
   {
    "duration": 355,
    "start_time": "2022-02-10T15:08:33.621Z"
   },
   {
    "duration": 560,
    "start_time": "2022-02-10T15:10:19.917Z"
   },
   {
    "duration": 14,
    "start_time": "2022-02-10T15:10:29.238Z"
   },
   {
    "duration": 26,
    "start_time": "2022-02-10T15:10:32.623Z"
   },
   {
    "duration": 51,
    "start_time": "2022-02-10T15:11:06.262Z"
   },
   {
    "duration": 26,
    "start_time": "2022-02-10T15:11:13.539Z"
   },
   {
    "duration": 36,
    "start_time": "2022-02-10T15:11:23.824Z"
   },
   {
    "duration": 29,
    "start_time": "2022-02-10T15:11:32.714Z"
   },
   {
    "duration": 386,
    "start_time": "2022-02-10T15:12:19.656Z"
   },
   {
    "duration": 749,
    "start_time": "2022-02-10T15:13:11.180Z"
   },
   {
    "duration": 679,
    "start_time": "2022-02-10T15:14:05.088Z"
   },
   {
    "duration": 580,
    "start_time": "2022-02-10T15:14:28.924Z"
   },
   {
    "duration": 504,
    "start_time": "2022-02-10T15:14:40.653Z"
   },
   {
    "duration": 670,
    "start_time": "2022-02-10T15:14:52.453Z"
   },
   {
    "duration": 1071,
    "start_time": "2022-02-10T15:15:14.008Z"
   },
   {
    "duration": 753,
    "start_time": "2022-02-10T15:15:43.883Z"
   },
   {
    "duration": 479,
    "start_time": "2022-02-10T15:17:07.826Z"
   },
   {
    "duration": 527,
    "start_time": "2022-02-10T15:17:48.348Z"
   },
   {
    "duration": 509,
    "start_time": "2022-02-10T15:18:10.754Z"
   },
   {
    "duration": 514,
    "start_time": "2022-02-10T15:18:30.153Z"
   },
   {
    "duration": 109,
    "start_time": "2022-02-10T15:18:44.436Z"
   },
   {
    "duration": 526,
    "start_time": "2022-02-10T15:18:47.780Z"
   },
   {
    "duration": 618,
    "start_time": "2022-02-10T15:18:52.615Z"
   },
   {
    "duration": 538,
    "start_time": "2022-02-10T15:19:24.201Z"
   },
   {
    "duration": 359,
    "start_time": "2022-02-10T15:28:07.618Z"
   },
   {
    "duration": 7,
    "start_time": "2022-02-10T15:29:44.354Z"
   },
   {
    "duration": 331,
    "start_time": "2022-02-10T15:31:39.653Z"
   },
   {
    "duration": 409,
    "start_time": "2022-02-10T15:31:56.236Z"
   },
   {
    "duration": 415,
    "start_time": "2022-02-10T15:32:10.372Z"
   },
   {
    "duration": 8,
    "start_time": "2022-02-10T15:32:35.492Z"
   },
   {
    "duration": 16,
    "start_time": "2022-02-10T15:34:52.318Z"
   },
   {
    "duration": 19,
    "start_time": "2022-02-10T15:35:01.867Z"
   },
   {
    "duration": 22,
    "start_time": "2022-02-10T15:35:39.140Z"
   },
   {
    "duration": 12,
    "start_time": "2022-02-10T15:35:50.558Z"
   },
   {
    "duration": 19,
    "start_time": "2022-02-10T15:36:02.431Z"
   },
   {
    "duration": 32,
    "start_time": "2022-02-10T15:36:12.701Z"
   },
   {
    "duration": 12,
    "start_time": "2022-02-10T15:36:19.969Z"
   },
   {
    "duration": 337,
    "start_time": "2022-02-10T15:36:25.442Z"
   },
   {
    "duration": 352,
    "start_time": "2022-02-10T15:36:47.668Z"
   },
   {
    "duration": 22,
    "start_time": "2022-02-10T15:37:11.431Z"
   },
   {
    "duration": 334,
    "start_time": "2022-02-10T15:37:24.900Z"
   },
   {
    "duration": 950,
    "start_time": "2022-02-10T15:37:45.341Z"
   },
   {
    "duration": 1557,
    "start_time": "2022-02-10T15:38:15.454Z"
   },
   {
    "duration": 1482,
    "start_time": "2022-02-10T15:39:17.209Z"
   },
   {
    "duration": 1530,
    "start_time": "2022-02-10T15:39:28.818Z"
   },
   {
    "duration": 1516,
    "start_time": "2022-02-10T15:39:41.626Z"
   },
   {
    "duration": 1423,
    "start_time": "2022-02-10T15:40:01.500Z"
   },
   {
    "duration": 19,
    "start_time": "2022-02-10T15:40:18.360Z"
   },
   {
    "duration": 25,
    "start_time": "2022-02-10T15:41:56.790Z"
   },
   {
    "duration": 6,
    "start_time": "2022-02-10T15:42:57.270Z"
   },
   {
    "duration": 27,
    "start_time": "2022-02-10T15:43:48.747Z"
   },
   {
    "duration": 41,
    "start_time": "2022-02-10T15:44:02.808Z"
   },
   {
    "duration": 23,
    "start_time": "2022-02-10T15:44:13.611Z"
   },
   {
    "duration": 30,
    "start_time": "2022-02-10T15:44:21.310Z"
   },
   {
    "duration": 37,
    "start_time": "2022-02-10T15:44:42.142Z"
   },
   {
    "duration": 1920,
    "start_time": "2022-02-10T15:45:05.619Z"
   },
   {
    "duration": 1585,
    "start_time": "2022-02-10T15:45:29.972Z"
   },
   {
    "duration": 2043,
    "start_time": "2022-02-10T15:45:41.890Z"
   },
   {
    "duration": 670,
    "start_time": "2022-02-10T15:46:18.927Z"
   },
   {
    "duration": 1433,
    "start_time": "2022-02-10T15:46:32.929Z"
   },
   {
    "duration": 1668,
    "start_time": "2022-02-10T15:46:58.919Z"
   },
   {
    "duration": 102,
    "start_time": "2022-02-10T15:47:11.861Z"
   },
   {
    "duration": 1972,
    "start_time": "2022-02-10T15:47:16.718Z"
   },
   {
    "duration": 672,
    "start_time": "2022-02-10T15:47:38.808Z"
   },
   {
    "duration": 1556,
    "start_time": "2022-02-10T15:48:07.769Z"
   },
   {
    "duration": 1101,
    "start_time": "2022-02-10T15:53:18.402Z"
   },
   {
    "duration": 8,
    "start_time": "2022-02-10T15:54:06.066Z"
   },
   {
    "duration": 6,
    "start_time": "2022-02-10T15:54:15.031Z"
   },
   {
    "duration": 5,
    "start_time": "2022-02-10T15:54:19.925Z"
   },
   {
    "duration": 1177,
    "start_time": "2022-02-10T15:54:20.546Z"
   },
   {
    "duration": 5,
    "start_time": "2022-02-10T15:54:38.557Z"
   },
   {
    "duration": 5,
    "start_time": "2022-02-10T15:54:42.396Z"
   },
   {
    "duration": 1616,
    "start_time": "2022-02-10T15:54:43.038Z"
   },
   {
    "duration": 7,
    "start_time": "2022-02-10T15:55:19.095Z"
   },
   {
    "duration": 2051,
    "start_time": "2022-02-10T15:55:23.802Z"
   },
   {
    "duration": 5,
    "start_time": "2022-02-10T15:55:41.157Z"
   },
   {
    "duration": 2009,
    "start_time": "2022-02-10T15:55:41.624Z"
   },
   {
    "duration": 6,
    "start_time": "2022-02-10T15:57:02.950Z"
   },
   {
    "duration": 2963,
    "start_time": "2022-02-10T15:57:09.756Z"
   },
   {
    "duration": 2336,
    "start_time": "2022-02-10T15:57:21.971Z"
   },
   {
    "duration": 8,
    "start_time": "2022-02-10T15:57:52.209Z"
   },
   {
    "duration": 3928,
    "start_time": "2022-02-10T15:57:52.973Z"
   },
   {
    "duration": 6,
    "start_time": "2022-02-10T15:58:02.605Z"
   },
   {
    "duration": 1696,
    "start_time": "2022-02-10T15:58:04.205Z"
   },
   {
    "duration": 6,
    "start_time": "2022-02-10T15:58:41.263Z"
   },
   {
    "duration": 670,
    "start_time": "2022-02-10T15:58:44.365Z"
   },
   {
    "duration": 5,
    "start_time": "2022-02-10T15:59:05.323Z"
   },
   {
    "duration": 1963,
    "start_time": "2022-02-10T15:59:07.867Z"
   },
   {
    "duration": 8,
    "start_time": "2022-02-10T16:00:06.581Z"
   },
   {
    "duration": 1437,
    "start_time": "2022-02-10T16:00:07.913Z"
   },
   {
    "duration": 6,
    "start_time": "2022-02-10T16:00:31.800Z"
   },
   {
    "duration": 2246,
    "start_time": "2022-02-10T16:00:33.716Z"
   },
   {
    "duration": 121,
    "start_time": "2022-02-10T16:01:05.321Z"
   },
   {
    "duration": 1575,
    "start_time": "2022-02-10T16:01:05.937Z"
   },
   {
    "duration": 7,
    "start_time": "2022-02-10T16:01:26.619Z"
   },
   {
    "duration": 1488,
    "start_time": "2022-02-10T16:01:28.238Z"
   },
   {
    "duration": 9,
    "start_time": "2022-02-10T16:01:52.857Z"
   },
   {
    "duration": 1783,
    "start_time": "2022-02-10T16:01:54.351Z"
   },
   {
    "duration": 7,
    "start_time": "2022-02-10T16:03:41.038Z"
   },
   {
    "duration": 1392,
    "start_time": "2022-02-10T16:03:45.947Z"
   },
   {
    "duration": 40,
    "start_time": "2022-02-10T16:06:14.763Z"
   },
   {
    "duration": 31,
    "start_time": "2022-02-10T16:09:02.733Z"
   },
   {
    "duration": 1098,
    "start_time": "2022-02-10T16:17:52.291Z"
   },
   {
    "duration": 1434,
    "start_time": "2022-02-10T16:18:04.334Z"
   },
   {
    "duration": 2034,
    "start_time": "2022-02-10T16:18:29.390Z"
   },
   {
    "duration": 33,
    "start_time": "2022-02-10T16:19:35.070Z"
   },
   {
    "duration": 216,
    "start_time": "2022-02-10T16:19:53.813Z"
   },
   {
    "duration": 120,
    "start_time": "2022-02-10T16:19:57.419Z"
   },
   {
    "duration": 1017,
    "start_time": "2022-02-10T16:20:01.170Z"
   },
   {
    "duration": 191,
    "start_time": "2022-02-10T16:20:51.054Z"
   },
   {
    "duration": 2051,
    "start_time": "2022-02-10T16:20:54.074Z"
   },
   {
    "duration": 500,
    "start_time": "2022-02-10T16:30:27.599Z"
   },
   {
    "duration": 1152,
    "start_time": "2022-02-10T16:30:32.836Z"
   },
   {
    "duration": 813,
    "start_time": "2022-02-10T16:30:54.975Z"
   },
   {
    "duration": 1553,
    "start_time": "2022-02-10T16:30:59.427Z"
   },
   {
    "duration": 12,
    "start_time": "2022-02-10T16:37:35.399Z"
   },
   {
    "duration": 12,
    "start_time": "2022-02-10T16:38:32.891Z"
   },
   {
    "duration": 2391,
    "start_time": "2022-02-10T16:38:46.452Z"
   },
   {
    "duration": 539,
    "start_time": "2022-02-10T16:38:48.846Z"
   },
   {
    "duration": 36,
    "start_time": "2022-02-10T16:38:49.388Z"
   },
   {
    "duration": 43,
    "start_time": "2022-02-10T16:38:49.427Z"
   },
   {
    "duration": 19,
    "start_time": "2022-02-10T16:38:49.473Z"
   },
   {
    "duration": 50,
    "start_time": "2022-02-10T16:38:49.495Z"
   },
   {
    "duration": 16,
    "start_time": "2022-02-10T16:38:49.548Z"
   },
   {
    "duration": 1205,
    "start_time": "2022-02-10T16:38:49.570Z"
   },
   {
    "duration": 21,
    "start_time": "2022-02-10T16:38:50.778Z"
   },
   {
    "duration": 110,
    "start_time": "2022-02-10T16:38:50.801Z"
   },
   {
    "duration": 44,
    "start_time": "2022-02-10T16:38:50.925Z"
   },
   {
    "duration": 55,
    "start_time": "2022-02-10T16:38:50.972Z"
   },
   {
    "duration": 10,
    "start_time": "2022-02-10T16:38:51.030Z"
   },
   {
    "duration": 50,
    "start_time": "2022-02-10T16:38:51.042Z"
   },
   {
    "duration": 106,
    "start_time": "2022-02-10T16:38:51.095Z"
   },
   {
    "duration": 27,
    "start_time": "2022-02-10T16:38:51.223Z"
   },
   {
    "duration": 16,
    "start_time": "2022-02-10T16:38:51.253Z"
   },
   {
    "duration": 68,
    "start_time": "2022-02-10T16:38:51.271Z"
   },
   {
    "duration": 50,
    "start_time": "2022-02-10T16:38:51.341Z"
   },
   {
    "duration": 40,
    "start_time": "2022-02-10T16:38:51.394Z"
   },
   {
    "duration": 14,
    "start_time": "2022-02-10T16:38:51.436Z"
   },
   {
    "duration": 17,
    "start_time": "2022-02-10T16:38:51.453Z"
   },
   {
    "duration": 52,
    "start_time": "2022-02-10T16:38:51.477Z"
   },
   {
    "duration": 442,
    "start_time": "2022-02-10T16:38:51.534Z"
   },
   {
    "duration": 20,
    "start_time": "2022-02-10T16:38:51.979Z"
   },
   {
    "duration": 35,
    "start_time": "2022-02-10T16:38:52.002Z"
   },
   {
    "duration": 13,
    "start_time": "2022-02-10T16:38:52.040Z"
   },
   {
    "duration": 484,
    "start_time": "2022-02-10T16:38:52.055Z"
   },
   {
    "duration": 37,
    "start_time": "2022-02-10T16:38:52.543Z"
   },
   {
    "duration": 59,
    "start_time": "2022-02-10T16:38:52.583Z"
   },
   {
    "duration": 13,
    "start_time": "2022-02-10T16:38:52.645Z"
   },
   {
    "duration": 9,
    "start_time": "2022-02-10T16:38:52.660Z"
   },
   {
    "duration": 561,
    "start_time": "2022-02-10T16:38:52.671Z"
   },
   {
    "duration": -491,
    "start_time": "2022-02-10T16:38:53.728Z"
   },
   {
    "duration": -493,
    "start_time": "2022-02-10T16:38:53.733Z"
   },
   {
    "duration": -496,
    "start_time": "2022-02-10T16:38:53.737Z"
   },
   {
    "duration": -497,
    "start_time": "2022-02-10T16:38:53.740Z"
   },
   {
    "duration": -501,
    "start_time": "2022-02-10T16:38:53.745Z"
   },
   {
    "duration": -503,
    "start_time": "2022-02-10T16:38:53.749Z"
   },
   {
    "duration": -506,
    "start_time": "2022-02-10T16:38:53.753Z"
   },
   {
    "duration": -508,
    "start_time": "2022-02-10T16:38:53.757Z"
   },
   {
    "duration": -516,
    "start_time": "2022-02-10T16:38:53.767Z"
   },
   {
    "duration": -518,
    "start_time": "2022-02-10T16:38:53.771Z"
   },
   {
    "duration": -519,
    "start_time": "2022-02-10T16:38:53.774Z"
   },
   {
    "duration": -530,
    "start_time": "2022-02-10T16:38:53.787Z"
   },
   {
    "duration": -537,
    "start_time": "2022-02-10T16:38:53.796Z"
   },
   {
    "duration": -538,
    "start_time": "2022-02-10T16:38:53.799Z"
   },
   {
    "duration": -541,
    "start_time": "2022-02-10T16:38:53.804Z"
   },
   {
    "duration": -542,
    "start_time": "2022-02-10T16:38:53.807Z"
   },
   {
    "duration": -540,
    "start_time": "2022-02-10T16:38:53.811Z"
   },
   {
    "duration": -541,
    "start_time": "2022-02-10T16:38:53.814Z"
   },
   {
    "duration": -501,
    "start_time": "2022-02-10T16:38:53.823Z"
   },
   {
    "duration": -503,
    "start_time": "2022-02-10T16:38:53.827Z"
   },
   {
    "duration": -504,
    "start_time": "2022-02-10T16:38:53.830Z"
   },
   {
    "duration": -505,
    "start_time": "2022-02-10T16:38:53.834Z"
   },
   {
    "duration": -640,
    "start_time": "2022-02-10T16:38:53.971Z"
   },
   {
    "duration": -871,
    "start_time": "2022-02-10T16:38:54.203Z"
   },
   {
    "duration": -874,
    "start_time": "2022-02-10T16:38:54.208Z"
   },
   {
    "duration": -875,
    "start_time": "2022-02-10T16:38:54.211Z"
   },
   {
    "duration": -876,
    "start_time": "2022-02-10T16:38:54.214Z"
   },
   {
    "duration": -877,
    "start_time": "2022-02-10T16:38:54.217Z"
   },
   {
    "duration": -879,
    "start_time": "2022-02-10T16:38:54.221Z"
   },
   {
    "duration": -880,
    "start_time": "2022-02-10T16:38:54.224Z"
   },
   {
    "duration": -881,
    "start_time": "2022-02-10T16:38:54.227Z"
   },
   {
    "duration": -882,
    "start_time": "2022-02-10T16:38:54.230Z"
   },
   {
    "duration": -884,
    "start_time": "2022-02-10T16:38:54.234Z"
   },
   {
    "duration": -885,
    "start_time": "2022-02-10T16:38:54.237Z"
   },
   {
    "duration": -887,
    "start_time": "2022-02-10T16:38:54.241Z"
   },
   {
    "duration": -888,
    "start_time": "2022-02-10T16:38:54.244Z"
   },
   {
    "duration": -888,
    "start_time": "2022-02-10T16:38:54.247Z"
   },
   {
    "duration": -889,
    "start_time": "2022-02-10T16:38:54.250Z"
   },
   {
    "duration": -892,
    "start_time": "2022-02-10T16:38:54.254Z"
   },
   {
    "duration": -893,
    "start_time": "2022-02-10T16:38:54.258Z"
   },
   {
    "duration": -901,
    "start_time": "2022-02-10T16:38:54.268Z"
   },
   {
    "duration": -849,
    "start_time": "2022-02-10T16:38:54.272Z"
   },
   {
    "duration": -851,
    "start_time": "2022-02-10T16:38:54.276Z"
   },
   {
    "duration": -858,
    "start_time": "2022-02-10T16:38:54.286Z"
   },
   {
    "duration": -860,
    "start_time": "2022-02-10T16:38:54.289Z"
   },
   {
    "duration": -862,
    "start_time": "2022-02-10T16:38:54.293Z"
   },
   {
    "duration": -864,
    "start_time": "2022-02-10T16:38:54.296Z"
   },
   {
    "duration": -865,
    "start_time": "2022-02-10T16:38:54.299Z"
   },
   {
    "duration": -866,
    "start_time": "2022-02-10T16:38:54.302Z"
   },
   {
    "duration": -868,
    "start_time": "2022-02-10T16:38:54.305Z"
   },
   {
    "duration": -870,
    "start_time": "2022-02-10T16:38:54.309Z"
   },
   {
    "duration": -871,
    "start_time": "2022-02-10T16:38:54.312Z"
   },
   {
    "duration": -872,
    "start_time": "2022-02-10T16:38:54.315Z"
   },
   {
    "duration": -874,
    "start_time": "2022-02-10T16:38:54.318Z"
   },
   {
    "duration": 358,
    "start_time": "2022-02-10T16:39:09.177Z"
   },
   {
    "duration": 5,
    "start_time": "2022-02-10T16:39:19.753Z"
   },
   {
    "duration": 569,
    "start_time": "2022-02-10T16:39:19.760Z"
   },
   {
    "duration": 38,
    "start_time": "2022-02-10T16:39:20.333Z"
   },
   {
    "duration": 90,
    "start_time": "2022-02-10T16:39:20.374Z"
   },
   {
    "duration": 20,
    "start_time": "2022-02-10T16:39:20.467Z"
   },
   {
    "duration": 53,
    "start_time": "2022-02-10T16:39:20.490Z"
   },
   {
    "duration": 19,
    "start_time": "2022-02-10T16:39:20.546Z"
   },
   {
    "duration": 567,
    "start_time": "2022-02-10T16:39:20.568Z"
   },
   {
    "duration": 34,
    "start_time": "2022-02-10T16:39:21.141Z"
   },
   {
    "duration": 130,
    "start_time": "2022-02-10T16:39:21.179Z"
   },
   {
    "duration": 46,
    "start_time": "2022-02-10T16:39:21.312Z"
   },
   {
    "duration": 23,
    "start_time": "2022-02-10T16:39:21.362Z"
   },
   {
    "duration": 43,
    "start_time": "2022-02-10T16:39:21.387Z"
   },
   {
    "duration": 49,
    "start_time": "2022-02-10T16:39:21.433Z"
   },
   {
    "duration": 98,
    "start_time": "2022-02-10T16:39:21.485Z"
   },
   {
    "duration": 56,
    "start_time": "2022-02-10T16:39:21.586Z"
   },
   {
    "duration": 16,
    "start_time": "2022-02-10T16:39:21.644Z"
   },
   {
    "duration": 66,
    "start_time": "2022-02-10T16:39:21.663Z"
   },
   {
    "duration": 50,
    "start_time": "2022-02-10T16:39:21.731Z"
   },
   {
    "duration": 40,
    "start_time": "2022-02-10T16:39:21.784Z"
   },
   {
    "duration": 22,
    "start_time": "2022-02-10T16:39:21.828Z"
   },
   {
    "duration": 21,
    "start_time": "2022-02-10T16:39:21.853Z"
   },
   {
    "duration": 46,
    "start_time": "2022-02-10T16:39:21.877Z"
   },
   {
    "duration": 373,
    "start_time": "2022-02-10T16:39:21.926Z"
   },
   {
    "duration": 34,
    "start_time": "2022-02-10T16:39:22.301Z"
   },
   {
    "duration": 22,
    "start_time": "2022-02-10T16:39:22.338Z"
   },
   {
    "duration": 55,
    "start_time": "2022-02-10T16:39:22.369Z"
   },
   {
    "duration": 411,
    "start_time": "2022-02-10T16:39:22.430Z"
   },
   {
    "duration": 32,
    "start_time": "2022-02-10T16:39:22.843Z"
   },
   {
    "duration": 69,
    "start_time": "2022-02-10T16:39:22.877Z"
   },
   {
    "duration": 9,
    "start_time": "2022-02-10T16:39:22.950Z"
   },
   {
    "duration": 8,
    "start_time": "2022-02-10T16:39:22.962Z"
   },
   {
    "duration": 786,
    "start_time": "2022-02-10T16:39:22.973Z"
   },
   {
    "duration": -483,
    "start_time": "2022-02-10T16:39:24.245Z"
   },
   {
    "duration": -485,
    "start_time": "2022-02-10T16:39:24.249Z"
   },
   {
    "duration": -488,
    "start_time": "2022-02-10T16:39:24.253Z"
   },
   {
    "duration": -490,
    "start_time": "2022-02-10T16:39:24.257Z"
   },
   {
    "duration": -497,
    "start_time": "2022-02-10T16:39:24.266Z"
   },
   {
    "duration": -498,
    "start_time": "2022-02-10T16:39:24.269Z"
   },
   {
    "duration": -500,
    "start_time": "2022-02-10T16:39:24.273Z"
   },
   {
    "duration": -502,
    "start_time": "2022-02-10T16:39:24.276Z"
   },
   {
    "duration": -510,
    "start_time": "2022-02-10T16:39:24.286Z"
   },
   {
    "duration": -517,
    "start_time": "2022-02-10T16:39:24.295Z"
   },
   {
    "duration": -518,
    "start_time": "2022-02-10T16:39:24.298Z"
   },
   {
    "duration": -523,
    "start_time": "2022-02-10T16:39:24.304Z"
   },
   {
    "duration": -524,
    "start_time": "2022-02-10T16:39:24.307Z"
   },
   {
    "duration": -527,
    "start_time": "2022-02-10T16:39:24.312Z"
   },
   {
    "duration": -528,
    "start_time": "2022-02-10T16:39:24.315Z"
   },
   {
    "duration": -536,
    "start_time": "2022-02-10T16:39:24.325Z"
   },
   {
    "duration": -538,
    "start_time": "2022-02-10T16:39:24.328Z"
   },
   {
    "duration": -540,
    "start_time": "2022-02-10T16:39:24.332Z"
   },
   {
    "duration": -542,
    "start_time": "2022-02-10T16:39:24.335Z"
   },
   {
    "duration": -544,
    "start_time": "2022-02-10T16:39:24.339Z"
   },
   {
    "duration": -739,
    "start_time": "2022-02-10T16:39:24.536Z"
   },
   {
    "duration": -787,
    "start_time": "2022-02-10T16:39:24.585Z"
   },
   {
    "duration": -788,
    "start_time": "2022-02-10T16:39:24.588Z"
   },
   {
    "duration": -792,
    "start_time": "2022-02-10T16:39:24.593Z"
   },
   {
    "duration": -794,
    "start_time": "2022-02-10T16:39:24.596Z"
   },
   {
    "duration": -777,
    "start_time": "2022-02-10T16:39:24.600Z"
   },
   {
    "duration": -779,
    "start_time": "2022-02-10T16:39:24.603Z"
   },
   {
    "duration": -781,
    "start_time": "2022-02-10T16:39:24.607Z"
   },
   {
    "duration": -784,
    "start_time": "2022-02-10T16:39:24.611Z"
   },
   {
    "duration": -785,
    "start_time": "2022-02-10T16:39:24.614Z"
   },
   {
    "duration": -787,
    "start_time": "2022-02-10T16:39:24.617Z"
   },
   {
    "duration": -837,
    "start_time": "2022-02-10T16:39:24.669Z"
   },
   {
    "duration": -845,
    "start_time": "2022-02-10T16:39:24.679Z"
   },
   {
    "duration": -847,
    "start_time": "2022-02-10T16:39:24.682Z"
   },
   {
    "duration": -849,
    "start_time": "2022-02-10T16:39:24.686Z"
   },
   {
    "duration": -849,
    "start_time": "2022-02-10T16:39:24.689Z"
   },
   {
    "duration": -851,
    "start_time": "2022-02-10T16:39:24.692Z"
   },
   {
    "duration": -854,
    "start_time": "2022-02-10T16:39:24.696Z"
   },
   {
    "duration": -855,
    "start_time": "2022-02-10T16:39:24.699Z"
   },
   {
    "duration": -856,
    "start_time": "2022-02-10T16:39:24.702Z"
   },
   {
    "duration": -858,
    "start_time": "2022-02-10T16:39:24.706Z"
   },
   {
    "duration": -861,
    "start_time": "2022-02-10T16:39:24.710Z"
   },
   {
    "duration": -862,
    "start_time": "2022-02-10T16:39:24.713Z"
   },
   {
    "duration": -864,
    "start_time": "2022-02-10T16:39:24.716Z"
   },
   {
    "duration": -866,
    "start_time": "2022-02-10T16:39:24.719Z"
   },
   {
    "duration": -868,
    "start_time": "2022-02-10T16:39:24.723Z"
   },
   {
    "duration": -870,
    "start_time": "2022-02-10T16:39:24.726Z"
   },
   {
    "duration": -872,
    "start_time": "2022-02-10T16:39:24.729Z"
   },
   {
    "duration": -873,
    "start_time": "2022-02-10T16:39:24.732Z"
   },
   {
    "duration": -876,
    "start_time": "2022-02-10T16:39:24.736Z"
   },
   {
    "duration": -877,
    "start_time": "2022-02-10T16:39:24.739Z"
   },
   {
    "duration": -820,
    "start_time": "2022-02-10T16:39:24.743Z"
   },
   {
    "duration": -822,
    "start_time": "2022-02-10T16:39:24.746Z"
   },
   {
    "duration": 680,
    "start_time": "2022-02-10T16:39:26.814Z"
   },
   {
    "duration": 35,
    "start_time": "2022-02-10T16:39:34.689Z"
   },
   {
    "duration": 26,
    "start_time": "2022-02-10T16:39:34.874Z"
   },
   {
    "duration": 15,
    "start_time": "2022-02-10T16:39:35.081Z"
   },
   {
    "duration": 27,
    "start_time": "2022-02-10T16:39:35.275Z"
   },
   {
    "duration": 16,
    "start_time": "2022-02-10T16:39:35.492Z"
   },
   {
    "duration": 457,
    "start_time": "2022-02-10T16:39:35.681Z"
   },
   {
    "duration": 32,
    "start_time": "2022-02-10T16:39:36.142Z"
   },
   {
    "duration": 1598,
    "start_time": "2022-02-10T16:39:36.258Z"
   },
   {
    "duration": 30,
    "start_time": "2022-02-10T16:39:37.859Z"
   },
   {
    "duration": 50,
    "start_time": "2022-02-10T16:39:37.893Z"
   },
   {
    "duration": 8527,
    "start_time": "2022-02-10T16:39:37.947Z"
   },
   {
    "duration": -485,
    "start_time": "2022-02-10T16:39:46.965Z"
   },
   {
    "duration": -487,
    "start_time": "2022-02-10T16:39:46.969Z"
   },
   {
    "duration": -489,
    "start_time": "2022-02-10T16:39:46.972Z"
   },
   {
    "duration": -489,
    "start_time": "2022-02-10T16:39:46.975Z"
   },
   {
    "duration": -496,
    "start_time": "2022-02-10T16:39:46.983Z"
   },
   {
    "duration": -496,
    "start_time": "2022-02-10T16:39:46.986Z"
   },
   {
    "duration": -498,
    "start_time": "2022-02-10T16:39:46.990Z"
   },
   {
    "duration": -500,
    "start_time": "2022-02-10T16:39:46.994Z"
   },
   {
    "duration": -500,
    "start_time": "2022-02-10T16:39:46.997Z"
   },
   {
    "duration": -501,
    "start_time": "2022-02-10T16:39:47.000Z"
   },
   {
    "duration": -503,
    "start_time": "2022-02-10T16:39:47.004Z"
   },
   {
    "duration": -508,
    "start_time": "2022-02-10T16:39:47.011Z"
   },
   {
    "duration": -510,
    "start_time": "2022-02-10T16:39:47.015Z"
   },
   {
    "duration": -512,
    "start_time": "2022-02-10T16:39:47.019Z"
   },
   {
    "duration": -514,
    "start_time": "2022-02-10T16:39:47.022Z"
   },
   {
    "duration": -515,
    "start_time": "2022-02-10T16:39:47.025Z"
   },
   {
    "duration": -522,
    "start_time": "2022-02-10T16:39:47.034Z"
   },
   {
    "duration": -524,
    "start_time": "2022-02-10T16:39:47.037Z"
   },
   {
    "duration": -527,
    "start_time": "2022-02-10T16:39:47.043Z"
   },
   {
    "duration": -569,
    "start_time": "2022-02-10T16:39:47.087Z"
   },
   {
    "duration": -570,
    "start_time": "2022-02-10T16:39:47.090Z"
   },
   {
    "duration": -577,
    "start_time": "2022-02-10T16:39:47.099Z"
   },
   {
    "duration": -579,
    "start_time": "2022-02-10T16:39:47.103Z"
   },
   {
    "duration": 816,
    "start_time": "2022-02-10T16:39:46.834Z"
   },
   {
    "duration": -511,
    "start_time": "2022-02-10T16:39:48.164Z"
   },
   {
    "duration": 962,
    "start_time": "2022-02-10T16:39:47.704Z"
   },
   {
    "duration": -484,
    "start_time": "2022-02-10T16:39:49.153Z"
   },
   {
    "duration": -486,
    "start_time": "2022-02-10T16:39:49.157Z"
   },
   {
    "duration": -487,
    "start_time": "2022-02-10T16:39:49.160Z"
   },
   {
    "duration": 541,
    "start_time": "2022-02-10T16:40:00.571Z"
   },
   {
    "duration": 543,
    "start_time": "2022-02-10T16:40:14.352Z"
   },
   {
    "duration": 88,
    "start_time": "2022-02-10T16:40:26.203Z"
   },
   {
    "duration": 5,
    "start_time": "2022-02-10T16:40:27.633Z"
   },
   {
    "duration": 10,
    "start_time": "2022-02-10T16:40:28.554Z"
   },
   {
    "duration": 11,
    "start_time": "2022-02-10T16:40:28.804Z"
   },
   {
    "duration": 4,
    "start_time": "2022-02-10T16:40:29.777Z"
   },
   {
    "duration": 23,
    "start_time": "2022-02-10T16:40:30.477Z"
   },
   {
    "duration": 35,
    "start_time": "2022-02-10T16:40:30.705Z"
   },
   {
    "duration": 6,
    "start_time": "2022-02-10T16:40:30.893Z"
   },
   {
    "duration": 6,
    "start_time": "2022-02-10T16:40:31.094Z"
   },
   {
    "duration": 461,
    "start_time": "2022-02-10T16:40:31.324Z"
   },
   {
    "duration": -487,
    "start_time": "2022-02-10T16:40:32.275Z"
   },
   {
    "duration": 31,
    "start_time": "2022-02-10T16:40:32.167Z"
   },
   {
    "duration": 36,
    "start_time": "2022-02-10T16:40:32.371Z"
   },
   {
    "duration": 9,
    "start_time": "2022-02-10T16:40:32.596Z"
   },
   {
    "duration": 7,
    "start_time": "2022-02-10T16:40:32.796Z"
   },
   {
    "duration": 7,
    "start_time": "2022-02-10T16:40:33.005Z"
   },
   {
    "duration": 559,
    "start_time": "2022-02-10T16:40:33.228Z"
   },
   {
    "duration": -519,
    "start_time": "2022-02-10T16:40:34.308Z"
   },
   {
    "duration": 14,
    "start_time": "2022-02-10T16:40:34.250Z"
   },
   {
    "duration": 482,
    "start_time": "2022-02-10T16:40:34.471Z"
   },
   {
    "duration": -519,
    "start_time": "2022-02-10T16:40:35.475Z"
   },
   {
    "duration": -522,
    "start_time": "2022-02-10T16:40:35.479Z"
   },
   {
    "duration": 2504,
    "start_time": "2022-02-10T16:41:00.407Z"
   },
   {
    "duration": 557,
    "start_time": "2022-02-10T16:41:02.914Z"
   },
   {
    "duration": 39,
    "start_time": "2022-02-10T16:41:03.475Z"
   },
   {
    "duration": 45,
    "start_time": "2022-02-10T16:41:03.517Z"
   },
   {
    "duration": 20,
    "start_time": "2022-02-10T16:41:03.564Z"
   },
   {
    "duration": 50,
    "start_time": "2022-02-10T16:41:03.586Z"
   },
   {
    "duration": 12,
    "start_time": "2022-02-10T16:41:03.639Z"
   },
   {
    "duration": 1245,
    "start_time": "2022-02-10T16:41:03.656Z"
   },
   {
    "duration": 34,
    "start_time": "2022-02-10T16:41:04.904Z"
   },
   {
    "duration": 116,
    "start_time": "2022-02-10T16:41:04.940Z"
   },
   {
    "duration": 30,
    "start_time": "2022-02-10T16:41:05.059Z"
   },
   {
    "duration": 48,
    "start_time": "2022-02-10T16:41:05.091Z"
   },
   {
    "duration": 7,
    "start_time": "2022-02-10T16:41:05.142Z"
   },
   {
    "duration": 73,
    "start_time": "2022-02-10T16:41:05.152Z"
   },
   {
    "duration": 81,
    "start_time": "2022-02-10T16:41:05.227Z"
   },
   {
    "duration": 29,
    "start_time": "2022-02-10T16:41:05.325Z"
   },
   {
    "duration": 21,
    "start_time": "2022-02-10T16:41:05.356Z"
   },
   {
    "duration": 70,
    "start_time": "2022-02-10T16:41:05.380Z"
   },
   {
    "duration": 73,
    "start_time": "2022-02-10T16:41:05.453Z"
   },
   {
    "duration": 14,
    "start_time": "2022-02-10T16:41:05.528Z"
   },
   {
    "duration": 20,
    "start_time": "2022-02-10T16:41:05.545Z"
   },
   {
    "duration": 57,
    "start_time": "2022-02-10T16:41:05.567Z"
   },
   {
    "duration": 7,
    "start_time": "2022-02-10T16:41:05.635Z"
   },
   {
    "duration": 429,
    "start_time": "2022-02-10T16:41:05.649Z"
   },
   {
    "duration": 27,
    "start_time": "2022-02-10T16:41:06.081Z"
   },
   {
    "duration": 31,
    "start_time": "2022-02-10T16:41:06.111Z"
   },
   {
    "duration": 14,
    "start_time": "2022-02-10T16:41:06.146Z"
   },
   {
    "duration": 497,
    "start_time": "2022-02-10T16:41:06.163Z"
   },
   {
    "duration": 68,
    "start_time": "2022-02-10T16:41:06.663Z"
   },
   {
    "duration": 34,
    "start_time": "2022-02-10T16:41:06.734Z"
   },
   {
    "duration": 6,
    "start_time": "2022-02-10T16:41:06.770Z"
   },
   {
    "duration": 9,
    "start_time": "2022-02-10T16:41:06.779Z"
   },
   {
    "duration": 147,
    "start_time": "2022-02-10T16:41:06.791Z"
   },
   {
    "duration": 5,
    "start_time": "2022-02-10T16:41:06.942Z"
   },
   {
    "duration": 14,
    "start_time": "2022-02-10T16:41:06.950Z"
   },
   {
    "duration": 33,
    "start_time": "2022-02-10T16:41:06.967Z"
   },
   {
    "duration": 14,
    "start_time": "2022-02-10T16:41:07.023Z"
   },
   {
    "duration": 34,
    "start_time": "2022-02-10T16:41:07.040Z"
   },
   {
    "duration": 71,
    "start_time": "2022-02-10T16:41:07.078Z"
   },
   {
    "duration": 7,
    "start_time": "2022-02-10T16:41:07.153Z"
   },
   {
    "duration": 22,
    "start_time": "2022-02-10T16:41:07.163Z"
   },
   {
    "duration": 1649,
    "start_time": "2022-02-10T16:41:07.188Z"
   },
   {
    "duration": -481,
    "start_time": "2022-02-10T16:41:09.323Z"
   },
   {
    "duration": -485,
    "start_time": "2022-02-10T16:41:09.329Z"
   },
   {
    "duration": -488,
    "start_time": "2022-02-10T16:41:09.334Z"
   },
   {
    "duration": -497,
    "start_time": "2022-02-10T16:41:09.345Z"
   },
   {
    "duration": -499,
    "start_time": "2022-02-10T16:41:09.350Z"
   },
   {
    "duration": -501,
    "start_time": "2022-02-10T16:41:09.354Z"
   },
   {
    "duration": -504,
    "start_time": "2022-02-10T16:41:09.359Z"
   },
   {
    "duration": -517,
    "start_time": "2022-02-10T16:41:09.374Z"
   },
   {
    "duration": -524,
    "start_time": "2022-02-10T16:41:09.382Z"
   },
   {
    "duration": -536,
    "start_time": "2022-02-10T16:41:09.396Z"
   },
   {
    "duration": -537,
    "start_time": "2022-02-10T16:41:09.399Z"
   },
   {
    "duration": -539,
    "start_time": "2022-02-10T16:41:09.403Z"
   },
   {
    "duration": -542,
    "start_time": "2022-02-10T16:41:09.407Z"
   },
   {
    "duration": -563,
    "start_time": "2022-02-10T16:41:09.430Z"
   },
   {
    "duration": -565,
    "start_time": "2022-02-10T16:41:09.434Z"
   },
   {
    "duration": -567,
    "start_time": "2022-02-10T16:41:09.438Z"
   },
   {
    "duration": -595,
    "start_time": "2022-02-10T16:41:09.467Z"
   },
   {
    "duration": -815,
    "start_time": "2022-02-10T16:41:09.689Z"
   },
   {
    "duration": -816,
    "start_time": "2022-02-10T16:41:09.692Z"
   },
   {
    "duration": -818,
    "start_time": "2022-02-10T16:41:09.696Z"
   },
   {
    "duration": -820,
    "start_time": "2022-02-10T16:41:09.699Z"
   },
   {
    "duration": -822,
    "start_time": "2022-02-10T16:41:09.703Z"
   },
   {
    "duration": -783,
    "start_time": "2022-02-10T16:41:09.707Z"
   },
   {
    "duration": -785,
    "start_time": "2022-02-10T16:41:09.710Z"
   },
   {
    "duration": -787,
    "start_time": "2022-02-10T16:41:09.714Z"
   },
   {
    "duration": -788,
    "start_time": "2022-02-10T16:41:09.717Z"
   },
   {
    "duration": -790,
    "start_time": "2022-02-10T16:41:09.721Z"
   },
   {
    "duration": -792,
    "start_time": "2022-02-10T16:41:09.725Z"
   },
   {
    "duration": -793,
    "start_time": "2022-02-10T16:41:09.728Z"
   },
   {
    "duration": -796,
    "start_time": "2022-02-10T16:41:09.732Z"
   },
   {
    "duration": -797,
    "start_time": "2022-02-10T16:41:09.735Z"
   },
   {
    "duration": -799,
    "start_time": "2022-02-10T16:41:09.739Z"
   },
   {
    "duration": -801,
    "start_time": "2022-02-10T16:41:09.743Z"
   },
   {
    "duration": -802,
    "start_time": "2022-02-10T16:41:09.746Z"
   },
   {
    "duration": -804,
    "start_time": "2022-02-10T16:41:09.750Z"
   },
   {
    "duration": -805,
    "start_time": "2022-02-10T16:41:09.753Z"
   },
   {
    "duration": -807,
    "start_time": "2022-02-10T16:41:09.757Z"
   },
   {
    "duration": -808,
    "start_time": "2022-02-10T16:41:09.760Z"
   },
   {
    "duration": -810,
    "start_time": "2022-02-10T16:41:09.764Z"
   },
   {
    "duration": -825,
    "start_time": "2022-02-10T16:41:09.780Z"
   },
   {
    "duration": -827,
    "start_time": "2022-02-10T16:41:09.784Z"
   },
   {
    "duration": -830,
    "start_time": "2022-02-10T16:41:09.788Z"
   },
   {
    "duration": -831,
    "start_time": "2022-02-10T16:41:09.791Z"
   },
   {
    "duration": -832,
    "start_time": "2022-02-10T16:41:09.794Z"
   },
   {
    "duration": -770,
    "start_time": "2022-02-10T16:41:09.798Z"
   },
   {
    "duration": 22,
    "start_time": "2022-02-10T16:42:27.309Z"
   },
   {
    "duration": 43,
    "start_time": "2022-02-10T16:42:29.065Z"
   },
   {
    "duration": 7,
    "start_time": "2022-02-10T16:42:29.646Z"
   },
   {
    "duration": 7,
    "start_time": "2022-02-10T16:42:30.050Z"
   },
   {
    "duration": 386,
    "start_time": "2022-02-10T16:42:30.800Z"
   },
   {
    "duration": 18,
    "start_time": "2022-02-10T16:43:11.303Z"
   },
   {
    "duration": 13,
    "start_time": "2022-02-10T16:43:46.333Z"
   },
   {
    "duration": 435,
    "start_time": "2022-02-10T16:43:52.001Z"
   },
   {
    "duration": 6,
    "start_time": "2022-02-10T16:45:04.492Z"
   },
   {
    "duration": 7,
    "start_time": "2022-02-10T16:45:12.978Z"
   },
   {
    "duration": 17,
    "start_time": "2022-02-10T16:45:14.815Z"
   },
   {
    "duration": 28,
    "start_time": "2022-02-10T16:45:23.737Z"
   },
   {
    "duration": 31,
    "start_time": "2022-02-10T16:45:24.014Z"
   },
   {
    "duration": 7,
    "start_time": "2022-02-10T16:45:24.244Z"
   },
   {
    "duration": 6,
    "start_time": "2022-02-10T16:45:24.501Z"
   },
   {
    "duration": 9,
    "start_time": "2022-02-10T16:45:25.124Z"
   },
   {
    "duration": 857,
    "start_time": "2022-02-10T16:45:25.342Z"
   },
   {
    "duration": -481,
    "start_time": "2022-02-10T16:45:26.683Z"
   },
   {
    "duration": 28,
    "start_time": "2022-02-10T16:45:48.816Z"
   },
   {
    "duration": 31,
    "start_time": "2022-02-10T16:45:49.424Z"
   },
   {
    "duration": 7,
    "start_time": "2022-02-10T16:45:49.852Z"
   },
   {
    "duration": 7,
    "start_time": "2022-02-10T16:45:50.233Z"
   },
   {
    "duration": 7,
    "start_time": "2022-02-10T16:45:50.854Z"
   },
   {
    "duration": 35,
    "start_time": "2022-02-10T16:56:14.381Z"
   },
   {
    "duration": 48,
    "start_time": "2022-02-10T16:56:14.899Z"
   },
   {
    "duration": 8,
    "start_time": "2022-02-10T16:56:15.134Z"
   },
   {
    "duration": 7,
    "start_time": "2022-02-10T16:56:15.350Z"
   },
   {
    "duration": 9,
    "start_time": "2022-02-10T16:56:15.598Z"
   },
   {
    "duration": 13,
    "start_time": "2022-02-10T16:56:16.404Z"
   },
   {
    "duration": 373,
    "start_time": "2022-02-10T16:56:20.103Z"
   },
   {
    "duration": 4,
    "start_time": "2022-02-10T16:56:50.182Z"
   },
   {
    "duration": -475,
    "start_time": "2022-02-10T16:57:29.772Z"
   },
   {
    "duration": 11,
    "start_time": "2022-02-10T16:58:26.164Z"
   },
   {
    "duration": 396,
    "start_time": "2022-02-10T16:58:26.572Z"
   },
   {
    "duration": 8,
    "start_time": "2022-02-10T17:00:03.903Z"
   },
   {
    "duration": 4067,
    "start_time": "2022-02-10T17:00:41.128Z"
   },
   {
    "duration": 7,
    "start_time": "2022-02-10T17:00:58.180Z"
   },
   {
    "duration": 28,
    "start_time": "2022-02-10T17:01:32.288Z"
   },
   {
    "duration": 28,
    "start_time": "2022-02-10T17:05:10.559Z"
   },
   {
    "duration": 4602,
    "start_time": "2022-02-10T17:05:48.415Z"
   },
   {
    "duration": 4522,
    "start_time": "2022-02-10T17:06:27.615Z"
   },
   {
    "duration": 54,
    "start_time": "2022-02-10T17:06:40.491Z"
   },
   {
    "duration": 9,
    "start_time": "2022-02-10T17:07:13.864Z"
   },
   {
    "duration": 32,
    "start_time": "2022-02-10T17:07:37.764Z"
   },
   {
    "duration": 33,
    "start_time": "2022-02-10T17:08:56.044Z"
   },
   {
    "duration": 2735,
    "start_time": "2022-02-10T17:09:18.768Z"
   },
   {
    "duration": 543,
    "start_time": "2022-02-10T17:09:21.507Z"
   },
   {
    "duration": 58,
    "start_time": "2022-02-10T17:09:22.053Z"
   },
   {
    "duration": 47,
    "start_time": "2022-02-10T17:09:22.115Z"
   },
   {
    "duration": 26,
    "start_time": "2022-02-10T17:09:22.165Z"
   },
   {
    "duration": 29,
    "start_time": "2022-02-10T17:09:22.224Z"
   },
   {
    "duration": 20,
    "start_time": "2022-02-10T17:09:22.257Z"
   },
   {
    "duration": 1076,
    "start_time": "2022-02-10T17:09:22.329Z"
   },
   {
    "duration": 36,
    "start_time": "2022-02-10T17:09:23.409Z"
   },
   {
    "duration": 152,
    "start_time": "2022-02-10T17:09:23.448Z"
   },
   {
    "duration": 62,
    "start_time": "2022-02-10T17:09:23.603Z"
   },
   {
    "duration": 21,
    "start_time": "2022-02-10T17:09:23.669Z"
   },
   {
    "duration": 11,
    "start_time": "2022-02-10T17:09:23.724Z"
   },
   {
    "duration": 47,
    "start_time": "2022-02-10T17:09:23.738Z"
   },
   {
    "duration": 140,
    "start_time": "2022-02-10T17:09:23.788Z"
   },
   {
    "duration": 26,
    "start_time": "2022-02-10T17:09:23.932Z"
   },
   {
    "duration": 15,
    "start_time": "2022-02-10T17:09:23.960Z"
   },
   {
    "duration": 75,
    "start_time": "2022-02-10T17:09:23.978Z"
   },
   {
    "duration": 102,
    "start_time": "2022-02-10T17:09:24.056Z"
   },
   {
    "duration": 22,
    "start_time": "2022-02-10T17:09:24.161Z"
   },
   {
    "duration": 39,
    "start_time": "2022-02-10T17:09:24.186Z"
   },
   {
    "duration": 18,
    "start_time": "2022-02-10T17:09:24.228Z"
   },
   {
    "duration": 7,
    "start_time": "2022-02-10T17:09:24.252Z"
   },
   {
    "duration": 430,
    "start_time": "2022-02-10T17:09:24.264Z"
   },
   {
    "duration": 45,
    "start_time": "2022-02-10T17:09:24.698Z"
   },
   {
    "duration": 23,
    "start_time": "2022-02-10T17:09:24.746Z"
   },
   {
    "duration": 24,
    "start_time": "2022-02-10T17:09:24.772Z"
   },
   {
    "duration": 504,
    "start_time": "2022-02-10T17:09:24.825Z"
   },
   {
    "duration": 31,
    "start_time": "2022-02-10T17:09:25.332Z"
   },
   {
    "duration": 69,
    "start_time": "2022-02-10T17:09:25.366Z"
   },
   {
    "duration": 5,
    "start_time": "2022-02-10T17:09:25.439Z"
   },
   {
    "duration": 9,
    "start_time": "2022-02-10T17:09:25.447Z"
   },
   {
    "duration": 130,
    "start_time": "2022-02-10T17:09:25.458Z"
   },
   {
    "duration": 5,
    "start_time": "2022-02-10T17:09:25.591Z"
   },
   {
    "duration": 28,
    "start_time": "2022-02-10T17:09:25.598Z"
   },
   {
    "duration": 17,
    "start_time": "2022-02-10T17:09:25.629Z"
   },
   {
    "duration": 4,
    "start_time": "2022-02-10T17:09:25.649Z"
   },
   {
    "duration": 68,
    "start_time": "2022-02-10T17:09:25.657Z"
   },
   {
    "duration": 36,
    "start_time": "2022-02-10T17:09:25.728Z"
   },
   {
    "duration": 9,
    "start_time": "2022-02-10T17:09:25.768Z"
   },
   {
    "duration": 58,
    "start_time": "2022-02-10T17:09:25.780Z"
   },
   {
    "duration": 18,
    "start_time": "2022-02-10T17:09:25.841Z"
   },
   {
    "duration": 7,
    "start_time": "2022-02-10T17:09:25.862Z"
   },
   {
    "duration": 56,
    "start_time": "2022-02-10T17:09:25.872Z"
   },
   {
    "duration": 29,
    "start_time": "2022-02-10T17:09:25.931Z"
   },
   {
    "duration": 60,
    "start_time": "2022-02-10T17:09:25.964Z"
   },
   {
    "duration": 9,
    "start_time": "2022-02-10T17:09:26.027Z"
   },
   {
    "duration": 15,
    "start_time": "2022-02-10T17:09:26.040Z"
   },
   {
    "duration": 15,
    "start_time": "2022-02-10T17:09:26.058Z"
   },
   {
    "duration": 19,
    "start_time": "2022-02-10T17:09:26.077Z"
   },
   {
    "duration": 29,
    "start_time": "2022-02-10T17:09:26.098Z"
   },
   {
    "duration": 15,
    "start_time": "2022-02-10T17:09:26.130Z"
   },
   {
    "duration": 34,
    "start_time": "2022-02-10T17:09:26.148Z"
   },
   {
    "duration": 7,
    "start_time": "2022-02-10T17:09:26.225Z"
   },
   {
    "duration": 9,
    "start_time": "2022-02-10T17:09:26.235Z"
   },
   {
    "duration": 5116,
    "start_time": "2022-02-10T17:09:26.248Z"
   },
   {
    "duration": -500,
    "start_time": "2022-02-10T17:09:31.869Z"
   },
   {
    "duration": -505,
    "start_time": "2022-02-10T17:09:31.876Z"
   },
   {
    "duration": -510,
    "start_time": "2022-02-10T17:09:31.883Z"
   },
   {
    "duration": -512,
    "start_time": "2022-02-10T17:09:31.888Z"
   },
   {
    "duration": -514,
    "start_time": "2022-02-10T17:09:31.891Z"
   },
   {
    "duration": -515,
    "start_time": "2022-02-10T17:09:31.894Z"
   },
   {
    "duration": -517,
    "start_time": "2022-02-10T17:09:31.897Z"
   },
   {
    "duration": -526,
    "start_time": "2022-02-10T17:09:31.907Z"
   },
   {
    "duration": -528,
    "start_time": "2022-02-10T17:09:31.911Z"
   },
   {
    "duration": -530,
    "start_time": "2022-02-10T17:09:31.914Z"
   },
   {
    "duration": -532,
    "start_time": "2022-02-10T17:09:31.918Z"
   },
   {
    "duration": -536,
    "start_time": "2022-02-10T17:09:31.923Z"
   },
   {
    "duration": -539,
    "start_time": "2022-02-10T17:09:31.928Z"
   },
   {
    "duration": -542,
    "start_time": "2022-02-10T17:09:31.932Z"
   },
   {
    "duration": -544,
    "start_time": "2022-02-10T17:09:31.935Z"
   },
   {
    "duration": -547,
    "start_time": "2022-02-10T17:09:31.939Z"
   },
   {
    "duration": -550,
    "start_time": "2022-02-10T17:09:31.943Z"
   },
   {
    "duration": -553,
    "start_time": "2022-02-10T17:09:31.948Z"
   },
   {
    "duration": -555,
    "start_time": "2022-02-10T17:09:31.951Z"
   },
   {
    "duration": -557,
    "start_time": "2022-02-10T17:09:31.955Z"
   },
   {
    "duration": -566,
    "start_time": "2022-02-10T17:09:31.965Z"
   },
   {
    "duration": -569,
    "start_time": "2022-02-10T17:09:31.969Z"
   },
   {
    "duration": -572,
    "start_time": "2022-02-10T17:09:31.973Z"
   },
   {
    "duration": -550,
    "start_time": "2022-02-10T17:09:31.977Z"
   },
   {
    "duration": -547,
    "start_time": "2022-02-10T17:09:31.981Z"
   },
   {
    "duration": -549,
    "start_time": "2022-02-10T17:09:31.985Z"
   },
   {
    "duration": -549,
    "start_time": "2022-02-10T17:09:31.989Z"
   },
   {
    "duration": -552,
    "start_time": "2022-02-10T17:09:31.993Z"
   },
   {
    "duration": -554,
    "start_time": "2022-02-10T17:09:31.997Z"
   },
   {
    "duration": -557,
    "start_time": "2022-02-10T17:09:32.001Z"
   },
   {
    "duration": -579,
    "start_time": "2022-02-10T17:09:32.024Z"
   },
   {
    "duration": -580,
    "start_time": "2022-02-10T17:09:32.027Z"
   },
   {
    "duration": 3767,
    "start_time": "2022-02-10T17:10:53.615Z"
   },
   {
    "duration": 11,
    "start_time": "2022-02-10T17:10:57.384Z"
   },
   {
    "duration": 3575,
    "start_time": "2022-02-10T17:11:17.224Z"
   },
   {
    "duration": 28,
    "start_time": "2022-02-10T17:11:20.802Z"
   },
   {
    "duration": 33,
    "start_time": "2022-02-10T17:11:20.833Z"
   },
   {
    "duration": 7,
    "start_time": "2022-02-10T17:11:23.614Z"
   },
   {
    "duration": 12,
    "start_time": "2022-02-10T17:11:24.687Z"
   },
   {
    "duration": 10,
    "start_time": "2022-02-10T17:11:25.680Z"
   },
   {
    "duration": 66,
    "start_time": "2022-02-10T17:11:33.247Z"
   },
   {
    "duration": 47,
    "start_time": "2022-02-10T17:11:34.585Z"
   },
   {
    "duration": 1185,
    "start_time": "2022-02-10T17:11:35.571Z"
   },
   {
    "duration": 1234,
    "start_time": "2022-02-10T17:11:40.730Z"
   },
   {
    "duration": 9,
    "start_time": "2022-02-10T17:11:47.199Z"
   },
   {
    "duration": 1401,
    "start_time": "2022-02-10T17:11:49.684Z"
   },
   {
    "duration": 49,
    "start_time": "2022-02-10T17:11:53.507Z"
   },
   {
    "duration": 1193,
    "start_time": "2022-02-10T17:11:53.926Z"
   },
   {
    "duration": 43,
    "start_time": "2022-02-10T17:11:57.683Z"
   },
   {
    "duration": 1011,
    "start_time": "2022-02-10T17:12:00.500Z"
   },
   {
    "duration": 5,
    "start_time": "2022-02-10T17:12:07.019Z"
   },
   {
    "duration": 15,
    "start_time": "2022-02-10T17:12:08.444Z"
   },
   {
    "duration": 332,
    "start_time": "2022-02-10T17:12:09.154Z"
   },
   {
    "duration": 30,
    "start_time": "2022-02-10T17:12:12.246Z"
   },
   {
    "duration": 31,
    "start_time": "2022-02-10T17:12:13.661Z"
   },
   {
    "duration": 703,
    "start_time": "2022-02-10T17:12:17.651Z"
   },
   {
    "duration": 403,
    "start_time": "2022-02-10T17:12:23.149Z"
   },
   {
    "duration": 61,
    "start_time": "2022-02-10T17:12:32.049Z"
   },
   {
    "duration": 8,
    "start_time": "2022-02-10T17:12:32.886Z"
   },
   {
    "duration": 1194,
    "start_time": "2022-02-10T17:12:37.877Z"
   },
   {
    "duration": 13,
    "start_time": "2022-02-10T17:12:39.074Z"
   },
   {
    "duration": 11,
    "start_time": "2022-02-10T17:13:16.016Z"
   },
   {
    "duration": 374,
    "start_time": "2022-02-10T17:13:37.900Z"
   },
   {
    "duration": 12,
    "start_time": "2022-02-10T17:13:40.420Z"
   },
   {
    "duration": 10,
    "start_time": "2022-02-10T17:14:18.942Z"
   },
   {
    "duration": 9,
    "start_time": "2022-02-10T17:16:09.287Z"
   },
   {
    "duration": 14,
    "start_time": "2022-02-10T17:16:25.902Z"
   },
   {
    "duration": 14,
    "start_time": "2022-02-10T17:17:05.396Z"
   },
   {
    "duration": 12,
    "start_time": "2022-02-10T17:18:47.915Z"
   },
   {
    "duration": 37,
    "start_time": "2022-02-10T17:19:03.747Z"
   },
   {
    "duration": 6,
    "start_time": "2022-02-10T17:19:56.351Z"
   },
   {
    "duration": 12,
    "start_time": "2022-02-10T17:20:01.641Z"
   },
   {
    "duration": 9,
    "start_time": "2022-02-10T17:20:08.009Z"
   },
   {
    "duration": 6,
    "start_time": "2022-02-10T17:20:10.228Z"
   },
   {
    "duration": 255,
    "start_time": "2022-02-10T17:20:48.471Z"
   },
   {
    "duration": 713,
    "start_time": "2022-02-10T17:21:12.174Z"
   },
   {
    "duration": 441,
    "start_time": "2022-02-10T17:21:27.760Z"
   },
   {
    "duration": 13,
    "start_time": "2022-02-10T17:23:26.611Z"
   },
   {
    "duration": 10,
    "start_time": "2022-02-10T17:23:42.024Z"
   },
   {
    "duration": 4,
    "start_time": "2022-02-10T17:24:20.476Z"
   },
   {
    "duration": 755,
    "start_time": "2022-02-10T17:24:20.941Z"
   },
   {
    "duration": 37,
    "start_time": "2022-02-10T17:24:22.699Z"
   },
   {
    "duration": 45,
    "start_time": "2022-02-10T17:24:23.172Z"
   },
   {
    "duration": 21,
    "start_time": "2022-02-10T17:24:23.656Z"
   },
   {
    "duration": 31,
    "start_time": "2022-02-10T17:24:26.258Z"
   },
   {
    "duration": 20,
    "start_time": "2022-02-10T17:24:26.293Z"
   },
   {
    "duration": 589,
    "start_time": "2022-02-10T17:24:26.317Z"
   },
   {
    "duration": 30,
    "start_time": "2022-02-10T17:24:27.588Z"
   },
   {
    "duration": 125,
    "start_time": "2022-02-10T17:24:28.392Z"
   },
   {
    "duration": 32,
    "start_time": "2022-02-10T17:24:31.754Z"
   },
   {
    "duration": 26,
    "start_time": "2022-02-10T17:24:32.376Z"
   },
   {
    "duration": 9,
    "start_time": "2022-02-10T17:24:33.611Z"
   },
   {
    "duration": 40,
    "start_time": "2022-02-10T17:24:34.179Z"
   },
   {
    "duration": 86,
    "start_time": "2022-02-10T17:24:34.843Z"
   },
   {
    "duration": 30,
    "start_time": "2022-02-10T17:24:36.009Z"
   },
   {
    "duration": 20,
    "start_time": "2022-02-10T17:24:36.586Z"
   },
   {
    "duration": 41,
    "start_time": "2022-02-10T17:24:37.260Z"
   },
   {
    "duration": 65,
    "start_time": "2022-02-10T17:24:38.625Z"
   },
   {
    "duration": 20,
    "start_time": "2022-02-10T17:24:39.844Z"
   },
   {
    "duration": 13,
    "start_time": "2022-02-10T17:24:40.442Z"
   },
   {
    "duration": 14,
    "start_time": "2022-02-10T17:24:42.037Z"
   },
   {
    "duration": 8,
    "start_time": "2022-02-10T17:24:42.696Z"
   },
   {
    "duration": 462,
    "start_time": "2022-02-10T17:24:43.524Z"
   },
   {
    "duration": 28,
    "start_time": "2022-02-10T17:24:46.783Z"
   },
   {
    "duration": 24,
    "start_time": "2022-02-10T17:24:47.386Z"
   },
   {
    "duration": 14,
    "start_time": "2022-02-10T17:24:48.559Z"
   },
   {
    "duration": 679,
    "start_time": "2022-02-10T17:24:52.775Z"
   },
   {
    "duration": 40,
    "start_time": "2022-02-10T17:24:56.716Z"
   },
   {
    "duration": 47,
    "start_time": "2022-02-10T17:25:14.231Z"
   },
   {
    "duration": 3,
    "start_time": "2022-02-10T17:25:17.873Z"
   },
   {
    "duration": 7,
    "start_time": "2022-02-10T17:25:21.399Z"
   },
   {
    "duration": 92,
    "start_time": "2022-02-10T17:25:24.595Z"
   },
   {
    "duration": 5,
    "start_time": "2022-02-10T17:25:27.539Z"
   },
   {
    "duration": 10,
    "start_time": "2022-02-10T17:25:28.054Z"
   },
   {
    "duration": 24,
    "start_time": "2022-02-10T17:25:31.189Z"
   },
   {
    "duration": 5,
    "start_time": "2022-02-10T17:25:36.235Z"
   },
   {
    "duration": 32,
    "start_time": "2022-02-10T17:25:39.922Z"
   },
   {
    "duration": 34,
    "start_time": "2022-02-10T17:25:40.468Z"
   },
   {
    "duration": 8,
    "start_time": "2022-02-10T17:25:41.388Z"
   },
   {
    "duration": 18,
    "start_time": "2022-02-10T17:25:42.678Z"
   },
   {
    "duration": 5,
    "start_time": "2022-02-10T17:25:47.040Z"
   },
   {
    "duration": 14,
    "start_time": "2022-02-10T17:25:48.337Z"
   },
   {
    "duration": 5,
    "start_time": "2022-02-10T17:25:49.743Z"
   },
   {
    "duration": 15,
    "start_time": "2022-02-10T17:25:53.085Z"
   },
   {
    "duration": 37,
    "start_time": "2022-02-10T17:26:01.373Z"
   },
   {
    "duration": 28,
    "start_time": "2022-02-10T17:26:01.977Z"
   },
   {
    "duration": 7,
    "start_time": "2022-02-10T17:26:02.570Z"
   },
   {
    "duration": 6,
    "start_time": "2022-02-10T17:26:02.944Z"
   },
   {
    "duration": 5,
    "start_time": "2022-02-10T17:26:03.350Z"
   },
   {
    "duration": 19,
    "start_time": "2022-02-10T17:26:03.718Z"
   },
   {
    "duration": 9,
    "start_time": "2022-02-10T17:26:04.020Z"
   },
   {
    "duration": 14,
    "start_time": "2022-02-10T17:26:06.730Z"
   },
   {
    "duration": 35,
    "start_time": "2022-02-10T17:26:07.397Z"
   },
   {
    "duration": 5,
    "start_time": "2022-02-10T17:26:07.920Z"
   },
   {
    "duration": 6,
    "start_time": "2022-02-10T17:26:13.771Z"
   },
   {
    "duration": 3499,
    "start_time": "2022-02-10T17:26:15.628Z"
   },
   {
    "duration": 14,
    "start_time": "2022-02-10T17:26:19.129Z"
   },
   {
    "duration": 26,
    "start_time": "2022-02-10T17:26:33.852Z"
   },
   {
    "duration": 6,
    "start_time": "2022-02-10T17:26:35.378Z"
   },
   {
    "duration": 448,
    "start_time": "2022-02-10T17:27:17.411Z"
   },
   {
    "duration": 4,
    "start_time": "2022-02-10T17:27:20.105Z"
   },
   {
    "duration": 43,
    "start_time": "2022-02-10T17:27:21.552Z"
   },
   {
    "duration": 4,
    "start_time": "2022-02-10T17:27:21.835Z"
   },
   {
    "duration": 6,
    "start_time": "2022-02-10T17:27:23.240Z"
   },
   {
    "duration": 63,
    "start_time": "2022-02-10T17:27:23.966Z"
   },
   {
    "duration": 10,
    "start_time": "2022-02-10T17:27:24.725Z"
   },
   {
    "duration": 10,
    "start_time": "2022-02-10T17:27:25.071Z"
   },
   {
    "duration": 15,
    "start_time": "2022-02-10T17:27:25.439Z"
   },
   {
    "duration": 4,
    "start_time": "2022-02-10T17:27:26.898Z"
   },
   {
    "duration": 32,
    "start_time": "2022-02-10T17:27:28.721Z"
   },
   {
    "duration": 45,
    "start_time": "2022-02-10T17:27:28.943Z"
   },
   {
    "duration": 10,
    "start_time": "2022-02-10T17:27:29.208Z"
   },
   {
    "duration": 7,
    "start_time": "2022-02-10T17:27:29.462Z"
   },
   {
    "duration": 15,
    "start_time": "2022-02-10T17:27:29.689Z"
   },
   {
    "duration": 11,
    "start_time": "2022-02-10T17:27:29.932Z"
   },
   {
    "duration": 22,
    "start_time": "2022-02-10T17:27:30.491Z"
   },
   {
    "duration": 28,
    "start_time": "2022-02-10T17:27:31.035Z"
   },
   {
    "duration": 36,
    "start_time": "2022-02-10T17:27:31.560Z"
   },
   {
    "duration": 10,
    "start_time": "2022-02-10T17:27:31.829Z"
   },
   {
    "duration": 7,
    "start_time": "2022-02-10T17:27:32.102Z"
   },
   {
    "duration": 6,
    "start_time": "2022-02-10T17:27:32.353Z"
   },
   {
    "duration": 19,
    "start_time": "2022-02-10T17:27:32.622Z"
   },
   {
    "duration": 16,
    "start_time": "2022-02-10T17:27:32.932Z"
   },
   {
    "duration": 11,
    "start_time": "2022-02-10T17:27:34.383Z"
   },
   {
    "duration": 35,
    "start_time": "2022-02-10T17:27:34.613Z"
   },
   {
    "duration": 6,
    "start_time": "2022-02-10T17:27:35.148Z"
   },
   {
    "duration": 6,
    "start_time": "2022-02-10T17:27:37.410Z"
   },
   {
    "duration": 5053,
    "start_time": "2022-02-10T17:27:39.065Z"
   },
   {
    "duration": 15,
    "start_time": "2022-02-10T17:27:44.125Z"
   },
   {
    "duration": 31,
    "start_time": "2022-02-10T17:27:44.143Z"
   },
   {
    "duration": 7,
    "start_time": "2022-02-10T17:27:47.781Z"
   },
   {
    "duration": 15,
    "start_time": "2022-02-10T17:27:49.976Z"
   },
   {
    "duration": 9,
    "start_time": "2022-02-10T17:28:04.104Z"
   },
   {
    "duration": 7,
    "start_time": "2022-02-10T17:28:06.806Z"
   },
   {
    "duration": 61,
    "start_time": "2022-02-10T17:28:25.967Z"
   },
   {
    "duration": 40,
    "start_time": "2022-02-10T17:28:39.750Z"
   },
   {
    "duration": 10,
    "start_time": "2022-02-10T17:28:48.886Z"
   },
   {
    "duration": 16,
    "start_time": "2022-02-10T17:28:49.643Z"
   },
   {
    "duration": 8,
    "start_time": "2022-02-10T17:28:49.919Z"
   },
   {
    "duration": 45,
    "start_time": "2022-02-10T17:28:51.143Z"
   },
   {
    "duration": 39,
    "start_time": "2022-02-10T17:28:52.084Z"
   },
   {
    "duration": 1619,
    "start_time": "2022-02-10T17:28:52.643Z"
   },
   {
    "duration": 1611,
    "start_time": "2022-02-10T17:28:55.064Z"
   },
   {
    "duration": 8,
    "start_time": "2022-02-10T17:28:56.678Z"
   },
   {
    "duration": 1272,
    "start_time": "2022-02-10T17:28:57.110Z"
   },
   {
    "duration": 46,
    "start_time": "2022-02-10T17:28:59.402Z"
   },
   {
    "duration": 1021,
    "start_time": "2022-02-10T17:29:01.665Z"
   },
   {
    "duration": 48,
    "start_time": "2022-02-10T17:29:05.575Z"
   },
   {
    "duration": 1018,
    "start_time": "2022-02-10T17:29:06.960Z"
   },
   {
    "duration": 6,
    "start_time": "2022-02-10T17:29:10.171Z"
   },
   {
    "duration": 11,
    "start_time": "2022-02-10T17:29:10.619Z"
   },
   {
    "duration": 342,
    "start_time": "2022-02-10T17:29:11.347Z"
   },
   {
    "duration": 25,
    "start_time": "2022-02-10T17:29:13.231Z"
   },
   {
    "duration": 22,
    "start_time": "2022-02-10T17:29:14.664Z"
   },
   {
    "duration": 493,
    "start_time": "2022-02-10T17:29:17.217Z"
   },
   {
    "duration": 391,
    "start_time": "2022-02-10T17:29:18.464Z"
   },
   {
    "duration": 56,
    "start_time": "2022-02-10T17:29:22.195Z"
   },
   {
    "duration": 10,
    "start_time": "2022-02-10T17:29:22.781Z"
   },
   {
    "duration": 1186,
    "start_time": "2022-02-10T17:29:25.644Z"
   },
   {
    "duration": 11,
    "start_time": "2022-02-10T17:29:26.834Z"
   },
   {
    "duration": 10,
    "start_time": "2022-02-10T17:29:27.373Z"
   },
   {
    "duration": 21,
    "start_time": "2022-02-10T17:31:17.189Z"
   },
   {
    "duration": 117,
    "start_time": "2022-02-10T17:32:23.238Z"
   }
  ],
  "kernelspec": {
   "display_name": "Python 3 (ipykernel)",
   "language": "python",
   "name": "python3"
  },
  "language_info": {
   "codemirror_mode": {
    "name": "ipython",
    "version": 3
   },
   "file_extension": ".py",
   "mimetype": "text/x-python",
   "name": "python",
   "nbconvert_exporter": "python",
   "pygments_lexer": "ipython3",
   "version": "3.10.0"
  },
  "toc": {
   "base_numbering": 1,
   "nav_menu": {
    "height": "376px",
    "width": "324px"
   },
   "number_sections": true,
   "sideBar": true,
   "skip_h1_title": true,
   "title_cell": "Table of Contents",
   "title_sidebar": "Contents",
   "toc_cell": false,
   "toc_position": {
    "height": "calc(100% - 180px)",
    "left": "10px",
    "top": "150px",
    "width": "302.188px"
   },
   "toc_section_display": true,
   "toc_window_display": true
  }
 },
 "nbformat": 4,
 "nbformat_minor": 2
}
