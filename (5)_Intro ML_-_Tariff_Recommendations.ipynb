{
 "cells": [
  {
   "cell_type": "markdown",
   "metadata": {},
   "source": [
    "# Рекомендация тарифов"
   ]
  },
  {
   "cell_type": "markdown",
   "metadata": {},
   "source": [
    "В вашем распоряжении данные о поведении клиентов, которые уже перешли на эти тарифы (из проекта курса «Статистический анализ данных»). Нужно построить модель для задачи классификации, которая выберет подходящий тариф. Предобработка данных не понадобится — вы её уже сделали.\n",
    "\n",
    "Постройте модель с максимально большим значением *accuracy*. Чтобы сдать проект успешно, нужно довести долю правильных ответов по крайней мере до 0.75. Проверьте *accuracy* на тестовой выборке самостоятельно."
   ]
  },
  {
   "cell_type": "markdown",
   "metadata": {},
   "source": [
    "## Откройте и изучите файл"
   ]
  },
  {
   "cell_type": "code",
   "execution_count": 102,
   "metadata": {},
   "outputs": [],
   "source": [
    "import pandas as pd\n",
    "import numpy as np\n",
    "# импортируем алгоритмы машинного обучения из библиотеки sklearn\n",
    "from sklearn.tree import DecisionTreeClassifier # решающее дерево\n",
    "from sklearn.ensemble import RandomForestClassifier #  случайные деревья\n",
    "from sklearn.linear_model import LogisticRegression  #   логистическая регрессия\n",
    "\n",
    "from sklearn.metrics import accuracy_score   # метрика подсчета \"точности\"\n",
    "from sklearn.model_selection import train_test_split # метод разделения на выборки\n",
    "\n",
    "import time"
   ]
  },
  {
   "cell_type": "code",
   "execution_count": 103,
   "metadata": {},
   "outputs": [],
   "source": [
    "df = pd.read_csv('/datasets/users_behavior.csv')"
   ]
  },
  {
   "cell_type": "code",
   "execution_count": 104,
   "metadata": {},
   "outputs": [
    {
     "name": "stdout",
     "output_type": "stream",
     "text": [
      "<class 'pandas.core.frame.DataFrame'>\n",
      "RangeIndex: 3214 entries, 0 to 3213\n",
      "Data columns (total 5 columns):\n",
      "calls       3214 non-null float64\n",
      "minutes     3214 non-null float64\n",
      "messages    3214 non-null float64\n",
      "mb_used     3214 non-null float64\n",
      "is_ultra    3214 non-null int64\n",
      "dtypes: float64(4), int64(1)\n",
      "memory usage: 125.7 KB\n"
     ]
    }
   ],
   "source": [
    "df.info()"
   ]
  },
  {
   "cell_type": "code",
   "execution_count": 105,
   "metadata": {},
   "outputs": [
    {
     "data": {
      "text/html": [
       "<div>\n",
       "<style scoped>\n",
       "    .dataframe tbody tr th:only-of-type {\n",
       "        vertical-align: middle;\n",
       "    }\n",
       "\n",
       "    .dataframe tbody tr th {\n",
       "        vertical-align: top;\n",
       "    }\n",
       "\n",
       "    .dataframe thead th {\n",
       "        text-align: right;\n",
       "    }\n",
       "</style>\n",
       "<table border=\"1\" class=\"dataframe\">\n",
       "  <thead>\n",
       "    <tr style=\"text-align: right;\">\n",
       "      <th></th>\n",
       "      <th>calls</th>\n",
       "      <th>minutes</th>\n",
       "      <th>messages</th>\n",
       "      <th>mb_used</th>\n",
       "      <th>is_ultra</th>\n",
       "    </tr>\n",
       "  </thead>\n",
       "  <tbody>\n",
       "    <tr>\n",
       "      <td>count</td>\n",
       "      <td>3214.000000</td>\n",
       "      <td>3214.000000</td>\n",
       "      <td>3214.000000</td>\n",
       "      <td>3214.000000</td>\n",
       "      <td>3214.000000</td>\n",
       "    </tr>\n",
       "    <tr>\n",
       "      <td>mean</td>\n",
       "      <td>63.038892</td>\n",
       "      <td>438.208787</td>\n",
       "      <td>38.281269</td>\n",
       "      <td>17207.673836</td>\n",
       "      <td>0.306472</td>\n",
       "    </tr>\n",
       "    <tr>\n",
       "      <td>std</td>\n",
       "      <td>33.236368</td>\n",
       "      <td>234.569872</td>\n",
       "      <td>36.148326</td>\n",
       "      <td>7570.968246</td>\n",
       "      <td>0.461100</td>\n",
       "    </tr>\n",
       "    <tr>\n",
       "      <td>min</td>\n",
       "      <td>0.000000</td>\n",
       "      <td>0.000000</td>\n",
       "      <td>0.000000</td>\n",
       "      <td>0.000000</td>\n",
       "      <td>0.000000</td>\n",
       "    </tr>\n",
       "    <tr>\n",
       "      <td>25%</td>\n",
       "      <td>40.000000</td>\n",
       "      <td>274.575000</td>\n",
       "      <td>9.000000</td>\n",
       "      <td>12491.902500</td>\n",
       "      <td>0.000000</td>\n",
       "    </tr>\n",
       "    <tr>\n",
       "      <td>50%</td>\n",
       "      <td>62.000000</td>\n",
       "      <td>430.600000</td>\n",
       "      <td>30.000000</td>\n",
       "      <td>16943.235000</td>\n",
       "      <td>0.000000</td>\n",
       "    </tr>\n",
       "    <tr>\n",
       "      <td>75%</td>\n",
       "      <td>82.000000</td>\n",
       "      <td>571.927500</td>\n",
       "      <td>57.000000</td>\n",
       "      <td>21424.700000</td>\n",
       "      <td>1.000000</td>\n",
       "    </tr>\n",
       "    <tr>\n",
       "      <td>max</td>\n",
       "      <td>244.000000</td>\n",
       "      <td>1632.060000</td>\n",
       "      <td>224.000000</td>\n",
       "      <td>49745.730000</td>\n",
       "      <td>1.000000</td>\n",
       "    </tr>\n",
       "  </tbody>\n",
       "</table>\n",
       "</div>"
      ],
      "text/plain": [
       "             calls      minutes     messages       mb_used     is_ultra\n",
       "count  3214.000000  3214.000000  3214.000000   3214.000000  3214.000000\n",
       "mean     63.038892   438.208787    38.281269  17207.673836     0.306472\n",
       "std      33.236368   234.569872    36.148326   7570.968246     0.461100\n",
       "min       0.000000     0.000000     0.000000      0.000000     0.000000\n",
       "25%      40.000000   274.575000     9.000000  12491.902500     0.000000\n",
       "50%      62.000000   430.600000    30.000000  16943.235000     0.000000\n",
       "75%      82.000000   571.927500    57.000000  21424.700000     1.000000\n",
       "max     244.000000  1632.060000   224.000000  49745.730000     1.000000"
      ]
     },
     "execution_count": 105,
     "metadata": {},
     "output_type": "execute_result"
    }
   ],
   "source": [
    "df.describe()"
   ]
  },
  {
   "cell_type": "code",
   "execution_count": 106,
   "metadata": {},
   "outputs": [
    {
     "data": {
      "text/html": [
       "<div>\n",
       "<style scoped>\n",
       "    .dataframe tbody tr th:only-of-type {\n",
       "        vertical-align: middle;\n",
       "    }\n",
       "\n",
       "    .dataframe tbody tr th {\n",
       "        vertical-align: top;\n",
       "    }\n",
       "\n",
       "    .dataframe thead th {\n",
       "        text-align: right;\n",
       "    }\n",
       "</style>\n",
       "<table border=\"1\" class=\"dataframe\">\n",
       "  <thead>\n",
       "    <tr style=\"text-align: right;\">\n",
       "      <th></th>\n",
       "      <th>calls</th>\n",
       "      <th>minutes</th>\n",
       "      <th>messages</th>\n",
       "      <th>mb_used</th>\n",
       "      <th>is_ultra</th>\n",
       "    </tr>\n",
       "  </thead>\n",
       "  <tbody>\n",
       "    <tr>\n",
       "      <td>0</td>\n",
       "      <td>40.0</td>\n",
       "      <td>311.90</td>\n",
       "      <td>83.0</td>\n",
       "      <td>19915.42</td>\n",
       "      <td>0</td>\n",
       "    </tr>\n",
       "    <tr>\n",
       "      <td>1</td>\n",
       "      <td>85.0</td>\n",
       "      <td>516.75</td>\n",
       "      <td>56.0</td>\n",
       "      <td>22696.96</td>\n",
       "      <td>0</td>\n",
       "    </tr>\n",
       "    <tr>\n",
       "      <td>2</td>\n",
       "      <td>77.0</td>\n",
       "      <td>467.66</td>\n",
       "      <td>86.0</td>\n",
       "      <td>21060.45</td>\n",
       "      <td>0</td>\n",
       "    </tr>\n",
       "    <tr>\n",
       "      <td>3</td>\n",
       "      <td>106.0</td>\n",
       "      <td>745.53</td>\n",
       "      <td>81.0</td>\n",
       "      <td>8437.39</td>\n",
       "      <td>1</td>\n",
       "    </tr>\n",
       "    <tr>\n",
       "      <td>4</td>\n",
       "      <td>66.0</td>\n",
       "      <td>418.74</td>\n",
       "      <td>1.0</td>\n",
       "      <td>14502.75</td>\n",
       "      <td>0</td>\n",
       "    </tr>\n",
       "  </tbody>\n",
       "</table>\n",
       "</div>"
      ],
      "text/plain": [
       "   calls  minutes  messages   mb_used  is_ultra\n",
       "0   40.0   311.90      83.0  19915.42         0\n",
       "1   85.0   516.75      56.0  22696.96         0\n",
       "2   77.0   467.66      86.0  21060.45         0\n",
       "3  106.0   745.53      81.0   8437.39         1\n",
       "4   66.0   418.74       1.0  14502.75         0"
      ]
     },
     "execution_count": 106,
     "metadata": {},
     "output_type": "execute_result"
    }
   ],
   "source": [
    "df.head()"
   ]
  },
  {
   "cell_type": "markdown",
   "metadata": {},
   "source": [
    "Проверим фитчи на мультиколлениарность, которая может стать причиной переобучаемости модели.\n",
    "Для этого построим таблицу корреляции между фитчами."
   ]
  },
  {
   "cell_type": "code",
   "execution_count": 107,
   "metadata": {},
   "outputs": [
    {
     "data": {
      "text/html": [
       "<div>\n",
       "<style scoped>\n",
       "    .dataframe tbody tr th:only-of-type {\n",
       "        vertical-align: middle;\n",
       "    }\n",
       "\n",
       "    .dataframe tbody tr th {\n",
       "        vertical-align: top;\n",
       "    }\n",
       "\n",
       "    .dataframe thead th {\n",
       "        text-align: right;\n",
       "    }\n",
       "</style>\n",
       "<table border=\"1\" class=\"dataframe\">\n",
       "  <thead>\n",
       "    <tr style=\"text-align: right;\">\n",
       "      <th></th>\n",
       "      <th>calls</th>\n",
       "      <th>minutes</th>\n",
       "      <th>messages</th>\n",
       "      <th>mb_used</th>\n",
       "      <th>is_ultra</th>\n",
       "    </tr>\n",
       "  </thead>\n",
       "  <tbody>\n",
       "    <tr>\n",
       "      <td>calls</td>\n",
       "      <td>1.00</td>\n",
       "      <td>0.98</td>\n",
       "      <td>0.18</td>\n",
       "      <td>0.29</td>\n",
       "      <td>0.21</td>\n",
       "    </tr>\n",
       "    <tr>\n",
       "      <td>minutes</td>\n",
       "      <td>0.98</td>\n",
       "      <td>1.00</td>\n",
       "      <td>0.17</td>\n",
       "      <td>0.28</td>\n",
       "      <td>0.21</td>\n",
       "    </tr>\n",
       "    <tr>\n",
       "      <td>messages</td>\n",
       "      <td>0.18</td>\n",
       "      <td>0.17</td>\n",
       "      <td>1.00</td>\n",
       "      <td>0.20</td>\n",
       "      <td>0.20</td>\n",
       "    </tr>\n",
       "    <tr>\n",
       "      <td>mb_used</td>\n",
       "      <td>0.29</td>\n",
       "      <td>0.28</td>\n",
       "      <td>0.20</td>\n",
       "      <td>1.00</td>\n",
       "      <td>0.20</td>\n",
       "    </tr>\n",
       "    <tr>\n",
       "      <td>is_ultra</td>\n",
       "      <td>0.21</td>\n",
       "      <td>0.21</td>\n",
       "      <td>0.20</td>\n",
       "      <td>0.20</td>\n",
       "      <td>1.00</td>\n",
       "    </tr>\n",
       "  </tbody>\n",
       "</table>\n",
       "</div>"
      ],
      "text/plain": [
       "          calls  minutes  messages  mb_used  is_ultra\n",
       "calls      1.00     0.98      0.18     0.29      0.21\n",
       "minutes    0.98     1.00      0.17     0.28      0.21\n",
       "messages   0.18     0.17      1.00     0.20      0.20\n",
       "mb_used    0.29     0.28      0.20     1.00      0.20\n",
       "is_ultra   0.21     0.21      0.20     0.20      1.00"
      ]
     },
     "execution_count": 107,
     "metadata": {},
     "output_type": "execute_result"
    }
   ],
   "source": [
    "df.corr().round(2)"
   ]
  },
  {
   "cell_type": "markdown",
   "metadata": {},
   "source": [
    "между фитчами Calls и  minutes определенно есть линейная зависимость. Думаю логичным будет из обучающей выборки убрать стольбец с колличеством звонков. так как в тарифных планах используется информация по количеству минут"
   ]
  },
  {
   "cell_type": "markdown",
   "metadata": {},
   "source": [
    "## Разбейте данные на выборки"
   ]
  },
  {
   "cell_type": "markdown",
   "metadata": {},
   "source": [
    "Разобъём наш датасет на обучающую, валидационную и тестовую выборки.\n",
    "На тренировочном фрейме наша модель будет обучаться. На валидационной мы будем смотреть как влияют гиперпараметры на точность модели. И в финале мы проверим выбранные нами наилучшие настройки модели на тестовом фрейме. "
   ]
  },
  {
   "cell_type": "markdown",
   "metadata": {},
   "source": [
    "Отберем обучающие и целевые переменные у выборок"
   ]
  },
  {
   "cell_type": "code",
   "execution_count": 108,
   "metadata": {},
   "outputs": [],
   "source": [
    "features = df.drop(['calls','is_ultra'], axis=1) # извлечем признаки \n",
    "target = df['is_ultra'] # извлечем целевой признак"
   ]
  },
  {
   "cell_type": "code",
   "execution_count": 109,
   "metadata": {},
   "outputs": [
    {
     "name": "stdout",
     "output_type": "stream",
     "text": [
      "тренировочная: (2410, 3), тестовая: (804, 3)\n"
     ]
    }
   ],
   "source": [
    "features_learn, features_test, target_learn, target_test = train_test_split(features, \n",
    "                                                                            target, \n",
    "                                                                            test_size=0.25, \n",
    "                                                                            random_state=12345,\n",
    "                                                                            stratify=target)\n",
    "\n",
    "print(f'тренировочная: {features_learn.shape}, тестовая: {features_test.shape}')"
   ]
  },
  {
   "cell_type": "markdown",
   "metadata": {},
   "source": [
    "У тренировочной выборки отделим 25 процентов для проверки и сравнения точности моделей перед использованием на тестовой выборке"
   ]
  },
  {
   "cell_type": "code",
   "execution_count": 110,
   "metadata": {},
   "outputs": [
    {
     "name": "stdout",
     "output_type": "stream",
     "text": [
      "обучающая: (1807, 3), проверочная: (603, 3)\n"
     ]
    }
   ],
   "source": [
    "features_train, features_valid, target_train, target_valid = train_test_split(features_learn, \n",
    "                                                                              target_learn , \n",
    "                                                                              test_size=0.25, \n",
    "                                                                              random_state=12345,\n",
    "                                                                              stratify=target_learn)\n",
    "\n",
    "print(f'обучающая: {features_train.shape}, проверочная: {features_valid.shape}')"
   ]
  },
  {
   "cell_type": "code",
   "execution_count": 111,
   "metadata": {},
   "outputs": [
    {
     "data": {
      "text/plain": [
       "(0.30658550083010516, 0.3067993366500829, 0.30597014925373134)"
      ]
     },
     "execution_count": 111,
     "metadata": {},
     "output_type": "execute_result"
    }
   ],
   "source": [
    "# код ревьюера для проверки\n",
    "target_train.mean(), target_valid.mean(), target_test.mean()"
   ]
  },
  {
   "cell_type": "markdown",
   "metadata": {},
   "source": [
    "## Исследуйте модели"
   ]
  },
  {
   "cell_type": "markdown",
   "metadata": {},
   "source": [
    "### посмотрим как отработает алгоритм обучения - решающие деревья "
   ]
  },
  {
   "cell_type": "code",
   "execution_count": 134,
   "metadata": {},
   "outputs": [],
   "source": [
    "scores_data = pd.DataFrame()"
   ]
  },
  {
   "cell_type": "code",
   "execution_count": 136,
   "metadata": {},
   "outputs": [],
   "source": [
    "for depth in range(1,11):\n",
    "    for split in range(2,42,5):\n",
    "        for leaf in range(1,5):\n",
    "            model = DecisionTreeClassifier(max_depth = depth,\n",
    "                                           random_state=12345, \n",
    "                                           criterion='gini',\n",
    "                                           min_samples_split = split,\n",
    "                                           min_samples_leaf = leaf)\n",
    "            model.fit(features_train, target_train)\n",
    "            train_score = model.score(features_train, target_train)\n",
    "            valid_score = model.score(features_valid, target_valid)\n",
    "            test_score =  model.score(features_test, target_test)\n",
    "            \n",
    "            temp_scores_data = pd.DataFrame({'max_depth':[depth],\n",
    "                                             'min_samples_split':[split],\n",
    "                                             'min_samples_leaf':[leaf],\n",
    "                                             'train_score':[train_score],\n",
    "                                             'valid_score':[valid_score],\n",
    "                                             'test_score':[test_score]})\n",
    "            scores_data = scores_data.append(temp_scores_data)\n",
    "            "
   ]
  },
  {
   "cell_type": "code",
   "execution_count": 138,
   "metadata": {},
   "outputs": [
    {
     "data": {
      "text/html": [
       "<div>\n",
       "<style scoped>\n",
       "    .dataframe tbody tr th:only-of-type {\n",
       "        vertical-align: middle;\n",
       "    }\n",
       "\n",
       "    .dataframe tbody tr th {\n",
       "        vertical-align: top;\n",
       "    }\n",
       "\n",
       "    .dataframe thead th {\n",
       "        text-align: right;\n",
       "    }\n",
       "</style>\n",
       "<table border=\"1\" class=\"dataframe\">\n",
       "  <thead>\n",
       "    <tr style=\"text-align: right;\">\n",
       "      <th></th>\n",
       "      <th>max_depth</th>\n",
       "      <th>min_samples_split</th>\n",
       "      <th>min_samples_leaf</th>\n",
       "      <th>train_score</th>\n",
       "      <th>valid_score</th>\n",
       "      <th>test_score</th>\n",
       "    </tr>\n",
       "  </thead>\n",
       "  <tbody>\n",
       "    <tr>\n",
       "      <td>0</td>\n",
       "      <td>1</td>\n",
       "      <td>2</td>\n",
       "      <td>1</td>\n",
       "      <td>0.753735</td>\n",
       "      <td>0.749585</td>\n",
       "      <td>0.752488</td>\n",
       "    </tr>\n",
       "    <tr>\n",
       "      <td>0</td>\n",
       "      <td>1</td>\n",
       "      <td>2</td>\n",
       "      <td>2</td>\n",
       "      <td>0.753735</td>\n",
       "      <td>0.749585</td>\n",
       "      <td>0.752488</td>\n",
       "    </tr>\n",
       "    <tr>\n",
       "      <td>0</td>\n",
       "      <td>1</td>\n",
       "      <td>2</td>\n",
       "      <td>3</td>\n",
       "      <td>0.753735</td>\n",
       "      <td>0.749585</td>\n",
       "      <td>0.752488</td>\n",
       "    </tr>\n",
       "    <tr>\n",
       "      <td>0</td>\n",
       "      <td>1</td>\n",
       "      <td>2</td>\n",
       "      <td>4</td>\n",
       "      <td>0.753735</td>\n",
       "      <td>0.749585</td>\n",
       "      <td>0.752488</td>\n",
       "    </tr>\n",
       "    <tr>\n",
       "      <td>0</td>\n",
       "      <td>1</td>\n",
       "      <td>7</td>\n",
       "      <td>1</td>\n",
       "      <td>0.753735</td>\n",
       "      <td>0.749585</td>\n",
       "      <td>0.752488</td>\n",
       "    </tr>\n",
       "    <tr>\n",
       "      <td>...</td>\n",
       "      <td>...</td>\n",
       "      <td>...</td>\n",
       "      <td>...</td>\n",
       "      <td>...</td>\n",
       "      <td>...</td>\n",
       "      <td>...</td>\n",
       "    </tr>\n",
       "    <tr>\n",
       "      <td>0</td>\n",
       "      <td>10</td>\n",
       "      <td>32</td>\n",
       "      <td>4</td>\n",
       "      <td>0.840620</td>\n",
       "      <td>0.792703</td>\n",
       "      <td>0.796020</td>\n",
       "    </tr>\n",
       "    <tr>\n",
       "      <td>0</td>\n",
       "      <td>10</td>\n",
       "      <td>37</td>\n",
       "      <td>1</td>\n",
       "      <td>0.841727</td>\n",
       "      <td>0.802653</td>\n",
       "      <td>0.808458</td>\n",
       "    </tr>\n",
       "    <tr>\n",
       "      <td>0</td>\n",
       "      <td>10</td>\n",
       "      <td>37</td>\n",
       "      <td>2</td>\n",
       "      <td>0.840620</td>\n",
       "      <td>0.805970</td>\n",
       "      <td>0.810945</td>\n",
       "    </tr>\n",
       "    <tr>\n",
       "      <td>0</td>\n",
       "      <td>10</td>\n",
       "      <td>37</td>\n",
       "      <td>3</td>\n",
       "      <td>0.838406</td>\n",
       "      <td>0.805970</td>\n",
       "      <td>0.812189</td>\n",
       "    </tr>\n",
       "    <tr>\n",
       "      <td>0</td>\n",
       "      <td>10</td>\n",
       "      <td>37</td>\n",
       "      <td>4</td>\n",
       "      <td>0.838960</td>\n",
       "      <td>0.797678</td>\n",
       "      <td>0.802239</td>\n",
       "    </tr>\n",
       "  </tbody>\n",
       "</table>\n",
       "<p>320 rows × 6 columns</p>\n",
       "</div>"
      ],
      "text/plain": [
       "    max_depth  min_samples_split  min_samples_leaf  train_score  valid_score  \\\n",
       "0           1                  2                 1     0.753735     0.749585   \n",
       "0           1                  2                 2     0.753735     0.749585   \n",
       "0           1                  2                 3     0.753735     0.749585   \n",
       "0           1                  2                 4     0.753735     0.749585   \n",
       "0           1                  7                 1     0.753735     0.749585   \n",
       "..        ...                ...               ...          ...          ...   \n",
       "0          10                 32                 4     0.840620     0.792703   \n",
       "0          10                 37                 1     0.841727     0.802653   \n",
       "0          10                 37                 2     0.840620     0.805970   \n",
       "0          10                 37                 3     0.838406     0.805970   \n",
       "0          10                 37                 4     0.838960     0.797678   \n",
       "\n",
       "    test_score  \n",
       "0     0.752488  \n",
       "0     0.752488  \n",
       "0     0.752488  \n",
       "0     0.752488  \n",
       "0     0.752488  \n",
       "..         ...  \n",
       "0     0.796020  \n",
       "0     0.808458  \n",
       "0     0.810945  \n",
       "0     0.812189  \n",
       "0     0.802239  \n",
       "\n",
       "[320 rows x 6 columns]"
      ]
     },
     "execution_count": 138,
     "metadata": {},
     "output_type": "execute_result"
    }
   ],
   "source": [
    "scores_data"
   ]
  },
  {
   "cell_type": "code",
   "execution_count": 140,
   "metadata": {},
   "outputs": [
    {
     "data": {
      "text/html": [
       "<div>\n",
       "<style scoped>\n",
       "    .dataframe tbody tr th:only-of-type {\n",
       "        vertical-align: middle;\n",
       "    }\n",
       "\n",
       "    .dataframe tbody tr th {\n",
       "        vertical-align: top;\n",
       "    }\n",
       "\n",
       "    .dataframe thead th {\n",
       "        text-align: right;\n",
       "    }\n",
       "</style>\n",
       "<table border=\"1\" class=\"dataframe\">\n",
       "  <thead>\n",
       "    <tr style=\"text-align: right;\">\n",
       "      <th></th>\n",
       "      <th>max_depth</th>\n",
       "      <th>min_samples_split</th>\n",
       "      <th>min_samples_leaf</th>\n",
       "      <th>set_type</th>\n",
       "      <th>score</th>\n",
       "    </tr>\n",
       "  </thead>\n",
       "  <tbody>\n",
       "    <tr>\n",
       "      <td>0</td>\n",
       "      <td>1</td>\n",
       "      <td>2</td>\n",
       "      <td>1</td>\n",
       "      <td>train_score</td>\n",
       "      <td>0.753735</td>\n",
       "    </tr>\n",
       "    <tr>\n",
       "      <td>1</td>\n",
       "      <td>1</td>\n",
       "      <td>2</td>\n",
       "      <td>2</td>\n",
       "      <td>train_score</td>\n",
       "      <td>0.753735</td>\n",
       "    </tr>\n",
       "    <tr>\n",
       "      <td>2</td>\n",
       "      <td>1</td>\n",
       "      <td>2</td>\n",
       "      <td>3</td>\n",
       "      <td>train_score</td>\n",
       "      <td>0.753735</td>\n",
       "    </tr>\n",
       "    <tr>\n",
       "      <td>3</td>\n",
       "      <td>1</td>\n",
       "      <td>2</td>\n",
       "      <td>4</td>\n",
       "      <td>train_score</td>\n",
       "      <td>0.753735</td>\n",
       "    </tr>\n",
       "    <tr>\n",
       "      <td>4</td>\n",
       "      <td>1</td>\n",
       "      <td>7</td>\n",
       "      <td>1</td>\n",
       "      <td>train_score</td>\n",
       "      <td>0.753735</td>\n",
       "    </tr>\n",
       "    <tr>\n",
       "      <td>...</td>\n",
       "      <td>...</td>\n",
       "      <td>...</td>\n",
       "      <td>...</td>\n",
       "      <td>...</td>\n",
       "      <td>...</td>\n",
       "    </tr>\n",
       "    <tr>\n",
       "      <td>955</td>\n",
       "      <td>10</td>\n",
       "      <td>32</td>\n",
       "      <td>4</td>\n",
       "      <td>test_score</td>\n",
       "      <td>0.796020</td>\n",
       "    </tr>\n",
       "    <tr>\n",
       "      <td>956</td>\n",
       "      <td>10</td>\n",
       "      <td>37</td>\n",
       "      <td>1</td>\n",
       "      <td>test_score</td>\n",
       "      <td>0.808458</td>\n",
       "    </tr>\n",
       "    <tr>\n",
       "      <td>957</td>\n",
       "      <td>10</td>\n",
       "      <td>37</td>\n",
       "      <td>2</td>\n",
       "      <td>test_score</td>\n",
       "      <td>0.810945</td>\n",
       "    </tr>\n",
       "    <tr>\n",
       "      <td>958</td>\n",
       "      <td>10</td>\n",
       "      <td>37</td>\n",
       "      <td>3</td>\n",
       "      <td>test_score</td>\n",
       "      <td>0.812189</td>\n",
       "    </tr>\n",
       "    <tr>\n",
       "      <td>959</td>\n",
       "      <td>10</td>\n",
       "      <td>37</td>\n",
       "      <td>4</td>\n",
       "      <td>test_score</td>\n",
       "      <td>0.802239</td>\n",
       "    </tr>\n",
       "  </tbody>\n",
       "</table>\n",
       "<p>960 rows × 5 columns</p>\n",
       "</div>"
      ],
      "text/plain": [
       "     max_depth  min_samples_split  min_samples_leaf     set_type     score\n",
       "0            1                  2                 1  train_score  0.753735\n",
       "1            1                  2                 2  train_score  0.753735\n",
       "2            1                  2                 3  train_score  0.753735\n",
       "3            1                  2                 4  train_score  0.753735\n",
       "4            1                  7                 1  train_score  0.753735\n",
       "..         ...                ...               ...          ...       ...\n",
       "955         10                 32                 4   test_score  0.796020\n",
       "956         10                 37                 1   test_score  0.808458\n",
       "957         10                 37                 2   test_score  0.810945\n",
       "958         10                 37                 3   test_score  0.812189\n",
       "959         10                 37                 4   test_score  0.802239\n",
       "\n",
       "[960 rows x 5 columns]"
      ]
     },
     "execution_count": 140,
     "metadata": {},
     "output_type": "execute_result"
    }
   ],
   "source": [
    "sores_data_long = pd.melt(scores_data, id_vars = ['max_depth','min_samples_split','min_samples_leaf'], \n",
    "                          value_vars = ['train_score','valid_score','test_score'], \n",
    "                          var_name = 'set_type', value_name = 'score')\n",
    "scores_data_long"
   ]
  },
  {
   "cell_type": "code",
   "execution_count": null,
   "metadata": {},
   "outputs": [],
   "source": [
    "import seaborn as sns\n",
    "sns.lineplot(x=['max_depth','min_samples_split','min_samples_leaf'],\n",
    "             y='score', \n",
    "             hue='set_type', \n",
    "             data=scores_data_long)"
   ]
  },
  {
   "cell_type": "code",
   "execution_count": null,
   "metadata": {},
   "outputs": [],
   "source": []
  },
  {
   "cell_type": "code",
   "execution_count": null,
   "metadata": {},
   "outputs": [],
   "source": []
  },
  {
   "cell_type": "code",
   "execution_count": 112,
   "metadata": {},
   "outputs": [
    {
     "name": "stdout",
     "output_type": "stream",
     "text": [
      "--------------------------------------\n",
      "Наилучшая модель алгоритма \"решающее дерево\" при параметрах:\n",
      "глубина дерева = 8,      \n",
      "Минимальное количество выборок в ветке: 22,      \n",
      "Минимальное количество образцов в листе: 2,      \n",
      "точность: 0.811\n",
      "\n",
      "CPU times: user 1.49 s, sys: 0 ns, total: 1.49 s\n",
      "Wall time: 1.49 s\n"
     ]
    }
   ],
   "source": [
    "%%time\n",
    "best_model = None\n",
    "best_result = 0\n",
    "best_depth = 0\n",
    "best_split = 0\n",
    "best_leaf = 0\n",
    "\n",
    "for depth in range(1,11):\n",
    "    for split in range(2,42,5):\n",
    "        for leaf in range(1,5):\n",
    "            model = DecisionTreeClassifier(max_depth = depth,\n",
    "                                           random_state=12345, \n",
    "                                           criterion='gini',\n",
    "                                           min_samples_split = split,\n",
    "                                           min_samples_leaf = leaf) #, min_samples_split=,min_samples_leaf=)\n",
    "            model.fit(features_train, target_train)\n",
    "            predictions_valid = model.predict(features_valid)\n",
    "            result = accuracy_score(target_valid, predictions_valid).round(3) # вычислим \n",
    "            # print(f'глубина дерева = {depth}, split={split}, leaf={leaf}, точность: {result}')\n",
    "            if result > best_result:\n",
    "                best_depth = depth # сохраним наилучшую модель\n",
    "                best_result = result # сохраним наилучшее значение метрики accuracy на валидационных данных\n",
    "                best_model = model\n",
    "                best_split = split\n",
    "                best_leaf = leaf\n",
    "print('--------------------------------------')     \n",
    "print(f'Наилучшая модель алгоритма \"решающее дерево\" при параметрах:\\\n",
    "\\nглубина дерева = {best_depth},\\\n",
    "      \\nМинимальное количество выборок в ветке: {best_split},\\\n",
    "      \\nМинимальное количество образцов в листе: {best_leaf},\\\n",
    "      \\nточность: {best_result}\\n') "
   ]
  },
  {
   "cell_type": "code",
   "execution_count": 113,
   "metadata": {},
   "outputs": [
    {
     "data": {
      "text/plain": [
       "DecisionTreeClassifier(class_weight=None, criterion='gini', max_depth=8,\n",
       "                       max_features=None, max_leaf_nodes=None,\n",
       "                       min_impurity_decrease=0.0, min_impurity_split=None,\n",
       "                       min_samples_leaf=2, min_samples_split=22,\n",
       "                       min_weight_fraction_leaf=0.0, presort=False,\n",
       "                       random_state=12345, splitter='best')"
      ]
     },
     "execution_count": 113,
     "metadata": {},
     "output_type": "execute_result"
    }
   ],
   "source": [
    "# код ревьюера для проверки - сохраним модель решающего дерева, чтобы оценить её переобученность\n",
    "best_dt_model = best_model\n",
    "best_dt_model"
   ]
  },
  {
   "cell_type": "markdown",
   "metadata": {},
   "source": [
    "### посмотрим как отработает алгоритм обучения - случайный лес"
   ]
  },
  {
   "cell_type": "code",
   "execution_count": 114,
   "metadata": {},
   "outputs": [
    {
     "name": "stdout",
     "output_type": "stream",
     "text": [
      "--------------------------------------\n",
      "Наилучшая модель алгоритма \"Случайный лес\" при параметрах:\n",
      "количество дереьев в лесу: 30,\n",
      "максимальная глубина: 10,\n",
      "точность: 0.8143\n",
      "\n",
      "CPU times: user 7.6 s, sys: 55.5 ms, total: 7.65 s\n",
      "Wall time: 7.76 s\n"
     ]
    }
   ],
   "source": [
    "%%time\n",
    "best_est = 0\n",
    "best_model = None\n",
    "best_result = 0\n",
    "best_depth = 0\n",
    "\n",
    "for est in range(10,110,10): # переберём гиперпараметр - количество деревьев\n",
    "    for depth in range(10,51,10):  # переберём гиперпараметр - максимальная глубина деревьев\n",
    "        model = RandomForestClassifier(random_state=12345, n_estimators=est, max_depth = depth)\n",
    "        model.fit(features_train, target_train)\n",
    "        predictions_valid = model.predict(features_valid)\n",
    "        result = accuracy_score(target_valid,predictions_valid).round(4)\n",
    "        if result > best_result:\n",
    "            best_est = est # сохраним наилучшие параметры\n",
    "            best_depth = depth\n",
    "            best_result = result #  сохраним наилучшее значение метрики accuracy на валидационных данных\n",
    "            best_model = model\n",
    "print('--------------------------------------')     \n",
    "print(f'Наилучшая модель алгоритма \"Случайный лес\" при параметрах:\\\n",
    "\\nколичество дереьев в лесу: {best_est},\\\n",
    "\\nмаксимальная глубина: {best_depth},\\\n",
    "\\nточность: {best_result}\\n')    "
   ]
  },
  {
   "cell_type": "code",
   "execution_count": 115,
   "metadata": {},
   "outputs": [
    {
     "data": {
      "text/plain": [
       "30"
      ]
     },
     "execution_count": 115,
     "metadata": {},
     "output_type": "execute_result"
    }
   ],
   "source": [
    "# код ревьюера для проверки\n",
    "best_est"
   ]
  },
  {
   "cell_type": "code",
   "execution_count": 116,
   "metadata": {},
   "outputs": [
    {
     "data": {
      "text/plain": [
       "RandomForestClassifier(bootstrap=True, class_weight=None, criterion='gini',\n",
       "                       max_depth=10, max_features='auto', max_leaf_nodes=None,\n",
       "                       min_impurity_decrease=0.0, min_impurity_split=None,\n",
       "                       min_samples_leaf=1, min_samples_split=2,\n",
       "                       min_weight_fraction_leaf=0.0, n_estimators=30,\n",
       "                       n_jobs=None, oob_score=False, random_state=12345,\n",
       "                       verbose=0, warm_start=False)"
      ]
     },
     "execution_count": 116,
     "metadata": {},
     "output_type": "execute_result"
    }
   ],
   "source": [
    "# код ревьюера для проверки - сохраним модель случайного леса\n",
    "best_rf_model = best_model\n",
    "best_rf_model"
   ]
  },
  {
   "cell_type": "markdown",
   "metadata": {},
   "source": [
    "### посмотрим как отработает алгоритм обучения - логистическая регрессия"
   ]
  },
  {
   "cell_type": "code",
   "execution_count": 117,
   "metadata": {},
   "outputs": [
    {
     "name": "stdout",
     "output_type": "stream",
     "text": [
      "Точность алгоритма логистичекая регрессия: 0.718\n",
      "\n",
      "CPU times: user 9.47 ms, sys: 42 µs, total: 9.51 ms\n",
      "Wall time: 7.96 ms\n"
     ]
    },
    {
     "name": "stderr",
     "output_type": "stream",
     "text": [
      "/opt/conda/lib/python3.7/site-packages/sklearn/linear_model/logistic.py:432: FutureWarning: Default solver will be changed to 'lbfgs' in 0.22. Specify a solver to silence this warning.\n",
      "  FutureWarning)\n"
     ]
    }
   ],
   "source": [
    "%%time\n",
    "lr_model = LogisticRegression(random_state=12345)\n",
    "lr_model.fit(features_train, target_train)\n",
    "predictions_valid = lr_model.predict(features_valid)\n",
    "result = accuracy_score(target_valid,predictions_valid).round(3)\n",
    "print(f'Точность алгоритма логистичекая регрессия: {result}\\n')"
   ]
  },
  {
   "cell_type": "markdown",
   "metadata": {},
   "source": [
    "У этого алгоритма минимальное количество гиперпараметров - поэтому оно лучше избегает переобучения и быстро отрабатывает, но он показал наихудшую точность прогноза на валидационной выборке."
   ]
  },
  {
   "cell_type": "code",
   "execution_count": 118,
   "metadata": {},
   "outputs": [
    {
     "name": "stdout",
     "output_type": "stream",
     "text": [
      "Accuracy лучшей модели логистической регрессии на валидационной выборке: 0.8009950248756219\n",
      "Лучшая модель логистической регрессии:\n",
      "LogisticRegression(C=0.001, class_weight=None, dual=False, fit_intercept=True,\n",
      "                   intercept_scaling=1, l1_ratio=None, max_iter=100,\n",
      "                   multi_class='warn', n_jobs=None, penalty='l1',\n",
      "                   random_state=12345, solver='liblinear', tol=0.0001,\n",
      "                   verbose=0, warm_start=False)\n"
     ]
    }
   ],
   "source": [
    "# код ревьюера для объяснения\n",
    "best_model = None\n",
    "best_result = 0\n",
    "for penalty in ['l1', 'l2']:\n",
    "    for C in [0.001, 0.01, 1.0, 5.0, 10.0, 20.0]:\n",
    "        lr_model = LogisticRegression(random_state=12345, penalty=penalty, C=C, solver='liblinear') \n",
    "        lr_model.fit(features_train, target_train) \n",
    "        result = accuracy_score(target_valid, model.predict(features_valid))\n",
    "        if result > best_result:\n",
    "            best_lr_model = lr_model\n",
    "            best_result = result\n",
    "print(\"Accuracy лучшей модели логистической регрессии на валидационной выборке:\", best_result)\n",
    "#best_lr_model = best_model\n",
    "print('Лучшая модель логистической регрессии:', best_lr_model, sep='\\n')"
   ]
  },
  {
   "cell_type": "code",
   "execution_count": 119,
   "metadata": {},
   "outputs": [],
   "source": [
    "# код ревьюера для проверки - сохраним модель логистической регрессии\n",
    "# best_lr_model = best_model\n",
    "# best_lr_model"
   ]
  },
  {
   "cell_type": "markdown",
   "metadata": {},
   "source": [
    "## Проверьте модель на тестовой выборке"
   ]
  },
  {
   "cell_type": "markdown",
   "metadata": {},
   "source": [
    "Лучшая модель с максимальной долей верных ответов (accuracy) получилась на алгоритме RandomForest с гиперпараметром n_estimators = 10, max_depth = 10\n",
    "отрабатывает долго но выборки сейчас не большие по этому воспользуемся ей на тестовой выборке"
   ]
  },
  {
   "cell_type": "code",
   "execution_count": 121,
   "metadata": {},
   "outputs": [
    {
     "data": {
      "text/plain": [
       "RandomForestClassifier(bootstrap=True, class_weight=None, criterion='gini',\n",
       "                       max_depth=10, max_features='auto', max_leaf_nodes=None,\n",
       "                       min_impurity_decrease=0.0, min_impurity_split=None,\n",
       "                       min_samples_leaf=1, min_samples_split=2,\n",
       "                       min_weight_fraction_leaf=0.0, n_estimators=30,\n",
       "                       n_jobs=None, oob_score=False, random_state=12345,\n",
       "                       verbose=0, warm_start=False)"
      ]
     },
     "execution_count": 121,
     "metadata": {},
     "output_type": "execute_result"
    }
   ],
   "source": [
    "best_rf_model"
   ]
  },
  {
   "cell_type": "code",
   "execution_count": 122,
   "metadata": {},
   "outputs": [
    {
     "name": "stdout",
     "output_type": "stream",
     "text": [
      "точность: 0.8184\n"
     ]
    }
   ],
   "source": [
    "# model = RandomForestClassifier(n_estimators=10, max_depth=40, random_state=12345)\n",
    "# model.fit(features_train, target_train)\n",
    "predictions_test = best_rf_model.predict(features_test)\n",
    "result = accuracy_score(target_test,predictions_test).round(4)\n",
    "print(f'точность: {result}')"
   ]
  },
  {
   "cell_type": "markdown",
   "metadata": {},
   "source": [
    "## (бонус) Проверьте модели на адекватность"
   ]
  },
  {
   "cell_type": "markdown",
   "metadata": {},
   "source": [
    "Для проверки на адекватность сначала посмотрю в чем расхождение предсказаний от реальных данных \n",
    "Соеденю в один датафрейм нужные данные.."
   ]
  },
  {
   "cell_type": "code",
   "execution_count": 123,
   "metadata": {},
   "outputs": [],
   "source": [
    "df_test = pd.concat([features_test, target_test],axis=1)"
   ]
  },
  {
   "cell_type": "code",
   "execution_count": 124,
   "metadata": {},
   "outputs": [],
   "source": [
    "df_test.loc[:,'predict'] = list(predictions_test)"
   ]
  },
  {
   "cell_type": "code",
   "execution_count": 125,
   "metadata": {},
   "outputs": [
    {
     "data": {
      "text/plain": [
       "0    558\n",
       "1    246\n",
       "Name: is_ultra, dtype: int64"
      ]
     },
     "execution_count": 125,
     "metadata": {},
     "output_type": "execute_result"
    }
   ],
   "source": [
    "df_test['is_ultra'].value_counts()\n",
    "#df_test['is_ultra'].value_counts(normalize=True)"
   ]
  },
  {
   "cell_type": "code",
   "execution_count": 126,
   "metadata": {},
   "outputs": [
    {
     "data": {
      "text/plain": [
       "0    0.800995\n",
       "1    0.199005\n",
       "Name: predict, dtype: float64"
      ]
     },
     "execution_count": 126,
     "metadata": {},
     "output_type": "execute_result"
    }
   ],
   "source": [
    "df_test['predict'].value_counts(normalize=True)"
   ]
  },
  {
   "cell_type": "markdown",
   "metadata": {},
   "source": [
    "В требуемой классификации всего две категории с соотношением друг к другу 70(не ультра) и 30(ультра) процентов в реальных данных.\n",
    "В предсказанных соотношение категорий уже 80 и 20 процентов, а точность прогноза составила 80 процентов совпадений. "
   ]
  },
  {
   "cell_type": "markdown",
   "metadata": {},
   "source": [
    "Проведу эксперимент - сгенерирую случайным образом массив с частотой категорий как у реальных данных (70 на 30), и посмотрим что на это скажет метод проверки точности. "
   ]
  },
  {
   "cell_type": "code",
   "execution_count": 127,
   "metadata": {},
   "outputs": [
    {
     "name": "stdout",
     "output_type": "stream",
     "text": [
      "точность: 0.597\n"
     ]
    }
   ],
   "source": [
    "result = accuracy_score(target_test,np.random.binomial(1,0.3,804)).round(4)\n",
    "print(f'точность: {result}')"
   ]
  },
  {
   "cell_type": "markdown",
   "metadata": {},
   "source": [
    "Сделаю это раз 100 , чтоб понять - возможно ли случайным образом получить результат 80 процентов совпадений ."
   ]
  },
  {
   "cell_type": "code",
   "execution_count": 128,
   "metadata": {},
   "outputs": [
    {
     "data": {
      "text/plain": [
       "count    100.000000\n",
       "mean       0.576667\n",
       "std        0.017505\n",
       "min        0.527400\n",
       "25%        0.565900\n",
       "50%        0.578400\n",
       "75%        0.587400\n",
       "max        0.624400\n",
       "dtype: float64"
      ]
     },
     "execution_count": 128,
     "metadata": {},
     "output_type": "execute_result"
    }
   ],
   "source": [
    "list_random_accuracy = []      # создам пустой список - куда буду складывать получаемый accuracy\n",
    "for i in range(1,101):   #  инициализирую цикл  для получения 100 рандомных последовательности\n",
    "    result = accuracy_score(target_test,np.random.binomial(1,0.3,804)).round(4)   # посчитаем методом accuracy из библиотеки sklearn\n",
    "    list_random_accuracy.append(result)         #\n",
    "pd.Series(list_random_accuracy).describe()      # преобразуем в серию для удобного получения описательных характеристик"
   ]
  },
  {
   "cell_type": "markdown",
   "metadata": {},
   "source": [
    "Полученная последовательность только старается быть с пропорциями 0 и 1 как в реальном датафрейме - сделаем пропорции точно такими же. "
   ]
  },
  {
   "cell_type": "code",
   "execution_count": 129,
   "metadata": {},
   "outputs": [
    {
     "data": {
      "text/plain": [
       "0    558\n",
       "1    246\n",
       "dtype: int64"
      ]
     },
     "execution_count": 129,
     "metadata": {},
     "output_type": "execute_result"
    }
   ],
   "source": [
    "# другой способ получить рандомную последовательность 0 и 1 но уже с точным количеством как в реальном датафрейме\n",
    "pd.Series(np.random.choice(([0]*558 + [1]* 246),804,replace=False)).value_counts()"
   ]
  },
  {
   "cell_type": "code",
   "execution_count": 130,
   "metadata": {},
   "outputs": [
    {
     "data": {
      "text/plain": [
       "count    100.000000\n",
       "mean       0.579845\n",
       "std        0.015481\n",
       "min        0.538600\n",
       "25%        0.568400\n",
       "50%        0.583300\n",
       "75%        0.590800\n",
       "max        0.615700\n",
       "dtype: float64"
      ]
     },
     "execution_count": 130,
     "metadata": {},
     "output_type": "execute_result"
    }
   ],
   "source": [
    "list_random_accuracy = []      # создам пустой список - куда буду складывать получаемый accuracy\n",
    "for i in range(1,101):   #  инициализирую цикл  для получения 100 рандомных последовательности\n",
    "    \n",
    "    result = accuracy_score(target_test,np.random.choice(([0]*563 + [1]* 241),804,replace=False)).round(4)   #\n",
    "    list_random_accuracy.append(result)         # добавим результат в список\n",
    "pd.Series(list_random_accuracy).describe()     # преобразуем в серию для удобного получения описательных характеристик"
   ]
  },
  {
   "cell_type": "markdown",
   "metadata": {},
   "source": [
    "Зря я затеил эти эксперименты\n",
    "Получается что если бы я просто заполнил тестовый массив самой частотной категорией - то есть 0(не ультра) , то совпадения составят 70 процентов.  \n",
    "Логично... в рандомных экспериментах (против частотного) ошибки приросли на обоих категориях.\n"
   ]
  },
  {
   "cell_type": "markdown",
   "metadata": {},
   "source": [
    "Ну что ж. \n",
    "При подстановке самого частотного случая  и при 100 экспериментах получения случайной последовательности(с соблюдением пропорций) видно что случайно получить результат точности прогноза модели мало вероятно. Получается что модель адекватна.(на 10 процентов адекватней \"частотного\")"
   ]
  },
  {
   "cell_type": "code",
   "execution_count": 131,
   "metadata": {},
   "outputs": [
    {
     "name": "stdout",
     "output_type": "stream",
     "text": [
      "Accuracy базовой модели на тестовой выборке: 0.6940298507462687\n"
     ]
    }
   ],
   "source": [
    "# код ревьюера для объяснения\n",
    "\n",
    "from sklearn.dummy import DummyClassifier\n",
    "\n",
    "dummy_model = DummyClassifier(strategy= 'most_frequent').fit(features_train, target_train)\n",
    "dummy_pred = dummy_model.predict(features_test)\n",
    "print(\"Accuracy базовой модели на тестовой выборке:\", accuracy_score(target_test, dummy_pred))"
   ]
  },
  {
   "cell_type": "code",
   "execution_count": 132,
   "metadata": {},
   "outputs": [
    {
     "name": "stdout",
     "output_type": "stream",
     "text": [
      "Базовая модель:\n",
      "\tAccuracy на валидационной выборке: 0.693200663349917\n",
      "\tAccuracy на тестовой выборке:      0.6940298507462687\n",
      "\n",
      "Логистическая регрессия без подбора:\n",
      "\tAccuracy на валидационной выборке: 0.7180762852404643\n",
      "\tAccuracy на тестовой выборке:      0.7164179104477612\n",
      "\n",
      "Логистическая регрессия:\n",
      "\tAccuracy на валидационной выборке: 0.7064676616915423\n",
      "\tAccuracy на тестовой выборке:      0.7002487562189055\n",
      "\n",
      "Дерево решений:\n",
      "\tAccuracy на валидационной выборке: 0.8109452736318408\n",
      "\tAccuracy на тестовой выборке:      0.8034825870646766\n",
      "\n",
      "Случайный лес:\n",
      "\tAccuracy на валидационной выборке: 0.814262023217247\n",
      "\tAccuracy на тестовой выборке:      0.818407960199005\n",
      "\n"
     ]
    }
   ],
   "source": [
    "# код ревьюера для проверки\n",
    "\n",
    "models = {\n",
    "    'Базовая модель': dummy_model,\n",
    "    'Логистическая регрессия без подбора': lr_model,\n",
    "    'Логистическая регрессия': best_lr_model,\n",
    "    'Дерево решений': best_dt_model,\n",
    "    'Случайный лес': best_rf_model\n",
    "}\n",
    "\n",
    "for model_name, model in models.items():\n",
    "    print(f'{model_name}:')\n",
    "    print(\"\\tAccuracy на валидационной выборке:\", accuracy_score(target_valid, model.predict(features_valid)))\n",
    "    print(\"\\tAccuracy на тестовой выборке:     \", accuracy_score(target_test, model.predict(features_test)))\n",
    "    print()"
   ]
  }
 ],
 "metadata": {
  "ExecuteTimeLog": [
   {
    "duration": 565,
    "start_time": "2022-02-24T06:52:55.088Z"
   },
   {
    "duration": 32,
    "start_time": "2022-02-24T06:53:24.048Z"
   },
   {
    "duration": 16,
    "start_time": "2022-02-24T06:53:27.721Z"
   },
   {
    "duration": 7,
    "start_time": "2022-02-24T06:54:09.922Z"
   },
   {
    "duration": 9,
    "start_time": "2022-02-24T06:54:25.956Z"
   },
   {
    "duration": 324,
    "start_time": "2022-02-24T06:54:37.589Z"
   },
   {
    "duration": 22,
    "start_time": "2022-02-24T06:54:42.343Z"
   },
   {
    "duration": 277,
    "start_time": "2022-02-24T10:10:59.219Z"
   },
   {
    "duration": 967,
    "start_time": "2022-02-24T10:11:09.364Z"
   },
   {
    "duration": 3,
    "start_time": "2022-02-24T10:11:32.693Z"
   },
   {
    "duration": 30,
    "start_time": "2022-02-24T10:11:35.145Z"
   },
   {
    "duration": 6,
    "start_time": "2022-02-24T10:11:35.423Z"
   },
   {
    "duration": 21,
    "start_time": "2022-02-24T10:11:35.654Z"
   },
   {
    "duration": 8,
    "start_time": "2022-02-24T10:11:35.899Z"
   },
   {
    "duration": 297,
    "start_time": "2022-02-24T10:11:37.313Z"
   },
   {
    "duration": 6,
    "start_time": "2022-02-24T10:11:50.905Z"
   },
   {
    "duration": 509,
    "start_time": "2022-02-24T10:11:53.238Z"
   },
   {
    "duration": 372,
    "start_time": "2022-02-24T10:12:03.658Z"
   },
   {
    "duration": 5,
    "start_time": "2022-02-24T10:51:20.101Z"
   },
   {
    "duration": 5,
    "start_time": "2022-02-24T10:51:20.594Z"
   },
   {
    "duration": 272,
    "start_time": "2022-02-24T10:52:32.388Z"
   },
   {
    "duration": 325,
    "start_time": "2022-02-24T10:52:42.668Z"
   },
   {
    "duration": 6,
    "start_time": "2022-02-24T10:53:33.779Z"
   },
   {
    "duration": 5,
    "start_time": "2022-02-24T10:53:34.124Z"
   },
   {
    "duration": 280,
    "start_time": "2022-02-24T10:53:35.123Z"
   },
   {
    "duration": 313,
    "start_time": "2022-02-24T10:57:07.245Z"
   },
   {
    "duration": 92,
    "start_time": "2022-02-24T10:57:25.928Z"
   },
   {
    "duration": 267,
    "start_time": "2022-02-24T10:57:31.332Z"
   },
   {
    "duration": 268,
    "start_time": "2022-02-24T10:59:35.795Z"
   },
   {
    "duration": 26,
    "start_time": "2022-02-24T11:01:35.514Z"
   },
   {
    "duration": 25,
    "start_time": "2022-02-24T11:01:44.788Z"
   },
   {
    "duration": 9,
    "start_time": "2022-02-24T11:06:18.633Z"
   },
   {
    "duration": 273,
    "start_time": "2022-02-24T11:07:02.911Z"
   },
   {
    "duration": 9,
    "start_time": "2022-02-24T11:07:08.123Z"
   },
   {
    "duration": 10,
    "start_time": "2022-02-24T11:07:23.013Z"
   },
   {
    "duration": 4,
    "start_time": "2022-02-24T11:42:27.746Z"
   },
   {
    "duration": 23,
    "start_time": "2022-02-24T11:42:28.971Z"
   },
   {
    "duration": 7,
    "start_time": "2022-02-24T11:44:45.719Z"
   },
   {
    "duration": 13,
    "start_time": "2022-02-24T11:44:48.189Z"
   },
   {
    "duration": 4,
    "start_time": "2022-02-24T11:45:14.927Z"
   },
   {
    "duration": 21,
    "start_time": "2022-02-24T11:45:18.117Z"
   },
   {
    "duration": 19,
    "start_time": "2022-02-24T11:45:44.940Z"
   },
   {
    "duration": 6,
    "start_time": "2022-02-24T11:45:45.195Z"
   },
   {
    "duration": 20,
    "start_time": "2022-02-24T11:45:45.476Z"
   },
   {
    "duration": 8,
    "start_time": "2022-02-24T11:45:45.823Z"
   },
   {
    "duration": 11,
    "start_time": "2022-02-24T11:45:47.695Z"
   },
   {
    "duration": 94,
    "start_time": "2022-02-24T11:45:48.773Z"
   },
   {
    "duration": 5,
    "start_time": "2022-02-24T11:45:54.545Z"
   },
   {
    "duration": 5,
    "start_time": "2022-02-24T11:45:55.035Z"
   },
   {
    "duration": 22,
    "start_time": "2022-02-24T11:45:56.638Z"
   },
   {
    "duration": 5,
    "start_time": "2022-02-24T11:46:09.580Z"
   },
   {
    "duration": 23,
    "start_time": "2022-02-24T11:46:10.878Z"
   },
   {
    "duration": 26,
    "start_time": "2022-02-24T12:22:35.990Z"
   },
   {
    "duration": 26,
    "start_time": "2022-02-24T12:22:43.990Z"
   },
   {
    "duration": 23,
    "start_time": "2022-02-24T12:22:54.785Z"
   },
   {
    "duration": 308,
    "start_time": "2022-02-24T13:09:46.477Z"
   },
   {
    "duration": 293,
    "start_time": "2022-02-24T13:09:50.256Z"
   },
   {
    "duration": 262,
    "start_time": "2022-02-24T13:10:01.097Z"
   },
   {
    "duration": 6,
    "start_time": "2022-02-24T13:10:04.399Z"
   },
   {
    "duration": 6,
    "start_time": "2022-02-24T13:10:19.237Z"
   },
   {
    "duration": 90,
    "start_time": "2022-02-24T13:12:29.150Z"
   },
   {
    "duration": 120,
    "start_time": "2022-02-24T13:13:31.926Z"
   },
   {
    "duration": 79,
    "start_time": "2022-02-24T13:13:45.848Z"
   },
   {
    "duration": 24,
    "start_time": "2022-02-24T13:13:59.902Z"
   },
   {
    "duration": 23,
    "start_time": "2022-02-24T13:14:04.739Z"
   },
   {
    "duration": 6,
    "start_time": "2022-02-24T13:25:40.581Z"
   },
   {
    "duration": 6,
    "start_time": "2022-02-24T13:28:29.560Z"
   },
   {
    "duration": 7,
    "start_time": "2022-02-24T13:28:33.654Z"
   },
   {
    "duration": 6,
    "start_time": "2022-02-24T13:28:56.986Z"
   },
   {
    "duration": 6,
    "start_time": "2022-02-24T13:29:33.242Z"
   },
   {
    "duration": 6,
    "start_time": "2022-02-24T13:29:44.113Z"
   },
   {
    "duration": 6,
    "start_time": "2022-02-24T13:30:11.987Z"
   },
   {
    "duration": 7,
    "start_time": "2022-02-24T13:30:12.777Z"
   },
   {
    "duration": 5,
    "start_time": "2022-02-24T13:30:29.790Z"
   },
   {
    "duration": 23,
    "start_time": "2022-02-24T13:30:32.016Z"
   },
   {
    "duration": 7,
    "start_time": "2022-02-24T13:30:43.850Z"
   },
   {
    "duration": 5,
    "start_time": "2022-02-24T13:30:46.035Z"
   },
   {
    "duration": 23,
    "start_time": "2022-02-24T13:30:47.539Z"
   },
   {
    "duration": 7,
    "start_time": "2022-02-24T13:43:56.554Z"
   },
   {
    "duration": 6,
    "start_time": "2022-02-24T13:43:57.212Z"
   },
   {
    "duration": 5,
    "start_time": "2022-02-24T13:44:00.676Z"
   },
   {
    "duration": 25,
    "start_time": "2022-02-24T13:44:01.709Z"
   },
   {
    "duration": 6,
    "start_time": "2022-02-24T13:45:05.100Z"
   },
   {
    "duration": 6,
    "start_time": "2022-02-24T13:45:05.686Z"
   },
   {
    "duration": 5,
    "start_time": "2022-02-24T13:45:09.806Z"
   },
   {
    "duration": 22,
    "start_time": "2022-02-24T13:45:10.787Z"
   },
   {
    "duration": 180,
    "start_time": "2022-02-24T14:42:06.087Z"
   },
   {
    "duration": 10,
    "start_time": "2022-02-24T14:42:12.711Z"
   },
   {
    "duration": 227,
    "start_time": "2022-02-24T14:42:18.189Z"
   },
   {
    "duration": 160,
    "start_time": "2022-02-24T14:42:33.979Z"
   },
   {
    "duration": 161,
    "start_time": "2022-02-24T14:42:42.516Z"
   },
   {
    "duration": 166,
    "start_time": "2022-02-24T14:42:53.253Z"
   },
   {
    "duration": 157,
    "start_time": "2022-02-24T14:44:07.061Z"
   },
   {
    "duration": 163,
    "start_time": "2022-02-24T14:44:33.187Z"
   },
   {
    "duration": 191,
    "start_time": "2022-02-24T14:58:48.296Z"
   },
   {
    "duration": 164,
    "start_time": "2022-02-24T14:59:03.160Z"
   },
   {
    "duration": 3,
    "start_time": "2022-02-24T16:44:43.527Z"
   },
   {
    "duration": 30,
    "start_time": "2022-02-24T16:44:43.819Z"
   },
   {
    "duration": 6,
    "start_time": "2022-02-24T16:44:44.046Z"
   },
   {
    "duration": 20,
    "start_time": "2022-02-24T16:44:44.268Z"
   },
   {
    "duration": 8,
    "start_time": "2022-02-24T16:44:44.519Z"
   },
   {
    "duration": 10,
    "start_time": "2022-02-24T16:44:45.018Z"
   },
   {
    "duration": 5,
    "start_time": "2022-02-24T16:44:46.265Z"
   },
   {
    "duration": 6,
    "start_time": "2022-02-24T16:44:46.514Z"
   },
   {
    "duration": 5,
    "start_time": "2022-02-24T16:44:46.765Z"
   },
   {
    "duration": 23,
    "start_time": "2022-02-24T16:44:47.528Z"
   },
   {
    "duration": 167,
    "start_time": "2022-02-24T16:44:49.138Z"
   },
   {
    "duration": 91,
    "start_time": "2022-02-24T16:57:45.441Z"
   },
   {
    "duration": 11,
    "start_time": "2022-02-24T16:58:07.633Z"
   },
   {
    "duration": 9,
    "start_time": "2022-02-24T16:58:17.773Z"
   },
   {
    "duration": 3,
    "start_time": "2022-02-24T16:58:23.789Z"
   },
   {
    "duration": 30,
    "start_time": "2022-02-24T16:58:24.038Z"
   },
   {
    "duration": 6,
    "start_time": "2022-02-24T16:58:24.226Z"
   },
   {
    "duration": 20,
    "start_time": "2022-02-24T16:58:24.386Z"
   },
   {
    "duration": 8,
    "start_time": "2022-02-24T16:58:24.543Z"
   },
   {
    "duration": 12,
    "start_time": "2022-02-24T16:58:24.845Z"
   },
   {
    "duration": 7,
    "start_time": "2022-02-24T16:58:25.639Z"
   },
   {
    "duration": 6,
    "start_time": "2022-02-24T16:58:25.827Z"
   },
   {
    "duration": 5,
    "start_time": "2022-02-24T16:58:26.061Z"
   },
   {
    "duration": 9,
    "start_time": "2022-02-24T16:58:27.262Z"
   },
   {
    "duration": 26,
    "start_time": "2022-02-24T16:58:31.905Z"
   },
   {
    "duration": 22,
    "start_time": "2022-02-24T16:58:51.265Z"
   },
   {
    "duration": 23,
    "start_time": "2022-02-24T17:00:27.855Z"
   },
   {
    "duration": 26,
    "start_time": "2022-02-24T17:12:37.636Z"
   },
   {
    "duration": 22,
    "start_time": "2022-02-24T17:12:39.886Z"
   },
   {
    "duration": 24,
    "start_time": "2022-02-24T17:12:41.655Z"
   },
   {
    "duration": 23,
    "start_time": "2022-02-24T17:18:49.928Z"
   },
   {
    "duration": 23,
    "start_time": "2022-02-24T17:19:17.166Z"
   },
   {
    "duration": 25,
    "start_time": "2022-02-24T17:19:53.192Z"
   },
   {
    "duration": 3,
    "start_time": "2022-02-24T17:20:33.926Z"
   },
   {
    "duration": 28,
    "start_time": "2022-02-24T17:20:34.087Z"
   },
   {
    "duration": 7,
    "start_time": "2022-02-24T17:20:34.241Z"
   },
   {
    "duration": 21,
    "start_time": "2022-02-24T17:20:34.400Z"
   },
   {
    "duration": 9,
    "start_time": "2022-02-24T17:20:34.537Z"
   },
   {
    "duration": 11,
    "start_time": "2022-02-24T17:20:34.885Z"
   },
   {
    "duration": 6,
    "start_time": "2022-02-24T17:20:35.668Z"
   },
   {
    "duration": 6,
    "start_time": "2022-02-24T17:20:35.917Z"
   },
   {
    "duration": 5,
    "start_time": "2022-02-24T17:20:36.287Z"
   },
   {
    "duration": 25,
    "start_time": "2022-02-24T17:20:38.636Z"
   },
   {
    "duration": 22,
    "start_time": "2022-02-24T17:21:32.017Z"
   },
   {
    "duration": 25,
    "start_time": "2022-02-24T17:22:01.238Z"
   },
   {
    "duration": 9,
    "start_time": "2022-02-24T17:25:18.601Z"
   },
   {
    "duration": 166,
    "start_time": "2022-02-24T17:29:11.221Z"
   },
   {
    "duration": 169,
    "start_time": "2022-02-24T17:29:35.374Z"
   },
   {
    "duration": 162,
    "start_time": "2022-02-24T17:29:55.190Z"
   },
   {
    "duration": 169,
    "start_time": "2022-02-24T17:30:26.615Z"
   },
   {
    "duration": 167,
    "start_time": "2022-02-24T17:30:45.570Z"
   },
   {
    "duration": 187,
    "start_time": "2022-02-24T17:31:13.305Z"
   },
   {
    "duration": 11,
    "start_time": "2022-02-24T17:31:25.209Z"
   },
   {
    "duration": 171,
    "start_time": "2022-02-24T17:33:53.855Z"
   },
   {
    "duration": 165,
    "start_time": "2022-02-24T17:34:03.194Z"
   },
   {
    "duration": 165,
    "start_time": "2022-02-24T17:34:21.374Z"
   },
   {
    "duration": 168,
    "start_time": "2022-02-24T17:34:27.965Z"
   },
   {
    "duration": 10,
    "start_time": "2022-02-24T17:34:37.180Z"
   },
   {
    "duration": 168,
    "start_time": "2022-02-24T17:34:49.171Z"
   },
   {
    "duration": 168,
    "start_time": "2022-02-24T17:35:05.432Z"
   },
   {
    "duration": 165,
    "start_time": "2022-02-24T17:35:14.068Z"
   },
   {
    "duration": 165,
    "start_time": "2022-02-24T17:35:19.720Z"
   },
   {
    "duration": 169,
    "start_time": "2022-02-24T17:35:25.702Z"
   },
   {
    "duration": 161,
    "start_time": "2022-02-24T17:35:33.938Z"
   },
   {
    "duration": 9,
    "start_time": "2022-02-24T17:35:43.862Z"
   },
   {
    "duration": 50,
    "start_time": "2022-02-24T17:36:26.288Z"
   },
   {
    "duration": 160,
    "start_time": "2022-02-24T17:36:43.142Z"
   },
   {
    "duration": 51,
    "start_time": "2022-02-24T17:37:19.476Z"
   },
   {
    "duration": 5,
    "start_time": "2022-02-24T17:43:29.388Z"
   },
   {
    "duration": 5,
    "start_time": "2022-02-24T17:43:30.056Z"
   },
   {
    "duration": 50,
    "start_time": "2022-02-24T17:43:31.265Z"
   },
   {
    "duration": 166,
    "start_time": "2022-02-24T17:43:38.307Z"
   },
   {
    "duration": 10,
    "start_time": "2022-02-24T17:43:45.887Z"
   },
   {
    "duration": 5,
    "start_time": "2022-02-24T17:50:25.770Z"
   },
   {
    "duration": 52,
    "start_time": "2022-02-24T18:00:24.519Z"
   },
   {
    "duration": 53,
    "start_time": "2022-02-24T18:00:30.552Z"
   },
   {
    "duration": 53,
    "start_time": "2022-02-24T18:00:50.917Z"
   },
   {
    "duration": 54,
    "start_time": "2022-02-24T18:01:13.744Z"
   },
   {
    "duration": 173,
    "start_time": "2022-02-24T18:01:15.796Z"
   },
   {
    "duration": 51,
    "start_time": "2022-02-24T18:01:46.321Z"
   },
   {
    "duration": 52,
    "start_time": "2022-02-24T18:01:55.457Z"
   },
   {
    "duration": 271,
    "start_time": "2022-02-24T18:09:16.590Z"
   },
   {
    "duration": 25,
    "start_time": "2022-02-24T18:14:41.206Z"
   },
   {
    "duration": 25,
    "start_time": "2022-02-24T18:14:50.368Z"
   },
   {
    "duration": 4,
    "start_time": "2022-02-24T18:27:47.925Z"
   },
   {
    "duration": 330,
    "start_time": "2022-02-24T18:27:48.472Z"
   },
   {
    "duration": 7,
    "start_time": "2022-02-24T18:28:59.025Z"
   },
   {
    "duration": 7,
    "start_time": "2022-02-24T18:32:05.795Z"
   },
   {
    "duration": 6,
    "start_time": "2022-02-24T18:32:26.047Z"
   },
   {
    "duration": 6,
    "start_time": "2022-02-24T18:34:18.686Z"
   },
   {
    "duration": 7,
    "start_time": "2022-02-24T18:34:39.154Z"
   },
   {
    "duration": 6,
    "start_time": "2022-02-24T18:35:00.890Z"
   },
   {
    "duration": 2349,
    "start_time": "2022-02-24T18:35:10.001Z"
   },
   {
    "duration": 4,
    "start_time": "2022-02-24T18:35:26.158Z"
   },
   {
    "duration": 29,
    "start_time": "2022-02-24T18:35:26.408Z"
   },
   {
    "duration": 7,
    "start_time": "2022-02-24T18:35:26.608Z"
   },
   {
    "duration": 21,
    "start_time": "2022-02-24T18:35:26.809Z"
   },
   {
    "duration": 8,
    "start_time": "2022-02-24T18:35:26.999Z"
   },
   {
    "duration": 12,
    "start_time": "2022-02-24T18:35:27.408Z"
   },
   {
    "duration": 4,
    "start_time": "2022-02-24T18:35:28.571Z"
   },
   {
    "duration": 6,
    "start_time": "2022-02-24T18:35:28.773Z"
   },
   {
    "duration": 6,
    "start_time": "2022-02-24T18:35:29.279Z"
   },
   {
    "duration": 2,
    "start_time": "2022-02-24T18:35:29.520Z"
   },
   {
    "duration": 645,
    "start_time": "2022-02-24T18:35:30.769Z"
   },
   {
    "duration": 7,
    "start_time": "2022-02-24T18:36:29.290Z"
   },
   {
    "duration": 6,
    "start_time": "2022-02-24T18:36:45.221Z"
   },
   {
    "duration": 6,
    "start_time": "2022-02-24T18:36:57.305Z"
   },
   {
    "duration": 6,
    "start_time": "2022-02-24T18:37:29.491Z"
   },
   {
    "duration": 7,
    "start_time": "2022-02-24T18:37:40.021Z"
   },
   {
    "duration": 176,
    "start_time": "2022-02-24T18:37:52.879Z"
   },
   {
    "duration": 1406,
    "start_time": "2022-02-24T18:40:53.847Z"
   },
   {
    "duration": 18,
    "start_time": "2022-02-24T18:40:55.254Z"
   },
   {
    "duration": 6,
    "start_time": "2022-02-24T18:40:55.274Z"
   },
   {
    "duration": 24,
    "start_time": "2022-02-24T18:40:55.281Z"
   },
   {
    "duration": 7,
    "start_time": "2022-02-24T18:40:55.307Z"
   },
   {
    "duration": 24,
    "start_time": "2022-02-24T18:40:55.315Z"
   },
   {
    "duration": 7,
    "start_time": "2022-02-24T18:40:56.705Z"
   },
   {
    "duration": 5,
    "start_time": "2022-02-24T18:40:56.933Z"
   },
   {
    "duration": 6,
    "start_time": "2022-02-24T18:40:57.338Z"
   },
   {
    "duration": 2,
    "start_time": "2022-02-24T18:40:57.527Z"
   },
   {
    "duration": 618,
    "start_time": "2022-02-24T18:40:58.159Z"
   },
   {
    "duration": 6,
    "start_time": "2022-02-24T18:41:12.099Z"
   },
   {
    "duration": 219,
    "start_time": "2022-02-24T18:41:14.205Z"
   },
   {
    "duration": 6,
    "start_time": "2022-02-24T18:42:50.535Z"
   },
   {
    "duration": 6,
    "start_time": "2022-02-24T18:42:51.452Z"
   },
   {
    "duration": 174,
    "start_time": "2022-02-24T18:42:54.283Z"
   },
   {
    "duration": 5,
    "start_time": "2022-02-24T18:47:35.905Z"
   },
   {
    "duration": 7,
    "start_time": "2022-02-24T18:47:36.155Z"
   },
   {
    "duration": 6,
    "start_time": "2022-02-24T18:47:36.987Z"
   },
   {
    "duration": 3,
    "start_time": "2022-02-24T18:47:38.362Z"
   },
   {
    "duration": 187,
    "start_time": "2022-02-24T18:47:40.053Z"
   },
   {
    "duration": 204,
    "start_time": "2022-02-24T18:47:47.894Z"
   },
   {
    "duration": 12,
    "start_time": "2022-02-24T18:48:06.931Z"
   },
   {
    "duration": 10,
    "start_time": "2022-02-24T18:48:21.002Z"
   },
   {
    "duration": 13,
    "start_time": "2022-02-24T18:48:33.967Z"
   },
   {
    "duration": 11,
    "start_time": "2022-02-24T18:48:42.619Z"
   },
   {
    "duration": 11,
    "start_time": "2022-02-24T18:48:44.552Z"
   },
   {
    "duration": 10,
    "start_time": "2022-02-24T18:48:48.160Z"
   },
   {
    "duration": 5,
    "start_time": "2022-02-24T18:48:56.731Z"
   },
   {
    "duration": 4,
    "start_time": "2022-02-24T18:49:07.640Z"
   },
   {
    "duration": 6,
    "start_time": "2022-02-24T18:49:08.239Z"
   },
   {
    "duration": 6,
    "start_time": "2022-02-24T18:49:08.887Z"
   },
   {
    "duration": 6,
    "start_time": "2022-02-24T18:49:09.637Z"
   },
   {
    "duration": 2,
    "start_time": "2022-02-24T18:49:11.972Z"
   },
   {
    "duration": 59,
    "start_time": "2022-02-24T18:49:13.195Z"
   },
   {
    "duration": 6,
    "start_time": "2022-02-24T18:49:43.416Z"
   },
   {
    "duration": 3,
    "start_time": "2022-02-24T18:49:44.479Z"
   },
   {
    "duration": 50,
    "start_time": "2022-02-24T18:49:45.777Z"
   },
   {
    "duration": 176,
    "start_time": "2022-02-24T18:49:49.947Z"
   },
   {
    "duration": 11,
    "start_time": "2022-02-24T18:49:53.119Z"
   },
   {
    "duration": 22,
    "start_time": "2022-02-24T18:49:55.923Z"
   },
   {
    "duration": 147,
    "start_time": "2022-02-24T18:53:18.777Z"
   },
   {
    "duration": 266,
    "start_time": "2022-02-24T18:53:30.438Z"
   },
   {
    "duration": 212,
    "start_time": "2022-02-24T18:53:53.152Z"
   },
   {
    "duration": 359,
    "start_time": "2022-02-24T18:53:53.852Z"
   },
   {
    "duration": 83,
    "start_time": "2022-02-24T18:54:01.127Z"
   },
   {
    "duration": 275,
    "start_time": "2022-02-24T18:54:09.272Z"
   },
   {
    "duration": 266,
    "start_time": "2022-02-24T18:54:20.423Z"
   },
   {
    "duration": 5,
    "start_time": "2022-02-24T20:08:31.713Z"
   },
   {
    "duration": 259,
    "start_time": "2022-02-24T20:12:24.772Z"
   },
   {
    "duration": 275,
    "start_time": "2022-02-24T20:12:37.255Z"
   },
   {
    "duration": 5,
    "start_time": "2022-02-24T20:12:59.412Z"
   },
   {
    "duration": 12,
    "start_time": "2022-02-24T20:13:05.264Z"
   },
   {
    "duration": 1983,
    "start_time": "2022-02-24T20:15:59.408Z"
   },
   {
    "duration": 252,
    "start_time": "2022-02-24T20:16:44.291Z"
   },
   {
    "duration": 254,
    "start_time": "2022-02-24T20:17:41.966Z"
   },
   {
    "duration": 10,
    "start_time": "2022-02-24T20:17:52.496Z"
   },
   {
    "duration": 5,
    "start_time": "2022-02-24T20:17:57.331Z"
   },
   {
    "duration": 388,
    "start_time": "2022-02-24T20:20:32.930Z"
   },
   {
    "duration": 6,
    "start_time": "2022-02-24T20:20:38.574Z"
   },
   {
    "duration": 13,
    "start_time": "2022-02-24T20:20:44.680Z"
   },
   {
    "duration": 5,
    "start_time": "2022-02-24T20:20:56.029Z"
   },
   {
    "duration": 11,
    "start_time": "2022-02-24T20:21:05.293Z"
   },
   {
    "duration": 12,
    "start_time": "2022-02-24T20:21:23.542Z"
   },
   {
    "duration": 12,
    "start_time": "2022-02-24T20:21:27.338Z"
   },
   {
    "duration": 312,
    "start_time": "2022-02-24T20:21:57.660Z"
   },
   {
    "duration": 16,
    "start_time": "2022-02-24T20:22:20.508Z"
   },
   {
    "duration": 82,
    "start_time": "2022-02-24T20:22:45.239Z"
   },
   {
    "duration": 84,
    "start_time": "2022-02-24T20:22:49.832Z"
   },
   {
    "duration": 259,
    "start_time": "2022-02-24T20:22:57.784Z"
   },
   {
    "duration": 16,
    "start_time": "2022-02-24T20:23:40.838Z"
   },
   {
    "duration": 3,
    "start_time": "2022-02-24T20:24:00.063Z"
   },
   {
    "duration": 29,
    "start_time": "2022-02-24T20:24:00.230Z"
   },
   {
    "duration": 6,
    "start_time": "2022-02-24T20:24:00.431Z"
   },
   {
    "duration": 22,
    "start_time": "2022-02-24T20:24:00.593Z"
   },
   {
    "duration": 9,
    "start_time": "2022-02-24T20:24:00.775Z"
   },
   {
    "duration": 11,
    "start_time": "2022-02-24T20:24:01.127Z"
   },
   {
    "duration": 4,
    "start_time": "2022-02-24T20:24:02.074Z"
   },
   {
    "duration": 6,
    "start_time": "2022-02-24T20:24:02.274Z"
   },
   {
    "duration": 6,
    "start_time": "2022-02-24T20:24:02.659Z"
   },
   {
    "duration": 52,
    "start_time": "2022-02-24T20:24:03.230Z"
   },
   {
    "duration": 191,
    "start_time": "2022-02-24T20:24:03.635Z"
   },
   {
    "duration": 10,
    "start_time": "2022-02-24T20:24:04.021Z"
   },
   {
    "duration": 24,
    "start_time": "2022-02-24T20:24:04.776Z"
   },
   {
    "duration": 16,
    "start_time": "2022-02-24T20:24:04.969Z"
   },
   {
    "duration": 2,
    "start_time": "2022-02-24T20:24:05.140Z"
   },
   {
    "duration": 9,
    "start_time": "2022-02-24T20:24:45.147Z"
   },
   {
    "duration": 5,
    "start_time": "2022-02-24T20:24:46.710Z"
   },
   {
    "duration": 5,
    "start_time": "2022-02-24T20:24:48.187Z"
   },
   {
    "duration": 14,
    "start_time": "2022-02-24T20:25:34.103Z"
   },
   {
    "duration": 15,
    "start_time": "2022-02-24T20:26:55.884Z"
   },
   {
    "duration": 15,
    "start_time": "2022-02-24T20:27:58.129Z"
   },
   {
    "duration": 15,
    "start_time": "2022-02-24T20:28:16.903Z"
   },
   {
    "duration": 14,
    "start_time": "2022-02-24T20:28:28.140Z"
   },
   {
    "duration": 12,
    "start_time": "2022-02-24T20:28:54.453Z"
   },
   {
    "duration": 13,
    "start_time": "2022-02-24T20:29:20.644Z"
   },
   {
    "duration": 12,
    "start_time": "2022-02-24T20:29:36.260Z"
   },
   {
    "duration": 250,
    "start_time": "2022-02-24T20:30:05.698Z"
   },
   {
    "duration": 4,
    "start_time": "2022-02-24T20:30:08.267Z"
   },
   {
    "duration": 13,
    "start_time": "2022-02-24T20:30:10.339Z"
   },
   {
    "duration": 14,
    "start_time": "2022-02-24T20:30:49.308Z"
   },
   {
    "duration": 7,
    "start_time": "2022-02-24T20:41:35.942Z"
   },
   {
    "duration": 6,
    "start_time": "2022-02-24T20:41:38.269Z"
   },
   {
    "duration": 6,
    "start_time": "2022-02-24T20:42:00.366Z"
   },
   {
    "duration": 49,
    "start_time": "2022-02-24T20:42:04.657Z"
   },
   {
    "duration": 166,
    "start_time": "2022-02-24T20:42:19.214Z"
   },
   {
    "duration": 10,
    "start_time": "2022-02-24T20:42:31.617Z"
   },
   {
    "duration": 22,
    "start_time": "2022-02-24T20:42:42.156Z"
   },
   {
    "duration": 85,
    "start_time": "2022-02-24T20:49:41.420Z"
   },
   {
    "duration": 102,
    "start_time": "2022-02-24T20:49:46.482Z"
   },
   {
    "duration": 1053,
    "start_time": "2022-02-24T20:49:49.487Z"
   },
   {
    "duration": 91,
    "start_time": "2022-02-24T20:50:25.086Z"
   },
   {
    "duration": 94,
    "start_time": "2022-02-24T20:50:38.125Z"
   },
   {
    "duration": 3191,
    "start_time": "2022-02-24T20:50:55.042Z"
   },
   {
    "duration": 3105,
    "start_time": "2022-02-24T20:52:29.889Z"
   },
   {
    "duration": 3034,
    "start_time": "2022-02-24T20:52:55.887Z"
   },
   {
    "duration": 284,
    "start_time": "2022-02-24T20:54:32.018Z"
   },
   {
    "duration": 28,
    "start_time": "2022-02-24T20:55:00.630Z"
   },
   {
    "duration": 29,
    "start_time": "2022-02-24T20:55:27.447Z"
   },
   {
    "duration": 27,
    "start_time": "2022-02-24T20:55:51.550Z"
   },
   {
    "duration": 10,
    "start_time": "2022-02-24T20:55:53.182Z"
   },
   {
    "duration": 28,
    "start_time": "2022-02-24T20:55:54.362Z"
   },
   {
    "duration": 29,
    "start_time": "2022-02-24T20:55:55.492Z"
   },
   {
    "duration": 25,
    "start_time": "2022-02-24T20:55:56.668Z"
   },
   {
    "duration": 28,
    "start_time": "2022-02-24T20:55:58.917Z"
   },
   {
    "duration": 28,
    "start_time": "2022-02-24T20:56:00.056Z"
   },
   {
    "duration": 27,
    "start_time": "2022-02-24T20:56:01.177Z"
   },
   {
    "duration": 25,
    "start_time": "2022-02-24T20:56:06.776Z"
   },
   {
    "duration": 25,
    "start_time": "2022-02-24T20:56:07.796Z"
   },
   {
    "duration": 24,
    "start_time": "2022-02-24T20:56:08.552Z"
   },
   {
    "duration": 23,
    "start_time": "2022-02-24T20:56:10.161Z"
   },
   {
    "duration": 105,
    "start_time": "2022-02-24T20:56:18.988Z"
   },
   {
    "duration": 105,
    "start_time": "2022-02-24T20:56:20.643Z"
   },
   {
    "duration": 105,
    "start_time": "2022-02-24T20:56:21.747Z"
   },
   {
    "duration": 103,
    "start_time": "2022-02-24T20:56:22.904Z"
   },
   {
    "duration": 103,
    "start_time": "2022-02-24T20:56:24.149Z"
   },
   {
    "duration": 106,
    "start_time": "2022-02-24T20:56:25.299Z"
   },
   {
    "duration": 29,
    "start_time": "2022-02-24T20:56:31.045Z"
   },
   {
    "duration": 28,
    "start_time": "2022-02-24T20:56:32.484Z"
   },
   {
    "duration": 38,
    "start_time": "2022-02-24T20:56:35.836Z"
   },
   {
    "duration": 27,
    "start_time": "2022-02-24T20:56:37.933Z"
   },
   {
    "duration": 3142,
    "start_time": "2022-02-24T20:56:55.312Z"
   },
   {
    "duration": 6768,
    "start_time": "2022-02-24T20:57:27.617Z"
   },
   {
    "duration": 3188,
    "start_time": "2022-02-24T20:57:53.120Z"
   },
   {
    "duration": 29,
    "start_time": "2022-02-24T21:11:25.937Z"
   },
   {
    "duration": 262,
    "start_time": "2022-02-24T21:13:20.199Z"
   },
   {
    "duration": 255,
    "start_time": "2022-02-24T21:13:33.196Z"
   },
   {
    "duration": 270,
    "start_time": "2022-02-24T21:13:39.964Z"
   },
   {
    "duration": 4,
    "start_time": "2022-02-24T21:13:44.648Z"
   },
   {
    "duration": 13,
    "start_time": "2022-02-24T21:13:46.530Z"
   },
   {
    "duration": 9,
    "start_time": "2022-02-24T21:14:00.765Z"
   },
   {
    "duration": 177,
    "start_time": "2022-02-24T21:14:06.202Z"
   },
   {
    "duration": 197,
    "start_time": "2022-02-24T21:14:15.427Z"
   },
   {
    "duration": 420,
    "start_time": "2022-02-24T21:14:30.928Z"
   },
   {
    "duration": 254,
    "start_time": "2022-02-24T21:14:49.339Z"
   },
   {
    "duration": 240,
    "start_time": "2022-02-24T21:15:09.305Z"
   },
   {
    "duration": 243,
    "start_time": "2022-02-24T21:15:27.861Z"
   },
   {
    "duration": 289,
    "start_time": "2022-02-24T21:17:03.094Z"
   },
   {
    "duration": 283,
    "start_time": "2022-02-24T21:17:29.214Z"
   },
   {
    "duration": 20,
    "start_time": "2022-02-24T21:27:53.431Z"
   },
   {
    "duration": 5,
    "start_time": "2022-02-24T21:39:18.637Z"
   },
   {
    "duration": 6,
    "start_time": "2022-02-24T21:39:31.371Z"
   },
   {
    "duration": 6,
    "start_time": "2022-02-24T21:39:48.297Z"
   },
   {
    "duration": 18660,
    "start_time": "2022-02-24T21:40:26.464Z"
   },
   {
    "duration": 6,
    "start_time": "2022-02-24T21:40:48.043Z"
   },
   {
    "duration": 6,
    "start_time": "2022-02-24T21:40:57.857Z"
   },
   {
    "duration": 6,
    "start_time": "2022-02-24T21:41:03.647Z"
   },
   {
    "duration": 5,
    "start_time": "2022-02-24T21:56:04.479Z"
   },
   {
    "duration": 246,
    "start_time": "2022-02-24T21:56:28.973Z"
   },
   {
    "duration": 4,
    "start_time": "2022-02-24T21:56:35.971Z"
   },
   {
    "duration": 250,
    "start_time": "2022-02-24T21:56:51.819Z"
   },
   {
    "duration": 267,
    "start_time": "2022-02-24T21:57:38.640Z"
   },
   {
    "duration": 248,
    "start_time": "2022-02-24T21:57:43.909Z"
   },
   {
    "duration": 254,
    "start_time": "2022-02-24T21:57:48.753Z"
   },
   {
    "duration": 3,
    "start_time": "2022-02-24T21:58:30.232Z"
   },
   {
    "duration": 287,
    "start_time": "2022-02-24T21:58:44.877Z"
   },
   {
    "duration": 250,
    "start_time": "2022-02-24T21:59:15.653Z"
   },
   {
    "duration": 362,
    "start_time": "2022-02-24T21:59:31.197Z"
   },
   {
    "duration": 274,
    "start_time": "2022-02-24T21:59:45.377Z"
   },
   {
    "duration": 4,
    "start_time": "2022-02-24T22:00:00.393Z"
   },
   {
    "duration": 3,
    "start_time": "2022-02-24T22:00:07.949Z"
   },
   {
    "duration": 89,
    "start_time": "2022-02-24T22:00:27.823Z"
   },
   {
    "duration": 5,
    "start_time": "2022-02-24T22:00:31.721Z"
   },
   {
    "duration": 3,
    "start_time": "2022-02-24T22:01:33.145Z"
   },
   {
    "duration": 5,
    "start_time": "2022-02-24T22:02:31.971Z"
   },
   {
    "duration": 338,
    "start_time": "2022-02-24T22:02:36.161Z"
   },
   {
    "duration": 4,
    "start_time": "2022-02-24T22:02:42.403Z"
   },
   {
    "duration": 360,
    "start_time": "2022-02-24T22:02:49.932Z"
   },
   {
    "duration": 272,
    "start_time": "2022-02-24T22:02:57.133Z"
   },
   {
    "duration": 4,
    "start_time": "2022-02-24T22:03:04.846Z"
   },
   {
    "duration": 5,
    "start_time": "2022-02-24T22:03:06.570Z"
   },
   {
    "duration": 5,
    "start_time": "2022-02-24T22:03:07.752Z"
   },
   {
    "duration": 4,
    "start_time": "2022-02-24T22:03:08.869Z"
   },
   {
    "duration": 5,
    "start_time": "2022-02-24T22:03:09.628Z"
   },
   {
    "duration": 4,
    "start_time": "2022-02-24T22:03:10.414Z"
   },
   {
    "duration": 5,
    "start_time": "2022-02-24T22:05:04.075Z"
   },
   {
    "duration": 6,
    "start_time": "2022-02-24T22:05:14.810Z"
   },
   {
    "duration": 12,
    "start_time": "2022-02-24T22:07:08.031Z"
   },
   {
    "duration": 3,
    "start_time": "2022-02-24T22:07:16.324Z"
   },
   {
    "duration": 5,
    "start_time": "2022-02-24T22:07:20.586Z"
   },
   {
    "duration": 5,
    "start_time": "2022-02-24T22:07:43.005Z"
   },
   {
    "duration": 5,
    "start_time": "2022-02-24T22:07:53.690Z"
   },
   {
    "duration": 5,
    "start_time": "2022-02-24T22:07:56.116Z"
   },
   {
    "duration": 5,
    "start_time": "2022-02-24T22:07:57.064Z"
   },
   {
    "duration": 4,
    "start_time": "2022-02-24T22:08:21.217Z"
   },
   {
    "duration": 4,
    "start_time": "2022-02-24T22:08:24.297Z"
   },
   {
    "duration": 5,
    "start_time": "2022-02-24T22:08:26.361Z"
   },
   {
    "duration": 5,
    "start_time": "2022-02-24T22:08:27.726Z"
   },
   {
    "duration": 4,
    "start_time": "2022-02-24T22:08:29.321Z"
   },
   {
    "duration": 6,
    "start_time": "2022-02-24T22:08:31.049Z"
   },
   {
    "duration": 5,
    "start_time": "2022-02-24T22:08:33.665Z"
   },
   {
    "duration": 5,
    "start_time": "2022-02-24T22:15:28.915Z"
   },
   {
    "duration": 5,
    "start_time": "2022-02-24T22:15:30.706Z"
   },
   {
    "duration": 5,
    "start_time": "2022-02-24T22:15:32.036Z"
   },
   {
    "duration": 6,
    "start_time": "2022-02-24T22:15:47.433Z"
   },
   {
    "duration": 7,
    "start_time": "2022-02-24T22:17:04.383Z"
   },
   {
    "duration": 260,
    "start_time": "2022-02-24T22:18:44.372Z"
   },
   {
    "duration": 282,
    "start_time": "2022-02-24T22:19:13.751Z"
   },
   {
    "duration": 287,
    "start_time": "2022-02-24T22:19:29.414Z"
   },
   {
    "duration": 247,
    "start_time": "2022-02-24T22:19:52.141Z"
   },
   {
    "duration": 30,
    "start_time": "2022-02-24T22:20:03.012Z"
   },
   {
    "duration": 30,
    "start_time": "2022-02-24T22:20:33.295Z"
   },
   {
    "duration": 36,
    "start_time": "2022-02-24T22:20:38.480Z"
   },
   {
    "duration": 304,
    "start_time": "2022-02-24T22:20:58.224Z"
   },
   {
    "duration": 59,
    "start_time": "2022-02-24T22:21:24.126Z"
   },
   {
    "duration": 30,
    "start_time": "2022-02-24T22:22:14.152Z"
   },
   {
    "duration": 36,
    "start_time": "2022-02-24T22:22:22.523Z"
   },
   {
    "duration": 289,
    "start_time": "2022-02-24T22:22:28.589Z"
   },
   {
    "duration": 34,
    "start_time": "2022-02-24T22:22:58.008Z"
   },
   {
    "duration": 37,
    "start_time": "2022-02-24T22:23:05.133Z"
   },
   {
    "duration": 37,
    "start_time": "2022-02-24T22:24:03.589Z"
   },
   {
    "duration": 95,
    "start_time": "2022-02-24T22:24:04.638Z"
   },
   {
    "duration": 38,
    "start_time": "2022-02-24T22:24:07.183Z"
   },
   {
    "duration": 6,
    "start_time": "2022-02-24T22:26:30.517Z"
   },
   {
    "duration": 6,
    "start_time": "2022-02-24T22:27:06.345Z"
   },
   {
    "duration": 263,
    "start_time": "2022-02-24T22:27:18.415Z"
   },
   {
    "duration": 6,
    "start_time": "2022-02-24T22:27:22.731Z"
   },
   {
    "duration": 6,
    "start_time": "2022-02-24T22:27:27.632Z"
   },
   {
    "duration": 6,
    "start_time": "2022-02-24T22:27:28.809Z"
   },
   {
    "duration": 6,
    "start_time": "2022-02-24T22:27:29.898Z"
   },
   {
    "duration": 6,
    "start_time": "2022-02-24T22:27:30.876Z"
   },
   {
    "duration": 6,
    "start_time": "2022-02-24T22:27:31.884Z"
   },
   {
    "duration": 6,
    "start_time": "2022-02-24T22:27:32.744Z"
   },
   {
    "duration": 7,
    "start_time": "2022-02-24T22:27:33.599Z"
   },
   {
    "duration": 6,
    "start_time": "2022-02-24T22:27:34.521Z"
   },
   {
    "duration": 6,
    "start_time": "2022-02-24T22:27:35.421Z"
   },
   {
    "duration": 7,
    "start_time": "2022-02-24T22:27:36.262Z"
   },
   {
    "duration": 6,
    "start_time": "2022-02-24T22:27:37.164Z"
   },
   {
    "duration": 6,
    "start_time": "2022-02-24T22:27:38.017Z"
   },
   {
    "duration": 6,
    "start_time": "2022-02-24T22:27:38.836Z"
   },
   {
    "duration": 7,
    "start_time": "2022-02-24T22:27:39.686Z"
   },
   {
    "duration": 6,
    "start_time": "2022-02-24T22:27:40.482Z"
   },
   {
    "duration": 6,
    "start_time": "2022-02-24T22:27:41.232Z"
   },
   {
    "duration": 6,
    "start_time": "2022-02-24T22:28:03.352Z"
   },
   {
    "duration": 7,
    "start_time": "2022-02-24T22:28:06.766Z"
   },
   {
    "duration": 6,
    "start_time": "2022-02-24T22:28:08.225Z"
   },
   {
    "duration": 6,
    "start_time": "2022-02-24T22:28:09.443Z"
   },
   {
    "duration": 7,
    "start_time": "2022-02-24T22:28:10.390Z"
   },
   {
    "duration": 6,
    "start_time": "2022-02-24T22:28:11.198Z"
   },
   {
    "duration": 6,
    "start_time": "2022-02-24T22:28:12.189Z"
   },
   {
    "duration": 8,
    "start_time": "2022-02-24T22:28:13.108Z"
   },
   {
    "duration": 7,
    "start_time": "2022-02-24T22:28:14.137Z"
   },
   {
    "duration": 6,
    "start_time": "2022-02-24T22:28:15.035Z"
   },
   {
    "duration": 4,
    "start_time": "2022-02-24T22:28:54.566Z"
   },
   {
    "duration": 5,
    "start_time": "2022-02-24T22:33:17.987Z"
   },
   {
    "duration": 144,
    "start_time": "2022-02-24T22:34:37.433Z"
   },
   {
    "duration": 6,
    "start_time": "2022-02-24T22:34:43.729Z"
   },
   {
    "duration": 6,
    "start_time": "2022-02-24T22:34:49.367Z"
   },
   {
    "duration": 8,
    "start_time": "2022-02-24T22:34:50.329Z"
   },
   {
    "duration": 7,
    "start_time": "2022-02-24T22:34:51.586Z"
   },
   {
    "duration": 6,
    "start_time": "2022-02-24T22:34:58.189Z"
   },
   {
    "duration": 7,
    "start_time": "2022-02-24T22:34:59.995Z"
   },
   {
    "duration": 6,
    "start_time": "2022-02-24T22:35:01.395Z"
   },
   {
    "duration": 5,
    "start_time": "2022-02-24T22:36:37.406Z"
   },
   {
    "duration": 6,
    "start_time": "2022-02-24T22:38:42.152Z"
   },
   {
    "duration": 6,
    "start_time": "2022-02-24T22:38:47.251Z"
   },
   {
    "duration": 6,
    "start_time": "2022-02-24T22:38:50.104Z"
   },
   {
    "duration": 6,
    "start_time": "2022-02-24T22:38:51.570Z"
   },
   {
    "duration": 7,
    "start_time": "2022-02-24T22:38:52.600Z"
   },
   {
    "duration": 6,
    "start_time": "2022-02-24T22:39:25.677Z"
   },
   {
    "duration": 6,
    "start_time": "2022-02-24T22:39:27.288Z"
   },
   {
    "duration": 7,
    "start_time": "2022-02-24T22:39:28.138Z"
   },
   {
    "duration": 47,
    "start_time": "2022-02-24T22:41:33.517Z"
   },
   {
    "duration": 43,
    "start_time": "2022-02-24T22:41:41.857Z"
   },
   {
    "duration": 43,
    "start_time": "2022-02-24T22:41:58.813Z"
   },
   {
    "duration": 46,
    "start_time": "2022-02-24T22:42:15.328Z"
   },
   {
    "duration": 36,
    "start_time": "2022-02-24T22:49:17.155Z"
   },
   {
    "duration": 35,
    "start_time": "2022-02-24T22:49:38.499Z"
   },
   {
    "duration": 35,
    "start_time": "2022-02-24T22:49:47.296Z"
   },
   {
    "duration": 35,
    "start_time": "2022-02-24T22:50:17.575Z"
   },
   {
    "duration": 6,
    "start_time": "2022-02-24T22:52:52.512Z"
   },
   {
    "duration": 5,
    "start_time": "2022-02-24T22:53:00.090Z"
   },
   {
    "duration": 6,
    "start_time": "2022-02-24T22:53:03.034Z"
   },
   {
    "duration": 5,
    "start_time": "2022-02-24T22:53:04.469Z"
   },
   {
    "duration": 6,
    "start_time": "2022-02-24T22:53:06.129Z"
   },
   {
    "duration": 5,
    "start_time": "2022-02-24T22:53:07.650Z"
   },
   {
    "duration": 6,
    "start_time": "2022-02-24T22:53:13.819Z"
   },
   {
    "duration": 4,
    "start_time": "2022-02-24T22:53:14.685Z"
   },
   {
    "duration": 6,
    "start_time": "2022-02-24T22:53:16.065Z"
   },
   {
    "duration": 4,
    "start_time": "2022-02-24T22:53:17.241Z"
   },
   {
    "duration": 7,
    "start_time": "2022-02-24T22:53:19.036Z"
   },
   {
    "duration": 4,
    "start_time": "2022-02-24T22:53:20.209Z"
   },
   {
    "duration": 7,
    "start_time": "2022-02-24T22:53:25.435Z"
   },
   {
    "duration": 5,
    "start_time": "2022-02-24T22:53:25.930Z"
   },
   {
    "duration": 6,
    "start_time": "2022-02-24T22:53:27.276Z"
   },
   {
    "duration": 5,
    "start_time": "2022-02-24T22:53:27.897Z"
   },
   {
    "duration": 7,
    "start_time": "2022-02-24T22:53:32.563Z"
   },
   {
    "duration": 5,
    "start_time": "2022-02-24T22:53:33.577Z"
   },
   {
    "duration": 8,
    "start_time": "2022-02-24T22:53:34.963Z"
   },
   {
    "duration": 4,
    "start_time": "2022-02-24T22:53:35.756Z"
   },
   {
    "duration": 6,
    "start_time": "2022-02-24T22:53:54.583Z"
   },
   {
    "duration": 4,
    "start_time": "2022-02-24T22:54:04.113Z"
   },
   {
    "duration": 4,
    "start_time": "2022-02-24T22:54:07.563Z"
   },
   {
    "duration": 4,
    "start_time": "2022-02-24T22:54:08.338Z"
   },
   {
    "duration": 4,
    "start_time": "2022-02-24T22:54:08.975Z"
   },
   {
    "duration": 5,
    "start_time": "2022-02-24T22:54:09.636Z"
   },
   {
    "duration": 4,
    "start_time": "2022-02-24T22:54:10.485Z"
   },
   {
    "duration": 5,
    "start_time": "2022-02-24T22:54:15.696Z"
   },
   {
    "duration": 5,
    "start_time": "2022-02-24T22:54:16.434Z"
   },
   {
    "duration": 4,
    "start_time": "2022-02-24T22:54:17.133Z"
   },
   {
    "duration": 5,
    "start_time": "2022-02-24T22:54:17.807Z"
   },
   {
    "duration": 5,
    "start_time": "2022-02-24T22:54:18.478Z"
   },
   {
    "duration": 4,
    "start_time": "2022-02-24T22:54:19.173Z"
   },
   {
    "duration": 4,
    "start_time": "2022-02-24T22:54:20.793Z"
   },
   {
    "duration": 4,
    "start_time": "2022-02-24T22:54:40.581Z"
   },
   {
    "duration": 6,
    "start_time": "2022-02-24T22:55:38.092Z"
   },
   {
    "duration": 48,
    "start_time": "2022-02-24T23:01:15.981Z"
   },
   {
    "duration": 40,
    "start_time": "2022-02-24T23:01:40.451Z"
   },
   {
    "duration": 36,
    "start_time": "2022-02-24T23:01:45.688Z"
   },
   {
    "duration": 37,
    "start_time": "2022-02-24T23:01:52.280Z"
   },
   {
    "duration": 34,
    "start_time": "2022-02-24T23:01:57.938Z"
   },
   {
    "duration": 37,
    "start_time": "2022-02-24T23:02:02.577Z"
   },
   {
    "duration": 35,
    "start_time": "2022-02-24T23:02:07.789Z"
   },
   {
    "duration": 33,
    "start_time": "2022-02-24T23:02:17.838Z"
   },
   {
    "duration": 38,
    "start_time": "2022-02-24T23:02:53.722Z"
   },
   {
    "duration": 1035,
    "start_time": "2022-02-25T06:56:17.121Z"
   },
   {
    "duration": 16,
    "start_time": "2022-02-25T06:56:18.157Z"
   },
   {
    "duration": 6,
    "start_time": "2022-02-25T06:56:18.175Z"
   },
   {
    "duration": 29,
    "start_time": "2022-02-25T06:56:18.183Z"
   },
   {
    "duration": 8,
    "start_time": "2022-02-25T06:56:18.214Z"
   },
   {
    "duration": 19,
    "start_time": "2022-02-25T06:56:18.224Z"
   },
   {
    "duration": 3,
    "start_time": "2022-02-25T06:56:18.260Z"
   },
   {
    "duration": 8,
    "start_time": "2022-02-25T06:56:18.265Z"
   },
   {
    "duration": 6,
    "start_time": "2022-02-25T06:56:18.275Z"
   },
   {
    "duration": 51,
    "start_time": "2022-02-25T06:56:18.282Z"
   },
   {
    "duration": 3178,
    "start_time": "2022-02-25T06:56:18.359Z"
   },
   {
    "duration": 20,
    "start_time": "2022-02-25T06:56:21.539Z"
   },
   {
    "duration": 27,
    "start_time": "2022-02-25T06:56:21.560Z"
   },
   {
    "duration": 4,
    "start_time": "2022-02-25T06:56:21.589Z"
   },
   {
    "duration": 9,
    "start_time": "2022-02-25T06:56:21.595Z"
   },
   {
    "duration": 10,
    "start_time": "2022-02-25T06:56:21.606Z"
   },
   {
    "duration": 9,
    "start_time": "2022-02-25T06:56:21.617Z"
   },
   {
    "duration": 4,
    "start_time": "2022-02-25T06:56:21.627Z"
   },
   {
    "duration": 58,
    "start_time": "2022-02-25T06:56:21.632Z"
   },
   {
    "duration": 6,
    "start_time": "2022-02-25T06:56:21.692Z"
   },
   {
    "duration": 64,
    "start_time": "2022-02-25T06:56:21.699Z"
   },
   {
    "duration": 10,
    "start_time": "2022-02-25T07:25:26.583Z"
   },
   {
    "duration": 4,
    "start_time": "2022-02-25T07:25:49.005Z"
   },
   {
    "duration": 7,
    "start_time": "2022-02-25T07:34:49.955Z"
   },
   {
    "duration": 15,
    "start_time": "2022-02-25T07:36:34.833Z"
   },
   {
    "duration": 14,
    "start_time": "2022-02-25T07:37:13.993Z"
   },
   {
    "duration": 5,
    "start_time": "2022-02-25T07:37:20.304Z"
   },
   {
    "duration": 11,
    "start_time": "2022-02-25T07:37:53.203Z"
   },
   {
    "duration": 61,
    "start_time": "2022-02-25T07:37:59.131Z"
   },
   {
    "duration": 3698,
    "start_time": "2022-02-25T07:38:06.104Z"
   },
   {
    "duration": 15,
    "start_time": "2022-02-25T07:38:19.331Z"
   },
   {
    "duration": 66,
    "start_time": "2022-02-25T07:40:01.049Z"
   },
   {
    "duration": 32,
    "start_time": "2022-02-25T07:40:54.947Z"
   },
   {
    "duration": 144,
    "start_time": "2022-02-25T07:40:59.697Z"
   },
   {
    "duration": 34,
    "start_time": "2022-02-25T07:41:03.670Z"
   },
   {
    "duration": 30,
    "start_time": "2022-02-25T07:41:06.657Z"
   },
   {
    "duration": 29,
    "start_time": "2022-02-25T07:41:09.521Z"
   },
   {
    "duration": 29,
    "start_time": "2022-02-25T07:41:15.977Z"
   },
   {
    "duration": 3626,
    "start_time": "2022-02-25T07:47:21.354Z"
   },
   {
    "duration": 6759,
    "start_time": "2022-02-25T07:47:32.703Z"
   },
   {
    "duration": 4,
    "start_time": "2022-02-25T07:48:15.776Z"
   },
   {
    "duration": 3297,
    "start_time": "2022-02-25T07:48:22.554Z"
   },
   {
    "duration": 4,
    "start_time": "2022-02-25T07:48:29.067Z"
   },
   {
    "duration": 7,
    "start_time": "2022-02-25T07:58:43.734Z"
   },
   {
    "duration": 75,
    "start_time": "2022-02-25T07:59:25.374Z"
   },
   {
    "duration": 1162,
    "start_time": "2022-02-25T07:59:39.323Z"
   },
   {
    "duration": 17,
    "start_time": "2022-02-25T07:59:40.487Z"
   },
   {
    "duration": 12,
    "start_time": "2022-02-25T07:59:40.506Z"
   },
   {
    "duration": 34,
    "start_time": "2022-02-25T07:59:40.520Z"
   },
   {
    "duration": 10,
    "start_time": "2022-02-25T07:59:40.556Z"
   },
   {
    "duration": 21,
    "start_time": "2022-02-25T07:59:40.568Z"
   },
   {
    "duration": 21,
    "start_time": "2022-02-25T07:59:40.591Z"
   },
   {
    "duration": 7,
    "start_time": "2022-02-25T07:59:40.616Z"
   },
   {
    "duration": 7,
    "start_time": "2022-02-25T07:59:40.626Z"
   },
   {
    "duration": 7,
    "start_time": "2022-02-25T07:59:40.634Z"
   },
   {
    "duration": 15,
    "start_time": "2022-02-25T07:59:40.642Z"
   },
   {
    "duration": 94,
    "start_time": "2022-02-25T07:59:40.659Z"
   },
   {
    "duration": 3415,
    "start_time": "2022-02-25T07:59:40.754Z"
   },
   {
    "duration": 4,
    "start_time": "2022-02-25T07:59:44.171Z"
   },
   {
    "duration": 14,
    "start_time": "2022-02-25T07:59:44.177Z"
   },
   {
    "duration": 78,
    "start_time": "2022-02-25T07:59:44.193Z"
   },
   {
    "duration": 46,
    "start_time": "2022-02-25T07:59:44.272Z"
   },
   {
    "duration": 73,
    "start_time": "2022-02-25T07:59:44.320Z"
   },
   {
    "duration": 18,
    "start_time": "2022-02-25T07:59:44.394Z"
   },
   {
    "duration": 8,
    "start_time": "2022-02-25T07:59:44.414Z"
   },
   {
    "duration": 9,
    "start_time": "2022-02-25T07:59:44.424Z"
   },
   {
    "duration": 9,
    "start_time": "2022-02-25T07:59:44.435Z"
   },
   {
    "duration": 5,
    "start_time": "2022-02-25T07:59:44.447Z"
   },
   {
    "duration": 68,
    "start_time": "2022-02-25T07:59:44.454Z"
   },
   {
    "duration": 6,
    "start_time": "2022-02-25T07:59:44.524Z"
   },
   {
    "duration": 52,
    "start_time": "2022-02-25T07:59:44.532Z"
   },
   {
    "duration": 4,
    "start_time": "2022-02-25T07:59:44.586Z"
   },
   {
    "duration": 1171,
    "start_time": "2022-02-25T08:00:29.519Z"
   },
   {
    "duration": 22,
    "start_time": "2022-02-25T08:00:30.692Z"
   },
   {
    "duration": 12,
    "start_time": "2022-02-25T08:00:30.716Z"
   },
   {
    "duration": 35,
    "start_time": "2022-02-25T08:00:30.731Z"
   },
   {
    "duration": 10,
    "start_time": "2022-02-25T08:00:30.768Z"
   },
   {
    "duration": 32,
    "start_time": "2022-02-25T08:00:30.781Z"
   },
   {
    "duration": 4,
    "start_time": "2022-02-25T08:00:30.815Z"
   },
   {
    "duration": 23,
    "start_time": "2022-02-25T08:00:30.821Z"
   },
   {
    "duration": 6,
    "start_time": "2022-02-25T08:00:30.847Z"
   },
   {
    "duration": 7,
    "start_time": "2022-02-25T08:00:30.856Z"
   },
   {
    "duration": 70,
    "start_time": "2022-02-25T08:00:30.865Z"
   },
   {
    "duration": 3424,
    "start_time": "2022-02-25T08:00:30.938Z"
   },
   {
    "duration": 3,
    "start_time": "2022-02-25T08:00:34.364Z"
   },
   {
    "duration": 28,
    "start_time": "2022-02-25T08:00:34.369Z"
   },
   {
    "duration": 73,
    "start_time": "2022-02-25T08:00:34.399Z"
   },
   {
    "duration": 43,
    "start_time": "2022-02-25T08:00:34.473Z"
   },
   {
    "duration": 73,
    "start_time": "2022-02-25T08:00:34.519Z"
   },
   {
    "duration": 4,
    "start_time": "2022-02-25T08:00:34.594Z"
   },
   {
    "duration": 17,
    "start_time": "2022-02-25T08:00:34.612Z"
   },
   {
    "duration": 14,
    "start_time": "2022-02-25T08:00:34.630Z"
   },
   {
    "duration": 17,
    "start_time": "2022-02-25T08:00:34.645Z"
   },
   {
    "duration": 9,
    "start_time": "2022-02-25T08:00:34.664Z"
   },
   {
    "duration": 59,
    "start_time": "2022-02-25T08:00:34.674Z"
   },
   {
    "duration": 7,
    "start_time": "2022-02-25T08:00:34.734Z"
   },
   {
    "duration": 69,
    "start_time": "2022-02-25T08:00:34.743Z"
   },
   {
    "duration": 6,
    "start_time": "2022-02-25T08:00:34.814Z"
   },
   {
    "duration": 99,
    "start_time": "2022-02-25T08:01:10.577Z"
   },
   {
    "duration": 76,
    "start_time": "2022-02-25T08:01:15.940Z"
   },
   {
    "duration": 1069,
    "start_time": "2022-02-25T08:06:33.402Z"
   },
   {
    "duration": 14,
    "start_time": "2022-02-25T08:06:34.473Z"
   },
   {
    "duration": 8,
    "start_time": "2022-02-25T08:06:34.489Z"
   },
   {
    "duration": 36,
    "start_time": "2022-02-25T08:06:34.499Z"
   },
   {
    "duration": 9,
    "start_time": "2022-02-25T08:06:34.537Z"
   },
   {
    "duration": 13,
    "start_time": "2022-02-25T08:06:34.548Z"
   },
   {
    "duration": 4,
    "start_time": "2022-02-25T08:06:34.563Z"
   },
   {
    "duration": 8,
    "start_time": "2022-02-25T08:06:34.569Z"
   },
   {
    "duration": 37,
    "start_time": "2022-02-25T08:06:34.578Z"
   },
   {
    "duration": 9,
    "start_time": "2022-02-25T08:06:34.616Z"
   },
   {
    "duration": 60,
    "start_time": "2022-02-25T08:06:34.626Z"
   },
   {
    "duration": 3334,
    "start_time": "2022-02-25T08:06:34.688Z"
   },
   {
    "duration": 4,
    "start_time": "2022-02-25T08:06:38.024Z"
   },
   {
    "duration": 27,
    "start_time": "2022-02-25T08:06:38.029Z"
   },
   {
    "duration": 86,
    "start_time": "2022-02-25T08:06:38.058Z"
   },
   {
    "duration": 31,
    "start_time": "2022-02-25T08:06:38.145Z"
   },
   {
    "duration": 5,
    "start_time": "2022-02-25T08:06:38.177Z"
   },
   {
    "duration": 16,
    "start_time": "2022-02-25T08:06:38.183Z"
   },
   {
    "duration": 15,
    "start_time": "2022-02-25T08:06:38.201Z"
   },
   {
    "duration": 17,
    "start_time": "2022-02-25T08:06:38.218Z"
   },
   {
    "duration": 11,
    "start_time": "2022-02-25T08:06:38.237Z"
   },
   {
    "duration": 45,
    "start_time": "2022-02-25T08:06:38.249Z"
   },
   {
    "duration": 6,
    "start_time": "2022-02-25T08:06:38.297Z"
   },
   {
    "duration": 50,
    "start_time": "2022-02-25T08:06:38.312Z"
   },
   {
    "duration": 5,
    "start_time": "2022-02-25T08:06:38.364Z"
   },
   {
    "duration": 1160,
    "start_time": "2022-02-25T10:09:11.110Z"
   },
   {
    "duration": 19,
    "start_time": "2022-02-25T10:09:12.272Z"
   },
   {
    "duration": 7,
    "start_time": "2022-02-25T10:09:12.293Z"
   },
   {
    "duration": 35,
    "start_time": "2022-02-25T10:09:12.302Z"
   },
   {
    "duration": 9,
    "start_time": "2022-02-25T10:09:12.339Z"
   },
   {
    "duration": 12,
    "start_time": "2022-02-25T10:09:13.427Z"
   },
   {
    "duration": 4,
    "start_time": "2022-02-25T10:09:17.432Z"
   },
   {
    "duration": 7,
    "start_time": "2022-02-25T10:09:18.767Z"
   },
   {
    "duration": 7,
    "start_time": "2022-02-25T10:09:19.997Z"
   },
   {
    "duration": 4,
    "start_time": "2022-02-25T11:13:36.898Z"
   },
   {
    "duration": 18,
    "start_time": "2022-02-25T11:13:37.213Z"
   },
   {
    "duration": 7,
    "start_time": "2022-02-25T11:13:37.723Z"
   },
   {
    "duration": 24,
    "start_time": "2022-02-25T11:13:38.047Z"
   },
   {
    "duration": 10,
    "start_time": "2022-02-25T11:13:38.370Z"
   },
   {
    "duration": 12,
    "start_time": "2022-02-25T11:13:39.508Z"
   },
   {
    "duration": 4,
    "start_time": "2022-02-25T11:13:43.052Z"
   },
   {
    "duration": 8,
    "start_time": "2022-02-25T11:13:43.455Z"
   },
   {
    "duration": 10,
    "start_time": "2022-02-25T11:13:45.619Z"
   },
   {
    "duration": 6,
    "start_time": "2022-02-25T11:13:49.653Z"
   },
   {
    "duration": 62,
    "start_time": "2022-02-25T11:15:08.743Z"
   },
   {
    "duration": 4,
    "start_time": "2022-02-25T13:47:32.210Z"
   },
   {
    "duration": 15,
    "start_time": "2022-02-25T13:47:32.422Z"
   },
   {
    "duration": 8,
    "start_time": "2022-02-25T13:47:32.621Z"
   },
   {
    "duration": 26,
    "start_time": "2022-02-25T13:47:32.809Z"
   },
   {
    "duration": 11,
    "start_time": "2022-02-25T13:47:33.281Z"
   },
   {
    "duration": 13,
    "start_time": "2022-02-25T13:47:34.233Z"
   },
   {
    "duration": 4,
    "start_time": "2022-02-25T13:47:37.294Z"
   },
   {
    "duration": 9,
    "start_time": "2022-02-25T13:47:37.750Z"
   },
   {
    "duration": 8,
    "start_time": "2022-02-25T13:47:38.861Z"
   },
   {
    "duration": 5,
    "start_time": "2022-02-25T13:47:39.345Z"
   },
   {
    "duration": 66,
    "start_time": "2022-02-25T13:47:43.405Z"
   },
   {
    "duration": 147,
    "start_time": "2022-02-25T14:00:55.547Z"
   },
   {
    "duration": 61,
    "start_time": "2022-02-25T14:01:22.162Z"
   },
   {
    "duration": 59,
    "start_time": "2022-02-25T14:08:25.254Z"
   },
   {
    "duration": 62,
    "start_time": "2022-02-25T14:08:31.947Z"
   },
   {
    "duration": 59,
    "start_time": "2022-02-25T14:08:36.028Z"
   },
   {
    "duration": 62,
    "start_time": "2022-02-25T14:08:39.539Z"
   },
   {
    "duration": 57,
    "start_time": "2022-02-25T14:08:45.108Z"
   },
   {
    "duration": 59,
    "start_time": "2022-02-25T14:08:52.910Z"
   },
   {
    "duration": 59,
    "start_time": "2022-02-25T14:08:59.165Z"
   },
   {
    "duration": 61,
    "start_time": "2022-02-25T14:09:05.246Z"
   },
   {
    "duration": 149,
    "start_time": "2022-02-25T14:10:09.650Z"
   },
   {
    "duration": 58,
    "start_time": "2022-02-25T14:10:13.079Z"
   },
   {
    "duration": 56,
    "start_time": "2022-02-25T14:10:18.326Z"
   },
   {
    "duration": 64,
    "start_time": "2022-02-25T14:10:24.069Z"
   },
   {
    "duration": 64,
    "start_time": "2022-02-25T14:10:27.404Z"
   },
   {
    "duration": 57,
    "start_time": "2022-02-25T14:10:35.687Z"
   },
   {
    "duration": 57,
    "start_time": "2022-02-25T14:11:03.001Z"
   },
   {
    "duration": 63,
    "start_time": "2022-02-25T14:11:07.097Z"
   },
   {
    "duration": 74,
    "start_time": "2022-02-25T14:16:21.722Z"
   },
   {
    "duration": 238,
    "start_time": "2022-02-25T14:16:45.401Z"
   },
   {
    "duration": 164,
    "start_time": "2022-02-25T14:18:56.246Z"
   },
   {
    "duration": 85075,
    "start_time": "2022-02-25T14:19:07.609Z"
   },
   {
    "duration": 1695,
    "start_time": "2022-02-25T14:21:32.002Z"
   },
   {
    "duration": 1810,
    "start_time": "2022-02-25T14:22:19.523Z"
   },
   {
    "duration": 1596,
    "start_time": "2022-02-25T15:01:51.721Z"
   },
   {
    "duration": 1564,
    "start_time": "2022-02-25T15:03:27.912Z"
   },
   {
    "duration": 1523,
    "start_time": "2022-02-25T15:04:04.447Z"
   },
   {
    "duration": 2976,
    "start_time": "2022-02-25T15:04:43.803Z"
   },
   {
    "duration": 2985,
    "start_time": "2022-02-25T15:05:39.488Z"
   },
   {
    "duration": 7110,
    "start_time": "2022-02-25T15:06:25.359Z"
   },
   {
    "duration": 11230,
    "start_time": "2022-02-25T15:06:45.978Z"
   },
   {
    "duration": 5050,
    "start_time": "2022-02-25T15:07:05.673Z"
   },
   {
    "duration": 7277,
    "start_time": "2022-02-25T15:09:59.153Z"
   },
   {
    "duration": 12,
    "start_time": "2022-02-25T15:10:19.750Z"
   },
   {
    "duration": 68,
    "start_time": "2022-02-25T15:11:02.127Z"
   },
   {
    "duration": 34,
    "start_time": "2022-02-25T15:11:55.958Z"
   },
   {
    "duration": 34,
    "start_time": "2022-02-25T15:12:00.867Z"
   },
   {
    "duration": 34,
    "start_time": "2022-02-25T15:12:03.037Z"
   },
   {
    "duration": 7406,
    "start_time": "2022-02-25T15:12:51.839Z"
   },
   {
    "duration": 151,
    "start_time": "2022-02-25T15:13:22.992Z"
   },
   {
    "duration": 5,
    "start_time": "2022-02-25T15:16:06.407Z"
   },
   {
    "duration": 14,
    "start_time": "2022-02-25T15:16:20.564Z"
   },
   {
    "duration": 6,
    "start_time": "2022-02-25T15:20:13.876Z"
   },
   {
    "duration": 7,
    "start_time": "2022-02-25T15:20:14.310Z"
   },
   {
    "duration": 7,
    "start_time": "2022-02-25T15:20:14.526Z"
   },
   {
    "duration": 12,
    "start_time": "2022-02-25T15:20:20.691Z"
   },
   {
    "duration": 7,
    "start_time": "2022-02-25T15:21:04.216Z"
   },
   {
    "duration": 7,
    "start_time": "2022-02-25T15:21:15.049Z"
   },
   {
    "duration": 9,
    "start_time": "2022-02-25T15:21:33.428Z"
   },
   {
    "duration": 51,
    "start_time": "2022-02-25T15:21:36.246Z"
   },
   {
    "duration": 6,
    "start_time": "2022-02-25T15:26:07.525Z"
   },
   {
    "duration": 6,
    "start_time": "2022-02-25T15:26:10.287Z"
   },
   {
    "duration": 6,
    "start_time": "2022-02-25T15:26:11.882Z"
   },
   {
    "duration": 454,
    "start_time": "2022-02-25T15:50:05.824Z"
   },
   {
    "duration": 1323,
    "start_time": "2022-02-25T15:50:11.088Z"
   },
   {
    "duration": 24,
    "start_time": "2022-02-25T15:50:12.415Z"
   },
   {
    "duration": 18,
    "start_time": "2022-02-25T15:50:12.445Z"
   },
   {
    "duration": 51,
    "start_time": "2022-02-25T15:50:12.466Z"
   },
   {
    "duration": 12,
    "start_time": "2022-02-25T15:50:12.520Z"
   },
   {
    "duration": 39,
    "start_time": "2022-02-25T15:50:12.534Z"
   },
   {
    "duration": 16,
    "start_time": "2022-02-25T15:50:12.577Z"
   },
   {
    "duration": 20,
    "start_time": "2022-02-25T15:50:12.596Z"
   },
   {
    "duration": 16,
    "start_time": "2022-02-25T15:50:12.618Z"
   },
   {
    "duration": 23,
    "start_time": "2022-02-25T15:50:12.636Z"
   },
   {
    "duration": 2017,
    "start_time": "2022-02-25T15:50:12.661Z"
   },
   {
    "duration": 6,
    "start_time": "2022-02-25T15:50:14.681Z"
   },
   {
    "duration": 10286,
    "start_time": "2022-02-25T15:50:14.692Z"
   },
   {
    "duration": 5,
    "start_time": "2022-02-25T15:50:24.981Z"
   },
   {
    "duration": 20,
    "start_time": "2022-02-25T15:50:24.988Z"
   },
   {
    "duration": 130,
    "start_time": "2022-02-25T15:50:25.010Z"
   },
   {
    "duration": 18,
    "start_time": "2022-02-25T15:50:25.143Z"
   },
   {
    "duration": 8,
    "start_time": "2022-02-25T15:50:25.164Z"
   },
   {
    "duration": 7,
    "start_time": "2022-02-25T15:50:25.175Z"
   },
   {
    "duration": 10,
    "start_time": "2022-02-25T15:50:25.185Z"
   },
   {
    "duration": 15,
    "start_time": "2022-02-25T15:50:25.198Z"
   },
   {
    "duration": 58,
    "start_time": "2022-02-25T15:50:25.218Z"
   },
   {
    "duration": 6,
    "start_time": "2022-02-25T15:50:25.279Z"
   },
   {
    "duration": 87,
    "start_time": "2022-02-25T15:50:25.288Z"
   },
   {
    "duration": 9,
    "start_time": "2022-02-25T15:50:25.378Z"
   },
   {
    "duration": 100,
    "start_time": "2022-02-25T15:50:25.390Z"
   },
   {
    "duration": 10,
    "start_time": "2022-02-25T15:50:25.492Z"
   },
   {
    "duration": 3,
    "start_time": "2022-02-25T16:00:45.319Z"
   },
   {
    "duration": 3,
    "start_time": "2022-02-25T16:02:50.687Z"
   },
   {
    "duration": 7,
    "start_time": "2022-02-25T16:02:56.871Z"
   },
   {
    "duration": 6,
    "start_time": "2022-02-25T16:03:06.853Z"
   },
   {
    "duration": 6,
    "start_time": "2022-02-25T16:03:46.715Z"
   },
   {
    "duration": 3,
    "start_time": "2022-02-25T16:28:20.567Z"
   },
   {
    "duration": 4,
    "start_time": "2022-02-25T16:28:23.221Z"
   },
   {
    "duration": 8,
    "start_time": "2022-02-25T16:30:11.778Z"
   },
   {
    "duration": 5,
    "start_time": "2022-02-25T16:30:13.139Z"
   },
   {
    "duration": 8,
    "start_time": "2022-02-25T16:30:22.166Z"
   },
   {
    "duration": 5,
    "start_time": "2022-02-25T16:31:57.425Z"
   },
   {
    "duration": 6,
    "start_time": "2022-02-25T16:32:02.645Z"
   },
   {
    "duration": 16,
    "start_time": "2022-02-25T16:32:39.186Z"
   },
   {
    "duration": 23,
    "start_time": "2022-02-25T16:33:15.516Z"
   },
   {
    "duration": 1311,
    "start_time": "2022-02-25T16:33:46.384Z"
   },
   {
    "duration": 22,
    "start_time": "2022-02-25T16:33:47.697Z"
   },
   {
    "duration": 10,
    "start_time": "2022-02-25T16:33:47.722Z"
   },
   {
    "duration": 55,
    "start_time": "2022-02-25T16:33:47.735Z"
   },
   {
    "duration": 12,
    "start_time": "2022-02-25T16:33:47.793Z"
   },
   {
    "duration": 19,
    "start_time": "2022-02-25T16:33:47.808Z"
   },
   {
    "duration": 35,
    "start_time": "2022-02-25T16:33:47.829Z"
   },
   {
    "duration": 12,
    "start_time": "2022-02-25T16:33:47.870Z"
   },
   {
    "duration": 11,
    "start_time": "2022-02-25T16:33:47.886Z"
   },
   {
    "duration": 7,
    "start_time": "2022-02-25T16:33:47.900Z"
   },
   {
    "duration": 1964,
    "start_time": "2022-02-25T16:33:47.961Z"
   },
   {
    "duration": 7,
    "start_time": "2022-02-25T16:33:49.927Z"
   },
   {
    "duration": 10006,
    "start_time": "2022-02-25T16:33:49.936Z"
   },
   {
    "duration": 17,
    "start_time": "2022-02-25T16:33:59.945Z"
   },
   {
    "duration": 6,
    "start_time": "2022-02-25T16:33:59.964Z"
   },
   {
    "duration": 24,
    "start_time": "2022-02-25T16:33:59.973Z"
   },
   {
    "duration": 135,
    "start_time": "2022-02-25T16:34:00.000Z"
   },
   {
    "duration": 6,
    "start_time": "2022-02-25T16:34:00.138Z"
   },
   {
    "duration": 7,
    "start_time": "2022-02-25T16:34:00.162Z"
   },
   {
    "duration": 10,
    "start_time": "2022-02-25T16:34:00.171Z"
   },
   {
    "duration": 8,
    "start_time": "2022-02-25T16:34:00.184Z"
   },
   {
    "duration": 9,
    "start_time": "2022-02-25T16:34:00.194Z"
   },
   {
    "duration": 8,
    "start_time": "2022-02-25T16:34:00.208Z"
   },
   {
    "duration": 15,
    "start_time": "2022-02-25T16:34:00.263Z"
   },
   {
    "duration": 7,
    "start_time": "2022-02-25T16:34:00.282Z"
   },
   {
    "duration": 104,
    "start_time": "2022-02-25T16:34:00.293Z"
   },
   {
    "duration": 10,
    "start_time": "2022-02-25T16:34:00.399Z"
   },
   {
    "duration": 104,
    "start_time": "2022-02-25T16:34:00.412Z"
   },
   {
    "duration": 8,
    "start_time": "2022-02-25T16:34:00.519Z"
   },
   {
    "duration": 71,
    "start_time": "2022-02-25T16:34:00.530Z"
   },
   {
    "duration": 15,
    "start_time": "2022-02-25T16:37:16.570Z"
   },
   {
    "duration": 48,
    "start_time": "2022-02-25T16:37:40.555Z"
   },
   {
    "duration": 1325,
    "start_time": "2022-02-25T16:39:45.457Z"
   },
   {
    "duration": 22,
    "start_time": "2022-02-25T16:39:46.784Z"
   },
   {
    "duration": 9,
    "start_time": "2022-02-25T16:39:46.809Z"
   },
   {
    "duration": 60,
    "start_time": "2022-02-25T16:39:46.821Z"
   },
   {
    "duration": 13,
    "start_time": "2022-02-25T16:39:46.883Z"
   },
   {
    "duration": 15,
    "start_time": "2022-02-25T16:39:46.899Z"
   },
   {
    "duration": 4,
    "start_time": "2022-02-25T16:39:46.917Z"
   },
   {
    "duration": 42,
    "start_time": "2022-02-25T16:39:46.926Z"
   },
   {
    "duration": 10,
    "start_time": "2022-02-25T16:39:46.972Z"
   },
   {
    "duration": 9,
    "start_time": "2022-02-25T16:39:46.985Z"
   },
   {
    "duration": 2012,
    "start_time": "2022-02-25T16:39:46.997Z"
   },
   {
    "duration": 8,
    "start_time": "2022-02-25T16:39:49.012Z"
   },
   {
    "duration": 10256,
    "start_time": "2022-02-25T16:39:49.023Z"
   },
   {
    "duration": 5,
    "start_time": "2022-02-25T16:39:59.282Z"
   },
   {
    "duration": 8,
    "start_time": "2022-02-25T16:39:59.289Z"
   },
   {
    "duration": 16,
    "start_time": "2022-02-25T16:39:59.299Z"
   },
   {
    "duration": 148,
    "start_time": "2022-02-25T16:39:59.317Z"
   },
   {
    "duration": 5,
    "start_time": "2022-02-25T16:39:59.467Z"
   },
   {
    "duration": 7,
    "start_time": "2022-02-25T16:39:59.474Z"
   },
   {
    "duration": 9,
    "start_time": "2022-02-25T16:39:59.483Z"
   },
   {
    "duration": 7,
    "start_time": "2022-02-25T16:39:59.495Z"
   },
   {
    "duration": 8,
    "start_time": "2022-02-25T16:39:59.504Z"
   },
   {
    "duration": 9,
    "start_time": "2022-02-25T16:39:59.561Z"
   },
   {
    "duration": 30,
    "start_time": "2022-02-25T16:39:59.573Z"
   },
   {
    "duration": 7,
    "start_time": "2022-02-25T16:39:59.606Z"
   },
   {
    "duration": 108,
    "start_time": "2022-02-25T16:39:59.615Z"
   },
   {
    "duration": 11,
    "start_time": "2022-02-25T16:39:59.726Z"
   },
   {
    "duration": 104,
    "start_time": "2022-02-25T16:39:59.740Z"
   },
   {
    "duration": 21,
    "start_time": "2022-02-25T16:39:59.847Z"
   },
   {
    "duration": 60,
    "start_time": "2022-02-25T16:39:59.871Z"
   },
   {
    "duration": 4,
    "start_time": "2022-02-25T16:54:50.932Z"
   },
   {
    "duration": 14,
    "start_time": "2022-02-25T16:54:51.110Z"
   },
   {
    "duration": 7,
    "start_time": "2022-02-25T16:54:51.260Z"
   },
   {
    "duration": 23,
    "start_time": "2022-02-25T16:54:51.472Z"
   },
   {
    "duration": 9,
    "start_time": "2022-02-25T16:54:51.661Z"
   },
   {
    "duration": 12,
    "start_time": "2022-02-25T16:54:52.190Z"
   },
   {
    "duration": 5,
    "start_time": "2022-02-25T16:54:53.757Z"
   },
   {
    "duration": 9,
    "start_time": "2022-02-25T16:54:53.939Z"
   },
   {
    "duration": 8,
    "start_time": "2022-02-25T16:54:55.324Z"
   },
   {
    "duration": 5,
    "start_time": "2022-02-25T16:54:56.252Z"
   },
   {
    "duration": 1542,
    "start_time": "2022-02-25T16:54:57.351Z"
   },
   {
    "duration": 5,
    "start_time": "2022-02-25T16:55:06.187Z"
   },
   {
    "duration": 7876,
    "start_time": "2022-02-25T16:56:58.072Z"
   },
   {
    "duration": 5,
    "start_time": "2022-02-25T17:02:32.198Z"
   },
   {
    "duration": 274,
    "start_time": "2022-02-25T17:02:35.326Z"
   },
   {
    "duration": 3,
    "start_time": "2022-02-25T17:02:37.235Z"
   },
   {
    "duration": 4,
    "start_time": "2022-02-25T17:21:36.211Z"
   },
   {
    "duration": 4,
    "start_time": "2022-02-25T17:21:48.552Z"
   },
   {
    "duration": 15,
    "start_time": "2022-02-25T17:21:48.653Z"
   },
   {
    "duration": 9,
    "start_time": "2022-02-25T17:21:48.775Z"
   },
   {
    "duration": 33,
    "start_time": "2022-02-25T17:21:48.896Z"
   },
   {
    "duration": 11,
    "start_time": "2022-02-25T17:21:48.998Z"
   },
   {
    "duration": 12,
    "start_time": "2022-02-25T17:21:49.322Z"
   },
   {
    "duration": 4,
    "start_time": "2022-02-25T17:21:50.471Z"
   },
   {
    "duration": 8,
    "start_time": "2022-02-25T17:21:50.586Z"
   },
   {
    "duration": 10,
    "start_time": "2022-02-25T17:21:50.810Z"
   },
   {
    "duration": 5,
    "start_time": "2022-02-25T17:21:51.048Z"
   },
   {
    "duration": 1497,
    "start_time": "2022-02-25T17:21:51.708Z"
   },
   {
    "duration": 4,
    "start_time": "2022-02-25T17:21:53.956Z"
   },
   {
    "duration": 7761,
    "start_time": "2022-02-25T17:21:54.781Z"
   },
   {
    "duration": 4,
    "start_time": "2022-02-25T17:22:02.545Z"
   },
   {
    "duration": 5,
    "start_time": "2022-02-25T17:22:04.765Z"
   },
   {
    "duration": 13,
    "start_time": "2022-02-25T17:22:24.118Z"
   },
   {
    "duration": 280,
    "start_time": "2022-02-25T17:22:31.900Z"
   },
   {
    "duration": 2,
    "start_time": "2022-02-25T17:22:34.427Z"
   },
   {
    "duration": 8,
    "start_time": "2022-02-25T17:22:35.515Z"
   },
   {
    "duration": 5,
    "start_time": "2022-02-25T17:22:40.994Z"
   },
   {
    "duration": 13,
    "start_time": "2022-02-25T17:22:48.107Z"
   },
   {
    "duration": 5,
    "start_time": "2022-02-25T17:22:52.768Z"
   },
   {
    "duration": 7,
    "start_time": "2022-02-25T17:22:53.104Z"
   },
   {
    "duration": 6,
    "start_time": "2022-02-25T17:22:53.347Z"
   },
   {
    "duration": 7,
    "start_time": "2022-02-25T17:22:53.834Z"
   },
   {
    "duration": 5,
    "start_time": "2022-02-25T17:22:54.652Z"
   },
   {
    "duration": 46,
    "start_time": "2022-02-25T17:23:09.668Z"
   },
   {
    "duration": 8,
    "start_time": "2022-02-25T17:23:12.216Z"
   },
   {
    "duration": 53,
    "start_time": "2022-02-25T17:23:12.471Z"
   },
   {
    "duration": 6,
    "start_time": "2022-02-25T17:23:17.932Z"
   },
   {
    "duration": 31,
    "start_time": "2022-02-25T17:23:31.931Z"
   },
   {
    "duration": 212,
    "start_time": "2022-02-26T10:00:14.733Z"
   },
   {
    "duration": 4,
    "start_time": "2022-02-26T10:00:21.984Z"
   },
   {
    "duration": 203,
    "start_time": "2022-02-26T10:00:22.440Z"
   },
   {
    "duration": 2690,
    "start_time": "2022-02-26T10:00:32.281Z"
   },
   {
    "duration": 11,
    "start_time": "2022-02-26T10:00:45.166Z"
   },
   {
    "duration": 12,
    "start_time": "2022-02-26T10:01:13.176Z"
   },
   {
    "duration": 10,
    "start_time": "2022-02-26T10:14:15.395Z"
   },
   {
    "duration": 17,
    "start_time": "2022-02-26T10:14:37.702Z"
   },
   {
    "duration": 202,
    "start_time": "2022-02-26T10:15:25.118Z"
   },
   {
    "duration": 353,
    "start_time": "2022-02-26T10:15:43.220Z"
   },
   {
    "duration": 206,
    "start_time": "2022-02-26T10:16:11.866Z"
   },
   {
    "duration": 223,
    "start_time": "2022-02-26T10:21:38.310Z"
   }
  ],
  "kernelspec": {
   "display_name": "Python 3 (ipykernel)",
   "language": "python",
   "name": "python3"
  },
  "language_info": {
   "codemirror_mode": {
    "name": "ipython",
    "version": 3
   },
   "file_extension": ".py",
   "mimetype": "text/x-python",
   "name": "python",
   "nbconvert_exporter": "python",
   "pygments_lexer": "ipython3",
   "version": "3.10.0"
  },
  "toc": {
   "base_numbering": 1,
   "nav_menu": {},
   "number_sections": true,
   "sideBar": true,
   "skip_h1_title": true,
   "title_cell": "Table of Contents",
   "title_sidebar": "Contents",
   "toc_cell": false,
   "toc_position": {
    "height": "calc(100% - 180px)",
    "left": "10px",
    "top": "150px",
    "width": "340.797px"
   },
   "toc_section_display": true,
   "toc_window_display": false
  }
 },
 "nbformat": 4,
 "nbformat_minor": 2
}
