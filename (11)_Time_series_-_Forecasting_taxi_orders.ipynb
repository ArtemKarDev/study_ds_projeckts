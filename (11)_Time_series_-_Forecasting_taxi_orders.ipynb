{
 "cells": [
  {
   "cell_type": "markdown",
   "metadata": {
    "toc": true
   },
   "source": [
    "<h1>Содержание<span class=\"tocSkip\"></span></h1>\n",
    "<div class=\"toc\"><ul class=\"toc-item\"><li><span><a href=\"#Подготовка\" data-toc-modified-id=\"Подготовка-1\"><span class=\"toc-item-num\">1&nbsp;&nbsp;</span>Подготовка</a></span></li><li><span><a href=\"#Анализ\" data-toc-modified-id=\"Анализ-2\"><span class=\"toc-item-num\">2&nbsp;&nbsp;</span>Анализ</a></span><ul class=\"toc-item\"><li><span><a href=\"#Стационарность\" data-toc-modified-id=\"Стационарность-2.1\"><span class=\"toc-item-num\">2.1&nbsp;&nbsp;</span>Стационарность</a></span></li><li><span><a href=\"#теста-Дикки-Фуллера\" data-toc-modified-id=\"теста-Дикки-Фуллера-2.2\"><span class=\"toc-item-num\">2.2&nbsp;&nbsp;</span>теста Дикки-Фуллера</a></span></li></ul></li><li><span><a href=\"#Обучение\" data-toc-modified-id=\"Обучение-3\"><span class=\"toc-item-num\">3&nbsp;&nbsp;</span>Обучение</a></span></li><li><span><a href=\"#Тестирование\" data-toc-modified-id=\"Тестирование-4\"><span class=\"toc-item-num\">4&nbsp;&nbsp;</span>Тестирование</a></span><ul class=\"toc-item\"><li><span><a href=\"#Линейная-регрессия\" data-toc-modified-id=\"Линейная-регрессия-4.1\"><span class=\"toc-item-num\">4.1&nbsp;&nbsp;</span>Линейная регрессия</a></span></li><li><span><a href=\"#Гребневая-регрессия\" data-toc-modified-id=\"Гребневая-регрессия-4.2\"><span class=\"toc-item-num\">4.2&nbsp;&nbsp;</span>Гребневая регрессия</a></span></li><li><span><a href=\"#LightGBM\" data-toc-modified-id=\"LightGBM-4.3\"><span class=\"toc-item-num\">4.3&nbsp;&nbsp;</span>LightGBM</a></span></li></ul></li><li><span><a href=\"#Чек-лист-проверки\" data-toc-modified-id=\"Чек-лист-проверки-5\"><span class=\"toc-item-num\">5&nbsp;&nbsp;</span>Чек-лист проверки</a></span></li></ul></div>"
   ]
  },
  {
   "cell_type": "markdown",
   "metadata": {},
   "source": [
    "#  Прогнозирование заказов такси"
   ]
  },
  {
   "cell_type": "markdown",
   "metadata": {},
   "source": [
    "Компания «Чётенькое такси» собрала исторические данные о заказах такси в аэропортах. Чтобы привлекать больше водителей в период пиковой нагрузки, нужно спрогнозировать количество заказов такси на следующий час. Постройте модель для такого предсказания.\n",
    "\n",
    "Значение метрики *RMSE* на тестовой выборке должно быть не больше 48.\n",
    "\n",
    "Вам нужно:\n",
    "\n",
    "1. Загрузить данные и выполнить их ресемплирование по одному часу.\n",
    "2. Проанализировать данные.\n",
    "3. Обучить разные модели с различными гиперпараметрами. Сделать тестовую выборку размером 10% от исходных данных.\n",
    "4. Проверить данные на тестовой выборке и сделать выводы.\n",
    "\n",
    "\n",
    "Данные лежат в файле `taxi.csv`. Количество заказов находится в столбце `num_orders` (от англ. *number of orders*, «число заказов»)."
   ]
  },
  {
   "cell_type": "code",
   "execution_count": 1,
   "metadata": {},
   "outputs": [
    {
     "name": "stdout",
     "output_type": "stream",
     "text": [
      "Collecting optuna\n",
      "  Downloading optuna-2.10.0-py3-none-any.whl (308 kB)\n",
      "     |████████████████████████████████| 308 kB 1.3 MB/s            \n",
      "\u001b[?25hRequirement already satisfied: scipy!=1.4.0 in /opt/conda/lib/python3.9/site-packages (from optuna) (1.8.0)\n",
      "Requirement already satisfied: tqdm in /opt/conda/lib/python3.9/site-packages (from optuna) (4.62.3)\n",
      "Requirement already satisfied: PyYAML in /opt/conda/lib/python3.9/site-packages (from optuna) (6.0)\n",
      "Collecting colorlog\n",
      "  Downloading colorlog-6.6.0-py2.py3-none-any.whl (11 kB)\n",
      "Collecting cliff\n",
      "  Downloading cliff-3.10.1-py3-none-any.whl (81 kB)\n",
      "     |████████████████████████████████| 81 kB 5.4 MB/s             \n",
      "\u001b[?25hRequirement already satisfied: packaging>=20.0 in /opt/conda/lib/python3.9/site-packages (from optuna) (21.3)\n",
      "Requirement already satisfied: alembic in /opt/conda/lib/python3.9/site-packages (from optuna) (1.7.5)\n",
      "Requirement already satisfied: sqlalchemy>=1.1.0 in /opt/conda/lib/python3.9/site-packages (from optuna) (1.4.27)\n",
      "Collecting cmaes>=0.8.2\n",
      "  Downloading cmaes-0.8.2-py3-none-any.whl (15 kB)\n",
      "Requirement already satisfied: numpy in /opt/conda/lib/python3.9/site-packages (from optuna) (1.22.3)\n",
      "Requirement already satisfied: pyparsing!=3.0.5,>=2.0.2 in /opt/conda/lib/python3.9/site-packages (from packaging>=20.0->optuna) (3.0.6)\n",
      "Requirement already satisfied: greenlet!=0.4.17 in /opt/conda/lib/python3.9/site-packages (from sqlalchemy>=1.1.0->optuna) (1.1.2)\n",
      "Requirement already satisfied: Mako in /opt/conda/lib/python3.9/site-packages (from alembic->optuna) (1.1.6)\n",
      "Collecting PrettyTable>=0.7.2\n",
      "  Downloading prettytable-3.3.0-py3-none-any.whl (26 kB)\n",
      "Collecting autopage>=0.4.0\n",
      "  Downloading autopage-0.5.0-py3-none-any.whl (29 kB)\n",
      "Collecting cmd2>=1.0.0\n",
      "  Downloading cmd2-2.4.1-py3-none-any.whl (146 kB)\n",
      "     |████████████████████████████████| 146 kB 12.1 MB/s            \n",
      "\u001b[?25hCollecting stevedore>=2.0.1\n",
      "  Downloading stevedore-3.5.0-py3-none-any.whl (49 kB)\n",
      "     |████████████████████████████████| 49 kB 5.2 MB/s             \n",
      "\u001b[?25hCollecting pbr!=2.1.0,>=2.0.0\n",
      "  Downloading pbr-5.9.0-py2.py3-none-any.whl (112 kB)\n",
      "     |████████████████████████████████| 112 kB 12.1 MB/s            \n",
      "\u001b[?25hCollecting pyperclip>=1.6\n",
      "  Downloading pyperclip-1.8.2.tar.gz (20 kB)\n",
      "  Preparing metadata (setup.py) ... \u001b[?25ldone\n",
      "\u001b[?25hRequirement already satisfied: attrs>=16.3.0 in /opt/conda/lib/python3.9/site-packages (from cmd2>=1.0.0->cliff->optuna) (21.2.0)\n",
      "Requirement already satisfied: wcwidth>=0.1.7 in /opt/conda/lib/python3.9/site-packages (from cmd2>=1.0.0->cliff->optuna) (0.2.5)\n",
      "Requirement already satisfied: MarkupSafe>=0.9.2 in /opt/conda/lib/python3.9/site-packages (from Mako->alembic->optuna) (2.0.1)\n",
      "Building wheels for collected packages: pyperclip\n",
      "  Building wheel for pyperclip (setup.py) ... \u001b[?25ldone\n",
      "\u001b[?25h  Created wheel for pyperclip: filename=pyperclip-1.8.2-py3-none-any.whl size=11136 sha256=5623f183c962c04075418299b1fd17ff2401b724627fcb4b0bb3c916d68160e2\n",
      "  Stored in directory: /home/jovyan/.cache/pip/wheels/0c/09/9e/49e21a6840ef7955b06d47394afef0058f0378c0914e48b8b8\n",
      "Successfully built pyperclip\n",
      "Installing collected packages: pyperclip, pbr, stevedore, PrettyTable, cmd2, autopage, colorlog, cmaes, cliff, optuna\n",
      "Successfully installed PrettyTable-3.3.0 autopage-0.5.0 cliff-3.10.1 cmaes-0.8.2 cmd2-2.4.1 colorlog-6.6.0 optuna-2.10.0 pbr-5.9.0 pyperclip-1.8.2 stevedore-3.5.0\n"
     ]
    }
   ],
   "source": [
    "!pip install optuna -U"
   ]
  },
  {
   "cell_type": "markdown",
   "metadata": {},
   "source": [
    "## Подготовка"
   ]
  },
  {
   "cell_type": "code",
   "execution_count": 2,
   "metadata": {},
   "outputs": [],
   "source": [
    "import pandas as pd\n",
    "import numpy as np\n",
    "import matplotlib.pyplot as plt\n",
    "from datetime import datetime\n",
    "\n",
    "from statsmodels.tsa.seasonal import seasonal_decompose\n",
    "\n",
    "from sklearn.model_selection import train_test_split\n",
    "from sklearn.preprocessing import StandardScaler\n",
    "from sklearn.preprocessing import PolynomialFeatures\n",
    "\n",
    "from sklearn.linear_model import LinearRegression\n",
    "from sklearn.linear_model import RidgeCV\n",
    "from sklearn.ensemble import RandomForestRegressor\n",
    "from lightgbm import LGBMRegressor\n",
    "\n",
    "\n",
    "from sklearn.model_selection import TimeSeriesSplit\n",
    "from sklearn.model_selection import cross_val_score\n",
    "from sklearn.metrics import mean_squared_error\n",
    "\n",
    "# %pip install optuna\n",
    "import optuna"
   ]
  },
  {
   "cell_type": "code",
   "execution_count": 3,
   "metadata": {},
   "outputs": [],
   "source": [
    "# загрузим данные и сохраним датасет, сделаем первую калонку как индекс\n",
    "df = pd.read_csv('/datasets/taxi.csv',index_col=0,parse_dates=[0])"
   ]
  },
  {
   "cell_type": "code",
   "execution_count": 4,
   "metadata": {},
   "outputs": [],
   "source": [
    "# на всякий случай отсортируем по индексу\n",
    "df.sort_index(inplace=True)"
   ]
  },
  {
   "cell_type": "code",
   "execution_count": 5,
   "metadata": {},
   "outputs": [
    {
     "name": "stdout",
     "output_type": "stream",
     "text": [
      "<class 'pandas.core.frame.DataFrame'>\n",
      "DatetimeIndex: 26496 entries, 2018-03-01 00:00:00 to 2018-08-31 23:50:00\n",
      "Data columns (total 1 columns):\n",
      " #   Column      Non-Null Count  Dtype\n",
      "---  ------      --------------  -----\n",
      " 0   num_orders  26496 non-null  int64\n",
      "dtypes: int64(1)\n",
      "memory usage: 414.0 KB\n"
     ]
    }
   ],
   "source": [
    "df.info()"
   ]
  },
  {
   "cell_type": "markdown",
   "metadata": {},
   "source": [
    "в нашем распоряжении 26496 наблюдений с марта по август 2018го"
   ]
  },
  {
   "cell_type": "code",
   "execution_count": 6,
   "metadata": {},
   "outputs": [],
   "source": [
    "# предсказание требуется на один час - сделаем ресемплирование \n",
    "data = df.resample('1H').sum()"
   ]
  },
  {
   "cell_type": "code",
   "execution_count": 7,
   "metadata": {},
   "outputs": [
    {
     "name": "stdout",
     "output_type": "stream",
     "text": [
      "<class 'pandas.core.frame.DataFrame'>\n",
      "DatetimeIndex: 4416 entries, 2018-03-01 00:00:00 to 2018-08-31 23:00:00\n",
      "Freq: H\n",
      "Data columns (total 1 columns):\n",
      " #   Column      Non-Null Count  Dtype\n",
      "---  ------      --------------  -----\n",
      " 0   num_orders  4416 non-null   int64\n",
      "dtypes: int64(1)\n",
      "memory usage: 69.0 KB\n"
     ]
    }
   ],
   "source": [
    "data.info()"
   ]
  },
  {
   "cell_type": "code",
   "execution_count": 8,
   "metadata": {},
   "outputs": [
    {
     "data": {
      "text/html": [
       "<div>\n",
       "<style scoped>\n",
       "    .dataframe tbody tr th:only-of-type {\n",
       "        vertical-align: middle;\n",
       "    }\n",
       "\n",
       "    .dataframe tbody tr th {\n",
       "        vertical-align: top;\n",
       "    }\n",
       "\n",
       "    .dataframe thead th {\n",
       "        text-align: right;\n",
       "    }\n",
       "</style>\n",
       "<table border=\"1\" class=\"dataframe\">\n",
       "  <thead>\n",
       "    <tr style=\"text-align: right;\">\n",
       "      <th></th>\n",
       "      <th>num_orders</th>\n",
       "    </tr>\n",
       "  </thead>\n",
       "  <tbody>\n",
       "    <tr>\n",
       "      <th>count</th>\n",
       "      <td>4416.000000</td>\n",
       "    </tr>\n",
       "    <tr>\n",
       "      <th>mean</th>\n",
       "      <td>84.422781</td>\n",
       "    </tr>\n",
       "    <tr>\n",
       "      <th>std</th>\n",
       "      <td>45.023853</td>\n",
       "    </tr>\n",
       "    <tr>\n",
       "      <th>min</th>\n",
       "      <td>0.000000</td>\n",
       "    </tr>\n",
       "    <tr>\n",
       "      <th>25%</th>\n",
       "      <td>54.000000</td>\n",
       "    </tr>\n",
       "    <tr>\n",
       "      <th>50%</th>\n",
       "      <td>78.000000</td>\n",
       "    </tr>\n",
       "    <tr>\n",
       "      <th>75%</th>\n",
       "      <td>107.000000</td>\n",
       "    </tr>\n",
       "    <tr>\n",
       "      <th>max</th>\n",
       "      <td>462.000000</td>\n",
       "    </tr>\n",
       "  </tbody>\n",
       "</table>\n",
       "</div>"
      ],
      "text/plain": [
       "        num_orders\n",
       "count  4416.000000\n",
       "mean     84.422781\n",
       "std      45.023853\n",
       "min       0.000000\n",
       "25%      54.000000\n",
       "50%      78.000000\n",
       "75%     107.000000\n",
       "max     462.000000"
      ]
     },
     "execution_count": 8,
     "metadata": {},
     "output_type": "execute_result"
    }
   ],
   "source": [
    "data.describe()"
   ]
  },
  {
   "cell_type": "code",
   "execution_count": 9,
   "metadata": {},
   "outputs": [
    {
     "data": {
      "text/plain": [
       "array([[<AxesSubplot:title={'center':'num_orders'}>]], dtype=object)"
      ]
     },
     "execution_count": 9,
     "metadata": {},
     "output_type": "execute_result"
    },
    {
     "data": {
      "image/png": "[encoded data removed]",
      "text/plain": [
       "<Figure size 432x288 with 1 Axes>"
      ]
     },
     "metadata": {
      "needs_background": "light"
     },
     "output_type": "display_data"
    }
   ],
   "source": [
    "data.hist(bins=100)"
   ]
  },
  {
   "cell_type": "markdown",
   "metadata": {},
   "source": [
    "В среднем 84 заказа в час, редко  бывает более 200 заказов за час. но необходимо изучить данные на тренды - скорее всего показатели меняются во времени"
   ]
  },
  {
   "cell_type": "markdown",
   "metadata": {},
   "source": [
    "## Анализ"
   ]
  },
  {
   "cell_type": "code",
   "execution_count": 10,
   "metadata": {},
   "outputs": [
    {
     "data": {
      "text/plain": [
       "<AxesSubplot:>"
      ]
     },
     "execution_count": 10,
     "metadata": {},
     "output_type": "execute_result"
    },
    {
     "data": {
      "image/png": "[encoded data removed]",
      "text/plain": [
       "<Figure size 432x288 with 1 Axes>"
      ]
     },
     "metadata": {
      "needs_background": "light"
     },
     "output_type": "display_data"
    }
   ],
   "source": [
    "data.boxplot()"
   ]
  },
  {
   "cell_type": "code",
   "execution_count": 11,
   "metadata": {},
   "outputs": [
    {
     "data": {
      "text/plain": [
       "<AxesSubplot:xlabel='datetime'>"
      ]
     },
     "execution_count": 11,
     "metadata": {},
     "output_type": "execute_result"
    },
    {
     "data": {
      "image/png": "[encoded data removed]",
      "text/plain": [
       "<Figure size 432x288 with 1 Axes>"
      ]
     },
     "metadata": {
      "needs_background": "light"
     },
     "output_type": "display_data"
    }
   ],
   "source": [
    "# посмотрим на график последней недели\n",
    "\n",
    "data['2018-08-10':'2018-08-31'].plot()"
   ]
  },
  {
   "cell_type": "code",
   "execution_count": 12,
   "metadata": {},
   "outputs": [
    {
     "data": {
      "text/html": [
       "<div>\n",
       "<style scoped>\n",
       "    .dataframe tbody tr th:only-of-type {\n",
       "        vertical-align: middle;\n",
       "    }\n",
       "\n",
       "    .dataframe tbody tr th {\n",
       "        vertical-align: top;\n",
       "    }\n",
       "\n",
       "    .dataframe thead th {\n",
       "        text-align: right;\n",
       "    }\n",
       "</style>\n",
       "<table border=\"1\" class=\"dataframe\">\n",
       "  <thead>\n",
       "    <tr style=\"text-align: right;\">\n",
       "      <th></th>\n",
       "      <th>num_orders</th>\n",
       "    </tr>\n",
       "    <tr>\n",
       "      <th>datetime</th>\n",
       "      <th></th>\n",
       "    </tr>\n",
       "  </thead>\n",
       "  <tbody>\n",
       "    <tr>\n",
       "      <th>2018-08-13 02:00:00</th>\n",
       "      <td>437</td>\n",
       "    </tr>\n",
       "    <tr>\n",
       "      <th>2018-08-20 02:00:00</th>\n",
       "      <td>462</td>\n",
       "    </tr>\n",
       "    <tr>\n",
       "      <th>2018-08-27 02:00:00</th>\n",
       "      <td>408</td>\n",
       "    </tr>\n",
       "  </tbody>\n",
       "</table>\n",
       "</div>"
      ],
      "text/plain": [
       "                     num_orders\n",
       "datetime                       \n",
       "2018-08-13 02:00:00         437\n",
       "2018-08-20 02:00:00         462\n",
       "2018-08-27 02:00:00         408"
      ]
     },
     "execution_count": 12,
     "metadata": {},
     "output_type": "execute_result"
    }
   ],
   "source": [
    "data[data['num_orders'] > 350]"
   ]
  },
  {
   "cell_type": "markdown",
   "metadata": {},
   "source": [
    "очевидно что в августе люди чаще посещают аэропорт так как сезон отпусков - и выходит что в ночь с воскресенья на понедельник людей с отпусков возвращается больше чем в другие дни"
   ]
  },
  {
   "cell_type": "markdown",
   "metadata": {},
   "source": [
    "посмотрим на тренды циклы и сезонность с помощью seasonal_decompose"
   ]
  },
  {
   "cell_type": "code",
   "execution_count": 13,
   "metadata": {},
   "outputs": [
    {
     "data": {
      "image/png": "[encoded data removed]",
      "text/plain": [
       "<Figure size 1152x576 with 3 Axes>"
      ]
     },
     "metadata": {
      "needs_background": "light"
     },
     "output_type": "display_data"
    }
   ],
   "source": [
    "decomposed = seasonal_decompose(data['2018-06-1':'2018-06-30']) # < напишите код здесь >\n",
    "\n",
    "plt.figure(figsize=(16, 8))\n",
    "plt.subplot(311)\n",
    "# Чтобы график корректно отобразился, указываем его\n",
    "# оси ax, равными plt.gca() (англ. get current axis,\n",
    "# получить текущие оси)\n",
    "decomposed.trend.plot(ax=plt.gca())\n",
    "plt.title('Trend')\n",
    "plt.subplot(312)\n",
    "\n",
    "decomposed.seasonal.plot(ax=plt.gca())\n",
    "plt.title('Seasonality')\n",
    "plt.subplot(313)\n",
    "\n",
    "decomposed.resid.plot(ax=plt.gca())\n",
    "plt.title('Residuals')\n",
    "plt.tight_layout()"
   ]
  },
  {
   "cell_type": "markdown",
   "metadata": {},
   "source": [
    "Сделаем скользащую среднюю по дням неделям и месяцам"
   ]
  },
  {
   "cell_type": "code",
   "execution_count": 14,
   "metadata": {},
   "outputs": [],
   "source": [
    "def plotMovingAverage(data, wind):\n",
    "    plt.figure(figsize=(15,5))\n",
    "    for n in wind:\n",
    "        rolling_mean = data.rolling(window=n).mean()\n",
    "        plt.plot(rolling_mean, label=f\"Скользящая средняя\\n за {n} ч\")\n",
    "    plt.title(f\"Скользящая средняя\") \n",
    "    plt.axis('tight')\n",
    "    plt.legend(loc=\"upper left\")\n",
    "    plt.grid(True)"
   ]
  },
  {
   "cell_type": "code",
   "execution_count": 15,
   "metadata": {},
   "outputs": [
    {
     "data": {
      "image/png": "[encoded data removed]",
      "text/plain": [
       "<Figure size 1080x360 with 1 Axes>"
      ]
     },
     "metadata": {
      "needs_background": "light"
     },
     "output_type": "display_data"
    }
   ],
   "source": [
    "plotMovingAverage(data, [24,168,720])"
   ]
  },
  {
   "cell_type": "markdown",
   "metadata": {},
   "source": [
    "Как видим из графика среднемесячное количество заказов растет в течении всего датасета. что является трендом. Цикличность была в видна внутри дня (день\\ночь). Хотел увидеть какую нибудь цикличность на недельном графике расчитывая на стабильное изменение количества заказов на выходных днях - но этого нет. Есть не стабильные пики выподающие на понедельник среду и субботу\n",
    "\n",
    "также заметно что в последний месяц прирост количества заказов идет с некоторым ускорением."
   ]
  },
  {
   "cell_type": "markdown",
   "metadata": {},
   "source": [
    "### Стационарность"
   ]
  },
  {
   "cell_type": "markdown",
   "metadata": {},
   "source": [
    "Разобьём временной ряд на две последовательности. Затем рассчитаем среднее значение и дисперсию каждой группы чисел и сравним значения."
   ]
  },
  {
   "cell_type": "code",
   "execution_count": 16,
   "metadata": {
    "scrolled": true
   },
   "outputs": [
    {
     "name": "stdout",
     "output_type": "stream",
     "text": [
      "mean1=65.003170, mean2=103.842391\n",
      "variance1=1081.881783, variance2=2217.252333\n"
     ]
    }
   ],
   "source": [
    "X = data['num_orders'].values\n",
    "split = int(len(X) / 2)\n",
    "X1, X2 = X[:split], X[split:]\n",
    "mean1, mean2 = X1.mean(), X2.mean()\n",
    "var1, var2 = X1.var(), X2.var()\n",
    "print('mean1=%f, mean2=%f' % (mean1, mean2))\n",
    "print('variance1=%f, variance2=%f' % (var1, var2))"
   ]
  },
  {
   "cell_type": "markdown",
   "metadata": {},
   "source": [
    "разница в среднем и дисперсии очень большая - значит эти параметры меняются с течением времени - и речь может идти об отсутствии стационарности"
   ]
  },
  {
   "cell_type": "markdown",
   "metadata": {},
   "source": [
    "### теста Дикки-Фуллера\n",
    "\n",
    "проверим данные на стационарность с помощью теста Дикки-Фуллера\n",
    "\n",
    "Нулевая гипотеза (H0): предполагает, что временной ряд нестационарный (имеет единичный корень). Он имеет некоторую временную структуру.\n",
    "\n",
    "Альтернативная гипотеза (H1):  предполагает, что временной ряд является стационарным. Он не имеет временной структуры."
   ]
  },
  {
   "cell_type": "code",
   "execution_count": 17,
   "metadata": {},
   "outputs": [
    {
     "name": "stdout",
     "output_type": "stream",
     "text": [
      "ADF Statistic: -3.068924\n",
      "p-value: 0.028940\n",
      "Critical Values:\n",
      "\t1%: -3.432\n",
      "\t5%: -2.862\n",
      "\t10%: -2.567\n"
     ]
    }
   ],
   "source": [
    "from statsmodels.tsa.stattools import adfuller\n",
    "\n",
    "X = data['num_orders'].dropna().values\n",
    "result = adfuller(X)\n",
    "print('ADF Statistic: %f' % result[0])\n",
    "print('p-value: %f' % result[1])\n",
    "print('Critical Values:')\n",
    "for key, value in result[4].items():\n",
    "    print('\\t%s: %.3f' % (key, value))"
   ]
  },
  {
   "cell_type": "markdown",
   "metadata": {},
   "source": [
    "Значение p ниже порогового значения (5%) но выше порогового значения (1%)\n",
    "\n",
    "При выполнении теста выводится статистическое значение -3. Чем более отрицательна эта статистика, тем больше вероятность того, что мы отвергнем нулевую гипотезу (у нас есть стационарный набор данных).\n",
    "\n",
    "Получается что ряд более стационарный чем нет ..."
   ]
  },
  {
   "cell_type": "markdown",
   "metadata": {},
   "source": [
    "Чтобы посмотреть на стационарный ряд, найдём разности его значений."
   ]
  },
  {
   "cell_type": "code",
   "execution_count": 18,
   "metadata": {},
   "outputs": [],
   "source": [
    "data_shift = data - data.shift(periods=1,fill_value=0)"
   ]
  },
  {
   "cell_type": "code",
   "execution_count": 19,
   "metadata": {},
   "outputs": [
    {
     "data": {
      "image/png": "[encoded data removed]",
      "text/plain": [
       "<Figure size 1080x360 with 1 Axes>"
      ]
     },
     "metadata": {
      "needs_background": "light"
     },
     "output_type": "display_data"
    }
   ],
   "source": [
    "plotMovingAverage(data_shift, [24,96])"
   ]
  },
  {
   "cell_type": "markdown",
   "metadata": {},
   "source": [
    "Разности временного ряда более стационарны, нелинейный тренд преобразовался в линейный"
   ]
  },
  {
   "cell_type": "markdown",
   "metadata": {},
   "source": [
    "## Обучение"
   ]
  },
  {
   "cell_type": "markdown",
   "metadata": {},
   "source": [
    "Создадим некоторые признаки для обучения модели, \n",
    "\n",
    "календарные признаки с днем недели и дём в месяце, а так же сделаем признаки по отстающим значениям."
   ]
  },
  {
   "cell_type": "code",
   "execution_count": 20,
   "metadata": {},
   "outputs": [],
   "source": [
    "data['day'] = data.index.day\n",
    "data['dayofweek'] = data.index.dayofweek"
   ]
  },
  {
   "cell_type": "code",
   "execution_count": 21,
   "metadata": {},
   "outputs": [],
   "source": [
    "# для создания признаков с отстающими значениями сделаем функцию\n",
    "\n",
    "def make_features(data, max_lag, rolling_mean_size):\n",
    "    for lag in range(1,max_lag + 1):\n",
    "        data['lag_{}'.format(lag)] = data['num_orders'].shift(lag)  \n",
    "    # для создания признака со скользящим средним с заданым окном и со сдвигом на одно наблюдение назад(чтоб не подглядывать)\n",
    "    data['rolling_mean'] = data['num_orders'].shift().rolling(rolling_mean_size).mean()"
   ]
  },
  {
   "cell_type": "code",
   "execution_count": 22,
   "metadata": {},
   "outputs": [],
   "source": [
    "make_features(data, 24, 6)"
   ]
  },
  {
   "cell_type": "code",
   "execution_count": 23,
   "metadata": {},
   "outputs": [
    {
     "data": {
      "text/html": [
       "<div>\n",
       "<style scoped>\n",
       "    .dataframe tbody tr th:only-of-type {\n",
       "        vertical-align: middle;\n",
       "    }\n",
       "\n",
       "    .dataframe tbody tr th {\n",
       "        vertical-align: top;\n",
       "    }\n",
       "\n",
       "    .dataframe thead th {\n",
       "        text-align: right;\n",
       "    }\n",
       "</style>\n",
       "<table border=\"1\" class=\"dataframe\">\n",
       "  <thead>\n",
       "    <tr style=\"text-align: right;\">\n",
       "      <th></th>\n",
       "      <th>num_orders</th>\n",
       "      <th>day</th>\n",
       "      <th>dayofweek</th>\n",
       "      <th>lag_1</th>\n",
       "      <th>lag_2</th>\n",
       "      <th>lag_3</th>\n",
       "      <th>lag_4</th>\n",
       "      <th>lag_5</th>\n",
       "      <th>lag_6</th>\n",
       "      <th>lag_7</th>\n",
       "      <th>...</th>\n",
       "      <th>lag_16</th>\n",
       "      <th>lag_17</th>\n",
       "      <th>lag_18</th>\n",
       "      <th>lag_19</th>\n",
       "      <th>lag_20</th>\n",
       "      <th>lag_21</th>\n",
       "      <th>lag_22</th>\n",
       "      <th>lag_23</th>\n",
       "      <th>lag_24</th>\n",
       "      <th>rolling_mean</th>\n",
       "    </tr>\n",
       "    <tr>\n",
       "      <th>datetime</th>\n",
       "      <th></th>\n",
       "      <th></th>\n",
       "      <th></th>\n",
       "      <th></th>\n",
       "      <th></th>\n",
       "      <th></th>\n",
       "      <th></th>\n",
       "      <th></th>\n",
       "      <th></th>\n",
       "      <th></th>\n",
       "      <th></th>\n",
       "      <th></th>\n",
       "      <th></th>\n",
       "      <th></th>\n",
       "      <th></th>\n",
       "      <th></th>\n",
       "      <th></th>\n",
       "      <th></th>\n",
       "      <th></th>\n",
       "      <th></th>\n",
       "      <th></th>\n",
       "    </tr>\n",
       "  </thead>\n",
       "  <tbody>\n",
       "    <tr>\n",
       "      <th>2018-03-01 00:00:00</th>\n",
       "      <td>124</td>\n",
       "      <td>1</td>\n",
       "      <td>3</td>\n",
       "      <td>NaN</td>\n",
       "      <td>NaN</td>\n",
       "      <td>NaN</td>\n",
       "      <td>NaN</td>\n",
       "      <td>NaN</td>\n",
       "      <td>NaN</td>\n",
       "      <td>NaN</td>\n",
       "      <td>...</td>\n",
       "      <td>NaN</td>\n",
       "      <td>NaN</td>\n",
       "      <td>NaN</td>\n",
       "      <td>NaN</td>\n",
       "      <td>NaN</td>\n",
       "      <td>NaN</td>\n",
       "      <td>NaN</td>\n",
       "      <td>NaN</td>\n",
       "      <td>NaN</td>\n",
       "      <td>NaN</td>\n",
       "    </tr>\n",
       "    <tr>\n",
       "      <th>2018-03-01 01:00:00</th>\n",
       "      <td>85</td>\n",
       "      <td>1</td>\n",
       "      <td>3</td>\n",
       "      <td>124.0</td>\n",
       "      <td>NaN</td>\n",
       "      <td>NaN</td>\n",
       "      <td>NaN</td>\n",
       "      <td>NaN</td>\n",
       "      <td>NaN</td>\n",
       "      <td>NaN</td>\n",
       "      <td>...</td>\n",
       "      <td>NaN</td>\n",
       "      <td>NaN</td>\n",
       "      <td>NaN</td>\n",
       "      <td>NaN</td>\n",
       "      <td>NaN</td>\n",
       "      <td>NaN</td>\n",
       "      <td>NaN</td>\n",
       "      <td>NaN</td>\n",
       "      <td>NaN</td>\n",
       "      <td>NaN</td>\n",
       "    </tr>\n",
       "    <tr>\n",
       "      <th>2018-03-01 02:00:00</th>\n",
       "      <td>71</td>\n",
       "      <td>1</td>\n",
       "      <td>3</td>\n",
       "      <td>85.0</td>\n",
       "      <td>124.0</td>\n",
       "      <td>NaN</td>\n",
       "      <td>NaN</td>\n",
       "      <td>NaN</td>\n",
       "      <td>NaN</td>\n",
       "      <td>NaN</td>\n",
       "      <td>...</td>\n",
       "      <td>NaN</td>\n",
       "      <td>NaN</td>\n",
       "      <td>NaN</td>\n",
       "      <td>NaN</td>\n",
       "      <td>NaN</td>\n",
       "      <td>NaN</td>\n",
       "      <td>NaN</td>\n",
       "      <td>NaN</td>\n",
       "      <td>NaN</td>\n",
       "      <td>NaN</td>\n",
       "    </tr>\n",
       "    <tr>\n",
       "      <th>2018-03-01 03:00:00</th>\n",
       "      <td>66</td>\n",
       "      <td>1</td>\n",
       "      <td>3</td>\n",
       "      <td>71.0</td>\n",
       "      <td>85.0</td>\n",
       "      <td>124.0</td>\n",
       "      <td>NaN</td>\n",
       "      <td>NaN</td>\n",
       "      <td>NaN</td>\n",
       "      <td>NaN</td>\n",
       "      <td>...</td>\n",
       "      <td>NaN</td>\n",
       "      <td>NaN</td>\n",
       "      <td>NaN</td>\n",
       "      <td>NaN</td>\n",
       "      <td>NaN</td>\n",
       "      <td>NaN</td>\n",
       "      <td>NaN</td>\n",
       "      <td>NaN</td>\n",
       "      <td>NaN</td>\n",
       "      <td>NaN</td>\n",
       "    </tr>\n",
       "    <tr>\n",
       "      <th>2018-03-01 04:00:00</th>\n",
       "      <td>43</td>\n",
       "      <td>1</td>\n",
       "      <td>3</td>\n",
       "      <td>66.0</td>\n",
       "      <td>71.0</td>\n",
       "      <td>85.0</td>\n",
       "      <td>124.0</td>\n",
       "      <td>NaN</td>\n",
       "      <td>NaN</td>\n",
       "      <td>NaN</td>\n",
       "      <td>...</td>\n",
       "      <td>NaN</td>\n",
       "      <td>NaN</td>\n",
       "      <td>NaN</td>\n",
       "      <td>NaN</td>\n",
       "      <td>NaN</td>\n",
       "      <td>NaN</td>\n",
       "      <td>NaN</td>\n",
       "      <td>NaN</td>\n",
       "      <td>NaN</td>\n",
       "      <td>NaN</td>\n",
       "    </tr>\n",
       "    <tr>\n",
       "      <th>2018-03-01 05:00:00</th>\n",
       "      <td>6</td>\n",
       "      <td>1</td>\n",
       "      <td>3</td>\n",
       "      <td>43.0</td>\n",
       "      <td>66.0</td>\n",
       "      <td>71.0</td>\n",
       "      <td>85.0</td>\n",
       "      <td>124.0</td>\n",
       "      <td>NaN</td>\n",
       "      <td>NaN</td>\n",
       "      <td>...</td>\n",
       "      <td>NaN</td>\n",
       "      <td>NaN</td>\n",
       "      <td>NaN</td>\n",
       "      <td>NaN</td>\n",
       "      <td>NaN</td>\n",
       "      <td>NaN</td>\n",
       "      <td>NaN</td>\n",
       "      <td>NaN</td>\n",
       "      <td>NaN</td>\n",
       "      <td>NaN</td>\n",
       "    </tr>\n",
       "    <tr>\n",
       "      <th>2018-03-01 06:00:00</th>\n",
       "      <td>12</td>\n",
       "      <td>1</td>\n",
       "      <td>3</td>\n",
       "      <td>6.0</td>\n",
       "      <td>43.0</td>\n",
       "      <td>66.0</td>\n",
       "      <td>71.0</td>\n",
       "      <td>85.0</td>\n",
       "      <td>124.0</td>\n",
       "      <td>NaN</td>\n",
       "      <td>...</td>\n",
       "      <td>NaN</td>\n",
       "      <td>NaN</td>\n",
       "      <td>NaN</td>\n",
       "      <td>NaN</td>\n",
       "      <td>NaN</td>\n",
       "      <td>NaN</td>\n",
       "      <td>NaN</td>\n",
       "      <td>NaN</td>\n",
       "      <td>NaN</td>\n",
       "      <td>65.833333</td>\n",
       "    </tr>\n",
       "    <tr>\n",
       "      <th>2018-03-01 07:00:00</th>\n",
       "      <td>15</td>\n",
       "      <td>1</td>\n",
       "      <td>3</td>\n",
       "      <td>12.0</td>\n",
       "      <td>6.0</td>\n",
       "      <td>43.0</td>\n",
       "      <td>66.0</td>\n",
       "      <td>71.0</td>\n",
       "      <td>85.0</td>\n",
       "      <td>124.0</td>\n",
       "      <td>...</td>\n",
       "      <td>NaN</td>\n",
       "      <td>NaN</td>\n",
       "      <td>NaN</td>\n",
       "      <td>NaN</td>\n",
       "      <td>NaN</td>\n",
       "      <td>NaN</td>\n",
       "      <td>NaN</td>\n",
       "      <td>NaN</td>\n",
       "      <td>NaN</td>\n",
       "      <td>47.166667</td>\n",
       "    </tr>\n",
       "    <tr>\n",
       "      <th>2018-03-01 08:00:00</th>\n",
       "      <td>34</td>\n",
       "      <td>1</td>\n",
       "      <td>3</td>\n",
       "      <td>15.0</td>\n",
       "      <td>12.0</td>\n",
       "      <td>6.0</td>\n",
       "      <td>43.0</td>\n",
       "      <td>66.0</td>\n",
       "      <td>71.0</td>\n",
       "      <td>85.0</td>\n",
       "      <td>...</td>\n",
       "      <td>NaN</td>\n",
       "      <td>NaN</td>\n",
       "      <td>NaN</td>\n",
       "      <td>NaN</td>\n",
       "      <td>NaN</td>\n",
       "      <td>NaN</td>\n",
       "      <td>NaN</td>\n",
       "      <td>NaN</td>\n",
       "      <td>NaN</td>\n",
       "      <td>35.500000</td>\n",
       "    </tr>\n",
       "    <tr>\n",
       "      <th>2018-03-01 09:00:00</th>\n",
       "      <td>69</td>\n",
       "      <td>1</td>\n",
       "      <td>3</td>\n",
       "      <td>34.0</td>\n",
       "      <td>15.0</td>\n",
       "      <td>12.0</td>\n",
       "      <td>6.0</td>\n",
       "      <td>43.0</td>\n",
       "      <td>66.0</td>\n",
       "      <td>71.0</td>\n",
       "      <td>...</td>\n",
       "      <td>NaN</td>\n",
       "      <td>NaN</td>\n",
       "      <td>NaN</td>\n",
       "      <td>NaN</td>\n",
       "      <td>NaN</td>\n",
       "      <td>NaN</td>\n",
       "      <td>NaN</td>\n",
       "      <td>NaN</td>\n",
       "      <td>NaN</td>\n",
       "      <td>29.333333</td>\n",
       "    </tr>\n",
       "  </tbody>\n",
       "</table>\n",
       "<p>10 rows × 28 columns</p>\n",
       "</div>"
      ],
      "text/plain": [
       "                     num_orders  day  dayofweek  lag_1  lag_2  lag_3  lag_4  \\\n",
       "datetime                                                                      \n",
       "2018-03-01 00:00:00         124    1          3    NaN    NaN    NaN    NaN   \n",
       "2018-03-01 01:00:00          85    1          3  124.0    NaN    NaN    NaN   \n",
       "2018-03-01 02:00:00          71    1          3   85.0  124.0    NaN    NaN   \n",
       "2018-03-01 03:00:00          66    1          3   71.0   85.0  124.0    NaN   \n",
       "2018-03-01 04:00:00          43    1          3   66.0   71.0   85.0  124.0   \n",
       "2018-03-01 05:00:00           6    1          3   43.0   66.0   71.0   85.0   \n",
       "2018-03-01 06:00:00          12    1          3    6.0   43.0   66.0   71.0   \n",
       "2018-03-01 07:00:00          15    1          3   12.0    6.0   43.0   66.0   \n",
       "2018-03-01 08:00:00          34    1          3   15.0   12.0    6.0   43.0   \n",
       "2018-03-01 09:00:00          69    1          3   34.0   15.0   12.0    6.0   \n",
       "\n",
       "                     lag_5  lag_6  lag_7  ...  lag_16  lag_17  lag_18  lag_19  \\\n",
       "datetime                                  ...                                   \n",
       "2018-03-01 00:00:00    NaN    NaN    NaN  ...     NaN     NaN     NaN     NaN   \n",
       "2018-03-01 01:00:00    NaN    NaN    NaN  ...     NaN     NaN     NaN     NaN   \n",
       "2018-03-01 02:00:00    NaN    NaN    NaN  ...     NaN     NaN     NaN     NaN   \n",
       "2018-03-01 03:00:00    NaN    NaN    NaN  ...     NaN     NaN     NaN     NaN   \n",
       "2018-03-01 04:00:00    NaN    NaN    NaN  ...     NaN     NaN     NaN     NaN   \n",
       "2018-03-01 05:00:00  124.0    NaN    NaN  ...     NaN     NaN     NaN     NaN   \n",
       "2018-03-01 06:00:00   85.0  124.0    NaN  ...     NaN     NaN     NaN     NaN   \n",
       "2018-03-01 07:00:00   71.0   85.0  124.0  ...     NaN     NaN     NaN     NaN   \n",
       "2018-03-01 08:00:00   66.0   71.0   85.0  ...     NaN     NaN     NaN     NaN   \n",
       "2018-03-01 09:00:00   43.0   66.0   71.0  ...     NaN     NaN     NaN     NaN   \n",
       "\n",
       "                     lag_20  lag_21  lag_22  lag_23  lag_24  rolling_mean  \n",
       "datetime                                                                   \n",
       "2018-03-01 00:00:00     NaN     NaN     NaN     NaN     NaN           NaN  \n",
       "2018-03-01 01:00:00     NaN     NaN     NaN     NaN     NaN           NaN  \n",
       "2018-03-01 02:00:00     NaN     NaN     NaN     NaN     NaN           NaN  \n",
       "2018-03-01 03:00:00     NaN     NaN     NaN     NaN     NaN           NaN  \n",
       "2018-03-01 04:00:00     NaN     NaN     NaN     NaN     NaN           NaN  \n",
       "2018-03-01 05:00:00     NaN     NaN     NaN     NaN     NaN           NaN  \n",
       "2018-03-01 06:00:00     NaN     NaN     NaN     NaN     NaN     65.833333  \n",
       "2018-03-01 07:00:00     NaN     NaN     NaN     NaN     NaN     47.166667  \n",
       "2018-03-01 08:00:00     NaN     NaN     NaN     NaN     NaN     35.500000  \n",
       "2018-03-01 09:00:00     NaN     NaN     NaN     NaN     NaN     29.333333  \n",
       "\n",
       "[10 rows x 28 columns]"
      ]
     },
     "execution_count": 23,
     "metadata": {},
     "output_type": "execute_result"
    }
   ],
   "source": [
    "data.head(10)"
   ]
  },
  {
   "cell_type": "markdown",
   "metadata": {},
   "source": [
    "Добавил признаки со скользящим средним за 6 часов и признаки с отстащищими значениями на каждый час в сутках\n",
    "\n",
    "Теперь разделим на тренировочную и валидацонную выборки"
   ]
  },
  {
   "cell_type": "code",
   "execution_count": 24,
   "metadata": {},
   "outputs": [],
   "source": [
    "data = data.dropna()\n",
    "features = data.drop('num_orders', axis=1)\n",
    "target = data['num_orders']\n",
    "features_train, features_test, target_train, target_test = train_test_split(features, target, shuffle=False, test_size=0.1)"
   ]
  },
  {
   "cell_type": "code",
   "execution_count": 25,
   "metadata": {},
   "outputs": [
    {
     "name": "stdout",
     "output_type": "stream",
     "text": [
      "(3952, 27) (3952,) (440, 27) (440,)\n"
     ]
    }
   ],
   "source": [
    "print(features_train.shape,  target_train.shape, features_test.shape, target_test.shape )"
   ]
  },
  {
   "cell_type": "markdown",
   "metadata": {},
   "source": [
    "## Тестирование"
   ]
  },
  {
   "cell_type": "code",
   "execution_count": 26,
   "metadata": {},
   "outputs": [],
   "source": [
    "# функция для вывода графиков с предсказаниями\n",
    "\n",
    "def show_y_pred(y, pred):\n",
    "    plt.figure(figsize=(15,3))\n",
    "    plt.plot(y,label='реальные данные')\n",
    "    plt.plot(pred,label='предсказания')\n",
    "    plt.legend(loc=\"upper left\")\n",
    "    plt.ylabel('Количкества заказов в час')\n",
    "    plt.grid(True)"
   ]
  },
  {
   "cell_type": "markdown",
   "metadata": {},
   "source": [
    "### Линейная регрессия"
   ]
  },
  {
   "cell_type": "code",
   "execution_count": 27,
   "metadata": {},
   "outputs": [
    {
     "name": "stdout",
     "output_type": "stream",
     "text": [
      "25.951966955270947\n"
     ]
    },
    {
     "data": {
      "image/png": "[encoded data removed]",
      "text/plain": [
       "<Figure size 1080x216 with 1 Axes>"
      ]
     },
     "metadata": {
      "needs_background": "light"
     },
     "output_type": "display_data"
    }
   ],
   "source": [
    "model_lr = LinearRegression()\n",
    "model_lr.fit(features_train, target_train)\n",
    "\n",
    "predicted = model_lr.predict(features_train)\n",
    "df_pred = pd.DataFrame({'num_orders': target_train, 'pred': predicted})\n",
    "show_y_pred(df_pred['num_orders']['2018-06-1':'2018-06-15'],df_pred['pred']['2018-06-1':'2018-06-15'])\n",
    "\n",
    "print(mean_squared_error(target_train , predicted, squared=False))"
   ]
  },
  {
   "cell_type": "code",
   "execution_count": 28,
   "metadata": {},
   "outputs": [
    {
     "name": "stdout",
     "output_type": "stream",
     "text": [
      "45.022288261212125\n"
     ]
    },
    {
     "data": {
      "image/png": "[encoded data removed]",
      "text/plain": [
       "<Figure size 1080x216 with 1 Axes>"
      ]
     },
     "metadata": {
      "needs_background": "light"
     },
     "output_type": "display_data"
    }
   ],
   "source": [
    "predicted = model_lr.predict(features_test)\n",
    "df_pred = pd.DataFrame({'num_orders': target_test, 'pred': predicted})\n",
    "show_y_pred(df_pred['num_orders'],df_pred['pred'])\n",
    "print(mean_squared_error(target_test , predicted, squared=False))"
   ]
  },
  {
   "cell_type": "markdown",
   "metadata": {},
   "source": [
    "как видно из графика - предсказания не дотягиваются до минимальных и максимальных пиков.\n",
    "\n",
    "попробуем другие модели для улучшения метрики"
   ]
  },
  {
   "cell_type": "markdown",
   "metadata": {},
   "source": [
    "### Гребневая регрессия"
   ]
  },
  {
   "cell_type": "code",
   "execution_count": 29,
   "metadata": {},
   "outputs": [],
   "source": [
    "# исследуем временной ряд, то в каждом сплите тестовые индексы должны быть позже по времени, чем обучающие, \n",
    "# поэтому перетасовка обычным способом неуместна. Как раз TimeSeriesSplit решает эту проблему.\n",
    "tscv = TimeSeriesSplit(n_splits=3)"
   ]
  },
  {
   "cell_type": "code",
   "execution_count": 30,
   "metadata": {},
   "outputs": [
    {
     "name": "stdout",
     "output_type": "stream",
     "text": [
      "RMSE на тренировочных данных: 25.95196695527095 \n",
      "RMSE на валидационных данных: 45.02228826706076\n"
     ]
    }
   ],
   "source": [
    "# попробуем гребневую регрессию - \n",
    "# рекомендуют для наборов данных с большим количеством признаков, которые не являются независимыми друг от друга\n",
    "\n",
    "model_rg = RidgeCV(alphas=[0.01],cv=tscv).fit(features_train, target_train)\n",
    "\n",
    "predict_train = model_rg.predict(features_train)\n",
    "predict_test = model_rg.predict(features_test)\n",
    "\n",
    "print(f'RMSE на тренировочных данных: {mean_squared_error(target_train , predict_train, squared=False)}',\n",
    "      f'\\nRMSE на валидационных данных: {mean_squared_error(target_test , predict_test, squared=False)}')\n"
   ]
  },
  {
   "cell_type": "markdown",
   "metadata": {},
   "source": [
    "### LightGBM"
   ]
  },
  {
   "cell_type": "markdown",
   "metadata": {},
   "source": [
    "для поиска лучших гиперпараметов воспользуемся библиотекой optuna которая использует алгоритмы случайного перебора параметров"
   ]
  },
  {
   "cell_type": "code",
   "execution_count": null,
   "metadata": {},
   "outputs": [],
   "source": [
    "def run(trial: optuna.Trial):\n",
    "\n",
    "    params = {\n",
    "        'n_estimators': trial.suggest_int('n_estimators', 50, 300, 50),\n",
    "        'max_depth': trial.suggest_int('max_depth', 10, 30, 5),\n",
    "        'num_leaves': trial.suggest_int('num_leaves', 100, 300, 50),\n",
    "        'learning_rate': trial.suggest_float('learning_rate', 0.01, 0.5, step=None, log=True),\n",
    "        'boosting_type': trial.suggest_categorical('boosting_type', ['gbdt','dart', 'goss'])          \n",
    "    }\n",
    "    \n",
    "    model_lgbm = LGBMRegressor(**params, objective='rmse', random_state=42)\n",
    "    #model_lgbm.fit(features_train, target_train)\n",
    "    \n",
    "    score = cross_val_score(model_lgbm, features_train, target_train, n_jobs=-1, cv=tscv, scoring='neg_mean_squared_error')\n",
    "    \n",
    "    mean_score = score.mean() * (-1)\n",
    "    #print(mean_score)\n",
    "    return np.sqrt(mean_score)\n",
    "    #score = np.sqrt(mean_squared_error(target_test, model_lgbm.predict(features_test)))\n",
    "    #return score\n",
    "\n",
    "\n",
    "start = datetime.now()\n",
    "\n",
    "study = optuna.create_study(direction='minimize')\n",
    "study.optimize(run, n_trials=15)\n",
    "\n",
    "print(datetime.now() - start)"
   ]
  },
  {
   "cell_type": "markdown",
   "metadata": {},
   "source": [
    "[I 2022-05-23 20:18:13,399] Trial 1 finished with value: 27.20282916351396 and parameters: {'n_estimators': 100, 'max_depth': 10, 'num_leaves': 300, 'learning_rate': 0.05536496087509466, 'boosting_type': 'goss'}. Best is trial 1 with value: 27.20282916351396."
   ]
  },
  {
   "cell_type": "code",
   "execution_count": null,
   "metadata": {},
   "outputs": [],
   "source": [
    "model_lgbm = LGBMRegressor(**study.best_params, random_state=0)\n",
    "model_lgbm.fit(features_train, target_train)\n",
    "\n",
    "print(np.sqrt(mean_squared_error(target_test, model_lgbm.predict(features_test))))\n",
    "print(study.best_params)\n",
    "print(study.best_value)\n",
    "\n",
    "# model_lgbm = LGBMRegressor(objective='rmse', random_state=42)\n",
    "# param = {\n",
    "#     'n_estimators': [100,200,300],\n",
    "#     'max_depth': [10,15,20],\n",
    "#     'num_leaves': [100,200],\n",
    "#     'learning_rate':[0.01 , 0.1, 0.2], \n",
    "#     'boosting_type':['gbdt','dart', 'goss']\n",
    "#     }\n",
    "\n",
    "# grid = GidSearchCV(model_lgbm, param, scoring = 'neg_mean_squared_error',  cv=tscv)\n",
    "# grid.fit(features_train, target_train)"
   ]
  },
  {
   "cell_type": "code",
   "execution_count": null,
   "metadata": {},
   "outputs": [],
   "source": [
    "# model_lgbm = LGBMRegressor(n_estimators=300,\n",
    "#                            max_depth=15, \n",
    "#                            num_leaves=100, \n",
    "#                            learning_rate=0.2, \n",
    "#                            boosting_type='dart')\n",
    "# model_lgbm.fit(features_train, target_train, categorical_feature='auto')\n"
   ]
  },
  {
   "cell_type": "code",
   "execution_count": null,
   "metadata": {},
   "outputs": [],
   "source": [
    "predict = model_lgbm.predict(features_test)\n",
    "\n",
    "# посмотрим как модель предскажет на тестовых данных\n",
    "df_pred = pd.DataFrame({'num_orders': target_test, 'pred': predict})\n",
    "show_y_pred(df_pred['num_orders'],df_pred['pred'])\n",
    "print(mean_squared_error(target_test , predict, squared=False))"
   ]
  },
  {
   "cell_type": "markdown",
   "metadata": {},
   "source": [
    "\n",
    "Но она не смогла предугатать пиковые значения в августовские понедельники. Видимо для этого необходимо добавить признак который бы отражал влияние данного фактора.\n",
    "\n",
    "Линейные модели дали требуемое метрики и обучаются быстро - что позволит быстро делать прогнозы на следующий час.\n",
    "Видим что модель с градиентным бустингом показала результат лучше, но процесс обучения занимает в разы больше времени.\n",
    "\n",
    "\n",
    "Дополнительное направление для исследования может стать использование ARIMA модели - это модель, в которой временной ряд вычитался по крайней мере один раз, чтобы сделать его стационарным, и объединяются условия авторегрессии(AR) и скользящей средней(MA)."
   ]
  }
 ],
 "metadata": {
  "ExecuteTimeLog": [
   {
    "duration": 371,
    "start_time": "2022-05-19T06:10:01.323Z"
   },
   {
    "duration": 66,
    "start_time": "2022-05-19T06:10:19.281Z"
   },
   {
    "duration": 80,
    "start_time": "2022-05-19T06:10:31.494Z"
   },
   {
    "duration": 14,
    "start_time": "2022-05-19T06:10:54.906Z"
   },
   {
    "duration": 17,
    "start_time": "2022-05-19T06:11:30.392Z"
   },
   {
    "duration": 30,
    "start_time": "2022-05-19T06:13:17.188Z"
   },
   {
    "duration": 10,
    "start_time": "2022-05-19T06:13:18.259Z"
   },
   {
    "duration": 8,
    "start_time": "2022-05-19T06:13:23.316Z"
   },
   {
    "duration": 4,
    "start_time": "2022-05-19T06:14:28.280Z"
   },
   {
    "duration": 9,
    "start_time": "2022-05-19T06:14:59.276Z"
   },
   {
    "duration": 7,
    "start_time": "2022-05-19T06:16:16.282Z"
   },
   {
    "duration": 20,
    "start_time": "2022-05-19T06:20:30.139Z"
   },
   {
    "duration": 12,
    "start_time": "2022-05-19T06:23:05.770Z"
   },
   {
    "duration": 11,
    "start_time": "2022-05-19T06:24:07.078Z"
   },
   {
    "duration": 33,
    "start_time": "2022-05-19T06:25:15.663Z"
   },
   {
    "duration": 2,
    "start_time": "2022-05-19T06:25:16.109Z"
   },
   {
    "duration": 13,
    "start_time": "2022-05-19T06:25:16.483Z"
   },
   {
    "duration": 7,
    "start_time": "2022-05-19T06:25:17.348Z"
   },
   {
    "duration": 7,
    "start_time": "2022-05-19T06:25:18.320Z"
   },
   {
    "duration": 793,
    "start_time": "2022-05-19T06:29:48.343Z"
   },
   {
    "duration": 253,
    "start_time": "2022-05-19T06:30:32.678Z"
   },
   {
    "duration": 173,
    "start_time": "2022-05-19T06:30:38.525Z"
   },
   {
    "duration": 131,
    "start_time": "2022-05-19T06:31:02.784Z"
   },
   {
    "duration": 454,
    "start_time": "2022-05-19T10:40:39.581Z"
   },
   {
    "duration": 153,
    "start_time": "2022-05-19T10:40:40.037Z"
   },
   {
    "duration": 3,
    "start_time": "2022-05-19T10:40:40.192Z"
   },
   {
    "duration": 11,
    "start_time": "2022-05-19T10:40:40.236Z"
   },
   {
    "duration": 15,
    "start_time": "2022-05-19T10:40:40.983Z"
   },
   {
    "duration": 623,
    "start_time": "2022-05-19T10:40:41.212Z"
   },
   {
    "duration": 12,
    "start_time": "2022-05-19T10:42:47.457Z"
   },
   {
    "duration": 10,
    "start_time": "2022-05-19T10:46:58.727Z"
   },
   {
    "duration": 6,
    "start_time": "2022-05-19T12:13:37.377Z"
   },
   {
    "duration": 154,
    "start_time": "2022-05-19T12:15:52.616Z"
   },
   {
    "duration": 255,
    "start_time": "2022-05-19T12:16:02.749Z"
   },
   {
    "duration": 91,
    "start_time": "2022-05-19T12:25:54.925Z"
   },
   {
    "duration": 10,
    "start_time": "2022-05-19T12:25:59.829Z"
   },
   {
    "duration": 238,
    "start_time": "2022-05-19T12:26:07.183Z"
   },
   {
    "duration": 509,
    "start_time": "2022-05-19T12:26:33.789Z"
   },
   {
    "duration": 247,
    "start_time": "2022-05-19T12:26:42.699Z"
   },
   {
    "duration": 212,
    "start_time": "2022-05-19T13:08:51.843Z"
   },
   {
    "duration": 229,
    "start_time": "2022-05-19T13:09:14.193Z"
   },
   {
    "duration": 35,
    "start_time": "2022-05-19T13:09:27.841Z"
   },
   {
    "duration": 29,
    "start_time": "2022-05-19T13:09:34.872Z"
   },
   {
    "duration": 222,
    "start_time": "2022-05-19T13:09:52.671Z"
   },
   {
    "duration": 3,
    "start_time": "2022-05-19T13:14:02.545Z"
   },
   {
    "duration": 3,
    "start_time": "2022-05-19T13:14:33.437Z"
   },
   {
    "duration": 555,
    "start_time": "2022-05-19T13:15:16.366Z"
   },
   {
    "duration": 4,
    "start_time": "2022-05-19T13:15:32.582Z"
   },
   {
    "duration": 271,
    "start_time": "2022-05-19T13:15:33.713Z"
   },
   {
    "duration": 4,
    "start_time": "2022-05-19T13:16:59.218Z"
   },
   {
    "duration": 211,
    "start_time": "2022-05-19T13:17:00.218Z"
   },
   {
    "duration": 5,
    "start_time": "2022-05-19T13:19:28.390Z"
   },
   {
    "duration": 16,
    "start_time": "2022-05-19T13:19:29.179Z"
   },
   {
    "duration": 3,
    "start_time": "2022-05-19T13:19:47.664Z"
   },
   {
    "duration": 14,
    "start_time": "2022-05-19T13:19:51.425Z"
   },
   {
    "duration": 3,
    "start_time": "2022-05-19T13:21:34.897Z"
   },
   {
    "duration": 18,
    "start_time": "2022-05-19T13:21:35.495Z"
   },
   {
    "duration": 3,
    "start_time": "2022-05-19T13:22:29.257Z"
   },
   {
    "duration": 20,
    "start_time": "2022-05-19T13:22:30.255Z"
   },
   {
    "duration": 4,
    "start_time": "2022-05-19T13:22:37.959Z"
   },
   {
    "duration": 14,
    "start_time": "2022-05-19T13:22:38.442Z"
   },
   {
    "duration": 190,
    "start_time": "2022-05-19T13:24:47.353Z"
   },
   {
    "duration": 196,
    "start_time": "2022-05-19T13:25:06.383Z"
   },
   {
    "duration": 227,
    "start_time": "2022-05-19T13:25:32.006Z"
   },
   {
    "duration": 250,
    "start_time": "2022-05-19T13:26:01.662Z"
   },
   {
    "duration": 42,
    "start_time": "2022-05-19T13:27:04.881Z"
   },
   {
    "duration": 224,
    "start_time": "2022-05-19T13:27:11.935Z"
   },
   {
    "duration": 4,
    "start_time": "2022-05-19T13:31:11.993Z"
   },
   {
    "duration": 207,
    "start_time": "2022-05-19T13:31:13.353Z"
   },
   {
    "duration": 238,
    "start_time": "2022-05-19T13:31:30.148Z"
   },
   {
    "duration": 3,
    "start_time": "2022-05-19T13:32:25.750Z"
   },
   {
    "duration": 3,
    "start_time": "2022-05-19T13:32:33.879Z"
   },
   {
    "duration": 261,
    "start_time": "2022-05-19T13:32:34.932Z"
   },
   {
    "duration": 3,
    "start_time": "2022-05-19T13:33:16.853Z"
   },
   {
    "duration": 233,
    "start_time": "2022-05-19T13:33:19.900Z"
   },
   {
    "duration": 3,
    "start_time": "2022-05-19T15:27:38.829Z"
   },
   {
    "duration": 95,
    "start_time": "2022-05-19T15:27:39.084Z"
   },
   {
    "duration": 2,
    "start_time": "2022-05-19T15:27:39.273Z"
   },
   {
    "duration": 10,
    "start_time": "2022-05-19T15:27:39.415Z"
   },
   {
    "duration": 7,
    "start_time": "2022-05-19T15:27:39.765Z"
   },
   {
    "duration": 9,
    "start_time": "2022-05-19T15:27:39.933Z"
   },
   {
    "duration": 12,
    "start_time": "2022-05-19T15:27:40.100Z"
   },
   {
    "duration": 230,
    "start_time": "2022-05-19T15:27:40.277Z"
   },
   {
    "duration": 148,
    "start_time": "2022-05-19T15:27:40.814Z"
   },
   {
    "duration": 5,
    "start_time": "2022-05-19T15:27:41.595Z"
   },
   {
    "duration": 338,
    "start_time": "2022-05-19T15:27:41.764Z"
   },
   {
    "duration": 4,
    "start_time": "2022-05-19T16:38:36.424Z"
   },
   {
    "duration": 196,
    "start_time": "2022-05-19T16:39:46.091Z"
   },
   {
    "duration": 2,
    "start_time": "2022-05-19T16:40:25.148Z"
   },
   {
    "duration": 42,
    "start_time": "2022-05-19T16:40:25.293Z"
   },
   {
    "duration": 3,
    "start_time": "2022-05-19T16:40:25.400Z"
   },
   {
    "duration": 10,
    "start_time": "2022-05-19T16:40:25.650Z"
   },
   {
    "duration": 7,
    "start_time": "2022-05-19T16:40:25.870Z"
   },
   {
    "duration": 10,
    "start_time": "2022-05-19T16:40:25.972Z"
   },
   {
    "duration": 11,
    "start_time": "2022-05-19T16:40:26.101Z"
   },
   {
    "duration": 223,
    "start_time": "2022-05-19T16:40:26.194Z"
   },
   {
    "duration": 142,
    "start_time": "2022-05-19T16:40:26.509Z"
   },
   {
    "duration": 4,
    "start_time": "2022-05-19T16:40:27.391Z"
   },
   {
    "duration": 194,
    "start_time": "2022-05-19T16:40:27.540Z"
   },
   {
    "duration": 4,
    "start_time": "2022-05-19T16:40:29.647Z"
   },
   {
    "duration": 232,
    "start_time": "2022-05-19T16:40:58.404Z"
   },
   {
    "duration": 191,
    "start_time": "2022-05-19T16:41:06.283Z"
   },
   {
    "duration": 38,
    "start_time": "2022-05-19T16:42:43.351Z"
   },
   {
    "duration": 9,
    "start_time": "2022-05-19T16:42:46.945Z"
   },
   {
    "duration": 9,
    "start_time": "2022-05-19T16:43:01.826Z"
   },
   {
    "duration": 4,
    "start_time": "2022-05-19T16:43:47.420Z"
   },
   {
    "duration": 188,
    "start_time": "2022-05-19T16:43:52.769Z"
   },
   {
    "duration": 197,
    "start_time": "2022-05-19T16:46:46.920Z"
   },
   {
    "duration": 211,
    "start_time": "2022-05-19T16:46:52.140Z"
   },
   {
    "duration": 204,
    "start_time": "2022-05-19T16:47:03.234Z"
   },
   {
    "duration": 226,
    "start_time": "2022-05-19T16:47:13.890Z"
   },
   {
    "duration": 3,
    "start_time": "2022-05-19T16:50:26.788Z"
   },
   {
    "duration": 206,
    "start_time": "2022-05-19T16:50:27.580Z"
   },
   {
    "duration": 4,
    "start_time": "2022-05-19T16:50:34.098Z"
   },
   {
    "duration": 288,
    "start_time": "2022-05-19T16:50:34.671Z"
   },
   {
    "duration": 4,
    "start_time": "2022-05-19T16:50:41.389Z"
   },
   {
    "duration": 222,
    "start_time": "2022-05-19T16:50:42.096Z"
   },
   {
    "duration": 218,
    "start_time": "2022-05-19T17:32:39.244Z"
   },
   {
    "duration": 603,
    "start_time": "2022-05-19T17:33:46.875Z"
   },
   {
    "duration": 250,
    "start_time": "2022-05-19T17:34:03.978Z"
   },
   {
    "duration": 209,
    "start_time": "2022-05-19T17:35:17.317Z"
   },
   {
    "duration": 721,
    "start_time": "2022-05-19T17:36:20.693Z"
   },
   {
    "duration": 10,
    "start_time": "2022-05-19T17:38:41.149Z"
   },
   {
    "duration": 258,
    "start_time": "2022-05-19T17:38:56.444Z"
   },
   {
    "duration": 281,
    "start_time": "2022-05-19T17:39:15.706Z"
   },
   {
    "duration": 339,
    "start_time": "2022-05-19T17:39:23.979Z"
   },
   {
    "duration": 214,
    "start_time": "2022-05-19T17:40:16.515Z"
   },
   {
    "duration": 231,
    "start_time": "2022-05-19T17:40:25.701Z"
   },
   {
    "duration": 186,
    "start_time": "2022-05-19T17:40:37.885Z"
   },
   {
    "duration": 128,
    "start_time": "2022-05-19T17:40:44.652Z"
   },
   {
    "duration": 170,
    "start_time": "2022-05-19T17:43:11.825Z"
   },
   {
    "duration": 248,
    "start_time": "2022-05-19T17:43:18.198Z"
   },
   {
    "duration": 797,
    "start_time": "2022-05-19T17:47:26.357Z"
   },
   {
    "duration": 640,
    "start_time": "2022-05-19T17:47:58.272Z"
   },
   {
    "duration": 225,
    "start_time": "2022-05-19T18:00:22.509Z"
   },
   {
    "duration": 41,
    "start_time": "2022-05-19T18:02:52.753Z"
   },
   {
    "duration": 5,
    "start_time": "2022-05-19T18:02:55.051Z"
   },
   {
    "duration": 4,
    "start_time": "2022-05-19T18:07:08.282Z"
   },
   {
    "duration": 6,
    "start_time": "2022-05-19T18:07:33.940Z"
   },
   {
    "duration": 4,
    "start_time": "2022-05-19T18:14:37.766Z"
   },
   {
    "duration": 41,
    "start_time": "2022-05-19T18:35:05.220Z"
   },
   {
    "duration": 8,
    "start_time": "2022-05-19T18:35:08.187Z"
   },
   {
    "duration": 9534,
    "start_time": "2022-05-19T18:35:27.323Z"
   },
   {
    "duration": 3,
    "start_time": "2022-05-19T18:36:39.752Z"
   },
   {
    "duration": 909,
    "start_time": "2022-05-19T18:36:41.425Z"
   },
   {
    "duration": 4,
    "start_time": "2022-05-19T18:37:46.558Z"
   },
   {
    "duration": 498,
    "start_time": "2022-05-19T18:37:47.175Z"
   },
   {
    "duration": 5,
    "start_time": "2022-05-19T18:38:48.445Z"
   },
   {
    "duration": 483,
    "start_time": "2022-05-19T18:38:49.245Z"
   },
   {
    "duration": 3,
    "start_time": "2022-05-19T18:39:44.881Z"
   },
   {
    "duration": 649,
    "start_time": "2022-05-19T18:39:45.411Z"
   },
   {
    "duration": 3,
    "start_time": "2022-05-19T18:40:27.757Z"
   },
   {
    "duration": 2918,
    "start_time": "2022-05-19T18:40:28.201Z"
   },
   {
    "duration": 4,
    "start_time": "2022-05-19T18:42:11.646Z"
   },
   {
    "duration": 19,
    "start_time": "2022-05-19T18:42:12.177Z"
   },
   {
    "duration": 4,
    "start_time": "2022-05-19T18:42:21.869Z"
   },
   {
    "duration": 17,
    "start_time": "2022-05-19T18:42:22.349Z"
   },
   {
    "duration": 4,
    "start_time": "2022-05-19T18:42:33.609Z"
   },
   {
    "duration": 16,
    "start_time": "2022-05-19T18:42:34.377Z"
   },
   {
    "duration": 4,
    "start_time": "2022-05-19T18:42:40.827Z"
   },
   {
    "duration": 461,
    "start_time": "2022-05-19T18:42:41.617Z"
   },
   {
    "duration": 3,
    "start_time": "2022-05-19T18:43:23.057Z"
   },
   {
    "duration": 453,
    "start_time": "2022-05-19T18:43:23.885Z"
   },
   {
    "duration": 6,
    "start_time": "2022-05-19T18:44:21.800Z"
   },
   {
    "duration": 5,
    "start_time": "2022-05-19T18:44:22.997Z"
   },
   {
    "duration": 7,
    "start_time": "2022-05-19T18:44:28.377Z"
   },
   {
    "duration": 14,
    "start_time": "2022-05-19T18:44:31.520Z"
   },
   {
    "duration": 17,
    "start_time": "2022-05-19T18:45:07.816Z"
   },
   {
    "duration": 6,
    "start_time": "2022-05-19T18:47:15.590Z"
   },
   {
    "duration": 28,
    "start_time": "2022-05-19T19:56:04.845Z"
   },
   {
    "duration": 36,
    "start_time": "2022-05-19T19:56:11.291Z"
   },
   {
    "duration": 3,
    "start_time": "2022-05-19T19:56:53.223Z"
   },
   {
    "duration": 3,
    "start_time": "2022-05-19T19:57:28.726Z"
   },
   {
    "duration": 3,
    "start_time": "2022-05-19T19:57:50.189Z"
   },
   {
    "duration": 26,
    "start_time": "2022-05-19T19:59:24.674Z"
   },
   {
    "duration": 10,
    "start_time": "2022-05-19T19:59:32.548Z"
   },
   {
    "duration": 4,
    "start_time": "2022-05-19T20:00:34.055Z"
   },
   {
    "duration": 10,
    "start_time": "2022-05-19T20:02:19.075Z"
   },
   {
    "duration": 17,
    "start_time": "2022-05-19T20:02:40.613Z"
   },
   {
    "duration": 16,
    "start_time": "2022-05-19T20:03:22.130Z"
   },
   {
    "duration": 6,
    "start_time": "2022-05-19T20:03:36.292Z"
   },
   {
    "duration": 5,
    "start_time": "2022-05-19T20:03:36.720Z"
   },
   {
    "duration": 9,
    "start_time": "2022-05-19T20:03:37.153Z"
   },
   {
    "duration": 16,
    "start_time": "2022-05-19T20:03:39.313Z"
   },
   {
    "duration": 12,
    "start_time": "2022-05-19T20:04:05.876Z"
   },
   {
    "duration": 8,
    "start_time": "2022-05-19T20:05:02.373Z"
   },
   {
    "duration": 4,
    "start_time": "2022-05-19T20:05:03.170Z"
   },
   {
    "duration": 11,
    "start_time": "2022-05-19T20:05:03.572Z"
   },
   {
    "duration": 10,
    "start_time": "2022-05-19T20:05:07.478Z"
   },
   {
    "duration": 8,
    "start_time": "2022-05-19T20:05:09.649Z"
   },
   {
    "duration": 11,
    "start_time": "2022-05-19T20:05:24.278Z"
   },
   {
    "duration": 10,
    "start_time": "2022-05-19T20:05:33.065Z"
   },
   {
    "duration": 6,
    "start_time": "2022-05-19T20:05:37.864Z"
   },
   {
    "duration": 8,
    "start_time": "2022-05-19T20:06:15.919Z"
   },
   {
    "duration": 5,
    "start_time": "2022-05-19T20:06:16.296Z"
   },
   {
    "duration": 11,
    "start_time": "2022-05-19T20:06:16.665Z"
   },
   {
    "duration": 7,
    "start_time": "2022-05-19T20:06:17.003Z"
   },
   {
    "duration": 50,
    "start_time": "2022-05-19T20:06:18.466Z"
   },
   {
    "duration": 7,
    "start_time": "2022-05-19T20:06:25.874Z"
   },
   {
    "duration": 12,
    "start_time": "2022-05-19T20:06:35.587Z"
   },
   {
    "duration": 12,
    "start_time": "2022-05-19T20:06:55.169Z"
   },
   {
    "duration": 4,
    "start_time": "2022-05-19T20:07:21.997Z"
   },
   {
    "duration": 4,
    "start_time": "2022-05-19T20:08:02.008Z"
   },
   {
    "duration": 11,
    "start_time": "2022-05-19T20:09:35.816Z"
   },
   {
    "duration": 13,
    "start_time": "2022-05-19T20:09:46.868Z"
   },
   {
    "duration": 9,
    "start_time": "2022-05-19T20:09:55.970Z"
   },
   {
    "duration": 11,
    "start_time": "2022-05-19T20:09:58.385Z"
   },
   {
    "duration": 3,
    "start_time": "2022-05-19T20:10:12.158Z"
   },
   {
    "duration": 34,
    "start_time": "2022-05-19T20:10:24.875Z"
   },
   {
    "duration": 10,
    "start_time": "2022-05-19T20:10:32.992Z"
   },
   {
    "duration": 80,
    "start_time": "2022-05-19T20:11:17.322Z"
   },
   {
    "duration": 11,
    "start_time": "2022-05-19T20:11:23.489Z"
   },
   {
    "duration": 16,
    "start_time": "2022-05-19T20:20:49.164Z"
   },
   {
    "duration": 37,
    "start_time": "2022-05-19T20:21:02.368Z"
   },
   {
    "duration": 72,
    "start_time": "2022-05-19T20:21:57.444Z"
   },
   {
    "duration": 14,
    "start_time": "2022-05-19T20:22:02.516Z"
   },
   {
    "duration": 18,
    "start_time": "2022-05-19T20:22:08.586Z"
   },
   {
    "duration": 13,
    "start_time": "2022-05-19T20:22:22.745Z"
   },
   {
    "duration": 12,
    "start_time": "2022-05-19T20:24:53.573Z"
   },
   {
    "duration": 5,
    "start_time": "2022-05-19T20:24:55.276Z"
   },
   {
    "duration": 777,
    "start_time": "2022-05-19T20:26:08.564Z"
   },
   {
    "duration": 563,
    "start_time": "2022-05-19T20:26:20.156Z"
   },
   {
    "duration": 157,
    "start_time": "2022-05-19T20:26:20.720Z"
   },
   {
    "duration": 3,
    "start_time": "2022-05-19T20:26:20.879Z"
   },
   {
    "duration": 16,
    "start_time": "2022-05-19T20:26:20.884Z"
   },
   {
    "duration": 10,
    "start_time": "2022-05-19T20:26:20.901Z"
   },
   {
    "duration": 9,
    "start_time": "2022-05-19T20:26:20.913Z"
   },
   {
    "duration": 97,
    "start_time": "2022-05-19T20:26:21.072Z"
   },
   {
    "duration": 323,
    "start_time": "2022-05-19T20:26:21.174Z"
   },
   {
    "duration": 170,
    "start_time": "2022-05-19T20:26:21.502Z"
   },
   {
    "duration": 651,
    "start_time": "2022-05-19T20:26:21.752Z"
   },
   {
    "duration": 5,
    "start_time": "2022-05-19T20:26:22.405Z"
   },
   {
    "duration": 359,
    "start_time": "2022-05-19T20:26:22.412Z"
   },
   {
    "duration": 3,
    "start_time": "2022-05-19T20:26:22.857Z"
   },
   {
    "duration": 196,
    "start_time": "2022-05-19T20:26:22.966Z"
   },
   {
    "duration": 5,
    "start_time": "2022-05-19T20:26:23.604Z"
   },
   {
    "duration": 4,
    "start_time": "2022-05-19T20:26:23.760Z"
   },
   {
    "duration": 11,
    "start_time": "2022-05-19T20:26:23.989Z"
   },
   {
    "duration": 18,
    "start_time": "2022-05-19T20:26:24.110Z"
   },
   {
    "duration": 10,
    "start_time": "2022-05-19T20:26:24.256Z"
   },
   {
    "duration": 5,
    "start_time": "2022-05-19T20:26:24.382Z"
   },
   {
    "duration": 92,
    "start_time": "2022-05-19T20:26:24.512Z"
   },
   {
    "duration": 11,
    "start_time": "2022-05-19T20:26:24.884Z"
   },
   {
    "duration": 15,
    "start_time": "2022-05-19T20:26:25.152Z"
   },
   {
    "duration": 69,
    "start_time": "2022-05-19T20:26:25.306Z"
   },
   {
    "duration": 4331,
    "start_time": "2022-05-19T20:26:25.481Z"
   },
   {
    "duration": 101,
    "start_time": "2022-05-19T20:26:29.903Z"
   },
   {
    "duration": 96,
    "start_time": "2022-05-19T20:26:30.007Z"
   },
   {
    "duration": 397,
    "start_time": "2022-05-19T20:26:39.418Z"
   },
   {
    "duration": 183142,
    "start_time": "2022-05-19T20:26:40.761Z"
   },
   {
    "duration": 169,
    "start_time": "2022-05-19T20:33:08.958Z"
   },
   {
    "duration": 79487,
    "start_time": "2022-05-19T20:33:10.116Z"
   },
   {
    "duration": 104,
    "start_time": "2022-05-19T20:34:29.606Z"
   },
   {
    "duration": 99,
    "start_time": "2022-05-19T20:34:29.712Z"
   },
   {
    "duration": 41,
    "start_time": "2022-05-19T20:44:00.612Z"
   },
   {
    "duration": 9,
    "start_time": "2022-05-19T20:44:04.737Z"
   },
   {
    "duration": 7,
    "start_time": "2022-05-19T20:47:17.473Z"
   },
   {
    "duration": 5,
    "start_time": "2022-05-19T20:47:29.489Z"
   },
   {
    "duration": 9,
    "start_time": "2022-05-19T20:50:48.682Z"
   },
   {
    "duration": 6,
    "start_time": "2022-05-19T20:50:49.384Z"
   },
   {
    "duration": 4,
    "start_time": "2022-05-19T20:50:54.027Z"
   },
   {
    "duration": 9,
    "start_time": "2022-05-19T20:50:55.454Z"
   },
   {
    "duration": 4,
    "start_time": "2022-05-19T20:50:56.012Z"
   },
   {
    "duration": 1133,
    "start_time": "2022-05-19T20:51:27.366Z"
   },
   {
    "duration": 48,
    "start_time": "2022-05-19T20:51:28.501Z"
   },
   {
    "duration": 3,
    "start_time": "2022-05-19T20:51:28.550Z"
   },
   {
    "duration": 13,
    "start_time": "2022-05-19T20:51:28.555Z"
   },
   {
    "duration": 74,
    "start_time": "2022-05-19T20:51:28.570Z"
   },
   {
    "duration": 9,
    "start_time": "2022-05-19T20:51:28.645Z"
   },
   {
    "duration": 17,
    "start_time": "2022-05-19T20:51:28.655Z"
   },
   {
    "duration": 233,
    "start_time": "2022-05-19T20:51:28.797Z"
   },
   {
    "duration": 177,
    "start_time": "2022-05-19T20:51:29.619Z"
   },
   {
    "duration": 596,
    "start_time": "2022-05-19T20:51:29.968Z"
   },
   {
    "duration": 4,
    "start_time": "2022-05-19T20:51:30.750Z"
   },
   {
    "duration": 377,
    "start_time": "2022-05-19T20:51:30.944Z"
   },
   {
    "duration": 4,
    "start_time": "2022-05-19T20:51:31.967Z"
   },
   {
    "duration": 206,
    "start_time": "2022-05-19T20:51:32.155Z"
   },
   {
    "duration": 5,
    "start_time": "2022-05-19T20:51:33.925Z"
   },
   {
    "duration": 4,
    "start_time": "2022-05-19T20:51:34.329Z"
   },
   {
    "duration": 9,
    "start_time": "2022-05-19T20:51:34.962Z"
   },
   {
    "duration": 16,
    "start_time": "2022-05-19T20:51:35.589Z"
   },
   {
    "duration": 9,
    "start_time": "2022-05-19T20:51:36.239Z"
   },
   {
    "duration": 119,
    "start_time": "2022-05-19T20:51:36.846Z"
   },
   {
    "duration": 4,
    "start_time": "2022-05-19T20:52:05.257Z"
   },
   {
    "duration": 4,
    "start_time": "2022-05-19T20:52:13.696Z"
   },
   {
    "duration": 9,
    "start_time": "2022-05-19T20:52:29.417Z"
   },
   {
    "duration": 12,
    "start_time": "2022-05-19T20:53:05.954Z"
   },
   {
    "duration": 11,
    "start_time": "2022-05-19T20:53:08.381Z"
   },
   {
    "duration": 11,
    "start_time": "2022-05-19T20:53:33.159Z"
   },
   {
    "duration": 9,
    "start_time": "2022-05-19T20:54:03.547Z"
   },
   {
    "duration": 86,
    "start_time": "2022-05-19T20:55:32.721Z"
   },
   {
    "duration": 9,
    "start_time": "2022-05-19T20:55:47.570Z"
   },
   {
    "duration": 66433,
    "start_time": "2022-05-19T20:56:01.270Z"
   },
   {
    "duration": 101,
    "start_time": "2022-05-19T20:57:07.706Z"
   },
   {
    "duration": 97,
    "start_time": "2022-05-19T20:57:07.810Z"
   },
   {
    "duration": 9,
    "start_time": "2022-05-19T20:57:23.141Z"
   },
   {
    "duration": 9,
    "start_time": "2022-05-19T20:57:37.751Z"
   },
   {
    "duration": 9,
    "start_time": "2022-05-19T20:58:18.132Z"
   },
   {
    "duration": 9,
    "start_time": "2022-05-19T20:58:24.476Z"
   },
   {
    "duration": 3,
    "start_time": "2022-05-19T20:58:24.845Z"
   },
   {
    "duration": 10,
    "start_time": "2022-05-19T20:58:25.615Z"
   },
   {
    "duration": 89,
    "start_time": "2022-05-19T20:58:26.002Z"
   },
   {
    "duration": 71605,
    "start_time": "2022-05-19T20:58:26.399Z"
   },
   {
    "duration": 100,
    "start_time": "2022-05-19T20:59:38.006Z"
   },
   {
    "duration": 9,
    "start_time": "2022-05-19T20:59:38.201Z"
   },
   {
    "duration": 1105,
    "start_time": "2022-05-19T21:00:05.676Z"
   },
   {
    "duration": 46,
    "start_time": "2022-05-19T21:00:06.783Z"
   },
   {
    "duration": 3,
    "start_time": "2022-05-19T21:00:06.830Z"
   },
   {
    "duration": 14,
    "start_time": "2022-05-19T21:00:06.835Z"
   },
   {
    "duration": 86,
    "start_time": "2022-05-19T21:00:06.850Z"
   },
   {
    "duration": 9,
    "start_time": "2022-05-19T21:00:06.938Z"
   },
   {
    "duration": 15,
    "start_time": "2022-05-19T21:00:06.948Z"
   },
   {
    "duration": 250,
    "start_time": "2022-05-19T21:00:06.965Z"
   },
   {
    "duration": 190,
    "start_time": "2022-05-19T21:00:07.217Z"
   },
   {
    "duration": 576,
    "start_time": "2022-05-19T21:00:07.410Z"
   },
   {
    "duration": 13,
    "start_time": "2022-05-19T21:00:07.989Z"
   },
   {
    "duration": 320,
    "start_time": "2022-05-19T21:00:08.004Z"
   },
   {
    "duration": 4,
    "start_time": "2022-05-19T21:00:08.326Z"
   },
   {
    "duration": 234,
    "start_time": "2022-05-19T21:00:08.333Z"
   },
   {
    "duration": 6,
    "start_time": "2022-05-19T21:00:08.569Z"
   },
   {
    "duration": 5,
    "start_time": "2022-05-19T21:00:08.576Z"
   },
   {
    "duration": 30,
    "start_time": "2022-05-19T21:00:08.582Z"
   },
   {
    "duration": 19,
    "start_time": "2022-05-19T21:00:08.614Z"
   },
   {
    "duration": 19,
    "start_time": "2022-05-19T21:00:08.635Z"
   },
   {
    "duration": 4,
    "start_time": "2022-05-19T21:00:08.656Z"
   },
   {
    "duration": 41,
    "start_time": "2022-05-19T21:00:08.661Z"
   },
   {
    "duration": 162,
    "start_time": "2022-05-19T21:00:08.704Z"
   },
   {
    "duration": 84636,
    "start_time": "2022-05-19T21:00:08.867Z"
   },
   {
    "duration": 100,
    "start_time": "2022-05-19T21:01:33.505Z"
   },
   {
    "duration": 99,
    "start_time": "2022-05-19T21:01:33.611Z"
   },
   {
    "duration": 41,
    "start_time": "2022-05-19T21:02:21.536Z"
   },
   {
    "duration": 3681,
    "start_time": "2022-05-19T21:02:21.730Z"
   },
   {
    "duration": 101,
    "start_time": "2022-05-19T21:02:25.504Z"
   },
   {
    "duration": 104,
    "start_time": "2022-05-19T21:02:25.609Z"
   },
   {
    "duration": 10,
    "start_time": "2022-05-19T21:02:47.074Z"
   },
   {
    "duration": 33,
    "start_time": "2022-05-19T21:02:47.375Z"
   },
   {
    "duration": 45,
    "start_time": "2022-05-19T21:02:55.677Z"
   },
   {
    "duration": 6141,
    "start_time": "2022-05-19T21:02:56.166Z"
   },
   {
    "duration": 11,
    "start_time": "2022-05-19T21:03:07.686Z"
   },
   {
    "duration": 29,
    "start_time": "2022-05-19T21:03:08.284Z"
   },
   {
    "duration": 10,
    "start_time": "2022-05-19T21:05:24.109Z"
   },
   {
    "duration": 6,
    "start_time": "2022-05-19T21:05:55.320Z"
   },
   {
    "duration": 105,
    "start_time": "2022-05-19T21:06:25.876Z"
   },
   {
    "duration": 6,
    "start_time": "2022-05-19T21:07:06.422Z"
   },
   {
    "duration": 20,
    "start_time": "2022-05-19T21:07:16.509Z"
   },
   {
    "duration": 15,
    "start_time": "2022-05-19T21:07:31.371Z"
   },
   {
    "duration": 5,
    "start_time": "2022-05-19T21:07:44.450Z"
   },
   {
    "duration": 5,
    "start_time": "2022-05-19T21:08:05.902Z"
   },
   {
    "duration": 19,
    "start_time": "2022-05-19T21:08:10.173Z"
   },
   {
    "duration": 4,
    "start_time": "2022-05-19T21:08:20.421Z"
   },
   {
    "duration": 6,
    "start_time": "2022-05-19T21:08:25.353Z"
   },
   {
    "duration": 7,
    "start_time": "2022-05-19T21:08:28.306Z"
   },
   {
    "duration": 9,
    "start_time": "2022-05-19T21:08:40.525Z"
   },
   {
    "duration": 6,
    "start_time": "2022-05-19T21:08:40.862Z"
   },
   {
    "duration": 6,
    "start_time": "2022-05-19T21:08:41.521Z"
   },
   {
    "duration": 7,
    "start_time": "2022-05-19T21:09:34.771Z"
   },
   {
    "duration": 2,
    "start_time": "2022-05-19T21:09:40.490Z"
   },
   {
    "duration": 7,
    "start_time": "2022-05-19T21:09:42.851Z"
   },
   {
    "duration": 4,
    "start_time": "2022-05-19T21:10:07.493Z"
   },
   {
    "duration": 5,
    "start_time": "2022-05-19T21:10:27.766Z"
   },
   {
    "duration": 6,
    "start_time": "2022-05-19T21:10:36.950Z"
   },
   {
    "duration": 7,
    "start_time": "2022-05-19T21:10:38.881Z"
   },
   {
    "duration": 2,
    "start_time": "2022-05-19T21:10:45.320Z"
   },
   {
    "duration": 7,
    "start_time": "2022-05-19T21:10:45.716Z"
   },
   {
    "duration": 6,
    "start_time": "2022-05-19T21:10:47.419Z"
   },
   {
    "duration": 3,
    "start_time": "2022-05-19T21:11:06.495Z"
   },
   {
    "duration": 16,
    "start_time": "2022-05-19T21:11:07.411Z"
   },
   {
    "duration": 18,
    "start_time": "2022-05-19T21:11:09.389Z"
   },
   {
    "duration": 2,
    "start_time": "2022-05-19T21:11:22.699Z"
   },
   {
    "duration": 6,
    "start_time": "2022-05-19T21:11:23.397Z"
   },
   {
    "duration": 23,
    "start_time": "2022-05-19T21:11:24.550Z"
   },
   {
    "duration": 5,
    "start_time": "2022-05-19T21:11:33.855Z"
   },
   {
    "duration": 8,
    "start_time": "2022-05-19T21:11:50.551Z"
   },
   {
    "duration": 21,
    "start_time": "2022-05-19T21:11:52.317Z"
   },
   {
    "duration": 34,
    "start_time": "2022-05-19T21:13:41.181Z"
   },
   {
    "duration": 8,
    "start_time": "2022-05-19T21:13:44.751Z"
   },
   {
    "duration": 11,
    "start_time": "2022-05-19T21:13:48.061Z"
   },
   {
    "duration": 6,
    "start_time": "2022-05-19T21:14:29.228Z"
   },
   {
    "duration": 16,
    "start_time": "2022-05-19T21:15:47.873Z"
   },
   {
    "duration": 18,
    "start_time": "2022-05-19T21:15:56.645Z"
   },
   {
    "duration": 18,
    "start_time": "2022-05-19T21:16:02.550Z"
   },
   {
    "duration": 8,
    "start_time": "2022-05-19T21:16:07.055Z"
   },
   {
    "duration": 12,
    "start_time": "2022-05-19T21:16:12.233Z"
   },
   {
    "duration": 4,
    "start_time": "2022-05-19T21:16:21.477Z"
   },
   {
    "duration": 5,
    "start_time": "2022-05-19T21:16:26.687Z"
   },
   {
    "duration": 9,
    "start_time": "2022-05-19T21:16:27.687Z"
   },
   {
    "duration": 6,
    "start_time": "2022-05-19T21:16:46.136Z"
   },
   {
    "duration": 11,
    "start_time": "2022-05-19T21:16:52.003Z"
   },
   {
    "duration": 3,
    "start_time": "2022-05-19T21:17:09.109Z"
   },
   {
    "duration": 38,
    "start_time": "2022-05-19T21:17:10.091Z"
   },
   {
    "duration": 7,
    "start_time": "2022-05-19T21:17:19.999Z"
   },
   {
    "duration": 3,
    "start_time": "2022-05-19T21:17:32.230Z"
   },
   {
    "duration": 13,
    "start_time": "2022-05-19T21:17:36.192Z"
   },
   {
    "duration": 3,
    "start_time": "2022-05-19T21:17:58.247Z"
   },
   {
    "duration": 11,
    "start_time": "2022-05-19T21:17:59.250Z"
   },
   {
    "duration": 264,
    "start_time": "2022-05-19T21:18:15.723Z"
   },
   {
    "duration": 357,
    "start_time": "2022-05-19T21:18:45.879Z"
   },
   {
    "duration": 13,
    "start_time": "2022-05-19T21:20:14.335Z"
   },
   {
    "duration": 226,
    "start_time": "2022-05-19T21:20:19.098Z"
   },
   {
    "duration": 206,
    "start_time": "2022-05-19T21:20:52.242Z"
   },
   {
    "duration": 207,
    "start_time": "2022-05-19T21:22:34.362Z"
   },
   {
    "duration": 146,
    "start_time": "2022-05-19T21:22:49.722Z"
   },
   {
    "duration": 184,
    "start_time": "2022-05-19T21:23:02.143Z"
   },
   {
    "duration": 228,
    "start_time": "2022-05-19T21:23:25.495Z"
   },
   {
    "duration": 12,
    "start_time": "2022-05-19T21:24:18.840Z"
   },
   {
    "duration": 222,
    "start_time": "2022-05-19T21:24:19.180Z"
   },
   {
    "duration": 238,
    "start_time": "2022-05-19T21:24:20.357Z"
   },
   {
    "duration": 391,
    "start_time": "2022-05-20T05:03:44.017Z"
   },
   {
    "duration": 499,
    "start_time": "2022-05-20T05:03:51.687Z"
   },
   {
    "duration": 11,
    "start_time": "2022-05-20T05:05:42.836Z"
   },
   {
    "duration": 227,
    "start_time": "2022-05-20T05:05:45.517Z"
   },
   {
    "duration": 202,
    "start_time": "2022-05-20T05:06:27.929Z"
   },
   {
    "duration": 53,
    "start_time": "2022-05-20T05:13:00.306Z"
   },
   {
    "duration": 32,
    "start_time": "2022-05-20T05:13:09.325Z"
   },
   {
    "duration": 5,
    "start_time": "2022-05-20T05:13:58.365Z"
   },
   {
    "duration": 3,
    "start_time": "2022-05-20T05:14:53.627Z"
   },
   {
    "duration": 187,
    "start_time": "2022-05-20T05:15:15.920Z"
   },
   {
    "duration": 3,
    "start_time": "2022-05-20T05:15:57.246Z"
   },
   {
    "duration": 197,
    "start_time": "2022-05-20T05:15:59.336Z"
   },
   {
    "duration": 3,
    "start_time": "2022-05-20T05:16:35.713Z"
   },
   {
    "duration": 206,
    "start_time": "2022-05-20T05:16:37.122Z"
   },
   {
    "duration": 4,
    "start_time": "2022-05-20T06:48:06.704Z"
   },
   {
    "duration": 44,
    "start_time": "2022-05-20T06:48:06.850Z"
   },
   {
    "duration": 2,
    "start_time": "2022-05-20T06:48:07.023Z"
   },
   {
    "duration": 10,
    "start_time": "2022-05-20T06:48:07.175Z"
   },
   {
    "duration": 7,
    "start_time": "2022-05-20T06:48:07.502Z"
   },
   {
    "duration": 9,
    "start_time": "2022-05-20T06:48:07.674Z"
   },
   {
    "duration": 11,
    "start_time": "2022-05-20T06:48:07.904Z"
   },
   {
    "duration": 322,
    "start_time": "2022-05-20T06:48:08.112Z"
   },
   {
    "duration": 189,
    "start_time": "2022-05-20T06:48:08.656Z"
   },
   {
    "duration": 554,
    "start_time": "2022-05-20T06:48:09.007Z"
   },
   {
    "duration": 4,
    "start_time": "2022-05-20T06:48:09.563Z"
   },
   {
    "duration": 217,
    "start_time": "2022-05-20T06:48:09.572Z"
   },
   {
    "duration": 3,
    "start_time": "2022-05-20T06:48:10.070Z"
   },
   {
    "duration": 197,
    "start_time": "2022-05-20T06:48:10.252Z"
   },
   {
    "duration": 5,
    "start_time": "2022-05-20T06:48:10.956Z"
   },
   {
    "duration": 4,
    "start_time": "2022-05-20T06:48:11.150Z"
   },
   {
    "duration": 11,
    "start_time": "2022-05-20T06:48:11.312Z"
   },
   {
    "duration": 16,
    "start_time": "2022-05-20T06:48:11.497Z"
   },
   {
    "duration": 11,
    "start_time": "2022-05-20T06:48:11.675Z"
   },
   {
    "duration": 4,
    "start_time": "2022-05-20T06:48:11.850Z"
   },
   {
    "duration": 4,
    "start_time": "2022-05-20T06:48:12.245Z"
   },
   {
    "duration": 10,
    "start_time": "2022-05-20T06:48:12.403Z"
   },
   {
    "duration": 195,
    "start_time": "2022-05-20T06:48:12.592Z"
   },
   {
    "duration": 220,
    "start_time": "2022-05-20T06:48:12.983Z"
   },
   {
    "duration": 190,
    "start_time": "2022-05-20T06:49:08.886Z"
   },
   {
    "duration": 13,
    "start_time": "2022-05-20T08:39:43.965Z"
   },
   {
    "duration": 18,
    "start_time": "2022-05-20T08:41:03.736Z"
   },
   {
    "duration": 218,
    "start_time": "2022-05-20T08:41:06.960Z"
   },
   {
    "duration": 207,
    "start_time": "2022-05-20T08:42:31.564Z"
   },
   {
    "duration": 4,
    "start_time": "2022-05-20T08:43:31.968Z"
   },
   {
    "duration": 357,
    "start_time": "2022-05-20T08:43:35.152Z"
   },
   {
    "duration": 7,
    "start_time": "2022-05-20T08:46:31.928Z"
   },
   {
    "duration": 7,
    "start_time": "2022-05-20T08:48:43.312Z"
   },
   {
    "duration": 44,
    "start_time": "2022-05-20T08:48:46.502Z"
   },
   {
    "duration": 4,
    "start_time": "2022-05-20T08:49:10.970Z"
   },
   {
    "duration": 254,
    "start_time": "2022-05-20T08:49:14.700Z"
   },
   {
    "duration": 79,
    "start_time": "2022-05-20T09:58:15.373Z"
   },
   {
    "duration": 10,
    "start_time": "2022-05-20T09:58:26.618Z"
   },
   {
    "duration": 146,
    "start_time": "2022-05-20T09:58:39.458Z"
   },
   {
    "duration": 211,
    "start_time": "2022-05-20T10:01:42.901Z"
   },
   {
    "duration": 1229,
    "start_time": "2022-05-20T10:02:09.607Z"
   },
   {
    "duration": 50,
    "start_time": "2022-05-20T10:02:10.838Z"
   },
   {
    "duration": 2,
    "start_time": "2022-05-20T10:02:10.890Z"
   },
   {
    "duration": 39,
    "start_time": "2022-05-20T10:02:10.894Z"
   },
   {
    "duration": 89,
    "start_time": "2022-05-20T10:02:10.935Z"
   },
   {
    "duration": 16,
    "start_time": "2022-05-20T10:02:11.026Z"
   },
   {
    "duration": 20,
    "start_time": "2022-05-20T10:02:11.044Z"
   },
   {
    "duration": 361,
    "start_time": "2022-05-20T10:02:11.066Z"
   },
   {
    "duration": 234,
    "start_time": "2022-05-20T10:02:11.429Z"
   },
   {
    "duration": 683,
    "start_time": "2022-05-20T10:02:11.666Z"
   },
   {
    "duration": 4,
    "start_time": "2022-05-20T10:02:12.351Z"
   },
   {
    "duration": 360,
    "start_time": "2022-05-20T10:02:12.357Z"
   },
   {
    "duration": 4,
    "start_time": "2022-05-20T10:02:12.719Z"
   },
   {
    "duration": 242,
    "start_time": "2022-05-20T10:02:12.725Z"
   },
   {
    "duration": 5,
    "start_time": "2022-05-20T10:02:12.969Z"
   },
   {
    "duration": 4,
    "start_time": "2022-05-20T10:02:12.976Z"
   },
   {
    "duration": 24,
    "start_time": "2022-05-20T10:02:12.982Z"
   },
   {
    "duration": 18,
    "start_time": "2022-05-20T10:02:13.008Z"
   },
   {
    "duration": 10,
    "start_time": "2022-05-20T10:02:13.028Z"
   },
   {
    "duration": 4,
    "start_time": "2022-05-20T10:02:13.041Z"
   },
   {
    "duration": 5,
    "start_time": "2022-05-20T10:02:13.047Z"
   },
   {
    "duration": 53,
    "start_time": "2022-05-20T10:02:13.053Z"
   },
   {
    "duration": 331,
    "start_time": "2022-05-20T10:02:13.108Z"
   },
   {
    "duration": 11,
    "start_time": "2022-05-20T10:02:13.441Z"
   },
   {
    "duration": 359,
    "start_time": "2022-05-20T10:02:13.454Z"
   },
   {
    "duration": 290,
    "start_time": "2022-05-20T10:02:13.815Z"
   },
   {
    "duration": 407,
    "start_time": "2022-05-20T10:02:14.107Z"
   },
   {
    "duration": 196,
    "start_time": "2022-05-20T10:02:14.517Z"
   },
   {
    "duration": 305,
    "start_time": "2022-05-20T10:28:13.508Z"
   },
   {
    "duration": 135,
    "start_time": "2022-05-20T10:28:21.779Z"
   },
   {
    "duration": 210,
    "start_time": "2022-05-20T10:28:51.596Z"
   },
   {
    "duration": 46,
    "start_time": "2022-05-20T10:30:37.703Z"
   },
   {
    "duration": 64,
    "start_time": "2022-05-20T10:30:44.255Z"
   },
   {
    "duration": 190,
    "start_time": "2022-05-20T10:30:55.318Z"
   },
   {
    "duration": 54,
    "start_time": "2022-05-20T10:31:29.269Z"
   },
   {
    "duration": 28,
    "start_time": "2022-05-20T10:31:58.079Z"
   },
   {
    "duration": 188,
    "start_time": "2022-05-20T10:32:20.215Z"
   },
   {
    "duration": 4,
    "start_time": "2022-05-20T10:33:12.072Z"
   },
   {
    "duration": 12,
    "start_time": "2022-05-20T10:35:13.260Z"
   },
   {
    "duration": 970,
    "start_time": "2022-05-20T10:35:18.033Z"
   },
   {
    "duration": 210,
    "start_time": "2022-05-20T10:37:38.593Z"
   },
   {
    "duration": 196,
    "start_time": "2022-05-20T10:37:49.614Z"
   },
   {
    "duration": 81,
    "start_time": "2022-05-20T10:37:50.928Z"
   },
   {
    "duration": 205,
    "start_time": "2022-05-20T10:37:51.499Z"
   },
   {
    "duration": 151,
    "start_time": "2022-05-20T10:37:52.156Z"
   },
   {
    "duration": 175,
    "start_time": "2022-05-20T10:37:52.733Z"
   },
   {
    "duration": 206,
    "start_time": "2022-05-20T10:37:53.300Z"
   },
   {
    "duration": 79,
    "start_time": "2022-05-20T10:37:53.924Z"
   },
   {
    "duration": 5,
    "start_time": "2022-05-20T12:30:22.490Z"
   },
   {
    "duration": 275,
    "start_time": "2022-05-20T12:30:40.987Z"
   },
   {
    "duration": 5,
    "start_time": "2022-05-20T12:31:04.997Z"
   },
   {
    "duration": 1683,
    "start_time": "2022-05-20T12:31:13.527Z"
   },
   {
    "duration": 5,
    "start_time": "2022-05-20T12:31:52.951Z"
   },
   {
    "duration": 12,
    "start_time": "2022-05-20T12:52:15.840Z"
   },
   {
    "duration": 6,
    "start_time": "2022-05-20T12:52:59.014Z"
   },
   {
    "duration": 5,
    "start_time": "2022-05-20T12:53:05.343Z"
   },
   {
    "duration": 4,
    "start_time": "2022-05-20T12:53:09.401Z"
   },
   {
    "duration": 6,
    "start_time": "2022-05-20T12:53:16.474Z"
   },
   {
    "duration": 4,
    "start_time": "2022-05-20T12:54:23.235Z"
   },
   {
    "duration": 4,
    "start_time": "2022-05-20T12:54:28.498Z"
   },
   {
    "duration": 4,
    "start_time": "2022-05-20T12:54:36.084Z"
   },
   {
    "duration": 41,
    "start_time": "2022-05-20T12:54:39.466Z"
   },
   {
    "duration": 4,
    "start_time": "2022-05-20T12:54:43.607Z"
   },
   {
    "duration": 4,
    "start_time": "2022-05-20T12:54:59.063Z"
   },
   {
    "duration": 4,
    "start_time": "2022-05-20T12:55:05.615Z"
   },
   {
    "duration": 5,
    "start_time": "2022-05-20T12:55:15.534Z"
   },
   {
    "duration": 4,
    "start_time": "2022-05-20T12:55:27.755Z"
   },
   {
    "duration": 5,
    "start_time": "2022-05-20T12:55:35.047Z"
   },
   {
    "duration": 4,
    "start_time": "2022-05-20T12:55:35.975Z"
   },
   {
    "duration": 4,
    "start_time": "2022-05-20T12:55:38.836Z"
   },
   {
    "duration": 4,
    "start_time": "2022-05-20T12:55:40.030Z"
   },
   {
    "duration": 4,
    "start_time": "2022-05-20T13:01:10.424Z"
   },
   {
    "duration": 5,
    "start_time": "2022-05-20T13:01:13.536Z"
   },
   {
    "duration": 6,
    "start_time": "2022-05-20T13:01:29.909Z"
   },
   {
    "duration": 4,
    "start_time": "2022-05-20T13:01:39.957Z"
   },
   {
    "duration": 4,
    "start_time": "2022-05-20T13:01:42.469Z"
   },
   {
    "duration": 6,
    "start_time": "2022-05-20T13:02:05.831Z"
   },
   {
    "duration": 5,
    "start_time": "2022-05-20T13:02:29.545Z"
   },
   {
    "duration": 4,
    "start_time": "2022-05-20T13:02:40.438Z"
   },
   {
    "duration": 6,
    "start_time": "2022-05-20T13:03:17.667Z"
   },
   {
    "duration": 12,
    "start_time": "2022-05-20T13:03:29.685Z"
   },
   {
    "duration": 13,
    "start_time": "2022-05-20T13:03:35.915Z"
   },
   {
    "duration": 11,
    "start_time": "2022-05-20T13:03:44.107Z"
   },
   {
    "duration": 4,
    "start_time": "2022-05-20T13:04:08.269Z"
   },
   {
    "duration": 46,
    "start_time": "2022-05-20T13:04:08.343Z"
   },
   {
    "duration": 2,
    "start_time": "2022-05-20T13:04:08.553Z"
   },
   {
    "duration": 9,
    "start_time": "2022-05-20T13:04:08.785Z"
   },
   {
    "duration": 8,
    "start_time": "2022-05-20T13:04:09.163Z"
   },
   {
    "duration": 12,
    "start_time": "2022-05-20T13:04:09.271Z"
   },
   {
    "duration": 12,
    "start_time": "2022-05-20T13:04:09.424Z"
   },
   {
    "duration": 233,
    "start_time": "2022-05-20T13:04:09.657Z"
   },
   {
    "duration": 245,
    "start_time": "2022-05-20T13:04:10.568Z"
   },
   {
    "duration": 634,
    "start_time": "2022-05-20T13:04:11.787Z"
   },
   {
    "duration": 55,
    "start_time": "2022-05-20T13:04:31.026Z"
   },
   {
    "duration": 1635,
    "start_time": "2022-05-20T13:04:35.873Z"
   },
   {
    "duration": 6,
    "start_time": "2022-05-20T13:04:43.988Z"
   },
   {
    "duration": 5,
    "start_time": "2022-05-20T13:05:46.992Z"
   },
   {
    "duration": 9,
    "start_time": "2022-05-20T13:05:50.920Z"
   },
   {
    "duration": 11,
    "start_time": "2022-05-20T13:05:58.536Z"
   },
   {
    "duration": 5,
    "start_time": "2022-05-20T13:06:13.849Z"
   },
   {
    "duration": 6,
    "start_time": "2022-05-20T13:06:19.032Z"
   },
   {
    "duration": 7,
    "start_time": "2022-05-20T13:07:13.213Z"
   },
   {
    "duration": 6,
    "start_time": "2022-05-20T13:07:38.830Z"
   },
   {
    "duration": 7,
    "start_time": "2022-05-20T13:08:27.288Z"
   },
   {
    "duration": 5,
    "start_time": "2022-05-20T13:08:37.351Z"
   },
   {
    "duration": 6,
    "start_time": "2022-05-20T13:08:45.807Z"
   },
   {
    "duration": 6,
    "start_time": "2022-05-20T13:08:52.732Z"
   },
   {
    "duration": 5,
    "start_time": "2022-05-20T13:09:27.803Z"
   },
   {
    "duration": 7,
    "start_time": "2022-05-20T13:09:32.392Z"
   },
   {
    "duration": 7,
    "start_time": "2022-05-20T13:09:32.823Z"
   },
   {
    "duration": 9,
    "start_time": "2022-05-20T13:09:40.918Z"
   },
   {
    "duration": 6,
    "start_time": "2022-05-20T13:09:56.318Z"
   },
   {
    "duration": 7,
    "start_time": "2022-05-20T13:10:01.315Z"
   },
   {
    "duration": 6,
    "start_time": "2022-05-20T13:10:06.130Z"
   },
   {
    "duration": 7,
    "start_time": "2022-05-20T13:10:16.269Z"
   },
   {
    "duration": 5,
    "start_time": "2022-05-20T13:15:33.505Z"
   },
   {
    "duration": 6,
    "start_time": "2022-05-20T13:15:43.713Z"
   },
   {
    "duration": 707,
    "start_time": "2022-05-20T13:39:26.381Z"
   },
   {
    "duration": 784,
    "start_time": "2022-05-20T13:41:36.266Z"
   },
   {
    "duration": 833,
    "start_time": "2022-05-20T13:43:00.635Z"
   },
   {
    "duration": 373,
    "start_time": "2022-05-22T07:46:22.437Z"
   },
   {
    "duration": 391,
    "start_time": "2022-05-22T07:48:30.232Z"
   },
   {
    "duration": 394,
    "start_time": "2022-05-22T07:48:57.021Z"
   },
   {
    "duration": 10,
    "start_time": "2022-05-22T07:50:00.070Z"
   },
   {
    "duration": 11,
    "start_time": "2022-05-22T07:50:05.964Z"
   },
   {
    "duration": 11,
    "start_time": "2022-05-22T07:50:17.701Z"
   },
   {
    "duration": 1150,
    "start_time": "2022-05-22T07:50:26.752Z"
   },
   {
    "duration": 185,
    "start_time": "2022-05-22T07:53:12.262Z"
   },
   {
    "duration": 251,
    "start_time": "2022-05-22T07:53:17.005Z"
   },
   {
    "duration": 260,
    "start_time": "2022-05-22T07:53:36.332Z"
   },
   {
    "duration": 601,
    "start_time": "2022-05-22T07:54:54.240Z"
   },
   {
    "duration": 12,
    "start_time": "2022-05-22T07:55:08.830Z"
   },
   {
    "duration": 3,
    "start_time": "2022-05-22T07:55:30.321Z"
   },
   {
    "duration": 40,
    "start_time": "2022-05-22T07:55:30.541Z"
   },
   {
    "duration": 2,
    "start_time": "2022-05-22T07:55:31.757Z"
   },
   {
    "duration": 10,
    "start_time": "2022-05-22T07:55:32.005Z"
   },
   {
    "duration": 6,
    "start_time": "2022-05-22T07:55:32.407Z"
   },
   {
    "duration": 10,
    "start_time": "2022-05-22T07:55:32.671Z"
   },
   {
    "duration": 12,
    "start_time": "2022-05-22T07:55:33.056Z"
   },
   {
    "duration": 250,
    "start_time": "2022-05-22T07:55:33.237Z"
   },
   {
    "duration": 111,
    "start_time": "2022-05-22T07:55:35.935Z"
   },
   {
    "duration": 265,
    "start_time": "2022-05-22T08:00:40.046Z"
   },
   {
    "duration": 818,
    "start_time": "2022-05-22T08:00:46.331Z"
   },
   {
    "duration": 4,
    "start_time": "2022-05-22T08:00:49.282Z"
   },
   {
    "duration": 282,
    "start_time": "2022-05-22T08:00:49.794Z"
   },
   {
    "duration": 4,
    "start_time": "2022-05-22T08:00:53.024Z"
   },
   {
    "duration": 6,
    "start_time": "2022-05-22T08:01:40.110Z"
   },
   {
    "duration": 4,
    "start_time": "2022-05-22T08:01:40.867Z"
   },
   {
    "duration": 20,
    "start_time": "2022-05-22T08:01:41.546Z"
   },
   {
    "duration": 27,
    "start_time": "2022-05-22T08:01:45.026Z"
   },
   {
    "duration": 13,
    "start_time": "2022-05-22T08:03:46.700Z"
   },
   {
    "duration": 9,
    "start_time": "2022-05-22T08:04:20.216Z"
   },
   {
    "duration": 4,
    "start_time": "2022-05-22T08:04:20.500Z"
   },
   {
    "duration": 4,
    "start_time": "2022-05-22T08:04:30.083Z"
   },
   {
    "duration": 493,
    "start_time": "2022-05-22T08:04:52.420Z"
   },
   {
    "duration": 473,
    "start_time": "2022-05-22T08:05:07.729Z"
   },
   {
    "duration": 446,
    "start_time": "2022-05-22T08:06:21.263Z"
   },
   {
    "duration": 5,
    "start_time": "2022-05-22T08:07:18.335Z"
   },
   {
    "duration": 11,
    "start_time": "2022-05-22T08:07:47.499Z"
   },
   {
    "duration": 3,
    "start_time": "2022-05-22T08:07:54.296Z"
   },
   {
    "duration": 3,
    "start_time": "2022-05-22T08:10:02.151Z"
   },
   {
    "duration": 27,
    "start_time": "2022-05-22T08:11:53.226Z"
   },
   {
    "duration": 59518,
    "start_time": "2022-05-22T08:15:11.793Z"
   },
   {
    "duration": 5,
    "start_time": "2022-05-22T08:16:11.314Z"
   },
   {
    "duration": 4,
    "start_time": "2022-05-22T08:17:26.896Z"
   },
   {
    "duration": 270,
    "start_time": "2022-05-22T08:19:30.151Z"
   },
   {
    "duration": 1424,
    "start_time": "2022-05-22T08:43:24.928Z"
   },
   {
    "duration": 140,
    "start_time": "2022-05-22T08:43:26.354Z"
   },
   {
    "duration": 3,
    "start_time": "2022-05-22T08:43:26.496Z"
   },
   {
    "duration": 14,
    "start_time": "2022-05-22T08:43:26.501Z"
   },
   {
    "duration": 8,
    "start_time": "2022-05-22T08:43:26.516Z"
   },
   {
    "duration": 10,
    "start_time": "2022-05-22T08:43:26.525Z"
   },
   {
    "duration": 17,
    "start_time": "2022-05-22T08:43:26.537Z"
   },
   {
    "duration": 261,
    "start_time": "2022-05-22T08:43:26.556Z"
   },
   {
    "duration": 110,
    "start_time": "2022-05-22T08:43:26.818Z"
   },
   {
    "duration": 225,
    "start_time": "2022-05-22T08:43:26.931Z"
   },
   {
    "duration": 10,
    "start_time": "2022-05-22T08:43:27.158Z"
   },
   {
    "duration": 840,
    "start_time": "2022-05-22T08:43:27.170Z"
   },
   {
    "duration": 5,
    "start_time": "2022-05-22T08:43:28.012Z"
   },
   {
    "duration": 333,
    "start_time": "2022-05-22T08:43:28.019Z"
   },
   {
    "duration": 6,
    "start_time": "2022-05-22T08:43:28.354Z"
   },
   {
    "duration": 1664,
    "start_time": "2022-05-22T08:43:28.362Z"
   },
   {
    "duration": 5,
    "start_time": "2022-05-22T08:43:30.113Z"
   },
   {
    "duration": 409,
    "start_time": "2022-05-22T08:43:30.120Z"
   },
   {
    "duration": 6,
    "start_time": "2022-05-22T08:43:30.531Z"
   },
   {
    "duration": 11,
    "start_time": "2022-05-22T08:43:30.539Z"
   },
   {
    "duration": 34,
    "start_time": "2022-05-22T08:43:30.551Z"
   },
   {
    "duration": 49,
    "start_time": "2022-05-22T08:43:30.587Z"
   },
   {
    "duration": 14,
    "start_time": "2022-05-22T08:43:30.637Z"
   },
   {
    "duration": 5,
    "start_time": "2022-05-22T08:43:30.652Z"
   },
   {
    "duration": 12,
    "start_time": "2022-05-22T08:43:30.659Z"
   },
   {
    "duration": 0,
    "start_time": "2022-05-22T08:43:30.673Z"
   },
   {
    "duration": 0,
    "start_time": "2022-05-22T08:43:30.674Z"
   },
   {
    "duration": 0,
    "start_time": "2022-05-22T08:43:30.675Z"
   },
   {
    "duration": 0,
    "start_time": "2022-05-22T08:43:30.676Z"
   },
   {
    "duration": 0,
    "start_time": "2022-05-22T08:43:30.677Z"
   },
   {
    "duration": 0,
    "start_time": "2022-05-22T08:43:30.679Z"
   },
   {
    "duration": 9,
    "start_time": "2022-05-22T08:53:06.558Z"
   },
   {
    "duration": 23,
    "start_time": "2022-05-22T09:21:15.992Z"
   },
   {
    "duration": 5,
    "start_time": "2022-05-22T09:21:29.781Z"
   },
   {
    "duration": 24,
    "start_time": "2022-05-22T09:21:38.559Z"
   },
   {
    "duration": 4,
    "start_time": "2022-05-22T09:25:20.012Z"
   },
   {
    "duration": 449,
    "start_time": "2022-05-22T09:25:20.912Z"
   },
   {
    "duration": 370,
    "start_time": "2022-05-22T09:25:21.542Z"
   },
   {
    "duration": 117,
    "start_time": "2022-05-22T09:25:23.994Z"
   },
   {
    "duration": 5,
    "start_time": "2022-05-22T09:31:48.093Z"
   },
   {
    "duration": 1046,
    "start_time": "2022-05-22T09:31:52.971Z"
   },
   {
    "duration": 3,
    "start_time": "2022-05-22T09:33:10.513Z"
   },
   {
    "duration": 1294,
    "start_time": "2022-05-22T10:23:56.584Z"
   },
   {
    "duration": 44,
    "start_time": "2022-05-22T10:23:57.881Z"
   },
   {
    "duration": 3,
    "start_time": "2022-05-22T10:23:57.927Z"
   },
   {
    "duration": 11,
    "start_time": "2022-05-22T10:23:57.933Z"
   },
   {
    "duration": 8,
    "start_time": "2022-05-22T10:23:57.946Z"
   },
   {
    "duration": 10,
    "start_time": "2022-05-22T10:23:57.956Z"
   },
   {
    "duration": 15,
    "start_time": "2022-05-22T10:23:57.967Z"
   },
   {
    "duration": 275,
    "start_time": "2022-05-22T10:23:57.983Z"
   },
   {
    "duration": 102,
    "start_time": "2022-05-22T10:23:58.259Z"
   },
   {
    "duration": 251,
    "start_time": "2022-05-22T10:23:58.364Z"
   },
   {
    "duration": 7,
    "start_time": "2022-05-22T10:23:58.617Z"
   },
   {
    "duration": 760,
    "start_time": "2022-05-22T10:23:58.626Z"
   },
   {
    "duration": 4,
    "start_time": "2022-05-22T10:23:59.387Z"
   },
   {
    "duration": 353,
    "start_time": "2022-05-22T10:23:59.393Z"
   },
   {
    "duration": 5,
    "start_time": "2022-05-22T10:23:59.747Z"
   },
   {
    "duration": 1859,
    "start_time": "2022-05-22T10:23:59.754Z"
   },
   {
    "duration": 92,
    "start_time": "2022-05-22T10:24:01.621Z"
   },
   {
    "duration": 406,
    "start_time": "2022-05-22T10:24:01.715Z"
   },
   {
    "duration": 6,
    "start_time": "2022-05-22T10:24:02.123Z"
   },
   {
    "duration": 9,
    "start_time": "2022-05-22T10:24:02.130Z"
   },
   {
    "duration": 26,
    "start_time": "2022-05-22T10:24:02.142Z"
   },
   {
    "duration": 44,
    "start_time": "2022-05-22T10:24:02.170Z"
   },
   {
    "duration": 12,
    "start_time": "2022-05-22T10:24:02.216Z"
   },
   {
    "duration": 4,
    "start_time": "2022-05-22T10:24:02.230Z"
   },
   {
    "duration": 6,
    "start_time": "2022-05-22T10:24:02.235Z"
   },
   {
    "duration": 438,
    "start_time": "2022-05-22T10:24:02.242Z"
   },
   {
    "duration": 347,
    "start_time": "2022-05-22T10:24:02.682Z"
   },
   {
    "duration": 879,
    "start_time": "2022-05-22T10:24:03.033Z"
   },
   {
    "duration": 3,
    "start_time": "2022-05-22T10:24:03.914Z"
   },
   {
    "duration": 66261,
    "start_time": "2022-05-22T10:24:03.919Z"
   },
   {
    "duration": 0,
    "start_time": "2022-05-22T10:25:10.182Z"
   },
   {
    "duration": 1561,
    "start_time": "2022-05-22T14:45:39.117Z"
   },
   {
    "duration": 3,
    "start_time": "2022-05-22T14:48:15.433Z"
   },
   {
    "duration": 3,
    "start_time": "2022-05-22T14:48:32.107Z"
   },
   {
    "duration": 117,
    "start_time": "2022-05-22T14:48:46.755Z"
   },
   {
    "duration": 4,
    "start_time": "2022-05-22T14:48:58.296Z"
   },
   {
    "duration": 144,
    "start_time": "2022-05-22T14:48:58.450Z"
   },
   {
    "duration": 3,
    "start_time": "2022-05-22T14:48:58.596Z"
   },
   {
    "duration": 18,
    "start_time": "2022-05-22T14:48:58.719Z"
   },
   {
    "duration": 10,
    "start_time": "2022-05-22T14:48:58.941Z"
   },
   {
    "duration": 10,
    "start_time": "2022-05-22T14:48:59.049Z"
   },
   {
    "duration": 15,
    "start_time": "2022-05-22T14:48:59.177Z"
   },
   {
    "duration": 388,
    "start_time": "2022-05-22T14:48:59.418Z"
   },
   {
    "duration": 98,
    "start_time": "2022-05-22T14:49:00.087Z"
   },
   {
    "duration": 213,
    "start_time": "2022-05-22T14:49:00.240Z"
   },
   {
    "duration": 8,
    "start_time": "2022-05-22T14:49:00.455Z"
   },
   {
    "duration": 782,
    "start_time": "2022-05-22T14:49:00.772Z"
   },
   {
    "duration": 5,
    "start_time": "2022-05-22T14:49:01.556Z"
   },
   {
    "duration": 413,
    "start_time": "2022-05-22T14:49:01.562Z"
   },
   {
    "duration": 5,
    "start_time": "2022-05-22T14:49:02.129Z"
   },
   {
    "duration": 2401,
    "start_time": "2022-05-22T14:49:02.733Z"
   },
   {
    "duration": 8,
    "start_time": "2022-05-22T14:49:05.222Z"
   },
   {
    "duration": 384,
    "start_time": "2022-05-22T14:49:05.232Z"
   },
   {
    "duration": 9,
    "start_time": "2022-05-22T14:49:05.618Z"
   },
   {
    "duration": 7,
    "start_time": "2022-05-22T14:49:05.629Z"
   },
   {
    "duration": 21,
    "start_time": "2022-05-22T14:49:05.638Z"
   },
   {
    "duration": 26,
    "start_time": "2022-05-22T14:49:05.660Z"
   },
   {
    "duration": 28,
    "start_time": "2022-05-22T14:49:05.688Z"
   },
   {
    "duration": 9,
    "start_time": "2022-05-22T14:49:05.818Z"
   },
   {
    "duration": 3,
    "start_time": "2022-05-22T14:49:06.436Z"
   },
   {
    "duration": 395,
    "start_time": "2022-05-22T14:49:06.778Z"
   },
   {
    "duration": 383,
    "start_time": "2022-05-22T14:49:07.175Z"
   },
   {
    "duration": 2,
    "start_time": "2022-05-22T14:49:07.562Z"
   },
   {
    "duration": 183,
    "start_time": "2022-05-22T14:49:07.747Z"
   },
   {
    "duration": 4,
    "start_time": "2022-05-22T14:59:04.369Z"
   },
   {
    "duration": 5617,
    "start_time": "2022-05-22T14:59:08.643Z"
   },
   {
    "duration": 456,
    "start_time": "2022-05-22T15:00:02.500Z"
   },
   {
    "duration": 50,
    "start_time": "2022-05-22T15:22:31.925Z"
   },
   {
    "duration": 4,
    "start_time": "2022-05-22T15:23:42.263Z"
   },
   {
    "duration": 13,
    "start_time": "2022-05-22T15:24:01.160Z"
   },
   {
    "duration": 19,
    "start_time": "2022-05-22T15:24:17.068Z"
   },
   {
    "duration": 5,
    "start_time": "2022-05-22T15:25:01.101Z"
   },
   {
    "duration": 38,
    "start_time": "2022-05-22T15:25:06.214Z"
   },
   {
    "duration": 155980,
    "start_time": "2022-05-22T15:25:26.765Z"
   },
   {
    "duration": 5,
    "start_time": "2022-05-22T15:28:27.343Z"
   },
   {
    "duration": 40035,
    "start_time": "2022-05-22T15:28:35.206Z"
   },
   {
    "duration": 24973,
    "start_time": "2022-05-22T15:46:25.554Z"
   },
   {
    "duration": 80360,
    "start_time": "2022-05-22T15:46:57.180Z"
   },
   {
    "duration": 11720,
    "start_time": "2022-05-22T15:48:40.928Z"
   },
   {
    "duration": 3329,
    "start_time": "2022-05-22T15:48:54.486Z"
   },
   {
    "duration": 1978105,
    "start_time": "2022-05-22T15:49:02.647Z"
   },
   {
    "duration": 1531,
    "start_time": "2022-05-23T10:15:37.253Z"
   },
   {
    "duration": 0,
    "start_time": "2022-05-23T10:15:38.786Z"
   },
   {
    "duration": 0,
    "start_time": "2022-05-23T10:15:38.787Z"
   },
   {
    "duration": 0,
    "start_time": "2022-05-23T10:15:38.789Z"
   },
   {
    "duration": 0,
    "start_time": "2022-05-23T10:15:38.789Z"
   },
   {
    "duration": 0,
    "start_time": "2022-05-23T10:15:38.791Z"
   },
   {
    "duration": 0,
    "start_time": "2022-05-23T10:15:38.791Z"
   },
   {
    "duration": 0,
    "start_time": "2022-05-23T10:15:38.792Z"
   },
   {
    "duration": 0,
    "start_time": "2022-05-23T10:15:38.793Z"
   },
   {
    "duration": 0,
    "start_time": "2022-05-23T10:15:38.794Z"
   },
   {
    "duration": 0,
    "start_time": "2022-05-23T10:15:38.795Z"
   },
   {
    "duration": 0,
    "start_time": "2022-05-23T10:15:38.796Z"
   },
   {
    "duration": 0,
    "start_time": "2022-05-23T10:15:38.797Z"
   },
   {
    "duration": 0,
    "start_time": "2022-05-23T10:15:38.798Z"
   },
   {
    "duration": 0,
    "start_time": "2022-05-23T10:15:38.799Z"
   },
   {
    "duration": 0,
    "start_time": "2022-05-23T10:15:38.800Z"
   },
   {
    "duration": 0,
    "start_time": "2022-05-23T10:15:38.801Z"
   },
   {
    "duration": 0,
    "start_time": "2022-05-23T10:15:38.802Z"
   },
   {
    "duration": 0,
    "start_time": "2022-05-23T10:15:38.803Z"
   },
   {
    "duration": 0,
    "start_time": "2022-05-23T10:15:38.804Z"
   },
   {
    "duration": 0,
    "start_time": "2022-05-23T10:15:38.805Z"
   },
   {
    "duration": 0,
    "start_time": "2022-05-23T10:15:38.805Z"
   },
   {
    "duration": 0,
    "start_time": "2022-05-23T10:15:38.806Z"
   },
   {
    "duration": 0,
    "start_time": "2022-05-23T10:15:38.807Z"
   },
   {
    "duration": 0,
    "start_time": "2022-05-23T10:15:38.808Z"
   },
   {
    "duration": 0,
    "start_time": "2022-05-23T10:15:38.809Z"
   },
   {
    "duration": 0,
    "start_time": "2022-05-23T10:15:38.810Z"
   },
   {
    "duration": 0,
    "start_time": "2022-05-23T10:15:38.811Z"
   },
   {
    "duration": 0,
    "start_time": "2022-05-23T10:15:38.812Z"
   },
   {
    "duration": 0,
    "start_time": "2022-05-23T10:15:38.813Z"
   },
   {
    "duration": 0,
    "start_time": "2022-05-23T10:15:38.814Z"
   },
   {
    "duration": 0,
    "start_time": "2022-05-23T10:15:38.814Z"
   },
   {
    "duration": 4950,
    "start_time": "2022-05-23T10:15:55.401Z"
   },
   {
    "duration": 355,
    "start_time": "2022-05-23T10:16:02.445Z"
   },
   {
    "duration": 3,
    "start_time": "2022-05-23T10:16:15.922Z"
   },
   {
    "duration": 168,
    "start_time": "2022-05-23T10:16:15.927Z"
   },
   {
    "duration": 3,
    "start_time": "2022-05-23T10:16:16.096Z"
   },
   {
    "duration": 35,
    "start_time": "2022-05-23T10:16:16.100Z"
   },
   {
    "duration": 18,
    "start_time": "2022-05-23T10:16:16.137Z"
   },
   {
    "duration": 9,
    "start_time": "2022-05-23T10:16:16.156Z"
   },
   {
    "duration": 17,
    "start_time": "2022-05-23T10:16:16.166Z"
   },
   {
    "duration": 331,
    "start_time": "2022-05-23T10:16:16.184Z"
   },
   {
    "duration": 94,
    "start_time": "2022-05-23T10:16:16.518Z"
   },
   {
    "duration": 208,
    "start_time": "2022-05-23T10:16:16.613Z"
   },
   {
    "duration": 7,
    "start_time": "2022-05-23T10:16:16.823Z"
   },
   {
    "duration": 681,
    "start_time": "2022-05-23T10:16:16.832Z"
   },
   {
    "duration": 4,
    "start_time": "2022-05-23T10:16:17.514Z"
   },
   {
    "duration": 386,
    "start_time": "2022-05-23T10:16:17.520Z"
   },
   {
    "duration": 6,
    "start_time": "2022-05-23T10:16:17.908Z"
   },
   {
    "duration": 1644,
    "start_time": "2022-05-23T10:16:17.916Z"
   },
   {
    "duration": 98,
    "start_time": "2022-05-23T10:16:19.562Z"
   },
   {
    "duration": 201,
    "start_time": "2022-05-23T10:16:19.661Z"
   },
   {
    "duration": 7,
    "start_time": "2022-05-23T10:16:19.864Z"
   },
   {
    "duration": 9,
    "start_time": "2022-05-23T10:16:19.873Z"
   },
   {
    "duration": 36,
    "start_time": "2022-05-23T10:16:19.884Z"
   },
   {
    "duration": 26,
    "start_time": "2022-05-23T10:16:19.921Z"
   },
   {
    "duration": 14,
    "start_time": "2022-05-23T10:16:19.949Z"
   },
   {
    "duration": 8,
    "start_time": "2022-05-23T10:16:19.966Z"
   },
   {
    "duration": 14,
    "start_time": "2022-05-23T10:16:19.975Z"
   },
   {
    "duration": 374,
    "start_time": "2022-05-23T10:16:19.991Z"
   },
   {
    "duration": 465,
    "start_time": "2022-05-23T10:16:20.366Z"
   },
   {
    "duration": 3,
    "start_time": "2022-05-23T10:16:20.833Z"
   },
   {
    "duration": 224,
    "start_time": "2022-05-23T10:16:20.837Z"
   },
   {
    "duration": 36934,
    "start_time": "2022-05-23T10:16:21.063Z"
   },
   {
    "duration": 0,
    "start_time": "2022-05-23T10:16:57.999Z"
   },
   {
    "duration": 0,
    "start_time": "2022-05-23T10:16:58.001Z"
   },
   {
    "duration": 4,
    "start_time": "2022-05-23T10:18:00.806Z"
   },
   {
    "duration": 35569,
    "start_time": "2022-05-23T10:18:04.608Z"
   },
   {
    "duration": 2,
    "start_time": "2022-05-23T10:19:04.235Z"
   },
   {
    "duration": 10,
    "start_time": "2022-05-23T10:19:04.973Z"
   },
   {
    "duration": 5920,
    "start_time": "2022-05-23T11:06:08.450Z"
   },
   {
    "duration": 2029,
    "start_time": "2022-05-23T11:06:14.373Z"
   },
   {
    "duration": 153,
    "start_time": "2022-05-23T11:06:16.404Z"
   },
   {
    "duration": 2,
    "start_time": "2022-05-23T11:06:16.560Z"
   },
   {
    "duration": 15,
    "start_time": "2022-05-23T11:06:16.564Z"
   },
   {
    "duration": 9,
    "start_time": "2022-05-23T11:06:16.581Z"
   },
   {
    "duration": 17,
    "start_time": "2022-05-23T11:06:16.591Z"
   },
   {
    "duration": 23,
    "start_time": "2022-05-23T11:06:16.609Z"
   },
   {
    "duration": 345,
    "start_time": "2022-05-23T11:06:16.634Z"
   },
   {
    "duration": 123,
    "start_time": "2022-05-23T11:06:16.981Z"
   },
   {
    "duration": 231,
    "start_time": "2022-05-23T11:06:17.106Z"
   },
   {
    "duration": 7,
    "start_time": "2022-05-23T11:06:17.338Z"
   },
   {
    "duration": 826,
    "start_time": "2022-05-23T11:06:17.347Z"
   },
   {
    "duration": 6,
    "start_time": "2022-05-23T11:06:18.175Z"
   },
   {
    "duration": 343,
    "start_time": "2022-05-23T11:06:18.183Z"
   },
   {
    "duration": 5,
    "start_time": "2022-05-23T11:06:18.528Z"
   },
   {
    "duration": 1663,
    "start_time": "2022-05-23T11:06:18.534Z"
   },
   {
    "duration": 3,
    "start_time": "2022-05-23T11:06:20.199Z"
   },
   {
    "duration": 299,
    "start_time": "2022-05-23T11:06:20.204Z"
   },
   {
    "duration": 6,
    "start_time": "2022-05-23T11:06:20.504Z"
   },
   {
    "duration": 24,
    "start_time": "2022-05-23T11:06:20.512Z"
   },
   {
    "duration": 31,
    "start_time": "2022-05-23T11:06:20.538Z"
   },
   {
    "duration": 43,
    "start_time": "2022-05-23T11:06:20.571Z"
   },
   {
    "duration": 20,
    "start_time": "2022-05-23T11:06:20.615Z"
   },
   {
    "duration": 19,
    "start_time": "2022-05-23T11:06:20.637Z"
   },
   {
    "duration": 32,
    "start_time": "2022-05-23T11:06:20.659Z"
   },
   {
    "duration": 562,
    "start_time": "2022-05-23T11:06:20.692Z"
   },
   {
    "duration": 473,
    "start_time": "2022-05-23T11:06:21.255Z"
   },
   {
    "duration": 3,
    "start_time": "2022-05-23T11:06:21.730Z"
   },
   {
    "duration": 363,
    "start_time": "2022-05-23T11:06:21.735Z"
   },
   {
    "duration": 0,
    "start_time": "2022-05-23T11:15:36.122Z"
   },
   {
    "duration": 2504,
    "start_time": "2022-05-23T11:16:07.236Z"
   },
   {
    "duration": 1549,
    "start_time": "2022-05-23T11:16:09.743Z"
   },
   {
    "duration": 51,
    "start_time": "2022-05-23T11:16:11.294Z"
   },
   {
    "duration": 3,
    "start_time": "2022-05-23T11:16:11.348Z"
   },
   {
    "duration": 14,
    "start_time": "2022-05-23T11:16:11.353Z"
   },
   {
    "duration": 11,
    "start_time": "2022-05-23T11:16:11.369Z"
   },
   {
    "duration": 13,
    "start_time": "2022-05-23T11:16:11.382Z"
   },
   {
    "duration": 14,
    "start_time": "2022-05-23T11:16:11.397Z"
   },
   {
    "duration": 359,
    "start_time": "2022-05-23T11:16:11.413Z"
   },
   {
    "duration": 103,
    "start_time": "2022-05-23T11:16:11.775Z"
   },
   {
    "duration": 226,
    "start_time": "2022-05-23T11:16:11.879Z"
   },
   {
    "duration": 8,
    "start_time": "2022-05-23T11:16:12.107Z"
   },
   {
    "duration": 761,
    "start_time": "2022-05-23T11:16:12.116Z"
   },
   {
    "duration": 5,
    "start_time": "2022-05-23T11:16:12.879Z"
   },
   {
    "duration": 361,
    "start_time": "2022-05-23T11:16:12.886Z"
   },
   {
    "duration": 5,
    "start_time": "2022-05-23T11:16:13.248Z"
   },
   {
    "duration": 1949,
    "start_time": "2022-05-23T11:16:13.255Z"
   },
   {
    "duration": 89,
    "start_time": "2022-05-23T11:16:15.206Z"
   },
   {
    "duration": 389,
    "start_time": "2022-05-23T11:16:15.297Z"
   },
   {
    "duration": 5,
    "start_time": "2022-05-23T11:16:15.695Z"
   },
   {
    "duration": 8,
    "start_time": "2022-05-23T11:16:15.702Z"
   },
   {
    "duration": 31,
    "start_time": "2022-05-23T11:16:15.712Z"
   },
   {
    "duration": 53,
    "start_time": "2022-05-23T11:16:15.745Z"
   },
   {
    "duration": 15,
    "start_time": "2022-05-23T11:16:15.800Z"
   },
   {
    "duration": 4,
    "start_time": "2022-05-23T11:16:15.817Z"
   },
   {
    "duration": 8,
    "start_time": "2022-05-23T11:16:15.823Z"
   },
   {
    "duration": 697,
    "start_time": "2022-05-23T11:16:15.833Z"
   },
   {
    "duration": 609,
    "start_time": "2022-05-23T11:16:16.535Z"
   },
   {
    "duration": 3,
    "start_time": "2022-05-23T11:16:17.146Z"
   },
   {
    "duration": 247,
    "start_time": "2022-05-23T11:16:17.151Z"
   },
   {
    "duration": 64711,
    "start_time": "2022-05-23T11:16:17.401Z"
   },
   {
    "duration": 0,
    "start_time": "2022-05-23T11:17:22.114Z"
   },
   {
    "duration": 0,
    "start_time": "2022-05-23T11:17:22.116Z"
   },
   {
    "duration": 2630,
    "start_time": "2022-05-23T11:17:26.563Z"
   },
   {
    "duration": 1670,
    "start_time": "2022-05-23T11:17:29.195Z"
   },
   {
    "duration": 47,
    "start_time": "2022-05-23T11:17:30.867Z"
   },
   {
    "duration": 3,
    "start_time": "2022-05-23T11:17:30.917Z"
   },
   {
    "duration": 29,
    "start_time": "2022-05-23T11:17:30.922Z"
   },
   {
    "duration": 10,
    "start_time": "2022-05-23T11:17:30.954Z"
   },
   {
    "duration": 16,
    "start_time": "2022-05-23T11:17:30.966Z"
   },
   {
    "duration": 38,
    "start_time": "2022-05-23T11:17:30.983Z"
   },
   {
    "duration": 351,
    "start_time": "2022-05-23T11:17:31.023Z"
   },
   {
    "duration": 102,
    "start_time": "2022-05-23T11:17:31.377Z"
   },
   {
    "duration": 238,
    "start_time": "2022-05-23T11:17:31.481Z"
   },
   {
    "duration": 10,
    "start_time": "2022-05-23T11:17:31.721Z"
   },
   {
    "duration": 780,
    "start_time": "2022-05-23T11:17:31.733Z"
   },
   {
    "duration": 5,
    "start_time": "2022-05-23T11:17:32.515Z"
   },
   {
    "duration": 358,
    "start_time": "2022-05-23T11:17:32.521Z"
   },
   {
    "duration": 5,
    "start_time": "2022-05-23T11:17:32.881Z"
   },
   {
    "duration": 1111,
    "start_time": "2022-05-23T11:17:32.896Z"
   },
   {
    "duration": 88,
    "start_time": "2022-05-23T11:17:34.009Z"
   },
   {
    "duration": 328,
    "start_time": "2022-05-23T11:17:34.099Z"
   },
   {
    "duration": 5,
    "start_time": "2022-05-23T11:17:34.430Z"
   },
   {
    "duration": 23,
    "start_time": "2022-05-23T11:17:34.436Z"
   },
   {
    "duration": 23,
    "start_time": "2022-05-23T11:17:34.461Z"
   },
   {
    "duration": 38,
    "start_time": "2022-05-23T11:17:34.486Z"
   },
   {
    "duration": 12,
    "start_time": "2022-05-23T11:17:34.526Z"
   },
   {
    "duration": 6,
    "start_time": "2022-05-23T11:17:34.540Z"
   },
   {
    "duration": 22,
    "start_time": "2022-05-23T11:17:34.547Z"
   },
   {
    "duration": 517,
    "start_time": "2022-05-23T11:17:34.571Z"
   },
   {
    "duration": 538,
    "start_time": "2022-05-23T11:17:35.094Z"
   },
   {
    "duration": 4,
    "start_time": "2022-05-23T11:17:35.634Z"
   },
   {
    "duration": 261,
    "start_time": "2022-05-23T11:17:35.639Z"
   },
   {
    "duration": 85236,
    "start_time": "2022-05-23T11:17:35.902Z"
   },
   {
    "duration": 0,
    "start_time": "2022-05-23T11:19:01.140Z"
   },
   {
    "duration": 0,
    "start_time": "2022-05-23T11:19:01.141Z"
   },
   {
    "duration": 56,
    "start_time": "2022-05-23T11:22:18.938Z"
   },
   {
    "duration": 46,
    "start_time": "2022-05-23T11:22:44.850Z"
   },
   {
    "duration": 34,
    "start_time": "2022-05-23T11:23:06.163Z"
   },
   {
    "duration": 2586,
    "start_time": "2022-05-23T11:23:28.579Z"
   },
   {
    "duration": 1623,
    "start_time": "2022-05-23T11:23:31.168Z"
   },
   {
    "duration": 49,
    "start_time": "2022-05-23T11:23:32.794Z"
   },
   {
    "duration": 3,
    "start_time": "2022-05-23T11:23:32.845Z"
   },
   {
    "duration": 17,
    "start_time": "2022-05-23T11:23:32.850Z"
   },
   {
    "duration": 9,
    "start_time": "2022-05-23T11:23:32.869Z"
   },
   {
    "duration": 15,
    "start_time": "2022-05-23T11:23:32.881Z"
   },
   {
    "duration": 18,
    "start_time": "2022-05-23T11:23:32.897Z"
   },
   {
    "duration": 397,
    "start_time": "2022-05-23T11:23:32.917Z"
   },
   {
    "duration": 107,
    "start_time": "2022-05-23T11:23:33.317Z"
   },
   {
    "duration": 230,
    "start_time": "2022-05-23T11:23:33.426Z"
   },
   {
    "duration": 7,
    "start_time": "2022-05-23T11:23:33.658Z"
   },
   {
    "duration": 761,
    "start_time": "2022-05-23T11:23:33.668Z"
   },
   {
    "duration": 5,
    "start_time": "2022-05-23T11:23:34.431Z"
   },
   {
    "duration": 346,
    "start_time": "2022-05-23T11:23:34.438Z"
   },
   {
    "duration": 8,
    "start_time": "2022-05-23T11:23:34.786Z"
   },
   {
    "duration": 2910,
    "start_time": "2022-05-23T11:23:34.796Z"
   },
   {
    "duration": 8,
    "start_time": "2022-05-23T11:23:37.794Z"
   },
   {
    "duration": 299,
    "start_time": "2022-05-23T11:23:37.805Z"
   },
   {
    "duration": 6,
    "start_time": "2022-05-23T11:23:38.105Z"
   },
   {
    "duration": 9,
    "start_time": "2022-05-23T11:23:38.113Z"
   },
   {
    "duration": 30,
    "start_time": "2022-05-23T11:23:38.124Z"
   },
   {
    "duration": 62,
    "start_time": "2022-05-23T11:23:38.156Z"
   },
   {
    "duration": 15,
    "start_time": "2022-05-23T11:23:38.220Z"
   },
   {
    "duration": 5,
    "start_time": "2022-05-23T11:23:38.236Z"
   },
   {
    "duration": 12,
    "start_time": "2022-05-23T11:23:38.242Z"
   },
   {
    "duration": 480,
    "start_time": "2022-05-23T11:23:38.256Z"
   },
   {
    "duration": 462,
    "start_time": "2022-05-23T11:23:38.739Z"
   },
   {
    "duration": 3,
    "start_time": "2022-05-23T11:23:39.203Z"
   },
   {
    "duration": 499,
    "start_time": "2022-05-23T11:23:39.207Z"
   },
   {
    "duration": 367,
    "start_time": "2022-05-23T11:23:39.708Z"
   },
   {
    "duration": 0,
    "start_time": "2022-05-23T11:23:40.077Z"
   },
   {
    "duration": 0,
    "start_time": "2022-05-23T11:23:40.078Z"
   },
   {
    "duration": 0,
    "start_time": "2022-05-23T11:23:40.080Z"
   },
   {
    "duration": 37,
    "start_time": "2022-05-23T11:24:25.051Z"
   },
   {
    "duration": 3485,
    "start_time": "2022-05-23T11:26:35.313Z"
   },
   {
    "duration": 6,
    "start_time": "2022-05-23T11:26:38.801Z"
   },
   {
    "duration": 106,
    "start_time": "2022-05-23T11:26:38.809Z"
   },
   {
    "duration": 4,
    "start_time": "2022-05-23T11:26:38.918Z"
   },
   {
    "duration": 19,
    "start_time": "2022-05-23T11:26:38.923Z"
   },
   {
    "duration": 57,
    "start_time": "2022-05-23T11:26:38.944Z"
   },
   {
    "duration": 25,
    "start_time": "2022-05-23T11:26:39.003Z"
   },
   {
    "duration": 14,
    "start_time": "2022-05-23T11:26:39.030Z"
   },
   {
    "duration": 518,
    "start_time": "2022-05-23T11:26:39.046Z"
   },
   {
    "duration": 127,
    "start_time": "2022-05-23T11:26:39.568Z"
   },
   {
    "duration": 256,
    "start_time": "2022-05-23T11:26:39.698Z"
   },
   {
    "duration": 9,
    "start_time": "2022-05-23T11:26:39.956Z"
   },
   {
    "duration": 771,
    "start_time": "2022-05-23T11:26:39.967Z"
   },
   {
    "duration": 4,
    "start_time": "2022-05-23T11:26:40.739Z"
   },
   {
    "duration": 242,
    "start_time": "2022-05-23T11:26:40.744Z"
   },
   {
    "duration": 10,
    "start_time": "2022-05-23T11:26:40.987Z"
   },
   {
    "duration": 3409,
    "start_time": "2022-05-23T11:26:40.999Z"
   },
   {
    "duration": 12,
    "start_time": "2022-05-23T11:26:44.497Z"
   },
   {
    "duration": 233,
    "start_time": "2022-05-23T11:26:44.595Z"
   },
   {
    "duration": 6,
    "start_time": "2022-05-23T11:26:44.829Z"
   },
   {
    "duration": 5,
    "start_time": "2022-05-23T11:26:44.837Z"
   },
   {
    "duration": 25,
    "start_time": "2022-05-23T11:26:44.844Z"
   },
   {
    "duration": 48,
    "start_time": "2022-05-23T11:26:44.871Z"
   },
   {
    "duration": 13,
    "start_time": "2022-05-23T11:26:44.922Z"
   },
   {
    "duration": 4,
    "start_time": "2022-05-23T11:26:44.936Z"
   },
   {
    "duration": 5,
    "start_time": "2022-05-23T11:26:44.942Z"
   },
   {
    "duration": 418,
    "start_time": "2022-05-23T11:26:44.948Z"
   },
   {
    "duration": 389,
    "start_time": "2022-05-23T11:26:45.369Z"
   },
   {
    "duration": 3,
    "start_time": "2022-05-23T11:26:45.760Z"
   },
   {
    "duration": 731,
    "start_time": "2022-05-23T11:26:45.765Z"
   },
   {
    "duration": 134,
    "start_time": "2022-05-23T11:26:46.498Z"
   },
   {
    "duration": 0,
    "start_time": "2022-05-23T11:26:46.635Z"
   },
   {
    "duration": 0,
    "start_time": "2022-05-23T11:26:46.636Z"
   },
   {
    "duration": 0,
    "start_time": "2022-05-23T11:26:46.637Z"
   },
   {
    "duration": 2522,
    "start_time": "2022-05-23T11:33:05.572Z"
   },
   {
    "duration": 1556,
    "start_time": "2022-05-23T11:33:08.097Z"
   },
   {
    "duration": 46,
    "start_time": "2022-05-23T11:33:09.654Z"
   },
   {
    "duration": 3,
    "start_time": "2022-05-23T11:33:09.702Z"
   },
   {
    "duration": 14,
    "start_time": "2022-05-23T11:33:09.706Z"
   },
   {
    "duration": 8,
    "start_time": "2022-05-23T11:33:09.721Z"
   },
   {
    "duration": 9,
    "start_time": "2022-05-23T11:33:09.731Z"
   },
   {
    "duration": 19,
    "start_time": "2022-05-23T11:33:09.741Z"
   },
   {
    "duration": 335,
    "start_time": "2022-05-23T11:33:09.762Z"
   },
   {
    "duration": 101,
    "start_time": "2022-05-23T11:33:10.099Z"
   },
   {
    "duration": 219,
    "start_time": "2022-05-23T11:33:10.202Z"
   },
   {
    "duration": 8,
    "start_time": "2022-05-23T11:33:10.423Z"
   },
   {
    "duration": 717,
    "start_time": "2022-05-23T11:33:10.432Z"
   },
   {
    "duration": 4,
    "start_time": "2022-05-23T11:33:11.150Z"
   },
   {
    "duration": 336,
    "start_time": "2022-05-23T11:33:11.156Z"
   },
   {
    "duration": 5,
    "start_time": "2022-05-23T11:33:11.495Z"
   },
   {
    "duration": 2193,
    "start_time": "2022-05-23T11:33:11.502Z"
   },
   {
    "duration": 4,
    "start_time": "2022-05-23T11:33:13.698Z"
   },
   {
    "duration": 520,
    "start_time": "2022-05-23T11:33:13.704Z"
   },
   {
    "duration": 5,
    "start_time": "2022-05-23T11:33:14.226Z"
   },
   {
    "duration": 10,
    "start_time": "2022-05-23T11:33:14.233Z"
   },
   {
    "duration": 19,
    "start_time": "2022-05-23T11:33:14.295Z"
   },
   {
    "duration": 81,
    "start_time": "2022-05-23T11:33:14.315Z"
   },
   {
    "duration": 12,
    "start_time": "2022-05-23T11:33:14.397Z"
   },
   {
    "duration": 3,
    "start_time": "2022-05-23T11:33:14.411Z"
   },
   {
    "duration": 10,
    "start_time": "2022-05-23T11:33:14.415Z"
   },
   {
    "duration": 680,
    "start_time": "2022-05-23T11:33:14.426Z"
   },
   {
    "duration": 799,
    "start_time": "2022-05-23T11:33:15.109Z"
   },
   {
    "duration": 3,
    "start_time": "2022-05-23T11:33:15.909Z"
   },
   {
    "duration": 387,
    "start_time": "2022-05-23T11:33:15.914Z"
   },
   {
    "duration": 346,
    "start_time": "2022-05-23T11:33:16.304Z"
   },
   {
    "duration": 0,
    "start_time": "2022-05-23T11:33:16.652Z"
   },
   {
    "duration": 0,
    "start_time": "2022-05-23T11:33:16.653Z"
   },
   {
    "duration": 0,
    "start_time": "2022-05-23T11:33:16.654Z"
   },
   {
    "duration": 33,
    "start_time": "2022-05-23T11:33:46.272Z"
   },
   {
    "duration": 37,
    "start_time": "2022-05-23T11:50:25.207Z"
   },
   {
    "duration": 152508,
    "start_time": "2022-05-23T11:54:53.811Z"
   },
   {
    "duration": 2833,
    "start_time": "2022-05-23T11:57:35.007Z"
   },
   {
    "duration": 1618,
    "start_time": "2022-05-23T11:57:37.842Z"
   },
   {
    "duration": 55,
    "start_time": "2022-05-23T11:57:39.461Z"
   },
   {
    "duration": 3,
    "start_time": "2022-05-23T11:57:39.519Z"
   },
   {
    "duration": 19,
    "start_time": "2022-05-23T11:57:39.524Z"
   },
   {
    "duration": 9,
    "start_time": "2022-05-23T11:57:39.545Z"
   },
   {
    "duration": 11,
    "start_time": "2022-05-23T11:57:39.556Z"
   },
   {
    "duration": 34,
    "start_time": "2022-05-23T11:57:39.568Z"
   },
   {
    "duration": 436,
    "start_time": "2022-05-23T11:57:39.604Z"
   },
   {
    "duration": 114,
    "start_time": "2022-05-23T11:57:40.043Z"
   },
   {
    "duration": 291,
    "start_time": "2022-05-23T11:57:40.159Z"
   },
   {
    "duration": 8,
    "start_time": "2022-05-23T11:57:40.452Z"
   },
   {
    "duration": 828,
    "start_time": "2022-05-23T11:57:40.461Z"
   },
   {
    "duration": 4,
    "start_time": "2022-05-23T11:57:41.291Z"
   },
   {
    "duration": 402,
    "start_time": "2022-05-23T11:57:41.297Z"
   },
   {
    "duration": 8,
    "start_time": "2022-05-23T11:57:41.702Z"
   },
   {
    "duration": 2984,
    "start_time": "2022-05-23T11:57:41.712Z"
   },
   {
    "duration": 8,
    "start_time": "2022-05-23T11:57:44.698Z"
   },
   {
    "duration": 352,
    "start_time": "2022-05-23T11:57:44.712Z"
   },
   {
    "duration": 6,
    "start_time": "2022-05-23T11:57:45.065Z"
   },
   {
    "duration": 14,
    "start_time": "2022-05-23T11:57:45.072Z"
   },
   {
    "duration": 41,
    "start_time": "2022-05-23T11:57:45.088Z"
   },
   {
    "duration": 29,
    "start_time": "2022-05-23T11:57:45.131Z"
   },
   {
    "duration": 14,
    "start_time": "2022-05-23T11:57:45.162Z"
   },
   {
    "duration": 4,
    "start_time": "2022-05-23T11:57:45.177Z"
   },
   {
    "duration": 16,
    "start_time": "2022-05-23T11:57:45.183Z"
   },
   {
    "duration": 489,
    "start_time": "2022-05-23T11:57:45.201Z"
   },
   {
    "duration": 538,
    "start_time": "2022-05-23T11:57:45.694Z"
   },
   {
    "duration": 3,
    "start_time": "2022-05-23T11:57:46.234Z"
   },
   {
    "duration": 557,
    "start_time": "2022-05-23T11:57:46.238Z"
   },
   {
    "duration": 2099,
    "start_time": "2022-05-23T16:40:57.965Z"
   },
   {
    "duration": 14,
    "start_time": "2022-05-23T16:41:11.849Z"
   },
   {
    "duration": 5969,
    "start_time": "2022-05-23T16:41:17.847Z"
   },
   {
    "duration": 145,
    "start_time": "2022-05-23T16:41:30.601Z"
   },
   {
    "duration": 3,
    "start_time": "2022-05-23T16:41:31.031Z"
   },
   {
    "duration": 11,
    "start_time": "2022-05-23T16:41:31.374Z"
   },
   {
    "duration": 11,
    "start_time": "2022-05-23T16:41:31.722Z"
   },
   {
    "duration": 12,
    "start_time": "2022-05-23T16:41:31.899Z"
   },
   {
    "duration": 19,
    "start_time": "2022-05-23T16:41:32.055Z"
   },
   {
    "duration": 379,
    "start_time": "2022-05-23T16:41:32.214Z"
   },
   {
    "duration": 95,
    "start_time": "2022-05-23T16:41:32.855Z"
   },
   {
    "duration": 214,
    "start_time": "2022-05-23T16:41:33.000Z"
   },
   {
    "duration": 8,
    "start_time": "2022-05-23T16:41:33.398Z"
   },
   {
    "duration": 799,
    "start_time": "2022-05-23T16:41:33.847Z"
   },
   {
    "duration": 5,
    "start_time": "2022-05-23T16:41:34.648Z"
   },
   {
    "duration": 335,
    "start_time": "2022-05-23T16:41:34.655Z"
   },
   {
    "duration": 6,
    "start_time": "2022-05-23T16:41:35.369Z"
   },
   {
    "duration": 1346,
    "start_time": "2022-05-23T16:41:35.749Z"
   },
   {
    "duration": 5,
    "start_time": "2022-05-23T16:41:37.188Z"
   },
   {
    "duration": 314,
    "start_time": "2022-05-23T16:41:37.197Z"
   },
   {
    "duration": 5,
    "start_time": "2022-05-23T16:41:37.513Z"
   },
   {
    "duration": 5,
    "start_time": "2022-05-23T16:41:37.692Z"
   },
   {
    "duration": 21,
    "start_time": "2022-05-23T16:41:38.121Z"
   },
   {
    "duration": 27,
    "start_time": "2022-05-23T16:41:38.304Z"
   },
   {
    "duration": 13,
    "start_time": "2022-05-23T16:41:38.867Z"
   },
   {
    "duration": 4,
    "start_time": "2022-05-23T16:41:39.063Z"
   },
   {
    "duration": 5,
    "start_time": "2022-05-23T16:41:39.661Z"
   },
   {
    "duration": 563,
    "start_time": "2022-05-23T16:41:40.098Z"
   },
   {
    "duration": 545,
    "start_time": "2022-05-23T16:41:40.663Z"
   },
   {
    "duration": 4,
    "start_time": "2022-05-23T16:41:41.211Z"
   },
   {
    "duration": 272,
    "start_time": "2022-05-23T16:41:41.216Z"
   },
   {
    "duration": 0,
    "start_time": "2022-05-23T17:28:11.084Z"
   },
   {
    "duration": 2825,
    "start_time": "2022-05-23T17:28:25.154Z"
   },
   {
    "duration": 1773,
    "start_time": "2022-05-23T17:28:27.986Z"
   },
   {
    "duration": 57,
    "start_time": "2022-05-23T17:28:29.764Z"
   },
   {
    "duration": 3,
    "start_time": "2022-05-23T17:28:29.823Z"
   },
   {
    "duration": 19,
    "start_time": "2022-05-23T17:28:29.828Z"
   },
   {
    "duration": 10,
    "start_time": "2022-05-23T17:28:29.849Z"
   },
   {
    "duration": 23,
    "start_time": "2022-05-23T17:28:29.861Z"
   },
   {
    "duration": 25,
    "start_time": "2022-05-23T17:28:29.886Z"
   },
   {
    "duration": 456,
    "start_time": "2022-05-23T17:28:29.914Z"
   },
   {
    "duration": 125,
    "start_time": "2022-05-23T17:28:30.374Z"
   },
   {
    "duration": 266,
    "start_time": "2022-05-23T17:28:30.501Z"
   },
   {
    "duration": 27,
    "start_time": "2022-05-23T17:28:30.769Z"
   },
   {
    "duration": 819,
    "start_time": "2022-05-23T17:28:30.802Z"
   },
   {
    "duration": 4,
    "start_time": "2022-05-23T17:28:31.623Z"
   },
   {
    "duration": 389,
    "start_time": "2022-05-23T17:28:31.629Z"
   },
   {
    "duration": 6,
    "start_time": "2022-05-23T17:28:32.021Z"
   },
   {
    "duration": 3957,
    "start_time": "2022-05-23T17:28:32.029Z"
   },
   {
    "duration": 86,
    "start_time": "2022-05-23T17:28:35.998Z"
   },
   {
    "duration": 257,
    "start_time": "2022-05-23T17:28:36.087Z"
   },
   {
    "duration": 7,
    "start_time": "2022-05-23T17:28:36.346Z"
   },
   {
    "duration": 14,
    "start_time": "2022-05-23T17:28:36.354Z"
   },
   {
    "duration": 58,
    "start_time": "2022-05-23T17:28:36.370Z"
   },
   {
    "duration": 32,
    "start_time": "2022-05-23T17:28:36.431Z"
   },
   {
    "duration": 13,
    "start_time": "2022-05-23T17:28:36.464Z"
   },
   {
    "duration": 8,
    "start_time": "2022-05-23T17:28:36.479Z"
   },
   {
    "duration": 25,
    "start_time": "2022-05-23T17:28:36.489Z"
   },
   {
    "duration": 453,
    "start_time": "2022-05-23T17:28:36.515Z"
   },
   {
    "duration": 557,
    "start_time": "2022-05-23T17:28:36.973Z"
   },
   {
    "duration": 3,
    "start_time": "2022-05-23T17:28:37.531Z"
   },
   {
    "duration": 260,
    "start_time": "2022-05-23T17:28:37.535Z"
   },
   {
    "duration": 4804972,
    "start_time": "2022-05-23T17:28:37.797Z"
   },
   {
    "duration": 0,
    "start_time": "2022-05-23T18:48:42.772Z"
   },
   {
    "duration": 0,
    "start_time": "2022-05-23T18:48:42.774Z"
   },
   {
    "duration": 0,
    "start_time": "2022-05-23T18:48:42.784Z"
   },
   {
    "duration": 559087,
    "start_time": "2022-05-23T18:50:51.429Z"
   },
   {
    "duration": 51655,
    "start_time": "2022-05-23T19:00:32.554Z"
   },
   {
    "duration": 128016,
    "start_time": "2022-05-23T19:02:11.316Z"
   },
   {
    "duration": 37,
    "start_time": "2022-05-23T19:04:53.493Z"
   },
   {
    "duration": 2619971,
    "start_time": "2022-05-23T19:07:26.956Z"
   },
   {
    "duration": 2697,
    "start_time": "2022-05-23T19:51:24.890Z"
   },
   {
    "duration": 1718,
    "start_time": "2022-05-23T19:51:27.590Z"
   },
   {
    "duration": 66,
    "start_time": "2022-05-23T19:51:29.310Z"
   },
   {
    "duration": 4,
    "start_time": "2022-05-23T19:51:29.378Z"
   },
   {
    "duration": 25,
    "start_time": "2022-05-23T19:51:29.385Z"
   },
   {
    "duration": 14,
    "start_time": "2022-05-23T19:51:29.412Z"
   },
   {
    "duration": 15,
    "start_time": "2022-05-23T19:51:29.428Z"
   },
   {
    "duration": 41,
    "start_time": "2022-05-23T19:51:29.446Z"
   },
   {
    "duration": 384,
    "start_time": "2022-05-23T19:51:29.490Z"
   },
   {
    "duration": 109,
    "start_time": "2022-05-23T19:51:29.876Z"
   },
   {
    "duration": 296,
    "start_time": "2022-05-23T19:51:29.987Z"
   },
   {
    "duration": 11,
    "start_time": "2022-05-23T19:51:30.286Z"
   },
   {
    "duration": 823,
    "start_time": "2022-05-23T19:51:30.299Z"
   },
   {
    "duration": 5,
    "start_time": "2022-05-23T19:51:31.128Z"
   },
   {
    "duration": 391,
    "start_time": "2022-05-23T19:51:31.135Z"
   },
   {
    "duration": 7,
    "start_time": "2022-05-23T19:51:31.529Z"
   },
   {
    "duration": 3947,
    "start_time": "2022-05-23T19:51:31.538Z"
   },
   {
    "duration": 7,
    "start_time": "2022-05-23T19:51:35.487Z"
   },
   {
    "duration": 332,
    "start_time": "2022-05-23T19:51:35.499Z"
   },
   {
    "duration": 6,
    "start_time": "2022-05-23T19:51:35.833Z"
   },
   {
    "duration": 9,
    "start_time": "2022-05-23T19:51:35.841Z"
   },
   {
    "duration": 37,
    "start_time": "2022-05-23T19:51:35.852Z"
   },
   {
    "duration": 29,
    "start_time": "2022-05-23T19:51:35.891Z"
   },
   {
    "duration": 19,
    "start_time": "2022-05-23T19:51:35.922Z"
   },
   {
    "duration": 5,
    "start_time": "2022-05-23T19:51:35.943Z"
   },
   {
    "duration": 6,
    "start_time": "2022-05-23T19:51:35.950Z"
   },
   {
    "duration": 372,
    "start_time": "2022-05-23T19:51:35.984Z"
   },
   {
    "duration": 517,
    "start_time": "2022-05-23T19:51:36.358Z"
   },
   {
    "duration": 4,
    "start_time": "2022-05-23T19:51:36.883Z"
   },
   {
    "duration": 199,
    "start_time": "2022-05-23T19:51:36.890Z"
   },
   {
    "duration": 41767,
    "start_time": "2022-05-23T19:51:37.091Z"
   },
   {
    "duration": 0,
    "start_time": "2022-05-23T19:52:18.859Z"
   },
   {
    "duration": 0,
    "start_time": "2022-05-23T19:52:18.861Z"
   },
   {
    "duration": 0,
    "start_time": "2022-05-23T19:52:18.862Z"
   },
   {
    "duration": 5942,
    "start_time": "2022-05-24T10:09:17.221Z"
   },
   {
    "duration": 1881,
    "start_time": "2022-05-24T10:09:23.166Z"
   },
   {
    "duration": 124,
    "start_time": "2022-05-24T10:09:25.049Z"
   },
   {
    "duration": 3,
    "start_time": "2022-05-24T10:09:25.176Z"
   },
   {
    "duration": 30,
    "start_time": "2022-05-24T10:09:25.181Z"
   },
   {
    "duration": 10,
    "start_time": "2022-05-24T10:09:25.213Z"
   },
   {
    "duration": 17,
    "start_time": "2022-05-24T10:09:25.225Z"
   },
   {
    "duration": 28,
    "start_time": "2022-05-24T10:09:25.246Z"
   },
   {
    "duration": 365,
    "start_time": "2022-05-24T10:09:25.276Z"
   },
   {
    "duration": 111,
    "start_time": "2022-05-24T10:09:25.645Z"
   },
   {
    "duration": 238,
    "start_time": "2022-05-24T10:09:25.758Z"
   },
   {
    "duration": 10,
    "start_time": "2022-05-24T10:09:25.998Z"
   },
   {
    "duration": 933,
    "start_time": "2022-05-24T10:09:26.010Z"
   },
   {
    "duration": 5,
    "start_time": "2022-05-24T10:09:26.946Z"
   },
   {
    "duration": 415,
    "start_time": "2022-05-24T10:09:26.953Z"
   },
   {
    "duration": 6,
    "start_time": "2022-05-24T10:09:27.371Z"
   },
   {
    "duration": 1449,
    "start_time": "2022-05-24T10:09:27.379Z"
   },
   {
    "duration": 4,
    "start_time": "2022-05-24T10:09:28.830Z"
   },
   {
    "duration": 342,
    "start_time": "2022-05-24T10:09:28.838Z"
   },
   {
    "duration": 6,
    "start_time": "2022-05-24T10:09:29.182Z"
   },
   {
    "duration": 5,
    "start_time": "2022-05-24T10:09:29.192Z"
   },
   {
    "duration": 39,
    "start_time": "2022-05-24T10:09:29.199Z"
   },
   {
    "duration": 52,
    "start_time": "2022-05-24T10:09:29.240Z"
   },
   {
    "duration": 15,
    "start_time": "2022-05-24T10:09:29.294Z"
   },
   {
    "duration": 26,
    "start_time": "2022-05-24T10:09:29.312Z"
   },
   {
    "duration": 12,
    "start_time": "2022-05-24T10:09:29.340Z"
   },
   {
    "duration": 443,
    "start_time": "2022-05-24T10:09:29.354Z"
   },
   {
    "duration": 460,
    "start_time": "2022-05-24T10:09:29.802Z"
   },
   {
    "duration": 4,
    "start_time": "2022-05-24T10:09:30.264Z"
   },
   {
    "duration": 561,
    "start_time": "2022-05-24T10:09:30.270Z"
   },
   {
    "duration": 98504,
    "start_time": "2022-05-24T10:09:30.833Z"
   },
   {
    "duration": 0,
    "start_time": "2022-05-24T10:11:09.339Z"
   },
   {
    "duration": 0,
    "start_time": "2022-05-24T10:11:09.341Z"
   },
   {
    "duration": 0,
    "start_time": "2022-05-24T10:11:09.342Z"
   },
   {
    "duration": 3,
    "start_time": "2022-05-24T10:12:41.863Z"
   },
   {
    "duration": 38922,
    "start_time": "2022-05-24T10:12:42.517Z"
   }
  ],
  "kernelspec": {
   "display_name": "Python 3 (ipykernel)",
   "language": "python",
   "name": "python3"
  },
  "language_info": {
   "codemirror_mode": {
    "name": "ipython",
    "version": 3
   },
   "file_extension": ".py",
   "mimetype": "text/x-python",
   "name": "python",
   "nbconvert_exporter": "python",
   "pygments_lexer": "ipython3",
   "version": "3.10.0"
  },
  "toc": {
   "base_numbering": 1,
   "nav_menu": {},
   "number_sections": true,
   "sideBar": true,
   "skip_h1_title": true,
   "title_cell": "Содержание",
   "title_sidebar": "Contents",
   "toc_cell": true,
   "toc_position": {
    "height": "calc(100% - 180px)",
    "left": "10px",
    "top": "150px",
    "width": "340.797px"
   },
   "toc_section_display": true,
   "toc_window_display": false
  }
 },
 "nbformat": 4,
 "nbformat_minor": 2
}
