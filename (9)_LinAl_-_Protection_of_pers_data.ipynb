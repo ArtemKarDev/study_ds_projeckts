{
 "cells": [
  {
   "cell_type": "markdown",
   "metadata": {
    "toc": true
   },
   "source": [
    "<h1>Содержание<span class=\"tocSkip\"></span></h1>\n",
    "<div class=\"toc\"><ul class=\"toc-item\"><li><span><a href=\"#Загрузка-данных\" data-toc-modified-id=\"Загрузка-данных-1\"><span class=\"toc-item-num\">1&nbsp;&nbsp;</span>Загрузка данных</a></span></li><li><span><a href=\"#Умножение-матриц\" data-toc-modified-id=\"Умножение-матриц-2\"><span class=\"toc-item-num\">2&nbsp;&nbsp;</span>Умножение матриц</a></span></li><li><span><a href=\"#Алгоритм-преобразования\" data-toc-modified-id=\"Алгоритм-преобразования-3\"><span class=\"toc-item-num\">3&nbsp;&nbsp;</span>Алгоритм преобразования</a></span></li><li><span><a href=\"#Проверка-алгоритма\" data-toc-modified-id=\"Проверка-алгоритма-4\"><span class=\"toc-item-num\">4&nbsp;&nbsp;</span>Проверка алгоритма</a></span></li><li><span><a href=\"#Чек-лист-проверки\" data-toc-modified-id=\"Чек-лист-проверки-5\"><span class=\"toc-item-num\">5&nbsp;&nbsp;</span>Чек-лист проверки</a></span></li></ul></div>"
   ]
  },
  {
   "cell_type": "markdown",
   "metadata": {},
   "source": [
    "# Защита персональных данных клиентов"
   ]
  },
  {
   "cell_type": "markdown",
   "metadata": {},
   "source": [
    "Вам нужно защитить данные клиентов страховой компании «Хоть потоп». Разработайте такой метод преобразования данных, чтобы по ним было сложно восстановить персональную информацию. Обоснуйте корректность его работы.\n",
    "\n",
    "Нужно защитить данные, чтобы при преобразовании качество моделей машинного обучения не ухудшилось. Подбирать наилучшую модель не требуется."
   ]
  },
  {
   "cell_type": "markdown",
   "metadata": {},
   "source": [
    "## Загрузка данных"
   ]
  },
  {
   "cell_type": "code",
   "execution_count": 3,
   "metadata": {},
   "outputs": [],
   "source": [
    "\n",
    "# импортируем библиотеки \n",
    "\n",
    "import pandas as pd\n",
    "import numpy as np\n",
    "\n",
    "from sklearn.linear_model import LinearRegression\n",
    "from sklearn.metrics import r2_score\n",
    "from sklearn.model_selection import train_test_split\n",
    "\n",
    "import matplotlib.pyplot as plt\n",
    "import seaborn as sns\n"
   ]
  },
  {
   "cell_type": "code",
   "execution_count": 4,
   "metadata": {},
   "outputs": [],
   "source": [
    "df = pd.read_csv('/datasets/insurance.csv')"
   ]
  },
  {
   "cell_type": "code",
   "execution_count": 5,
   "metadata": {},
   "outputs": [
    {
     "name": "stdout",
     "output_type": "stream",
     "text": [
      "<class 'pandas.core.frame.DataFrame'>\n",
      "RangeIndex: 5000 entries, 0 to 4999\n",
      "Data columns (total 5 columns):\n",
      " #   Column             Non-Null Count  Dtype  \n",
      "---  ------             --------------  -----  \n",
      " 0   Пол                5000 non-null   int64  \n",
      " 1   Возраст            5000 non-null   float64\n",
      " 2   Зарплата           5000 non-null   float64\n",
      " 3   Члены семьи        5000 non-null   int64  \n",
      " 4   Страховые выплаты  5000 non-null   int64  \n",
      "dtypes: float64(2), int64(3)\n",
      "memory usage: 195.4 KB\n"
     ]
    }
   ],
   "source": [
    "df.info()"
   ]
  },
  {
   "cell_type": "code",
   "execution_count": 6,
   "metadata": {},
   "outputs": [
    {
     "data": {
      "text/html": [
       "<div>\n",
       "<style scoped>\n",
       "    .dataframe tbody tr th:only-of-type {\n",
       "        vertical-align: middle;\n",
       "    }\n",
       "\n",
       "    .dataframe tbody tr th {\n",
       "        vertical-align: top;\n",
       "    }\n",
       "\n",
       "    .dataframe thead th {\n",
       "        text-align: right;\n",
       "    }\n",
       "</style>\n",
       "<table border=\"1\" class=\"dataframe\">\n",
       "  <thead>\n",
       "    <tr style=\"text-align: right;\">\n",
       "      <th></th>\n",
       "      <th>Пол</th>\n",
       "      <th>Возраст</th>\n",
       "      <th>Зарплата</th>\n",
       "      <th>Члены семьи</th>\n",
       "      <th>Страховые выплаты</th>\n",
       "    </tr>\n",
       "  </thead>\n",
       "  <tbody>\n",
       "    <tr>\n",
       "      <th>0</th>\n",
       "      <td>1</td>\n",
       "      <td>41.0</td>\n",
       "      <td>49600.0</td>\n",
       "      <td>1</td>\n",
       "      <td>0</td>\n",
       "    </tr>\n",
       "    <tr>\n",
       "      <th>1</th>\n",
       "      <td>0</td>\n",
       "      <td>46.0</td>\n",
       "      <td>38000.0</td>\n",
       "      <td>1</td>\n",
       "      <td>1</td>\n",
       "    </tr>\n",
       "    <tr>\n",
       "      <th>2</th>\n",
       "      <td>0</td>\n",
       "      <td>29.0</td>\n",
       "      <td>21000.0</td>\n",
       "      <td>0</td>\n",
       "      <td>0</td>\n",
       "    </tr>\n",
       "    <tr>\n",
       "      <th>3</th>\n",
       "      <td>0</td>\n",
       "      <td>21.0</td>\n",
       "      <td>41700.0</td>\n",
       "      <td>2</td>\n",
       "      <td>0</td>\n",
       "    </tr>\n",
       "    <tr>\n",
       "      <th>4</th>\n",
       "      <td>1</td>\n",
       "      <td>28.0</td>\n",
       "      <td>26100.0</td>\n",
       "      <td>0</td>\n",
       "      <td>0</td>\n",
       "    </tr>\n",
       "  </tbody>\n",
       "</table>\n",
       "</div>"
      ],
      "text/plain": [
       "   Пол  Возраст  Зарплата  Члены семьи  Страховые выплаты\n",
       "0    1     41.0   49600.0            1                  0\n",
       "1    0     46.0   38000.0            1                  1\n",
       "2    0     29.0   21000.0            0                  0\n",
       "3    0     21.0   41700.0            2                  0\n",
       "4    1     28.0   26100.0            0                  0"
      ]
     },
     "execution_count": 6,
     "metadata": {},
     "output_type": "execute_result"
    }
   ],
   "source": [
    "df.head()"
   ]
  },
  {
   "cell_type": "code",
   "execution_count": 7,
   "metadata": {},
   "outputs": [
    {
     "data": {
      "text/html": [
       "<div>\n",
       "<style scoped>\n",
       "    .dataframe tbody tr th:only-of-type {\n",
       "        vertical-align: middle;\n",
       "    }\n",
       "\n",
       "    .dataframe tbody tr th {\n",
       "        vertical-align: top;\n",
       "    }\n",
       "\n",
       "    .dataframe thead th {\n",
       "        text-align: right;\n",
       "    }\n",
       "</style>\n",
       "<table border=\"1\" class=\"dataframe\">\n",
       "  <thead>\n",
       "    <tr style=\"text-align: right;\">\n",
       "      <th></th>\n",
       "      <th>Пол</th>\n",
       "      <th>Возраст</th>\n",
       "      <th>Зарплата</th>\n",
       "      <th>Члены семьи</th>\n",
       "      <th>Страховые выплаты</th>\n",
       "    </tr>\n",
       "  </thead>\n",
       "  <tbody>\n",
       "    <tr>\n",
       "      <th>count</th>\n",
       "      <td>5000.000000</td>\n",
       "      <td>5000.000000</td>\n",
       "      <td>5000.000000</td>\n",
       "      <td>5000.000000</td>\n",
       "      <td>5000.000000</td>\n",
       "    </tr>\n",
       "    <tr>\n",
       "      <th>mean</th>\n",
       "      <td>0.499000</td>\n",
       "      <td>30.952800</td>\n",
       "      <td>39916.360000</td>\n",
       "      <td>1.194200</td>\n",
       "      <td>0.148000</td>\n",
       "    </tr>\n",
       "    <tr>\n",
       "      <th>std</th>\n",
       "      <td>0.500049</td>\n",
       "      <td>8.440807</td>\n",
       "      <td>9900.083569</td>\n",
       "      <td>1.091387</td>\n",
       "      <td>0.463183</td>\n",
       "    </tr>\n",
       "    <tr>\n",
       "      <th>min</th>\n",
       "      <td>0.000000</td>\n",
       "      <td>18.000000</td>\n",
       "      <td>5300.000000</td>\n",
       "      <td>0.000000</td>\n",
       "      <td>0.000000</td>\n",
       "    </tr>\n",
       "    <tr>\n",
       "      <th>25%</th>\n",
       "      <td>0.000000</td>\n",
       "      <td>24.000000</td>\n",
       "      <td>33300.000000</td>\n",
       "      <td>0.000000</td>\n",
       "      <td>0.000000</td>\n",
       "    </tr>\n",
       "    <tr>\n",
       "      <th>50%</th>\n",
       "      <td>0.000000</td>\n",
       "      <td>30.000000</td>\n",
       "      <td>40200.000000</td>\n",
       "      <td>1.000000</td>\n",
       "      <td>0.000000</td>\n",
       "    </tr>\n",
       "    <tr>\n",
       "      <th>75%</th>\n",
       "      <td>1.000000</td>\n",
       "      <td>37.000000</td>\n",
       "      <td>46600.000000</td>\n",
       "      <td>2.000000</td>\n",
       "      <td>0.000000</td>\n",
       "    </tr>\n",
       "    <tr>\n",
       "      <th>max</th>\n",
       "      <td>1.000000</td>\n",
       "      <td>65.000000</td>\n",
       "      <td>79000.000000</td>\n",
       "      <td>6.000000</td>\n",
       "      <td>5.000000</td>\n",
       "    </tr>\n",
       "  </tbody>\n",
       "</table>\n",
       "</div>"
      ],
      "text/plain": [
       "               Пол      Возраст      Зарплата  Члены семьи  Страховые выплаты\n",
       "count  5000.000000  5000.000000   5000.000000  5000.000000        5000.000000\n",
       "mean      0.499000    30.952800  39916.360000     1.194200           0.148000\n",
       "std       0.500049     8.440807   9900.083569     1.091387           0.463183\n",
       "min       0.000000    18.000000   5300.000000     0.000000           0.000000\n",
       "25%       0.000000    24.000000  33300.000000     0.000000           0.000000\n",
       "50%       0.000000    30.000000  40200.000000     1.000000           0.000000\n",
       "75%       1.000000    37.000000  46600.000000     2.000000           0.000000\n",
       "max       1.000000    65.000000  79000.000000     6.000000           5.000000"
      ]
     },
     "execution_count": 7,
     "metadata": {},
     "output_type": "execute_result"
    }
   ],
   "source": [
    "df.describe()"
   ]
  },
  {
   "cell_type": "code",
   "execution_count": 8,
   "metadata": {},
   "outputs": [
    {
     "data": {
      "text/plain": [
       "0    4436\n",
       "1     423\n",
       "2     115\n",
       "3      18\n",
       "4       7\n",
       "5       1\n",
       "Name: Страховые выплаты, dtype: int64"
      ]
     },
     "execution_count": 8,
     "metadata": {},
     "output_type": "execute_result"
    }
   ],
   "source": [
    "df['Страховые выплаты'].value_counts()"
   ]
  },
  {
   "cell_type": "code",
   "execution_count": 9,
   "metadata": {},
   "outputs": [],
   "source": [
    "# для удобства переименуем столбцы\n",
    "df.columns = ['gender','age','salary','family','payments']"
   ]
  },
  {
   "cell_type": "code",
   "execution_count": 16,
   "metadata": {},
   "outputs": [
    {
     "data": {
      "text/html": [
       "<div>\n",
       "<style scoped>\n",
       "    .dataframe tbody tr th:only-of-type {\n",
       "        vertical-align: middle;\n",
       "    }\n",
       "\n",
       "    .dataframe tbody tr th {\n",
       "        vertical-align: top;\n",
       "    }\n",
       "\n",
       "    .dataframe thead th {\n",
       "        text-align: right;\n",
       "    }\n",
       "</style>\n",
       "<table border=\"1\" class=\"dataframe\">\n",
       "  <thead>\n",
       "    <tr style=\"text-align: right;\">\n",
       "      <th></th>\n",
       "      <th>min_age</th>\n",
       "      <th>max_age</th>\n",
       "      <th>count</th>\n",
       "    </tr>\n",
       "    <tr>\n",
       "      <th>payments</th>\n",
       "      <th></th>\n",
       "      <th></th>\n",
       "      <th></th>\n",
       "    </tr>\n",
       "  </thead>\n",
       "  <tbody>\n",
       "    <tr>\n",
       "      <th>0</th>\n",
       "      <td>18.0</td>\n",
       "      <td>42.0</td>\n",
       "      <td>4436</td>\n",
       "    </tr>\n",
       "    <tr>\n",
       "      <th>1</th>\n",
       "      <td>42.0</td>\n",
       "      <td>49.0</td>\n",
       "      <td>423</td>\n",
       "    </tr>\n",
       "    <tr>\n",
       "      <th>2</th>\n",
       "      <td>49.0</td>\n",
       "      <td>54.0</td>\n",
       "      <td>115</td>\n",
       "    </tr>\n",
       "    <tr>\n",
       "      <th>3</th>\n",
       "      <td>55.0</td>\n",
       "      <td>58.0</td>\n",
       "      <td>18</td>\n",
       "    </tr>\n",
       "    <tr>\n",
       "      <th>4</th>\n",
       "      <td>59.0</td>\n",
       "      <td>62.0</td>\n",
       "      <td>7</td>\n",
       "    </tr>\n",
       "    <tr>\n",
       "      <th>5</th>\n",
       "      <td>65.0</td>\n",
       "      <td>65.0</td>\n",
       "      <td>1</td>\n",
       "    </tr>\n",
       "  </tbody>\n",
       "</table>\n",
       "</div>"
      ],
      "text/plain": [
       "          min_age  max_age  count\n",
       "payments                         \n",
       "0            18.0     42.0   4436\n",
       "1            42.0     49.0    423\n",
       "2            49.0     54.0    115\n",
       "3            55.0     58.0     18\n",
       "4            59.0     62.0      7\n",
       "5            65.0     65.0      1"
      ]
     },
     "execution_count": 16,
     "metadata": {},
     "output_type": "execute_result"
    }
   ],
   "source": [
    "payments = pd.pivot_table(df[['payments','age']],index='payments',values='age',aggfunc=['min','max','count'])\n",
    "payments.columns = ['min_age','max_age','count']\n",
    "payments"
   ]
  },
  {
   "cell_type": "markdown",
   "metadata": {},
   "source": [
    "Данные без пропусков, типы данных приемлемы. можем приступить к задаче"
   ]
  },
  {
   "cell_type": "markdown",
   "metadata": {},
   "source": [
    "## Умножение матриц"
   ]
  },
  {
   "cell_type": "markdown",
   "metadata": {},
   "source": [
    "В этом задании вы можете записывать формулы в *Jupyter Notebook.*\n",
    "\n",
    "Чтобы записать формулу внутри текста, окружите её символами доллара \\\\$; если снаружи —  двойными символами \\\\$\\\\$. Эти формулы записываются на языке вёрстки *LaTeX.* \n",
    "\n",
    "Для примера мы записали формулы линейной регрессии. Можете их скопировать и отредактировать, чтобы решить задачу.\n",
    "\n",
    "Работать в *LaTeX* необязательно."
   ]
  },
  {
   "cell_type": "markdown",
   "metadata": {},
   "source": [
    "Обозначения:\n",
    "\n",
    "- $X$ — матрица признаков (нулевой столбец состоит из единиц)\n",
    "\n",
    "- $y$ — вектор целевого признака\n",
    "\n",
    "- $P$ — матрица, на которую умножаются признаки\n",
    "\n",
    "- $w$ — вектор весов линейной регрессии (нулевой элемент равен сдвигу)"
   ]
  },
  {
   "cell_type": "markdown",
   "metadata": {},
   "source": [
    "Предсказания:\n",
    "\n",
    "$$\n",
    "a = Xw\n",
    "$$\n",
    "\n",
    "Задача обучения:\n",
    "\n",
    "$$\n",
    "w = \\arg\\min_w MSE(Xw, y)\n",
    "$$\n",
    "\n",
    "Формула обучения:\n",
    "\n",
    "$$\n",
    "w = (X^T X)^{-1} X^T y\n",
    "$$"
   ]
  },
  {
   "cell_type": "markdown",
   "metadata": {},
   "source": [
    "Ответьте на вопрос и обоснуйте решение.\n",
    "\n",
    "Признаки умножают на обратимую матрицу. Изменится ли качество линейной регрессии? (Её можно обучить заново.)\n",
    "\n",
    "a. Изменится. \n",
    "\n",
    "b. Не изменится."
   ]
  },
  {
   "cell_type": "markdown",
   "metadata": {},
   "source": [
    "**Ответ:** ..."
   ]
  },
  {
   "cell_type": "markdown",
   "metadata": {},
   "source": [
    "Не изменится. Укажите, как связаны параметры линейной регрессии в исходной задаче и в преобразованной."
   ]
  },
  {
   "cell_type": "markdown",
   "metadata": {},
   "source": [
    "**Обоснование:** ..."
   ]
  },
  {
   "cell_type": "markdown",
   "metadata": {},
   "source": [
    "произведение матрицы на обратимую примем как $XA$ и подставим в формулу обучения\n",
    "\n",
    "$$\n",
    "((X A)^T (X A))^{-1} A^T X^T y = (A^T X^T X A)^{-1} A^T X^T y  \n",
    "$$\n",
    "\n",
    "обратим внимание что при раскрытии скобок с транспонированием места множителей меняются - так ка необходимо соблюсти правила размерности умножаемых матриц $m n * n k = m k$.\n",
    "Дале расскрываем скобки обратности \n",
    "\n",
    "$$\n",
    "(A^T (X^T X) A)^{-1} A^T X^T y = A^{-1} (X^T X)^{-1}(A^T)^{-1} A^T X^T y\n",
    "$$\n",
    "\n",
    "из свойств обратимых матриц  получаем единичную матрицу\n",
    "\n",
    "$$\n",
    "(A^T)^{-1} A^T = E\n",
    "$$\n",
    "\n",
    "сокращаем её - если любую матрицу A умножить на единичную (или наоборот), получится эта же матрица\n",
    "\n",
    "$$\n",
    "= A^{-1} (X^T X)^{-1} X^T y\n",
    "$$"
   ]
  },
  {
   "cell_type": "markdown",
   "metadata": {},
   "source": [
    "Суть получается в том, что матрица умноженная на саму себя в степени -1 - это единичная матрица, которая везде сокращается в формуле и в итоге получаются аналогичные прогнозы при новых весах коэффициентов.\n",
    "\n",
    "вот что происходит при получении предсказаний (по упрощенной формуле) $a = X w $\n",
    "\n",
    "$$\n",
    "a = X A A^{-1} (X^T X)^{-1} X^T y = X E (X^T X)^{-1} X^T y = X (X^T X)^{-1} X^T y\n",
    "$$"
   ]
  },
  {
   "cell_type": "markdown",
   "metadata": {},
   "source": [
    "## Алгоритм преобразования"
   ]
  },
  {
   "cell_type": "markdown",
   "metadata": {},
   "source": [
    "**Алгоритм**\n",
    "1. Создаём обратимую матрицу в которой будет тоже количество солтбцов что и количество строк в таблице признаков(в нашем случае $X(5000x4) * A(4x4)$ - после транспонирования $A(4x4) * X(4x5000)$)\n",
    "2. Перемножаем таблицу признаков на обратимую матрицу тем самым зашифровав данные.\n",
    "3. Проводим стандарную процедуру сознаия обучения модкели и  получения предсказаний\n",
    "\n",
    "\n",
    "\n"
   ]
  },
  {
   "cell_type": "markdown",
   "metadata": {},
   "source": [
    "**Обоснование**\n",
    "\n",
    "Данный способ позваляет легко зашифровать данные и не повлиять на качество модели"
   ]
  },
  {
   "cell_type": "markdown",
   "metadata": {},
   "source": [
    "## Проверка алгоритма"
   ]
  },
  {
   "cell_type": "code",
   "execution_count": 17,
   "metadata": {},
   "outputs": [
    {
     "name": "stdout",
     "output_type": "stream",
     "text": [
      "(4000, 4) (4000,) (1000, 4) (1000,)\n"
     ]
    }
   ],
   "source": [
    "# отберем признаки\n",
    "features = df.drop(['payments'], axis=1)\n",
    "target = df['payments']\n",
    "\n",
    "# разделим дата сет на тренировочную и валидационную для оценки коэффициента детерминации\n",
    "features_train, features_valid, target_train, target_valid = train_test_split(features, target, test_size=0.2, random_state=42)\n",
    "print(features_train.shape, target_train.shape, features_valid.shape, target_valid.shape,)"
   ]
  },
  {
   "cell_type": "code",
   "execution_count": 19,
   "metadata": {},
   "outputs": [
    {
     "data": {
      "text/plain": [
       "0.43687"
      ]
     },
     "execution_count": 19,
     "metadata": {},
     "output_type": "execute_result"
    }
   ],
   "source": [
    "# обучим модель и сохраним предсказания\n",
    "model_lr = LinearRegression()\n",
    "model_lr.fit(features_train,target_train)\n",
    "prediction = model_lr.predict(features_valid)\n",
    "# оценка\n",
    "round(r2_score(target_valid,prediction),5)"
   ]
  },
  {
   "cell_type": "code",
   "execution_count": 20,
   "metadata": {},
   "outputs": [
    {
     "name": "stdout",
     "output_type": "stream",
     "text": [
      "R2_score на обычных данных: 0.4368694923137991\n"
     ]
    },
    {
     "data": {
      "text/plain": [
       "0.43687"
      ]
     },
     "execution_count": 20,
     "metadata": {},
     "output_type": "execute_result"
    }
   ],
   "source": [
    "#Код ревьюера\n",
    "model = LinearRegression()\n",
    "\n",
    "model.fit(features_train, target_train)\n",
    "predictions = model.predict(features_valid)\n",
    "print('R2_score на обычных данных:', r2_score(target_valid, predictions))\n",
    "round(r2_score(target_valid, predictions),5)"
   ]
  },
  {
   "cell_type": "markdown",
   "metadata": {},
   "source": [
    "Теперь посмотрим какая оценка будет при искажении обучающих признаков с целью зашифровать персональные данные "
   ]
  },
  {
   "cell_type": "code",
   "execution_count": 21,
   "metadata": {},
   "outputs": [
    {
     "data": {
      "text/plain": [
       "array([[ 1.00000000e+00,  6.02896400e-16, -7.07365415e-17,\n",
       "        -4.07132790e-16],\n",
       "       [-1.41667236e-16,  1.00000000e+00, -2.14292371e-16,\n",
       "        -1.44661643e-16],\n",
       "       [-2.51762164e-16,  3.77125636e-16,  1.00000000e+00,\n",
       "         3.53914420e-16],\n",
       "       [-8.93700427e-16,  5.77523071e-16,  1.65809820e-16,\n",
       "         1.00000000e+00]])"
      ]
     },
     "execution_count": 21,
     "metadata": {},
     "output_type": "execute_result"
    }
   ],
   "source": [
    "# заморозим рандом\n",
    "np.random.seed(42)\n",
    "# наколдуем матрицу - с помощью  np.random.normal - получим обратимую\n",
    "norm_disp_matrix = np.random.normal(50,20,(4,4))\n",
    "# проверим обратимая ли она\n",
    "np.dot(norm_disp_matrix,np.linalg.inv(norm_disp_matrix))"
   ]
  },
  {
   "cell_type": "code",
   "execution_count": 23,
   "metadata": {},
   "outputs": [
    {
     "data": {
      "text/plain": [
       "(5000, 4)"
      ]
     },
     "execution_count": 23,
     "metadata": {},
     "output_type": "execute_result"
    }
   ],
   "source": [
    "# преобразуем признаки с помощью умножения на обратимую матрицу\n",
    "features_inv = np.dot(features.values, np.linalg.inv(norm_disp_matrix))\n",
    "features_inv.shape"
   ]
  },
  {
   "cell_type": "markdown",
   "metadata": {},
   "source": [
    "Вновь разделим выборки и обучим модель "
   ]
  },
  {
   "cell_type": "code",
   "execution_count": 24,
   "metadata": {},
   "outputs": [
    {
     "name": "stdout",
     "output_type": "stream",
     "text": [
      "(4000, 4) (4000,) (1000, 4) (1000,)\n",
      "0.43687\n"
     ]
    }
   ],
   "source": [
    "features_train, features_valid, target_train, target_valid = train_test_split(features_inv, target, test_size=0.2, random_state=42)\n",
    "print(features_train.shape, target_train.shape, features_valid.shape, target_valid.shape,)\n",
    "model_lr = LinearRegression()\n",
    "model_lr.fit(features_train,target_train)\n",
    "prediction = model_lr.predict(features_valid)\n",
    "print(round(r2_score( target_valid,prediction),5))"
   ]
  },
  {
   "cell_type": "markdown",
   "metadata": {},
   "source": [
    "Получили туже оценку точности модель  - вывод качество линейной регресси не изменилось"
   ]
  }
 ],
 "metadata": {
  "ExecuteTimeLog": [
   {
    "duration": 47,
    "start_time": "2022-04-27T10:19:00.856Z"
   },
   {
    "duration": 441,
    "start_time": "2022-04-27T10:19:03.647Z"
   },
   {
    "duration": 27,
    "start_time": "2022-04-27T10:19:04.363Z"
   },
   {
    "duration": 17,
    "start_time": "2022-04-27T10:19:19.500Z"
   },
   {
    "duration": 14,
    "start_time": "2022-04-27T10:19:34.448Z"
   },
   {
    "duration": 18,
    "start_time": "2022-04-27T10:19:41.708Z"
   },
   {
    "duration": 23,
    "start_time": "2022-04-27T10:20:02.428Z"
   },
   {
    "duration": 6,
    "start_time": "2022-04-27T10:20:58.597Z"
   },
   {
    "duration": 3,
    "start_time": "2022-04-27T15:57:41.617Z"
   },
   {
    "duration": 12,
    "start_time": "2022-04-27T15:57:41.818Z"
   },
   {
    "duration": 14,
    "start_time": "2022-04-27T15:57:41.966Z"
   },
   {
    "duration": 12,
    "start_time": "2022-04-27T15:57:42.114Z"
   },
   {
    "duration": 23,
    "start_time": "2022-04-27T15:57:42.283Z"
   },
   {
    "duration": 8,
    "start_time": "2022-04-27T15:57:42.390Z"
   },
   {
    "duration": 931,
    "start_time": "2022-04-27T17:01:47.663Z"
   },
   {
    "duration": 9,
    "start_time": "2022-04-27T17:01:55.212Z"
   },
   {
    "duration": 11,
    "start_time": "2022-04-27T17:02:03.279Z"
   },
   {
    "duration": 3,
    "start_time": "2022-04-27T17:02:06.178Z"
   },
   {
    "duration": 9,
    "start_time": "2022-04-27T17:02:58.411Z"
   },
   {
    "duration": 3,
    "start_time": "2022-04-27T17:03:21.487Z"
   },
   {
    "duration": 4,
    "start_time": "2022-04-27T17:05:15.920Z"
   },
   {
    "duration": 14,
    "start_time": "2022-04-27T17:05:50.185Z"
   },
   {
    "duration": 4,
    "start_time": "2022-04-27T17:06:20.127Z"
   },
   {
    "duration": 4,
    "start_time": "2022-04-27T17:22:20.916Z"
   },
   {
    "duration": 18,
    "start_time": "2022-04-27T17:24:21.986Z"
   },
   {
    "duration": 7,
    "start_time": "2022-04-27T17:24:37.652Z"
   },
   {
    "duration": 8,
    "start_time": "2022-04-27T17:25:09.219Z"
   },
   {
    "duration": 7,
    "start_time": "2022-04-27T17:25:22.262Z"
   },
   {
    "duration": 12,
    "start_time": "2022-04-27T17:27:44.131Z"
   },
   {
    "duration": 20,
    "start_time": "2022-04-27T17:27:48.856Z"
   },
   {
    "duration": 10,
    "start_time": "2022-04-27T17:28:09.894Z"
   },
   {
    "duration": 128,
    "start_time": "2022-04-27T17:33:54.128Z"
   },
   {
    "duration": 127,
    "start_time": "2022-04-27T17:36:11.502Z"
   },
   {
    "duration": 8,
    "start_time": "2022-04-27T17:58:51.559Z"
   },
   {
    "duration": 10,
    "start_time": "2022-04-27T17:59:06.720Z"
   },
   {
    "duration": 9,
    "start_time": "2022-04-27T17:59:11.981Z"
   },
   {
    "duration": 8,
    "start_time": "2022-04-27T17:59:17.260Z"
   },
   {
    "duration": 113,
    "start_time": "2022-04-27T17:59:17.772Z"
   },
   {
    "duration": 10,
    "start_time": "2022-04-27T17:59:24.498Z"
   },
   {
    "duration": 9,
    "start_time": "2022-04-27T17:59:30.607Z"
   },
   {
    "duration": 14,
    "start_time": "2022-04-27T18:01:20.047Z"
   },
   {
    "duration": 30901,
    "start_time": "2022-04-27T18:31:19.820Z"
   },
   {
    "duration": 33667,
    "start_time": "2022-04-27T18:32:00.296Z"
   },
   {
    "duration": 4,
    "start_time": "2022-04-27T18:33:07.730Z"
   },
   {
    "duration": 3,
    "start_time": "2022-04-27T18:33:12.784Z"
   },
   {
    "duration": 173,
    "start_time": "2022-04-27T18:33:31.490Z"
   },
   {
    "duration": 12,
    "start_time": "2022-04-27T18:33:54.978Z"
   },
   {
    "duration": 5,
    "start_time": "2022-04-27T18:34:54.878Z"
   },
   {
    "duration": 3,
    "start_time": "2022-04-27T18:34:56.647Z"
   },
   {
    "duration": 4,
    "start_time": "2022-04-27T18:34:59.915Z"
   },
   {
    "duration": 7,
    "start_time": "2022-04-27T18:35:08.008Z"
   },
   {
    "duration": 6,
    "start_time": "2022-04-27T18:35:18.914Z"
   },
   {
    "duration": 11,
    "start_time": "2022-04-27T18:35:50.069Z"
   },
   {
    "duration": 7,
    "start_time": "2022-04-27T18:36:26.323Z"
   },
   {
    "duration": 4,
    "start_time": "2022-04-27T18:36:27.129Z"
   },
   {
    "duration": 7,
    "start_time": "2022-04-27T18:36:27.923Z"
   },
   {
    "duration": 7,
    "start_time": "2022-04-27T18:36:29.066Z"
   },
   {
    "duration": 7,
    "start_time": "2022-04-27T18:36:30.059Z"
   },
   {
    "duration": 7,
    "start_time": "2022-04-27T18:36:44.438Z"
   },
   {
    "duration": 3,
    "start_time": "2022-04-27T18:36:46.090Z"
   },
   {
    "duration": 8,
    "start_time": "2022-04-27T18:36:47.084Z"
   },
   {
    "duration": 5,
    "start_time": "2022-04-27T18:36:47.818Z"
   },
   {
    "duration": 7,
    "start_time": "2022-04-27T18:36:48.801Z"
   },
   {
    "duration": 6,
    "start_time": "2022-04-27T18:36:59.467Z"
   },
   {
    "duration": 7,
    "start_time": "2022-04-27T18:37:04.108Z"
   },
   {
    "duration": 8,
    "start_time": "2022-04-27T18:38:00.504Z"
   },
   {
    "duration": 14,
    "start_time": "2022-04-27T18:38:02.434Z"
   },
   {
    "duration": 10,
    "start_time": "2022-04-27T20:30:05.570Z"
   },
   {
    "duration": 137,
    "start_time": "2022-04-27T21:12:10.152Z"
   },
   {
    "duration": 11,
    "start_time": "2022-04-27T21:13:30.289Z"
   },
   {
    "duration": 628,
    "start_time": "2022-04-27T21:13:34.865Z"
   },
   {
    "duration": 116,
    "start_time": "2022-04-27T21:14:06.364Z"
   },
   {
    "duration": 133,
    "start_time": "2022-04-27T21:14:32.188Z"
   },
   {
    "duration": 6,
    "start_time": "2022-04-27T21:15:52.429Z"
   },
   {
    "duration": 110,
    "start_time": "2022-04-27T21:15:56.744Z"
   },
   {
    "duration": 11,
    "start_time": "2022-04-27T21:18:03.798Z"
   },
   {
    "duration": 112,
    "start_time": "2022-04-27T21:18:21.164Z"
   },
   {
    "duration": 31,
    "start_time": "2022-04-27T21:22:52.076Z"
   },
   {
    "duration": 85,
    "start_time": "2022-04-27T21:22:52.970Z"
   },
   {
    "duration": 204,
    "start_time": "2022-04-27T21:23:08.030Z"
   },
   {
    "duration": 131,
    "start_time": "2022-04-27T21:23:28.920Z"
   },
   {
    "duration": 111,
    "start_time": "2022-04-27T21:23:55.013Z"
   },
   {
    "duration": 449,
    "start_time": "2022-04-27T21:24:01.531Z"
   },
   {
    "duration": 404,
    "start_time": "2022-04-27T21:24:30.036Z"
   },
   {
    "duration": 431,
    "start_time": "2022-04-27T21:24:51.507Z"
   },
   {
    "duration": 410,
    "start_time": "2022-04-27T21:25:43.678Z"
   },
   {
    "duration": 433,
    "start_time": "2022-04-27T21:25:56.874Z"
   },
   {
    "duration": 4,
    "start_time": "2022-04-27T21:27:16.509Z"
   },
   {
    "duration": 304,
    "start_time": "2022-04-27T21:27:32.792Z"
   },
   {
    "duration": 11,
    "start_time": "2022-04-28T04:40:09.440Z"
   },
   {
    "duration": 50949,
    "start_time": "2022-04-28T04:42:26.839Z"
   },
   {
    "duration": 0,
    "start_time": "2022-04-28T04:43:17.790Z"
   },
   {
    "duration": 125,
    "start_time": "2022-04-28T04:43:51.557Z"
   },
   {
    "duration": 8,
    "start_time": "2022-04-28T04:44:23.380Z"
   },
   {
    "duration": 21,
    "start_time": "2022-04-28T04:49:41.943Z"
   },
   {
    "duration": 6,
    "start_time": "2022-04-28T04:50:11.438Z"
   },
   {
    "duration": 12,
    "start_time": "2022-04-28T04:50:34.675Z"
   },
   {
    "duration": 4,
    "start_time": "2022-04-28T04:50:51.851Z"
   },
   {
    "duration": 320,
    "start_time": "2022-04-28T04:51:18.403Z"
   },
   {
    "duration": 6,
    "start_time": "2022-04-28T04:53:25.158Z"
   },
   {
    "duration": 12,
    "start_time": "2022-04-28T04:53:53.195Z"
   },
   {
    "duration": 6,
    "start_time": "2022-04-28T04:54:07.117Z"
   },
   {
    "duration": 6,
    "start_time": "2022-04-28T04:54:50.270Z"
   },
   {
    "duration": 5,
    "start_time": "2022-04-28T04:54:58.463Z"
   },
   {
    "duration": 9,
    "start_time": "2022-04-28T04:55:15.051Z"
   },
   {
    "duration": 15,
    "start_time": "2022-04-28T04:55:35.601Z"
   },
   {
    "duration": 8,
    "start_time": "2022-04-28T04:55:53.040Z"
   },
   {
    "duration": 8,
    "start_time": "2022-04-28T04:56:09.240Z"
   },
   {
    "duration": 8,
    "start_time": "2022-04-28T04:56:27.766Z"
   },
   {
    "duration": 296,
    "start_time": "2022-04-28T04:56:54.665Z"
   },
   {
    "duration": 8,
    "start_time": "2022-04-28T04:57:38.224Z"
   },
   {
    "duration": 7,
    "start_time": "2022-04-28T05:17:21.279Z"
   },
   {
    "duration": 3,
    "start_time": "2022-04-28T17:16:56.090Z"
   },
   {
    "duration": 107,
    "start_time": "2022-04-28T17:29:25.768Z"
   },
   {
    "duration": 424,
    "start_time": "2022-04-28T17:42:14.433Z"
   },
   {
    "duration": 422,
    "start_time": "2022-04-28T17:42:16.696Z"
   },
   {
    "duration": 3,
    "start_time": "2022-04-28T17:42:27.645Z"
   },
   {
    "duration": 37,
    "start_time": "2022-04-28T17:42:27.650Z"
   },
   {
    "duration": 11,
    "start_time": "2022-04-28T17:42:27.688Z"
   },
   {
    "duration": 16,
    "start_time": "2022-04-28T17:42:27.700Z"
   },
   {
    "duration": 22,
    "start_time": "2022-04-28T17:42:27.719Z"
   },
   {
    "duration": 5,
    "start_time": "2022-04-28T17:42:27.743Z"
   },
   {
    "duration": 8,
    "start_time": "2022-04-28T17:42:27.749Z"
   },
   {
    "duration": 6,
    "start_time": "2022-04-28T17:42:27.758Z"
   },
   {
    "duration": 9,
    "start_time": "2022-04-28T17:42:27.766Z"
   },
   {
    "duration": 10,
    "start_time": "2022-04-28T17:42:27.776Z"
   },
   {
    "duration": 6,
    "start_time": "2022-04-28T17:42:27.787Z"
   },
   {
    "duration": 67,
    "start_time": "2022-04-28T17:42:27.795Z"
   },
   {
    "duration": 96,
    "start_time": "2022-04-28T17:42:27.866Z"
   },
   {
    "duration": 494,
    "start_time": "2022-04-28T17:42:27.965Z"
   },
   {
    "duration": 326,
    "start_time": "2022-04-28T17:42:28.461Z"
   },
   {
    "duration": 99,
    "start_time": "2022-04-28T17:42:28.789Z"
   },
   {
    "duration": 3,
    "start_time": "2022-04-28T17:42:51.683Z"
   },
   {
    "duration": 17,
    "start_time": "2022-04-28T17:42:51.688Z"
   },
   {
    "duration": 10,
    "start_time": "2022-04-28T17:42:51.707Z"
   },
   {
    "duration": 7,
    "start_time": "2022-04-28T17:42:51.719Z"
   },
   {
    "duration": 21,
    "start_time": "2022-04-28T17:42:51.729Z"
   },
   {
    "duration": 5,
    "start_time": "2022-04-28T17:42:51.752Z"
   },
   {
    "duration": 5,
    "start_time": "2022-04-28T17:42:51.759Z"
   },
   {
    "duration": 7,
    "start_time": "2022-04-28T17:42:51.765Z"
   },
   {
    "duration": 9,
    "start_time": "2022-04-28T17:42:51.773Z"
   },
   {
    "duration": 9,
    "start_time": "2022-04-28T17:42:51.783Z"
   },
   {
    "duration": 7,
    "start_time": "2022-04-28T17:42:51.793Z"
   },
   {
    "duration": 6,
    "start_time": "2022-04-28T17:42:51.855Z"
   },
   {
    "duration": 92,
    "start_time": "2022-04-28T17:42:51.863Z"
   },
   {
    "duration": 507,
    "start_time": "2022-04-28T17:42:51.958Z"
   },
   {
    "duration": 341,
    "start_time": "2022-04-28T17:42:52.466Z"
   },
   {
    "duration": 392,
    "start_time": "2022-04-29T15:52:19.827Z"
   },
   {
    "duration": 17,
    "start_time": "2022-04-29T15:52:20.221Z"
   },
   {
    "duration": 11,
    "start_time": "2022-04-29T15:52:20.239Z"
   },
   {
    "duration": 14,
    "start_time": "2022-04-29T15:52:20.252Z"
   },
   {
    "duration": 20,
    "start_time": "2022-04-29T15:52:20.268Z"
   },
   {
    "duration": 5,
    "start_time": "2022-04-29T15:52:20.290Z"
   },
   {
    "duration": 12,
    "start_time": "2022-04-29T15:52:20.297Z"
   },
   {
    "duration": 967,
    "start_time": "2022-04-29T15:52:20.325Z"
   },
   {
    "duration": 8,
    "start_time": "2022-04-29T15:52:21.294Z"
   },
   {
    "duration": 11,
    "start_time": "2022-04-29T15:52:21.304Z"
   },
   {
    "duration": 14,
    "start_time": "2022-04-29T15:52:21.317Z"
   },
   {
    "duration": 6,
    "start_time": "2022-04-29T15:52:21.332Z"
   },
   {
    "duration": 85,
    "start_time": "2022-04-29T15:52:21.340Z"
   },
   {
    "duration": 8,
    "start_time": "2022-04-29T15:52:21.428Z"
   },
   {
    "duration": 890,
    "start_time": "2022-04-29T15:52:21.438Z"
   },
   {
    "duration": 321,
    "start_time": "2022-04-29T15:52:22.330Z"
   },
   {
    "duration": 7,
    "start_time": "2022-04-29T15:53:14.458Z"
   },
   {
    "duration": 5,
    "start_time": "2022-04-29T15:53:35.908Z"
   },
   {
    "duration": 2,
    "start_time": "2022-04-29T15:54:00.631Z"
   },
   {
    "duration": 9,
    "start_time": "2022-04-29T15:54:02.172Z"
   },
   {
    "duration": 13,
    "start_time": "2022-04-29T15:54:03.938Z"
   },
   {
    "duration": 11,
    "start_time": "2022-04-29T15:54:14.539Z"
   },
   {
    "duration": 14,
    "start_time": "2022-04-29T15:55:38.166Z"
   },
   {
    "duration": 5,
    "start_time": "2022-04-29T15:57:31.249Z"
   },
   {
    "duration": 5,
    "start_time": "2022-04-29T15:57:37.825Z"
   },
   {
    "duration": 4,
    "start_time": "2022-04-29T16:01:51.959Z"
   },
   {
    "duration": 107,
    "start_time": "2022-04-29T16:02:54.409Z"
   },
   {
    "duration": 9,
    "start_time": "2022-04-29T16:03:06.919Z"
   },
   {
    "duration": 10,
    "start_time": "2022-04-29T16:04:36.111Z"
   },
   {
    "duration": 10,
    "start_time": "2022-04-29T16:05:38.079Z"
   },
   {
    "duration": 11,
    "start_time": "2022-04-29T16:11:10.709Z"
   },
   {
    "duration": 408,
    "start_time": "2022-04-29T16:11:20.504Z"
   },
   {
    "duration": 12,
    "start_time": "2022-04-29T16:11:20.914Z"
   },
   {
    "duration": 11,
    "start_time": "2022-04-29T16:11:20.927Z"
   },
   {
    "duration": 18,
    "start_time": "2022-04-29T16:11:20.940Z"
   },
   {
    "duration": 20,
    "start_time": "2022-04-29T16:11:20.960Z"
   },
   {
    "duration": 5,
    "start_time": "2022-04-29T16:11:20.981Z"
   },
   {
    "duration": 9,
    "start_time": "2022-04-29T16:11:20.988Z"
   },
   {
    "duration": 1091,
    "start_time": "2022-04-29T16:11:20.999Z"
   },
   {
    "duration": 9,
    "start_time": "2022-04-29T16:11:22.092Z"
   },
   {
    "duration": 13,
    "start_time": "2022-04-29T16:11:22.103Z"
   },
   {
    "duration": 27,
    "start_time": "2022-04-29T16:11:22.118Z"
   },
   {
    "duration": 15,
    "start_time": "2022-04-29T16:11:22.147Z"
   },
   {
    "duration": 17,
    "start_time": "2022-04-29T16:11:22.163Z"
   },
   {
    "duration": 12,
    "start_time": "2022-04-29T16:11:22.224Z"
   },
   {
    "duration": 1038,
    "start_time": "2022-04-29T16:11:22.238Z"
   },
   {
    "duration": 324,
    "start_time": "2022-04-29T16:11:23.278Z"
   },
   {
    "duration": 436,
    "start_time": "2022-04-29T16:17:19.333Z"
   },
   {
    "duration": 13,
    "start_time": "2022-04-29T16:18:04.953Z"
   },
   {
    "duration": 198,
    "start_time": "2022-04-29T16:28:58.586Z"
   },
   {
    "duration": 18,
    "start_time": "2022-04-29T16:29:50.892Z"
   },
   {
    "duration": 5,
    "start_time": "2022-04-29T16:30:10.852Z"
   },
   {
    "duration": 16,
    "start_time": "2022-04-29T16:30:41.359Z"
   },
   {
    "duration": 5,
    "start_time": "2022-04-29T16:33:58.109Z"
   },
   {
    "duration": 6,
    "start_time": "2022-04-29T16:34:55.087Z"
   },
   {
    "duration": 98,
    "start_time": "2022-04-29T16:35:02.992Z"
   },
   {
    "duration": 12,
    "start_time": "2022-04-29T16:35:19.814Z"
   },
   {
    "duration": 10,
    "start_time": "2022-04-29T16:51:24.917Z"
   },
   {
    "duration": 10,
    "start_time": "2022-04-29T16:51:42.410Z"
   },
   {
    "duration": 454,
    "start_time": "2022-04-29T16:52:11.048Z"
   },
   {
    "duration": 431,
    "start_time": "2022-04-29T16:52:38.467Z"
   },
   {
    "duration": 4,
    "start_time": "2022-04-29T16:52:40.687Z"
   },
   {
    "duration": 131,
    "start_time": "2022-04-30T05:56:49.002Z"
   },
   {
    "duration": 72,
    "start_time": "2022-04-30T06:06:20.317Z"
   },
   {
    "duration": 2706,
    "start_time": "2022-04-30T06:06:26.296Z"
   },
   {
    "duration": 21,
    "start_time": "2022-04-30T06:06:29.005Z"
   },
   {
    "duration": 19,
    "start_time": "2022-04-30T06:06:29.029Z"
   },
   {
    "duration": 22,
    "start_time": "2022-04-30T06:06:29.051Z"
   },
   {
    "duration": 63,
    "start_time": "2022-04-30T06:06:29.075Z"
   },
   {
    "duration": 9,
    "start_time": "2022-04-30T06:06:29.143Z"
   },
   {
    "duration": 11,
    "start_time": "2022-04-30T06:06:29.154Z"
   },
   {
    "duration": 115,
    "start_time": "2022-04-30T06:06:30.314Z"
   },
   {
    "duration": 89,
    "start_time": "2022-04-30T06:06:50.918Z"
   },
   {
    "duration": 106,
    "start_time": "2022-04-30T06:07:24.673Z"
   },
   {
    "duration": 28,
    "start_time": "2022-04-30T06:08:31.363Z"
   },
   {
    "duration": 37,
    "start_time": "2022-04-30T06:15:25.076Z"
   },
   {
    "duration": 27,
    "start_time": "2022-04-30T06:16:44.313Z"
   },
   {
    "duration": 33,
    "start_time": "2022-04-30T06:16:49.546Z"
   },
   {
    "duration": 15,
    "start_time": "2022-04-30T06:24:40.605Z"
   },
   {
    "duration": 19,
    "start_time": "2022-04-30T06:24:41.413Z"
   },
   {
    "duration": 13,
    "start_time": "2022-04-30T06:26:25.187Z"
   },
   {
    "duration": 15,
    "start_time": "2022-04-30T06:28:45.214Z"
   },
   {
    "duration": 10,
    "start_time": "2022-04-30T06:28:46.075Z"
   },
   {
    "duration": 18,
    "start_time": "2022-04-30T06:29:04.396Z"
   },
   {
    "duration": 8,
    "start_time": "2022-04-30T06:29:08.979Z"
   },
   {
    "duration": 12,
    "start_time": "2022-04-30T06:29:09.994Z"
   }
  ],
  "kernelspec": {
   "display_name": "Python 3 (ipykernel)",
   "language": "python",
   "name": "python3"
  },
  "language_info": {
   "codemirror_mode": {
    "name": "ipython",
    "version": 3
   },
   "file_extension": ".py",
   "mimetype": "text/x-python",
   "name": "python",
   "nbconvert_exporter": "python",
   "pygments_lexer": "ipython3",
   "version": "3.10.0"
  },
  "toc": {
   "base_numbering": 1,
   "nav_menu": {},
   "number_sections": true,
   "sideBar": true,
   "skip_h1_title": true,
   "title_cell": "Содержание",
   "title_sidebar": "Contents",
   "toc_cell": true,
   "toc_position": {},
   "toc_section_display": true,
   "toc_window_display": true
  }
 },
 "nbformat": 4,
 "nbformat_minor": 2
}
