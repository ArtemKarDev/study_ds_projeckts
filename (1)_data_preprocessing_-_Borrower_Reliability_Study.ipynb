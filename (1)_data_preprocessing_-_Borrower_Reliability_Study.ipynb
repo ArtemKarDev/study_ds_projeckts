{
 "cells": [
  {
   "cell_type": "markdown",
   "metadata": {},
   "source": [
    "# Исследование надёжности заёмщиков\n",
    "\n",
    "Заказчик — кредитный отдел банка. Нужно разобраться, влияет ли семейное положение и количество детей клиента на факт погашения кредита в срок. Входные данные от банка — статистика о платёжеспособности клиентов.\n",
    "\n",
    "Результаты исследования будут учтены при построении модели **кредитного скоринга** — специальной системы, которая оценивает способность потенциального заёмщика вернуть кредит банку."
   ]
  },
  {
   "cell_type": "code",
   "execution_count": 1,
   "metadata": {},
   "outputs": [],
   "source": [
    "# импортируем нужные библиотеки\n",
    "import pandas as pd          # инструмент для работы данными \n",
    "from pymystem3 import Mystem # для лемматизаци\n",
    "import seaborn as sns        # для визуализации данных\n",
    "import numpy as np           # для возможности вызывать математические функции\n",
    "from collections import Counter # для подсчета количества элементов последовательности        "
   ]
  },
  {
   "cell_type": "markdown",
   "metadata": {},
   "source": [
    "## Шаг 1. Откройте файл с данными и изучите общую информацию"
   ]
  },
  {
   "cell_type": "markdown",
   "metadata": {},
   "source": [
    "Cчитаем данные и сохраним под именем df"
   ]
  },
  {
   "cell_type": "code",
   "execution_count": 2,
   "metadata": {},
   "outputs": [],
   "source": [
    "# используем конструкцию try-except на случай если не получится работать над проектам локально\n",
    "try:\n",
    "    df = pd.read_csv('C:/Users/datasets/data.csv')\n",
    "except:\n",
    "    df = pd.read_csv('/datasets/data.csv')"
   ]
  },
  {
   "cell_type": "markdown",
   "metadata": {},
   "source": [
    "Посмотрим сколько и какого типа информацию предстоит обрабатывать. "
   ]
  },
  {
   "cell_type": "code",
   "execution_count": 3,
   "metadata": {},
   "outputs": [
    {
     "name": "stdout",
     "output_type": "stream",
     "text": [
      "<class 'pandas.core.frame.DataFrame'>\n",
      "RangeIndex: 21525 entries, 0 to 21524\n",
      "Data columns (total 12 columns):\n",
      "children            21525 non-null int64\n",
      "days_employed       19351 non-null float64\n",
      "dob_years           21525 non-null int64\n",
      "education           21525 non-null object\n",
      "education_id        21525 non-null int64\n",
      "family_status       21525 non-null object\n",
      "family_status_id    21525 non-null int64\n",
      "gender              21525 non-null object\n",
      "income_type         21525 non-null object\n",
      "debt                21525 non-null int64\n",
      "total_income        19351 non-null float64\n",
      "purpose             21525 non-null object\n",
      "dtypes: float64(2), int64(5), object(5)\n",
      "memory usage: 2.0+ MB\n"
     ]
    }
   ],
   "source": [
    "df.info()"
   ]
  },
  {
   "cell_type": "markdown",
   "metadata": {},
   "source": [
    "Видим всего 21525 строк в 12 колонках"
   ]
  },
  {
   "cell_type": "markdown",
   "metadata": {},
   "source": [
    "В двух колонках есть пропуски"
   ]
  },
  {
   "cell_type": "code",
   "execution_count": 4,
   "metadata": {},
   "outputs": [
    {
     "data": {
      "text/plain": [
       "days_employed    10.099884\n",
       "total_income     10.099884\n",
       "dtype: float64"
      ]
     },
     "execution_count": 4,
     "metadata": {},
     "output_type": "execute_result"
    }
   ],
   "source": [
    "df[{'days_employed','total_income'}].isna().mean() * 100"
   ]
  },
  {
   "cell_type": "markdown",
   "metadata": {},
   "source": [
    "по 10 процентов пропусков в колонках - считаю это много. будем заполнять."
   ]
  },
  {
   "cell_type": "markdown",
   "metadata": {},
   "source": [
    "Имена колонок в нормальном виде"
   ]
  },
  {
   "cell_type": "code",
   "execution_count": 5,
   "metadata": {},
   "outputs": [
    {
     "data": {
      "text/html": [
       "<div>\n",
       "<style scoped>\n",
       "    .dataframe tbody tr th:only-of-type {\n",
       "        vertical-align: middle;\n",
       "    }\n",
       "\n",
       "    .dataframe tbody tr th {\n",
       "        vertical-align: top;\n",
       "    }\n",
       "\n",
       "    .dataframe thead th {\n",
       "        text-align: right;\n",
       "    }\n",
       "</style>\n",
       "<table border=\"1\" class=\"dataframe\">\n",
       "  <thead>\n",
       "    <tr style=\"text-align: right;\">\n",
       "      <th></th>\n",
       "      <th>children</th>\n",
       "      <th>days_employed</th>\n",
       "      <th>dob_years</th>\n",
       "      <th>education</th>\n",
       "      <th>education_id</th>\n",
       "      <th>family_status</th>\n",
       "      <th>family_status_id</th>\n",
       "      <th>gender</th>\n",
       "      <th>income_type</th>\n",
       "      <th>debt</th>\n",
       "      <th>total_income</th>\n",
       "      <th>purpose</th>\n",
       "    </tr>\n",
       "  </thead>\n",
       "  <tbody>\n",
       "    <tr>\n",
       "      <td>0</td>\n",
       "      <td>1</td>\n",
       "      <td>-8437.673028</td>\n",
       "      <td>42</td>\n",
       "      <td>высшее</td>\n",
       "      <td>0</td>\n",
       "      <td>женат / замужем</td>\n",
       "      <td>0</td>\n",
       "      <td>F</td>\n",
       "      <td>сотрудник</td>\n",
       "      <td>0</td>\n",
       "      <td>253875.639453</td>\n",
       "      <td>покупка жилья</td>\n",
       "    </tr>\n",
       "    <tr>\n",
       "      <td>1</td>\n",
       "      <td>1</td>\n",
       "      <td>-4024.803754</td>\n",
       "      <td>36</td>\n",
       "      <td>среднее</td>\n",
       "      <td>1</td>\n",
       "      <td>женат / замужем</td>\n",
       "      <td>0</td>\n",
       "      <td>F</td>\n",
       "      <td>сотрудник</td>\n",
       "      <td>0</td>\n",
       "      <td>112080.014102</td>\n",
       "      <td>приобретение автомобиля</td>\n",
       "    </tr>\n",
       "    <tr>\n",
       "      <td>2</td>\n",
       "      <td>0</td>\n",
       "      <td>-5623.422610</td>\n",
       "      <td>33</td>\n",
       "      <td>Среднее</td>\n",
       "      <td>1</td>\n",
       "      <td>женат / замужем</td>\n",
       "      <td>0</td>\n",
       "      <td>M</td>\n",
       "      <td>сотрудник</td>\n",
       "      <td>0</td>\n",
       "      <td>145885.952297</td>\n",
       "      <td>покупка жилья</td>\n",
       "    </tr>\n",
       "    <tr>\n",
       "      <td>3</td>\n",
       "      <td>3</td>\n",
       "      <td>-4124.747207</td>\n",
       "      <td>32</td>\n",
       "      <td>среднее</td>\n",
       "      <td>1</td>\n",
       "      <td>женат / замужем</td>\n",
       "      <td>0</td>\n",
       "      <td>M</td>\n",
       "      <td>сотрудник</td>\n",
       "      <td>0</td>\n",
       "      <td>267628.550329</td>\n",
       "      <td>дополнительное образование</td>\n",
       "    </tr>\n",
       "    <tr>\n",
       "      <td>4</td>\n",
       "      <td>0</td>\n",
       "      <td>340266.072047</td>\n",
       "      <td>53</td>\n",
       "      <td>среднее</td>\n",
       "      <td>1</td>\n",
       "      <td>гражданский брак</td>\n",
       "      <td>1</td>\n",
       "      <td>F</td>\n",
       "      <td>пенсионер</td>\n",
       "      <td>0</td>\n",
       "      <td>158616.077870</td>\n",
       "      <td>сыграть свадьбу</td>\n",
       "    </tr>\n",
       "    <tr>\n",
       "      <td>...</td>\n",
       "      <td>...</td>\n",
       "      <td>...</td>\n",
       "      <td>...</td>\n",
       "      <td>...</td>\n",
       "      <td>...</td>\n",
       "      <td>...</td>\n",
       "      <td>...</td>\n",
       "      <td>...</td>\n",
       "      <td>...</td>\n",
       "      <td>...</td>\n",
       "      <td>...</td>\n",
       "      <td>...</td>\n",
       "    </tr>\n",
       "    <tr>\n",
       "      <td>21520</td>\n",
       "      <td>1</td>\n",
       "      <td>-4529.316663</td>\n",
       "      <td>43</td>\n",
       "      <td>среднее</td>\n",
       "      <td>1</td>\n",
       "      <td>гражданский брак</td>\n",
       "      <td>1</td>\n",
       "      <td>F</td>\n",
       "      <td>компаньон</td>\n",
       "      <td>0</td>\n",
       "      <td>224791.862382</td>\n",
       "      <td>операции с жильем</td>\n",
       "    </tr>\n",
       "    <tr>\n",
       "      <td>21521</td>\n",
       "      <td>0</td>\n",
       "      <td>343937.404131</td>\n",
       "      <td>67</td>\n",
       "      <td>среднее</td>\n",
       "      <td>1</td>\n",
       "      <td>женат / замужем</td>\n",
       "      <td>0</td>\n",
       "      <td>F</td>\n",
       "      <td>пенсионер</td>\n",
       "      <td>0</td>\n",
       "      <td>155999.806512</td>\n",
       "      <td>сделка с автомобилем</td>\n",
       "    </tr>\n",
       "    <tr>\n",
       "      <td>21522</td>\n",
       "      <td>1</td>\n",
       "      <td>-2113.346888</td>\n",
       "      <td>38</td>\n",
       "      <td>среднее</td>\n",
       "      <td>1</td>\n",
       "      <td>гражданский брак</td>\n",
       "      <td>1</td>\n",
       "      <td>M</td>\n",
       "      <td>сотрудник</td>\n",
       "      <td>1</td>\n",
       "      <td>89672.561153</td>\n",
       "      <td>недвижимость</td>\n",
       "    </tr>\n",
       "    <tr>\n",
       "      <td>21523</td>\n",
       "      <td>3</td>\n",
       "      <td>-3112.481705</td>\n",
       "      <td>38</td>\n",
       "      <td>среднее</td>\n",
       "      <td>1</td>\n",
       "      <td>женат / замужем</td>\n",
       "      <td>0</td>\n",
       "      <td>M</td>\n",
       "      <td>сотрудник</td>\n",
       "      <td>1</td>\n",
       "      <td>244093.050500</td>\n",
       "      <td>на покупку своего автомобиля</td>\n",
       "    </tr>\n",
       "    <tr>\n",
       "      <td>21524</td>\n",
       "      <td>2</td>\n",
       "      <td>-1984.507589</td>\n",
       "      <td>40</td>\n",
       "      <td>среднее</td>\n",
       "      <td>1</td>\n",
       "      <td>женат / замужем</td>\n",
       "      <td>0</td>\n",
       "      <td>F</td>\n",
       "      <td>сотрудник</td>\n",
       "      <td>0</td>\n",
       "      <td>82047.418899</td>\n",
       "      <td>на покупку автомобиля</td>\n",
       "    </tr>\n",
       "  </tbody>\n",
       "</table>\n",
       "<p>21525 rows × 12 columns</p>\n",
       "</div>"
      ],
      "text/plain": [
       "       children  days_employed  dob_years education  education_id  \\\n",
       "0             1   -8437.673028         42    высшее             0   \n",
       "1             1   -4024.803754         36   среднее             1   \n",
       "2             0   -5623.422610         33   Среднее             1   \n",
       "3             3   -4124.747207         32   среднее             1   \n",
       "4             0  340266.072047         53   среднее             1   \n",
       "...         ...            ...        ...       ...           ...   \n",
       "21520         1   -4529.316663         43   среднее             1   \n",
       "21521         0  343937.404131         67   среднее             1   \n",
       "21522         1   -2113.346888         38   среднее             1   \n",
       "21523         3   -3112.481705         38   среднее             1   \n",
       "21524         2   -1984.507589         40   среднее             1   \n",
       "\n",
       "          family_status  family_status_id gender income_type  debt  \\\n",
       "0       женат / замужем                 0      F   сотрудник     0   \n",
       "1       женат / замужем                 0      F   сотрудник     0   \n",
       "2       женат / замужем                 0      M   сотрудник     0   \n",
       "3       женат / замужем                 0      M   сотрудник     0   \n",
       "4      гражданский брак                 1      F   пенсионер     0   \n",
       "...                 ...               ...    ...         ...   ...   \n",
       "21520  гражданский брак                 1      F   компаньон     0   \n",
       "21521   женат / замужем                 0      F   пенсионер     0   \n",
       "21522  гражданский брак                 1      M   сотрудник     1   \n",
       "21523   женат / замужем                 0      M   сотрудник     1   \n",
       "21524   женат / замужем                 0      F   сотрудник     0   \n",
       "\n",
       "        total_income                       purpose  \n",
       "0      253875.639453                 покупка жилья  \n",
       "1      112080.014102       приобретение автомобиля  \n",
       "2      145885.952297                 покупка жилья  \n",
       "3      267628.550329    дополнительное образование  \n",
       "4      158616.077870               сыграть свадьбу  \n",
       "...              ...                           ...  \n",
       "21520  224791.862382             операции с жильем  \n",
       "21521  155999.806512          сделка с автомобилем  \n",
       "21522   89672.561153                  недвижимость  \n",
       "21523  244093.050500  на покупку своего автомобиля  \n",
       "21524   82047.418899         на покупку автомобиля  \n",
       "\n",
       "[21525 rows x 12 columns]"
      ]
     },
     "execution_count": 5,
     "metadata": {},
     "output_type": "execute_result"
    }
   ],
   "source": [
    "df"
   ]
  },
  {
   "cell_type": "code",
   "execution_count": 6,
   "metadata": {},
   "outputs": [
    {
     "data": {
      "text/html": [
       "<div>\n",
       "<style scoped>\n",
       "    .dataframe tbody tr th:only-of-type {\n",
       "        vertical-align: middle;\n",
       "    }\n",
       "\n",
       "    .dataframe tbody tr th {\n",
       "        vertical-align: top;\n",
       "    }\n",
       "\n",
       "    .dataframe thead th {\n",
       "        text-align: right;\n",
       "    }\n",
       "</style>\n",
       "<table border=\"1\" class=\"dataframe\">\n",
       "  <thead>\n",
       "    <tr style=\"text-align: right;\">\n",
       "      <th></th>\n",
       "      <th>children</th>\n",
       "      <th>days_employed</th>\n",
       "      <th>dob_years</th>\n",
       "      <th>education_id</th>\n",
       "      <th>family_status_id</th>\n",
       "      <th>debt</th>\n",
       "      <th>total_income</th>\n",
       "    </tr>\n",
       "  </thead>\n",
       "  <tbody>\n",
       "    <tr>\n",
       "      <td>count</td>\n",
       "      <td>21525.000000</td>\n",
       "      <td>19351.000000</td>\n",
       "      <td>21525.000000</td>\n",
       "      <td>21525.000000</td>\n",
       "      <td>21525.000000</td>\n",
       "      <td>21525.000000</td>\n",
       "      <td>1.935100e+04</td>\n",
       "    </tr>\n",
       "    <tr>\n",
       "      <td>mean</td>\n",
       "      <td>0.538908</td>\n",
       "      <td>63046.497661</td>\n",
       "      <td>43.293380</td>\n",
       "      <td>0.817236</td>\n",
       "      <td>0.972544</td>\n",
       "      <td>0.080883</td>\n",
       "      <td>1.674223e+05</td>\n",
       "    </tr>\n",
       "    <tr>\n",
       "      <td>std</td>\n",
       "      <td>1.381587</td>\n",
       "      <td>140827.311974</td>\n",
       "      <td>12.574584</td>\n",
       "      <td>0.548138</td>\n",
       "      <td>1.420324</td>\n",
       "      <td>0.272661</td>\n",
       "      <td>1.029716e+05</td>\n",
       "    </tr>\n",
       "    <tr>\n",
       "      <td>min</td>\n",
       "      <td>-1.000000</td>\n",
       "      <td>-18388.949901</td>\n",
       "      <td>0.000000</td>\n",
       "      <td>0.000000</td>\n",
       "      <td>0.000000</td>\n",
       "      <td>0.000000</td>\n",
       "      <td>2.066726e+04</td>\n",
       "    </tr>\n",
       "    <tr>\n",
       "      <td>25%</td>\n",
       "      <td>0.000000</td>\n",
       "      <td>-2747.423625</td>\n",
       "      <td>33.000000</td>\n",
       "      <td>1.000000</td>\n",
       "      <td>0.000000</td>\n",
       "      <td>0.000000</td>\n",
       "      <td>1.030532e+05</td>\n",
       "    </tr>\n",
       "    <tr>\n",
       "      <td>50%</td>\n",
       "      <td>0.000000</td>\n",
       "      <td>-1203.369529</td>\n",
       "      <td>42.000000</td>\n",
       "      <td>1.000000</td>\n",
       "      <td>0.000000</td>\n",
       "      <td>0.000000</td>\n",
       "      <td>1.450179e+05</td>\n",
       "    </tr>\n",
       "    <tr>\n",
       "      <td>75%</td>\n",
       "      <td>1.000000</td>\n",
       "      <td>-291.095954</td>\n",
       "      <td>53.000000</td>\n",
       "      <td>1.000000</td>\n",
       "      <td>1.000000</td>\n",
       "      <td>0.000000</td>\n",
       "      <td>2.034351e+05</td>\n",
       "    </tr>\n",
       "    <tr>\n",
       "      <td>max</td>\n",
       "      <td>20.000000</td>\n",
       "      <td>401755.400475</td>\n",
       "      <td>75.000000</td>\n",
       "      <td>4.000000</td>\n",
       "      <td>4.000000</td>\n",
       "      <td>1.000000</td>\n",
       "      <td>2.265604e+06</td>\n",
       "    </tr>\n",
       "  </tbody>\n",
       "</table>\n",
       "</div>"
      ],
      "text/plain": [
       "           children  days_employed     dob_years  education_id  \\\n",
       "count  21525.000000   19351.000000  21525.000000  21525.000000   \n",
       "mean       0.538908   63046.497661     43.293380      0.817236   \n",
       "std        1.381587  140827.311974     12.574584      0.548138   \n",
       "min       -1.000000  -18388.949901      0.000000      0.000000   \n",
       "25%        0.000000   -2747.423625     33.000000      1.000000   \n",
       "50%        0.000000   -1203.369529     42.000000      1.000000   \n",
       "75%        1.000000    -291.095954     53.000000      1.000000   \n",
       "max       20.000000  401755.400475     75.000000      4.000000   \n",
       "\n",
       "       family_status_id          debt  total_income  \n",
       "count      21525.000000  21525.000000  1.935100e+04  \n",
       "mean           0.972544      0.080883  1.674223e+05  \n",
       "std            1.420324      0.272661  1.029716e+05  \n",
       "min            0.000000      0.000000  2.066726e+04  \n",
       "25%            0.000000      0.000000  1.030532e+05  \n",
       "50%            0.000000      0.000000  1.450179e+05  \n",
       "75%            1.000000      0.000000  2.034351e+05  \n",
       "max            4.000000      1.000000  2.265604e+06  "
      ]
     },
     "execution_count": 6,
     "metadata": {},
     "output_type": "execute_result"
    }
   ],
   "source": [
    "df.describe()"
   ]
  },
  {
   "cell_type": "markdown",
   "metadata": {},
   "source": [
    "значения в некоторых колонках - категорийного типа - им лучше сменить тип с int на str или category "
   ]
  },
  {
   "cell_type": "markdown",
   "metadata": {},
   "source": [
    "**Вывод**"
   ]
  },
  {
   "cell_type": "markdown",
   "metadata": {},
   "source": [
    "И так... в двух колонках есть пропуски. И в этих же колонках надо изменить тип данных. \n",
    "Имена значений в колонке образование потребуется привести к строчному виду.\n",
    "Цели кредита необходимо категоризировать.\n",
    "Буду изучать данные по каждой колонке отдельно и приводить к нормальному виду.<br>\n",
    "С именами колонок всё  в порядке."
   ]
  },
  {
   "cell_type": "markdown",
   "metadata": {},
   "source": [
    "## Шаг 2. Предоработка данных"
   ]
  },
  {
   "cell_type": "markdown",
   "metadata": {},
   "source": [
    "#### <b>Колонка children</b> (количество детей)"
   ]
  },
  {
   "cell_type": "code",
   "execution_count": 7,
   "metadata": {},
   "outputs": [
    {
     "data": {
      "text/plain": [
       " 0     14149\n",
       " 1      4818\n",
       " 2      2055\n",
       " 3       330\n",
       " 20       76\n",
       "-1        47\n",
       " 4        41\n",
       " 5         9\n",
       "Name: children, dtype: int64"
      ]
     },
     "execution_count": 7,
     "metadata": {},
     "output_type": "execute_result"
    }
   ],
   "source": [
    "df['children'].value_counts()"
   ]
  },
  {
   "cell_type": "markdown",
   "metadata": {},
   "source": [
    "Видим значение отрицательное - чего не должно быть. Изменим это значение на положительное"
   ]
  },
  {
   "cell_type": "code",
   "execution_count": 8,
   "metadata": {},
   "outputs": [],
   "source": [
    "df.loc[df['children'] < 0, 'children'] = df.loc[df['children'] < 0, 'children'].abs()"
   ]
  },
  {
   "cell_type": "markdown",
   "metadata": {},
   "source": [
    "Также наблюдаенм выброс - значение 20 (детей в семье), сильно выходит за рамки других данных в наборе.\n",
    "Можно изменить на 2, но лучше проверю ...\n",
    "посмотрим - у людей с каким семейным статусом чаще всего встречается это значение"
   ]
  },
  {
   "cell_type": "code",
   "execution_count": 9,
   "metadata": {},
   "outputs": [
    {
     "data": {
      "text/plain": [
       "женат / замужем          49\n",
       "гражданский брак         12\n",
       "Не женат / не замужем     9\n",
       "вдовец / вдова            4\n",
       "в разводе                 2\n",
       "Name: family_status, dtype: int64"
      ]
     },
     "execution_count": 9,
     "metadata": {},
     "output_type": "execute_result"
    }
   ],
   "source": [
    "df[df['children'] == 20]['family_status'].value_counts()"
   ]
  },
  {
   "cell_type": "markdown",
   "metadata": {},
   "source": [
    "В осносном это сеймейные. Погуглив нашёл статистику по семьям без детей - их доля всего 22 процента от общего числа семей.\n",
    "Соответсвенно делаю вывод что тут 20 лучше заменить на 2"
   ]
  },
  {
   "cell_type": "code",
   "execution_count": 10,
   "metadata": {},
   "outputs": [
    {
     "data": {
      "text/plain": [
       "0    14149\n",
       "1     4865\n",
       "2     2131\n",
       "3      330\n",
       "4       41\n",
       "5        9\n",
       "Name: children, dtype: int64"
      ]
     },
     "execution_count": 10,
     "metadata": {},
     "output_type": "execute_result"
    }
   ],
   "source": [
    "df.loc[df['children'] == 20, 'children'] = 2\n",
    "df['children'].value_counts()"
   ]
  },
  {
   "cell_type": "markdown",
   "metadata": {},
   "source": [
    "#### <b>Колонка days_employed</b> (общий трудовой стаж в днях) \n"
   ]
  },
  {
   "cell_type": "code",
   "execution_count": 11,
   "metadata": {
    "scrolled": true
   },
   "outputs": [
    {
     "data": {
      "text/plain": [
       "0         -8437.673028\n",
       "1         -4024.803754\n",
       "2         -5623.422610\n",
       "3         -4124.747207\n",
       "4        340266.072047\n",
       "             ...      \n",
       "21520     -4529.316663\n",
       "21521    343937.404131\n",
       "21522     -2113.346888\n",
       "21523     -3112.481705\n",
       "21524     -1984.507589\n",
       "Name: days_employed, Length: 21525, dtype: float64"
      ]
     },
     "execution_count": 11,
     "metadata": {},
     "output_type": "execute_result"
    }
   ],
   "source": [
    "df['days_employed']"
   ]
  },
  {
   "cell_type": "markdown",
   "metadata": {},
   "source": [
    "Отрицательные значения нужно заменить положительными."
   ]
  },
  {
   "cell_type": "code",
   "execution_count": 12,
   "metadata": {},
   "outputs": [],
   "source": [
    "df.loc[df['days_employed'] < 0, 'days_employed'] = df.loc[df['days_employed'] < 0, 'days_employed'].abs()"
   ]
  },
  {
   "cell_type": "code",
   "execution_count": 13,
   "metadata": {},
   "outputs": [
    {
     "data": {
      "text/plain": [
       "<matplotlib.axes._subplots.AxesSubplot at 0x7f33ef907190>"
      ]
     },
     "execution_count": 13,
     "metadata": {},
     "output_type": "execute_result"
    },
    {
     "data": {
      "image/png": "[encoded data removed]",
      "text/plain": [
       "<Figure size 432x288 with 1 Axes>"
      ]
     },
     "metadata": {
      "needs_background": "light"
     },
     "output_type": "display_data"
    }
   ],
   "source": [
    "df['days_employed'].hist()"
   ]
  },
  {
   "cell_type": "markdown",
   "metadata": {},
   "source": [
    "Наблюдаю выброс значений. Посмотри как распределяется стаж по данным без выбросов."
   ]
  },
  {
   "cell_type": "code",
   "execution_count": 14,
   "metadata": {},
   "outputs": [
    {
     "data": {
      "text/plain": [
       "<matplotlib.axes._subplots.AxesSubplot at 0x7f336229c2d0>"
      ]
     },
     "execution_count": 14,
     "metadata": {},
     "output_type": "execute_result"
    },
    {
     "data": {
      "image/png": "[encoded data removed]",
      "text/plain": [
       "<Figure size 432x288 with 1 Axes>"
      ]
     },
     "metadata": {
      "needs_background": "light"
     },
     "output_type": "display_data"
    }
   ],
   "source": [
    "df.loc[df['days_employed'] < 50000,'days_employed'].hist()"
   ]
  },
  {
   "cell_type": "markdown",
   "metadata": {},
   "source": [
    "У кого значения стажа сильно завышено"
   ]
  },
  {
   "cell_type": "code",
   "execution_count": 15,
   "metadata": {},
   "outputs": [
    {
     "data": {
      "text/plain": [
       "пенсионер      3443\n",
       "безработный       2\n",
       "Name: income_type, dtype: int64"
      ]
     },
     "execution_count": 15,
     "metadata": {},
     "output_type": "execute_result"
    }
   ],
   "source": [
    "df.loc[df['days_employed'] > 20000,'income_type'].value_counts()"
   ]
  },
  {
   "cell_type": "markdown",
   "metadata": {},
   "source": [
    "посмотрим у кого стаж указан нормально"
   ]
  },
  {
   "cell_type": "code",
   "execution_count": 16,
   "metadata": {
    "scrolled": false
   },
   "outputs": [
    {
     "data": {
      "text/plain": [
       "income_type\n",
       "безработный            0\n",
       "в декрете              1\n",
       "госслужащий         1312\n",
       "компаньон           4577\n",
       "пенсионер              0\n",
       "предприниматель        1\n",
       "сотрудник          10014\n",
       "студент                1\n",
       "Name: days_employed_1, dtype: int64"
      ]
     },
     "execution_count": 16,
     "metadata": {},
     "output_type": "execute_result"
    }
   ],
   "source": [
    "df['days_employed_1'] = df.loc[df['days_employed'] < 20000,'days_employed']\n",
    "df.groupby('income_type')['days_employed_1'].count()"
   ]
  },
  {
   "cell_type": "markdown",
   "metadata": {},
   "source": [
    "Получается что у всех пенсионеров значение стажа неверно.\n",
    "<br>\n",
    "\"Средний трудовой стаж россиян при выходе на пенсию равен 34,5 годам\" - заявил статс-секретарь, замминистра труда и соцзащиты Андрей Пудов на заседании в гос думе.<br> \n",
    "Это соответствует 12592 дням стажа <br> \n",
    "Возможно при введении данных пенсионеров использовался какой-нибудь коэффицент. <br>\n",
    "Расчитаем на сколько среднее от завышенных данных превышает \"Средний трудовой стаж россиян при выходе на пенсию\""
   ]
  },
  {
   "cell_type": "code",
   "execution_count": 17,
   "metadata": {},
   "outputs": [
    {
     "data": {
      "text/plain": [
       "365004.31"
      ]
     },
     "execution_count": 17,
     "metadata": {},
     "output_type": "execute_result"
    }
   ],
   "source": [
    "df.loc[df['days_employed'] > 20000,'days_employed'].mean().round(2)"
   ]
  },
  {
   "cell_type": "code",
   "execution_count": 18,
   "metadata": {},
   "outputs": [
    {
     "data": {
      "text/plain": [
       "28.987000476493012"
      ]
     },
     "execution_count": 18,
     "metadata": {},
     "output_type": "execute_result"
    }
   ],
   "source": [
    "(365004.31 / 12592)"
   ]
  },
  {
   "cell_type": "markdown",
   "metadata": {},
   "source": [
    "Округлим до 30 - во столько раз стаж у пенсионеров завышен<br>\n",
    "Применим этот коэффицент как нонижающий к завышенным значениям"
   ]
  },
  {
   "cell_type": "code",
   "execution_count": 19,
   "metadata": {},
   "outputs": [],
   "source": [
    "df.loc[df['days_employed'] > 20000,'days_employed'] = df.loc[df['days_employed'] > 20000,'days_employed']/30"
   ]
  },
  {
   "cell_type": "code",
   "execution_count": 20,
   "metadata": {},
   "outputs": [
    {
     "data": {
      "text/plain": [
       "<matplotlib.axes._subplots.AxesSubplot at 0x7f33622277d0>"
      ]
     },
     "execution_count": 20,
     "metadata": {},
     "output_type": "execute_result"
    },
    {
     "data": {
      "image/png": "[encoded data removed]",
      "text/plain": [
       "<Figure size 432x288 with 1 Axes>"
      ]
     },
     "metadata": {
      "needs_background": "light"
     },
     "output_type": "display_data"
    }
   ],
   "source": [
    "df['days_employed'].hist()"
   ]
  },
  {
   "cell_type": "code",
   "execution_count": 21,
   "metadata": {},
   "outputs": [
    {
     "data": {
      "text/plain": [
       "<matplotlib.axes._subplots.AxesSubplot at 0x7f336bffc090>"
      ]
     },
     "execution_count": 21,
     "metadata": {},
     "output_type": "execute_result"
    },
    {
     "data": {
      "image/png": "[encoded data removed]",
      "text/plain": [
       "<Figure size 432x288 with 1 Axes>"
      ]
     },
     "metadata": {
      "needs_background": "light"
     },
     "output_type": "display_data"
    }
   ],
   "source": [
    "df['dob_years'].hist()"
   ]
  },
  {
   "cell_type": "markdown",
   "metadata": {},
   "source": [
    "Теперь выбросов нет. Но всё равно распределение стажа совсем не вяжется с распределением возраста...<br>\n"
   ]
  },
  {
   "cell_type": "markdown",
   "metadata": {},
   "source": [
    "#### <b> Колонка education.</b> <br>  \n",
    "Очевидно что имена категорий образования необходимо привести к нормальному виду - сделаем их все прописными буквами."
   ]
  },
  {
   "cell_type": "code",
   "execution_count": 22,
   "metadata": {},
   "outputs": [
    {
     "name": "stdout",
     "output_type": "stream",
     "text": [
      "среднее                15233\n",
      "высшее                  5260\n",
      "неоконченное высшее      744\n",
      "начальное                282\n",
      "ученая степень             6\n",
      "Name: education, dtype: int64\n",
      "1    15233\n",
      "0     5260\n",
      "2      744\n",
      "3      282\n",
      "4        6\n",
      "Name: education_id, dtype: int64\n"
     ]
    }
   ],
   "source": [
    "df['education'] = df['education'].str.lower()\n",
    "print(df['education'].value_counts())\n",
    "print(df['education_id'].value_counts())"
   ]
  },
  {
   "cell_type": "markdown",
   "metadata": {},
   "source": [
    "Отлично - категорий всего 5 и все они соответсвую своим education_id (судя по количеству)"
   ]
  },
  {
   "cell_type": "markdown",
   "metadata": {},
   "source": [
    "#### <b>Колонка family_status</b>  ( семейный статус )"
   ]
  },
  {
   "cell_type": "code",
   "execution_count": 23,
   "metadata": {
    "scrolled": true
   },
   "outputs": [
    {
     "data": {
      "text/plain": [
       "женат / замужем          12380\n",
       "гражданский брак          4177\n",
       "Не женат / не замужем     2813\n",
       "в разводе                 1195\n",
       "вдовец / вдова             960\n",
       "Name: family_status, dtype: int64"
      ]
     },
     "execution_count": 23,
     "metadata": {},
     "output_type": "execute_result"
    }
   ],
   "source": [
    "df['family_status'].value_counts()"
   ]
  },
  {
   "cell_type": "markdown",
   "metadata": {},
   "source": [
    "Единственное что тут можно поправить - значения 'Не женат / не замужем' сделать полностью строчными."
   ]
  },
  {
   "cell_type": "code",
   "execution_count": 24,
   "metadata": {},
   "outputs": [
    {
     "name": "stdout",
     "output_type": "stream",
     "text": [
      "женат / замужем          12380\n",
      "гражданский брак          4177\n",
      "не женат / не замужем     2813\n",
      "в разводе                 1195\n",
      "вдовец / вдова             960\n",
      "Name: family_status, dtype: int64\n",
      "0    12380\n",
      "1     4177\n",
      "4     2813\n",
      "3     1195\n",
      "2      960\n",
      "Name: family_status_id, dtype: int64\n"
     ]
    }
   ],
   "source": [
    "df['family_status'] = df['family_status'].str.lower()\n",
    "print(df['family_status'].value_counts())\n",
    "print(df['family_status_id'].value_counts())"
   ]
  },
  {
   "cell_type": "markdown",
   "metadata": {},
   "source": [
    "категорий всего 5 и все они соответсвую своим family_status_id (судя по количеству)"
   ]
  },
  {
   "cell_type": "markdown",
   "metadata": {},
   "source": [
    "#### <b>Колонка gender</b>"
   ]
  },
  {
   "cell_type": "code",
   "execution_count": 25,
   "metadata": {
    "scrolled": true
   },
   "outputs": [
    {
     "data": {
      "text/plain": [
       "F      14236\n",
       "M       7288\n",
       "XNA        1\n",
       "Name: gender, dtype: int64"
      ]
     },
     "execution_count": 25,
     "metadata": {},
     "output_type": "execute_result"
    }
   ],
   "source": [
    "df['gender'].value_counts()"
   ]
  },
  {
   "cell_type": "markdown",
   "metadata": {},
   "source": [
    "В одном случае пол не определен "
   ]
  },
  {
   "cell_type": "code",
   "execution_count": 26,
   "metadata": {},
   "outputs": [
    {
     "data": {
      "text/html": [
       "<div>\n",
       "<style scoped>\n",
       "    .dataframe tbody tr th:only-of-type {\n",
       "        vertical-align: middle;\n",
       "    }\n",
       "\n",
       "    .dataframe tbody tr th {\n",
       "        vertical-align: top;\n",
       "    }\n",
       "\n",
       "    .dataframe thead th {\n",
       "        text-align: right;\n",
       "    }\n",
       "</style>\n",
       "<table border=\"1\" class=\"dataframe\">\n",
       "  <thead>\n",
       "    <tr style=\"text-align: right;\">\n",
       "      <th></th>\n",
       "      <th>children</th>\n",
       "      <th>days_employed</th>\n",
       "      <th>dob_years</th>\n",
       "      <th>education</th>\n",
       "      <th>education_id</th>\n",
       "      <th>family_status</th>\n",
       "      <th>family_status_id</th>\n",
       "      <th>gender</th>\n",
       "      <th>income_type</th>\n",
       "      <th>debt</th>\n",
       "      <th>total_income</th>\n",
       "      <th>purpose</th>\n",
       "      <th>days_employed_1</th>\n",
       "    </tr>\n",
       "  </thead>\n",
       "  <tbody>\n",
       "    <tr>\n",
       "      <td>10701</td>\n",
       "      <td>0</td>\n",
       "      <td>2358.600502</td>\n",
       "      <td>24</td>\n",
       "      <td>неоконченное высшее</td>\n",
       "      <td>2</td>\n",
       "      <td>гражданский брак</td>\n",
       "      <td>1</td>\n",
       "      <td>XNA</td>\n",
       "      <td>компаньон</td>\n",
       "      <td>0</td>\n",
       "      <td>203905.157261</td>\n",
       "      <td>покупка недвижимости</td>\n",
       "      <td>2358.600502</td>\n",
       "    </tr>\n",
       "  </tbody>\n",
       "</table>\n",
       "</div>"
      ],
      "text/plain": [
       "       children  days_employed  dob_years            education  education_id  \\\n",
       "10701         0    2358.600502         24  неоконченное высшее             2   \n",
       "\n",
       "          family_status  family_status_id gender income_type  debt  \\\n",
       "10701  гражданский брак                 1    XNA   компаньон     0   \n",
       "\n",
       "        total_income               purpose  days_employed_1  \n",
       "10701  203905.157261  покупка недвижимости      2358.600502  "
      ]
     },
     "execution_count": 26,
     "metadata": {},
     "output_type": "execute_result"
    }
   ],
   "source": [
    "df[df['gender'] == 'XNA']"
   ]
  },
  {
   "cell_type": "markdown",
   "metadata": {},
   "source": [
    "Что поделать .. это наше будущее. скоро неопределившихся будет [больше](https://www.gazeta.ru/social/2021/10/27/14141647.shtml).\n",
    "<br>\n",
    "оставим их в покое\n"
   ]
  },
  {
   "cell_type": "markdown",
   "metadata": {},
   "source": [
    "#### <b>Колонка income_type </b>(тип занятости)"
   ]
  },
  {
   "cell_type": "code",
   "execution_count": 27,
   "metadata": {
    "scrolled": true
   },
   "outputs": [
    {
     "data": {
      "text/plain": [
       "сотрудник          11119\n",
       "компаньон           5085\n",
       "пенсионер           3856\n",
       "госслужащий         1459\n",
       "безработный            2\n",
       "предприниматель        2\n",
       "в декрете              1\n",
       "студент                1\n",
       "Name: income_type, dtype: int64"
      ]
     },
     "execution_count": 27,
     "metadata": {},
     "output_type": "execute_result"
    }
   ],
   "source": [
    "df['income_type'].value_counts()"
   ]
  },
  {
   "cell_type": "markdown",
   "metadata": {},
   "source": [
    "Ничего криминального"
   ]
  },
  {
   "cell_type": "markdown",
   "metadata": {},
   "source": [
    "#### <b> Колонка debt  </b> (имел ли задолженность)"
   ]
  },
  {
   "cell_type": "code",
   "execution_count": 28,
   "metadata": {
    "scrolled": true
   },
   "outputs": [
    {
     "data": {
      "text/plain": [
       "0    19784\n",
       "1     1741\n",
       "Name: debt, dtype: int64"
      ]
     },
     "execution_count": 28,
     "metadata": {},
     "output_type": "execute_result"
    }
   ],
   "source": [
    "df['debt'].value_counts()"
   ]
  },
  {
   "cell_type": "markdown",
   "metadata": {},
   "source": [
    "### Обработка пропусков "
   ]
  },
  {
   "cell_type": "markdown",
   "metadata": {},
   "source": [
    "#### <b>Колонка days_employed</b> (общий трудовой стаж в днях) "
   ]
  },
  {
   "cell_type": "markdown",
   "metadata": {},
   "source": [
    "Во-первых - из info видел что в этой колокнке есть пропуски.<br>\n",
    "В-третьих - дробные значения в днях нам тут никчему - сделаем целыми.<br>\n",
    "В-четвертых -  для наглядности считаю что лучше добавить колонку со стажем в годах.(за полный месяц принимается 30 календарных дней, а за год — 12 месяцев)"
   ]
  },
  {
   "cell_type": "code",
   "execution_count": 29,
   "metadata": {},
   "outputs": [
    {
     "data": {
      "text/plain": [
       "сотрудник          1105\n",
       "компаньон           508\n",
       "пенсионер           413\n",
       "госслужащий         147\n",
       "предприниматель       1\n",
       "Name: income_type, dtype: int64"
      ]
     },
     "execution_count": 29,
     "metadata": {},
     "output_type": "execute_result"
    }
   ],
   "source": [
    "# посмотрим сколько пропусков в столбце \n",
    "df[df['days_employed'].isnull()]['income_type'].value_counts()"
   ]
  },
  {
   "cell_type": "code",
   "execution_count": 30,
   "metadata": {},
   "outputs": [
    {
     "data": {
      "text/html": [
       "<div>\n",
       "<style scoped>\n",
       "    .dataframe tbody tr th:only-of-type {\n",
       "        vertical-align: middle;\n",
       "    }\n",
       "\n",
       "    .dataframe tbody tr th {\n",
       "        vertical-align: top;\n",
       "    }\n",
       "\n",
       "    .dataframe thead th {\n",
       "        text-align: right;\n",
       "    }\n",
       "</style>\n",
       "<table border=\"1\" class=\"dataframe\">\n",
       "  <thead>\n",
       "    <tr style=\"text-align: right;\">\n",
       "      <th></th>\n",
       "      <th></th>\n",
       "      <th></th>\n",
       "      <th>days_employed</th>\n",
       "    </tr>\n",
       "    <tr>\n",
       "      <th>income_type</th>\n",
       "      <th>education</th>\n",
       "      <th>gender</th>\n",
       "      <th></th>\n",
       "    </tr>\n",
       "  </thead>\n",
       "  <tbody>\n",
       "    <tr>\n",
       "      <td rowspan=\"2\" valign=\"top\">безработный</td>\n",
       "      <td>высшее</td>\n",
       "      <td>F</td>\n",
       "      <td>13176.761288</td>\n",
       "    </tr>\n",
       "    <tr>\n",
       "      <td>среднее</td>\n",
       "      <td>M</td>\n",
       "      <td>11250.815561</td>\n",
       "    </tr>\n",
       "    <tr>\n",
       "      <td>в декрете</td>\n",
       "      <td>среднее</td>\n",
       "      <td>F</td>\n",
       "      <td>3296.759962</td>\n",
       "    </tr>\n",
       "    <tr>\n",
       "      <td rowspan=\"9\" valign=\"top\">госслужащий</td>\n",
       "      <td rowspan=\"2\" valign=\"top\">высшее</td>\n",
       "      <td>F</td>\n",
       "      <td>2483.577183</td>\n",
       "    </tr>\n",
       "    <tr>\n",
       "      <td>M</td>\n",
       "      <td>2835.604975</td>\n",
       "    </tr>\n",
       "    <tr>\n",
       "      <td rowspan=\"2\" valign=\"top\">начальное</td>\n",
       "      <td>F</td>\n",
       "      <td>2787.767403</td>\n",
       "    </tr>\n",
       "    <tr>\n",
       "      <td>M</td>\n",
       "      <td>2477.309991</td>\n",
       "    </tr>\n",
       "    <tr>\n",
       "      <td rowspan=\"2\" valign=\"top\">неоконченное высшее</td>\n",
       "      <td>F</td>\n",
       "      <td>1590.662413</td>\n",
       "    </tr>\n",
       "    <tr>\n",
       "      <td>M</td>\n",
       "      <td>2187.572238</td>\n",
       "    </tr>\n",
       "    <tr>\n",
       "      <td rowspan=\"2\" valign=\"top\">среднее</td>\n",
       "      <td>F</td>\n",
       "      <td>2927.710247</td>\n",
       "    </tr>\n",
       "    <tr>\n",
       "      <td>M</td>\n",
       "      <td>2647.283057</td>\n",
       "    </tr>\n",
       "    <tr>\n",
       "      <td>ученая степень</td>\n",
       "      <td>F</td>\n",
       "      <td>5968.075884</td>\n",
       "    </tr>\n",
       "    <tr>\n",
       "      <td rowspan=\"9\" valign=\"top\">компаньон</td>\n",
       "      <td rowspan=\"2\" valign=\"top\">высшее</td>\n",
       "      <td>F</td>\n",
       "      <td>1537.596096</td>\n",
       "    </tr>\n",
       "    <tr>\n",
       "      <td>M</td>\n",
       "      <td>1327.821363</td>\n",
       "    </tr>\n",
       "    <tr>\n",
       "      <td rowspan=\"2\" valign=\"top\">начальное</td>\n",
       "      <td>F</td>\n",
       "      <td>1151.634460</td>\n",
       "    </tr>\n",
       "    <tr>\n",
       "      <td>M</td>\n",
       "      <td>1075.317410</td>\n",
       "    </tr>\n",
       "    <tr>\n",
       "      <td rowspan=\"3\" valign=\"top\">неоконченное высшее</td>\n",
       "      <td>F</td>\n",
       "      <td>953.985197</td>\n",
       "    </tr>\n",
       "    <tr>\n",
       "      <td>M</td>\n",
       "      <td>1040.536961</td>\n",
       "    </tr>\n",
       "    <tr>\n",
       "      <td>XNA</td>\n",
       "      <td>2358.600502</td>\n",
       "    </tr>\n",
       "    <tr>\n",
       "      <td rowspan=\"2\" valign=\"top\">среднее</td>\n",
       "      <td>F</td>\n",
       "      <td>1706.131182</td>\n",
       "    </tr>\n",
       "    <tr>\n",
       "      <td>M</td>\n",
       "      <td>1606.165635</td>\n",
       "    </tr>\n",
       "    <tr>\n",
       "      <td rowspan=\"10\" valign=\"top\">пенсионер</td>\n",
       "      <td rowspan=\"2\" valign=\"top\">высшее</td>\n",
       "      <td>F</td>\n",
       "      <td>12230.160355</td>\n",
       "    </tr>\n",
       "    <tr>\n",
       "      <td>M</td>\n",
       "      <td>12164.081314</td>\n",
       "    </tr>\n",
       "    <tr>\n",
       "      <td rowspan=\"2\" valign=\"top\">начальное</td>\n",
       "      <td>F</td>\n",
       "      <td>12091.579449</td>\n",
       "    </tr>\n",
       "    <tr>\n",
       "      <td>M</td>\n",
       "      <td>11670.534875</td>\n",
       "    </tr>\n",
       "    <tr>\n",
       "      <td rowspan=\"2\" valign=\"top\">неоконченное высшее</td>\n",
       "      <td>F</td>\n",
       "      <td>12433.864144</td>\n",
       "    </tr>\n",
       "    <tr>\n",
       "      <td>M</td>\n",
       "      <td>11979.578853</td>\n",
       "    </tr>\n",
       "    <tr>\n",
       "      <td rowspan=\"2\" valign=\"top\">среднее</td>\n",
       "      <td>F</td>\n",
       "      <td>12197.713515</td>\n",
       "    </tr>\n",
       "    <tr>\n",
       "      <td>M</td>\n",
       "      <td>12058.269424</td>\n",
       "    </tr>\n",
       "    <tr>\n",
       "      <td rowspan=\"2\" valign=\"top\">ученая степень</td>\n",
       "      <td>F</td>\n",
       "      <td>12542.540651</td>\n",
       "    </tr>\n",
       "    <tr>\n",
       "      <td>M</td>\n",
       "      <td>11252.827185</td>\n",
       "    </tr>\n",
       "    <tr>\n",
       "      <td>предприниматель</td>\n",
       "      <td>высшее</td>\n",
       "      <td>F</td>\n",
       "      <td>520.848083</td>\n",
       "    </tr>\n",
       "    <tr>\n",
       "      <td rowspan=\"9\" valign=\"top\">сотрудник</td>\n",
       "      <td rowspan=\"2\" valign=\"top\">высшее</td>\n",
       "      <td>F</td>\n",
       "      <td>1635.986278</td>\n",
       "    </tr>\n",
       "    <tr>\n",
       "      <td>M</td>\n",
       "      <td>1331.749459</td>\n",
       "    </tr>\n",
       "    <tr>\n",
       "      <td rowspan=\"2\" valign=\"top\">начальное</td>\n",
       "      <td>F</td>\n",
       "      <td>1452.698328</td>\n",
       "    </tr>\n",
       "    <tr>\n",
       "      <td>M</td>\n",
       "      <td>1036.834600</td>\n",
       "    </tr>\n",
       "    <tr>\n",
       "      <td rowspan=\"2\" valign=\"top\">неоконченное высшее</td>\n",
       "      <td>F</td>\n",
       "      <td>1138.644216</td>\n",
       "    </tr>\n",
       "    <tr>\n",
       "      <td>M</td>\n",
       "      <td>1241.642451</td>\n",
       "    </tr>\n",
       "    <tr>\n",
       "      <td rowspan=\"2\" valign=\"top\">среднее</td>\n",
       "      <td>F</td>\n",
       "      <td>1770.271341</td>\n",
       "    </tr>\n",
       "    <tr>\n",
       "      <td>M</td>\n",
       "      <td>1383.235092</td>\n",
       "    </tr>\n",
       "    <tr>\n",
       "      <td>ученая степень</td>\n",
       "      <td>M</td>\n",
       "      <td>2351.431934</td>\n",
       "    </tr>\n",
       "    <tr>\n",
       "      <td>студент</td>\n",
       "      <td>высшее</td>\n",
       "      <td>M</td>\n",
       "      <td>578.751554</td>\n",
       "    </tr>\n",
       "  </tbody>\n",
       "</table>\n",
       "</div>"
      ],
      "text/plain": [
       "                                            days_employed\n",
       "income_type     education           gender               \n",
       "безработный     высшее              F        13176.761288\n",
       "                среднее             M        11250.815561\n",
       "в декрете       среднее             F         3296.759962\n",
       "госслужащий     высшее              F         2483.577183\n",
       "                                    M         2835.604975\n",
       "                начальное           F         2787.767403\n",
       "                                    M         2477.309991\n",
       "                неоконченное высшее F         1590.662413\n",
       "                                    M         2187.572238\n",
       "                среднее             F         2927.710247\n",
       "                                    M         2647.283057\n",
       "                ученая степень      F         5968.075884\n",
       "компаньон       высшее              F         1537.596096\n",
       "                                    M         1327.821363\n",
       "                начальное           F         1151.634460\n",
       "                                    M         1075.317410\n",
       "                неоконченное высшее F          953.985197\n",
       "                                    M         1040.536961\n",
       "                                    XNA       2358.600502\n",
       "                среднее             F         1706.131182\n",
       "                                    M         1606.165635\n",
       "пенсионер       высшее              F        12230.160355\n",
       "                                    M        12164.081314\n",
       "                начальное           F        12091.579449\n",
       "                                    M        11670.534875\n",
       "                неоконченное высшее F        12433.864144\n",
       "                                    M        11979.578853\n",
       "                среднее             F        12197.713515\n",
       "                                    M        12058.269424\n",
       "                ученая степень      F        12542.540651\n",
       "                                    M        11252.827185\n",
       "предприниматель высшее              F          520.848083\n",
       "сотрудник       высшее              F         1635.986278\n",
       "                                    M         1331.749459\n",
       "                начальное           F         1452.698328\n",
       "                                    M         1036.834600\n",
       "                неоконченное высшее F         1138.644216\n",
       "                                    M         1241.642451\n",
       "                среднее             F         1770.271341\n",
       "                                    M         1383.235092\n",
       "                ученая степень      M         2351.431934\n",
       "студент         высшее              M          578.751554"
      ]
     },
     "execution_count": 30,
     "metadata": {},
     "output_type": "execute_result"
    }
   ],
   "source": [
    "# посмотрим на значения которыми хочу заполнять пропуски\n",
    "pd.pivot_table(df, index=['income_type','education','gender'], values='days_employed', aggfunc=np.median)"
   ]
  },
  {
   "cell_type": "code",
   "execution_count": 31,
   "metadata": {},
   "outputs": [
    {
     "name": "stderr",
     "output_type": "stream",
     "text": [
      "/opt/conda/lib/python3.7/site-packages/numpy/lib/nanfunctions.py:1111: RuntimeWarning: Mean of empty slice\n",
      "  return np.nanmean(a, axis, out=out, keepdims=keepdims)\n"
     ]
    }
   ],
   "source": [
    "# тут мы перезаписываем пропуски \n",
    "# группируем по занятости+образованию+полу и в столбце доход \"трансформируем\" данные вычисляемым значением \n",
    "# медианs в группе хитрой функцией в которой другая фнукция\n",
    "\n",
    "df['days_employed'] = df.groupby(['income_type','education','gender'])['days_employed'].transform(lambda x: x.fillna(x.median()))"
   ]
  },
  {
   "cell_type": "code",
   "execution_count": 32,
   "metadata": {},
   "outputs": [
    {
     "data": {
      "text/plain": [
       "0"
      ]
     },
     "execution_count": 32,
     "metadata": {},
     "output_type": "execute_result"
    }
   ],
   "source": [
    "# теперь делаем значения целыми\n",
    "# но для одной строки с пропуском значение не вычислилось, так как оно оказалось единственной записью в группе \n",
    "# сделаем группы по более и возьму теперь среднюю\n",
    "\n",
    "if df[df['days_employed'].isnull()]['income_type'].count() > 0:   \n",
    "    df['days_employed'] = df.groupby(['income_type'])['days_employed'].transform(lambda x: x.fillna(x.mean()))\n",
    "    \n",
    "df[df['days_employed'].isnull()]['income_type'].count()"
   ]
  },
  {
   "cell_type": "markdown",
   "metadata": {},
   "source": [
    "#### <b> Колонка total_income </b> (ежемесячный доход) "
   ]
  },
  {
   "cell_type": "code",
   "execution_count": 33,
   "metadata": {
    "scrolled": false
   },
   "outputs": [
    {
     "data": {
      "text/html": [
       "<div>\n",
       "<style scoped>\n",
       "    .dataframe tbody tr th:only-of-type {\n",
       "        vertical-align: middle;\n",
       "    }\n",
       "\n",
       "    .dataframe tbody tr th {\n",
       "        vertical-align: top;\n",
       "    }\n",
       "\n",
       "    .dataframe thead th {\n",
       "        text-align: right;\n",
       "    }\n",
       "</style>\n",
       "<table border=\"1\" class=\"dataframe\">\n",
       "  <thead>\n",
       "    <tr style=\"text-align: right;\">\n",
       "      <th></th>\n",
       "      <th>children</th>\n",
       "      <th>days_employed</th>\n",
       "      <th>dob_years</th>\n",
       "      <th>education</th>\n",
       "      <th>education_id</th>\n",
       "      <th>family_status</th>\n",
       "      <th>family_status_id</th>\n",
       "      <th>gender</th>\n",
       "      <th>income_type</th>\n",
       "      <th>debt</th>\n",
       "      <th>total_income</th>\n",
       "      <th>purpose</th>\n",
       "      <th>days_employed_1</th>\n",
       "    </tr>\n",
       "  </thead>\n",
       "  <tbody>\n",
       "    <tr>\n",
       "      <td>12</td>\n",
       "      <td>0</td>\n",
       "      <td>12058.269424</td>\n",
       "      <td>65</td>\n",
       "      <td>среднее</td>\n",
       "      <td>1</td>\n",
       "      <td>гражданский брак</td>\n",
       "      <td>1</td>\n",
       "      <td>M</td>\n",
       "      <td>пенсионер</td>\n",
       "      <td>0</td>\n",
       "      <td>NaN</td>\n",
       "      <td>сыграть свадьбу</td>\n",
       "      <td>NaN</td>\n",
       "    </tr>\n",
       "    <tr>\n",
       "      <td>26</td>\n",
       "      <td>0</td>\n",
       "      <td>2647.283057</td>\n",
       "      <td>41</td>\n",
       "      <td>среднее</td>\n",
       "      <td>1</td>\n",
       "      <td>женат / замужем</td>\n",
       "      <td>0</td>\n",
       "      <td>M</td>\n",
       "      <td>госслужащий</td>\n",
       "      <td>0</td>\n",
       "      <td>NaN</td>\n",
       "      <td>образование</td>\n",
       "      <td>NaN</td>\n",
       "    </tr>\n",
       "    <tr>\n",
       "      <td>29</td>\n",
       "      <td>0</td>\n",
       "      <td>12197.713515</td>\n",
       "      <td>63</td>\n",
       "      <td>среднее</td>\n",
       "      <td>1</td>\n",
       "      <td>не женат / не замужем</td>\n",
       "      <td>4</td>\n",
       "      <td>F</td>\n",
       "      <td>пенсионер</td>\n",
       "      <td>0</td>\n",
       "      <td>NaN</td>\n",
       "      <td>строительство жилой недвижимости</td>\n",
       "      <td>NaN</td>\n",
       "    </tr>\n",
       "    <tr>\n",
       "      <td>41</td>\n",
       "      <td>0</td>\n",
       "      <td>2927.710247</td>\n",
       "      <td>50</td>\n",
       "      <td>среднее</td>\n",
       "      <td>1</td>\n",
       "      <td>женат / замужем</td>\n",
       "      <td>0</td>\n",
       "      <td>F</td>\n",
       "      <td>госслужащий</td>\n",
       "      <td>0</td>\n",
       "      <td>NaN</td>\n",
       "      <td>сделка с подержанным автомобилем</td>\n",
       "      <td>NaN</td>\n",
       "    </tr>\n",
       "    <tr>\n",
       "      <td>55</td>\n",
       "      <td>0</td>\n",
       "      <td>12197.713515</td>\n",
       "      <td>54</td>\n",
       "      <td>среднее</td>\n",
       "      <td>1</td>\n",
       "      <td>гражданский брак</td>\n",
       "      <td>1</td>\n",
       "      <td>F</td>\n",
       "      <td>пенсионер</td>\n",
       "      <td>1</td>\n",
       "      <td>NaN</td>\n",
       "      <td>сыграть свадьбу</td>\n",
       "      <td>NaN</td>\n",
       "    </tr>\n",
       "    <tr>\n",
       "      <td>...</td>\n",
       "      <td>...</td>\n",
       "      <td>...</td>\n",
       "      <td>...</td>\n",
       "      <td>...</td>\n",
       "      <td>...</td>\n",
       "      <td>...</td>\n",
       "      <td>...</td>\n",
       "      <td>...</td>\n",
       "      <td>...</td>\n",
       "      <td>...</td>\n",
       "      <td>...</td>\n",
       "      <td>...</td>\n",
       "      <td>...</td>\n",
       "    </tr>\n",
       "    <tr>\n",
       "      <td>21489</td>\n",
       "      <td>2</td>\n",
       "      <td>1606.165635</td>\n",
       "      <td>47</td>\n",
       "      <td>среднее</td>\n",
       "      <td>1</td>\n",
       "      <td>женат / замужем</td>\n",
       "      <td>0</td>\n",
       "      <td>M</td>\n",
       "      <td>компаньон</td>\n",
       "      <td>0</td>\n",
       "      <td>NaN</td>\n",
       "      <td>сделка с автомобилем</td>\n",
       "      <td>NaN</td>\n",
       "    </tr>\n",
       "    <tr>\n",
       "      <td>21495</td>\n",
       "      <td>1</td>\n",
       "      <td>1770.271341</td>\n",
       "      <td>50</td>\n",
       "      <td>среднее</td>\n",
       "      <td>1</td>\n",
       "      <td>гражданский брак</td>\n",
       "      <td>1</td>\n",
       "      <td>F</td>\n",
       "      <td>сотрудник</td>\n",
       "      <td>0</td>\n",
       "      <td>NaN</td>\n",
       "      <td>свадьба</td>\n",
       "      <td>NaN</td>\n",
       "    </tr>\n",
       "    <tr>\n",
       "      <td>21497</td>\n",
       "      <td>0</td>\n",
       "      <td>1537.596096</td>\n",
       "      <td>48</td>\n",
       "      <td>высшее</td>\n",
       "      <td>0</td>\n",
       "      <td>женат / замужем</td>\n",
       "      <td>0</td>\n",
       "      <td>F</td>\n",
       "      <td>компаньон</td>\n",
       "      <td>0</td>\n",
       "      <td>NaN</td>\n",
       "      <td>строительство недвижимости</td>\n",
       "      <td>NaN</td>\n",
       "    </tr>\n",
       "    <tr>\n",
       "      <td>21502</td>\n",
       "      <td>1</td>\n",
       "      <td>1770.271341</td>\n",
       "      <td>42</td>\n",
       "      <td>среднее</td>\n",
       "      <td>1</td>\n",
       "      <td>женат / замужем</td>\n",
       "      <td>0</td>\n",
       "      <td>F</td>\n",
       "      <td>сотрудник</td>\n",
       "      <td>0</td>\n",
       "      <td>NaN</td>\n",
       "      <td>строительство жилой недвижимости</td>\n",
       "      <td>NaN</td>\n",
       "    </tr>\n",
       "    <tr>\n",
       "      <td>21510</td>\n",
       "      <td>2</td>\n",
       "      <td>1770.271341</td>\n",
       "      <td>28</td>\n",
       "      <td>среднее</td>\n",
       "      <td>1</td>\n",
       "      <td>женат / замужем</td>\n",
       "      <td>0</td>\n",
       "      <td>F</td>\n",
       "      <td>сотрудник</td>\n",
       "      <td>0</td>\n",
       "      <td>NaN</td>\n",
       "      <td>приобретение автомобиля</td>\n",
       "      <td>NaN</td>\n",
       "    </tr>\n",
       "  </tbody>\n",
       "</table>\n",
       "<p>2174 rows × 13 columns</p>\n",
       "</div>"
      ],
      "text/plain": [
       "       children  days_employed  dob_years education  education_id  \\\n",
       "12            0   12058.269424         65   среднее             1   \n",
       "26            0    2647.283057         41   среднее             1   \n",
       "29            0   12197.713515         63   среднее             1   \n",
       "41            0    2927.710247         50   среднее             1   \n",
       "55            0   12197.713515         54   среднее             1   \n",
       "...         ...            ...        ...       ...           ...   \n",
       "21489         2    1606.165635         47   среднее             1   \n",
       "21495         1    1770.271341         50   среднее             1   \n",
       "21497         0    1537.596096         48    высшее             0   \n",
       "21502         1    1770.271341         42   среднее             1   \n",
       "21510         2    1770.271341         28   среднее             1   \n",
       "\n",
       "               family_status  family_status_id gender  income_type  debt  \\\n",
       "12          гражданский брак                 1      M    пенсионер     0   \n",
       "26           женат / замужем                 0      M  госслужащий     0   \n",
       "29     не женат / не замужем                 4      F    пенсионер     0   \n",
       "41           женат / замужем                 0      F  госслужащий     0   \n",
       "55          гражданский брак                 1      F    пенсионер     1   \n",
       "...                      ...               ...    ...          ...   ...   \n",
       "21489        женат / замужем                 0      M    компаньон     0   \n",
       "21495       гражданский брак                 1      F    сотрудник     0   \n",
       "21497        женат / замужем                 0      F    компаньон     0   \n",
       "21502        женат / замужем                 0      F    сотрудник     0   \n",
       "21510        женат / замужем                 0      F    сотрудник     0   \n",
       "\n",
       "       total_income                           purpose  days_employed_1  \n",
       "12              NaN                   сыграть свадьбу              NaN  \n",
       "26              NaN                       образование              NaN  \n",
       "29              NaN  строительство жилой недвижимости              NaN  \n",
       "41              NaN  сделка с подержанным автомобилем              NaN  \n",
       "55              NaN                   сыграть свадьбу              NaN  \n",
       "...             ...                               ...              ...  \n",
       "21489           NaN              сделка с автомобилем              NaN  \n",
       "21495           NaN                           свадьба              NaN  \n",
       "21497           NaN        строительство недвижимости              NaN  \n",
       "21502           NaN  строительство жилой недвижимости              NaN  \n",
       "21510           NaN           приобретение автомобиля              NaN  \n",
       "\n",
       "[2174 rows x 13 columns]"
      ]
     },
     "execution_count": 33,
     "metadata": {},
     "output_type": "execute_result"
    }
   ],
   "source": [
    "df.loc[pd.isna(df['total_income'])]"
   ]
  },
  {
   "cell_type": "markdown",
   "metadata": {},
   "source": [
    "Откуда могли взяться пропуски в данных - это лучше спросить у data engeneer который организовывал работу по сбору данных.\n",
    "Могу предположить что при заполнении данных о стаже и доходах, заполняющие, вместо нуля указали текстовое 'нет', а система сбора данных не пропустила не числовое значение, и поле данных оставила пустым."
   ]
  },
  {
   "cell_type": "code",
   "execution_count": 34,
   "metadata": {},
   "outputs": [
    {
     "data": {
      "text/html": [
       "<div>\n",
       "<style scoped>\n",
       "    .dataframe tbody tr th:only-of-type {\n",
       "        vertical-align: middle;\n",
       "    }\n",
       "\n",
       "    .dataframe tbody tr th {\n",
       "        vertical-align: top;\n",
       "    }\n",
       "\n",
       "    .dataframe thead th {\n",
       "        text-align: right;\n",
       "    }\n",
       "</style>\n",
       "<table border=\"1\" class=\"dataframe\">\n",
       "  <thead>\n",
       "    <tr style=\"text-align: right;\">\n",
       "      <th></th>\n",
       "      <th></th>\n",
       "      <th></th>\n",
       "      <th>total_income</th>\n",
       "    </tr>\n",
       "    <tr>\n",
       "      <th>income_type</th>\n",
       "      <th>education</th>\n",
       "      <th>gender</th>\n",
       "      <th></th>\n",
       "    </tr>\n",
       "  </thead>\n",
       "  <tbody>\n",
       "    <tr>\n",
       "      <td rowspan=\"2\" valign=\"top\">безработный</td>\n",
       "      <td>высшее</td>\n",
       "      <td>F</td>\n",
       "      <td>202722.511368</td>\n",
       "    </tr>\n",
       "    <tr>\n",
       "      <td>среднее</td>\n",
       "      <td>M</td>\n",
       "      <td>59956.991984</td>\n",
       "    </tr>\n",
       "    <tr>\n",
       "      <td>в декрете</td>\n",
       "      <td>среднее</td>\n",
       "      <td>F</td>\n",
       "      <td>53829.130729</td>\n",
       "    </tr>\n",
       "    <tr>\n",
       "      <td rowspan=\"9\" valign=\"top\">госслужащий</td>\n",
       "      <td rowspan=\"2\" valign=\"top\">высшее</td>\n",
       "      <td>F</td>\n",
       "      <td>157841.438279</td>\n",
       "    </tr>\n",
       "    <tr>\n",
       "      <td>M</td>\n",
       "      <td>214706.640963</td>\n",
       "    </tr>\n",
       "    <tr>\n",
       "      <td rowspan=\"2\" valign=\"top\">начальное</td>\n",
       "      <td>F</td>\n",
       "      <td>89618.962330</td>\n",
       "    </tr>\n",
       "    <tr>\n",
       "      <td>M</td>\n",
       "      <td>190966.659534</td>\n",
       "    </tr>\n",
       "    <tr>\n",
       "      <td rowspan=\"2\" valign=\"top\">неоконченное высшее</td>\n",
       "      <td>F</td>\n",
       "      <td>136599.129610</td>\n",
       "    </tr>\n",
       "    <tr>\n",
       "      <td>M</td>\n",
       "      <td>177320.628254</td>\n",
       "    </tr>\n",
       "    <tr>\n",
       "      <td rowspan=\"2\" valign=\"top\">среднее</td>\n",
       "      <td>F</td>\n",
       "      <td>125831.806597</td>\n",
       "    </tr>\n",
       "    <tr>\n",
       "      <td>M</td>\n",
       "      <td>169651.956756</td>\n",
       "    </tr>\n",
       "    <tr>\n",
       "      <td>ученая степень</td>\n",
       "      <td>F</td>\n",
       "      <td>111392.231107</td>\n",
       "    </tr>\n",
       "    <tr>\n",
       "      <td rowspan=\"9\" valign=\"top\">компаньон</td>\n",
       "      <td rowspan=\"2\" valign=\"top\">высшее</td>\n",
       "      <td>F</td>\n",
       "      <td>189893.464621</td>\n",
       "    </tr>\n",
       "    <tr>\n",
       "      <td>M</td>\n",
       "      <td>233064.883613</td>\n",
       "    </tr>\n",
       "    <tr>\n",
       "      <td rowspan=\"2\" valign=\"top\">начальное</td>\n",
       "      <td>F</td>\n",
       "      <td>134012.003567</td>\n",
       "    </tr>\n",
       "    <tr>\n",
       "      <td>M</td>\n",
       "      <td>150100.960964</td>\n",
       "    </tr>\n",
       "    <tr>\n",
       "      <td rowspan=\"3\" valign=\"top\">неоконченное высшее</td>\n",
       "      <td>F</td>\n",
       "      <td>170471.622782</td>\n",
       "    </tr>\n",
       "    <tr>\n",
       "      <td>M</td>\n",
       "      <td>191291.929274</td>\n",
       "    </tr>\n",
       "    <tr>\n",
       "      <td>XNA</td>\n",
       "      <td>203905.157261</td>\n",
       "    </tr>\n",
       "    <tr>\n",
       "      <td rowspan=\"2\" valign=\"top\">среднее</td>\n",
       "      <td>F</td>\n",
       "      <td>144881.784198</td>\n",
       "    </tr>\n",
       "    <tr>\n",
       "      <td>M</td>\n",
       "      <td>181889.020944</td>\n",
       "    </tr>\n",
       "    <tr>\n",
       "      <td rowspan=\"10\" valign=\"top\">пенсионер</td>\n",
       "      <td rowspan=\"2\" valign=\"top\">высшее</td>\n",
       "      <td>F</td>\n",
       "      <td>142404.278858</td>\n",
       "    </tr>\n",
       "    <tr>\n",
       "      <td>M</td>\n",
       "      <td>157457.331331</td>\n",
       "    </tr>\n",
       "    <tr>\n",
       "      <td rowspan=\"2\" valign=\"top\">начальное</td>\n",
       "      <td>F</td>\n",
       "      <td>101180.566458</td>\n",
       "    </tr>\n",
       "    <tr>\n",
       "      <td>M</td>\n",
       "      <td>113124.202781</td>\n",
       "    </tr>\n",
       "    <tr>\n",
       "      <td rowspan=\"2\" valign=\"top\">неоконченное высшее</td>\n",
       "      <td>F</td>\n",
       "      <td>116592.976550</td>\n",
       "    </tr>\n",
       "    <tr>\n",
       "      <td>M</td>\n",
       "      <td>124667.471301</td>\n",
       "    </tr>\n",
       "    <tr>\n",
       "      <td rowspan=\"2\" valign=\"top\">среднее</td>\n",
       "      <td>F</td>\n",
       "      <td>112790.975121</td>\n",
       "    </tr>\n",
       "    <tr>\n",
       "      <td>M</td>\n",
       "      <td>126097.196750</td>\n",
       "    </tr>\n",
       "    <tr>\n",
       "      <td rowspan=\"2\" valign=\"top\">ученая степень</td>\n",
       "      <td>F</td>\n",
       "      <td>255425.196556</td>\n",
       "    </tr>\n",
       "    <tr>\n",
       "      <td>M</td>\n",
       "      <td>98752.495442</td>\n",
       "    </tr>\n",
       "    <tr>\n",
       "      <td>предприниматель</td>\n",
       "      <td>высшее</td>\n",
       "      <td>F</td>\n",
       "      <td>499163.144947</td>\n",
       "    </tr>\n",
       "    <tr>\n",
       "      <td rowspan=\"9\" valign=\"top\">сотрудник</td>\n",
       "      <td rowspan=\"2\" valign=\"top\">высшее</td>\n",
       "      <td>F</td>\n",
       "      <td>153691.851098</td>\n",
       "    </tr>\n",
       "    <tr>\n",
       "      <td>M</td>\n",
       "      <td>192247.298639</td>\n",
       "    </tr>\n",
       "    <tr>\n",
       "      <td rowspan=\"2\" valign=\"top\">начальное</td>\n",
       "      <td>F</td>\n",
       "      <td>118516.720741</td>\n",
       "    </tr>\n",
       "    <tr>\n",
       "      <td>M</td>\n",
       "      <td>141637.960402</td>\n",
       "    </tr>\n",
       "    <tr>\n",
       "      <td rowspan=\"2\" valign=\"top\">неоконченное высшее</td>\n",
       "      <td>F</td>\n",
       "      <td>134925.188145</td>\n",
       "    </tr>\n",
       "    <tr>\n",
       "      <td>M</td>\n",
       "      <td>189075.918446</td>\n",
       "    </tr>\n",
       "    <tr>\n",
       "      <td rowspan=\"2\" valign=\"top\">среднее</td>\n",
       "      <td>F</td>\n",
       "      <td>124127.090016</td>\n",
       "    </tr>\n",
       "    <tr>\n",
       "      <td>M</td>\n",
       "      <td>156286.402929</td>\n",
       "    </tr>\n",
       "    <tr>\n",
       "      <td>ученая степень</td>\n",
       "      <td>M</td>\n",
       "      <td>198570.757322</td>\n",
       "    </tr>\n",
       "    <tr>\n",
       "      <td>студент</td>\n",
       "      <td>высшее</td>\n",
       "      <td>M</td>\n",
       "      <td>98201.625314</td>\n",
       "    </tr>\n",
       "  </tbody>\n",
       "</table>\n",
       "</div>"
      ],
      "text/plain": [
       "                                             total_income\n",
       "income_type     education           gender               \n",
       "безработный     высшее              F       202722.511368\n",
       "                среднее             M        59956.991984\n",
       "в декрете       среднее             F        53829.130729\n",
       "госслужащий     высшее              F       157841.438279\n",
       "                                    M       214706.640963\n",
       "                начальное           F        89618.962330\n",
       "                                    M       190966.659534\n",
       "                неоконченное высшее F       136599.129610\n",
       "                                    M       177320.628254\n",
       "                среднее             F       125831.806597\n",
       "                                    M       169651.956756\n",
       "                ученая степень      F       111392.231107\n",
       "компаньон       высшее              F       189893.464621\n",
       "                                    M       233064.883613\n",
       "                начальное           F       134012.003567\n",
       "                                    M       150100.960964\n",
       "                неоконченное высшее F       170471.622782\n",
       "                                    M       191291.929274\n",
       "                                    XNA     203905.157261\n",
       "                среднее             F       144881.784198\n",
       "                                    M       181889.020944\n",
       "пенсионер       высшее              F       142404.278858\n",
       "                                    M       157457.331331\n",
       "                начальное           F       101180.566458\n",
       "                                    M       113124.202781\n",
       "                неоконченное высшее F       116592.976550\n",
       "                                    M       124667.471301\n",
       "                среднее             F       112790.975121\n",
       "                                    M       126097.196750\n",
       "                ученая степень      F       255425.196556\n",
       "                                    M        98752.495442\n",
       "предприниматель высшее              F       499163.144947\n",
       "сотрудник       высшее              F       153691.851098\n",
       "                                    M       192247.298639\n",
       "                начальное           F       118516.720741\n",
       "                                    M       141637.960402\n",
       "                неоконченное высшее F       134925.188145\n",
       "                                    M       189075.918446\n",
       "                среднее             F       124127.090016\n",
       "                                    M       156286.402929\n",
       "                ученая степень      M       198570.757322\n",
       "студент         высшее              M        98201.625314"
      ]
     },
     "execution_count": 34,
     "metadata": {},
     "output_type": "execute_result"
    }
   ],
   "source": [
    "# посмотрим на значения которыми хочу заполнять пропуски\n",
    "pd.pivot_table(df, index=['income_type','education','gender'], values='total_income', aggfunc=np.median)"
   ]
  },
  {
   "cell_type": "code",
   "execution_count": 35,
   "metadata": {},
   "outputs": [],
   "source": [
    "# тут мы перезаписываем пропуски \n",
    "# группируем по занятости+образованию+полу и в столбце доход \"трансформируем\" данные вычисляемым значением \n",
    "# медианs в группе хитрой функцией в которой другая фнукция\n",
    "\n",
    "df['total_income'] = df.groupby(['income_type','education','gender'])['total_income'].transform(lambda x: x.fillna(x.median()))"
   ]
  },
  {
   "cell_type": "code",
   "execution_count": 36,
   "metadata": {},
   "outputs": [
    {
     "data": {
      "text/plain": [
       "0"
      ]
     },
     "execution_count": 36,
     "metadata": {},
     "output_type": "execute_result"
    }
   ],
   "source": [
    "# но для одной строки с пропуском значение не вычислилось, так как оно оказалось единственной записью в группе \n",
    "# сделаем группы по более и возьму теперь среднюю\n",
    "df['total_income'] = df.groupby(['income_type'])['total_income'].transform(lambda x: x.fillna(x.mean()))\n",
    "df[df['days_employed'].isnull()]['income_type'].count()"
   ]
  },
  {
   "cell_type": "markdown",
   "metadata": {},
   "source": [
    "#### <b>Колонка - возраст.</b><br> "
   ]
  },
  {
   "cell_type": "markdown",
   "metadata": {},
   "source": [
    "Посмотрим есть ли выбросы - то есть возраст меньше 18 и больше 80. Так как заёмщикам с таким возрастом кредитов не дают."
   ]
  },
  {
   "cell_type": "code",
   "execution_count": 37,
   "metadata": {
    "scrolled": true
   },
   "outputs": [
    {
     "data": {
      "text/plain": [
       "0    101\n",
       "Name: dob_years, dtype: int64"
      ]
     },
     "execution_count": 37,
     "metadata": {},
     "output_type": "execute_result"
    }
   ],
   "source": [
    "df[(df['dob_years'] <18) | (df['dob_years'] > 80)]['dob_years'].value_counts()"
   ]
  },
  {
   "cell_type": "markdown",
   "metadata": {},
   "source": [
    "101 \"новорожденный\" - кто они ..."
   ]
  },
  {
   "cell_type": "code",
   "execution_count": 38,
   "metadata": {
    "scrolled": false
   },
   "outputs": [
    {
     "data": {
      "text/plain": [
       "сотрудник      55\n",
       "компаньон      20\n",
       "пенсионер      20\n",
       "госслужащий     6\n",
       "Name: income_type, dtype: int64"
      ]
     },
     "execution_count": 38,
     "metadata": {},
     "output_type": "execute_result"
    }
   ],
   "source": [
    "df.loc[df['dob_years'] == 0]['income_type'].value_counts()"
   ]
  },
  {
   "cell_type": "markdown",
   "metadata": {},
   "source": [
    "Хочу посмотреть средний возраст по группам занятости"
   ]
  },
  {
   "cell_type": "markdown",
   "metadata": {},
   "source": [
    "Буду считать что нулевое значение возраста является пропуском - заполню его средним значением по группам занятости"
   ]
  },
  {
   "cell_type": "code",
   "execution_count": 39,
   "metadata": {
    "scrolled": true
   },
   "outputs": [
    {
     "data": {
      "text/plain": [
       "<matplotlib.axes._subplots.AxesSubplot at 0x7f3361b824d0>"
      ]
     },
     "execution_count": 39,
     "metadata": {},
     "output_type": "execute_result"
    },
    {
     "data": {
      "image/png": "[encoded data removed]",
      "text/plain": [
       "<Figure size 432x288 with 1 Axes>"
      ]
     },
     "metadata": {
      "needs_background": "light"
     },
     "output_type": "display_data"
    }
   ],
   "source": [
    "sns.barplot(x=\"dob_years\", y='income_type', data=df)"
   ]
  },
  {
   "cell_type": "code",
   "execution_count": 40,
   "metadata": {},
   "outputs": [
    {
     "data": {
      "text/plain": [
       "income_type\n",
       "безработный        38.000000\n",
       "в декрете          39.000000\n",
       "госслужащий        40.636737\n",
       "компаньон          39.697542\n",
       "пенсионер          59.063019\n",
       "предприниматель    42.500000\n",
       "сотрудник          39.821027\n",
       "студент            22.000000\n",
       "Name: dob_years, dtype: float64"
      ]
     },
     "execution_count": 40,
     "metadata": {},
     "output_type": "execute_result"
    }
   ],
   "source": [
    "df.groupby('income_type')['dob_years'].mean()"
   ]
  },
  {
   "cell_type": "markdown",
   "metadata": {},
   "source": [
    "Не придумал как это сделать по другому - нули заменим на пропуски, потом пропуски заменим на среднее в группе"
   ]
  },
  {
   "cell_type": "code",
   "execution_count": 41,
   "metadata": {},
   "outputs": [],
   "source": [
    "df.loc[df['dob_years'] == 0, 'dob_years'] = None"
   ]
  },
  {
   "cell_type": "code",
   "execution_count": 42,
   "metadata": {},
   "outputs": [],
   "source": [
    "df['dob_years'] = df['dob_years'].fillna(df.groupby('income_type')['dob_years'].transform('mean'))"
   ]
  },
  {
   "cell_type": "markdown",
   "metadata": {},
   "source": [
    "### Изменение типа "
   ]
  },
  {
   "cell_type": "code",
   "execution_count": 43,
   "metadata": {},
   "outputs": [],
   "source": [
    "# меняемт тип на целочисленные в столбцах стаж и доход\n",
    "df['days_employed'] = df['days_employed'].astype(int)"
   ]
  },
  {
   "cell_type": "code",
   "execution_count": 44,
   "metadata": {},
   "outputs": [],
   "source": [
    "df['total_income'] = df['total_income'].astype(int)"
   ]
  },
  {
   "cell_type": "code",
   "execution_count": 45,
   "metadata": {},
   "outputs": [],
   "source": [
    "df['dob_years'] = df['dob_years'].astype(int)"
   ]
  },
  {
   "cell_type": "code",
   "execution_count": 46,
   "metadata": {
    "scrolled": false
   },
   "outputs": [
    {
     "data": {
      "text/html": [
       "<div>\n",
       "<style scoped>\n",
       "    .dataframe tbody tr th:only-of-type {\n",
       "        vertical-align: middle;\n",
       "    }\n",
       "\n",
       "    .dataframe tbody tr th {\n",
       "        vertical-align: top;\n",
       "    }\n",
       "\n",
       "    .dataframe thead th {\n",
       "        text-align: right;\n",
       "    }\n",
       "</style>\n",
       "<table border=\"1\" class=\"dataframe\">\n",
       "  <thead>\n",
       "    <tr style=\"text-align: right;\">\n",
       "      <th></th>\n",
       "      <th>days_employed</th>\n",
       "      <th>years_employed</th>\n",
       "      <th>dob_years</th>\n",
       "    </tr>\n",
       "  </thead>\n",
       "  <tbody>\n",
       "    <tr>\n",
       "      <td>0</td>\n",
       "      <td>8437</td>\n",
       "      <td>23</td>\n",
       "      <td>42</td>\n",
       "    </tr>\n",
       "    <tr>\n",
       "      <td>1</td>\n",
       "      <td>4024</td>\n",
       "      <td>11</td>\n",
       "      <td>36</td>\n",
       "    </tr>\n",
       "    <tr>\n",
       "      <td>2</td>\n",
       "      <td>5623</td>\n",
       "      <td>15</td>\n",
       "      <td>33</td>\n",
       "    </tr>\n",
       "    <tr>\n",
       "      <td>3</td>\n",
       "      <td>4124</td>\n",
       "      <td>11</td>\n",
       "      <td>32</td>\n",
       "    </tr>\n",
       "    <tr>\n",
       "      <td>4</td>\n",
       "      <td>11342</td>\n",
       "      <td>31</td>\n",
       "      <td>53</td>\n",
       "    </tr>\n",
       "  </tbody>\n",
       "</table>\n",
       "</div>"
      ],
      "text/plain": [
       "   days_employed  years_employed  dob_years\n",
       "0           8437              23         42\n",
       "1           4024              11         36\n",
       "2           5623              15         33\n",
       "3           4124              11         32\n",
       "4          11342              31         53"
      ]
     },
     "execution_count": 46,
     "metadata": {},
     "output_type": "execute_result"
    }
   ],
   "source": [
    "# создаём колокнку стажа в годах (для наглядности)\n",
    "df['years_employed'] = df['days_employed'] / 365\n",
    "df['years_employed'] = df['years_employed'].astype(int)\n",
    "#(df.loc[:,['days_employed','years_employed', 'dob_years']].head())\n",
    "df[['days_employed','years_employed','dob_years']].head()"
   ]
  },
  {
   "cell_type": "markdown",
   "metadata": {},
   "source": [
    "Давайте посмотрим не привышает ли рабочий стаж  возраст "
   ]
  },
  {
   "cell_type": "code",
   "execution_count": 47,
   "metadata": {},
   "outputs": [
    {
     "name": "stdout",
     "output_type": "stream",
     "text": [
      "пенсионер    13\n",
      "Name: income_type, dtype: int64\n"
     ]
    }
   ],
   "source": [
    "# фильтр - у скольких людей в выборке стаж превышает возраст\n",
    "print(df[(df['days_employed']/365) > df['dob_years']]['income_type'].value_counts())"
   ]
  },
  {
   "cell_type": "code",
   "execution_count": 48,
   "metadata": {},
   "outputs": [
    {
     "name": "stdout",
     "output_type": "stream",
     "text": [
      "Всего: 13\n"
     ]
    }
   ],
   "source": [
    "print('Всего:',df[(df['days_employed']/365) > df['dob_years']]['income_type'].count())"
   ]
  },
  {
   "cell_type": "markdown",
   "metadata": {},
   "source": [
    "Информация о стаже не требуется для ответа на целевые вопросы -  пока считаю что этот столбец можно проигнориовать!"
   ]
  },
  {
   "cell_type": "markdown",
   "metadata": {},
   "source": [
    "**Вывод**"
   ]
  },
  {
   "cell_type": "markdown",
   "metadata": {},
   "source": [
    "В общем и целом требуемые для ответов на вопросы данные приведены в нормальный вид."
   ]
  },
  {
   "cell_type": "markdown",
   "metadata": {},
   "source": [
    "### Обработка дубликатов"
   ]
  },
  {
   "cell_type": "code",
   "execution_count": 49,
   "metadata": {},
   "outputs": [
    {
     "name": "stdout",
     "output_type": "stream",
     "text": [
      "71\n"
     ]
    }
   ],
   "source": [
    "# воспользуемся методом поиска дубликактов и выведем их сумму\n",
    "# в аргументах указываем чтоб искал дубликаты используя все столбцы\n",
    "# keep='first' -  первое значение из повторяющихся будет считаться уникальным\n",
    "print(df.duplicated(subset=None, keep='first').sum())\n"
   ]
  },
  {
   "cell_type": "markdown",
   "metadata": {},
   "source": [
    "Они есть . Посмотрим на них одни глазком."
   ]
  },
  {
   "cell_type": "code",
   "execution_count": 50,
   "metadata": {
    "scrolled": true
   },
   "outputs": [
    {
     "data": {
      "text/html": [
       "<div>\n",
       "<style scoped>\n",
       "    .dataframe tbody tr th:only-of-type {\n",
       "        vertical-align: middle;\n",
       "    }\n",
       "\n",
       "    .dataframe tbody tr th {\n",
       "        vertical-align: top;\n",
       "    }\n",
       "\n",
       "    .dataframe thead th {\n",
       "        text-align: right;\n",
       "    }\n",
       "</style>\n",
       "<table border=\"1\" class=\"dataframe\">\n",
       "  <thead>\n",
       "    <tr style=\"text-align: right;\">\n",
       "      <th></th>\n",
       "      <th>children</th>\n",
       "      <th>days_employed</th>\n",
       "      <th>dob_years</th>\n",
       "      <th>education</th>\n",
       "      <th>education_id</th>\n",
       "      <th>family_status</th>\n",
       "      <th>family_status_id</th>\n",
       "      <th>gender</th>\n",
       "      <th>income_type</th>\n",
       "      <th>debt</th>\n",
       "      <th>total_income</th>\n",
       "      <th>purpose</th>\n",
       "      <th>days_employed_1</th>\n",
       "      <th>years_employed</th>\n",
       "    </tr>\n",
       "  </thead>\n",
       "  <tbody>\n",
       "    <tr>\n",
       "      <td>19387</td>\n",
       "      <td>0</td>\n",
       "      <td>1537</td>\n",
       "      <td>38</td>\n",
       "      <td>высшее</td>\n",
       "      <td>0</td>\n",
       "      <td>гражданский брак</td>\n",
       "      <td>1</td>\n",
       "      <td>F</td>\n",
       "      <td>компаньон</td>\n",
       "      <td>0</td>\n",
       "      <td>189893</td>\n",
       "      <td>на проведение свадьбы</td>\n",
       "      <td>NaN</td>\n",
       "      <td>4</td>\n",
       "    </tr>\n",
       "    <tr>\n",
       "      <td>19559</td>\n",
       "      <td>0</td>\n",
       "      <td>1770</td>\n",
       "      <td>41</td>\n",
       "      <td>среднее</td>\n",
       "      <td>1</td>\n",
       "      <td>женат / замужем</td>\n",
       "      <td>0</td>\n",
       "      <td>F</td>\n",
       "      <td>сотрудник</td>\n",
       "      <td>0</td>\n",
       "      <td>124127</td>\n",
       "      <td>свой автомобиль</td>\n",
       "      <td>NaN</td>\n",
       "      <td>4</td>\n",
       "    </tr>\n",
       "    <tr>\n",
       "      <td>19688</td>\n",
       "      <td>0</td>\n",
       "      <td>12197</td>\n",
       "      <td>61</td>\n",
       "      <td>среднее</td>\n",
       "      <td>1</td>\n",
       "      <td>женат / замужем</td>\n",
       "      <td>0</td>\n",
       "      <td>F</td>\n",
       "      <td>пенсионер</td>\n",
       "      <td>0</td>\n",
       "      <td>112790</td>\n",
       "      <td>операции с недвижимостью</td>\n",
       "      <td>NaN</td>\n",
       "      <td>33</td>\n",
       "    </tr>\n",
       "    <tr>\n",
       "      <td>19832</td>\n",
       "      <td>0</td>\n",
       "      <td>1770</td>\n",
       "      <td>48</td>\n",
       "      <td>среднее</td>\n",
       "      <td>1</td>\n",
       "      <td>женат / замужем</td>\n",
       "      <td>0</td>\n",
       "      <td>F</td>\n",
       "      <td>сотрудник</td>\n",
       "      <td>0</td>\n",
       "      <td>124127</td>\n",
       "      <td>ремонт жилью</td>\n",
       "      <td>NaN</td>\n",
       "      <td>4</td>\n",
       "    </tr>\n",
       "    <tr>\n",
       "      <td>19946</td>\n",
       "      <td>0</td>\n",
       "      <td>1770</td>\n",
       "      <td>57</td>\n",
       "      <td>среднее</td>\n",
       "      <td>1</td>\n",
       "      <td>женат / замужем</td>\n",
       "      <td>0</td>\n",
       "      <td>F</td>\n",
       "      <td>сотрудник</td>\n",
       "      <td>0</td>\n",
       "      <td>124127</td>\n",
       "      <td>сделка с подержанным автомобилем</td>\n",
       "      <td>NaN</td>\n",
       "      <td>4</td>\n",
       "    </tr>\n",
       "    <tr>\n",
       "      <td>20116</td>\n",
       "      <td>0</td>\n",
       "      <td>12058</td>\n",
       "      <td>57</td>\n",
       "      <td>среднее</td>\n",
       "      <td>1</td>\n",
       "      <td>гражданский брак</td>\n",
       "      <td>1</td>\n",
       "      <td>M</td>\n",
       "      <td>пенсионер</td>\n",
       "      <td>0</td>\n",
       "      <td>126097</td>\n",
       "      <td>свадьба</td>\n",
       "      <td>NaN</td>\n",
       "      <td>33</td>\n",
       "    </tr>\n",
       "    <tr>\n",
       "      <td>20165</td>\n",
       "      <td>0</td>\n",
       "      <td>1770</td>\n",
       "      <td>42</td>\n",
       "      <td>среднее</td>\n",
       "      <td>1</td>\n",
       "      <td>женат / замужем</td>\n",
       "      <td>0</td>\n",
       "      <td>F</td>\n",
       "      <td>сотрудник</td>\n",
       "      <td>0</td>\n",
       "      <td>124127</td>\n",
       "      <td>покупка жилья для семьи</td>\n",
       "      <td>NaN</td>\n",
       "      <td>4</td>\n",
       "    </tr>\n",
       "    <tr>\n",
       "      <td>20187</td>\n",
       "      <td>0</td>\n",
       "      <td>12197</td>\n",
       "      <td>65</td>\n",
       "      <td>среднее</td>\n",
       "      <td>1</td>\n",
       "      <td>гражданский брак</td>\n",
       "      <td>1</td>\n",
       "      <td>F</td>\n",
       "      <td>пенсионер</td>\n",
       "      <td>0</td>\n",
       "      <td>112790</td>\n",
       "      <td>сыграть свадьбу</td>\n",
       "      <td>NaN</td>\n",
       "      <td>33</td>\n",
       "    </tr>\n",
       "    <tr>\n",
       "      <td>20297</td>\n",
       "      <td>1</td>\n",
       "      <td>1770</td>\n",
       "      <td>23</td>\n",
       "      <td>среднее</td>\n",
       "      <td>1</td>\n",
       "      <td>гражданский брак</td>\n",
       "      <td>1</td>\n",
       "      <td>F</td>\n",
       "      <td>сотрудник</td>\n",
       "      <td>0</td>\n",
       "      <td>124127</td>\n",
       "      <td>сыграть свадьбу</td>\n",
       "      <td>NaN</td>\n",
       "      <td>4</td>\n",
       "    </tr>\n",
       "    <tr>\n",
       "      <td>20662</td>\n",
       "      <td>0</td>\n",
       "      <td>1383</td>\n",
       "      <td>58</td>\n",
       "      <td>среднее</td>\n",
       "      <td>1</td>\n",
       "      <td>гражданский брак</td>\n",
       "      <td>1</td>\n",
       "      <td>M</td>\n",
       "      <td>сотрудник</td>\n",
       "      <td>0</td>\n",
       "      <td>156286</td>\n",
       "      <td>на проведение свадьбы</td>\n",
       "      <td>NaN</td>\n",
       "      <td>3</td>\n",
       "    </tr>\n",
       "    <tr>\n",
       "      <td>20702</td>\n",
       "      <td>0</td>\n",
       "      <td>12197</td>\n",
       "      <td>64</td>\n",
       "      <td>среднее</td>\n",
       "      <td>1</td>\n",
       "      <td>женат / замужем</td>\n",
       "      <td>0</td>\n",
       "      <td>F</td>\n",
       "      <td>пенсионер</td>\n",
       "      <td>0</td>\n",
       "      <td>112790</td>\n",
       "      <td>дополнительное образование</td>\n",
       "      <td>NaN</td>\n",
       "      <td>33</td>\n",
       "    </tr>\n",
       "    <tr>\n",
       "      <td>21032</td>\n",
       "      <td>0</td>\n",
       "      <td>12197</td>\n",
       "      <td>60</td>\n",
       "      <td>среднее</td>\n",
       "      <td>1</td>\n",
       "      <td>женат / замужем</td>\n",
       "      <td>0</td>\n",
       "      <td>F</td>\n",
       "      <td>пенсионер</td>\n",
       "      <td>0</td>\n",
       "      <td>112790</td>\n",
       "      <td>заняться образованием</td>\n",
       "      <td>NaN</td>\n",
       "      <td>33</td>\n",
       "    </tr>\n",
       "    <tr>\n",
       "      <td>21132</td>\n",
       "      <td>0</td>\n",
       "      <td>1770</td>\n",
       "      <td>47</td>\n",
       "      <td>среднее</td>\n",
       "      <td>1</td>\n",
       "      <td>женат / замужем</td>\n",
       "      <td>0</td>\n",
       "      <td>F</td>\n",
       "      <td>сотрудник</td>\n",
       "      <td>0</td>\n",
       "      <td>124127</td>\n",
       "      <td>ремонт жилью</td>\n",
       "      <td>NaN</td>\n",
       "      <td>4</td>\n",
       "    </tr>\n",
       "    <tr>\n",
       "      <td>21281</td>\n",
       "      <td>1</td>\n",
       "      <td>1635</td>\n",
       "      <td>30</td>\n",
       "      <td>высшее</td>\n",
       "      <td>0</td>\n",
       "      <td>женат / замужем</td>\n",
       "      <td>0</td>\n",
       "      <td>F</td>\n",
       "      <td>сотрудник</td>\n",
       "      <td>0</td>\n",
       "      <td>153691</td>\n",
       "      <td>покупка коммерческой недвижимости</td>\n",
       "      <td>NaN</td>\n",
       "      <td>4</td>\n",
       "    </tr>\n",
       "    <tr>\n",
       "      <td>21415</td>\n",
       "      <td>0</td>\n",
       "      <td>12197</td>\n",
       "      <td>54</td>\n",
       "      <td>среднее</td>\n",
       "      <td>1</td>\n",
       "      <td>женат / замужем</td>\n",
       "      <td>0</td>\n",
       "      <td>F</td>\n",
       "      <td>пенсионер</td>\n",
       "      <td>0</td>\n",
       "      <td>112790</td>\n",
       "      <td>операции с жильем</td>\n",
       "      <td>NaN</td>\n",
       "      <td>33</td>\n",
       "    </tr>\n",
       "  </tbody>\n",
       "</table>\n",
       "</div>"
      ],
      "text/plain": [
       "       children  days_employed  dob_years education  education_id  \\\n",
       "19387         0           1537         38    высшее             0   \n",
       "19559         0           1770         41   среднее             1   \n",
       "19688         0          12197         61   среднее             1   \n",
       "19832         0           1770         48   среднее             1   \n",
       "19946         0           1770         57   среднее             1   \n",
       "20116         0          12058         57   среднее             1   \n",
       "20165         0           1770         42   среднее             1   \n",
       "20187         0          12197         65   среднее             1   \n",
       "20297         1           1770         23   среднее             1   \n",
       "20662         0           1383         58   среднее             1   \n",
       "20702         0          12197         64   среднее             1   \n",
       "21032         0          12197         60   среднее             1   \n",
       "21132         0           1770         47   среднее             1   \n",
       "21281         1           1635         30    высшее             0   \n",
       "21415         0          12197         54   среднее             1   \n",
       "\n",
       "          family_status  family_status_id gender income_type  debt  \\\n",
       "19387  гражданский брак                 1      F   компаньон     0   \n",
       "19559   женат / замужем                 0      F   сотрудник     0   \n",
       "19688   женат / замужем                 0      F   пенсионер     0   \n",
       "19832   женат / замужем                 0      F   сотрудник     0   \n",
       "19946   женат / замужем                 0      F   сотрудник     0   \n",
       "20116  гражданский брак                 1      M   пенсионер     0   \n",
       "20165   женат / замужем                 0      F   сотрудник     0   \n",
       "20187  гражданский брак                 1      F   пенсионер     0   \n",
       "20297  гражданский брак                 1      F   сотрудник     0   \n",
       "20662  гражданский брак                 1      M   сотрудник     0   \n",
       "20702   женат / замужем                 0      F   пенсионер     0   \n",
       "21032   женат / замужем                 0      F   пенсионер     0   \n",
       "21132   женат / замужем                 0      F   сотрудник     0   \n",
       "21281   женат / замужем                 0      F   сотрудник     0   \n",
       "21415   женат / замужем                 0      F   пенсионер     0   \n",
       "\n",
       "       total_income                            purpose  days_employed_1  \\\n",
       "19387        189893              на проведение свадьбы              NaN   \n",
       "19559        124127                    свой автомобиль              NaN   \n",
       "19688        112790           операции с недвижимостью              NaN   \n",
       "19832        124127                       ремонт жилью              NaN   \n",
       "19946        124127   сделка с подержанным автомобилем              NaN   \n",
       "20116        126097                            свадьба              NaN   \n",
       "20165        124127            покупка жилья для семьи              NaN   \n",
       "20187        112790                    сыграть свадьбу              NaN   \n",
       "20297        124127                    сыграть свадьбу              NaN   \n",
       "20662        156286              на проведение свадьбы              NaN   \n",
       "20702        112790         дополнительное образование              NaN   \n",
       "21032        112790              заняться образованием              NaN   \n",
       "21132        124127                       ремонт жилью              NaN   \n",
       "21281        153691  покупка коммерческой недвижимости              NaN   \n",
       "21415        112790                  операции с жильем              NaN   \n",
       "\n",
       "       years_employed  \n",
       "19387               4  \n",
       "19559               4  \n",
       "19688              33  \n",
       "19832               4  \n",
       "19946               4  \n",
       "20116              33  \n",
       "20165               4  \n",
       "20187              33  \n",
       "20297               4  \n",
       "20662               3  \n",
       "20702              33  \n",
       "21032              33  \n",
       "21132               4  \n",
       "21281               4  \n",
       "21415              33  "
      ]
     },
     "metadata": {},
     "output_type": "display_data"
    }
   ],
   "source": [
    "# сама фукция .duplicated() возвращает столбец с булевыми маркерами \n",
    "# с помощью неё можно сделать фильтрацию \n",
    "display(df[df.duplicated()].tail(15))\n"
   ]
  },
  {
   "cell_type": "markdown",
   "metadata": {},
   "source": [
    "Во думаю удалять ли их ... Тут нет явных дубликатов  - в том смысле что данные абсолютно обезличены, нет персональных идентификаторов. А вероятнолсть что два человека в одном возрасте с одинаковым семейны положением , количеством детей , образованием и целью кредита будут в датасете - есть!\n",
    "И вот что я ещё заметил - все найденные дубликаты - у людей с нулевым доходом(которые ранее были пропусками)."
   ]
  },
  {
   "cell_type": "code",
   "execution_count": 51,
   "metadata": {},
   "outputs": [
    {
     "name": "stdout",
     "output_type": "stream",
     "text": [
      "0\n"
     ]
    }
   ],
   "source": [
    "# отфильтруем дублирующиеся записи в которых доход нулевой   и посмотри на их количество \n",
    "print(df.loc[(df.duplicated()) & (df['total_income'] == 0) ]['income_type'].value_counts().sum())"
   ]
  },
  {
   "cell_type": "markdown",
   "metadata": {},
   "source": [
    "А что если проверить на дубликаты датасет без колонки доход и занятость"
   ]
  },
  {
   "cell_type": "code",
   "execution_count": 52,
   "metadata": {},
   "outputs": [
    {
     "name": "stdout",
     "output_type": "stream",
     "text": [
      "3687\n"
     ]
    }
   ],
   "source": [
    "print(df.duplicated(subset=['children', 'dob_years', 'education', 'education_id',\n",
    "       'family_status', 'family_status_id', 'gender', 'income_type', 'debt',\n",
    "       'purpose'], keep='first').sum())"
   ]
  },
  {
   "cell_type": "markdown",
   "metadata": {},
   "source": [
    "**Вывод**"
   ]
  },
  {
   "cell_type": "markdown",
   "metadata": {},
   "source": [
    "Так... Количество дубликатов увеличилось более чем в 50 раз. Я считаю - это говорит о том что это вовсе не дубликаты, а данные подобраны так что очень много людей с одинаковыми (давольно распространненными) характеристиками фигурируют в датафрейме. Удалять я их не буду.<br><br>\n",
    "(для галочки)<br>\n",
    "но если было бы надо  - удалил бы их спомощью drop_duplicates(), без аргументов - всё по умолчанию<br>\n",
    "и конечно затем надо сделать reset_index() с аргументом drop=True для удаления старых индексов"
   ]
  },
  {
   "cell_type": "markdown",
   "metadata": {},
   "source": [
    "### Лемматизация"
   ]
  },
  {
   "cell_type": "markdown",
   "metadata": {},
   "source": [
    "<b> Самое интересное purpose (цель получения кредита) </b>"
   ]
  },
  {
   "cell_type": "code",
   "execution_count": 53,
   "metadata": {},
   "outputs": [
    {
     "name": "stdout",
     "output_type": "stream",
     "text": [
      "['покупка жилья', 'приобретение автомобиля', 'дополнительное образование', 'сыграть свадьбу', 'операции с жильем', 'образование', 'на проведение свадьбы', 'покупка жилья для семьи', 'покупка недвижимости', 'покупка коммерческой недвижимости', 'покупка жилой недвижимости', 'строительство собственной недвижимости', 'недвижимость', 'строительство недвижимости', 'на покупку подержанного автомобиля', 'на покупку своего автомобиля', 'операции с коммерческой недвижимостью', 'строительство жилой недвижимости', 'жилье', 'операции со своей недвижимостью', 'автомобили', 'заняться образованием', 'сделка с подержанным автомобилем', 'получение образования', 'автомобиль', 'свадьба', 'получение дополнительного образования', 'покупка своего жилья', 'операции с недвижимостью', 'получение высшего образования', 'свой автомобиль', 'сделка с автомобилем', 'профильное образование', 'высшее образование', 'покупка жилья для сдачи', 'на покупку автомобиля', 'ремонт жилью', 'заняться высшим образованием']\n"
     ]
    }
   ],
   "source": [
    "print(list(df['purpose'].unique()))\n",
    "# print(df['purpose'].value_counts()) # так можно посмотреть количество записей на каждую цель"
   ]
  },
  {
   "cell_type": "markdown",
   "metadata": {},
   "source": [
    "Явно необходимо добавлять столбец с категориями.\n",
    "Но сначала надо посмотреть на какие категории разобъём.\n",
    "Для этого лемматизируем уникальные значения purpose."
   ]
  },
  {
   "cell_type": "code",
   "execution_count": 54,
   "metadata": {},
   "outputs": [
    {
     "name": "stdout",
     "output_type": "stream",
     "text": [
      "['покупка', ' ', 'жилье', '\\n']\n",
      "['приобретение', ' ', 'автомобиль', '\\n']\n",
      "['дополнительный', ' ', 'образование', '\\n']\n",
      "['сыграть', ' ', 'свадьба', '\\n']\n",
      "['операция', ' ', 'с', ' ', 'жилье', '\\n']\n",
      "['образование', '\\n']\n",
      "['на', ' ', 'проведение', ' ', 'свадьба', '\\n']\n",
      "['покупка', ' ', 'жилье', ' ', 'для', ' ', 'семья', '\\n']\n",
      "['покупка', ' ', 'недвижимость', '\\n']\n",
      "['покупка', ' ', 'коммерческий', ' ', 'недвижимость', '\\n']\n",
      "['покупка', ' ', 'жилой', ' ', 'недвижимость', '\\n']\n",
      "['строительство', ' ', 'собственный', ' ', 'недвижимость', '\\n']\n",
      "['недвижимость', '\\n']\n",
      "['строительство', ' ', 'недвижимость', '\\n']\n",
      "['на', ' ', 'покупка', ' ', 'подержать', ' ', 'автомобиль', '\\n']\n",
      "['на', ' ', 'покупка', ' ', 'свой', ' ', 'автомобиль', '\\n']\n",
      "['операция', ' ', 'с', ' ', 'коммерческий', ' ', 'недвижимость', '\\n']\n",
      "['строительство', ' ', 'жилой', ' ', 'недвижимость', '\\n']\n",
      "['жилье', '\\n']\n",
      "['операция', ' ', 'со', ' ', 'свой', ' ', 'недвижимость', '\\n']\n",
      "['автомобиль', '\\n']\n",
      "['заниматься', ' ', 'образование', '\\n']\n",
      "['сделка', ' ', 'с', ' ', 'подержанный', ' ', 'автомобиль', '\\n']\n",
      "['получение', ' ', 'образование', '\\n']\n",
      "['свадьба', '\\n']\n",
      "['получение', ' ', 'дополнительный', ' ', 'образование', '\\n']\n",
      "['покупка', ' ', 'свой', ' ', 'жилье', '\\n']\n",
      "['операция', ' ', 'с', ' ', 'недвижимость', '\\n']\n",
      "['получение', ' ', 'высокий', ' ', 'образование', '\\n']\n",
      "['свой', ' ', 'автомобиль', '\\n']\n",
      "['сделка', ' ', 'с', ' ', 'автомобиль', '\\n']\n",
      "['профильный', ' ', 'образование', '\\n']\n",
      "['высокий', ' ', 'образование', '\\n']\n",
      "['покупка', ' ', 'жилье', ' ', 'для', ' ', 'сдача', '\\n']\n",
      "['на', ' ', 'покупка', ' ', 'автомобиль', '\\n']\n",
      "['ремонт', ' ', 'жилье', '\\n']\n",
      "['заниматься', ' ', 'высокий', ' ', 'образование', '\\n']\n"
     ]
    }
   ],
   "source": [
    "# будем использовать библиотеку разработтанную Яндексом\n",
    "\n",
    "m = Mystem() \n",
    "# загрузили библиотеку и теперь получим леммы из столбца purpose\n",
    "\n",
    "lemmas = []\n",
    "freq = {}\n",
    "\n",
    "for item in list(df['purpose'].unique()): # цикл прохода по списку с где записаны сроки с целями кредита\n",
    "    lemma = m.lemmatize(item)             # получаем из строки список лемм\n",
    "    if lemma not in lemmas:               # смолтрим чтоб не повторялись записи в списке списков\n",
    "        lemmas.append(lemma)              # записываем полученный список лемм в список списков лемм\n",
    "print(*lemmas, sep='\\n')\n"
   ]
  },
  {
   "cell_type": "markdown",
   "metadata": {},
   "source": [
    "**Вывод**"
   ]
  },
  {
   "cell_type": "markdown",
   "metadata": {},
   "source": [
    "Видно что каждая цель сводятся к определенной сути, которую можно отнести к конкретной категории.\n",
    "Категории должны быть такими : свадьба, недвижимость, образование, автомобиль."
   ]
  },
  {
   "cell_type": "code",
   "execution_count": 55,
   "metadata": {},
   "outputs": [
    {
     "data": {
      "text/plain": [
       "[(' ', 55201),\n",
       " ('недвижимость', 6367),\n",
       " ('покупка', 5912),\n",
       " ('жилье', 4473),\n",
       " ('автомобиль', 4315),\n",
       " ('образование', 4022),\n",
       " ('с', 2924),\n",
       " ('операция', 2610),\n",
       " ('свадьба', 2348),\n",
       " ('свой', 2235),\n",
       " ('на', 2233),\n",
       " ('строительство', 1881),\n",
       " ('высокий', 1375),\n",
       " ('получение', 1316),\n",
       " ('коммерческий', 1315),\n",
       " ('для', 1294),\n",
       " ('жилой', 1233),\n",
       " ('сделка', 944),\n",
       " ('дополнительный', 909),\n",
       " ('заниматься', 908),\n",
       " ('подержать', 858),\n",
       " ('проведение', 777),\n",
       " ('сыграть', 774),\n",
       " ('сдача', 653),\n",
       " ('семья', 641),\n",
       " ('собственный', 635),\n",
       " ('со', 630),\n",
       " ('ремонт', 612),\n",
       " ('приобретение', 462),\n",
       " ('профильный', 436),\n",
       " ('подержанный', 110),\n",
       " ('\\n', 1)]"
      ]
     },
     "execution_count": 55,
     "metadata": {},
     "output_type": "execute_result"
    }
   ],
   "source": [
    "m = Mystem()\n",
    "\n",
    "lemmas = m.lemmatize(' '.join(df['purpose']))\n",
    "\n",
    "Counter(lemmas).most_common()\n"
   ]
  },
  {
   "cell_type": "markdown",
   "metadata": {},
   "source": [
    "### Категоризация данных"
   ]
  },
  {
   "cell_type": "code",
   "execution_count": 56,
   "metadata": {},
   "outputs": [],
   "source": [
    "m = Mystem()\n",
    "def category_purpose(row):\n",
    "    lem_row = m.lemmatize(row)\n",
    "    if 'жилье' in lem_row or 'недвижимость' in lem_row:\n",
    "        return 'недвижимость'\n",
    "    elif 'автомобиль' in lem_row:\n",
    "        return 'автомобиль'\n",
    "    elif 'образование' in lem_row:\n",
    "        return 'образование'        \n",
    "    elif 'свадьба' in lem_row:\n",
    "        return 'свадьба'        \n",
    "    return 'другое'  \n",
    "    \n",
    "df['purpose_category'] = df['purpose'].apply(category_purpose)\n"
   ]
  },
  {
   "cell_type": "code",
   "execution_count": 57,
   "metadata": {},
   "outputs": [
    {
     "name": "stdout",
     "output_type": "stream",
     "text": [
      "недвижимость    10840\n",
      "автомобиль       4315\n",
      "образование      4022\n",
      "свадьба          2348\n",
      "Name: purpose_category, dtype: int64\n",
      "\n",
      "Всего записей в новом столбце: 21525\n",
      "Всего записей в датафрейме: 21525\n"
     ]
    }
   ],
   "source": [
    "print(df['purpose_category'].value_counts())\n",
    "print()\n",
    "print('Всего записей в новом столбце:',df['purpose_category'].value_counts().sum())\n",
    "print('Всего записей в датафрейме:',df['purpose'].count())"
   ]
  },
  {
   "cell_type": "markdown",
   "metadata": {},
   "source": [
    "<b>Проведем категоризацию записей по доходам и категории сохраним в отдельную колонку</b> <br><br>\n",
    "Думаю лучше будет разбить доход на категории\n",
    "Федеральная служба государственной статистики разделяет уровень жизни россиян в зависимости от доходов на следующие категории:\n",
    "- крайняя нищета (доходы ниже прожиточного минимума — до 7-8 тыс.р.)\n",
    "- нищета (доходы от одного до двух прожиточных минимума — от 8 до 12 тыс.р.)\n",
    "- бедность (доходы от 12 до 20 тысяч рублей в месяц)\n",
    "- выше бедности (доходы от 20 до 30 тысяч рублей в месяц)\n",
    "- средний достаток — (доходы от 30 до 60 тысяч рублей в месяц)\n",
    "- состоятельные — (доходы от 60 до 90 тысяч рублей в месяц)\n",
    "- богатые — (доходы от 90 тысяч рублей в месяц)\n",
    "- сверхбогатые — (доходы свыше 150 тысяч рублей в месяц)\n",
    "Создадим колонку total_incom_category "
   ]
  },
  {
   "cell_type": "code",
   "execution_count": 58,
   "metadata": {},
   "outputs": [],
   "source": [
    "# узнал  тут об одной хорошей функции - которой можно разбить накатегории на скорую руку\n",
    "df['total_income_category'] = pd.cut(df['total_income'],[8000, 13000, 20000, 30000, 60000, 90000, 150000, 350000])"
   ]
  },
  {
   "cell_type": "markdown",
   "metadata": {},
   "source": [
    "**Вывод**"
   ]
  },
  {
   "cell_type": "markdown",
   "metadata": {},
   "source": [
    "Хорошо. Все записи распределились по четырем категриям."
   ]
  },
  {
   "cell_type": "markdown",
   "metadata": {},
   "source": [
    "## Шаг 3. Ответьте на вопросы"
   ]
  },
  {
   "cell_type": "markdown",
   "metadata": {},
   "source": [
    "#### - Есть ли зависимость между наличием детей и возвратом кредита в срок?"
   ]
  },
  {
   "cell_type": "markdown",
   "metadata": {},
   "source": [
    "Для того что бы увидеть эту зависимость сравним доли \"должников\" в категориях с детьми и бездетные."
   ]
  },
  {
   "cell_type": "code",
   "execution_count": 59,
   "metadata": {},
   "outputs": [
    {
     "name": "stdout",
     "output_type": "stream",
     "text": [
      "Всего бездетных: 14149. Из них должников 1063. Доля = 7.51%\n",
      "Всего с детьми: 7376. Из них должников 678. Доля = 9.19%\n"
     ]
    }
   ],
   "source": [
    "# фильтруем данные получаем количество записей на долдников с детми и без\n",
    "man_zero_child = df.loc[df['children'] == 0, 'children'].count()\n",
    "man_with_child = df.loc[df['children'] != 0, 'children'].count()\n",
    "man_zero_child_debt_1 = df.loc[(df['children'] == 0) & (df['debt'] == 1), 'debt'].count()\n",
    "man_with_child_debt_1 = df.loc[(df['children'] != 0) & (df['debt'] == 1), 'debt'].count()\n",
    "proc_man_zero_child_debt_1 = (man_zero_child_debt_1 / man_zero_child) * 100\n",
    "proc_man_with_child_debt_1 = (man_with_child_debt_1 / man_with_child) * 100\n",
    "print(f'Всего бездетных: {man_zero_child}. Из них должников {man_zero_child_debt_1}. Доля = {proc_man_zero_child_debt_1:.2f}%')\n",
    "print(f'Всего с детьми: {man_with_child}. Из них должников {man_with_child_debt_1}. Доля = {proc_man_with_child_debt_1:.2f}%')"
   ]
  },
  {
   "cell_type": "markdown",
   "metadata": {},
   "source": [
    "Хочу посмотреть влияет ли количество детей на наличие задолджности\n",
    "Возьмём всех с детьми и посмотрим как распределяется частота "
   ]
  },
  {
   "cell_type": "code",
   "execution_count": 60,
   "metadata": {},
   "outputs": [
    {
     "data": {
      "text/plain": [
       "<matplotlib.axes._subplots.AxesSubplot at 0x7f3361b25f50>"
      ]
     },
     "execution_count": 60,
     "metadata": {},
     "output_type": "execute_result"
    },
    {
     "data": {
      "image/png": "[encoded data removed]",
      "text/plain": [
       "<Figure size 432x288 with 1 Axes>"
      ]
     },
     "metadata": {
      "needs_background": "light"
     },
     "output_type": "display_data"
    }
   ],
   "source": [
    "\n",
    "filtered_df = df.loc[(df['children'] != 0)]\n",
    "sns.barplot(y=\"debt\", x='children', data=filtered_df, ci=None)"
   ]
  },
  {
   "cell_type": "markdown",
   "metadata": {},
   "source": [
    "<div class=\"alert alert-info\"> <b> </b> \n",
    "делаю pivot_table в которой сгрупирую данные по количеству детей и для каждой группы укажу количество всего в группе, должников в группе и их долю \n",
    " </div> <br>"
   ]
  },
  {
   "cell_type": "code",
   "execution_count": 61,
   "metadata": {},
   "outputs": [
    {
     "data": {
      "text/html": [
       "<style  type=\"text/css\" >\n",
       "</style><table id=\"T_73715676_6c8f_11ec_88f5_02420a3990c5\" ><thead>    <tr>        <th class=\"blank level0\" ></th>        <th class=\"col_heading level0 col0\" >len</th>        <th class=\"col_heading level0 col1\" >sum</th>        <th class=\"col_heading level0 col2\" >mean</th>    </tr>    <tr>        <th class=\"blank level1\" ></th>        <th class=\"col_heading level1 col0\" >debt</th>        <th class=\"col_heading level1 col1\" >debt</th>        <th class=\"col_heading level1 col2\" >debt</th>    </tr>    <tr>        <th class=\"index_name level0\" >children</th>        <th class=\"blank\" ></th>        <th class=\"blank\" ></th>        <th class=\"blank\" ></th>    </tr></thead><tbody>\n",
       "                <tr>\n",
       "                        <th id=\"T_73715676_6c8f_11ec_88f5_02420a3990c5level0_row0\" class=\"row_heading level0 row0\" >0</th>\n",
       "                        <td id=\"T_73715676_6c8f_11ec_88f5_02420a3990c5row0_col0\" class=\"data row0 col0\" >14149</td>\n",
       "                        <td id=\"T_73715676_6c8f_11ec_88f5_02420a3990c5row0_col1\" class=\"data row0 col1\" >1063</td>\n",
       "                        <td id=\"T_73715676_6c8f_11ec_88f5_02420a3990c5row0_col2\" class=\"data row0 col2\" >7.51%</td>\n",
       "            </tr>\n",
       "            <tr>\n",
       "                        <th id=\"T_73715676_6c8f_11ec_88f5_02420a3990c5level0_row1\" class=\"row_heading level0 row1\" >1</th>\n",
       "                        <td id=\"T_73715676_6c8f_11ec_88f5_02420a3990c5row1_col0\" class=\"data row1 col0\" >4865</td>\n",
       "                        <td id=\"T_73715676_6c8f_11ec_88f5_02420a3990c5row1_col1\" class=\"data row1 col1\" >445</td>\n",
       "                        <td id=\"T_73715676_6c8f_11ec_88f5_02420a3990c5row1_col2\" class=\"data row1 col2\" >9.15%</td>\n",
       "            </tr>\n",
       "            <tr>\n",
       "                        <th id=\"T_73715676_6c8f_11ec_88f5_02420a3990c5level0_row2\" class=\"row_heading level0 row2\" >2</th>\n",
       "                        <td id=\"T_73715676_6c8f_11ec_88f5_02420a3990c5row2_col0\" class=\"data row2 col0\" >2131</td>\n",
       "                        <td id=\"T_73715676_6c8f_11ec_88f5_02420a3990c5row2_col1\" class=\"data row2 col1\" >202</td>\n",
       "                        <td id=\"T_73715676_6c8f_11ec_88f5_02420a3990c5row2_col2\" class=\"data row2 col2\" >9.48%</td>\n",
       "            </tr>\n",
       "            <tr>\n",
       "                        <th id=\"T_73715676_6c8f_11ec_88f5_02420a3990c5level0_row3\" class=\"row_heading level0 row3\" >3</th>\n",
       "                        <td id=\"T_73715676_6c8f_11ec_88f5_02420a3990c5row3_col0\" class=\"data row3 col0\" >330</td>\n",
       "                        <td id=\"T_73715676_6c8f_11ec_88f5_02420a3990c5row3_col1\" class=\"data row3 col1\" >27</td>\n",
       "                        <td id=\"T_73715676_6c8f_11ec_88f5_02420a3990c5row3_col2\" class=\"data row3 col2\" >8.18%</td>\n",
       "            </tr>\n",
       "            <tr>\n",
       "                        <th id=\"T_73715676_6c8f_11ec_88f5_02420a3990c5level0_row4\" class=\"row_heading level0 row4\" >4</th>\n",
       "                        <td id=\"T_73715676_6c8f_11ec_88f5_02420a3990c5row4_col0\" class=\"data row4 col0\" >41</td>\n",
       "                        <td id=\"T_73715676_6c8f_11ec_88f5_02420a3990c5row4_col1\" class=\"data row4 col1\" >4</td>\n",
       "                        <td id=\"T_73715676_6c8f_11ec_88f5_02420a3990c5row4_col2\" class=\"data row4 col2\" >9.76%</td>\n",
       "            </tr>\n",
       "            <tr>\n",
       "                        <th id=\"T_73715676_6c8f_11ec_88f5_02420a3990c5level0_row5\" class=\"row_heading level0 row5\" >5</th>\n",
       "                        <td id=\"T_73715676_6c8f_11ec_88f5_02420a3990c5row5_col0\" class=\"data row5 col0\" >9</td>\n",
       "                        <td id=\"T_73715676_6c8f_11ec_88f5_02420a3990c5row5_col1\" class=\"data row5 col1\" >0</td>\n",
       "                        <td id=\"T_73715676_6c8f_11ec_88f5_02420a3990c5row5_col2\" class=\"data row5 col2\" >0.00%</td>\n",
       "            </tr>\n",
       "    </tbody></table>"
      ],
      "text/plain": [
       "<pandas.io.formats.style.Styler at 0x7f33620bce10>"
      ]
     },
     "execution_count": 61,
     "metadata": {},
     "output_type": "execute_result"
    }
   ],
   "source": [
    "# для вычисления доли сделаем фукцию, которая полуячает серию и отдаёт значение\n",
    "# def proc_debt(data):\n",
    "#     return (sum(data)/len(data))*100\n",
    "\n",
    "pd.pivot_table(df, index='children', values='debt', aggfunc=[len, sum, np.mean]).style.format({('mean', 'debt'):'{:.2%}'})"
   ]
  },
  {
   "cell_type": "markdown",
   "metadata": {},
   "source": [
    "Неоднозначный результат - но в общем то видно что с 4 детьми сложнее кредиты возвращать.\n",
    "Что касается семей с 5 детьми - скорее всего для них выборка слишком мала - таких записей всего 9."
   ]
  },
  {
   "cell_type": "markdown",
   "metadata": {},
   "source": [
    "**Вывод**"
   ]
  },
  {
   "cell_type": "markdown",
   "metadata": {},
   "source": [
    "Наличие детей влияет на 1,68% в сторону увеличения вероятности быть должником."
   ]
  },
  {
   "cell_type": "markdown",
   "metadata": {},
   "source": [
    "#### - Есть ли зависимость между семейным положением и возвратом кредита в срок?"
   ]
  },
  {
   "cell_type": "code",
   "execution_count": 62,
   "metadata": {},
   "outputs": [
    {
     "data": {
      "text/plain": [
       "<matplotlib.axes._subplots.AxesSubplot at 0x7f3361790910>"
      ]
     },
     "execution_count": 62,
     "metadata": {},
     "output_type": "execute_result"
    },
    {
     "data": {
      "image/png": "[encoded data removed]",
      "text/plain": [
       "<Figure size 432x288 with 1 Axes>"
      ]
     },
     "metadata": {
      "needs_background": "light"
     },
     "output_type": "display_data"
    }
   ],
   "source": [
    "sns.barplot(x=\"debt\", y='family_status', data=df, ci=None)"
   ]
  },
  {
   "cell_type": "markdown",
   "metadata": {},
   "source": [
    "**Вывод**"
   ]
  },
  {
   "cell_type": "markdown",
   "metadata": {},
   "source": [
    "У людей в гражданском браке и не женатых/не замужних больше вероятность стать должником"
   ]
  },
  {
   "cell_type": "markdown",
   "metadata": {},
   "source": [
    "#### - Есть ли зависимость между уровнем дохода и возвратом кредита в срок?"
   ]
  },
  {
   "cell_type": "code",
   "execution_count": 63,
   "metadata": {},
   "outputs": [],
   "source": [
    "df['total_income_category'] = pd.cut(df['total_income'], [0, 50000,100000,200000,350000, np.inf])"
   ]
  },
  {
   "cell_type": "code",
   "execution_count": 64,
   "metadata": {
    "scrolled": true
   },
   "outputs": [
    {
     "data": {
      "text/html": [
       "<div>\n",
       "<style scoped>\n",
       "    .dataframe tbody tr th:only-of-type {\n",
       "        vertical-align: middle;\n",
       "    }\n",
       "\n",
       "    .dataframe tbody tr th {\n",
       "        vertical-align: top;\n",
       "    }\n",
       "\n",
       "    .dataframe thead th {\n",
       "        text-align: right;\n",
       "    }\n",
       "</style>\n",
       "<table border=\"1\" class=\"dataframe\">\n",
       "  <thead>\n",
       "    <tr style=\"text-align: right;\">\n",
       "      <th></th>\n",
       "      <th>count</th>\n",
       "      <th>sum</th>\n",
       "      <th>mean</th>\n",
       "    </tr>\n",
       "    <tr>\n",
       "      <th>total_income_category</th>\n",
       "      <th></th>\n",
       "      <th></th>\n",
       "      <th></th>\n",
       "    </tr>\n",
       "  </thead>\n",
       "  <tbody>\n",
       "    <tr>\n",
       "      <td>(0.0, 50000.0]</td>\n",
       "      <td>372</td>\n",
       "      <td>23</td>\n",
       "      <td>0.061828</td>\n",
       "    </tr>\n",
       "    <tr>\n",
       "      <td>(50000.0, 100000.0]</td>\n",
       "      <td>4093</td>\n",
       "      <td>331</td>\n",
       "      <td>0.080870</td>\n",
       "    </tr>\n",
       "    <tr>\n",
       "      <td>(100000.0, 200000.0]</td>\n",
       "      <td>11915</td>\n",
       "      <td>1026</td>\n",
       "      <td>0.086110</td>\n",
       "    </tr>\n",
       "    <tr>\n",
       "      <td>(200000.0, 350000.0]</td>\n",
       "      <td>4286</td>\n",
       "      <td>306</td>\n",
       "      <td>0.071395</td>\n",
       "    </tr>\n",
       "    <tr>\n",
       "      <td>(350000.0, inf]</td>\n",
       "      <td>859</td>\n",
       "      <td>55</td>\n",
       "      <td>0.064028</td>\n",
       "    </tr>\n",
       "  </tbody>\n",
       "</table>\n",
       "</div>"
      ],
      "text/plain": [
       "                       count   sum      mean\n",
       "total_income_category                       \n",
       "(0.0, 50000.0]           372    23  0.061828\n",
       "(50000.0, 100000.0]     4093   331  0.080870\n",
       "(100000.0, 200000.0]   11915  1026  0.086110\n",
       "(200000.0, 350000.0]    4286   306  0.071395\n",
       "(350000.0, inf]          859    55  0.064028"
      ]
     },
     "execution_count": 64,
     "metadata": {},
     "output_type": "execute_result"
    }
   ],
   "source": [
    "df.groupby('total_income_category')['debt'].agg(['count','sum', 'mean'])"
   ]
  },
  {
   "cell_type": "code",
   "execution_count": 65,
   "metadata": {
    "scrolled": true
   },
   "outputs": [
    {
     "data": {
      "text/plain": [
       "<matplotlib.axes._subplots.AxesSubplot at 0x7f33e4aaf790>"
      ]
     },
     "execution_count": 65,
     "metadata": {},
     "output_type": "execute_result"
    },
    {
     "data": {
      "image/png": "[encoded data removed]",
      "text/plain": [
       "<Figure size 720x360 with 1 Axes>"
      ]
     },
     "metadata": {
      "needs_background": "light"
     },
     "output_type": "display_data"
    }
   ],
   "source": [
    "df.groupby('total_income_category')['debt'].agg(['mean']).plot(kind='bar', grid=True, figsize=(10,5), rot=45, ylim=0)"
   ]
  },
  {
   "cell_type": "markdown",
   "metadata": {},
   "source": [
    "Вот теперь можно делалть выводы"
   ]
  },
  {
   "cell_type": "markdown",
   "metadata": {},
   "source": [
    "**Вывод**"
   ]
  },
  {
   "cell_type": "markdown",
   "metadata": {},
   "source": [
    "Зависимость нелинейная - люди с доходом 100000 до 200000 часто становятся должиками..."
   ]
  },
  {
   "cell_type": "markdown",
   "metadata": {},
   "source": [
    "#### - Как разные цели кредита влияют на его возврат в срок?"
   ]
  },
  {
   "cell_type": "code",
   "execution_count": 66,
   "metadata": {},
   "outputs": [
    {
     "data": {
      "text/plain": [
       "<matplotlib.axes._subplots.AxesSubplot at 0x7f33e4a576d0>"
      ]
     },
     "execution_count": 66,
     "metadata": {},
     "output_type": "execute_result"
    },
    {
     "data": {
      "image/png": "[encoded data removed]",
      "text/plain": [
       "<Figure size 432x288 with 1 Axes>"
      ]
     },
     "metadata": {
      "needs_background": "light"
     },
     "output_type": "display_data"
    }
   ],
   "source": [
    "sns.barplot(x=\"debt\", y='purpose_category', data=df, ci=None)"
   ]
  },
  {
   "cell_type": "code",
   "execution_count": 67,
   "metadata": {},
   "outputs": [
    {
     "data": {
      "text/html": [
       "<div>\n",
       "<style scoped>\n",
       "    .dataframe tbody tr th:only-of-type {\n",
       "        vertical-align: middle;\n",
       "    }\n",
       "\n",
       "    .dataframe tbody tr th {\n",
       "        vertical-align: top;\n",
       "    }\n",
       "\n",
       "    .dataframe thead tr th {\n",
       "        text-align: left;\n",
       "    }\n",
       "\n",
       "    .dataframe thead tr:last-of-type th {\n",
       "        text-align: right;\n",
       "    }\n",
       "</style>\n",
       "<table border=\"1\" class=\"dataframe\">\n",
       "  <thead>\n",
       "    <tr>\n",
       "      <th></th>\n",
       "      <th>len</th>\n",
       "      <th>sum</th>\n",
       "      <th>proc_debt</th>\n",
       "    </tr>\n",
       "    <tr>\n",
       "      <th></th>\n",
       "      <th>debt</th>\n",
       "      <th>debt</th>\n",
       "      <th>debt</th>\n",
       "    </tr>\n",
       "    <tr>\n",
       "      <th>purpose_category</th>\n",
       "      <th></th>\n",
       "      <th></th>\n",
       "      <th></th>\n",
       "    </tr>\n",
       "  </thead>\n",
       "  <tbody>\n",
       "    <tr>\n",
       "      <td>автомобиль</td>\n",
       "      <td>4315</td>\n",
       "      <td>403</td>\n",
       "      <td>9.34</td>\n",
       "    </tr>\n",
       "    <tr>\n",
       "      <td>недвижимость</td>\n",
       "      <td>10840</td>\n",
       "      <td>782</td>\n",
       "      <td>7.21</td>\n",
       "    </tr>\n",
       "    <tr>\n",
       "      <td>образование</td>\n",
       "      <td>4022</td>\n",
       "      <td>370</td>\n",
       "      <td>9.20</td>\n",
       "    </tr>\n",
       "    <tr>\n",
       "      <td>свадьба</td>\n",
       "      <td>2348</td>\n",
       "      <td>186</td>\n",
       "      <td>7.92</td>\n",
       "    </tr>\n",
       "  </tbody>\n",
       "</table>\n",
       "</div>"
      ],
      "text/plain": [
       "                    len  sum proc_debt\n",
       "                   debt debt      debt\n",
       "purpose_category                      \n",
       "автомобиль         4315  403      9.34\n",
       "недвижимость      10840  782      7.21\n",
       "образование        4022  370      9.20\n",
       "свадьба            2348  186      7.92"
      ]
     },
     "execution_count": 67,
     "metadata": {},
     "output_type": "execute_result"
    }
   ],
   "source": [
    "def proc_debt(data):\n",
    "    return np.mean(data) * 100\n",
    "\n",
    "pd.pivot_table(df, index='purpose_category', values='debt', aggfunc=[len, sum, proc_debt]).round(2)"
   ]
  },
  {
   "cell_type": "markdown",
   "metadata": {},
   "source": [
    "Посмотрим как влияет цель кредита по группам дохода"
   ]
  },
  {
   "cell_type": "code",
   "execution_count": 68,
   "metadata": {},
   "outputs": [
    {
     "data": {
      "text/html": [
       "<div>\n",
       "<style scoped>\n",
       "    .dataframe tbody tr th:only-of-type {\n",
       "        vertical-align: middle;\n",
       "    }\n",
       "\n",
       "    .dataframe tbody tr th {\n",
       "        vertical-align: top;\n",
       "    }\n",
       "\n",
       "    .dataframe thead tr th {\n",
       "        text-align: left;\n",
       "    }\n",
       "\n",
       "    .dataframe thead tr:last-of-type th {\n",
       "        text-align: right;\n",
       "    }\n",
       "</style>\n",
       "<table border=\"1\" class=\"dataframe\">\n",
       "  <thead>\n",
       "    <tr>\n",
       "      <th></th>\n",
       "      <th colspan=\"5\" halign=\"left\">proc_debt</th>\n",
       "    </tr>\n",
       "    <tr>\n",
       "      <th>total_income_category</th>\n",
       "      <th>(0.0, 50000.0]</th>\n",
       "      <th>(50000.0, 100000.0]</th>\n",
       "      <th>(100000.0, 200000.0]</th>\n",
       "      <th>(200000.0, 350000.0]</th>\n",
       "      <th>(350000.0, inf]</th>\n",
       "    </tr>\n",
       "    <tr>\n",
       "      <th>purpose_category</th>\n",
       "      <th></th>\n",
       "      <th></th>\n",
       "      <th></th>\n",
       "      <th></th>\n",
       "      <th></th>\n",
       "    </tr>\n",
       "  </thead>\n",
       "  <tbody>\n",
       "    <tr>\n",
       "      <td>автомобиль</td>\n",
       "      <td>13.51</td>\n",
       "      <td>7.85</td>\n",
       "      <td>10.15</td>\n",
       "      <td>8.65</td>\n",
       "      <td>6.67</td>\n",
       "    </tr>\n",
       "    <tr>\n",
       "      <td>недвижимость</td>\n",
       "      <td>4.47</td>\n",
       "      <td>7.15</td>\n",
       "      <td>7.60</td>\n",
       "      <td>6.73</td>\n",
       "      <td>5.86</td>\n",
       "    </tr>\n",
       "    <tr>\n",
       "      <td>образование</td>\n",
       "      <td>2.47</td>\n",
       "      <td>10.29</td>\n",
       "      <td>9.66</td>\n",
       "      <td>7.96</td>\n",
       "      <td>6.62</td>\n",
       "    </tr>\n",
       "    <tr>\n",
       "      <td>свадьба</td>\n",
       "      <td>7.89</td>\n",
       "      <td>9.09</td>\n",
       "      <td>8.58</td>\n",
       "      <td>4.90</td>\n",
       "      <td>8.33</td>\n",
       "    </tr>\n",
       "  </tbody>\n",
       "</table>\n",
       "</div>"
      ],
      "text/plain": [
       "                           proc_debt                                           \\\n",
       "total_income_category (0.0, 50000.0] (50000.0, 100000.0] (100000.0, 200000.0]   \n",
       "purpose_category                                                                \n",
       "автомобиль                     13.51                7.85                10.15   \n",
       "недвижимость                    4.47                7.15                 7.60   \n",
       "образование                     2.47               10.29                 9.66   \n",
       "свадьба                         7.89                9.09                 8.58   \n",
       "\n",
       "                                                            \n",
       "total_income_category (200000.0, 350000.0] (350000.0, inf]  \n",
       "purpose_category                                            \n",
       "автомобиль                            8.65            6.67  \n",
       "недвижимость                          6.73            5.86  \n",
       "образование                           7.96            6.62  \n",
       "свадьба                               4.90            8.33  "
      ]
     },
     "execution_count": 68,
     "metadata": {},
     "output_type": "execute_result"
    }
   ],
   "source": [
    "pd.pivot_table(df, index='purpose_category', columns='total_income_category', values='debt',aggfunc=[proc_debt]).round(2)"
   ]
  },
  {
   "cell_type": "markdown",
   "metadata": {},
   "source": [
    "**Вывод**"
   ]
  },
  {
   "cell_type": "markdown",
   "metadata": {},
   "source": [
    "Как видно из графика кредиты  выданные на неджвижимость дают больше гарантий своевременного возврата.\n",
    "Тогда как кредит на автомабиль даёт максимальный шанс остаться должником. Автомобили они такие - их заправлять надо."
   ]
  },
  {
   "cell_type": "markdown",
   "metadata": {},
   "source": [
    "<b>Дополнительно посмотрим как влияет возраст на возврат кредита.</b>\n",
    "\n",
    "Согласно последней возрастной классификации ВОЗ, людей по возрастам можно подразделить на следующие категории:<br>\n",
    "Молодые люди (молодой возраст) — 18-44 года<br>\n",
    "Люди среднего возраста (средний возраст) — 45-59 лет<br>\n",
    "Люди пожилого возраста (пожилой возраст) — 60-74 лет<br>\n",
    "Старые люди (старческий возраст, старость) — 75-90 лет<br>\n",
    "Долгожители (возраст долголетия) – старше 90 лет<br>"
   ]
  },
  {
   "cell_type": "code",
   "execution_count": 69,
   "metadata": {},
   "outputs": [
    {
     "data": {
      "text/html": [
       "<div>\n",
       "<style scoped>\n",
       "    .dataframe tbody tr th:only-of-type {\n",
       "        vertical-align: middle;\n",
       "    }\n",
       "\n",
       "    .dataframe tbody tr th {\n",
       "        vertical-align: top;\n",
       "    }\n",
       "\n",
       "    .dataframe thead tr th {\n",
       "        text-align: left;\n",
       "    }\n",
       "\n",
       "    .dataframe thead tr:last-of-type th {\n",
       "        text-align: right;\n",
       "    }\n",
       "</style>\n",
       "<table border=\"1\" class=\"dataframe\">\n",
       "  <thead>\n",
       "    <tr>\n",
       "      <th></th>\n",
       "      <th>proc_debt</th>\n",
       "    </tr>\n",
       "    <tr>\n",
       "      <th></th>\n",
       "      <th>debt</th>\n",
       "    </tr>\n",
       "    <tr>\n",
       "      <th>dob_years_category</th>\n",
       "      <th></th>\n",
       "    </tr>\n",
       "  </thead>\n",
       "  <tbody>\n",
       "    <tr>\n",
       "      <td>(0, 25]</td>\n",
       "      <td>10.62</td>\n",
       "    </tr>\n",
       "    <tr>\n",
       "      <td>(25, 35]</td>\n",
       "      <td>10.58</td>\n",
       "    </tr>\n",
       "    <tr>\n",
       "      <td>(35, 45]</td>\n",
       "      <td>8.30</td>\n",
       "    </tr>\n",
       "    <tr>\n",
       "      <td>(45, 60]</td>\n",
       "      <td>6.61</td>\n",
       "    </tr>\n",
       "    <tr>\n",
       "      <td>(60, 75]</td>\n",
       "      <td>4.72</td>\n",
       "    </tr>\n",
       "  </tbody>\n",
       "</table>\n",
       "</div>"
      ],
      "text/plain": [
       "                   proc_debt\n",
       "                        debt\n",
       "dob_years_category          \n",
       "(0, 25]                10.62\n",
       "(25, 35]               10.58\n",
       "(35, 45]                8.30\n",
       "(45, 60]                6.61\n",
       "(60, 75]                4.72"
      ]
     },
     "execution_count": 69,
     "metadata": {},
     "output_type": "execute_result"
    }
   ],
   "source": [
    "\n",
    "df['dob_years_category'] = pd.cut(df['dob_years'],[0, 25, 35, 45, 60, 75, 100])\n",
    "\n",
    "pd.pivot_table(df, index='dob_years_category', values='debt', aggfunc=[proc_debt]).round(2)"
   ]
  },
  {
   "cell_type": "markdown",
   "metadata": {},
   "source": [
    "С возрастом процент долджников падает."
   ]
  },
  {
   "cell_type": "markdown",
   "metadata": {},
   "source": [
    "## Шаг 4. Общий вывод"
   ]
  },
  {
   "cell_type": "markdown",
   "metadata": {},
   "source": [
    "На данных данных ))  можно делать некоторые ввыводы , но я бы лучше перепроверял на более больших выборках. У меня нет опыта в этом, но надо разбираться вчем причина многих пропусках - ндумаю нельзя допускать такого."
   ]
  },
  {
   "cell_type": "markdown",
   "metadata": {},
   "source": [
    "<div class=\"alert alert-info\"> <b> </b> \n",
    "Кредитный отдел банка поставил задачу найти некоторые замвисимости в данных по которым можно предсказать вероятность возвранта кредита в срок.\n",
    "<br>\n",
    "Для работы предоставлена статистика о платёжеспособности клиентов.\n",
    "<br>\n",
    "Результаты исследования будут учтены при построении модели кредитного скоринга.\n",
    "<br>\n",
    "Но не ясно в каком виде необходимо выдать результат - процентах или коэфицентах... Это необходимо бы уточнить.\n",
    "<br>\n",
    "При узучении общей информации стало ясно что потребуется провести большую работу по предобработке данных, так как в них есть пропуски и артефакты. \n",
    "<br>\n",
    "Команде инженеров занимающихся системами сбора данных необходимо обратить внимание на большое количество пропусков(10%) в данных первостепенной важности - доход! И устранить проблемы. \n",
    "<br>\n",
    "Для выводов на поставленные задачи не требовалась загрузка всех колонок данных, но на всякий случай провел предобработку со всеми данными, что бы в будущем была возможность поискать в них дополнительные \"ценности для бизнеса\".<br>\n",
    "<br>\n",
    "В целом зависимость между наличием детей, семейным положением, уровнем дохода, целью кредита и возвратом кредита в срок - найдена.<br>\n",
    "Дополнительно определена зависимость между возрастом и возвратом кредита в срок. \n",
    "По результатам исследования можно сделать вывод о том что наибольшая вероятность быть должником у незамужнего человека с детьми(хм..) в врозоасте до 35 лет, доходом от 100 до 200 т.р. и целью приобрести автомобиль.\n",
    "\n",
    "На мой взгляд требуется болеее глубокий анализ данных по различным группам, с привличением дополнительной информации - например суммы ранее выданных кредитов.\n",
    "    \n",
    " </div> <br>"
   ]
  },
  {
   "cell_type": "code",
   "execution_count": null,
   "metadata": {},
   "outputs": [],
   "source": []
  }
 ],
 "metadata": {
  "ExecuteTimeLog": [
   {
    "duration": 191,
    "start_time": "2021-12-26T20:55:53.404Z"
   },
   {
    "duration": 578,
    "start_time": "2021-12-26T20:56:02.653Z"
   },
   {
    "duration": 62,
    "start_time": "2021-12-26T20:57:04.065Z"
   },
   {
    "duration": 886,
    "start_time": "2021-12-27T05:44:45.691Z"
   },
   {
    "duration": 86,
    "start_time": "2021-12-27T05:46:27.657Z"
   },
   {
    "duration": 88,
    "start_time": "2021-12-27T05:51:29.573Z"
   },
   {
    "duration": 77,
    "start_time": "2021-12-27T05:55:56.165Z"
   },
   {
    "duration": 79,
    "start_time": "2021-12-27T05:56:06.809Z"
   },
   {
    "duration": 7,
    "start_time": "2021-12-27T05:56:26.428Z"
   },
   {
    "duration": 13,
    "start_time": "2021-12-27T05:56:44.246Z"
   },
   {
    "duration": 13,
    "start_time": "2021-12-27T05:57:08.996Z"
   },
   {
    "duration": 14,
    "start_time": "2021-12-27T05:57:21.296Z"
   },
   {
    "duration": 331,
    "start_time": "2021-12-27T07:57:01.249Z"
   },
   {
    "duration": 753,
    "start_time": "2021-12-27T07:57:12.500Z"
   },
   {
    "duration": 12,
    "start_time": "2021-12-27T07:57:15.315Z"
   },
   {
    "duration": 56,
    "start_time": "2021-12-27T08:30:09.221Z"
   },
   {
    "duration": 59,
    "start_time": "2021-12-27T08:30:37.160Z"
   },
   {
    "duration": 3,
    "start_time": "2021-12-27T08:50:29.986Z"
   },
   {
    "duration": 5,
    "start_time": "2021-12-27T08:52:26.616Z"
   },
   {
    "duration": 273,
    "start_time": "2021-12-27T10:56:33.770Z"
   },
   {
    "duration": 641,
    "start_time": "2021-12-27T10:56:41.293Z"
   },
   {
    "duration": 5,
    "start_time": "2021-12-27T10:56:44.481Z"
   },
   {
    "duration": 87,
    "start_time": "2021-12-27T10:56:58.205Z"
   },
   {
    "duration": 5,
    "start_time": "2021-12-27T10:57:08.786Z"
   },
   {
    "duration": 3,
    "start_time": "2021-12-27T10:57:21.192Z"
   },
   {
    "duration": 3,
    "start_time": "2021-12-27T10:57:38.847Z"
   },
   {
    "duration": 3,
    "start_time": "2021-12-27T10:57:49.575Z"
   },
   {
    "duration": 4,
    "start_time": "2021-12-27T10:58:09.405Z"
   },
   {
    "duration": 3,
    "start_time": "2021-12-27T10:58:25.380Z"
   },
   {
    "duration": 95,
    "start_time": "2021-12-27T10:59:14.276Z"
   },
   {
    "duration": 293,
    "start_time": "2021-12-27T10:59:18.238Z"
   },
   {
    "duration": 5,
    "start_time": "2021-12-27T10:59:25.700Z"
   },
   {
    "duration": 4,
    "start_time": "2021-12-27T10:59:36.224Z"
   },
   {
    "duration": 6,
    "start_time": "2021-12-27T11:00:00.972Z"
   },
   {
    "duration": 347,
    "start_time": "2021-12-27T11:04:06.770Z"
   },
   {
    "duration": 5,
    "start_time": "2021-12-27T11:04:14.389Z"
   },
   {
    "duration": 5,
    "start_time": "2021-12-27T11:04:43.560Z"
   },
   {
    "duration": 11,
    "start_time": "2021-12-27T11:05:21.766Z"
   },
   {
    "duration": 103,
    "start_time": "2021-12-27T11:06:30.781Z"
   },
   {
    "duration": 295,
    "start_time": "2021-12-27T11:06:42.204Z"
   },
   {
    "duration": 286,
    "start_time": "2021-12-27T11:07:25.186Z"
   },
   {
    "duration": 103,
    "start_time": "2021-12-27T11:09:12.576Z"
   },
   {
    "duration": 277,
    "start_time": "2021-12-27T11:09:39.926Z"
   },
   {
    "duration": 99,
    "start_time": "2021-12-27T11:13:51.664Z"
   },
   {
    "duration": 103,
    "start_time": "2021-12-27T11:14:56.109Z"
   },
   {
    "duration": 13,
    "start_time": "2021-12-27T11:15:09.260Z"
   },
   {
    "duration": 5,
    "start_time": "2021-12-27T11:17:02.652Z"
   },
   {
    "duration": 14,
    "start_time": "2021-12-27T11:17:23.585Z"
   },
   {
    "duration": 8,
    "start_time": "2021-12-27T11:17:31.850Z"
   },
   {
    "duration": 13,
    "start_time": "2021-12-27T11:23:55.148Z"
   },
   {
    "duration": 7,
    "start_time": "2021-12-27T11:27:36.955Z"
   },
   {
    "duration": -167282,
    "start_time": "2021-12-27T11:33:39.955Z"
   },
   {
    "duration": 7511,
    "start_time": "2021-12-27T11:31:10.451Z"
   },
   {
    "duration": 8,
    "start_time": "2021-12-27T11:31:26.811Z"
   },
   {
    "duration": 5,
    "start_time": "2021-12-27T11:40:30.856Z"
   },
   {
    "duration": 292,
    "start_time": "2021-12-27T11:59:52.895Z"
   },
   {
    "duration": 335,
    "start_time": "2021-12-27T12:00:08.778Z"
   },
   {
    "duration": 7,
    "start_time": "2021-12-27T12:00:31.660Z"
   },
   {
    "duration": 94,
    "start_time": "2021-12-27T12:06:14.618Z"
   },
   {
    "duration": 98,
    "start_time": "2021-12-27T12:06:17.578Z"
   },
   {
    "duration": 239,
    "start_time": "2021-12-27T12:06:28.663Z"
   },
   {
    "duration": -167282,
    "start_time": "2021-12-27T12:09:30.333Z"
   },
   {
    "duration": 7,
    "start_time": "2021-12-27T12:06:45.521Z"
   },
   {
    "duration": 6675,
    "start_time": "2021-12-27T12:07:13.071Z"
   },
   {
    "duration": 9,
    "start_time": "2021-12-27T12:07:34.401Z"
   },
   {
    "duration": 275,
    "start_time": "2021-12-27T12:28:39.557Z"
   },
   {
    "duration": 318,
    "start_time": "2021-12-27T12:30:19.155Z"
   },
   {
    "duration": 267,
    "start_time": "2021-12-27T12:30:34.633Z"
   },
   {
    "duration": 8436,
    "start_time": "2021-12-27T12:30:52.906Z"
   },
   {
    "duration": 8552,
    "start_time": "2021-12-27T12:31:13.058Z"
   },
   {
    "duration": 15,
    "start_time": "2021-12-27T12:33:23.009Z"
   },
   {
    "duration": 16,
    "start_time": "2021-12-27T12:34:15.822Z"
   },
   {
    "duration": 18,
    "start_time": "2021-12-27T12:35:47.751Z"
   },
   {
    "duration": 16,
    "start_time": "2021-12-27T12:37:38.569Z"
   },
   {
    "duration": 7,
    "start_time": "2021-12-27T12:37:48.469Z"
   },
   {
    "duration": 11,
    "start_time": "2021-12-27T12:41:56.074Z"
   },
   {
    "duration": 15,
    "start_time": "2021-12-27T12:42:22.869Z"
   },
   {
    "duration": 94,
    "start_time": "2021-12-27T13:27:59.399Z"
   },
   {
    "duration": 64,
    "start_time": "2021-12-27T13:28:07.221Z"
   },
   {
    "duration": 326,
    "start_time": "2021-12-27T13:28:29.427Z"
   },
   {
    "duration": 336,
    "start_time": "2021-12-27T13:28:41.483Z"
   },
   {
    "duration": 60,
    "start_time": "2021-12-27T13:28:56.055Z"
   },
   {
    "duration": 57,
    "start_time": "2021-12-27T13:30:08.638Z"
   },
   {
    "duration": 62,
    "start_time": "2021-12-27T13:32:48.433Z"
   },
   {
    "duration": 7,
    "start_time": "2021-12-27T13:36:37.027Z"
   },
   {
    "duration": 8,
    "start_time": "2021-12-27T13:36:53.624Z"
   },
   {
    "duration": 20,
    "start_time": "2021-12-27T13:37:33.140Z"
   },
   {
    "duration": 16,
    "start_time": "2021-12-27T13:41:59.665Z"
   },
   {
    "duration": 17,
    "start_time": "2021-12-27T13:42:34.368Z"
   },
   {
    "duration": 9,
    "start_time": "2021-12-27T13:43:09.392Z"
   },
   {
    "duration": 8,
    "start_time": "2021-12-27T13:43:29.197Z"
   },
   {
    "duration": 7,
    "start_time": "2021-12-27T13:44:39.571Z"
   },
   {
    "duration": 57,
    "start_time": "2021-12-27T15:07:25.758Z"
   },
   {
    "duration": 8,
    "start_time": "2021-12-27T15:08:14.602Z"
   },
   {
    "duration": 9,
    "start_time": "2021-12-27T15:08:39.827Z"
   },
   {
    "duration": 12,
    "start_time": "2021-12-27T15:16:13.948Z"
   },
   {
    "duration": 6,
    "start_time": "2021-12-27T15:30:14.546Z"
   },
   {
    "duration": 5,
    "start_time": "2021-12-27T15:30:43.650Z"
   },
   {
    "duration": 4,
    "start_time": "2021-12-27T15:31:58.911Z"
   },
   {
    "duration": 8,
    "start_time": "2021-12-27T15:32:24.688Z"
   },
   {
    "duration": 6,
    "start_time": "2021-12-27T15:32:57.557Z"
   },
   {
    "duration": 5,
    "start_time": "2021-12-27T15:42:28.832Z"
   },
   {
    "duration": 11,
    "start_time": "2021-12-27T15:44:38.950Z"
   },
   {
    "duration": 11,
    "start_time": "2021-12-27T15:48:59.128Z"
   },
   {
    "duration": 12,
    "start_time": "2021-12-27T15:49:16.009Z"
   },
   {
    "duration": 277,
    "start_time": "2021-12-27T15:49:44.443Z"
   },
   {
    "duration": 11,
    "start_time": "2021-12-27T15:49:56.411Z"
   },
   {
    "duration": 10,
    "start_time": "2021-12-27T15:50:16.229Z"
   },
   {
    "duration": 10,
    "start_time": "2021-12-27T15:50:25.116Z"
   },
   {
    "duration": 10,
    "start_time": "2021-12-27T15:50:28.227Z"
   },
   {
    "duration": 11,
    "start_time": "2021-12-27T15:51:01.618Z"
   },
   {
    "duration": 10,
    "start_time": "2021-12-27T15:51:08.342Z"
   },
   {
    "duration": 5,
    "start_time": "2021-12-27T15:51:18.596Z"
   },
   {
    "duration": 54,
    "start_time": "2021-12-27T15:51:27.581Z"
   },
   {
    "duration": 5,
    "start_time": "2021-12-27T15:51:30.574Z"
   },
   {
    "duration": 11,
    "start_time": "2021-12-27T15:51:35.464Z"
   },
   {
    "duration": 13,
    "start_time": "2021-12-27T15:54:51.943Z"
   },
   {
    "duration": 6,
    "start_time": "2021-12-27T15:55:53.132Z"
   },
   {
    "duration": 10,
    "start_time": "2021-12-27T16:11:21.766Z"
   },
   {
    "duration": 12,
    "start_time": "2021-12-27T16:11:38.977Z"
   },
   {
    "duration": 8,
    "start_time": "2021-12-27T16:14:59.973Z"
   },
   {
    "duration": 6,
    "start_time": "2021-12-27T16:15:12.840Z"
   },
   {
    "duration": 59,
    "start_time": "2021-12-27T16:15:23.425Z"
   },
   {
    "duration": 5,
    "start_time": "2021-12-27T16:15:26.171Z"
   },
   {
    "duration": 11,
    "start_time": "2021-12-27T16:15:28.156Z"
   },
   {
    "duration": 6,
    "start_time": "2021-12-27T16:15:30.924Z"
   },
   {
    "duration": 13,
    "start_time": "2021-12-27T16:15:33.199Z"
   },
   {
    "duration": 8,
    "start_time": "2021-12-27T16:15:45.043Z"
   },
   {
    "duration": 5,
    "start_time": "2021-12-27T16:15:54.451Z"
   },
   {
    "duration": 5,
    "start_time": "2021-12-27T16:15:57.910Z"
   },
   {
    "duration": 10,
    "start_time": "2021-12-27T16:16:42.712Z"
   },
   {
    "duration": 5,
    "start_time": "2021-12-27T16:16:45.112Z"
   },
   {
    "duration": 57,
    "start_time": "2021-12-27T16:16:48.475Z"
   },
   {
    "duration": 5,
    "start_time": "2021-12-27T16:16:51.199Z"
   },
   {
    "duration": 10,
    "start_time": "2021-12-27T16:16:53.434Z"
   },
   {
    "duration": 5,
    "start_time": "2021-12-27T16:16:55.612Z"
   },
   {
    "duration": 6,
    "start_time": "2021-12-27T16:17:10.959Z"
   },
   {
    "duration": 392,
    "start_time": "2021-12-27T16:32:12.141Z"
   },
   {
    "duration": 4,
    "start_time": "2021-12-27T16:32:15.981Z"
   },
   {
    "duration": 292,
    "start_time": "2021-12-27T16:36:43.572Z"
   },
   {
    "duration": 283,
    "start_time": "2021-12-27T16:37:02.839Z"
   },
   {
    "duration": 3,
    "start_time": "2021-12-27T16:37:46.478Z"
   },
   {
    "duration": 5,
    "start_time": "2021-12-27T16:37:50.649Z"
   },
   {
    "duration": 371,
    "start_time": "2021-12-27T16:38:29.304Z"
   },
   {
    "duration": 4,
    "start_time": "2021-12-27T16:38:44.968Z"
   },
   {
    "duration": 6,
    "start_time": "2021-12-27T16:46:07.822Z"
   },
   {
    "duration": 15,
    "start_time": "2021-12-27T16:46:12.466Z"
   },
   {
    "duration": 5,
    "start_time": "2021-12-27T16:46:16.737Z"
   },
   {
    "duration": 56,
    "start_time": "2021-12-27T16:46:20.531Z"
   },
   {
    "duration": 5,
    "start_time": "2021-12-27T16:46:37.969Z"
   },
   {
    "duration": 288,
    "start_time": "2021-12-27T16:47:43.123Z"
   },
   {
    "duration": 265,
    "start_time": "2021-12-27T16:47:49.406Z"
   },
   {
    "duration": 390,
    "start_time": "2021-12-27T16:47:55.578Z"
   },
   {
    "duration": 28,
    "start_time": "2021-12-27T16:48:03.312Z"
   },
   {
    "duration": 57,
    "start_time": "2021-12-27T16:48:10.782Z"
   },
   {
    "duration": 6,
    "start_time": "2021-12-27T16:49:19.010Z"
   },
   {
    "duration": 6,
    "start_time": "2021-12-27T16:49:27.988Z"
   },
   {
    "duration": 5,
    "start_time": "2021-12-27T16:49:42.085Z"
   },
   {
    "duration": 7,
    "start_time": "2021-12-27T16:49:56.549Z"
   },
   {
    "duration": 57,
    "start_time": "2021-12-27T16:50:00.860Z"
   },
   {
    "duration": 6,
    "start_time": "2021-12-27T16:51:59.877Z"
   },
   {
    "duration": 4,
    "start_time": "2021-12-27T16:52:06.622Z"
   },
   {
    "duration": 13,
    "start_time": "2021-12-27T16:52:08.500Z"
   },
   {
    "duration": 5,
    "start_time": "2021-12-27T16:52:10.647Z"
   },
   {
    "duration": 55,
    "start_time": "2021-12-27T16:52:13.362Z"
   },
   {
    "duration": 4,
    "start_time": "2021-12-27T16:52:15.377Z"
   },
   {
    "duration": 11,
    "start_time": "2021-12-27T16:52:17.993Z"
   },
   {
    "duration": 6,
    "start_time": "2021-12-27T16:52:19.694Z"
   },
   {
    "duration": 12,
    "start_time": "2021-12-27T16:52:21.430Z"
   },
   {
    "duration": 4,
    "start_time": "2021-12-27T16:52:23.377Z"
   },
   {
    "duration": 7,
    "start_time": "2021-12-27T16:52:25.896Z"
   },
   {
    "duration": 4,
    "start_time": "2021-12-27T16:52:29.035Z"
   },
   {
    "duration": 588,
    "start_time": "2021-12-27T16:54:16.763Z"
   },
   {
    "duration": 13,
    "start_time": "2021-12-27T16:54:55.197Z"
   },
   {
    "duration": 11,
    "start_time": "2021-12-27T16:54:58.935Z"
   },
   {
    "duration": 13,
    "start_time": "2021-12-27T16:55:00.358Z"
   },
   {
    "duration": 4,
    "start_time": "2021-12-27T16:55:07.711Z"
   },
   {
    "duration": 339,
    "start_time": "2021-12-27T16:55:28.292Z"
   },
   {
    "duration": 260,
    "start_time": "2021-12-27T16:56:21.388Z"
   },
   {
    "duration": 280,
    "start_time": "2021-12-27T16:56:58.380Z"
   },
   {
    "duration": 4,
    "start_time": "2021-12-27T16:57:03.292Z"
   },
   {
    "duration": 5,
    "start_time": "2021-12-27T16:57:08.571Z"
   },
   {
    "duration": 4,
    "start_time": "2021-12-27T16:57:24.595Z"
   },
   {
    "duration": 6,
    "start_time": "2021-12-27T16:57:33.019Z"
   },
   {
    "duration": 7,
    "start_time": "2021-12-27T16:58:04.306Z"
   },
   {
    "duration": 281,
    "start_time": "2021-12-27T16:58:32.806Z"
   },
   {
    "duration": 9,
    "start_time": "2021-12-27T16:58:39.133Z"
   },
   {
    "duration": 276,
    "start_time": "2021-12-27T16:59:01.279Z"
   },
   {
    "duration": 8,
    "start_time": "2021-12-27T16:59:12.220Z"
   },
   {
    "duration": 272,
    "start_time": "2021-12-27T16:59:28.963Z"
   },
   {
    "duration": 8,
    "start_time": "2021-12-27T16:59:34.895Z"
   },
   {
    "duration": 6,
    "start_time": "2021-12-27T16:59:54.411Z"
   },
   {
    "duration": 12,
    "start_time": "2021-12-27T17:00:27.522Z"
   },
   {
    "duration": 274,
    "start_time": "2021-12-27T17:00:55.913Z"
   },
   {
    "duration": 276,
    "start_time": "2021-12-27T17:01:18.694Z"
   },
   {
    "duration": 271,
    "start_time": "2021-12-27T17:01:28.994Z"
   },
   {
    "duration": 14,
    "start_time": "2021-12-27T17:01:34.013Z"
   },
   {
    "duration": 19,
    "start_time": "2021-12-27T17:02:56.974Z"
   },
   {
    "duration": 16,
    "start_time": "2021-12-27T17:04:20.979Z"
   },
   {
    "duration": 15,
    "start_time": "2021-12-27T17:04:39.017Z"
   },
   {
    "duration": 23,
    "start_time": "2021-12-27T17:04:56.914Z"
   },
   {
    "duration": 20,
    "start_time": "2021-12-27T17:09:37.352Z"
   },
   {
    "duration": 13,
    "start_time": "2021-12-27T17:10:46.439Z"
   },
   {
    "duration": 295,
    "start_time": "2021-12-27T17:13:29.070Z"
   },
   {
    "duration": 17,
    "start_time": "2021-12-27T17:13:35.738Z"
   },
   {
    "duration": 14,
    "start_time": "2021-12-27T17:14:01.301Z"
   },
   {
    "duration": 58,
    "start_time": "2021-12-27T17:14:17.370Z"
   },
   {
    "duration": 14,
    "start_time": "2021-12-27T17:14:53.963Z"
   },
   {
    "duration": 14,
    "start_time": "2021-12-27T17:15:55.421Z"
   },
   {
    "duration": 721,
    "start_time": "2021-12-27T17:17:29.350Z"
   },
   {
    "duration": 90,
    "start_time": "2021-12-27T17:18:15.864Z"
   },
   {
    "duration": 285,
    "start_time": "2021-12-27T17:18:32.427Z"
   },
   {
    "duration": 17,
    "start_time": "2021-12-27T17:18:45.376Z"
   },
   {
    "duration": 16,
    "start_time": "2021-12-27T17:20:38.764Z"
   },
   {
    "duration": 16,
    "start_time": "2021-12-27T17:21:12.949Z"
   },
   {
    "duration": 15,
    "start_time": "2021-12-27T17:24:57.159Z"
   },
   {
    "duration": 57,
    "start_time": "2021-12-27T17:25:02.372Z"
   },
   {
    "duration": 16,
    "start_time": "2021-12-27T17:25:08.607Z"
   },
   {
    "duration": 276,
    "start_time": "2021-12-27T17:28:36.197Z"
   },
   {
    "duration": 2128,
    "start_time": "2021-12-27T17:29:04.092Z"
   },
   {
    "duration": 17,
    "start_time": "2021-12-27T17:29:45.566Z"
   },
   {
    "duration": 6935,
    "start_time": "2021-12-27T17:30:13.115Z"
   },
   {
    "duration": 282,
    "start_time": "2021-12-27T17:46:56.118Z"
   },
   {
    "duration": 279,
    "start_time": "2021-12-27T17:47:06.706Z"
   },
   {
    "duration": 5184,
    "start_time": "2021-12-27T17:47:20.191Z"
   },
   {
    "duration": 19,
    "start_time": "2021-12-27T17:47:57.379Z"
   },
   {
    "duration": 20,
    "start_time": "2021-12-27T17:48:51.170Z"
   },
   {
    "duration": 89,
    "start_time": "2021-12-27T17:49:54.064Z"
   },
   {
    "duration": 19,
    "start_time": "2021-12-27T17:49:58.329Z"
   },
   {
    "duration": 19,
    "start_time": "2021-12-27T17:50:17.878Z"
   },
   {
    "duration": 22,
    "start_time": "2021-12-27T17:50:56.473Z"
   },
   {
    "duration": 19,
    "start_time": "2021-12-27T17:51:22.445Z"
   },
   {
    "duration": 20,
    "start_time": "2021-12-27T17:51:55.389Z"
   },
   {
    "duration": 19,
    "start_time": "2021-12-27T17:52:36.734Z"
   },
   {
    "duration": 14,
    "start_time": "2021-12-27T17:53:35.488Z"
   },
   {
    "duration": 17,
    "start_time": "2021-12-27T17:53:42.243Z"
   },
   {
    "duration": 281,
    "start_time": "2021-12-27T18:05:57.109Z"
   },
   {
    "duration": 401,
    "start_time": "2021-12-27T18:06:22.014Z"
   },
   {
    "duration": 6,
    "start_time": "2021-12-27T18:06:27.829Z"
   },
   {
    "duration": 6,
    "start_time": "2021-12-27T18:06:38.176Z"
   },
   {
    "duration": 14,
    "start_time": "2021-12-27T18:07:16.340Z"
   },
   {
    "duration": 9,
    "start_time": "2021-12-27T18:08:16.147Z"
   },
   {
    "duration": 9,
    "start_time": "2021-12-27T18:10:52.639Z"
   },
   {
    "duration": 9,
    "start_time": "2021-12-27T18:13:49.531Z"
   },
   {
    "duration": 13,
    "start_time": "2021-12-27T18:15:40.111Z"
   },
   {
    "duration": 12,
    "start_time": "2021-12-27T18:16:05.329Z"
   },
   {
    "duration": 12,
    "start_time": "2021-12-27T18:21:25.356Z"
   },
   {
    "duration": 10,
    "start_time": "2021-12-27T18:24:45.445Z"
   },
   {
    "duration": 313,
    "start_time": "2021-12-27T18:26:24.062Z"
   },
   {
    "duration": 7,
    "start_time": "2021-12-27T18:26:29.825Z"
   },
   {
    "duration": 11,
    "start_time": "2021-12-27T18:44:49.762Z"
   },
   {
    "duration": 272,
    "start_time": "2021-12-27T20:30:20.950Z"
   },
   {
    "duration": 15,
    "start_time": "2021-12-27T20:30:36.830Z"
   },
   {
    "duration": 2251,
    "start_time": "2021-12-27T20:31:27.477Z"
   },
   {
    "duration": 297,
    "start_time": "2021-12-27T20:31:59.741Z"
   },
   {
    "duration": 610,
    "start_time": "2021-12-27T20:32:07.169Z"
   },
   {
    "duration": 7331,
    "start_time": "2021-12-27T20:32:13.269Z"
   },
   {
    "duration": 17,
    "start_time": "2021-12-27T20:32:30.283Z"
   },
   {
    "duration": 2063,
    "start_time": "2021-12-27T20:32:36.509Z"
   },
   {
    "duration": 276,
    "start_time": "2021-12-27T20:32:51.538Z"
   },
   {
    "duration": 23,
    "start_time": "2021-12-27T20:32:57.942Z"
   },
   {
    "duration": 700,
    "start_time": "2021-12-27T20:33:08.967Z"
   },
   {
    "duration": 8,
    "start_time": "2021-12-27T20:33:13.189Z"
   },
   {
    "duration": 14,
    "start_time": "2021-12-27T20:33:28.532Z"
   },
   {
    "duration": 349,
    "start_time": "2021-12-27T20:34:43.528Z"
   },
   {
    "duration": 12,
    "start_time": "2021-12-27T20:34:54.233Z"
   },
   {
    "duration": 9,
    "start_time": "2021-12-27T20:47:36.603Z"
   },
   {
    "duration": 13,
    "start_time": "2021-12-27T20:48:29.452Z"
   },
   {
    "duration": 8,
    "start_time": "2021-12-27T20:50:02.148Z"
   },
   {
    "duration": 8,
    "start_time": "2021-12-27T20:51:01.656Z"
   },
   {
    "duration": 13,
    "start_time": "2021-12-27T20:51:11.337Z"
   },
   {
    "duration": 88,
    "start_time": "2021-12-27T20:52:55.340Z"
   },
   {
    "duration": 19,
    "start_time": "2021-12-27T20:52:59.186Z"
   },
   {
    "duration": 8,
    "start_time": "2021-12-27T21:05:02.882Z"
   },
   {
    "duration": 271,
    "start_time": "2021-12-27T21:27:38.694Z"
   },
   {
    "duration": 5,
    "start_time": "2021-12-27T21:27:44.834Z"
   },
   {
    "duration": 4,
    "start_time": "2021-12-27T21:27:45.966Z"
   },
   {
    "duration": 4,
    "start_time": "2021-12-27T21:28:29.724Z"
   },
   {
    "duration": 6,
    "start_time": "2021-12-27T21:29:16.865Z"
   },
   {
    "duration": 11,
    "start_time": "2021-12-27T21:29:55.948Z"
   },
   {
    "duration": 7,
    "start_time": "2021-12-28T05:26:56.618Z"
   },
   {
    "duration": 6,
    "start_time": "2021-12-28T05:26:58.550Z"
   },
   {
    "duration": 24,
    "start_time": "2021-12-28T05:38:29.071Z"
   },
   {
    "duration": 316,
    "start_time": "2021-12-28T05:38:41.759Z"
   },
   {
    "duration": 277,
    "start_time": "2021-12-28T05:38:45.377Z"
   },
   {
    "duration": 5,
    "start_time": "2021-12-28T05:38:50.037Z"
   },
   {
    "duration": 1151,
    "start_time": "2021-12-28T05:48:43.783Z"
   },
   {
    "duration": 594,
    "start_time": "2021-12-28T05:49:58.682Z"
   },
   {
    "duration": 328,
    "start_time": "2021-12-28T05:50:11.634Z"
   },
   {
    "duration": 273,
    "start_time": "2021-12-28T05:50:16.006Z"
   },
   {
    "duration": 587,
    "start_time": "2021-12-28T05:53:21.986Z"
   },
   {
    "duration": 6,
    "start_time": "2021-12-28T06:01:31.558Z"
   },
   {
    "duration": 98,
    "start_time": "2021-12-28T06:01:46.920Z"
   },
   {
    "duration": 7,
    "start_time": "2021-12-28T06:01:59.374Z"
   },
   {
    "duration": 7,
    "start_time": "2021-12-28T06:02:10.274Z"
   },
   {
    "duration": 7,
    "start_time": "2021-12-28T06:02:19.144Z"
   },
   {
    "duration": 12,
    "start_time": "2021-12-28T06:06:51.205Z"
   },
   {
    "duration": 5,
    "start_time": "2021-12-28T06:07:36.188Z"
   },
   {
    "duration": 582,
    "start_time": "2021-12-28T07:07:27.168Z"
   },
   {
    "duration": 588,
    "start_time": "2021-12-28T07:08:13.178Z"
   },
   {
    "duration": 1011,
    "start_time": "2021-12-28T07:23:55.912Z"
   },
   {
    "duration": 720,
    "start_time": "2021-12-28T07:24:17.117Z"
   },
   {
    "duration": 795,
    "start_time": "2021-12-28T07:24:25.609Z"
   },
   {
    "duration": 336,
    "start_time": "2021-12-28T07:54:12.747Z"
   },
   {
    "duration": 1336,
    "start_time": "2021-12-28T08:04:58.990Z"
   },
   {
    "duration": 6,
    "start_time": "2021-12-28T08:05:31.880Z"
   },
   {
    "duration": 18,
    "start_time": "2021-12-28T08:11:24.408Z"
   },
   {
    "duration": 6,
    "start_time": "2021-12-28T08:29:47.602Z"
   },
   {
    "duration": 9,
    "start_time": "2021-12-28T08:31:23.256Z"
   },
   {
    "duration": 6,
    "start_time": "2021-12-28T08:45:15.903Z"
   },
   {
    "duration": 6,
    "start_time": "2021-12-28T08:47:37.629Z"
   },
   {
    "duration": 106,
    "start_time": "2021-12-28T08:50:56.824Z"
   },
   {
    "duration": 8,
    "start_time": "2021-12-28T08:51:06.068Z"
   },
   {
    "duration": 95,
    "start_time": "2021-12-28T08:51:21.130Z"
   },
   {
    "duration": 7,
    "start_time": "2021-12-28T08:51:23.555Z"
   },
   {
    "duration": 10,
    "start_time": "2021-12-28T08:51:30.648Z"
   },
   {
    "duration": 92,
    "start_time": "2021-12-28T08:51:45.292Z"
   },
   {
    "duration": 11,
    "start_time": "2021-12-28T08:51:49.556Z"
   },
   {
    "duration": 8,
    "start_time": "2021-12-28T08:52:30.957Z"
   },
   {
    "duration": 8,
    "start_time": "2021-12-28T08:53:30.328Z"
   },
   {
    "duration": 77,
    "start_time": "2021-12-28T08:55:09.531Z"
   },
   {
    "duration": 8,
    "start_time": "2021-12-28T08:55:19.318Z"
   },
   {
    "duration": 91,
    "start_time": "2021-12-28T08:55:50.980Z"
   },
   {
    "duration": 136,
    "start_time": "2021-12-28T10:30:19.314Z"
   },
   {
    "duration": 5,
    "start_time": "2021-12-28T10:33:26.280Z"
   },
   {
    "duration": 9,
    "start_time": "2021-12-28T10:34:08.750Z"
   },
   {
    "duration": 9,
    "start_time": "2021-12-28T10:34:53.197Z"
   },
   {
    "duration": 7,
    "start_time": "2021-12-28T10:35:29.697Z"
   },
   {
    "duration": 7,
    "start_time": "2021-12-28T10:35:47.516Z"
   },
   {
    "duration": 9,
    "start_time": "2021-12-28T10:36:15.998Z"
   },
   {
    "duration": 9,
    "start_time": "2021-12-28T10:36:30.832Z"
   },
   {
    "duration": 94,
    "start_time": "2021-12-28T10:36:46.709Z"
   },
   {
    "duration": 9,
    "start_time": "2021-12-28T10:36:51.419Z"
   },
   {
    "duration": 9,
    "start_time": "2021-12-28T10:36:54.795Z"
   },
   {
    "duration": 10,
    "start_time": "2021-12-28T10:36:59.246Z"
   },
   {
    "duration": 8,
    "start_time": "2021-12-28T10:37:04.939Z"
   },
   {
    "duration": 9,
    "start_time": "2021-12-28T10:37:11.916Z"
   },
   {
    "duration": 9,
    "start_time": "2021-12-28T10:37:19.268Z"
   },
   {
    "duration": 9,
    "start_time": "2021-12-28T10:37:24.463Z"
   },
   {
    "duration": 9,
    "start_time": "2021-12-28T10:37:37.343Z"
   },
   {
    "duration": 5,
    "start_time": "2021-12-28T10:39:27.358Z"
   },
   {
    "duration": 92,
    "start_time": "2021-12-28T10:40:56.536Z"
   },
   {
    "duration": 8,
    "start_time": "2021-12-28T10:41:04.711Z"
   },
   {
    "duration": 6,
    "start_time": "2021-12-28T11:08:50.786Z"
   },
   {
    "duration": 6,
    "start_time": "2021-12-28T11:09:31.848Z"
   },
   {
    "duration": 12,
    "start_time": "2021-12-28T11:21:46.389Z"
   },
   {
    "duration": 7,
    "start_time": "2021-12-28T11:46:06.074Z"
   },
   {
    "duration": 7,
    "start_time": "2021-12-28T11:46:48.952Z"
   },
   {
    "duration": 6,
    "start_time": "2021-12-28T11:48:24.760Z"
   },
   {
    "duration": 21,
    "start_time": "2021-12-28T11:49:27.871Z"
   },
   {
    "duration": 20,
    "start_time": "2021-12-28T11:49:39.675Z"
   },
   {
    "duration": 14,
    "start_time": "2021-12-28T11:50:03.287Z"
   },
   {
    "duration": 18,
    "start_time": "2021-12-28T12:18:55.352Z"
   },
   {
    "duration": 14,
    "start_time": "2021-12-28T12:19:02.241Z"
   },
   {
    "duration": 12,
    "start_time": "2021-12-28T12:19:50.244Z"
   },
   {
    "duration": 400,
    "start_time": "2021-12-28T12:19:59.490Z"
   },
   {
    "duration": 9,
    "start_time": "2021-12-28T12:20:06.542Z"
   },
   {
    "duration": 10,
    "start_time": "2021-12-28T12:25:23.012Z"
   },
   {
    "duration": 7,
    "start_time": "2021-12-28T12:26:12.491Z"
   },
   {
    "duration": 10,
    "start_time": "2021-12-28T12:27:04.603Z"
   },
   {
    "duration": 12,
    "start_time": "2021-12-28T12:53:17.922Z"
   },
   {
    "duration": 12,
    "start_time": "2021-12-28T12:53:26.015Z"
   },
   {
    "duration": 5,
    "start_time": "2021-12-28T12:53:49.502Z"
   },
   {
    "duration": 17,
    "start_time": "2021-12-28T12:56:27.455Z"
   },
   {
    "duration": 17,
    "start_time": "2021-12-28T12:57:02.253Z"
   },
   {
    "duration": 104,
    "start_time": "2021-12-28T12:59:06.929Z"
   },
   {
    "duration": 18,
    "start_time": "2021-12-28T12:59:14.071Z"
   },
   {
    "duration": 18,
    "start_time": "2021-12-28T12:59:29.120Z"
   },
   {
    "duration": 18,
    "start_time": "2021-12-28T12:59:42.460Z"
   },
   {
    "duration": 96,
    "start_time": "2021-12-28T13:02:16.674Z"
   },
   {
    "duration": 18,
    "start_time": "2021-12-28T13:02:21.905Z"
   },
   {
    "duration": 18,
    "start_time": "2021-12-28T13:02:27.504Z"
   },
   {
    "duration": 294,
    "start_time": "2021-12-28T13:08:54.712Z"
   },
   {
    "duration": 19,
    "start_time": "2021-12-28T13:08:59.878Z"
   },
   {
    "duration": 18,
    "start_time": "2021-12-28T13:10:42.406Z"
   },
   {
    "duration": 17,
    "start_time": "2021-12-28T13:14:10.654Z"
   },
   {
    "duration": 19,
    "start_time": "2021-12-28T13:14:40.709Z"
   },
   {
    "duration": 20,
    "start_time": "2021-12-28T13:15:16.780Z"
   },
   {
    "duration": 20,
    "start_time": "2021-12-28T13:15:40.825Z"
   },
   {
    "duration": 18,
    "start_time": "2021-12-28T13:16:25.248Z"
   },
   {
    "duration": 11,
    "start_time": "2021-12-28T15:58:02.388Z"
   },
   {
    "duration": 115,
    "start_time": "2021-12-28T15:59:04.693Z"
   },
   {
    "duration": 6,
    "start_time": "2021-12-28T15:59:35.089Z"
   },
   {
    "duration": 6,
    "start_time": "2021-12-28T16:01:56.557Z"
   },
   {
    "duration": 287,
    "start_time": "2021-12-28T16:37:36.725Z"
   },
   {
    "duration": 640,
    "start_time": "2021-12-28T16:37:47.078Z"
   },
   {
    "duration": 7,
    "start_time": "2021-12-28T16:42:55.204Z"
   },
   {
    "duration": 5,
    "start_time": "2021-12-28T16:43:16.053Z"
   },
   {
    "duration": 4,
    "start_time": "2021-12-28T16:43:30.851Z"
   },
   {
    "duration": 288,
    "start_time": "2021-12-28T16:43:42.015Z"
   },
   {
    "duration": 5,
    "start_time": "2021-12-28T16:43:45.781Z"
   },
   {
    "duration": 724,
    "start_time": "2021-12-28T16:47:32.789Z"
   },
   {
    "duration": 660,
    "start_time": "2021-12-28T16:48:31.935Z"
   },
   {
    "duration": 656,
    "start_time": "2021-12-28T16:48:42.022Z"
   },
   {
    "duration": 109,
    "start_time": "2021-12-28T16:49:56.102Z"
   },
   {
    "duration": 678,
    "start_time": "2021-12-28T16:50:01.747Z"
   },
   {
    "duration": 682,
    "start_time": "2021-12-28T16:58:24.374Z"
   },
   {
    "duration": 6921,
    "start_time": "2021-12-28T17:06:04.844Z"
   },
   {
    "duration": -423,
    "start_time": "2021-12-28T17:06:12.189Z"
   },
   {
    "duration": 1579,
    "start_time": "2021-12-28T17:06:54.310Z"
   },
   {
    "duration": 2972,
    "start_time": "2021-12-28T17:08:09.455Z"
   },
   {
    "duration": 443,
    "start_time": "2021-12-28T17:08:16.230Z"
   },
   {
    "duration": 6,
    "start_time": "2021-12-28T17:08:28.963Z"
   },
   {
    "duration": 29908,
    "start_time": "2021-12-28T17:09:21.420Z"
   },
   {
    "duration": 1622,
    "start_time": "2021-12-28T17:10:17.873Z"
   },
   {
    "duration": 1337,
    "start_time": "2021-12-28T19:09:11.061Z"
   },
   {
    "duration": 1396,
    "start_time": "2021-12-28T19:09:35.734Z"
   },
   {
    "duration": 830,
    "start_time": "2021-12-28T19:09:58.556Z"
   },
   {
    "duration": 2939,
    "start_time": "2021-12-28T19:10:01.824Z"
   },
   {
    "duration": 2964,
    "start_time": "2021-12-28T19:10:57.610Z"
   },
   {
    "duration": 2920,
    "start_time": "2021-12-28T19:11:55.173Z"
   },
   {
    "duration": 581,
    "start_time": "2021-12-28T19:12:04.878Z"
   },
   {
    "duration": 631,
    "start_time": "2021-12-28T19:12:12.903Z"
   },
   {
    "duration": 3042,
    "start_time": "2021-12-28T19:12:16.663Z"
   },
   {
    "duration": 7545,
    "start_time": "2021-12-28T19:12:38.607Z"
   },
   {
    "duration": 2892,
    "start_time": "2021-12-28T19:14:36.242Z"
   },
   {
    "duration": 1569,
    "start_time": "2021-12-28T19:15:02.545Z"
   },
   {
    "duration": 1274,
    "start_time": "2021-12-28T19:17:27.181Z"
   },
   {
    "duration": 648,
    "start_time": "2021-12-28T19:17:43.734Z"
   },
   {
    "duration": 633,
    "start_time": "2021-12-28T19:17:55.876Z"
   },
   {
    "duration": 9088,
    "start_time": "2021-12-28T19:18:00.085Z"
   },
   {
    "duration": 1313,
    "start_time": "2021-12-28T19:18:25.098Z"
   },
   {
    "duration": 645,
    "start_time": "2021-12-28T19:18:34.525Z"
   },
   {
    "duration": 1372,
    "start_time": "2021-12-28T19:18:40.197Z"
   },
   {
    "duration": 617,
    "start_time": "2021-12-28T19:18:46.247Z"
   },
   {
    "duration": 2806,
    "start_time": "2021-12-28T19:18:50.824Z"
   },
   {
    "duration": 7,
    "start_time": "2021-12-28T19:19:38.333Z"
   },
   {
    "duration": 315,
    "start_time": "2021-12-28T19:20:00.342Z"
   },
   {
    "duration": 2068,
    "start_time": "2021-12-28T19:20:06.852Z"
   },
   {
    "duration": 6,
    "start_time": "2021-12-28T19:20:18.483Z"
   },
   {
    "duration": 13,
    "start_time": "2021-12-28T19:20:31.594Z"
   },
   {
    "duration": 7486,
    "start_time": "2021-12-28T19:30:28.494Z"
   },
   {
    "duration": 8,
    "start_time": "2021-12-28T19:46:14.347Z"
   },
   {
    "duration": 7327,
    "start_time": "2021-12-28T19:47:00.052Z"
   },
   {
    "duration": 7,
    "start_time": "2021-12-28T19:47:13.673Z"
   },
   {
    "duration": 6,
    "start_time": "2021-12-28T19:47:24.162Z"
   },
   {
    "duration": 6,
    "start_time": "2021-12-28T19:48:07.010Z"
   },
   {
    "duration": 8,
    "start_time": "2021-12-28T19:51:00.920Z"
   },
   {
    "duration": 10,
    "start_time": "2021-12-28T19:51:31.454Z"
   },
   {
    "duration": 11,
    "start_time": "2021-12-28T19:51:59.347Z"
   },
   {
    "duration": 16,
    "start_time": "2021-12-28T19:53:39.026Z"
   },
   {
    "duration": 15,
    "start_time": "2021-12-28T19:53:48.646Z"
   },
   {
    "duration": 59,
    "start_time": "2021-12-28T19:58:56.036Z"
   },
   {
    "duration": 19,
    "start_time": "2021-12-28T19:59:12.128Z"
   },
   {
    "duration": 26,
    "start_time": "2021-12-28T19:59:44.020Z"
   },
   {
    "duration": 24,
    "start_time": "2021-12-28T20:00:03.632Z"
   },
   {
    "duration": 22,
    "start_time": "2021-12-28T20:00:18.121Z"
   },
   {
    "duration": 111,
    "start_time": "2021-12-28T20:01:41.191Z"
   },
   {
    "duration": 46,
    "start_time": "2021-12-28T20:01:51.396Z"
   },
   {
    "duration": 14,
    "start_time": "2021-12-28T20:04:05.654Z"
   },
   {
    "duration": 1138,
    "start_time": "2021-12-28T20:04:14.014Z"
   },
   {
    "duration": 100,
    "start_time": "2021-12-28T20:04:35.911Z"
   },
   {
    "duration": 98,
    "start_time": "2021-12-28T20:04:44.316Z"
   },
   {
    "duration": 16,
    "start_time": "2021-12-28T20:04:47.261Z"
   },
   {
    "duration": 20,
    "start_time": "2021-12-28T20:06:39.405Z"
   },
   {
    "duration": 450,
    "start_time": "2021-12-28T20:10:15.145Z"
   },
   {
    "duration": 287,
    "start_time": "2021-12-28T20:10:22.441Z"
   },
   {
    "duration": 679,
    "start_time": "2021-12-28T20:10:30.226Z"
   },
   {
    "duration": 97,
    "start_time": "2021-12-28T20:12:16.965Z"
   },
   {
    "duration": 4,
    "start_time": "2021-12-28T20:12:20.012Z"
   },
   {
    "duration": 16,
    "start_time": "2021-12-28T20:12:33.312Z"
   },
   {
    "duration": 28,
    "start_time": "2021-12-28T20:12:47.793Z"
   },
   {
    "duration": 23,
    "start_time": "2021-12-28T20:13:20.151Z"
   },
   {
    "duration": 13,
    "start_time": "2021-12-28T20:13:43.474Z"
   },
   {
    "duration": 20,
    "start_time": "2021-12-28T20:15:13.802Z"
   },
   {
    "duration": 766,
    "start_time": "2021-12-28T20:15:30.955Z"
   },
   {
    "duration": 6,
    "start_time": "2021-12-28T20:15:31.722Z"
   },
   {
    "duration": 12,
    "start_time": "2021-12-28T20:15:31.730Z"
   },
   {
    "duration": 96,
    "start_time": "2021-12-28T20:15:31.744Z"
   },
   {
    "duration": -239,
    "start_time": "2021-12-28T20:15:32.082Z"
   },
   {
    "duration": -240,
    "start_time": "2021-12-28T20:15:32.084Z"
   },
   {
    "duration": -241,
    "start_time": "2021-12-28T20:15:32.086Z"
   },
   {
    "duration": -245,
    "start_time": "2021-12-28T20:15:32.091Z"
   },
   {
    "duration": -249,
    "start_time": "2021-12-28T20:15:32.096Z"
   },
   {
    "duration": -252,
    "start_time": "2021-12-28T20:15:32.100Z"
   },
   {
    "duration": -257,
    "start_time": "2021-12-28T20:15:32.105Z"
   },
   {
    "duration": -260,
    "start_time": "2021-12-28T20:15:32.109Z"
   },
   {
    "duration": -264,
    "start_time": "2021-12-28T20:15:32.114Z"
   },
   {
    "duration": -267,
    "start_time": "2021-12-28T20:15:32.118Z"
   },
   {
    "duration": -271,
    "start_time": "2021-12-28T20:15:32.123Z"
   },
   {
    "duration": -281,
    "start_time": "2021-12-28T20:15:32.133Z"
   },
   {
    "duration": -286,
    "start_time": "2021-12-28T20:15:32.139Z"
   },
   {
    "duration": -289,
    "start_time": "2021-12-28T20:15:32.143Z"
   },
   {
    "duration": -294,
    "start_time": "2021-12-28T20:15:32.149Z"
   },
   {
    "duration": -299,
    "start_time": "2021-12-28T20:15:32.154Z"
   },
   {
    "duration": -301,
    "start_time": "2021-12-28T20:15:32.157Z"
   },
   {
    "duration": -302,
    "start_time": "2021-12-28T20:15:32.159Z"
   },
   {
    "duration": -304,
    "start_time": "2021-12-28T20:15:32.161Z"
   },
   {
    "duration": -305,
    "start_time": "2021-12-28T20:15:32.163Z"
   },
   {
    "duration": -307,
    "start_time": "2021-12-28T20:15:32.166Z"
   },
   {
    "duration": -308,
    "start_time": "2021-12-28T20:15:32.168Z"
   },
   {
    "duration": -309,
    "start_time": "2021-12-28T20:15:32.170Z"
   },
   {
    "duration": -311,
    "start_time": "2021-12-28T20:15:32.172Z"
   },
   {
    "duration": -313,
    "start_time": "2021-12-28T20:15:32.175Z"
   },
   {
    "duration": -314,
    "start_time": "2021-12-28T20:15:32.177Z"
   },
   {
    "duration": -315,
    "start_time": "2021-12-28T20:15:32.179Z"
   },
   {
    "duration": -318,
    "start_time": "2021-12-28T20:15:32.182Z"
   },
   {
    "duration": 1562,
    "start_time": "2021-12-28T20:15:50.228Z"
   },
   {
    "duration": 1126,
    "start_time": "2021-12-28T20:16:03.028Z"
   },
   {
    "duration": 77,
    "start_time": "2021-12-28T20:16:10.487Z"
   },
   {
    "duration": 11,
    "start_time": "2021-12-28T20:16:17.483Z"
   },
   {
    "duration": 15,
    "start_time": "2021-12-28T20:16:22.819Z"
   },
   {
    "duration": 1303,
    "start_time": "2021-12-28T20:16:33.898Z"
   },
   {
    "duration": 821,
    "start_time": "2021-12-28T20:16:38.468Z"
   },
   {
    "duration": 19,
    "start_time": "2021-12-28T20:16:43.914Z"
   },
   {
    "duration": 20,
    "start_time": "2021-12-28T20:16:47.530Z"
   },
   {
    "duration": 11,
    "start_time": "2021-12-28T20:17:05.614Z"
   },
   {
    "duration": 105,
    "start_time": "2021-12-28T20:17:08.515Z"
   },
   {
    "duration": 100,
    "start_time": "2021-12-28T20:17:18.626Z"
   },
   {
    "duration": 366,
    "start_time": "2021-12-28T20:17:24.464Z"
   },
   {
    "duration": 18,
    "start_time": "2021-12-28T20:18:25.532Z"
   },
   {
    "duration": 310,
    "start_time": "2021-12-28T20:19:50.281Z"
   },
   {
    "duration": 19,
    "start_time": "2021-12-28T20:19:56.989Z"
   },
   {
    "duration": 995,
    "start_time": "2021-12-28T20:20:16.324Z"
   },
   {
    "duration": 115,
    "start_time": "2021-12-28T20:22:23.988Z"
   },
   {
    "duration": 4,
    "start_time": "2021-12-28T20:22:28.573Z"
   },
   {
    "duration": 7,
    "start_time": "2021-12-28T20:22:41.834Z"
   },
   {
    "duration": 6,
    "start_time": "2021-12-28T20:23:15.430Z"
   },
   {
    "duration": 13,
    "start_time": "2021-12-28T20:23:38.790Z"
   },
   {
    "duration": 9,
    "start_time": "2021-12-28T20:23:42.596Z"
   },
   {
    "duration": 60,
    "start_time": "2021-12-28T20:23:54.864Z"
   },
   {
    "duration": 12,
    "start_time": "2021-12-28T20:24:04.101Z"
   },
   {
    "duration": 7,
    "start_time": "2021-12-28T20:24:19.845Z"
   },
   {
    "duration": 14,
    "start_time": "2021-12-28T20:24:32.394Z"
   },
   {
    "duration": 13,
    "start_time": "2021-12-28T20:24:36.079Z"
   },
   {
    "duration": 4,
    "start_time": "2021-12-28T20:24:39.771Z"
   },
   {
    "duration": 15,
    "start_time": "2021-12-28T20:24:43.544Z"
   },
   {
    "duration": 8,
    "start_time": "2021-12-28T20:24:47.862Z"
   },
   {
    "duration": 9,
    "start_time": "2021-12-28T20:24:50.446Z"
   },
   {
    "duration": 8,
    "start_time": "2021-12-28T20:24:54.216Z"
   },
   {
    "duration": 6,
    "start_time": "2021-12-28T20:27:37.149Z"
   },
   {
    "duration": 8,
    "start_time": "2021-12-28T20:27:41.182Z"
   },
   {
    "duration": 16,
    "start_time": "2021-12-28T20:27:55.749Z"
   },
   {
    "duration": 61,
    "start_time": "2021-12-28T20:28:01.779Z"
   },
   {
    "duration": 7,
    "start_time": "2021-12-28T20:28:58.579Z"
   },
   {
    "duration": 329,
    "start_time": "2021-12-28T20:29:20.375Z"
   },
   {
    "duration": 8,
    "start_time": "2021-12-28T20:30:57.577Z"
   },
   {
    "duration": 10,
    "start_time": "2021-12-28T20:31:09.858Z"
   },
   {
    "duration": 8,
    "start_time": "2021-12-28T20:31:21.285Z"
   },
   {
    "duration": 7,
    "start_time": "2021-12-28T20:36:36.022Z"
   },
   {
    "duration": -228,
    "start_time": "2021-12-28T20:36:46.820Z"
   },
   {
    "duration": 9,
    "start_time": "2021-12-28T20:36:49.904Z"
   },
   {
    "duration": 7587,
    "start_time": "2021-12-28T20:36:54.974Z"
   },
   {
    "duration": -240,
    "start_time": "2021-12-28T20:37:02.803Z"
   },
   {
    "duration": 8,
    "start_time": "2021-12-28T20:37:28.121Z"
   },
   {
    "duration": 4,
    "start_time": "2021-12-28T20:37:33.431Z"
   },
   {
    "duration": 13,
    "start_time": "2021-12-28T20:37:35.328Z"
   },
   {
    "duration": 7,
    "start_time": "2021-12-28T20:37:41.707Z"
   },
   {
    "duration": 7,
    "start_time": "2021-12-28T20:37:44.239Z"
   },
   {
    "duration": 10,
    "start_time": "2021-12-28T20:37:49.076Z"
   },
   {
    "duration": 7,
    "start_time": "2021-12-28T20:37:53.282Z"
   },
   {
    "duration": 8,
    "start_time": "2021-12-28T20:38:00.058Z"
   },
   {
    "duration": 630,
    "start_time": "2021-12-28T20:38:10.245Z"
   },
   {
    "duration": 697,
    "start_time": "2021-12-28T20:38:12.852Z"
   },
   {
    "duration": 17,
    "start_time": "2021-12-28T20:38:53.788Z"
   },
   {
    "duration": 7,
    "start_time": "2021-12-28T20:39:06.082Z"
   },
   {
    "duration": 19,
    "start_time": "2021-12-28T20:39:08.811Z"
   },
   {
    "duration": 7,
    "start_time": "2021-12-28T20:39:18.708Z"
   },
   {
    "duration": 9,
    "start_time": "2021-12-28T20:39:23.754Z"
   },
   {
    "duration": 7,
    "start_time": "2021-12-28T20:39:57.812Z"
   },
   {
    "duration": 6,
    "start_time": "2021-12-28T20:40:04.994Z"
   },
   {
    "duration": 8,
    "start_time": "2021-12-28T20:40:19.170Z"
   },
   {
    "duration": 8459,
    "start_time": "2021-12-28T20:42:04.306Z"
   },
   {
    "duration": 111,
    "start_time": "2021-12-28T20:44:06.398Z"
   },
   {
    "duration": -238,
    "start_time": "2021-12-28T20:44:22.289Z"
   },
   {
    "duration": -243,
    "start_time": "2021-12-28T20:44:22.295Z"
   },
   {
    "duration": 7,
    "start_time": "2021-12-28T20:45:22.059Z"
   },
   {
    "duration": 6,
    "start_time": "2021-12-28T20:45:31.953Z"
   },
   {
    "duration": 7,
    "start_time": "2021-12-28T20:45:37.897Z"
   },
   {
    "duration": 7,
    "start_time": "2021-12-28T20:46:03.216Z"
   },
   {
    "duration": 11,
    "start_time": "2021-12-28T20:46:25.350Z"
   },
   {
    "duration": 19,
    "start_time": "2021-12-28T20:46:40.169Z"
   },
   {
    "duration": 6,
    "start_time": "2021-12-28T20:47:11.885Z"
   },
   {
    "duration": 5,
    "start_time": "2021-12-28T20:47:14.411Z"
   },
   {
    "duration": 675,
    "start_time": "2021-12-28T20:47:31.552Z"
   },
   {
    "duration": 8498,
    "start_time": "2021-12-28T20:47:36.276Z"
   },
   {
    "duration": 11,
    "start_time": "2021-12-28T20:47:48.758Z"
   },
   {
    "duration": 23,
    "start_time": "2021-12-28T20:47:56.376Z"
   },
   {
    "duration": 30,
    "start_time": "2021-12-28T20:48:01.155Z"
   },
   {
    "duration": 4,
    "start_time": "2021-12-28T20:48:07.963Z"
   },
   {
    "duration": 6,
    "start_time": "2021-12-28T20:48:34.122Z"
   },
   {
    "duration": 7,
    "start_time": "2021-12-28T20:48:55.502Z"
   },
   {
    "duration": 20,
    "start_time": "2021-12-28T20:49:24.933Z"
   },
   {
    "duration": 644,
    "start_time": "2021-12-28T20:55:25.590Z"
   },
   {
    "duration": 6,
    "start_time": "2021-12-28T20:55:29.692Z"
   },
   {
    "duration": 8,
    "start_time": "2021-12-28T20:55:30.922Z"
   },
   {
    "duration": 5,
    "start_time": "2021-12-28T20:55:32.320Z"
   },
   {
    "duration": 8,
    "start_time": "2021-12-28T20:55:33.345Z"
   },
   {
    "duration": 4,
    "start_time": "2021-12-28T20:55:35.036Z"
   },
   {
    "duration": 19,
    "start_time": "2021-12-28T20:55:37.390Z"
   },
   {
    "duration": 7,
    "start_time": "2021-12-28T20:55:39.765Z"
   },
   {
    "duration": 9,
    "start_time": "2021-12-28T20:55:41.652Z"
   },
   {
    "duration": 8,
    "start_time": "2021-12-28T20:55:43.218Z"
   },
   {
    "duration": 7,
    "start_time": "2021-12-28T20:55:44.979Z"
   },
   {
    "duration": 7,
    "start_time": "2021-12-28T20:55:47.207Z"
   },
   {
    "duration": 1258,
    "start_time": "2021-12-28T20:55:50.007Z"
   },
   {
    "duration": 977,
    "start_time": "2021-12-28T20:55:52.213Z"
   },
   {
    "duration": 27,
    "start_time": "2021-12-28T20:55:56.504Z"
   },
   {
    "duration": 6,
    "start_time": "2021-12-28T20:56:01.658Z"
   },
   {
    "duration": 20,
    "start_time": "2021-12-28T20:56:04.306Z"
   },
   {
    "duration": 7,
    "start_time": "2021-12-28T20:56:09.919Z"
   },
   {
    "duration": 9,
    "start_time": "2021-12-28T20:56:11.544Z"
   },
   {
    "duration": 9,
    "start_time": "2021-12-28T20:56:15.904Z"
   },
   {
    "duration": 6,
    "start_time": "2021-12-28T20:56:18.565Z"
   },
   {
    "duration": 7,
    "start_time": "2021-12-28T20:56:20.289Z"
   },
   {
    "duration": 13,
    "start_time": "2021-12-28T20:56:24.945Z"
   },
   {
    "duration": 22,
    "start_time": "2021-12-28T20:56:34.946Z"
   },
   {
    "duration": 7,
    "start_time": "2021-12-28T20:57:16.382Z"
   },
   {
    "duration": 5,
    "start_time": "2021-12-28T20:57:18.177Z"
   },
   {
    "duration": 718,
    "start_time": "2021-12-28T20:57:28.997Z"
   },
   {
    "duration": 8875,
    "start_time": "2021-12-28T20:57:43.880Z"
   },
   {
    "duration": 11,
    "start_time": "2021-12-28T20:57:54.047Z"
   },
   {
    "duration": 34,
    "start_time": "2021-12-28T20:57:58.247Z"
   },
   {
    "duration": 33,
    "start_time": "2021-12-28T20:58:47.719Z"
   },
   {
    "duration": 25,
    "start_time": "2021-12-28T21:01:04.994Z"
   },
   {
    "duration": 4,
    "start_time": "2021-12-28T21:15:38.386Z"
   },
   {
    "duration": 16,
    "start_time": "2021-12-28T21:16:29.637Z"
   },
   {
    "duration": 20,
    "start_time": "2021-12-28T21:18:31.550Z"
   },
   {
    "duration": 34,
    "start_time": "2021-12-28T21:18:44.829Z"
   },
   {
    "duration": 430,
    "start_time": "2021-12-28T21:19:51.769Z"
   },
   {
    "duration": 21,
    "start_time": "2021-12-28T21:19:57.508Z"
   },
   {
    "duration": 8208,
    "start_time": "2021-12-28T21:20:09.061Z"
   },
   {
    "duration": 25,
    "start_time": "2021-12-28T21:20:24.451Z"
   },
   {
    "duration": 19,
    "start_time": "2021-12-28T21:20:35.454Z"
   },
   {
    "duration": 22,
    "start_time": "2021-12-28T21:22:43.108Z"
   },
   {
    "duration": 15,
    "start_time": "2021-12-28T21:22:46.086Z"
   },
   {
    "duration": 25,
    "start_time": "2021-12-28T21:23:28.746Z"
   },
   {
    "duration": 24,
    "start_time": "2021-12-28T21:24:07.770Z"
   },
   {
    "duration": 15,
    "start_time": "2021-12-28T21:44:49.525Z"
   },
   {
    "duration": 14,
    "start_time": "2021-12-28T21:45:19.426Z"
   },
   {
    "duration": 12,
    "start_time": "2021-12-28T22:00:49.327Z"
   },
   {
    "duration": 3396,
    "start_time": "2021-12-28T22:04:02.389Z"
   },
   {
    "duration": 504,
    "start_time": "2021-12-29T06:32:00.194Z"
   },
   {
    "duration": 129,
    "start_time": "2021-12-29T06:32:06.598Z"
   },
   {
    "duration": 318,
    "start_time": "2021-12-29T06:32:09.479Z"
   },
   {
    "duration": 337,
    "start_time": "2021-12-29T06:32:13.461Z"
   },
   {
    "duration": 10,
    "start_time": "2021-12-29T06:32:19.594Z"
   },
   {
    "duration": 7,
    "start_time": "2021-12-29T06:32:30.916Z"
   },
   {
    "duration": 11,
    "start_time": "2021-12-29T06:33:46.464Z"
   },
   {
    "duration": 6,
    "start_time": "2021-12-29T06:33:54.386Z"
   },
   {
    "duration": 10,
    "start_time": "2021-12-29T06:34:09.354Z"
   },
   {
    "duration": 8,
    "start_time": "2021-12-29T06:39:32.415Z"
   },
   {
    "duration": 8,
    "start_time": "2021-12-29T06:39:57.074Z"
   },
   {
    "duration": 61,
    "start_time": "2021-12-29T06:40:18.742Z"
   },
   {
    "duration": 6,
    "start_time": "2021-12-29T06:41:47.236Z"
   },
   {
    "duration": 5,
    "start_time": "2021-12-29T06:42:58.061Z"
   },
   {
    "duration": 6,
    "start_time": "2021-12-29T06:43:10.074Z"
   },
   {
    "duration": 58,
    "start_time": "2021-12-29T06:43:19.087Z"
   },
   {
    "duration": 7,
    "start_time": "2021-12-29T06:43:36.356Z"
   },
   {
    "duration": 8,
    "start_time": "2021-12-29T06:43:52.415Z"
   },
   {
    "duration": 289,
    "start_time": "2021-12-29T06:43:59.722Z"
   },
   {
    "duration": 14,
    "start_time": "2021-12-29T06:44:04.765Z"
   },
   {
    "duration": 5,
    "start_time": "2021-12-29T06:44:47.263Z"
   },
   {
    "duration": 280,
    "start_time": "2021-12-29T06:45:08.692Z"
   },
   {
    "duration": 6,
    "start_time": "2021-12-29T06:45:30.545Z"
   },
   {
    "duration": 335,
    "start_time": "2021-12-29T06:45:36.738Z"
   },
   {
    "duration": 6,
    "start_time": "2021-12-29T06:45:45.274Z"
   },
   {
    "duration": 456,
    "start_time": "2021-12-29T06:45:55.237Z"
   },
   {
    "duration": 7,
    "start_time": "2021-12-29T06:46:11.989Z"
   },
   {
    "duration": 5,
    "start_time": "2021-12-29T06:46:28.519Z"
   },
   {
    "duration": 6,
    "start_time": "2021-12-29T06:46:36.556Z"
   },
   {
    "duration": 7,
    "start_time": "2021-12-29T06:46:41.764Z"
   },
   {
    "duration": 13,
    "start_time": "2021-12-29T06:47:30.047Z"
   },
   {
    "duration": 13,
    "start_time": "2021-12-29T06:48:38.182Z"
   },
   {
    "duration": 8,
    "start_time": "2021-12-29T06:49:01.115Z"
   },
   {
    "duration": 7,
    "start_time": "2021-12-29T06:49:14.387Z"
   },
   {
    "duration": 8,
    "start_time": "2021-12-29T06:49:31.577Z"
   },
   {
    "duration": 13,
    "start_time": "2021-12-29T06:51:26.444Z"
   },
   {
    "duration": 5,
    "start_time": "2021-12-29T06:51:55.954Z"
   },
   {
    "duration": -118,
    "start_time": "2021-12-29T06:58:56.257Z"
   },
   {
    "duration": 4566,
    "start_time": "2021-12-29T06:59:55.566Z"
   },
   {
    "duration": -83,
    "start_time": "2021-12-29T07:00:16.969Z"
   },
   {
    "duration": 661,
    "start_time": "2021-12-29T07:00:30.406Z"
   },
   {
    "duration": 7382,
    "start_time": "2021-12-29T07:00:34.339Z"
   },
   {
    "duration": 2094,
    "start_time": "2021-12-29T07:01:09.046Z"
   },
   {
    "duration": 573,
    "start_time": "2021-12-29T07:01:13.505Z"
   },
   {
    "duration": 12,
    "start_time": "2021-12-29T07:01:20.708Z"
   },
   {
    "duration": 4,
    "start_time": "2021-12-29T07:01:22.915Z"
   },
   {
    "duration": 6,
    "start_time": "2021-12-29T07:01:24.159Z"
   },
   {
    "duration": 618,
    "start_time": "2021-12-29T07:01:33.169Z"
   },
   {
    "duration": 371,
    "start_time": "2021-12-29T07:01:40.240Z"
   },
   {
    "duration": 6,
    "start_time": "2021-12-29T07:01:52.758Z"
   },
   {
    "duration": 4,
    "start_time": "2021-12-29T07:01:53.893Z"
   },
   {
    "duration": 6,
    "start_time": "2021-12-29T07:01:55.154Z"
   },
   {
    "duration": 789,
    "start_time": "2021-12-29T07:02:07.077Z"
   },
   {
    "duration": 6,
    "start_time": "2021-12-29T07:02:09.463Z"
   },
   {
    "duration": 8,
    "start_time": "2021-12-29T07:02:09.869Z"
   },
   {
    "duration": 7,
    "start_time": "2021-12-29T07:02:10.263Z"
   },
   {
    "duration": 7,
    "start_time": "2021-12-29T07:02:10.701Z"
   },
   {
    "duration": 4,
    "start_time": "2021-12-29T07:02:11.425Z"
   },
   {
    "duration": 12,
    "start_time": "2021-12-29T07:02:11.997Z"
   },
   {
    "duration": 5,
    "start_time": "2021-12-29T07:02:12.308Z"
   },
   {
    "duration": 4,
    "start_time": "2021-12-29T07:02:14.049Z"
   },
   {
    "duration": 6,
    "start_time": "2021-12-29T07:02:16.641Z"
   },
   {
    "duration": 15,
    "start_time": "2021-12-29T07:02:17.845Z"
   },
   {
    "duration": 9,
    "start_time": "2021-12-29T07:02:24.160Z"
   },
   {
    "duration": 11,
    "start_time": "2021-12-29T07:02:38.108Z"
   },
   {
    "duration": 11,
    "start_time": "2021-12-29T07:03:06.630Z"
   },
   {
    "duration": 8,
    "start_time": "2021-12-29T07:38:25.775Z"
   },
   {
    "duration": 8,
    "start_time": "2021-12-29T07:38:30.215Z"
   },
   {
    "duration": 9,
    "start_time": "2021-12-29T07:39:06.662Z"
   },
   {
    "duration": 7,
    "start_time": "2021-12-29T07:39:17.003Z"
   },
   {
    "duration": 9,
    "start_time": "2021-12-29T07:39:22.760Z"
   },
   {
    "duration": 7,
    "start_time": "2021-12-29T09:01:37.629Z"
   },
   {
    "duration": 10,
    "start_time": "2021-12-29T09:11:13.782Z"
   },
   {
    "duration": 10,
    "start_time": "2021-12-29T09:12:42.554Z"
   },
   {
    "duration": 4,
    "start_time": "2021-12-29T09:12:55.898Z"
   },
   {
    "duration": 5,
    "start_time": "2021-12-29T09:13:54.700Z"
   },
   {
    "duration": 6,
    "start_time": "2021-12-29T09:14:40.121Z"
   },
   {
    "duration": 9,
    "start_time": "2021-12-29T09:16:07.895Z"
   },
   {
    "duration": 7,
    "start_time": "2021-12-29T09:16:33.633Z"
   },
   {
    "duration": 9,
    "start_time": "2021-12-29T09:16:50.287Z"
   },
   {
    "duration": 10,
    "start_time": "2021-12-29T09:17:16.850Z"
   },
   {
    "duration": 11,
    "start_time": "2021-12-29T09:19:05.071Z"
   },
   {
    "duration": 13,
    "start_time": "2021-12-29T09:26:27.783Z"
   },
   {
    "duration": 14,
    "start_time": "2021-12-29T09:26:51.547Z"
   },
   {
    "duration": 13,
    "start_time": "2021-12-29T09:27:04.832Z"
   },
   {
    "duration": 13,
    "start_time": "2021-12-29T09:27:52.071Z"
   },
   {
    "duration": 14,
    "start_time": "2021-12-29T09:28:41.462Z"
   },
   {
    "duration": 9,
    "start_time": "2021-12-29T09:30:21.786Z"
   },
   {
    "duration": 11,
    "start_time": "2021-12-29T09:35:54.618Z"
   },
   {
    "duration": 109,
    "start_time": "2021-12-29T09:37:18.833Z"
   },
   {
    "duration": 780,
    "start_time": "2021-12-29T09:37:30.815Z"
   },
   {
    "duration": 381,
    "start_time": "2021-12-29T09:37:55.352Z"
   },
   {
    "duration": 195,
    "start_time": "2021-12-29T09:39:31.158Z"
   },
   {
    "duration": 380,
    "start_time": "2021-12-29T09:40:12.105Z"
   },
   {
    "duration": 126,
    "start_time": "2021-12-29T09:48:52.959Z"
   },
   {
    "duration": 10,
    "start_time": "2021-12-29T10:08:11.337Z"
   },
   {
    "duration": 140,
    "start_time": "2021-12-29T10:08:19.958Z"
   },
   {
    "duration": 144,
    "start_time": "2021-12-29T10:08:40.873Z"
   },
   {
    "duration": 11,
    "start_time": "2021-12-29T10:10:53.047Z"
   },
   {
    "duration": 131,
    "start_time": "2021-12-29T10:13:44.671Z"
   },
   {
    "duration": 6,
    "start_time": "2021-12-29T10:13:44.810Z"
   },
   {
    "duration": 658,
    "start_time": "2021-12-29T10:13:44.818Z"
   },
   {
    "duration": 5,
    "start_time": "2021-12-29T10:13:47.980Z"
   },
   {
    "duration": 7596,
    "start_time": "2021-12-29T10:13:53.400Z"
   },
   {
    "duration": 11,
    "start_time": "2021-12-29T10:14:02.555Z"
   },
   {
    "duration": 14,
    "start_time": "2021-12-29T10:14:31.360Z"
   },
   {
    "duration": 138,
    "start_time": "2021-12-29T10:14:43.918Z"
   },
   {
    "duration": 283759,
    "start_time": "2021-12-29T10:42:14.130Z"
   },
   {
    "duration": 830,
    "start_time": "2021-12-29T14:41:04.600Z"
   },
   {
    "duration": 8,
    "start_time": "2021-12-29T14:41:05.642Z"
   },
   {
    "duration": 10,
    "start_time": "2021-12-29T14:41:06.131Z"
   },
   {
    "duration": 8,
    "start_time": "2021-12-29T14:41:10.577Z"
   },
   {
    "duration": 12,
    "start_time": "2021-12-29T14:41:11.207Z"
   },
   {
    "duration": 5,
    "start_time": "2021-12-29T14:41:12.494Z"
   },
   {
    "duration": 16,
    "start_time": "2021-12-29T14:41:13.516Z"
   },
   {
    "duration": 8,
    "start_time": "2021-12-29T14:41:14.053Z"
   },
   {
    "duration": 4,
    "start_time": "2021-12-29T14:41:14.507Z"
   },
   {
    "duration": 8,
    "start_time": "2021-12-29T14:41:16.437Z"
   },
   {
    "duration": 20,
    "start_time": "2021-12-29T14:41:17.080Z"
   },
   {
    "duration": 15,
    "start_time": "2021-12-29T14:41:18.187Z"
   },
   {
    "duration": 12,
    "start_time": "2021-12-29T14:41:19.221Z"
   },
   {
    "duration": 9,
    "start_time": "2021-12-29T14:41:20.069Z"
   },
   {
    "duration": 9,
    "start_time": "2021-12-29T14:41:21.230Z"
   },
   {
    "duration": 8,
    "start_time": "2021-12-29T14:41:22.124Z"
   },
   {
    "duration": 1657,
    "start_time": "2021-12-29T14:41:23.585Z"
   },
   {
    "duration": 998,
    "start_time": "2021-12-29T14:41:26.591Z"
   },
   {
    "duration": 28,
    "start_time": "2021-12-29T14:41:28.973Z"
   },
   {
    "duration": 8,
    "start_time": "2021-12-29T14:41:33.559Z"
   },
   {
    "duration": 30,
    "start_time": "2021-12-29T14:41:35.136Z"
   },
   {
    "duration": 9,
    "start_time": "2021-12-29T14:41:46.659Z"
   },
   {
    "duration": 13,
    "start_time": "2021-12-29T14:41:50.191Z"
   },
   {
    "duration": 9,
    "start_time": "2021-12-29T14:42:15.449Z"
   },
   {
    "duration": 9,
    "start_time": "2021-12-29T14:42:17.237Z"
   },
   {
    "duration": 12,
    "start_time": "2021-12-29T14:42:18.947Z"
   },
   {
    "duration": 15,
    "start_time": "2021-12-29T14:42:20.594Z"
   },
   {
    "duration": 28,
    "start_time": "2021-12-29T14:42:22.573Z"
   },
   {
    "duration": 28,
    "start_time": "2021-12-29T14:42:25.107Z"
   },
   {
    "duration": 30,
    "start_time": "2021-12-29T14:42:26.515Z"
   },
   {
    "duration": 27,
    "start_time": "2021-12-29T14:42:28.611Z"
   },
   {
    "duration": 27,
    "start_time": "2021-12-29T14:42:30.001Z"
   },
   {
    "duration": 7,
    "start_time": "2021-12-29T14:42:32.923Z"
   },
   {
    "duration": 950,
    "start_time": "2021-12-29T14:42:34.951Z"
   },
   {
    "duration": 11706,
    "start_time": "2021-12-29T14:42:38.861Z"
   },
   {
    "duration": 14,
    "start_time": "2021-12-29T14:42:50.570Z"
   },
   {
    "duration": 17,
    "start_time": "2021-12-29T14:42:50.824Z"
   },
   {
    "duration": 115,
    "start_time": "2021-12-29T14:42:51.676Z"
   },
   {
    "duration": 251,
    "start_time": "2021-12-29T14:43:00.867Z"
   },
   {
    "duration": 230,
    "start_time": "2021-12-29T14:43:09.105Z"
   },
   {
    "duration": 9696,
    "start_time": "2021-12-29T14:43:36.139Z"
   },
   {
    "duration": 9,
    "start_time": "2021-12-29T14:44:05.165Z"
   },
   {
    "duration": 10,
    "start_time": "2021-12-29T14:44:24.508Z"
   },
   {
    "duration": 252,
    "start_time": "2021-12-29T14:57:13.309Z"
   },
   {
    "duration": 9,
    "start_time": "2021-12-29T15:08:05.852Z"
   },
   {
    "duration": 8,
    "start_time": "2021-12-29T15:08:10.611Z"
   },
   {
    "duration": 253,
    "start_time": "2021-12-29T15:08:21.232Z"
   },
   {
    "duration": 9,
    "start_time": "2021-12-29T15:29:39.964Z"
   },
   {
    "duration": 11,
    "start_time": "2021-12-29T15:29:41.196Z"
   },
   {
    "duration": 607,
    "start_time": "2021-12-30T15:57:41.391Z"
   },
   {
    "duration": 5,
    "start_time": "2021-12-30T15:57:42.000Z"
   },
   {
    "duration": 8,
    "start_time": "2021-12-30T15:57:42.007Z"
   },
   {
    "duration": 4,
    "start_time": "2021-12-30T15:57:42.017Z"
   },
   {
    "duration": 7,
    "start_time": "2021-12-30T15:57:42.023Z"
   },
   {
    "duration": 4,
    "start_time": "2021-12-30T15:57:42.031Z"
   },
   {
    "duration": 9,
    "start_time": "2021-12-30T15:57:42.036Z"
   },
   {
    "duration": 4,
    "start_time": "2021-12-30T15:57:42.046Z"
   },
   {
    "duration": 5,
    "start_time": "2021-12-30T15:57:42.052Z"
   },
   {
    "duration": 6,
    "start_time": "2021-12-30T15:57:42.058Z"
   },
   {
    "duration": 11,
    "start_time": "2021-12-30T15:57:42.066Z"
   },
   {
    "duration": 9,
    "start_time": "2021-12-30T15:57:42.078Z"
   },
   {
    "duration": 6,
    "start_time": "2021-12-30T15:57:42.088Z"
   },
   {
    "duration": 6,
    "start_time": "2021-12-30T15:57:42.127Z"
   },
   {
    "duration": 6,
    "start_time": "2021-12-30T15:57:42.135Z"
   },
   {
    "duration": 5,
    "start_time": "2021-12-30T15:57:42.142Z"
   },
   {
    "duration": 1043,
    "start_time": "2021-12-30T15:57:42.148Z"
   },
   {
    "duration": 574,
    "start_time": "2021-12-30T15:57:43.192Z"
   },
   {
    "duration": 15,
    "start_time": "2021-12-30T15:57:43.768Z"
   },
   {
    "duration": 7,
    "start_time": "2021-12-30T15:57:43.784Z"
   },
   {
    "duration": 17,
    "start_time": "2021-12-30T15:57:43.792Z"
   },
   {
    "duration": 5,
    "start_time": "2021-12-30T15:57:43.826Z"
   },
   {
    "duration": 9,
    "start_time": "2021-12-30T15:57:43.833Z"
   },
   {
    "duration": 7,
    "start_time": "2021-12-30T15:57:43.844Z"
   },
   {
    "duration": 5,
    "start_time": "2021-12-30T15:57:43.853Z"
   },
   {
    "duration": 11,
    "start_time": "2021-12-30T15:57:43.859Z"
   },
   {
    "duration": 10,
    "start_time": "2021-12-30T15:57:43.873Z"
   },
   {
    "duration": 44,
    "start_time": "2021-12-30T15:57:43.885Z"
   },
   {
    "duration": 43,
    "start_time": "2021-12-30T15:57:43.931Z"
   },
   {
    "duration": 106,
    "start_time": "2021-12-30T15:57:43.976Z"
   },
   {
    "duration": 129,
    "start_time": "2021-12-30T15:57:44.084Z"
   },
   {
    "duration": 92,
    "start_time": "2021-12-30T15:57:44.215Z"
   },
   {
    "duration": 38,
    "start_time": "2021-12-30T15:57:44.309Z"
   },
   {
    "duration": 659,
    "start_time": "2021-12-30T15:57:44.349Z"
   },
   {
    "duration": 6940,
    "start_time": "2021-12-30T15:57:45.010Z"
   },
   {
    "duration": 10,
    "start_time": "2021-12-30T15:57:51.951Z"
   },
   {
    "duration": 10,
    "start_time": "2021-12-30T15:57:51.963Z"
   },
   {
    "duration": 144,
    "start_time": "2021-12-30T15:57:51.974Z"
   },
   {
    "duration": 141,
    "start_time": "2021-12-30T15:57:52.120Z"
   },
   {
    "duration": 5,
    "start_time": "2021-12-30T15:57:52.263Z"
   },
   {
    "duration": 5,
    "start_time": "2021-12-30T15:57:52.270Z"
   },
   {
    "duration": 5,
    "start_time": "2021-12-30T15:57:52.276Z"
   },
   {
    "duration": 5,
    "start_time": "2021-12-30T15:57:52.282Z"
   },
   {
    "duration": 152,
    "start_time": "2021-12-30T15:57:52.288Z"
   },
   {
    "duration": 87,
    "start_time": "2021-12-30T15:57:52.442Z"
   },
   {
    "duration": -31138,
    "start_time": "2021-12-30T15:58:23.668Z"
   },
   {
    "duration": 5,
    "start_time": "2021-12-30T16:04:07.653Z"
   },
   {
    "duration": 4,
    "start_time": "2021-12-30T16:04:14.274Z"
   },
   {
    "duration": 7,
    "start_time": "2021-12-30T16:06:44.064Z"
   },
   {
    "duration": 10,
    "start_time": "2021-12-30T16:15:42.219Z"
   },
   {
    "duration": 603,
    "start_time": "2021-12-30T16:35:17.923Z"
   },
   {
    "duration": 5,
    "start_time": "2021-12-30T16:35:18.528Z"
   },
   {
    "duration": 12,
    "start_time": "2021-12-30T16:35:18.534Z"
   },
   {
    "duration": 5,
    "start_time": "2021-12-30T16:35:18.548Z"
   },
   {
    "duration": 5,
    "start_time": "2021-12-30T16:35:18.555Z"
   },
   {
    "duration": 6,
    "start_time": "2021-12-30T16:35:18.562Z"
   },
   {
    "duration": 3,
    "start_time": "2021-12-30T16:35:18.569Z"
   },
   {
    "duration": 9,
    "start_time": "2021-12-30T16:35:18.573Z"
   },
   {
    "duration": 4,
    "start_time": "2021-12-30T16:35:18.584Z"
   },
   {
    "duration": 38,
    "start_time": "2021-12-30T16:35:18.590Z"
   },
   {
    "duration": 8,
    "start_time": "2021-12-30T16:35:18.630Z"
   },
   {
    "duration": 8,
    "start_time": "2021-12-30T16:35:18.639Z"
   },
   {
    "duration": 8,
    "start_time": "2021-12-30T16:35:18.648Z"
   },
   {
    "duration": 7,
    "start_time": "2021-12-30T16:35:18.657Z"
   },
   {
    "duration": 8,
    "start_time": "2021-12-30T16:35:18.665Z"
   },
   {
    "duration": 5,
    "start_time": "2021-12-30T16:35:18.674Z"
   },
   {
    "duration": 5,
    "start_time": "2021-12-30T16:35:18.680Z"
   },
   {
    "duration": 1075,
    "start_time": "2021-12-30T16:35:18.686Z"
   },
   {
    "duration": 566,
    "start_time": "2021-12-30T16:35:19.762Z"
   },
   {
    "duration": 15,
    "start_time": "2021-12-30T16:35:20.329Z"
   },
   {
    "duration": 6,
    "start_time": "2021-12-30T16:35:20.346Z"
   },
   {
    "duration": 18,
    "start_time": "2021-12-30T16:35:20.354Z"
   },
   {
    "duration": 5,
    "start_time": "2021-12-30T16:35:20.373Z"
   },
   {
    "duration": 9,
    "start_time": "2021-12-30T16:35:20.380Z"
   },
   {
    "duration": 7,
    "start_time": "2021-12-30T16:35:20.390Z"
   },
   {
    "duration": 3,
    "start_time": "2021-12-30T16:35:20.427Z"
   },
   {
    "duration": 5,
    "start_time": "2021-12-30T16:35:20.433Z"
   },
   {
    "duration": 11,
    "start_time": "2021-12-30T16:35:31.062Z"
   },
   {
    "duration": 7,
    "start_time": "2021-12-30T16:36:21.427Z"
   },
   {
    "duration": 19,
    "start_time": "2021-12-30T16:38:23.576Z"
   },
   {
    "duration": 7,
    "start_time": "2021-12-30T16:38:30.619Z"
   },
   {
    "duration": 7,
    "start_time": "2021-12-30T16:38:34.101Z"
   },
   {
    "duration": 19,
    "start_time": "2021-12-30T16:38:52.459Z"
   },
   {
    "duration": 7,
    "start_time": "2021-12-30T16:39:25.997Z"
   },
   {
    "duration": 8,
    "start_time": "2021-12-30T16:39:29.084Z"
   },
   {
    "duration": 8,
    "start_time": "2021-12-30T16:40:33.400Z"
   },
   {
    "duration": 7,
    "start_time": "2021-12-30T16:41:43.561Z"
   },
   {
    "duration": 8,
    "start_time": "2021-12-30T16:42:09.076Z"
   },
   {
    "duration": 6,
    "start_time": "2021-12-30T16:42:27.001Z"
   },
   {
    "duration": 18,
    "start_time": "2021-12-30T16:46:06.717Z"
   },
   {
    "duration": 18,
    "start_time": "2021-12-30T16:46:14.473Z"
   },
   {
    "duration": 16,
    "start_time": "2021-12-30T16:48:22.829Z"
   },
   {
    "duration": 12,
    "start_time": "2021-12-30T16:50:05.201Z"
   },
   {
    "duration": 5,
    "start_time": "2021-12-30T16:54:46.440Z"
   },
   {
    "duration": 602,
    "start_time": "2021-12-30T16:56:00.075Z"
   },
   {
    "duration": 6772,
    "start_time": "2021-12-30T17:07:14.090Z"
   },
   {
    "duration": 11,
    "start_time": "2021-12-30T17:14:13.574Z"
   },
   {
    "duration": 7310,
    "start_time": "2021-12-30T17:19:50.186Z"
   },
   {
    "duration": 9755,
    "start_time": "2021-12-30T17:20:22.404Z"
   },
   {
    "duration": 5,
    "start_time": "2021-12-30T17:21:30.502Z"
   },
   {
    "duration": 40005,
    "start_time": "2021-12-30T17:22:16.602Z"
   },
   {
    "duration": 588,
    "start_time": "2021-12-30T17:22:56.021Z"
   },
   {
    "duration": 499,
    "start_time": "2021-12-30T17:23:02.252Z"
   },
   {
    "duration": 3,
    "start_time": "2021-12-30T17:23:05.869Z"
   },
   {
    "duration": 477,
    "start_time": "2021-12-30T17:23:08.690Z"
   },
   {
    "duration": 3,
    "start_time": "2021-12-30T17:23:37.511Z"
   },
   {
    "duration": 3,
    "start_time": "2021-12-30T17:24:04.685Z"
   },
   {
    "duration": 3,
    "start_time": "2021-12-30T17:24:24.081Z"
   },
   {
    "duration": 507,
    "start_time": "2021-12-30T17:24:26.000Z"
   },
   {
    "duration": 568,
    "start_time": "2021-12-30T17:25:07.373Z"
   },
   {
    "duration": 4,
    "start_time": "2021-12-30T17:25:07.943Z"
   },
   {
    "duration": 11,
    "start_time": "2021-12-30T17:25:07.949Z"
   },
   {
    "duration": 29,
    "start_time": "2021-12-30T17:25:07.962Z"
   },
   {
    "duration": 5,
    "start_time": "2021-12-30T17:25:07.993Z"
   },
   {
    "duration": 16,
    "start_time": "2021-12-30T17:25:07.999Z"
   },
   {
    "duration": 17,
    "start_time": "2021-12-30T17:25:08.016Z"
   },
   {
    "duration": 20,
    "start_time": "2021-12-30T17:25:08.035Z"
   },
   {
    "duration": 4,
    "start_time": "2021-12-30T17:25:08.057Z"
   },
   {
    "duration": 14,
    "start_time": "2021-12-30T17:25:08.062Z"
   },
   {
    "duration": 17,
    "start_time": "2021-12-30T17:25:08.077Z"
   },
   {
    "duration": 29,
    "start_time": "2021-12-30T17:25:08.095Z"
   },
   {
    "duration": 9,
    "start_time": "2021-12-30T17:25:08.126Z"
   },
   {
    "duration": 14,
    "start_time": "2021-12-30T17:25:08.137Z"
   },
   {
    "duration": 12,
    "start_time": "2021-12-30T17:25:08.153Z"
   },
   {
    "duration": 11,
    "start_time": "2021-12-30T17:25:08.167Z"
   },
   {
    "duration": 11,
    "start_time": "2021-12-30T17:25:08.179Z"
   },
   {
    "duration": 1168,
    "start_time": "2021-12-30T17:25:08.192Z"
   },
   {
    "duration": 580,
    "start_time": "2021-12-30T17:25:09.361Z"
   },
   {
    "duration": 16,
    "start_time": "2021-12-30T17:25:09.943Z"
   },
   {
    "duration": 6,
    "start_time": "2021-12-30T17:25:09.961Z"
   },
   {
    "duration": 17,
    "start_time": "2021-12-30T17:25:09.969Z"
   },
   {
    "duration": 5,
    "start_time": "2021-12-30T17:25:09.989Z"
   },
   {
    "duration": 7,
    "start_time": "2021-12-30T17:25:10.026Z"
   },
   {
    "duration": 7,
    "start_time": "2021-12-30T17:25:10.035Z"
   },
   {
    "duration": 6,
    "start_time": "2021-12-30T17:25:10.044Z"
   },
   {
    "duration": 8,
    "start_time": "2021-12-30T17:25:10.051Z"
   },
   {
    "duration": 9,
    "start_time": "2021-12-30T17:25:10.060Z"
   },
   {
    "duration": 16,
    "start_time": "2021-12-30T17:25:10.070Z"
   },
   {
    "duration": 42,
    "start_time": "2021-12-30T17:25:10.087Z"
   },
   {
    "duration": 18,
    "start_time": "2021-12-30T17:25:10.131Z"
   },
   {
    "duration": 15,
    "start_time": "2021-12-30T17:25:10.150Z"
   },
   {
    "duration": 11,
    "start_time": "2021-12-30T17:25:10.166Z"
   },
   {
    "duration": 4,
    "start_time": "2021-12-30T17:25:10.178Z"
   },
   {
    "duration": 627,
    "start_time": "2021-12-30T17:25:10.183Z"
   },
   {
    "duration": 3,
    "start_time": "2021-12-30T17:25:10.812Z"
   },
   {
    "duration": 3,
    "start_time": "2021-12-30T17:25:13.437Z"
   },
   {
    "duration": 4,
    "start_time": "2021-12-30T17:25:35.261Z"
   },
   {
    "duration": 585,
    "start_time": "2021-12-30T17:25:36.667Z"
   },
   {
    "duration": 4,
    "start_time": "2021-12-30T17:25:46.970Z"
   },
   {
    "duration": 21,
    "start_time": "2021-12-30T17:25:48.541Z"
   },
   {
    "duration": 4,
    "start_time": "2021-12-30T17:29:36.978Z"
   },
   {
    "duration": 22,
    "start_time": "2021-12-30T17:29:41.069Z"
   },
   {
    "duration": 6806,
    "start_time": "2021-12-30T17:30:20.800Z"
   },
   {
    "duration": 10,
    "start_time": "2021-12-30T17:31:24.974Z"
   },
   {
    "duration": 9,
    "start_time": "2021-12-30T17:33:39.477Z"
   },
   {
    "duration": 128,
    "start_time": "2021-12-30T17:35:22.872Z"
   },
   {
    "duration": 134,
    "start_time": "2021-12-30T17:40:37.827Z"
   },
   {
    "duration": 11,
    "start_time": "2021-12-30T17:44:53.714Z"
   },
   {
    "duration": 12,
    "start_time": "2021-12-30T17:44:57.131Z"
   },
   {
    "duration": 109,
    "start_time": "2021-12-30T17:45:04.748Z"
   },
   {
    "duration": 12,
    "start_time": "2021-12-30T17:45:22.614Z"
   },
   {
    "duration": 112,
    "start_time": "2021-12-30T17:45:27.820Z"
   },
   {
    "duration": 156,
    "start_time": "2021-12-30T17:45:55.818Z"
   },
   {
    "duration": 280,
    "start_time": "2021-12-30T17:46:14.434Z"
   },
   {
    "duration": 132,
    "start_time": "2021-12-30T17:46:26.971Z"
   },
   {
    "duration": 19,
    "start_time": "2021-12-30T17:49:52.502Z"
   },
   {
    "duration": 13,
    "start_time": "2021-12-30T17:51:50.786Z"
   },
   {
    "duration": 7,
    "start_time": "2021-12-30T17:52:06.987Z"
   },
   {
    "duration": 112,
    "start_time": "2021-12-30T17:55:47.496Z"
   },
   {
    "duration": 126,
    "start_time": "2021-12-30T17:55:56.398Z"
   },
   {
    "duration": 18,
    "start_time": "2021-12-30T17:56:01.005Z"
   },
   {
    "duration": 20,
    "start_time": "2021-12-30T17:56:22.518Z"
   },
   {
    "duration": 115,
    "start_time": "2021-12-30T17:56:56.934Z"
   },
   {
    "duration": 19,
    "start_time": "2021-12-30T17:57:05.843Z"
   },
   {
    "duration": 4,
    "start_time": "2021-12-30T17:57:30.989Z"
   },
   {
    "duration": 5,
    "start_time": "2021-12-30T17:57:43.985Z"
   },
   {
    "duration": 6,
    "start_time": "2021-12-30T17:58:59.614Z"
   },
   {
    "duration": 25,
    "start_time": "2021-12-30T18:00:11.661Z"
   },
   {
    "duration": 22,
    "start_time": "2021-12-30T18:00:25.979Z"
   },
   {
    "duration": 6,
    "start_time": "2021-12-30T18:01:26.313Z"
   },
   {
    "duration": 5,
    "start_time": "2021-12-30T18:01:53.290Z"
   },
   {
    "duration": 6,
    "start_time": "2021-12-30T18:02:07.163Z"
   },
   {
    "duration": 132,
    "start_time": "2021-12-30T18:02:10.365Z"
   },
   {
    "duration": 119,
    "start_time": "2021-12-30T18:02:55.043Z"
   },
   {
    "duration": 639,
    "start_time": "2021-12-30T18:05:45.604Z"
   },
   {
    "duration": 4,
    "start_time": "2021-12-30T18:05:46.245Z"
   },
   {
    "duration": 10,
    "start_time": "2021-12-30T18:05:46.251Z"
   },
   {
    "duration": 6,
    "start_time": "2021-12-30T18:05:46.262Z"
   },
   {
    "duration": 5,
    "start_time": "2021-12-30T18:05:46.270Z"
   },
   {
    "duration": 7,
    "start_time": "2021-12-30T18:05:46.276Z"
   },
   {
    "duration": 3,
    "start_time": "2021-12-30T18:05:46.285Z"
   },
   {
    "duration": 41,
    "start_time": "2021-12-30T18:05:46.290Z"
   },
   {
    "duration": 4,
    "start_time": "2021-12-30T18:05:46.332Z"
   },
   {
    "duration": 5,
    "start_time": "2021-12-30T18:05:46.337Z"
   },
   {
    "duration": 5,
    "start_time": "2021-12-30T18:05:46.344Z"
   },
   {
    "duration": 10,
    "start_time": "2021-12-30T18:05:46.350Z"
   },
   {
    "duration": 8,
    "start_time": "2021-12-30T18:05:46.362Z"
   },
   {
    "duration": 6,
    "start_time": "2021-12-30T18:05:46.372Z"
   },
   {
    "duration": 7,
    "start_time": "2021-12-30T18:05:46.379Z"
   },
   {
    "duration": 39,
    "start_time": "2021-12-30T18:05:46.388Z"
   },
   {
    "duration": 4,
    "start_time": "2021-12-30T18:05:46.429Z"
   },
   {
    "duration": 1056,
    "start_time": "2021-12-30T18:05:46.435Z"
   },
   {
    "duration": 583,
    "start_time": "2021-12-30T18:05:47.492Z"
   },
   {
    "duration": 17,
    "start_time": "2021-12-30T18:05:48.077Z"
   },
   {
    "duration": 7,
    "start_time": "2021-12-30T18:05:48.095Z"
   },
   {
    "duration": 34,
    "start_time": "2021-12-30T18:05:48.104Z"
   },
   {
    "duration": 5,
    "start_time": "2021-12-30T18:05:48.141Z"
   },
   {
    "duration": 10,
    "start_time": "2021-12-30T18:05:48.147Z"
   },
   {
    "duration": 6,
    "start_time": "2021-12-30T18:05:48.159Z"
   },
   {
    "duration": 5,
    "start_time": "2021-12-30T18:05:48.167Z"
   },
   {
    "duration": 6,
    "start_time": "2021-12-30T18:05:48.173Z"
   },
   {
    "duration": 8,
    "start_time": "2021-12-30T18:05:48.181Z"
   },
   {
    "duration": 46,
    "start_time": "2021-12-30T18:05:48.190Z"
   },
   {
    "duration": 17,
    "start_time": "2021-12-30T18:05:48.237Z"
   },
   {
    "duration": 17,
    "start_time": "2021-12-30T18:05:48.255Z"
   },
   {
    "duration": 14,
    "start_time": "2021-12-30T18:05:48.274Z"
   },
   {
    "duration": 11,
    "start_time": "2021-12-30T18:05:48.289Z"
   },
   {
    "duration": 29,
    "start_time": "2021-12-30T18:05:48.301Z"
   },
   {
    "duration": 614,
    "start_time": "2021-12-30T18:05:48.331Z"
   },
   {
    "duration": 7293,
    "start_time": "2021-12-30T18:05:48.946Z"
   },
   {
    "duration": 14,
    "start_time": "2021-12-30T18:05:56.241Z"
   },
   {
    "duration": 12,
    "start_time": "2021-12-30T18:05:56.257Z"
   },
   {
    "duration": 160,
    "start_time": "2021-12-30T18:05:56.271Z"
   },
   {
    "duration": 164,
    "start_time": "2021-12-30T18:05:56.433Z"
   },
   {
    "duration": 8,
    "start_time": "2021-12-30T18:05:56.598Z"
   },
   {
    "duration": 9,
    "start_time": "2021-12-30T18:05:56.607Z"
   },
   {
    "duration": 7,
    "start_time": "2021-12-30T18:05:56.627Z"
   },
   {
    "duration": 7,
    "start_time": "2021-12-30T18:05:56.636Z"
   },
   {
    "duration": 169,
    "start_time": "2021-12-30T18:05:56.645Z"
   },
   {
    "duration": 144,
    "start_time": "2021-12-30T18:05:56.815Z"
   },
   {
    "duration": 4,
    "start_time": "2021-12-30T18:12:37.549Z"
   },
   {
    "duration": 626,
    "start_time": "2021-12-30T18:44:40.695Z"
   },
   {
    "duration": 49,
    "start_time": "2021-12-30T18:46:07.718Z"
   },
   {
    "duration": 35,
    "start_time": "2021-12-30T18:46:10.143Z"
   },
   {
    "duration": 63,
    "start_time": "2021-12-30T19:03:35.739Z"
   },
   {
    "duration": 34,
    "start_time": "2021-12-30T19:03:39.494Z"
   },
   {
    "duration": 5,
    "start_time": "2021-12-30T19:11:02.653Z"
   },
   {
    "duration": 5,
    "start_time": "2021-12-30T19:11:16.950Z"
   },
   {
    "duration": 2,
    "start_time": "2021-12-30T19:12:27.186Z"
   },
   {
    "duration": 4,
    "start_time": "2021-12-30T19:15:11.722Z"
   },
   {
    "duration": 4,
    "start_time": "2021-12-30T19:15:15.707Z"
   },
   {
    "duration": 5,
    "start_time": "2021-12-30T19:15:43.191Z"
   },
   {
    "duration": 1021,
    "start_time": "2021-12-30T19:16:28.240Z"
   },
   {
    "duration": 7,
    "start_time": "2021-12-30T19:16:43.275Z"
   },
   {
    "duration": 2,
    "start_time": "2021-12-30T19:17:21.219Z"
   },
   {
    "duration": 11,
    "start_time": "2021-12-30T19:19:50.153Z"
   },
   {
    "duration": 146,
    "start_time": "2021-12-30T19:24:45.296Z"
   },
   {
    "duration": 136,
    "start_time": "2021-12-30T19:25:14.678Z"
   },
   {
    "duration": 66,
    "start_time": "2021-12-30T19:25:21.587Z"
   },
   {
    "duration": 32,
    "start_time": "2021-12-30T19:25:24.317Z"
   },
   {
    "duration": 5,
    "start_time": "2021-12-30T19:25:27.276Z"
   },
   {
    "duration": 2,
    "start_time": "2021-12-30T19:25:28.509Z"
   },
   {
    "duration": 8,
    "start_time": "2021-12-30T19:25:31.984Z"
   },
   {
    "duration": 7,
    "start_time": "2021-12-30T19:25:33.641Z"
   },
   {
    "duration": 9,
    "start_time": "2021-12-30T19:25:35.344Z"
   },
   {
    "duration": 4,
    "start_time": "2021-12-30T19:25:37.926Z"
   },
   {
    "duration": 12,
    "start_time": "2021-12-30T19:25:39.298Z"
   },
   {
    "duration": 5,
    "start_time": "2021-12-30T19:25:40.124Z"
   },
   {
    "duration": 4,
    "start_time": "2021-12-30T19:25:40.631Z"
   },
   {
    "duration": 7,
    "start_time": "2021-12-30T19:25:46.496Z"
   },
   {
    "duration": 13,
    "start_time": "2021-12-30T19:25:49.142Z"
   },
   {
    "duration": 12,
    "start_time": "2021-12-30T19:26:01.816Z"
   },
   {
    "duration": 21,
    "start_time": "2021-12-30T19:26:31.625Z"
   },
   {
    "duration": 14,
    "start_time": "2021-12-30T19:32:28.353Z"
   },
   {
    "duration": 9,
    "start_time": "2021-12-30T19:32:37.895Z"
   },
   {
    "duration": 6,
    "start_time": "2021-12-30T19:33:25.759Z"
   },
   {
    "duration": 155,
    "start_time": "2021-12-30T19:33:55.257Z"
   },
   {
    "duration": 8,
    "start_time": "2021-12-30T19:34:01.606Z"
   },
   {
    "duration": 6,
    "start_time": "2021-12-30T19:34:09.311Z"
   },
   {
    "duration": 12,
    "start_time": "2021-12-30T19:37:17.290Z"
   },
   {
    "duration": 5,
    "start_time": "2021-12-30T19:39:31.054Z"
   },
   {
    "duration": 10,
    "start_time": "2021-12-30T19:40:09.109Z"
   },
   {
    "duration": 3996,
    "start_time": "2021-12-30T19:45:50.038Z"
   },
   {
    "duration": 3145,
    "start_time": "2021-12-30T19:46:21.442Z"
   },
   {
    "duration": 879,
    "start_time": "2021-12-30T19:46:45.458Z"
   },
   {
    "duration": 3731,
    "start_time": "2021-12-30T19:47:30.548Z"
   },
   {
    "duration": 65,
    "start_time": "2021-12-30T19:47:44.172Z"
   },
   {
    "duration": 33,
    "start_time": "2021-12-30T19:47:45.616Z"
   },
   {
    "duration": 6,
    "start_time": "2021-12-30T19:47:46.462Z"
   },
   {
    "duration": 3,
    "start_time": "2021-12-30T19:47:46.901Z"
   },
   {
    "duration": 7,
    "start_time": "2021-12-30T19:47:47.556Z"
   },
   {
    "duration": 7,
    "start_time": "2021-12-30T19:47:48.005Z"
   },
   {
    "duration": 9,
    "start_time": "2021-12-30T19:47:48.484Z"
   },
   {
    "duration": 4,
    "start_time": "2021-12-30T19:47:49.636Z"
   },
   {
    "duration": 12,
    "start_time": "2021-12-30T19:47:50.173Z"
   },
   {
    "duration": 7,
    "start_time": "2021-12-30T19:47:50.683Z"
   },
   {
    "duration": 4,
    "start_time": "2021-12-30T19:47:50.941Z"
   },
   {
    "duration": 7,
    "start_time": "2021-12-30T19:47:52.408Z"
   },
   {
    "duration": 12,
    "start_time": "2021-12-30T19:47:52.676Z"
   },
   {
    "duration": 12,
    "start_time": "2021-12-30T19:47:53.478Z"
   },
   {
    "duration": 7,
    "start_time": "2021-12-30T19:47:54.502Z"
   },
   {
    "duration": 9,
    "start_time": "2021-12-30T19:47:55.136Z"
   },
   {
    "duration": 8,
    "start_time": "2021-12-30T19:47:55.746Z"
   },
   {
    "duration": 8,
    "start_time": "2021-12-30T19:47:56.906Z"
   },
   {
    "duration": 8,
    "start_time": "2021-12-30T19:47:57.487Z"
   },
   {
    "duration": 1163,
    "start_time": "2021-12-30T19:47:58.416Z"
   },
   {
    "duration": 661,
    "start_time": "2021-12-30T19:47:59.581Z"
   },
   {
    "duration": 18,
    "start_time": "2021-12-30T19:48:00.861Z"
   },
   {
    "duration": 7,
    "start_time": "2021-12-30T19:48:02.098Z"
   },
   {
    "duration": 21,
    "start_time": "2021-12-30T19:48:02.631Z"
   },
   {
    "duration": 6,
    "start_time": "2021-12-30T19:48:03.727Z"
   },
   {
    "duration": 9,
    "start_time": "2021-12-30T19:48:04.895Z"
   },
   {
    "duration": 12,
    "start_time": "2021-12-30T19:48:06.102Z"
   },
   {
    "duration": 7,
    "start_time": "2021-12-30T19:48:06.851Z"
   },
   {
    "duration": 6,
    "start_time": "2021-12-30T19:48:07.723Z"
   },
   {
    "duration": 7,
    "start_time": "2021-12-30T19:48:08.669Z"
   },
   {
    "duration": 9,
    "start_time": "2021-12-30T19:48:09.996Z"
   },
   {
    "duration": 11,
    "start_time": "2021-12-30T19:48:11.253Z"
   },
   {
    "duration": 21,
    "start_time": "2021-12-30T19:48:24.150Z"
   },
   {
    "duration": 1033,
    "start_time": "2021-12-30T19:48:30.263Z"
   },
   {
    "duration": 1614,
    "start_time": "2021-12-30T19:48:40.260Z"
   },
   {
    "duration": 15,
    "start_time": "2021-12-30T19:48:52.062Z"
   },
   {
    "duration": 13,
    "start_time": "2021-12-30T19:51:07.446Z"
   },
   {
    "duration": 43,
    "start_time": "2021-12-30T20:23:31.571Z"
   },
   {
    "duration": 143,
    "start_time": "2021-12-30T20:23:35.847Z"
   },
   {
    "duration": 67,
    "start_time": "2021-12-30T20:23:46.279Z"
   },
   {
    "duration": 17413,
    "start_time": "2021-12-30T20:23:53.382Z"
   },
   {
    "duration": 18086,
    "start_time": "2021-12-30T20:26:20.693Z"
   },
   {
    "duration": 17918,
    "start_time": "2021-12-30T20:39:25.509Z"
   },
   {
    "duration": 17870,
    "start_time": "2021-12-30T20:45:41.663Z"
   },
   {
    "duration": 3554,
    "start_time": "2021-12-30T20:56:43.495Z"
   },
   {
    "duration": 4002,
    "start_time": "2021-12-30T21:00:03.828Z"
   },
   {
    "duration": 3398,
    "start_time": "2021-12-30T21:01:15.643Z"
   },
   {
    "duration": 48,
    "start_time": "2021-12-30T21:03:55.251Z"
   },
   {
    "duration": 902,
    "start_time": "2021-12-30T21:03:59.114Z"
   },
   {
    "duration": 3521,
    "start_time": "2021-12-30T21:04:30.638Z"
   },
   {
    "duration": 3437,
    "start_time": "2021-12-30T21:05:13.217Z"
   },
   {
    "duration": 166,
    "start_time": "2021-12-30T21:16:09.944Z"
   },
   {
    "duration": 73,
    "start_time": "2021-12-30T21:16:17.743Z"
   },
   {
    "duration": 3551,
    "start_time": "2021-12-30T21:16:24.870Z"
   },
   {
    "duration": 3546,
    "start_time": "2021-12-30T21:17:25.170Z"
   },
   {
    "duration": 3734,
    "start_time": "2021-12-30T21:17:52.046Z"
   },
   {
    "duration": 3755,
    "start_time": "2021-12-30T21:18:57.707Z"
   },
   {
    "duration": 71,
    "start_time": "2021-12-30T21:21:44.788Z"
   },
   {
    "duration": 3802,
    "start_time": "2021-12-30T21:21:58.751Z"
   },
   {
    "duration": 3692,
    "start_time": "2021-12-30T21:22:22.221Z"
   },
   {
    "duration": 3675,
    "start_time": "2021-12-30T21:25:10.247Z"
   },
   {
    "duration": 3770,
    "start_time": "2021-12-30T21:25:21.844Z"
   },
   {
    "duration": 3777,
    "start_time": "2021-12-30T21:26:53.232Z"
   },
   {
    "duration": 44,
    "start_time": "2021-12-30T21:29:35.177Z"
   },
   {
    "duration": 4,
    "start_time": "2021-12-30T21:30:06.197Z"
   },
   {
    "duration": 4251,
    "start_time": "2021-12-30T21:30:14.848Z"
   },
   {
    "duration": 85628,
    "start_time": "2021-12-30T21:45:15.165Z"
   },
   {
    "duration": 137,
    "start_time": "2021-12-30T21:49:24.361Z"
   },
   {
    "duration": 1116,
    "start_time": "2021-12-30T21:49:48.246Z"
   },
   {
    "duration": 3295,
    "start_time": "2021-12-30T21:51:37.060Z"
   },
   {
    "duration": 144,
    "start_time": "2021-12-30T21:52:08.698Z"
   },
   {
    "duration": 223,
    "start_time": "2021-12-30T21:52:51.956Z"
   },
   {
    "duration": 6,
    "start_time": "2021-12-30T21:54:00.502Z"
   },
   {
    "duration": 46,
    "start_time": "2021-12-30T21:54:10.364Z"
   },
   {
    "duration": 5,
    "start_time": "2021-12-30T21:54:15.334Z"
   },
   {
    "duration": 677,
    "start_time": "2021-12-30T21:57:30.059Z"
   },
   {
    "duration": 658,
    "start_time": "2021-12-30T21:58:17.296Z"
   },
   {
    "duration": 687,
    "start_time": "2021-12-30T21:59:11.248Z"
   },
   {
    "duration": 3752,
    "start_time": "2021-12-30T21:59:30.233Z"
   },
   {
    "duration": 3843,
    "start_time": "2021-12-30T22:00:04.615Z"
   },
   {
    "duration": 3630,
    "start_time": "2021-12-30T22:00:28.105Z"
   },
   {
    "duration": 210,
    "start_time": "2021-12-30T22:02:53.510Z"
   },
   {
    "duration": 9245,
    "start_time": "2021-12-30T22:03:09.423Z"
   },
   {
    "duration": 12,
    "start_time": "2021-12-30T22:04:00.178Z"
   },
   {
    "duration": 650,
    "start_time": "2021-12-31T07:25:44.032Z"
   },
   {
    "duration": 31,
    "start_time": "2021-12-31T07:25:49.217Z"
   },
   {
    "duration": 6,
    "start_time": "2021-12-31T07:25:51.156Z"
   },
   {
    "duration": 3,
    "start_time": "2021-12-31T07:25:52.385Z"
   },
   {
    "duration": 8,
    "start_time": "2021-12-31T07:26:00.519Z"
   },
   {
    "duration": 7,
    "start_time": "2021-12-31T07:26:03.354Z"
   },
   {
    "duration": 8,
    "start_time": "2021-12-31T07:26:05.076Z"
   },
   {
    "duration": 4,
    "start_time": "2021-12-31T07:26:08.213Z"
   },
   {
    "duration": 10,
    "start_time": "2021-12-31T07:26:09.334Z"
   },
   {
    "duration": 5,
    "start_time": "2021-12-31T07:26:10.381Z"
   },
   {
    "duration": 4,
    "start_time": "2021-12-31T07:26:11.006Z"
   },
   {
    "duration": 6,
    "start_time": "2021-12-31T07:26:22.032Z"
   },
   {
    "duration": 15,
    "start_time": "2021-12-31T07:26:26.512Z"
   },
   {
    "duration": 11,
    "start_time": "2021-12-31T07:26:37.994Z"
   },
   {
    "duration": 6,
    "start_time": "2021-12-31T07:26:43.251Z"
   },
   {
    "duration": 9,
    "start_time": "2021-12-31T07:26:50.882Z"
   },
   {
    "duration": 7,
    "start_time": "2021-12-31T07:26:52.238Z"
   },
   {
    "duration": 7,
    "start_time": "2021-12-31T07:27:07.023Z"
   },
   {
    "duration": 7,
    "start_time": "2021-12-31T07:27:10.756Z"
   },
   {
    "duration": 1150,
    "start_time": "2021-12-31T07:27:41.375Z"
   },
   {
    "duration": 619,
    "start_time": "2021-12-31T07:27:43.722Z"
   },
   {
    "duration": 17,
    "start_time": "2021-12-31T07:28:08.312Z"
   },
   {
    "duration": 7,
    "start_time": "2021-12-31T07:28:18.387Z"
   },
   {
    "duration": 18,
    "start_time": "2021-12-31T07:28:19.555Z"
   },
   {
    "duration": 6,
    "start_time": "2021-12-31T07:28:24.059Z"
   },
   {
    "duration": 8,
    "start_time": "2021-12-31T07:28:32.808Z"
   },
   {
    "duration": 10,
    "start_time": "2021-12-31T07:28:42.802Z"
   },
   {
    "duration": 7,
    "start_time": "2021-12-31T07:30:03.613Z"
   },
   {
    "duration": 5,
    "start_time": "2021-12-31T07:30:06.733Z"
   },
   {
    "duration": 8,
    "start_time": "2021-12-31T07:30:14.229Z"
   },
   {
    "duration": 10,
    "start_time": "2021-12-31T07:30:32.432Z"
   },
   {
    "duration": 11,
    "start_time": "2021-12-31T07:31:01.600Z"
   },
   {
    "duration": 3,
    "start_time": "2021-12-31T07:31:28.138Z"
   },
   {
    "duration": 12,
    "start_time": "2021-12-31T07:31:38.844Z"
   },
   {
    "duration": 21,
    "start_time": "2021-12-31T07:31:50.909Z"
   },
   {
    "duration": 27,
    "start_time": "2021-12-31T07:32:04.631Z"
   },
   {
    "duration": 18,
    "start_time": "2021-12-31T07:32:09.521Z"
   },
   {
    "duration": 13,
    "start_time": "2021-12-31T07:32:11.293Z"
   },
   {
    "duration": 5,
    "start_time": "2021-12-31T07:32:30.673Z"
   },
   {
    "duration": 631,
    "start_time": "2021-12-31T07:33:11.310Z"
   },
   {
    "duration": 3631,
    "start_time": "2021-12-31T07:33:16.343Z"
   },
   {
    "duration": 9274,
    "start_time": "2021-12-31T07:33:36.993Z"
   },
   {
    "duration": 12,
    "start_time": "2021-12-31T07:33:57.484Z"
   },
   {
    "duration": 10,
    "start_time": "2021-12-31T07:34:14.217Z"
   },
   {
    "duration": 134,
    "start_time": "2021-12-31T07:34:16.011Z"
   },
   {
    "duration": 6,
    "start_time": "2021-12-31T07:35:01.471Z"
   },
   {
    "duration": 6,
    "start_time": "2021-12-31T07:35:12.498Z"
   },
   {
    "duration": 69,
    "start_time": "2021-12-31T07:35:42.839Z"
   },
   {
    "duration": 6,
    "start_time": "2021-12-31T07:35:52.572Z"
   },
   {
    "duration": 5,
    "start_time": "2021-12-31T07:35:55.938Z"
   },
   {
    "duration": 2,
    "start_time": "2021-12-31T07:36:03.172Z"
   },
   {
    "duration": 8,
    "start_time": "2021-12-31T07:36:04.038Z"
   },
   {
    "duration": 7,
    "start_time": "2021-12-31T07:36:04.505Z"
   },
   {
    "duration": 8,
    "start_time": "2021-12-31T07:36:05.716Z"
   },
   {
    "duration": 4,
    "start_time": "2021-12-31T07:36:08.166Z"
   },
   {
    "duration": 10,
    "start_time": "2021-12-31T07:36:08.929Z"
   },
   {
    "duration": 5,
    "start_time": "2021-12-31T07:36:09.634Z"
   },
   {
    "duration": 4,
    "start_time": "2021-12-31T07:36:09.849Z"
   },
   {
    "duration": 6,
    "start_time": "2021-12-31T07:36:11.212Z"
   },
   {
    "duration": 10,
    "start_time": "2021-12-31T07:36:11.452Z"
   },
   {
    "duration": 12,
    "start_time": "2021-12-31T07:36:12.141Z"
   },
   {
    "duration": 6,
    "start_time": "2021-12-31T07:36:12.807Z"
   },
   {
    "duration": 8,
    "start_time": "2021-12-31T07:36:13.241Z"
   },
   {
    "duration": 7,
    "start_time": "2021-12-31T07:36:13.678Z"
   },
   {
    "duration": 7,
    "start_time": "2021-12-31T07:36:14.578Z"
   },
   {
    "duration": 6,
    "start_time": "2021-12-31T07:36:14.994Z"
   },
   {
    "duration": 590,
    "start_time": "2021-12-31T07:36:15.712Z"
   },
   {
    "duration": 609,
    "start_time": "2021-12-31T07:36:16.304Z"
   },
   {
    "duration": 16,
    "start_time": "2021-12-31T07:36:17.616Z"
   },
   {
    "duration": 7,
    "start_time": "2021-12-31T07:36:18.863Z"
   },
   {
    "duration": 18,
    "start_time": "2021-12-31T07:36:19.440Z"
   },
   {
    "duration": 7,
    "start_time": "2021-12-31T07:36:20.492Z"
   },
   {
    "duration": 9,
    "start_time": "2021-12-31T07:36:20.981Z"
   },
   {
    "duration": 12,
    "start_time": "2021-12-31T07:36:22.209Z"
   },
   {
    "duration": 7,
    "start_time": "2021-12-31T07:36:22.607Z"
   },
   {
    "duration": 6,
    "start_time": "2021-12-31T07:36:23.151Z"
   },
   {
    "duration": 8,
    "start_time": "2021-12-31T07:36:23.729Z"
   },
   {
    "duration": 9,
    "start_time": "2021-12-31T07:36:24.601Z"
   },
   {
    "duration": 11,
    "start_time": "2021-12-31T07:36:25.029Z"
   },
   {
    "duration": 2,
    "start_time": "2021-12-31T07:36:30.993Z"
   },
   {
    "duration": 13,
    "start_time": "2021-12-31T07:36:31.627Z"
   },
   {
    "duration": 24,
    "start_time": "2021-12-31T07:36:33.718Z"
   },
   {
    "duration": 23,
    "start_time": "2021-12-31T07:36:34.590Z"
   },
   {
    "duration": 20,
    "start_time": "2021-12-31T07:36:35.115Z"
   },
   {
    "duration": 15,
    "start_time": "2021-12-31T07:36:35.634Z"
   },
   {
    "duration": 5,
    "start_time": "2021-12-31T07:36:37.195Z"
   },
   {
    "duration": 661,
    "start_time": "2021-12-31T07:36:37.751Z"
   },
   {
    "duration": 3755,
    "start_time": "2021-12-31T07:36:40.097Z"
   },
   {
    "duration": 7150,
    "start_time": "2021-12-31T07:36:43.854Z"
   },
   {
    "duration": 9135,
    "start_time": "2021-12-31T07:36:51.006Z"
   },
   {
    "duration": 10,
    "start_time": "2021-12-31T07:37:00.143Z"
   },
   {
    "duration": 12,
    "start_time": "2021-12-31T07:37:03.396Z"
   },
   {
    "duration": 145,
    "start_time": "2021-12-31T07:37:04.514Z"
   },
   {
    "duration": 30,
    "start_time": "2021-12-31T07:44:36.478Z"
   },
   {
    "duration": 7,
    "start_time": "2021-12-31T07:44:57.711Z"
   },
   {
    "duration": 6,
    "start_time": "2021-12-31T07:45:05.067Z"
   },
   {
    "duration": 8,
    "start_time": "2021-12-31T07:45:12.049Z"
   },
   {
    "duration": 12,
    "start_time": "2021-12-31T07:45:27.756Z"
   },
   {
    "duration": 7,
    "start_time": "2021-12-31T07:45:37.079Z"
   },
   {
    "duration": 8,
    "start_time": "2021-12-31T07:46:04.420Z"
   },
   {
    "duration": 8,
    "start_time": "2021-12-31T07:46:16.885Z"
   },
   {
    "duration": 9,
    "start_time": "2021-12-31T07:46:51.726Z"
   },
   {
    "duration": 8,
    "start_time": "2021-12-31T07:46:54.576Z"
   },
   {
    "duration": 10,
    "start_time": "2021-12-31T07:47:08.425Z"
   },
   {
    "duration": 9,
    "start_time": "2021-12-31T07:47:32.920Z"
   },
   {
    "duration": 12,
    "start_time": "2021-12-31T07:58:14.033Z"
   },
   {
    "duration": 110,
    "start_time": "2021-12-31T07:58:31.291Z"
   },
   {
    "duration": 33,
    "start_time": "2021-12-31T07:59:41.629Z"
   },
   {
    "duration": 37,
    "start_time": "2021-12-31T08:00:28.020Z"
   },
   {
    "duration": 39,
    "start_time": "2021-12-31T08:00:39.891Z"
   },
   {
    "duration": 35,
    "start_time": "2021-12-31T08:00:59.438Z"
   },
   {
    "duration": 614,
    "start_time": "2021-12-31T08:02:06.755Z"
   },
   {
    "duration": 21,
    "start_time": "2021-12-31T08:02:20.154Z"
   },
   {
    "duration": 9,
    "start_time": "2021-12-31T08:05:17.649Z"
   },
   {
    "duration": 8,
    "start_time": "2021-12-31T08:05:38.690Z"
   },
   {
    "duration": 7,
    "start_time": "2021-12-31T08:07:00.122Z"
   },
   {
    "duration": 7,
    "start_time": "2021-12-31T08:07:13.650Z"
   },
   {
    "duration": 24,
    "start_time": "2021-12-31T08:09:06.065Z"
   },
   {
    "duration": 316,
    "start_time": "2021-12-31T08:09:50.989Z"
   },
   {
    "duration": 201,
    "start_time": "2021-12-31T08:10:37.130Z"
   },
   {
    "duration": 203,
    "start_time": "2021-12-31T08:11:43.989Z"
   },
   {
    "duration": 71,
    "start_time": "2021-12-31T08:11:55.442Z"
   },
   {
    "duration": 27,
    "start_time": "2021-12-31T08:12:05.557Z"
   },
   {
    "duration": 66,
    "start_time": "2021-12-31T08:12:59.954Z"
   },
   {
    "duration": 29,
    "start_time": "2021-12-31T08:13:01.530Z"
   },
   {
    "duration": 5,
    "start_time": "2021-12-31T08:13:02.498Z"
   },
   {
    "duration": 2,
    "start_time": "2021-12-31T08:13:03.002Z"
   },
   {
    "duration": 8,
    "start_time": "2021-12-31T08:13:03.992Z"
   },
   {
    "duration": 6,
    "start_time": "2021-12-31T08:13:04.677Z"
   },
   {
    "duration": 9,
    "start_time": "2021-12-31T08:13:05.374Z"
   },
   {
    "duration": 4,
    "start_time": "2021-12-31T08:13:06.611Z"
   },
   {
    "duration": 10,
    "start_time": "2021-12-31T08:13:07.213Z"
   },
   {
    "duration": 5,
    "start_time": "2021-12-31T08:13:07.921Z"
   },
   {
    "duration": 4,
    "start_time": "2021-12-31T08:13:08.245Z"
   },
   {
    "duration": 7,
    "start_time": "2021-12-31T08:13:10.287Z"
   },
   {
    "duration": 13,
    "start_time": "2021-12-31T08:13:10.295Z"
   },
   {
    "duration": 10,
    "start_time": "2021-12-31T08:13:11.001Z"
   },
   {
    "duration": 6,
    "start_time": "2021-12-31T08:13:11.979Z"
   },
   {
    "duration": 9,
    "start_time": "2021-12-31T08:13:12.647Z"
   },
   {
    "duration": 7,
    "start_time": "2021-12-31T08:13:13.424Z"
   },
   {
    "duration": 7,
    "start_time": "2021-12-31T08:13:14.647Z"
   },
   {
    "duration": 7,
    "start_time": "2021-12-31T08:13:15.406Z"
   },
   {
    "duration": 574,
    "start_time": "2021-12-31T08:13:17.187Z"
   },
   {
    "duration": 581,
    "start_time": "2021-12-31T08:13:18.720Z"
   },
   {
    "duration": 16,
    "start_time": "2021-12-31T08:13:21.409Z"
   },
   {
    "duration": 7,
    "start_time": "2021-12-31T08:13:22.781Z"
   },
   {
    "duration": 18,
    "start_time": "2021-12-31T08:13:23.746Z"
   },
   {
    "duration": 7,
    "start_time": "2021-12-31T08:13:25.437Z"
   },
   {
    "duration": 12,
    "start_time": "2021-12-31T08:13:25.923Z"
   },
   {
    "duration": 11,
    "start_time": "2021-12-31T08:13:27.010Z"
   },
   {
    "duration": 7,
    "start_time": "2021-12-31T08:13:27.647Z"
   },
   {
    "duration": 6,
    "start_time": "2021-12-31T08:13:28.673Z"
   },
   {
    "duration": 7,
    "start_time": "2021-12-31T08:13:29.484Z"
   },
   {
    "duration": 8,
    "start_time": "2021-12-31T08:13:30.306Z"
   },
   {
    "duration": 10,
    "start_time": "2021-12-31T08:13:30.914Z"
   },
   {
    "duration": 7,
    "start_time": "2021-12-31T08:13:33.112Z"
   },
   {
    "duration": 97,
    "start_time": "2021-12-31T08:13:33.806Z"
   },
   {
    "duration": 24,
    "start_time": "2021-12-31T08:25:25.625Z"
   },
   {
    "duration": 24,
    "start_time": "2021-12-31T08:26:20.344Z"
   },
   {
    "duration": 214,
    "start_time": "2021-12-31T08:35:27.243Z"
   },
   {
    "duration": 9,
    "start_time": "2021-12-31T08:36:09.917Z"
   },
   {
    "duration": 11,
    "start_time": "2021-12-31T08:36:17.960Z"
   },
   {
    "duration": 11,
    "start_time": "2021-12-31T08:52:25.087Z"
   },
   {
    "duration": 246,
    "start_time": "2021-12-31T08:55:24.878Z"
   },
   {
    "duration": 217,
    "start_time": "2021-12-31T08:55:33.693Z"
   },
   {
    "duration": 246,
    "start_time": "2021-12-31T08:55:44.643Z"
   },
   {
    "duration": 31,
    "start_time": "2021-12-31T08:59:59.780Z"
   },
   {
    "duration": 19,
    "start_time": "2021-12-31T09:00:53.834Z"
   },
   {
    "duration": 8,
    "start_time": "2021-12-31T09:01:14.774Z"
   },
   {
    "duration": 11,
    "start_time": "2021-12-31T09:01:24.042Z"
   },
   {
    "duration": 410,
    "start_time": "2021-12-31T09:01:50.737Z"
   },
   {
    "duration": 15,
    "start_time": "2021-12-31T09:02:00.612Z"
   },
   {
    "duration": 17,
    "start_time": "2021-12-31T09:02:28.948Z"
   },
   {
    "duration": 20,
    "start_time": "2021-12-31T09:03:17.124Z"
   },
   {
    "duration": 1369,
    "start_time": "2021-12-31T09:03:29.234Z"
   },
   {
    "duration": 323,
    "start_time": "2021-12-31T09:03:35.543Z"
   },
   {
    "duration": 19,
    "start_time": "2021-12-31T09:03:43.831Z"
   },
   {
    "duration": 18,
    "start_time": "2021-12-31T09:04:17.090Z"
   },
   {
    "duration": 18,
    "start_time": "2021-12-31T09:04:26.027Z"
   },
   {
    "duration": 17,
    "start_time": "2021-12-31T09:04:37.341Z"
   },
   {
    "duration": 18,
    "start_time": "2021-12-31T09:06:24.840Z"
   },
   {
    "duration": 19,
    "start_time": "2021-12-31T09:06:36.013Z"
   },
   {
    "duration": 6,
    "start_time": "2021-12-31T09:11:06.187Z"
   },
   {
    "duration": 8,
    "start_time": "2021-12-31T09:11:43.368Z"
   },
   {
    "duration": 64,
    "start_time": "2021-12-31T09:11:55.798Z"
   },
   {
    "duration": 7,
    "start_time": "2021-12-31T09:12:12.842Z"
   },
   {
    "duration": 203,
    "start_time": "2021-12-31T09:12:33.086Z"
   },
   {
    "duration": 7,
    "start_time": "2021-12-31T09:12:44.163Z"
   },
   {
    "duration": 8,
    "start_time": "2021-12-31T09:12:55.429Z"
   },
   {
    "duration": 24,
    "start_time": "2021-12-31T09:14:49.077Z"
   },
   {
    "duration": 66,
    "start_time": "2021-12-31T09:15:01.956Z"
   },
   {
    "duration": 28,
    "start_time": "2021-12-31T09:15:02.833Z"
   },
   {
    "duration": 5,
    "start_time": "2021-12-31T09:15:03.300Z"
   },
   {
    "duration": 2,
    "start_time": "2021-12-31T09:15:03.532Z"
   },
   {
    "duration": 6,
    "start_time": "2021-12-31T09:15:04.043Z"
   },
   {
    "duration": 7,
    "start_time": "2021-12-31T09:15:04.272Z"
   },
   {
    "duration": 9,
    "start_time": "2021-12-31T09:15:04.515Z"
   },
   {
    "duration": 4,
    "start_time": "2021-12-31T09:15:05.007Z"
   },
   {
    "duration": 11,
    "start_time": "2021-12-31T09:15:05.593Z"
   },
   {
    "duration": 5,
    "start_time": "2021-12-31T09:15:05.963Z"
   },
   {
    "duration": 4,
    "start_time": "2021-12-31T09:15:06.119Z"
   },
   {
    "duration": 6,
    "start_time": "2021-12-31T09:15:06.910Z"
   },
   {
    "duration": 11,
    "start_time": "2021-12-31T09:15:07.040Z"
   },
   {
    "duration": 11,
    "start_time": "2021-12-31T09:15:07.557Z"
   },
   {
    "duration": 7,
    "start_time": "2021-12-31T09:15:08.069Z"
   },
   {
    "duration": 9,
    "start_time": "2021-12-31T09:15:08.508Z"
   },
   {
    "duration": 7,
    "start_time": "2021-12-31T09:15:08.844Z"
   },
   {
    "duration": 8,
    "start_time": "2021-12-31T09:15:10.374Z"
   },
   {
    "duration": 8,
    "start_time": "2021-12-31T09:15:10.384Z"
   },
   {
    "duration": 590,
    "start_time": "2021-12-31T09:15:10.447Z"
   },
   {
    "duration": 602,
    "start_time": "2021-12-31T09:15:11.042Z"
   },
   {
    "duration": 16,
    "start_time": "2021-12-31T09:15:13.140Z"
   },
   {
    "duration": 7,
    "start_time": "2021-12-31T09:15:14.143Z"
   },
   {
    "duration": 17,
    "start_time": "2021-12-31T09:15:15.557Z"
   },
   {
    "duration": 7,
    "start_time": "2021-12-31T09:15:18.324Z"
   },
   {
    "duration": 12,
    "start_time": "2021-12-31T09:15:19.059Z"
   },
   {
    "duration": 12,
    "start_time": "2021-12-31T09:15:22.896Z"
   },
   {
    "duration": 7,
    "start_time": "2021-12-31T09:15:28.176Z"
   },
   {
    "duration": 6,
    "start_time": "2021-12-31T09:15:31.739Z"
   },
   {
    "duration": 7,
    "start_time": "2021-12-31T09:15:40.895Z"
   },
   {
    "duration": 9,
    "start_time": "2021-12-31T09:15:41.669Z"
   },
   {
    "duration": 7,
    "start_time": "2021-12-31T09:15:43.756Z"
   },
   {
    "duration": 8,
    "start_time": "2021-12-31T09:15:44.729Z"
   },
   {
    "duration": 11,
    "start_time": "2021-12-31T09:15:45.334Z"
   },
   {
    "duration": 7,
    "start_time": "2021-12-31T09:15:50.515Z"
   },
   {
    "duration": 25,
    "start_time": "2021-12-31T09:15:51.952Z"
   },
   {
    "duration": 771,
    "start_time": "2021-12-31T09:16:13.148Z"
   },
   {
    "duration": 823,
    "start_time": "2021-12-31T09:16:31.065Z"
   },
   {
    "duration": 15,
    "start_time": "2021-12-31T09:17:05.732Z"
   },
   {
    "duration": 16,
    "start_time": "2021-12-31T09:17:11.113Z"
   },
   {
    "duration": 15,
    "start_time": "2021-12-31T09:19:18.558Z"
   },
   {
    "duration": 245,
    "start_time": "2021-12-31T09:30:13.087Z"
   },
   {
    "duration": 130,
    "start_time": "2021-12-31T09:31:11.198Z"
   },
   {
    "duration": 202,
    "start_time": "2021-12-31T09:32:48.418Z"
   },
   {
    "duration": 1219,
    "start_time": "2021-12-31T09:32:52.363Z"
   },
   {
    "duration": 208,
    "start_time": "2021-12-31T09:34:22.329Z"
   },
   {
    "duration": 3,
    "start_time": "2021-12-31T10:23:00.328Z"
   },
   {
    "duration": 15,
    "start_time": "2021-12-31T10:28:22.605Z"
   },
   {
    "duration": 15,
    "start_time": "2021-12-31T10:28:43.185Z"
   },
   {
    "duration": 15,
    "start_time": "2021-12-31T10:28:51.582Z"
   },
   {
    "duration": 14,
    "start_time": "2021-12-31T10:29:05.100Z"
   },
   {
    "duration": 13,
    "start_time": "2021-12-31T10:29:24.389Z"
   },
   {
    "duration": 7,
    "start_time": "2021-12-31T10:30:02.505Z"
   },
   {
    "duration": 13,
    "start_time": "2021-12-31T10:31:08.201Z"
   },
   {
    "duration": 14,
    "start_time": "2021-12-31T10:41:10.582Z"
   },
   {
    "duration": 7,
    "start_time": "2021-12-31T10:41:29.055Z"
   },
   {
    "duration": 275,
    "start_time": "2021-12-31T10:51:02.224Z"
   },
   {
    "duration": 6,
    "start_time": "2021-12-31T10:56:43.859Z"
   },
   {
    "duration": 2,
    "start_time": "2021-12-31T11:07:59.249Z"
   },
   {
    "duration": 193,
    "start_time": "2021-12-31T11:08:31.281Z"
   },
   {
    "duration": 64,
    "start_time": "2021-12-31T11:10:27.689Z"
   },
   {
    "duration": 2,
    "start_time": "2021-12-31T11:27:54.276Z"
   },
   {
    "duration": 64,
    "start_time": "2021-12-31T11:35:56.920Z"
   },
   {
    "duration": 29,
    "start_time": "2021-12-31T11:35:58.246Z"
   },
   {
    "duration": 5,
    "start_time": "2021-12-31T11:35:59.162Z"
   },
   {
    "duration": 2,
    "start_time": "2021-12-31T11:35:59.627Z"
   },
   {
    "duration": 8,
    "start_time": "2021-12-31T11:36:00.345Z"
   },
   {
    "duration": 6,
    "start_time": "2021-12-31T11:36:00.881Z"
   },
   {
    "duration": 10,
    "start_time": "2021-12-31T11:36:01.372Z"
   },
   {
    "duration": 4,
    "start_time": "2021-12-31T11:36:02.400Z"
   },
   {
    "duration": 11,
    "start_time": "2021-12-31T11:36:02.949Z"
   },
   {
    "duration": 6,
    "start_time": "2021-12-31T11:36:03.417Z"
   },
   {
    "duration": 4,
    "start_time": "2021-12-31T11:36:03.690Z"
   },
   {
    "duration": 6,
    "start_time": "2021-12-31T11:36:05.269Z"
   },
   {
    "duration": 12,
    "start_time": "2021-12-31T11:36:05.582Z"
   },
   {
    "duration": 11,
    "start_time": "2021-12-31T11:36:09.624Z"
   },
   {
    "duration": 6,
    "start_time": "2021-12-31T11:36:12.774Z"
   },
   {
    "duration": 10,
    "start_time": "2021-12-31T11:36:13.734Z"
   },
   {
    "duration": 7,
    "start_time": "2021-12-31T11:36:15.013Z"
   },
   {
    "duration": 8,
    "start_time": "2021-12-31T11:36:16.832Z"
   },
   {
    "duration": 8,
    "start_time": "2021-12-31T11:36:17.596Z"
   },
   {
    "duration": 586,
    "start_time": "2021-12-31T11:36:19.283Z"
   },
   {
    "duration": 591,
    "start_time": "2021-12-31T11:36:19.916Z"
   },
   {
    "duration": 17,
    "start_time": "2021-12-31T11:36:21.491Z"
   },
   {
    "duration": 8,
    "start_time": "2021-12-31T11:36:22.536Z"
   },
   {
    "duration": 18,
    "start_time": "2021-12-31T11:36:23.328Z"
   },
   {
    "duration": 7,
    "start_time": "2021-12-31T11:36:25.573Z"
   },
   {
    "duration": 12,
    "start_time": "2021-12-31T11:36:26.607Z"
   },
   {
    "duration": 12,
    "start_time": "2021-12-31T11:36:28.005Z"
   },
   {
    "duration": 9,
    "start_time": "2021-12-31T11:36:29.677Z"
   },
   {
    "duration": 8,
    "start_time": "2021-12-31T11:36:34.046Z"
   },
   {
    "duration": 7,
    "start_time": "2021-12-31T11:36:42.231Z"
   },
   {
    "duration": 8,
    "start_time": "2021-12-31T11:36:48.544Z"
   },
   {
    "duration": 11,
    "start_time": "2021-12-31T11:36:56.369Z"
   },
   {
    "duration": 7,
    "start_time": "2021-12-31T11:36:59.294Z"
   },
   {
    "duration": 13,
    "start_time": "2021-12-31T11:45:51.969Z"
   },
   {
    "duration": 26,
    "start_time": "2021-12-31T11:48:11.735Z"
   },
   {
    "duration": 16,
    "start_time": "2021-12-31T11:48:33.587Z"
   },
   {
    "duration": 16,
    "start_time": "2021-12-31T11:48:49.778Z"
   },
   {
    "duration": 207,
    "start_time": "2021-12-31T12:02:06.782Z"
   },
   {
    "duration": 24,
    "start_time": "2021-12-31T12:02:35.623Z"
   },
   {
    "duration": 21,
    "start_time": "2021-12-31T12:03:00.944Z"
   },
   {
    "duration": 23,
    "start_time": "2021-12-31T12:03:21.407Z"
   },
   {
    "duration": 24,
    "start_time": "2021-12-31T12:03:32.239Z"
   },
   {
    "duration": 35,
    "start_time": "2021-12-31T12:06:02.426Z"
   },
   {
    "duration": 70,
    "start_time": "2021-12-31T12:08:37.894Z"
   },
   {
    "duration": 29,
    "start_time": "2021-12-31T12:08:40.126Z"
   },
   {
    "duration": 5,
    "start_time": "2021-12-31T12:08:42.305Z"
   },
   {
    "duration": 3,
    "start_time": "2021-12-31T12:08:43.425Z"
   },
   {
    "duration": 7,
    "start_time": "2021-12-31T12:08:48.954Z"
   },
   {
    "duration": 7,
    "start_time": "2021-12-31T12:08:50.466Z"
   },
   {
    "duration": 8,
    "start_time": "2021-12-31T12:08:51.928Z"
   },
   {
    "duration": 4,
    "start_time": "2021-12-31T12:08:53.468Z"
   },
   {
    "duration": 10,
    "start_time": "2021-12-31T12:08:54.352Z"
   },
   {
    "duration": 6,
    "start_time": "2021-12-31T12:08:56.559Z"
   },
   {
    "duration": 3,
    "start_time": "2021-12-31T12:08:57.014Z"
   },
   {
    "duration": 6,
    "start_time": "2021-12-31T12:08:59.723Z"
   },
   {
    "duration": 11,
    "start_time": "2021-12-31T12:09:05.625Z"
   },
   {
    "duration": 11,
    "start_time": "2021-12-31T12:09:17.907Z"
   },
   {
    "duration": 7,
    "start_time": "2021-12-31T12:09:23.842Z"
   },
   {
    "duration": 9,
    "start_time": "2021-12-31T12:09:39.621Z"
   },
   {
    "duration": 6,
    "start_time": "2021-12-31T12:09:41.044Z"
   },
   {
    "duration": 8,
    "start_time": "2021-12-31T12:09:50.303Z"
   },
   {
    "duration": 8,
    "start_time": "2021-12-31T12:09:51.560Z"
   },
   {
    "duration": 610,
    "start_time": "2021-12-31T12:09:55.335Z"
   },
   {
    "duration": 608,
    "start_time": "2021-12-31T12:09:56.406Z"
   },
   {
    "duration": 17,
    "start_time": "2021-12-31T12:10:06.025Z"
   },
   {
    "duration": 8,
    "start_time": "2021-12-31T12:10:13.949Z"
   },
   {
    "duration": 19,
    "start_time": "2021-12-31T12:10:14.917Z"
   },
   {
    "duration": 8,
    "start_time": "2021-12-31T12:10:18.143Z"
   },
   {
    "duration": 12,
    "start_time": "2021-12-31T12:10:19.163Z"
   },
   {
    "duration": 12,
    "start_time": "2021-12-31T12:10:47.344Z"
   },
   {
    "duration": 7,
    "start_time": "2021-12-31T12:10:51.217Z"
   },
   {
    "duration": 6,
    "start_time": "2021-12-31T12:10:54.206Z"
   },
   {
    "duration": 8,
    "start_time": "2021-12-31T12:10:59.123Z"
   },
   {
    "duration": 9,
    "start_time": "2021-12-31T12:11:03.812Z"
   },
   {
    "duration": 5,
    "start_time": "2021-12-31T12:11:21.435Z"
   },
   {
    "duration": 2,
    "start_time": "2021-12-31T12:11:35.636Z"
   },
   {
    "duration": 6,
    "start_time": "2021-12-31T12:11:54.291Z"
   },
   {
    "duration": 11,
    "start_time": "2021-12-31T12:11:55.598Z"
   },
   {
    "duration": 216,
    "start_time": "2021-12-31T12:12:24.594Z"
   },
   {
    "duration": 9,
    "start_time": "2021-12-31T12:12:27.169Z"
   },
   {
    "duration": 196,
    "start_time": "2021-12-31T12:12:35.153Z"
   },
   {
    "duration": 8,
    "start_time": "2021-12-31T12:12:38.038Z"
   },
   {
    "duration": 200,
    "start_time": "2021-12-31T12:13:45.293Z"
   },
   {
    "duration": 10,
    "start_time": "2021-12-31T12:13:47.914Z"
   },
   {
    "duration": 73,
    "start_time": "2021-12-31T12:14:28.660Z"
   },
   {
    "duration": 7,
    "start_time": "2021-12-31T12:14:37.072Z"
   },
   {
    "duration": 12,
    "start_time": "2021-12-31T12:14:42.539Z"
   },
   {
    "duration": 9,
    "start_time": "2021-12-31T12:14:57.884Z"
   },
   {
    "duration": 72,
    "start_time": "2021-12-31T12:15:04.837Z"
   },
   {
    "duration": 4,
    "start_time": "2021-12-31T12:16:21.904Z"
   },
   {
    "duration": 213,
    "start_time": "2021-12-31T12:16:40.356Z"
   },
   {
    "duration": 23,
    "start_time": "2021-12-31T12:17:08.448Z"
   },
   {
    "duration": 76,
    "start_time": "2021-12-31T12:22:16.584Z"
   },
   {
    "duration": 63,
    "start_time": "2021-12-31T12:22:52.664Z"
   },
   {
    "duration": 59,
    "start_time": "2021-12-31T12:24:58.238Z"
   },
   {
    "duration": 13,
    "start_time": "2021-12-31T12:25:23.243Z"
   },
   {
    "duration": 13,
    "start_time": "2021-12-31T12:25:38.597Z"
   },
   {
    "duration": 360,
    "start_time": "2021-12-31T12:32:38.219Z"
   },
   {
    "duration": 15,
    "start_time": "2021-12-31T12:32:45.482Z"
   },
   {
    "duration": 7,
    "start_time": "2021-12-31T12:32:53.214Z"
   },
   {
    "duration": 66,
    "start_time": "2021-12-31T12:44:22.306Z"
   },
   {
    "duration": 990,
    "start_time": "2021-12-31T12:45:09.203Z"
   },
   {
    "duration": 11,
    "start_time": "2021-12-31T12:56:14.345Z"
   },
   {
    "duration": 19,
    "start_time": "2021-12-31T12:58:05.865Z"
   },
   {
    "duration": 64,
    "start_time": "2021-12-31T12:59:18.525Z"
   },
   {
    "duration": 5,
    "start_time": "2021-12-31T12:59:29.299Z"
   },
   {
    "duration": 2,
    "start_time": "2021-12-31T12:59:29.676Z"
   },
   {
    "duration": 7,
    "start_time": "2021-12-31T12:59:30.229Z"
   },
   {
    "duration": 6,
    "start_time": "2021-12-31T12:59:30.644Z"
   },
   {
    "duration": 9,
    "start_time": "2021-12-31T12:59:30.957Z"
   },
   {
    "duration": 4,
    "start_time": "2021-12-31T12:59:31.974Z"
   },
   {
    "duration": 12,
    "start_time": "2021-12-31T12:59:32.427Z"
   },
   {
    "duration": 5,
    "start_time": "2021-12-31T12:59:32.847Z"
   },
   {
    "duration": 4,
    "start_time": "2021-12-31T12:59:33.101Z"
   },
   {
    "duration": 6,
    "start_time": "2021-12-31T12:59:34.438Z"
   },
   {
    "duration": 10,
    "start_time": "2021-12-31T12:59:34.649Z"
   },
   {
    "duration": 11,
    "start_time": "2021-12-31T12:59:37.098Z"
   },
   {
    "duration": 6,
    "start_time": "2021-12-31T12:59:37.584Z"
   },
   {
    "duration": 9,
    "start_time": "2021-12-31T12:59:38.382Z"
   },
   {
    "duration": 7,
    "start_time": "2021-12-31T12:59:39.038Z"
   },
   {
    "duration": 8,
    "start_time": "2021-12-31T12:59:40.717Z"
   },
   {
    "duration": 7,
    "start_time": "2021-12-31T12:59:42.507Z"
   },
   {
    "duration": 586,
    "start_time": "2021-12-31T12:59:43.868Z"
   },
   {
    "duration": 586,
    "start_time": "2021-12-31T12:59:46.090Z"
   },
   {
    "duration": 16,
    "start_time": "2021-12-31T12:59:51.428Z"
   },
   {
    "duration": 7,
    "start_time": "2021-12-31T13:00:11.192Z"
   },
   {
    "duration": 18,
    "start_time": "2021-12-31T13:00:11.669Z"
   },
   {
    "duration": 7,
    "start_time": "2021-12-31T13:00:12.956Z"
   },
   {
    "duration": 12,
    "start_time": "2021-12-31T13:00:13.735Z"
   },
   {
    "duration": 11,
    "start_time": "2021-12-31T13:00:17.779Z"
   },
   {
    "duration": 7,
    "start_time": "2021-12-31T13:00:21.908Z"
   },
   {
    "duration": 7,
    "start_time": "2021-12-31T13:00:26.944Z"
   },
   {
    "duration": 2,
    "start_time": "2021-12-31T13:00:38.506Z"
   },
   {
    "duration": 5,
    "start_time": "2021-12-31T13:00:40.319Z"
   },
   {
    "duration": 21,
    "start_time": "2021-12-31T13:01:12.247Z"
   },
   {
    "duration": 6,
    "start_time": "2021-12-31T13:01:33.368Z"
   },
   {
    "duration": 7,
    "start_time": "2021-12-31T13:02:11.019Z"
   },
   {
    "duration": 34,
    "start_time": "2021-12-31T13:02:21.385Z"
   },
   {
    "duration": 12,
    "start_time": "2021-12-31T13:02:28.123Z"
   },
   {
    "duration": 26,
    "start_time": "2021-12-31T13:02:36.072Z"
   },
   {
    "duration": 55,
    "start_time": "2021-12-31T13:08:24.917Z"
   },
   {
    "duration": 52,
    "start_time": "2021-12-31T13:08:48.478Z"
   },
   {
    "duration": 14,
    "start_time": "2021-12-31T13:09:00.002Z"
   },
   {
    "duration": 3,
    "start_time": "2021-12-31T13:11:52.693Z"
   },
   {
    "duration": 16,
    "start_time": "2021-12-31T13:12:16.327Z"
   },
   {
    "duration": 42,
    "start_time": "2021-12-31T13:12:44.003Z"
   },
   {
    "duration": 12,
    "start_time": "2021-12-31T13:12:54.814Z"
   },
   {
    "duration": 3,
    "start_time": "2021-12-31T13:13:17.733Z"
   },
   {
    "duration": 41,
    "start_time": "2021-12-31T13:23:10.649Z"
   },
   {
    "duration": 3,
    "start_time": "2021-12-31T13:23:50.569Z"
   },
   {
    "duration": 66,
    "start_time": "2021-12-31T13:29:07.217Z"
   },
   {
    "duration": 201,
    "start_time": "2021-12-31T13:29:12.013Z"
   },
   {
    "duration": 9797,
    "start_time": "2021-12-31T13:29:26.986Z"
   },
   {
    "duration": 18,
    "start_time": "2021-12-31T13:29:58.065Z"
   },
   {
    "duration": 245,
    "start_time": "2021-12-31T13:30:44.739Z"
   },
   {
    "duration": 66,
    "start_time": "2021-12-31T13:30:54.943Z"
   },
   {
    "duration": 62,
    "start_time": "2021-12-31T13:30:59.185Z"
   },
   {
    "duration": 215,
    "start_time": "2021-12-31T13:31:03.664Z"
   },
   {
    "duration": 14,
    "start_time": "2021-12-31T13:31:17.605Z"
   },
   {
    "duration": 35,
    "start_time": "2021-12-31T13:32:05.066Z"
   },
   {
    "duration": 202,
    "start_time": "2021-12-31T13:45:24.127Z"
   },
   {
    "duration": 192,
    "start_time": "2021-12-31T13:45:33.159Z"
   },
   {
    "duration": 199,
    "start_time": "2021-12-31T13:45:43.629Z"
   },
   {
    "duration": 22,
    "start_time": "2021-12-31T13:45:49.641Z"
   },
   {
    "duration": 24,
    "start_time": "2021-12-31T13:46:03.787Z"
   },
   {
    "duration": 225,
    "start_time": "2021-12-31T13:46:12.852Z"
   },
   {
    "duration": 23,
    "start_time": "2021-12-31T13:46:44.901Z"
   },
   {
    "duration": 196,
    "start_time": "2021-12-31T13:47:02.275Z"
   },
   {
    "duration": 22,
    "start_time": "2021-12-31T13:49:30.652Z"
   },
   {
    "duration": 257,
    "start_time": "2021-12-31T13:49:44.224Z"
   },
   {
    "duration": 23,
    "start_time": "2021-12-31T13:49:56.616Z"
   },
   {
    "duration": 22,
    "start_time": "2021-12-31T13:52:50.274Z"
   },
   {
    "duration": 35,
    "start_time": "2021-12-31T14:29:53.443Z"
   },
   {
    "duration": 17,
    "start_time": "2021-12-31T14:31:07.123Z"
   },
   {
    "duration": 37,
    "start_time": "2021-12-31T14:31:16.908Z"
   },
   {
    "duration": 821,
    "start_time": "2021-12-31T14:37:32.497Z"
   },
   {
    "duration": 37,
    "start_time": "2021-12-31T14:38:18.078Z"
   },
   {
    "duration": 38,
    "start_time": "2021-12-31T14:38:38.392Z"
   },
   {
    "duration": 36,
    "start_time": "2021-12-31T15:20:01.534Z"
   },
   {
    "duration": 871,
    "start_time": "2021-12-31T15:20:27.756Z"
   },
   {
    "duration": 810,
    "start_time": "2021-12-31T15:20:45.354Z"
   },
   {
    "duration": 882,
    "start_time": "2021-12-31T15:20:53.323Z"
   },
   {
    "duration": 38,
    "start_time": "2021-12-31T15:20:59.048Z"
   },
   {
    "duration": 25,
    "start_time": "2021-12-31T15:21:16.881Z"
   },
   {
    "duration": 41,
    "start_time": "2021-12-31T16:30:04.186Z"
   },
   {
    "duration": 1557,
    "start_time": "2021-12-31T18:17:04.205Z"
   },
   {
    "duration": 49,
    "start_time": "2021-12-31T18:17:05.765Z"
   },
   {
    "duration": 6,
    "start_time": "2021-12-31T18:17:05.817Z"
   },
   {
    "duration": 4,
    "start_time": "2021-12-31T18:17:05.826Z"
   },
   {
    "duration": 39,
    "start_time": "2021-12-31T18:17:05.832Z"
   },
   {
    "duration": 12,
    "start_time": "2021-12-31T18:17:05.874Z"
   },
   {
    "duration": 13,
    "start_time": "2021-12-31T18:17:05.889Z"
   },
   {
    "duration": 5,
    "start_time": "2021-12-31T18:17:05.908Z"
   },
   {
    "duration": 61,
    "start_time": "2021-12-31T18:17:05.916Z"
   },
   {
    "duration": 7,
    "start_time": "2021-12-31T18:17:05.980Z"
   },
   {
    "duration": 6,
    "start_time": "2021-12-31T18:17:05.990Z"
   },
   {
    "duration": 9,
    "start_time": "2021-12-31T18:17:05.999Z"
   },
   {
    "duration": 72,
    "start_time": "2021-12-31T18:17:06.011Z"
   },
   {
    "duration": 18,
    "start_time": "2021-12-31T18:17:06.085Z"
   },
   {
    "duration": 7,
    "start_time": "2021-12-31T18:17:06.105Z"
   },
   {
    "duration": 54,
    "start_time": "2021-12-31T18:17:06.114Z"
   },
   {
    "duration": 9,
    "start_time": "2021-12-31T18:17:06.171Z"
   },
   {
    "duration": 10,
    "start_time": "2021-12-31T18:17:06.183Z"
   },
   {
    "duration": 9,
    "start_time": "2021-12-31T18:17:06.196Z"
   },
   {
    "duration": 1093,
    "start_time": "2021-12-31T18:17:06.207Z"
   },
   {
    "duration": 1044,
    "start_time": "2021-12-31T18:17:07.303Z"
   },
   {
    "duration": 29,
    "start_time": "2021-12-31T18:17:08.349Z"
   },
   {
    "duration": 9,
    "start_time": "2021-12-31T18:17:08.385Z"
   },
   {
    "duration": 27,
    "start_time": "2021-12-31T18:17:08.397Z"
   },
   {
    "duration": 44,
    "start_time": "2021-12-31T18:17:08.426Z"
   },
   {
    "duration": 20,
    "start_time": "2021-12-31T18:17:08.473Z"
   },
   {
    "duration": 23,
    "start_time": "2021-12-31T18:17:08.496Z"
   },
   {
    "duration": 45,
    "start_time": "2021-12-31T18:17:08.522Z"
   },
   {
    "duration": 8,
    "start_time": "2021-12-31T18:17:08.570Z"
   },
   {
    "duration": 3,
    "start_time": "2021-12-31T18:17:08.581Z"
   },
   {
    "duration": 36,
    "start_time": "2021-12-31T18:17:08.587Z"
   },
   {
    "duration": 4,
    "start_time": "2021-12-31T18:17:08.662Z"
   },
   {
    "duration": 38,
    "start_time": "2021-12-31T18:17:08.669Z"
   },
   {
    "duration": 100,
    "start_time": "2021-12-31T18:17:08.710Z"
   },
   {
    "duration": 3,
    "start_time": "2021-12-31T18:17:08.813Z"
   },
   {
    "duration": 4,
    "start_time": "2021-12-31T18:17:08.819Z"
   },
   {
    "duration": 5,
    "start_time": "2021-12-31T18:17:08.826Z"
   },
   {
    "duration": 45,
    "start_time": "2021-12-31T18:17:08.834Z"
   },
   {
    "duration": 28,
    "start_time": "2021-12-31T18:17:08.881Z"
   },
   {
    "duration": 95,
    "start_time": "2021-12-31T18:17:08.912Z"
   },
   {
    "duration": 56,
    "start_time": "2021-12-31T18:17:09.010Z"
   },
   {
    "duration": 20,
    "start_time": "2021-12-31T18:17:09.069Z"
   },
   {
    "duration": 6,
    "start_time": "2021-12-31T18:17:09.092Z"
   },
   {
    "duration": 981,
    "start_time": "2021-12-31T18:17:09.100Z"
   },
   {
    "duration": 5125,
    "start_time": "2021-12-31T18:17:10.084Z"
   },
   {
    "duration": 51,
    "start_time": "2021-12-31T18:17:15.212Z"
   },
   {
    "duration": 14957,
    "start_time": "2021-12-31T18:17:15.266Z"
   },
   {
    "duration": 16,
    "start_time": "2021-12-31T18:17:30.225Z"
   },
   {
    "duration": 16,
    "start_time": "2021-12-31T18:17:30.264Z"
   },
   {
    "duration": 272,
    "start_time": "2021-12-31T18:17:30.283Z"
   },
   {
    "duration": 55,
    "start_time": "2021-12-31T18:17:30.562Z"
   },
   {
    "duration": 274,
    "start_time": "2021-12-31T18:17:30.619Z"
   },
   {
    "duration": 10,
    "start_time": "2021-12-31T18:17:30.896Z"
   },
   {
    "duration": 13,
    "start_time": "2021-12-31T18:17:30.908Z"
   },
   {
    "duration": 40,
    "start_time": "2021-12-31T18:17:30.923Z"
   },
   {
    "duration": 10,
    "start_time": "2021-12-31T18:17:30.965Z"
   },
   {
    "duration": 289,
    "start_time": "2021-12-31T18:17:30.977Z"
   },
   {
    "duration": 246,
    "start_time": "2021-12-31T18:17:31.269Z"
   },
   {
    "duration": 72,
    "start_time": "2021-12-31T18:17:31.517Z"
   },
   {
    "duration": 43,
    "start_time": "2021-12-31T18:17:31.591Z"
   },
   {
    "duration": 56,
    "start_time": "2021-12-31T18:19:40.578Z"
   },
   {
    "duration": 22,
    "start_time": "2021-12-31T18:19:49.465Z"
   },
   {
    "duration": 471,
    "start_time": "2021-12-31T18:25:42.505Z"
   },
   {
    "duration": 29,
    "start_time": "2021-12-31T18:25:46.175Z"
   },
   {
    "duration": 1752,
    "start_time": "2021-12-31T18:28:59.904Z"
   },
   {
    "duration": 55,
    "start_time": "2021-12-31T18:29:01.659Z"
   },
   {
    "duration": 7,
    "start_time": "2021-12-31T18:29:01.716Z"
   },
   {
    "duration": 10,
    "start_time": "2021-12-31T18:29:01.726Z"
   },
   {
    "duration": 26,
    "start_time": "2021-12-31T18:29:01.738Z"
   },
   {
    "duration": 25,
    "start_time": "2021-12-31T18:29:01.767Z"
   },
   {
    "duration": 26,
    "start_time": "2021-12-31T18:29:01.795Z"
   },
   {
    "duration": 11,
    "start_time": "2021-12-31T18:29:01.825Z"
   },
   {
    "duration": 27,
    "start_time": "2021-12-31T18:29:01.839Z"
   },
   {
    "duration": 7,
    "start_time": "2021-12-31T18:29:01.868Z"
   },
   {
    "duration": 8,
    "start_time": "2021-12-31T18:29:01.877Z"
   },
   {
    "duration": 9,
    "start_time": "2021-12-31T18:29:01.888Z"
   },
   {
    "duration": 28,
    "start_time": "2021-12-31T18:29:01.900Z"
   },
   {
    "duration": 43,
    "start_time": "2021-12-31T18:29:01.930Z"
   },
   {
    "duration": 7,
    "start_time": "2021-12-31T18:29:01.976Z"
   },
   {
    "duration": 13,
    "start_time": "2021-12-31T18:29:01.986Z"
   },
   {
    "duration": 9,
    "start_time": "2021-12-31T18:29:02.002Z"
   },
   {
    "duration": 54,
    "start_time": "2021-12-31T18:29:02.014Z"
   },
   {
    "duration": 11,
    "start_time": "2021-12-31T18:29:02.071Z"
   },
   {
    "duration": 1082,
    "start_time": "2021-12-31T18:29:02.084Z"
   },
   {
    "duration": 1067,
    "start_time": "2021-12-31T18:29:03.168Z"
   },
   {
    "duration": 36,
    "start_time": "2021-12-31T18:29:04.238Z"
   },
   {
    "duration": 11,
    "start_time": "2021-12-31T18:29:04.280Z"
   },
   {
    "duration": 68,
    "start_time": "2021-12-31T18:29:04.295Z"
   },
   {
    "duration": 11,
    "start_time": "2021-12-31T18:29:04.366Z"
   },
   {
    "duration": 22,
    "start_time": "2021-12-31T18:29:04.380Z"
   },
   {
    "duration": 59,
    "start_time": "2021-12-31T18:29:04.405Z"
   },
   {
    "duration": 13,
    "start_time": "2021-12-31T18:29:04.467Z"
   },
   {
    "duration": 10,
    "start_time": "2021-12-31T18:29:04.483Z"
   },
   {
    "duration": 4,
    "start_time": "2021-12-31T18:29:04.496Z"
   },
   {
    "duration": 80,
    "start_time": "2021-12-31T18:29:04.502Z"
   },
   {
    "duration": 4,
    "start_time": "2021-12-31T18:29:04.585Z"
   },
   {
    "duration": 41,
    "start_time": "2021-12-31T18:29:04.591Z"
   },
   {
    "duration": 62,
    "start_time": "2021-12-31T18:29:14.462Z"
   },
   {
    "duration": 7,
    "start_time": "2021-12-31T18:31:57.872Z"
   },
   {
    "duration": 517,
    "start_time": "2021-12-31T18:32:11.808Z"
   },
   {
    "duration": 501,
    "start_time": "2021-12-31T18:32:32.462Z"
   },
   {
    "duration": 48,
    "start_time": "2021-12-31T18:32:38.734Z"
   },
   {
    "duration": 48,
    "start_time": "2021-12-31T18:32:56.891Z"
   },
   {
    "duration": 47,
    "start_time": "2021-12-31T18:33:00.970Z"
   },
   {
    "duration": 7259,
    "start_time": "2021-12-31T18:33:10.089Z"
   },
   {
    "duration": 82,
    "start_time": "2021-12-31T18:33:19.036Z"
   },
   {
    "duration": 315,
    "start_time": "2021-12-31T18:36:00.994Z"
   },
   {
    "duration": 13,
    "start_time": "2021-12-31T18:36:08.226Z"
   },
   {
    "duration": 18,
    "start_time": "2021-12-31T18:36:29.018Z"
   },
   {
    "duration": 19,
    "start_time": "2021-12-31T18:36:40.851Z"
   },
   {
    "duration": 17,
    "start_time": "2021-12-31T18:36:49.489Z"
   },
   {
    "duration": 17,
    "start_time": "2021-12-31T18:37:00.327Z"
   },
   {
    "duration": 18,
    "start_time": "2021-12-31T18:37:07.977Z"
   },
   {
    "duration": 7,
    "start_time": "2021-12-31T18:37:19.925Z"
   },
   {
    "duration": 18,
    "start_time": "2021-12-31T18:38:27.447Z"
   },
   {
    "duration": 19,
    "start_time": "2021-12-31T18:39:27.141Z"
   },
   {
    "duration": 17,
    "start_time": "2021-12-31T18:39:32.242Z"
   },
   {
    "duration": 16,
    "start_time": "2021-12-31T18:39:34.482Z"
   },
   {
    "duration": 73,
    "start_time": "2021-12-31T18:40:12.536Z"
   },
   {
    "duration": 19,
    "start_time": "2021-12-31T18:40:25.403Z"
   },
   {
    "duration": 17,
    "start_time": "2021-12-31T18:40:34.846Z"
   },
   {
    "duration": 17,
    "start_time": "2021-12-31T18:42:20.607Z"
   },
   {
    "duration": 5,
    "start_time": "2021-12-31T18:43:07.627Z"
   },
   {
    "duration": 62,
    "start_time": "2021-12-31T18:43:24.775Z"
   },
   {
    "duration": 59,
    "start_time": "2021-12-31T18:43:31.627Z"
   },
   {
    "duration": 60,
    "start_time": "2021-12-31T18:43:42.109Z"
   },
   {
    "duration": 59,
    "start_time": "2021-12-31T18:43:47.008Z"
   },
   {
    "duration": 17,
    "start_time": "2021-12-31T18:45:19.636Z"
   },
   {
    "duration": 59,
    "start_time": "2021-12-31T18:45:22.441Z"
   },
   {
    "duration": 40,
    "start_time": "2021-12-31T18:47:59.639Z"
   },
   {
    "duration": 59,
    "start_time": "2021-12-31T18:48:29.727Z"
   },
   {
    "duration": 24,
    "start_time": "2021-12-31T18:48:49.527Z"
   },
   {
    "duration": 16,
    "start_time": "2021-12-31T18:49:37.192Z"
   },
   {
    "duration": 16,
    "start_time": "2021-12-31T18:49:42.788Z"
   },
   {
    "duration": 15,
    "start_time": "2021-12-31T18:49:56.087Z"
   },
   {
    "duration": 15,
    "start_time": "2021-12-31T18:50:09.387Z"
   },
   {
    "duration": 16,
    "start_time": "2021-12-31T18:50:24.441Z"
   },
   {
    "duration": 15,
    "start_time": "2021-12-31T18:50:36.447Z"
   },
   {
    "duration": 23,
    "start_time": "2021-12-31T18:50:44.406Z"
   },
   {
    "duration": 15,
    "start_time": "2021-12-31T18:50:54.062Z"
   },
   {
    "duration": 17,
    "start_time": "2021-12-31T18:50:58.347Z"
   },
   {
    "duration": 17,
    "start_time": "2021-12-31T18:51:05.452Z"
   },
   {
    "duration": 22,
    "start_time": "2021-12-31T18:51:12.278Z"
   },
   {
    "duration": 19,
    "start_time": "2021-12-31T18:51:49.399Z"
   },
   {
    "duration": 18,
    "start_time": "2021-12-31T18:51:57.084Z"
   },
   {
    "duration": 19,
    "start_time": "2021-12-31T18:53:25.019Z"
   },
   {
    "duration": 60,
    "start_time": "2021-12-31T18:57:28.999Z"
   },
   {
    "duration": 59,
    "start_time": "2021-12-31T18:57:38.404Z"
   },
   {
    "duration": 67,
    "start_time": "2021-12-31T18:57:53.439Z"
   },
   {
    "duration": 17,
    "start_time": "2021-12-31T18:59:38.217Z"
   },
   {
    "duration": 15,
    "start_time": "2021-12-31T18:59:44.473Z"
   },
   {
    "duration": 17,
    "start_time": "2021-12-31T19:00:39.816Z"
   },
   {
    "duration": 18,
    "start_time": "2021-12-31T19:00:52.891Z"
   },
   {
    "duration": 16,
    "start_time": "2021-12-31T19:01:22.872Z"
   },
   {
    "duration": 25,
    "start_time": "2021-12-31T19:01:27.880Z"
   },
   {
    "duration": 23,
    "start_time": "2021-12-31T19:01:40.359Z"
   },
   {
    "duration": 115,
    "start_time": "2021-12-31T19:01:49.105Z"
   },
   {
    "duration": 19,
    "start_time": "2021-12-31T19:01:53.865Z"
   },
   {
    "duration": 18,
    "start_time": "2021-12-31T19:02:06.007Z"
   },
   {
    "duration": 292,
    "start_time": "2021-12-31T19:02:33.180Z"
   },
   {
    "duration": 527,
    "start_time": "2021-12-31T19:03:10.984Z"
   },
   {
    "duration": 17,
    "start_time": "2021-12-31T19:03:18.980Z"
   },
   {
    "duration": 21,
    "start_time": "2021-12-31T19:03:22.910Z"
   },
   {
    "duration": 303,
    "start_time": "2021-12-31T19:04:03.919Z"
   },
   {
    "duration": 13,
    "start_time": "2021-12-31T19:04:11.298Z"
   },
   {
    "duration": 75,
    "start_time": "2021-12-31T19:07:44.681Z"
   },
   {
    "duration": 10,
    "start_time": "2021-12-31T19:07:52.854Z"
   },
   {
    "duration": 3,
    "start_time": "2021-12-31T19:08:12.376Z"
   },
   {
    "duration": 4,
    "start_time": "2021-12-31T19:08:12.649Z"
   },
   {
    "duration": 23,
    "start_time": "2021-12-31T19:09:54.529Z"
   },
   {
    "duration": 27,
    "start_time": "2021-12-31T19:10:37.204Z"
   },
   {
    "duration": 41,
    "start_time": "2021-12-31T19:10:38.293Z"
   },
   {
    "duration": 28,
    "start_time": "2021-12-31T19:10:41.102Z"
   },
   {
    "duration": 18,
    "start_time": "2021-12-31T19:10:41.680Z"
   },
   {
    "duration": 7,
    "start_time": "2021-12-31T19:10:45.865Z"
   },
   {
    "duration": 1049,
    "start_time": "2021-12-31T19:11:32.470Z"
   },
   {
    "duration": 5670,
    "start_time": "2021-12-31T19:11:44.838Z"
   },
   {
    "duration": 25,
    "start_time": "2021-12-31T19:14:32.390Z"
   },
   {
    "duration": 15520,
    "start_time": "2021-12-31T19:18:57.819Z"
   },
   {
    "duration": 18,
    "start_time": "2021-12-31T19:24:20.765Z"
   },
   {
    "duration": 248,
    "start_time": "2021-12-31T19:24:30.880Z"
   },
   {
    "duration": 52,
    "start_time": "2021-12-31T19:24:56.680Z"
   },
   {
    "duration": 279,
    "start_time": "2021-12-31T19:27:06.351Z"
   },
   {
    "duration": 12,
    "start_time": "2021-12-31T19:27:18.851Z"
   },
   {
    "duration": 12,
    "start_time": "2021-12-31T19:27:21.138Z"
   },
   {
    "duration": 11,
    "start_time": "2021-12-31T19:27:22.460Z"
   },
   {
    "duration": 10,
    "start_time": "2021-12-31T19:27:22.680Z"
   },
   {
    "duration": 254,
    "start_time": "2021-12-31T19:27:22.882Z"
   },
   {
    "duration": 250,
    "start_time": "2021-12-31T19:27:27.318Z"
   },
   {
    "duration": 60,
    "start_time": "2021-12-31T19:27:29.110Z"
   },
   {
    "duration": 45,
    "start_time": "2021-12-31T19:27:58.232Z"
   },
   {
    "duration": 1696,
    "start_time": "2021-12-31T19:30:29.463Z"
   },
   {
    "duration": 49,
    "start_time": "2021-12-31T19:30:31.161Z"
   },
   {
    "duration": 7,
    "start_time": "2021-12-31T19:30:31.213Z"
   },
   {
    "duration": 9,
    "start_time": "2021-12-31T19:30:31.223Z"
   },
   {
    "duration": 33,
    "start_time": "2021-12-31T19:30:31.235Z"
   },
   {
    "duration": 9,
    "start_time": "2021-12-31T19:30:31.271Z"
   },
   {
    "duration": 19,
    "start_time": "2021-12-31T19:30:31.283Z"
   },
   {
    "duration": 20,
    "start_time": "2021-12-31T19:30:31.304Z"
   },
   {
    "duration": 45,
    "start_time": "2021-12-31T19:30:31.329Z"
   },
   {
    "duration": 7,
    "start_time": "2021-12-31T19:30:31.377Z"
   },
   {
    "duration": 7,
    "start_time": "2021-12-31T19:30:31.387Z"
   },
   {
    "duration": 10,
    "start_time": "2021-12-31T19:30:31.397Z"
   },
   {
    "duration": 58,
    "start_time": "2021-12-31T19:30:31.410Z"
   },
   {
    "duration": 15,
    "start_time": "2021-12-31T19:30:31.470Z"
   },
   {
    "duration": 8,
    "start_time": "2021-12-31T19:30:31.487Z"
   },
   {
    "duration": 13,
    "start_time": "2021-12-31T19:30:31.497Z"
   },
   {
    "duration": 52,
    "start_time": "2021-12-31T19:30:31.512Z"
   },
   {
    "duration": 13,
    "start_time": "2021-12-31T19:30:31.566Z"
   },
   {
    "duration": 12,
    "start_time": "2021-12-31T19:30:31.582Z"
   },
   {
    "duration": 1068,
    "start_time": "2021-12-31T19:30:31.597Z"
   },
   {
    "duration": 1043,
    "start_time": "2021-12-31T19:30:32.668Z"
   },
   {
    "duration": 25,
    "start_time": "2021-12-31T19:30:33.714Z"
   },
   {
    "duration": 26,
    "start_time": "2021-12-31T19:30:33.742Z"
   },
   {
    "duration": 27,
    "start_time": "2021-12-31T19:30:33.771Z"
   },
   {
    "duration": 10,
    "start_time": "2021-12-31T19:30:33.801Z"
   },
   {
    "duration": 57,
    "start_time": "2021-12-31T19:30:33.813Z"
   },
   {
    "duration": 17,
    "start_time": "2021-12-31T19:30:33.876Z"
   },
   {
    "duration": 9,
    "start_time": "2021-12-31T19:30:33.897Z"
   },
   {
    "duration": 7,
    "start_time": "2021-12-31T19:30:33.909Z"
   },
   {
    "duration": 3,
    "start_time": "2021-12-31T19:30:33.919Z"
   },
   {
    "duration": 34,
    "start_time": "2021-12-31T19:30:33.963Z"
   },
   {
    "duration": 5,
    "start_time": "2021-12-31T19:30:33.999Z"
   },
   {
    "duration": 71,
    "start_time": "2021-12-31T19:30:34.006Z"
   },
   {
    "duration": 85,
    "start_time": "2021-12-31T19:30:34.079Z"
   },
   {
    "duration": 3,
    "start_time": "2021-12-31T19:30:34.167Z"
   },
   {
    "duration": 8,
    "start_time": "2021-12-31T19:30:34.173Z"
   },
   {
    "duration": 5,
    "start_time": "2021-12-31T19:30:34.184Z"
   },
   {
    "duration": 24,
    "start_time": "2021-12-31T19:30:34.192Z"
   },
   {
    "duration": 79,
    "start_time": "2021-12-31T19:30:34.219Z"
   },
   {
    "duration": 84,
    "start_time": "2021-12-31T19:30:34.301Z"
   },
   {
    "duration": 28,
    "start_time": "2021-12-31T19:30:34.388Z"
   },
   {
    "duration": 48,
    "start_time": "2021-12-31T19:30:34.418Z"
   },
   {
    "duration": 7,
    "start_time": "2021-12-31T19:30:34.468Z"
   },
   {
    "duration": 1405,
    "start_time": "2021-12-31T19:30:34.478Z"
   },
   {
    "duration": 5331,
    "start_time": "2021-12-31T19:30:35.886Z"
   },
   {
    "duration": 4,
    "start_time": "2021-12-31T19:30:41.265Z"
   },
   {
    "duration": 15372,
    "start_time": "2021-12-31T19:30:41.271Z"
   },
   {
    "duration": 27,
    "start_time": "2021-12-31T19:30:56.646Z"
   },
   {
    "duration": 14,
    "start_time": "2021-12-31T19:30:56.676Z"
   },
   {
    "duration": 262,
    "start_time": "2021-12-31T19:30:56.692Z"
   },
   {
    "duration": 55,
    "start_time": "2021-12-31T19:30:56.957Z"
   },
   {
    "duration": 263,
    "start_time": "2021-12-31T19:30:57.014Z"
   },
   {
    "duration": 10,
    "start_time": "2021-12-31T19:30:57.279Z"
   },
   {
    "duration": 11,
    "start_time": "2021-12-31T19:30:57.291Z"
   },
   {
    "duration": 10,
    "start_time": "2021-12-31T19:30:57.305Z"
   },
   {
    "duration": 47,
    "start_time": "2021-12-31T19:30:57.318Z"
   },
   {
    "duration": 369,
    "start_time": "2021-12-31T19:30:57.368Z"
   },
   {
    "duration": 323,
    "start_time": "2021-12-31T19:30:57.740Z"
   },
   {
    "duration": 97,
    "start_time": "2021-12-31T19:30:58.066Z"
   },
   {
    "duration": 59,
    "start_time": "2021-12-31T19:30:58.166Z"
   },
   {
    "duration": 13,
    "start_time": "2021-12-31T19:41:45.124Z"
   },
   {
    "duration": 7,
    "start_time": "2022-01-01T00:14:46.727Z"
   },
   {
    "duration": 7,
    "start_time": "2022-01-01T00:14:51.456Z"
   },
   {
    "duration": 6,
    "start_time": "2022-01-01T00:14:55.946Z"
   },
   {
    "duration": 459,
    "start_time": "2022-01-01T10:31:13.013Z"
   },
   {
    "duration": 376,
    "start_time": "2022-01-01T10:36:06.864Z"
   },
   {
    "duration": 1662,
    "start_time": "2022-01-01T10:55:13.594Z"
   },
   {
    "duration": 79,
    "start_time": "2022-01-01T10:55:15.259Z"
   },
   {
    "duration": 7,
    "start_time": "2022-01-01T10:55:15.595Z"
   },
   {
    "duration": 3,
    "start_time": "2022-01-01T10:55:16.069Z"
   },
   {
    "duration": 9,
    "start_time": "2022-01-01T10:55:16.673Z"
   },
   {
    "duration": 9,
    "start_time": "2022-01-01T10:55:17.296Z"
   },
   {
    "duration": 13,
    "start_time": "2022-01-01T10:55:17.727Z"
   },
   {
    "duration": 5,
    "start_time": "2022-01-01T10:55:18.581Z"
   },
   {
    "duration": 16,
    "start_time": "2022-01-01T10:55:19.042Z"
   },
   {
    "duration": 7,
    "start_time": "2022-01-01T10:55:19.462Z"
   },
   {
    "duration": 5,
    "start_time": "2022-01-01T10:55:19.676Z"
   },
   {
    "duration": 8,
    "start_time": "2022-01-01T10:55:21.018Z"
   },
   {
    "duration": 33,
    "start_time": "2022-01-01T10:55:21.298Z"
   },
   {
    "duration": 15,
    "start_time": "2022-01-01T10:55:21.983Z"
   },
   {
    "duration": 9,
    "start_time": "2022-01-01T10:55:22.499Z"
   },
   {
    "duration": 13,
    "start_time": "2022-01-01T10:55:23.459Z"
   },
   {
    "duration": 9,
    "start_time": "2022-01-01T10:55:23.883Z"
   },
   {
    "duration": 11,
    "start_time": "2022-01-01T10:55:24.753Z"
   },
   {
    "duration": 11,
    "start_time": "2022-01-01T10:55:25.168Z"
   },
   {
    "duration": 989,
    "start_time": "2022-01-01T10:55:25.887Z"
   },
   {
    "duration": 997,
    "start_time": "2022-01-01T10:55:26.879Z"
   },
   {
    "duration": 22,
    "start_time": "2022-01-01T10:55:27.879Z"
   },
   {
    "duration": 10,
    "start_time": "2022-01-01T10:55:28.882Z"
   },
   {
    "duration": 27,
    "start_time": "2022-01-01T10:55:29.475Z"
   },
   {
    "duration": 9,
    "start_time": "2022-01-01T10:55:30.638Z"
   },
   {
    "duration": 18,
    "start_time": "2022-01-01T10:55:31.420Z"
   },
   {
    "duration": 17,
    "start_time": "2022-01-01T10:55:36.902Z"
   },
   {
    "duration": 10,
    "start_time": "2022-01-01T10:55:38.482Z"
   },
   {
    "duration": 8,
    "start_time": "2022-01-01T10:55:40.892Z"
   },
   {
    "duration": 3,
    "start_time": "2022-01-01T10:55:41.928Z"
   },
   {
    "duration": 36,
    "start_time": "2022-01-01T10:55:43.067Z"
   },
   {
    "duration": 5,
    "start_time": "2022-01-01T10:55:55.684Z"
   },
   {
    "duration": 29,
    "start_time": "2022-01-01T10:56:19.132Z"
   },
   {
    "duration": 20,
    "start_time": "2022-01-01T11:07:30.327Z"
   },
   {
    "duration": 428,
    "start_time": "2022-01-01T11:07:53.531Z"
   },
   {
    "duration": 327,
    "start_time": "2022-01-01T11:08:04.939Z"
   },
   {
    "duration": 346,
    "start_time": "2022-01-01T11:08:14.311Z"
   },
   {
    "duration": 36,
    "start_time": "2022-01-01T11:09:11.375Z"
   },
   {
    "duration": 7,
    "start_time": "2022-01-01T11:15:46.204Z"
   },
   {
    "duration": 12,
    "start_time": "2022-01-01T11:15:52.536Z"
   },
   {
    "duration": 10,
    "start_time": "2022-01-01T11:16:07.959Z"
   },
   {
    "duration": 26,
    "start_time": "2022-01-01T11:16:19.642Z"
   },
   {
    "duration": 23,
    "start_time": "2022-01-01T11:16:49.173Z"
   },
   {
    "duration": 9,
    "start_time": "2022-01-01T11:17:01.493Z"
   },
   {
    "duration": 10,
    "start_time": "2022-01-01T11:17:33.257Z"
   },
   {
    "duration": 10,
    "start_time": "2022-01-01T11:18:04.810Z"
   },
   {
    "duration": 11,
    "start_time": "2022-01-01T11:18:52.851Z"
   },
   {
    "duration": 11,
    "start_time": "2022-01-01T11:19:00.881Z"
   },
   {
    "duration": 12,
    "start_time": "2022-01-01T11:19:04.363Z"
   },
   {
    "duration": 459,
    "start_time": "2022-01-01T11:20:18.979Z"
   },
   {
    "duration": 330,
    "start_time": "2022-01-01T11:20:27.570Z"
   },
   {
    "duration": 21,
    "start_time": "2022-01-01T11:24:27.170Z"
   },
   {
    "duration": 23,
    "start_time": "2022-01-01T11:24:56.198Z"
   },
   {
    "duration": 8,
    "start_time": "2022-01-01T11:25:43.997Z"
   },
   {
    "duration": 77,
    "start_time": "2022-01-01T11:25:52.466Z"
   },
   {
    "duration": 49,
    "start_time": "2022-01-01T11:25:57.108Z"
   },
   {
    "duration": 8,
    "start_time": "2022-01-01T11:25:58.297Z"
   },
   {
    "duration": 4,
    "start_time": "2022-01-01T11:25:58.641Z"
   },
   {
    "duration": 9,
    "start_time": "2022-01-01T11:25:59.192Z"
   },
   {
    "duration": 8,
    "start_time": "2022-01-01T11:25:59.755Z"
   },
   {
    "duration": 13,
    "start_time": "2022-01-01T11:26:00.090Z"
   },
   {
    "duration": 5,
    "start_time": "2022-01-01T11:26:00.751Z"
   },
   {
    "duration": 15,
    "start_time": "2022-01-01T11:26:01.244Z"
   },
   {
    "duration": 7,
    "start_time": "2022-01-01T11:26:01.511Z"
   },
   {
    "duration": 5,
    "start_time": "2022-01-01T11:26:01.645Z"
   },
   {
    "duration": 9,
    "start_time": "2022-01-01T11:26:02.320Z"
   },
   {
    "duration": 17,
    "start_time": "2022-01-01T11:26:02.453Z"
   },
   {
    "duration": 26,
    "start_time": "2022-01-01T11:26:15.596Z"
   },
   {
    "duration": 11,
    "start_time": "2022-01-01T11:26:23.244Z"
   },
   {
    "duration": 25,
    "start_time": "2022-01-01T11:26:34.583Z"
   },
   {
    "duration": 7,
    "start_time": "2022-01-01T11:26:40.788Z"
   },
   {
    "duration": 336,
    "start_time": "2022-01-01T11:28:28.598Z"
   },
   {
    "duration": 34,
    "start_time": "2022-01-01T11:28:48.057Z"
   },
   {
    "duration": 9,
    "start_time": "2022-01-01T11:29:10.967Z"
   },
   {
    "duration": 19,
    "start_time": "2022-01-01T11:29:56.665Z"
   },
   {
    "duration": 7894,
    "start_time": "2022-01-01T11:30:21.187Z"
   },
   {
    "duration": 16,
    "start_time": "2022-01-01T11:30:38.631Z"
   },
   {
    "duration": 10,
    "start_time": "2022-01-01T11:31:12.841Z"
   },
   {
    "duration": 16,
    "start_time": "2022-01-01T11:31:42.231Z"
   },
   {
    "duration": 80,
    "start_time": "2022-01-01T11:32:22.415Z"
   },
   {
    "duration": 45,
    "start_time": "2022-01-01T11:32:22.723Z"
   },
   {
    "duration": 8,
    "start_time": "2022-01-01T11:32:24.290Z"
   },
   {
    "duration": 3,
    "start_time": "2022-01-01T11:32:24.722Z"
   },
   {
    "duration": 9,
    "start_time": "2022-01-01T11:32:25.368Z"
   },
   {
    "duration": 9,
    "start_time": "2022-01-01T11:32:26.059Z"
   },
   {
    "duration": 11,
    "start_time": "2022-01-01T11:32:26.439Z"
   },
   {
    "duration": 6,
    "start_time": "2022-01-01T11:32:27.315Z"
   },
   {
    "duration": 14,
    "start_time": "2022-01-01T11:32:27.807Z"
   },
   {
    "duration": 9,
    "start_time": "2022-01-01T11:32:28.294Z"
   },
   {
    "duration": 5,
    "start_time": "2022-01-01T11:32:28.522Z"
   },
   {
    "duration": 8,
    "start_time": "2022-01-01T11:32:29.923Z"
   },
   {
    "duration": 15,
    "start_time": "2022-01-01T11:32:30.134Z"
   },
   {
    "duration": 16,
    "start_time": "2022-01-01T11:32:30.831Z"
   },
   {
    "duration": 8,
    "start_time": "2022-01-01T11:32:31.301Z"
   },
   {
    "duration": 13,
    "start_time": "2022-01-01T11:32:32.115Z"
   },
   {
    "duration": 10,
    "start_time": "2022-01-01T11:32:32.498Z"
   },
   {
    "duration": 10,
    "start_time": "2022-01-01T11:32:33.366Z"
   },
   {
    "duration": 11,
    "start_time": "2022-01-01T11:32:33.738Z"
   },
   {
    "duration": 960,
    "start_time": "2022-01-01T11:32:35.977Z"
   },
   {
    "duration": 993,
    "start_time": "2022-01-01T11:32:36.939Z"
   },
   {
    "duration": 24,
    "start_time": "2022-01-01T11:32:37.936Z"
   },
   {
    "duration": 11,
    "start_time": "2022-01-01T11:32:38.314Z"
   },
   {
    "duration": 27,
    "start_time": "2022-01-01T11:32:40.987Z"
   },
   {
    "duration": 133,
    "start_time": "2022-01-01T11:34:24.706Z"
   },
   {
    "duration": 365,
    "start_time": "2022-01-01T11:34:35.835Z"
   },
   {
    "duration": 33,
    "start_time": "2022-01-01T11:36:40.069Z"
   },
   {
    "duration": 7934,
    "start_time": "2022-01-01T11:44:21.363Z"
   },
   {
    "duration": 8042,
    "start_time": "2022-01-01T11:44:39.205Z"
   },
   {
    "duration": 330,
    "start_time": "2022-01-01T12:26:32.078Z"
   },
   {
    "duration": 351,
    "start_time": "2022-01-01T12:27:11.484Z"
   },
   {
    "duration": 481,
    "start_time": "2022-01-01T12:27:21.760Z"
   },
   {
    "duration": 22,
    "start_time": "2022-01-01T12:35:10.870Z"
   },
   {
    "duration": 29,
    "start_time": "2022-01-01T12:35:24.773Z"
   },
   {
    "duration": 7,
    "start_time": "2022-01-01T12:36:09.854Z"
   },
   {
    "duration": 3532,
    "start_time": "2022-01-01T12:37:44.696Z"
   },
   {
    "duration": 3595,
    "start_time": "2022-01-01T12:43:11.648Z"
   },
   {
    "duration": 4,
    "start_time": "2022-01-01T12:43:22.553Z"
   },
   {
    "duration": 4095,
    "start_time": "2022-01-01T12:43:35.495Z"
   },
   {
    "duration": 3244,
    "start_time": "2022-01-01T12:43:47.163Z"
   },
   {
    "duration": 3352,
    "start_time": "2022-01-01T12:44:31.864Z"
   },
   {
    "duration": 3270,
    "start_time": "2022-01-01T12:45:03.886Z"
   },
   {
    "duration": 3533,
    "start_time": "2022-01-01T12:45:37.325Z"
   },
   {
    "duration": 3099,
    "start_time": "2022-01-01T12:48:18.825Z"
   },
   {
    "duration": 3195,
    "start_time": "2022-01-01T12:48:43.306Z"
   },
   {
    "duration": 4,
    "start_time": "2022-01-01T12:48:57.388Z"
   },
   {
    "duration": 4671,
    "start_time": "2022-01-01T12:55:47.052Z"
   },
   {
    "duration": 17,
    "start_time": "2022-01-01T12:55:55.027Z"
   },
   {
    "duration": 5124,
    "start_time": "2022-01-01T12:57:45.541Z"
   },
   {
    "duration": 16,
    "start_time": "2022-01-01T12:57:50.669Z"
   },
   {
    "duration": 4572,
    "start_time": "2022-01-01T12:58:16.776Z"
   },
   {
    "duration": 15,
    "start_time": "2022-01-01T12:58:21.351Z"
   },
   {
    "duration": 4658,
    "start_time": "2022-01-01T13:00:08.213Z"
   },
   {
    "duration": 4743,
    "start_time": "2022-01-01T13:01:32.260Z"
   },
   {
    "duration": 30,
    "start_time": "2022-01-01T13:01:37.006Z"
   },
   {
    "duration": 49,
    "start_time": "2022-01-01T13:02:04.837Z"
   },
   {
    "duration": 834,
    "start_time": "2022-01-01T13:03:24.085Z"
   },
   {
    "duration": 786,
    "start_time": "2022-01-01T13:04:01.420Z"
   },
   {
    "duration": 43,
    "start_time": "2022-01-01T13:04:10.033Z"
   },
   {
    "duration": 37,
    "start_time": "2022-01-01T13:04:17.907Z"
   },
   {
    "duration": 515,
    "start_time": "2022-01-01T13:04:52.848Z"
   },
   {
    "duration": 39,
    "start_time": "2022-01-01T13:05:13.781Z"
   },
   {
    "duration": 44,
    "start_time": "2022-01-01T13:05:28.273Z"
   },
   {
    "duration": 431,
    "start_time": "2022-01-01T13:05:55.133Z"
   },
   {
    "duration": 36,
    "start_time": "2022-01-01T13:06:04.037Z"
   },
   {
    "duration": 44,
    "start_time": "2022-01-01T13:06:16.352Z"
   },
   {
    "duration": 125,
    "start_time": "2022-01-01T13:08:10.623Z"
   },
   {
    "duration": 386,
    "start_time": "2022-01-01T20:24:45.375Z"
   },
   {
    "duration": 1436,
    "start_time": "2022-01-01T20:24:52.468Z"
   },
   {
    "duration": 91,
    "start_time": "2022-01-01T20:24:53.907Z"
   },
   {
    "duration": 12,
    "start_time": "2022-01-01T20:24:55.334Z"
   },
   {
    "duration": 433,
    "start_time": "2022-01-01T20:26:02.172Z"
   },
   {
    "duration": 14,
    "start_time": "2022-01-01T20:31:20.851Z"
   },
   {
    "duration": 18,
    "start_time": "2022-01-01T20:38:15.650Z"
   },
   {
    "duration": 380,
    "start_time": "2022-01-01T20:38:25.043Z"
   },
   {
    "duration": 15,
    "start_time": "2022-01-01T20:38:57.793Z"
   },
   {
    "duration": 7,
    "start_time": "2022-01-01T20:39:42.226Z"
   },
   {
    "duration": 6,
    "start_time": "2022-01-01T20:40:10.810Z"
   },
   {
    "duration": 6,
    "start_time": "2022-01-01T20:40:20.859Z"
   },
   {
    "duration": 6,
    "start_time": "2022-01-01T20:40:27.391Z"
   },
   {
    "duration": 7,
    "start_time": "2022-01-01T20:40:35.076Z"
   },
   {
    "duration": 346,
    "start_time": "2022-01-01T20:44:49.257Z"
   },
   {
    "duration": 6,
    "start_time": "2022-01-01T20:45:02.042Z"
   },
   {
    "duration": 85,
    "start_time": "2022-01-01T20:45:02.216Z"
   },
   {
    "duration": 354,
    "start_time": "2022-01-01T20:45:05.862Z"
   },
   {
    "duration": 6,
    "start_time": "2022-01-01T20:45:12.004Z"
   },
   {
    "duration": 325,
    "start_time": "2022-01-01T20:54:17.321Z"
   },
   {
    "duration": 21,
    "start_time": "2022-01-01T20:54:30.576Z"
   },
   {
    "duration": 31,
    "start_time": "2022-01-01T20:55:06.084Z"
   },
   {
    "duration": 31,
    "start_time": "2022-01-01T20:55:13.651Z"
   },
   {
    "duration": 949,
    "start_time": "2022-01-01T20:57:55.580Z"
   },
   {
    "duration": 359,
    "start_time": "2022-01-01T20:58:03.583Z"
   },
   {
    "duration": 34,
    "start_time": "2022-01-01T20:58:25.803Z"
   },
   {
    "duration": 45,
    "start_time": "2022-01-01T20:59:00.935Z"
   },
   {
    "duration": 115,
    "start_time": "2022-01-01T21:00:45.723Z"
   },
   {
    "duration": 334,
    "start_time": "2022-01-01T21:00:56.817Z"
   },
   {
    "duration": 710,
    "start_time": "2022-01-01T21:01:58.437Z"
   },
   {
    "duration": 7,
    "start_time": "2022-01-01T21:11:24.359Z"
   },
   {
    "duration": 12,
    "start_time": "2022-01-01T21:11:33.130Z"
   },
   {
    "duration": 19,
    "start_time": "2022-01-01T21:12:07.432Z"
   },
   {
    "duration": 114,
    "start_time": "2022-01-01T21:13:23.432Z"
   },
   {
    "duration": 15,
    "start_time": "2022-01-01T21:13:55.576Z"
   },
   {
    "duration": 372,
    "start_time": "2022-01-01T21:20:30.593Z"
   },
   {
    "duration": 71,
    "start_time": "2022-01-01T21:20:38.421Z"
   },
   {
    "duration": 6,
    "start_time": "2022-01-01T21:22:21.007Z"
   },
   {
    "duration": 319,
    "start_time": "2022-01-01T21:28:49.048Z"
   },
   {
    "duration": 320,
    "start_time": "2022-01-01T21:28:54.927Z"
   },
   {
    "duration": 315,
    "start_time": "2022-01-01T21:29:03.344Z"
   },
   {
    "duration": 276,
    "start_time": "2022-01-01T21:31:09.299Z"
   },
   {
    "duration": 218,
    "start_time": "2022-01-01T21:31:19.064Z"
   },
   {
    "duration": 10,
    "start_time": "2022-01-01T21:54:42.233Z"
   },
   {
    "duration": 7,
    "start_time": "2022-01-01T21:55:39.338Z"
   },
   {
    "duration": 30,
    "start_time": "2022-01-01T21:55:42.747Z"
   },
   {
    "duration": 12,
    "start_time": "2022-01-01T21:56:03.090Z"
   },
   {
    "duration": 19,
    "start_time": "2022-01-01T21:57:00.671Z"
   },
   {
    "duration": 501,
    "start_time": "2022-01-01T21:57:59.691Z"
   },
   {
    "duration": 20,
    "start_time": "2022-01-01T21:58:11.569Z"
   },
   {
    "duration": 11,
    "start_time": "2022-01-01T21:58:32.259Z"
   },
   {
    "duration": 19,
    "start_time": "2022-01-01T21:58:34.879Z"
   },
   {
    "duration": 18,
    "start_time": "2022-01-01T21:58:46.376Z"
   },
   {
    "duration": 15,
    "start_time": "2022-01-01T22:00:09.887Z"
   },
   {
    "duration": 15,
    "start_time": "2022-01-01T22:00:22.940Z"
   },
   {
    "duration": 263,
    "start_time": "2022-01-01T22:00:44.101Z"
   },
   {
    "duration": 353,
    "start_time": "2022-01-01T22:01:10.540Z"
   },
   {
    "duration": 261,
    "start_time": "2022-01-01T22:01:26.300Z"
   },
   {
    "duration": 272,
    "start_time": "2022-01-01T22:01:44.713Z"
   },
   {
    "duration": 276,
    "start_time": "2022-01-01T22:02:11.231Z"
   },
   {
    "duration": 480,
    "start_time": "2022-01-01T22:02:16.492Z"
   },
   {
    "duration": 366,
    "start_time": "2022-01-01T22:02:20.752Z"
   },
   {
    "duration": 419,
    "start_time": "2022-01-01T22:02:26.330Z"
   },
   {
    "duration": 334,
    "start_time": "2022-01-01T22:04:04.278Z"
   },
   {
    "duration": 314,
    "start_time": "2022-01-01T22:04:57.368Z"
   },
   {
    "duration": 10,
    "start_time": "2022-01-01T22:07:09.945Z"
   },
   {
    "duration": 9,
    "start_time": "2022-01-01T22:08:34.078Z"
   },
   {
    "duration": 20,
    "start_time": "2022-01-01T22:08:36.901Z"
   },
   {
    "duration": 329,
    "start_time": "2022-01-01T22:08:44.986Z"
   },
   {
    "duration": 11,
    "start_time": "2022-01-01T22:08:55.436Z"
   },
   {
    "duration": 106,
    "start_time": "2022-01-01T22:08:57.469Z"
   },
   {
    "duration": 8,
    "start_time": "2022-01-01T22:10:00.658Z"
   },
   {
    "duration": 56,
    "start_time": "2022-01-01T22:10:06.292Z"
   },
   {
    "duration": 403,
    "start_time": "2022-01-01T22:10:15.659Z"
   },
   {
    "duration": 11,
    "start_time": "2022-01-01T22:10:22.379Z"
   },
   {
    "duration": 19,
    "start_time": "2022-01-01T22:10:23.551Z"
   },
   {
    "duration": 344,
    "start_time": "2022-01-01T22:10:26.866Z"
   },
   {
    "duration": 342,
    "start_time": "2022-01-01T22:12:24.373Z"
   },
   {
    "duration": 3,
    "start_time": "2022-01-02T07:06:23.369Z"
   },
   {
    "duration": 3,
    "start_time": "2022-01-02T07:06:41.624Z"
   },
   {
    "duration": 1531,
    "start_time": "2022-01-02T18:26:11.294Z"
   },
   {
    "duration": 91,
    "start_time": "2022-01-02T18:26:12.828Z"
   },
   {
    "duration": 12,
    "start_time": "2022-01-02T18:26:12.923Z"
   },
   {
    "duration": 30,
    "start_time": "2022-01-02T18:26:12.939Z"
   },
   {
    "duration": 734,
    "start_time": "2022-01-02T18:26:12.971Z"
   },
   {
    "duration": 19,
    "start_time": "2022-01-02T18:26:13.709Z"
   },
   {
    "duration": 329,
    "start_time": "2022-01-02T18:26:13.731Z"
   },
   {
    "duration": 231,
    "start_time": "2022-01-02T18:26:14.068Z"
   },
   {
    "duration": 10,
    "start_time": "2022-01-02T18:26:14.302Z"
   },
   {
    "duration": 22,
    "start_time": "2022-01-02T18:26:14.315Z"
   },
   {
    "duration": 419,
    "start_time": "2022-01-02T18:26:14.339Z"
   },
   {
    "duration": 16,
    "start_time": "2022-01-02T18:26:14.760Z"
   },
   {
    "duration": 4,
    "start_time": "2022-01-02T18:26:14.779Z"
   },
   {
    "duration": 81,
    "start_time": "2022-01-02T18:26:14.786Z"
   },
   {
    "duration": 4,
    "start_time": "2022-01-02T18:26:14.871Z"
   },
   {
    "duration": 9,
    "start_time": "2022-01-02T18:26:14.878Z"
   },
   {
    "duration": 4,
    "start_time": "2022-01-02T18:26:14.890Z"
   },
   {
    "duration": 12,
    "start_time": "2022-01-02T18:26:14.896Z"
   },
   {
    "duration": 60,
    "start_time": "2022-01-02T18:26:14.910Z"
   },
   {
    "duration": 14,
    "start_time": "2022-01-02T18:26:14.973Z"
   },
   {
    "duration": 5,
    "start_time": "2022-01-02T18:26:14.990Z"
   },
   {
    "duration": 17,
    "start_time": "2022-01-02T18:26:14.998Z"
   },
   {
    "duration": 49,
    "start_time": "2022-01-02T18:26:15.023Z"
   },
   {
    "duration": 4,
    "start_time": "2022-01-02T18:26:15.076Z"
   },
   {
    "duration": 12,
    "start_time": "2022-01-02T18:26:15.083Z"
   },
   {
    "duration": 22,
    "start_time": "2022-01-02T18:26:15.097Z"
   },
   {
    "duration": 56,
    "start_time": "2022-01-02T18:26:15.122Z"
   },
   {
    "duration": 11,
    "start_time": "2022-01-02T18:26:15.181Z"
   },
   {
    "duration": 17,
    "start_time": "2022-01-02T18:26:15.195Z"
   },
   {
    "duration": 13,
    "start_time": "2022-01-02T18:26:15.215Z"
   },
   {
    "duration": 12,
    "start_time": "2022-01-02T18:26:15.268Z"
   },
   {
    "duration": 28,
    "start_time": "2022-01-02T18:26:15.282Z"
   },
   {
    "duration": 1085,
    "start_time": "2022-01-02T18:26:15.312Z"
   },
   {
    "duration": 1169,
    "start_time": "2022-01-02T18:26:16.400Z"
   },
   {
    "duration": 25,
    "start_time": "2022-01-02T18:26:17.572Z"
   },
   {
    "duration": 11,
    "start_time": "2022-01-02T18:26:17.599Z"
   },
   {
    "duration": 58,
    "start_time": "2022-01-02T18:26:17.612Z"
   },
   {
    "duration": 9,
    "start_time": "2022-01-02T18:26:17.673Z"
   },
   {
    "duration": 23,
    "start_time": "2022-01-02T18:26:17.685Z"
   },
   {
    "duration": 22,
    "start_time": "2022-01-02T18:26:17.711Z"
   },
   {
    "duration": 10,
    "start_time": "2022-01-02T18:26:17.767Z"
   },
   {
    "duration": 10,
    "start_time": "2022-01-02T18:26:17.779Z"
   },
   {
    "duration": 3,
    "start_time": "2022-01-02T18:26:17.791Z"
   },
   {
    "duration": 79,
    "start_time": "2022-01-02T18:26:17.796Z"
   },
   {
    "duration": 3,
    "start_time": "2022-01-02T18:26:17.878Z"
   },
   {
    "duration": 38,
    "start_time": "2022-01-02T18:26:17.883Z"
   },
   {
    "duration": 105,
    "start_time": "2022-01-02T18:26:17.924Z"
   },
   {
    "duration": 4,
    "start_time": "2022-01-02T18:26:18.032Z"
   },
   {
    "duration": 6,
    "start_time": "2022-01-02T18:26:18.038Z"
   },
   {
    "duration": 28,
    "start_time": "2022-01-02T18:26:18.046Z"
   },
   {
    "duration": 20,
    "start_time": "2022-01-02T18:26:18.077Z"
   },
   {
    "duration": 30,
    "start_time": "2022-01-02T18:26:18.100Z"
   },
   {
    "duration": 81,
    "start_time": "2022-01-02T18:26:18.133Z"
   },
   {
    "duration": 50,
    "start_time": "2022-01-02T18:26:18.216Z"
   },
   {
    "duration": 20,
    "start_time": "2022-01-02T18:26:18.269Z"
   },
   {
    "duration": 7,
    "start_time": "2022-01-02T18:26:18.292Z"
   },
   {
    "duration": 1002,
    "start_time": "2022-01-02T18:26:18.302Z"
   },
   {
    "duration": 3627,
    "start_time": "2022-01-02T18:26:19.306Z"
   },
   {
    "duration": 4,
    "start_time": "2022-01-02T18:26:22.936Z"
   },
   {
    "duration": 25,
    "start_time": "2022-01-02T18:26:22.942Z"
   },
   {
    "duration": 4675,
    "start_time": "2022-01-02T18:26:22.969Z"
   },
   {
    "duration": 29,
    "start_time": "2022-01-02T18:26:27.648Z"
   },
   {
    "duration": 19,
    "start_time": "2022-01-02T18:26:27.680Z"
   },
   {
    "duration": 272,
    "start_time": "2022-01-02T18:26:27.702Z"
   },
   {
    "duration": 47,
    "start_time": "2022-01-02T18:26:27.977Z"
   },
   {
    "duration": 286,
    "start_time": "2022-01-02T18:26:28.026Z"
   },
   {
    "duration": 9,
    "start_time": "2022-01-02T18:26:28.315Z"
   },
   {
    "duration": 9,
    "start_time": "2022-01-02T18:26:28.332Z"
   },
   {
    "duration": 9,
    "start_time": "2022-01-02T18:26:28.368Z"
   },
   {
    "duration": 9,
    "start_time": "2022-01-02T18:26:28.380Z"
   },
   {
    "duration": 281,
    "start_time": "2022-01-02T18:26:28.392Z"
   },
   {
    "duration": 243,
    "start_time": "2022-01-02T18:26:28.676Z"
   },
   {
    "duration": 75,
    "start_time": "2022-01-02T18:26:28.921Z"
   },
   {
    "duration": 44,
    "start_time": "2022-01-02T18:26:28.999Z"
   },
   {
    "duration": 27,
    "start_time": "2022-01-02T18:26:29.046Z"
   },
   {
    "duration": 31,
    "start_time": "2022-01-02T18:53:53.376Z"
   },
   {
    "duration": 1192,
    "start_time": "2022-01-02T19:28:34.476Z"
   },
   {
    "duration": 69,
    "start_time": "2022-01-02T19:28:35.670Z"
   },
   {
    "duration": 11,
    "start_time": "2022-01-02T19:28:37.650Z"
   },
   {
    "duration": 5,
    "start_time": "2022-01-02T19:28:38.284Z"
   },
   {
    "duration": 448,
    "start_time": "2022-01-02T19:28:38.931Z"
   },
   {
    "duration": 12,
    "start_time": "2022-01-02T19:28:39.545Z"
   },
   {
    "duration": 170,
    "start_time": "2022-01-02T19:28:40.184Z"
   },
   {
    "duration": 120,
    "start_time": "2022-01-02T19:28:40.684Z"
   },
   {
    "duration": 7,
    "start_time": "2022-01-02T19:28:41.331Z"
   },
   {
    "duration": 14,
    "start_time": "2022-01-02T19:28:41.899Z"
   },
   {
    "duration": 207,
    "start_time": "2022-01-02T19:28:43.180Z"
   },
   {
    "duration": 7,
    "start_time": "2022-01-02T19:28:43.884Z"
   },
   {
    "duration": 2,
    "start_time": "2022-01-02T19:28:44.588Z"
   },
   {
    "duration": 31,
    "start_time": "2022-01-02T19:28:45.133Z"
   },
   {
    "duration": 3,
    "start_time": "2022-01-02T19:28:46.521Z"
   },
   {
    "duration": 6,
    "start_time": "2022-01-02T19:28:50.162Z"
   },
   {
    "duration": 3,
    "start_time": "2022-01-02T19:28:50.692Z"
   },
   {
    "duration": 9,
    "start_time": "2022-01-02T19:28:51.468Z"
   },
   {
    "duration": 10,
    "start_time": "2022-01-02T19:28:52.383Z"
   },
   {
    "duration": 9,
    "start_time": "2022-01-02T19:28:52.968Z"
   },
   {
    "duration": 4,
    "start_time": "2022-01-02T19:28:54.180Z"
   },
   {
    "duration": 11,
    "start_time": "2022-01-02T19:28:54.857Z"
   },
   {
    "duration": 5,
    "start_time": "2022-01-02T19:28:55.509Z"
   },
   {
    "duration": 4,
    "start_time": "2022-01-02T19:28:56.886Z"
   },
   {
    "duration": 8,
    "start_time": "2022-01-02T19:29:03.211Z"
   },
   {
    "duration": 17,
    "start_time": "2022-01-02T19:29:03.834Z"
   },
   {
    "duration": 14,
    "start_time": "2022-01-02T19:29:05.152Z"
   },
   {
    "duration": 8,
    "start_time": "2022-01-02T19:29:05.736Z"
   },
   {
    "duration": 10,
    "start_time": "2022-01-02T19:29:06.813Z"
   },
   {
    "duration": 7,
    "start_time": "2022-01-02T19:29:07.363Z"
   },
   {
    "duration": 8,
    "start_time": "2022-01-02T19:29:08.560Z"
   },
   {
    "duration": 7,
    "start_time": "2022-01-02T19:29:09.137Z"
   },
   {
    "duration": 629,
    "start_time": "2022-01-02T19:29:10.012Z"
   },
   {
    "duration": 708,
    "start_time": "2022-01-02T19:29:10.643Z"
   },
   {
    "duration": 18,
    "start_time": "2022-01-02T19:29:12.193Z"
   },
   {
    "duration": 7,
    "start_time": "2022-01-02T19:29:13.633Z"
   },
   {
    "duration": 18,
    "start_time": "2022-01-02T19:29:14.337Z"
   },
   {
    "duration": 8,
    "start_time": "2022-01-02T19:29:15.629Z"
   },
   {
    "duration": 13,
    "start_time": "2022-01-02T19:29:16.275Z"
   },
   {
    "duration": 14,
    "start_time": "2022-01-02T19:29:17.624Z"
   },
   {
    "duration": 8,
    "start_time": "2022-01-02T19:29:18.927Z"
   },
   {
    "duration": 6,
    "start_time": "2022-01-02T19:29:19.841Z"
   },
   {
    "duration": 3,
    "start_time": "2022-01-02T19:29:20.870Z"
   },
   {
    "duration": 25,
    "start_time": "2022-01-02T19:29:21.810Z"
   },
   {
    "duration": 3,
    "start_time": "2022-01-02T19:29:22.659Z"
   },
   {
    "duration": 23,
    "start_time": "2022-01-02T19:29:24.565Z"
   },
   {
    "duration": 46,
    "start_time": "2022-01-02T19:29:26.071Z"
   },
   {
    "duration": 3,
    "start_time": "2022-01-02T19:29:29.571Z"
   },
   {
    "duration": 3,
    "start_time": "2022-01-02T19:29:30.115Z"
   },
   {
    "duration": 2,
    "start_time": "2022-01-02T19:29:32.000Z"
   },
   {
    "duration": 12,
    "start_time": "2022-01-02T19:29:39.158Z"
   },
   {
    "duration": 21,
    "start_time": "2022-01-02T19:30:06.489Z"
   },
   {
    "duration": 33,
    "start_time": "2022-01-02T19:30:07.911Z"
   },
   {
    "duration": 20,
    "start_time": "2022-01-02T19:30:10.155Z"
   },
   {
    "duration": 13,
    "start_time": "2022-01-02T19:30:14.458Z"
   },
   {
    "duration": 5,
    "start_time": "2022-01-02T19:30:18.715Z"
   },
   {
    "duration": 2971,
    "start_time": "2022-01-02T19:31:50.419Z"
   },
   {
    "duration": 2438,
    "start_time": "2022-01-02T19:32:08.212Z"
   },
   {
    "duration": 2832,
    "start_time": "2022-01-02T19:32:50.228Z"
   },
   {
    "duration": 2765,
    "start_time": "2022-01-02T19:41:53.179Z"
   },
   {
    "duration": 2774,
    "start_time": "2022-01-02T19:42:13.148Z"
   },
   {
    "duration": 74,
    "start_time": "2022-01-02T19:43:00.559Z"
   },
   {
    "duration": 3042,
    "start_time": "2022-01-02T19:43:24.439Z"
   },
   {
    "duration": 2821,
    "start_time": "2022-01-02T19:50:26.075Z"
   },
   {
    "duration": 3190,
    "start_time": "2022-01-02T21:45:15.116Z"
   },
   {
    "duration": 3198,
    "start_time": "2022-01-02T21:45:22.427Z"
   },
   {
    "duration": 3183,
    "start_time": "2022-01-02T21:45:27.948Z"
   },
   {
    "duration": 2883,
    "start_time": "2022-01-02T21:45:34.309Z"
   },
   {
    "duration": 2940,
    "start_time": "2022-01-02T21:46:12.620Z"
   },
   {
    "duration": 3042,
    "start_time": "2022-01-02T21:48:11.671Z"
   },
   {
    "duration": 68,
    "start_time": "2022-01-02T21:54:46.692Z"
   },
   {
    "duration": 25,
    "start_time": "2022-01-02T21:57:12.973Z"
   },
   {
    "duration": 14,
    "start_time": "2022-01-02T21:57:15.677Z"
   },
   {
    "duration": 57,
    "start_time": "2022-01-02T22:01:32.469Z"
   },
   {
    "duration": 50,
    "start_time": "2022-01-02T22:01:34.723Z"
   },
   {
    "duration": 13,
    "start_time": "2022-01-02T22:01:35.497Z"
   },
   {
    "duration": 0,
    "start_time": "2022-01-02T22:05:06.740Z"
   },
   {
    "duration": 9,
    "start_time": "2022-01-02T22:05:14.026Z"
   },
   {
    "duration": 0,
    "start_time": "2022-01-02T22:05:38.874Z"
   },
   {
    "duration": 5023,
    "start_time": "2022-01-02T22:05:39.243Z"
   },
   {
    "duration": 7,
    "start_time": "2022-01-02T22:05:46.265Z"
   },
   {
    "duration": 206,
    "start_time": "2022-01-02T22:06:04.896Z"
   },
   {
    "duration": 7,
    "start_time": "2022-01-02T22:08:14.116Z"
   },
   {
    "duration": 50,
    "start_time": "2022-01-02T22:13:21.934Z"
   },
   {
    "duration": 223,
    "start_time": "2022-01-02T22:14:38.535Z"
   },
   {
    "duration": 72,
    "start_time": "2022-01-02T22:40:40.947Z"
   },
   {
    "duration": 7,
    "start_time": "2022-01-02T22:40:43.721Z"
   },
   {
    "duration": 188,
    "start_time": "2022-01-02T22:42:33.363Z"
   },
   {
    "duration": 6,
    "start_time": "2022-01-02T22:42:43.268Z"
   },
   {
    "duration": 234,
    "start_time": "2022-01-02T22:43:48.039Z"
   },
   {
    "duration": 79,
    "start_time": "2022-01-02T22:45:12.552Z"
   },
   {
    "duration": 16,
    "start_time": "2022-01-02T22:45:23.552Z"
   },
   {
    "duration": 266,
    "start_time": "2022-01-02T22:46:07.402Z"
   },
   {
    "duration": 86,
    "start_time": "2022-01-02T22:46:18.940Z"
   },
   {
    "duration": 219,
    "start_time": "2022-01-02T22:46:23.485Z"
   },
   {
    "duration": 5,
    "start_time": "2022-01-02T22:46:58.087Z"
   },
   {
    "duration": 4,
    "start_time": "2022-01-02T22:47:02.785Z"
   },
   {
    "duration": 16,
    "start_time": "2022-01-02T22:47:09.349Z"
   },
   {
    "duration": 190,
    "start_time": "2022-01-02T22:47:44.461Z"
   },
   {
    "duration": 5,
    "start_time": "2022-01-02T22:47:48.900Z"
   },
   {
    "duration": 8,
    "start_time": "2022-01-02T22:49:13.074Z"
   },
   {
    "duration": 6,
    "start_time": "2022-01-02T22:51:02.270Z"
   },
   {
    "duration": 195,
    "start_time": "2022-01-02T22:51:10.163Z"
   },
   {
    "duration": 7,
    "start_time": "2022-01-02T22:51:17.845Z"
   },
   {
    "duration": 5046,
    "start_time": "2022-01-02T22:52:58.131Z"
   },
   {
    "duration": 4894,
    "start_time": "2022-01-02T22:53:35.627Z"
   },
   {
    "duration": 4767,
    "start_time": "2022-01-02T22:53:45.730Z"
   },
   {
    "duration": 27,
    "start_time": "2022-01-02T22:54:20.999Z"
   },
   {
    "duration": 20,
    "start_time": "2022-01-02T22:54:24.418Z"
   },
   {
    "duration": 20,
    "start_time": "2022-01-02T22:54:28.421Z"
   },
   {
    "duration": 33,
    "start_time": "2022-01-02T22:55:42.141Z"
   },
   {
    "duration": 11,
    "start_time": "2022-01-02T22:55:45.706Z"
   },
   {
    "duration": 761,
    "start_time": "2022-01-02T22:56:07.509Z"
   },
   {
    "duration": 171,
    "start_time": "2022-01-02T22:56:40.513Z"
   },
   {
    "duration": 29,
    "start_time": "2022-01-02T22:56:44.705Z"
   },
   {
    "duration": 7,
    "start_time": "2022-01-02T22:56:50.068Z"
   },
   {
    "duration": 6,
    "start_time": "2022-01-02T22:56:53.339Z"
   },
   {
    "duration": 20,
    "start_time": "2022-01-02T22:56:59.712Z"
   },
   {
    "duration": 212,
    "start_time": "2022-01-02T22:57:21.480Z"
   },
   {
    "duration": 217,
    "start_time": "2022-01-02T22:57:42.045Z"
   },
   {
    "duration": 12,
    "start_time": "2022-01-02T22:58:06.821Z"
   },
   {
    "duration": 220,
    "start_time": "2022-01-02T22:59:20.722Z"
   },
   {
    "duration": 37,
    "start_time": "2022-01-02T22:59:38.602Z"
   },
   {
    "duration": 73,
    "start_time": "2022-01-02T23:00:53.014Z"
   },
   {
    "duration": 53,
    "start_time": "2022-01-02T23:00:57.092Z"
   },
   {
    "duration": 4764,
    "start_time": "2022-01-02T23:01:30.545Z"
   },
   {
    "duration": 34,
    "start_time": "2022-01-02T23:01:46.166Z"
   },
   {
    "duration": 79,
    "start_time": "2022-01-02T23:07:35.093Z"
   },
   {
    "duration": 192,
    "start_time": "2022-01-02T23:07:39.440Z"
   },
   {
    "duration": 197,
    "start_time": "2022-01-02T23:07:48.050Z"
   },
   {
    "duration": 209,
    "start_time": "2022-01-02T23:10:22.016Z"
   },
   {
    "duration": 63,
    "start_time": "2022-01-02T23:10:36.418Z"
   },
   {
    "duration": 198,
    "start_time": "2022-01-02T23:10:50.436Z"
   },
   {
    "duration": 38,
    "start_time": "2022-01-02T23:11:15.893Z"
   },
   {
    "duration": 41,
    "start_time": "2022-01-02T23:11:30.050Z"
   },
   {
    "duration": 38,
    "start_time": "2022-01-02T23:11:38.140Z"
   },
   {
    "duration": 37,
    "start_time": "2022-01-02T23:15:51.744Z"
   },
   {
    "duration": 20,
    "start_time": "2022-01-02T23:16:02.983Z"
   },
   {
    "duration": 38,
    "start_time": "2022-01-02T23:16:27.514Z"
   },
   {
    "duration": 37,
    "start_time": "2022-01-02T23:16:45.092Z"
   },
   {
    "duration": 208,
    "start_time": "2022-01-02T23:18:15.114Z"
   },
   {
    "duration": 215,
    "start_time": "2022-01-02T23:18:37.581Z"
   },
   {
    "duration": 50,
    "start_time": "2022-01-02T23:18:45.700Z"
   },
   {
    "duration": 57,
    "start_time": "2022-01-02T23:19:05.344Z"
   },
   {
    "duration": 213,
    "start_time": "2022-01-02T23:19:17.346Z"
   },
   {
    "duration": 393,
    "start_time": "2022-01-02T23:20:06.705Z"
   },
   {
    "duration": 7,
    "start_time": "2022-01-02T23:21:14.212Z"
   },
   {
    "duration": 39,
    "start_time": "2022-01-02T23:24:45.837Z"
   },
   {
    "duration": 41,
    "start_time": "2022-01-02T23:25:04.496Z"
   },
   {
    "duration": 200,
    "start_time": "2022-01-02T23:25:24.830Z"
   },
   {
    "duration": 38,
    "start_time": "2022-01-02T23:25:29.035Z"
   },
   {
    "duration": 40,
    "start_time": "2022-01-02T23:25:52.909Z"
   },
   {
    "duration": 39,
    "start_time": "2022-01-02T23:26:08.923Z"
   },
   {
    "duration": 223,
    "start_time": "2022-01-02T23:29:14.143Z"
   },
   {
    "duration": 21,
    "start_time": "2022-01-02T23:29:28.682Z"
   },
   {
    "duration": 544,
    "start_time": "2022-01-02T23:29:41.256Z"
   },
   {
    "duration": 427,
    "start_time": "2022-01-02T23:31:15.140Z"
   },
   {
    "duration": 14,
    "start_time": "2022-01-02T23:31:25.722Z"
   },
   {
    "duration": 40,
    "start_time": "2022-01-02T23:42:41.531Z"
   },
   {
    "duration": 202,
    "start_time": "2022-01-02T23:43:14.102Z"
   },
   {
    "duration": 4,
    "start_time": "2022-01-02T23:43:30.346Z"
   },
   {
    "duration": 21,
    "start_time": "2022-01-02T23:43:38.611Z"
   },
   {
    "duration": 9,
    "start_time": "2022-01-02T23:43:50.365Z"
   },
   {
    "duration": 7,
    "start_time": "2022-01-02T23:44:18.733Z"
   },
   {
    "duration": 214,
    "start_time": "2022-01-02T23:45:01.034Z"
   },
   {
    "duration": 23,
    "start_time": "2022-01-02T23:45:10.623Z"
   },
   {
    "duration": 16,
    "start_time": "2022-01-02T23:45:25.865Z"
   },
   {
    "duration": 10,
    "start_time": "2022-01-02T23:45:37.448Z"
   },
   {
    "duration": 248,
    "start_time": "2022-01-02T23:45:56.015Z"
   },
   {
    "duration": 4,
    "start_time": "2022-01-02T23:47:12.317Z"
   },
   {
    "duration": 209,
    "start_time": "2022-01-02T23:47:43.651Z"
   },
   {
    "duration": 203,
    "start_time": "2022-01-02T23:47:55.346Z"
   },
   {
    "duration": 301,
    "start_time": "2022-01-02T23:48:05.603Z"
   },
   {
    "duration": 37,
    "start_time": "2022-01-02T23:48:21.028Z"
   },
   {
    "duration": 213,
    "start_time": "2022-01-02T23:48:43.606Z"
   },
   {
    "duration": 62,
    "start_time": "2022-01-02T23:48:53.584Z"
   },
   {
    "duration": 5724,
    "start_time": "2022-01-02T23:48:58.665Z"
   },
   {
    "duration": 35,
    "start_time": "2022-01-02T23:49:05.281Z"
   },
   {
    "duration": 39,
    "start_time": "2022-01-02T23:50:19.874Z"
   },
   {
    "duration": 6,
    "start_time": "2022-01-02T23:51:52.219Z"
   },
   {
    "duration": 2711,
    "start_time": "2022-01-02T23:52:02.370Z"
   },
   {
    "duration": 8,
    "start_time": "2022-01-02T23:52:07.714Z"
   },
   {
    "duration": 198,
    "start_time": "2022-01-02T23:52:18.781Z"
   },
   {
    "duration": 6,
    "start_time": "2022-01-02T23:52:22.188Z"
   },
   {
    "duration": 3603,
    "start_time": "2022-01-02T23:52:37.827Z"
   },
   {
    "duration": -48,
    "start_time": "2022-01-02T23:52:49.095Z"
   },
   {
    "duration": 8,
    "start_time": "2022-01-02T23:53:40.590Z"
   },
   {
    "duration": 1467,
    "start_time": "2022-01-03T07:13:12.907Z"
   },
   {
    "duration": 321,
    "start_time": "2022-01-03T07:13:14.377Z"
   },
   {
    "duration": 16,
    "start_time": "2022-01-03T07:13:15.997Z"
   },
   {
    "duration": 17,
    "start_time": "2022-01-03T07:13:20.156Z"
   },
   {
    "duration": 10,
    "start_time": "2022-01-03T07:16:55.579Z"
   },
   {
    "duration": 10,
    "start_time": "2022-01-03T07:17:10.202Z"
   },
   {
    "duration": 13,
    "start_time": "2022-01-03T07:17:21.743Z"
   },
   {
    "duration": 7,
    "start_time": "2022-01-03T07:17:48.227Z"
   },
   {
    "duration": 8,
    "start_time": "2022-01-03T07:22:36.790Z"
   },
   {
    "duration": 519,
    "start_time": "2022-01-03T07:23:24.154Z"
   },
   {
    "duration": 8,
    "start_time": "2022-01-03T07:23:37.611Z"
   },
   {
    "duration": 7,
    "start_time": "2022-01-03T07:23:39.430Z"
   },
   {
    "duration": 2532,
    "start_time": "2022-01-03T07:23:49.746Z"
   },
   {
    "duration": 460,
    "start_time": "2022-01-03T07:23:51.821Z"
   },
   {
    "duration": 11,
    "start_time": "2022-01-03T07:24:37.076Z"
   },
   {
    "duration": 7,
    "start_time": "2022-01-03T07:24:40.447Z"
   },
   {
    "duration": 428,
    "start_time": "2022-01-03T07:29:28.436Z"
   },
   {
    "duration": 7,
    "start_time": "2022-01-03T07:29:57.114Z"
   },
   {
    "duration": 311,
    "start_time": "2022-01-03T07:30:41.264Z"
   },
   {
    "duration": 268,
    "start_time": "2022-01-03T07:31:44.551Z"
   },
   {
    "duration": 10,
    "start_time": "2022-01-03T07:36:27.502Z"
   },
   {
    "duration": 10,
    "start_time": "2022-01-03T07:36:44.545Z"
   },
   {
    "duration": 7,
    "start_time": "2022-01-03T07:37:26.505Z"
   },
   {
    "duration": 10,
    "start_time": "2022-01-03T07:37:33.003Z"
   },
   {
    "duration": 383,
    "start_time": "2022-01-03T07:38:18.292Z"
   },
   {
    "duration": 10,
    "start_time": "2022-01-03T07:38:33.484Z"
   },
   {
    "duration": 326,
    "start_time": "2022-01-03T07:39:54.068Z"
   },
   {
    "duration": 11,
    "start_time": "2022-01-03T07:40:05.697Z"
   },
   {
    "duration": 8,
    "start_time": "2022-01-03T07:59:33.061Z"
   },
   {
    "duration": 11,
    "start_time": "2022-01-03T07:59:36.844Z"
   },
   {
    "duration": 9,
    "start_time": "2022-01-03T07:59:53.170Z"
   },
   {
    "duration": 10,
    "start_time": "2022-01-03T07:59:54.189Z"
   },
   {
    "duration": 7,
    "start_time": "2022-01-03T08:03:47.167Z"
   },
   {
    "duration": 5,
    "start_time": "2022-01-03T08:04:18.099Z"
   },
   {
    "duration": 6,
    "start_time": "2022-01-03T08:04:29.369Z"
   },
   {
    "duration": 9,
    "start_time": "2022-01-03T08:11:21.327Z"
   },
   {
    "duration": 10,
    "start_time": "2022-01-03T08:11:27.062Z"
   },
   {
    "duration": 15,
    "start_time": "2022-01-03T08:12:15.822Z"
   },
   {
    "duration": 8,
    "start_time": "2022-01-03T08:20:47.624Z"
   },
   {
    "duration": 8,
    "start_time": "2022-01-03T08:21:23.507Z"
   },
   {
    "duration": 8,
    "start_time": "2022-01-03T08:22:52.022Z"
   },
   {
    "duration": 5,
    "start_time": "2022-01-03T08:23:17.850Z"
   },
   {
    "duration": 5,
    "start_time": "2022-01-03T08:23:42.571Z"
   },
   {
    "duration": 7,
    "start_time": "2022-01-03T08:24:04.014Z"
   },
   {
    "duration": 5,
    "start_time": "2022-01-03T08:24:18.076Z"
   },
   {
    "duration": 7,
    "start_time": "2022-01-03T08:24:26.014Z"
   },
   {
    "duration": 5,
    "start_time": "2022-01-03T08:24:31.476Z"
   },
   {
    "duration": 350,
    "start_time": "2022-01-03T08:24:48.770Z"
   },
   {
    "duration": 5,
    "start_time": "2022-01-03T08:24:59.381Z"
   },
   {
    "duration": 5,
    "start_time": "2022-01-03T08:25:04.072Z"
   },
   {
    "duration": 5,
    "start_time": "2022-01-03T08:25:08.022Z"
   },
   {
    "duration": 5,
    "start_time": "2022-01-03T08:25:26.265Z"
   },
   {
    "duration": 8,
    "start_time": "2022-01-03T08:25:37.718Z"
   },
   {
    "duration": 8,
    "start_time": "2022-01-03T08:25:42.177Z"
   },
   {
    "duration": 5,
    "start_time": "2022-01-03T08:25:46.965Z"
   },
   {
    "duration": 8,
    "start_time": "2022-01-03T08:28:26.473Z"
   },
   {
    "duration": 10,
    "start_time": "2022-01-03T08:28:54.284Z"
   },
   {
    "duration": 266,
    "start_time": "2022-01-03T08:29:06.684Z"
   },
   {
    "duration": 15,
    "start_time": "2022-01-03T08:35:04.461Z"
   },
   {
    "duration": 117,
    "start_time": "2022-01-03T08:35:14.696Z"
   },
   {
    "duration": 445,
    "start_time": "2022-01-03T08:35:27.974Z"
   },
   {
    "duration": 9,
    "start_time": "2022-01-03T08:35:33.636Z"
   },
   {
    "duration": 343,
    "start_time": "2022-01-03T08:35:47.537Z"
   },
   {
    "duration": 8,
    "start_time": "2022-01-03T08:35:50.992Z"
   },
   {
    "duration": 11,
    "start_time": "2022-01-03T08:37:05.359Z"
   },
   {
    "duration": 254,
    "start_time": "2022-01-03T08:37:20.446Z"
   },
   {
    "duration": 302,
    "start_time": "2022-01-03T08:37:37.782Z"
   },
   {
    "duration": 9,
    "start_time": "2022-01-03T08:38:20.734Z"
   },
   {
    "duration": 123,
    "start_time": "2022-01-03T08:41:42.650Z"
   },
   {
    "duration": 62,
    "start_time": "2022-01-03T08:41:59.895Z"
   },
   {
    "duration": 129,
    "start_time": "2022-01-03T08:44:04.132Z"
   },
   {
    "duration": 107,
    "start_time": "2022-01-03T08:44:26.119Z"
   },
   {
    "duration": 121,
    "start_time": "2022-01-03T08:44:40.906Z"
   },
   {
    "duration": 31,
    "start_time": "2022-01-03T08:44:52.840Z"
   },
   {
    "duration": 272,
    "start_time": "2022-01-03T08:56:55.538Z"
   },
   {
    "duration": 4,
    "start_time": "2022-01-03T09:16:40.043Z"
   },
   {
    "duration": 314,
    "start_time": "2022-01-03T09:16:40.445Z"
   },
   {
    "duration": 14,
    "start_time": "2022-01-03T09:16:40.865Z"
   },
   {
    "duration": 9,
    "start_time": "2022-01-03T09:16:41.497Z"
   },
   {
    "duration": 31,
    "start_time": "2022-01-03T09:16:42.148Z"
   },
   {
    "duration": 46,
    "start_time": "2022-01-03T09:16:42.379Z"
   },
   {
    "duration": 8,
    "start_time": "2022-01-03T09:16:44.393Z"
   },
   {
    "duration": 9,
    "start_time": "2022-01-03T09:16:44.838Z"
   },
   {
    "duration": 9,
    "start_time": "2022-01-03T09:16:45.920Z"
   },
   {
    "duration": 12,
    "start_time": "2022-01-03T09:16:46.327Z"
   },
   {
    "duration": 6,
    "start_time": "2022-01-03T09:16:46.683Z"
   },
   {
    "duration": 9,
    "start_time": "2022-01-03T09:16:47.064Z"
   },
   {
    "duration": 302,
    "start_time": "2022-01-03T09:16:47.289Z"
   },
   {
    "duration": 265,
    "start_time": "2022-01-03T09:16:47.737Z"
   },
   {
    "duration": 116,
    "start_time": "2022-01-03T09:16:48.005Z"
   },
   {
    "duration": 10,
    "start_time": "2022-01-03T09:16:48.195Z"
   },
   {
    "duration": 107,
    "start_time": "2022-01-03T09:16:48.410Z"
   },
   {
    "duration": 17,
    "start_time": "2022-01-03T09:16:48.639Z"
   },
   {
    "duration": 9,
    "start_time": "2022-01-03T09:16:49.079Z"
   },
   {
    "duration": 5,
    "start_time": "2022-01-03T09:16:49.295Z"
   },
   {
    "duration": 9,
    "start_time": "2022-01-03T09:16:49.746Z"
   },
   {
    "duration": 282,
    "start_time": "2022-01-03T09:16:49.962Z"
   },
   {
    "duration": 301,
    "start_time": "2022-01-03T09:16:50.248Z"
   },
   {
    "duration": 124,
    "start_time": "2022-01-03T09:16:50.552Z"
   },
   {
    "duration": 23,
    "start_time": "2022-01-03T09:16:51.327Z"
   },
   {
    "duration": 10,
    "start_time": "2022-01-03T09:16:52.236Z"
   },
   {
    "duration": 25,
    "start_time": "2022-01-03T09:16:52.708Z"
   },
   {
    "duration": 9,
    "start_time": "2022-01-03T09:16:53.638Z"
   },
   {
    "duration": 20,
    "start_time": "2022-01-03T09:16:54.078Z"
   },
   {
    "duration": 10,
    "start_time": "2022-01-03T09:16:55.506Z"
   },
   {
    "duration": 8,
    "start_time": "2022-01-03T09:16:56.317Z"
   },
   {
    "duration": 6,
    "start_time": "2022-01-03T09:20:43.437Z"
   },
   {
    "duration": 36,
    "start_time": "2022-01-03T09:20:47.649Z"
   },
   {
    "duration": 362,
    "start_time": "2022-01-03T09:21:02.528Z"
   },
   {
    "duration": 325,
    "start_time": "2022-01-03T09:21:10.379Z"
   },
   {
    "duration": 10,
    "start_time": "2022-01-03T09:21:33.455Z"
   },
   {
    "duration": 38,
    "start_time": "2022-01-03T09:21:59.986Z"
   },
   {
    "duration": 34,
    "start_time": "2022-01-03T09:23:07.824Z"
   },
   {
    "duration": 66,
    "start_time": "2022-01-03T09:24:30.139Z"
   },
   {
    "duration": 12,
    "start_time": "2022-01-03T09:24:47.657Z"
   },
   {
    "duration": 12,
    "start_time": "2022-01-03T09:25:48.666Z"
   },
   {
    "duration": 11,
    "start_time": "2022-01-03T09:26:02.025Z"
   },
   {
    "duration": 13,
    "start_time": "2022-01-03T09:26:23.339Z"
   },
   {
    "duration": 10,
    "start_time": "2022-01-03T09:26:36.561Z"
   },
   {
    "duration": 9,
    "start_time": "2022-01-03T09:27:43.257Z"
   },
   {
    "duration": 345,
    "start_time": "2022-01-03T09:27:54.774Z"
   },
   {
    "duration": 8,
    "start_time": "2022-01-03T09:28:00.631Z"
   },
   {
    "duration": 10,
    "start_time": "2022-01-03T09:28:07.174Z"
   },
   {
    "duration": 26,
    "start_time": "2022-01-03T09:30:18.359Z"
   },
   {
    "duration": 37,
    "start_time": "2022-01-03T09:31:30.545Z"
   },
   {
    "duration": 36,
    "start_time": "2022-01-03T09:31:42.927Z"
   },
   {
    "duration": 448,
    "start_time": "2022-01-03T09:31:48.041Z"
   },
   {
    "duration": 59,
    "start_time": "2022-01-03T09:31:52.307Z"
   },
   {
    "duration": 36,
    "start_time": "2022-01-03T09:32:17.472Z"
   },
   {
    "duration": 27,
    "start_time": "2022-01-03T09:33:31.585Z"
   },
   {
    "duration": 11,
    "start_time": "2022-01-03T09:33:39.303Z"
   },
   {
    "duration": 31,
    "start_time": "2022-01-03T09:33:53.898Z"
   },
   {
    "duration": 11,
    "start_time": "2022-01-03T09:34:42.991Z"
   },
   {
    "duration": 34,
    "start_time": "2022-01-03T09:35:26.381Z"
   },
   {
    "duration": 10,
    "start_time": "2022-01-03T09:37:21.545Z"
   },
   {
    "duration": 13,
    "start_time": "2022-01-03T09:57:33.294Z"
   },
   {
    "duration": 4,
    "start_time": "2022-01-03T09:57:42.054Z"
   },
   {
    "duration": 284,
    "start_time": "2022-01-03T09:57:42.430Z"
   },
   {
    "duration": 14,
    "start_time": "2022-01-03T09:57:42.796Z"
   },
   {
    "duration": 9,
    "start_time": "2022-01-03T09:57:43.351Z"
   },
   {
    "duration": 32,
    "start_time": "2022-01-03T09:57:43.990Z"
   },
   {
    "duration": 47,
    "start_time": "2022-01-03T09:57:44.194Z"
   },
   {
    "duration": 8,
    "start_time": "2022-01-03T09:57:46.098Z"
   },
   {
    "duration": 9,
    "start_time": "2022-01-03T09:57:46.441Z"
   },
   {
    "duration": 10,
    "start_time": "2022-01-03T09:57:48.145Z"
   },
   {
    "duration": 13,
    "start_time": "2022-01-03T09:57:48.517Z"
   },
   {
    "duration": 7,
    "start_time": "2022-01-03T09:57:48.898Z"
   },
   {
    "duration": 10,
    "start_time": "2022-01-03T09:57:49.333Z"
   },
   {
    "duration": 295,
    "start_time": "2022-01-03T09:57:49.579Z"
   },
   {
    "duration": 280,
    "start_time": "2022-01-03T09:57:50.027Z"
   },
   {
    "duration": 114,
    "start_time": "2022-01-03T09:57:50.310Z"
   },
   {
    "duration": 9,
    "start_time": "2022-01-03T09:57:50.470Z"
   },
   {
    "duration": 180,
    "start_time": "2022-01-03T09:57:50.691Z"
   },
   {
    "duration": 15,
    "start_time": "2022-01-03T09:57:50.937Z"
   },
   {
    "duration": 8,
    "start_time": "2022-01-03T09:57:51.333Z"
   },
   {
    "duration": 5,
    "start_time": "2022-01-03T09:57:51.520Z"
   },
   {
    "duration": 11,
    "start_time": "2022-01-03T09:57:51.901Z"
   },
   {
    "duration": 289,
    "start_time": "2022-01-03T09:57:52.103Z"
   },
   {
    "duration": 319,
    "start_time": "2022-01-03T09:57:52.395Z"
   },
   {
    "duration": 108,
    "start_time": "2022-01-03T09:57:52.725Z"
   },
   {
    "duration": 26,
    "start_time": "2022-01-03T09:57:52.939Z"
   },
   {
    "duration": 10,
    "start_time": "2022-01-03T09:57:53.551Z"
   },
   {
    "duration": 28,
    "start_time": "2022-01-03T09:57:53.840Z"
   },
   {
    "duration": 10,
    "start_time": "2022-01-03T09:57:54.426Z"
   },
   {
    "duration": 19,
    "start_time": "2022-01-03T09:57:54.839Z"
   },
   {
    "duration": 10,
    "start_time": "2022-01-03T09:57:55.920Z"
   },
   {
    "duration": 8,
    "start_time": "2022-01-03T09:57:56.341Z"
   },
   {
    "duration": 11,
    "start_time": "2022-01-03T09:58:00.647Z"
   },
   {
    "duration": 36,
    "start_time": "2022-01-03T09:58:01.523Z"
   },
   {
    "duration": 58,
    "start_time": "2022-01-03T09:58:02.328Z"
   },
   {
    "duration": 25,
    "start_time": "2022-01-03T09:58:04.669Z"
   },
   {
    "duration": 36,
    "start_time": "2022-01-03T09:58:20.323Z"
   },
   {
    "duration": 36,
    "start_time": "2022-01-03T09:58:29.914Z"
   },
   {
    "duration": 24,
    "start_time": "2022-01-03T09:59:23.859Z"
   },
   {
    "duration": 18,
    "start_time": "2022-01-03T10:00:11.507Z"
   },
   {
    "duration": 108,
    "start_time": "2022-01-03T10:01:36.022Z"
   },
   {
    "duration": 12,
    "start_time": "2022-01-03T10:01:41.251Z"
   },
   {
    "duration": 15,
    "start_time": "2022-01-03T10:08:49.370Z"
   },
   {
    "duration": 23,
    "start_time": "2022-01-03T10:09:30.482Z"
   },
   {
    "duration": 6,
    "start_time": "2022-01-03T10:11:30.569Z"
   },
   {
    "duration": 18,
    "start_time": "2022-01-03T10:12:37.756Z"
   },
   {
    "duration": 16,
    "start_time": "2022-01-03T10:13:48.080Z"
   },
   {
    "duration": 6,
    "start_time": "2022-01-03T10:13:51.719Z"
   },
   {
    "duration": 17,
    "start_time": "2022-01-03T10:13:53.500Z"
   },
   {
    "duration": 10,
    "start_time": "2022-01-03T10:15:50.583Z"
   },
   {
    "duration": 9,
    "start_time": "2022-01-03T10:17:30.722Z"
   },
   {
    "duration": 9,
    "start_time": "2022-01-03T10:18:08.460Z"
   },
   {
    "duration": 12,
    "start_time": "2022-01-03T10:18:24.951Z"
   },
   {
    "duration": 12,
    "start_time": "2022-01-03T10:27:19.257Z"
   },
   {
    "duration": 19,
    "start_time": "2022-01-03T10:29:41.875Z"
   },
   {
    "duration": 11,
    "start_time": "2022-01-03T10:29:44.130Z"
   },
   {
    "duration": 14,
    "start_time": "2022-01-03T10:29:50.425Z"
   },
   {
    "duration": 412,
    "start_time": "2022-01-03T10:31:37.963Z"
   },
   {
    "duration": 317,
    "start_time": "2022-01-03T10:32:00.160Z"
   },
   {
    "duration": 331,
    "start_time": "2022-01-03T10:32:40.249Z"
   },
   {
    "duration": 545,
    "start_time": "2022-01-03T10:34:47.635Z"
   },
   {
    "duration": 6,
    "start_time": "2022-01-03T10:43:57.685Z"
   },
   {
    "duration": 351,
    "start_time": "2022-01-03T10:44:05.067Z"
   },
   {
    "duration": 33,
    "start_time": "2022-01-03T10:51:16.126Z"
   },
   {
    "duration": 1350,
    "start_time": "2022-01-03T10:52:02.892Z"
   },
   {
    "duration": 1656,
    "start_time": "2022-01-03T10:52:37.392Z"
   },
   {
    "duration": 26,
    "start_time": "2022-01-03T10:52:54.419Z"
   },
   {
    "duration": 9,
    "start_time": "2022-01-03T10:53:12.797Z"
   },
   {
    "duration": 26,
    "start_time": "2022-01-03T10:53:19.847Z"
   },
   {
    "duration": 342,
    "start_time": "2022-01-03T10:53:35.267Z"
   },
   {
    "duration": 412,
    "start_time": "2022-01-03T10:54:10.467Z"
   },
   {
    "duration": 423,
    "start_time": "2022-01-03T10:54:20.805Z"
   },
   {
    "duration": 491,
    "start_time": "2022-01-03T10:54:32.689Z"
   },
   {
    "duration": 463,
    "start_time": "2022-01-03T10:54:37.487Z"
   },
   {
    "duration": 16,
    "start_time": "2022-01-03T10:54:52.524Z"
   },
   {
    "duration": 4,
    "start_time": "2022-01-03T10:55:12.307Z"
   },
   {
    "duration": 288,
    "start_time": "2022-01-03T10:55:12.989Z"
   },
   {
    "duration": 16,
    "start_time": "2022-01-03T10:55:14.564Z"
   },
   {
    "duration": 9,
    "start_time": "2022-01-03T10:55:17.005Z"
   },
   {
    "duration": 33,
    "start_time": "2022-01-03T10:55:17.617Z"
   },
   {
    "duration": 45,
    "start_time": "2022-01-03T10:55:17.786Z"
   },
   {
    "duration": 8,
    "start_time": "2022-01-03T10:55:19.618Z"
   },
   {
    "duration": 9,
    "start_time": "2022-01-03T10:55:20.015Z"
   },
   {
    "duration": 11,
    "start_time": "2022-01-03T10:55:21.053Z"
   },
   {
    "duration": 13,
    "start_time": "2022-01-03T10:55:21.455Z"
   },
   {
    "duration": 8,
    "start_time": "2022-01-03T10:55:21.858Z"
   },
   {
    "duration": 10,
    "start_time": "2022-01-03T10:55:22.287Z"
   },
   {
    "duration": 353,
    "start_time": "2022-01-03T10:55:22.493Z"
   },
   {
    "duration": 304,
    "start_time": "2022-01-03T10:55:22.852Z"
   },
   {
    "duration": 115,
    "start_time": "2022-01-03T10:55:23.160Z"
   },
   {
    "duration": 385,
    "start_time": "2022-01-03T10:55:22.893Z"
   },
   {
    "duration": 114,
    "start_time": "2022-01-03T10:55:23.393Z"
   },
   {
    "duration": 15,
    "start_time": "2022-01-03T10:55:23.583Z"
   },
   {
    "duration": 9,
    "start_time": "2022-01-03T10:55:23.929Z"
   },
   {
    "duration": 6,
    "start_time": "2022-01-03T10:55:24.119Z"
   },
   {
    "duration": 9,
    "start_time": "2022-01-03T10:55:24.693Z"
   },
   {
    "duration": 356,
    "start_time": "2022-01-03T10:55:25.120Z"
   },
   {
    "duration": 269,
    "start_time": "2022-01-03T10:55:25.545Z"
   },
   {
    "duration": 134,
    "start_time": "2022-01-03T10:55:25.817Z"
   },
   {
    "duration": 25,
    "start_time": "2022-01-03T10:55:26.499Z"
   },
   {
    "duration": 10,
    "start_time": "2022-01-03T10:55:27.405Z"
   },
   {
    "duration": 29,
    "start_time": "2022-01-03T10:55:27.864Z"
   },
   {
    "duration": 12,
    "start_time": "2022-01-03T10:55:28.689Z"
   },
   {
    "duration": 19,
    "start_time": "2022-01-03T10:55:29.081Z"
   },
   {
    "duration": 10,
    "start_time": "2022-01-03T10:55:30.262Z"
   },
   {
    "duration": 8,
    "start_time": "2022-01-03T10:55:30.992Z"
   },
   {
    "duration": 12,
    "start_time": "2022-01-03T10:55:32.021Z"
   },
   {
    "duration": 36,
    "start_time": "2022-01-03T10:55:32.184Z"
   },
   {
    "duration": 57,
    "start_time": "2022-01-03T10:55:38.388Z"
   },
   {
    "duration": 25,
    "start_time": "2022-01-03T10:55:39.103Z"
   },
   {
    "duration": 38,
    "start_time": "2022-01-03T10:55:42.840Z"
   },
   {
    "duration": 32,
    "start_time": "2022-01-03T10:55:49.245Z"
   },
   {
    "duration": 57,
    "start_time": "2022-01-03T10:55:50.533Z"
   },
   {
    "duration": 56,
    "start_time": "2022-01-03T10:55:57.055Z"
   },
   {
    "duration": 25,
    "start_time": "2022-01-03T10:55:57.611Z"
   },
   {
    "duration": 11,
    "start_time": "2022-01-03T10:56:04.283Z"
   },
   {
    "duration": 10,
    "start_time": "2022-01-03T10:56:06.184Z"
   },
   {
    "duration": 12,
    "start_time": "2022-01-03T10:56:12.778Z"
   },
   {
    "duration": 28,
    "start_time": "2022-01-03T10:56:13.997Z"
   },
   {
    "duration": 463,
    "start_time": "2022-01-03T10:56:20.445Z"
   },
   {
    "duration": 15,
    "start_time": "2022-01-03T10:57:03.648Z"
   },
   {
    "duration": 9,
    "start_time": "2022-01-03T10:57:31.593Z"
   },
   {
    "duration": 13,
    "start_time": "2022-01-03T10:57:40.884Z"
   },
   {
    "duration": 15,
    "start_time": "2022-01-03T10:58:28.575Z"
   },
   {
    "duration": 48,
    "start_time": "2022-01-03T10:58:37.170Z"
   },
   {
    "duration": 10,
    "start_time": "2022-01-03T10:58:52.132Z"
   },
   {
    "duration": 4,
    "start_time": "2022-01-03T10:58:56.657Z"
   },
   {
    "duration": 293,
    "start_time": "2022-01-03T10:58:57.143Z"
   },
   {
    "duration": 15,
    "start_time": "2022-01-03T10:59:01.651Z"
   },
   {
    "duration": 10,
    "start_time": "2022-01-03T10:59:10.392Z"
   },
   {
    "duration": 16,
    "start_time": "2022-01-03T10:59:14.878Z"
   },
   {
    "duration": 10,
    "start_time": "2022-01-03T10:59:23.524Z"
   },
   {
    "duration": 332,
    "start_time": "2022-01-03T10:59:37.820Z"
   },
   {
    "duration": 12,
    "start_time": "2022-01-03T10:59:42.400Z"
   },
   {
    "duration": 339,
    "start_time": "2022-01-03T10:59:50.697Z"
   },
   {
    "duration": 355,
    "start_time": "2022-01-03T11:00:03.526Z"
   },
   {
    "duration": 2382,
    "start_time": "2022-01-03T11:00:17.879Z"
   },
   {
    "duration": 13,
    "start_time": "2022-01-03T11:00:20.416Z"
   },
   {
    "duration": 8,
    "start_time": "2022-01-03T11:00:54.071Z"
   },
   {
    "duration": 12,
    "start_time": "2022-01-03T11:01:01.495Z"
   },
   {
    "duration": 10,
    "start_time": "2022-01-03T11:01:14.220Z"
   },
   {
    "duration": 13,
    "start_time": "2022-01-03T11:01:20.565Z"
   },
   {
    "duration": 13,
    "start_time": "2022-01-03T11:02:04.672Z"
   },
   {
    "duration": 14,
    "start_time": "2022-01-03T11:02:07.967Z"
   },
   {
    "duration": 10,
    "start_time": "2022-01-03T11:02:12.260Z"
   },
   {
    "duration": 11,
    "start_time": "2022-01-03T11:02:19.323Z"
   },
   {
    "duration": 10,
    "start_time": "2022-01-03T11:02:23.528Z"
   },
   {
    "duration": 10,
    "start_time": "2022-01-03T11:03:19.889Z"
   },
   {
    "duration": 8,
    "start_time": "2022-01-03T11:03:36.680Z"
   },
   {
    "duration": 14,
    "start_time": "2022-01-03T11:03:38.539Z"
   },
   {
    "duration": 15,
    "start_time": "2022-01-03T11:03:42.356Z"
   },
   {
    "duration": 10,
    "start_time": "2022-01-03T11:03:50.000Z"
   },
   {
    "duration": 11,
    "start_time": "2022-01-03T11:03:57.762Z"
   },
   {
    "duration": 9,
    "start_time": "2022-01-03T11:05:58.537Z"
   },
   {
    "duration": 11,
    "start_time": "2022-01-03T11:05:59.084Z"
   },
   {
    "duration": 10,
    "start_time": "2022-01-03T11:06:00.183Z"
   },
   {
    "duration": 12,
    "start_time": "2022-01-03T11:06:00.623Z"
   },
   {
    "duration": 7,
    "start_time": "2022-01-03T11:06:01.026Z"
   },
   {
    "duration": 9,
    "start_time": "2022-01-03T11:06:01.443Z"
   },
   {
    "duration": 297,
    "start_time": "2022-01-03T11:06:01.659Z"
   },
   {
    "duration": 286,
    "start_time": "2022-01-03T11:06:02.095Z"
   },
   {
    "duration": 105,
    "start_time": "2022-01-03T11:06:02.384Z"
   },
   {
    "duration": 10,
    "start_time": "2022-01-03T11:06:02.521Z"
   },
   {
    "duration": 127,
    "start_time": "2022-01-03T11:06:02.728Z"
   },
   {
    "duration": 15,
    "start_time": "2022-01-03T11:06:02.930Z"
   },
   {
    "duration": 8,
    "start_time": "2022-01-03T11:06:03.337Z"
   },
   {
    "duration": 6,
    "start_time": "2022-01-03T11:06:03.554Z"
   },
   {
    "duration": 9,
    "start_time": "2022-01-03T11:06:04.021Z"
   },
   {
    "duration": 372,
    "start_time": "2022-01-03T11:06:04.284Z"
   },
   {
    "duration": 305,
    "start_time": "2022-01-03T11:06:04.659Z"
   },
   {
    "duration": 129,
    "start_time": "2022-01-03T11:06:04.967Z"
   },
   {
    "duration": 24,
    "start_time": "2022-01-03T11:06:05.469Z"
   },
   {
    "duration": 15,
    "start_time": "2022-01-03T11:06:06.421Z"
   },
   {
    "duration": 27,
    "start_time": "2022-01-03T11:06:06.842Z"
   },
   {
    "duration": 10,
    "start_time": "2022-01-03T11:06:08.108Z"
   },
   {
    "duration": 19,
    "start_time": "2022-01-03T11:06:08.575Z"
   },
   {
    "duration": 10,
    "start_time": "2022-01-03T11:06:09.760Z"
   },
   {
    "duration": 8,
    "start_time": "2022-01-03T11:06:10.430Z"
   },
   {
    "duration": 11,
    "start_time": "2022-01-03T11:06:11.397Z"
   },
   {
    "duration": 34,
    "start_time": "2022-01-03T11:06:11.572Z"
   },
   {
    "duration": 54,
    "start_time": "2022-01-03T11:06:11.875Z"
   },
   {
    "duration": 26,
    "start_time": "2022-01-03T11:06:12.055Z"
   },
   {
    "duration": 56,
    "start_time": "2022-01-03T11:06:13.271Z"
   },
   {
    "duration": 33,
    "start_time": "2022-01-03T11:06:15.337Z"
   },
   {
    "duration": 54,
    "start_time": "2022-01-03T11:06:16.135Z"
   },
   {
    "duration": 30,
    "start_time": "2022-01-03T11:06:16.590Z"
   },
   {
    "duration": 12,
    "start_time": "2022-01-03T11:06:19.481Z"
   },
   {
    "duration": 10,
    "start_time": "2022-01-03T11:06:20.501Z"
   },
   {
    "duration": 986,
    "start_time": "2022-01-03T11:06:22.828Z"
   },
   {
    "duration": 10,
    "start_time": "2022-01-03T11:06:24.047Z"
   },
   {
    "duration": 7,
    "start_time": "2022-01-03T11:06:28.441Z"
   },
   {
    "duration": 12,
    "start_time": "2022-01-03T11:06:28.934Z"
   },
   {
    "duration": 4,
    "start_time": "2022-01-03T11:06:35.404Z"
   },
   {
    "duration": 7,
    "start_time": "2022-01-03T11:06:37.117Z"
   },
   {
    "duration": 374,
    "start_time": "2022-01-03T11:06:38.072Z"
   },
   {
    "duration": 6,
    "start_time": "2022-01-03T11:09:00.939Z"
   },
   {
    "duration": 8,
    "start_time": "2022-01-03T11:09:07.063Z"
   },
   {
    "duration": 9,
    "start_time": "2022-01-03T11:09:24.969Z"
   },
   {
    "duration": 11,
    "start_time": "2022-01-03T11:10:18.519Z"
   },
   {
    "duration": 10,
    "start_time": "2022-01-03T11:10:20.832Z"
   },
   {
    "duration": 5,
    "start_time": "2022-01-03T11:10:24.224Z"
   },
   {
    "duration": 355,
    "start_time": "2022-01-03T11:19:45.665Z"
   },
   {
    "duration": 10,
    "start_time": "2022-01-03T11:20:33.624Z"
   },
   {
    "duration": 20,
    "start_time": "2022-01-03T11:20:34.588Z"
   },
   {
    "duration": 327,
    "start_time": "2022-01-03T11:20:36.813Z"
   },
   {
    "duration": 9,
    "start_time": "2022-01-03T11:24:03.685Z"
   },
   {
    "duration": 17,
    "start_time": "2022-01-03T11:24:07.640Z"
   },
   {
    "duration": 299,
    "start_time": "2022-01-03T11:24:10.733Z"
   },
   {
    "duration": 11,
    "start_time": "2022-01-03T11:24:23.534Z"
   },
   {
    "duration": 21,
    "start_time": "2022-01-03T11:24:26.604Z"
   },
   {
    "duration": 323,
    "start_time": "2022-01-03T11:24:29.779Z"
   },
   {
    "duration": 9,
    "start_time": "2022-01-03T11:24:56.028Z"
   },
   {
    "duration": 19,
    "start_time": "2022-01-03T11:24:59.968Z"
   },
   {
    "duration": 301,
    "start_time": "2022-01-03T11:25:02.007Z"
   },
   {
    "duration": 9,
    "start_time": "2022-01-03T11:25:21.768Z"
   },
   {
    "duration": 310,
    "start_time": "2022-01-03T11:25:24.328Z"
   },
   {
    "duration": 8,
    "start_time": "2022-01-03T11:25:43.679Z"
   },
   {
    "duration": 17,
    "start_time": "2022-01-03T11:25:47.202Z"
   },
   {
    "duration": 314,
    "start_time": "2022-01-03T11:25:48.215Z"
   },
   {
    "duration": 330,
    "start_time": "2022-01-03T11:28:15.239Z"
   },
   {
    "duration": 3287,
    "start_time": "2022-01-03T11:28:38.538Z"
   },
   {
    "duration": 316,
    "start_time": "2022-01-03T11:28:41.829Z"
   },
   {
    "duration": 19,
    "start_time": "2022-01-03T11:28:42.151Z"
   },
   {
    "duration": 37,
    "start_time": "2022-01-03T11:28:42.173Z"
   },
   {
    "duration": 38,
    "start_time": "2022-01-03T11:28:42.215Z"
   },
   {
    "duration": 72,
    "start_time": "2022-01-03T11:28:42.256Z"
   },
   {
    "duration": 10,
    "start_time": "2022-01-03T11:28:42.334Z"
   },
   {
    "duration": 10,
    "start_time": "2022-01-03T11:28:42.348Z"
   },
   {
    "duration": 12,
    "start_time": "2022-01-03T11:28:42.361Z"
   },
   {
    "duration": 48,
    "start_time": "2022-01-03T11:28:42.376Z"
   },
   {
    "duration": 8,
    "start_time": "2022-01-03T11:28:42.427Z"
   },
   {
    "duration": 9,
    "start_time": "2022-01-03T11:28:42.437Z"
   },
   {
    "duration": 338,
    "start_time": "2022-01-03T11:28:42.448Z"
   },
   {
    "duration": 290,
    "start_time": "2022-01-03T11:28:42.789Z"
   },
   {
    "duration": 116,
    "start_time": "2022-01-03T11:28:43.082Z"
   },
   {
    "duration": 344,
    "start_time": "2022-01-03T11:28:42.862Z"
   },
   {
    "duration": 341,
    "start_time": "2022-01-03T11:28:42.867Z"
   },
   {
    "duration": 339,
    "start_time": "2022-01-03T11:28:42.871Z"
   },
   {
    "duration": 337,
    "start_time": "2022-01-03T11:28:42.875Z"
   },
   {
    "duration": 334,
    "start_time": "2022-01-03T11:28:42.880Z"
   },
   {
    "duration": 332,
    "start_time": "2022-01-03T11:28:42.884Z"
   },
   {
    "duration": 328,
    "start_time": "2022-01-03T11:28:42.889Z"
   },
   {
    "duration": 325,
    "start_time": "2022-01-03T11:28:42.893Z"
   },
   {
    "duration": 315,
    "start_time": "2022-01-03T11:28:42.904Z"
   },
   {
    "duration": 312,
    "start_time": "2022-01-03T11:28:42.909Z"
   },
   {
    "duration": 308,
    "start_time": "2022-01-03T11:28:42.914Z"
   },
   {
    "duration": 306,
    "start_time": "2022-01-03T11:28:42.918Z"
   },
   {
    "duration": 302,
    "start_time": "2022-01-03T11:28:42.923Z"
   },
   {
    "duration": 299,
    "start_time": "2022-01-03T11:28:42.927Z"
   },
   {
    "duration": 296,
    "start_time": "2022-01-03T11:28:42.932Z"
   },
   {
    "duration": 293,
    "start_time": "2022-01-03T11:28:42.936Z"
   },
   {
    "duration": 290,
    "start_time": "2022-01-03T11:28:42.941Z"
   },
   {
    "duration": 288,
    "start_time": "2022-01-03T11:28:42.945Z"
   },
   {
    "duration": 285,
    "start_time": "2022-01-03T11:28:42.949Z"
   },
   {
    "duration": 281,
    "start_time": "2022-01-03T11:28:42.954Z"
   },
   {
    "duration": 278,
    "start_time": "2022-01-03T11:28:42.959Z"
   },
   {
    "duration": 267,
    "start_time": "2022-01-03T11:28:42.971Z"
   },
   {
    "duration": 263,
    "start_time": "2022-01-03T11:28:42.977Z"
   },
   {
    "duration": 258,
    "start_time": "2022-01-03T11:28:42.983Z"
   },
   {
    "duration": 255,
    "start_time": "2022-01-03T11:28:42.988Z"
   },
   {
    "duration": 252,
    "start_time": "2022-01-03T11:28:42.992Z"
   },
   {
    "duration": 228,
    "start_time": "2022-01-03T11:28:43.018Z"
   },
   {
    "duration": 225,
    "start_time": "2022-01-03T11:28:43.022Z"
   },
   {
    "duration": 221,
    "start_time": "2022-01-03T11:28:43.027Z"
   },
   {
    "duration": 219,
    "start_time": "2022-01-03T11:28:43.031Z"
   },
   {
    "duration": 215,
    "start_time": "2022-01-03T11:28:43.036Z"
   },
   {
    "duration": 212,
    "start_time": "2022-01-03T11:28:43.041Z"
   },
   {
    "duration": 209,
    "start_time": "2022-01-03T11:28:43.045Z"
   },
   {
    "duration": 206,
    "start_time": "2022-01-03T11:28:43.050Z"
   },
   {
    "duration": 203,
    "start_time": "2022-01-03T11:28:43.054Z"
   },
   {
    "duration": 200,
    "start_time": "2022-01-03T11:28:43.058Z"
   },
   {
    "duration": 73,
    "start_time": "2022-01-03T11:28:43.187Z"
   },
   {
    "duration": 8,
    "start_time": "2022-01-03T11:28:43.253Z"
   },
   {
    "duration": 49,
    "start_time": "2022-01-03T11:28:43.273Z"
   },
   {
    "duration": 48,
    "start_time": "2022-01-03T11:28:43.276Z"
   },
   {
    "duration": 26,
    "start_time": "2022-01-03T11:28:43.300Z"
   },
   {
    "duration": 9,
    "start_time": "2022-01-03T11:28:43.318Z"
   },
   {
    "duration": 6,
    "start_time": "2022-01-03T11:28:43.323Z"
   },
   {
    "duration": 3,
    "start_time": "2022-01-03T11:28:43.327Z"
   },
   {
    "duration": -35,
    "start_time": "2022-01-03T11:28:43.367Z"
   },
   {
    "duration": -37,
    "start_time": "2022-01-03T11:28:43.371Z"
   },
   {
    "duration": -39,
    "start_time": "2022-01-03T11:28:43.375Z"
   },
   {
    "duration": -42,
    "start_time": "2022-01-03T11:28:43.379Z"
   },
   {
    "duration": -54,
    "start_time": "2022-01-03T11:28:43.393Z"
   },
   {
    "duration": -76,
    "start_time": "2022-01-03T11:28:43.416Z"
   },
   {
    "duration": -90,
    "start_time": "2022-01-03T11:28:43.431Z"
   },
   {
    "duration": -92,
    "start_time": "2022-01-03T11:28:43.435Z"
   },
   {
    "duration": -95,
    "start_time": "2022-01-03T11:28:43.440Z"
   },
   {
    "duration": -105,
    "start_time": "2022-01-03T11:28:43.451Z"
   },
   {
    "duration": -107,
    "start_time": "2022-01-03T11:28:43.455Z"
   },
   {
    "duration": -109,
    "start_time": "2022-01-03T11:28:43.459Z"
   },
   {
    "duration": -118,
    "start_time": "2022-01-03T11:28:43.469Z"
   },
   {
    "duration": -190,
    "start_time": "2022-01-03T11:28:43.543Z"
   },
   {
    "duration": -194,
    "start_time": "2022-01-03T11:28:43.548Z"
   },
   {
    "duration": -197,
    "start_time": "2022-01-03T11:28:43.552Z"
   },
   {
    "duration": -199,
    "start_time": "2022-01-03T11:28:43.556Z"
   },
   {
    "duration": -202,
    "start_time": "2022-01-03T11:28:43.560Z"
   },
   {
    "duration": 630,
    "start_time": "2022-01-03T11:29:06.217Z"
   },
   {
    "duration": 4,
    "start_time": "2022-01-03T11:29:33.768Z"
   },
   {
    "duration": 312,
    "start_time": "2022-01-03T11:29:33.775Z"
   },
   {
    "duration": 14,
    "start_time": "2022-01-03T11:29:34.089Z"
   },
   {
    "duration": 28,
    "start_time": "2022-01-03T11:29:34.106Z"
   },
   {
    "duration": 42,
    "start_time": "2022-01-03T11:29:34.137Z"
   },
   {
    "duration": 64,
    "start_time": "2022-01-03T11:29:34.181Z"
   },
   {
    "duration": 7,
    "start_time": "2022-01-03T11:29:34.248Z"
   },
   {
    "duration": 19,
    "start_time": "2022-01-03T11:29:34.258Z"
   },
   {
    "duration": 30,
    "start_time": "2022-01-03T11:29:34.279Z"
   },
   {
    "duration": 22,
    "start_time": "2022-01-03T11:29:34.311Z"
   },
   {
    "duration": 17,
    "start_time": "2022-01-03T11:29:34.335Z"
   },
   {
    "duration": 13,
    "start_time": "2022-01-03T11:29:34.355Z"
   },
   {
    "duration": 308,
    "start_time": "2022-01-03T11:29:34.370Z"
   },
   {
    "duration": 295,
    "start_time": "2022-01-03T11:29:34.681Z"
   },
   {
    "duration": 118,
    "start_time": "2022-01-03T11:29:34.978Z"
   },
   {
    "duration": 336,
    "start_time": "2022-01-03T11:29:34.765Z"
   },
   {
    "duration": 333,
    "start_time": "2022-01-03T11:29:34.770Z"
   },
   {
    "duration": 330,
    "start_time": "2022-01-03T11:29:34.774Z"
   },
   {
    "duration": 326,
    "start_time": "2022-01-03T11:29:34.780Z"
   },
   {
    "duration": 323,
    "start_time": "2022-01-03T11:29:34.784Z"
   },
   {
    "duration": 320,
    "start_time": "2022-01-03T11:29:34.789Z"
   },
   {
    "duration": 318,
    "start_time": "2022-01-03T11:29:34.793Z"
   },
   {
    "duration": 314,
    "start_time": "2022-01-03T11:29:34.798Z"
   },
   {
    "duration": 310,
    "start_time": "2022-01-03T11:29:34.803Z"
   },
   {
    "duration": 307,
    "start_time": "2022-01-03T11:29:34.808Z"
   },
   {
    "duration": 304,
    "start_time": "2022-01-03T11:29:34.812Z"
   },
   {
    "duration": 300,
    "start_time": "2022-01-03T11:29:34.817Z"
   },
   {
    "duration": 290,
    "start_time": "2022-01-03T11:29:34.828Z"
   },
   {
    "duration": 286,
    "start_time": "2022-01-03T11:29:34.834Z"
   },
   {
    "duration": 283,
    "start_time": "2022-01-03T11:29:34.838Z"
   },
   {
    "duration": 279,
    "start_time": "2022-01-03T11:29:34.843Z"
   },
   {
    "duration": 276,
    "start_time": "2022-01-03T11:29:34.848Z"
   },
   {
    "duration": 272,
    "start_time": "2022-01-03T11:29:34.853Z"
   },
   {
    "duration": 269,
    "start_time": "2022-01-03T11:29:34.857Z"
   },
   {
    "duration": 265,
    "start_time": "2022-01-03T11:29:34.862Z"
   },
   {
    "duration": 262,
    "start_time": "2022-01-03T11:29:34.867Z"
   },
   {
    "duration": 258,
    "start_time": "2022-01-03T11:29:34.872Z"
   },
   {
    "duration": 255,
    "start_time": "2022-01-03T11:29:34.876Z"
   },
   {
    "duration": 252,
    "start_time": "2022-01-03T11:29:34.881Z"
   },
   {
    "duration": 248,
    "start_time": "2022-01-03T11:29:34.886Z"
   },
   {
    "duration": 244,
    "start_time": "2022-01-03T11:29:34.891Z"
   },
   {
    "duration": 242,
    "start_time": "2022-01-03T11:29:34.895Z"
   },
   {
    "duration": 238,
    "start_time": "2022-01-03T11:29:34.900Z"
   },
   {
    "duration": 234,
    "start_time": "2022-01-03T11:29:34.905Z"
   },
   {
    "duration": 231,
    "start_time": "2022-01-03T11:29:34.909Z"
   },
   {
    "duration": 228,
    "start_time": "2022-01-03T11:29:34.914Z"
   },
   {
    "duration": 224,
    "start_time": "2022-01-03T11:29:34.919Z"
   },
   {
    "duration": 218,
    "start_time": "2022-01-03T11:29:34.926Z"
   },
   {
    "duration": 207,
    "start_time": "2022-01-03T11:29:34.938Z"
   },
   {
    "duration": 204,
    "start_time": "2022-01-03T11:29:34.943Z"
   },
   {
    "duration": 185,
    "start_time": "2022-01-03T11:29:34.963Z"
   },
   {
    "duration": 183,
    "start_time": "2022-01-03T11:29:34.967Z"
   },
   {
    "duration": 179,
    "start_time": "2022-01-03T11:29:34.973Z"
   },
   {
    "duration": 175,
    "start_time": "2022-01-03T11:29:34.978Z"
   },
   {
    "duration": 172,
    "start_time": "2022-01-03T11:29:34.983Z"
   },
   {
    "duration": 169,
    "start_time": "2022-01-03T11:29:34.987Z"
   },
   {
    "duration": 166,
    "start_time": "2022-01-03T11:29:34.992Z"
   },
   {
    "duration": 164,
    "start_time": "2022-01-03T11:29:34.996Z"
   },
   {
    "duration": 162,
    "start_time": "2022-01-03T11:29:35.001Z"
   },
   {
    "duration": 220,
    "start_time": "2022-01-03T11:29:35.006Z"
   },
   {
    "duration": 217,
    "start_time": "2022-01-03T11:29:35.011Z"
   },
   {
    "duration": 164,
    "start_time": "2022-01-03T11:29:35.067Z"
   },
   {
    "duration": 135,
    "start_time": "2022-01-03T11:29:35.098Z"
   },
   {
    "duration": 121,
    "start_time": "2022-01-03T11:29:35.115Z"
   },
   {
    "duration": 118,
    "start_time": "2022-01-03T11:29:35.120Z"
   },
   {
    "duration": 108,
    "start_time": "2022-01-03T11:29:35.133Z"
   },
   {
    "duration": 99,
    "start_time": "2022-01-03T11:29:35.144Z"
   },
   {
    "duration": 76,
    "start_time": "2022-01-03T11:29:35.169Z"
   },
   {
    "duration": 71,
    "start_time": "2022-01-03T11:29:35.176Z"
   },
   {
    "duration": 67,
    "start_time": "2022-01-03T11:29:35.182Z"
   },
   {
    "duration": 63,
    "start_time": "2022-01-03T11:29:35.188Z"
   },
   {
    "duration": 319,
    "start_time": "2022-01-03T11:29:40.217Z"
   },
   {
    "duration": 269,
    "start_time": "2022-01-03T11:29:47.145Z"
   },
   {
    "duration": 14,
    "start_time": "2022-01-03T11:29:47.506Z"
   },
   {
    "duration": 9,
    "start_time": "2022-01-03T11:29:48.073Z"
   },
   {
    "duration": 31,
    "start_time": "2022-01-03T11:29:48.867Z"
   },
   {
    "duration": 46,
    "start_time": "2022-01-03T11:29:49.054Z"
   },
   {
    "duration": 8,
    "start_time": "2022-01-03T11:29:50.561Z"
   },
   {
    "duration": 9,
    "start_time": "2022-01-03T11:29:50.900Z"
   },
   {
    "duration": 10,
    "start_time": "2022-01-03T11:29:52.198Z"
   },
   {
    "duration": 14,
    "start_time": "2022-01-03T11:29:52.572Z"
   },
   {
    "duration": 8,
    "start_time": "2022-01-03T11:29:52.947Z"
   },
   {
    "duration": 11,
    "start_time": "2022-01-03T11:29:53.297Z"
   },
   {
    "duration": 303,
    "start_time": "2022-01-03T11:29:53.413Z"
   },
   {
    "duration": 272,
    "start_time": "2022-01-03T11:29:56.702Z"
   },
   {
    "duration": 110,
    "start_time": "2022-01-03T11:29:56.977Z"
   },
   {
    "duration": 10,
    "start_time": "2022-01-03T11:29:57.092Z"
   },
   {
    "duration": 115,
    "start_time": "2022-01-03T11:29:57.291Z"
   },
   {
    "duration": 18,
    "start_time": "2022-01-03T11:29:57.479Z"
   },
   {
    "duration": 7,
    "start_time": "2022-01-03T11:29:57.792Z"
   },
   {
    "duration": 5,
    "start_time": "2022-01-03T11:29:57.953Z"
   },
   {
    "duration": 10,
    "start_time": "2022-01-03T11:29:58.240Z"
   },
   {
    "duration": 355,
    "start_time": "2022-01-03T11:29:58.340Z"
   },
   {
    "duration": 284,
    "start_time": "2022-01-03T11:29:58.698Z"
   },
   {
    "duration": 116,
    "start_time": "2022-01-03T11:29:59.077Z"
   },
   {
    "duration": 25,
    "start_time": "2022-01-03T11:29:59.655Z"
   },
   {
    "duration": 11,
    "start_time": "2022-01-03T11:30:00.315Z"
   },
   {
    "duration": 28,
    "start_time": "2022-01-03T11:30:00.586Z"
   },
   {
    "duration": 11,
    "start_time": "2022-01-03T11:30:01.195Z"
   },
   {
    "duration": 19,
    "start_time": "2022-01-03T11:30:01.451Z"
   },
   {
    "duration": 10,
    "start_time": "2022-01-03T11:30:02.185Z"
   },
   {
    "duration": 8,
    "start_time": "2022-01-03T11:30:02.784Z"
   },
   {
    "duration": 10,
    "start_time": "2022-01-03T11:30:03.348Z"
   },
   {
    "duration": 34,
    "start_time": "2022-01-03T11:30:03.471Z"
   },
   {
    "duration": 58,
    "start_time": "2022-01-03T11:30:03.906Z"
   },
   {
    "duration": 25,
    "start_time": "2022-01-03T11:30:04.682Z"
   },
   {
    "duration": 34,
    "start_time": "2022-01-03T11:30:05.164Z"
   },
   {
    "duration": 32,
    "start_time": "2022-01-03T11:30:05.839Z"
   },
   {
    "duration": 57,
    "start_time": "2022-01-03T11:30:05.948Z"
   },
   {
    "duration": 23,
    "start_time": "2022-01-03T11:30:06.079Z"
   },
   {
    "duration": 11,
    "start_time": "2022-01-03T11:30:06.778Z"
   },
   {
    "duration": 11,
    "start_time": "2022-01-03T11:30:07.006Z"
   },
   {
    "duration": 999,
    "start_time": "2022-01-03T11:30:07.739Z"
   },
   {
    "duration": 10,
    "start_time": "2022-01-03T11:30:08.741Z"
   },
   {
    "duration": 8,
    "start_time": "2022-01-03T11:30:08.753Z"
   },
   {
    "duration": 14,
    "start_time": "2022-01-03T11:30:08.763Z"
   },
   {
    "duration": 8,
    "start_time": "2022-01-03T11:30:08.779Z"
   },
   {
    "duration": 5,
    "start_time": "2022-01-03T11:30:09.710Z"
   },
   {
    "duration": 5,
    "start_time": "2022-01-03T11:30:09.960Z"
   },
   {
    "duration": 17,
    "start_time": "2022-01-03T11:30:10.181Z"
   },
   {
    "duration": 9,
    "start_time": "2022-01-03T11:30:11.670Z"
   },
   {
    "duration": 8,
    "start_time": "2022-01-03T11:30:12.205Z"
   },
   {
    "duration": 28,
    "start_time": "2022-01-03T11:30:14.626Z"
   },
   {
    "duration": 42,
    "start_time": "2022-01-03T11:30:15.393Z"
   },
   {
    "duration": 29,
    "start_time": "2022-01-03T11:30:16.314Z"
   },
   {
    "duration": 21,
    "start_time": "2022-01-03T11:30:17.243Z"
   },
   {
    "duration": 7,
    "start_time": "2022-01-03T11:30:19.846Z"
   },
   {
    "duration": 873,
    "start_time": "2022-01-03T11:30:20.592Z"
   },
   {
    "duration": 3725,
    "start_time": "2022-01-03T11:30:22.885Z"
   },
   {
    "duration": 371,
    "start_time": "2022-01-03T11:30:26.242Z"
   },
   {
    "duration": 3667,
    "start_time": "2022-01-03T11:30:32.894Z"
   },
   {
    "duration": 3980,
    "start_time": "2022-01-03T11:30:43.500Z"
   },
   {
    "duration": 4840,
    "start_time": "2022-01-03T11:31:18.615Z"
   },
   {
    "duration": 15,
    "start_time": "2022-01-03T11:31:23.459Z"
   },
   {
    "duration": 12,
    "start_time": "2022-01-03T11:31:23.477Z"
   },
   {
    "duration": 16,
    "start_time": "2022-01-03T11:32:22.397Z"
   },
   {
    "duration": 237,
    "start_time": "2022-01-03T11:32:23.042Z"
   },
   {
    "duration": 690,
    "start_time": "2022-01-03T11:32:24.066Z"
   },
   {
    "duration": 247,
    "start_time": "2022-01-03T11:32:29.789Z"
   },
   {
    "duration": 10,
    "start_time": "2022-01-03T11:32:35.550Z"
   },
   {
    "duration": 21,
    "start_time": "2022-01-03T11:32:36.079Z"
   },
   {
    "duration": 334,
    "start_time": "2022-01-03T11:32:36.626Z"
   },
   {
    "duration": 45,
    "start_time": "2022-01-03T11:32:47.753Z"
   },
   {
    "duration": 46,
    "start_time": "2022-01-03T11:33:12.685Z"
   },
   {
    "duration": 1358,
    "start_time": "2022-01-03T11:33:28.556Z"
   },
   {
    "duration": 47,
    "start_time": "2022-01-03T11:33:34.789Z"
   },
   {
    "duration": 212,
    "start_time": "2022-01-03T11:34:56.442Z"
   },
   {
    "duration": 346,
    "start_time": "2022-01-03T11:35:24.074Z"
   },
   {
    "duration": 45,
    "start_time": "2022-01-03T11:35:27.895Z"
   },
   {
    "duration": 42,
    "start_time": "2022-01-03T11:35:37.917Z"
   },
   {
    "duration": 47,
    "start_time": "2022-01-03T11:35:45.201Z"
   },
   {
    "duration": 335,
    "start_time": "2022-01-03T11:36:46.037Z"
   },
   {
    "duration": 43,
    "start_time": "2022-01-03T11:36:58.518Z"
   },
   {
    "duration": 58,
    "start_time": "2022-01-03T11:38:50.766Z"
   },
   {
    "duration": 1332,
    "start_time": "2022-01-03T11:39:15.567Z"
   },
   {
    "duration": 44,
    "start_time": "2022-01-03T11:39:26.380Z"
   },
   {
    "duration": 45,
    "start_time": "2022-01-03T11:39:55.434Z"
   },
   {
    "duration": 51,
    "start_time": "2022-01-03T11:40:07.840Z"
   },
   {
    "duration": 56,
    "start_time": "2022-01-03T11:40:32.003Z"
   },
   {
    "duration": 44,
    "start_time": "2022-01-03T11:40:36.328Z"
   },
   {
    "duration": 6492,
    "start_time": "2022-01-03T11:41:33.016Z"
   },
   {
    "duration": 57,
    "start_time": "2022-01-03T11:41:40.839Z"
   },
   {
    "duration": 53,
    "start_time": "2022-01-03T11:41:50.239Z"
   },
   {
    "duration": 45,
    "start_time": "2022-01-03T11:42:01.901Z"
   },
   {
    "duration": 47,
    "start_time": "2022-01-03T11:44:11.184Z"
   },
   {
    "duration": 47,
    "start_time": "2022-01-03T11:44:15.714Z"
   },
   {
    "duration": 383,
    "start_time": "2022-01-03T11:44:27.275Z"
   },
   {
    "duration": 46,
    "start_time": "2022-01-03T11:47:06.451Z"
   },
   {
    "duration": 41,
    "start_time": "2022-01-03T11:47:31.842Z"
   },
   {
    "duration": 118,
    "start_time": "2022-01-03T11:48:31.761Z"
   },
   {
    "duration": 14,
    "start_time": "2022-01-03T11:48:44.214Z"
   },
   {
    "duration": 68,
    "start_time": "2022-01-03T11:49:04.353Z"
   },
   {
    "duration": 36,
    "start_time": "2022-01-03T11:49:56.692Z"
   },
   {
    "duration": 56,
    "start_time": "2022-01-03T11:50:11.653Z"
   },
   {
    "duration": 39,
    "start_time": "2022-01-03T11:50:15.468Z"
   },
   {
    "duration": 42,
    "start_time": "2022-01-03T11:50:21.527Z"
   },
   {
    "duration": 45,
    "start_time": "2022-01-03T11:50:41.390Z"
   },
   {
    "duration": 54,
    "start_time": "2022-01-03T11:50:57.750Z"
   },
   {
    "duration": 3,
    "start_time": "2022-01-03T11:51:14.409Z"
   },
   {
    "duration": 4,
    "start_time": "2022-01-03T11:51:16.130Z"
   },
   {
    "duration": 369,
    "start_time": "2022-01-03T11:55:57.155Z"
   },
   {
    "duration": 18,
    "start_time": "2022-01-03T11:56:06.217Z"
   },
   {
    "duration": 413,
    "start_time": "2022-01-03T11:56:30.886Z"
   },
   {
    "duration": 404,
    "start_time": "2022-01-03T11:56:36.686Z"
   },
   {
    "duration": 29,
    "start_time": "2022-01-03T11:56:49.835Z"
   },
   {
    "duration": 1136,
    "start_time": "2022-01-03T12:18:26.606Z"
   },
   {
    "duration": 204,
    "start_time": "2022-01-03T12:18:27.744Z"
   },
   {
    "duration": 11,
    "start_time": "2022-01-03T12:18:27.950Z"
   },
   {
    "duration": 12,
    "start_time": "2022-01-03T12:18:27.963Z"
   },
   {
    "duration": 22,
    "start_time": "2022-01-03T12:18:27.977Z"
   },
   {
    "duration": 33,
    "start_time": "2022-01-03T12:18:28.001Z"
   },
   {
    "duration": 28,
    "start_time": "2022-01-03T12:18:28.035Z"
   },
   {
    "duration": 6,
    "start_time": "2022-01-03T12:18:28.065Z"
   },
   {
    "duration": 6,
    "start_time": "2022-01-03T12:18:28.074Z"
   },
   {
    "duration": 7,
    "start_time": "2022-01-03T12:18:28.082Z"
   },
   {
    "duration": 5,
    "start_time": "2022-01-03T12:18:28.090Z"
   },
   {
    "duration": 6,
    "start_time": "2022-01-03T12:18:28.096Z"
   },
   {
    "duration": 217,
    "start_time": "2022-01-03T12:18:28.103Z"
   },
   {
    "duration": 184,
    "start_time": "2022-01-03T12:18:28.322Z"
   },
   {
    "duration": 83,
    "start_time": "2022-01-03T12:18:28.508Z"
   },
   {
    "duration": 1514,
    "start_time": "2022-01-03T12:18:27.081Z"
   },
   {
    "duration": 1511,
    "start_time": "2022-01-03T12:18:27.086Z"
   },
   {
    "duration": 1507,
    "start_time": "2022-01-03T12:18:27.091Z"
   },
   {
    "duration": 1504,
    "start_time": "2022-01-03T12:18:27.096Z"
   },
   {
    "duration": 1497,
    "start_time": "2022-01-03T12:18:27.104Z"
   },
   {
    "duration": 1493,
    "start_time": "2022-01-03T12:18:27.109Z"
   },
   {
    "duration": 1491,
    "start_time": "2022-01-03T12:18:27.113Z"
   },
   {
    "duration": 1488,
    "start_time": "2022-01-03T12:18:27.117Z"
   },
   {
    "duration": 1479,
    "start_time": "2022-01-03T12:18:27.127Z"
   },
   {
    "duration": 1477,
    "start_time": "2022-01-03T12:18:27.131Z"
   },
   {
    "duration": 1474,
    "start_time": "2022-01-03T12:18:27.135Z"
   },
   {
    "duration": 1471,
    "start_time": "2022-01-03T12:18:27.140Z"
   },
   {
    "duration": 1467,
    "start_time": "2022-01-03T12:18:27.145Z"
   },
   {
    "duration": 1465,
    "start_time": "2022-01-03T12:18:27.149Z"
   },
   {
    "duration": 1461,
    "start_time": "2022-01-03T12:18:27.154Z"
   },
   {
    "duration": 1454,
    "start_time": "2022-01-03T12:18:27.162Z"
   },
   {
    "duration": 1448,
    "start_time": "2022-01-03T12:18:27.170Z"
   },
   {
    "duration": 1388,
    "start_time": "2022-01-03T12:18:27.231Z"
   },
   {
    "duration": 1384,
    "start_time": "2022-01-03T12:18:27.236Z"
   },
   {
    "duration": 1380,
    "start_time": "2022-01-03T12:18:27.242Z"
   },
   {
    "duration": 1376,
    "start_time": "2022-01-03T12:18:27.247Z"
   },
   {
    "duration": 1348,
    "start_time": "2022-01-03T12:18:27.276Z"
   },
   {
    "duration": 1346,
    "start_time": "2022-01-03T12:18:27.280Z"
   },
   {
    "duration": 1342,
    "start_time": "2022-01-03T12:18:27.285Z"
   },
   {
    "duration": 1339,
    "start_time": "2022-01-03T12:18:27.289Z"
   },
   {
    "duration": 1337,
    "start_time": "2022-01-03T12:18:27.293Z"
   },
   {
    "duration": 1334,
    "start_time": "2022-01-03T12:18:27.297Z"
   },
   {
    "duration": 1327,
    "start_time": "2022-01-03T12:18:27.306Z"
   },
   {
    "duration": 1325,
    "start_time": "2022-01-03T12:18:27.309Z"
   },
   {
    "duration": 1348,
    "start_time": "2022-01-03T12:18:27.313Z"
   },
   {
    "duration": 1345,
    "start_time": "2022-01-03T12:18:27.317Z"
   },
   {
    "duration": 1343,
    "start_time": "2022-01-03T12:18:27.321Z"
   },
   {
    "duration": 1340,
    "start_time": "2022-01-03T12:18:27.325Z"
   },
   {
    "duration": 1332,
    "start_time": "2022-01-03T12:18:27.335Z"
   },
   {
    "duration": 1328,
    "start_time": "2022-01-03T12:18:27.340Z"
   },
   {
    "duration": 1326,
    "start_time": "2022-01-03T12:18:27.344Z"
   },
   {
    "duration": 1323,
    "start_time": "2022-01-03T12:18:27.348Z"
   },
   {
    "duration": 1316,
    "start_time": "2022-01-03T12:18:27.357Z"
   },
   {
    "duration": 1313,
    "start_time": "2022-01-03T12:18:27.361Z"
   },
   {
    "duration": 1300,
    "start_time": "2022-01-03T12:18:27.376Z"
   },
   {
    "duration": 1297,
    "start_time": "2022-01-03T12:18:27.380Z"
   },
   {
    "duration": 1201,
    "start_time": "2022-01-03T12:18:27.478Z"
   },
   {
    "duration": 1198,
    "start_time": "2022-01-03T12:18:27.482Z"
   },
   {
    "duration": 1195,
    "start_time": "2022-01-03T12:18:27.486Z"
   },
   {
    "duration": 1193,
    "start_time": "2022-01-03T12:18:27.490Z"
   },
   {
    "duration": 1182,
    "start_time": "2022-01-03T12:18:27.502Z"
   },
   {
    "duration": 1180,
    "start_time": "2022-01-03T12:18:27.506Z"
   },
   {
    "duration": 1177,
    "start_time": "2022-01-03T12:18:27.510Z"
   },
   {
    "duration": 1175,
    "start_time": "2022-01-03T12:18:27.514Z"
   },
   {
    "duration": 1160,
    "start_time": "2022-01-03T12:18:27.530Z"
   },
   {
    "duration": 1158,
    "start_time": "2022-01-03T12:18:27.534Z"
   },
   {
    "duration": 1122,
    "start_time": "2022-01-03T12:18:27.571Z"
   },
   {
    "duration": 1120,
    "start_time": "2022-01-03T12:18:27.575Z"
   },
   {
    "duration": 1117,
    "start_time": "2022-01-03T12:18:27.579Z"
   },
   {
    "duration": 1115,
    "start_time": "2022-01-03T12:18:27.583Z"
   },
   {
    "duration": 1112,
    "start_time": "2022-01-03T12:18:27.587Z"
   },
   {
    "duration": 1110,
    "start_time": "2022-01-03T12:18:27.591Z"
   },
   {
    "duration": 1166,
    "start_time": "2022-01-03T12:18:27.595Z"
   },
   {
    "duration": 1151,
    "start_time": "2022-01-03T12:18:51.087Z"
   },
   {
    "duration": 214,
    "start_time": "2022-01-03T12:18:52.240Z"
   },
   {
    "duration": 13,
    "start_time": "2022-01-03T12:18:52.458Z"
   },
   {
    "duration": 13,
    "start_time": "2022-01-03T12:18:52.473Z"
   },
   {
    "duration": 21,
    "start_time": "2022-01-03T12:18:52.488Z"
   },
   {
    "duration": 59,
    "start_time": "2022-01-03T12:18:52.511Z"
   },
   {
    "duration": 7,
    "start_time": "2022-01-03T12:18:52.573Z"
   },
   {
    "duration": 7,
    "start_time": "2022-01-03T12:18:52.582Z"
   },
   {
    "duration": 7,
    "start_time": "2022-01-03T12:18:52.591Z"
   },
   {
    "duration": 11,
    "start_time": "2022-01-03T12:18:52.599Z"
   },
   {
    "duration": 5,
    "start_time": "2022-01-03T12:18:52.612Z"
   },
   {
    "duration": 43,
    "start_time": "2022-01-03T12:18:52.618Z"
   },
   {
    "duration": 199,
    "start_time": "2022-01-03T12:18:52.663Z"
   },
   {
    "duration": 175,
    "start_time": "2022-01-03T12:18:52.863Z"
   },
   {
    "duration": 6,
    "start_time": "2022-01-03T12:18:53.040Z"
   },
   {
    "duration": 127,
    "start_time": "2022-01-03T12:18:53.048Z"
   },
   {
    "duration": 1475,
    "start_time": "2022-01-03T12:18:51.703Z"
   },
   {
    "duration": 1472,
    "start_time": "2022-01-03T12:18:51.707Z"
   },
   {
    "duration": 1469,
    "start_time": "2022-01-03T12:18:51.711Z"
   },
   {
    "duration": 1466,
    "start_time": "2022-01-03T12:18:51.715Z"
   },
   {
    "duration": 1464,
    "start_time": "2022-01-03T12:18:51.718Z"
   },
   {
    "duration": 1456,
    "start_time": "2022-01-03T12:18:51.727Z"
   },
   {
    "duration": 1452,
    "start_time": "2022-01-03T12:18:51.732Z"
   },
   {
    "duration": 1450,
    "start_time": "2022-01-03T12:18:51.735Z"
   },
   {
    "duration": 1446,
    "start_time": "2022-01-03T12:18:51.740Z"
   },
   {
    "duration": 1442,
    "start_time": "2022-01-03T12:18:51.744Z"
   },
   {
    "duration": 1440,
    "start_time": "2022-01-03T12:18:51.747Z"
   },
   {
    "duration": 1437,
    "start_time": "2022-01-03T12:18:51.751Z"
   },
   {
    "duration": 1435,
    "start_time": "2022-01-03T12:18:51.754Z"
   },
   {
    "duration": 1432,
    "start_time": "2022-01-03T12:18:51.758Z"
   },
   {
    "duration": 1428,
    "start_time": "2022-01-03T12:18:51.762Z"
   },
   {
    "duration": 1426,
    "start_time": "2022-01-03T12:18:51.766Z"
   },
   {
    "duration": 1424,
    "start_time": "2022-01-03T12:18:51.769Z"
   },
   {
    "duration": 1421,
    "start_time": "2022-01-03T12:18:51.773Z"
   },
   {
    "duration": 1417,
    "start_time": "2022-01-03T12:18:51.777Z"
   },
   {
    "duration": 1415,
    "start_time": "2022-01-03T12:18:51.780Z"
   },
   {
    "duration": 1413,
    "start_time": "2022-01-03T12:18:51.783Z"
   },
   {
    "duration": 1410,
    "start_time": "2022-01-03T12:18:51.787Z"
   },
   {
    "duration": 1407,
    "start_time": "2022-01-03T12:18:51.791Z"
   },
   {
    "duration": 1405,
    "start_time": "2022-01-03T12:18:51.794Z"
   },
   {
    "duration": 1403,
    "start_time": "2022-01-03T12:18:51.797Z"
   },
   {
    "duration": 1400,
    "start_time": "2022-01-03T12:18:51.801Z"
   },
   {
    "duration": 1398,
    "start_time": "2022-01-03T12:18:51.804Z"
   },
   {
    "duration": 1396,
    "start_time": "2022-01-03T12:18:51.807Z"
   },
   {
    "duration": 1393,
    "start_time": "2022-01-03T12:18:51.811Z"
   },
   {
    "duration": 1391,
    "start_time": "2022-01-03T12:18:51.814Z"
   },
   {
    "duration": 1388,
    "start_time": "2022-01-03T12:18:51.817Z"
   },
   {
    "duration": 1378,
    "start_time": "2022-01-03T12:18:51.828Z"
   },
   {
    "duration": 1376,
    "start_time": "2022-01-03T12:18:51.831Z"
   },
   {
    "duration": 1373,
    "start_time": "2022-01-03T12:18:51.835Z"
   },
   {
    "duration": 1371,
    "start_time": "2022-01-03T12:18:51.838Z"
   },
   {
    "duration": 1368,
    "start_time": "2022-01-03T12:18:51.842Z"
   },
   {
    "duration": 1366,
    "start_time": "2022-01-03T12:18:51.845Z"
   },
   {
    "duration": 1364,
    "start_time": "2022-01-03T12:18:51.848Z"
   },
   {
    "duration": 1360,
    "start_time": "2022-01-03T12:18:51.852Z"
   },
   {
    "duration": 1358,
    "start_time": "2022-01-03T12:18:51.855Z"
   },
   {
    "duration": 1355,
    "start_time": "2022-01-03T12:18:51.859Z"
   },
   {
    "duration": 1353,
    "start_time": "2022-01-03T12:18:51.862Z"
   },
   {
    "duration": 1351,
    "start_time": "2022-01-03T12:18:51.865Z"
   },
   {
    "duration": 1392,
    "start_time": "2022-01-03T12:18:51.868Z"
   },
   {
    "duration": 1390,
    "start_time": "2022-01-03T12:18:51.871Z"
   },
   {
    "duration": 1387,
    "start_time": "2022-01-03T12:18:51.875Z"
   },
   {
    "duration": 1385,
    "start_time": "2022-01-03T12:18:51.878Z"
   },
   {
    "duration": 1382,
    "start_time": "2022-01-03T12:18:51.882Z"
   },
   {
    "duration": 1380,
    "start_time": "2022-01-03T12:18:51.885Z"
   },
   {
    "duration": 1378,
    "start_time": "2022-01-03T12:18:51.888Z"
   },
   {
    "duration": 1374,
    "start_time": "2022-01-03T12:18:51.892Z"
   },
   {
    "duration": 1372,
    "start_time": "2022-01-03T12:18:51.895Z"
   },
   {
    "duration": 1370,
    "start_time": "2022-01-03T12:18:51.898Z"
   },
   {
    "duration": 1368,
    "start_time": "2022-01-03T12:18:51.901Z"
   },
   {
    "duration": 1366,
    "start_time": "2022-01-03T12:18:51.904Z"
   },
   {
    "duration": 1363,
    "start_time": "2022-01-03T12:18:51.908Z"
   },
   {
    "duration": 1103,
    "start_time": "2022-01-03T12:19:21.584Z"
   },
   {
    "duration": 275,
    "start_time": "2022-01-03T12:19:22.689Z"
   },
   {
    "duration": 11,
    "start_time": "2022-01-03T12:19:22.968Z"
   },
   {
    "duration": 16,
    "start_time": "2022-01-03T12:19:22.981Z"
   },
   {
    "duration": 21,
    "start_time": "2022-01-03T12:19:22.998Z"
   },
   {
    "duration": 48,
    "start_time": "2022-01-03T12:19:23.021Z"
   },
   {
    "duration": 6,
    "start_time": "2022-01-03T12:19:23.071Z"
   },
   {
    "duration": 6,
    "start_time": "2022-01-03T12:19:23.079Z"
   },
   {
    "duration": 7,
    "start_time": "2022-01-03T12:19:23.087Z"
   },
   {
    "duration": 8,
    "start_time": "2022-01-03T12:19:23.095Z"
   },
   {
    "duration": 5,
    "start_time": "2022-01-03T12:19:23.104Z"
   },
   {
    "duration": 9,
    "start_time": "2022-01-03T12:19:23.110Z"
   },
   {
    "duration": 220,
    "start_time": "2022-01-03T12:19:23.120Z"
   },
   {
    "duration": 173,
    "start_time": "2022-01-03T12:19:23.342Z"
   },
   {
    "duration": 7,
    "start_time": "2022-01-03T12:19:23.517Z"
   },
   {
    "duration": 11,
    "start_time": "2022-01-03T12:19:23.525Z"
   },
   {
    "duration": 5,
    "start_time": "2022-01-03T12:19:23.537Z"
   },
   {
    "duration": 3,
    "start_time": "2022-01-03T12:19:23.561Z"
   },
   {
    "duration": 9,
    "start_time": "2022-01-03T12:19:23.566Z"
   },
   {
    "duration": 185,
    "start_time": "2022-01-03T12:19:23.577Z"
   },
   {
    "duration": 176,
    "start_time": "2022-01-03T12:19:23.764Z"
   },
   {
    "duration": 104,
    "start_time": "2022-01-03T12:19:23.942Z"
   },
   {
    "duration": 1491,
    "start_time": "2022-01-03T12:19:22.559Z"
   },
   {
    "duration": 1488,
    "start_time": "2022-01-03T12:19:22.563Z"
   },
   {
    "duration": 1485,
    "start_time": "2022-01-03T12:19:22.567Z"
   },
   {
    "duration": 1483,
    "start_time": "2022-01-03T12:19:22.571Z"
   },
   {
    "duration": 1480,
    "start_time": "2022-01-03T12:19:22.575Z"
   },
   {
    "duration": 1478,
    "start_time": "2022-01-03T12:19:22.578Z"
   },
   {
    "duration": 1476,
    "start_time": "2022-01-03T12:19:22.582Z"
   },
   {
    "duration": 1474,
    "start_time": "2022-01-03T12:19:22.585Z"
   },
   {
    "duration": 1473,
    "start_time": "2022-01-03T12:19:22.588Z"
   },
   {
    "duration": 1472,
    "start_time": "2022-01-03T12:19:22.591Z"
   },
   {
    "duration": 1470,
    "start_time": "2022-01-03T12:19:22.594Z"
   },
   {
    "duration": 1469,
    "start_time": "2022-01-03T12:19:22.597Z"
   },
   {
    "duration": 1466,
    "start_time": "2022-01-03T12:19:22.601Z"
   },
   {
    "duration": 1465,
    "start_time": "2022-01-03T12:19:22.604Z"
   },
   {
    "duration": 1463,
    "start_time": "2022-01-03T12:19:22.607Z"
   },
   {
    "duration": 1462,
    "start_time": "2022-01-03T12:19:22.610Z"
   },
   {
    "duration": 1459,
    "start_time": "2022-01-03T12:19:22.614Z"
   },
   {
    "duration": 1458,
    "start_time": "2022-01-03T12:19:22.617Z"
   },
   {
    "duration": 1455,
    "start_time": "2022-01-03T12:19:22.621Z"
   },
   {
    "duration": 1454,
    "start_time": "2022-01-03T12:19:22.624Z"
   },
   {
    "duration": 1452,
    "start_time": "2022-01-03T12:19:22.627Z"
   },
   {
    "duration": 1451,
    "start_time": "2022-01-03T12:19:22.630Z"
   },
   {
    "duration": 1442,
    "start_time": "2022-01-03T12:19:22.640Z"
   },
   {
    "duration": 1441,
    "start_time": "2022-01-03T12:19:22.643Z"
   },
   {
    "duration": 1438,
    "start_time": "2022-01-03T12:19:22.647Z"
   },
   {
    "duration": 1437,
    "start_time": "2022-01-03T12:19:22.650Z"
   },
   {
    "duration": 1434,
    "start_time": "2022-01-03T12:19:22.654Z"
   },
   {
    "duration": 1432,
    "start_time": "2022-01-03T12:19:22.658Z"
   },
   {
    "duration": 1430,
    "start_time": "2022-01-03T12:19:22.662Z"
   },
   {
    "duration": 1415,
    "start_time": "2022-01-03T12:19:22.678Z"
   },
   {
    "duration": 1413,
    "start_time": "2022-01-03T12:19:22.681Z"
   },
   {
    "duration": 1412,
    "start_time": "2022-01-03T12:19:22.684Z"
   },
   {
    "duration": 1410,
    "start_time": "2022-01-03T12:19:22.687Z"
   },
   {
    "duration": 1409,
    "start_time": "2022-01-03T12:19:22.690Z"
   },
   {
    "duration": 1464,
    "start_time": "2022-01-03T12:19:22.695Z"
   },
   {
    "duration": 1464,
    "start_time": "2022-01-03T12:19:22.698Z"
   },
   {
    "duration": 1462,
    "start_time": "2022-01-03T12:19:22.701Z"
   },
   {
    "duration": 1461,
    "start_time": "2022-01-03T12:19:22.704Z"
   },
   {
    "duration": 1458,
    "start_time": "2022-01-03T12:19:22.708Z"
   },
   {
    "duration": 1450,
    "start_time": "2022-01-03T12:19:22.718Z"
   },
   {
    "duration": 1448,
    "start_time": "2022-01-03T12:19:22.721Z"
   },
   {
    "duration": 1446,
    "start_time": "2022-01-03T12:19:22.725Z"
   },
   {
    "duration": 1444,
    "start_time": "2022-01-03T12:19:22.728Z"
   },
   {
    "duration": 1442,
    "start_time": "2022-01-03T12:19:22.731Z"
   },
   {
    "duration": 1437,
    "start_time": "2022-01-03T12:19:22.738Z"
   },
   {
    "duration": 1435,
    "start_time": "2022-01-03T12:19:22.741Z"
   },
   {
    "duration": 1433,
    "start_time": "2022-01-03T12:19:22.745Z"
   },
   {
    "duration": 1431,
    "start_time": "2022-01-03T12:19:22.748Z"
   },
   {
    "duration": 1427,
    "start_time": "2022-01-03T12:19:22.753Z"
   },
   {
    "duration": 1090,
    "start_time": "2022-01-03T12:19:39.994Z"
   },
   {
    "duration": 237,
    "start_time": "2022-01-03T12:19:41.086Z"
   },
   {
    "duration": 11,
    "start_time": "2022-01-03T12:19:41.325Z"
   },
   {
    "duration": 13,
    "start_time": "2022-01-03T12:19:41.338Z"
   },
   {
    "duration": 21,
    "start_time": "2022-01-03T12:19:41.352Z"
   },
   {
    "duration": 31,
    "start_time": "2022-01-03T12:19:41.375Z"
   },
   {
    "duration": 5,
    "start_time": "2022-01-03T12:19:41.408Z"
   },
   {
    "duration": 7,
    "start_time": "2022-01-03T12:19:41.414Z"
   },
   {
    "duration": 6,
    "start_time": "2022-01-03T12:19:41.424Z"
   },
   {
    "duration": 40,
    "start_time": "2022-01-03T12:19:41.432Z"
   },
   {
    "duration": 5,
    "start_time": "2022-01-03T12:19:41.473Z"
   },
   {
    "duration": 9,
    "start_time": "2022-01-03T12:19:41.479Z"
   },
   {
    "duration": 206,
    "start_time": "2022-01-03T12:19:41.489Z"
   },
   {
    "duration": 189,
    "start_time": "2022-01-03T12:19:41.697Z"
   },
   {
    "duration": 7,
    "start_time": "2022-01-03T12:19:41.888Z"
   },
   {
    "duration": 12,
    "start_time": "2022-01-03T12:19:41.896Z"
   },
   {
    "duration": 4,
    "start_time": "2022-01-03T12:19:41.910Z"
   },
   {
    "duration": 5,
    "start_time": "2022-01-03T12:19:41.916Z"
   },
   {
    "duration": 6,
    "start_time": "2022-01-03T12:19:41.923Z"
   },
   {
    "duration": 204,
    "start_time": "2022-01-03T12:19:41.930Z"
   },
   {
    "duration": 172,
    "start_time": "2022-01-03T12:19:42.136Z"
   },
   {
    "duration": 17,
    "start_time": "2022-01-03T12:19:42.310Z"
   },
   {
    "duration": 8,
    "start_time": "2022-01-03T12:19:42.329Z"
   },
   {
    "duration": 35,
    "start_time": "2022-01-03T12:19:42.339Z"
   },
   {
    "duration": 8,
    "start_time": "2022-01-03T12:19:42.376Z"
   },
   {
    "duration": 13,
    "start_time": "2022-01-03T12:19:42.386Z"
   },
   {
    "duration": 6,
    "start_time": "2022-01-03T12:19:42.405Z"
   },
   {
    "duration": 7,
    "start_time": "2022-01-03T12:19:42.414Z"
   },
   {
    "duration": 42,
    "start_time": "2022-01-03T12:19:42.422Z"
   },
   {
    "duration": 23,
    "start_time": "2022-01-03T12:19:42.465Z"
   },
   {
    "duration": 34,
    "start_time": "2022-01-03T12:19:42.490Z"
   },
   {
    "duration": 36,
    "start_time": "2022-01-03T12:19:42.526Z"
   },
   {
    "duration": 23,
    "start_time": "2022-01-03T12:19:42.563Z"
   },
   {
    "duration": 21,
    "start_time": "2022-01-03T12:19:42.587Z"
   },
   {
    "duration": 55,
    "start_time": "2022-01-03T12:19:42.610Z"
   },
   {
    "duration": 14,
    "start_time": "2022-01-03T12:19:42.667Z"
   },
   {
    "duration": 7,
    "start_time": "2022-01-03T12:19:42.682Z"
   },
   {
    "duration": 8,
    "start_time": "2022-01-03T12:19:42.690Z"
   },
   {
    "duration": 652,
    "start_time": "2022-01-03T12:19:42.699Z"
   },
   {
    "duration": 15,
    "start_time": "2022-01-03T12:19:43.352Z"
   },
   {
    "duration": 5,
    "start_time": "2022-01-03T12:19:43.369Z"
   },
   {
    "duration": 9,
    "start_time": "2022-01-03T12:19:43.376Z"
   },
   {
    "duration": 4,
    "start_time": "2022-01-03T12:19:43.387Z"
   },
   {
    "duration": 4,
    "start_time": "2022-01-03T12:19:43.393Z"
   },
   {
    "duration": 3,
    "start_time": "2022-01-03T12:19:43.399Z"
   },
   {
    "duration": 13,
    "start_time": "2022-01-03T12:19:43.404Z"
   },
   {
    "duration": 46,
    "start_time": "2022-01-03T12:19:43.418Z"
   },
   {
    "duration": 6,
    "start_time": "2022-01-03T12:19:43.465Z"
   },
   {
    "duration": 22,
    "start_time": "2022-01-03T12:19:43.473Z"
   },
   {
    "duration": 28,
    "start_time": "2022-01-03T12:19:43.496Z"
   },
   {
    "duration": 40,
    "start_time": "2022-01-03T12:19:43.526Z"
   },
   {
    "duration": 13,
    "start_time": "2022-01-03T12:19:43.568Z"
   },
   {
    "duration": 4,
    "start_time": "2022-01-03T12:19:43.583Z"
   },
   {
    "duration": 660,
    "start_time": "2022-01-03T12:19:43.588Z"
   },
   {
    "duration": 2943,
    "start_time": "2022-01-03T12:19:44.250Z"
   },
   {
    "duration": 3511,
    "start_time": "2022-01-03T12:19:47.194Z"
   },
   {
    "duration": 11,
    "start_time": "2022-01-03T12:19:50.707Z"
   },
   {
    "duration": 10,
    "start_time": "2022-01-03T12:19:50.719Z"
   },
   {
    "duration": 35,
    "start_time": "2022-01-03T12:19:50.730Z"
   },
   {
    "duration": 156,
    "start_time": "2022-01-03T12:19:50.766Z"
   },
   {
    "duration": 540,
    "start_time": "2022-01-03T12:19:50.924Z"
   },
   {
    "duration": 168,
    "start_time": "2022-01-03T12:19:51.466Z"
   },
   {
    "duration": 7,
    "start_time": "2022-01-03T12:19:51.635Z"
   },
   {
    "duration": 38,
    "start_time": "2022-01-03T12:19:51.644Z"
   },
   {
    "duration": 212,
    "start_time": "2022-01-03T12:19:51.683Z"
   },
   {
    "duration": 145,
    "start_time": "2022-01-03T12:19:51.897Z"
   },
   {
    "duration": 48,
    "start_time": "2022-01-03T12:19:52.044Z"
   },
   {
    "duration": 35,
    "start_time": "2022-01-03T12:19:52.094Z"
   },
   {
    "duration": 44,
    "start_time": "2022-01-03T12:19:52.131Z"
   },
   {
    "duration": 6,
    "start_time": "2022-01-03T12:19:52.177Z"
   }
  ],
  "kernelspec": {
   "display_name": "Python 3 (ipykernel)",
   "language": "python",
   "name": "python3"
  },
  "language_info": {
   "codemirror_mode": {
    "name": "ipython",
    "version": 3
   },
   "file_extension": ".py",
   "mimetype": "text/x-python",
   "name": "python",
   "nbconvert_exporter": "python",
   "pygments_lexer": "ipython3",
   "version": "3.10.0"
  },
  "toc": {
   "base_numbering": 1,
   "nav_menu": {},
   "number_sections": true,
   "sideBar": true,
   "skip_h1_title": true,
   "title_cell": "Table of Contents",
   "title_sidebar": "Contents",
   "toc_cell": false,
   "toc_position": {
    "height": "calc(100% - 180px)",
    "left": "10px",
    "top": "150px",
    "width": "366.766px"
   },
   "toc_section_display": true,
   "toc_window_display": true
  }
 },
 "nbformat": 4,
 "nbformat_minor": 1
}
