{
 "cells": [
  {
   "cell_type": "markdown",
   "metadata": {
    "toc": true
   },
   "source": [
    "<h1>Содержание<span class=\"tocSkip\"></span></h1>\n",
    "<div class=\"toc\"><ul class=\"toc-item\"><li><span><a href=\"#Подготовка\" data-toc-modified-id=\"Подготовка-1\"><span class=\"toc-item-num\">1&nbsp;&nbsp;</span>Подготовка</a></span></li><li><span><a href=\"#Обучение\" data-toc-modified-id=\"Обучение-2\"><span class=\"toc-item-num\">2&nbsp;&nbsp;</span>Обучение</a></span><ul class=\"toc-item\"><li><span><a href=\"#без-Bert\" data-toc-modified-id=\"без-Bert-2.1\"><span class=\"toc-item-num\">2.1&nbsp;&nbsp;</span>без Bert</a></span><ul class=\"toc-item\"><li><span><a href=\"#Лемматизация\" data-toc-modified-id=\"Лемматизация-2.1.1\"><span class=\"toc-item-num\">2.1.1&nbsp;&nbsp;</span>Лемматизация</a></span></li><li><span><a href=\"#Feature-Engineering\" data-toc-modified-id=\"Feature-Engineering-2.1.2\"><span class=\"toc-item-num\">2.1.2&nbsp;&nbsp;</span>Feature Engineering</a></span><ul class=\"toc-item\"><li><span><a href=\"#Длина-текста\" data-toc-modified-id=\"Длина-текста-2.1.2.1\"><span class=\"toc-item-num\">2.1.2.1&nbsp;&nbsp;</span>Длина текста</a></span></li><li><span><a href=\"#Процент-знаков-пунктуации\" data-toc-modified-id=\"Процент-знаков-пунктуации-2.1.2.2\"><span class=\"toc-item-num\">2.1.2.2&nbsp;&nbsp;</span>Процент знаков пунктуации</a></span></li></ul></li><li><span><a href=\"#Разделение-на-train/valid/test-выборки\" data-toc-modified-id=\"Разделение-на-train/valid/test-выборки-2.1.3\"><span class=\"toc-item-num\">2.1.3&nbsp;&nbsp;</span>Разделение на train/valid/test выборки</a></span></li><li><span><a href=\"#Векторизация\" data-toc-modified-id=\"Векторизация-2.1.4\"><span class=\"toc-item-num\">2.1.4&nbsp;&nbsp;</span>Векторизация</a></span></li><li><span><a href=\"#LightGBM\" data-toc-modified-id=\"LightGBM-2.1.5\"><span class=\"toc-item-num\">2.1.5&nbsp;&nbsp;</span>LightGBM</a></span></li></ul></li></ul></li><li><span><a href=\"#Выводы\" data-toc-modified-id=\"Выводы-3\"><span class=\"toc-item-num\">3&nbsp;&nbsp;</span>Выводы</a></span></li><li><span><a href=\"#Чек-лист-проверки\" data-toc-modified-id=\"Чек-лист-проверки-4\"><span class=\"toc-item-num\">4&nbsp;&nbsp;</span>Чек-лист проверки</a></span><ul class=\"toc-item\"><li><span><a href=\"#с-Bert\" data-toc-modified-id=\"с-Bert-4.1\"><span class=\"toc-item-num\">4.1&nbsp;&nbsp;</span>с Bert</a></span></li></ul></li></ul></div>"
   ]
  },
  {
   "cell_type": "markdown",
   "metadata": {},
   "source": [
    "# Проект для «Викишоп»"
   ]
  },
  {
   "cell_type": "markdown",
   "metadata": {},
   "source": [
    "Интернет-магазин «Викишоп» запускает новый сервис. Теперь пользователи могут редактировать и дополнять описания товаров, как в вики-сообществах. То есть клиенты предлагают свои правки и комментируют изменения других. Магазину нужен инструмент, который будет искать токсичные комментарии и отправлять их на модерацию. \n",
    "\n",
    "Обучите модель классифицировать комментарии на позитивные и негативные. В вашем распоряжении набор данных с разметкой о токсичности правок.\n",
    "\n",
    "Постройте модель со значением метрики качества *F1* не меньше 0.75. \n",
    "\n",
    "**Инструкция по выполнению проекта**\n",
    "\n",
    "1. Загрузите и подготовьте данные.\n",
    "2. Обучите разные модели. \n",
    "3. Сделайте выводы.\n",
    "\n",
    "Для выполнения проекта применять *BERT* необязательно, но вы можете попробовать.\n",
    "\n",
    "**Описание данных**\n",
    "\n",
    "Данные находятся в файле `toxic_comments.csv`. Столбец *text* в нём содержит текст комментария, а *toxic* — целевой признак."
   ]
  },
  {
   "cell_type": "markdown",
   "metadata": {},
   "source": [
    "## Подготовка"
   ]
  },
  {
   "cell_type": "code",
   "execution_count": 1,
   "metadata": {},
   "outputs": [
    {
     "name": "stderr",
     "output_type": "stream",
     "text": [
      "[nltk_data] Downloading package wordnet to /home/jovyan/nltk_data...\n",
      "[nltk_data]   Package wordnet is already up-to-date!\n",
      "[nltk_data] Downloading package stopwords to /home/jovyan/nltk_data...\n",
      "[nltk_data]   Package stopwords is already up-to-date!\n"
     ]
    }
   ],
   "source": [
    "import pandas as pd\n",
    "import numpy as np\n",
    "import re\n",
    "import string\n",
    "import seaborn as sns\n",
    "import matplotlib.pyplot as plt\n",
    "from datetime import datetime\n",
    "# индикатор прогресса\n",
    "from tqdm import notebook\n",
    "import tqdm\n",
    "\n",
    "from tqdm.notebook import tqdm\n",
    "tqdm.pandas()\n",
    "\n",
    "import warnings\n",
    "warnings.filterwarnings('ignore')\n",
    "\n",
    "import nltk\n",
    "from nltk.corpus import stopwords as nltk_stopwords\n",
    "from nltk import WordNetLemmatizer\n",
    "nltk.download('wordnet')\n",
    "nltk.download('stopwords')\n",
    "stopwords = set(nltk_stopwords.words('english'))\n",
    "\n",
    "\n",
    "from pymystem3 import Mystem\n",
    "\n",
    "import spacy\n",
    "\n",
    "# счётчик величин TF-IDF\n",
    "from sklearn.feature_extraction.text import TfidfVectorizer\n",
    "\n",
    "from sklearn.linear_model import LogisticRegression\n",
    "from sklearn.model_selection import train_test_split\n",
    "from sklearn.dummy import DummyClassifier\n",
    "from sklearn.metrics import f1_score\n",
    "from sklearn.metrics import accuracy_score\n",
    "from sklearn.metrics import confusion_matrix\n",
    "from sklearn.metrics import precision_recall_fscore_support as score\n",
    "from sklearn.metrics import roc_curve, auc\n",
    "from sklearn.metrics import roc_auc_score\n",
    "from sklearn.preprocessing import binarize\n",
    "\n",
    "# импортируем библиотеку глубокого обучения\n",
    "# import torch\n",
    "# import transformers\n",
    "\n",
    "\n",
    "from lightgbm import LGBMClassifier\n",
    "\n",
    "#  %pip install optuna\n",
    "import optuna\n"
   ]
  },
  {
   "cell_type": "code",
   "execution_count": 2,
   "metadata": {},
   "outputs": [],
   "source": [
    "# использую конструкцию try-except на случай работы над проектам локально\n",
    "try:\n",
    "    # попытаемся загрузить данные на платформе\n",
    "    data = pd.read_csv('/datasets/toxic_comments.csv') \n",
    "except:\n",
    "    data = pd.read_csv('C:/python_project/jupyter projects/DS/datasets/toxic_comments.csv')"
   ]
  },
  {
   "cell_type": "code",
   "execution_count": 3,
   "metadata": {},
   "outputs": [
    {
     "name": "stdout",
     "output_type": "stream",
     "text": [
      "<class 'pandas.core.frame.DataFrame'>\n",
      "RangeIndex: 159571 entries, 0 to 159570\n",
      "Data columns (total 2 columns):\n",
      " #   Column  Non-Null Count   Dtype \n",
      "---  ------  --------------   ----- \n",
      " 0   text    159571 non-null  object\n",
      " 1   toxic   159571 non-null  int64 \n",
      "dtypes: int64(1), object(1)\n",
      "memory usage: 2.4+ MB\n"
     ]
    }
   ],
   "source": [
    "data.info()"
   ]
  },
  {
   "cell_type": "code",
   "execution_count": 4,
   "metadata": {},
   "outputs": [
    {
     "data": {
      "text/html": [
       "<div>\n",
       "<style scoped>\n",
       "    .dataframe tbody tr th:only-of-type {\n",
       "        vertical-align: middle;\n",
       "    }\n",
       "\n",
       "    .dataframe tbody tr th {\n",
       "        vertical-align: top;\n",
       "    }\n",
       "\n",
       "    .dataframe thead th {\n",
       "        text-align: right;\n",
       "    }\n",
       "</style>\n",
       "<table border=\"1\" class=\"dataframe\">\n",
       "  <thead>\n",
       "    <tr style=\"text-align: right;\">\n",
       "      <th></th>\n",
       "      <th>text</th>\n",
       "      <th>toxic</th>\n",
       "    </tr>\n",
       "  </thead>\n",
       "  <tbody>\n",
       "    <tr>\n",
       "      <th>0</th>\n",
       "      <td>Explanation\\nWhy the edits made under my usern...</td>\n",
       "      <td>0</td>\n",
       "    </tr>\n",
       "    <tr>\n",
       "      <th>1</th>\n",
       "      <td>D'aww! He matches this background colour I'm s...</td>\n",
       "      <td>0</td>\n",
       "    </tr>\n",
       "    <tr>\n",
       "      <th>2</th>\n",
       "      <td>Hey man, I'm really not trying to edit war. It...</td>\n",
       "      <td>0</td>\n",
       "    </tr>\n",
       "    <tr>\n",
       "      <th>3</th>\n",
       "      <td>\"\\nMore\\nI can't make any real suggestions on ...</td>\n",
       "      <td>0</td>\n",
       "    </tr>\n",
       "    <tr>\n",
       "      <th>4</th>\n",
       "      <td>You, sir, are my hero. Any chance you remember...</td>\n",
       "      <td>0</td>\n",
       "    </tr>\n",
       "  </tbody>\n",
       "</table>\n",
       "</div>"
      ],
      "text/plain": [
       "                                                text  toxic\n",
       "0  Explanation\\nWhy the edits made under my usern...      0\n",
       "1  D'aww! He matches this background colour I'm s...      0\n",
       "2  Hey man, I'm really not trying to edit war. It...      0\n",
       "3  \"\\nMore\\nI can't make any real suggestions on ...      0\n",
       "4  You, sir, are my hero. Any chance you remember...      0"
      ]
     },
     "execution_count": 4,
     "metadata": {},
     "output_type": "execute_result"
    }
   ],
   "source": [
    "data.head()"
   ]
  },
  {
   "cell_type": "code",
   "execution_count": 5,
   "metadata": {},
   "outputs": [],
   "source": [
    "# data['text'] = data['text'].astype('U')"
   ]
  },
  {
   "cell_type": "code",
   "execution_count": 6,
   "metadata": {},
   "outputs": [
    {
     "data": {
      "text/plain": [
       "0    0.898321\n",
       "1    0.101679\n",
       "Name: toxic, dtype: float64"
      ]
     },
     "execution_count": 6,
     "metadata": {},
     "output_type": "execute_result"
    }
   ],
   "source": [
    "data['toxic'].value_counts(normalize=True)"
   ]
  },
  {
   "cell_type": "markdown",
   "metadata": {},
   "source": [
    "датафрейм содержит текст на английском языке, с различными спец символами , \n",
    "\n",
    "из всего набора данных всего 10 процентов размечены как токсичные, большой дисбаланс классов."
   ]
  },
  {
   "cell_type": "code",
   "execution_count": 7,
   "metadata": {},
   "outputs": [],
   "source": [
    "np.random.seed(42)"
   ]
  },
  {
   "cell_type": "code",
   "execution_count": 8,
   "metadata": {},
   "outputs": [],
   "source": [
    "# df = pd.concat([data[data['toxic'] == 0].sample(50000), data[data['toxic'] == 1]])\n",
    "df = data.copy()"
   ]
  },
  {
   "cell_type": "code",
   "execution_count": 9,
   "metadata": {},
   "outputs": [],
   "source": [
    "# df['toxic'].value_counts(normalize=True)"
   ]
  },
  {
   "cell_type": "markdown",
   "metadata": {},
   "source": [
    "Сократили количество не токсичных записей -  теперь соотношение токсичных 1/4 из всех"
   ]
  },
  {
   "cell_type": "code",
   "execution_count": null,
   "metadata": {},
   "outputs": [],
   "source": []
  },
  {
   "cell_type": "markdown",
   "metadata": {},
   "source": [
    "## Обучение"
   ]
  },
  {
   "cell_type": "markdown",
   "metadata": {},
   "source": [
    "### без Bert"
   ]
  },
  {
   "cell_type": "markdown",
   "metadata": {},
   "source": [
    "Текст может содержать цифры, специальные символы и ненужные пробелы. Удалим их из текста.\n",
    "\n",
    "Опробуем несколько лемматизаторов - сохраню результат их работы и посмотрю ка поакжет себя логистическая регрессия на них\n"
   ]
  },
  {
   "cell_type": "markdown",
   "metadata": {},
   "source": [
    "#### Лемматизация"
   ]
  },
  {
   "cell_type": "markdown",
   "metadata": {},
   "source": [
    "WordNetLemmatizer"
   ]
  },
  {
   "cell_type": "code",
   "execution_count": 10,
   "metadata": {},
   "outputs": [],
   "source": [
    "# инициализируем экземпляр класса  WordNetLemmatizer\n",
    "# принимает слово и возвращает лемму\n",
    "lem = WordNetLemmatizer()\n",
    "\n",
    "# объединим в функцию все нужные манипуляции для очистки текста\n",
    "\n",
    "def lemmatizer_wordnet(text):\n",
    "        \n",
    "    #text = text.replace('\\n',' ') \n",
    "    text = re.sub(r'\\n', ' ', text) #замена знака перехода строки\n",
    "    word_list = nltk.word_tokenize(text) # токенизация - разделение на отдельные слова\n",
    "    \n",
    "    # лемматизация  - для преобразования слов в базовую форму\n",
    "    text = ' '.join([lem.lemmatize(word) for word in word_list])\n",
    "    text = re.sub(r'[^a-zA-Z]', ' ', text)   # удаление всех не буквенных символов\n",
    "    text = text.lower()                      # преобразуем в нижний регистр  \n",
    "    return text\n"
   ]
  },
  {
   "cell_type": "markdown",
   "metadata": {},
   "source": [
    "Mystem"
   ]
  },
  {
   "cell_type": "code",
   "execution_count": 11,
   "metadata": {},
   "outputs": [],
   "source": [
    "m = Mystem()\n",
    "\n",
    "def lemmatizer_mystem(text):    \n",
    "    \n",
    "    #lemm_text = \"\".join(m.lemmatize(text))\n",
    "    text = \"\".join(m.lemmatize(text))\n",
    "    text = re.sub(r'[^a-zA-Z]', ' ', text) \n",
    "    text = text.lower()\n",
    "    return text"
   ]
  },
  {
   "cell_type": "markdown",
   "metadata": {},
   "source": [
    "spacy"
   ]
  },
  {
   "cell_type": "code",
   "execution_count": 12,
   "metadata": {},
   "outputs": [],
   "source": [
    "#Загрузка словаря лемматизации\n",
    "#nlp = spacy.load('en_core_web_sm')\n",
    "disabled_pipes = [\"tok2vec\",  \"parser\",  \"ner\"]\n",
    "nlp = spacy.load('en_core_web_sm', disable=disabled_pipes)\n",
    "\n",
    "def lemmatizer_spacy(text):\n",
    "    \n",
    "    text = ' '.join([token.lemma_.lower() for token in nlp(text)])\n",
    "    text = re.sub(r'[^a-zA-Z]', ' ', text)\n",
    "    return text\n"
   ]
  },
  {
   "cell_type": "markdown",
   "metadata": {},
   "source": []
  },
  {
   "cell_type": "code",
   "execution_count": 13,
   "metadata": {},
   "outputs": [
    {
     "name": "stdout",
     "output_type": "stream",
     "text": [
      "wordnet\n"
     ]
    },
    {
     "data": {
      "application/vnd.jupyter.widget-view+json": {
       "model_id": "6ce14c4410324dd2a3d8819e2e5e3202",
       "version_major": 2,
       "version_minor": 0
      },
      "text/plain": [
       "  0%|          | 0/159571 [00:00<?, ?it/s]"
      ]
     },
     "metadata": {},
     "output_type": "display_data"
    }
   ],
   "source": [
    "# переберем циклом лемматизаторы\n",
    "lemmatizers = { 'wordnet': lemmatizer_wordnet} # , 'mystem':  lemmatizer_mystem, 'spacy': lemmatizer_spacy}\n",
    "\n",
    "for item in lemmatizers:\n",
    "    print(f'{item}')\n",
    "    df[item] = df['text'].progress_apply(lemmatizers[item])\n",
    "    "
   ]
  },
  {
   "cell_type": "code",
   "execution_count": 14,
   "metadata": {},
   "outputs": [
    {
     "data": {
      "text/html": [
       "<div>\n",
       "<style scoped>\n",
       "    .dataframe tbody tr th:only-of-type {\n",
       "        vertical-align: middle;\n",
       "    }\n",
       "\n",
       "    .dataframe tbody tr th {\n",
       "        vertical-align: top;\n",
       "    }\n",
       "\n",
       "    .dataframe thead th {\n",
       "        text-align: right;\n",
       "    }\n",
       "</style>\n",
       "<table border=\"1\" class=\"dataframe\">\n",
       "  <thead>\n",
       "    <tr style=\"text-align: right;\">\n",
       "      <th></th>\n",
       "      <th>text</th>\n",
       "      <th>toxic</th>\n",
       "      <th>wordnet</th>\n",
       "    </tr>\n",
       "  </thead>\n",
       "  <tbody>\n",
       "    <tr>\n",
       "      <th>0</th>\n",
       "      <td>Explanation\\nWhy the edits made under my usern...</td>\n",
       "      <td>0</td>\n",
       "      <td>explanation why the edits made under my userna...</td>\n",
       "    </tr>\n",
       "    <tr>\n",
       "      <th>1</th>\n",
       "      <td>D'aww! He matches this background colour I'm s...</td>\n",
       "      <td>0</td>\n",
       "      <td>d aww   he match this background colour i  m s...</td>\n",
       "    </tr>\n",
       "    <tr>\n",
       "      <th>2</th>\n",
       "      <td>Hey man, I'm really not trying to edit war. It...</td>\n",
       "      <td>0</td>\n",
       "      <td>hey man   i  m really not trying to edit war  ...</td>\n",
       "    </tr>\n",
       "    <tr>\n",
       "      <th>3</th>\n",
       "      <td>\"\\nMore\\nI can't make any real suggestions on ...</td>\n",
       "      <td>0</td>\n",
       "      <td>more i ca n t make any real suggestion on i...</td>\n",
       "    </tr>\n",
       "    <tr>\n",
       "      <th>4</th>\n",
       "      <td>You, sir, are my hero. Any chance you remember...</td>\n",
       "      <td>0</td>\n",
       "      <td>you   sir   are my hero   any chance you remem...</td>\n",
       "    </tr>\n",
       "  </tbody>\n",
       "</table>\n",
       "</div>"
      ],
      "text/plain": [
       "                                                text  toxic  \\\n",
       "0  Explanation\\nWhy the edits made under my usern...      0   \n",
       "1  D'aww! He matches this background colour I'm s...      0   \n",
       "2  Hey man, I'm really not trying to edit war. It...      0   \n",
       "3  \"\\nMore\\nI can't make any real suggestions on ...      0   \n",
       "4  You, sir, are my hero. Any chance you remember...      0   \n",
       "\n",
       "                                             wordnet  \n",
       "0  explanation why the edits made under my userna...  \n",
       "1  d aww   he match this background colour i  m s...  \n",
       "2  hey man   i  m really not trying to edit war  ...  \n",
       "3     more i ca n t make any real suggestion on i...  \n",
       "4  you   sir   are my hero   any chance you remem...  "
      ]
     },
     "execution_count": 14,
     "metadata": {},
     "output_type": "execute_result"
    }
   ],
   "source": [
    "df.head()"
   ]
  },
  {
   "cell_type": "markdown",
   "metadata": {},
   "source": [
    "#### Feature Engineering\n",
    "\n",
    "попробуеем добавить несколько дополнительных признаков"
   ]
  },
  {
   "cell_type": "markdown",
   "id": "d81d7665",
   "metadata": {},
   "source": [
    "##### Длина текста"
   ]
  },
  {
   "cell_type": "code",
   "execution_count": 15,
   "id": "02175890",
   "metadata": {},
   "outputs": [],
   "source": [
    "df['len_text'] = df['text'].apply(len)\n",
    "data['len_text'] = data['text'].apply(len)"
   ]
  },
  {
   "cell_type": "code",
   "execution_count": 16,
   "metadata": {},
   "outputs": [
    {
     "data": {
      "text/plain": [
       "<AxesSubplot:xlabel='len_text', ylabel='Count'>"
      ]
     },
     "execution_count": 16,
     "metadata": {},
     "output_type": "execute_result"
    },
    {
     "data": {
      "image/png": "[encoded data removed]",
      "text/plain": [
       "<Figure size 432x288 with 1 Axes>"
      ]
     },
     "metadata": {
      "needs_background": "light"
     },
     "output_type": "display_data"
    }
   ],
   "source": [
    "# распределенгие частот во всем датасете\n",
    "sns.histplot(data=data, x='len_text',hue='toxic')"
   ]
  },
  {
   "cell_type": "markdown",
   "id": "984aa4b5",
   "metadata": {},
   "source": [
    "видно что длина текста не зависит от токсичности - в обоих классах частота равномерно снижается с увеличением количества символов."
   ]
  },
  {
   "cell_type": "markdown",
   "id": "81e8411b",
   "metadata": {},
   "source": [
    "Также видно длинный хвост"
   ]
  },
  {
   "cell_type": "code",
   "execution_count": 17,
   "id": "712c3a1a",
   "metadata": {},
   "outputs": [
    {
     "data": {
      "text/plain": [
       "0    3681\n",
       "1     368\n",
       "Name: toxic, dtype: int64"
      ]
     },
     "execution_count": 17,
     "metadata": {},
     "output_type": "execute_result"
    }
   ],
   "source": [
    "df[df['len_text'] > 2000]['toxic'].value_counts()"
   ]
  },
  {
   "cell_type": "code",
   "execution_count": 18,
   "id": "783285e8",
   "metadata": {},
   "outputs": [
    {
     "data": {
      "text/plain": [
       "<AxesSubplot:xlabel='len_text', ylabel='Count'>"
      ]
     },
     "execution_count": 18,
     "metadata": {},
     "output_type": "execute_result"
    },
    {
     "data": {
      "image/png": "[encoded data removed]",
      "text/plain": [
       "<Figure size 432x288 with 1 Axes>"
      ]
     },
     "metadata": {
      "needs_background": "light"
     },
     "output_type": "display_data"
    }
   ],
   "source": [
    "sns.histplot(data=df[df['len_text'] > 2000], x='len_text',hue='toxic',bins=50)"
   ]
  },
  {
   "cell_type": "markdown",
   "id": "84dfcb3c",
   "metadata": {},
   "source": [
    "некоторые токсичные критики нежалеют слов - пока оставим их, может в их текстах окажутся ценные для обучения токены"
   ]
  },
  {
   "cell_type": "markdown",
   "metadata": {},
   "source": [
    "##### Процент знаков пунктуации\n",
    "\n",
    "возможно при написании токсичных сообщений люди не утруждаютсяебя расстановкой знаков препинания.."
   ]
  },
  {
   "cell_type": "code",
   "execution_count": 19,
   "metadata": {},
   "outputs": [],
   "source": [
    "# создадим функцию \n",
    "import string\n",
    "\n",
    "def count_punct(text):\n",
    "    count = sum([1 for char in text if char in string.punctuation])\n",
    "    return round(count/(len(text) - text.count(\" \")), 3) * 100"
   ]
  },
  {
   "cell_type": "code",
   "execution_count": 20,
   "metadata": {},
   "outputs": [],
   "source": [
    "df['punct%'] = df['text'].apply(count_punct)"
   ]
  },
  {
   "cell_type": "code",
   "execution_count": 21,
   "metadata": {},
   "outputs": [
    {
     "data": {
      "text/plain": [
       "<AxesSubplot:xlabel='punct%', ylabel='Count'>"
      ]
     },
     "execution_count": 21,
     "metadata": {},
     "output_type": "execute_result"
    },
    {
     "data": {
      "image/png": "[encoded data removed]",
      "text/plain": [
       "<Figure size 432x288 with 1 Axes>"
      ]
     },
     "metadata": {
      "needs_background": "light"
     },
     "output_type": "display_data"
    }
   ],
   "source": [
    "sns.histplot(data=df, x='punct%',hue='toxic')"
   ]
  },
  {
   "cell_type": "markdown",
   "metadata": {},
   "source": [
    "на графике видно что особых различий в количестве знаков пунктуации нет, но интересно то что есть тексты с большим процентным соотношением "
   ]
  },
  {
   "cell_type": "code",
   "execution_count": null,
   "metadata": {},
   "outputs": [],
   "source": []
  },
  {
   "cell_type": "code",
   "execution_count": null,
   "metadata": {},
   "outputs": [],
   "source": []
  },
  {
   "cell_type": "markdown",
   "metadata": {},
   "source": [
    "#### Разделение на train/valid/test выборки"
   ]
  },
  {
   "cell_type": "code",
   "execution_count": 22,
   "metadata": {},
   "outputs": [
    {
     "name": "stdout",
     "output_type": "stream",
     "text": [
      "(95742, 5) (38297, 5) (25532, 5)\n"
     ]
    }
   ],
   "source": [
    "df_train, df_valid = train_test_split(df, test_size=0.4,\n",
    "                                      random_state=42, stratify=df['toxic'])\n",
    "#  stratify - баланс классов\n",
    "\n",
    "\n",
    "df_valid, df_test = train_test_split(df_valid, test_size=0.4,\n",
    "                                      random_state=42, stratify=df_valid['toxic'])\n",
    "\n",
    "\n",
    "print(df_train.shape, df_valid.shape, df_test.shape)"
   ]
  },
  {
   "cell_type": "markdown",
   "metadata": {},
   "source": [
    "#### Векторизация "
   ]
  },
  {
   "cell_type": "code",
   "execution_count": 23,
   "metadata": {},
   "outputs": [],
   "source": [
    "# создадим счётчик, указав в нём стоп-слова\n",
    "count_tfidf = TfidfVectorizer(   max_features=100000, #  самых частых слов \n",
    "                                 min_df=3,  # не реже чем в 3 \n",
    "                                 max_df=0.3,  # не больше чем в 30% \n",
    "                                 stop_words=stopwords\n",
    "                                )\n",
    "\n",
    "# count_tfidf_bigram = TfidfVectorizer(ngram_range=(2,2), max_features=10000)"
   ]
  },
  {
   "cell_type": "code",
   "execution_count": null,
   "metadata": {},
   "outputs": [],
   "source": []
  },
  {
   "cell_type": "code",
   "execution_count": 24,
   "metadata": {},
   "outputs": [
    {
     "name": "stdout",
     "output_type": "stream",
     "text": [
      "wordnet\n",
      "Precision: 0.652 / Recall: 0.859 / F1-Score: 0.742\n"
     ]
    }
   ],
   "source": [
    "# создадим модель \n",
    "model_lr = LogisticRegression(max_iter=200, class_weight='balanced', random_state=42)\n",
    "\n",
    "# прогоним через ниё векторизированные тексты\n",
    "for item in lemmatizers:\n",
    "    # посчитаем TF-IDF для корпуса текстов\n",
    "    tfidf_train = count_tfidf.fit_transform(df_train[item])\n",
    "    tfidf_valid = count_tfidf.transform(df_valid[item])\n",
    "    tfidf_test = count_tfidf.transform(df_test[item])\n",
    "\n",
    "    #tfidf_train_bigram = count_tfidf_bigram.fit_transform(df_train[item])\n",
    "    #tfidf_train_bigram = count_tfidf_bigram.transform(df_valid[item])\n",
    "    \n",
    "    \n",
    "    \n",
    "    # попытка собрать датафрейм с признаками но вешает ядро\n",
    "#     X_train = pd.concat([df_train[['len_text','punct%']].reset_index(drop=True),\n",
    "#                         pd.DataFrame(tfidf_train.toarray(), columns=count_tfidf.get_feature_names()),\n",
    "#                         pd.DataFrame(tfidf_train_bigram.toarray(), columns=count_tfidf_bigram.get_feature_names())], \n",
    "#                         axis=1)\n",
    "#     X_valid = pd.concat([df_valid[['len_text','punct%']].reset_index(drop=True),\n",
    "#                         pd.DataFrame(tfidf_valid.toarray(), columns=count_tfidf.get_feature_names()),\n",
    "#                         pd.DataFrame(tfidf_valid_bigram.toarray(), columns=count_tfidf_bigram.get_feature_names())],  \n",
    "#                         axis=1)\n",
    "\n",
    "    X_train = tfidf_train\n",
    "    X_valid = tfidf_valid\n",
    "    X_test = tfidf_test\n",
    "    \n",
    "    y_train = df_train['toxic']\n",
    "    y_valid = df_valid['toxic']\n",
    "    y_test = df_test['toxic']\n",
    "    \n",
    "    model_lr.fit(X_train, y_train)\n",
    "    pred = model_lr.predict(X_valid)\n",
    "    precision, recall, fscore, support = score( y_valid, pred, average='binary')\n",
    "    print(item)\n",
    "    print(f'Precision: {round(precision, 3)} / Recall: {round(recall, 3)} / F1-Score: {round(fscore,3)}')\n",
    "\n"
   ]
  },
  {
   "cell_type": "markdown",
   "metadata": {},
   "source": [
    "Качество примерно одинаково. Текст лемматизированный spacy показал чуть луший результат - но скорость лемматизации того не стоит.\n"
   ]
  },
  {
   "cell_type": "markdown",
   "metadata": {},
   "source": [
    "F-мера не дотягивает до нужной цифры, попробуем изменить порог чуствительности логистической регрессии\n"
   ]
  },
  {
   "cell_type": "code",
   "execution_count": 130,
   "metadata": {},
   "outputs": [
    {
     "name": "stdout",
     "output_type": "stream",
     "text": [
      "наибольший f1: 0.7795 при пороге: 0.7\n"
     ]
    }
   ],
   "source": [
    "def get_best_threshold(X_valid, y_valid):\n",
    "    THRESHOLD = 0\n",
    "    step = 0.05\n",
    "    best_score = 0\n",
    "    y_logistic_prob = model_lr.predict_proba(X_valid)\n",
    "    while THRESHOLD < 1:\n",
    "        THRESHOLD += step\n",
    "        pred = binarize(y_logistic_prob, THRESHOLD)[:,1]\n",
    "        score =  f1_score( y_valid, pred)\n",
    "        if score > best_score:\n",
    "            best_score = score\n",
    "            best_threshold = THRESHOLD\n",
    "    print(f'наибольший f1: {round(best_score, 4)} при пороге: {round(best_threshold,3)}')\n",
    "\n",
    "get_best_threshold(X_valid, y_valid)"
   ]
  },
  {
   "cell_type": "code",
   "execution_count": 131,
   "metadata": {},
   "outputs": [
    {
     "name": "stdout",
     "output_type": "stream",
     "text": [
      "Precision: 0.809 / Recall: 0.752 / F1-Score: 0.78\n"
     ]
    }
   ],
   "source": [
    "THRESHOLD = 0.7\n",
    "\n",
    "# This probabilities would come from logistic_regression.predict_proba()\n",
    "y_logistic_prob = model_lr.predict_proba(X_valid) \n",
    "\n",
    "pred = binarize(y_logistic_prob, THRESHOLD)[:,1]  #.ravel() #.reshape(-1, 1)\n",
    "precision, recall, fscore, support = score( y_valid, pred, average='binary')\n",
    "print(f'Precision: {round(precision, 3)} / Recall: {round(recall, 3)} / F1-Score: {round(fscore,3)}')"
   ]
  },
  {
   "cell_type": "markdown",
   "metadata": {},
   "source": [
    "Спомощью подбора порога чуствительности смогли получить макчимальнуй fмеру на валидационной выборке\n",
    "но скорее всего это приведет к переобучению - и на тесте показатель будет ниже"
   ]
  },
  {
   "cell_type": "markdown",
   "metadata": {},
   "source": [
    "#### LightGBM"
   ]
  },
  {
   "cell_type": "markdown",
   "metadata": {},
   "source": [
    "Опробуем модель с градиентным бустингом. Для поиска лучших гиперпараметров воспользуюсь бибоиотекой optuna - использующая улучшенный алгоритмом случайного перебора параметров"
   ]
  },
  {
   "cell_type": "code",
   "execution_count": null,
   "metadata": {},
   "outputs": [
    {
     "name": "stderr",
     "output_type": "stream",
     "text": [
      "\u001b[32m[I 2022-06-04 06:13:09,173]\u001b[0m A new study created in memory with name: no-name-10d9d7d2-99d9-4a45-9865-b44c0665847a\u001b[0m\n",
      "\u001b[32m[I 2022-06-04 06:19:39,032]\u001b[0m Trial 0 finished with value: 0.7602425676675048 and parameters: {'n_estimators': 500, 'max_depth': 15, 'num_leaves': 150, 'learning_rate': 0.0884420307251632}. Best is trial 0 with value: 0.7602425676675048.\u001b[0m\n"
     ]
    }
   ],
   "source": [
    "\n",
    "def run(trial: optuna.Trial):\n",
    "\n",
    "    params = {\n",
    "        'n_estimators': trial.suggest_int('n_estimators', 50, 500, 50),\n",
    "        'max_depth': trial.suggest_int('max_depth', 10, 50, 5),\n",
    "        'num_leaves': trial.suggest_int('num_leaves', 100, 500, 50),\n",
    "        'learning_rate': trial.suggest_float('learning_rate', 0.01, 0.5, step=None, log=True),\n",
    "        #'boosting_type': trial.suggest_categorical('boosting_type', ['gbdt','dart', 'goss'])          \n",
    "    }\n",
    "    \n",
    "    model_lgbm = LGBMClassifier(**params, boosting_type='gbdt', random_state=42)\n",
    "    model_lgbm.fit(X_train, y_train)\n",
    "    pred = model_lgbm.predict(X_valid)\n",
    "    score = f1_score(y_valid, pred)\n",
    "    return score\n",
    "\n",
    "\n",
    "start = datetime.now()\n",
    "study = optuna.create_study(direction='maximize')\n",
    "study.optimize(run, n_trials=15)\n",
    "print(datetime.now() - start)"
   ]
  },
  {
   "cell_type": "code",
   "execution_count": null,
   "metadata": {},
   "outputs": [],
   "source": [
    "parametrs = study.best_trials[0].params\n",
    "parametrs"
   ]
  },
  {
   "cell_type": "code",
   "execution_count": 87,
   "metadata": {},
   "outputs": [],
   "source": [
    "# parametrs =  {'n_estimators': 200,\n",
    "#  'max_depth': 35,\n",
    "#  'num_leaves': 100,\n",
    "#  'learning_rate': 0.18030310190165477}"
   ]
  },
  {
   "cell_type": "markdown",
   "metadata": {},
   "source": [
    "Обучим модель на лучших параметрах "
   ]
  },
  {
   "cell_type": "code",
   "execution_count": null,
   "metadata": {},
   "outputs": [],
   "source": [
    "model_lgbm = LGBMClassifier(**parametrs, boosting_type='gbdt', random_state=42)\n",
    "model_lgbm.fit(X_train, y_train)"
   ]
  },
  {
   "cell_type": "code",
   "execution_count": 128,
   "metadata": {},
   "outputs": [],
   "source": []
  },
  {
   "cell_type": "code",
   "execution_count": 132,
   "metadata": {},
   "outputs": [
    {
     "name": "stdout",
     "output_type": "stream",
     "text": [
      "наибольший f1: 0.7795 при пороге: 0.7\n",
      "Precision: 0.887 / Recall: 0.676 / F1-Score: 0.767\n"
     ]
    }
   ],
   "source": [
    "pred = model_lgbm.predict(X_valid)\n",
    "\n",
    "get_best_threshold(X_valid, y_valid)\n",
    "precision, recall, fscore, support = score( y_valid, pred, average='binary')\n",
    "print(f'Precision: {round(precision, 3)} / Recall: {round(recall, 3)} / F1-Score: {round(fscore,3)}')"
   ]
  },
  {
   "cell_type": "code",
   "execution_count": null,
   "metadata": {},
   "outputs": [],
   "source": []
  },
  {
   "cell_type": "code",
   "execution_count": null,
   "metadata": {},
   "outputs": [],
   "source": []
  },
  {
   "cell_type": "markdown",
   "metadata": {},
   "source": [
    "Проведем финальное тестирование"
   ]
  },
  {
   "cell_type": "code",
   "execution_count": 134,
   "metadata": {},
   "outputs": [],
   "source": [
    "model_lgbm = LGBMClassifier(**parametrs, boosting_type='gbdt', random_state=42)\n",
    "model_lgbm.fit(X_train, y_train)\n",
    "pred = model_lgbm.predict(X_test)"
   ]
  },
  {
   "cell_type": "code",
   "execution_count": 135,
   "metadata": {},
   "outputs": [
    {
     "name": "stdout",
     "output_type": "stream",
     "text": [
      "Precision: 0.893 / Recall: 0.674 / F1-Score: 0.769\n"
     ]
    }
   ],
   "source": [
    "precision, recall, fscore, support = score( y_test, pred, average='binary')\n",
    "print(f'Precision: {round(precision, 3)} / Recall: {round(recall, 3)} / F1-Score: {round(fscore,3)}')"
   ]
  },
  {
   "cell_type": "code",
   "execution_count": 136,
   "metadata": {},
   "outputs": [
    {
     "data": {
      "image/png": "[encoded data removed]",
      "text/plain": [
       "<Figure size 432x288 with 2 Axes>"
      ]
     },
     "metadata": {
      "needs_background": "light"
     },
     "output_type": "display_data"
    }
   ],
   "source": [
    "cm = confusion_matrix(y_test, pred)\n",
    "class_label = [\"Positive\", \"Toxic\"]\n",
    "df_cm = pd.DataFrame(cm, index=class_label, columns=class_label)\n",
    "sns.heatmap(df_cm, annot=True, fmt='d')\n",
    "plt.title(\"Confusion Matrix\")\n",
    "plt.xlabel(\"Predicted Label\")\n",
    "plt.ylabel(\"True Label\")\n",
    "plt.show()"
   ]
  },
  {
   "cell_type": "code",
   "execution_count": 137,
   "metadata": {},
   "outputs": [
    {
     "name": "stdout",
     "output_type": "stream",
     "text": [
      "LogisticRegression: ROC AUC=0.960\n"
     ]
    },
    {
     "data": {
      "image/png": "[encoded data removed]",
      "text/plain": [
       "<Figure size 432x288 with 1 Axes>"
      ]
     },
     "metadata": {
      "needs_background": "light"
     },
     "output_type": "display_data"
    }
   ],
   "source": [
    "# получаем вероятности предказаний\n",
    "probs = model_lgbm.predict_proba(X_test)\n",
    "# сохраняем вероятности только для положительного исхода\n",
    "probs = probs[:, 1]\n",
    "\n",
    "# рассчитываем ROC AUC\n",
    "model_auc = roc_auc_score(y_test, probs)\n",
    "print('LogisticRegression: ROC AUC=%.3f' % (model_auc))\n",
    "\n",
    "# рассчитываем roc-кривую\n",
    "fpr, tpr, treshold = roc_curve(y_test, probs)\n",
    "roc_auc = auc(fpr, tpr)\n",
    "\n",
    "# строим график\n",
    "plt.plot(fpr, tpr, color='darkorange',\n",
    "         label='ROC кривая (area = %0.2f)' % roc_auc)\n",
    "plt.plot([0, 1], [0, 1], color='navy', linestyle='--')\n",
    "plt.xlim([0.0, 1.0])\n",
    "plt.ylim([0.0, 1.05])\n",
    "plt.xlabel('False Positive Rate')\n",
    "plt.ylabel('True Positive Rate')\n",
    "plt.title('график ROC-кривой')\n",
    "plt.legend(loc=\"lower right\")\n",
    "plt.show()\n"
   ]
  },
  {
   "cell_type": "markdown",
   "metadata": {},
   "source": [
    "ROC AUC выглядит как у хорошей модели классификации - но стоит понимать что у нас большой перекос в балансе классов тоесть если бы мы везде предсказали класс 0 то мы угадали бы в 90% случаях."
   ]
  },
  {
   "cell_type": "markdown",
   "metadata": {},
   "source": [
    "Сравню с классификатором \"на дурочка\"."
   ]
  },
  {
   "cell_type": "code",
   "execution_count": 121,
   "metadata": {},
   "outputs": [
    {
     "name": "stdout",
     "output_type": "stream",
     "text": [
      "Precision: 0.101 / Recall: 0.1 / F1-Score: 0.101 \n"
     ]
    }
   ],
   "source": [
    "model_dummy = DummyClassifier(strategy='stratified')\n",
    "model_dummy.fit(tfidf_train, df_train['toxic'])\n",
    "pred = model_dummy.predict(tfidf_valid)\n",
    "\n",
    "precision, recall, fscore, train_support = score(df_valid['toxic'], pred,  average='binary')\n",
    "print(f'Precision: {round(precision, 3)} / Recall: {round(recall, 3)} / F1-Score: {round(fscore,3)} ')"
   ]
  },
  {
   "cell_type": "markdown",
   "metadata": {},
   "source": [
    "Проверку на адекватность модели похоже прошли.\n"
   ]
  },
  {
   "cell_type": "code",
   "execution_count": null,
   "metadata": {},
   "outputs": [],
   "source": [
    "применим порог подобраный на валидационной выборке "
   ]
  },
  {
   "cell_type": "code",
   "execution_count": 141,
   "metadata": {},
   "outputs": [
    {
     "name": "stdout",
     "output_type": "stream",
     "text": [
      "Precision: 0.928 / Recall: 0.609 / F1-Score: 0.735\n"
     ]
    }
   ],
   "source": [
    "THRESHOLD = 0.7\n",
    "\n",
    "y_logistic_prob = model_lgbm.predict_proba(X_test) \n",
    "\n",
    "pred = binarize(y_logistic_prob, THRESHOLD)[:,1]  #.ravel() #.reshape(-1, 1)\n",
    "precision, recall, fscore, support = score( y_test, pred, average='binary')\n",
    "print(f'Precision: {round(precision, 3)} / Recall: {round(recall, 3)} / F1-Score: {round(fscore,3)}')"
   ]
  },
  {
   "cell_type": "markdown",
   "metadata": {},
   "source": [
    "к сожалению Recall на тесте очень низок и потащил fмеру - порог чуствительности необходимо выбрать другой , но модель и сама справилась с задачей - по умолчанию порог у неё - 0.5"
   ]
  },
  {
   "cell_type": "markdown",
   "metadata": {},
   "source": [
    "## Выводы"
   ]
  },
  {
   "cell_type": "markdown",
   "metadata": {},
   "source": [
    "Похоже для достижения более лучших показателей качества не обойтись без эммбединга. Возможно тут помогло бы еще какой нибудь фитч инжиниринг .\n",
    "\n",
    "\n",
    "Также в данных проблема с перекосом баланса классов который решается семплингом.\n",
    "\n",
    "использование различных лемматизаторов на качество почти не влияет. но в связи с более быстрой работой алгоритма для лемматизации лучше использовать библеотеку pymystem3.\n",
    "\n",
    "модельна с градиентным бустингом не смогла показать результат лучше логистической регрессии. возможео изза переобучения\n"
   ]
  },
  {
   "cell_type": "code",
   "execution_count": null,
   "metadata": {},
   "outputs": [],
   "source": []
  },
  {
   "cell_type": "code",
   "execution_count": null,
   "metadata": {},
   "outputs": [],
   "source": []
  },
  {
   "cell_type": "markdown",
   "metadata": {},
   "source": [
    "бывшие в разработке куски кода"
   ]
  },
  {
   "cell_type": "code",
   "execution_count": null,
   "metadata": {},
   "outputs": [],
   "source": []
  },
  {
   "cell_type": "code",
   "execution_count": null,
   "metadata": {},
   "outputs": [],
   "source": []
  },
  {
   "cell_type": "code",
   "execution_count": null,
   "metadata": {},
   "outputs": [],
   "source": []
  },
  {
   "cell_type": "markdown",
   "metadata": {},
   "source": [
    "### с Bert\n",
    "\n",
    "Решим задачу классификации применив векторные представления на базе BERT"
   ]
  },
  {
   "cell_type": "code",
   "execution_count": null,
   "metadata": {},
   "outputs": [],
   "source": [
    "Предобработка текста"
   ]
  },
  {
   "cell_type": "code",
   "execution_count": null,
   "metadata": {},
   "outputs": [],
   "source": [
    "\n",
    "# # инициализируем токенизатор со словарём\n",
    "# tokenizer = transformers.BertTokenizer(\n",
    "#     vocab_file='/datasets/ds_bert/vocab.txt')\n",
    "\n",
    "# # преобразуем текст в номера токенов из словаря\n",
    "# tokenized = data['text'].apply(\n",
    "#     lambda x: tokenizer.encode(x, add_special_tokens=True)) # с добавлением  начала и конца токена\n",
    "\n",
    "# # вычислим максимальную длину из векторов объектов\n",
    "# max_len = 0\n",
    "# for i in tokenized.values:\n",
    "#     if len(i) > max_len:\n",
    "#         max_len = len(i)\n",
    "\n",
    "# # добавим \"отступы\" для выравнивания векторов        \n",
    "# padded = np.array([i + [0]*(max_len - len(i)) for i in tokenized.values])\n",
    "\n",
    "# # создадим маску внимания для игнорирования \"отступных\" нулей\n",
    "# attention_mask = np.where(padded != 0, 1, 0)"
   ]
  },
  {
   "cell_type": "code",
   "execution_count": null,
   "metadata": {},
   "outputs": [],
   "source": [
    "# # инициализируем саму модель класса BertModel. Передадим ей файл с предобученной моделью и конфигурацией\n",
    "\n",
    "# config = transformers.BertConfig.from_json_file(\n",
    "#     '/datasets/ds_bert/bert_config.json')\n",
    "\n",
    "# model = transformers.BertModel.from_pretrained(\n",
    "#     '/datasets/ds_bert/rubert_model.bin', config=config)"
   ]
  },
  {
   "cell_type": "code",
   "execution_count": null,
   "metadata": {},
   "outputs": [],
   "source": [
    "# # зададим размер батча\n",
    "# batch_size = 100\n",
    "\n",
    "# # сделаем цикл по батчам. Отображать прогресс будет функция notebook\n",
    "# embeddings = []\n",
    "# for i in notebook.tqdm(range(padded.shape[0] // batch_size)):\n",
    "        \n",
    "#         # преобразуем данные в формат тензоров\n",
    "#         batch = torch.LongTensor(padded[batch_size*i:batch_size*(i+1)])  \n",
    "#         attention_mask_batch = torch.LongTensor(attention_mask[batch_size*i:batch_size*(i+1)]) \n",
    "        \n",
    "#         # with torch.no_grad():  # ускорения вычисления\n",
    "#         # чтобы получить эмбеддинги для батча, передадим модели данные и маску\n",
    "#         batch_embeddings = model(batch, attention_mask=attention_mask_batch)\n",
    "        \n",
    "#         # преобразуем элементы методом numpy() к типу numpy.array\n",
    "#         embeddings.append(batch_embeddings[0][:,0,:].numpy())"
   ]
  },
  {
   "cell_type": "code",
   "execution_count": null,
   "metadata": {},
   "outputs": [],
   "source": [
    "# # соберём все эмбеддинги в матрицу признаков \n",
    "# features = np.concatenate(embeddings)\n",
    "# target = data['positive']\n",
    "\n",
    "# # разделим на тренировочную и валидационную выборки\n",
    "# features_train, features_test, target_train, target_test = train_test_split(features, target, test_size = 0.5)\n",
    "# print(features_train.shape, target_train.shape,features_test.shape, target_test.shape)"
   ]
  },
  {
   "cell_type": "code",
   "execution_count": null,
   "metadata": {},
   "outputs": [],
   "source": [
    "# model_lr = LogisticRegression()\n",
    "# score = cross_val_score(model_lr,features_train,target_train, cv=3, scoring='accuracy' )\n",
    "# score.mean()"
   ]
  },
  {
   "cell_type": "code",
   "execution_count": null,
   "metadata": {},
   "outputs": [],
   "source": [
    "# model_lr.fit(features_train, target_train)\n",
    "# predict = model_lr.predict(features_test)\n",
    "# accuracy_score(target_test,predict)"
   ]
  }
 ],
 "metadata": {
  "ExecuteTimeLog": [
   {
    "duration": 67,
    "start_time": "2022-05-26T12:27:02.367Z"
   },
   {
    "duration": 664,
    "start_time": "2022-05-26T12:27:05.329Z"
   },
   {
    "duration": 0,
    "start_time": "2022-05-26T12:27:05.994Z"
   },
   {
    "duration": 822,
    "start_time": "2022-05-26T12:54:31.170Z"
   },
   {
    "duration": 3588,
    "start_time": "2022-05-26T12:54:32.714Z"
   },
   {
    "duration": 11,
    "start_time": "2022-05-26T12:54:41.327Z"
   },
   {
    "duration": 875,
    "start_time": "2022-05-26T12:54:57.751Z"
   },
   {
    "duration": 0,
    "start_time": "2022-05-26T12:54:58.627Z"
   },
   {
    "duration": 2353,
    "start_time": "2022-05-26T12:55:15.262Z"
   },
   {
    "duration": 898,
    "start_time": "2022-05-26T12:55:17.617Z"
   },
   {
    "duration": 31,
    "start_time": "2022-05-26T12:55:26.723Z"
   },
   {
    "duration": 12,
    "start_time": "2022-05-26T13:13:07.180Z"
   },
   {
    "duration": 10,
    "start_time": "2022-05-26T13:13:25.029Z"
   },
   {
    "duration": 190,
    "start_time": "2022-05-26T13:20:13.886Z"
   },
   {
    "duration": 299,
    "start_time": "2022-05-26T13:20:20.352Z"
   },
   {
    "duration": 36,
    "start_time": "2022-05-28T06:30:35.236Z"
   },
   {
    "duration": 789,
    "start_time": "2022-05-28T06:30:39.658Z"
   },
   {
    "duration": 20,
    "start_time": "2022-05-28T06:30:49.621Z"
   },
   {
    "duration": 18,
    "start_time": "2022-05-28T06:31:46.861Z"
   },
   {
    "duration": 249,
    "start_time": "2022-05-28T06:32:03.642Z"
   },
   {
    "duration": 186,
    "start_time": "2022-05-28T07:52:52.601Z"
   },
   {
    "duration": 816,
    "start_time": "2022-05-28T07:52:54.368Z"
   },
   {
    "duration": 33,
    "start_time": "2022-05-28T07:52:58.296Z"
   },
   {
    "duration": 7,
    "start_time": "2022-05-28T07:52:59.462Z"
   },
   {
    "duration": 85,
    "start_time": "2022-05-28T07:56:44.732Z"
   },
   {
    "duration": 323,
    "start_time": "2022-05-28T08:01:30.210Z"
   },
   {
    "duration": 995,
    "start_time": "2022-05-28T08:02:38.751Z"
   },
   {
    "duration": 1183,
    "start_time": "2022-05-28T08:02:54.771Z"
   },
   {
    "duration": 256,
    "start_time": "2022-05-28T14:56:58.653Z"
   },
   {
    "duration": 948,
    "start_time": "2022-05-28T14:56:59.772Z"
   },
   {
    "duration": 39,
    "start_time": "2022-05-28T14:57:01.266Z"
   },
   {
    "duration": 11,
    "start_time": "2022-05-28T14:57:02.300Z"
   },
   {
    "duration": 9,
    "start_time": "2022-05-28T14:57:04.706Z"
   },
   {
    "duration": 101,
    "start_time": "2022-05-28T14:57:08.657Z"
   },
   {
    "duration": 836,
    "start_time": "2022-05-28T14:58:39.699Z"
   },
   {
    "duration": 108,
    "start_time": "2022-05-28T14:59:42.721Z"
   },
   {
    "duration": 24,
    "start_time": "2022-05-28T15:01:25.602Z"
   },
   {
    "duration": 1405,
    "start_time": "2022-05-28T15:01:31.318Z"
   },
   {
    "duration": 58,
    "start_time": "2022-05-28T15:05:33.378Z"
   },
   {
    "duration": 235,
    "start_time": "2022-05-28T15:05:38.866Z"
   },
   {
    "duration": 7,
    "start_time": "2022-05-28T15:06:28.607Z"
   },
   {
    "duration": 4967,
    "start_time": "2022-05-28T15:06:32.022Z"
   },
   {
    "duration": 1315,
    "start_time": "2022-05-28T15:06:45.533Z"
   },
   {
    "duration": 8797,
    "start_time": "2022-05-28T16:17:54.378Z"
   },
   {
    "duration": 241,
    "start_time": "2022-05-28T16:18:27.713Z"
   },
   {
    "duration": 2809,
    "start_time": "2022-05-28T16:18:29.864Z"
   },
   {
    "duration": 33,
    "start_time": "2022-05-28T16:19:18.230Z"
   },
   {
    "duration": 2616,
    "start_time": "2022-05-28T16:19:22.120Z"
   },
   {
    "duration": 23,
    "start_time": "2022-05-28T16:19:30.254Z"
   },
   {
    "duration": 424,
    "start_time": "2022-05-28T16:20:15.105Z"
   },
   {
    "duration": 60,
    "start_time": "2022-05-28T16:20:19.582Z"
   },
   {
    "duration": 2901,
    "start_time": "2022-05-28T16:20:23.570Z"
   },
   {
    "duration": 46,
    "start_time": "2022-05-28T16:22:00.026Z"
   },
   {
    "duration": 7,
    "start_time": "2022-05-28T16:22:02.672Z"
   },
   {
    "duration": 217,
    "start_time": "2022-05-28T16:22:57.206Z"
   },
   {
    "duration": 204,
    "start_time": "2022-05-29T07:29:46.005Z"
   },
   {
    "duration": 803,
    "start_time": "2022-05-29T07:29:46.366Z"
   },
   {
    "duration": 35,
    "start_time": "2022-05-29T07:29:47.171Z"
   },
   {
    "duration": 18,
    "start_time": "2022-05-29T07:29:47.208Z"
   },
   {
    "duration": 15,
    "start_time": "2022-05-29T07:29:47.228Z"
   },
   {
    "duration": 3,
    "start_time": "2022-05-29T07:31:43.055Z"
   },
   {
    "duration": 4,
    "start_time": "2022-05-29T07:42:40.274Z"
   },
   {
    "duration": 81486,
    "start_time": "2022-05-29T07:48:21.867Z"
   },
   {
    "duration": 3,
    "start_time": "2022-05-29T07:49:43.354Z"
   },
   {
    "duration": 30,
    "start_time": "2022-05-29T07:50:38.393Z"
   },
   {
    "duration": 8,
    "start_time": "2022-05-29T07:50:41.197Z"
   },
   {
    "duration": 6,
    "start_time": "2022-05-29T07:55:23.138Z"
   },
   {
    "duration": 792,
    "start_time": "2022-05-29T07:55:23.500Z"
   },
   {
    "duration": 31,
    "start_time": "2022-05-29T07:55:24.442Z"
   },
   {
    "duration": 8,
    "start_time": "2022-05-29T07:55:25.182Z"
   },
   {
    "duration": 30,
    "start_time": "2022-05-29T07:55:27.955Z"
   },
   {
    "duration": 7,
    "start_time": "2022-05-29T07:55:29.221Z"
   },
   {
    "duration": 4,
    "start_time": "2022-05-29T08:00:13.150Z"
   },
   {
    "duration": 206,
    "start_time": "2022-05-29T08:00:16.067Z"
   },
   {
    "duration": 5,
    "start_time": "2022-05-29T08:00:25.607Z"
   },
   {
    "duration": 87490,
    "start_time": "2022-05-29T08:00:26.124Z"
   },
   {
    "duration": 4,
    "start_time": "2022-05-29T08:02:34.795Z"
   },
   {
    "duration": 131896,
    "start_time": "2022-05-29T08:02:38.864Z"
   },
   {
    "duration": 27,
    "start_time": "2022-05-29T08:18:54.834Z"
   },
   {
    "duration": 6,
    "start_time": "2022-05-29T08:18:56.431Z"
   },
   {
    "duration": 3,
    "start_time": "2022-05-29T08:18:57.841Z"
   },
   {
    "duration": 6,
    "start_time": "2022-05-29T08:29:17.228Z"
   },
   {
    "duration": 81115,
    "start_time": "2022-05-29T08:29:19.219Z"
   },
   {
    "duration": 3,
    "start_time": "2022-05-29T08:38:04.065Z"
   },
   {
    "duration": 20,
    "start_time": "2022-05-29T08:41:13.282Z"
   },
   {
    "duration": 85,
    "start_time": "2022-05-29T08:41:27.167Z"
   },
   {
    "duration": 3,
    "start_time": "2022-05-29T08:41:47.736Z"
   },
   {
    "duration": 6685,
    "start_time": "2022-05-29T08:43:50.330Z"
   },
   {
    "duration": 7256,
    "start_time": "2022-05-29T10:02:04.847Z"
   },
   {
    "duration": 4,
    "start_time": "2022-05-29T10:02:20.225Z"
   },
   {
    "duration": 71,
    "start_time": "2022-05-29T10:09:02.845Z"
   },
   {
    "duration": 32,
    "start_time": "2022-05-29T10:09:13.994Z"
   },
   {
    "duration": 27,
    "start_time": "2022-05-29T10:09:18.467Z"
   },
   {
    "duration": 29,
    "start_time": "2022-05-29T10:09:35.919Z"
   },
   {
    "duration": 32,
    "start_time": "2022-05-29T10:09:40.844Z"
   },
   {
    "duration": 32,
    "start_time": "2022-05-29T10:10:10.307Z"
   },
   {
    "duration": 4,
    "start_time": "2022-05-29T10:11:15.971Z"
   },
   {
    "duration": 24,
    "start_time": "2022-05-29T10:12:50.743Z"
   },
   {
    "duration": 861,
    "start_time": "2022-05-29T10:13:02.471Z"
   },
   {
    "duration": 72,
    "start_time": "2022-05-29T10:13:04.361Z"
   },
   {
    "duration": 0,
    "start_time": "2022-05-29T10:16:56.179Z"
   },
   {
    "duration": 29279,
    "start_time": "2022-05-29T10:19:48.824Z"
   },
   {
    "duration": 152104,
    "start_time": "2022-05-29T10:20:19.230Z"
   },
   {
    "duration": 10529,
    "start_time": "2022-05-29T10:24:43.323Z"
   },
   {
    "duration": 12627,
    "start_time": "2022-05-29T10:24:57.948Z"
   },
   {
    "duration": 1050980,
    "start_time": "2022-05-29T10:25:20.860Z"
   },
   {
    "duration": 1345109,
    "start_time": "2022-05-29T10:44:08.101Z"
   },
   {
    "duration": 3,
    "start_time": "2022-05-29T11:06:36.257Z"
   },
   {
    "duration": 2009,
    "start_time": "2022-05-29T11:06:37.211Z"
   },
   {
    "duration": 1881,
    "start_time": "2022-05-29T11:07:38.403Z"
   },
   {
    "duration": 23,
    "start_time": "2022-05-29T11:07:45.248Z"
   },
   {
    "duration": 1688,
    "start_time": "2022-05-29T11:09:40.379Z"
   },
   {
    "duration": 1716,
    "start_time": "2022-05-29T11:09:47.455Z"
   },
   {
    "duration": 5,
    "start_time": "2022-05-29T11:09:51.539Z"
   },
   {
    "duration": 7,
    "start_time": "2022-05-29T11:10:00.262Z"
   },
   {
    "duration": 13,
    "start_time": "2022-05-29T11:10:31.351Z"
   },
   {
    "duration": 31,
    "start_time": "2022-05-29T11:11:37.391Z"
   },
   {
    "duration": 299,
    "start_time": "2022-05-29T11:11:47.804Z"
   },
   {
    "duration": 180,
    "start_time": "2022-05-29T11:12:16.193Z"
   },
   {
    "duration": 17,
    "start_time": "2022-05-29T11:12:38.517Z"
   },
   {
    "duration": 230,
    "start_time": "2022-05-29T11:13:24.013Z"
   },
   {
    "duration": 839,
    "start_time": "2022-05-29T11:13:26.141Z"
   },
   {
    "duration": 32,
    "start_time": "2022-05-29T11:13:28.536Z"
   },
   {
    "duration": 8,
    "start_time": "2022-05-29T11:13:28.918Z"
   },
   {
    "duration": 38,
    "start_time": "2022-05-29T11:13:29.187Z"
   },
   {
    "duration": 11,
    "start_time": "2022-05-29T11:13:29.403Z"
   },
   {
    "duration": 3,
    "start_time": "2022-05-29T11:13:29.851Z"
   },
   {
    "duration": 6,
    "start_time": "2022-05-29T11:13:31.565Z"
   },
   {
    "duration": 89145,
    "start_time": "2022-05-29T11:13:31.784Z"
   },
   {
    "duration": 116,
    "start_time": "2022-05-29T11:15:00.931Z"
   },
   {
    "duration": 22,
    "start_time": "2022-05-29T11:15:01.049Z"
   },
   {
    "duration": 7460,
    "start_time": "2022-05-29T11:15:01.083Z"
   },
   {
    "duration": 23,
    "start_time": "2022-05-29T11:15:08.545Z"
   },
   {
    "duration": 0,
    "start_time": "2022-05-29T11:15:08.585Z"
   },
   {
    "duration": 0,
    "start_time": "2022-05-29T11:15:08.586Z"
   },
   {
    "duration": 0,
    "start_time": "2022-05-29T11:15:08.588Z"
   },
   {
    "duration": 0,
    "start_time": "2022-05-29T11:15:08.589Z"
   },
   {
    "duration": 3,
    "start_time": "2022-05-29T11:16:34.960Z"
   },
   {
    "duration": 1852,
    "start_time": "2022-05-29T11:16:35.386Z"
   },
   {
    "duration": 15,
    "start_time": "2022-05-29T11:16:37.241Z"
   },
   {
    "duration": 204,
    "start_time": "2022-05-29T11:16:37.259Z"
   },
   {
    "duration": 34,
    "start_time": "2022-05-29T11:18:52.626Z"
   },
   {
    "duration": 3,
    "start_time": "2022-05-29T11:19:03.142Z"
   },
   {
    "duration": 30,
    "start_time": "2022-05-29T11:19:09.709Z"
   },
   {
    "duration": 372,
    "start_time": "2022-05-29T11:22:38.111Z"
   },
   {
    "duration": 19,
    "start_time": "2022-05-29T11:23:53.467Z"
   },
   {
    "duration": 7633,
    "start_time": "2022-05-29T11:23:54.872Z"
   },
   {
    "duration": 26,
    "start_time": "2022-05-29T11:24:02.521Z"
   },
   {
    "duration": 28,
    "start_time": "2022-05-29T11:24:19.562Z"
   },
   {
    "duration": 7687,
    "start_time": "2022-05-29T11:24:20.018Z"
   },
   {
    "duration": 3,
    "start_time": "2022-05-29T11:24:48.646Z"
   },
   {
    "duration": 61403,
    "start_time": "2022-05-29T11:24:49.091Z"
   },
   {
    "duration": 99,
    "start_time": "2022-05-29T11:25:50.498Z"
   },
   {
    "duration": 294,
    "start_time": "2022-05-29T11:25:50.600Z"
   },
   {
    "duration": 197,
    "start_time": "2022-05-29T11:25:50.896Z"
   },
   {
    "duration": 327,
    "start_time": "2022-05-29T11:26:52.959Z"
   },
   {
    "duration": 784202,
    "start_time": "2022-05-29T11:27:57.751Z"
   },
   {
    "duration": 45,
    "start_time": "2022-05-29T11:41:30.396Z"
   },
   {
    "duration": 6,
    "start_time": "2022-05-29T11:41:33.164Z"
   },
   {
    "duration": 6,
    "start_time": "2022-05-29T11:41:43.372Z"
   },
   {
    "duration": 3355,
    "start_time": "2022-05-29T11:51:28.432Z"
   },
   {
    "duration": 37,
    "start_time": "2022-05-29T11:52:44.967Z"
   },
   {
    "duration": 96873,
    "start_time": "2022-05-29T11:54:14.781Z"
   },
   {
    "duration": 10995,
    "start_time": "2022-05-29T12:00:07.117Z"
   },
   {
    "duration": 3623,
    "start_time": "2022-05-29T12:00:18.115Z"
   },
   {
    "duration": 33,
    "start_time": "2022-05-29T12:00:21.740Z"
   },
   {
    "duration": 24,
    "start_time": "2022-05-29T12:00:21.775Z"
   },
   {
    "duration": 30,
    "start_time": "2022-05-29T12:00:21.802Z"
   },
   {
    "duration": 11,
    "start_time": "2022-05-29T12:00:21.835Z"
   },
   {
    "duration": 112693,
    "start_time": "2022-05-29T12:05:06.238Z"
   },
   {
    "duration": 90286,
    "start_time": "2022-05-29T12:07:52.398Z"
   },
   {
    "duration": 5,
    "start_time": "2022-05-29T12:10:46.165Z"
   },
   {
    "duration": 23,
    "start_time": "2022-05-29T12:10:46.705Z"
   },
   {
    "duration": 492,
    "start_time": "2022-05-29T12:11:21.218Z"
   },
   {
    "duration": 18,
    "start_time": "2022-05-29T12:11:33.410Z"
   },
   {
    "duration": 46354,
    "start_time": "2022-05-29T12:11:43.131Z"
   },
   {
    "duration": 39,
    "start_time": "2022-05-29T12:13:09.971Z"
   },
   {
    "duration": 11,
    "start_time": "2022-05-29T16:50:37.401Z"
   },
   {
    "duration": 40,
    "start_time": "2022-05-29T16:52:03.461Z"
   },
   {
    "duration": 3,
    "start_time": "2022-05-29T16:52:05.748Z"
   },
   {
    "duration": 6,
    "start_time": "2022-05-29T16:52:46.356Z"
   },
   {
    "duration": 65,
    "start_time": "2022-05-29T16:54:05.751Z"
   },
   {
    "duration": 99662,
    "start_time": "2022-05-29T16:54:12.245Z"
   },
   {
    "duration": 48523,
    "start_time": "2022-05-29T16:55:57.194Z"
   },
   {
    "duration": 46,
    "start_time": "2022-05-29T16:56:45.791Z"
   },
   {
    "duration": 3,
    "start_time": "2022-05-29T17:03:09.359Z"
   },
   {
    "duration": 24,
    "start_time": "2022-05-29T17:03:09.753Z"
   },
   {
    "duration": 33,
    "start_time": "2022-05-29T17:03:32.178Z"
   },
   {
    "duration": 14178,
    "start_time": "2022-05-29T17:03:44.105Z"
   },
   {
    "duration": 3705,
    "start_time": "2022-05-29T17:03:58.302Z"
   },
   {
    "duration": 38,
    "start_time": "2022-05-29T17:04:02.010Z"
   },
   {
    "duration": 39,
    "start_time": "2022-05-29T17:04:02.051Z"
   },
   {
    "duration": 53,
    "start_time": "2022-05-29T17:04:02.095Z"
   },
   {
    "duration": 11,
    "start_time": "2022-05-29T17:04:02.151Z"
   },
   {
    "duration": 3,
    "start_time": "2022-05-29T17:04:02.164Z"
   },
   {
    "duration": 24,
    "start_time": "2022-05-29T17:04:02.169Z"
   },
   {
    "duration": 100591,
    "start_time": "2022-05-29T17:04:02.195Z"
   },
   {
    "duration": 127,
    "start_time": "2022-05-29T17:05:42.792Z"
   },
   {
    "duration": 9,
    "start_time": "2022-05-29T17:05:42.921Z"
   },
   {
    "duration": 5,
    "start_time": "2022-05-29T17:05:42.933Z"
   },
   {
    "duration": 8464,
    "start_time": "2022-05-29T17:05:42.945Z"
   },
   {
    "duration": 3,
    "start_time": "2022-05-29T17:05:51.411Z"
   },
   {
    "duration": 69806,
    "start_time": "2022-05-29T17:06:10.216Z"
   },
   {
    "duration": 4,
    "start_time": "2022-05-29T17:07:23.749Z"
   },
   {
    "duration": 99172,
    "start_time": "2022-05-29T17:07:25.354Z"
   },
   {
    "duration": 132,
    "start_time": "2022-05-29T17:09:04.528Z"
   },
   {
    "duration": 27,
    "start_time": "2022-05-29T17:09:04.662Z"
   },
   {
    "duration": 30,
    "start_time": "2022-05-29T17:09:04.698Z"
   },
   {
    "duration": 8189,
    "start_time": "2022-05-29T17:09:04.731Z"
   },
   {
    "duration": 3,
    "start_time": "2022-05-29T17:09:21.018Z"
   },
   {
    "duration": 25,
    "start_time": "2022-05-29T17:09:22.614Z"
   },
   {
    "duration": 32,
    "start_time": "2022-05-29T17:09:40.307Z"
   },
   {
    "duration": 8,
    "start_time": "2022-05-29T17:09:41.886Z"
   },
   {
    "duration": 3460,
    "start_time": "2022-05-29T17:09:46.079Z"
   },
   {
    "duration": 857,
    "start_time": "2022-05-29T17:09:57.014Z"
   },
   {
    "duration": 3978529,
    "start_time": "2022-05-29T17:10:03.019Z"
   },
   {
    "duration": 0,
    "start_time": "2022-05-29T18:16:21.550Z"
   },
   {
    "duration": 0,
    "start_time": "2022-05-29T18:16:21.551Z"
   },
   {
    "duration": 0,
    "start_time": "2022-05-29T18:16:21.552Z"
   },
   {
    "duration": 0,
    "start_time": "2022-05-29T18:16:21.554Z"
   },
   {
    "duration": 0,
    "start_time": "2022-05-29T18:16:21.555Z"
   },
   {
    "duration": 0,
    "start_time": "2022-05-29T18:16:21.556Z"
   },
   {
    "duration": 0,
    "start_time": "2022-05-29T18:16:21.558Z"
   },
   {
    "duration": 35,
    "start_time": "2022-05-29T18:16:37.702Z"
   },
   {
    "duration": 8085,
    "start_time": "2022-05-29T18:16:38.923Z"
   },
   {
    "duration": 1450898,
    "start_time": "2022-05-29T18:16:50.523Z"
   },
   {
    "duration": 4,
    "start_time": "2022-05-29T18:41:11.155Z"
   },
   {
    "duration": 16858,
    "start_time": "2022-05-29T18:41:11.526Z"
   },
   {
    "duration": 105,
    "start_time": "2022-05-29T18:41:28.388Z"
   },
   {
    "duration": 376,
    "start_time": "2022-05-29T18:41:28.494Z"
   },
   {
    "duration": 173,
    "start_time": "2022-05-29T18:41:28.872Z"
   },
   {
    "duration": 20,
    "start_time": "2022-05-29T18:41:29.046Z"
   },
   {
    "duration": 45,
    "start_time": "2022-05-29T18:45:54.555Z"
   },
   {
    "duration": 4,
    "start_time": "2022-05-29T18:45:56.975Z"
   },
   {
    "duration": 43,
    "start_time": "2022-05-29T18:46:31.402Z"
   },
   {
    "duration": 4,
    "start_time": "2022-05-29T18:46:43.459Z"
   },
   {
    "duration": 7,
    "start_time": "2022-05-29T18:46:51.587Z"
   },
   {
    "duration": 5,
    "start_time": "2022-05-29T18:46:57.978Z"
   },
   {
    "duration": 13,
    "start_time": "2022-05-29T18:47:19.021Z"
   },
   {
    "duration": 31,
    "start_time": "2022-05-29T18:47:33.996Z"
   },
   {
    "duration": 35,
    "start_time": "2022-05-29T18:47:42.879Z"
   },
   {
    "duration": 34,
    "start_time": "2022-05-29T18:47:49.791Z"
   },
   {
    "duration": 6,
    "start_time": "2022-05-29T18:48:21.722Z"
   },
   {
    "duration": 26,
    "start_time": "2022-05-29T18:48:31.788Z"
   },
   {
    "duration": 21353,
    "start_time": "2022-05-29T18:52:11.139Z"
   },
   {
    "duration": 104,
    "start_time": "2022-05-29T18:52:32.495Z"
   },
   {
    "duration": 304,
    "start_time": "2022-05-29T18:52:32.601Z"
   },
   {
    "duration": 207,
    "start_time": "2022-05-29T18:52:32.910Z"
   },
   {
    "duration": 36,
    "start_time": "2022-05-29T18:54:25.403Z"
   },
   {
    "duration": 33,
    "start_time": "2022-05-29T18:54:36.329Z"
   },
   {
    "duration": 25,
    "start_time": "2022-05-29T18:54:47.481Z"
   },
   {
    "duration": 15,
    "start_time": "2022-05-29T18:55:32.838Z"
   },
   {
    "duration": 15,
    "start_time": "2022-05-29T18:55:45.910Z"
   },
   {
    "duration": 16,
    "start_time": "2022-05-29T18:56:12.905Z"
   },
   {
    "duration": 19,
    "start_time": "2022-05-29T18:57:17.797Z"
   },
   {
    "duration": 18,
    "start_time": "2022-05-29T18:58:17.060Z"
   },
   {
    "duration": 180,
    "start_time": "2022-05-29T18:59:03.001Z"
   },
   {
    "duration": 44,
    "start_time": "2022-05-29T19:08:06.610Z"
   },
   {
    "duration": 18,
    "start_time": "2022-05-29T19:09:38.517Z"
   },
   {
    "duration": 20,
    "start_time": "2022-05-29T19:09:41.420Z"
   },
   {
    "duration": 18,
    "start_time": "2022-05-29T19:09:46.459Z"
   },
   {
    "duration": 19,
    "start_time": "2022-05-29T19:09:49.851Z"
   },
   {
    "duration": 19,
    "start_time": "2022-05-29T19:09:51.438Z"
   },
   {
    "duration": 28,
    "start_time": "2022-05-29T19:09:52.271Z"
   },
   {
    "duration": 21,
    "start_time": "2022-05-29T19:09:53.099Z"
   },
   {
    "duration": 20,
    "start_time": "2022-05-29T19:09:54.276Z"
   },
   {
    "duration": 3093,
    "start_time": "2022-05-29T19:17:44.969Z"
   },
   {
    "duration": 10629,
    "start_time": "2022-05-29T19:17:56.816Z"
   },
   {
    "duration": 497,
    "start_time": "2022-05-29T19:18:11.822Z"
   },
   {
    "duration": 221,
    "start_time": "2022-05-29T19:19:04.934Z"
   },
   {
    "duration": 157,
    "start_time": "2022-05-29T19:20:54.747Z"
   },
   {
    "duration": 901,
    "start_time": "2022-05-29T19:22:00.603Z"
   },
   {
    "duration": 31,
    "start_time": "2022-05-29T19:22:05.582Z"
   },
   {
    "duration": 1043,
    "start_time": "2022-05-29T19:24:40.213Z"
   },
   {
    "duration": 30,
    "start_time": "2022-05-29T19:28:16.114Z"
   },
   {
    "duration": 16,
    "start_time": "2022-05-29T19:28:21.606Z"
   },
   {
    "duration": 17,
    "start_time": "2022-05-29T19:28:39.053Z"
   },
   {
    "duration": 37,
    "start_time": "2022-05-29T19:30:16.973Z"
   },
   {
    "duration": 13,
    "start_time": "2022-05-29T19:30:26.644Z"
   },
   {
    "duration": 16,
    "start_time": "2022-05-29T19:30:33.538Z"
   },
   {
    "duration": 16,
    "start_time": "2022-05-29T19:30:51.200Z"
   },
   {
    "duration": 18,
    "start_time": "2022-05-29T19:30:54.476Z"
   },
   {
    "duration": 602,
    "start_time": "2022-05-29T19:31:05.996Z"
   },
   {
    "duration": 1017690,
    "start_time": "2022-05-29T19:31:22.548Z"
   },
   {
    "duration": 1428,
    "start_time": "2022-05-29T19:48:22.567Z"
   },
   {
    "duration": 474,
    "start_time": "2022-05-29T19:48:34.544Z"
   },
   {
    "duration": 5026,
    "start_time": "2022-05-29T19:50:34.607Z"
   },
   {
    "duration": 870,
    "start_time": "2022-05-29T19:50:39.635Z"
   },
   {
    "duration": 29,
    "start_time": "2022-05-29T19:50:40.507Z"
   },
   {
    "duration": 11,
    "start_time": "2022-05-29T19:50:40.538Z"
   },
   {
    "duration": 711,
    "start_time": "2022-05-29T19:50:47.167Z"
   },
   {
    "duration": 713,
    "start_time": "2022-05-29T19:50:47.916Z"
   },
   {
    "duration": 0,
    "start_time": "2022-05-29T20:01:24.249Z"
   },
   {
    "duration": 0,
    "start_time": "2022-05-29T20:01:24.251Z"
   },
   {
    "duration": 3815,
    "start_time": "2022-05-29T20:01:29.094Z"
   },
   {
    "duration": 4,
    "start_time": "2022-05-29T20:02:58.667Z"
   },
   {
    "duration": 205844,
    "start_time": "2022-05-29T20:02:59.613Z"
   },
   {
    "duration": 4,
    "start_time": "2022-05-29T20:09:52.829Z"
   },
   {
    "duration": 218169,
    "start_time": "2022-05-29T20:09:54.046Z"
   },
   {
    "duration": 3,
    "start_time": "2022-05-29T20:23:36.815Z"
   },
   {
    "duration": 213675,
    "start_time": "2022-05-29T20:23:37.579Z"
   },
   {
    "duration": 95,
    "start_time": "2022-05-29T20:30:15.418Z"
   },
   {
    "duration": 5,
    "start_time": "2022-05-29T20:30:17.284Z"
   },
   {
    "duration": 7539,
    "start_time": "2022-05-29T20:30:18.870Z"
   },
   {
    "duration": 27434,
    "start_time": "2022-05-29T20:31:05.752Z"
   },
   {
    "duration": 97,
    "start_time": "2022-05-29T20:31:33.188Z"
   },
   {
    "duration": 378,
    "start_time": "2022-05-29T20:31:49.033Z"
   },
   {
    "duration": 187,
    "start_time": "2022-05-29T20:31:50.288Z"
   },
   {
    "duration": 27,
    "start_time": "2022-05-29T20:33:44.371Z"
   },
   {
    "duration": 17,
    "start_time": "2022-05-29T20:33:53.742Z"
   },
   {
    "duration": 12,
    "start_time": "2022-05-29T20:35:28.365Z"
   },
   {
    "duration": 7799,
    "start_time": "2022-05-29T20:35:29.056Z"
   },
   {
    "duration": 56037,
    "start_time": "2022-05-29T20:35:36.856Z"
   },
   {
    "duration": 22,
    "start_time": "2022-05-29T20:36:32.895Z"
   },
   {
    "duration": 50522,
    "start_time": "2022-05-29T20:39:46.671Z"
   },
   {
    "duration": 113,
    "start_time": "2022-05-29T20:40:37.198Z"
   },
   {
    "duration": 54010,
    "start_time": "2022-05-29T20:42:01.082Z"
   },
   {
    "duration": 24,
    "start_time": "2022-05-29T20:42:55.095Z"
   },
   {
    "duration": 335,
    "start_time": "2022-05-29T20:42:55.120Z"
   },
   {
    "duration": 176,
    "start_time": "2022-05-29T20:42:55.458Z"
   },
   {
    "duration": 210,
    "start_time": "2022-05-30T06:26:12.221Z"
   },
   {
    "duration": 778,
    "start_time": "2022-05-30T06:26:12.687Z"
   },
   {
    "duration": 30,
    "start_time": "2022-05-30T06:26:13.661Z"
   },
   {
    "duration": 7,
    "start_time": "2022-05-30T06:26:13.892Z"
   },
   {
    "duration": 27,
    "start_time": "2022-05-30T06:26:16.976Z"
   },
   {
    "duration": 7,
    "start_time": "2022-05-30T06:26:17.867Z"
   },
   {
    "duration": 2,
    "start_time": "2022-05-30T06:31:19.295Z"
   },
   {
    "duration": 5,
    "start_time": "2022-05-30T06:33:17.615Z"
   },
   {
    "duration": 80824,
    "start_time": "2022-05-30T06:33:20.371Z"
   },
   {
    "duration": 122,
    "start_time": "2022-05-30T06:34:41.197Z"
   },
   {
    "duration": 6,
    "start_time": "2022-05-30T06:34:41.321Z"
   },
   {
    "duration": 17,
    "start_time": "2022-05-30T06:34:41.329Z"
   },
   {
    "duration": 6972,
    "start_time": "2022-05-30T06:34:41.348Z"
   },
   {
    "duration": 3,
    "start_time": "2022-05-30T06:34:48.322Z"
   },
   {
    "duration": 59988,
    "start_time": "2022-05-30T06:35:41.807Z"
   },
   {
    "duration": 16,
    "start_time": "2022-05-30T06:36:41.797Z"
   },
   {
    "duration": 5,
    "start_time": "2022-05-30T06:38:44.431Z"
   },
   {
    "duration": 205120,
    "start_time": "2022-05-30T06:38:45.693Z"
   },
   {
    "duration": 105,
    "start_time": "2022-05-30T06:42:10.815Z"
   },
   {
    "duration": 8,
    "start_time": "2022-05-30T06:42:10.922Z"
   },
   {
    "duration": 22,
    "start_time": "2022-05-30T06:42:10.932Z"
   },
   {
    "duration": 3025,
    "start_time": "2022-05-30T06:42:10.956Z"
   },
   {
    "duration": 0,
    "start_time": "2022-05-30T06:42:13.983Z"
   },
   {
    "duration": 0,
    "start_time": "2022-05-30T06:42:13.985Z"
   },
   {
    "duration": 3,
    "start_time": "2022-05-30T06:44:19.467Z"
   },
   {
    "duration": 2988,
    "start_time": "2022-05-30T06:44:20.265Z"
   },
   {
    "duration": 6,
    "start_time": "2022-05-30T06:44:38.732Z"
   },
   {
    "duration": 805,
    "start_time": "2022-05-30T06:44:46.352Z"
   },
   {
    "duration": 32,
    "start_time": "2022-05-30T06:44:47.159Z"
   },
   {
    "duration": 7,
    "start_time": "2022-05-30T06:44:48.083Z"
   },
   {
    "duration": 31,
    "start_time": "2022-05-30T06:44:51.437Z"
   },
   {
    "duration": 5,
    "start_time": "2022-05-30T06:44:56.153Z"
   },
   {
    "duration": 202631,
    "start_time": "2022-05-30T06:45:01.130Z"
   },
   {
    "duration": 103,
    "start_time": "2022-05-30T06:48:23.763Z"
   },
   {
    "duration": 3,
    "start_time": "2022-05-30T06:48:23.868Z"
   },
   {
    "duration": 3001,
    "start_time": "2022-05-30T06:48:23.872Z"
   },
   {
    "duration": 0,
    "start_time": "2022-05-30T06:48:26.875Z"
   },
   {
    "duration": 0,
    "start_time": "2022-05-30T06:48:26.876Z"
   },
   {
    "duration": 0,
    "start_time": "2022-05-30T06:48:26.877Z"
   },
   {
    "duration": 4,
    "start_time": "2022-05-30T06:59:13.592Z"
   },
   {
    "duration": 123901,
    "start_time": "2022-05-30T06:59:15.042Z"
   },
   {
    "duration": 90,
    "start_time": "2022-05-30T07:01:18.946Z"
   },
   {
    "duration": 6,
    "start_time": "2022-05-30T07:01:19.038Z"
   },
   {
    "duration": 5,
    "start_time": "2022-05-30T07:01:19.046Z"
   },
   {
    "duration": 7527,
    "start_time": "2022-05-30T07:01:19.053Z"
   },
   {
    "duration": 64702,
    "start_time": "2022-05-30T07:01:26.584Z"
   },
   {
    "duration": 106,
    "start_time": "2022-05-30T07:02:31.288Z"
   },
   {
    "duration": 288,
    "start_time": "2022-05-30T07:03:28.449Z"
   },
   {
    "duration": 6,
    "start_time": "2022-05-30T07:04:07.039Z"
   },
   {
    "duration": 3592,
    "start_time": "2022-05-31T05:08:13.972Z"
   },
   {
    "duration": 2060,
    "start_time": "2022-05-31T05:08:17.565Z"
   },
   {
    "duration": 28,
    "start_time": "2022-05-31T05:08:23.671Z"
   },
   {
    "duration": 9,
    "start_time": "2022-05-31T05:08:24.440Z"
   },
   {
    "duration": 19,
    "start_time": "2022-05-31T05:08:26.652Z"
   },
   {
    "duration": 7,
    "start_time": "2022-05-31T05:08:28.366Z"
   },
   {
    "duration": 2,
    "start_time": "2022-05-31T05:08:31.376Z"
   },
   {
    "duration": 4,
    "start_time": "2022-05-31T05:09:04.287Z"
   },
   {
    "duration": 4,
    "start_time": "2022-05-31T05:09:47.989Z"
   },
   {
    "duration": 113655,
    "start_time": "2022-05-31T05:09:49.474Z"
   },
   {
    "duration": 4,
    "start_time": "2022-05-31T05:11:58.770Z"
   },
   {
    "duration": 73409,
    "start_time": "2022-05-31T05:11:59.547Z"
   },
   {
    "duration": 66,
    "start_time": "2022-05-31T05:13:19.727Z"
   },
   {
    "duration": 6,
    "start_time": "2022-05-31T05:13:22.518Z"
   },
   {
    "duration": 3,
    "start_time": "2022-05-31T05:13:24.754Z"
   },
   {
    "duration": 5958,
    "start_time": "2022-05-31T05:13:25.331Z"
   },
   {
    "duration": 4,
    "start_time": "2022-05-31T05:13:43.130Z"
   },
   {
    "duration": 68487,
    "start_time": "2022-05-31T05:13:43.605Z"
   },
   {
    "duration": 15,
    "start_time": "2022-05-31T05:14:52.093Z"
   },
   {
    "duration": 88985,
    "start_time": "2022-05-31T05:14:58.408Z"
   },
   {
    "duration": 15,
    "start_time": "2022-05-31T05:16:27.395Z"
   },
   {
    "duration": 6,
    "start_time": "2022-05-31T05:16:45.214Z"
   },
   {
    "duration": 266,
    "start_time": "2022-05-31T05:16:49.068Z"
   },
   {
    "duration": 133,
    "start_time": "2022-05-31T05:16:57.069Z"
   },
   {
    "duration": 19,
    "start_time": "2022-05-31T05:17:01.290Z"
   },
   {
    "duration": 89799,
    "start_time": "2022-05-31T05:18:20.501Z"
   },
   {
    "duration": 9717,
    "start_time": "2022-05-31T05:20:46.306Z"
   },
   {
    "duration": 36688,
    "start_time": "2022-05-31T05:22:18.318Z"
   },
   {
    "duration": 7,
    "start_time": "2022-05-31T05:24:30.120Z"
   },
   {
    "duration": 6,
    "start_time": "2022-05-31T05:34:48.327Z"
   },
   {
    "duration": 653,
    "start_time": "2022-05-31T05:34:48.899Z"
   },
   {
    "duration": 18,
    "start_time": "2022-05-31T05:34:49.554Z"
   },
   {
    "duration": 6,
    "start_time": "2022-05-31T05:34:50.898Z"
   },
   {
    "duration": 19,
    "start_time": "2022-05-31T05:34:52.902Z"
   },
   {
    "duration": 7,
    "start_time": "2022-05-31T05:34:57.993Z"
   },
   {
    "duration": 3,
    "start_time": "2022-05-31T05:35:00.571Z"
   },
   {
    "duration": 1282,
    "start_time": "2022-05-31T05:42:28.925Z"
   },
   {
    "duration": 108,
    "start_time": "2022-05-31T05:42:47.491Z"
   },
   {
    "duration": 407,
    "start_time": "2022-05-31T05:42:56.449Z"
   },
   {
    "duration": 12630,
    "start_time": "2022-05-31T14:13:11.537Z"
   },
   {
    "duration": 2191,
    "start_time": "2022-05-31T14:13:24.169Z"
   },
   {
    "duration": 26,
    "start_time": "2022-05-31T14:13:26.361Z"
   },
   {
    "duration": 9,
    "start_time": "2022-05-31T14:13:26.389Z"
   },
   {
    "duration": 27,
    "start_time": "2022-05-31T14:13:26.400Z"
   },
   {
    "duration": 12,
    "start_time": "2022-05-31T14:13:26.428Z"
   },
   {
    "duration": 2017,
    "start_time": "2022-05-31T14:13:28.041Z"
   },
   {
    "duration": 1221439,
    "start_time": "2022-05-31T14:13:30.967Z"
   },
   {
    "duration": 606,
    "start_time": "2022-05-31T14:34:38.637Z"
   },
   {
    "duration": 71,
    "start_time": "2022-05-31T14:34:44.978Z"
   },
   {
    "duration": 4,
    "start_time": "2022-05-31T14:34:57.147Z"
   },
   {
    "duration": 54,
    "start_time": "2022-05-31T14:34:58.693Z"
   },
   {
    "duration": 436,
    "start_time": "2022-05-31T14:35:24.544Z"
   },
   {
    "duration": 60,
    "start_time": "2022-05-31T14:35:26.269Z"
   },
   {
    "duration": 4,
    "start_time": "2022-05-31T14:35:54.661Z"
   },
   {
    "duration": 545,
    "start_time": "2022-05-31T14:35:55.434Z"
   },
   {
    "duration": 514828,
    "start_time": "2022-05-31T14:35:57.358Z"
   },
   {
    "duration": 21,
    "start_time": "2022-05-31T14:44:39.333Z"
   },
   {
    "duration": 180,
    "start_time": "2022-05-31T14:45:01.689Z"
   },
   {
    "duration": 18,
    "start_time": "2022-05-31T14:45:07.740Z"
   },
   {
    "duration": 85964,
    "start_time": "2022-05-31T14:45:39.529Z"
   },
   {
    "duration": 5,
    "start_time": "2022-05-31T14:51:00.762Z"
   },
   {
    "duration": 205,
    "start_time": "2022-05-31T14:51:04.625Z"
   },
   {
    "duration": 325,
    "start_time": "2022-05-31T14:52:06.115Z"
   },
   {
    "duration": 141,
    "start_time": "2022-05-31T14:52:34.019Z"
   },
   {
    "duration": 5,
    "start_time": "2022-05-31T14:52:52.794Z"
   },
   {
    "duration": 157,
    "start_time": "2022-05-31T14:52:55.240Z"
   },
   {
    "duration": 19,
    "start_time": "2022-05-31T14:53:29.648Z"
   },
   {
    "duration": 19,
    "start_time": "2022-05-31T14:53:32.893Z"
   },
   {
    "duration": 34,
    "start_time": "2022-05-31T14:53:37.493Z"
   },
   {
    "duration": 41,
    "start_time": "2022-05-31T14:53:56.105Z"
   },
   {
    "duration": 22,
    "start_time": "2022-05-31T14:54:04.506Z"
   },
   {
    "duration": 173,
    "start_time": "2022-05-31T14:56:51.197Z"
   },
   {
    "duration": 5,
    "start_time": "2022-05-31T14:57:01.065Z"
   },
   {
    "duration": 28218,
    "start_time": "2022-05-31T14:57:13.264Z"
   },
   {
    "duration": 0,
    "start_time": "2022-05-31T14:57:41.485Z"
   },
   {
    "duration": 43928,
    "start_time": "2022-05-31T14:57:50.909Z"
   },
   {
    "duration": 17,
    "start_time": "2022-05-31T14:58:43.031Z"
   },
   {
    "duration": 3,
    "start_time": "2022-05-31T14:59:00.819Z"
   },
   {
    "duration": 3029194,
    "start_time": "2022-05-31T14:59:07.519Z"
   },
   {
    "duration": 11,
    "start_time": "2022-05-31T16:12:12.648Z"
   },
   {
    "duration": 644,
    "start_time": "2022-05-31T16:14:25.734Z"
   },
   {
    "duration": 41616,
    "start_time": "2022-05-31T16:14:31.642Z"
   },
   {
    "duration": 548,
    "start_time": "2022-05-31T16:17:49.871Z"
   },
   {
    "duration": 118046,
    "start_time": "2022-05-31T16:17:51.428Z"
   },
   {
    "duration": 576,
    "start_time": "2022-05-31T16:20:35.137Z"
   },
   {
    "duration": 22364,
    "start_time": "2022-05-31T16:20:35.927Z"
   },
   {
    "duration": 721,
    "start_time": "2022-05-31T16:21:05.617Z"
   },
   {
    "duration": 25905,
    "start_time": "2022-05-31T16:21:11.057Z"
   },
   {
    "duration": 532,
    "start_time": "2022-05-31T16:21:49.967Z"
   },
   {
    "duration": 14983,
    "start_time": "2022-05-31T16:21:50.906Z"
   },
   {
    "duration": 403,
    "start_time": "2022-05-31T16:22:10.357Z"
   },
   {
    "duration": 30431,
    "start_time": "2022-05-31T16:22:11.648Z"
   },
   {
    "duration": 560,
    "start_time": "2022-05-31T16:25:31.888Z"
   },
   {
    "duration": 8583,
    "start_time": "2022-05-31T16:25:32.872Z"
   },
   {
    "duration": 421,
    "start_time": "2022-05-31T16:25:55.216Z"
   },
   {
    "duration": 16531,
    "start_time": "2022-05-31T16:25:55.929Z"
   },
   {
    "duration": 613,
    "start_time": "2022-05-31T16:26:58.560Z"
   },
   {
    "duration": 2803801,
    "start_time": "2022-05-31T16:27:06.804Z"
   },
   {
    "duration": 0,
    "start_time": "2022-05-31T17:13:50.607Z"
   },
   {
    "duration": 0,
    "start_time": "2022-05-31T17:13:50.609Z"
   },
   {
    "duration": 0,
    "start_time": "2022-05-31T17:13:50.610Z"
   },
   {
    "duration": 37,
    "start_time": "2022-05-31T17:15:17.117Z"
   },
   {
    "duration": 16919,
    "start_time": "2022-05-31T17:15:21.581Z"
   },
   {
    "duration": 192,
    "start_time": "2022-05-31T17:15:44.061Z"
   },
   {
    "duration": 28,
    "start_time": "2022-05-31T17:27:51.808Z"
   },
   {
    "duration": 9023,
    "start_time": "2022-05-31T17:27:56.774Z"
   },
   {
    "duration": 0,
    "start_time": "2022-05-31T17:28:05.799Z"
   },
   {
    "duration": 650,
    "start_time": "2022-05-31T17:28:16.697Z"
   },
   {
    "duration": 148,
    "start_time": "2022-05-31T17:28:17.522Z"
   },
   {
    "duration": 450,
    "start_time": "2022-05-31T17:28:46.076Z"
   },
   {
    "duration": 34372,
    "start_time": "2022-05-31T17:28:47.097Z"
   },
   {
    "duration": 650,
    "start_time": "2022-05-31T17:29:41.395Z"
   },
   {
    "duration": 272119,
    "start_time": "2022-05-31T17:29:44.007Z"
   },
   {
    "duration": 3,
    "start_time": "2022-05-31T17:34:30.619Z"
   },
   {
    "duration": 4126,
    "start_time": "2022-05-31T17:34:33.030Z"
   },
   {
    "duration": 25,
    "start_time": "2022-05-31T17:34:40.067Z"
   },
   {
    "duration": 239,
    "start_time": "2022-05-31T17:35:04.667Z"
   },
   {
    "duration": 23,
    "start_time": "2022-05-31T17:35:41.006Z"
   },
   {
    "duration": 4580,
    "start_time": "2022-05-31T17:35:50.541Z"
   },
   {
    "duration": 16532,
    "start_time": "2022-05-31T17:58:39.218Z"
   },
   {
    "duration": 2279,
    "start_time": "2022-05-31T17:58:55.753Z"
   },
   {
    "duration": 39,
    "start_time": "2022-05-31T17:58:58.034Z"
   },
   {
    "duration": 25,
    "start_time": "2022-05-31T17:58:58.075Z"
   },
   {
    "duration": 44,
    "start_time": "2022-05-31T17:58:58.102Z"
   },
   {
    "duration": 10,
    "start_time": "2022-05-31T17:58:58.148Z"
   },
   {
    "duration": 22,
    "start_time": "2022-05-31T17:58:58.160Z"
   },
   {
    "duration": 724,
    "start_time": "2022-05-31T17:59:16.111Z"
   },
   {
    "duration": 2,
    "start_time": "2022-05-31T17:59:21.477Z"
   },
   {
    "duration": 8,
    "start_time": "2022-05-31T17:59:22.985Z"
   },
   {
    "duration": 4,
    "start_time": "2022-05-31T17:59:27.198Z"
   },
   {
    "duration": 2,
    "start_time": "2022-05-31T17:59:30.951Z"
   },
   {
    "duration": 512,
    "start_time": "2022-05-31T17:59:36.617Z"
   },
   {
    "duration": 8,
    "start_time": "2022-05-31T18:03:26.165Z"
   },
   {
    "duration": 915,
    "start_time": "2022-05-31T18:03:28.157Z"
   },
   {
    "duration": 4,
    "start_time": "2022-05-31T18:03:33.201Z"
   },
   {
    "duration": 69,
    "start_time": "2022-05-31T18:29:10.054Z"
   },
   {
    "duration": 86,
    "start_time": "2022-05-31T18:29:22.397Z"
   },
   {
    "duration": 19376,
    "start_time": "2022-05-31T18:29:46.425Z"
   },
   {
    "duration": 2547,
    "start_time": "2022-05-31T18:30:05.803Z"
   },
   {
    "duration": 34,
    "start_time": "2022-05-31T18:30:08.352Z"
   },
   {
    "duration": 44,
    "start_time": "2022-05-31T18:30:08.390Z"
   },
   {
    "duration": 30,
    "start_time": "2022-05-31T18:30:08.436Z"
   },
   {
    "duration": 8,
    "start_time": "2022-05-31T18:30:08.468Z"
   },
   {
    "duration": 9,
    "start_time": "2022-05-31T18:30:08.479Z"
   },
   {
    "duration": 833,
    "start_time": "2022-05-31T18:30:08.490Z"
   },
   {
    "duration": 4,
    "start_time": "2022-05-31T18:30:09.325Z"
   },
   {
    "duration": 10,
    "start_time": "2022-05-31T18:30:09.333Z"
   },
   {
    "duration": 18,
    "start_time": "2022-05-31T18:30:09.346Z"
   },
   {
    "duration": 14,
    "start_time": "2022-05-31T18:30:09.366Z"
   },
   {
    "duration": 0,
    "start_time": "2022-05-31T18:30:09.395Z"
   },
   {
    "duration": 0,
    "start_time": "2022-05-31T18:30:09.397Z"
   },
   {
    "duration": 265666,
    "start_time": "2022-05-31T18:38:52.426Z"
   },
   {
    "duration": 9,
    "start_time": "2022-05-31T18:43:18.094Z"
   },
   {
    "duration": 29,
    "start_time": "2022-05-31T18:55:49.526Z"
   },
   {
    "duration": 4,
    "start_time": "2022-05-31T18:58:18.548Z"
   },
   {
    "duration": 4,
    "start_time": "2022-05-31T18:58:21.141Z"
   },
   {
    "duration": 340462,
    "start_time": "2022-05-31T18:58:22.396Z"
   },
   {
    "duration": 8,
    "start_time": "2022-05-31T19:04:02.861Z"
   },
   {
    "duration": 21,
    "start_time": "2022-05-31T19:10:17.262Z"
   },
   {
    "duration": 4,
    "start_time": "2022-05-31T19:10:57.407Z"
   },
   {
    "duration": 4,
    "start_time": "2022-05-31T19:11:00.294Z"
   },
   {
    "duration": 252876,
    "start_time": "2022-05-31T19:11:01.218Z"
   },
   {
    "duration": 5,
    "start_time": "2022-05-31T19:20:38.182Z"
   },
   {
    "duration": 28,
    "start_time": "2022-05-31T19:20:46.131Z"
   },
   {
    "duration": 304092,
    "start_time": "2022-05-31T19:20:56.814Z"
   },
   {
    "duration": 7,
    "start_time": "2022-05-31T19:28:02.405Z"
   },
   {
    "duration": 705,
    "start_time": "2022-05-31T19:28:05.590Z"
   },
   {
    "duration": 223,
    "start_time": "2022-05-31T19:28:46.918Z"
   },
   {
    "duration": 4,
    "start_time": "2022-05-31T19:28:53.990Z"
   },
   {
    "duration": 1371,
    "start_time": "2022-05-31T19:29:00.266Z"
   },
   {
    "duration": 16,
    "start_time": "2022-05-31T19:29:08.993Z"
   },
   {
    "duration": 609,
    "start_time": "2022-05-31T19:30:00.343Z"
   },
   {
    "duration": 594,
    "start_time": "2022-05-31T19:30:03.404Z"
   },
   {
    "duration": 456,
    "start_time": "2022-05-31T19:30:39.642Z"
   },
   {
    "duration": 278,
    "start_time": "2022-05-31T19:30:43.308Z"
   },
   {
    "duration": 29,
    "start_time": "2022-05-31T19:32:38.449Z"
   },
   {
    "duration": 868,
    "start_time": "2022-05-31T19:32:52.206Z"
   },
   {
    "duration": 618,
    "start_time": "2022-05-31T19:33:07.358Z"
   },
   {
    "duration": 732,
    "start_time": "2022-05-31T19:34:25.679Z"
   },
   {
    "duration": 468,
    "start_time": "2022-05-31T19:34:43.931Z"
   },
   {
    "duration": 674,
    "start_time": "2022-05-31T19:34:54.709Z"
   },
   {
    "duration": 509,
    "start_time": "2022-05-31T19:35:03.450Z"
   },
   {
    "duration": 599,
    "start_time": "2022-05-31T19:36:51.692Z"
   },
   {
    "duration": 478,
    "start_time": "2022-05-31T19:36:58.265Z"
   },
   {
    "duration": 759,
    "start_time": "2022-05-31T19:37:32.729Z"
   },
   {
    "duration": 451,
    "start_time": "2022-05-31T19:37:45.317Z"
   },
   {
    "duration": 272,
    "start_time": "2022-05-31T19:37:49.285Z"
   },
   {
    "duration": 554,
    "start_time": "2022-05-31T19:38:18.669Z"
   },
   {
    "duration": 410,
    "start_time": "2022-05-31T19:39:02.719Z"
   },
   {
    "duration": 28,
    "start_time": "2022-05-31T19:39:05.458Z"
   },
   {
    "duration": 2096,
    "start_time": "2022-05-31T19:39:06.962Z"
   },
   {
    "duration": 677,
    "start_time": "2022-05-31T19:39:31.320Z"
   },
   {
    "duration": 1256,
    "start_time": "2022-05-31T19:39:36.673Z"
   },
   {
    "duration": 12,
    "start_time": "2022-05-31T19:39:41.658Z"
   },
   {
    "duration": 0,
    "start_time": "2022-05-31T19:43:23.366Z"
   },
   {
    "duration": 143420,
    "start_time": "2022-05-31T19:43:38.354Z"
   },
   {
    "duration": 262,
    "start_time": "2022-05-31T19:46:26.241Z"
   },
   {
    "duration": 4,
    "start_time": "2022-05-31T19:46:51.965Z"
   },
   {
    "duration": 1984,
    "start_time": "2022-05-31T19:46:56.147Z"
   },
   {
    "duration": 86,
    "start_time": "2022-05-31T19:47:33.362Z"
   },
   {
    "duration": 7,
    "start_time": "2022-05-31T19:47:34.450Z"
   },
   {
    "duration": 4,
    "start_time": "2022-05-31T19:47:36.776Z"
   },
   {
    "duration": 32,
    "start_time": "2022-05-31T19:47:38.445Z"
   },
   {
    "duration": 486,
    "start_time": "2022-05-31T19:47:41.989Z"
   },
   {
    "duration": 50,
    "start_time": "2022-05-31T19:49:06.604Z"
   },
   {
    "duration": 35,
    "start_time": "2022-05-31T19:49:10.002Z"
   },
   {
    "duration": 2992090,
    "start_time": "2022-05-31T19:49:26.465Z"
   },
   {
    "duration": 9,
    "start_time": "2022-05-31T20:39:18.557Z"
   },
   {
    "duration": 17,
    "start_time": "2022-05-31T20:39:18.567Z"
   },
   {
    "duration": 22,
    "start_time": "2022-05-31T20:39:18.587Z"
   },
   {
    "duration": 0,
    "start_time": "2022-05-31T20:39:18.611Z"
   },
   {
    "duration": 0,
    "start_time": "2022-05-31T20:39:18.612Z"
   },
   {
    "duration": 0,
    "start_time": "2022-05-31T20:39:18.631Z"
   },
   {
    "duration": 25,
    "start_time": "2022-05-31T20:39:51.031Z"
   },
   {
    "duration": 109,
    "start_time": "2022-05-31T20:40:31.665Z"
   },
   {
    "duration": 3,
    "start_time": "2022-05-31T20:41:04.541Z"
   },
   {
    "duration": 38,
    "start_time": "2022-05-31T20:41:06.605Z"
   },
   {
    "duration": 21,
    "start_time": "2022-05-31T20:41:21.064Z"
   },
   {
    "duration": 22,
    "start_time": "2022-05-31T20:41:38.162Z"
   },
   {
    "duration": 26,
    "start_time": "2022-05-31T20:41:49.159Z"
   },
   {
    "duration": 30,
    "start_time": "2022-05-31T20:42:09.214Z"
   },
   {
    "duration": 25,
    "start_time": "2022-05-31T20:42:15.099Z"
   },
   {
    "duration": 7,
    "start_time": "2022-05-31T20:44:30.104Z"
   },
   {
    "duration": 23,
    "start_time": "2022-05-31T20:44:47.838Z"
   },
   {
    "duration": 8,
    "start_time": "2022-05-31T20:45:18.604Z"
   },
   {
    "duration": 151,
    "start_time": "2022-05-31T20:45:46.766Z"
   },
   {
    "duration": 19,
    "start_time": "2022-05-31T20:46:05.464Z"
   },
   {
    "duration": 10,
    "start_time": "2022-05-31T20:46:16.320Z"
   },
   {
    "duration": 931,
    "start_time": "2022-05-31T20:46:25.567Z"
   },
   {
    "duration": 7,
    "start_time": "2022-05-31T20:46:33.872Z"
   },
   {
    "duration": 3,
    "start_time": "2022-05-31T20:46:37.461Z"
   },
   {
    "duration": 8347,
    "start_time": "2022-05-31T20:46:42.320Z"
   },
   {
    "duration": 7,
    "start_time": "2022-05-31T20:47:01.765Z"
   },
   {
    "duration": 63838,
    "start_time": "2022-05-31T20:47:02.121Z"
   },
   {
    "duration": 25,
    "start_time": "2022-05-31T20:48:06.028Z"
   },
   {
    "duration": 8337,
    "start_time": "2022-05-31T20:51:03.873Z"
   },
   {
    "duration": 3,
    "start_time": "2022-05-31T20:51:12.213Z"
   },
   {
    "duration": 88060,
    "start_time": "2022-05-31T20:51:12.705Z"
   },
   {
    "duration": 82,
    "start_time": "2022-05-31T20:52:40.767Z"
   },
   {
    "duration": 355,
    "start_time": "2022-05-31T20:52:40.850Z"
   },
   {
    "duration": 9514,
    "start_time": "2022-05-31T20:54:11.542Z"
   },
   {
    "duration": 74505,
    "start_time": "2022-05-31T20:54:21.058Z"
   },
   {
    "duration": 30,
    "start_time": "2022-05-31T20:55:35.631Z"
   },
   {
    "duration": 374,
    "start_time": "2022-05-31T20:55:35.662Z"
   },
   {
    "duration": 68826,
    "start_time": "2022-05-31T20:56:47.906Z"
   },
   {
    "duration": 25,
    "start_time": "2022-05-31T20:57:56.733Z"
   },
   {
    "duration": 8270,
    "start_time": "2022-05-31T21:04:08.735Z"
   },
   {
    "duration": 62622,
    "start_time": "2022-05-31T21:04:17.006Z"
   },
   {
    "duration": 18,
    "start_time": "2022-05-31T21:05:19.630Z"
   },
   {
    "duration": 59313,
    "start_time": "2022-05-31T21:10:25.270Z"
   },
   {
    "duration": 47,
    "start_time": "2022-05-31T21:11:24.642Z"
   },
   {
    "duration": 8493,
    "start_time": "2022-05-31T21:13:28.391Z"
   },
   {
    "duration": 61175,
    "start_time": "2022-05-31T21:13:42.953Z"
   },
   {
    "duration": 125,
    "start_time": "2022-05-31T21:14:44.131Z"
   },
   {
    "duration": 7988,
    "start_time": "2022-05-31T21:16:00.872Z"
   },
   {
    "duration": 82915,
    "start_time": "2022-05-31T21:16:15.222Z"
   },
   {
    "duration": 107,
    "start_time": "2022-05-31T21:17:38.140Z"
   },
   {
    "duration": 7895,
    "start_time": "2022-05-31T21:18:45.346Z"
   },
   {
    "duration": 61914,
    "start_time": "2022-05-31T21:18:56.325Z"
   },
   {
    "duration": 21,
    "start_time": "2022-05-31T21:19:58.242Z"
   },
   {
    "duration": 64686,
    "start_time": "2022-05-31T21:23:08.768Z"
   },
   {
    "duration": 90,
    "start_time": "2022-05-31T21:24:13.457Z"
   },
   {
    "duration": 7767,
    "start_time": "2022-05-31T21:28:32.378Z"
   },
   {
    "duration": 71550,
    "start_time": "2022-05-31T21:28:46.083Z"
   },
   {
    "duration": 24,
    "start_time": "2022-05-31T21:29:57.636Z"
   },
   {
    "duration": 7936,
    "start_time": "2022-05-31T21:30:40.044Z"
   },
   {
    "duration": 83148,
    "start_time": "2022-05-31T21:30:47.983Z"
   },
   {
    "duration": 97,
    "start_time": "2022-05-31T21:32:11.137Z"
   },
   {
    "duration": 236512,
    "start_time": "2022-05-31T21:47:55.027Z"
   },
   {
    "duration": 0,
    "start_time": "2022-05-31T21:54:53.332Z"
   },
   {
    "duration": 0,
    "start_time": "2022-05-31T21:54:53.333Z"
   },
   {
    "duration": 0,
    "start_time": "2022-05-31T21:54:53.334Z"
   },
   {
    "duration": 111,
    "start_time": "2022-05-31T21:54:55.453Z"
   },
   {
    "duration": 19,
    "start_time": "2022-05-31T21:54:57.050Z"
   },
   {
    "duration": 214371,
    "start_time": "2022-05-31T21:55:03.690Z"
   },
   {
    "duration": 39,
    "start_time": "2022-05-31T22:03:43.925Z"
   },
   {
    "duration": 64307,
    "start_time": "2022-05-31T22:04:47.146Z"
   },
   {
    "duration": 103,
    "start_time": "2022-05-31T22:05:51.456Z"
   },
   {
    "duration": 343,
    "start_time": "2022-05-31T22:05:51.561Z"
   },
   {
    "duration": 171,
    "start_time": "2022-05-31T22:11:53.343Z"
   },
   {
    "duration": 3,
    "start_time": "2022-05-31T22:15:15.081Z"
   },
   {
    "duration": 3,
    "start_time": "2022-05-31T22:15:16.618Z"
   },
   {
    "duration": 46,
    "start_time": "2022-05-31T22:21:00.792Z"
   },
   {
    "duration": 12744,
    "start_time": "2022-06-01T16:56:56.127Z"
   },
   {
    "duration": 2216,
    "start_time": "2022-06-01T16:57:08.874Z"
   },
   {
    "duration": 31,
    "start_time": "2022-06-01T16:57:11.091Z"
   },
   {
    "duration": 10,
    "start_time": "2022-06-01T16:57:11.124Z"
   },
   {
    "duration": 34,
    "start_time": "2022-06-01T16:57:11.137Z"
   },
   {
    "duration": 10,
    "start_time": "2022-06-01T16:57:11.173Z"
   },
   {
    "duration": 2,
    "start_time": "2022-06-01T16:57:11.185Z"
   },
   {
    "duration": 7,
    "start_time": "2022-06-01T16:57:11.189Z"
   },
   {
    "duration": 18,
    "start_time": "2022-06-01T16:57:11.197Z"
   },
   {
    "duration": 652,
    "start_time": "2022-06-01T16:57:11.216Z"
   },
   {
    "duration": 2891307,
    "start_time": "2022-06-01T16:57:11.870Z"
   },
   {
    "duration": 10,
    "start_time": "2022-06-01T17:45:23.179Z"
   },
   {
    "duration": 157,
    "start_time": "2022-06-01T17:45:23.190Z"
   },
   {
    "duration": 2,
    "start_time": "2022-06-01T17:45:23.350Z"
   },
   {
    "duration": 190524,
    "start_time": "2022-06-01T17:45:23.354Z"
   },
   {
    "duration": 54291,
    "start_time": "2022-06-01T17:48:33.879Z"
   },
   {
    "duration": 111,
    "start_time": "2022-06-01T17:49:28.173Z"
   },
   {
    "duration": 640,
    "start_time": "2022-06-01T17:49:28.286Z"
   },
   {
    "duration": 219,
    "start_time": "2022-06-01T17:49:28.928Z"
   },
   {
    "duration": 32,
    "start_time": "2022-06-01T17:49:29.149Z"
   },
   {
    "duration": 40,
    "start_time": "2022-06-01T17:49:29.182Z"
   },
   {
    "duration": 0,
    "start_time": "2022-06-01T17:49:29.224Z"
   },
   {
    "duration": 0,
    "start_time": "2022-06-01T17:49:29.225Z"
   },
   {
    "duration": 0,
    "start_time": "2022-06-01T17:49:29.226Z"
   },
   {
    "duration": 0,
    "start_time": "2022-06-01T17:49:29.228Z"
   },
   {
    "duration": 0,
    "start_time": "2022-06-01T17:49:29.230Z"
   },
   {
    "duration": 0,
    "start_time": "2022-06-01T17:49:29.231Z"
   },
   {
    "duration": 0,
    "start_time": "2022-06-01T17:49:29.233Z"
   },
   {
    "duration": 0,
    "start_time": "2022-06-01T17:49:29.234Z"
   },
   {
    "duration": 0,
    "start_time": "2022-06-01T17:49:29.235Z"
   },
   {
    "duration": 0,
    "start_time": "2022-06-01T17:49:29.237Z"
   },
   {
    "duration": 5,
    "start_time": "2022-06-01T19:32:12.717Z"
   },
   {
    "duration": 4203,
    "start_time": "2022-06-02T04:49:40.761Z"
   },
   {
    "duration": 2114,
    "start_time": "2022-06-02T04:49:44.966Z"
   },
   {
    "duration": 21,
    "start_time": "2022-06-02T04:49:47.081Z"
   },
   {
    "duration": 9,
    "start_time": "2022-06-02T04:49:47.103Z"
   },
   {
    "duration": 17,
    "start_time": "2022-06-02T04:49:47.114Z"
   },
   {
    "duration": 7,
    "start_time": "2022-06-02T04:49:47.133Z"
   },
   {
    "duration": 2,
    "start_time": "2022-06-02T04:49:47.141Z"
   },
   {
    "duration": 4,
    "start_time": "2022-06-02T04:49:47.145Z"
   },
   {
    "duration": 5,
    "start_time": "2022-06-02T04:49:47.150Z"
   },
   {
    "duration": 463,
    "start_time": "2022-06-02T04:49:47.157Z"
   },
   {
    "duration": 562037,
    "start_time": "2022-06-02T04:49:52.968Z"
   },
   {
    "duration": 3,
    "start_time": "2022-06-02T04:59:15.007Z"
   },
   {
    "duration": 394,
    "start_time": "2022-06-02T05:28:45.389Z"
   },
   {
    "duration": 4772,
    "start_time": "2022-06-02T08:17:47.459Z"
   },
   {
    "duration": 3450,
    "start_time": "2022-06-02T08:18:21.151Z"
   },
   {
    "duration": 3158,
    "start_time": "2022-06-02T08:18:34.142Z"
   },
   {
    "duration": 66,
    "start_time": "2022-06-02T08:20:51.808Z"
   },
   {
    "duration": 9754,
    "start_time": "2022-06-02T08:20:57.740Z"
   },
   {
    "duration": 2411,
    "start_time": "2022-06-02T08:21:07.496Z"
   },
   {
    "duration": 39,
    "start_time": "2022-06-02T08:21:09.909Z"
   },
   {
    "duration": 45,
    "start_time": "2022-06-02T08:21:09.952Z"
   },
   {
    "duration": 14,
    "start_time": "2022-06-02T08:21:09.999Z"
   },
   {
    "duration": 8,
    "start_time": "2022-06-02T08:21:10.031Z"
   },
   {
    "duration": 337,
    "start_time": "2022-06-02T08:21:12.103Z"
   },
   {
    "duration": 47,
    "start_time": "2022-06-02T08:21:24.242Z"
   },
   {
    "duration": 47,
    "start_time": "2022-06-02T08:25:44.621Z"
   },
   {
    "duration": 32,
    "start_time": "2022-06-02T08:26:10.446Z"
   },
   {
    "duration": 10,
    "start_time": "2022-06-02T08:26:21.617Z"
   },
   {
    "duration": 37,
    "start_time": "2022-06-02T08:30:31.563Z"
   },
   {
    "duration": 7,
    "start_time": "2022-06-02T08:30:31.994Z"
   },
   {
    "duration": 5,
    "start_time": "2022-06-02T08:30:34.308Z"
   },
   {
    "duration": 4,
    "start_time": "2022-06-02T08:30:34.906Z"
   },
   {
    "duration": 854,
    "start_time": "2022-06-02T08:30:35.276Z"
   },
   {
    "duration": 292714,
    "start_time": "2022-06-02T08:30:37.693Z"
   },
   {
    "duration": 38,
    "start_time": "2022-06-02T08:35:30.410Z"
   },
   {
    "duration": 12,
    "start_time": "2022-06-02T08:36:26.008Z"
   },
   {
    "duration": 67,
    "start_time": "2022-06-02T08:36:46.906Z"
   },
   {
    "duration": 3,
    "start_time": "2022-06-02T08:36:48.352Z"
   },
   {
    "duration": 90220,
    "start_time": "2022-06-02T08:36:51.717Z"
   },
   {
    "duration": 27042,
    "start_time": "2022-06-02T08:38:36.095Z"
   },
   {
    "duration": 96,
    "start_time": "2022-06-02T08:39:03.141Z"
   },
   {
    "duration": 370,
    "start_time": "2022-06-02T08:39:03.238Z"
   },
   {
    "duration": 314,
    "start_time": "2022-06-02T08:39:17.304Z"
   },
   {
    "duration": 153,
    "start_time": "2022-06-02T08:39:43.962Z"
   },
   {
    "duration": 13,
    "start_time": "2022-06-02T08:39:50.986Z"
   },
   {
    "duration": 11,
    "start_time": "2022-06-02T08:40:06.163Z"
   },
   {
    "duration": 4,
    "start_time": "2022-06-02T08:40:39.705Z"
   },
   {
    "duration": 65267,
    "start_time": "2022-06-02T08:40:47.385Z"
   },
   {
    "duration": 46,
    "start_time": "2022-06-02T08:41:52.654Z"
   },
   {
    "duration": 26,
    "start_time": "2022-06-02T08:42:29.696Z"
   },
   {
    "duration": 1691,
    "start_time": "2022-06-02T08:42:35.203Z"
   },
   {
    "duration": 10,
    "start_time": "2022-06-02T09:05:20.417Z"
   },
   {
    "duration": 49,
    "start_time": "2022-06-02T09:05:31.222Z"
   },
   {
    "duration": 3,
    "start_time": "2022-06-02T09:05:34.102Z"
   },
   {
    "duration": 51709,
    "start_time": "2022-06-02T09:05:35.331Z"
   },
   {
    "duration": 8,
    "start_time": "2022-06-02T09:09:41.171Z"
   },
   {
    "duration": 9,
    "start_time": "2022-06-02T09:10:07.372Z"
   },
   {
    "duration": 9,
    "start_time": "2022-06-02T09:10:11.360Z"
   },
   {
    "duration": 11,
    "start_time": "2022-06-02T09:10:59.034Z"
   },
   {
    "duration": 10,
    "start_time": "2022-06-02T09:11:44.856Z"
   },
   {
    "duration": 254,
    "start_time": "2022-06-02T09:12:47.022Z"
   },
   {
    "duration": 579,
    "start_time": "2022-06-02T09:13:17.998Z"
   },
   {
    "duration": 466,
    "start_time": "2022-06-02T09:13:24.390Z"
   },
   {
    "duration": 10,
    "start_time": "2022-06-02T09:15:33.304Z"
   },
   {
    "duration": 383,
    "start_time": "2022-06-02T09:15:34.669Z"
   },
   {
    "duration": 29,
    "start_time": "2022-06-02T09:17:07.510Z"
   },
   {
    "duration": 4,
    "start_time": "2022-06-02T09:17:46.073Z"
   },
   {
    "duration": 10,
    "start_time": "2022-06-02T09:32:52.665Z"
   },
   {
    "duration": 3,
    "start_time": "2022-06-02T09:32:53.009Z"
   },
   {
    "duration": 21783,
    "start_time": "2022-06-02T09:35:42.166Z"
   },
   {
    "duration": 29682,
    "start_time": "2022-06-02T09:40:03.004Z"
   },
   {
    "duration": 13,
    "start_time": "2022-06-02T09:41:24.227Z"
   },
   {
    "duration": 29351,
    "start_time": "2022-06-02T09:42:05.576Z"
   },
   {
    "duration": 24,
    "start_time": "2022-06-02T09:42:34.929Z"
   },
   {
    "duration": 4,
    "start_time": "2022-06-02T09:43:39.963Z"
   },
   {
    "duration": 7685,
    "start_time": "2022-06-02T09:49:10.757Z"
   },
   {
    "duration": 2232,
    "start_time": "2022-06-02T09:49:18.445Z"
   },
   {
    "duration": 33,
    "start_time": "2022-06-02T09:49:20.679Z"
   },
   {
    "duration": 12,
    "start_time": "2022-06-02T09:49:20.714Z"
   },
   {
    "duration": 40,
    "start_time": "2022-06-02T09:49:20.728Z"
   },
   {
    "duration": 9,
    "start_time": "2022-06-02T09:49:20.770Z"
   },
   {
    "duration": 3,
    "start_time": "2022-06-02T09:49:20.780Z"
   },
   {
    "duration": 56,
    "start_time": "2022-06-02T09:49:20.785Z"
   },
   {
    "duration": 7,
    "start_time": "2022-06-02T09:49:20.843Z"
   },
   {
    "duration": 9,
    "start_time": "2022-06-02T09:49:20.852Z"
   },
   {
    "duration": 17,
    "start_time": "2022-06-02T09:49:20.863Z"
   },
   {
    "duration": 633,
    "start_time": "2022-06-02T09:49:20.882Z"
   },
   {
    "duration": 61544,
    "start_time": "2022-06-02T09:49:21.517Z"
   },
   {
    "duration": 12,
    "start_time": "2022-06-02T09:50:23.065Z"
   },
   {
    "duration": 59,
    "start_time": "2022-06-02T09:50:23.079Z"
   },
   {
    "duration": 1497,
    "start_time": "2022-06-02T09:50:23.140Z"
   },
   {
    "duration": 21,
    "start_time": "2022-06-02T09:50:24.639Z"
   },
   {
    "duration": 379,
    "start_time": "2022-06-02T09:50:24.661Z"
   },
   {
    "duration": 33,
    "start_time": "2022-06-02T09:50:25.042Z"
   },
   {
    "duration": 4,
    "start_time": "2022-06-02T09:50:25.077Z"
   },
   {
    "duration": 21791,
    "start_time": "2022-06-02T09:50:25.083Z"
   },
   {
    "duration": 555,
    "start_time": "2022-06-02T09:50:46.877Z"
   },
   {
    "duration": 83,
    "start_time": "2022-06-02T09:51:34.890Z"
   },
   {
    "duration": 9,
    "start_time": "2022-06-02T09:52:05.905Z"
   },
   {
    "duration": 7674,
    "start_time": "2022-06-02T09:52:14.663Z"
   },
   {
    "duration": 302,
    "start_time": "2022-06-02T09:52:34.208Z"
   },
   {
    "duration": 2159,
    "start_time": "2022-06-02T09:52:40.580Z"
   },
   {
    "duration": 36,
    "start_time": "2022-06-02T09:52:42.741Z"
   },
   {
    "duration": 15,
    "start_time": "2022-06-02T09:52:42.779Z"
   },
   {
    "duration": 47,
    "start_time": "2022-06-02T09:52:42.797Z"
   },
   {
    "duration": 10,
    "start_time": "2022-06-02T09:52:42.846Z"
   },
   {
    "duration": 3,
    "start_time": "2022-06-02T09:52:42.857Z"
   },
   {
    "duration": 39,
    "start_time": "2022-06-02T09:52:42.862Z"
   },
   {
    "duration": 26,
    "start_time": "2022-06-02T09:52:42.903Z"
   },
   {
    "duration": 5,
    "start_time": "2022-06-02T09:52:43.541Z"
   },
   {
    "duration": 4,
    "start_time": "2022-06-02T09:52:43.844Z"
   },
   {
    "duration": 804,
    "start_time": "2022-06-02T09:52:44.234Z"
   },
   {
    "duration": 61931,
    "start_time": "2022-06-02T09:52:45.041Z"
   },
   {
    "duration": 10,
    "start_time": "2022-06-02T09:53:46.974Z"
   },
   {
    "duration": 59,
    "start_time": "2022-06-02T09:53:46.986Z"
   },
   {
    "duration": 1512,
    "start_time": "2022-06-02T09:53:47.048Z"
   },
   {
    "duration": 20,
    "start_time": "2022-06-02T09:53:48.562Z"
   },
   {
    "duration": 348,
    "start_time": "2022-06-02T09:53:48.583Z"
   },
   {
    "duration": 32,
    "start_time": "2022-06-02T09:53:48.933Z"
   },
   {
    "duration": 4,
    "start_time": "2022-06-02T09:53:48.967Z"
   },
   {
    "duration": 3020,
    "start_time": "2022-06-02T09:53:48.972Z"
   },
   {
    "duration": 0,
    "start_time": "2022-06-02T09:53:51.994Z"
   },
   {
    "duration": 0,
    "start_time": "2022-06-02T09:53:51.995Z"
   },
   {
    "duration": 12,
    "start_time": "2022-06-02T09:54:00.813Z"
   },
   {
    "duration": 22504,
    "start_time": "2022-06-02T09:54:01.264Z"
   },
   {
    "duration": 73,
    "start_time": "2022-06-02T09:54:40.468Z"
   },
   {
    "duration": 8383,
    "start_time": "2022-06-02T09:54:49.558Z"
   },
   {
    "duration": 2232,
    "start_time": "2022-06-02T09:54:57.943Z"
   },
   {
    "duration": 36,
    "start_time": "2022-06-02T09:55:00.177Z"
   },
   {
    "duration": 18,
    "start_time": "2022-06-02T09:55:00.216Z"
   },
   {
    "duration": 81,
    "start_time": "2022-06-02T09:55:00.236Z"
   },
   {
    "duration": 12,
    "start_time": "2022-06-02T09:55:00.319Z"
   },
   {
    "duration": 18,
    "start_time": "2022-06-02T09:55:00.333Z"
   },
   {
    "duration": 62,
    "start_time": "2022-06-02T09:55:00.353Z"
   },
   {
    "duration": 15,
    "start_time": "2022-06-02T09:55:00.417Z"
   },
   {
    "duration": 23,
    "start_time": "2022-06-02T09:55:00.435Z"
   },
   {
    "duration": 16,
    "start_time": "2022-06-02T09:55:00.460Z"
   },
   {
    "duration": 683,
    "start_time": "2022-06-02T09:55:00.478Z"
   },
   {
    "duration": 60363,
    "start_time": "2022-06-02T09:55:01.163Z"
   },
   {
    "duration": 9,
    "start_time": "2022-06-02T09:56:01.527Z"
   },
   {
    "duration": 50,
    "start_time": "2022-06-02T09:56:01.538Z"
   },
   {
    "duration": 1688,
    "start_time": "2022-06-02T09:56:01.591Z"
   },
   {
    "duration": 21,
    "start_time": "2022-06-02T09:56:03.281Z"
   },
   {
    "duration": 352,
    "start_time": "2022-06-02T09:56:03.303Z"
   },
   {
    "duration": 45,
    "start_time": "2022-06-02T09:56:03.657Z"
   },
   {
    "duration": 3,
    "start_time": "2022-06-02T09:56:03.705Z"
   },
   {
    "duration": 18427,
    "start_time": "2022-06-02T09:56:11.033Z"
   },
   {
    "duration": 2336,
    "start_time": "2022-06-02T09:56:32.631Z"
   },
   {
    "duration": 0,
    "start_time": "2022-06-02T09:56:34.970Z"
   },
   {
    "duration": 7723,
    "start_time": "2022-06-02T09:58:20.964Z"
   },
   {
    "duration": 2329,
    "start_time": "2022-06-02T09:58:28.689Z"
   },
   {
    "duration": 41,
    "start_time": "2022-06-02T09:58:31.020Z"
   },
   {
    "duration": 21,
    "start_time": "2022-06-02T09:58:31.063Z"
   },
   {
    "duration": 55,
    "start_time": "2022-06-02T09:58:31.086Z"
   },
   {
    "duration": 11,
    "start_time": "2022-06-02T09:58:31.143Z"
   },
   {
    "duration": 18,
    "start_time": "2022-06-02T09:58:31.156Z"
   },
   {
    "duration": 49,
    "start_time": "2022-06-02T09:58:31.176Z"
   },
   {
    "duration": 8,
    "start_time": "2022-06-02T09:58:31.227Z"
   },
   {
    "duration": 12,
    "start_time": "2022-06-02T09:58:31.238Z"
   },
   {
    "duration": 26,
    "start_time": "2022-06-02T09:58:31.252Z"
   },
   {
    "duration": 722,
    "start_time": "2022-06-02T09:58:31.280Z"
   },
   {
    "duration": 68245,
    "start_time": "2022-06-02T09:58:32.004Z"
   },
   {
    "duration": 11,
    "start_time": "2022-06-02T09:59:40.252Z"
   },
   {
    "duration": 65,
    "start_time": "2022-06-02T09:59:40.265Z"
   },
   {
    "duration": 1511,
    "start_time": "2022-06-02T09:59:40.332Z"
   },
   {
    "duration": 20,
    "start_time": "2022-06-02T09:59:41.844Z"
   },
   {
    "duration": 415,
    "start_time": "2022-06-02T09:59:41.867Z"
   },
   {
    "duration": 48,
    "start_time": "2022-06-02T09:59:42.284Z"
   },
   {
    "duration": 4,
    "start_time": "2022-06-02T10:03:57.271Z"
   },
   {
    "duration": 18552,
    "start_time": "2022-06-02T10:03:58.319Z"
   },
   {
    "duration": 1988,
    "start_time": "2022-06-02T10:04:28.619Z"
   },
   {
    "duration": 565,
    "start_time": "2022-06-02T10:04:37.794Z"
   },
   {
    "duration": 572,
    "start_time": "2022-06-02T10:05:02.527Z"
   },
   {
    "duration": 63,
    "start_time": "2022-06-02T10:05:16.059Z"
   },
   {
    "duration": 7849,
    "start_time": "2022-06-02T10:10:11.316Z"
   },
   {
    "duration": 2312,
    "start_time": "2022-06-02T10:10:19.168Z"
   },
   {
    "duration": 36,
    "start_time": "2022-06-02T10:10:21.482Z"
   },
   {
    "duration": 13,
    "start_time": "2022-06-02T10:10:21.521Z"
   },
   {
    "duration": 34,
    "start_time": "2022-06-02T10:10:21.535Z"
   },
   {
    "duration": 9,
    "start_time": "2022-06-02T10:10:21.570Z"
   },
   {
    "duration": 2,
    "start_time": "2022-06-02T10:10:21.581Z"
   },
   {
    "duration": 72,
    "start_time": "2022-06-02T10:10:21.585Z"
   },
   {
    "duration": 8,
    "start_time": "2022-06-02T10:10:21.659Z"
   },
   {
    "duration": 5,
    "start_time": "2022-06-02T10:10:21.671Z"
   },
   {
    "duration": 22,
    "start_time": "2022-06-02T10:10:21.677Z"
   },
   {
    "duration": 664,
    "start_time": "2022-06-02T10:10:21.702Z"
   },
   {
    "duration": 64166,
    "start_time": "2022-06-02T10:10:22.368Z"
   },
   {
    "duration": 8,
    "start_time": "2022-06-02T10:11:26.536Z"
   },
   {
    "duration": 65,
    "start_time": "2022-06-02T10:11:26.546Z"
   },
   {
    "duration": 1492,
    "start_time": "2022-06-02T10:11:26.614Z"
   },
   {
    "duration": 38,
    "start_time": "2022-06-02T10:11:28.108Z"
   },
   {
    "duration": 458,
    "start_time": "2022-06-02T10:11:28.148Z"
   },
   {
    "duration": 54,
    "start_time": "2022-06-02T10:11:28.607Z"
   },
   {
    "duration": 5,
    "start_time": "2022-06-02T10:11:28.663Z"
   },
   {
    "duration": 3510,
    "start_time": "2022-06-02T10:11:28.669Z"
   },
   {
    "duration": 3923,
    "start_time": "2022-06-02T10:52:36.570Z"
   },
   {
    "duration": 10667,
    "start_time": "2022-06-02T10:53:36.296Z"
   },
   {
    "duration": 2532,
    "start_time": "2022-06-02T10:53:46.965Z"
   },
   {
    "duration": 46,
    "start_time": "2022-06-02T10:53:49.499Z"
   },
   {
    "duration": 38,
    "start_time": "2022-06-02T10:53:49.548Z"
   },
   {
    "duration": 39,
    "start_time": "2022-06-02T10:53:49.590Z"
   },
   {
    "duration": 34,
    "start_time": "2022-06-02T10:53:49.635Z"
   },
   {
    "duration": 4,
    "start_time": "2022-06-02T10:53:49.671Z"
   },
   {
    "duration": 50,
    "start_time": "2022-06-02T10:53:49.676Z"
   },
   {
    "duration": 9,
    "start_time": "2022-06-02T10:53:49.729Z"
   },
   {
    "duration": 20,
    "start_time": "2022-06-02T10:53:49.741Z"
   },
   {
    "duration": 17,
    "start_time": "2022-06-02T10:53:49.764Z"
   },
   {
    "duration": 864,
    "start_time": "2022-06-02T10:53:49.783Z"
   },
   {
    "duration": 80948,
    "start_time": "2022-06-02T10:53:50.649Z"
   },
   {
    "duration": 27,
    "start_time": "2022-06-02T10:55:11.601Z"
   },
   {
    "duration": 62,
    "start_time": "2022-06-02T10:55:11.630Z"
   },
   {
    "duration": 1756,
    "start_time": "2022-06-02T10:55:11.695Z"
   },
   {
    "duration": 26,
    "start_time": "2022-06-02T10:55:13.460Z"
   },
   {
    "duration": 423,
    "start_time": "2022-06-02T10:55:13.487Z"
   },
   {
    "duration": 57,
    "start_time": "2022-06-02T10:55:13.911Z"
   },
   {
    "duration": 3,
    "start_time": "2022-06-02T10:55:13.970Z"
   },
   {
    "duration": 93,
    "start_time": "2022-06-02T11:23:15.920Z"
   },
   {
    "duration": 7430,
    "start_time": "2022-06-02T11:23:46.175Z"
   },
   {
    "duration": 2678,
    "start_time": "2022-06-02T11:23:53.608Z"
   },
   {
    "duration": 37,
    "start_time": "2022-06-02T11:23:56.288Z"
   },
   {
    "duration": 28,
    "start_time": "2022-06-02T11:23:56.333Z"
   },
   {
    "duration": 41,
    "start_time": "2022-06-02T11:23:56.365Z"
   },
   {
    "duration": 40,
    "start_time": "2022-06-02T11:23:56.408Z"
   },
   {
    "duration": 9,
    "start_time": "2022-06-02T11:23:56.451Z"
   },
   {
    "duration": 46,
    "start_time": "2022-06-02T11:23:56.461Z"
   },
   {
    "duration": 7,
    "start_time": "2022-06-02T11:23:56.509Z"
   },
   {
    "duration": 14,
    "start_time": "2022-06-02T11:23:56.518Z"
   },
   {
    "duration": 21,
    "start_time": "2022-06-02T11:23:56.538Z"
   },
   {
    "duration": 709,
    "start_time": "2022-06-02T11:23:56.561Z"
   },
   {
    "duration": 70824,
    "start_time": "2022-06-02T11:23:57.272Z"
   },
   {
    "duration": 12,
    "start_time": "2022-06-02T11:25:08.100Z"
   },
   {
    "duration": 36,
    "start_time": "2022-06-02T11:25:08.129Z"
   },
   {
    "duration": 1642,
    "start_time": "2022-06-02T11:25:08.167Z"
   },
   {
    "duration": 33,
    "start_time": "2022-06-02T11:25:09.811Z"
   },
   {
    "duration": 367,
    "start_time": "2022-06-02T11:25:09.845Z"
   },
   {
    "duration": 44,
    "start_time": "2022-06-02T11:25:10.214Z"
   },
   {
    "duration": 3,
    "start_time": "2022-06-02T11:25:10.260Z"
   },
   {
    "duration": 8860,
    "start_time": "2022-06-02T11:25:10.266Z"
   },
   {
    "duration": 44,
    "start_time": "2022-06-02T11:39:30.126Z"
   },
   {
    "duration": 5300,
    "start_time": "2022-06-02T11:39:39.633Z"
   },
   {
    "duration": 819,
    "start_time": "2022-06-02T11:39:44.935Z"
   },
   {
    "duration": 42,
    "start_time": "2022-06-02T11:39:45.757Z"
   },
   {
    "duration": 41,
    "start_time": "2022-06-02T11:39:45.802Z"
   },
   {
    "duration": 46,
    "start_time": "2022-06-02T11:39:45.847Z"
   },
   {
    "duration": 11,
    "start_time": "2022-06-02T11:39:45.896Z"
   },
   {
    "duration": 8,
    "start_time": "2022-06-02T11:39:45.925Z"
   },
   {
    "duration": 62,
    "start_time": "2022-06-02T11:39:45.936Z"
   },
   {
    "duration": 8,
    "start_time": "2022-06-02T11:39:46.001Z"
   },
   {
    "duration": 30,
    "start_time": "2022-06-02T11:39:46.011Z"
   },
   {
    "duration": 8,
    "start_time": "2022-06-02T11:39:46.043Z"
   },
   {
    "duration": 569,
    "start_time": "2022-06-02T11:39:46.052Z"
   },
   {
    "duration": 68335,
    "start_time": "2022-06-02T11:39:46.625Z"
   },
   {
    "duration": 9,
    "start_time": "2022-06-02T11:40:54.962Z"
   },
   {
    "duration": 60,
    "start_time": "2022-06-02T11:40:54.973Z"
   },
   {
    "duration": 1643,
    "start_time": "2022-06-02T11:40:55.035Z"
   },
   {
    "duration": 21,
    "start_time": "2022-06-02T11:40:56.681Z"
   },
   {
    "duration": 371,
    "start_time": "2022-06-02T11:40:56.705Z"
   },
   {
    "duration": 33,
    "start_time": "2022-06-02T11:40:57.078Z"
   },
   {
    "duration": 13,
    "start_time": "2022-06-02T11:40:57.113Z"
   },
   {
    "duration": 11803,
    "start_time": "2022-06-02T11:40:57.139Z"
   },
   {
    "duration": 7,
    "start_time": "2022-06-02T11:44:46.568Z"
   },
   {
    "duration": 108545,
    "start_time": "2022-06-02T11:44:52.024Z"
   },
   {
    "duration": 155163,
    "start_time": "2022-06-02T11:49:14.178Z"
   },
   {
    "duration": 39,
    "start_time": "2022-06-02T11:56:17.278Z"
   },
   {
    "duration": 371,
    "start_time": "2022-06-02T11:59:40.040Z"
   },
   {
    "duration": 202,
    "start_time": "2022-06-02T11:59:59.216Z"
   },
   {
    "duration": 6914,
    "start_time": "2022-06-02T12:00:03.318Z"
   },
   {
    "duration": 6034,
    "start_time": "2022-06-02T12:00:22.627Z"
   },
   {
    "duration": 14,
    "start_time": "2022-06-02T12:00:30.676Z"
   },
   {
    "duration": 765,
    "start_time": "2022-06-02T12:00:31.082Z"
   },
   {
    "duration": 34,
    "start_time": "2022-06-02T12:00:31.850Z"
   },
   {
    "duration": 12,
    "start_time": "2022-06-02T12:00:31.887Z"
   },
   {
    "duration": 57,
    "start_time": "2022-06-02T12:00:31.900Z"
   },
   {
    "duration": 12,
    "start_time": "2022-06-02T12:00:31.959Z"
   },
   {
    "duration": 3,
    "start_time": "2022-06-02T12:00:33.097Z"
   },
   {
    "duration": 38,
    "start_time": "2022-06-02T12:00:33.279Z"
   },
   {
    "duration": 7,
    "start_time": "2022-06-02T12:00:33.532Z"
   },
   {
    "duration": 6,
    "start_time": "2022-06-02T12:00:35.376Z"
   },
   {
    "duration": 3,
    "start_time": "2022-06-02T12:00:36.332Z"
   },
   {
    "duration": 520,
    "start_time": "2022-06-02T12:00:37.343Z"
   },
   {
    "duration": 63055,
    "start_time": "2022-06-02T12:00:38.341Z"
   },
   {
    "duration": 9,
    "start_time": "2022-06-02T12:01:41.398Z"
   },
   {
    "duration": 48,
    "start_time": "2022-06-02T12:01:41.409Z"
   },
   {
    "duration": 1668,
    "start_time": "2022-06-02T12:01:41.459Z"
   },
   {
    "duration": 22,
    "start_time": "2022-06-02T12:01:43.129Z"
   },
   {
    "duration": 357,
    "start_time": "2022-06-02T12:01:43.153Z"
   },
   {
    "duration": 37,
    "start_time": "2022-06-02T12:01:51.876Z"
   },
   {
    "duration": 3,
    "start_time": "2022-06-02T12:01:54.440Z"
   },
   {
    "duration": 9131,
    "start_time": "2022-06-02T12:01:56.996Z"
   },
   {
    "duration": 386,
    "start_time": "2022-06-02T12:02:16.616Z"
   },
   {
    "duration": 67,
    "start_time": "2022-06-02T12:02:40.001Z"
   },
   {
    "duration": 63,
    "start_time": "2022-06-02T12:03:07.381Z"
   },
   {
    "duration": 922,
    "start_time": "2022-06-02T12:03:21.211Z"
   },
   {
    "duration": 2192940,
    "start_time": "2022-06-02T12:06:21.718Z"
   },
   {
    "duration": 9,
    "start_time": "2022-06-02T12:43:38.383Z"
   },
   {
    "duration": 26,
    "start_time": "2022-06-02T12:43:57.053Z"
   },
   {
    "duration": 9,
    "start_time": "2022-06-02T12:44:03.390Z"
   },
   {
    "duration": 44,
    "start_time": "2022-06-02T12:44:17.999Z"
   },
   {
    "duration": 34,
    "start_time": "2022-06-02T12:45:10.411Z"
   },
   {
    "duration": 5,
    "start_time": "2022-06-02T12:45:22.118Z"
   },
   {
    "duration": 34,
    "start_time": "2022-06-02T12:45:56.423Z"
   },
   {
    "duration": 25,
    "start_time": "2022-06-02T12:46:20.731Z"
   },
   {
    "duration": 31,
    "start_time": "2022-06-02T12:46:38.723Z"
   },
   {
    "duration": 32,
    "start_time": "2022-06-02T12:46:44.615Z"
   },
   {
    "duration": 26,
    "start_time": "2022-06-02T12:46:54.040Z"
   },
   {
    "duration": 25,
    "start_time": "2022-06-02T12:47:02.840Z"
   },
   {
    "duration": 8,
    "start_time": "2022-06-02T12:47:07.337Z"
   },
   {
    "duration": 27,
    "start_time": "2022-06-02T12:47:14.179Z"
   },
   {
    "duration": 25,
    "start_time": "2022-06-02T12:47:21.641Z"
   },
   {
    "duration": 8,
    "start_time": "2022-06-02T12:48:28.319Z"
   },
   {
    "duration": 7,
    "start_time": "2022-06-02T12:48:43.394Z"
   },
   {
    "duration": 43,
    "start_time": "2022-06-02T12:48:45.801Z"
   },
   {
    "duration": 32,
    "start_time": "2022-06-02T12:52:38.636Z"
   },
   {
    "duration": 0,
    "start_time": "2022-06-02T12:56:19.260Z"
   },
   {
    "duration": 0,
    "start_time": "2022-06-02T12:56:19.262Z"
   },
   {
    "duration": 0,
    "start_time": "2022-06-02T12:56:19.275Z"
   },
   {
    "duration": 0,
    "start_time": "2022-06-02T12:56:19.276Z"
   },
   {
    "duration": 162001,
    "start_time": "2022-06-02T12:59:04.661Z"
   },
   {
    "duration": 0,
    "start_time": "2022-06-02T13:01:46.663Z"
   },
   {
    "duration": 0,
    "start_time": "2022-06-02T13:01:46.665Z"
   },
   {
    "duration": 0,
    "start_time": "2022-06-02T13:01:46.666Z"
   },
   {
    "duration": 58,
    "start_time": "2022-06-03T06:20:05.486Z"
   },
   {
    "duration": 5535,
    "start_time": "2022-06-03T06:20:12.014Z"
   },
   {
    "duration": 2165,
    "start_time": "2022-06-03T06:20:17.550Z"
   },
   {
    "duration": 29,
    "start_time": "2022-06-03T06:20:19.717Z"
   },
   {
    "duration": 13,
    "start_time": "2022-06-03T06:20:19.748Z"
   },
   {
    "duration": 21,
    "start_time": "2022-06-03T06:20:19.763Z"
   },
   {
    "duration": 10,
    "start_time": "2022-06-03T06:20:19.786Z"
   },
   {
    "duration": 3,
    "start_time": "2022-06-03T06:20:19.893Z"
   },
   {
    "duration": 29,
    "start_time": "2022-06-03T06:20:21.514Z"
   },
   {
    "duration": 6,
    "start_time": "2022-06-03T06:20:22.441Z"
   },
   {
    "duration": 4,
    "start_time": "2022-06-03T06:22:13.960Z"
   },
   {
    "duration": 4,
    "start_time": "2022-06-03T06:22:14.339Z"
   },
   {
    "duration": 704,
    "start_time": "2022-06-03T06:22:14.750Z"
   },
   {
    "duration": 137869,
    "start_time": "2022-06-03T06:22:19.052Z"
   },
   {
    "duration": 7,
    "start_time": "2022-06-03T06:24:36.924Z"
   },
   {
    "duration": 2,
    "start_time": "2022-06-03T06:27:22.380Z"
   },
   {
    "duration": 2,
    "start_time": "2022-06-03T06:27:31.657Z"
   },
   {
    "duration": 58,
    "start_time": "2022-06-03T06:27:32.188Z"
   },
   {
    "duration": 328,
    "start_time": "2022-06-03T06:29:43.854Z"
   },
   {
    "duration": 222,
    "start_time": "2022-06-03T06:30:14.617Z"
   },
   {
    "duration": 268,
    "start_time": "2022-06-03T06:30:30.513Z"
   },
   {
    "duration": 275,
    "start_time": "2022-06-03T06:30:39.130Z"
   },
   {
    "duration": 257,
    "start_time": "2022-06-03T06:31:19.092Z"
   },
   {
    "duration": 1704,
    "start_time": "2022-06-03T06:33:02.085Z"
   },
   {
    "duration": 23,
    "start_time": "2022-06-03T06:42:55.757Z"
   },
   {
    "duration": 1702,
    "start_time": "2022-06-03T06:43:06.596Z"
   },
   {
    "duration": 706,
    "start_time": "2022-06-03T06:43:33.088Z"
   },
   {
    "duration": 28,
    "start_time": "2022-06-03T06:43:37.636Z"
   },
   {
    "duration": 7,
    "start_time": "2022-06-03T06:43:42.195Z"
   },
   {
    "duration": 26,
    "start_time": "2022-06-03T06:43:49.396Z"
   },
   {
    "duration": 8,
    "start_time": "2022-06-03T06:43:52.396Z"
   },
   {
    "duration": 39,
    "start_time": "2022-06-03T06:44:08.586Z"
   },
   {
    "duration": 7,
    "start_time": "2022-06-03T06:44:09.030Z"
   },
   {
    "duration": 4,
    "start_time": "2022-06-03T06:45:03.704Z"
   },
   {
    "duration": 3,
    "start_time": "2022-06-03T06:45:04.084Z"
   },
   {
    "duration": 425,
    "start_time": "2022-06-03T06:45:04.449Z"
   },
   {
    "duration": 57806,
    "start_time": "2022-06-03T06:45:06.634Z"
   },
   {
    "duration": 16,
    "start_time": "2022-06-03T06:46:04.441Z"
   },
   {
    "duration": 36,
    "start_time": "2022-06-03T06:46:04.458Z"
   },
   {
    "duration": 2,
    "start_time": "2022-06-03T06:46:04.496Z"
   },
   {
    "duration": 263,
    "start_time": "2022-06-03T06:46:04.500Z"
   },
   {
    "duration": 1227,
    "start_time": "2022-06-03T06:46:04.765Z"
   },
   {
    "duration": 438,
    "start_time": "2022-06-03T06:46:30.407Z"
   },
   {
    "duration": 94,
    "start_time": "2022-06-03T06:46:52.558Z"
   },
   {
    "duration": 252,
    "start_time": "2022-06-03T06:46:54.308Z"
   },
   {
    "duration": 1633,
    "start_time": "2022-06-03T06:48:10.130Z"
   },
   {
    "duration": 1221,
    "start_time": "2022-06-03T06:48:35.195Z"
   },
   {
    "duration": 3,
    "start_time": "2022-06-03T06:49:03.569Z"
   },
   {
    "duration": 3,
    "start_time": "2022-06-03T06:49:06.200Z"
   },
   {
    "duration": 1422,
    "start_time": "2022-06-03T06:49:35.510Z"
   },
   {
    "duration": 10,
    "start_time": "2022-06-03T06:53:28.294Z"
   },
   {
    "duration": 346,
    "start_time": "2022-06-03T06:53:28.680Z"
   },
   {
    "duration": 3,
    "start_time": "2022-06-03T06:55:33.402Z"
   },
   {
    "duration": 4,
    "start_time": "2022-06-03T07:00:18.226Z"
   },
   {
    "duration": 334,
    "start_time": "2022-06-03T07:01:24.889Z"
   },
   {
    "duration": 4,
    "start_time": "2022-06-03T07:01:42.955Z"
   },
   {
    "duration": 1499,
    "start_time": "2022-06-03T07:01:43.387Z"
   },
   {
    "duration": 2342,
    "start_time": "2022-06-03T07:02:21.826Z"
   },
   {
    "duration": 4929,
    "start_time": "2022-06-03T10:09:01.176Z"
   },
   {
    "duration": 6221,
    "start_time": "2022-06-03T10:09:12.403Z"
   },
   {
    "duration": 10,
    "start_time": "2022-06-03T10:10:23.436Z"
   },
   {
    "duration": 7,
    "start_time": "2022-06-03T10:28:14.091Z"
   },
   {
    "duration": 2227,
    "start_time": "2022-06-03T10:28:14.385Z"
   },
   {
    "duration": 27,
    "start_time": "2022-06-03T10:28:16.614Z"
   },
   {
    "duration": 11,
    "start_time": "2022-06-03T10:28:16.643Z"
   },
   {
    "duration": 23,
    "start_time": "2022-06-03T10:28:16.656Z"
   },
   {
    "duration": 46,
    "start_time": "2022-06-03T10:28:16.681Z"
   },
   {
    "duration": 3,
    "start_time": "2022-06-03T10:28:16.728Z"
   },
   {
    "duration": 36,
    "start_time": "2022-06-03T10:28:16.732Z"
   },
   {
    "duration": 6,
    "start_time": "2022-06-03T10:28:18.760Z"
   },
   {
    "duration": 4,
    "start_time": "2022-06-03T10:28:20.044Z"
   },
   {
    "duration": 3,
    "start_time": "2022-06-03T10:28:20.361Z"
   },
   {
    "duration": 457,
    "start_time": "2022-06-03T10:28:20.578Z"
   },
   {
    "duration": 56335,
    "start_time": "2022-06-03T10:28:21.037Z"
   },
   {
    "duration": 7,
    "start_time": "2022-06-03T10:29:17.373Z"
   },
   {
    "duration": 80,
    "start_time": "2022-06-03T10:29:30.995Z"
   },
   {
    "duration": 1682,
    "start_time": "2022-06-03T10:29:31.329Z"
   },
   {
    "duration": 1081,
    "start_time": "2022-06-03T10:29:33.013Z"
   },
   {
    "duration": 15,
    "start_time": "2022-06-03T10:29:34.626Z"
   },
   {
    "duration": 354,
    "start_time": "2022-06-03T10:29:35.038Z"
   },
   {
    "duration": 4,
    "start_time": "2022-06-03T10:29:39.659Z"
   },
   {
    "duration": 1429,
    "start_time": "2022-06-03T10:29:40.092Z"
   },
   {
    "duration": 2151,
    "start_time": "2022-06-03T10:29:41.523Z"
   },
   {
    "duration": 28,
    "start_time": "2022-06-03T10:30:12.788Z"
   },
   {
    "duration": 31,
    "start_time": "2022-06-03T10:30:21.797Z"
   },
   {
    "duration": 4,
    "start_time": "2022-06-03T10:30:28.137Z"
   },
   {
    "duration": 36,
    "start_time": "2022-06-03T10:31:11.341Z"
   },
   {
    "duration": 10,
    "start_time": "2022-06-03T10:31:29.287Z"
   },
   {
    "duration": 12339,
    "start_time": "2022-06-03T10:38:50.493Z"
   },
   {
    "duration": 55,
    "start_time": "2022-06-03T10:41:18.447Z"
   },
   {
    "duration": 5055,
    "start_time": "2022-06-03T10:41:35.227Z"
   },
   {
    "duration": 19,
    "start_time": "2022-06-03T10:41:42.682Z"
   },
   {
    "duration": 2246,
    "start_time": "2022-06-03T10:41:55.845Z"
   },
   {
    "duration": 33,
    "start_time": "2022-06-03T10:41:58.093Z"
   },
   {
    "duration": 9,
    "start_time": "2022-06-03T10:41:58.128Z"
   },
   {
    "duration": 33,
    "start_time": "2022-06-03T10:41:58.140Z"
   },
   {
    "duration": 8,
    "start_time": "2022-06-03T10:41:58.175Z"
   },
   {
    "duration": 4,
    "start_time": "2022-06-03T10:41:58.185Z"
   },
   {
    "duration": 39,
    "start_time": "2022-06-03T10:41:58.190Z"
   },
   {
    "duration": 22,
    "start_time": "2022-06-03T10:41:58.230Z"
   },
   {
    "duration": 4,
    "start_time": "2022-06-03T10:42:00.117Z"
   },
   {
    "duration": 4,
    "start_time": "2022-06-03T10:42:00.381Z"
   },
   {
    "duration": 501,
    "start_time": "2022-06-03T10:42:00.587Z"
   },
   {
    "duration": 60127,
    "start_time": "2022-06-03T10:42:01.412Z"
   },
   {
    "duration": 17,
    "start_time": "2022-06-03T10:43:01.541Z"
   },
   {
    "duration": 123,
    "start_time": "2022-06-03T10:43:01.560Z"
   },
   {
    "duration": 1752,
    "start_time": "2022-06-03T10:43:01.686Z"
   },
   {
    "duration": 1125,
    "start_time": "2022-06-03T10:43:03.439Z"
   },
   {
    "duration": 20,
    "start_time": "2022-06-03T10:43:04.565Z"
   },
   {
    "duration": 707,
    "start_time": "2022-06-03T10:43:04.587Z"
   },
   {
    "duration": 5,
    "start_time": "2022-06-03T10:43:05.296Z"
   },
   {
    "duration": 1617,
    "start_time": "2022-06-03T10:43:05.303Z"
   },
   {
    "duration": 1776,
    "start_time": "2022-06-03T10:43:06.923Z"
   },
   {
    "duration": 26,
    "start_time": "2022-06-03T10:43:08.701Z"
   },
   {
    "duration": 3,
    "start_time": "2022-06-03T10:43:08.729Z"
   },
   {
    "duration": 15038,
    "start_time": "2022-06-03T10:45:34.821Z"
   },
   {
    "duration": 2953926,
    "start_time": "2022-06-03T10:47:46.532Z"
   },
   {
    "duration": 7,
    "start_time": "2022-06-03T11:37:00.461Z"
   },
   {
    "duration": 8,
    "start_time": "2022-06-03T11:44:24.310Z"
   },
   {
    "duration": 381,
    "start_time": "2022-06-03T11:44:26.945Z"
   },
   {
    "duration": 31,
    "start_time": "2022-06-03T11:44:42.671Z"
   },
   {
    "duration": 20,
    "start_time": "2022-06-03T11:45:03.270Z"
   },
   {
    "duration": 233721,
    "start_time": "2022-06-03T11:45:10.374Z"
   },
   {
    "duration": 11,
    "start_time": "2022-06-03T11:49:04.097Z"
   },
   {
    "duration": 320,
    "start_time": "2022-06-03T11:49:04.110Z"
   },
   {
    "duration": 166,
    "start_time": "2022-06-03T11:49:04.432Z"
   },
   {
    "duration": 16,
    "start_time": "2022-06-03T11:49:04.600Z"
   },
   {
    "duration": 7106,
    "start_time": "2022-06-04T05:44:55.304Z"
   },
   {
    "duration": 5997,
    "start_time": "2022-06-04T05:45:13.702Z"
   },
   {
    "duration": 2271,
    "start_time": "2022-06-04T05:45:29.370Z"
   },
   {
    "duration": 30,
    "start_time": "2022-06-04T05:45:31.643Z"
   },
   {
    "duration": 10,
    "start_time": "2022-06-04T05:45:31.674Z"
   },
   {
    "duration": 2,
    "start_time": "2022-06-04T05:45:51.847Z"
   },
   {
    "duration": 8,
    "start_time": "2022-06-04T05:45:54.470Z"
   },
   {
    "duration": 3,
    "start_time": "2022-06-04T05:46:05.232Z"
   },
   {
    "duration": 35,
    "start_time": "2022-06-04T05:46:05.829Z"
   },
   {
    "duration": 8,
    "start_time": "2022-06-04T05:46:12.676Z"
   },
   {
    "duration": 6,
    "start_time": "2022-06-04T05:46:13.076Z"
   },
   {
    "duration": 2,
    "start_time": "2022-06-04T05:46:25.786Z"
   },
   {
    "duration": 5,
    "start_time": "2022-06-04T05:46:28.424Z"
   },
   {
    "duration": 4,
    "start_time": "2022-06-04T05:46:32.802Z"
   },
   {
    "duration": 616,
    "start_time": "2022-06-04T05:46:33.901Z"
   },
   {
    "duration": 133083,
    "start_time": "2022-06-04T05:46:37.148Z"
   },
   {
    "duration": 7,
    "start_time": "2022-06-04T05:48:50.233Z"
   },
   {
    "duration": 121,
    "start_time": "2022-06-04T05:48:50.242Z"
   },
   {
    "duration": 1255,
    "start_time": "2022-06-04T05:48:50.365Z"
   },
   {
    "duration": 1471,
    "start_time": "2022-06-04T05:48:51.621Z"
   },
   {
    "duration": 34,
    "start_time": "2022-06-04T05:48:53.094Z"
   },
   {
    "duration": 307,
    "start_time": "2022-06-04T05:48:53.129Z"
   },
   {
    "duration": 3,
    "start_time": "2022-06-04T05:48:53.437Z"
   },
   {
    "duration": 3315,
    "start_time": "2022-06-04T05:48:53.442Z"
   },
   {
    "duration": 2455,
    "start_time": "2022-06-04T05:48:56.760Z"
   },
   {
    "duration": 133,
    "start_time": "2022-06-04T05:50:12.009Z"
   },
   {
    "duration": 119,
    "start_time": "2022-06-04T05:51:29.978Z"
   },
   {
    "duration": 97,
    "start_time": "2022-06-04T05:52:02.349Z"
   },
   {
    "duration": 108,
    "start_time": "2022-06-04T05:52:28.798Z"
   },
   {
    "duration": 4,
    "start_time": "2022-06-04T05:52:45.791Z"
   },
   {
    "duration": 40936,
    "start_time": "2022-06-04T05:53:06.492Z"
   },
   {
    "duration": 171,
    "start_time": "2022-06-04T05:54:05.170Z"
   },
   {
    "duration": 69718,
    "start_time": "2022-06-04T05:54:06.924Z"
   },
   {
    "duration": 10,
    "start_time": "2022-06-04T05:56:45.369Z"
   },
   {
    "duration": 64731,
    "start_time": "2022-06-04T05:56:46.610Z"
   },
   {
    "duration": 49872,
    "start_time": "2022-06-04T05:58:26.470Z"
   },
   {
    "duration": 3,
    "start_time": "2022-06-04T06:01:07.817Z"
   },
   {
    "duration": 6716,
    "start_time": "2022-06-04T06:05:29.819Z"
   },
   {
    "duration": 2213,
    "start_time": "2022-06-04T06:05:36.537Z"
   },
   {
    "duration": 31,
    "start_time": "2022-06-04T06:05:38.752Z"
   },
   {
    "duration": 18,
    "start_time": "2022-06-04T06:05:38.784Z"
   },
   {
    "duration": 3,
    "start_time": "2022-06-04T06:05:40.576Z"
   },
   {
    "duration": 8,
    "start_time": "2022-06-04T06:05:41.070Z"
   },
   {
    "duration": 3,
    "start_time": "2022-06-04T06:05:41.746Z"
   },
   {
    "duration": 6,
    "start_time": "2022-06-04T06:05:41.949Z"
   },
   {
    "duration": 3,
    "start_time": "2022-06-04T06:05:42.169Z"
   },
   {
    "duration": 4,
    "start_time": "2022-06-04T06:05:46.902Z"
   },
   {
    "duration": 3,
    "start_time": "2022-06-04T06:05:48.644Z"
   },
   {
    "duration": 643,
    "start_time": "2022-06-04T06:05:49.936Z"
   },
   {
    "duration": 140133,
    "start_time": "2022-06-04T06:05:51.823Z"
   },
   {
    "duration": 9,
    "start_time": "2022-06-04T06:08:11.959Z"
   },
   {
    "duration": 120,
    "start_time": "2022-06-04T06:08:11.970Z"
   },
   {
    "duration": 1591,
    "start_time": "2022-06-04T06:08:12.093Z"
   },
   {
    "duration": 28,
    "start_time": "2022-06-04T06:08:13.686Z"
   },
   {
    "duration": 343,
    "start_time": "2022-06-04T06:08:13.716Z"
   },
   {
    "duration": 3,
    "start_time": "2022-06-04T06:08:14.061Z"
   },
   {
    "duration": 3502,
    "start_time": "2022-06-04T06:08:14.066Z"
   },
   {
    "duration": 2648,
    "start_time": "2022-06-04T06:08:17.570Z"
   },
   {
    "duration": 100,
    "start_time": "2022-06-04T06:08:20.220Z"
   },
   {
    "duration": 3,
    "start_time": "2022-06-04T06:08:20.327Z"
   },
   {
    "duration": 53001,
    "start_time": "2022-06-04T06:08:20.332Z"
   },
   {
    "duration": 27193,
    "start_time": "2022-06-04T06:21:16.268Z"
   },
   {
    "duration": 2222,
    "start_time": "2022-06-04T06:21:43.463Z"
   },
   {
    "duration": 29,
    "start_time": "2022-06-04T06:21:45.686Z"
   },
   {
    "duration": 9,
    "start_time": "2022-06-04T06:21:45.717Z"
   },
   {
    "duration": 3,
    "start_time": "2022-06-04T06:21:45.728Z"
   },
   {
    "duration": 11,
    "start_time": "2022-06-04T06:21:45.732Z"
   },
   {
    "duration": 3,
    "start_time": "2022-06-04T06:21:45.744Z"
   },
   {
    "duration": 14,
    "start_time": "2022-06-04T06:21:45.748Z"
   },
   {
    "duration": 2,
    "start_time": "2022-06-04T06:21:45.763Z"
   },
   {
    "duration": 10,
    "start_time": "2022-06-04T06:21:45.767Z"
   },
   {
    "duration": 12,
    "start_time": "2022-06-04T06:21:45.778Z"
   },
   {
    "duration": 640,
    "start_time": "2022-06-04T06:21:45.791Z"
   },
   {
    "duration": 130408,
    "start_time": "2022-06-04T06:21:46.433Z"
   },
   {
    "duration": 8,
    "start_time": "2022-06-04T06:23:56.842Z"
   },
   {
    "duration": 124,
    "start_time": "2022-06-04T06:23:56.851Z"
   },
   {
    "duration": 1464,
    "start_time": "2022-06-04T06:23:56.977Z"
   },
   {
    "duration": 24,
    "start_time": "2022-06-04T06:23:58.442Z"
   },
   {
    "duration": 301,
    "start_time": "2022-06-04T06:23:58.468Z"
   },
   {
    "duration": 3,
    "start_time": "2022-06-04T06:23:58.770Z"
   },
   {
    "duration": 3352,
    "start_time": "2022-06-04T06:23:58.775Z"
   },
   {
    "duration": 2565,
    "start_time": "2022-06-04T06:24:02.129Z"
   },
   {
    "duration": 114,
    "start_time": "2022-06-04T06:24:04.696Z"
   },
   {
    "duration": 4,
    "start_time": "2022-06-04T06:24:04.812Z"
   },
   {
    "duration": 50922,
    "start_time": "2022-06-04T06:24:04.817Z"
   },
   {
    "duration": 44,
    "start_time": "2022-06-04T06:24:55.742Z"
   },
   {
    "duration": 6,
    "start_time": "2022-06-04T06:26:34.269Z"
   },
   {
    "duration": 395,
    "start_time": "2022-06-04T06:26:48.895Z"
   },
   {
    "duration": 25,
    "start_time": "2022-06-04T06:26:57.478Z"
   },
   {
    "duration": 26,
    "start_time": "2022-06-04T06:27:02.646Z"
   },
   {
    "duration": 6,
    "start_time": "2022-06-04T06:27:06.528Z"
   },
   {
    "duration": 27,
    "start_time": "2022-06-04T06:27:17.947Z"
   },
   {
    "duration": 21,
    "start_time": "2022-06-04T06:27:22.592Z"
   },
   {
    "duration": 23,
    "start_time": "2022-06-04T06:27:38.311Z"
   },
   {
    "duration": 13,
    "start_time": "2022-06-04T06:27:53.744Z"
   },
   {
    "duration": 9,
    "start_time": "2022-06-04T06:28:04.675Z"
   },
   {
    "duration": 14,
    "start_time": "2022-06-04T06:28:47.895Z"
   },
   {
    "duration": 14,
    "start_time": "2022-06-04T06:29:12.586Z"
   },
   {
    "duration": 38,
    "start_time": "2022-06-04T06:30:09.427Z"
   },
   {
    "duration": 15,
    "start_time": "2022-06-04T06:30:43.482Z"
   },
   {
    "duration": 11,
    "start_time": "2022-06-04T06:30:56.238Z"
   },
   {
    "duration": 10,
    "start_time": "2022-06-04T06:31:09.175Z"
   },
   {
    "duration": 9,
    "start_time": "2022-06-04T06:43:19.972Z"
   },
   {
    "duration": 11,
    "start_time": "2022-06-04T06:43:41.485Z"
   },
   {
    "duration": 10,
    "start_time": "2022-06-04T06:43:57.284Z"
   },
   {
    "duration": 9,
    "start_time": "2022-06-04T06:44:12.272Z"
   },
   {
    "duration": 14,
    "start_time": "2022-06-04T06:44:22.172Z"
   },
   {
    "duration": 15,
    "start_time": "2022-06-04T06:44:58.676Z"
   },
   {
    "duration": 9,
    "start_time": "2022-06-04T06:45:09.217Z"
   },
   {
    "duration": 25,
    "start_time": "2022-06-04T06:45:10.174Z"
   },
   {
    "duration": 10,
    "start_time": "2022-06-04T06:45:26.374Z"
   },
   {
    "duration": 11,
    "start_time": "2022-06-04T06:45:47.930Z"
   },
   {
    "duration": 9,
    "start_time": "2022-06-04T06:45:55.077Z"
   },
   {
    "duration": 9,
    "start_time": "2022-06-04T06:45:56.700Z"
   },
   {
    "duration": 35,
    "start_time": "2022-06-04T06:45:57.549Z"
   },
   {
    "duration": 15,
    "start_time": "2022-06-04T06:46:10.742Z"
   },
   {
    "duration": 12,
    "start_time": "2022-06-04T06:46:23.618Z"
   },
   {
    "duration": 12,
    "start_time": "2022-06-04T06:46:27.939Z"
   },
   {
    "duration": 12,
    "start_time": "2022-06-04T06:46:41.313Z"
   },
   {
    "duration": 13,
    "start_time": "2022-06-04T06:47:00.024Z"
   },
   {
    "duration": 13,
    "start_time": "2022-06-04T06:47:08.263Z"
   },
   {
    "duration": 10,
    "start_time": "2022-06-04T06:47:24.575Z"
   },
   {
    "duration": 9,
    "start_time": "2022-06-04T06:47:32.472Z"
   },
   {
    "duration": 10,
    "start_time": "2022-06-04T06:47:43.329Z"
   },
   {
    "duration": 11,
    "start_time": "2022-06-04T06:47:59.929Z"
   },
   {
    "duration": 33,
    "start_time": "2022-06-04T06:48:11.229Z"
   },
   {
    "duration": 9,
    "start_time": "2022-06-04T06:48:16.558Z"
   },
   {
    "duration": 18,
    "start_time": "2022-06-04T06:48:17.531Z"
   },
   {
    "duration": 10,
    "start_time": "2022-06-04T06:48:22.425Z"
   },
   {
    "duration": 26,
    "start_time": "2022-06-04T06:48:24.293Z"
   },
   {
    "duration": 11,
    "start_time": "2022-06-04T06:48:30.971Z"
   },
   {
    "duration": 25,
    "start_time": "2022-06-04T06:48:31.612Z"
   },
   {
    "duration": 12,
    "start_time": "2022-06-04T06:48:36.323Z"
   },
   {
    "duration": 17,
    "start_time": "2022-06-04T06:48:38.110Z"
   },
   {
    "duration": 10,
    "start_time": "2022-06-04T06:48:43.971Z"
   },
   {
    "duration": 18,
    "start_time": "2022-06-04T06:48:44.682Z"
   },
   {
    "duration": 9,
    "start_time": "2022-06-04T06:48:50.177Z"
   },
   {
    "duration": 17,
    "start_time": "2022-06-04T06:48:50.474Z"
   },
   {
    "duration": 10,
    "start_time": "2022-06-04T06:48:54.457Z"
   },
   {
    "duration": 17,
    "start_time": "2022-06-04T06:48:54.872Z"
   },
   {
    "duration": 5,
    "start_time": "2022-06-04T06:50:27.986Z"
   },
   {
    "duration": 5,
    "start_time": "2022-06-04T06:50:49.655Z"
   },
   {
    "duration": 6,
    "start_time": "2022-06-04T07:00:11.572Z"
   },
   {
    "duration": 302,
    "start_time": "2022-06-04T07:00:27.773Z"
   },
   {
    "duration": 325,
    "start_time": "2022-06-04T07:02:42.059Z"
   },
   {
    "duration": 472,
    "start_time": "2022-06-04T07:04:21.023Z"
   },
   {
    "duration": 33,
    "start_time": "2022-06-04T07:05:26.160Z"
   },
   {
    "duration": 3,
    "start_time": "2022-06-04T07:10:55.223Z"
   },
   {
    "duration": 274955,
    "start_time": "2022-06-04T07:10:56.772Z"
   },
   {
    "duration": 1201,
    "start_time": "2022-06-04T07:15:31.729Z"
   },
   {
    "duration": 1153,
    "start_time": "2022-06-04T07:18:38.792Z"
   },
   {
    "duration": 744,
    "start_time": "2022-06-04T07:19:47.531Z"
   },
   {
    "duration": 688,
    "start_time": "2022-06-04T07:19:56.075Z"
   },
   {
    "duration": 630,
    "start_time": "2022-06-04T07:20:11.705Z"
   },
   {
    "duration": 726,
    "start_time": "2022-06-04T07:20:15.620Z"
   },
   {
    "duration": 752,
    "start_time": "2022-06-04T07:20:20.175Z"
   },
   {
    "duration": 739,
    "start_time": "2022-06-04T07:20:26.630Z"
   },
   {
    "duration": 645,
    "start_time": "2022-06-04T07:20:30.720Z"
   },
   {
    "duration": 616,
    "start_time": "2022-06-04T07:20:34.452Z"
   },
   {
    "duration": 742,
    "start_time": "2022-06-04T07:20:40.827Z"
   },
   {
    "duration": 618,
    "start_time": "2022-06-04T07:20:47.218Z"
   },
   {
    "duration": 821,
    "start_time": "2022-06-04T07:21:01.345Z"
   },
   {
    "duration": 862,
    "start_time": "2022-06-04T07:21:12.279Z"
   },
   {
    "duration": 23,
    "start_time": "2022-06-04T07:21:37.342Z"
   },
   {
    "duration": 332,
    "start_time": "2022-06-04T07:21:49.683Z"
   },
   {
    "duration": 1191,
    "start_time": "2022-06-04T07:23:46.356Z"
   },
   {
    "duration": 876,
    "start_time": "2022-06-04T07:24:10.783Z"
   },
   {
    "duration": 754,
    "start_time": "2022-06-04T07:25:58.322Z"
   },
   {
    "duration": 752,
    "start_time": "2022-06-04T07:30:50.886Z"
   },
   {
    "duration": 3,
    "start_time": "2022-06-04T07:31:26.616Z"
   },
   {
    "duration": 20,
    "start_time": "2022-06-04T07:31:59.533Z"
   },
   {
    "duration": 11,
    "start_time": "2022-06-04T07:32:07.943Z"
   },
   {
    "duration": 5,
    "start_time": "2022-06-04T07:32:25.441Z"
   },
   {
    "duration": 22,
    "start_time": "2022-06-04T07:34:03.982Z"
   },
   {
    "duration": 20,
    "start_time": "2022-06-04T07:34:13.621Z"
   },
   {
    "duration": 5,
    "start_time": "2022-06-04T07:34:21.925Z"
   },
   {
    "duration": 1258,
    "start_time": "2022-06-04T07:35:16.583Z"
   },
   {
    "duration": 826,
    "start_time": "2022-06-04T07:35:30.383Z"
   },
   {
    "duration": 708,
    "start_time": "2022-06-04T07:36:09.643Z"
   },
   {
    "duration": 680,
    "start_time": "2022-06-04T07:36:14.783Z"
   },
   {
    "duration": 707,
    "start_time": "2022-06-04T07:36:21.735Z"
   },
   {
    "duration": 22,
    "start_time": "2022-06-04T07:36:26.250Z"
   },
   {
    "duration": 653,
    "start_time": "2022-06-04T07:37:23.407Z"
   },
   {
    "duration": 272627,
    "start_time": "2022-06-04T07:39:44.200Z"
   },
   {
    "duration": 1036,
    "start_time": "2022-06-04T08:06:00.196Z"
   },
   {
    "duration": 1521,
    "start_time": "2022-06-04T08:06:39.134Z"
   },
   {
    "duration": 1338,
    "start_time": "2022-06-04T08:06:49.830Z"
   },
   {
    "duration": 590,
    "start_time": "2022-06-04T08:08:38.515Z"
   },
   {
    "duration": 2,
    "start_time": "2022-06-04T08:18:42.393Z"
   },
   {
    "duration": 1375,
    "start_time": "2022-06-04T08:18:44.633Z"
   },
   {
    "duration": 302,
    "start_time": "2022-06-04T08:19:04.217Z"
   },
   {
    "duration": 22,
    "start_time": "2022-06-04T08:19:09.201Z"
   },
   {
    "duration": 1288,
    "start_time": "2022-06-04T08:19:57.515Z"
   },
   {
    "duration": 25,
    "start_time": "2022-06-04T08:20:09.205Z"
   },
   {
    "duration": 273704,
    "start_time": "2022-06-04T08:20:17.756Z"
   },
   {
    "duration": 11,
    "start_time": "2022-06-04T08:24:51.462Z"
   },
   {
    "duration": 289,
    "start_time": "2022-06-04T08:25:28.605Z"
   },
   {
    "duration": 974,
    "start_time": "2022-06-04T08:25:30.009Z"
   },
   {
    "duration": 720,
    "start_time": "2022-06-04T08:25:35.426Z"
   },
   {
    "duration": 927,
    "start_time": "2022-06-04T08:28:18.818Z"
   },
   {
    "duration": 847,
    "start_time": "2022-06-04T08:28:54.217Z"
   },
   {
    "duration": 860,
    "start_time": "2022-06-04T08:29:02.901Z"
   },
   {
    "duration": 36,
    "start_time": "2022-06-04T08:32:51.985Z"
   }
  ],
  "kernelspec": {
   "display_name": "Python 3 (ipykernel)",
   "language": "python",
   "name": "python3"
  },
  "language_info": {
   "codemirror_mode": {
    "name": "ipython",
    "version": 3
   },
   "file_extension": ".py",
   "mimetype": "text/x-python",
   "name": "python",
   "nbconvert_exporter": "python",
   "pygments_lexer": "ipython3",
   "version": "3.10.0"
  },
  "toc": {
   "base_numbering": 1,
   "nav_menu": {},
   "number_sections": true,
   "sideBar": true,
   "skip_h1_title": true,
   "title_cell": "Содержание",
   "title_sidebar": "Contents",
   "toc_cell": true,
   "toc_position": {
    "height": "calc(100% - 180px)",
    "left": "10px",
    "top": "150px",
    "width": "302.391px"
   },
   "toc_section_display": true,
   "toc_window_display": false
  }
 },
 "nbformat": 4,
 "nbformat_minor": 2
}
