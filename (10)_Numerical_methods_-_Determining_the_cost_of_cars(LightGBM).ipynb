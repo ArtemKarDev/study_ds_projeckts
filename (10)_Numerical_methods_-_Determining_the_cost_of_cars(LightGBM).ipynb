{
 "cells": [
  {
   "cell_type": "markdown",
   "metadata": {},
   "source": [
    "# Определение стоимости автомобилей"
   ]
  },
  {
   "cell_type": "markdown",
   "metadata": {},
   "source": [
    "Сервис по продаже автомобилей с пробегом «Не бит, не крашен» разрабатывает приложение для привлечения новых клиентов. В нём можно быстро узнать рыночную стоимость своего автомобиля. В вашем распоряжении исторические данные: технические характеристики, комплектации и цены автомобилей. Вам нужно построить модель для определения стоимости. \n",
    "\n",
    "Заказчику важны:\n",
    "\n",
    "- качество предсказания;\n",
    "- скорость предсказания;\n",
    "- время обучения."
   ]
  },
  {
   "cell_type": "markdown",
   "metadata": {},
   "source": [
    "## Подготовка данных"
   ]
  },
  {
   "cell_type": "code",
   "execution_count": 1,
   "metadata": {},
   "outputs": [],
   "source": [
    "import pandas as pd\n",
    "import numpy as np\n",
    "import time\n",
    "\n",
    "import matplotlib.pyplot as plt\n",
    "import seaborn as sns\n",
    "\n",
    "from sklearn.model_selection import train_test_split\n",
    "\n",
    "#from catboost import CatBoostRegresssor\n",
    "from sklearn.model_selection import GridSearchCV\n",
    "from sklearn.tree import DecisionTreeRegressor\n",
    "from sklearn.ensemble import RandomForestRegressor\n",
    "from sklearn.linear_model import LinearRegression\n",
    "from sklearn.metrics import mean_squared_error\n",
    "from sklearn.preprocessing import OneHotEncoder\n",
    "from sklearn.preprocessing import OrdinalEncoder\n",
    "from sklearn.preprocessing import StandardScaler\n",
    "\n",
    "from lightgbm import LGBMRegressor"
   ]
  },
  {
   "cell_type": "markdown",
   "metadata": {},
   "source": [
    "<div class=\"alert alert-block alert-success\">\n",
    "<b>Успех:</b> Отлично, что все импорты собраны в первой ячейке ноутбука! Если у того, кто будет запускать твой ноутбук будут отсутствовать некоторые библиотеки, то он это увидит сразу, а не в процессе!\n",
    "</div>"
   ]
  },
  {
   "cell_type": "code",
   "execution_count": 2,
   "metadata": {},
   "outputs": [],
   "source": [
    "df = pd.read_csv('/datasets/autos.csv')"
   ]
  },
  {
   "cell_type": "code",
   "execution_count": 3,
   "metadata": {},
   "outputs": [
    {
     "name": "stdout",
     "output_type": "stream",
     "text": [
      "<class 'pandas.core.frame.DataFrame'>\n",
      "RangeIndex: 354369 entries, 0 to 354368\n",
      "Data columns (total 16 columns):\n",
      " #   Column             Non-Null Count   Dtype \n",
      "---  ------             --------------   ----- \n",
      " 0   DateCrawled        354369 non-null  object\n",
      " 1   Price              354369 non-null  int64 \n",
      " 2   VehicleType        316879 non-null  object\n",
      " 3   RegistrationYear   354369 non-null  int64 \n",
      " 4   Gearbox            334536 non-null  object\n",
      " 5   Power              354369 non-null  int64 \n",
      " 6   Model              334664 non-null  object\n",
      " 7   Kilometer          354369 non-null  int64 \n",
      " 8   RegistrationMonth  354369 non-null  int64 \n",
      " 9   FuelType           321474 non-null  object\n",
      " 10  Brand              354369 non-null  object\n",
      " 11  NotRepaired        283215 non-null  object\n",
      " 12  DateCreated        354369 non-null  object\n",
      " 13  NumberOfPictures   354369 non-null  int64 \n",
      " 14  PostalCode         354369 non-null  int64 \n",
      " 15  LastSeen           354369 non-null  object\n",
      "dtypes: int64(7), object(9)\n",
      "memory usage: 43.3+ MB\n"
     ]
    }
   ],
   "source": [
    "df.info()"
   ]
  },
  {
   "cell_type": "code",
   "execution_count": 4,
   "metadata": {},
   "outputs": [
    {
     "data": {
      "text/html": [
       "<div>\n",
       "<style scoped>\n",
       "    .dataframe tbody tr th:only-of-type {\n",
       "        vertical-align: middle;\n",
       "    }\n",
       "\n",
       "    .dataframe tbody tr th {\n",
       "        vertical-align: top;\n",
       "    }\n",
       "\n",
       "    .dataframe thead th {\n",
       "        text-align: right;\n",
       "    }\n",
       "</style>\n",
       "<table border=\"1\" class=\"dataframe\">\n",
       "  <thead>\n",
       "    <tr style=\"text-align: right;\">\n",
       "      <th></th>\n",
       "      <th>Price</th>\n",
       "      <th>RegistrationYear</th>\n",
       "      <th>Power</th>\n",
       "      <th>Kilometer</th>\n",
       "      <th>RegistrationMonth</th>\n",
       "      <th>NumberOfPictures</th>\n",
       "      <th>PostalCode</th>\n",
       "    </tr>\n",
       "  </thead>\n",
       "  <tbody>\n",
       "    <tr>\n",
       "      <th>count</th>\n",
       "      <td>354369.000000</td>\n",
       "      <td>354369.000000</td>\n",
       "      <td>354369.000000</td>\n",
       "      <td>354369.000000</td>\n",
       "      <td>354369.000000</td>\n",
       "      <td>354369.0</td>\n",
       "      <td>354369.000000</td>\n",
       "    </tr>\n",
       "    <tr>\n",
       "      <th>mean</th>\n",
       "      <td>4416.656776</td>\n",
       "      <td>2004.234448</td>\n",
       "      <td>110.094337</td>\n",
       "      <td>128211.172535</td>\n",
       "      <td>5.714645</td>\n",
       "      <td>0.0</td>\n",
       "      <td>50508.689087</td>\n",
       "    </tr>\n",
       "    <tr>\n",
       "      <th>std</th>\n",
       "      <td>4514.158514</td>\n",
       "      <td>90.227958</td>\n",
       "      <td>189.850405</td>\n",
       "      <td>37905.341530</td>\n",
       "      <td>3.726421</td>\n",
       "      <td>0.0</td>\n",
       "      <td>25783.096248</td>\n",
       "    </tr>\n",
       "    <tr>\n",
       "      <th>min</th>\n",
       "      <td>0.000000</td>\n",
       "      <td>1000.000000</td>\n",
       "      <td>0.000000</td>\n",
       "      <td>5000.000000</td>\n",
       "      <td>0.000000</td>\n",
       "      <td>0.0</td>\n",
       "      <td>1067.000000</td>\n",
       "    </tr>\n",
       "    <tr>\n",
       "      <th>25%</th>\n",
       "      <td>1050.000000</td>\n",
       "      <td>1999.000000</td>\n",
       "      <td>69.000000</td>\n",
       "      <td>125000.000000</td>\n",
       "      <td>3.000000</td>\n",
       "      <td>0.0</td>\n",
       "      <td>30165.000000</td>\n",
       "    </tr>\n",
       "    <tr>\n",
       "      <th>50%</th>\n",
       "      <td>2700.000000</td>\n",
       "      <td>2003.000000</td>\n",
       "      <td>105.000000</td>\n",
       "      <td>150000.000000</td>\n",
       "      <td>6.000000</td>\n",
       "      <td>0.0</td>\n",
       "      <td>49413.000000</td>\n",
       "    </tr>\n",
       "    <tr>\n",
       "      <th>75%</th>\n",
       "      <td>6400.000000</td>\n",
       "      <td>2008.000000</td>\n",
       "      <td>143.000000</td>\n",
       "      <td>150000.000000</td>\n",
       "      <td>9.000000</td>\n",
       "      <td>0.0</td>\n",
       "      <td>71083.000000</td>\n",
       "    </tr>\n",
       "    <tr>\n",
       "      <th>max</th>\n",
       "      <td>20000.000000</td>\n",
       "      <td>9999.000000</td>\n",
       "      <td>20000.000000</td>\n",
       "      <td>150000.000000</td>\n",
       "      <td>12.000000</td>\n",
       "      <td>0.0</td>\n",
       "      <td>99998.000000</td>\n",
       "    </tr>\n",
       "  </tbody>\n",
       "</table>\n",
       "</div>"
      ],
      "text/plain": [
       "               Price  RegistrationYear          Power      Kilometer  \\\n",
       "count  354369.000000     354369.000000  354369.000000  354369.000000   \n",
       "mean     4416.656776       2004.234448     110.094337  128211.172535   \n",
       "std      4514.158514         90.227958     189.850405   37905.341530   \n",
       "min         0.000000       1000.000000       0.000000    5000.000000   \n",
       "25%      1050.000000       1999.000000      69.000000  125000.000000   \n",
       "50%      2700.000000       2003.000000     105.000000  150000.000000   \n",
       "75%      6400.000000       2008.000000     143.000000  150000.000000   \n",
       "max     20000.000000       9999.000000   20000.000000  150000.000000   \n",
       "\n",
       "       RegistrationMonth  NumberOfPictures     PostalCode  \n",
       "count      354369.000000          354369.0  354369.000000  \n",
       "mean            5.714645               0.0   50508.689087  \n",
       "std             3.726421               0.0   25783.096248  \n",
       "min             0.000000               0.0    1067.000000  \n",
       "25%             3.000000               0.0   30165.000000  \n",
       "50%             6.000000               0.0   49413.000000  \n",
       "75%             9.000000               0.0   71083.000000  \n",
       "max            12.000000               0.0   99998.000000  "
      ]
     },
     "execution_count": 4,
     "metadata": {},
     "output_type": "execute_result"
    }
   ],
   "source": [
    "df.describe()"
   ]
  },
  {
   "cell_type": "code",
   "execution_count": 5,
   "metadata": {},
   "outputs": [
    {
     "data": {
      "text/html": [
       "<div>\n",
       "<style scoped>\n",
       "    .dataframe tbody tr th:only-of-type {\n",
       "        vertical-align: middle;\n",
       "    }\n",
       "\n",
       "    .dataframe tbody tr th {\n",
       "        vertical-align: top;\n",
       "    }\n",
       "\n",
       "    .dataframe thead th {\n",
       "        text-align: right;\n",
       "    }\n",
       "</style>\n",
       "<table border=\"1\" class=\"dataframe\">\n",
       "  <thead>\n",
       "    <tr style=\"text-align: right;\">\n",
       "      <th></th>\n",
       "      <th>DateCrawled</th>\n",
       "      <th>Price</th>\n",
       "      <th>VehicleType</th>\n",
       "      <th>RegistrationYear</th>\n",
       "      <th>Gearbox</th>\n",
       "      <th>Power</th>\n",
       "      <th>Model</th>\n",
       "      <th>Kilometer</th>\n",
       "      <th>RegistrationMonth</th>\n",
       "      <th>FuelType</th>\n",
       "      <th>Brand</th>\n",
       "      <th>NotRepaired</th>\n",
       "      <th>DateCreated</th>\n",
       "      <th>NumberOfPictures</th>\n",
       "      <th>PostalCode</th>\n",
       "      <th>LastSeen</th>\n",
       "    </tr>\n",
       "  </thead>\n",
       "  <tbody>\n",
       "    <tr>\n",
       "      <th>259691</th>\n",
       "      <td>2016-04-04 08:56:36</td>\n",
       "      <td>1499</td>\n",
       "      <td>sedan</td>\n",
       "      <td>1996</td>\n",
       "      <td>auto</td>\n",
       "      <td>150</td>\n",
       "      <td>a6</td>\n",
       "      <td>150000</td>\n",
       "      <td>2</td>\n",
       "      <td>petrol</td>\n",
       "      <td>audi</td>\n",
       "      <td>NaN</td>\n",
       "      <td>2016-04-04 00:00:00</td>\n",
       "      <td>0</td>\n",
       "      <td>49086</td>\n",
       "      <td>2016-04-06 10:16:44</td>\n",
       "    </tr>\n",
       "    <tr>\n",
       "      <th>240666</th>\n",
       "      <td>2016-03-14 11:25:21</td>\n",
       "      <td>8500</td>\n",
       "      <td>sedan</td>\n",
       "      <td>1984</td>\n",
       "      <td>manual</td>\n",
       "      <td>131</td>\n",
       "      <td>other</td>\n",
       "      <td>100000</td>\n",
       "      <td>2</td>\n",
       "      <td>petrol</td>\n",
       "      <td>fiat</td>\n",
       "      <td>no</td>\n",
       "      <td>2016-03-14 00:00:00</td>\n",
       "      <td>0</td>\n",
       "      <td>65187</td>\n",
       "      <td>2016-04-07 01:46:42</td>\n",
       "    </tr>\n",
       "    <tr>\n",
       "      <th>96783</th>\n",
       "      <td>2016-03-07 19:51:13</td>\n",
       "      <td>8488</td>\n",
       "      <td>bus</td>\n",
       "      <td>2006</td>\n",
       "      <td>manual</td>\n",
       "      <td>140</td>\n",
       "      <td>sharan</td>\n",
       "      <td>150000</td>\n",
       "      <td>8</td>\n",
       "      <td>gasoline</td>\n",
       "      <td>volkswagen</td>\n",
       "      <td>no</td>\n",
       "      <td>2016-03-07 00:00:00</td>\n",
       "      <td>0</td>\n",
       "      <td>82515</td>\n",
       "      <td>2016-03-22 04:46:38</td>\n",
       "    </tr>\n",
       "    <tr>\n",
       "      <th>166618</th>\n",
       "      <td>2016-03-27 18:52:46</td>\n",
       "      <td>1150</td>\n",
       "      <td>bus</td>\n",
       "      <td>1996</td>\n",
       "      <td>auto</td>\n",
       "      <td>158</td>\n",
       "      <td>grand</td>\n",
       "      <td>150000</td>\n",
       "      <td>3</td>\n",
       "      <td>petrol</td>\n",
       "      <td>chrysler</td>\n",
       "      <td>yes</td>\n",
       "      <td>2016-03-27 00:00:00</td>\n",
       "      <td>0</td>\n",
       "      <td>28203</td>\n",
       "      <td>2016-04-05 17:21:01</td>\n",
       "    </tr>\n",
       "    <tr>\n",
       "      <th>10839</th>\n",
       "      <td>2016-03-24 16:45:23</td>\n",
       "      <td>699</td>\n",
       "      <td>small</td>\n",
       "      <td>1997</td>\n",
       "      <td>manual</td>\n",
       "      <td>54</td>\n",
       "      <td>micra</td>\n",
       "      <td>150000</td>\n",
       "      <td>8</td>\n",
       "      <td>petrol</td>\n",
       "      <td>nissan</td>\n",
       "      <td>no</td>\n",
       "      <td>2016-03-24 00:00:00</td>\n",
       "      <td>0</td>\n",
       "      <td>38112</td>\n",
       "      <td>2016-03-24 16:45:23</td>\n",
       "    </tr>\n",
       "  </tbody>\n",
       "</table>\n",
       "</div>"
      ],
      "text/plain": [
       "                DateCrawled  Price VehicleType  RegistrationYear Gearbox  \\\n",
       "259691  2016-04-04 08:56:36   1499       sedan              1996    auto   \n",
       "240666  2016-03-14 11:25:21   8500       sedan              1984  manual   \n",
       "96783   2016-03-07 19:51:13   8488         bus              2006  manual   \n",
       "166618  2016-03-27 18:52:46   1150         bus              1996    auto   \n",
       "10839   2016-03-24 16:45:23    699       small              1997  manual   \n",
       "\n",
       "        Power   Model  Kilometer  RegistrationMonth  FuelType       Brand  \\\n",
       "259691    150      a6     150000                  2    petrol        audi   \n",
       "240666    131   other     100000                  2    petrol        fiat   \n",
       "96783     140  sharan     150000                  8  gasoline  volkswagen   \n",
       "166618    158   grand     150000                  3    petrol    chrysler   \n",
       "10839      54   micra     150000                  8    petrol      nissan   \n",
       "\n",
       "       NotRepaired          DateCreated  NumberOfPictures  PostalCode  \\\n",
       "259691         NaN  2016-04-04 00:00:00                 0       49086   \n",
       "240666          no  2016-03-14 00:00:00                 0       65187   \n",
       "96783           no  2016-03-07 00:00:00                 0       82515   \n",
       "166618         yes  2016-03-27 00:00:00                 0       28203   \n",
       "10839           no  2016-03-24 00:00:00                 0       38112   \n",
       "\n",
       "                   LastSeen  \n",
       "259691  2016-04-06 10:16:44  \n",
       "240666  2016-04-07 01:46:42  \n",
       "96783   2016-03-22 04:46:38  \n",
       "166618  2016-04-05 17:21:01  \n",
       "10839   2016-03-24 16:45:23  "
      ]
     },
     "execution_count": 5,
     "metadata": {},
     "output_type": "execute_result"
    }
   ],
   "source": [
    "df.sample(5)"
   ]
  },
  {
   "cell_type": "code",
   "execution_count": 6,
   "metadata": {},
   "outputs": [
    {
     "name": "stdout",
     "output_type": "stream",
     "text": [
      "--VehicleType(8): \n",
      "sedan          0.288618\n",
      "small          0.251929\n",
      "wagon          0.205649\n",
      "bus            0.090808\n",
      "convertible    0.063756\n",
      "coupe          0.051007\n",
      "suv            0.037857\n",
      "other          0.010376\n",
      "Name: VehicleType, dtype: float64 \n",
      "\n",
      "--Gearbox(2): \n",
      "manual    0.80186\n",
      "auto      0.19814\n",
      "Name: Gearbox, dtype: float64 \n",
      "\n",
      "--FuelType(7): \n",
      "petrol      0.673000\n",
      "gasoline    0.307085\n",
      "lpg         0.016518\n",
      "cng         0.001758\n",
      "hybrid      0.000725\n",
      "other       0.000635\n",
      "electric    0.000280\n",
      "Name: FuelType, dtype: float64 \n",
      "\n",
      "--Brand(40): \n",
      "volkswagen       0.217324\n",
      "opel             0.112682\n",
      "bmw              0.104168\n",
      "mercedes_benz    0.090431\n",
      "audi             0.083122\n",
      "ford             0.071053\n",
      "renault          0.050589\n",
      "peugeot          0.031035\n",
      "fiat             0.027212\n",
      "seat             0.019491\n",
      "Name: Brand, dtype: float64 \n",
      "\n"
     ]
    }
   ],
   "source": [
    "for i in ['VehicleType','Gearbox','FuelType','Brand']:\n",
    "    print(f'--{i}({len(df[i].value_counts())}): \\n{df[i].value_counts(normalize=True).head(10)} \\n')"
   ]
  },
  {
   "cell_type": "markdown",
   "metadata": {},
   "source": [
    "В таблице пердставленны данные с марта по апрель 2016 года .\n",
    "В среднем по 10 тысяч скачивания анкеты в день. 80 процентов автомобилей в данных на механике. Самой распространненой маркой является WV."
   ]
  },
  {
   "cell_type": "code",
   "execution_count": 7,
   "metadata": {
    "scrolled": true
   },
   "outputs": [
    {
     "data": {
      "text/html": [
       "<div>\n",
       "<style scoped>\n",
       "    .dataframe tbody tr th:only-of-type {\n",
       "        vertical-align: middle;\n",
       "    }\n",
       "\n",
       "    .dataframe tbody tr th {\n",
       "        vertical-align: top;\n",
       "    }\n",
       "\n",
       "    .dataframe thead th {\n",
       "        text-align: right;\n",
       "    }\n",
       "</style>\n",
       "<table border=\"1\" class=\"dataframe\">\n",
       "  <thead>\n",
       "    <tr style=\"text-align: right;\">\n",
       "      <th>VehicleType</th>\n",
       "      <th>bus</th>\n",
       "      <th>convertible</th>\n",
       "      <th>coupe</th>\n",
       "      <th>other</th>\n",
       "      <th>sedan</th>\n",
       "      <th>small</th>\n",
       "      <th>suv</th>\n",
       "      <th>wagon</th>\n",
       "    </tr>\n",
       "    <tr>\n",
       "      <th>FuelType</th>\n",
       "      <th></th>\n",
       "      <th></th>\n",
       "      <th></th>\n",
       "      <th></th>\n",
       "      <th></th>\n",
       "      <th></th>\n",
       "      <th></th>\n",
       "      <th></th>\n",
       "    </tr>\n",
       "  </thead>\n",
       "  <tbody>\n",
       "    <tr>\n",
       "      <th>gasoline</th>\n",
       "      <td>6238.053847</td>\n",
       "      <td>9513.892430</td>\n",
       "      <td>10354.36087</td>\n",
       "      <td>4191.873706</td>\n",
       "      <td>7010.267774</td>\n",
       "      <td>4185.678534</td>\n",
       "      <td>10319.041147</td>\n",
       "      <td>6282.870891</td>\n",
       "    </tr>\n",
       "    <tr>\n",
       "      <th>petrol</th>\n",
       "      <td>4450.236069</td>\n",
       "      <td>6724.541193</td>\n",
       "      <td>5452.39490</td>\n",
       "      <td>3193.697274</td>\n",
       "      <td>3925.848648</td>\n",
       "      <td>2607.236715</td>\n",
       "      <td>7618.754608</td>\n",
       "      <td>3519.680496</td>\n",
       "    </tr>\n",
       "  </tbody>\n",
       "</table>\n",
       "</div>"
      ],
      "text/plain": [
       "VehicleType          bus  convertible        coupe        other        sedan  \\\n",
       "FuelType                                                                       \n",
       "gasoline     6238.053847  9513.892430  10354.36087  4191.873706  7010.267774   \n",
       "petrol       4450.236069  6724.541193   5452.39490  3193.697274  3925.848648   \n",
       "\n",
       "VehicleType        small           suv        wagon  \n",
       "FuelType                                             \n",
       "gasoline     4185.678534  10319.041147  6282.870891  \n",
       "petrol       2607.236715   7618.754608  3519.680496  "
      ]
     },
     "execution_count": 7,
     "metadata": {},
     "output_type": "execute_result"
    }
   ],
   "source": [
    "pd.pivot_table(df[df['FuelType'].isin(['gasoline','petrol']) ], index='FuelType',values='Price', columns='VehicleType', aggfunc='mean')"
   ]
  },
  {
   "cell_type": "markdown",
   "metadata": {},
   "source": [
    "Тип топлива petrol и gasoline - это один и тоже бензин но на европейский и американский манер. Но наблюдается разница с средних ценах автомобилей в этих категориях."
   ]
  },
  {
   "cell_type": "markdown",
   "metadata": {},
   "source": [
    "Есть пропуски в некоторых признаках , больше всего их в признаке NotRepaired\n",
    "Для CatBoost это не проблема, для библиотеки они — это отдельная категория.  Но признаки придется кодировать поэтому постараюсь заполнить пропуски или заменить на 'Неизвестно'для категориальных и удалить для числовых. "
   ]
  },
  {
   "cell_type": "markdown",
   "metadata": {},
   "source": [
    "Отберу колонки с данными которые явно будут влиять на стоимость автомобиля\n",
    "\n",
    "'DateCrawled','DateCreated','NumberOfPictures','PostalCode','LastSeen' - даты в этих колонках не могут напрямую влиять на стоимость автомобиля и по ним пргнозировать цену нельзя.\n",
    "\n",
    "Price\tVehicleType\tRegistrationYear\tGearbox\tPower\tModel\tKilometer\tRegistrationMonth\tFuelType\tBrand\tNotRepaired"
   ]
  },
  {
   "cell_type": "code",
   "execution_count": 8,
   "metadata": {},
   "outputs": [],
   "source": [
    "data = df.drop(['DateCrawled','DateCreated','NumberOfPictures','PostalCode','LastSeen'], axis=1)"
   ]
  },
  {
   "cell_type": "code",
   "execution_count": 9,
   "metadata": {},
   "outputs": [
    {
     "data": {
      "text/plain": [
       "(0, 11)"
      ]
     },
     "execution_count": 9,
     "metadata": {},
     "output_type": "execute_result"
    }
   ],
   "source": [
    "#data = \n",
    "\n",
    "data[((data['VehicleType'].isna()) & (data['Brand'].isna()) & (data['Model'].isna()))].shape"
   ]
  },
  {
   "cell_type": "markdown",
   "metadata": {},
   "source": [
    "пропусков одновременно в типе бренде и модели автомобиля нет - попытаемся воставновить пропуски самым частым значением в группах"
   ]
  },
  {
   "cell_type": "markdown",
   "metadata": {},
   "source": [
    "### Price\n"
   ]
  },
  {
   "cell_type": "code",
   "execution_count": 10,
   "metadata": {},
   "outputs": [
    {
     "data": {
      "text/plain": [
       "count    354369.000000\n",
       "mean       4416.656776\n",
       "std        4514.158514\n",
       "min           0.000000\n",
       "25%        1050.000000\n",
       "50%        2700.000000\n",
       "75%        6400.000000\n",
       "max       20000.000000\n",
       "Name: Price, dtype: float64"
      ]
     },
     "execution_count": 10,
     "metadata": {},
     "output_type": "execute_result"
    }
   ],
   "source": [
    "data['Price'].describe()"
   ]
  },
  {
   "cell_type": "code",
   "execution_count": 11,
   "metadata": {},
   "outputs": [
    {
     "data": {
      "text/plain": [
       "<AxesSubplot:>"
      ]
     },
     "execution_count": 11,
     "metadata": {},
     "output_type": "execute_result"
    },
    {
     "data": {
      "image/png": "[encoded data removed]",
      "text/plain": [
       "<Figure size 432x288 with 1 Axes>"
      ]
     },
     "metadata": {
      "needs_background": "light"
     },
     "output_type": "display_data"
    }
   ],
   "source": [
    "data.boxplot('Price')"
   ]
  },
  {
   "cell_type": "code",
   "execution_count": 12,
   "metadata": {},
   "outputs": [
    {
     "data": {
      "text/plain": [
       "<AxesSubplot:>"
      ]
     },
     "execution_count": 12,
     "metadata": {},
     "output_type": "execute_result"
    },
    {
     "data": {
      "image/png": "[encoded data removed]",
      "text/plain": [
       "<Figure size 432x288 with 1 Axes>"
      ]
     },
     "metadata": {
      "needs_background": "light"
     },
     "output_type": "display_data"
    }
   ],
   "source": [
    "data[ data['Price'] < 51 ]['Price'].hist(bins=50)"
   ]
  },
  {
   "cell_type": "code",
   "execution_count": 13,
   "metadata": {},
   "outputs": [
    {
     "data": {
      "text/plain": [
       "12028"
      ]
     },
     "execution_count": 13,
     "metadata": {},
     "output_type": "execute_result"
    }
   ],
   "source": [
    "len(data[data['Price'] < 10])"
   ]
  },
  {
   "cell_type": "markdown",
   "metadata": {},
   "source": [
    "Цены 0 быть не должно, такие даные использовать для обучения моделей нельзя - удалим"
   ]
  },
  {
   "cell_type": "code",
   "execution_count": 14,
   "metadata": {},
   "outputs": [],
   "source": [
    "data = data[~(data['Price'] < 10)]"
   ]
  },
  {
   "cell_type": "markdown",
   "metadata": {},
   "source": [
    "### VehicleType"
   ]
  },
  {
   "cell_type": "code",
   "execution_count": 15,
   "metadata": {},
   "outputs": [
    {
     "data": {
      "text/plain": [
       "sedan          89197\n",
       "small          77839\n",
       "wagon          63545\n",
       "NaN            33249\n",
       "bus            28280\n",
       "convertible    19826\n",
       "coupe          15576\n",
       "suv            11769\n",
       "other           3060\n",
       "Name: VehicleType, dtype: int64"
      ]
     },
     "execution_count": 15,
     "metadata": {},
     "output_type": "execute_result"
    }
   ],
   "source": [
    "data['VehicleType'].value_counts(dropna=False)"
   ]
  },
  {
   "cell_type": "markdown",
   "metadata": {},
   "source": [
    "заполню пропуски в колонке частым значением из группы по модели авто "
   ]
  },
  {
   "cell_type": "code",
   "execution_count": 16,
   "metadata": {},
   "outputs": [],
   "source": [
    "# data['VehicleType'] = data.groupby(['Brand','Model'])['VehicleType'].apply(lambda x: x.ffill().bfill())\n",
    "# data['VehicleType'] = data.groupby(['Brand','Model'])['VehicleType'].apply(lambda x: x.fillna(x.mode()[0] if not x.mode().empty else np.nan))\n",
    "data['VehicleType'] = data.groupby(['Brand','Model'])['VehicleType'].apply(lambda x: x.fillna(x.mode().iat[0]))\n"
   ]
  },
  {
   "cell_type": "code",
   "execution_count": 17,
   "metadata": {},
   "outputs": [
    {
     "data": {
      "text/plain": [
       "(17246, 11)"
      ]
     },
     "execution_count": 17,
     "metadata": {},
     "output_type": "execute_result"
    }
   ],
   "source": [
    "data[data['VehicleType'].isna()].shape"
   ]
  },
  {
   "cell_type": "markdown",
   "metadata": {},
   "source": [
    "некоторые пропуски заполнили, но не полностью видимо так как в колонке модель много пропусков"
   ]
  },
  {
   "cell_type": "markdown",
   "metadata": {},
   "source": [
    "### Brand"
   ]
  },
  {
   "cell_type": "code",
   "execution_count": 18,
   "metadata": {
    "scrolled": true
   },
   "outputs": [
    {
     "data": {
      "text/plain": [
       "volkswagen       74169\n",
       "opel             38368\n",
       "bmw              35641\n",
       "mercedes_benz    31249\n",
       "audi             28481\n",
       "Name: Brand, dtype: int64"
      ]
     },
     "execution_count": 18,
     "metadata": {},
     "output_type": "execute_result"
    }
   ],
   "source": [
    "data['Brand'].value_counts(dropna=False).head()"
   ]
  },
  {
   "cell_type": "markdown",
   "metadata": {},
   "source": [
    "### Model"
   ]
  },
  {
   "cell_type": "code",
   "execution_count": 19,
   "metadata": {},
   "outputs": [],
   "source": [
    "#data['Model'] = data.groupby(['Brand','VehicleType','RegistrationYear','Power'])['Model'].apply(lambda x: x.fillna(x.mode()[0] if not x.mode().empty else np.nan))\n",
    "data['Model'] = data.groupby(['Brand','VehicleType','RegistrationYear','Power'])['Model'].apply(lambda x: x.fillna(x.mode().iat[0]))"
   ]
  },
  {
   "cell_type": "code",
   "execution_count": 20,
   "metadata": {},
   "outputs": [
    {
     "data": {
      "text/plain": [
       "17246"
      ]
     },
     "execution_count": 20,
     "metadata": {},
     "output_type": "execute_result"
    }
   ],
   "source": [
    "data[data['Model'].isna()]['Price'].count()"
   ]
  },
  {
   "cell_type": "markdown",
   "metadata": {},
   "source": [
    "Заменять пропуски данным способом довольно  рискованно - но и это практически не дало результата"
   ]
  },
  {
   "cell_type": "markdown",
   "metadata": {},
   "source": [
    "### Gearbox"
   ]
  },
  {
   "cell_type": "code",
   "execution_count": 21,
   "metadata": {},
   "outputs": [
    {
     "data": {
      "text/plain": [
       "manual    260686\n",
       "auto       64705\n",
       "NaN        16950\n",
       "Name: Gearbox, dtype: int64"
      ]
     },
     "execution_count": 21,
     "metadata": {},
     "output_type": "execute_result"
    }
   ],
   "source": [
    "data['Gearbox'].value_counts(dropna=False)"
   ]
  },
  {
   "cell_type": "code",
   "execution_count": 22,
   "metadata": {},
   "outputs": [],
   "source": [
    "# data['Gearbox'] = data.groupby(['Brand','Model','Power'])['Gearbox'].apply(lambda x: x.fillna(x.mode()[0] if not x.mode().empty else np.nan ))\n",
    "# data['Gearbox'] = data.groupby(['Brand','Model','Power'])['Gearbox'].apply(lambda x: x.ffill().bfill())\n",
    "# эти способы только ухудшают ситуацию - тажкже заменю пропуски на Unknown"
   ]
  },
  {
   "cell_type": "markdown",
   "metadata": {},
   "source": [
    "### FuelType"
   ]
  },
  {
   "cell_type": "code",
   "execution_count": 23,
   "metadata": {},
   "outputs": [
    {
     "data": {
      "text/plain": [
       "petrol      210180\n",
       "gasoline     96995\n",
       "NaN          28984\n",
       "lpg           5155\n",
       "cng            552\n",
       "hybrid         226\n",
       "other          162\n",
       "electric        87\n",
       "Name: FuelType, dtype: int64"
      ]
     },
     "execution_count": 23,
     "metadata": {},
     "output_type": "execute_result"
    }
   ],
   "source": [
    "data['FuelType'].value_counts(dropna=False)"
   ]
  },
  {
   "cell_type": "code",
   "execution_count": 24,
   "metadata": {},
   "outputs": [],
   "source": [
    "data['FuelType'] = data.groupby(['VehicleType','Brand','Model'])['FuelType'].apply(lambda x: x.fillna(x.mode()[0] if not x.mode().empty else np.nan))"
   ]
  },
  {
   "cell_type": "code",
   "execution_count": null,
   "metadata": {},
   "outputs": [],
   "source": []
  },
  {
   "cell_type": "markdown",
   "metadata": {},
   "source": [
    "### NotRepaired"
   ]
  },
  {
   "cell_type": "code",
   "execution_count": 25,
   "metadata": {},
   "outputs": [
    {
     "data": {
      "text/plain": [
       "no     243358\n",
       "NaN     65189\n",
       "yes     33794\n",
       "Name: NotRepaired, dtype: int64"
      ]
     },
     "execution_count": 25,
     "metadata": {},
     "output_type": "execute_result"
    }
   ],
   "source": [
    "data['NotRepaired'].value_counts(dropna=False)"
   ]
  },
  {
   "cell_type": "code",
   "execution_count": 26,
   "metadata": {},
   "outputs": [],
   "source": [
    "data['NotRepaired'] = data['NotRepaired'].fillna('Unknown')"
   ]
  },
  {
   "cell_type": "markdown",
   "metadata": {},
   "source": [
    "### RegistrationYear"
   ]
  },
  {
   "cell_type": "code",
   "execution_count": 27,
   "metadata": {},
   "outputs": [
    {
     "data": {
      "text/plain": [
       "count    342341.000000\n",
       "mean       2004.074484\n",
       "std          77.255044\n",
       "min        1000.000000\n",
       "25%        1999.000000\n",
       "50%        2003.000000\n",
       "75%        2008.000000\n",
       "max        9999.000000\n",
       "Name: RegistrationYear, dtype: float64"
      ]
     },
     "execution_count": 27,
     "metadata": {},
     "output_type": "execute_result"
    }
   ],
   "source": [
    "data['RegistrationYear'].describe()"
   ]
  },
  {
   "cell_type": "code",
   "execution_count": 28,
   "metadata": {},
   "outputs": [
    {
     "data": {
      "text/plain": [
       "<AxesSubplot:>"
      ]
     },
     "execution_count": 28,
     "metadata": {},
     "output_type": "execute_result"
    },
    {
     "data": {
      "image/png": "[encoded data removed]",
      "text/plain": [
       "<Figure size 432x288 with 1 Axes>"
      ]
     },
     "metadata": {
      "needs_background": "light"
     },
     "output_type": "display_data"
    }
   ],
   "source": [
    "data.boxplot('RegistrationYear')"
   ]
  },
  {
   "cell_type": "code",
   "execution_count": 29,
   "metadata": {},
   "outputs": [
    {
     "data": {
      "text/plain": [
       "(13873, 11)"
      ]
     },
     "execution_count": 29,
     "metadata": {},
     "output_type": "execute_result"
    }
   ],
   "source": [
    "data[(data['RegistrationYear'] < 1950) | (data['RegistrationYear'] > 2016)].shape"
   ]
  },
  {
   "cell_type": "markdown",
   "metadata": {},
   "source": [
    "пропусков нет но есть неaдекватные даты - считаю что заменить их каким либо годом не целесмообразно - это уменьшит точность предсказаний так как на мой взгляд этот признак очень сильно повлияет на стоимость"
   ]
  },
  {
   "cell_type": "code",
   "execution_count": 30,
   "metadata": {},
   "outputs": [],
   "source": [
    "data = data[~((data['RegistrationYear'] < 1950) | (data['RegistrationYear'] > 2016))]"
   ]
  },
  {
   "cell_type": "markdown",
   "metadata": {},
   "source": [
    "еще объединим столбцы года и месяца"
   ]
  },
  {
   "cell_type": "code",
   "execution_count": 31,
   "metadata": {},
   "outputs": [],
   "source": [
    "data['Reg_date'] = data['RegistrationYear'] + data['RegistrationMonth'] / 100"
   ]
  },
  {
   "cell_type": "markdown",
   "metadata": {},
   "source": [
    "### Kilometer"
   ]
  },
  {
   "cell_type": "code",
   "execution_count": 32,
   "metadata": {},
   "outputs": [
    {
     "data": {
      "text/plain": [
       "count    328468.000000\n",
       "mean     128275.265779\n",
       "std       37398.846212\n",
       "min        5000.000000\n",
       "25%      125000.000000\n",
       "50%      150000.000000\n",
       "75%      150000.000000\n",
       "max      150000.000000\n",
       "Name: Kilometer, dtype: float64"
      ]
     },
     "execution_count": 32,
     "metadata": {},
     "output_type": "execute_result"
    }
   ],
   "source": [
    "data['Kilometer'].describe()"
   ]
  },
  {
   "cell_type": "code",
   "execution_count": 33,
   "metadata": {},
   "outputs": [
    {
     "data": {
      "text/plain": [
       "<AxesSubplot:>"
      ]
     },
     "execution_count": 33,
     "metadata": {},
     "output_type": "execute_result"
    },
    {
     "data": {
      "image/png": "[encoded data removed]",
      "text/plain": [
       "<Figure size 432x288 with 1 Axes>"
      ]
     },
     "metadata": {
      "needs_background": "light"
     },
     "output_type": "display_data"
    }
   ],
   "source": [
    "data['Kilometer'].hist(bins=20)"
   ]
  },
  {
   "cell_type": "code",
   "execution_count": 34,
   "metadata": {},
   "outputs": [
    {
     "data": {
      "text/plain": [
       "<AxesSubplot:xlabel='Price', ylabel='RegistrationYear'>"
      ]
     },
     "execution_count": 34,
     "metadata": {},
     "output_type": "execute_result"
    },
    {
     "name": "stderr",
     "output_type": "stream",
     "text": [
      "/opt/conda/lib/python3.9/site-packages/IPython/core/pylabtools.py:151: UserWarning: Creating legend with loc=\"best\" can be slow with large amounts of data.\n",
      "  fig.canvas.print_figure(bytes_io, **kw)\n"
     ]
    },
    {
     "data": {
      "image/png": "[encoded data removed]",
      "text/plain": [
       "<Figure size 432x288 with 1 Axes>"
      ]
     },
     "metadata": {
      "needs_background": "light"
     },
     "output_type": "display_data"
    }
   ],
   "source": [
    "sns.scatterplot(data=data, x='Price',y='RegistrationYear',hue='Kilometer',alpha=0.5)"
   ]
  },
  {
   "cell_type": "markdown",
   "metadata": {},
   "source": [
    "дата регистрации коррелирует с количеством километров не линейно \n",
    "\n",
    "Большое количество анкет с километрожом более 150000км скорее всего из-за отсутсвия возможности поставить значение больше , а у большинства имеено оно было бы больше ."
   ]
  },
  {
   "cell_type": "code",
   "execution_count": 35,
   "metadata": {},
   "outputs": [],
   "source": [
    "data = data.drop(['RegistrationYear','RegistrationMonth'],axis=1)    "
   ]
  },
  {
   "cell_type": "code",
   "execution_count": 36,
   "metadata": {},
   "outputs": [
    {
     "data": {
      "text/html": [
       "<div>\n",
       "<style scoped>\n",
       "    .dataframe tbody tr th:only-of-type {\n",
       "        vertical-align: middle;\n",
       "    }\n",
       "\n",
       "    .dataframe tbody tr th {\n",
       "        vertical-align: top;\n",
       "    }\n",
       "\n",
       "    .dataframe thead th {\n",
       "        text-align: right;\n",
       "    }\n",
       "</style>\n",
       "<table border=\"1\" class=\"dataframe\">\n",
       "  <thead>\n",
       "    <tr style=\"text-align: right;\">\n",
       "      <th></th>\n",
       "      <th>Price</th>\n",
       "      <th>Power</th>\n",
       "      <th>Kilometer</th>\n",
       "      <th>Reg_date</th>\n",
       "    </tr>\n",
       "  </thead>\n",
       "  <tbody>\n",
       "    <tr>\n",
       "      <th>Price</th>\n",
       "      <td>1.0</td>\n",
       "      <td>0.16327</td>\n",
       "      <td>-0.357454</td>\n",
       "      <td>0.450416</td>\n",
       "    </tr>\n",
       "  </tbody>\n",
       "</table>\n",
       "</div>"
      ],
      "text/plain": [
       "       Price    Power  Kilometer  Reg_date\n",
       "Price    1.0  0.16327  -0.357454  0.450416"
      ]
     },
     "execution_count": 36,
     "metadata": {},
     "output_type": "execute_result"
    }
   ],
   "source": [
    "data.corr().head(1)"
   ]
  },
  {
   "cell_type": "markdown",
   "metadata": {},
   "source": [
    "числовые признаки ожидаемо коррелируют с ценой"
   ]
  },
  {
   "cell_type": "code",
   "execution_count": 37,
   "metadata": {},
   "outputs": [],
   "source": [
    "# заполню оставшиеся nan \n",
    "for i in data.select_dtypes(include=['object']).columns:\n",
    "    data[i] = data[i].fillna('Unknown')"
   ]
  },
  {
   "cell_type": "code",
   "execution_count": 38,
   "metadata": {},
   "outputs": [
    {
     "name": "stdout",
     "output_type": "stream",
     "text": [
      "<class 'pandas.core.frame.DataFrame'>\n",
      "Int64Index: 328468 entries, 0 to 354368\n",
      "Data columns (total 10 columns):\n",
      " #   Column       Non-Null Count   Dtype  \n",
      "---  ------       --------------   -----  \n",
      " 0   Price        328468 non-null  int64  \n",
      " 1   VehicleType  328468 non-null  object \n",
      " 2   Gearbox      328468 non-null  object \n",
      " 3   Power        328468 non-null  int64  \n",
      " 4   Model        328468 non-null  object \n",
      " 5   Kilometer    328468 non-null  int64  \n",
      " 6   FuelType     328468 non-null  object \n",
      " 7   Brand        328468 non-null  object \n",
      " 8   NotRepaired  328468 non-null  object \n",
      " 9   Reg_date     328468 non-null  float64\n",
      "dtypes: float64(1), int64(3), object(6)\n",
      "memory usage: 27.6+ MB\n"
     ]
    }
   ],
   "source": [
    "data.info()"
   ]
  },
  {
   "cell_type": "markdown",
   "metadata": {},
   "source": [
    "### Кодирование \n",
    "\n",
    "в идеале для порядковых категорий использовать Ordinal, для номинальных - OHE\n",
    "\n",
    "в нашем случаее все не числовые признаки являются номинальными - соответсвенно придется кодировать OHE хоть это и раздует датафрейм по количеству столбцов и соответсвенно увеличит время работы алгоритма - но даст больше точности."
   ]
  },
  {
   "cell_type": "code",
   "execution_count": 39,
   "metadata": {},
   "outputs": [],
   "source": [
    "# data_ohe = pd.get_dummies(data, drop_first=True)\n",
    "# data_ohe.head()"
   ]
  },
  {
   "cell_type": "markdown",
   "metadata": {},
   "source": [
    "переведу в категориальный тип "
   ]
  },
  {
   "cell_type": "code",
   "execution_count": 40,
   "metadata": {},
   "outputs": [],
   "source": [
    "for i in ['VehicleType','Gearbox', 'Model', 'FuelType', 'Brand', 'NotRepaired']:\n",
    "    data[i] = data[i].astype(\"category\")"
   ]
  },
  {
   "cell_type": "code",
   "execution_count": 41,
   "metadata": {},
   "outputs": [],
   "source": [
    "enc = OrdinalEncoder()"
   ]
  },
  {
   "cell_type": "code",
   "execution_count": 42,
   "metadata": {},
   "outputs": [
    {
     "data": {
      "text/plain": [
       "array([[  5.,   2., 117.,   7.,  38.,   0.],\n",
       "       [  0.,   2.,  26.,   0.,   1.,   2.],\n",
       "       [  7.,   1., 118.,   3.,  14.,   0.],\n",
       "       ...,\n",
       "       [  2.,   1., 107.,   7.,  32.,   1.],\n",
       "       [  1.,   2., 225.,   3.,  38.,   1.],\n",
       "       [  8.,   2., 117.,   3.,  38.,   0.]])"
      ]
     },
     "execution_count": 42,
     "metadata": {},
     "output_type": "execute_result"
    }
   ],
   "source": [
    "enc.fit_transform(data.select_dtypes(include=['category']))"
   ]
  },
  {
   "cell_type": "code",
   "execution_count": 43,
   "metadata": {},
   "outputs": [],
   "source": [
    "data_enc = data.copy()"
   ]
  },
  {
   "cell_type": "code",
   "execution_count": 44,
   "metadata": {},
   "outputs": [],
   "source": [
    "data_enc[data.select_dtypes(include=['category']).columns] = enc.fit_transform(data.select_dtypes(include=['category']))"
   ]
  },
  {
   "cell_type": "code",
   "execution_count": 45,
   "metadata": {},
   "outputs": [
    {
     "data": {
      "text/html": [
       "<div>\n",
       "<style scoped>\n",
       "    .dataframe tbody tr th:only-of-type {\n",
       "        vertical-align: middle;\n",
       "    }\n",
       "\n",
       "    .dataframe tbody tr th {\n",
       "        vertical-align: top;\n",
       "    }\n",
       "\n",
       "    .dataframe thead th {\n",
       "        text-align: right;\n",
       "    }\n",
       "</style>\n",
       "<table border=\"1\" class=\"dataframe\">\n",
       "  <thead>\n",
       "    <tr style=\"text-align: right;\">\n",
       "      <th></th>\n",
       "      <th>Price</th>\n",
       "      <th>VehicleType</th>\n",
       "      <th>Gearbox</th>\n",
       "      <th>Power</th>\n",
       "      <th>Model</th>\n",
       "      <th>Kilometer</th>\n",
       "      <th>FuelType</th>\n",
       "      <th>Brand</th>\n",
       "      <th>NotRepaired</th>\n",
       "      <th>Reg_date</th>\n",
       "    </tr>\n",
       "  </thead>\n",
       "  <tbody>\n",
       "    <tr>\n",
       "      <th>0</th>\n",
       "      <td>480</td>\n",
       "      <td>5.0</td>\n",
       "      <td>2.0</td>\n",
       "      <td>0</td>\n",
       "      <td>117.0</td>\n",
       "      <td>150000</td>\n",
       "      <td>7.0</td>\n",
       "      <td>38.0</td>\n",
       "      <td>0.0</td>\n",
       "      <td>1993.00</td>\n",
       "    </tr>\n",
       "    <tr>\n",
       "      <th>1</th>\n",
       "      <td>18300</td>\n",
       "      <td>0.0</td>\n",
       "      <td>2.0</td>\n",
       "      <td>190</td>\n",
       "      <td>26.0</td>\n",
       "      <td>125000</td>\n",
       "      <td>0.0</td>\n",
       "      <td>1.0</td>\n",
       "      <td>2.0</td>\n",
       "      <td>2011.05</td>\n",
       "    </tr>\n",
       "    <tr>\n",
       "      <th>2</th>\n",
       "      <td>9800</td>\n",
       "      <td>7.0</td>\n",
       "      <td>1.0</td>\n",
       "      <td>163</td>\n",
       "      <td>118.0</td>\n",
       "      <td>125000</td>\n",
       "      <td>3.0</td>\n",
       "      <td>14.0</td>\n",
       "      <td>0.0</td>\n",
       "      <td>2004.08</td>\n",
       "    </tr>\n",
       "    <tr>\n",
       "      <th>3</th>\n",
       "      <td>1500</td>\n",
       "      <td>6.0</td>\n",
       "      <td>2.0</td>\n",
       "      <td>75</td>\n",
       "      <td>117.0</td>\n",
       "      <td>150000</td>\n",
       "      <td>7.0</td>\n",
       "      <td>38.0</td>\n",
       "      <td>1.0</td>\n",
       "      <td>2001.06</td>\n",
       "    </tr>\n",
       "    <tr>\n",
       "      <th>4</th>\n",
       "      <td>3600</td>\n",
       "      <td>6.0</td>\n",
       "      <td>2.0</td>\n",
       "      <td>69</td>\n",
       "      <td>102.0</td>\n",
       "      <td>90000</td>\n",
       "      <td>3.0</td>\n",
       "      <td>31.0</td>\n",
       "      <td>1.0</td>\n",
       "      <td>2008.07</td>\n",
       "    </tr>\n",
       "  </tbody>\n",
       "</table>\n",
       "</div>"
      ],
      "text/plain": [
       "   Price  VehicleType  Gearbox  Power  Model  Kilometer  FuelType  Brand  \\\n",
       "0    480          5.0      2.0      0  117.0     150000       7.0   38.0   \n",
       "1  18300          0.0      2.0    190   26.0     125000       0.0    1.0   \n",
       "2   9800          7.0      1.0    163  118.0     125000       3.0   14.0   \n",
       "3   1500          6.0      2.0     75  117.0     150000       7.0   38.0   \n",
       "4   3600          6.0      2.0     69  102.0      90000       3.0   31.0   \n",
       "\n",
       "   NotRepaired  Reg_date  \n",
       "0          0.0   1993.00  \n",
       "1          2.0   2011.05  \n",
       "2          0.0   2004.08  \n",
       "3          1.0   2001.06  \n",
       "4          1.0   2008.07  "
      ]
     },
     "execution_count": 45,
     "metadata": {},
     "output_type": "execute_result"
    }
   ],
   "source": [
    "data_enc.head()"
   ]
  },
  {
   "cell_type": "markdown",
   "metadata": {},
   "source": [
    "## Обучение моделей"
   ]
  },
  {
   "cell_type": "markdown",
   "metadata": {},
   "source": [
    "### Разделение на выборки"
   ]
  },
  {
   "cell_type": "code",
   "execution_count": 46,
   "metadata": {},
   "outputs": [],
   "source": [
    "np.random.seed(42)"
   ]
  },
  {
   "cell_type": "code",
   "execution_count": 47,
   "metadata": {},
   "outputs": [
    {
     "name": "stdout",
     "output_type": "stream",
     "text": [
      "(262774, 9) (65694, 9) (262774,) (65694,)\n"
     ]
    }
   ],
   "source": [
    "X = data_enc.drop('Price',axis=1)\n",
    "y = data_enc['Price']\n",
    "X_train, X_valid, y_train, y_valid = train_test_split(X,y, test_size=0.2, random_state=42) \n",
    "print(X_train.shape, X_valid.shape, y_train.shape, y_valid.shape)"
   ]
  },
  {
   "cell_type": "code",
   "execution_count": 48,
   "metadata": {},
   "outputs": [],
   "source": [
    "scaler = StandardScaler()"
   ]
  },
  {
   "cell_type": "code",
   "execution_count": 49,
   "metadata": {},
   "outputs": [
    {
     "name": "stderr",
     "output_type": "stream",
     "text": [
      "/tmp/ipykernel_24/1180617991.py:1: SettingWithCopyWarning: \n",
      "A value is trying to be set on a copy of a slice from a DataFrame.\n",
      "Try using .loc[row_indexer,col_indexer] = value instead\n",
      "\n",
      "See the caveats in the documentation: https://pandas.pydata.org/pandas-docs/stable/user_guide/indexing.html#returning-a-view-versus-a-copy\n",
      "  X_train[X_train.columns] = scaler.fit_transform(X_train)\n",
      "/opt/conda/lib/python3.9/site-packages/pandas/core/indexing.py:1738: SettingWithCopyWarning: \n",
      "A value is trying to be set on a copy of a slice from a DataFrame.\n",
      "Try using .loc[row_indexer,col_indexer] = value instead\n",
      "\n",
      "See the caveats in the documentation: https://pandas.pydata.org/pandas-docs/stable/user_guide/indexing.html#returning-a-view-versus-a-copy\n",
      "  self._setitem_single_column(loc, value[:, i].tolist(), pi)\n",
      "/tmp/ipykernel_24/1180617991.py:2: SettingWithCopyWarning: \n",
      "A value is trying to be set on a copy of a slice from a DataFrame.\n",
      "Try using .loc[row_indexer,col_indexer] = value instead\n",
      "\n",
      "See the caveats in the documentation: https://pandas.pydata.org/pandas-docs/stable/user_guide/indexing.html#returning-a-view-versus-a-copy\n",
      "  X_valid[X_valid.columns] = scaler.transform(X_valid)\n",
      "/opt/conda/lib/python3.9/site-packages/pandas/core/indexing.py:1738: SettingWithCopyWarning: \n",
      "A value is trying to be set on a copy of a slice from a DataFrame.\n",
      "Try using .loc[row_indexer,col_indexer] = value instead\n",
      "\n",
      "See the caveats in the documentation: https://pandas.pydata.org/pandas-docs/stable/user_guide/indexing.html#returning-a-view-versus-a-copy\n",
      "  self._setitem_single_column(loc, value[:, i].tolist(), pi)\n"
     ]
    }
   ],
   "source": [
    "X_train[X_train.columns] = scaler.fit_transform(X_train)\n",
    "X_valid[X_valid.columns] = scaler.transform(X_valid)"
   ]
  },
  {
   "cell_type": "code",
   "execution_count": 51,
   "metadata": {},
   "outputs": [],
   "source": [
    "# попытка ниписать функции автоматизации сохраниения времени работы обучения и предсказания\n",
    "\n",
    "name_list = []\n",
    "time_fit_list = []\n",
    "time_pred_list = []\n",
    "rmse_list = []\n",
    "\n",
    "# def timer_fit(func):\n",
    "#     def wrapper(*args, **kwargs):\n",
    "#         start = time.perf_counter()\n",
    "#         result = func(*args, **kwargs)\n",
    "#         runtime = time.perf_counter() - start\n",
    "#         time_fit_list.append(runtime)\n",
    "#         return result\n",
    "#     return wrapper\n",
    "\n",
    "# def timer_pred(func):\n",
    "#     def wrapper(*args, **kwargs):\n",
    "#         start = time.perf_counter()\n",
    "#         result = func(*args, **kwargs)\n",
    "#         runtime = time.perf_counter() - start\n",
    "#         time_pred_list.append(runtime)\n",
    "#         return result\n",
    "#     return wrapper\n"
   ]
  },
  {
   "cell_type": "markdown",
   "metadata": {},
   "source": [
    "### простые модели"
   ]
  },
  {
   "cell_type": "markdown",
   "metadata": {},
   "source": [
    "Дерево решений"
   ]
  },
  {
   "cell_type": "code",
   "execution_count": 52,
   "metadata": {},
   "outputs": [],
   "source": [
    "#  работает очень долго\n",
    "\n",
    "model_tr = DecisionTreeRegressor(random_state=42)\n",
    "name_list.append('DecisionTreeRegressor')"
   ]
  },
  {
   "cell_type": "code",
   "execution_count": 175,
   "metadata": {},
   "outputs": [],
   "source": [
    "# parametrs = { #'n_estimators': range (10, 51, 10),\n",
    "#               'max_depth': range (5,21, 5),\n",
    "#               'min_samples_leaf': range (2,7,2),\n",
    "#               'min_samples_split': range (2,7,2) }\n",
    "\n",
    "# grid = GridSearchCV(model_tr, parametrs, scoring = 'neg_mean_squared_error',  cv=3)\n",
    "# grid.fit(X, y)\n",
    "\n",
    "# grid.best_params_"
   ]
  },
  {
   "cell_type": "code",
   "execution_count": 202,
   "metadata": {},
   "outputs": [
    {
     "data": {
      "text/plain": [
       "<function __main__.timer_fit.<locals>.wrapper(*args, **kwargs)>"
      ]
     },
     "execution_count": 202,
     "metadata": {},
     "output_type": "execute_result"
    }
   ],
   "source": [
    "timer_fit(model_tr.fit(X_train,y_train)) "
   ]
  },
  {
   "cell_type": "code",
   "execution_count": 206,
   "metadata": {},
   "outputs": [],
   "source": [
    "predict = timer_pred(model_tr.predict(X_valid))"
   ]
  },
  {
   "cell_type": "code",
   "execution_count": null,
   "metadata": {},
   "outputs": [],
   "source": [
    "rmse = mean_squared_error(y_valid, predict, squared=False)\n",
    "rmse_list.append(rmse)"
   ]
  },
  {
   "cell_type": "code",
   "execution_count": 97,
   "metadata": {},
   "outputs": [],
   "source": [
    "# tm_fit = time.perf_counter()\n",
    "\n",
    "# model_tr.fit(X_train,y_train)\n",
    "\n",
    "# tm_fit = time.perf_counter() - tm_fit\n",
    "# time_fit_list.append(round(tm_fit,3))"
   ]
  },
  {
   "cell_type": "code",
   "execution_count": 161,
   "metadata": {},
   "outputs": [],
   "source": [
    "# tm_fit = time.perf_counter()\n",
    "\n",
    "# predict = model_tr.predict(X_valid)\n",
    "\n",
    "# tm_fit = time.perf_counter() - tm_fit\n",
    "# time_fit_list.append(round(tm_fit,3))"
   ]
  },
  {
   "cell_type": "code",
   "execution_count": 90,
   "metadata": {},
   "outputs": [
    {
     "name": "stdout",
     "output_type": "stream",
     "text": [
      "CPU times: user 2.43 ms, sys: 86 µs, total: 2.51 ms\n",
      "Wall time: 1.49 ms\n"
     ]
    },
    {
     "data": {
      "text/plain": [
       "2364.7037078187923"
      ]
     },
     "execution_count": 90,
     "metadata": {},
     "output_type": "execute_result"
    }
   ],
   "source": [
    "# rmse_list.append(mean_squared_error(y_valid,predict, squared=False))"
   ]
  },
  {
   "cell_type": "markdown",
   "metadata": {},
   "source": [
    "Случайный лес с лучшими параметрами дерева решений\n",
    "\n",
    "'max_depth': 20, 'min_samples_leaf': 6, 'min_samples_split': 2"
   ]
  },
  {
   "cell_type": "code",
   "execution_count": 218,
   "metadata": {},
   "outputs": [
    {
     "name": "stdout",
     "output_type": "stream",
     "text": [
      "CPU times: user 1min 56s, sys: 485 ms, total: 1min 56s\n",
      "Wall time: 1min 56s\n"
     ]
    },
    {
     "data": {
      "text/plain": [
       "RandomForestRegressor(max_depth=20, min_samples_leaf=6, n_estimators=200,\n",
       "                      random_state=42)"
      ]
     },
     "execution_count": 218,
     "metadata": {},
     "output_type": "execute_result"
    }
   ],
   "source": [
    "%%time\n",
    "model_rf = RandomForestRegressor(n_estimators= 200, max_depth=20, min_samples_leaf=6, min_samples_split=2, random_state=42)\n",
    "model_rf.fit(X_train,y_train)"
   ]
  },
  {
   "cell_type": "code",
   "execution_count": 219,
   "metadata": {},
   "outputs": [
    {
     "name": "stdout",
     "output_type": "stream",
     "text": [
      "CPU times: user 3.01 s, sys: 7.98 ms, total: 3.02 s\n",
      "Wall time: 3.03 s\n"
     ]
    },
    {
     "data": {
      "text/plain": [
       "1622.328957324251"
      ]
     },
     "execution_count": 219,
     "metadata": {},
     "output_type": "execute_result"
    }
   ],
   "source": [
    "%%time\n",
    "predict = model_rf.predict(X_valid)\n",
    "rmse = mean_squared_error(y_valid,predict, squared=False) \n",
    "rmse"
   ]
  },
  {
   "cell_type": "markdown",
   "metadata": {},
   "source": [
    "### Линейная регрессия"
   ]
  },
  {
   "cell_type": "code",
   "execution_count": 216,
   "metadata": {},
   "outputs": [
    {
     "name": "stdout",
     "output_type": "stream",
     "text": [
      "CPU times: user 59.1 ms, sys: 23.7 ms, total: 82.8 ms\n",
      "Wall time: 63.7 ms\n"
     ]
    },
    {
     "data": {
      "text/plain": [
       "LinearRegression()"
      ]
     },
     "execution_count": 216,
     "metadata": {},
     "output_type": "execute_result"
    }
   ],
   "source": [
    "%%time\n",
    "model_lr = LinearRegression()\n",
    "model_lr.fit(X_train,y_train)"
   ]
  },
  {
   "cell_type": "code",
   "execution_count": 217,
   "metadata": {},
   "outputs": [
    {
     "name": "stdout",
     "output_type": "stream",
     "text": [
      "CPU times: user 7.65 ms, sys: 27.3 ms, total: 35 ms\n",
      "Wall time: 7.6 ms\n"
     ]
    },
    {
     "data": {
      "text/plain": [
       "3697.18169744806"
      ]
     },
     "execution_count": 217,
     "metadata": {},
     "output_type": "execute_result"
    }
   ],
   "source": [
    "%%time\n",
    "predict = model_lr.predict(X_valid)\n",
    "rmse = mean_squared_error(y_valid,predict, squared=False)\n",
    "rmse"
   ]
  },
  {
   "cell_type": "markdown",
   "metadata": {},
   "source": [
    "### LightGBM"
   ]
  },
  {
   "cell_type": "code",
   "execution_count": 117,
   "metadata": {},
   "outputs": [
    {
     "name": "stdout",
     "output_type": "stream",
     "text": [
      "(262774, 9) (65694, 9) (262774,) (65694,)\n"
     ]
    }
   ],
   "source": [
    "X = data.drop('Price',axis=1)\n",
    "y = data['Price']\n",
    "X_train, X_valid, y_train, y_valid = train_test_split(X,y, test_size=0.2, random_state=42)\n",
    "print(X_train.shape, X_valid.shape, y_train.shape, y_valid.shape)"
   ]
  },
  {
   "cell_type": "code",
   "execution_count": 62,
   "metadata": {},
   "outputs": [],
   "source": [
    "# %%time\n",
    "# model_lgbm = LGBMRegressor(objective='rmse', random_state=42)\n",
    "# param = {\n",
    "#     'n_estimators': [100,300],\n",
    "#     'max_depth': [10,15,20],\n",
    "#     'num_leaves': [100,200],\n",
    "#     'learning_rate':[0.01 , 0.1, 0.2], \n",
    "#     #'boosting_type':[ 'dart', 'goss']\n",
    "#     }\n",
    "\n",
    "\n",
    "# grid = GidSearchCV(model_lgbm, param, scoring = 'neg_mean_squared_error',  cv=3)\n",
    "# grid.fit(X, y)\n",
    "\n",
    "\n",
    "# pd.DataFrame(grid.cv_results_).sort_values('mean_test_score', ascending=False).head(3)"
   ]
  },
  {
   "cell_type": "code",
   "execution_count": 213,
   "metadata": {},
   "outputs": [],
   "source": [
    "model_lgbm = LGBMRegressor(n_estimators=200,\n",
    "                           max_depth=15, \n",
    "                           num_leaves=100, \n",
    "                           learning_rate=0.2, \n",
    "                           boosting_type='gbdt')"
   ]
  },
  {
   "cell_type": "code",
   "execution_count": 214,
   "metadata": {},
   "outputs": [
    {
     "name": "stdout",
     "output_type": "stream",
     "text": [
      "CPU times: user 15.7 s, sys: 86.6 ms, total: 15.8 s\n",
      "Wall time: 16 s\n"
     ]
    },
    {
     "data": {
      "text/plain": [
       "LGBMRegressor(learning_rate=0.2, max_depth=15, n_estimators=200, num_leaves=100)"
      ]
     },
     "execution_count": 214,
     "metadata": {},
     "output_type": "execute_result"
    }
   ],
   "source": [
    "%%time\n",
    "model_lgbm.fit(X_train,y_train,categorical_feature='auto')"
   ]
  },
  {
   "cell_type": "code",
   "execution_count": 215,
   "metadata": {},
   "outputs": [
    {
     "name": "stdout",
     "output_type": "stream",
     "text": [
      "CPU times: user 871 ms, sys: 709 µs, total: 872 ms\n",
      "Wall time: 899 ms\n"
     ]
    },
    {
     "data": {
      "text/plain": [
       "1563.7793777626753"
      ]
     },
     "execution_count": 215,
     "metadata": {},
     "output_type": "execute_result"
    }
   ],
   "source": [
    "%%time\n",
    "predict = model_lgbm.predict(X_valid)\n",
    "mean_squared_error(y_valid,predict, squared=False)"
   ]
  },
  {
   "cell_type": "markdown",
   "metadata": {},
   "source": [
    "## Анализ моделей"
   ]
  },
  {
   "cell_type": "markdown",
   "metadata": {},
   "source": [
    "Лучший показатель качества показала модель градиентного бустинга, но она наиболее долго обучается.\n"
   ]
  },
  {
   "cell_type": "code",
   "execution_count": 212,
   "metadata": {},
   "outputs": [
    {
     "data": {
      "text/html": [
       "<div>\n",
       "<style scoped>\n",
       "    .dataframe tbody tr th:only-of-type {\n",
       "        vertical-align: middle;\n",
       "    }\n",
       "\n",
       "    .dataframe tbody tr th {\n",
       "        vertical-align: top;\n",
       "    }\n",
       "\n",
       "    .dataframe thead th {\n",
       "        text-align: right;\n",
       "    }\n",
       "</style>\n",
       "<table border=\"1\" class=\"dataframe\">\n",
       "  <thead>\n",
       "    <tr style=\"text-align: right;\">\n",
       "      <th></th>\n",
       "      <th>model</th>\n",
       "      <th>rsme</th>\n",
       "      <th>speed_pred</th>\n",
       "      <th>time_fit</th>\n",
       "    </tr>\n",
       "  </thead>\n",
       "  <tbody>\n",
       "    <tr>\n",
       "      <th>0</th>\n",
       "      <td>DesTree</td>\n",
       "      <td>2006</td>\n",
       "      <td>1</td>\n",
       "      <td>0.1</td>\n",
       "    </tr>\n",
       "    <tr>\n",
       "      <th>1</th>\n",
       "      <td>RanForest</td>\n",
       "      <td>1636</td>\n",
       "      <td>1</td>\n",
       "      <td>17.0</td>\n",
       "    </tr>\n",
       "    <tr>\n",
       "      <th>2</th>\n",
       "      <td>LinReg</td>\n",
       "      <td>2861</td>\n",
       "      <td>1</td>\n",
       "      <td>1.0</td>\n",
       "    </tr>\n",
       "    <tr>\n",
       "      <th>3</th>\n",
       "      <td>LGBM</td>\n",
       "      <td>1541</td>\n",
       "      <td>1</td>\n",
       "      <td>36.0</td>\n",
       "    </tr>\n",
       "  </tbody>\n",
       "</table>\n",
       "</div>"
      ],
      "text/plain": [
       "       model  rsme  speed_pred  time_fit\n",
       "0    DesTree  2006           1       0.1\n",
       "1  RanForest  1636           1      17.0\n",
       "2     LinReg  2861           1       1.0\n",
       "3       LGBM  1541           1      36.0"
      ]
     },
     "execution_count": 212,
     "metadata": {},
     "output_type": "execute_result"
    }
   ],
   "source": [
    "pd.DataFrame({'model':['DesTree','RanForest','LinReg','LGBM'],'rsme':[2006,1636,2861,1541],'speed_pred':[1,1,1,1],  'time_fit':[0.1,17,1,36]})"
   ]
  },
  {
   "cell_type": "markdown",
   "metadata": {},
   "source": [
    "Ансамблевые модели работают в разы дольше . \n",
    "\n",
    "Точность модели на градиентном бустинге во много превосходит остальные модели по метрике качества. Проблемы со скоростью обучения возможно невилировать несколькими подходов к ускорению этого процесса, например:\n",
    "изменение метода построения дерева, использование облачных вычислений и распределенный XGBoost на лучи(потоки)"
   ]
  },
  {
   "cell_type": "code",
   "execution_count": null,
   "metadata": {},
   "outputs": [],
   "source": []
  }
 ],
 "metadata": {
  "ExecuteTimeLog": [
   {
    "duration": 601,
    "start_time": "2022-05-11T10:54:36.241Z"
   },
   {
    "duration": 2,
    "start_time": "2022-05-11T10:54:44.540Z"
   },
   {
    "duration": 719,
    "start_time": "2022-05-11T11:06:09.732Z"
   },
   {
    "duration": 16,
    "start_time": "2022-05-11T11:06:23.804Z"
   },
   {
    "duration": 131,
    "start_time": "2022-05-11T11:06:39.100Z"
   },
   {
    "duration": 81,
    "start_time": "2022-05-11T11:06:57.424Z"
   },
   {
    "duration": 30,
    "start_time": "2022-05-11T11:28:18.588Z"
   },
   {
    "duration": 203,
    "start_time": "2022-05-11T11:29:34.456Z"
   },
   {
    "duration": 118,
    "start_time": "2022-05-11T11:29:46.490Z"
   },
   {
    "duration": 116,
    "start_time": "2022-05-11T11:30:03.894Z"
   },
   {
    "duration": 111,
    "start_time": "2022-05-11T11:30:18.068Z"
   },
   {
    "duration": 124,
    "start_time": "2022-05-11T11:31:08.602Z"
   },
   {
    "duration": 86,
    "start_time": "2022-05-11T11:31:32.892Z"
   },
   {
    "duration": 85,
    "start_time": "2022-05-11T11:31:56.539Z"
   },
   {
    "duration": 81,
    "start_time": "2022-05-11T11:32:22.521Z"
   },
   {
    "duration": 83,
    "start_time": "2022-05-11T11:32:33.799Z"
   },
   {
    "duration": 82,
    "start_time": "2022-05-11T11:32:48.898Z"
   },
   {
    "duration": 82,
    "start_time": "2022-05-11T11:32:59.845Z"
   },
   {
    "duration": 163,
    "start_time": "2022-05-11T11:33:38.897Z"
   },
   {
    "duration": 168,
    "start_time": "2022-05-11T11:35:02.582Z"
   },
   {
    "duration": 6,
    "start_time": "2022-05-11T11:36:18.053Z"
   },
   {
    "duration": 54528,
    "start_time": "2022-05-11T11:36:25.323Z"
   },
   {
    "duration": 17,
    "start_time": "2022-05-11T11:38:04.724Z"
   },
   {
    "duration": 52,
    "start_time": "2022-05-11T11:40:01.435Z"
   },
   {
    "duration": 53,
    "start_time": "2022-05-11T11:40:08.234Z"
   },
   {
    "duration": 283,
    "start_time": "2022-05-11T12:37:58.820Z"
   },
   {
    "duration": 249,
    "start_time": "2022-05-11T12:38:11.658Z"
   },
   {
    "duration": 81,
    "start_time": "2022-05-11T12:38:28.407Z"
   },
   {
    "duration": 134,
    "start_time": "2022-05-11T12:38:36.443Z"
   },
   {
    "duration": 80,
    "start_time": "2022-05-11T12:38:58.659Z"
   },
   {
    "duration": 47,
    "start_time": "2022-05-11T12:39:34.294Z"
   },
   {
    "duration": 76,
    "start_time": "2022-05-11T12:39:38.910Z"
   },
   {
    "duration": 168,
    "start_time": "2022-05-11T12:42:02.867Z"
   },
   {
    "duration": 1253,
    "start_time": "2022-05-11T12:42:12.008Z"
   },
   {
    "duration": 1690,
    "start_time": "2022-05-11T12:43:21.193Z"
   },
   {
    "duration": 1542,
    "start_time": "2022-05-11T12:43:27.563Z"
   },
   {
    "duration": 1419,
    "start_time": "2022-05-11T12:44:08.794Z"
   },
   {
    "duration": 1397,
    "start_time": "2022-05-11T12:44:18.962Z"
   },
   {
    "duration": 163,
    "start_time": "2022-05-11T13:14:47.094Z"
   },
   {
    "duration": 1295,
    "start_time": "2022-05-11T13:14:55.965Z"
   },
   {
    "duration": 1346,
    "start_time": "2022-05-11T13:15:10.812Z"
   },
   {
    "duration": 88,
    "start_time": "2022-05-11T13:15:42.593Z"
   },
   {
    "duration": 6,
    "start_time": "2022-05-11T13:15:51.385Z"
   },
   {
    "duration": 1336,
    "start_time": "2022-05-11T13:17:39.878Z"
   },
   {
    "duration": 1316,
    "start_time": "2022-05-11T13:18:36.763Z"
   },
   {
    "duration": 1279,
    "start_time": "2022-05-11T13:19:12.423Z"
   },
   {
    "duration": 1259,
    "start_time": "2022-05-11T13:21:40.314Z"
   },
   {
    "duration": 1291,
    "start_time": "2022-05-11T13:21:51.294Z"
   },
   {
    "duration": 45,
    "start_time": "2022-05-11T13:24:36.486Z"
   },
   {
    "duration": 46,
    "start_time": "2022-05-11T13:24:47.251Z"
   },
   {
    "duration": 5,
    "start_time": "2022-05-11T13:24:55.778Z"
   },
   {
    "duration": 45,
    "start_time": "2022-05-11T13:25:10.839Z"
   },
   {
    "duration": 6,
    "start_time": "2022-05-11T13:25:12.092Z"
   },
   {
    "duration": 3,
    "start_time": "2022-05-11T13:25:19.204Z"
   },
   {
    "duration": 738,
    "start_time": "2022-05-11T13:25:19.413Z"
   },
   {
    "duration": 126,
    "start_time": "2022-05-11T13:25:20.152Z"
   },
   {
    "duration": 89,
    "start_time": "2022-05-11T13:25:20.280Z"
   },
   {
    "duration": 13,
    "start_time": "2022-05-11T13:25:20.371Z"
   },
   {
    "duration": 162,
    "start_time": "2022-05-11T13:25:21.004Z"
   },
   {
    "duration": 57,
    "start_time": "2022-05-11T13:25:21.525Z"
   },
   {
    "duration": 8,
    "start_time": "2022-05-11T13:25:22.146Z"
   },
   {
    "duration": 390,
    "start_time": "2022-05-11T13:25:42.359Z"
   },
   {
    "duration": 729,
    "start_time": "2022-05-11T13:25:42.751Z"
   },
   {
    "duration": 138,
    "start_time": "2022-05-11T13:25:43.482Z"
   },
   {
    "duration": 100,
    "start_time": "2022-05-11T13:25:43.622Z"
   },
   {
    "duration": 11,
    "start_time": "2022-05-11T13:25:43.724Z"
   },
   {
    "duration": 182,
    "start_time": "2022-05-11T13:25:43.737Z"
   },
   {
    "duration": 55,
    "start_time": "2022-05-11T13:25:43.921Z"
   },
   {
    "duration": 5,
    "start_time": "2022-05-11T13:25:52.575Z"
   },
   {
    "duration": 51,
    "start_time": "2022-05-11T13:29:01.683Z"
   },
   {
    "duration": 6,
    "start_time": "2022-05-11T13:29:04.448Z"
   },
   {
    "duration": 574,
    "start_time": "2022-05-11T13:29:08.635Z"
   },
   {
    "duration": 63,
    "start_time": "2022-05-11T13:29:20.953Z"
   },
   {
    "duration": 305,
    "start_time": "2022-05-11T13:29:42.721Z"
   },
   {
    "duration": 166,
    "start_time": "2022-05-11T13:30:18.176Z"
   },
   {
    "duration": 1391,
    "start_time": "2022-05-11T13:32:59.456Z"
   },
   {
    "duration": 1318,
    "start_time": "2022-05-11T13:33:17.049Z"
   },
   {
    "duration": 1253,
    "start_time": "2022-05-11T13:33:26.643Z"
   },
   {
    "duration": 61,
    "start_time": "2022-05-11T13:33:32.358Z"
   },
   {
    "duration": 1345,
    "start_time": "2022-05-11T13:33:41.147Z"
   },
   {
    "duration": 62,
    "start_time": "2022-05-11T13:33:54.067Z"
   },
   {
    "duration": 222,
    "start_time": "2022-05-11T13:46:17.166Z"
   },
   {
    "duration": 62,
    "start_time": "2022-05-11T14:35:23.338Z"
   },
   {
    "duration": 928,
    "start_time": "2022-05-11T14:35:26.946Z"
   },
   {
    "duration": 76,
    "start_time": "2022-05-11T14:35:52.593Z"
   },
   {
    "duration": 49,
    "start_time": "2022-05-11T14:36:15.717Z"
   },
   {
    "duration": 71,
    "start_time": "2022-05-11T14:36:40.156Z"
   },
   {
    "duration": 577,
    "start_time": "2022-05-11T14:45:28.591Z"
   },
   {
    "duration": 8,
    "start_time": "2022-05-11T14:45:34.667Z"
   },
   {
    "duration": 70,
    "start_time": "2022-05-11T14:45:39.163Z"
   },
   {
    "duration": 145,
    "start_time": "2022-05-11T14:46:58.356Z"
   },
   {
    "duration": 87,
    "start_time": "2022-05-11T14:48:25.805Z"
   },
   {
    "duration": 88,
    "start_time": "2022-05-11T14:48:42.894Z"
   },
   {
    "duration": 25,
    "start_time": "2022-05-11T14:49:56.281Z"
   },
   {
    "duration": 116,
    "start_time": "2022-05-11T14:50:31.583Z"
   },
   {
    "duration": 32,
    "start_time": "2022-05-11T14:59:53.271Z"
   },
   {
    "duration": 37,
    "start_time": "2022-05-11T15:00:10.500Z"
   },
   {
    "duration": 198,
    "start_time": "2022-05-11T15:00:46.313Z"
   },
   {
    "duration": 166,
    "start_time": "2022-05-11T15:00:57.431Z"
   },
   {
    "duration": 4,
    "start_time": "2022-05-11T15:01:03.058Z"
   },
   {
    "duration": 251,
    "start_time": "2022-05-11T15:01:15.424Z"
   },
   {
    "duration": 193,
    "start_time": "2022-05-11T15:01:24.925Z"
   },
   {
    "duration": 178,
    "start_time": "2022-05-11T15:01:43.778Z"
   },
   {
    "duration": 62,
    "start_time": "2022-05-11T15:01:50.366Z"
   },
   {
    "duration": 202,
    "start_time": "2022-05-11T15:02:03.715Z"
   },
   {
    "duration": 62,
    "start_time": "2022-05-11T15:02:09.698Z"
   },
   {
    "duration": 62,
    "start_time": "2022-05-11T15:02:30.318Z"
   },
   {
    "duration": 62,
    "start_time": "2022-05-11T15:02:46.344Z"
   },
   {
    "duration": 62,
    "start_time": "2022-05-11T15:06:31.221Z"
   },
   {
    "duration": 32,
    "start_time": "2022-05-11T15:06:40.783Z"
   },
   {
    "duration": 119,
    "start_time": "2022-05-11T16:39:34.352Z"
   },
   {
    "duration": 7,
    "start_time": "2022-05-11T16:40:48.545Z"
   },
   {
    "duration": 8,
    "start_time": "2022-05-11T16:40:52.720Z"
   },
   {
    "duration": 1552,
    "start_time": "2022-05-11T17:20:11.559Z"
   },
   {
    "duration": 103,
    "start_time": "2022-05-11T17:22:02.174Z"
   },
   {
    "duration": 121,
    "start_time": "2022-05-11T17:22:30.779Z"
   },
   {
    "duration": 108,
    "start_time": "2022-05-11T17:22:51.585Z"
   },
   {
    "duration": 57,
    "start_time": "2022-05-11T17:24:08.908Z"
   },
   {
    "duration": 9,
    "start_time": "2022-05-11T17:24:15.968Z"
   },
   {
    "duration": 41,
    "start_time": "2022-05-11T17:24:24.234Z"
   },
   {
    "duration": 14,
    "start_time": "2022-05-11T17:25:07.477Z"
   },
   {
    "duration": 8,
    "start_time": "2022-05-11T17:25:17.401Z"
   },
   {
    "duration": 3,
    "start_time": "2022-05-11T17:25:40.147Z"
   },
   {
    "duration": 133,
    "start_time": "2022-05-11T17:25:55.513Z"
   },
   {
    "duration": 909,
    "start_time": "2022-05-11T17:26:22.679Z"
   },
   {
    "duration": 2437,
    "start_time": "2022-05-11T17:26:27.997Z"
   },
   {
    "duration": 14,
    "start_time": "2022-05-11T17:26:42.227Z"
   },
   {
    "duration": 3,
    "start_time": "2022-05-11T17:26:47.284Z"
   },
   {
    "duration": 25,
    "start_time": "2022-05-11T19:17:20.508Z"
   },
   {
    "duration": 3,
    "start_time": "2022-05-11T19:25:38.829Z"
   },
   {
    "duration": 956,
    "start_time": "2022-05-11T19:30:31.264Z"
   },
   {
    "duration": 10,
    "start_time": "2022-05-11T19:37:52.528Z"
   },
   {
    "duration": 9,
    "start_time": "2022-05-11T19:38:09.077Z"
   },
   {
    "duration": 9,
    "start_time": "2022-05-11T19:38:22.058Z"
   },
   {
    "duration": 4,
    "start_time": "2022-05-11T19:38:44.027Z"
   },
   {
    "duration": 137,
    "start_time": "2022-05-11T20:25:29.790Z"
   },
   {
    "duration": 2479,
    "start_time": "2022-05-11T20:28:22.856Z"
   },
   {
    "duration": 24,
    "start_time": "2022-05-11T20:28:38.973Z"
   },
   {
    "duration": 204,
    "start_time": "2022-05-12T06:46:26.955Z"
   },
   {
    "duration": 17,
    "start_time": "2022-05-12T06:46:40.213Z"
   },
   {
    "duration": 2554,
    "start_time": "2022-05-12T06:56:33.726Z"
   },
   {
    "duration": 20,
    "start_time": "2022-05-12T06:56:47.655Z"
   },
   {
    "duration": 156,
    "start_time": "2022-05-12T06:57:17.780Z"
   },
   {
    "duration": 224,
    "start_time": "2022-05-12T06:57:34.860Z"
   },
   {
    "duration": 179,
    "start_time": "2022-05-12T07:28:31.376Z"
   },
   {
    "duration": 22,
    "start_time": "2022-05-12T07:28:46.864Z"
   },
   {
    "duration": 3,
    "start_time": "2022-05-12T07:30:02.781Z"
   },
   {
    "duration": 3,
    "start_time": "2022-05-12T07:30:03.043Z"
   },
   {
    "duration": 3,
    "start_time": "2022-05-12T07:30:04.335Z"
   },
   {
    "duration": 699,
    "start_time": "2022-05-12T07:30:04.554Z"
   },
   {
    "duration": 118,
    "start_time": "2022-05-12T07:30:05.254Z"
   },
   {
    "duration": 90,
    "start_time": "2022-05-12T07:30:05.374Z"
   },
   {
    "duration": 12,
    "start_time": "2022-05-12T07:30:05.465Z"
   },
   {
    "duration": 15,
    "start_time": "2022-05-12T07:30:05.894Z"
   },
   {
    "duration": 16,
    "start_time": "2022-05-12T07:30:06.579Z"
   },
   {
    "duration": 179,
    "start_time": "2022-05-12T07:30:06.769Z"
   },
   {
    "duration": 166,
    "start_time": "2022-05-12T07:30:07.213Z"
   },
   {
    "duration": 76,
    "start_time": "2022-05-12T07:30:08.437Z"
   },
   {
    "duration": 230,
    "start_time": "2022-05-12T07:30:09.828Z"
   },
   {
    "duration": 20,
    "start_time": "2022-05-12T07:30:16.423Z"
   },
   {
    "duration": 9,
    "start_time": "2022-05-12T07:32:21.013Z"
   },
   {
    "duration": 7,
    "start_time": "2022-05-12T07:34:03.456Z"
   },
   {
    "duration": 5,
    "start_time": "2022-05-12T07:34:08.690Z"
   },
   {
    "duration": 5,
    "start_time": "2022-05-12T07:34:12.930Z"
   },
   {
    "duration": 6,
    "start_time": "2022-05-12T07:34:16.855Z"
   },
   {
    "duration": 6,
    "start_time": "2022-05-12T07:34:20.532Z"
   },
   {
    "duration": 5,
    "start_time": "2022-05-12T07:34:23.831Z"
   },
   {
    "duration": 5,
    "start_time": "2022-05-12T07:34:27.741Z"
   },
   {
    "duration": 6,
    "start_time": "2022-05-12T07:34:31.139Z"
   },
   {
    "duration": 193,
    "start_time": "2022-05-12T07:34:37.666Z"
   },
   {
    "duration": 9,
    "start_time": "2022-05-12T07:34:45.414Z"
   },
   {
    "duration": 9,
    "start_time": "2022-05-12T07:34:56.901Z"
   },
   {
    "duration": 12,
    "start_time": "2022-05-12T07:35:05.811Z"
   },
   {
    "duration": 10,
    "start_time": "2022-05-12T07:35:53.498Z"
   },
   {
    "duration": 10,
    "start_time": "2022-05-12T07:36:00.572Z"
   },
   {
    "duration": 373,
    "start_time": "2022-05-12T07:37:14.309Z"
   },
   {
    "duration": 11,
    "start_time": "2022-05-12T07:39:01.927Z"
   },
   {
    "duration": 10,
    "start_time": "2022-05-12T07:39:05.965Z"
   },
   {
    "duration": 10,
    "start_time": "2022-05-12T07:39:17.264Z"
   },
   {
    "duration": 11,
    "start_time": "2022-05-12T07:43:35.959Z"
   },
   {
    "duration": 9,
    "start_time": "2022-05-12T07:43:40.889Z"
   },
   {
    "duration": 10,
    "start_time": "2022-05-12T07:43:49.250Z"
   },
   {
    "duration": 9,
    "start_time": "2022-05-12T07:43:59.061Z"
   },
   {
    "duration": 9,
    "start_time": "2022-05-12T08:14:59.994Z"
   },
   {
    "duration": 9,
    "start_time": "2022-05-12T08:15:18.292Z"
   },
   {
    "duration": 9,
    "start_time": "2022-05-12T08:15:26.915Z"
   },
   {
    "duration": 10,
    "start_time": "2022-05-12T08:15:31.744Z"
   },
   {
    "duration": 9,
    "start_time": "2022-05-12T08:15:52.191Z"
   },
   {
    "duration": 536,
    "start_time": "2022-05-12T08:16:38.098Z"
   },
   {
    "duration": 147,
    "start_time": "2022-05-12T08:16:57.569Z"
   },
   {
    "duration": 149,
    "start_time": "2022-05-12T08:17:09.394Z"
   },
   {
    "duration": 193,
    "start_time": "2022-05-12T08:17:20.912Z"
   },
   {
    "duration": 9,
    "start_time": "2022-05-12T08:17:47.881Z"
   },
   {
    "duration": 6,
    "start_time": "2022-05-12T08:17:53.485Z"
   },
   {
    "duration": 9,
    "start_time": "2022-05-12T08:18:00.697Z"
   },
   {
    "duration": 9,
    "start_time": "2022-05-12T08:18:09.383Z"
   },
   {
    "duration": 9,
    "start_time": "2022-05-12T08:18:21.294Z"
   },
   {
    "duration": 9,
    "start_time": "2022-05-12T08:18:30.961Z"
   },
   {
    "duration": 28,
    "start_time": "2022-05-12T08:22:41.438Z"
   },
   {
    "duration": 15,
    "start_time": "2022-05-12T08:22:51.656Z"
   },
   {
    "duration": 244,
    "start_time": "2022-05-12T08:34:54.610Z"
   },
   {
    "duration": 33,
    "start_time": "2022-05-12T08:40:19.411Z"
   },
   {
    "duration": 5,
    "start_time": "2022-05-12T09:04:19.928Z"
   },
   {
    "duration": 12,
    "start_time": "2022-05-12T09:04:41.761Z"
   },
   {
    "duration": 5,
    "start_time": "2022-05-12T09:05:03.227Z"
   },
   {
    "duration": 101,
    "start_time": "2022-05-12T09:05:20.013Z"
   },
   {
    "duration": 106,
    "start_time": "2022-05-12T09:05:31.164Z"
   },
   {
    "duration": 126,
    "start_time": "2022-05-12T09:05:37.906Z"
   },
   {
    "duration": 100,
    "start_time": "2022-05-12T09:06:57.142Z"
   },
   {
    "duration": 5,
    "start_time": "2022-05-12T09:07:55.194Z"
   },
   {
    "duration": 16,
    "start_time": "2022-05-12T09:08:05.633Z"
   },
   {
    "duration": 4,
    "start_time": "2022-05-12T10:15:34.297Z"
   },
   {
    "duration": 3,
    "start_time": "2022-05-12T10:15:51.143Z"
   },
   {
    "duration": 3,
    "start_time": "2022-05-12T10:16:20.313Z"
   },
   {
    "duration": 4,
    "start_time": "2022-05-12T10:16:32.382Z"
   },
   {
    "duration": 56,
    "start_time": "2022-05-12T10:18:42.735Z"
   },
   {
    "duration": 67,
    "start_time": "2022-05-12T10:19:06.419Z"
   },
   {
    "duration": 71,
    "start_time": "2022-05-12T10:19:25.888Z"
   },
   {
    "duration": 79,
    "start_time": "2022-05-12T10:24:41.937Z"
   },
   {
    "duration": 290,
    "start_time": "2022-05-12T10:30:52.893Z"
   },
   {
    "duration": 277,
    "start_time": "2022-05-12T10:31:09.371Z"
   },
   {
    "duration": 276,
    "start_time": "2022-05-12T10:31:14.426Z"
   },
   {
    "duration": 31,
    "start_time": "2022-05-12T11:37:07.543Z"
   },
   {
    "duration": 10,
    "start_time": "2022-05-12T11:39:15.846Z"
   },
   {
    "duration": 12,
    "start_time": "2022-05-12T11:39:21.185Z"
   },
   {
    "duration": 12,
    "start_time": "2022-05-12T11:40:15.117Z"
   },
   {
    "duration": 2649,
    "start_time": "2022-05-12T11:40:33.287Z"
   },
   {
    "duration": 4761,
    "start_time": "2022-05-12T11:41:08.885Z"
   },
   {
    "duration": 86,
    "start_time": "2022-05-12T11:41:29.090Z"
   },
   {
    "duration": 1001,
    "start_time": "2022-05-12T11:41:42.945Z"
   },
   {
    "duration": 82,
    "start_time": "2022-05-12T11:41:48.910Z"
   },
   {
    "duration": 1795,
    "start_time": "2022-05-12T11:41:56.288Z"
   },
   {
    "duration": 4,
    "start_time": "2022-05-12T11:42:16.422Z"
   },
   {
    "duration": 10,
    "start_time": "2022-05-12T11:42:24.508Z"
   },
   {
    "duration": 12,
    "start_time": "2022-05-12T11:42:37.185Z"
   },
   {
    "duration": 10,
    "start_time": "2022-05-12T11:43:04.162Z"
   },
   {
    "duration": 74,
    "start_time": "2022-05-12T11:52:49.681Z"
   },
   {
    "duration": 80,
    "start_time": "2022-05-12T11:53:11.791Z"
   },
   {
    "duration": 84,
    "start_time": "2022-05-12T11:53:36.913Z"
   },
   {
    "duration": 82,
    "start_time": "2022-05-12T11:53:49.802Z"
   },
   {
    "duration": 931,
    "start_time": "2022-05-12T11:53:57.450Z"
   },
   {
    "duration": 403,
    "start_time": "2022-05-12T11:54:33.002Z"
   },
   {
    "duration": 271,
    "start_time": "2022-05-12T11:54:45.107Z"
   },
   {
    "duration": 3608,
    "start_time": "2022-05-12T11:54:50.946Z"
   },
   {
    "duration": 303,
    "start_time": "2022-05-12T11:54:59.626Z"
   },
   {
    "duration": 286,
    "start_time": "2022-05-12T11:55:05.215Z"
   },
   {
    "duration": 295,
    "start_time": "2022-05-12T11:55:09.280Z"
   },
   {
    "duration": 292,
    "start_time": "2022-05-12T11:55:13.554Z"
   },
   {
    "duration": 268,
    "start_time": "2022-05-12T11:56:30.909Z"
   },
   {
    "duration": 18,
    "start_time": "2022-05-12T11:57:10.540Z"
   },
   {
    "duration": 24,
    "start_time": "2022-05-12T11:57:19.721Z"
   },
   {
    "duration": 18,
    "start_time": "2022-05-12T11:57:20.209Z"
   },
   {
    "duration": 19,
    "start_time": "2022-05-12T11:57:20.576Z"
   },
   {
    "duration": 19,
    "start_time": "2022-05-12T11:57:20.771Z"
   },
   {
    "duration": 18,
    "start_time": "2022-05-12T11:57:20.956Z"
   },
   {
    "duration": 18,
    "start_time": "2022-05-12T11:57:21.152Z"
   },
   {
    "duration": 19,
    "start_time": "2022-05-12T11:57:21.333Z"
   },
   {
    "duration": 19,
    "start_time": "2022-05-12T11:57:21.500Z"
   },
   {
    "duration": 17,
    "start_time": "2022-05-12T11:57:32.601Z"
   },
   {
    "duration": 25,
    "start_time": "2022-05-12T11:57:41.392Z"
   },
   {
    "duration": 25,
    "start_time": "2022-05-12T11:57:51.642Z"
   },
   {
    "duration": 4727,
    "start_time": "2022-05-12T11:57:55.028Z"
   },
   {
    "duration": 7542,
    "start_time": "2022-05-12T11:58:02.200Z"
   },
   {
    "duration": 41,
    "start_time": "2022-05-12T11:58:14.358Z"
   },
   {
    "duration": 19,
    "start_time": "2022-05-12T11:58:27.707Z"
   },
   {
    "duration": 347,
    "start_time": "2022-05-12T11:58:36.666Z"
   },
   {
    "duration": 285,
    "start_time": "2022-05-12T11:59:11.765Z"
   },
   {
    "duration": 329,
    "start_time": "2022-05-12T11:59:14.257Z"
   },
   {
    "duration": 290,
    "start_time": "2022-05-12T12:00:20.976Z"
   },
   {
    "duration": 278,
    "start_time": "2022-05-12T12:01:36.294Z"
   },
   {
    "duration": 285,
    "start_time": "2022-05-12T12:14:23.986Z"
   },
   {
    "duration": 19,
    "start_time": "2022-05-12T12:14:28.442Z"
   },
   {
    "duration": 169,
    "start_time": "2022-05-12T12:15:19.083Z"
   },
   {
    "duration": 129,
    "start_time": "2022-05-12T12:29:14.898Z"
   },
   {
    "duration": 17,
    "start_time": "2022-05-12T12:29:32.767Z"
   },
   {
    "duration": 9,
    "start_time": "2022-05-12T12:30:28.356Z"
   },
   {
    "duration": 6,
    "start_time": "2022-05-12T12:30:45.093Z"
   },
   {
    "duration": 364,
    "start_time": "2022-05-12T12:33:22.822Z"
   },
   {
    "duration": 9,
    "start_time": "2022-05-12T12:36:27.089Z"
   },
   {
    "duration": 10,
    "start_time": "2022-05-12T12:36:40.164Z"
   },
   {
    "duration": 18,
    "start_time": "2022-05-12T12:37:13.074Z"
   },
   {
    "duration": 334,
    "start_time": "2022-05-12T12:39:14.187Z"
   },
   {
    "duration": 19,
    "start_time": "2022-05-12T12:39:18.762Z"
   },
   {
    "duration": 4,
    "start_time": "2022-05-12T12:39:36.446Z"
   },
   {
    "duration": 953,
    "start_time": "2022-05-12T12:39:41.545Z"
   },
   {
    "duration": 355,
    "start_time": "2022-05-12T12:40:02.201Z"
   },
   {
    "duration": 31,
    "start_time": "2022-05-12T12:40:10.725Z"
   },
   {
    "duration": 321,
    "start_time": "2022-05-12T12:40:34.782Z"
   },
   {
    "duration": 41,
    "start_time": "2022-05-12T12:40:37.394Z"
   },
   {
    "duration": 328,
    "start_time": "2022-05-12T12:40:46.672Z"
   },
   {
    "duration": 34,
    "start_time": "2022-05-12T12:40:50.015Z"
   },
   {
    "duration": 313,
    "start_time": "2022-05-12T12:42:53.561Z"
   },
   {
    "duration": 42,
    "start_time": "2022-05-12T12:42:56.182Z"
   },
   {
    "duration": 38,
    "start_time": "2022-05-12T12:51:48.716Z"
   },
   {
    "duration": 32,
    "start_time": "2022-05-12T13:06:06.511Z"
   },
   {
    "duration": 11,
    "start_time": "2022-05-12T13:12:31.098Z"
   },
   {
    "duration": 28,
    "start_time": "2022-05-12T13:12:53.846Z"
   },
   {
    "duration": 857,
    "start_time": "2022-05-12T13:19:19.518Z"
   },
   {
    "duration": 989,
    "start_time": "2022-05-12T13:19:38.076Z"
   },
   {
    "duration": 917,
    "start_time": "2022-05-12T13:19:50.542Z"
   },
   {
    "duration": 609,
    "start_time": "2022-05-12T13:21:10.544Z"
   },
   {
    "duration": 36,
    "start_time": "2022-05-12T13:21:17.224Z"
   },
   {
    "duration": 5,
    "start_time": "2022-05-12T16:38:43.600Z"
   },
   {
    "duration": 796,
    "start_time": "2022-05-12T16:38:43.774Z"
   },
   {
    "duration": 139,
    "start_time": "2022-05-12T16:38:44.572Z"
   },
   {
    "duration": 98,
    "start_time": "2022-05-12T16:38:44.713Z"
   },
   {
    "duration": 13,
    "start_time": "2022-05-12T16:38:44.814Z"
   },
   {
    "duration": 16,
    "start_time": "2022-05-12T16:38:45.355Z"
   },
   {
    "duration": 15,
    "start_time": "2022-05-12T16:38:45.746Z"
   },
   {
    "duration": 471,
    "start_time": "2022-05-12T16:38:46.445Z"
   },
   {
    "duration": 219,
    "start_time": "2022-05-12T16:38:46.918Z"
   },
   {
    "duration": 9,
    "start_time": "2022-05-12T16:38:47.139Z"
   },
   {
    "duration": 27,
    "start_time": "2022-05-12T16:38:47.516Z"
   },
   {
    "duration": 40,
    "start_time": "2022-05-12T16:38:52.177Z"
   },
   {
    "duration": 298,
    "start_time": "2022-05-12T16:39:18.983Z"
   },
   {
    "duration": 33,
    "start_time": "2022-05-12T16:39:22.215Z"
   },
   {
    "duration": 33,
    "start_time": "2022-05-12T16:39:28.246Z"
   },
   {
    "duration": 28,
    "start_time": "2022-05-12T16:39:46.079Z"
   },
   {
    "duration": 26,
    "start_time": "2022-05-12T16:39:48.661Z"
   },
   {
    "duration": 23,
    "start_time": "2022-05-12T16:40:00.842Z"
   },
   {
    "duration": 27,
    "start_time": "2022-05-12T16:40:09.586Z"
   },
   {
    "duration": 22,
    "start_time": "2022-05-12T16:40:14.846Z"
   },
   {
    "duration": 0,
    "start_time": "2022-05-12T16:40:27.771Z"
   },
   {
    "duration": 23,
    "start_time": "2022-05-12T16:40:32.214Z"
   },
   {
    "duration": 165,
    "start_time": "2022-05-12T17:34:13.303Z"
   },
   {
    "duration": 153,
    "start_time": "2022-05-12T17:40:22.763Z"
   },
   {
    "duration": 28950,
    "start_time": "2022-05-12T17:41:16.205Z"
   },
   {
    "duration": 3,
    "start_time": "2022-05-12T17:45:16.793Z"
   },
   {
    "duration": 33,
    "start_time": "2022-05-12T17:47:22.484Z"
   },
   {
    "duration": 48,
    "start_time": "2022-05-12T17:47:31.721Z"
   },
   {
    "duration": 77,
    "start_time": "2022-05-12T17:47:43.013Z"
   },
   {
    "duration": 33,
    "start_time": "2022-05-12T17:48:01.919Z"
   },
   {
    "duration": 74,
    "start_time": "2022-05-12T17:48:04.138Z"
   },
   {
    "duration": 215,
    "start_time": "2022-05-12T17:50:48.202Z"
   },
   {
    "duration": 78,
    "start_time": "2022-05-12T17:51:00.865Z"
   },
   {
    "duration": 405,
    "start_time": "2022-05-12T17:52:16.225Z"
   },
   {
    "duration": 66,
    "start_time": "2022-05-12T17:52:18.089Z"
   },
   {
    "duration": 1340,
    "start_time": "2022-05-12T17:53:54.899Z"
   },
   {
    "duration": 802,
    "start_time": "2022-05-12T17:53:56.241Z"
   },
   {
    "duration": 137,
    "start_time": "2022-05-12T17:53:57.045Z"
   },
   {
    "duration": 111,
    "start_time": "2022-05-12T17:53:57.200Z"
   },
   {
    "duration": 14,
    "start_time": "2022-05-12T17:53:57.313Z"
   },
   {
    "duration": 30,
    "start_time": "2022-05-12T17:53:58.411Z"
   },
   {
    "duration": 21,
    "start_time": "2022-05-12T17:53:58.746Z"
   },
   {
    "duration": 904,
    "start_time": "2022-05-12T17:53:58.920Z"
   },
   {
    "duration": 170,
    "start_time": "2022-05-12T17:53:59.826Z"
   },
   {
    "duration": 11,
    "start_time": "2022-05-12T17:54:00.002Z"
   },
   {
    "duration": 36,
    "start_time": "2022-05-12T17:54:00.987Z"
   },
   {
    "duration": 36,
    "start_time": "2022-05-12T17:54:02.173Z"
   },
   {
    "duration": 623,
    "start_time": "2022-05-12T17:54:37.791Z"
   },
   {
    "duration": 150,
    "start_time": "2022-05-12T17:54:46.680Z"
   },
   {
    "duration": 228,
    "start_time": "2022-05-12T17:55:02.964Z"
   },
   {
    "duration": 226,
    "start_time": "2022-05-12T17:55:08.605Z"
   },
   {
    "duration": 248,
    "start_time": "2022-05-12T17:55:19.462Z"
   },
   {
    "duration": 221,
    "start_time": "2022-05-12T17:55:46.181Z"
   },
   {
    "duration": 187,
    "start_time": "2022-05-12T17:55:55.024Z"
   },
   {
    "duration": 176,
    "start_time": "2022-05-12T17:55:59.394Z"
   },
   {
    "duration": 6,
    "start_time": "2022-05-12T17:56:54.328Z"
   },
   {
    "duration": 29,
    "start_time": "2022-05-12T17:56:57.864Z"
   },
   {
    "duration": 32,
    "start_time": "2022-05-12T18:01:57.335Z"
   },
   {
    "duration": 236,
    "start_time": "2022-05-12T18:02:04.088Z"
   },
   {
    "duration": 283,
    "start_time": "2022-05-12T18:02:08.108Z"
   },
   {
    "duration": 30,
    "start_time": "2022-05-12T18:02:10.612Z"
   },
   {
    "duration": 21,
    "start_time": "2022-05-12T18:02:19.845Z"
   },
   {
    "duration": 17106,
    "start_time": "2022-05-12T18:07:42.113Z"
   },
   {
    "duration": 162,
    "start_time": "2022-05-12T18:08:53.864Z"
   },
   {
    "duration": 166,
    "start_time": "2022-05-12T18:09:03.555Z"
   },
   {
    "duration": 601,
    "start_time": "2022-05-12T18:09:58.863Z"
   },
   {
    "duration": 184,
    "start_time": "2022-05-12T18:10:08.900Z"
   },
   {
    "duration": 16617,
    "start_time": "2022-05-12T18:10:14.847Z"
   },
   {
    "duration": 18795,
    "start_time": "2022-05-12T18:20:56.562Z"
   },
   {
    "duration": 23778,
    "start_time": "2022-05-12T18:21:23.336Z"
   },
   {
    "duration": 7,
    "start_time": "2022-05-12T18:22:01.378Z"
   },
   {
    "duration": 150,
    "start_time": "2022-05-12T18:22:06.840Z"
   },
   {
    "duration": 33,
    "start_time": "2022-05-12T18:22:21.150Z"
   },
   {
    "duration": 20,
    "start_time": "2022-05-12T18:22:26.148Z"
   },
   {
    "duration": 17223,
    "start_time": "2022-05-12T18:23:09.499Z"
   },
   {
    "duration": 6,
    "start_time": "2022-05-12T18:23:29.494Z"
   },
   {
    "duration": 130,
    "start_time": "2022-05-12T18:23:47.375Z"
   },
   {
    "duration": 135,
    "start_time": "2022-05-12T18:24:07.825Z"
   },
   {
    "duration": 9,
    "start_time": "2022-05-12T18:25:18.120Z"
   },
   {
    "duration": 3,
    "start_time": "2022-05-12T18:25:33.582Z"
   },
   {
    "duration": 3,
    "start_time": "2022-05-12T18:25:39.812Z"
   },
   {
    "duration": 2459,
    "start_time": "2022-05-12T18:25:44.242Z"
   },
   {
    "duration": 109,
    "start_time": "2022-05-12T18:28:29.677Z"
   },
   {
    "duration": 15,
    "start_time": "2022-05-12T18:28:56.756Z"
   },
   {
    "duration": 126,
    "start_time": "2022-05-12T18:29:05.475Z"
   },
   {
    "duration": 271,
    "start_time": "2022-05-12T18:38:31.947Z"
   },
   {
    "duration": 140,
    "start_time": "2022-05-12T18:39:23.862Z"
   },
   {
    "duration": 4187,
    "start_time": "2022-05-12T18:40:16.455Z"
   },
   {
    "duration": 35,
    "start_time": "2022-05-12T18:40:31.456Z"
   },
   {
    "duration": 80,
    "start_time": "2022-05-12T18:40:52.566Z"
   },
   {
    "duration": 21,
    "start_time": "2022-05-12T18:41:05.504Z"
   },
   {
    "duration": 20441,
    "start_time": "2022-05-12T18:41:18.516Z"
   },
   {
    "duration": 20,
    "start_time": "2022-05-12T18:41:41.660Z"
   },
   {
    "duration": 31,
    "start_time": "2022-05-12T18:43:10.212Z"
   },
   {
    "duration": 33,
    "start_time": "2022-05-12T18:43:10.890Z"
   },
   {
    "duration": 76,
    "start_time": "2022-05-12T18:43:21.123Z"
   },
   {
    "duration": 27106,
    "start_time": "2022-05-12T18:45:09.189Z"
   },
   {
    "duration": 74,
    "start_time": "2022-05-12T18:45:45.922Z"
   },
   {
    "duration": 33,
    "start_time": "2022-05-12T18:48:18.070Z"
   },
   {
    "duration": 14,
    "start_time": "2022-05-12T18:48:23.800Z"
   },
   {
    "duration": 3,
    "start_time": "2022-05-12T18:48:28.805Z"
   },
   {
    "duration": 669,
    "start_time": "2022-05-12T18:48:28.946Z"
   },
   {
    "duration": 128,
    "start_time": "2022-05-12T18:48:29.617Z"
   },
   {
    "duration": 107,
    "start_time": "2022-05-12T18:48:29.747Z"
   },
   {
    "duration": 13,
    "start_time": "2022-05-12T18:48:29.857Z"
   },
   {
    "duration": 21,
    "start_time": "2022-05-12T18:48:29.928Z"
   },
   {
    "duration": 16,
    "start_time": "2022-05-12T18:48:30.690Z"
   },
   {
    "duration": 395,
    "start_time": "2022-05-12T18:48:30.854Z"
   },
   {
    "duration": 145,
    "start_time": "2022-05-12T18:48:32.095Z"
   },
   {
    "duration": 9,
    "start_time": "2022-05-12T18:48:32.592Z"
   },
   {
    "duration": 24,
    "start_time": "2022-05-12T18:48:33.701Z"
   },
   {
    "duration": 31,
    "start_time": "2022-05-12T18:48:34.571Z"
   },
   {
    "duration": 269,
    "start_time": "2022-05-12T18:48:35.371Z"
   },
   {
    "duration": 219,
    "start_time": "2022-05-12T18:48:38.560Z"
   },
   {
    "duration": 21,
    "start_time": "2022-05-12T18:48:39.828Z"
   },
   {
    "duration": 272,
    "start_time": "2022-05-12T18:49:15.018Z"
   },
   {
    "duration": 4,
    "start_time": "2022-05-12T18:50:23.121Z"
   },
   {
    "duration": 719,
    "start_time": "2022-05-12T18:50:23.127Z"
   },
   {
    "duration": 128,
    "start_time": "2022-05-12T18:50:23.848Z"
   },
   {
    "duration": 91,
    "start_time": "2022-05-12T18:50:23.978Z"
   },
   {
    "duration": 12,
    "start_time": "2022-05-12T18:50:24.071Z"
   },
   {
    "duration": 21,
    "start_time": "2022-05-12T18:50:24.100Z"
   },
   {
    "duration": 17,
    "start_time": "2022-05-12T18:50:24.123Z"
   },
   {
    "duration": 426,
    "start_time": "2022-05-12T18:50:24.142Z"
   },
   {
    "duration": 173,
    "start_time": "2022-05-12T18:50:24.571Z"
   },
   {
    "duration": 11,
    "start_time": "2022-05-12T18:50:24.746Z"
   },
   {
    "duration": 51,
    "start_time": "2022-05-12T18:50:24.758Z"
   },
   {
    "duration": 29,
    "start_time": "2022-05-12T18:50:24.811Z"
   },
   {
    "duration": 289,
    "start_time": "2022-05-12T18:50:24.842Z"
   },
   {
    "duration": 87,
    "start_time": "2022-05-12T18:50:37.175Z"
   },
   {
    "duration": 13,
    "start_time": "2022-05-12T18:52:20.902Z"
   },
   {
    "duration": 31,
    "start_time": "2022-05-12T18:52:28.728Z"
   },
   {
    "duration": 33,
    "start_time": "2022-05-12T18:52:47.739Z"
   },
   {
    "duration": 31,
    "start_time": "2022-05-12T18:53:00.096Z"
   },
   {
    "duration": 32,
    "start_time": "2022-05-12T18:53:35.796Z"
   },
   {
    "duration": 21,
    "start_time": "2022-05-12T19:21:01.987Z"
   },
   {
    "duration": 31,
    "start_time": "2022-05-12T19:21:12.951Z"
   },
   {
    "duration": 32,
    "start_time": "2022-05-12T19:21:23.641Z"
   },
   {
    "duration": 663,
    "start_time": "2022-05-12T19:23:25.267Z"
   },
   {
    "duration": 680,
    "start_time": "2022-05-12T19:23:50.644Z"
   },
   {
    "duration": 66,
    "start_time": "2022-05-12T19:24:00.760Z"
   },
   {
    "duration": 33,
    "start_time": "2022-05-12T19:24:05.912Z"
   },
   {
    "duration": 59,
    "start_time": "2022-05-12T19:25:36.231Z"
   },
   {
    "duration": 29,
    "start_time": "2022-05-12T19:25:47.802Z"
   },
   {
    "duration": 77,
    "start_time": "2022-05-12T19:26:04.570Z"
   },
   {
    "duration": 23,
    "start_time": "2022-05-12T19:26:06.062Z"
   },
   {
    "duration": 47,
    "start_time": "2022-05-12T19:26:32.550Z"
   },
   {
    "duration": 55,
    "start_time": "2022-05-12T19:26:59.727Z"
   },
   {
    "duration": 22,
    "start_time": "2022-05-12T19:28:32.805Z"
   },
   {
    "duration": 25,
    "start_time": "2022-05-12T19:28:35.852Z"
   },
   {
    "duration": 33,
    "start_time": "2022-05-12T19:28:49.082Z"
   },
   {
    "duration": 30,
    "start_time": "2022-05-12T19:28:54.547Z"
   },
   {
    "duration": 26058,
    "start_time": "2022-05-12T19:29:18.598Z"
   },
   {
    "duration": 48,
    "start_time": "2022-05-12T19:29:44.659Z"
   },
   {
    "duration": 101,
    "start_time": "2022-05-12T19:30:40.000Z"
   },
   {
    "duration": 17,
    "start_time": "2022-05-12T19:34:54.407Z"
   },
   {
    "duration": 174,
    "start_time": "2022-05-12T19:35:17.504Z"
   },
   {
    "duration": 374,
    "start_time": "2022-05-12T19:35:31.317Z"
   },
   {
    "duration": 155,
    "start_time": "2022-05-12T19:35:43.739Z"
   },
   {
    "duration": 135,
    "start_time": "2022-05-12T19:35:52.467Z"
   },
   {
    "duration": 252,
    "start_time": "2022-05-12T19:37:19.843Z"
   },
   {
    "duration": 204,
    "start_time": "2022-05-12T19:37:22.383Z"
   },
   {
    "duration": 57,
    "start_time": "2022-05-12T19:37:25.157Z"
   },
   {
    "duration": 41,
    "start_time": "2022-05-12T19:37:47.709Z"
   },
   {
    "duration": 14820,
    "start_time": "2022-05-12T19:48:48.621Z"
   },
   {
    "duration": 33,
    "start_time": "2022-05-12T19:49:06.981Z"
   },
   {
    "duration": 50,
    "start_time": "2022-05-12T19:51:28.455Z"
   },
   {
    "duration": 71,
    "start_time": "2022-05-12T19:51:38.003Z"
   },
   {
    "duration": 82,
    "start_time": "2022-05-12T19:52:04.867Z"
   },
   {
    "duration": 64,
    "start_time": "2022-05-12T19:52:11.034Z"
   },
   {
    "duration": 3,
    "start_time": "2022-05-12T19:52:19.217Z"
   },
   {
    "duration": 694,
    "start_time": "2022-05-12T19:52:19.385Z"
   },
   {
    "duration": 130,
    "start_time": "2022-05-12T19:52:20.081Z"
   },
   {
    "duration": 96,
    "start_time": "2022-05-12T19:52:20.212Z"
   },
   {
    "duration": 12,
    "start_time": "2022-05-12T19:52:20.310Z"
   },
   {
    "duration": 241,
    "start_time": "2022-05-12T19:52:20.324Z"
   },
   {
    "duration": 122,
    "start_time": "2022-05-12T19:52:20.567Z"
   },
   {
    "duration": 20,
    "start_time": "2022-05-12T19:52:22.325Z"
   },
   {
    "duration": 17,
    "start_time": "2022-05-12T19:52:23.184Z"
   },
   {
    "duration": 406,
    "start_time": "2022-05-12T19:52:23.748Z"
   },
   {
    "duration": 157,
    "start_time": "2022-05-12T19:52:25.397Z"
   },
   {
    "duration": 11,
    "start_time": "2022-05-12T19:52:25.995Z"
   },
   {
    "duration": 32,
    "start_time": "2022-05-12T19:52:27.124Z"
   },
   {
    "duration": 54,
    "start_time": "2022-05-12T19:52:27.791Z"
   },
   {
    "duration": 424,
    "start_time": "2022-05-12T19:52:28.716Z"
   },
   {
    "duration": 59,
    "start_time": "2022-05-12T19:52:29.936Z"
   },
   {
    "duration": 22,
    "start_time": "2022-05-12T19:52:32.524Z"
   },
   {
    "duration": 24107,
    "start_time": "2022-05-12T19:52:32.989Z"
   },
   {
    "duration": 102,
    "start_time": "2022-05-12T19:52:57.101Z"
   },
   {
    "duration": 106,
    "start_time": "2022-05-12T19:52:57.206Z"
   },
   {
    "duration": 57,
    "start_time": "2022-05-12T19:53:02.880Z"
   },
   {
    "duration": 21087,
    "start_time": "2022-05-12T19:53:07.077Z"
   },
   {
    "duration": 40,
    "start_time": "2022-05-12T19:53:28.167Z"
   },
   {
    "duration": 30,
    "start_time": "2022-05-12T19:53:41.331Z"
   },
   {
    "duration": 13178,
    "start_time": "2022-05-12T19:53:48.089Z"
   },
   {
    "duration": 55,
    "start_time": "2022-05-12T19:54:02.417Z"
   },
   {
    "duration": 219,
    "start_time": "2022-05-12T19:54:14.646Z"
   },
   {
    "duration": 230,
    "start_time": "2022-05-12T19:54:29.947Z"
   },
   {
    "duration": 21,
    "start_time": "2022-05-12T19:55:14.737Z"
   },
   {
    "duration": 3,
    "start_time": "2022-05-12T19:57:31.664Z"
   },
   {
    "duration": 690,
    "start_time": "2022-05-12T19:57:31.670Z"
   },
   {
    "duration": 125,
    "start_time": "2022-05-12T19:57:32.362Z"
   },
   {
    "duration": 90,
    "start_time": "2022-05-12T19:57:32.489Z"
   },
   {
    "duration": 25,
    "start_time": "2022-05-12T19:57:32.581Z"
   },
   {
    "duration": 240,
    "start_time": "2022-05-12T19:57:32.608Z"
   },
   {
    "duration": 176,
    "start_time": "2022-05-12T19:57:32.850Z"
   },
   {
    "duration": 22,
    "start_time": "2022-05-12T19:57:33.028Z"
   },
   {
    "duration": 18,
    "start_time": "2022-05-12T19:57:33.052Z"
   },
   {
    "duration": 442,
    "start_time": "2022-05-12T19:57:33.072Z"
   },
   {
    "duration": 155,
    "start_time": "2022-05-12T19:57:33.516Z"
   },
   {
    "duration": 8,
    "start_time": "2022-05-12T19:57:33.673Z"
   },
   {
    "duration": 34,
    "start_time": "2022-05-12T19:57:33.683Z"
   },
   {
    "duration": 30,
    "start_time": "2022-05-12T19:57:33.720Z"
   },
   {
    "duration": 314,
    "start_time": "2022-05-12T19:57:33.752Z"
   },
   {
    "duration": 41,
    "start_time": "2022-05-12T19:57:34.068Z"
   },
   {
    "duration": 21,
    "start_time": "2022-05-12T19:57:34.111Z"
   },
   {
    "duration": 22920,
    "start_time": "2022-05-12T19:57:34.134Z"
   },
   {
    "duration": 2,
    "start_time": "2022-05-12T19:57:57.056Z"
   },
   {
    "duration": 9,
    "start_time": "2022-05-12T19:57:57.059Z"
   },
   {
    "duration": 170,
    "start_time": "2022-05-12T19:57:57.070Z"
   },
   {
    "duration": 0,
    "start_time": "2022-05-12T19:57:57.242Z"
   },
   {
    "duration": 0,
    "start_time": "2022-05-12T19:57:57.244Z"
   },
   {
    "duration": 0,
    "start_time": "2022-05-12T19:57:57.245Z"
   },
   {
    "duration": 0,
    "start_time": "2022-05-12T19:57:57.246Z"
   },
   {
    "duration": 0,
    "start_time": "2022-05-12T19:57:57.247Z"
   },
   {
    "duration": 45,
    "start_time": "2022-05-12T19:58:08.416Z"
   },
   {
    "duration": 22412,
    "start_time": "2022-05-12T19:58:11.633Z"
   },
   {
    "duration": 55,
    "start_time": "2022-05-12T19:58:34.812Z"
   },
   {
    "duration": 50,
    "start_time": "2022-05-12T19:58:40.111Z"
   },
   {
    "duration": 23,
    "start_time": "2022-05-12T19:58:59.244Z"
   },
   {
    "duration": 31,
    "start_time": "2022-05-12T19:59:27.999Z"
   },
   {
    "duration": 58,
    "start_time": "2022-05-12T19:59:37.425Z"
   },
   {
    "duration": 106,
    "start_time": "2022-05-12T20:01:01.765Z"
   },
   {
    "duration": 663,
    "start_time": "2022-05-12T20:01:35.247Z"
   },
   {
    "duration": 670,
    "start_time": "2022-05-12T20:01:50.688Z"
   },
   {
    "duration": 150,
    "start_time": "2022-05-12T20:01:57.599Z"
   },
   {
    "duration": 685,
    "start_time": "2022-05-12T20:02:00.773Z"
   },
   {
    "duration": 636,
    "start_time": "2022-05-12T20:02:33.330Z"
   },
   {
    "duration": 73,
    "start_time": "2022-05-12T20:03:28.512Z"
   },
   {
    "duration": 72,
    "start_time": "2022-05-12T20:03:36.267Z"
   },
   {
    "duration": 4,
    "start_time": "2022-05-12T20:03:53.645Z"
   },
   {
    "duration": 4,
    "start_time": "2022-05-12T20:04:38.885Z"
   },
   {
    "duration": 76,
    "start_time": "2022-05-12T20:04:43.565Z"
   },
   {
    "duration": 69,
    "start_time": "2022-05-12T20:05:09.918Z"
   },
   {
    "duration": 44478,
    "start_time": "2022-05-12T20:06:00.560Z"
   },
   {
    "duration": 21,
    "start_time": "2022-05-12T20:06:47.371Z"
   },
   {
    "duration": 33124,
    "start_time": "2022-05-12T20:07:31.306Z"
   },
   {
    "duration": 4,
    "start_time": "2022-05-12T20:10:39.576Z"
   },
   {
    "duration": 20113,
    "start_time": "2022-05-12T20:11:03.058Z"
   },
   {
    "duration": 11031,
    "start_time": "2022-05-12T20:11:39.990Z"
   },
   {
    "duration": 290,
    "start_time": "2022-05-12T20:12:34.293Z"
   },
   {
    "duration": 20401,
    "start_time": "2022-05-12T20:12:46.084Z"
   },
   {
    "duration": 32,
    "start_time": "2022-05-12T20:13:09.231Z"
   },
   {
    "duration": 64,
    "start_time": "2022-05-12T20:14:24.719Z"
   },
   {
    "duration": 22,
    "start_time": "2022-05-12T20:14:33.880Z"
   },
   {
    "duration": 601,
    "start_time": "2022-05-12T20:14:57.061Z"
   },
   {
    "duration": 190,
    "start_time": "2022-05-12T20:16:32.596Z"
   },
   {
    "duration": 366,
    "start_time": "2022-05-12T20:16:40.931Z"
   },
   {
    "duration": 3,
    "start_time": "2022-05-12T20:17:53.988Z"
   },
   {
    "duration": 937,
    "start_time": "2022-05-12T20:17:53.994Z"
   },
   {
    "duration": 147,
    "start_time": "2022-05-12T20:17:54.934Z"
   },
   {
    "duration": 96,
    "start_time": "2022-05-12T20:17:55.082Z"
   },
   {
    "duration": 26,
    "start_time": "2022-05-12T20:17:55.180Z"
   },
   {
    "duration": 281,
    "start_time": "2022-05-12T20:17:55.208Z"
   },
   {
    "duration": 141,
    "start_time": "2022-05-12T20:17:55.491Z"
   },
   {
    "duration": 15,
    "start_time": "2022-05-12T20:17:55.634Z"
   },
   {
    "duration": 15,
    "start_time": "2022-05-12T20:17:55.650Z"
   },
   {
    "duration": 507,
    "start_time": "2022-05-12T20:17:55.666Z"
   },
   {
    "duration": 185,
    "start_time": "2022-05-12T20:17:56.174Z"
   },
   {
    "duration": 9,
    "start_time": "2022-05-12T20:17:56.361Z"
   },
   {
    "duration": 54,
    "start_time": "2022-05-12T20:17:56.372Z"
   },
   {
    "duration": 37,
    "start_time": "2022-05-12T20:17:56.430Z"
   },
   {
    "duration": 348,
    "start_time": "2022-05-12T20:17:56.469Z"
   },
   {
    "duration": 41,
    "start_time": "2022-05-12T20:17:56.820Z"
   },
   {
    "duration": 55,
    "start_time": "2022-05-12T20:17:56.863Z"
   },
   {
    "duration": 19021,
    "start_time": "2022-05-12T20:17:56.920Z"
   },
   {
    "duration": 276,
    "start_time": "2022-05-12T20:46:05.035Z"
   },
   {
    "duration": 38,
    "start_time": "2022-05-12T20:46:40.410Z"
   },
   {
    "duration": 140,
    "start_time": "2022-05-12T20:47:35.857Z"
   },
   {
    "duration": 20,
    "start_time": "2022-05-12T20:48:02.375Z"
   },
   {
    "duration": 32,
    "start_time": "2022-05-12T20:48:32.222Z"
   },
   {
    "duration": 21025,
    "start_time": "2022-05-12T20:49:07.270Z"
   },
   {
    "duration": 22,
    "start_time": "2022-05-12T20:49:31.044Z"
   },
   {
    "duration": 135,
    "start_time": "2022-05-12T20:49:40.381Z"
   },
   {
    "duration": 4810,
    "start_time": "2022-05-12T20:49:47.072Z"
   },
   {
    "duration": 18,
    "start_time": "2022-05-12T20:49:56.360Z"
   },
   {
    "duration": 3,
    "start_time": "2022-05-12T20:52:03.957Z"
   },
   {
    "duration": 11340,
    "start_time": "2022-05-12T20:52:03.965Z"
   },
   {
    "duration": 121,
    "start_time": "2022-05-12T20:52:15.307Z"
   },
   {
    "duration": 90,
    "start_time": "2022-05-12T20:52:15.430Z"
   },
   {
    "duration": 12,
    "start_time": "2022-05-12T20:52:15.522Z"
   },
   {
    "duration": 228,
    "start_time": "2022-05-12T20:52:15.535Z"
   },
   {
    "duration": 117,
    "start_time": "2022-05-12T20:52:15.765Z"
   },
   {
    "duration": 22,
    "start_time": "2022-05-12T20:52:15.883Z"
   },
   {
    "duration": 15,
    "start_time": "2022-05-12T20:52:15.907Z"
   },
   {
    "duration": 432,
    "start_time": "2022-05-12T20:52:15.923Z"
   },
   {
    "duration": 162,
    "start_time": "2022-05-12T20:52:16.357Z"
   },
   {
    "duration": 9,
    "start_time": "2022-05-12T20:52:16.520Z"
   },
   {
    "duration": 23,
    "start_time": "2022-05-12T20:52:16.531Z"
   },
   {
    "duration": 51,
    "start_time": "2022-05-12T20:52:16.556Z"
   },
   {
    "duration": 294,
    "start_time": "2022-05-12T20:52:16.609Z"
   },
   {
    "duration": 31,
    "start_time": "2022-05-12T20:52:16.905Z"
   },
   {
    "duration": 20,
    "start_time": "2022-05-12T20:52:16.938Z"
   },
   {
    "duration": 21562,
    "start_time": "2022-05-12T20:52:16.960Z"
   },
   {
    "duration": 21,
    "start_time": "2022-05-12T20:52:38.524Z"
   },
   {
    "duration": 4981,
    "start_time": "2022-05-12T20:52:38.547Z"
   },
   {
    "duration": 19,
    "start_time": "2022-05-12T20:59:15.060Z"
   },
   {
    "duration": 19,
    "start_time": "2022-05-12T20:59:28.275Z"
   },
   {
    "duration": 32,
    "start_time": "2022-05-12T21:01:30.342Z"
   },
   {
    "duration": 4449,
    "start_time": "2022-05-12T21:02:30.485Z"
   },
   {
    "duration": 21,
    "start_time": "2022-05-12T21:02:47.235Z"
   },
   {
    "duration": 4,
    "start_time": "2022-05-12T21:03:05.802Z"
   },
   {
    "duration": 681,
    "start_time": "2022-05-12T21:03:05.807Z"
   },
   {
    "duration": 124,
    "start_time": "2022-05-12T21:03:06.490Z"
   },
   {
    "duration": 100,
    "start_time": "2022-05-12T21:03:06.616Z"
   },
   {
    "duration": 13,
    "start_time": "2022-05-12T21:03:06.719Z"
   },
   {
    "duration": 240,
    "start_time": "2022-05-12T21:03:06.733Z"
   },
   {
    "duration": 133,
    "start_time": "2022-05-12T21:03:06.975Z"
   },
   {
    "duration": 17,
    "start_time": "2022-05-12T21:03:07.110Z"
   },
   {
    "duration": 16,
    "start_time": "2022-05-12T21:03:07.129Z"
   },
   {
    "duration": 430,
    "start_time": "2022-05-12T21:03:07.147Z"
   },
   {
    "duration": 172,
    "start_time": "2022-05-12T21:03:07.579Z"
   },
   {
    "duration": 8,
    "start_time": "2022-05-12T21:03:07.753Z"
   },
   {
    "duration": 37,
    "start_time": "2022-05-12T21:03:07.763Z"
   },
   {
    "duration": 35,
    "start_time": "2022-05-12T21:03:07.803Z"
   },
   {
    "duration": 315,
    "start_time": "2022-05-12T21:03:07.840Z"
   },
   {
    "duration": 44,
    "start_time": "2022-05-12T21:03:08.157Z"
   },
   {
    "duration": 25,
    "start_time": "2022-05-12T21:03:08.203Z"
   },
   {
    "duration": 20496,
    "start_time": "2022-05-12T21:03:08.230Z"
   },
   {
    "duration": 19,
    "start_time": "2022-05-12T21:03:28.727Z"
   },
   {
    "duration": 4360,
    "start_time": "2022-05-12T21:03:28.747Z"
   },
   {
    "duration": 19,
    "start_time": "2022-05-12T21:03:33.109Z"
   },
   {
    "duration": 12,
    "start_time": "2022-05-12T21:04:30.395Z"
   },
   {
    "duration": 68,
    "start_time": "2022-05-12T21:04:37.086Z"
   },
   {
    "duration": 78,
    "start_time": "2022-05-12T21:04:43.575Z"
   },
   {
    "duration": 20,
    "start_time": "2022-05-12T21:13:34.423Z"
   },
   {
    "duration": 31,
    "start_time": "2022-05-12T21:19:15.296Z"
   },
   {
    "duration": 3103,
    "start_time": "2022-05-12T21:20:58.121Z"
   },
   {
    "duration": 53,
    "start_time": "2022-05-12T21:21:08.028Z"
   },
   {
    "duration": 4,
    "start_time": "2022-05-12T21:21:45.142Z"
   },
   {
    "duration": 753,
    "start_time": "2022-05-12T21:21:45.148Z"
   },
   {
    "duration": 141,
    "start_time": "2022-05-12T21:21:45.903Z"
   },
   {
    "duration": 114,
    "start_time": "2022-05-12T21:21:46.045Z"
   },
   {
    "duration": 13,
    "start_time": "2022-05-12T21:21:46.162Z"
   },
   {
    "duration": 270,
    "start_time": "2022-05-12T21:21:46.177Z"
   },
   {
    "duration": 133,
    "start_time": "2022-05-12T21:21:46.449Z"
   },
   {
    "duration": 33,
    "start_time": "2022-05-12T21:21:46.583Z"
   },
   {
    "duration": 55,
    "start_time": "2022-05-12T21:21:52.018Z"
   },
   {
    "duration": 77,
    "start_time": "2022-05-12T21:22:48.657Z"
   },
   {
    "duration": 118,
    "start_time": "2022-05-12T21:23:29.876Z"
   },
   {
    "duration": 90,
    "start_time": "2022-05-12T21:23:46.377Z"
   },
   {
    "duration": 122,
    "start_time": "2022-05-12T21:24:16.381Z"
   },
   {
    "duration": 22,
    "start_time": "2022-05-12T21:24:20.589Z"
   },
   {
    "duration": 438,
    "start_time": "2022-05-12T21:24:24.496Z"
   },
   {
    "duration": 488,
    "start_time": "2022-05-12T21:24:27.733Z"
   },
   {
    "duration": 13,
    "start_time": "2022-05-12T21:24:29.296Z"
   },
   {
    "duration": 24,
    "start_time": "2022-05-12T21:24:38.069Z"
   },
   {
    "duration": 40,
    "start_time": "2022-05-12T21:24:41.790Z"
   },
   {
    "duration": 175,
    "start_time": "2022-05-12T21:25:15.948Z"
   },
   {
    "duration": 330,
    "start_time": "2022-05-12T21:25:24.404Z"
   },
   {
    "duration": 79,
    "start_time": "2022-05-12T21:26:00.877Z"
   },
   {
    "duration": 61,
    "start_time": "2022-05-12T21:26:05.089Z"
   },
   {
    "duration": 4,
    "start_time": "2022-05-12T21:26:20.794Z"
   },
   {
    "duration": 831,
    "start_time": "2022-05-12T21:26:21.000Z"
   },
   {
    "duration": 142,
    "start_time": "2022-05-12T21:26:21.834Z"
   },
   {
    "duration": 101,
    "start_time": "2022-05-12T21:26:21.978Z"
   },
   {
    "duration": 23,
    "start_time": "2022-05-12T21:26:22.081Z"
   },
   {
    "duration": 279,
    "start_time": "2022-05-12T21:26:22.106Z"
   },
   {
    "duration": 130,
    "start_time": "2022-05-12T21:26:28.802Z"
   },
   {
    "duration": 19,
    "start_time": "2022-05-12T21:26:30.235Z"
   },
   {
    "duration": 55,
    "start_time": "2022-05-12T21:26:37.359Z"
   },
   {
    "duration": 4,
    "start_time": "2022-05-12T21:28:33.226Z"
   },
   {
    "duration": 729,
    "start_time": "2022-05-12T21:28:33.460Z"
   },
   {
    "duration": 145,
    "start_time": "2022-05-12T21:28:34.191Z"
   },
   {
    "duration": 104,
    "start_time": "2022-05-12T21:28:34.338Z"
   },
   {
    "duration": 13,
    "start_time": "2022-05-12T21:28:34.444Z"
   },
   {
    "duration": 266,
    "start_time": "2022-05-12T21:28:34.459Z"
   },
   {
    "duration": 132,
    "start_time": "2022-05-12T21:28:34.727Z"
   },
   {
    "duration": 23,
    "start_time": "2022-05-12T21:28:35.801Z"
   },
   {
    "duration": 53,
    "start_time": "2022-05-12T21:28:36.192Z"
   },
   {
    "duration": 44,
    "start_time": "2022-05-12T21:29:22.839Z"
   },
   {
    "duration": 16,
    "start_time": "2022-05-12T21:31:00.824Z"
   },
   {
    "duration": 514,
    "start_time": "2022-05-12T21:31:01.738Z"
   },
   {
    "duration": 234,
    "start_time": "2022-05-12T21:31:02.254Z"
   },
   {
    "duration": 18,
    "start_time": "2022-05-12T21:31:02.490Z"
   },
   {
    "duration": 25,
    "start_time": "2022-05-12T21:31:04.494Z"
   },
   {
    "duration": 30,
    "start_time": "2022-05-12T21:31:09.914Z"
   },
   {
    "duration": 518,
    "start_time": "2022-05-12T21:31:24.241Z"
   },
   {
    "duration": 45,
    "start_time": "2022-05-12T21:31:29.304Z"
   },
   {
    "duration": 31,
    "start_time": "2022-05-12T21:32:37.834Z"
   },
   {
    "duration": 25,
    "start_time": "2022-05-12T21:35:22.702Z"
   },
   {
    "duration": 14,
    "start_time": "2022-05-12T21:35:42.765Z"
   },
   {
    "duration": 3,
    "start_time": "2022-05-13T05:08:50.304Z"
   },
   {
    "duration": 661,
    "start_time": "2022-05-13T05:08:50.667Z"
   },
   {
    "duration": 118,
    "start_time": "2022-05-13T05:08:51.460Z"
   },
   {
    "duration": 73,
    "start_time": "2022-05-13T05:08:52.046Z"
   },
   {
    "duration": 12,
    "start_time": "2022-05-13T05:08:52.431Z"
   },
   {
    "duration": 227,
    "start_time": "2022-05-13T05:08:53.125Z"
   },
   {
    "duration": 108,
    "start_time": "2022-05-13T05:08:53.452Z"
   },
   {
    "duration": 15,
    "start_time": "2022-05-13T05:08:55.705Z"
   },
   {
    "duration": 40,
    "start_time": "2022-05-13T05:08:56.076Z"
   },
   {
    "duration": 183,
    "start_time": "2022-05-13T05:08:56.491Z"
   },
   {
    "duration": 15,
    "start_time": "2022-05-13T05:08:57.620Z"
   },
   {
    "duration": 412,
    "start_time": "2022-05-13T05:08:58.189Z"
   },
   {
    "duration": 147,
    "start_time": "2022-05-13T05:08:58.699Z"
   },
   {
    "duration": 8,
    "start_time": "2022-05-13T05:08:59.184Z"
   },
   {
    "duration": 22,
    "start_time": "2022-05-13T05:09:00.065Z"
   },
   {
    "duration": 30,
    "start_time": "2022-05-13T05:09:01.041Z"
   },
   {
    "duration": 322,
    "start_time": "2022-05-13T05:09:01.895Z"
   },
   {
    "duration": 31,
    "start_time": "2022-05-13T05:09:02.220Z"
   },
   {
    "duration": 31,
    "start_time": "2022-05-13T05:09:03.261Z"
   },
   {
    "duration": 21,
    "start_time": "2022-05-13T05:09:09.188Z"
   },
   {
    "duration": 20,
    "start_time": "2022-05-13T05:09:38.272Z"
   },
   {
    "duration": 44,
    "start_time": "2022-05-13T05:11:10.289Z"
   },
   {
    "duration": 2648,
    "start_time": "2022-05-13T05:12:35.887Z"
   },
   {
    "duration": 40,
    "start_time": "2022-05-13T05:12:41.621Z"
   },
   {
    "duration": 39,
    "start_time": "2022-05-13T05:12:53.206Z"
   },
   {
    "duration": 36,
    "start_time": "2022-05-13T05:12:56.669Z"
   },
   {
    "duration": 40,
    "start_time": "2022-05-13T05:13:01.197Z"
   },
   {
    "duration": 38,
    "start_time": "2022-05-13T05:14:45.535Z"
   },
   {
    "duration": 48,
    "start_time": "2022-05-13T05:15:02.875Z"
   },
   {
    "duration": 31,
    "start_time": "2022-05-13T05:17:05.384Z"
   },
   {
    "duration": 43,
    "start_time": "2022-05-13T05:17:17.454Z"
   },
   {
    "duration": 9,
    "start_time": "2022-05-13T05:20:08.223Z"
   },
   {
    "duration": 33,
    "start_time": "2022-05-13T05:20:11.646Z"
   },
   {
    "duration": 3,
    "start_time": "2022-05-13T05:21:30.720Z"
   },
   {
    "duration": 52,
    "start_time": "2022-05-13T05:21:46.422Z"
   },
   {
    "duration": 15,
    "start_time": "2022-05-13T05:22:50.987Z"
   },
   {
    "duration": 126,
    "start_time": "2022-05-13T05:22:52.353Z"
   },
   {
    "duration": 13,
    "start_time": "2022-05-13T05:25:00.727Z"
   },
   {
    "duration": 57,
    "start_time": "2022-05-13T05:25:09.638Z"
   },
   {
    "duration": 18,
    "start_time": "2022-05-13T05:27:01.938Z"
   },
   {
    "duration": 83,
    "start_time": "2022-05-13T05:28:19.931Z"
   },
   {
    "duration": 14,
    "start_time": "2022-05-13T05:29:05.067Z"
   },
   {
    "duration": 17,
    "start_time": "2022-05-13T05:29:13.436Z"
   },
   {
    "duration": 604,
    "start_time": "2022-05-13T05:29:51.818Z"
   },
   {
    "duration": 15,
    "start_time": "2022-05-13T05:30:31.314Z"
   },
   {
    "duration": 389,
    "start_time": "2022-05-13T05:30:33.238Z"
   },
   {
    "duration": 22,
    "start_time": "2022-05-13T05:30:40.235Z"
   },
   {
    "duration": 5,
    "start_time": "2022-05-13T05:41:56.783Z"
   },
   {
    "duration": 5,
    "start_time": "2022-05-13T05:42:05.349Z"
   },
   {
    "duration": 16,
    "start_time": "2022-05-13T05:43:36.041Z"
   },
   {
    "duration": 21,
    "start_time": "2022-05-13T05:43:47.683Z"
   },
   {
    "duration": 25,
    "start_time": "2022-05-13T05:44:04.506Z"
   },
   {
    "duration": 26,
    "start_time": "2022-05-13T05:44:15.255Z"
   },
   {
    "duration": 20,
    "start_time": "2022-05-13T05:45:22.254Z"
   },
   {
    "duration": 19,
    "start_time": "2022-05-13T05:45:26.554Z"
   },
   {
    "duration": 11,
    "start_time": "2022-05-13T05:48:59.608Z"
   },
   {
    "duration": 25,
    "start_time": "2022-05-13T06:04:02.007Z"
   },
   {
    "duration": 368,
    "start_time": "2022-05-13T06:04:03.286Z"
   },
   {
    "duration": 605,
    "start_time": "2022-05-13T06:04:57.158Z"
   },
   {
    "duration": 143,
    "start_time": "2022-05-13T06:06:01.386Z"
   },
   {
    "duration": 22,
    "start_time": "2022-05-13T06:06:42.678Z"
   },
   {
    "duration": 11074,
    "start_time": "2022-05-13T06:07:09.574Z"
   },
   {
    "duration": 31,
    "start_time": "2022-05-13T06:07:24.059Z"
   },
   {
    "duration": 4,
    "start_time": "2022-05-13T06:08:42.604Z"
   },
   {
    "duration": 713,
    "start_time": "2022-05-13T06:08:42.609Z"
   },
   {
    "duration": 125,
    "start_time": "2022-05-13T06:08:43.324Z"
   },
   {
    "duration": 101,
    "start_time": "2022-05-13T06:08:43.450Z"
   },
   {
    "duration": 19,
    "start_time": "2022-05-13T06:08:43.553Z"
   },
   {
    "duration": 235,
    "start_time": "2022-05-13T06:08:43.573Z"
   },
   {
    "duration": 120,
    "start_time": "2022-05-13T06:08:43.810Z"
   },
   {
    "duration": 17,
    "start_time": "2022-05-13T06:08:43.932Z"
   },
   {
    "duration": 56,
    "start_time": "2022-05-13T06:08:43.950Z"
   },
   {
    "duration": 211,
    "start_time": "2022-05-13T06:08:44.008Z"
   },
   {
    "duration": 0,
    "start_time": "2022-05-13T06:08:44.220Z"
   },
   {
    "duration": 0,
    "start_time": "2022-05-13T06:08:44.221Z"
   },
   {
    "duration": 0,
    "start_time": "2022-05-13T06:08:44.222Z"
   },
   {
    "duration": 0,
    "start_time": "2022-05-13T06:08:44.223Z"
   },
   {
    "duration": 0,
    "start_time": "2022-05-13T06:08:44.224Z"
   },
   {
    "duration": 0,
    "start_time": "2022-05-13T06:08:44.225Z"
   },
   {
    "duration": 0,
    "start_time": "2022-05-13T06:08:44.226Z"
   },
   {
    "duration": 0,
    "start_time": "2022-05-13T06:08:44.227Z"
   },
   {
    "duration": 0,
    "start_time": "2022-05-13T06:08:44.228Z"
   },
   {
    "duration": 0,
    "start_time": "2022-05-13T06:08:44.229Z"
   },
   {
    "duration": 0,
    "start_time": "2022-05-13T06:08:44.231Z"
   },
   {
    "duration": 0,
    "start_time": "2022-05-13T06:08:44.232Z"
   },
   {
    "duration": 0,
    "start_time": "2022-05-13T06:08:44.233Z"
   },
   {
    "duration": 19,
    "start_time": "2022-05-13T06:11:56.460Z"
   },
   {
    "duration": 33,
    "start_time": "2022-05-13T06:11:58.174Z"
   },
   {
    "duration": 3,
    "start_time": "2022-05-13T07:10:46.323Z"
   },
   {
    "duration": 672,
    "start_time": "2022-05-13T07:10:46.539Z"
   },
   {
    "duration": 135,
    "start_time": "2022-05-13T07:10:47.213Z"
   },
   {
    "duration": 88,
    "start_time": "2022-05-13T07:10:47.349Z"
   },
   {
    "duration": 19,
    "start_time": "2022-05-13T07:10:48.363Z"
   },
   {
    "duration": 215,
    "start_time": "2022-05-13T07:10:49.472Z"
   },
   {
    "duration": 108,
    "start_time": "2022-05-13T07:10:50.596Z"
   },
   {
    "duration": 16,
    "start_time": "2022-05-13T07:16:04.938Z"
   },
   {
    "duration": 441,
    "start_time": "2022-05-13T07:16:05.230Z"
   },
   {
    "duration": 176,
    "start_time": "2022-05-13T07:16:05.673Z"
   },
   {
    "duration": 6,
    "start_time": "2022-05-13T07:16:06.009Z"
   },
   {
    "duration": 22,
    "start_time": "2022-05-13T07:16:08.572Z"
   },
   {
    "duration": 34,
    "start_time": "2022-05-13T07:16:14.571Z"
   },
   {
    "duration": 269,
    "start_time": "2022-05-13T07:16:53.679Z"
   },
   {
    "duration": 21,
    "start_time": "2022-05-13T07:17:01.278Z"
   },
   {
    "duration": 33,
    "start_time": "2022-05-13T07:17:35.667Z"
   },
   {
    "duration": 21,
    "start_time": "2022-05-13T07:18:04.276Z"
   },
   {
    "duration": 15674,
    "start_time": "2022-05-13T07:18:18.849Z"
   },
   {
    "duration": 20,
    "start_time": "2022-05-13T07:18:39.034Z"
   },
   {
    "duration": 32,
    "start_time": "2022-05-13T07:19:08.665Z"
   },
   {
    "duration": 19,
    "start_time": "2022-05-13T07:19:09.431Z"
   },
   {
    "duration": 31,
    "start_time": "2022-05-13T07:19:42.501Z"
   },
   {
    "duration": 3,
    "start_time": "2022-05-13T07:19:51.903Z"
   },
   {
    "duration": 694,
    "start_time": "2022-05-13T07:19:51.907Z"
   },
   {
    "duration": 126,
    "start_time": "2022-05-13T07:19:52.602Z"
   },
   {
    "duration": 87,
    "start_time": "2022-05-13T07:19:52.730Z"
   },
   {
    "duration": 19,
    "start_time": "2022-05-13T07:19:52.818Z"
   },
   {
    "duration": 247,
    "start_time": "2022-05-13T07:19:52.839Z"
   },
   {
    "duration": 126,
    "start_time": "2022-05-13T07:19:53.087Z"
   },
   {
    "duration": 18,
    "start_time": "2022-05-13T07:19:53.215Z"
   },
   {
    "duration": 44,
    "start_time": "2022-05-13T07:19:53.235Z"
   },
   {
    "duration": 17,
    "start_time": "2022-05-13T07:19:53.299Z"
   },
   {
    "duration": 465,
    "start_time": "2022-05-13T07:19:53.318Z"
   },
   {
    "duration": 167,
    "start_time": "2022-05-13T07:19:53.785Z"
   },
   {
    "duration": 9,
    "start_time": "2022-05-13T07:19:53.954Z"
   },
   {
    "duration": 43,
    "start_time": "2022-05-13T07:19:53.965Z"
   },
   {
    "duration": 32,
    "start_time": "2022-05-13T07:19:54.010Z"
   },
   {
    "duration": 286,
    "start_time": "2022-05-13T07:19:54.044Z"
   },
   {
    "duration": 20,
    "start_time": "2022-05-13T07:19:54.331Z"
   },
   {
    "duration": 48,
    "start_time": "2022-05-13T07:19:54.352Z"
   },
   {
    "duration": 16339,
    "start_time": "2022-05-13T07:19:54.402Z"
   },
   {
    "duration": 33,
    "start_time": "2022-05-13T07:20:10.743Z"
   },
   {
    "duration": 45,
    "start_time": "2022-05-13T07:20:10.777Z"
   },
   {
    "duration": 4,
    "start_time": "2022-05-13T07:20:10.823Z"
   },
   {
    "duration": 32,
    "start_time": "2022-05-13T07:20:49.628Z"
   },
   {
    "duration": 127,
    "start_time": "2022-05-13T07:20:51.433Z"
   },
   {
    "duration": 818,
    "start_time": "2022-05-13T07:21:17.408Z"
   },
   {
    "duration": 31,
    "start_time": "2022-05-13T07:21:23.892Z"
   },
   {
    "duration": 30,
    "start_time": "2022-05-13T07:24:34.689Z"
   },
   {
    "duration": 20,
    "start_time": "2022-05-13T07:27:55.647Z"
   },
   {
    "duration": 30,
    "start_time": "2022-05-13T07:27:59.906Z"
   },
   {
    "duration": 31,
    "start_time": "2022-05-13T07:28:01.755Z"
   },
   {
    "duration": 33,
    "start_time": "2022-05-13T07:28:07.087Z"
   },
   {
    "duration": 32,
    "start_time": "2022-05-13T07:28:26.410Z"
   },
   {
    "duration": 15,
    "start_time": "2022-05-13T07:28:54.594Z"
   },
   {
    "duration": 412,
    "start_time": "2022-05-13T07:28:59.019Z"
   },
   {
    "duration": 10,
    "start_time": "2022-05-13T07:29:04.424Z"
   },
   {
    "duration": 19,
    "start_time": "2022-05-13T07:29:06.212Z"
   },
   {
    "duration": 6,
    "start_time": "2022-05-13T07:29:13.912Z"
   },
   {
    "duration": 14,
    "start_time": "2022-05-13T07:29:26.482Z"
   },
   {
    "duration": 132,
    "start_time": "2022-05-13T07:29:30.328Z"
   },
   {
    "duration": 588,
    "start_time": "2022-05-13T07:29:31.325Z"
   },
   {
    "duration": 78,
    "start_time": "2022-05-13T07:32:42.122Z"
   },
   {
    "duration": 12574,
    "start_time": "2022-05-13T07:33:13.653Z"
   },
   {
    "duration": 12203,
    "start_time": "2022-05-13T07:34:00.339Z"
   },
   {
    "duration": 48,
    "start_time": "2022-05-13T07:38:57.896Z"
   },
   {
    "duration": 79,
    "start_time": "2022-05-13T07:41:42.878Z"
   },
   {
    "duration": 60,
    "start_time": "2022-05-13T07:43:21.959Z"
   },
   {
    "duration": 77,
    "start_time": "2022-05-13T07:43:29.727Z"
   },
   {
    "duration": 70,
    "start_time": "2022-05-13T07:44:35.935Z"
   },
   {
    "duration": 69,
    "start_time": "2022-05-13T07:45:50.835Z"
   },
   {
    "duration": 67,
    "start_time": "2022-05-13T07:46:05.961Z"
   },
   {
    "duration": 79,
    "start_time": "2022-05-13T07:54:53.475Z"
   },
   {
    "duration": 152,
    "start_time": "2022-05-13T07:55:01.963Z"
   },
   {
    "duration": 25,
    "start_time": "2022-05-13T07:55:13.471Z"
   },
   {
    "duration": 79,
    "start_time": "2022-05-13T07:55:14.651Z"
   },
   {
    "duration": 26,
    "start_time": "2022-05-13T07:55:37.146Z"
   },
   {
    "duration": 77,
    "start_time": "2022-05-13T07:55:38.040Z"
   },
   {
    "duration": 49,
    "start_time": "2022-05-13T07:55:49.953Z"
   },
   {
    "duration": 78,
    "start_time": "2022-05-13T07:55:55.032Z"
   },
   {
    "duration": 14,
    "start_time": "2022-05-13T07:56:47.461Z"
   },
   {
    "duration": 76,
    "start_time": "2022-05-13T07:56:49.700Z"
   },
   {
    "duration": 39,
    "start_time": "2022-05-13T08:14:50.171Z"
   },
   {
    "duration": 23,
    "start_time": "2022-05-13T08:15:06.939Z"
   },
   {
    "duration": 177,
    "start_time": "2022-05-13T08:15:39.423Z"
   },
   {
    "duration": 76,
    "start_time": "2022-05-13T08:17:24.630Z"
   },
   {
    "duration": 57,
    "start_time": "2022-05-18T16:55:21.754Z"
   },
   {
    "duration": 9,
    "start_time": "2022-05-18T16:55:27.453Z"
   },
   {
    "duration": 9,
    "start_time": "2022-05-18T16:55:41.948Z"
   },
   {
    "duration": 1741,
    "start_time": "2022-05-18T20:16:34.077Z"
   },
   {
    "duration": 3465,
    "start_time": "2022-05-18T20:16:35.820Z"
   },
   {
    "duration": 159,
    "start_time": "2022-05-18T20:16:39.287Z"
   },
   {
    "duration": 107,
    "start_time": "2022-05-18T20:16:39.448Z"
   },
   {
    "duration": 33,
    "start_time": "2022-05-18T20:16:39.557Z"
   },
   {
    "duration": 327,
    "start_time": "2022-05-18T20:16:39.592Z"
   },
   {
    "duration": 206,
    "start_time": "2022-05-18T20:16:39.921Z"
   },
   {
    "duration": 16,
    "start_time": "2022-05-18T20:16:46.168Z"
   },
   {
    "duration": 38,
    "start_time": "2022-05-18T20:16:46.499Z"
   },
   {
    "duration": 21,
    "start_time": "2022-05-18T20:16:46.997Z"
   },
   {
    "duration": 493,
    "start_time": "2022-05-18T20:16:47.225Z"
   },
   {
    "duration": 244,
    "start_time": "2022-05-18T20:16:47.720Z"
   },
   {
    "duration": 10,
    "start_time": "2022-05-18T20:16:47.966Z"
   },
   {
    "duration": 30,
    "start_time": "2022-05-18T20:16:48.068Z"
   },
   {
    "duration": 43,
    "start_time": "2022-05-18T20:16:48.322Z"
   },
   {
    "duration": 321,
    "start_time": "2022-05-18T20:16:48.698Z"
   },
   {
    "duration": 28,
    "start_time": "2022-05-18T20:16:49.021Z"
   },
   {
    "duration": 53,
    "start_time": "2022-05-18T20:16:49.529Z"
   },
   {
    "duration": 17864,
    "start_time": "2022-05-18T20:16:50.012Z"
   },
   {
    "duration": 20,
    "start_time": "2022-05-18T20:17:07.878Z"
   },
   {
    "duration": 50,
    "start_time": "2022-05-18T20:17:07.900Z"
   },
   {
    "duration": 13,
    "start_time": "2022-05-18T20:17:07.959Z"
   },
   {
    "duration": 41,
    "start_time": "2022-05-18T20:17:07.973Z"
   },
   {
    "duration": 941,
    "start_time": "2022-05-18T20:17:08.016Z"
   },
   {
    "duration": 46,
    "start_time": "2022-05-18T20:17:08.959Z"
   },
   {
    "duration": 20,
    "start_time": "2022-05-18T20:17:09.006Z"
   },
   {
    "duration": 23,
    "start_time": "2022-05-18T20:17:09.040Z"
   },
   {
    "duration": 464,
    "start_time": "2022-05-18T20:17:09.065Z"
   },
   {
    "duration": 21,
    "start_time": "2022-05-18T20:17:09.531Z"
   },
   {
    "duration": 56,
    "start_time": "2022-05-18T20:17:09.554Z"
   },
   {
    "duration": 7,
    "start_time": "2022-05-18T20:17:09.613Z"
   },
   {
    "duration": 16,
    "start_time": "2022-05-18T20:17:09.621Z"
   },
   {
    "duration": 182,
    "start_time": "2022-05-18T20:17:09.639Z"
   },
   {
    "duration": 16802,
    "start_time": "2022-05-18T20:17:09.823Z"
   },
   {
    "duration": 23,
    "start_time": "2022-05-18T20:17:26.626Z"
   },
   {
    "duration": 42,
    "start_time": "2022-05-18T20:17:26.658Z"
   },
   {
    "duration": 116,
    "start_time": "2022-05-18T20:17:26.702Z"
   },
   {
    "duration": 130,
    "start_time": "2022-05-18T20:17:26.826Z"
   },
   {
    "duration": 30,
    "start_time": "2022-05-18T20:17:26.961Z"
   },
   {
    "duration": 222,
    "start_time": "2022-05-18T20:17:26.993Z"
   },
   {
    "duration": 3,
    "start_time": "2022-05-18T20:17:27.217Z"
   },
   {
    "duration": 595,
    "start_time": "2022-05-18T20:17:27.222Z"
   },
   {
    "duration": 5,
    "start_time": "2022-05-18T20:17:27.819Z"
   },
   {
    "duration": 1061,
    "start_time": "2022-05-18T20:17:27.826Z"
   },
   {
    "duration": 15,
    "start_time": "2022-05-18T20:17:28.889Z"
   },
   {
    "duration": 4,
    "start_time": "2022-05-18T20:17:42.062Z"
   },
   {
    "duration": 68,
    "start_time": "2022-05-18T20:17:42.897Z"
   },
   {
    "duration": 3,
    "start_time": "2022-05-18T20:17:44.006Z"
   },
   {
    "duration": 518,
    "start_time": "2022-05-18T20:17:44.885Z"
   },
   {
    "duration": 132,
    "start_time": "2022-05-18T20:18:38.585Z"
   },
   {
    "duration": 3,
    "start_time": "2022-05-18T20:18:50.826Z"
   },
   {
    "duration": 3,
    "start_time": "2022-05-18T20:18:53.722Z"
   },
   {
    "duration": 10,
    "start_time": "2022-05-18T20:23:33.724Z"
   },
   {
    "duration": 3,
    "start_time": "2022-05-18T20:23:41.017Z"
   },
   {
    "duration": 1360,
    "start_time": "2022-05-18T20:23:42.474Z"
   },
   {
    "duration": 9,
    "start_time": "2022-05-18T20:24:05.292Z"
   }
  ],
  "kernelspec": {
   "display_name": "Python 3 (ipykernel)",
   "language": "python",
   "name": "python3"
  },
  "language_info": {
   "codemirror_mode": {
    "name": "ipython",
    "version": 3
   },
   "file_extension": ".py",
   "mimetype": "text/x-python",
   "name": "python",
   "nbconvert_exporter": "python",
   "pygments_lexer": "ipython3",
   "version": "3.10.0"
  },
  "toc": {
   "base_numbering": 1,
   "nav_menu": {},
   "number_sections": true,
   "sideBar": true,
   "skip_h1_title": true,
   "title_cell": "Table of Contents",
   "title_sidebar": "Contents",
   "toc_cell": false,
   "toc_position": {},
   "toc_section_display": true,
   "toc_window_display": false
  }
 },
 "nbformat": 4,
 "nbformat_minor": 2
}
