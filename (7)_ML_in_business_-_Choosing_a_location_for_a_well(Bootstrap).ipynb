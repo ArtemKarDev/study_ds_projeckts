{
 "cells": [
  {
   "cell_type": "markdown",
   "metadata": {},
   "source": [
    "# Выбор локации для скважины"
   ]
  },
  {
   "cell_type": "markdown",
   "metadata": {},
   "source": [
    "Допустим, вы работаете в добывающей компании «ГлавРосГосНефть». Нужно решить, где бурить новую скважину.\n",
    "\n",
    "Вам предоставлены пробы нефти в трёх регионах: в каждом 10 000 месторождений, где измерили качество нефти и объём её запасов. Постройте модель машинного обучения, которая поможет определить регион, где добыча принесёт наибольшую прибыль. Проанализируйте возможную прибыль и риски техникой *Bootstrap.*\n",
    "\n",
    "Шаги для выбора локации:\n",
    "\n",
    "- В избранном регионе ищут месторождения, для каждого определяют значения признаков;\n",
    "- Строят модель и оценивают объём запасов;\n",
    "- Выбирают месторождения с самым высокими оценками значений. Количество месторождений зависит от бюджета компании и стоимости разработки одной скважины;\n",
    "- Прибыль равна суммарной прибыли отобранных месторождений."
   ]
  },
  {
   "cell_type": "markdown",
   "metadata": {},
   "source": [
    "## Загрузка и подготовка данных"
   ]
  },
  {
   "cell_type": "code",
   "execution_count": 3,
   "metadata": {},
   "outputs": [],
   "source": [
    "import pandas as pd\n",
    "import numpy as np\n",
    "from sklearn.model_selection import train_test_split\n",
    "from sklearn.preprocessing import StandardScaler\n",
    "from sklearn.linear_model import LinearRegression\n",
    "from sklearn.metrics import mean_squared_error\n",
    "\n",
    "import seaborn as sns"
   ]
  },
  {
   "cell_type": "code",
   "execution_count": 4,
   "metadata": {},
   "outputs": [],
   "source": [
    "data1 = pd.read_csv('/datasets/geo_data_0.csv')\n",
    "data2 = pd.read_csv('/datasets/geo_data_1.csv')\n",
    "data3 = pd.read_csv('/datasets/geo_data_2.csv')"
   ]
  },
  {
   "cell_type": "code",
   "execution_count": 5,
   "metadata": {},
   "outputs": [
    {
     "name": "stdout",
     "output_type": "stream",
     "text": [
      "<class 'pandas.core.frame.DataFrame'>\n",
      "RangeIndex: 100000 entries, 0 to 99999\n",
      "Data columns (total 5 columns):\n",
      " #   Column   Non-Null Count   Dtype  \n",
      "---  ------   --------------   -----  \n",
      " 0   id       100000 non-null  object \n",
      " 1   f0       100000 non-null  float64\n",
      " 2   f1       100000 non-null  float64\n",
      " 3   f2       100000 non-null  float64\n",
      " 4   product  100000 non-null  float64\n",
      "dtypes: float64(4), object(1)\n",
      "memory usage: 3.8+ MB\n"
     ]
    }
   ],
   "source": [
    "data1.info()"
   ]
  },
  {
   "cell_type": "code",
   "execution_count": 6,
   "metadata": {},
   "outputs": [
    {
     "data": {
      "image/png": "[encoded data removed]",
      "text/plain": [
       "<Figure size 432x288 with 4 Axes>"
      ]
     },
     "metadata": {
      "needs_background": "light"
     },
     "output_type": "display_data"
    },
    {
     "data": {
      "image/png": "[encoded data removed]",
      "text/plain": [
       "<Figure size 432x288 with 4 Axes>"
      ]
     },
     "metadata": {
      "needs_background": "light"
     },
     "output_type": "display_data"
    },
    {
     "data": {
      "image/png": "[encoded data removed]",
      "text/plain": [
       "<Figure size 432x288 with 4 Axes>"
      ]
     },
     "metadata": {
      "needs_background": "light"
     },
     "output_type": "display_data"
    }
   ],
   "source": [
    "data1.hist();\n",
    "data2.hist();\n",
    "data3.hist();"
   ]
  },
  {
   "cell_type": "markdown",
   "metadata": {},
   "source": [
    "в регионе с индексом 1 распределение значений отличается от стальных регионов"
   ]
  },
  {
   "cell_type": "markdown",
   "metadata": {},
   "source": [
    "## Обучение и проверка модели"
   ]
  },
  {
   "cell_type": "markdown",
   "metadata": {},
   "source": [
    "Создам функцию при вызове которой к дата фрейму будут пременяны разбиение на признаки, тренировочные и валидационные выборки и сразу выведет метрики точности и средний запас по всем скважинам в районе"
   ]
  },
  {
   "cell_type": "code",
   "execution_count": 7,
   "metadata": {},
   "outputs": [],
   "source": [
    "# функция для расчета запаса предсказанного сырья\n",
    "\n",
    "def predicted_raw_material(data, info=False):\n",
    "    features = data.drop(['id','product'], axis=1)\n",
    "    target = data['product']\n",
    "    features_train,  features_valid, target_train, target_valid = train_test_split(features,target,test_size=0.25,random_state=12345)\n",
    "    model = LinearRegression()\n",
    "    model.fit(features_train,target_train)\n",
    "    predicted = model.predict(features_valid)\n",
    "    \n",
    "    # функция выведет информацию если попросят\n",
    "    if info:\n",
    "        rmse = mean_squared_error(target_valid, predicted, squared=False)\n",
    "        print('score:', model.score(features_valid, target_valid))\n",
    "        print('rmse:', rmse)\n",
    "        print('средний запас предсказанного сырья по скважинам в регионе:', predicted.mean())\n",
    "\n",
    "    return pd.Series(predicted, index=target_valid.index) , target_valid  # функция вернет Серии предсказаний и правильных ответов\n",
    "\n"
   ]
  },
  {
   "cell_type": "code",
   "execution_count": 8,
   "metadata": {},
   "outputs": [
    {
     "name": "stdout",
     "output_type": "stream",
     "text": [
      "на данных региона 1\n",
      "score: 0.27994321524487786\n",
      "rmse: 37.5794217150813\n",
      "средний запас предсказанного сырья по скважинам в регионе: 92.59256778438035\n",
      "\n",
      "на данных региона 2\n",
      "score: 0.9996233978805127\n",
      "rmse: 0.893099286775617\n",
      "средний запас предсказанного сырья по скважинам в регионе: 68.728546895446\n",
      "\n",
      "на данных региона 3\n",
      "score: 0.20524758386040443\n",
      "rmse: 40.02970873393434\n",
      "средний запас предсказанного сырья по скважинам в регионе: 94.96504596800489\n",
      "\n"
     ]
    }
   ],
   "source": [
    "data_all_region = [] #  сохраним серии предсказаний и таргетов в список\n",
    "\n",
    "for i,j in enumerate([data1,data2,data3], start=1):\n",
    "    print('на данных региона',i)\n",
    "    data_all_region.append(predicted_raw_material(j, True))\n",
    "    print()"
   ]
  },
  {
   "cell_type": "markdown",
   "metadata": {},
   "source": [
    "на второй регионе модель показала очень высокую точность  - так как один из признаков очень сильно коррелируюет с целевым значением, которое имеет равномерное распределение"
   ]
  },
  {
   "cell_type": "markdown",
   "metadata": {},
   "source": [
    "## Подготовка к расчёту прибыли"
   ]
  },
  {
   "cell_type": "markdown",
   "metadata": {},
   "source": [
    "Один баррель сырья приносит 450 рублей дохода. \n",
    "Объём product указан в тысячах баррелей. Доход с каждой единицы продукта составляет 450 тыс. рублей.\n",
    "\n",
    "Бюджет на разработку скважин в регионе — 10 млрд рублей, это 22222.22 единицы product. \n",
    "\n",
    "При разведке региона исследуют 500 точек, из которых с помощью машинного обучения выбирают 200 лучших для разработки. Получается в среднем на скважину (одну из 200) требуеся не менее 111.11 product(тысяч бареллей)\n",
    "\n",
    "Если отобрать 200 лучших скважин и посчитаем сумму их product в каждом регионе и вычесть минимальный объем безубыточности и умножить на цену producta -  получаем формулу расчета прибыли в регионе"
   ]
  },
  {
   "cell_type": "code",
   "execution_count": 30,
   "metadata": {},
   "outputs": [],
   "source": [
    "def profit(data,probab):\n",
    "    best_count = 200  # количество скважин под разработку\n",
    "    min_prod = 22222   # минимальное количество продукта для безубытка на регион\n",
    "    price_barel = 450000  # цена за 1000 барелей\n",
    "    \n",
    "    # отберем лучшие предказанные значения,\n",
    "    best_probab_index = probab.sort_values(ascending=False).head(best_count).index\n",
    "    \n",
    "    # print(len(data[best_probab_index]))\n",
    "    # возьмем реальные данные соответсвующих скважин проссумируем и вычтем минимальное значение безубыточности\n",
    "    result = (data[best_probab_index].sum() - min_prod) * price_barel\n",
    "    return result"
   ]
  },
  {
   "cell_type": "markdown",
   "metadata": {},
   "source": [
    "посчитаем прибыль по имеющимся данным"
   ]
  },
  {
   "cell_type": "code",
   "execution_count": 27,
   "metadata": {},
   "outputs": [
    {
     "name": "stdout",
     "output_type": "stream",
     "text": [
      "200\n",
      "прибыль разработки в регионе 1: 6.635 млрд рублей\n",
      "200\n",
      "прибыль разработки в регионе 2: 2.415 млрд рублей\n",
      "200\n",
      "прибыль разработки в регионе 3: 7.06 млрд рублей\n"
     ]
    }
   ],
   "source": [
    "for i,j in enumerate([data1,data2,data3],start=1):\n",
    "    print(f'прибыль разработки в регионе {i}: { (profit(j[\"product\"],j[\"product\"]).round(0)/10**9).round(3) } млрд рублей')"
   ]
  },
  {
   "cell_type": "markdown",
   "metadata": {},
   "source": [
    "Мы посчитали прибыль на реальных данных,"
   ]
  },
  {
   "cell_type": "markdown",
   "metadata": {},
   "source": [
    "## Расчёт прибыли и рисков "
   ]
  },
  {
   "cell_type": "markdown",
   "metadata": {},
   "source": [
    "### Расчет прибыли на предсказаниях"
   ]
  },
  {
   "cell_type": "markdown",
   "metadata": {},
   "source": [
    "воспользуемся функцией profit - рассчитаем прибыль для предсказанного объёма сырья."
   ]
  },
  {
   "cell_type": "code",
   "execution_count": 34,
   "metadata": {},
   "outputs": [
    {
     "name": "stdout",
     "output_type": "stream",
     "text": [
      "прибыль предсказанной разработки в регионе 1: 3.321 млрд рублей\n",
      "прибыль предсказанной разработки в регионе 2: 2.415 млрд рублей\n",
      "прибыль предсказанной разработки в регионе 3: 2.71 млрд рублей\n"
     ]
    }
   ],
   "source": [
    "# в цикле вызовем функцию расчета прибыли в которую данные будут поступать из функции предсказания \n",
    "\n",
    "# напомню что данные лежат в  data_all_region под индексами [номер региона][0-предсказания/1-таргеты]\n",
    "\n",
    "for i,j in enumerate(data_all_region, start=1):\n",
    "    #predict_data = predicted_raw_material(j)\n",
    "    print(f'прибыль предсказанной разработки в регионе {i}: {( profit(j[1],j[0]) / 10 ** 9 ).round(3)} млрд рублей')"
   ]
  },
  {
   "cell_type": "markdown",
   "metadata": {},
   "source": [
    "модель показала супер точность на втором регионе, но там данные видимо подобраны таким образом ..."
   ]
  },
  {
   "cell_type": "markdown",
   "metadata": {},
   "source": [
    "### Риски для каждого региона:"
   ]
  },
  {
   "cell_type": "markdown",
   "metadata": {},
   "source": [
    "Применим технику Bootstrap с 1000 выборок, чтобы найти распределение прибыли.\n",
    "\n",
    "Смоделируем процесс отбора случайных точек из региона и для них посчитаем прибыль"
   ]
  },
  {
   "cell_type": "code",
   "execution_count": 15,
   "metadata": {},
   "outputs": [],
   "source": [
    "state = np.random.RandomState(12345)"
   ]
  },
  {
   "cell_type": "code",
   "execution_count": 31,
   "metadata": {},
   "outputs": [
    {
     "name": "stdout",
     "output_type": "stream",
     "text": [
      "средняя выручка по региону 1: 0.392 млрд рублей\n",
      "95%-й доверительный интервал от -0.125 до 0.864 млрд рублей\n",
      "риск убытков: 0.068 %  \n",
      "\n",
      "средняя выручка по региону 2: 0.459 млрд рублей\n",
      "95%-й доверительный интервал от 0.098 до 0.866 млрд рублей\n",
      "риск убытков: 0.008 %  \n",
      "\n",
      "средняя выручка по региону 3: 0.388 млрд рублей\n",
      "95%-й доверительный интервал от -0.109 до 0.899 млрд рублей\n",
      "риск убытков: 0.066 %  \n",
      "\n"
     ]
    },
    {
     "data": {
      "image/png": "[encoded data removed]",
      "text/plain": [
       "<Figure size 432x288 with 1 Axes>"
      ]
     },
     "metadata": {
      "needs_background": "light"
     },
     "output_type": "display_data"
    }
   ],
   "source": [
    "for k,j in enumerate(data_all_region, start=1):\n",
    "    values = [] \n",
    "    # отберем 1000 раз по 500 значений\n",
    "    for i in range(1000):\n",
    "        # 500 раз отберем случайно  значения из целевых реальных значений\n",
    "        target_subsample = j[1].sample(n=500, replace=True, random_state=state)\n",
    "        # и выберем соответсвующие им предсказанные значения\n",
    "        probab_subsample = j[0][target_subsample.index]\n",
    "        \n",
    "        target_subsample = target_subsample.reset_index(drop=True)\n",
    "        probab_subsample = probab_subsample.reset_index(drop=True)\n",
    "        \n",
    "        # расчитаем прибыль на этих выборках\n",
    "        result = profit(target_subsample, probab_subsample)\n",
    "        # запишем значения\n",
    "        values.append(result)\n",
    "\n",
    "    values = pd.Series(values) # Серия со значениями прибыли которую на генерировали бутстрепом из предсказанных данных\n",
    "    values.hist()\n",
    "    \n",
    "    print(f'средняя выручка по региону {k}: {(values.mean() / 10 ** 9 ).round(3)} млрд рублей')\n",
    "    \n",
    "    # отбросим по 2.5 процента от количества значений с хвостов для получения 95% доверительного интервала\n",
    "    lower = values.quantile(0.025)\n",
    "    upper = values.quantile(0.975)\n",
    "    print(f'95%-й доверительный интервал от {(lower / 10 ** 9 ).round(3)} до {(upper / 10 ** 9 ).round(3)} млрд рублей')\n",
    "    \n",
    "    # риск убытков - доля значений  меньше 0 в полученном values \n",
    "    print(f'риск убытков: {(values < 0).mean()} %  ') # {len(values[values<0]) / len(values)}\n",
    "    print()"
   ]
  },
  {
   "cell_type": "markdown",
   "metadata": {},
   "source": [
    "новые выводы\n",
    "\n",
    "Модель показала что лучше всего для добычи подходит первый  регион -  средняя прибыль больше чем в остальных регионах. но данные получены наиболее точно для второго региона. С помощью метода бутстреп смоделировали процесс отбора 500 точек и получили распределение прибылей - показала что лушим решением будет добыча во втором регионе. Риск убытков - минимален на втором регионе."
   ]
  },
  {
   "cell_type": "code",
   "execution_count": null,
   "metadata": {},
   "outputs": [],
   "source": []
  }
 ],
 "metadata": {
  "ExecuteTimeLog": [
   {
    "duration": 42,
    "start_time": "2022-03-24T06:00:31.256Z"
   },
   {
    "duration": 409,
    "start_time": "2022-03-24T06:00:34.868Z"
   },
   {
    "duration": 361,
    "start_time": "2022-03-24T06:00:35.349Z"
   },
   {
    "duration": 18,
    "start_time": "2022-03-24T06:00:37.093Z"
   },
   {
    "duration": 14,
    "start_time": "2022-03-24T06:00:44.898Z"
   },
   {
    "duration": 14,
    "start_time": "2022-03-24T06:00:50.850Z"
   },
   {
    "duration": 13,
    "start_time": "2022-03-24T06:00:56.774Z"
   },
   {
    "duration": 13,
    "start_time": "2022-03-24T06:01:04.368Z"
   },
   {
    "duration": 8,
    "start_time": "2022-03-24T06:01:53.455Z"
   },
   {
    "duration": 33,
    "start_time": "2022-03-24T06:02:16.229Z"
   },
   {
    "duration": 74,
    "start_time": "2022-03-24T06:03:14.915Z"
   },
   {
    "duration": 24,
    "start_time": "2022-03-24T06:03:39.852Z"
   },
   {
    "duration": 847,
    "start_time": "2022-03-24T07:39:21.794Z"
   },
   {
    "duration": 64,
    "start_time": "2022-03-24T07:43:16.687Z"
   },
   {
    "duration": 15,
    "start_time": "2022-03-24T07:43:23.112Z"
   },
   {
    "duration": 43,
    "start_time": "2022-03-24T07:43:55.552Z"
   },
   {
    "duration": 39,
    "start_time": "2022-03-24T07:44:01.190Z"
   },
   {
    "duration": 45,
    "start_time": "2022-03-24T07:44:05.774Z"
   },
   {
    "duration": 12,
    "start_time": "2022-03-24T08:42:22.473Z"
   },
   {
    "duration": 27,
    "start_time": "2022-03-24T08:48:26.123Z"
   },
   {
    "duration": 25,
    "start_time": "2022-03-24T08:48:57.629Z"
   },
   {
    "duration": 8,
    "start_time": "2022-03-24T08:49:00.285Z"
   },
   {
    "duration": 4,
    "start_time": "2022-03-24T08:49:01.924Z"
   },
   {
    "duration": 8,
    "start_time": "2022-03-24T08:49:20.392Z"
   },
   {
    "duration": 3,
    "start_time": "2022-03-24T08:49:24.514Z"
   },
   {
    "duration": 5,
    "start_time": "2022-03-24T08:49:26.789Z"
   },
   {
    "duration": 555,
    "start_time": "2022-03-24T11:02:29.701Z"
   },
   {
    "duration": 168,
    "start_time": "2022-03-24T11:06:08.862Z"
   },
   {
    "duration": 230,
    "start_time": "2022-03-24T11:06:16.230Z"
   },
   {
    "duration": 24,
    "start_time": "2022-03-24T11:06:22.635Z"
   },
   {
    "duration": 104,
    "start_time": "2022-03-24T11:06:26.950Z"
   },
   {
    "duration": 105,
    "start_time": "2022-03-24T11:06:32.148Z"
   },
   {
    "duration": 303,
    "start_time": "2022-03-24T11:06:36.787Z"
   },
   {
    "duration": 385,
    "start_time": "2022-03-24T11:06:55.033Z"
   },
   {
    "duration": 305,
    "start_time": "2022-03-24T11:07:07.369Z"
   },
   {
    "duration": 291,
    "start_time": "2022-03-24T11:07:39.248Z"
   },
   {
    "duration": 301,
    "start_time": "2022-03-24T11:07:43.559Z"
   },
   {
    "duration": 293,
    "start_time": "2022-03-24T11:07:55.485Z"
   },
   {
    "duration": 204,
    "start_time": "2022-03-24T11:33:17.098Z"
   },
   {
    "duration": 25,
    "start_time": "2022-03-24T11:33:32.918Z"
   },
   {
    "duration": 162,
    "start_time": "2022-03-24T11:34:04.701Z"
   },
   {
    "duration": 27,
    "start_time": "2022-03-24T11:34:11.577Z"
   },
   {
    "duration": 26,
    "start_time": "2022-03-24T11:35:03.016Z"
   },
   {
    "duration": 28,
    "start_time": "2022-03-24T11:35:07.320Z"
   },
   {
    "duration": 27,
    "start_time": "2022-03-24T11:35:10.604Z"
   },
   {
    "duration": 4,
    "start_time": "2022-03-24T11:51:31.088Z"
   },
   {
    "duration": 4,
    "start_time": "2022-03-24T11:51:39.974Z"
   },
   {
    "duration": 4,
    "start_time": "2022-03-24T11:51:55.159Z"
   },
   {
    "duration": 181,
    "start_time": "2022-03-24T11:57:53.249Z"
   },
   {
    "duration": 4,
    "start_time": "2022-03-24T11:58:08.417Z"
   },
   {
    "duration": 674,
    "start_time": "2022-03-24T11:59:23.233Z"
   },
   {
    "duration": 673,
    "start_time": "2022-03-24T11:59:29.835Z"
   },
   {
    "duration": 4,
    "start_time": "2022-03-24T12:01:38.468Z"
   },
   {
    "duration": 33,
    "start_time": "2022-03-24T12:01:38.950Z"
   },
   {
    "duration": 455,
    "start_time": "2022-03-24T12:01:44.667Z"
   },
   {
    "duration": 10,
    "start_time": "2022-03-24T14:25:35.982Z"
   },
   {
    "duration": 12,
    "start_time": "2022-03-24T14:25:39.643Z"
   },
   {
    "duration": 5,
    "start_time": "2022-03-24T14:26:58.172Z"
   },
   {
    "duration": 356,
    "start_time": "2022-03-24T14:27:00.460Z"
   },
   {
    "duration": 20,
    "start_time": "2022-03-25T07:51:56.663Z"
   },
   {
    "duration": 19,
    "start_time": "2022-03-25T07:52:11.112Z"
   },
   {
    "duration": 19,
    "start_time": "2022-03-25T07:52:22.164Z"
   },
   {
    "duration": 21,
    "start_time": "2022-03-25T07:52:26.084Z"
   },
   {
    "duration": 37,
    "start_time": "2022-03-25T07:53:04.918Z"
   },
   {
    "duration": 47,
    "start_time": "2022-03-25T07:53:16.067Z"
   },
   {
    "duration": 36,
    "start_time": "2022-03-25T08:24:29.750Z"
   },
   {
    "duration": 3,
    "start_time": "2022-03-25T08:32:44.315Z"
   },
   {
    "duration": 17,
    "start_time": "2022-03-25T08:33:06.114Z"
   },
   {
    "duration": 266,
    "start_time": "2022-03-25T08:36:13.390Z"
   },
   {
    "duration": 11,
    "start_time": "2022-03-25T08:36:40.704Z"
   },
   {
    "duration": 35,
    "start_time": "2022-03-25T08:37:02.177Z"
   },
   {
    "duration": 35,
    "start_time": "2022-03-25T08:37:27.680Z"
   },
   {
    "duration": 33,
    "start_time": "2022-03-25T08:37:39.369Z"
   },
   {
    "duration": 37,
    "start_time": "2022-03-25T08:41:45.405Z"
   },
   {
    "duration": 35,
    "start_time": "2022-03-25T08:41:49.625Z"
   },
   {
    "duration": 36,
    "start_time": "2022-03-25T08:42:55.204Z"
   },
   {
    "duration": 213,
    "start_time": "2022-03-25T10:41:36.592Z"
   },
   {
    "duration": 11,
    "start_time": "2022-03-25T10:46:30.979Z"
   },
   {
    "duration": 10,
    "start_time": "2022-03-25T10:46:39.011Z"
   },
   {
    "duration": 9,
    "start_time": "2022-03-25T10:46:50.465Z"
   },
   {
    "duration": 5,
    "start_time": "2022-03-25T10:46:57.181Z"
   },
   {
    "duration": 165,
    "start_time": "2022-03-25T10:47:01.010Z"
   },
   {
    "duration": 10,
    "start_time": "2022-03-25T10:47:06.419Z"
   },
   {
    "duration": 394,
    "start_time": "2022-03-25T10:47:19.723Z"
   },
   {
    "duration": 510,
    "start_time": "2022-03-25T10:47:27.610Z"
   },
   {
    "duration": 23,
    "start_time": "2022-03-25T10:47:38.915Z"
   },
   {
    "duration": 5,
    "start_time": "2022-03-25T10:47:45.488Z"
   },
   {
    "duration": 12,
    "start_time": "2022-03-25T10:49:11.332Z"
   },
   {
    "duration": 10,
    "start_time": "2022-03-25T10:50:58.370Z"
   },
   {
    "duration": 11,
    "start_time": "2022-03-25T10:51:38.957Z"
   },
   {
    "duration": 5,
    "start_time": "2022-03-25T10:52:19.163Z"
   },
   {
    "duration": 7,
    "start_time": "2022-03-25T10:52:31.551Z"
   },
   {
    "duration": 7,
    "start_time": "2022-03-25T11:01:21.053Z"
   },
   {
    "duration": 5,
    "start_time": "2022-03-25T11:01:51.271Z"
   },
   {
    "duration": 5,
    "start_time": "2022-03-25T11:02:49.974Z"
   },
   {
    "duration": 417,
    "start_time": "2022-03-25T11:02:52.096Z"
   },
   {
    "duration": 24,
    "start_time": "2022-03-25T11:03:04.032Z"
   },
   {
    "duration": 5,
    "start_time": "2022-03-25T11:03:15.134Z"
   },
   {
    "duration": 10,
    "start_time": "2022-03-25T11:03:52.013Z"
   },
   {
    "duration": 8,
    "start_time": "2022-03-25T11:04:05.431Z"
   },
   {
    "duration": 7,
    "start_time": "2022-03-25T11:04:54.725Z"
   },
   {
    "duration": 5,
    "start_time": "2022-03-25T11:05:02.116Z"
   },
   {
    "duration": 6,
    "start_time": "2022-03-25T11:06:19.107Z"
   },
   {
    "duration": 6,
    "start_time": "2022-03-25T11:06:40.701Z"
   },
   {
    "duration": 4,
    "start_time": "2022-03-25T11:26:12.565Z"
   },
   {
    "duration": 46,
    "start_time": "2022-03-25T11:26:16.789Z"
   },
   {
    "duration": 50,
    "start_time": "2022-03-25T11:27:20.195Z"
   },
   {
    "duration": 33,
    "start_time": "2022-03-25T11:27:44.941Z"
   },
   {
    "duration": 44,
    "start_time": "2022-03-25T11:28:17.277Z"
   },
   {
    "duration": 38,
    "start_time": "2022-03-25T11:28:23.260Z"
   },
   {
    "duration": 35,
    "start_time": "2022-03-25T11:29:03.159Z"
   },
   {
    "duration": 38,
    "start_time": "2022-03-25T11:29:11.129Z"
   },
   {
    "duration": 9,
    "start_time": "2022-03-25T11:29:53.304Z"
   },
   {
    "duration": 4,
    "start_time": "2022-03-25T11:30:46.086Z"
   },
   {
    "duration": 3,
    "start_time": "2022-03-25T11:30:46.879Z"
   },
   {
    "duration": 36,
    "start_time": "2022-03-25T11:30:49.580Z"
   },
   {
    "duration": 6,
    "start_time": "2022-03-25T11:31:04.779Z"
   },
   {
    "duration": 5,
    "start_time": "2022-03-25T11:32:42.438Z"
   },
   {
    "duration": 61,
    "start_time": "2022-03-25T11:43:53.540Z"
   },
   {
    "duration": 6,
    "start_time": "2022-03-25T11:43:54.328Z"
   },
   {
    "duration": 6,
    "start_time": "2022-03-25T11:43:55.657Z"
   },
   {
    "duration": 27,
    "start_time": "2022-03-25T11:51:28.125Z"
   },
   {
    "duration": 3,
    "start_time": "2022-03-25T11:51:32.790Z"
   },
   {
    "duration": 24,
    "start_time": "2022-03-25T11:51:38.298Z"
   },
   {
    "duration": 33,
    "start_time": "2022-03-25T11:51:53.238Z"
   },
   {
    "duration": 88,
    "start_time": "2022-03-25T11:56:44.630Z"
   },
   {
    "duration": 239,
    "start_time": "2022-03-25T11:57:40.579Z"
   },
   {
    "duration": 331,
    "start_time": "2022-03-25T11:57:58.872Z"
   },
   {
    "duration": 272,
    "start_time": "2022-03-25T11:58:06.030Z"
   },
   {
    "duration": 216,
    "start_time": "2022-03-25T11:58:20.807Z"
   },
   {
    "duration": 210,
    "start_time": "2022-03-25T11:58:38.307Z"
   },
   {
    "duration": 1021,
    "start_time": "2022-03-25T12:00:41.592Z"
   },
   {
    "duration": 1652,
    "start_time": "2022-03-28T15:45:51.821Z"
   },
   {
    "duration": 319,
    "start_time": "2022-03-28T15:45:53.475Z"
   },
   {
    "duration": 4,
    "start_time": "2022-03-28T15:45:53.796Z"
   },
   {
    "duration": 576,
    "start_time": "2022-03-28T15:45:53.802Z"
   },
   {
    "duration": 6,
    "start_time": "2022-03-28T15:45:54.463Z"
   },
   {
    "duration": 32,
    "start_time": "2022-03-28T15:45:54.699Z"
   },
   {
    "duration": 27,
    "start_time": "2022-03-28T15:45:55.440Z"
   },
   {
    "duration": 7,
    "start_time": "2022-03-28T15:45:55.768Z"
   },
   {
    "duration": 5,
    "start_time": "2022-03-28T15:45:56.126Z"
   },
   {
    "duration": 989,
    "start_time": "2022-03-28T15:45:56.286Z"
   },
   {
    "duration": 240,
    "start_time": "2022-03-28T15:45:57.277Z"
   },
   {
    "duration": 3,
    "start_time": "2022-03-28T15:46:44.608Z"
   },
   {
    "duration": 4,
    "start_time": "2022-03-28T16:01:33.090Z"
   },
   {
    "duration": 30,
    "start_time": "2022-03-28T16:01:35.821Z"
   },
   {
    "duration": 3,
    "start_time": "2022-03-28T16:07:32.867Z"
   },
   {
    "duration": 364,
    "start_time": "2022-03-28T16:07:33.095Z"
   },
   {
    "duration": 4,
    "start_time": "2022-03-28T16:07:33.923Z"
   },
   {
    "duration": 423,
    "start_time": "2022-03-28T16:07:34.156Z"
   },
   {
    "duration": 4,
    "start_time": "2022-03-28T16:07:35.906Z"
   },
   {
    "duration": 31,
    "start_time": "2022-03-28T16:07:36.539Z"
   },
   {
    "duration": 25,
    "start_time": "2022-03-28T16:07:38.079Z"
   },
   {
    "duration": 4,
    "start_time": "2022-03-28T16:07:38.516Z"
   },
   {
    "duration": 2,
    "start_time": "2022-03-28T16:07:39.168Z"
   },
   {
    "duration": 759,
    "start_time": "2022-03-28T16:07:39.512Z"
   },
   {
    "duration": 287,
    "start_time": "2022-03-28T16:08:16.987Z"
   },
   {
    "duration": 296,
    "start_time": "2022-03-28T16:08:22.401Z"
   },
   {
    "duration": 363,
    "start_time": "2022-03-28T16:08:26.396Z"
   },
   {
    "duration": 574,
    "start_time": "2022-03-28T16:08:34.140Z"
   },
   {
    "duration": 845,
    "start_time": "2022-03-28T16:08:44.311Z"
   },
   {
    "duration": 940,
    "start_time": "2022-03-28T16:08:59.091Z"
   },
   {
    "duration": 132,
    "start_time": "2022-03-28T16:14:37.745Z"
   },
   {
    "duration": 263,
    "start_time": "2022-03-28T16:16:44.383Z"
   },
   {
    "duration": 49,
    "start_time": "2022-03-28T16:17:01.516Z"
   },
   {
    "duration": 419,
    "start_time": "2022-03-28T16:17:14.860Z"
   },
   {
    "duration": 400,
    "start_time": "2022-03-28T16:19:16.364Z"
   },
   {
    "duration": 30,
    "start_time": "2022-03-28T16:19:43.438Z"
   },
   {
    "duration": 6,
    "start_time": "2022-03-28T16:19:44.186Z"
   },
   {
    "duration": 6,
    "start_time": "2022-03-28T16:19:47.737Z"
   },
   {
    "duration": 3,
    "start_time": "2022-03-28T16:19:58.317Z"
   },
   {
    "duration": 118,
    "start_time": "2022-03-28T16:20:08.537Z"
   },
   {
    "duration": 399,
    "start_time": "2022-03-28T16:20:12.559Z"
   },
   {
    "duration": 335,
    "start_time": "2022-03-28T16:20:16.544Z"
   },
   {
    "duration": 109,
    "start_time": "2022-03-28T16:20:35.019Z"
   },
   {
    "duration": 369,
    "start_time": "2022-03-28T16:20:39.299Z"
   },
   {
    "duration": 342,
    "start_time": "2022-03-28T16:20:48.131Z"
   },
   {
    "duration": 390,
    "start_time": "2022-03-28T16:20:57.574Z"
   },
   {
    "duration": 520,
    "start_time": "2022-03-28T16:21:03.945Z"
   },
   {
    "duration": 15,
    "start_time": "2022-03-28T16:30:39.525Z"
   },
   {
    "duration": 441,
    "start_time": "2022-03-28T16:44:32.323Z"
   },
   {
    "duration": 322,
    "start_time": "2022-03-28T16:44:40.941Z"
   },
   {
    "duration": 4,
    "start_time": "2022-03-28T16:44:47.554Z"
   },
   {
    "duration": 231,
    "start_time": "2022-03-28T16:44:48.141Z"
   },
   {
    "duration": 261,
    "start_time": "2022-03-28T16:44:53.706Z"
   },
   {
    "duration": 246,
    "start_time": "2022-03-28T16:45:02.829Z"
   },
   {
    "duration": 337,
    "start_time": "2022-03-28T16:45:30.830Z"
   },
   {
    "duration": 359,
    "start_time": "2022-03-28T16:45:36.523Z"
   },
   {
    "duration": 415,
    "start_time": "2022-03-28T16:45:57.558Z"
   },
   {
    "duration": 73,
    "start_time": "2022-03-28T17:04:54.022Z"
   },
   {
    "duration": 2611,
    "start_time": "2022-03-28T17:05:01.002Z"
   },
   {
    "duration": 615,
    "start_time": "2022-03-28T17:05:03.616Z"
   },
   {
    "duration": 40,
    "start_time": "2022-03-28T17:05:04.234Z"
   },
   {
    "duration": 1588,
    "start_time": "2022-03-28T17:05:04.278Z"
   },
   {
    "duration": 7,
    "start_time": "2022-03-28T17:05:05.868Z"
   },
   {
    "duration": 473,
    "start_time": "2022-03-28T17:05:05.877Z"
   },
   {
    "duration": 90,
    "start_time": "2022-03-28T17:05:06.354Z"
   },
   {
    "duration": 134,
    "start_time": "2022-03-28T17:05:06.449Z"
   },
   {
    "duration": 60,
    "start_time": "2022-03-28T17:05:06.587Z"
   },
   {
    "duration": 100,
    "start_time": "2022-03-28T17:05:06.650Z"
   },
   {
    "duration": 4,
    "start_time": "2022-03-28T17:05:06.752Z"
   },
   {
    "duration": 589,
    "start_time": "2022-03-28T17:05:06.758Z"
   },
   {
    "duration": 197,
    "start_time": "2022-03-28T17:05:07.443Z"
   },
   {
    "duration": 12,
    "start_time": "2022-03-28T17:05:10.935Z"
   },
   {
    "duration": 5,
    "start_time": "2022-03-28T17:05:31.289Z"
   },
   {
    "duration": 5,
    "start_time": "2022-03-28T17:05:36.682Z"
   },
   {
    "duration": 17,
    "start_time": "2022-03-28T17:05:46.022Z"
   },
   {
    "duration": 8,
    "start_time": "2022-03-28T17:06:26.332Z"
   },
   {
    "duration": 8,
    "start_time": "2022-03-28T17:06:30.741Z"
   },
   {
    "duration": 0,
    "start_time": "2022-03-28T17:06:41.003Z"
   },
   {
    "duration": 9,
    "start_time": "2022-03-28T17:06:43.034Z"
   },
   {
    "duration": 10,
    "start_time": "2022-03-28T17:07:05.950Z"
   },
   {
    "duration": 1058,
    "start_time": "2022-03-28T17:33:15.896Z"
   },
   {
    "duration": 8,
    "start_time": "2022-03-28T17:33:21.820Z"
   },
   {
    "duration": 7,
    "start_time": "2022-03-28T17:33:34.680Z"
   },
   {
    "duration": 11,
    "start_time": "2022-03-28T17:33:59.965Z"
   },
   {
    "duration": 6241,
    "start_time": "2022-03-28T17:36:00.140Z"
   },
   {
    "duration": 27,
    "start_time": "2022-03-28T17:36:24.755Z"
   },
   {
    "duration": 481,
    "start_time": "2022-03-28T17:38:23.962Z"
   },
   {
    "duration": 5,
    "start_time": "2022-03-28T17:40:34.822Z"
   },
   {
    "duration": 7,
    "start_time": "2022-03-28T17:40:40.860Z"
   },
   {
    "duration": 937,
    "start_time": "2022-03-28T17:44:17.397Z"
   },
   {
    "duration": 11,
    "start_time": "2022-03-28T17:44:20.789Z"
   },
   {
    "duration": 536,
    "start_time": "2022-03-28T17:50:54.308Z"
   },
   {
    "duration": 485,
    "start_time": "2022-03-28T17:53:47.758Z"
   },
   {
    "duration": 20,
    "start_time": "2022-03-28T17:55:15.478Z"
   },
   {
    "duration": 19,
    "start_time": "2022-03-28T17:55:23.319Z"
   },
   {
    "duration": 20,
    "start_time": "2022-03-28T17:55:31.600Z"
   },
   {
    "duration": 19,
    "start_time": "2022-03-28T17:56:01.356Z"
   },
   {
    "duration": 17,
    "start_time": "2022-03-28T17:57:24.986Z"
   },
   {
    "duration": 20,
    "start_time": "2022-03-28T17:57:37.440Z"
   },
   {
    "duration": 5,
    "start_time": "2022-03-28T18:00:50.237Z"
   },
   {
    "duration": 441,
    "start_time": "2022-03-28T18:00:50.474Z"
   },
   {
    "duration": 33,
    "start_time": "2022-03-28T18:00:50.918Z"
   },
   {
    "duration": 1465,
    "start_time": "2022-03-28T18:00:50.953Z"
   },
   {
    "duration": 7,
    "start_time": "2022-03-28T18:00:52.421Z"
   },
   {
    "duration": 426,
    "start_time": "2022-03-28T18:00:52.430Z"
   },
   {
    "duration": 4,
    "start_time": "2022-03-28T18:00:54.366Z"
   },
   {
    "duration": 46,
    "start_time": "2022-03-28T18:00:56.094Z"
   },
   {
    "duration": 65,
    "start_time": "2022-03-28T18:00:57.377Z"
   },
   {
    "duration": 8,
    "start_time": "2022-03-28T18:00:58.207Z"
   },
   {
    "duration": 7,
    "start_time": "2022-03-28T18:00:59.021Z"
   },
   {
    "duration": 6,
    "start_time": "2022-03-28T18:04:27.410Z"
   },
   {
    "duration": 8,
    "start_time": "2022-03-28T18:04:30.411Z"
   },
   {
    "duration": 6,
    "start_time": "2022-03-28T18:04:31.672Z"
   },
   {
    "duration": 364,
    "start_time": "2022-03-28T18:07:31.486Z"
   },
   {
    "duration": 420,
    "start_time": "2022-03-28T18:07:58.605Z"
   },
   {
    "duration": 19,
    "start_time": "2022-03-28T18:08:03.579Z"
   },
   {
    "duration": 2670,
    "start_time": "2022-03-28T18:08:15.909Z"
   },
   {
    "duration": 7,
    "start_time": "2022-03-28T18:08:22.475Z"
   },
   {
    "duration": 492,
    "start_time": "2022-03-28T18:08:29.451Z"
   },
   {
    "duration": 402,
    "start_time": "2022-03-28T18:13:42.363Z"
   },
   {
    "duration": 181,
    "start_time": "2022-03-28T18:15:49.236Z"
   },
   {
    "duration": 15,
    "start_time": "2022-03-28T18:15:53.990Z"
   },
   {
    "duration": 4,
    "start_time": "2022-03-28T18:19:40.611Z"
   },
   {
    "duration": 12,
    "start_time": "2022-03-28T18:19:42.706Z"
   },
   {
    "duration": 46,
    "start_time": "2022-03-28T18:23:05.937Z"
   },
   {
    "duration": 5,
    "start_time": "2022-03-28T18:23:37.947Z"
   },
   {
    "duration": 45,
    "start_time": "2022-03-28T18:23:38.554Z"
   },
   {
    "duration": 1716,
    "start_time": "2022-03-28T18:43:55.501Z"
   },
   {
    "duration": 371,
    "start_time": "2022-03-28T18:43:57.220Z"
   },
   {
    "duration": 20,
    "start_time": "2022-03-28T18:43:57.593Z"
   },
   {
    "duration": 1052,
    "start_time": "2022-03-28T18:43:57.616Z"
   },
   {
    "duration": 6,
    "start_time": "2022-03-28T18:44:00.117Z"
   },
   {
    "duration": 618,
    "start_time": "2022-03-28T18:44:02.998Z"
   },
   {
    "duration": 4,
    "start_time": "2022-03-28T18:44:11.701Z"
   },
   {
    "duration": 114,
    "start_time": "2022-03-28T18:44:12.736Z"
   },
   {
    "duration": 37,
    "start_time": "2022-03-28T18:44:29.127Z"
   },
   {
    "duration": 1505,
    "start_time": "2022-03-28T20:07:09.727Z"
   },
   {
    "duration": 334,
    "start_time": "2022-03-28T20:07:11.234Z"
   },
   {
    "duration": 19,
    "start_time": "2022-03-28T20:07:11.569Z"
   },
   {
    "duration": 991,
    "start_time": "2022-03-28T20:07:11.590Z"
   },
   {
    "duration": 4,
    "start_time": "2022-03-28T20:07:16.892Z"
   },
   {
    "duration": 376,
    "start_time": "2022-03-28T20:07:20.512Z"
   },
   {
    "duration": 93,
    "start_time": "2022-03-28T20:07:33.718Z"
   },
   {
    "duration": 9,
    "start_time": "2022-03-28T20:07:47.205Z"
   },
   {
    "duration": 3,
    "start_time": "2022-03-28T20:07:50.713Z"
   },
   {
    "duration": 30,
    "start_time": "2022-03-28T20:07:51.800Z"
   },
   {
    "duration": 4,
    "start_time": "2022-03-28T20:08:46.043Z"
   },
   {
    "duration": 30,
    "start_time": "2022-03-28T20:08:47.514Z"
   },
   {
    "duration": 9,
    "start_time": "2022-03-28T20:10:34.600Z"
   },
   {
    "duration": 9,
    "start_time": "2022-03-28T20:10:52.178Z"
   },
   {
    "duration": 8,
    "start_time": "2022-03-28T20:11:07.898Z"
   },
   {
    "duration": 10,
    "start_time": "2022-03-28T20:11:27.053Z"
   },
   {
    "duration": 12,
    "start_time": "2022-03-28T20:14:31.250Z"
   },
   {
    "duration": 11,
    "start_time": "2022-03-28T20:14:39.152Z"
   },
   {
    "duration": 29,
    "start_time": "2022-03-28T20:15:32.367Z"
   },
   {
    "duration": 30,
    "start_time": "2022-03-28T20:15:34.493Z"
   },
   {
    "duration": 8,
    "start_time": "2022-03-28T20:17:37.543Z"
   },
   {
    "duration": 3,
    "start_time": "2022-03-28T20:17:40.138Z"
   },
   {
    "duration": 13,
    "start_time": "2022-03-28T20:17:47.868Z"
   },
   {
    "duration": 557,
    "start_time": "2022-03-28T20:18:27.804Z"
   },
   {
    "duration": 8,
    "start_time": "2022-03-28T20:18:31.146Z"
   },
   {
    "duration": 167,
    "start_time": "2022-03-28T20:22:47.228Z"
   },
   {
    "duration": 164,
    "start_time": "2022-03-28T20:22:55.437Z"
   },
   {
    "duration": 557,
    "start_time": "2022-03-28T20:22:58.031Z"
   },
   {
    "duration": 529,
    "start_time": "2022-03-28T20:23:36.969Z"
   },
   {
    "duration": 1579,
    "start_time": "2022-03-28T20:25:11.362Z"
   },
   {
    "duration": 1726,
    "start_time": "2022-03-28T20:27:36.171Z"
   },
   {
    "duration": 1607,
    "start_time": "2022-03-28T20:29:30.103Z"
   },
   {
    "duration": 11,
    "start_time": "2022-03-28T20:30:10.312Z"
   },
   {
    "duration": 639,
    "start_time": "2022-03-28T20:30:46.590Z"
   },
   {
    "duration": 1784,
    "start_time": "2022-03-28T20:30:56.540Z"
   },
   {
    "duration": 1769,
    "start_time": "2022-03-28T20:40:00.642Z"
   },
   {
    "duration": 9,
    "start_time": "2022-03-28T20:40:57.126Z"
   },
   {
    "duration": 1836,
    "start_time": "2022-03-28T20:41:05.629Z"
   },
   {
    "duration": 1764,
    "start_time": "2022-03-28T20:43:14.768Z"
   },
   {
    "duration": 7,
    "start_time": "2022-03-28T20:50:31.443Z"
   },
   {
    "duration": 7,
    "start_time": "2022-03-28T20:51:01.208Z"
   },
   {
    "duration": 5,
    "start_time": "2022-03-28T20:51:06.658Z"
   },
   {
    "duration": 1855,
    "start_time": "2022-03-28T20:51:43.217Z"
   },
   {
    "duration": 1850,
    "start_time": "2022-03-28T20:55:56.133Z"
   },
   {
    "duration": 2063,
    "start_time": "2022-03-28T20:58:44.499Z"
   },
   {
    "duration": 1638,
    "start_time": "2022-03-28T21:12:36.527Z"
   },
   {
    "duration": 1585,
    "start_time": "2022-03-28T21:12:51.982Z"
   },
   {
    "duration": 1940,
    "start_time": "2022-03-28T21:13:00.912Z"
   },
   {
    "duration": 1742,
    "start_time": "2022-03-28T21:13:16.754Z"
   },
   {
    "duration": 1770,
    "start_time": "2022-03-28T21:13:54.677Z"
   },
   {
    "duration": 2,
    "start_time": "2022-03-28T21:14:15.683Z"
   },
   {
    "duration": 1855,
    "start_time": "2022-03-28T21:14:16.449Z"
   },
   {
    "duration": 1719,
    "start_time": "2022-03-28T21:14:28.972Z"
   },
   {
    "duration": 4,
    "start_time": "2022-03-28T21:15:48.688Z"
   },
   {
    "duration": 24,
    "start_time": "2022-03-28T21:15:50.336Z"
   },
   {
    "duration": 4,
    "start_time": "2022-03-28T21:16:13.638Z"
   },
   {
    "duration": 24,
    "start_time": "2022-03-28T21:16:14.773Z"
   },
   {
    "duration": 5,
    "start_time": "2022-03-28T21:16:22.818Z"
   },
   {
    "duration": 445,
    "start_time": "2022-03-28T21:16:23.345Z"
   },
   {
    "duration": 4,
    "start_time": "2022-03-28T21:16:28.438Z"
   },
   {
    "duration": 427,
    "start_time": "2022-03-28T21:16:28.866Z"
   },
   {
    "duration": 330,
    "start_time": "2022-03-28T21:16:32.559Z"
   },
   {
    "duration": 400,
    "start_time": "2022-03-28T21:16:37.390Z"
   },
   {
    "duration": 346,
    "start_time": "2022-03-28T21:16:43.848Z"
   },
   {
    "duration": 2381,
    "start_time": "2022-03-28T21:18:34.219Z"
   },
   {
    "duration": 2260,
    "start_time": "2022-03-28T21:18:45.978Z"
   },
   {
    "duration": 3,
    "start_time": "2022-03-28T21:19:00.053Z"
   },
   {
    "duration": 1826,
    "start_time": "2022-03-28T21:19:00.848Z"
   },
   {
    "duration": 11,
    "start_time": "2022-03-28T21:31:35.088Z"
   },
   {
    "duration": 1724,
    "start_time": "2022-03-28T21:31:38.358Z"
   },
   {
    "duration": 2295,
    "start_time": "2022-03-28T21:31:59.310Z"
   },
   {
    "duration": 18204,
    "start_time": "2022-03-28T21:32:25.709Z"
   },
   {
    "duration": 1739,
    "start_time": "2022-03-28T21:34:22.006Z"
   },
   {
    "duration": 5,
    "start_time": "2022-03-28T21:39:13.363Z"
   },
   {
    "duration": 370,
    "start_time": "2022-03-28T21:39:13.812Z"
   },
   {
    "duration": 3,
    "start_time": "2022-03-28T21:42:18.564Z"
   },
   {
    "duration": 30,
    "start_time": "2022-03-28T21:42:19.579Z"
   },
   {
    "duration": 11,
    "start_time": "2022-03-28T21:42:23.965Z"
   },
   {
    "duration": 3,
    "start_time": "2022-03-28T21:42:25.626Z"
   },
   {
    "duration": 1695,
    "start_time": "2022-03-28T21:42:26.262Z"
   },
   {
    "duration": 48,
    "start_time": "2022-03-29T20:15:15.214Z"
   },
   {
    "duration": 1677,
    "start_time": "2022-03-29T20:15:18.489Z"
   },
   {
    "duration": 379,
    "start_time": "2022-03-29T20:15:20.168Z"
   },
   {
    "duration": 18,
    "start_time": "2022-03-29T20:15:20.549Z"
   },
   {
    "duration": 1166,
    "start_time": "2022-03-29T20:15:20.570Z"
   },
   {
    "duration": 6,
    "start_time": "2022-03-29T20:15:21.738Z"
   },
   {
    "duration": 685,
    "start_time": "2022-03-29T20:15:21.746Z"
   },
   {
    "duration": 4,
    "start_time": "2022-03-29T20:15:23.601Z"
   },
   {
    "duration": 3,
    "start_time": "2022-03-29T20:15:28.616Z"
   },
   {
    "duration": 4,
    "start_time": "2022-03-29T20:26:52.627Z"
   },
   {
    "duration": 37,
    "start_time": "2022-03-29T20:26:54.833Z"
   },
   {
    "duration": 3,
    "start_time": "2022-03-29T20:27:10.132Z"
   },
   {
    "duration": 38,
    "start_time": "2022-03-29T20:27:11.102Z"
   },
   {
    "duration": 17,
    "start_time": "2022-03-29T20:27:36.599Z"
   },
   {
    "duration": 3,
    "start_time": "2022-03-29T20:27:57.325Z"
   },
   {
    "duration": 3759,
    "start_time": "2022-03-29T20:27:57.662Z"
   },
   {
    "duration": 3,
    "start_time": "2022-03-29T21:06:21.576Z"
   },
   {
    "duration": 3,
    "start_time": "2022-03-29T21:06:28.315Z"
   },
   {
    "duration": 384,
    "start_time": "2022-03-29T21:06:28.721Z"
   },
   {
    "duration": 15,
    "start_time": "2022-03-29T21:06:29.108Z"
   },
   {
    "duration": 1067,
    "start_time": "2022-03-29T21:06:29.124Z"
   },
   {
    "duration": 5,
    "start_time": "2022-03-29T21:06:30.193Z"
   },
   {
    "duration": 448,
    "start_time": "2022-03-29T21:06:30.200Z"
   },
   {
    "duration": 4,
    "start_time": "2022-03-29T21:06:31.199Z"
   },
   {
    "duration": 37,
    "start_time": "2022-03-29T21:06:31.813Z"
   },
   {
    "duration": 16,
    "start_time": "2022-03-29T21:06:32.753Z"
   },
   {
    "duration": 3,
    "start_time": "2022-03-29T21:06:33.766Z"
   },
   {
    "duration": 3640,
    "start_time": "2022-03-29T21:06:33.956Z"
   },
   {
    "duration": 3643,
    "start_time": "2022-03-29T21:07:26.085Z"
   },
   {
    "duration": 3639,
    "start_time": "2022-03-29T21:08:16.478Z"
   },
   {
    "duration": 14,
    "start_time": "2022-03-29T21:10:53.777Z"
   },
   {
    "duration": 3,
    "start_time": "2022-03-29T21:17:36.300Z"
   },
   {
    "duration": 37,
    "start_time": "2022-03-29T21:17:39.591Z"
   },
   {
    "duration": 14,
    "start_time": "2022-03-29T21:17:54.022Z"
   },
   {
    "duration": 143,
    "start_time": "2022-03-29T21:30:43.210Z"
   },
   {
    "duration": 9,
    "start_time": "2022-03-30T06:33:40.359Z"
   },
   {
    "duration": 48,
    "start_time": "2022-03-30T06:33:45.086Z"
   },
   {
    "duration": 1698,
    "start_time": "2022-03-30T06:33:53.972Z"
   },
   {
    "duration": 383,
    "start_time": "2022-03-30T06:33:55.672Z"
   },
   {
    "duration": 19,
    "start_time": "2022-03-30T06:33:56.057Z"
   },
   {
    "duration": 1197,
    "start_time": "2022-03-30T06:33:56.079Z"
   },
   {
    "duration": 5,
    "start_time": "2022-03-30T06:33:58.214Z"
   },
   {
    "duration": 594,
    "start_time": "2022-03-30T06:33:58.752Z"
   },
   {
    "duration": 4,
    "start_time": "2022-03-30T06:34:03.068Z"
   },
   {
    "duration": 49,
    "start_time": "2022-03-30T06:34:04.906Z"
   },
   {
    "duration": 4,
    "start_time": "2022-03-30T06:34:58.950Z"
   },
   {
    "duration": 40,
    "start_time": "2022-03-30T06:35:01.351Z"
   },
   {
    "duration": 3,
    "start_time": "2022-03-30T06:36:10.939Z"
   },
   {
    "duration": 78,
    "start_time": "2022-03-30T06:36:15.135Z"
   },
   {
    "duration": 3,
    "start_time": "2022-03-30T06:36:18.814Z"
   },
   {
    "duration": 9259,
    "start_time": "2022-03-30T06:36:19.379Z"
   },
   {
    "duration": 25,
    "start_time": "2022-03-30T06:46:24.854Z"
   },
   {
    "duration": 3,
    "start_time": "2022-03-30T06:46:28.995Z"
   },
   {
    "duration": 24,
    "start_time": "2022-03-30T06:46:31.626Z"
   },
   {
    "duration": 24,
    "start_time": "2022-03-30T06:46:45.885Z"
   },
   {
    "duration": 3804,
    "start_time": "2022-03-30T06:47:23.743Z"
   },
   {
    "duration": 4,
    "start_time": "2022-03-30T06:54:46.496Z"
   },
   {
    "duration": 8787,
    "start_time": "2022-03-30T06:54:54.363Z"
   },
   {
    "duration": 4,
    "start_time": "2022-03-30T06:59:21.800Z"
   },
   {
    "duration": 3,
    "start_time": "2022-03-30T06:59:33.683Z"
   },
   {
    "duration": 6602,
    "start_time": "2022-03-30T06:59:38.560Z"
   },
   {
    "duration": 39,
    "start_time": "2022-03-30T07:03:53.175Z"
   },
   {
    "duration": 7982,
    "start_time": "2022-03-30T07:06:40.280Z"
   },
   {
    "duration": 6296,
    "start_time": "2022-03-30T07:08:18.214Z"
   },
   {
    "duration": 4,
    "start_time": "2022-03-30T07:08:38.343Z"
   },
   {
    "duration": 3873,
    "start_time": "2022-03-30T07:08:41.544Z"
   }
  ],
  "kernelspec": {
   "display_name": "Python 3 (ipykernel)",
   "language": "python",
   "name": "python3"
  },
  "language_info": {
   "codemirror_mode": {
    "name": "ipython",
    "version": 3
   },
   "file_extension": ".py",
   "mimetype": "text/x-python",
   "name": "python",
   "nbconvert_exporter": "python",
   "pygments_lexer": "ipython3",
   "version": "3.10.0"
  },
  "toc": {
   "base_numbering": 1,
   "nav_menu": {},
   "number_sections": true,
   "sideBar": true,
   "skip_h1_title": true,
   "title_cell": "Table of Contents",
   "title_sidebar": "Contents",
   "toc_cell": false,
   "toc_position": {},
   "toc_section_display": true,
   "toc_window_display": false
  }
 },
 "nbformat": 4,
 "nbformat_minor": 2
}
